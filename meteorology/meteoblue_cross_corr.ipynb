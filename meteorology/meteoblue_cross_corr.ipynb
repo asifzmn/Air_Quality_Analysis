{
 "cells": [
  {
   "cell_type": "code",
   "execution_count": 22,
   "metadata": {
    "collapsed": true,
    "ExecuteTime": {
     "start_time": "2024-11-23T22:00:16.642749Z",
     "end_time": "2024-11-23T22:00:16.792491Z"
    }
   },
   "outputs": [
    {
     "data": {
      "text/plain": "factor               Cloud Cover High [high cld lay]  \\\ntime                                                   \n2019-01-01 00:00:00                              0.0   \n2019-01-01 01:00:00                              0.0   \n2019-01-01 02:00:00                              0.0   \n2019-01-01 03:00:00                              0.0   \n2019-01-01 04:00:00                              0.0   \n...                                              ...   \n2019-12-31 19:00:00                              0.0   \n2019-12-31 20:00:00                              0.0   \n2019-12-31 21:00:00                              0.0   \n2019-12-31 22:00:00                              0.0   \n2019-12-31 23:00:00                              2.0   \n\nfactor               Cloud Cover Low [low cld lay]  \\\ntime                                                 \n2019-01-01 00:00:00                            0.0   \n2019-01-01 01:00:00                            0.0   \n2019-01-01 02:00:00                            0.0   \n2019-01-01 03:00:00                            0.0   \n2019-01-01 04:00:00                            0.0   \n...                                            ...   \n2019-12-31 19:00:00                            0.0   \n2019-12-31 20:00:00                            0.0   \n2019-12-31 21:00:00                            0.0   \n2019-12-31 22:00:00                            0.0   \n2019-12-31 23:00:00                            0.0   \n\nfactor               Cloud Cover Medium [mid cld lay]  Cloud Cover Total  \\\ntime                                                                       \n2019-01-01 00:00:00                               0.0                0.0   \n2019-01-01 01:00:00                               0.0                0.0   \n2019-01-01 02:00:00                               0.0                0.0   \n2019-01-01 03:00:00                               0.0                0.0   \n2019-01-01 04:00:00                               0.0                0.0   \n...                                               ...                ...   \n2019-12-31 19:00:00                               1.0                1.0   \n2019-12-31 20:00:00                               0.0                0.0   \n2019-12-31 21:00:00                               0.0                0.0   \n2019-12-31 22:00:00                               0.0                0.0   \n2019-12-31 23:00:00                               0.0                0.6   \n\nfactor               Evapotranspiration  \\\ntime                                      \n2019-01-01 00:00:00                 0.0   \n2019-01-01 01:00:00                 0.0   \n2019-01-01 02:00:00                 0.0   \n2019-01-01 03:00:00                 0.0   \n2019-01-01 04:00:00                 0.0   \n...                                 ...   \n2019-12-31 19:00:00                 0.0   \n2019-12-31 20:00:00                 0.0   \n2019-12-31 21:00:00                 0.0   \n2019-12-31 22:00:00                 0.0   \n2019-12-31 23:00:00                 0.0   \n\nfactor               Growing Degree Days [2 m elevation corrected]  \\\ntime                                                                 \n2019-01-01 00:00:00                                       0.165731   \n2019-01-01 01:00:00                                       0.159064   \n2019-01-01 02:00:00                                       0.151564   \n2019-01-01 03:00:00                                       0.144064   \n2019-01-01 04:00:00                                       0.096981   \n...                                                            ...   \n2019-12-31 19:00:00                                       0.414481   \n2019-12-31 20:00:00                                       0.296981   \n2019-12-31 21:00:00                                       0.277398   \n2019-12-31 22:00:00                                       0.280314   \n2019-12-31 23:00:00                                       0.252814   \n\nfactor               Longwave Radiation  Mean Sea Level Pressure [MSL]  \\\ntime                                                                     \n2019-01-01 00:00:00               313.0                         1018.6   \n2019-01-01 01:00:00               312.0                         1018.5   \n2019-01-01 02:00:00               310.0                         1018.3   \n2019-01-01 03:00:00               309.0                         1018.2   \n2019-01-01 04:00:00               308.0                         1018.3   \n...                                 ...                            ...   \n2019-12-31 19:00:00               348.0                         1016.8   \n2019-12-31 20:00:00               344.0                         1017.4   \n2019-12-31 21:00:00               344.0                         1017.8   \n2019-12-31 22:00:00               341.0                         1018.2   \n2019-12-31 23:00:00               346.0                         1018.1   \n\nfactor               Precipitation Runoff  Precipitation Total  ...  \\\ntime                                                            ...   \n2019-01-01 00:00:00                  0.00                  0.0  ...   \n2019-01-01 01:00:00                  0.00                  0.0  ...   \n2019-01-01 02:00:00                  0.00                  0.0  ...   \n2019-01-01 03:00:00                  0.00                  0.0  ...   \n2019-01-01 04:00:00                  0.00                  0.0  ...   \n...                                   ...                  ...  ...   \n2019-12-31 19:00:00                  0.04                  0.0  ...   \n2019-12-31 20:00:00                  0.04                  0.0  ...   \n2019-12-31 21:00:00                  0.04                  0.0  ...   \n2019-12-31 22:00:00                  0.04                  0.0  ...   \n2019-12-31 23:00:00                  0.04                  0.0  ...   \n\nfactor               Wind Direction [900 mb]  Wind Gust  Wind Speed [10 m]  \\\ntime                                                                         \n2019-01-01 00:00:00               114.443950  11.519999           6.915374   \n2019-01-01 01:00:00               122.471190  11.159999           6.409617   \n2019-01-01 02:00:00               128.157230  10.799999           6.369050   \n2019-01-01 03:00:00               135.000000   9.720000           6.618519   \n2019-01-01 04:00:00               141.709840   9.720000           6.489992   \n...                                      ...        ...                ...   \n2019-12-31 19:00:00               140.013100   9.360000           8.913181   \n2019-12-31 20:00:00               133.152390   9.720000           9.220499   \n2019-12-31 21:00:00               127.568590  10.440001           8.217153   \n2019-12-31 22:00:00               124.562515  10.799999           7.862518   \n2019-12-31 23:00:00               122.319610  10.799999           7.568566   \n\nfactor               Wind Speed [100 m]  Wind Speed [250 mb]  \\\ntime                                                           \n2019-01-01 00:00:00           18.391737            149.81233   \n2019-01-01 01:00:00           17.713316            149.12518   \n2019-01-01 02:00:00           15.990646            149.90012   \n2019-01-01 03:00:00           14.658676            151.44666   \n2019-01-01 04:00:00           14.058450            152.92671   \n...                                 ...                  ...   \n2019-12-31 19:00:00            9.585739            150.01291   \n2019-12-31 20:00:00            9.686609            149.71889   \n2019-12-31 21:00:00            8.435069            150.13078   \n2019-12-31 22:00:00            8.089994            149.13953   \n2019-12-31 23:00:00            7.289444            146.58676   \n\nfactor               Wind Speed [500 mb]  Wind Speed [700 mb]  \\\ntime                                                            \n2019-01-01 00:00:00            87.651680            31.651350   \n2019-01-01 01:00:00            87.177990            32.427986   \n2019-01-01 02:00:00            86.353490            33.487740   \n2019-01-01 03:00:00            86.654620            35.320385   \n2019-01-01 04:00:00            91.028755            38.047756   \n...                                  ...                  ...   \n2019-12-31 19:00:00            80.435630            28.694056   \n2019-12-31 20:00:00            82.092630            31.487143   \n2019-12-31 21:00:00            83.675804            33.563120   \n2019-12-31 22:00:00            82.584500            35.311210   \n2019-12-31 23:00:00            80.502470            37.064266   \n\nfactor               Wind Speed [800 mb]  Wind Speed [850 mb]  \\\ntime                                                            \n2019-01-01 00:00:00            15.119999            12.429127   \n2019-01-01 01:00:00            16.039202            12.496719   \n2019-01-01 02:00:00            15.937878            12.074766   \n2019-01-01 03:00:00            15.941944            11.792404   \n2019-01-01 04:00:00            14.658676            13.979871   \n...                                  ...                  ...   \n2019-12-31 19:00:00            27.021591            17.193533   \n2019-12-31 20:00:00            24.881702            18.089775   \n2019-12-31 21:00:00            24.442911            20.188908   \n2019-12-31 22:00:00            25.630886            22.668570   \n2019-12-31 23:00:00            26.525429            24.195107   \n\nfactor               Wind Speed [900 mb]  \ntime                                      \n2019-01-01 00:00:00             4.349896  \n2019-01-01 01:00:00             4.693826  \n2019-01-01 02:00:00             6.409617  \n2019-01-01 03:00:00             7.636753  \n2019-01-01 04:00:00             8.714677  \n...                                  ...  \n2019-12-31 19:00:00            14.565548  \n2019-12-31 20:00:00            15.790833  \n2019-12-31 21:00:00            17.713316  \n2019-12-31 22:00:00            19.671950  \n2019-12-31 23:00:00            20.873790  \n\n[8760 rows x 37 columns]",
      "text/html": "<div>\n<style scoped>\n    .dataframe tbody tr th:only-of-type {\n        vertical-align: middle;\n    }\n\n    .dataframe tbody tr th {\n        vertical-align: top;\n    }\n\n    .dataframe thead th {\n        text-align: right;\n    }\n</style>\n<table border=\"1\" class=\"dataframe\">\n  <thead>\n    <tr style=\"text-align: right;\">\n      <th>factor</th>\n      <th>Cloud Cover High [high cld lay]</th>\n      <th>Cloud Cover Low [low cld lay]</th>\n      <th>Cloud Cover Medium [mid cld lay]</th>\n      <th>Cloud Cover Total</th>\n      <th>Evapotranspiration</th>\n      <th>Growing Degree Days [2 m elevation corrected]</th>\n      <th>Longwave Radiation</th>\n      <th>Mean Sea Level Pressure [MSL]</th>\n      <th>Precipitation Runoff</th>\n      <th>Precipitation Total</th>\n      <th>...</th>\n      <th>Wind Direction [900 mb]</th>\n      <th>Wind Gust</th>\n      <th>Wind Speed [10 m]</th>\n      <th>Wind Speed [100 m]</th>\n      <th>Wind Speed [250 mb]</th>\n      <th>Wind Speed [500 mb]</th>\n      <th>Wind Speed [700 mb]</th>\n      <th>Wind Speed [800 mb]</th>\n      <th>Wind Speed [850 mb]</th>\n      <th>Wind Speed [900 mb]</th>\n    </tr>\n    <tr>\n      <th>time</th>\n      <th></th>\n      <th></th>\n      <th></th>\n      <th></th>\n      <th></th>\n      <th></th>\n      <th></th>\n      <th></th>\n      <th></th>\n      <th></th>\n      <th></th>\n      <th></th>\n      <th></th>\n      <th></th>\n      <th></th>\n      <th></th>\n      <th></th>\n      <th></th>\n      <th></th>\n      <th></th>\n      <th></th>\n    </tr>\n  </thead>\n  <tbody>\n    <tr>\n      <th>2019-01-01 00:00:00</th>\n      <td>0.0</td>\n      <td>0.0</td>\n      <td>0.0</td>\n      <td>0.0</td>\n      <td>0.0</td>\n      <td>0.165731</td>\n      <td>313.0</td>\n      <td>1018.6</td>\n      <td>0.00</td>\n      <td>0.0</td>\n      <td>...</td>\n      <td>114.443950</td>\n      <td>11.519999</td>\n      <td>6.915374</td>\n      <td>18.391737</td>\n      <td>149.81233</td>\n      <td>87.651680</td>\n      <td>31.651350</td>\n      <td>15.119999</td>\n      <td>12.429127</td>\n      <td>4.349896</td>\n    </tr>\n    <tr>\n      <th>2019-01-01 01:00:00</th>\n      <td>0.0</td>\n      <td>0.0</td>\n      <td>0.0</td>\n      <td>0.0</td>\n      <td>0.0</td>\n      <td>0.159064</td>\n      <td>312.0</td>\n      <td>1018.5</td>\n      <td>0.00</td>\n      <td>0.0</td>\n      <td>...</td>\n      <td>122.471190</td>\n      <td>11.159999</td>\n      <td>6.409617</td>\n      <td>17.713316</td>\n      <td>149.12518</td>\n      <td>87.177990</td>\n      <td>32.427986</td>\n      <td>16.039202</td>\n      <td>12.496719</td>\n      <td>4.693826</td>\n    </tr>\n    <tr>\n      <th>2019-01-01 02:00:00</th>\n      <td>0.0</td>\n      <td>0.0</td>\n      <td>0.0</td>\n      <td>0.0</td>\n      <td>0.0</td>\n      <td>0.151564</td>\n      <td>310.0</td>\n      <td>1018.3</td>\n      <td>0.00</td>\n      <td>0.0</td>\n      <td>...</td>\n      <td>128.157230</td>\n      <td>10.799999</td>\n      <td>6.369050</td>\n      <td>15.990646</td>\n      <td>149.90012</td>\n      <td>86.353490</td>\n      <td>33.487740</td>\n      <td>15.937878</td>\n      <td>12.074766</td>\n      <td>6.409617</td>\n    </tr>\n    <tr>\n      <th>2019-01-01 03:00:00</th>\n      <td>0.0</td>\n      <td>0.0</td>\n      <td>0.0</td>\n      <td>0.0</td>\n      <td>0.0</td>\n      <td>0.144064</td>\n      <td>309.0</td>\n      <td>1018.2</td>\n      <td>0.00</td>\n      <td>0.0</td>\n      <td>...</td>\n      <td>135.000000</td>\n      <td>9.720000</td>\n      <td>6.618519</td>\n      <td>14.658676</td>\n      <td>151.44666</td>\n      <td>86.654620</td>\n      <td>35.320385</td>\n      <td>15.941944</td>\n      <td>11.792404</td>\n      <td>7.636753</td>\n    </tr>\n    <tr>\n      <th>2019-01-01 04:00:00</th>\n      <td>0.0</td>\n      <td>0.0</td>\n      <td>0.0</td>\n      <td>0.0</td>\n      <td>0.0</td>\n      <td>0.096981</td>\n      <td>308.0</td>\n      <td>1018.3</td>\n      <td>0.00</td>\n      <td>0.0</td>\n      <td>...</td>\n      <td>141.709840</td>\n      <td>9.720000</td>\n      <td>6.489992</td>\n      <td>14.058450</td>\n      <td>152.92671</td>\n      <td>91.028755</td>\n      <td>38.047756</td>\n      <td>14.658676</td>\n      <td>13.979871</td>\n      <td>8.714677</td>\n    </tr>\n    <tr>\n      <th>...</th>\n      <td>...</td>\n      <td>...</td>\n      <td>...</td>\n      <td>...</td>\n      <td>...</td>\n      <td>...</td>\n      <td>...</td>\n      <td>...</td>\n      <td>...</td>\n      <td>...</td>\n      <td>...</td>\n      <td>...</td>\n      <td>...</td>\n      <td>...</td>\n      <td>...</td>\n      <td>...</td>\n      <td>...</td>\n      <td>...</td>\n      <td>...</td>\n      <td>...</td>\n      <td>...</td>\n    </tr>\n    <tr>\n      <th>2019-12-31 19:00:00</th>\n      <td>0.0</td>\n      <td>0.0</td>\n      <td>1.0</td>\n      <td>1.0</td>\n      <td>0.0</td>\n      <td>0.414481</td>\n      <td>348.0</td>\n      <td>1016.8</td>\n      <td>0.04</td>\n      <td>0.0</td>\n      <td>...</td>\n      <td>140.013100</td>\n      <td>9.360000</td>\n      <td>8.913181</td>\n      <td>9.585739</td>\n      <td>150.01291</td>\n      <td>80.435630</td>\n      <td>28.694056</td>\n      <td>27.021591</td>\n      <td>17.193533</td>\n      <td>14.565548</td>\n    </tr>\n    <tr>\n      <th>2019-12-31 20:00:00</th>\n      <td>0.0</td>\n      <td>0.0</td>\n      <td>0.0</td>\n      <td>0.0</td>\n      <td>0.0</td>\n      <td>0.296981</td>\n      <td>344.0</td>\n      <td>1017.4</td>\n      <td>0.04</td>\n      <td>0.0</td>\n      <td>...</td>\n      <td>133.152390</td>\n      <td>9.720000</td>\n      <td>9.220499</td>\n      <td>9.686609</td>\n      <td>149.71889</td>\n      <td>82.092630</td>\n      <td>31.487143</td>\n      <td>24.881702</td>\n      <td>18.089775</td>\n      <td>15.790833</td>\n    </tr>\n    <tr>\n      <th>2019-12-31 21:00:00</th>\n      <td>0.0</td>\n      <td>0.0</td>\n      <td>0.0</td>\n      <td>0.0</td>\n      <td>0.0</td>\n      <td>0.277398</td>\n      <td>344.0</td>\n      <td>1017.8</td>\n      <td>0.04</td>\n      <td>0.0</td>\n      <td>...</td>\n      <td>127.568590</td>\n      <td>10.440001</td>\n      <td>8.217153</td>\n      <td>8.435069</td>\n      <td>150.13078</td>\n      <td>83.675804</td>\n      <td>33.563120</td>\n      <td>24.442911</td>\n      <td>20.188908</td>\n      <td>17.713316</td>\n    </tr>\n    <tr>\n      <th>2019-12-31 22:00:00</th>\n      <td>0.0</td>\n      <td>0.0</td>\n      <td>0.0</td>\n      <td>0.0</td>\n      <td>0.0</td>\n      <td>0.280314</td>\n      <td>341.0</td>\n      <td>1018.2</td>\n      <td>0.04</td>\n      <td>0.0</td>\n      <td>...</td>\n      <td>124.562515</td>\n      <td>10.799999</td>\n      <td>7.862518</td>\n      <td>8.089994</td>\n      <td>149.13953</td>\n      <td>82.584500</td>\n      <td>35.311210</td>\n      <td>25.630886</td>\n      <td>22.668570</td>\n      <td>19.671950</td>\n    </tr>\n    <tr>\n      <th>2019-12-31 23:00:00</th>\n      <td>2.0</td>\n      <td>0.0</td>\n      <td>0.0</td>\n      <td>0.6</td>\n      <td>0.0</td>\n      <td>0.252814</td>\n      <td>346.0</td>\n      <td>1018.1</td>\n      <td>0.04</td>\n      <td>0.0</td>\n      <td>...</td>\n      <td>122.319610</td>\n      <td>10.799999</td>\n      <td>7.568566</td>\n      <td>7.289444</td>\n      <td>146.58676</td>\n      <td>80.502470</td>\n      <td>37.064266</td>\n      <td>26.525429</td>\n      <td>24.195107</td>\n      <td>20.873790</td>\n    </tr>\n  </tbody>\n</table>\n<p>8760 rows × 37 columns</p>\n</div>"
     },
     "execution_count": 22,
     "metadata": {},
     "output_type": "execute_result"
    }
   ],
   "source": [
    "import pandas as pd\n",
    "\n",
    "from meteorology.meteoblue_data_preparation import read_meteo_data_file_bd_and_neighbours\n",
    "from meteorology import get_district_data\n",
    "\n",
    "meteo_data = read_meteo_data_file_bd_and_neighbours()\n",
    "\n",
    "meteo_data_dhaka = get_district_data(meteo_data, 'Azimpur_Dhaka')\n",
    "meteo_data_dhaka"
   ]
  },
  {
   "cell_type": "code",
   "execution_count": 18,
   "outputs": [
    {
     "data": {
      "text/plain": "<xarray.DataArray 'meteo' (district: 55, time: 8760, factor: 37)>\n[17826600 values with dtype=float64]\nCoordinates:\n  * time      (time) datetime64[ns] 2019-01-01 ... 2019-12-31T23:00:00\n  * district  (district) object 'Azimpur_Dhaka' ... 'Tungipara_Dhaka'\n  * factor    (factor) object 'Temperature [2 m elevation corrected]' ... 'Evapotranspiration'",
      "text/html": "<div><svg style=\"position: absolute; width: 0; height: 0; overflow: hidden\">\n<defs>\n<symbol id=\"icon-database\" viewBox=\"0 0 32 32\">\n<title>Show/Hide data repr</title>\n<path d=\"M16 0c-8.837 0-16 2.239-16 5v4c0 2.761 7.163 5 16 5s16-2.239 16-5v-4c0-2.761-7.163-5-16-5z\"></path>\n<path d=\"M16 17c-8.837 0-16-2.239-16-5v6c0 2.761 7.163 5 16 5s16-2.239 16-5v-6c0 2.761-7.163 5-16 5z\"></path>\n<path d=\"M16 26c-8.837 0-16-2.239-16-5v6c0 2.761 7.163 5 16 5s16-2.239 16-5v-6c0 2.761-7.163 5-16 5z\"></path>\n</symbol>\n<symbol id=\"icon-file-text2\" viewBox=\"0 0 32 32\">\n<title>Show/Hide attributes</title>\n<path d=\"M28.681 7.159c-0.694-0.947-1.662-2.053-2.724-3.116s-2.169-2.030-3.116-2.724c-1.612-1.182-2.393-1.319-2.841-1.319h-15.5c-1.378 0-2.5 1.121-2.5 2.5v27c0 1.378 1.122 2.5 2.5 2.5h23c1.378 0 2.5-1.122 2.5-2.5v-19.5c0-0.448-0.137-1.23-1.319-2.841zM24.543 5.457c0.959 0.959 1.712 1.825 2.268 2.543h-4.811v-4.811c0.718 0.556 1.584 1.309 2.543 2.268zM28 29.5c0 0.271-0.229 0.5-0.5 0.5h-23c-0.271 0-0.5-0.229-0.5-0.5v-27c0-0.271 0.229-0.5 0.5-0.5 0 0 15.499-0 15.5 0v7c0 0.552 0.448 1 1 1h7v19.5z\"></path>\n<path d=\"M23 26h-14c-0.552 0-1-0.448-1-1s0.448-1 1-1h14c0.552 0 1 0.448 1 1s-0.448 1-1 1z\"></path>\n<path d=\"M23 22h-14c-0.552 0-1-0.448-1-1s0.448-1 1-1h14c0.552 0 1 0.448 1 1s-0.448 1-1 1z\"></path>\n<path d=\"M23 18h-14c-0.552 0-1-0.448-1-1s0.448-1 1-1h14c0.552 0 1 0.448 1 1s-0.448 1-1 1z\"></path>\n</symbol>\n</defs>\n</svg>\n<style>/* CSS stylesheet for displaying xarray objects in jupyterlab.\n *\n */\n\n:root {\n  --xr-font-color0: var(--jp-content-font-color0, rgba(0, 0, 0, 1));\n  --xr-font-color2: var(--jp-content-font-color2, rgba(0, 0, 0, 0.54));\n  --xr-font-color3: var(--jp-content-font-color3, rgba(0, 0, 0, 0.38));\n  --xr-border-color: var(--jp-border-color2, #e0e0e0);\n  --xr-disabled-color: var(--jp-layout-color3, #bdbdbd);\n  --xr-background-color: var(--jp-layout-color0, white);\n  --xr-background-color-row-even: var(--jp-layout-color1, white);\n  --xr-background-color-row-odd: var(--jp-layout-color2, #eeeeee);\n}\n\n.xr-wrap {\n  min-width: 300px;\n  max-width: 700px;\n}\n\n.xr-header {\n  padding-top: 6px;\n  padding-bottom: 6px;\n  margin-bottom: 4px;\n  border-bottom: solid 1px var(--xr-border-color);\n}\n\n.xr-header > div,\n.xr-header > ul {\n  display: inline;\n  margin-top: 0;\n  margin-bottom: 0;\n}\n\n.xr-obj-type,\n.xr-array-name {\n  margin-left: 2px;\n  margin-right: 10px;\n}\n\n.xr-obj-type {\n  color: var(--xr-font-color2);\n}\n\n.xr-sections {\n  padding-left: 0 !important;\n  display: grid;\n  grid-template-columns: 150px auto auto 1fr 20px 20px;\n}\n\n.xr-section-item {\n  display: contents;\n}\n\n.xr-section-item input {\n  display: none;\n}\n\n.xr-section-item input + label {\n  color: var(--xr-disabled-color);\n}\n\n.xr-section-item input:enabled + label {\n  cursor: pointer;\n  color: var(--xr-font-color2);\n}\n\n.xr-section-item input:enabled + label:hover {\n  color: var(--xr-font-color0);\n}\n\n.xr-section-summary {\n  grid-column: 1;\n  color: var(--xr-font-color2);\n  font-weight: 500;\n}\n\n.xr-section-summary > span {\n  display: inline-block;\n  padding-left: 0.5em;\n}\n\n.xr-section-summary-in:disabled + label {\n  color: var(--xr-font-color2);\n}\n\n.xr-section-summary-in + label:before {\n  display: inline-block;\n  content: '►';\n  font-size: 11px;\n  width: 15px;\n  text-align: center;\n}\n\n.xr-section-summary-in:disabled + label:before {\n  color: var(--xr-disabled-color);\n}\n\n.xr-section-summary-in:checked + label:before {\n  content: '▼';\n}\n\n.xr-section-summary-in:checked + label > span {\n  display: none;\n}\n\n.xr-section-summary,\n.xr-section-inline-details {\n  padding-top: 4px;\n  padding-bottom: 4px;\n}\n\n.xr-section-inline-details {\n  grid-column: 2 / -1;\n}\n\n.xr-section-details {\n  display: none;\n  grid-column: 1 / -1;\n  margin-bottom: 5px;\n}\n\n.xr-section-summary-in:checked ~ .xr-section-details {\n  display: contents;\n}\n\n.xr-array-wrap {\n  grid-column: 1 / -1;\n  display: grid;\n  grid-template-columns: 20px auto;\n}\n\n.xr-array-wrap > label {\n  grid-column: 1;\n  vertical-align: top;\n}\n\n.xr-preview {\n  color: var(--xr-font-color3);\n}\n\n.xr-array-preview,\n.xr-array-data {\n  padding: 0 5px !important;\n  grid-column: 2;\n}\n\n.xr-array-data,\n.xr-array-in:checked ~ .xr-array-preview {\n  display: none;\n}\n\n.xr-array-in:checked ~ .xr-array-data,\n.xr-array-preview {\n  display: inline-block;\n}\n\n.xr-dim-list {\n  display: inline-block !important;\n  list-style: none;\n  padding: 0 !important;\n  margin: 0;\n}\n\n.xr-dim-list li {\n  display: inline-block;\n  padding: 0;\n  margin: 0;\n}\n\n.xr-dim-list:before {\n  content: '(';\n}\n\n.xr-dim-list:after {\n  content: ')';\n}\n\n.xr-dim-list li:not(:last-child):after {\n  content: ',';\n  padding-right: 5px;\n}\n\n.xr-has-index {\n  font-weight: bold;\n}\n\n.xr-var-list,\n.xr-var-item {\n  display: contents;\n}\n\n.xr-var-item > div,\n.xr-var-item label,\n.xr-var-item > .xr-var-name span {\n  background-color: var(--xr-background-color-row-even);\n  margin-bottom: 0;\n}\n\n.xr-var-item > .xr-var-name:hover span {\n  padding-right: 5px;\n}\n\n.xr-var-list > li:nth-child(odd) > div,\n.xr-var-list > li:nth-child(odd) > label,\n.xr-var-list > li:nth-child(odd) > .xr-var-name span {\n  background-color: var(--xr-background-color-row-odd);\n}\n\n.xr-var-name {\n  grid-column: 1;\n}\n\n.xr-var-dims {\n  grid-column: 2;\n}\n\n.xr-var-dtype {\n  grid-column: 3;\n  text-align: right;\n  color: var(--xr-font-color2);\n}\n\n.xr-var-preview {\n  grid-column: 4;\n}\n\n.xr-var-name,\n.xr-var-dims,\n.xr-var-dtype,\n.xr-preview,\n.xr-attrs dt {\n  white-space: nowrap;\n  overflow: hidden;\n  text-overflow: ellipsis;\n  padding-right: 10px;\n}\n\n.xr-var-name:hover,\n.xr-var-dims:hover,\n.xr-var-dtype:hover,\n.xr-attrs dt:hover {\n  overflow: visible;\n  width: auto;\n  z-index: 1;\n}\n\n.xr-var-attrs,\n.xr-var-data {\n  display: none;\n  background-color: var(--xr-background-color) !important;\n  padding-bottom: 5px !important;\n}\n\n.xr-var-attrs-in:checked ~ .xr-var-attrs,\n.xr-var-data-in:checked ~ .xr-var-data {\n  display: block;\n}\n\n.xr-var-data > table {\n  float: right;\n}\n\n.xr-var-name span,\n.xr-var-data,\n.xr-attrs {\n  padding-left: 25px !important;\n}\n\n.xr-attrs,\n.xr-var-attrs,\n.xr-var-data {\n  grid-column: 1 / -1;\n}\n\ndl.xr-attrs {\n  padding: 0;\n  margin: 0;\n  display: grid;\n  grid-template-columns: 125px auto;\n}\n\n.xr-attrs dt, dd {\n  padding: 0;\n  margin: 0;\n  float: left;\n  padding-right: 10px;\n  width: auto;\n}\n\n.xr-attrs dt {\n  font-weight: normal;\n  grid-column: 1;\n}\n\n.xr-attrs dt:hover span {\n  display: inline-block;\n  background: var(--xr-background-color);\n  padding-right: 10px;\n}\n\n.xr-attrs dd {\n  grid-column: 2;\n  white-space: pre-wrap;\n  word-break: break-all;\n}\n\n.xr-icon-database,\n.xr-icon-file-text2 {\n  display: inline-block;\n  vertical-align: middle;\n  width: 1em;\n  height: 1.5em !important;\n  stroke-width: 0;\n  stroke: currentColor;\n  fill: currentColor;\n}\n</style><div class='xr-wrap'><div class='xr-header'><div class='xr-obj-type'>xarray.DataArray</div><div class='xr-array-name'>'meteo'</div><ul class='xr-dim-list'><li><span class='xr-has-index'>district</span>: 55</li><li><span class='xr-has-index'>time</span>: 8760</li><li><span class='xr-has-index'>factor</span>: 37</li></ul></div><ul class='xr-sections'><li class='xr-section-item'><div class='xr-array-wrap'><input id='section-84b96479-f0d0-468d-ab3c-ead263b2dd02' class='xr-array-in' type='checkbox' ><label for='section-84b96479-f0d0-468d-ab3c-ead263b2dd02' title='Show/hide data repr'><svg class='icon xr-icon-database'><use xlink:href='#icon-database'></use></svg></label><div class='xr-array-preview xr-preview'><span>...</span></div><pre class='xr-array-data'>[17826600 values with dtype=float64]</pre></div></li><li class='xr-section-item'><input id='section-d7d80fa4-2bde-4f6e-b8b3-9264a3d0a43c' class='xr-section-summary-in' type='checkbox'  checked><label for='section-d7d80fa4-2bde-4f6e-b8b3-9264a3d0a43c' class='xr-section-summary' >Coordinates: <span>(3)</span></label><div class='xr-section-inline-details'></div><div class='xr-section-details'><ul class='xr-var-list'><li class='xr-var-item'><div class='xr-var-name'><span class='xr-has-index'>time</span></div><div class='xr-var-dims'>(time)</div><div class='xr-var-dtype'>datetime64[ns]</div><div class='xr-var-preview xr-preview'>2019-01-01 ... 2019-12-31T23:00:00</div><input id='attrs-dbb60835-c10e-4431-b4e8-9da7dc8c1fcb' class='xr-var-attrs-in' type='checkbox' disabled><label for='attrs-dbb60835-c10e-4431-b4e8-9da7dc8c1fcb' title='Show/Hide attributes'><svg class='icon xr-icon-file-text2'><use xlink:href='#icon-file-text2'></use></svg></label><input id='data-9b810885-600d-467e-9d5a-1c923e5bee12' class='xr-var-data-in' type='checkbox'><label for='data-9b810885-600d-467e-9d5a-1c923e5bee12' title='Show/Hide data repr'><svg class='icon xr-icon-database'><use xlink:href='#icon-database'></use></svg></label><div class='xr-var-attrs'><dl class='xr-attrs'></dl></div><pre class='xr-var-data'>array([&#x27;2019-01-01T00:00:00.000000000&#x27;, &#x27;2019-01-01T01:00:00.000000000&#x27;,\n       &#x27;2019-01-01T02:00:00.000000000&#x27;, ..., &#x27;2019-12-31T21:00:00.000000000&#x27;,\n       &#x27;2019-12-31T22:00:00.000000000&#x27;, &#x27;2019-12-31T23:00:00.000000000&#x27;],\n      dtype=&#x27;datetime64[ns]&#x27;)</pre></li><li class='xr-var-item'><div class='xr-var-name'><span class='xr-has-index'>district</span></div><div class='xr-var-dims'>(district)</div><div class='xr-var-dtype'>object</div><div class='xr-var-preview xr-preview'>&#x27;Azimpur_Dhaka&#x27; ... &#x27;Tungipara_Dhaka&#x27;</div><input id='attrs-e6d4386d-140c-4e26-9aed-e3156de16770' class='xr-var-attrs-in' type='checkbox' disabled><label for='attrs-e6d4386d-140c-4e26-9aed-e3156de16770' title='Show/Hide attributes'><svg class='icon xr-icon-file-text2'><use xlink:href='#icon-file-text2'></use></svg></label><input id='data-2e74bb4c-b9f8-4b15-b48e-18951be3acf2' class='xr-var-data-in' type='checkbox'><label for='data-2e74bb4c-b9f8-4b15-b48e-18951be3acf2' title='Show/Hide data repr'><svg class='icon xr-icon-database'><use xlink:href='#icon-database'></use></svg></label><div class='xr-var-attrs'><dl class='xr-attrs'></dl></div><pre class='xr-var-data'>array([&#x27;Azimpur_Dhaka&#x27;, &#x27;Barisal_Barisal&#x27;, &#x27;Bhairab Bazar_Dhaka&#x27;,\n       &#x27;Bhola_Barisal&#x27;, &#x27;Bogra_Rajshahi&#x27;, &#x27;Chittagong_Chittagong&#x27;,\n       &#x27;Comilla_Chittagong&#x27;, &#x27;Dhaka_Dhaka&#x27;, &#x27;Dinajpur_Rangpur&#x27;,\n       &#x27;Faridpur_Dhaka&#x27;, &#x27;Feni_Chittagong&#x27;, &#x27;Habiganj_Sylhet&#x27;,\n       &#x27;Ishurdi_Rajshahi&#x27;, &#x27;Jamalpur_Mymensingh&#x27;, &#x27;Jessore_Khulna&#x27;,\n       &#x27;Joypur Hat_Rajshahi&#x27;, &#x27;Khagrachhari_Chittagong&#x27;, &#x27;Khulna_Khulna&#x27;,\n       &#x27;Kishorganj_Dhaka&#x27;, &#x27;Kushtia_Khulna&#x27;, &#x27;Laksham_Chittagong&#x27;,\n       &#x27;Lakshmipur_Chittagong&#x27;, &#x27;Lalmanirhat_Rangpur&#x27;, &#x27;Madaripur_Dhaka&#x27;,\n       &#x27;Maulavi Bazar_Sylhet&#x27;, &#x27;Mymensingh_Mymensingh&#x27;, &#x27;Nagarpur_Dhaka&#x27;,\n       &#x27;Narail_Khulna&#x27;, &#x27;Narayanganj_Dhaka&#x27;, &#x27;Narsingdi_Dhaka&#x27;,\n       &#x27;Nawabganj_Rajshahi&#x27;, &#x27;Netrakona_Mymensingh&#x27;, &#x27;Pabna_Rajshahi&#x27;,\n       &#x27;Palang_Dhaka&#x27;, &#x27;Paltan_Dhaka&#x27;, &#x27;Par Naogaon_Rajshahi&#x27;,\n       &#x27;Patiya_Chittagong&#x27;, &#x27;Pirojpur_Barisal&#x27;, &#x27;Raipur_Chittagong&#x27;,\n       &#x27;Rajshahi_Rajshahi&#x27;, &#x27;Ramganj_Chittagong&#x27;, &#x27;Rangpur_Rangpur&#x27;,\n       &#x27;Saidpur_Rajshahi&#x27;, &#x27;Sandwip_Chittagong&#x27;, &#x27;Sarishabari_Mymensingh&#x27;,\n       &#x27;Satkania_Chittagong&#x27;, &#x27;Satkhira_Khulna&#x27;, &#x27;Shahzadpur_Rajshahi&#x27;,\n       &#x27;Sherpur_Mymensingh&#x27;, &#x27;Sirajganj_Rajshahi&#x27;, &#x27;Sylhet_Sylhet&#x27;,\n       &#x27;Tangail_Dhaka&#x27;, &#x27;Thakurgaon_Rangpur&#x27;, &#x27;Tungi_Dhaka&#x27;, &#x27;Tungipara_Dhaka&#x27;],\n      dtype=object)</pre></li><li class='xr-var-item'><div class='xr-var-name'><span class='xr-has-index'>factor</span></div><div class='xr-var-dims'>(factor)</div><div class='xr-var-dtype'>object</div><div class='xr-var-preview xr-preview'>&#x27;Temperature [2 m elevation corrected]&#x27; ... &#x27;Evapotranspiration&#x27;</div><input id='attrs-d7b25235-360e-491e-aab6-24c8c6c6b11b' class='xr-var-attrs-in' type='checkbox' disabled><label for='attrs-d7b25235-360e-491e-aab6-24c8c6c6b11b' title='Show/Hide attributes'><svg class='icon xr-icon-file-text2'><use xlink:href='#icon-file-text2'></use></svg></label><input id='data-cd68a772-5a55-48da-9d87-6bdef6b76e6d' class='xr-var-data-in' type='checkbox'><label for='data-cd68a772-5a55-48da-9d87-6bdef6b76e6d' title='Show/Hide data repr'><svg class='icon xr-icon-database'><use xlink:href='#icon-database'></use></svg></label><div class='xr-var-attrs'><dl class='xr-attrs'></dl></div><pre class='xr-var-data'>array([&#x27;Temperature [2 m elevation corrected]&#x27;,\n       &#x27;Growing Degree Days [2 m elevation corrected]&#x27;, &#x27;Temperature [900 mb]&#x27;,\n       &#x27;Temperature [850 mb]&#x27;, &#x27;Temperature [800 mb]&#x27;, &#x27;Temperature [700 mb]&#x27;,\n       &#x27;Temperature [500 mb]&#x27;, &#x27;Precipitation Total&#x27;, &#x27;Precipitation Runoff&#x27;,\n       &#x27;Relative Humidity [2 m]&#x27;, &#x27;Wind Gust&#x27;, &#x27;Wind Speed [10 m]&#x27;,\n       &#x27;Wind Direction [10 m]&#x27;, &#x27;Wind Speed [100 m]&#x27;, &#x27;Wind Direction [100 m]&#x27;,\n       &#x27;Wind Speed [900 mb]&#x27;, &#x27;Wind Direction [900 mb]&#x27;, &#x27;Wind Speed [850 mb]&#x27;,\n       &#x27;Wind Direction [850 mb]&#x27;, &#x27;Wind Speed [800 mb]&#x27;,\n       &#x27;Wind Direction [800 mb]&#x27;, &#x27;Wind Speed [700 mb]&#x27;,\n       &#x27;Wind Direction [700 mb]&#x27;, &#x27;Wind Speed [500 mb]&#x27;,\n       &#x27;Wind Direction [500 mb]&#x27;, &#x27;Wind Speed [250 mb]&#x27;,\n       &#x27;Wind Direction [250 mb]&#x27;, &#x27;Cloud Cover Total&#x27;,\n       &#x27;Cloud Cover High [high cld lay]&#x27;, &#x27;Cloud Cover Medium [mid cld lay]&#x27;,\n       &#x27;Cloud Cover Low [low cld lay]&#x27;, &#x27;Sunshine Duration&#x27;,\n       &#x27;Shortwave Radiation&#x27;, &#x27;Longwave Radiation&#x27;, &#x27;UV Radiation&#x27;,\n       &#x27;Mean Sea Level Pressure [MSL]&#x27;, &#x27;Evapotranspiration&#x27;], dtype=object)</pre></li></ul></div></li><li class='xr-section-item'><input id='section-ca3b4925-955e-4b45-b08c-fb2884f1f166' class='xr-section-summary-in' type='checkbox' disabled ><label for='section-ca3b4925-955e-4b45-b08c-fb2884f1f166' class='xr-section-summary'  title='Expand/collapse section'>Attributes: <span>(0)</span></label><div class='xr-section-inline-details'></div><div class='xr-section-details'><dl class='xr-attrs'></dl></div></li></ul></div></div>"
     },
     "execution_count": 18,
     "metadata": {},
     "output_type": "execute_result"
    }
   ],
   "source": [
    "meteo_data"
   ],
   "metadata": {
    "collapsed": false,
    "ExecuteTime": {
     "start_time": "2024-11-23T21:14:39.255879Z",
     "end_time": "2024-11-23T21:14:39.291925Z"
    }
   }
  },
  {
   "cell_type": "code",
   "execution_count": 71,
   "outputs": [],
   "source": [
    "from data_preparation import read_all_granularity_data\n",
    "\n",
    "metadata_all, series_all, metadata_region_all, region_series_all,\\\n",
    "metadata_country_all, country_series_all = read_all_granularity_data()"
   ],
   "metadata": {
    "collapsed": false,
    "ExecuteTime": {
     "start_time": "2024-11-24T01:54:42.443442Z",
     "end_time": "2024-11-24T01:54:43.707087Z"
    }
   }
  },
  {
   "cell_type": "code",
   "execution_count": 72,
   "outputs": [
    {
     "data": {
      "text/plain": "time\n2019-01-01 00:00:00    168.2\n2019-01-01 01:00:00    157.6\n2019-01-01 02:00:00    161.4\n2019-01-01 03:00:00    187.7\n2019-01-01 04:00:00    198.5\n                       ...  \n2019-12-31 19:00:00    245.2\n2019-12-31 20:00:00    296.6\n2019-12-31 21:00:00    285.1\n2019-12-31 22:00:00    225.3\n2019-12-31 23:00:00    210.9\nName: Azimpur_Dhaka, Length: 8760, dtype: float64"
     },
     "execution_count": 72,
     "metadata": {},
     "output_type": "execute_result"
    }
   ],
   "source": [
    "series_dhaka = series_all.Azimpur_Dhaka['2019']\n",
    "series_dhaka"
   ],
   "metadata": {
    "collapsed": false,
    "ExecuteTime": {
     "start_time": "2024-11-24T01:54:43.705037Z",
     "end_time": "2024-11-24T01:54:43.707698Z"
    }
   }
  },
  {
   "cell_type": "code",
   "execution_count": 10,
   "outputs": [],
   "source": [
    "from data_preparation.spatio_temporal_filtering import read_bd_data\n",
    "\n",
    "metadata, series, metadata_region, region_series, metadata_country, country_series = read_bd_data()"
   ],
   "metadata": {
    "collapsed": false,
    "ExecuteTime": {
     "start_time": "2024-11-23T21:57:59.166562Z",
     "end_time": "2024-11-23T21:58:00.275037Z"
    }
   }
  },
  {
   "cell_type": "code",
   "execution_count": 11,
   "outputs": [
    {
     "data": {
      "text/plain": "                     Azimpur_Dhaka  Barisal_Barisal  Bhairab Bazar_Dhaka  \\\ntime                                                                       \n2019-01-01 00:00:00          168.2            144.6                141.6   \n2019-01-01 01:00:00          157.6            133.0                133.0   \n2019-01-01 02:00:00          161.4            136.5                135.3   \n2019-01-01 03:00:00          187.7            152.2                156.7   \n2019-01-01 04:00:00          198.5            160.1                166.1   \n...                            ...              ...                  ...   \n2019-12-31 19:00:00          245.2            202.0                213.7   \n2019-12-31 20:00:00          296.6            230.0                250.1   \n2019-12-31 21:00:00          285.1            227.4                241.7   \n2019-12-31 22:00:00          225.3            177.0                216.7   \n2019-12-31 23:00:00          210.9            165.0                204.6   \n\n                     Bhola_Barisal  Bogra_Rajshahi  Chittagong_Chittagong  \\\ntime                                                                        \n2019-01-01 00:00:00          139.4           138.9                  110.5   \n2019-01-01 01:00:00          128.4           133.2                  101.8   \n2019-01-01 02:00:00          131.5           132.3                  103.3   \n2019-01-01 03:00:00          147.2           144.8                  116.1   \n2019-01-01 04:00:00          155.1           151.7                  123.6   \n...                            ...             ...                    ...   \n2019-12-31 19:00:00          192.2           239.5                  147.6   \n2019-12-31 20:00:00          219.7           258.6                  166.5   \n2019-12-31 21:00:00          216.5           255.2                  163.3   \n2019-12-31 22:00:00          172.8           186.6                  144.3   \n2019-12-31 23:00:00          161.4           179.9                  135.3   \n\n                     Comilla_Chittagong  Dhaka_Dhaka  Dinajpur_Rangpur  \\\ntime                                                                     \n2019-01-01 00:00:00               137.4        168.1             139.7   \n2019-01-01 01:00:00               128.1        157.5             136.7   \n2019-01-01 02:00:00               130.7        161.3             129.0   \n2019-01-01 03:00:00               150.5        187.9             136.1   \n2019-01-01 04:00:00               159.4        198.7             138.9   \n...                                 ...          ...               ...   \n2019-12-31 19:00:00               196.5        244.3             208.5   \n2019-12-31 20:00:00               230.5        296.6             216.5   \n2019-12-31 21:00:00               223.3        284.8             214.8   \n2019-12-31 22:00:00               197.0        226.2             147.9   \n2019-12-31 23:00:00               184.7        211.2             144.5   \n\n                     Faridpur_Dhaka  ...  Satkania_Chittagong  \\\ntime                                 ...                        \n2019-01-01 00:00:00           158.9  ...                104.4   \n2019-01-01 01:00:00           148.4  ...                 96.1   \n2019-01-01 02:00:00           153.0  ...                 97.3   \n2019-01-01 03:00:00           172.2  ...                108.9   \n2019-01-01 04:00:00           181.3  ...                116.3   \n...                             ...  ...                  ...   \n2019-12-31 19:00:00           249.5  ...                137.7   \n2019-12-31 20:00:00           285.6  ...                154.1   \n2019-12-31 21:00:00           279.9  ...                151.3   \n2019-12-31 22:00:00           208.6  ...                133.8   \n2019-12-31 23:00:00           194.7  ...                125.6   \n\n                     Satkhira_Khulna  Shahzadpur_Rajshahi  Sherpur_Mymensingh  \\\ntime                                                                            \n2019-01-01 00:00:00            161.9                150.3               131.5   \n2019-01-01 01:00:00            146.6                142.1               125.6   \n2019-01-01 02:00:00            154.0                144.9               125.0   \n2019-01-01 03:00:00            163.6                161.4               139.7   \n2019-01-01 04:00:00            169.0                169.9               147.2   \n...                              ...                  ...                 ...   \n2019-12-31 19:00:00            256.2                249.8               244.6   \n2019-12-31 20:00:00            271.5                278.9               265.7   \n2019-12-31 21:00:00            278.2                274.0               261.3   \n2019-12-31 22:00:00            187.2                203.3               201.0   \n2019-12-31 23:00:00            171.6                191.9               195.9   \n\n                     Sirajganj_Rajshahi  Sylhet_Sylhet  Tangail_Dhaka  \\\ntime                                                                    \n2019-01-01 00:00:00               145.5          103.7          152.0   \n2019-01-01 01:00:00               138.1           98.0          143.6   \n2019-01-01 02:00:00               139.6           98.8          146.1   \n2019-01-01 03:00:00               155.9          113.7          165.3   \n2019-01-01 04:00:00               164.2          121.4          174.3   \n...                                 ...            ...            ...   \n2019-12-31 19:00:00               245.6          156.6          247.1   \n2019-12-31 20:00:00               273.3          169.7          281.5   \n2019-12-31 21:00:00               268.1          166.5          274.7   \n2019-12-31 22:00:00               203.0          223.3          211.4   \n2019-12-31 23:00:00               193.5          210.7          200.3   \n\n                     Thakurgaon_Rangpur  Tungi_Dhaka  Tungipara_Dhaka  \ntime                                                                   \n2019-01-01 00:00:00               138.1        166.8            152.6  \n2019-01-01 01:00:00               136.1        156.7            140.2  \n2019-01-01 02:00:00               125.2        160.1            144.8  \n2019-01-01 03:00:00               130.8        186.7            160.0  \n2019-01-01 04:00:00               131.6        197.5            167.6  \n...                                 ...          ...              ...  \n2019-12-31 19:00:00               188.4        244.6            223.6  \n2019-12-31 20:00:00               193.5        295.3            251.0  \n2019-12-31 21:00:00               192.1        283.7            249.8  \n2019-12-31 22:00:00               130.9        227.2            185.3  \n2019-12-31 23:00:00               129.2        213.9            172.2  \n\n[8760 rows x 55 columns]",
      "text/html": "<div>\n<style scoped>\n    .dataframe tbody tr th:only-of-type {\n        vertical-align: middle;\n    }\n\n    .dataframe tbody tr th {\n        vertical-align: top;\n    }\n\n    .dataframe thead th {\n        text-align: right;\n    }\n</style>\n<table border=\"1\" class=\"dataframe\">\n  <thead>\n    <tr style=\"text-align: right;\">\n      <th></th>\n      <th>Azimpur_Dhaka</th>\n      <th>Barisal_Barisal</th>\n      <th>Bhairab Bazar_Dhaka</th>\n      <th>Bhola_Barisal</th>\n      <th>Bogra_Rajshahi</th>\n      <th>Chittagong_Chittagong</th>\n      <th>Comilla_Chittagong</th>\n      <th>Dhaka_Dhaka</th>\n      <th>Dinajpur_Rangpur</th>\n      <th>Faridpur_Dhaka</th>\n      <th>...</th>\n      <th>Satkania_Chittagong</th>\n      <th>Satkhira_Khulna</th>\n      <th>Shahzadpur_Rajshahi</th>\n      <th>Sherpur_Mymensingh</th>\n      <th>Sirajganj_Rajshahi</th>\n      <th>Sylhet_Sylhet</th>\n      <th>Tangail_Dhaka</th>\n      <th>Thakurgaon_Rangpur</th>\n      <th>Tungi_Dhaka</th>\n      <th>Tungipara_Dhaka</th>\n    </tr>\n    <tr>\n      <th>time</th>\n      <th></th>\n      <th></th>\n      <th></th>\n      <th></th>\n      <th></th>\n      <th></th>\n      <th></th>\n      <th></th>\n      <th></th>\n      <th></th>\n      <th></th>\n      <th></th>\n      <th></th>\n      <th></th>\n      <th></th>\n      <th></th>\n      <th></th>\n      <th></th>\n      <th></th>\n      <th></th>\n      <th></th>\n    </tr>\n  </thead>\n  <tbody>\n    <tr>\n      <th>2019-01-01 00:00:00</th>\n      <td>168.2</td>\n      <td>144.6</td>\n      <td>141.6</td>\n      <td>139.4</td>\n      <td>138.9</td>\n      <td>110.5</td>\n      <td>137.4</td>\n      <td>168.1</td>\n      <td>139.7</td>\n      <td>158.9</td>\n      <td>...</td>\n      <td>104.4</td>\n      <td>161.9</td>\n      <td>150.3</td>\n      <td>131.5</td>\n      <td>145.5</td>\n      <td>103.7</td>\n      <td>152.0</td>\n      <td>138.1</td>\n      <td>166.8</td>\n      <td>152.6</td>\n    </tr>\n    <tr>\n      <th>2019-01-01 01:00:00</th>\n      <td>157.6</td>\n      <td>133.0</td>\n      <td>133.0</td>\n      <td>128.4</td>\n      <td>133.2</td>\n      <td>101.8</td>\n      <td>128.1</td>\n      <td>157.5</td>\n      <td>136.7</td>\n      <td>148.4</td>\n      <td>...</td>\n      <td>96.1</td>\n      <td>146.6</td>\n      <td>142.1</td>\n      <td>125.6</td>\n      <td>138.1</td>\n      <td>98.0</td>\n      <td>143.6</td>\n      <td>136.1</td>\n      <td>156.7</td>\n      <td>140.2</td>\n    </tr>\n    <tr>\n      <th>2019-01-01 02:00:00</th>\n      <td>161.4</td>\n      <td>136.5</td>\n      <td>135.3</td>\n      <td>131.5</td>\n      <td>132.3</td>\n      <td>103.3</td>\n      <td>130.7</td>\n      <td>161.3</td>\n      <td>129.0</td>\n      <td>153.0</td>\n      <td>...</td>\n      <td>97.3</td>\n      <td>154.0</td>\n      <td>144.9</td>\n      <td>125.0</td>\n      <td>139.6</td>\n      <td>98.8</td>\n      <td>146.1</td>\n      <td>125.2</td>\n      <td>160.1</td>\n      <td>144.8</td>\n    </tr>\n    <tr>\n      <th>2019-01-01 03:00:00</th>\n      <td>187.7</td>\n      <td>152.2</td>\n      <td>156.7</td>\n      <td>147.2</td>\n      <td>144.8</td>\n      <td>116.1</td>\n      <td>150.5</td>\n      <td>187.9</td>\n      <td>136.1</td>\n      <td>172.2</td>\n      <td>...</td>\n      <td>108.9</td>\n      <td>163.6</td>\n      <td>161.4</td>\n      <td>139.7</td>\n      <td>155.9</td>\n      <td>113.7</td>\n      <td>165.3</td>\n      <td>130.8</td>\n      <td>186.7</td>\n      <td>160.0</td>\n    </tr>\n    <tr>\n      <th>2019-01-01 04:00:00</th>\n      <td>198.5</td>\n      <td>160.1</td>\n      <td>166.1</td>\n      <td>155.1</td>\n      <td>151.7</td>\n      <td>123.6</td>\n      <td>159.4</td>\n      <td>198.7</td>\n      <td>138.9</td>\n      <td>181.3</td>\n      <td>...</td>\n      <td>116.3</td>\n      <td>169.0</td>\n      <td>169.9</td>\n      <td>147.2</td>\n      <td>164.2</td>\n      <td>121.4</td>\n      <td>174.3</td>\n      <td>131.6</td>\n      <td>197.5</td>\n      <td>167.6</td>\n    </tr>\n    <tr>\n      <th>...</th>\n      <td>...</td>\n      <td>...</td>\n      <td>...</td>\n      <td>...</td>\n      <td>...</td>\n      <td>...</td>\n      <td>...</td>\n      <td>...</td>\n      <td>...</td>\n      <td>...</td>\n      <td>...</td>\n      <td>...</td>\n      <td>...</td>\n      <td>...</td>\n      <td>...</td>\n      <td>...</td>\n      <td>...</td>\n      <td>...</td>\n      <td>...</td>\n      <td>...</td>\n      <td>...</td>\n    </tr>\n    <tr>\n      <th>2019-12-31 19:00:00</th>\n      <td>245.2</td>\n      <td>202.0</td>\n      <td>213.7</td>\n      <td>192.2</td>\n      <td>239.5</td>\n      <td>147.6</td>\n      <td>196.5</td>\n      <td>244.3</td>\n      <td>208.5</td>\n      <td>249.5</td>\n      <td>...</td>\n      <td>137.7</td>\n      <td>256.2</td>\n      <td>249.8</td>\n      <td>244.6</td>\n      <td>245.6</td>\n      <td>156.6</td>\n      <td>247.1</td>\n      <td>188.4</td>\n      <td>244.6</td>\n      <td>223.6</td>\n    </tr>\n    <tr>\n      <th>2019-12-31 20:00:00</th>\n      <td>296.6</td>\n      <td>230.0</td>\n      <td>250.1</td>\n      <td>219.7</td>\n      <td>258.6</td>\n      <td>166.5</td>\n      <td>230.5</td>\n      <td>296.6</td>\n      <td>216.5</td>\n      <td>285.6</td>\n      <td>...</td>\n      <td>154.1</td>\n      <td>271.5</td>\n      <td>278.9</td>\n      <td>265.7</td>\n      <td>273.3</td>\n      <td>169.7</td>\n      <td>281.5</td>\n      <td>193.5</td>\n      <td>295.3</td>\n      <td>251.0</td>\n    </tr>\n    <tr>\n      <th>2019-12-31 21:00:00</th>\n      <td>285.1</td>\n      <td>227.4</td>\n      <td>241.7</td>\n      <td>216.5</td>\n      <td>255.2</td>\n      <td>163.3</td>\n      <td>223.3</td>\n      <td>284.8</td>\n      <td>214.8</td>\n      <td>279.9</td>\n      <td>...</td>\n      <td>151.3</td>\n      <td>278.2</td>\n      <td>274.0</td>\n      <td>261.3</td>\n      <td>268.1</td>\n      <td>166.5</td>\n      <td>274.7</td>\n      <td>192.1</td>\n      <td>283.7</td>\n      <td>249.8</td>\n    </tr>\n    <tr>\n      <th>2019-12-31 22:00:00</th>\n      <td>225.3</td>\n      <td>177.0</td>\n      <td>216.7</td>\n      <td>172.8</td>\n      <td>186.6</td>\n      <td>144.3</td>\n      <td>197.0</td>\n      <td>226.2</td>\n      <td>147.9</td>\n      <td>208.6</td>\n      <td>...</td>\n      <td>133.8</td>\n      <td>187.2</td>\n      <td>203.3</td>\n      <td>201.0</td>\n      <td>203.0</td>\n      <td>223.3</td>\n      <td>211.4</td>\n      <td>130.9</td>\n      <td>227.2</td>\n      <td>185.3</td>\n    </tr>\n    <tr>\n      <th>2019-12-31 23:00:00</th>\n      <td>210.9</td>\n      <td>165.0</td>\n      <td>204.6</td>\n      <td>161.4</td>\n      <td>179.9</td>\n      <td>135.3</td>\n      <td>184.7</td>\n      <td>211.2</td>\n      <td>144.5</td>\n      <td>194.7</td>\n      <td>...</td>\n      <td>125.6</td>\n      <td>171.6</td>\n      <td>191.9</td>\n      <td>195.9</td>\n      <td>193.5</td>\n      <td>210.7</td>\n      <td>200.3</td>\n      <td>129.2</td>\n      <td>213.9</td>\n      <td>172.2</td>\n    </tr>\n  </tbody>\n</table>\n<p>8760 rows × 55 columns</p>\n</div>"
     },
     "execution_count": 11,
     "metadata": {},
     "output_type": "execute_result"
    }
   ],
   "source": [
    "from data_preparation.handling_missing_entries import FillMissingFromCombined\n",
    "\n",
    "series_imputed = series.apply(FillMissingFromCombined)['2019']\n",
    "series_imputed"
   ],
   "metadata": {
    "collapsed": false,
    "ExecuteTime": {
     "start_time": "2024-11-23T21:58:00.826713Z",
     "end_time": "2024-11-23T21:58:06.317613Z"
    }
   }
  },
  {
   "cell_type": "code",
   "execution_count": 12,
   "outputs": [],
   "source": [
    "series_bd = series_imputed"
   ],
   "metadata": {
    "collapsed": false,
    "ExecuteTime": {
     "start_time": "2024-11-23T21:58:06.316059Z",
     "end_time": "2024-11-23T21:58:06.320619Z"
    }
   }
  },
  {
   "cell_type": "code",
   "execution_count": 24,
   "outputs": [
    {
     "data": {
      "text/plain": "                     Azimpur_Dhaka  Barisal_Barisal  Bhairab Bazar_Dhaka  \\\ntime                                                                       \n2019-01-01 00:00:00            NaN              NaN                  NaN   \n2019-01-01 01:00:00          -10.6            -11.6                 -8.6   \n2019-01-01 02:00:00            3.8              3.5                  2.3   \n2019-01-01 03:00:00           26.3             15.7                 21.4   \n2019-01-01 04:00:00           10.8              7.9                  9.4   \n...                            ...              ...                  ...   \n2019-12-31 19:00:00            1.8              0.6                  1.0   \n2019-12-31 20:00:00           51.4             28.0                 36.4   \n2019-12-31 21:00:00          -11.5             -2.6                 -8.4   \n2019-12-31 22:00:00          -59.8            -50.4                -25.0   \n2019-12-31 23:00:00          -14.4            -12.0                -12.1   \n\n                     Bhola_Barisal  Bogra_Rajshahi  Chittagong_Chittagong  \\\ntime                                                                        \n2019-01-01 00:00:00            NaN             NaN                    NaN   \n2019-01-01 01:00:00          -11.0            -5.7                   -8.7   \n2019-01-01 02:00:00            3.1            -0.9                    1.5   \n2019-01-01 03:00:00           15.7            12.5                   12.8   \n2019-01-01 04:00:00            7.9             6.9                    7.5   \n...                            ...             ...                    ...   \n2019-12-31 19:00:00            0.5             2.2                   -0.2   \n2019-12-31 20:00:00           27.5            19.1                   18.9   \n2019-12-31 21:00:00           -3.2            -3.4                   -3.2   \n2019-12-31 22:00:00          -43.7           -68.6                  -19.0   \n2019-12-31 23:00:00          -11.4            -6.7                   -9.0   \n\n                     Comilla_Chittagong  Dhaka_Dhaka  Dinajpur_Rangpur  \\\ntime                                                                     \n2019-01-01 00:00:00                 NaN          NaN               NaN   \n2019-01-01 01:00:00                -9.3        -10.6              -3.0   \n2019-01-01 02:00:00                 2.6          3.8              -7.7   \n2019-01-01 03:00:00                19.8         26.6               7.1   \n2019-01-01 04:00:00                 8.9         10.8               2.8   \n...                                 ...          ...               ...   \n2019-12-31 19:00:00                 0.7          1.8               3.2   \n2019-12-31 20:00:00                34.0         52.3               8.0   \n2019-12-31 21:00:00                -7.2        -11.8              -1.7   \n2019-12-31 22:00:00               -26.3        -58.6             -66.9   \n2019-12-31 23:00:00               -12.3        -15.0              -3.4   \n\n                     Faridpur_Dhaka  ...  Satkania_Chittagong  \\\ntime                                 ...                        \n2019-01-01 00:00:00             NaN  ...                  NaN   \n2019-01-01 01:00:00           -10.5  ...                 -8.3   \n2019-01-01 02:00:00             4.6  ...                  1.2   \n2019-01-01 03:00:00            19.2  ...                 11.6   \n2019-01-01 04:00:00             9.1  ...                  7.4   \n...                             ...  ...                  ...   \n2019-12-31 19:00:00             1.6  ...                 -0.4   \n2019-12-31 20:00:00            36.1  ...                 16.4   \n2019-12-31 21:00:00            -5.7  ...                 -2.8   \n2019-12-31 22:00:00           -71.3  ...                -17.5   \n2019-12-31 23:00:00           -13.9  ...                 -8.2   \n\n                     Satkhira_Khulna  Shahzadpur_Rajshahi  Sherpur_Mymensingh  \\\ntime                                                                            \n2019-01-01 00:00:00              NaN                  NaN                 NaN   \n2019-01-01 01:00:00            -15.3                 -8.2                -5.9   \n2019-01-01 02:00:00              7.4                  2.8                -0.6   \n2019-01-01 03:00:00              9.6                 16.5                14.7   \n2019-01-01 04:00:00              5.4                  8.5                 7.5   \n...                              ...                  ...                 ...   \n2019-12-31 19:00:00              0.7                  1.9                 1.5   \n2019-12-31 20:00:00             15.3                 29.1                21.1   \n2019-12-31 21:00:00              6.7                 -4.9                -4.4   \n2019-12-31 22:00:00            -91.0                -70.7               -60.3   \n2019-12-31 23:00:00            -15.6                -11.4                -5.1   \n\n                     Sirajganj_Rajshahi  Sylhet_Sylhet  Tangail_Dhaka  \\\ntime                                                                    \n2019-01-01 00:00:00                 NaN            NaN            NaN   \n2019-01-01 01:00:00                -7.4           -5.7           -8.4   \n2019-01-01 02:00:00                 1.5            0.8            2.5   \n2019-01-01 03:00:00                16.3           14.9           19.2   \n2019-01-01 04:00:00                 8.3            7.7            9.0   \n...                                 ...            ...            ...   \n2019-12-31 19:00:00                 1.8            0.0            1.7   \n2019-12-31 20:00:00                27.7           13.1           34.4   \n2019-12-31 21:00:00                -5.2           -3.2           -6.8   \n2019-12-31 22:00:00               -65.1           56.8          -63.3   \n2019-12-31 23:00:00                -9.5          -12.6          -11.1   \n\n                     Thakurgaon_Rangpur  Tungi_Dhaka  Tungipara_Dhaka  \ntime                                                                   \n2019-01-01 00:00:00                 NaN          NaN              NaN  \n2019-01-01 01:00:00                -2.0        -10.1            -12.4  \n2019-01-01 02:00:00               -10.9          3.4              4.6  \n2019-01-01 03:00:00                 5.6         26.6             15.2  \n2019-01-01 04:00:00                 0.8         10.8              7.6  \n...                                 ...          ...              ...  \n2019-12-31 19:00:00                 2.6          1.7              0.9  \n2019-12-31 20:00:00                 5.1         50.7             27.4  \n2019-12-31 21:00:00                -1.4        -11.6             -1.2  \n2019-12-31 22:00:00               -61.2        -56.5            -64.5  \n2019-12-31 23:00:00                -1.7        -13.3            -13.1  \n\n[8760 rows x 55 columns]",
      "text/html": "<div>\n<style scoped>\n    .dataframe tbody tr th:only-of-type {\n        vertical-align: middle;\n    }\n\n    .dataframe tbody tr th {\n        vertical-align: top;\n    }\n\n    .dataframe thead th {\n        text-align: right;\n    }\n</style>\n<table border=\"1\" class=\"dataframe\">\n  <thead>\n    <tr style=\"text-align: right;\">\n      <th></th>\n      <th>Azimpur_Dhaka</th>\n      <th>Barisal_Barisal</th>\n      <th>Bhairab Bazar_Dhaka</th>\n      <th>Bhola_Barisal</th>\n      <th>Bogra_Rajshahi</th>\n      <th>Chittagong_Chittagong</th>\n      <th>Comilla_Chittagong</th>\n      <th>Dhaka_Dhaka</th>\n      <th>Dinajpur_Rangpur</th>\n      <th>Faridpur_Dhaka</th>\n      <th>...</th>\n      <th>Satkania_Chittagong</th>\n      <th>Satkhira_Khulna</th>\n      <th>Shahzadpur_Rajshahi</th>\n      <th>Sherpur_Mymensingh</th>\n      <th>Sirajganj_Rajshahi</th>\n      <th>Sylhet_Sylhet</th>\n      <th>Tangail_Dhaka</th>\n      <th>Thakurgaon_Rangpur</th>\n      <th>Tungi_Dhaka</th>\n      <th>Tungipara_Dhaka</th>\n    </tr>\n    <tr>\n      <th>time</th>\n      <th></th>\n      <th></th>\n      <th></th>\n      <th></th>\n      <th></th>\n      <th></th>\n      <th></th>\n      <th></th>\n      <th></th>\n      <th></th>\n      <th></th>\n      <th></th>\n      <th></th>\n      <th></th>\n      <th></th>\n      <th></th>\n      <th></th>\n      <th></th>\n      <th></th>\n      <th></th>\n      <th></th>\n    </tr>\n  </thead>\n  <tbody>\n    <tr>\n      <th>2019-01-01 00:00:00</th>\n      <td>NaN</td>\n      <td>NaN</td>\n      <td>NaN</td>\n      <td>NaN</td>\n      <td>NaN</td>\n      <td>NaN</td>\n      <td>NaN</td>\n      <td>NaN</td>\n      <td>NaN</td>\n      <td>NaN</td>\n      <td>...</td>\n      <td>NaN</td>\n      <td>NaN</td>\n      <td>NaN</td>\n      <td>NaN</td>\n      <td>NaN</td>\n      <td>NaN</td>\n      <td>NaN</td>\n      <td>NaN</td>\n      <td>NaN</td>\n      <td>NaN</td>\n    </tr>\n    <tr>\n      <th>2019-01-01 01:00:00</th>\n      <td>-10.6</td>\n      <td>-11.6</td>\n      <td>-8.6</td>\n      <td>-11.0</td>\n      <td>-5.7</td>\n      <td>-8.7</td>\n      <td>-9.3</td>\n      <td>-10.6</td>\n      <td>-3.0</td>\n      <td>-10.5</td>\n      <td>...</td>\n      <td>-8.3</td>\n      <td>-15.3</td>\n      <td>-8.2</td>\n      <td>-5.9</td>\n      <td>-7.4</td>\n      <td>-5.7</td>\n      <td>-8.4</td>\n      <td>-2.0</td>\n      <td>-10.1</td>\n      <td>-12.4</td>\n    </tr>\n    <tr>\n      <th>2019-01-01 02:00:00</th>\n      <td>3.8</td>\n      <td>3.5</td>\n      <td>2.3</td>\n      <td>3.1</td>\n      <td>-0.9</td>\n      <td>1.5</td>\n      <td>2.6</td>\n      <td>3.8</td>\n      <td>-7.7</td>\n      <td>4.6</td>\n      <td>...</td>\n      <td>1.2</td>\n      <td>7.4</td>\n      <td>2.8</td>\n      <td>-0.6</td>\n      <td>1.5</td>\n      <td>0.8</td>\n      <td>2.5</td>\n      <td>-10.9</td>\n      <td>3.4</td>\n      <td>4.6</td>\n    </tr>\n    <tr>\n      <th>2019-01-01 03:00:00</th>\n      <td>26.3</td>\n      <td>15.7</td>\n      <td>21.4</td>\n      <td>15.7</td>\n      <td>12.5</td>\n      <td>12.8</td>\n      <td>19.8</td>\n      <td>26.6</td>\n      <td>7.1</td>\n      <td>19.2</td>\n      <td>...</td>\n      <td>11.6</td>\n      <td>9.6</td>\n      <td>16.5</td>\n      <td>14.7</td>\n      <td>16.3</td>\n      <td>14.9</td>\n      <td>19.2</td>\n      <td>5.6</td>\n      <td>26.6</td>\n      <td>15.2</td>\n    </tr>\n    <tr>\n      <th>2019-01-01 04:00:00</th>\n      <td>10.8</td>\n      <td>7.9</td>\n      <td>9.4</td>\n      <td>7.9</td>\n      <td>6.9</td>\n      <td>7.5</td>\n      <td>8.9</td>\n      <td>10.8</td>\n      <td>2.8</td>\n      <td>9.1</td>\n      <td>...</td>\n      <td>7.4</td>\n      <td>5.4</td>\n      <td>8.5</td>\n      <td>7.5</td>\n      <td>8.3</td>\n      <td>7.7</td>\n      <td>9.0</td>\n      <td>0.8</td>\n      <td>10.8</td>\n      <td>7.6</td>\n    </tr>\n    <tr>\n      <th>...</th>\n      <td>...</td>\n      <td>...</td>\n      <td>...</td>\n      <td>...</td>\n      <td>...</td>\n      <td>...</td>\n      <td>...</td>\n      <td>...</td>\n      <td>...</td>\n      <td>...</td>\n      <td>...</td>\n      <td>...</td>\n      <td>...</td>\n      <td>...</td>\n      <td>...</td>\n      <td>...</td>\n      <td>...</td>\n      <td>...</td>\n      <td>...</td>\n      <td>...</td>\n      <td>...</td>\n    </tr>\n    <tr>\n      <th>2019-12-31 19:00:00</th>\n      <td>1.8</td>\n      <td>0.6</td>\n      <td>1.0</td>\n      <td>0.5</td>\n      <td>2.2</td>\n      <td>-0.2</td>\n      <td>0.7</td>\n      <td>1.8</td>\n      <td>3.2</td>\n      <td>1.6</td>\n      <td>...</td>\n      <td>-0.4</td>\n      <td>0.7</td>\n      <td>1.9</td>\n      <td>1.5</td>\n      <td>1.8</td>\n      <td>0.0</td>\n      <td>1.7</td>\n      <td>2.6</td>\n      <td>1.7</td>\n      <td>0.9</td>\n    </tr>\n    <tr>\n      <th>2019-12-31 20:00:00</th>\n      <td>51.4</td>\n      <td>28.0</td>\n      <td>36.4</td>\n      <td>27.5</td>\n      <td>19.1</td>\n      <td>18.9</td>\n      <td>34.0</td>\n      <td>52.3</td>\n      <td>8.0</td>\n      <td>36.1</td>\n      <td>...</td>\n      <td>16.4</td>\n      <td>15.3</td>\n      <td>29.1</td>\n      <td>21.1</td>\n      <td>27.7</td>\n      <td>13.1</td>\n      <td>34.4</td>\n      <td>5.1</td>\n      <td>50.7</td>\n      <td>27.4</td>\n    </tr>\n    <tr>\n      <th>2019-12-31 21:00:00</th>\n      <td>-11.5</td>\n      <td>-2.6</td>\n      <td>-8.4</td>\n      <td>-3.2</td>\n      <td>-3.4</td>\n      <td>-3.2</td>\n      <td>-7.2</td>\n      <td>-11.8</td>\n      <td>-1.7</td>\n      <td>-5.7</td>\n      <td>...</td>\n      <td>-2.8</td>\n      <td>6.7</td>\n      <td>-4.9</td>\n      <td>-4.4</td>\n      <td>-5.2</td>\n      <td>-3.2</td>\n      <td>-6.8</td>\n      <td>-1.4</td>\n      <td>-11.6</td>\n      <td>-1.2</td>\n    </tr>\n    <tr>\n      <th>2019-12-31 22:00:00</th>\n      <td>-59.8</td>\n      <td>-50.4</td>\n      <td>-25.0</td>\n      <td>-43.7</td>\n      <td>-68.6</td>\n      <td>-19.0</td>\n      <td>-26.3</td>\n      <td>-58.6</td>\n      <td>-66.9</td>\n      <td>-71.3</td>\n      <td>...</td>\n      <td>-17.5</td>\n      <td>-91.0</td>\n      <td>-70.7</td>\n      <td>-60.3</td>\n      <td>-65.1</td>\n      <td>56.8</td>\n      <td>-63.3</td>\n      <td>-61.2</td>\n      <td>-56.5</td>\n      <td>-64.5</td>\n    </tr>\n    <tr>\n      <th>2019-12-31 23:00:00</th>\n      <td>-14.4</td>\n      <td>-12.0</td>\n      <td>-12.1</td>\n      <td>-11.4</td>\n      <td>-6.7</td>\n      <td>-9.0</td>\n      <td>-12.3</td>\n      <td>-15.0</td>\n      <td>-3.4</td>\n      <td>-13.9</td>\n      <td>...</td>\n      <td>-8.2</td>\n      <td>-15.6</td>\n      <td>-11.4</td>\n      <td>-5.1</td>\n      <td>-9.5</td>\n      <td>-12.6</td>\n      <td>-11.1</td>\n      <td>-1.7</td>\n      <td>-13.3</td>\n      <td>-13.1</td>\n    </tr>\n  </tbody>\n</table>\n<p>8760 rows × 55 columns</p>\n</div>"
     },
     "execution_count": 24,
     "metadata": {},
     "output_type": "execute_result"
    }
   ],
   "source": [
    "series_bd.diff()"
   ],
   "metadata": {
    "collapsed": false,
    "ExecuteTime": {
     "start_time": "2024-11-23T21:14:46.357980Z",
     "end_time": "2024-11-23T21:14:46.396567Z"
    }
   }
  },
  {
   "cell_type": "code",
   "execution_count": 25,
   "outputs": [],
   "source": [
    "corr_zones = []\n",
    "\n",
    "for series_zone in series_bd:\n",
    "    series_zone_data = series_bd[series_zone]\n",
    "    # series_zone_data = series_bd[series_zone][\"2019-01\":\"2019-03\"]\n",
    "    corr_zone = (get_district_data(meteo_data,series_zone).apply(lambda x: x.corr(series_zone_data)))\n",
    "    corr_zones.append(corr_zone)"
   ],
   "metadata": {
    "collapsed": false,
    "ExecuteTime": {
     "start_time": "2024-11-23T21:14:46.382209Z",
     "end_time": "2024-11-23T21:14:50.449922Z"
    }
   }
  },
  {
   "cell_type": "code",
   "execution_count": 26,
   "outputs": [
    {
     "data": {
      "text/plain": "               Temperature [2 m elevation corrected]  \\\nZone                                                   \nAzimpur                                    -0.640512   \nBarisal                                    -0.674920   \nBhairab Bazar                              -0.634829   \nBhola                                      -0.690718   \nBogra                                      -0.678151   \nChittagong                                 -0.659235   \nComilla                                    -0.628510   \nDhaka                                      -0.638423   \nDinajpur                                   -0.678392   \nFaridpur                                   -0.674850   \nFeni                                       -0.633582   \nHabiganj                                   -0.627419   \nIshurdi                                    -0.698271   \nJamalpur                                   -0.661231   \nJessore                                    -0.695815   \nJoypur Hat                                 -0.687939   \nKhagrachhari                               -0.616362   \nKhulna                                     -0.685832   \nKishorganj                                 -0.644828   \nKushtia                                    -0.699077   \nLaksham                                    -0.639129   \nLakshmipur                                 -0.663872   \nLalmanirhat                                -0.645258   \nMadaripur                                  -0.674562   \nMaulavi Bazar                              -0.624660   \nMymensingh                                 -0.641946   \nNagarpur                                   -0.668227   \nNarail                                     -0.694619   \nNarayanganj                                -0.633437   \nNarsingdi                                  -0.628423   \nNawabganj                                  -0.698052   \nNetrakona                                  -0.639993   \nPabna                                      -0.696318   \nPalang                                     -0.668121   \nPaltan                                     -0.638423   \nPar Naogaon                                -0.684635   \nPatiya                                     -0.658103   \nPirojpur                                   -0.693176   \nRaipur                                     -0.661105   \nRajshahi                                   -0.693532   \nRamganj                                    -0.643013   \nRangpur                                    -0.667743   \nSaidpur                                    -0.668966   \nSandwip                                    -0.616442   \nSarishabari                                -0.668789   \nSatkania                                   -0.602798   \nSatkhira                                   -0.689928   \nShahzadpur                                 -0.680033   \nSherpur                                    -0.657277   \nSirajganj                                  -0.671238   \nSylhet                                     -0.623535   \nTangail                                    -0.662346   \nThakurgaon                                 -0.649433   \nTungi                                      -0.625688   \nTungipara                                  -0.681831   \n\n               Growing Degree Days [2 m elevation corrected]  \\\nZone                                                           \nAzimpur                                            -0.667192   \nBarisal                                            -0.711973   \nBhairab Bazar                                      -0.659551   \nBhola                                              -0.721196   \nBogra                                              -0.696047   \nChittagong                                         -0.696882   \nComilla                                            -0.663236   \nDhaka                                              -0.664650   \nDinajpur                                           -0.693655   \nFaridpur                                           -0.704242   \nFeni                                               -0.666760   \nHabiganj                                           -0.649437   \nIshurdi                                            -0.727124   \nJamalpur                                           -0.679603   \nJessore                                            -0.731551   \nJoypur Hat                                         -0.704022   \nKhagrachhari                                       -0.649227   \nKhulna                                             -0.720765   \nKishorganj                                         -0.665410   \nKushtia                                            -0.728069   \nLaksham                                            -0.673930   \nLakshmipur                                         -0.691728   \nLalmanirhat                                        -0.660147   \nMadaripur                                          -0.705172   \nMaulavi Bazar                                      -0.646388   \nMymensingh                                         -0.660440   \nNagarpur                                           -0.692608   \nNarail                                             -0.727678   \nNarayanganj                                        -0.660501   \nNarsingdi                                          -0.654619   \nNawabganj                                          -0.728857   \nNetrakona                                          -0.655714   \nPabna                                              -0.725191   \nPalang                                             -0.698441   \nPaltan                                             -0.664867   \nPar Naogaon                                        -0.706669   \nPatiya                                             -0.696219   \nPirojpur                                           -0.724790   \nRaipur                                             -0.688779   \nRajshahi                                           -0.724255   \nRamganj                                            -0.674704   \nRangpur                                            -0.680359   \nSaidpur                                            -0.683382   \nSandwip                                            -0.652869   \nSarishabari                                        -0.686379   \nSatkania                                           -0.656883   \nSatkhira                                           -0.721941   \nShahzadpur                                         -0.700865   \nSherpur                                            -0.672433   \nSirajganj                                          -0.689849   \nSylhet                                             -0.637542   \nTangail                                            -0.684229   \nThakurgaon                                         -0.665972   \nTungi                                              -0.650432   \nTungipara                                          -0.715277   \n\n               Temperature [900 mb]  Temperature [850 mb]  \\\nZone                                                        \nAzimpur                   -0.675460             -0.656170   \nBarisal                   -0.686827             -0.633081   \nBhairab Bazar             -0.687388             -0.673114   \nBhola                     -0.685046             -0.626783   \nBogra                     -0.713993             -0.722542   \nChittagong                -0.629961             -0.593458   \nComilla                   -0.681593             -0.654395   \nDhaka                     -0.673687             -0.654784   \nDinajpur                  -0.709574             -0.728980   \nFaridpur                  -0.696768             -0.671548   \nFeni                      -0.668848             -0.622765   \nHabiganj                  -0.678805             -0.683824   \nIshurdi                   -0.707309             -0.700316   \nJamalpur                  -0.704164             -0.717242   \nJessore                   -0.702448             -0.667830   \nJoypur Hat                -0.715515             -0.727349   \nKhagrachhari              -0.654687             -0.648800   \nKhulna                    -0.704700             -0.655602   \nKishorganj                -0.691444             -0.687672   \nKushtia                   -0.708409             -0.700885   \nLaksham                   -0.680276             -0.642418   \nLakshmipur                -0.683100             -0.631259   \nLalmanirhat               -0.700787             -0.732524   \nMadaripur                 -0.693359             -0.656348   \nMaulavi Bazar             -0.664265             -0.684994   \nMymensingh                -0.691641             -0.710170   \nNagarpur                  -0.701620             -0.688380   \nNarail                    -0.706221             -0.669710   \nNarayanganj               -0.679947             -0.657779   \nNarsingdi                 -0.683108             -0.669983   \nNawabganj                 -0.683969             -0.690730   \nNetrakona                 -0.683033             -0.706312   \nPabna                     -0.706751             -0.700470   \nPalang                    -0.687700             -0.652584   \nPaltan                    -0.673687             -0.654784   \nPar Naogaon               -0.710220             -0.717513   \nPatiya                    -0.628702             -0.592906   \nPirojpur                  -0.698431             -0.640710   \nRaipur                    -0.680492             -0.629127   \nRajshahi                  -0.692789             -0.695918   \nRamganj                   -0.685763             -0.644250   \nRangpur                   -0.704974             -0.734574   \nSaidpur                   -0.706330             -0.728943   \nSandwip                   -0.674074             -0.614401   \nSarishabari               -0.708261             -0.717663   \nSatkania                  -0.622400             -0.596524   \nSatkhira                  -0.687366             -0.637057   \nShahzadpur                -0.711015             -0.706223   \nSherpur                   -0.701663             -0.722760   \nSirajganj                 -0.709073             -0.710964   \nSylhet                    -0.626976             -0.659700   \nTangail                   -0.703555             -0.697677   \nThakurgaon                -0.696368             -0.721141   \nTungi                     -0.674381             -0.664319   \nTungipara                 -0.701144             -0.653455   \n\n               Temperature [800 mb]  Temperature [700 mb]  \\\nZone                                                        \nAzimpur                   -0.636497             -0.598246   \nBarisal                   -0.622778             -0.607077   \nBhairab Bazar             -0.651294             -0.620938   \nBhola                     -0.621544             -0.607943   \nBogra                     -0.703550             -0.656186   \nChittagong                -0.611636             -0.626944   \nComilla                   -0.634576             -0.615657   \nDhaka                     -0.635345             -0.597266   \nDinajpur                  -0.718586             -0.678464   \nFaridpur                  -0.649970             -0.614828   \nFeni                      -0.618392             -0.616317   \nHabiganj                  -0.661825             -0.635320   \nIshurdi                   -0.672690             -0.630715   \nJamalpur                  -0.705629             -0.651135   \nJessore                   -0.644862             -0.613861   \nJoypur Hat                -0.709301             -0.665596   \nKhagrachhari              -0.633049             -0.634750   \nKhulna                    -0.635317             -0.608937   \nKishorganj                -0.666039             -0.629228   \nKushtia                   -0.672542             -0.628845   \nLaksham                   -0.628608             -0.613219   \nLakshmipur                -0.623378             -0.607634   \nLalmanirhat               -0.728457             -0.690412   \nMadaripur                 -0.635427             -0.607738   \nMaulavi Bazar             -0.671744             -0.643711   \nMymensingh                -0.699624             -0.646238   \nNagarpur                  -0.667689             -0.622632   \nNarail                    -0.646629             -0.615353   \nNarayanganj               -0.635964             -0.601233   \nNarsingdi                 -0.648345             -0.611824   \nNawabganj                 -0.677067             -0.643787   \nNetrakona                 -0.695182             -0.646242   \nPabna                     -0.673740             -0.630934   \nPalang                    -0.632762             -0.606235   \nPaltan                    -0.635345             -0.597266   \nPar Naogaon               -0.698773             -0.658201   \nPatiya                    -0.612416             -0.631336   \nPirojpur                  -0.627318             -0.609696   \nRaipur                    -0.621099             -0.604201   \nRajshahi                  -0.675053             -0.637281   \nRamganj                   -0.629244             -0.608280   \nRangpur                   -0.724201             -0.681880   \nSaidpur                   -0.719723             -0.678998   \nSandwip                   -0.621784             -0.624232   \nSarishabari               -0.704180             -0.652293   \nSatkania                  -0.607716             -0.633768   \nSatkhira                  -0.621517             -0.592880   \nShahzadpur                -0.684784             -0.633759   \nSherpur                   -0.713279             -0.659116   \nSirajganj                 -0.694807             -0.642332   \nSylhet                    -0.663904             -0.636325   \nTangail                   -0.679768             -0.628945   \nThakurgaon                -0.716587             -0.679472   \nTungi                     -0.645052             -0.603226   \nTungipara                 -0.633778             -0.610041   \n\n               Temperature [500 mb]  Precipitation Total  \\\nZone                                                       \nAzimpur                   -0.609757            -0.149949   \nBarisal                   -0.618267            -0.160908   \nBhairab Bazar             -0.637681            -0.157465   \nBhola                     -0.622454            -0.180501   \nBogra                     -0.665333            -0.173596   \nChittagong                -0.649914            -0.218847   \nComilla                   -0.633562            -0.150177   \nDhaka                     -0.608661            -0.149549   \nDinajpur                  -0.676741            -0.172370   \nFaridpur                  -0.623074            -0.142121   \nFeni                      -0.635230            -0.194701   \nHabiganj                  -0.649525            -0.166111   \nIshurdi                   -0.645176            -0.153903   \nJamalpur                  -0.660236            -0.189732   \nJessore                   -0.615230            -0.157423   \nJoypur Hat                -0.671313            -0.156715   \nKhagrachhari              -0.653132            -0.153725   \nKhulna                    -0.613975            -0.143203   \nKishorganj                -0.645334            -0.161016   \nKushtia                   -0.643124            -0.153955   \nLaksham                   -0.631483            -0.154927   \nLakshmipur                -0.624054            -0.167407   \nLalmanirhat               -0.674338            -0.232583   \nMadaripur                 -0.617968            -0.142695   \nMaulavi Bazar             -0.653485            -0.217077   \nMymensingh                -0.654616            -0.191521   \nNagarpur                  -0.635529            -0.159285   \nNarail                    -0.619488            -0.151056   \nNarayanganj               -0.614191            -0.152790   \nNarsingdi                 -0.628277            -0.149173   \nNawabganj                 -0.657187            -0.157060   \nNetrakona                 -0.656682            -0.211294   \nPabna                     -0.644623            -0.153333   \nPalang                    -0.616207            -0.141700   \nPaltan                    -0.608661            -0.149549   \nPar Naogaon               -0.667809            -0.179595   \nPatiya                    -0.654598            -0.220352   \nPirojpur                  -0.617323            -0.149741   \nRaipur                    -0.620203            -0.167009   \nRajshahi                  -0.652431            -0.156523   \nRamganj                   -0.624393            -0.157462   \nRangpur                   -0.674155            -0.218166   \nSaidpur                   -0.674805            -0.212352   \nSandwip                   -0.646338            -0.212143   \nSarishabari               -0.660395            -0.182624   \nSatkania                  -0.656984            -0.204071   \nSatkhira                  -0.590624            -0.142111   \nShahzadpur                -0.647801            -0.161014   \nSherpur                   -0.663751            -0.175243   \nSirajganj                 -0.654095            -0.162170   \nSylhet                    -0.642619            -0.242076   \nTangail                   -0.642467            -0.157794   \nThakurgaon                -0.671512            -0.196370   \nTungi                     -0.615524            -0.160075   \nTungipara                 -0.617795            -0.145966   \n\n               Precipitation Runoff  Relative Humidity [2 m]  ...  \\\nZone                                                          ...   \nAzimpur                   -0.084765                -0.111974  ...   \nBarisal                   -0.056393                -0.116435  ...   \nBhairab Bazar             -0.137661                -0.086068  ...   \nBhola                     -0.163914                -0.159230  ...   \nBogra                     -0.168873                -0.172884  ...   \nChittagong                -0.220924                -0.133193  ...   \nComilla                   -0.102679                -0.164412  ...   \nDhaka                     -0.084634                -0.112445  ...   \nDinajpur                  -0.151676                -0.210665  ...   \nFaridpur                  -0.082976                -0.173360  ...   \nFeni                      -0.210991                -0.261694  ...   \nHabiganj                  -0.084047                -0.149799  ...   \nIshurdi                   -0.120647                -0.095839  ...   \nJamalpur                  -0.189424                -0.144266  ...   \nJessore                   -0.062480                -0.123784  ...   \nJoypur Hat                -0.111870                -0.184603  ...   \nKhagrachhari              -0.062331                -0.070290  ...   \nKhulna                    -0.045183                -0.151541  ...   \nKishorganj                -0.149241                -0.099284  ...   \nKushtia                   -0.119929                -0.093347  ...   \nLaksham                   -0.061823                -0.146352  ...   \nLakshmipur                -0.110955                -0.177027  ...   \nLalmanirhat               -0.251194                -0.251298  ...   \nMadaripur                 -0.047234                -0.120376  ...   \nMaulavi Bazar             -0.302016                -0.180539  ...   \nMymensingh                -0.201509                -0.165582  ...   \nNagarpur                  -0.128970                -0.127515  ...   \nNarail                    -0.063258                -0.134000  ...   \nNarayanganj               -0.108996                -0.107024  ...   \nNarsingdi                 -0.096745                -0.150573  ...   \nNawabganj                 -0.059219                -0.075959  ...   \nNetrakona                 -0.239395                -0.154877  ...   \nPabna                     -0.120515                -0.097379  ...   \nPalang                    -0.047665                -0.122610  ...   \nPaltan                    -0.084634                -0.112445  ...   \nPar Naogaon               -0.097714                -0.209010  ...   \nPatiya                    -0.223504                -0.136095  ...   \nPirojpur                  -0.045414                -0.118800  ...   \nRaipur                    -0.110552                -0.175875  ...   \nRajshahi                  -0.063153                -0.133968  ...   \nRamganj                   -0.067641                -0.158065  ...   \nRangpur                   -0.240656                -0.217108  ...   \nSaidpur                   -0.236184                -0.221333  ...   \nSandwip                   -0.202998                -0.403986  ...   \nSarishabari               -0.185525                -0.124435  ...   \nSatkania                  -0.126482                -0.188203  ...   \nSatkhira                  -0.076924                -0.184399  ...   \nShahzadpur                -0.117013                -0.097781  ...   \nSherpur                   -0.158030                -0.175659  ...   \nSirajganj                 -0.131856                -0.112737  ...   \nSylhet                    -0.264320                -0.158331  ...   \nTangail                   -0.116304                -0.105089  ...   \nThakurgaon                -0.198780                -0.266117  ...   \nTungi                     -0.140575                -0.112983  ...   \nTungipara                 -0.054686                -0.124260  ...   \n\n               Cloud Cover Total  Cloud Cover High [high cld lay]  \\\nZone                                                                \nAzimpur                -0.387566                        -0.479758   \nBarisal                -0.395935                        -0.536954   \nBhairab Bazar          -0.350408                        -0.501949   \nBhola                  -0.416471                        -0.537768   \nBogra                  -0.403207                        -0.481336   \nChittagong             -0.452825                        -0.551512   \nComilla                -0.414759                        -0.516851   \nDhaka                  -0.386234                        -0.478414   \nDinajpur               -0.383603                        -0.452145   \nFaridpur               -0.403896                        -0.497148   \nFeni                   -0.425250                        -0.539037   \nHabiganj               -0.408733                        -0.522837   \nIshurdi                -0.355879                        -0.491863   \nJamalpur               -0.426322                        -0.489327   \nJessore                -0.412286                        -0.502012   \nJoypur Hat             -0.407830                        -0.474976   \nKhagrachhari           -0.380654                        -0.547995   \nKhulna                 -0.413740                        -0.528399   \nKishorganj             -0.375361                        -0.504890   \nKushtia                -0.356149                        -0.489560   \nLaksham                -0.410827                        -0.524452   \nLakshmipur             -0.408429                        -0.532092   \nLalmanirhat            -0.408084                        -0.471510   \nMadaripur              -0.400557                        -0.515758   \nMaulavi Bazar          -0.446832                        -0.530458   \nMymensingh             -0.425993                        -0.488382   \nNagarpur               -0.399097                        -0.494250   \nNarail                 -0.412757                        -0.509457   \nNarayanganj            -0.373366                        -0.487682   \nNarsingdi              -0.396026                        -0.487920   \nNawabganj              -0.371228                        -0.472341   \nNetrakona              -0.441393                        -0.495975   \nPabna                  -0.355060                        -0.488431   \nPalang                 -0.396265                        -0.512120   \nPaltan                 -0.386234                        -0.478414   \nPar Naogaon            -0.400702                        -0.472257   \nPatiya                 -0.454417                        -0.555224   \nPirojpur               -0.394319                        -0.540746   \nRaipur                 -0.406171                        -0.528932   \nRajshahi               -0.378619                        -0.485535   \nRamganj                -0.407549                        -0.520198   \nRangpur                -0.404226                        -0.470047   \nSaidpur                -0.393231                        -0.458313   \nSandwip                -0.450806                        -0.549770   \nSarishabari            -0.391278                        -0.481752   \nSatkania               -0.511184                        -0.556358   \nSatkhira               -0.416056                        -0.517673   \nShahzadpur             -0.362843                        -0.491998   \nSherpur                -0.434633                        -0.480164   \nSirajganj              -0.367724                        -0.486983   \nSylhet                 -0.485208                        -0.511129   \nTangail                -0.402070                        -0.491421   \nThakurgaon             -0.392405                        -0.439007   \nTungi                  -0.392522                        -0.476562   \nTungipara              -0.402535                        -0.530633   \n\n               Cloud Cover Medium [mid cld lay]  \\\nZone                                              \nAzimpur                               -0.308617   \nBarisal                               -0.349847   \nBhairab Bazar                         -0.356953   \nBhola                                 -0.356025   \nBogra                                 -0.370738   \nChittagong                            -0.436780   \nComilla                               -0.359933   \nDhaka                                 -0.307212   \nDinajpur                              -0.363836   \nFaridpur                              -0.311523   \nFeni                                  -0.378627   \nHabiganj                              -0.386666   \nIshurdi                               -0.321566   \nJamalpur                              -0.379796   \nJessore                               -0.328662   \nJoypur Hat                            -0.381728   \nKhagrachhari                          -0.393985   \nKhulna                                -0.340328   \nKishorganj                            -0.372596   \nKushtia                               -0.320623   \nLaksham                               -0.365616   \nLakshmipur                            -0.362044   \nLalmanirhat                           -0.416213   \nMadaripur                             -0.327333   \nMaulavi Bazar                         -0.421997   \nMymensingh                            -0.384856   \nNagarpur                              -0.327680   \nNarail                                -0.324618   \nNarayanganj                           -0.318126   \nNarsingdi                             -0.340270   \nNawabganj                             -0.345289   \nNetrakona                             -0.403878   \nPabna                                 -0.317299   \nPalang                                -0.322576   \nPaltan                                -0.307212   \nPar Naogaon                           -0.357366   \nPatiya                                -0.439118   \nPirojpur                              -0.350901   \nRaipur                                -0.359381   \nRajshahi                              -0.331771   \nRamganj                               -0.351965   \nRangpur                               -0.392387   \nSaidpur                               -0.376135   \nSandwip                               -0.383125   \nSarishabari                           -0.369541   \nSatkania                              -0.454998   \nSatkhira                              -0.334422   \nShahzadpur                            -0.345023   \nSherpur                               -0.383023   \nSirajganj                             -0.354882   \nSylhet                                -0.437641   \nTangail                               -0.345722   \nThakurgaon                            -0.367677   \nTungi                                 -0.318529   \nTungipara                             -0.342257   \n\n               Cloud Cover Low [low cld lay]  Sunshine Duration  \\\nZone                                                              \nAzimpur                            -0.296123          -0.012257   \nBarisal                            -0.270476          -0.013490   \nBhairab Bazar                      -0.246688          -0.017733   \nBhola                              -0.295932          -0.023093   \nBogra                              -0.286031          -0.003969   \nChittagong                         -0.325564           0.008644   \nComilla                            -0.316617          -0.012724   \nDhaka                              -0.295440          -0.012090   \nDinajpur                           -0.270025          -0.006088   \nFaridpur                           -0.294210          -0.018021   \nFeni                               -0.324539          -0.015538   \nHabiganj                           -0.279527          -0.014964   \nIshurdi                            -0.228531          -0.028065   \nJamalpur                           -0.321913          -0.001170   \nJessore                            -0.283648          -0.024207   \nJoypur Hat                         -0.283487          -0.005145   \nKhagrachhari                       -0.271131          -0.003646   \nKhulna                             -0.281624          -0.016491   \nKishorganj                         -0.266141          -0.012003   \nKushtia                            -0.228997          -0.028015   \nLaksham                            -0.301107          -0.012979   \nLakshmipur                         -0.291937          -0.019825   \nLalmanirhat                        -0.271417          -0.001162   \nMadaripur                          -0.285662          -0.021830   \nMaulavi Bazar                      -0.340926           0.010825   \nMymensingh                         -0.323308           0.006497   \nNagarpur                           -0.299452          -0.009909   \nNarail                             -0.286661          -0.020904   \nNarayanganj                        -0.273393          -0.015683   \nNarsingdi                          -0.300813          -0.005592   \nNawabganj                          -0.240876          -0.020803   \nNetrakona                          -0.344906           0.016636   \nPabna                              -0.230143          -0.027645   \nPalang                             -0.283997          -0.021901   \nPaltan                             -0.295440          -0.012090   \nPar Naogaon                        -0.281326          -0.008644   \nPatiya                             -0.326782           0.009468   \nPirojpur                           -0.257440          -0.019829   \nRaipur                             -0.290929          -0.020350   \nRajshahi                           -0.253993          -0.019334   \nRamganj                            -0.295640          -0.015708   \nRangpur                            -0.268983          -0.008500   \nSaidpur                            -0.265876           0.001859   \nSandwip                            -0.347870          -0.005230   \nSarishabari                        -0.277410          -0.009281   \nSatkania                           -0.397062           0.024174   \nSatkhira                           -0.289676          -0.021139   \nShahzadpur                         -0.244735          -0.020926   \nSherpur                            -0.327851          -0.005177   \nSirajganj                          -0.250050          -0.016527   \nSylhet                             -0.367260           0.027584   \nTangail                            -0.290857          -0.008192   \nThakurgaon                         -0.273133           0.001488   \nTungi                              -0.300922          -0.002397   \nTungipara                          -0.266564          -0.016330   \n\n               Shortwave Radiation  Longwave Radiation  UV Radiation  \\\nZone                                                                   \nAzimpur                  -0.102616           -0.742782     -0.122213   \nBarisal                  -0.102529           -0.796368     -0.128221   \nBhairab Bazar            -0.104717           -0.765429     -0.125722   \nBhola                    -0.103895           -0.800472     -0.129806   \nBogra                    -0.111828           -0.784616     -0.135170   \nChittagong               -0.104247           -0.820357     -0.128501   \nComilla                  -0.103395           -0.765701     -0.124377   \nDhaka                    -0.102096           -0.740533     -0.121638   \nDinajpur                 -0.117840           -0.758961     -0.138774   \nFaridpur                 -0.112640           -0.774053     -0.133508   \nFeni                     -0.104438           -0.787268     -0.127278   \nHabiganj                 -0.105249           -0.772459     -0.129328   \nIshurdi                  -0.121819           -0.789180     -0.143454   \nJamalpur                 -0.105530           -0.779233     -0.127429   \nJessore                  -0.118432           -0.796240     -0.139012   \nJoypur Hat               -0.115712           -0.781609     -0.137141   \nKhagrachhari             -0.105345           -0.788882     -0.125815   \nKhulna                   -0.106606           -0.798834     -0.130801   \nKishorganj               -0.102680           -0.771230     -0.124669   \nKushtia                  -0.120983           -0.788945     -0.142521   \nLaksham                  -0.103628           -0.775206     -0.126604   \nLakshmipur               -0.105162           -0.787558     -0.128154   \nLalmanirhat              -0.109745           -0.757368     -0.129909   \nMadaripur                -0.107457           -0.782228     -0.130459   \nMaulavi Bazar            -0.094456           -0.771442     -0.120427   \nMymensingh               -0.099857           -0.766976     -0.120796   \nNagarpur                 -0.109567           -0.774215     -0.130800   \nNarail                   -0.113902           -0.795210     -0.136236   \nNarayanganj              -0.101329           -0.751066     -0.121915   \nNarsingdi                -0.102306           -0.754155     -0.121345   \nNawabganj                -0.128484           -0.785150     -0.149264   \nNetrakona                -0.095985           -0.769241     -0.119415   \nPabna                    -0.120426           -0.786689     -0.141932   \nPalang                   -0.106350           -0.775144     -0.129164   \nPaltan                   -0.102096           -0.740533     -0.121638   \nPar Naogaon              -0.119164           -0.783403     -0.141604   \nPatiya                   -0.103641           -0.821463     -0.127996   \nPirojpur                 -0.099760           -0.800658     -0.126114   \nRaipur                   -0.105229           -0.783804     -0.128085   \nRajshahi                 -0.126594           -0.785414     -0.147447   \nRamganj                  -0.103612           -0.776522     -0.126519   \nRangpur                  -0.112448           -0.766324     -0.131394   \nSaidpur                  -0.114516           -0.758882     -0.134910   \nSandwip                  -0.108375           -0.801726     -0.132606   \nSarishabari              -0.105518           -0.777722     -0.128673   \nSatkania                 -0.089165           -0.812258     -0.112836   \nSatkhira                 -0.106301           -0.801089     -0.130780   \nShahzadpur               -0.110939           -0.782887     -0.134425   \nSherpur                  -0.107513           -0.776804     -0.129645   \nSirajganj                -0.107309           -0.780231     -0.131208   \nSylhet                   -0.086670           -0.752880     -0.110573   \nTangail                  -0.105821           -0.771694     -0.127325   \nThakurgaon               -0.113367           -0.743687     -0.133973   \nTungi                    -0.098890           -0.737279     -0.117900   \nTungipara                -0.103807           -0.790593     -0.128291   \n\n               Mean Sea Level Pressure [MSL]  Evapotranspiration  \nZone                                                              \nAzimpur                             0.624692           -0.208599  \nBarisal                             0.672346           -0.221158  \nBhairab Bazar                       0.630627           -0.229194  \nBhola                               0.669059           -0.252690  \nBogra                               0.677450           -0.237643  \nChittagong                          0.672603           -0.249439  \nComilla                             0.640775           -0.222080  \nDhaka                               0.622795           -0.207757  \nDinajpur                            0.673033           -0.241405  \nFaridpur                            0.666445           -0.221247  \nFeni                                0.652560           -0.253349  \nHabiganj                            0.626200           -0.233204  \nIshurdi                             0.693777           -0.239924  \nJamalpur                            0.658937           -0.229315  \nJessore                             0.692697           -0.227735  \nJoypur Hat                          0.682485           -0.235910  \nKhagrachhari                        0.645840           -0.192877  \nKhulna                              0.685805           -0.219199  \nKishorganj                          0.632962           -0.220991  \nKushtia                             0.692390           -0.238893  \nLaksham                             0.647749           -0.207502  \nLakshmipur                          0.658351           -0.218145  \nLalmanirhat                         0.653537           -0.265510  \nMadaripur                           0.659750           -0.218369  \nMaulavi Bazar                       0.616875           -0.224895  \nMymensingh                          0.642862           -0.224270  \nNagarpur                            0.657597           -0.219808  \nNarail                              0.687272           -0.223327  \nNarayanganj                         0.625790           -0.227050  \nNarsingdi                           0.626711           -0.218854  \nNawabganj                           0.704279           -0.269769  \nNetrakona                           0.634752           -0.213756  \nPabna                               0.690017           -0.237683  \nPalang                              0.653976           -0.216149  \nPaltan                              0.622795           -0.207757  \nPar Naogaon                         0.690566           -0.247772  \nPatiya                              0.674735           -0.250695  \nPirojpur                            0.682351           -0.214710  \nRaipur                              0.654716           -0.217380  \nRajshahi                            0.701978           -0.254691  \nRamganj                             0.650205           -0.216589  \nRangpur                             0.662022           -0.244293  \nSaidpur                             0.666604           -0.241838  \nSandwip                             0.669280           -0.291374  \nSarishabari                         0.663232           -0.246548  \nSatkania                            0.672467           -0.220839  \nSatkhira                            0.686212           -0.267918  \nShahzadpur                          0.671586           -0.248657  \nSherpur                             0.654928           -0.230666  \nSirajganj                           0.666412           -0.249994  \nSylhet                              0.599207           -0.190893  \nTangail                             0.656040           -0.217150  \nThakurgaon                          0.653749           -0.264951  \nTungi                               0.619779           -0.205232  \nTungipara                           0.677935           -0.197662  \n\n[55 rows x 37 columns]",
      "text/html": "<div>\n<style scoped>\n    .dataframe tbody tr th:only-of-type {\n        vertical-align: middle;\n    }\n\n    .dataframe tbody tr th {\n        vertical-align: top;\n    }\n\n    .dataframe thead th {\n        text-align: right;\n    }\n</style>\n<table border=\"1\" class=\"dataframe\">\n  <thead>\n    <tr style=\"text-align: right;\">\n      <th></th>\n      <th>Temperature [2 m elevation corrected]</th>\n      <th>Growing Degree Days [2 m elevation corrected]</th>\n      <th>Temperature [900 mb]</th>\n      <th>Temperature [850 mb]</th>\n      <th>Temperature [800 mb]</th>\n      <th>Temperature [700 mb]</th>\n      <th>Temperature [500 mb]</th>\n      <th>Precipitation Total</th>\n      <th>Precipitation Runoff</th>\n      <th>Relative Humidity [2 m]</th>\n      <th>...</th>\n      <th>Cloud Cover Total</th>\n      <th>Cloud Cover High [high cld lay]</th>\n      <th>Cloud Cover Medium [mid cld lay]</th>\n      <th>Cloud Cover Low [low cld lay]</th>\n      <th>Sunshine Duration</th>\n      <th>Shortwave Radiation</th>\n      <th>Longwave Radiation</th>\n      <th>UV Radiation</th>\n      <th>Mean Sea Level Pressure [MSL]</th>\n      <th>Evapotranspiration</th>\n    </tr>\n    <tr>\n      <th>Zone</th>\n      <th></th>\n      <th></th>\n      <th></th>\n      <th></th>\n      <th></th>\n      <th></th>\n      <th></th>\n      <th></th>\n      <th></th>\n      <th></th>\n      <th></th>\n      <th></th>\n      <th></th>\n      <th></th>\n      <th></th>\n      <th></th>\n      <th></th>\n      <th></th>\n      <th></th>\n      <th></th>\n      <th></th>\n    </tr>\n  </thead>\n  <tbody>\n    <tr>\n      <th>Azimpur</th>\n      <td>-0.640512</td>\n      <td>-0.667192</td>\n      <td>-0.675460</td>\n      <td>-0.656170</td>\n      <td>-0.636497</td>\n      <td>-0.598246</td>\n      <td>-0.609757</td>\n      <td>-0.149949</td>\n      <td>-0.084765</td>\n      <td>-0.111974</td>\n      <td>...</td>\n      <td>-0.387566</td>\n      <td>-0.479758</td>\n      <td>-0.308617</td>\n      <td>-0.296123</td>\n      <td>-0.012257</td>\n      <td>-0.102616</td>\n      <td>-0.742782</td>\n      <td>-0.122213</td>\n      <td>0.624692</td>\n      <td>-0.208599</td>\n    </tr>\n    <tr>\n      <th>Barisal</th>\n      <td>-0.674920</td>\n      <td>-0.711973</td>\n      <td>-0.686827</td>\n      <td>-0.633081</td>\n      <td>-0.622778</td>\n      <td>-0.607077</td>\n      <td>-0.618267</td>\n      <td>-0.160908</td>\n      <td>-0.056393</td>\n      <td>-0.116435</td>\n      <td>...</td>\n      <td>-0.395935</td>\n      <td>-0.536954</td>\n      <td>-0.349847</td>\n      <td>-0.270476</td>\n      <td>-0.013490</td>\n      <td>-0.102529</td>\n      <td>-0.796368</td>\n      <td>-0.128221</td>\n      <td>0.672346</td>\n      <td>-0.221158</td>\n    </tr>\n    <tr>\n      <th>Bhairab Bazar</th>\n      <td>-0.634829</td>\n      <td>-0.659551</td>\n      <td>-0.687388</td>\n      <td>-0.673114</td>\n      <td>-0.651294</td>\n      <td>-0.620938</td>\n      <td>-0.637681</td>\n      <td>-0.157465</td>\n      <td>-0.137661</td>\n      <td>-0.086068</td>\n      <td>...</td>\n      <td>-0.350408</td>\n      <td>-0.501949</td>\n      <td>-0.356953</td>\n      <td>-0.246688</td>\n      <td>-0.017733</td>\n      <td>-0.104717</td>\n      <td>-0.765429</td>\n      <td>-0.125722</td>\n      <td>0.630627</td>\n      <td>-0.229194</td>\n    </tr>\n    <tr>\n      <th>Bhola</th>\n      <td>-0.690718</td>\n      <td>-0.721196</td>\n      <td>-0.685046</td>\n      <td>-0.626783</td>\n      <td>-0.621544</td>\n      <td>-0.607943</td>\n      <td>-0.622454</td>\n      <td>-0.180501</td>\n      <td>-0.163914</td>\n      <td>-0.159230</td>\n      <td>...</td>\n      <td>-0.416471</td>\n      <td>-0.537768</td>\n      <td>-0.356025</td>\n      <td>-0.295932</td>\n      <td>-0.023093</td>\n      <td>-0.103895</td>\n      <td>-0.800472</td>\n      <td>-0.129806</td>\n      <td>0.669059</td>\n      <td>-0.252690</td>\n    </tr>\n    <tr>\n      <th>Bogra</th>\n      <td>-0.678151</td>\n      <td>-0.696047</td>\n      <td>-0.713993</td>\n      <td>-0.722542</td>\n      <td>-0.703550</td>\n      <td>-0.656186</td>\n      <td>-0.665333</td>\n      <td>-0.173596</td>\n      <td>-0.168873</td>\n      <td>-0.172884</td>\n      <td>...</td>\n      <td>-0.403207</td>\n      <td>-0.481336</td>\n      <td>-0.370738</td>\n      <td>-0.286031</td>\n      <td>-0.003969</td>\n      <td>-0.111828</td>\n      <td>-0.784616</td>\n      <td>-0.135170</td>\n      <td>0.677450</td>\n      <td>-0.237643</td>\n    </tr>\n    <tr>\n      <th>Chittagong</th>\n      <td>-0.659235</td>\n      <td>-0.696882</td>\n      <td>-0.629961</td>\n      <td>-0.593458</td>\n      <td>-0.611636</td>\n      <td>-0.626944</td>\n      <td>-0.649914</td>\n      <td>-0.218847</td>\n      <td>-0.220924</td>\n      <td>-0.133193</td>\n      <td>...</td>\n      <td>-0.452825</td>\n      <td>-0.551512</td>\n      <td>-0.436780</td>\n      <td>-0.325564</td>\n      <td>0.008644</td>\n      <td>-0.104247</td>\n      <td>-0.820357</td>\n      <td>-0.128501</td>\n      <td>0.672603</td>\n      <td>-0.249439</td>\n    </tr>\n    <tr>\n      <th>Comilla</th>\n      <td>-0.628510</td>\n      <td>-0.663236</td>\n      <td>-0.681593</td>\n      <td>-0.654395</td>\n      <td>-0.634576</td>\n      <td>-0.615657</td>\n      <td>-0.633562</td>\n      <td>-0.150177</td>\n      <td>-0.102679</td>\n      <td>-0.164412</td>\n      <td>...</td>\n      <td>-0.414759</td>\n      <td>-0.516851</td>\n      <td>-0.359933</td>\n      <td>-0.316617</td>\n      <td>-0.012724</td>\n      <td>-0.103395</td>\n      <td>-0.765701</td>\n      <td>-0.124377</td>\n      <td>0.640775</td>\n      <td>-0.222080</td>\n    </tr>\n    <tr>\n      <th>Dhaka</th>\n      <td>-0.638423</td>\n      <td>-0.664650</td>\n      <td>-0.673687</td>\n      <td>-0.654784</td>\n      <td>-0.635345</td>\n      <td>-0.597266</td>\n      <td>-0.608661</td>\n      <td>-0.149549</td>\n      <td>-0.084634</td>\n      <td>-0.112445</td>\n      <td>...</td>\n      <td>-0.386234</td>\n      <td>-0.478414</td>\n      <td>-0.307212</td>\n      <td>-0.295440</td>\n      <td>-0.012090</td>\n      <td>-0.102096</td>\n      <td>-0.740533</td>\n      <td>-0.121638</td>\n      <td>0.622795</td>\n      <td>-0.207757</td>\n    </tr>\n    <tr>\n      <th>Dinajpur</th>\n      <td>-0.678392</td>\n      <td>-0.693655</td>\n      <td>-0.709574</td>\n      <td>-0.728980</td>\n      <td>-0.718586</td>\n      <td>-0.678464</td>\n      <td>-0.676741</td>\n      <td>-0.172370</td>\n      <td>-0.151676</td>\n      <td>-0.210665</td>\n      <td>...</td>\n      <td>-0.383603</td>\n      <td>-0.452145</td>\n      <td>-0.363836</td>\n      <td>-0.270025</td>\n      <td>-0.006088</td>\n      <td>-0.117840</td>\n      <td>-0.758961</td>\n      <td>-0.138774</td>\n      <td>0.673033</td>\n      <td>-0.241405</td>\n    </tr>\n    <tr>\n      <th>Faridpur</th>\n      <td>-0.674850</td>\n      <td>-0.704242</td>\n      <td>-0.696768</td>\n      <td>-0.671548</td>\n      <td>-0.649970</td>\n      <td>-0.614828</td>\n      <td>-0.623074</td>\n      <td>-0.142121</td>\n      <td>-0.082976</td>\n      <td>-0.173360</td>\n      <td>...</td>\n      <td>-0.403896</td>\n      <td>-0.497148</td>\n      <td>-0.311523</td>\n      <td>-0.294210</td>\n      <td>-0.018021</td>\n      <td>-0.112640</td>\n      <td>-0.774053</td>\n      <td>-0.133508</td>\n      <td>0.666445</td>\n      <td>-0.221247</td>\n    </tr>\n    <tr>\n      <th>Feni</th>\n      <td>-0.633582</td>\n      <td>-0.666760</td>\n      <td>-0.668848</td>\n      <td>-0.622765</td>\n      <td>-0.618392</td>\n      <td>-0.616317</td>\n      <td>-0.635230</td>\n      <td>-0.194701</td>\n      <td>-0.210991</td>\n      <td>-0.261694</td>\n      <td>...</td>\n      <td>-0.425250</td>\n      <td>-0.539037</td>\n      <td>-0.378627</td>\n      <td>-0.324539</td>\n      <td>-0.015538</td>\n      <td>-0.104438</td>\n      <td>-0.787268</td>\n      <td>-0.127278</td>\n      <td>0.652560</td>\n      <td>-0.253349</td>\n    </tr>\n    <tr>\n      <th>Habiganj</th>\n      <td>-0.627419</td>\n      <td>-0.649437</td>\n      <td>-0.678805</td>\n      <td>-0.683824</td>\n      <td>-0.661825</td>\n      <td>-0.635320</td>\n      <td>-0.649525</td>\n      <td>-0.166111</td>\n      <td>-0.084047</td>\n      <td>-0.149799</td>\n      <td>...</td>\n      <td>-0.408733</td>\n      <td>-0.522837</td>\n      <td>-0.386666</td>\n      <td>-0.279527</td>\n      <td>-0.014964</td>\n      <td>-0.105249</td>\n      <td>-0.772459</td>\n      <td>-0.129328</td>\n      <td>0.626200</td>\n      <td>-0.233204</td>\n    </tr>\n    <tr>\n      <th>Ishurdi</th>\n      <td>-0.698271</td>\n      <td>-0.727124</td>\n      <td>-0.707309</td>\n      <td>-0.700316</td>\n      <td>-0.672690</td>\n      <td>-0.630715</td>\n      <td>-0.645176</td>\n      <td>-0.153903</td>\n      <td>-0.120647</td>\n      <td>-0.095839</td>\n      <td>...</td>\n      <td>-0.355879</td>\n      <td>-0.491863</td>\n      <td>-0.321566</td>\n      <td>-0.228531</td>\n      <td>-0.028065</td>\n      <td>-0.121819</td>\n      <td>-0.789180</td>\n      <td>-0.143454</td>\n      <td>0.693777</td>\n      <td>-0.239924</td>\n    </tr>\n    <tr>\n      <th>Jamalpur</th>\n      <td>-0.661231</td>\n      <td>-0.679603</td>\n      <td>-0.704164</td>\n      <td>-0.717242</td>\n      <td>-0.705629</td>\n      <td>-0.651135</td>\n      <td>-0.660236</td>\n      <td>-0.189732</td>\n      <td>-0.189424</td>\n      <td>-0.144266</td>\n      <td>...</td>\n      <td>-0.426322</td>\n      <td>-0.489327</td>\n      <td>-0.379796</td>\n      <td>-0.321913</td>\n      <td>-0.001170</td>\n      <td>-0.105530</td>\n      <td>-0.779233</td>\n      <td>-0.127429</td>\n      <td>0.658937</td>\n      <td>-0.229315</td>\n    </tr>\n    <tr>\n      <th>Jessore</th>\n      <td>-0.695815</td>\n      <td>-0.731551</td>\n      <td>-0.702448</td>\n      <td>-0.667830</td>\n      <td>-0.644862</td>\n      <td>-0.613861</td>\n      <td>-0.615230</td>\n      <td>-0.157423</td>\n      <td>-0.062480</td>\n      <td>-0.123784</td>\n      <td>...</td>\n      <td>-0.412286</td>\n      <td>-0.502012</td>\n      <td>-0.328662</td>\n      <td>-0.283648</td>\n      <td>-0.024207</td>\n      <td>-0.118432</td>\n      <td>-0.796240</td>\n      <td>-0.139012</td>\n      <td>0.692697</td>\n      <td>-0.227735</td>\n    </tr>\n    <tr>\n      <th>Joypur Hat</th>\n      <td>-0.687939</td>\n      <td>-0.704022</td>\n      <td>-0.715515</td>\n      <td>-0.727349</td>\n      <td>-0.709301</td>\n      <td>-0.665596</td>\n      <td>-0.671313</td>\n      <td>-0.156715</td>\n      <td>-0.111870</td>\n      <td>-0.184603</td>\n      <td>...</td>\n      <td>-0.407830</td>\n      <td>-0.474976</td>\n      <td>-0.381728</td>\n      <td>-0.283487</td>\n      <td>-0.005145</td>\n      <td>-0.115712</td>\n      <td>-0.781609</td>\n      <td>-0.137141</td>\n      <td>0.682485</td>\n      <td>-0.235910</td>\n    </tr>\n    <tr>\n      <th>Khagrachhari</th>\n      <td>-0.616362</td>\n      <td>-0.649227</td>\n      <td>-0.654687</td>\n      <td>-0.648800</td>\n      <td>-0.633049</td>\n      <td>-0.634750</td>\n      <td>-0.653132</td>\n      <td>-0.153725</td>\n      <td>-0.062331</td>\n      <td>-0.070290</td>\n      <td>...</td>\n      <td>-0.380654</td>\n      <td>-0.547995</td>\n      <td>-0.393985</td>\n      <td>-0.271131</td>\n      <td>-0.003646</td>\n      <td>-0.105345</td>\n      <td>-0.788882</td>\n      <td>-0.125815</td>\n      <td>0.645840</td>\n      <td>-0.192877</td>\n    </tr>\n    <tr>\n      <th>Khulna</th>\n      <td>-0.685832</td>\n      <td>-0.720765</td>\n      <td>-0.704700</td>\n      <td>-0.655602</td>\n      <td>-0.635317</td>\n      <td>-0.608937</td>\n      <td>-0.613975</td>\n      <td>-0.143203</td>\n      <td>-0.045183</td>\n      <td>-0.151541</td>\n      <td>...</td>\n      <td>-0.413740</td>\n      <td>-0.528399</td>\n      <td>-0.340328</td>\n      <td>-0.281624</td>\n      <td>-0.016491</td>\n      <td>-0.106606</td>\n      <td>-0.798834</td>\n      <td>-0.130801</td>\n      <td>0.685805</td>\n      <td>-0.219199</td>\n    </tr>\n    <tr>\n      <th>Kishorganj</th>\n      <td>-0.644828</td>\n      <td>-0.665410</td>\n      <td>-0.691444</td>\n      <td>-0.687672</td>\n      <td>-0.666039</td>\n      <td>-0.629228</td>\n      <td>-0.645334</td>\n      <td>-0.161016</td>\n      <td>-0.149241</td>\n      <td>-0.099284</td>\n      <td>...</td>\n      <td>-0.375361</td>\n      <td>-0.504890</td>\n      <td>-0.372596</td>\n      <td>-0.266141</td>\n      <td>-0.012003</td>\n      <td>-0.102680</td>\n      <td>-0.771230</td>\n      <td>-0.124669</td>\n      <td>0.632962</td>\n      <td>-0.220991</td>\n    </tr>\n    <tr>\n      <th>Kushtia</th>\n      <td>-0.699077</td>\n      <td>-0.728069</td>\n      <td>-0.708409</td>\n      <td>-0.700885</td>\n      <td>-0.672542</td>\n      <td>-0.628845</td>\n      <td>-0.643124</td>\n      <td>-0.153955</td>\n      <td>-0.119929</td>\n      <td>-0.093347</td>\n      <td>...</td>\n      <td>-0.356149</td>\n      <td>-0.489560</td>\n      <td>-0.320623</td>\n      <td>-0.228997</td>\n      <td>-0.028015</td>\n      <td>-0.120983</td>\n      <td>-0.788945</td>\n      <td>-0.142521</td>\n      <td>0.692390</td>\n      <td>-0.238893</td>\n    </tr>\n    <tr>\n      <th>Laksham</th>\n      <td>-0.639129</td>\n      <td>-0.673930</td>\n      <td>-0.680276</td>\n      <td>-0.642418</td>\n      <td>-0.628608</td>\n      <td>-0.613219</td>\n      <td>-0.631483</td>\n      <td>-0.154927</td>\n      <td>-0.061823</td>\n      <td>-0.146352</td>\n      <td>...</td>\n      <td>-0.410827</td>\n      <td>-0.524452</td>\n      <td>-0.365616</td>\n      <td>-0.301107</td>\n      <td>-0.012979</td>\n      <td>-0.103628</td>\n      <td>-0.775206</td>\n      <td>-0.126604</td>\n      <td>0.647749</td>\n      <td>-0.207502</td>\n    </tr>\n    <tr>\n      <th>Lakshmipur</th>\n      <td>-0.663872</td>\n      <td>-0.691728</td>\n      <td>-0.683100</td>\n      <td>-0.631259</td>\n      <td>-0.623378</td>\n      <td>-0.607634</td>\n      <td>-0.624054</td>\n      <td>-0.167407</td>\n      <td>-0.110955</td>\n      <td>-0.177027</td>\n      <td>...</td>\n      <td>-0.408429</td>\n      <td>-0.532092</td>\n      <td>-0.362044</td>\n      <td>-0.291937</td>\n      <td>-0.019825</td>\n      <td>-0.105162</td>\n      <td>-0.787558</td>\n      <td>-0.128154</td>\n      <td>0.658351</td>\n      <td>-0.218145</td>\n    </tr>\n    <tr>\n      <th>Lalmanirhat</th>\n      <td>-0.645258</td>\n      <td>-0.660147</td>\n      <td>-0.700787</td>\n      <td>-0.732524</td>\n      <td>-0.728457</td>\n      <td>-0.690412</td>\n      <td>-0.674338</td>\n      <td>-0.232583</td>\n      <td>-0.251194</td>\n      <td>-0.251298</td>\n      <td>...</td>\n      <td>-0.408084</td>\n      <td>-0.471510</td>\n      <td>-0.416213</td>\n      <td>-0.271417</td>\n      <td>-0.001162</td>\n      <td>-0.109745</td>\n      <td>-0.757368</td>\n      <td>-0.129909</td>\n      <td>0.653537</td>\n      <td>-0.265510</td>\n    </tr>\n    <tr>\n      <th>Madaripur</th>\n      <td>-0.674562</td>\n      <td>-0.705172</td>\n      <td>-0.693359</td>\n      <td>-0.656348</td>\n      <td>-0.635427</td>\n      <td>-0.607738</td>\n      <td>-0.617968</td>\n      <td>-0.142695</td>\n      <td>-0.047234</td>\n      <td>-0.120376</td>\n      <td>...</td>\n      <td>-0.400557</td>\n      <td>-0.515758</td>\n      <td>-0.327333</td>\n      <td>-0.285662</td>\n      <td>-0.021830</td>\n      <td>-0.107457</td>\n      <td>-0.782228</td>\n      <td>-0.130459</td>\n      <td>0.659750</td>\n      <td>-0.218369</td>\n    </tr>\n    <tr>\n      <th>Maulavi Bazar</th>\n      <td>-0.624660</td>\n      <td>-0.646388</td>\n      <td>-0.664265</td>\n      <td>-0.684994</td>\n      <td>-0.671744</td>\n      <td>-0.643711</td>\n      <td>-0.653485</td>\n      <td>-0.217077</td>\n      <td>-0.302016</td>\n      <td>-0.180539</td>\n      <td>...</td>\n      <td>-0.446832</td>\n      <td>-0.530458</td>\n      <td>-0.421997</td>\n      <td>-0.340926</td>\n      <td>0.010825</td>\n      <td>-0.094456</td>\n      <td>-0.771442</td>\n      <td>-0.120427</td>\n      <td>0.616875</td>\n      <td>-0.224895</td>\n    </tr>\n    <tr>\n      <th>Mymensingh</th>\n      <td>-0.641946</td>\n      <td>-0.660440</td>\n      <td>-0.691641</td>\n      <td>-0.710170</td>\n      <td>-0.699624</td>\n      <td>-0.646238</td>\n      <td>-0.654616</td>\n      <td>-0.191521</td>\n      <td>-0.201509</td>\n      <td>-0.165582</td>\n      <td>...</td>\n      <td>-0.425993</td>\n      <td>-0.488382</td>\n      <td>-0.384856</td>\n      <td>-0.323308</td>\n      <td>0.006497</td>\n      <td>-0.099857</td>\n      <td>-0.766976</td>\n      <td>-0.120796</td>\n      <td>0.642862</td>\n      <td>-0.224270</td>\n    </tr>\n    <tr>\n      <th>Nagarpur</th>\n      <td>-0.668227</td>\n      <td>-0.692608</td>\n      <td>-0.701620</td>\n      <td>-0.688380</td>\n      <td>-0.667689</td>\n      <td>-0.622632</td>\n      <td>-0.635529</td>\n      <td>-0.159285</td>\n      <td>-0.128970</td>\n      <td>-0.127515</td>\n      <td>...</td>\n      <td>-0.399097</td>\n      <td>-0.494250</td>\n      <td>-0.327680</td>\n      <td>-0.299452</td>\n      <td>-0.009909</td>\n      <td>-0.109567</td>\n      <td>-0.774215</td>\n      <td>-0.130800</td>\n      <td>0.657597</td>\n      <td>-0.219808</td>\n    </tr>\n    <tr>\n      <th>Narail</th>\n      <td>-0.694619</td>\n      <td>-0.727678</td>\n      <td>-0.706221</td>\n      <td>-0.669710</td>\n      <td>-0.646629</td>\n      <td>-0.615353</td>\n      <td>-0.619488</td>\n      <td>-0.151056</td>\n      <td>-0.063258</td>\n      <td>-0.134000</td>\n      <td>...</td>\n      <td>-0.412757</td>\n      <td>-0.509457</td>\n      <td>-0.324618</td>\n      <td>-0.286661</td>\n      <td>-0.020904</td>\n      <td>-0.113902</td>\n      <td>-0.795210</td>\n      <td>-0.136236</td>\n      <td>0.687272</td>\n      <td>-0.223327</td>\n    </tr>\n    <tr>\n      <th>Narayanganj</th>\n      <td>-0.633437</td>\n      <td>-0.660501</td>\n      <td>-0.679947</td>\n      <td>-0.657779</td>\n      <td>-0.635964</td>\n      <td>-0.601233</td>\n      <td>-0.614191</td>\n      <td>-0.152790</td>\n      <td>-0.108996</td>\n      <td>-0.107024</td>\n      <td>...</td>\n      <td>-0.373366</td>\n      <td>-0.487682</td>\n      <td>-0.318126</td>\n      <td>-0.273393</td>\n      <td>-0.015683</td>\n      <td>-0.101329</td>\n      <td>-0.751066</td>\n      <td>-0.121915</td>\n      <td>0.625790</td>\n      <td>-0.227050</td>\n    </tr>\n    <tr>\n      <th>Narsingdi</th>\n      <td>-0.628423</td>\n      <td>-0.654619</td>\n      <td>-0.683108</td>\n      <td>-0.669983</td>\n      <td>-0.648345</td>\n      <td>-0.611824</td>\n      <td>-0.628277</td>\n      <td>-0.149173</td>\n      <td>-0.096745</td>\n      <td>-0.150573</td>\n      <td>...</td>\n      <td>-0.396026</td>\n      <td>-0.487920</td>\n      <td>-0.340270</td>\n      <td>-0.300813</td>\n      <td>-0.005592</td>\n      <td>-0.102306</td>\n      <td>-0.754155</td>\n      <td>-0.121345</td>\n      <td>0.626711</td>\n      <td>-0.218854</td>\n    </tr>\n    <tr>\n      <th>Nawabganj</th>\n      <td>-0.698052</td>\n      <td>-0.728857</td>\n      <td>-0.683969</td>\n      <td>-0.690730</td>\n      <td>-0.677067</td>\n      <td>-0.643787</td>\n      <td>-0.657187</td>\n      <td>-0.157060</td>\n      <td>-0.059219</td>\n      <td>-0.075959</td>\n      <td>...</td>\n      <td>-0.371228</td>\n      <td>-0.472341</td>\n      <td>-0.345289</td>\n      <td>-0.240876</td>\n      <td>-0.020803</td>\n      <td>-0.128484</td>\n      <td>-0.785150</td>\n      <td>-0.149264</td>\n      <td>0.704279</td>\n      <td>-0.269769</td>\n    </tr>\n    <tr>\n      <th>Netrakona</th>\n      <td>-0.639993</td>\n      <td>-0.655714</td>\n      <td>-0.683033</td>\n      <td>-0.706312</td>\n      <td>-0.695182</td>\n      <td>-0.646242</td>\n      <td>-0.656682</td>\n      <td>-0.211294</td>\n      <td>-0.239395</td>\n      <td>-0.154877</td>\n      <td>...</td>\n      <td>-0.441393</td>\n      <td>-0.495975</td>\n      <td>-0.403878</td>\n      <td>-0.344906</td>\n      <td>0.016636</td>\n      <td>-0.095985</td>\n      <td>-0.769241</td>\n      <td>-0.119415</td>\n      <td>0.634752</td>\n      <td>-0.213756</td>\n    </tr>\n    <tr>\n      <th>Pabna</th>\n      <td>-0.696318</td>\n      <td>-0.725191</td>\n      <td>-0.706751</td>\n      <td>-0.700470</td>\n      <td>-0.673740</td>\n      <td>-0.630934</td>\n      <td>-0.644623</td>\n      <td>-0.153333</td>\n      <td>-0.120515</td>\n      <td>-0.097379</td>\n      <td>...</td>\n      <td>-0.355060</td>\n      <td>-0.488431</td>\n      <td>-0.317299</td>\n      <td>-0.230143</td>\n      <td>-0.027645</td>\n      <td>-0.120426</td>\n      <td>-0.786689</td>\n      <td>-0.141932</td>\n      <td>0.690017</td>\n      <td>-0.237683</td>\n    </tr>\n    <tr>\n      <th>Palang</th>\n      <td>-0.668121</td>\n      <td>-0.698441</td>\n      <td>-0.687700</td>\n      <td>-0.652584</td>\n      <td>-0.632762</td>\n      <td>-0.606235</td>\n      <td>-0.616207</td>\n      <td>-0.141700</td>\n      <td>-0.047665</td>\n      <td>-0.122610</td>\n      <td>...</td>\n      <td>-0.396265</td>\n      <td>-0.512120</td>\n      <td>-0.322576</td>\n      <td>-0.283997</td>\n      <td>-0.021901</td>\n      <td>-0.106350</td>\n      <td>-0.775144</td>\n      <td>-0.129164</td>\n      <td>0.653976</td>\n      <td>-0.216149</td>\n    </tr>\n    <tr>\n      <th>Paltan</th>\n      <td>-0.638423</td>\n      <td>-0.664867</td>\n      <td>-0.673687</td>\n      <td>-0.654784</td>\n      <td>-0.635345</td>\n      <td>-0.597266</td>\n      <td>-0.608661</td>\n      <td>-0.149549</td>\n      <td>-0.084634</td>\n      <td>-0.112445</td>\n      <td>...</td>\n      <td>-0.386234</td>\n      <td>-0.478414</td>\n      <td>-0.307212</td>\n      <td>-0.295440</td>\n      <td>-0.012090</td>\n      <td>-0.102096</td>\n      <td>-0.740533</td>\n      <td>-0.121638</td>\n      <td>0.622795</td>\n      <td>-0.207757</td>\n    </tr>\n    <tr>\n      <th>Par Naogaon</th>\n      <td>-0.684635</td>\n      <td>-0.706669</td>\n      <td>-0.710220</td>\n      <td>-0.717513</td>\n      <td>-0.698773</td>\n      <td>-0.658201</td>\n      <td>-0.667809</td>\n      <td>-0.179595</td>\n      <td>-0.097714</td>\n      <td>-0.209010</td>\n      <td>...</td>\n      <td>-0.400702</td>\n      <td>-0.472257</td>\n      <td>-0.357366</td>\n      <td>-0.281326</td>\n      <td>-0.008644</td>\n      <td>-0.119164</td>\n      <td>-0.783403</td>\n      <td>-0.141604</td>\n      <td>0.690566</td>\n      <td>-0.247772</td>\n    </tr>\n    <tr>\n      <th>Patiya</th>\n      <td>-0.658103</td>\n      <td>-0.696219</td>\n      <td>-0.628702</td>\n      <td>-0.592906</td>\n      <td>-0.612416</td>\n      <td>-0.631336</td>\n      <td>-0.654598</td>\n      <td>-0.220352</td>\n      <td>-0.223504</td>\n      <td>-0.136095</td>\n      <td>...</td>\n      <td>-0.454417</td>\n      <td>-0.555224</td>\n      <td>-0.439118</td>\n      <td>-0.326782</td>\n      <td>0.009468</td>\n      <td>-0.103641</td>\n      <td>-0.821463</td>\n      <td>-0.127996</td>\n      <td>0.674735</td>\n      <td>-0.250695</td>\n    </tr>\n    <tr>\n      <th>Pirojpur</th>\n      <td>-0.693176</td>\n      <td>-0.724790</td>\n      <td>-0.698431</td>\n      <td>-0.640710</td>\n      <td>-0.627318</td>\n      <td>-0.609696</td>\n      <td>-0.617323</td>\n      <td>-0.149741</td>\n      <td>-0.045414</td>\n      <td>-0.118800</td>\n      <td>...</td>\n      <td>-0.394319</td>\n      <td>-0.540746</td>\n      <td>-0.350901</td>\n      <td>-0.257440</td>\n      <td>-0.019829</td>\n      <td>-0.099760</td>\n      <td>-0.800658</td>\n      <td>-0.126114</td>\n      <td>0.682351</td>\n      <td>-0.214710</td>\n    </tr>\n    <tr>\n      <th>Raipur</th>\n      <td>-0.661105</td>\n      <td>-0.688779</td>\n      <td>-0.680492</td>\n      <td>-0.629127</td>\n      <td>-0.621099</td>\n      <td>-0.604201</td>\n      <td>-0.620203</td>\n      <td>-0.167009</td>\n      <td>-0.110552</td>\n      <td>-0.175875</td>\n      <td>...</td>\n      <td>-0.406171</td>\n      <td>-0.528932</td>\n      <td>-0.359381</td>\n      <td>-0.290929</td>\n      <td>-0.020350</td>\n      <td>-0.105229</td>\n      <td>-0.783804</td>\n      <td>-0.128085</td>\n      <td>0.654716</td>\n      <td>-0.217380</td>\n    </tr>\n    <tr>\n      <th>Rajshahi</th>\n      <td>-0.693532</td>\n      <td>-0.724255</td>\n      <td>-0.692789</td>\n      <td>-0.695918</td>\n      <td>-0.675053</td>\n      <td>-0.637281</td>\n      <td>-0.652431</td>\n      <td>-0.156523</td>\n      <td>-0.063153</td>\n      <td>-0.133968</td>\n      <td>...</td>\n      <td>-0.378619</td>\n      <td>-0.485535</td>\n      <td>-0.331771</td>\n      <td>-0.253993</td>\n      <td>-0.019334</td>\n      <td>-0.126594</td>\n      <td>-0.785414</td>\n      <td>-0.147447</td>\n      <td>0.701978</td>\n      <td>-0.254691</td>\n    </tr>\n    <tr>\n      <th>Ramganj</th>\n      <td>-0.643013</td>\n      <td>-0.674704</td>\n      <td>-0.685763</td>\n      <td>-0.644250</td>\n      <td>-0.629244</td>\n      <td>-0.608280</td>\n      <td>-0.624393</td>\n      <td>-0.157462</td>\n      <td>-0.067641</td>\n      <td>-0.158065</td>\n      <td>...</td>\n      <td>-0.407549</td>\n      <td>-0.520198</td>\n      <td>-0.351965</td>\n      <td>-0.295640</td>\n      <td>-0.015708</td>\n      <td>-0.103612</td>\n      <td>-0.776522</td>\n      <td>-0.126519</td>\n      <td>0.650205</td>\n      <td>-0.216589</td>\n    </tr>\n    <tr>\n      <th>Rangpur</th>\n      <td>-0.667743</td>\n      <td>-0.680359</td>\n      <td>-0.704974</td>\n      <td>-0.734574</td>\n      <td>-0.724201</td>\n      <td>-0.681880</td>\n      <td>-0.674155</td>\n      <td>-0.218166</td>\n      <td>-0.240656</td>\n      <td>-0.217108</td>\n      <td>...</td>\n      <td>-0.404226</td>\n      <td>-0.470047</td>\n      <td>-0.392387</td>\n      <td>-0.268983</td>\n      <td>-0.008500</td>\n      <td>-0.112448</td>\n      <td>-0.766324</td>\n      <td>-0.131394</td>\n      <td>0.662022</td>\n      <td>-0.244293</td>\n    </tr>\n    <tr>\n      <th>Saidpur</th>\n      <td>-0.668966</td>\n      <td>-0.683382</td>\n      <td>-0.706330</td>\n      <td>-0.728943</td>\n      <td>-0.719723</td>\n      <td>-0.678998</td>\n      <td>-0.674805</td>\n      <td>-0.212352</td>\n      <td>-0.236184</td>\n      <td>-0.221333</td>\n      <td>...</td>\n      <td>-0.393231</td>\n      <td>-0.458313</td>\n      <td>-0.376135</td>\n      <td>-0.265876</td>\n      <td>0.001859</td>\n      <td>-0.114516</td>\n      <td>-0.758882</td>\n      <td>-0.134910</td>\n      <td>0.666604</td>\n      <td>-0.241838</td>\n    </tr>\n    <tr>\n      <th>Sandwip</th>\n      <td>-0.616442</td>\n      <td>-0.652869</td>\n      <td>-0.674074</td>\n      <td>-0.614401</td>\n      <td>-0.621784</td>\n      <td>-0.624232</td>\n      <td>-0.646338</td>\n      <td>-0.212143</td>\n      <td>-0.202998</td>\n      <td>-0.403986</td>\n      <td>...</td>\n      <td>-0.450806</td>\n      <td>-0.549770</td>\n      <td>-0.383125</td>\n      <td>-0.347870</td>\n      <td>-0.005230</td>\n      <td>-0.108375</td>\n      <td>-0.801726</td>\n      <td>-0.132606</td>\n      <td>0.669280</td>\n      <td>-0.291374</td>\n    </tr>\n    <tr>\n      <th>Sarishabari</th>\n      <td>-0.668789</td>\n      <td>-0.686379</td>\n      <td>-0.708261</td>\n      <td>-0.717663</td>\n      <td>-0.704180</td>\n      <td>-0.652293</td>\n      <td>-0.660395</td>\n      <td>-0.182624</td>\n      <td>-0.185525</td>\n      <td>-0.124435</td>\n      <td>...</td>\n      <td>-0.391278</td>\n      <td>-0.481752</td>\n      <td>-0.369541</td>\n      <td>-0.277410</td>\n      <td>-0.009281</td>\n      <td>-0.105518</td>\n      <td>-0.777722</td>\n      <td>-0.128673</td>\n      <td>0.663232</td>\n      <td>-0.246548</td>\n    </tr>\n    <tr>\n      <th>Satkania</th>\n      <td>-0.602798</td>\n      <td>-0.656883</td>\n      <td>-0.622400</td>\n      <td>-0.596524</td>\n      <td>-0.607716</td>\n      <td>-0.633768</td>\n      <td>-0.656984</td>\n      <td>-0.204071</td>\n      <td>-0.126482</td>\n      <td>-0.188203</td>\n      <td>...</td>\n      <td>-0.511184</td>\n      <td>-0.556358</td>\n      <td>-0.454998</td>\n      <td>-0.397062</td>\n      <td>0.024174</td>\n      <td>-0.089165</td>\n      <td>-0.812258</td>\n      <td>-0.112836</td>\n      <td>0.672467</td>\n      <td>-0.220839</td>\n    </tr>\n    <tr>\n      <th>Satkhira</th>\n      <td>-0.689928</td>\n      <td>-0.721941</td>\n      <td>-0.687366</td>\n      <td>-0.637057</td>\n      <td>-0.621517</td>\n      <td>-0.592880</td>\n      <td>-0.590624</td>\n      <td>-0.142111</td>\n      <td>-0.076924</td>\n      <td>-0.184399</td>\n      <td>...</td>\n      <td>-0.416056</td>\n      <td>-0.517673</td>\n      <td>-0.334422</td>\n      <td>-0.289676</td>\n      <td>-0.021139</td>\n      <td>-0.106301</td>\n      <td>-0.801089</td>\n      <td>-0.130780</td>\n      <td>0.686212</td>\n      <td>-0.267918</td>\n    </tr>\n    <tr>\n      <th>Shahzadpur</th>\n      <td>-0.680033</td>\n      <td>-0.700865</td>\n      <td>-0.711015</td>\n      <td>-0.706223</td>\n      <td>-0.684784</td>\n      <td>-0.633759</td>\n      <td>-0.647801</td>\n      <td>-0.161014</td>\n      <td>-0.117013</td>\n      <td>-0.097781</td>\n      <td>...</td>\n      <td>-0.362843</td>\n      <td>-0.491998</td>\n      <td>-0.345023</td>\n      <td>-0.244735</td>\n      <td>-0.020926</td>\n      <td>-0.110939</td>\n      <td>-0.782887</td>\n      <td>-0.134425</td>\n      <td>0.671586</td>\n      <td>-0.248657</td>\n    </tr>\n    <tr>\n      <th>Sherpur</th>\n      <td>-0.657277</td>\n      <td>-0.672433</td>\n      <td>-0.701663</td>\n      <td>-0.722760</td>\n      <td>-0.713279</td>\n      <td>-0.659116</td>\n      <td>-0.663751</td>\n      <td>-0.175243</td>\n      <td>-0.158030</td>\n      <td>-0.175659</td>\n      <td>...</td>\n      <td>-0.434633</td>\n      <td>-0.480164</td>\n      <td>-0.383023</td>\n      <td>-0.327851</td>\n      <td>-0.005177</td>\n      <td>-0.107513</td>\n      <td>-0.776804</td>\n      <td>-0.129645</td>\n      <td>0.654928</td>\n      <td>-0.230666</td>\n    </tr>\n    <tr>\n      <th>Sirajganj</th>\n      <td>-0.671238</td>\n      <td>-0.689849</td>\n      <td>-0.709073</td>\n      <td>-0.710964</td>\n      <td>-0.694807</td>\n      <td>-0.642332</td>\n      <td>-0.654095</td>\n      <td>-0.162170</td>\n      <td>-0.131856</td>\n      <td>-0.112737</td>\n      <td>...</td>\n      <td>-0.367724</td>\n      <td>-0.486983</td>\n      <td>-0.354882</td>\n      <td>-0.250050</td>\n      <td>-0.016527</td>\n      <td>-0.107309</td>\n      <td>-0.780231</td>\n      <td>-0.131208</td>\n      <td>0.666412</td>\n      <td>-0.249994</td>\n    </tr>\n    <tr>\n      <th>Sylhet</th>\n      <td>-0.623535</td>\n      <td>-0.637542</td>\n      <td>-0.626976</td>\n      <td>-0.659700</td>\n      <td>-0.663904</td>\n      <td>-0.636325</td>\n      <td>-0.642619</td>\n      <td>-0.242076</td>\n      <td>-0.264320</td>\n      <td>-0.158331</td>\n      <td>...</td>\n      <td>-0.485208</td>\n      <td>-0.511129</td>\n      <td>-0.437641</td>\n      <td>-0.367260</td>\n      <td>0.027584</td>\n      <td>-0.086670</td>\n      <td>-0.752880</td>\n      <td>-0.110573</td>\n      <td>0.599207</td>\n      <td>-0.190893</td>\n    </tr>\n    <tr>\n      <th>Tangail</th>\n      <td>-0.662346</td>\n      <td>-0.684229</td>\n      <td>-0.703555</td>\n      <td>-0.697677</td>\n      <td>-0.679768</td>\n      <td>-0.628945</td>\n      <td>-0.642467</td>\n      <td>-0.157794</td>\n      <td>-0.116304</td>\n      <td>-0.105089</td>\n      <td>...</td>\n      <td>-0.402070</td>\n      <td>-0.491421</td>\n      <td>-0.345722</td>\n      <td>-0.290857</td>\n      <td>-0.008192</td>\n      <td>-0.105821</td>\n      <td>-0.771694</td>\n      <td>-0.127325</td>\n      <td>0.656040</td>\n      <td>-0.217150</td>\n    </tr>\n    <tr>\n      <th>Thakurgaon</th>\n      <td>-0.649433</td>\n      <td>-0.665972</td>\n      <td>-0.696368</td>\n      <td>-0.721141</td>\n      <td>-0.716587</td>\n      <td>-0.679472</td>\n      <td>-0.671512</td>\n      <td>-0.196370</td>\n      <td>-0.198780</td>\n      <td>-0.266117</td>\n      <td>...</td>\n      <td>-0.392405</td>\n      <td>-0.439007</td>\n      <td>-0.367677</td>\n      <td>-0.273133</td>\n      <td>0.001488</td>\n      <td>-0.113367</td>\n      <td>-0.743687</td>\n      <td>-0.133973</td>\n      <td>0.653749</td>\n      <td>-0.264951</td>\n    </tr>\n    <tr>\n      <th>Tungi</th>\n      <td>-0.625688</td>\n      <td>-0.650432</td>\n      <td>-0.674381</td>\n      <td>-0.664319</td>\n      <td>-0.645052</td>\n      <td>-0.603226</td>\n      <td>-0.615524</td>\n      <td>-0.160075</td>\n      <td>-0.140575</td>\n      <td>-0.112983</td>\n      <td>...</td>\n      <td>-0.392522</td>\n      <td>-0.476562</td>\n      <td>-0.318529</td>\n      <td>-0.300922</td>\n      <td>-0.002397</td>\n      <td>-0.098890</td>\n      <td>-0.737279</td>\n      <td>-0.117900</td>\n      <td>0.619779</td>\n      <td>-0.205232</td>\n    </tr>\n    <tr>\n      <th>Tungipara</th>\n      <td>-0.681831</td>\n      <td>-0.715277</td>\n      <td>-0.701144</td>\n      <td>-0.653455</td>\n      <td>-0.633778</td>\n      <td>-0.610041</td>\n      <td>-0.617795</td>\n      <td>-0.145966</td>\n      <td>-0.054686</td>\n      <td>-0.124260</td>\n      <td>...</td>\n      <td>-0.402535</td>\n      <td>-0.530633</td>\n      <td>-0.342257</td>\n      <td>-0.266564</td>\n      <td>-0.016330</td>\n      <td>-0.103807</td>\n      <td>-0.790593</td>\n      <td>-0.128291</td>\n      <td>0.677935</td>\n      <td>-0.197662</td>\n    </tr>\n  </tbody>\n</table>\n<p>55 rows × 37 columns</p>\n</div>"
     },
     "execution_count": 26,
     "metadata": {},
     "output_type": "execute_result"
    }
   ],
   "source": [
    "from meteorology.meteoblue_data_preparation import factors\n",
    "\n",
    "corr_zones_df = pd.DataFrame(corr_zones,columns=factors,index=metadata.Zone)\n",
    "corr_zones_df"
   ],
   "metadata": {
    "collapsed": false,
    "ExecuteTime": {
     "start_time": "2024-11-23T21:14:50.449854Z",
     "end_time": "2024-11-23T21:14:50.497284Z"
    }
   }
  },
  {
   "cell_type": "code",
   "execution_count": 27,
   "outputs": [
    {
     "data": {
      "text/plain": "['Temperature [2 m elevation corrected]',\n 'Growing Degree Days [2 m elevation corrected]',\n 'Temperature [900 mb]',\n 'Temperature [850 mb]',\n 'Temperature [800 mb]',\n 'Temperature [700 mb]',\n 'Temperature [500 mb]',\n 'Precipitation Total',\n 'Precipitation Runoff',\n 'Relative Humidity [2 m]',\n 'Wind Gust',\n 'Wind Speed [10 m]',\n 'Wind Direction [10 m]',\n 'Wind Speed [100 m]',\n 'Wind Direction [100 m]',\n 'Wind Speed [900 mb]',\n 'Wind Direction [900 mb]',\n 'Wind Speed [850 mb]',\n 'Wind Direction [850 mb]',\n 'Wind Speed [800 mb]',\n 'Wind Direction [800 mb]',\n 'Wind Speed [700 mb]',\n 'Wind Direction [700 mb]',\n 'Wind Speed [500 mb]',\n 'Wind Direction [500 mb]',\n 'Wind Speed [250 mb]',\n 'Wind Direction [250 mb]',\n 'Cloud Cover Total',\n 'Cloud Cover High [high cld lay]',\n 'Cloud Cover Medium [mid cld lay]',\n 'Cloud Cover Low [low cld lay]',\n 'Sunshine Duration',\n 'Shortwave Radiation',\n 'Longwave Radiation',\n 'UV Radiation',\n 'Mean Sea Level Pressure [MSL]',\n 'Evapotranspiration']"
     },
     "execution_count": 27,
     "metadata": {},
     "output_type": "execute_result"
    }
   ],
   "source": [
    "factors"
   ],
   "metadata": {
    "collapsed": false,
    "ExecuteTime": {
     "start_time": "2024-11-23T21:14:50.476582Z",
     "end_time": "2024-11-23T21:14:50.497744Z"
    }
   }
  },
  {
   "cell_type": "code",
   "execution_count": 29,
   "outputs": [],
   "source": [
    "selected_factors = ['Temperature [2 m elevation corrected]','Longwave Radiation','Relative Humidity [2 m]','Mean Sea Level Pressure [MSL]',\n",
    "                    'Wind Speed [10 m]','Wind Gust','Precipitation Total','Cloud Cover Total',]"
   ],
   "metadata": {
    "collapsed": false,
    "ExecuteTime": {
     "start_time": "2024-11-23T22:01:52.879770Z",
     "end_time": "2024-11-23T22:01:52.890155Z"
    }
   }
  },
  {
   "cell_type": "code",
   "execution_count": 29,
   "outputs": [],
   "source": [
    "corr_zones_df = corr_zones_df[selected_factors]"
   ],
   "metadata": {
    "collapsed": false,
    "ExecuteTime": {
     "start_time": "2024-11-23T21:14:50.476778Z",
     "end_time": "2024-11-23T21:14:50.497951Z"
    }
   }
  },
  {
   "cell_type": "code",
   "execution_count": 30,
   "outputs": [],
   "source": [
    "Y_axis_name = ['Temperature', 'Radiation', 'Humidity', 'Pressure', 'Wind Speed', 'Wind Gust', 'Precipitation',\n",
    "               'Cloud Cover']"
   ],
   "metadata": {
    "collapsed": false,
    "ExecuteTime": {
     "start_time": "2024-11-23T21:14:50.476871Z",
     "end_time": "2024-11-23T21:14:50.498031Z"
    }
   }
  },
  {
   "cell_type": "code",
   "execution_count": 31,
   "outputs": [
    {
     "data": {
      "application/vnd.plotly.v1+json": {
       "config": {
        "displayModeBar": false,
        "plotlyServerURL": "https://plot.ly",
        "responsive": true
       },
       "data": [
        {
         "colorbar": {
          "len": 1,
          "tickfont": {
           "size": 20
          },
          "title": {
           "font": {
            "size": 24
           },
           "side": "right",
           "text": "Correlation"
          }
         },
         "colorscale": [
          [
           0.0,
           "#708090"
          ],
          [
           0.5,
           "#FFFFFF"
          ],
          [
           1.0,
           "#4169E1"
          ]
         ],
         "hoverongaps": false,
         "hovertemplate": "Zone: %{x}<br>Factor: %{y}<br>Correlation: %{z:.2f}<extra></extra>",
         "type": "heatmap",
         "x": [
          "Azimpur",
          "Barisal",
          "Bhairab Bazar",
          "Bhola",
          "Bogra",
          "Chittagong",
          "Comilla",
          "Dhaka",
          "Dinajpur",
          "Faridpur",
          "Feni",
          "Habiganj",
          "Ishurdi",
          "Jamalpur",
          "Jessore",
          "Joypur Hat",
          "Khagrachhari",
          "Khulna",
          "Kishorganj",
          "Kushtia",
          "Laksham",
          "Lakshmipur",
          "Lalmanirhat",
          "Madaripur",
          "Maulavi Bazar",
          "Mymensingh",
          "Nagarpur",
          "Narail",
          "Narayanganj",
          "Narsingdi",
          "Nawabganj",
          "Netrakona",
          "Pabna",
          "Palang",
          "Paltan",
          "Par Naogaon",
          "Patiya",
          "Pirojpur",
          "Raipur",
          "Rajshahi",
          "Ramganj",
          "Rangpur",
          "Saidpur",
          "Sandwip",
          "Sarishabari",
          "Satkania",
          "Satkhira",
          "Shahzadpur",
          "Sherpur",
          "Sirajganj",
          "Sylhet",
          "Tangail",
          "Thakurgaon",
          "Tungi",
          "Tungipara"
         ],
         "y": [
          "Temperature",
          "Radiation",
          "Humidity",
          "Pressure",
          "Wind Speed",
          "Wind Gust",
          "Precipitation",
          "Cloud Cover"
         ],
         "z": [
          [
           -0.6405123970316646,
           -0.674919504115522,
           -0.6348285604771643,
           -0.6907179457125647,
           -0.6781507810456457,
           -0.6592354679118636,
           -0.6285098480268384,
           -0.6384228274555791,
           -0.6783923733851793,
           -0.6748501637956423,
           -0.633581987754856,
           -0.6274191968713948,
           -0.6982708501577158,
           -0.6612311772667531,
           -0.6958149471946127,
           -0.6879392561387829,
           -0.6163618867306644,
           -0.6858316275111667,
           -0.6448283163354379,
           -0.6990771421627907,
           -0.6391286051355142,
           -0.6638721721405284,
           -0.6452578065403248,
           -0.6745620647080722,
           -0.6246596034371742,
           -0.6419464447982072,
           -0.6682270209117896,
           -0.6946188768336529,
           -0.6334369476662748,
           -0.6284226583676282,
           -0.6980523904225129,
           -0.6399929260296414,
           -0.6963184632157772,
           -0.6681214337111455,
           -0.6384228070807771,
           -0.6846353113835725,
           -0.6581027187665663,
           -0.6931764618683459,
           -0.6611052064934964,
           -0.6935319445001444,
           -0.6430132748365548,
           -0.6677430545651345,
           -0.6689664130550932,
           -0.6164418091931294,
           -0.6687889782155972,
           -0.602798167686952,
           -0.6899281600160568,
           -0.6800334677420421,
           -0.6572771685212849,
           -0.6712378188915643,
           -0.6235353957036981,
           -0.6623458324061301,
           -0.6494331286129184,
           -0.6256877866197036,
           -0.6818307262701071
          ],
          [
           -0.7427817409482375,
           -0.7963675311233569,
           -0.7654292299870084,
           -0.8004718236619386,
           -0.7846156114940543,
           -0.8203573236463926,
           -0.765700781122034,
           -0.7405327991706476,
           -0.7589608740007846,
           -0.7740527060660536,
           -0.7872682167245495,
           -0.7724588783248134,
           -0.789179967759983,
           -0.779232911192411,
           -0.7962395910692911,
           -0.7816087554681488,
           -0.7888820492491115,
           -0.7988337509635859,
           -0.7712298298768744,
           -0.7889448294690348,
           -0.7752057653283384,
           -0.7875580707268811,
           -0.7573676116682272,
           -0.7822276559662303,
           -0.7714422460751394,
           -0.7669755612418647,
           -0.7742149006556988,
           -0.7952097322074829,
           -0.7510661165021354,
           -0.7541551938485732,
           -0.7851495872795567,
           -0.7692414620928351,
           -0.786689496658527,
           -0.7751441990955029,
           -0.7405327991706476,
           -0.7834026822011051,
           -0.821463441821003,
           -0.8006577018155393,
           -0.783803520182536,
           -0.7854143189388983,
           -0.7765216728255805,
           -0.7663242264770205,
           -0.7588822185631775,
           -0.8017261050460562,
           -0.7777215275074281,
           -0.8122581678225254,
           -0.8010893408244445,
           -0.7828873113543223,
           -0.7768038016045528,
           -0.7802306780102773,
           -0.7528804815566373,
           -0.7716936816164801,
           -0.7436868936657101,
           -0.7372792991055903,
           -0.7905925575390179
          ],
          [
           -0.11197442509569168,
           -0.11643464071738802,
           -0.08606790628198116,
           -0.15923042743030466,
           -0.17288368176208116,
           -0.1331929055241206,
           -0.1644124956725866,
           -0.1124445519384113,
           -0.21066461931815572,
           -0.17335987090159355,
           -0.26169388701514823,
           -0.14979929694612987,
           -0.0958392782425074,
           -0.1442664129218271,
           -0.12378353597869653,
           -0.18460266420151283,
           -0.0702902557186935,
           -0.15154091753460022,
           -0.09928419838465277,
           -0.09334673528700364,
           -0.1463515203607315,
           -0.1770267291384524,
           -0.25129773801532335,
           -0.12037648133981632,
           -0.18053919428019966,
           -0.1655824555909205,
           -0.1275151869740547,
           -0.13400000605910803,
           -0.1070243406689665,
           -0.15057264760307573,
           -0.07595869984394232,
           -0.1548774340451309,
           -0.09737947990478456,
           -0.1226104817773455,
           -0.1124445519384113,
           -0.20901015674704432,
           -0.13609494127044347,
           -0.118799744670408,
           -0.17587545616713474,
           -0.13396838270369363,
           -0.15806467396039162,
           -0.21710755843458981,
           -0.22133269513801865,
           -0.4039858202922961,
           -0.12443470108608008,
           -0.18820322917375965,
           -0.18439939569843478,
           -0.09778075806639593,
           -0.1756588962202039,
           -0.11273690122121074,
           -0.15833140045257338,
           -0.1050890873858048,
           -0.2661165568955173,
           -0.11298284362110164,
           -0.12425954631126915
          ],
          [
           0.6246915037910037,
           0.6723460350793689,
           0.6306269686325825,
           0.6690588999133895,
           0.6774497602663502,
           0.6726032905598616,
           0.6407747091858756,
           0.6227949811152822,
           0.6730327948538609,
           0.6664448892831658,
           0.6525601237035465,
           0.6261999195148235,
           0.6937771603762404,
           0.6589372328773561,
           0.6926965610312935,
           0.6824845565140906,
           0.6458397949573408,
           0.6858049865629867,
           0.6329621859473648,
           0.6923903137048315,
           0.64774896207057,
           0.6583508086337437,
           0.6535367608133273,
           0.659749799637666,
           0.6168753835701852,
           0.6428617582092649,
           0.657597320559392,
           0.6872724516128531,
           0.6257897396351083,
           0.6267114017900964,
           0.7042786815715351,
           0.6347522270347844,
           0.6900172577488469,
           0.653975773556389,
           0.6227949811152822,
           0.6905659896610673,
           0.6747347166662724,
           0.6823509995128206,
           0.6547159208576795,
           0.7019775720301785,
           0.6502054371900006,
           0.6620222777229966,
           0.6666037674119512,
           0.6692800026631456,
           0.6632315761793841,
           0.6724667026573053,
           0.6862124612588154,
           0.6715857710171824,
           0.6549275553638486,
           0.6664121821622024,
           0.5992074431545962,
           0.6560402722430564,
           0.6537491970562801,
           0.6197792681337191,
           0.6779352894386746
          ],
          [
           -0.2979740161970706,
           -0.29492462907551753,
           -0.33091016026428904,
           -0.35745678449827567,
           -0.3073634717519835,
           -0.3731663499153825,
           -0.30297653848693173,
           -0.29721029106540386,
           -0.2088562075052228,
           -0.28649129931855455,
           -0.3634647611627707,
           -0.21222289588502002,
           -0.29401931511226204,
           -0.2671621189156848,
           -0.3202780306375443,
           -0.2457097072709202,
           -0.2750553757605133,
           -0.3087072457153645,
           -0.2875867063668122,
           -0.2936011534210418,
           -0.3319693043191539,
           -0.31913820777981394,
           -0.18331102728908627,
           -0.31759611529988824,
           -0.13476224229828118,
           -0.2608880413372944,
           -0.3068732545566345,
           -0.3016876768695729,
           -0.31484506072978213,
           -0.30608278184813853,
           -0.24513154600917525,
           -0.2677085767831355,
           -0.29123038918357397,
           -0.31525158428408206,
           -0.29721029106540386,
           -0.2559793277210452,
           -0.3743721721669778,
           -0.32371813293594365,
           -0.317841493299156,
           -0.2856280458293795,
           -0.335285826509965,
           -0.21698264424148572,
           -0.19436336396322193,
           -0.39695937811062637,
           -0.2942264588708893,
           -0.2965014544412675,
           -0.3499950964327634,
           -0.335354820245515,
           -0.3117817082480425,
           -0.3070969170579032,
           -0.028360264448433065,
           -0.28252103318747324,
           -0.18358955526500195,
           -0.31296910971034175,
           -0.2903125817585636
          ],
          [
           -0.39960445010121526,
           -0.39002058192879707,
           -0.4417293337148219,
           -0.39612107510458094,
           -0.42448984417704627,
           -0.42378271080028973,
           -0.4123693404185851,
           -0.3982323539448499,
           -0.3683262367591967,
           -0.40212625019538834,
           -0.42454855938721214,
           -0.37253301840579317,
           -0.42149193138545377,
           -0.39687858567788203,
           -0.41356644127409675,
           -0.40312602695966515,
           -0.38464425977641103,
           -0.4010577769876842,
           -0.42537894562137457,
           -0.42079281214563263,
           -0.4075451585678556,
           -0.3993182716857202,
           -0.3262552556004314,
           -0.42438185200239475,
           -0.34209391913737464,
           -0.40056241310998975,
           -0.4200168490632322,
           -0.4138119468245549,
           -0.4039075477414322,
           -0.425100665176781,
           -0.3971414496321844,
           -0.43035988501607764,
           -0.4175555095210458,
           -0.42047128959294544,
           -0.3982323539448499,
           -0.39371765798963415,
           -0.42461992928742587,
           -0.40660681188483166,
           -0.3977241417979291,
           -0.39835124539956224,
           -0.40612049249682136,
           -0.3528129644510967,
           -0.3511342719884812,
           -0.4247797093452011,
           -0.41622612797107067,
           -0.368750610129572,
           -0.4286378934741019,
           -0.44528246113147424,
           -0.4437014524237653,
           -0.4158832037373883,
           -0.32064143753376645,
           -0.4265860816667458,
           -0.32615882258272605,
           -0.40810983378594495,
           -0.39940129474229785
          ],
          [
           -0.14994938942981537,
           -0.16090783186624522,
           -0.15746528519846595,
           -0.18050127047675796,
           -0.17359552746689358,
           -0.2188465907819527,
           -0.150176666940883,
           -0.14954863484732445,
           -0.17236994298778513,
           -0.14212117144536177,
           -0.19470103191176424,
           -0.16611070330478875,
           -0.15390307846249074,
           -0.18973223005119014,
           -0.15742329706923763,
           -0.15671525055784746,
           -0.15372505262346128,
           -0.14320259135313212,
           -0.16101625180961726,
           -0.1539546387624684,
           -0.15492663313331584,
           -0.1674072416115258,
           -0.2325827203320379,
           -0.1426946671510114,
           -0.21707667130513159,
           -0.1915205955163757,
           -0.15928461887896977,
           -0.15105581443148966,
           -0.15279002611849501,
           -0.14917267256501704,
           -0.15706011067908368,
           -0.21129371085941684,
           -0.15333264079007017,
           -0.1416997120696302,
           -0.14954863484732445,
           -0.1795952993537594,
           -0.22035185479714203,
           -0.14974127759380257,
           -0.16700895729507834,
           -0.15652339422324685,
           -0.15746181413719967,
           -0.21816568355865462,
           -0.21235243650954103,
           -0.21214326569006867,
           -0.18262408453985893,
           -0.20407075112136625,
           -0.14211130058571197,
           -0.16101357327591356,
           -0.17524279723150077,
           -0.16216965119603918,
           -0.24207563766108403,
           -0.15779387778473405,
           -0.19636996855552757,
           -0.16007455977179014,
           -0.1459656053718489
          ],
          [
           -0.3875660191023885,
           -0.3959348672097482,
           -0.3504081668748809,
           -0.4164713136727393,
           -0.40320706201673495,
           -0.4528249973344371,
           -0.41475918384150146,
           -0.38623384245105197,
           -0.3836032452316067,
           -0.4038956109552778,
           -0.4252499355187671,
           -0.40873325830876095,
           -0.35587850983427954,
           -0.4263219510277449,
           -0.41228588054419407,
           -0.4078295962877317,
           -0.38065376270859835,
           -0.41373997987793737,
           -0.37536085282176374,
           -0.3561492622453132,
           -0.4108266857435953,
           -0.4084289451192833,
           -0.4080843149227203,
           -0.40055706539957375,
           -0.44683230519157174,
           -0.42599328269316633,
           -0.3990965502709057,
           -0.41275691695484734,
           -0.373366284757109,
           -0.3960261220419571,
           -0.3712281224454333,
           -0.44139306651572874,
           -0.35506018483080076,
           -0.39626487003696403,
           -0.38623384245105197,
           -0.4007022299390379,
           -0.4544172448947644,
           -0.39431853460790267,
           -0.4061709456689895,
           -0.378619295300659,
           -0.4075492754643398,
           -0.40422566629565976,
           -0.3932309581268981,
           -0.4508056116738956,
           -0.39127804986007947,
           -0.5111838446012987,
           -0.4160563471787983,
           -0.3628427032465273,
           -0.434633428499138,
           -0.367724024897284,
           -0.48520775174526226,
           -0.4020697956587038,
           -0.3924053678508355,
           -0.3925218614290805,
           -0.40253450895522247
          ]
         ],
         "zmax": 1,
         "zmin": -1
        }
       ],
       "layout": {
        "autosize": false,
        "font": {
         "color": "#3D3C3A",
         "size": 27
        },
        "height": 750,
        "margin": {
         "b": 150,
         "l": 100,
         "r": 50,
         "t": 120
        },
        "paper_bgcolor": "white",
        "plot_bgcolor": "white",
        "template": {
         "data": {
          "bar": [
           {
            "error_x": {
             "color": "#2a3f5f"
            },
            "error_y": {
             "color": "#2a3f5f"
            },
            "marker": {
             "line": {
              "color": "#E5ECF6",
              "width": 0.5
             }
            },
            "type": "bar"
           }
          ],
          "barpolar": [
           {
            "marker": {
             "line": {
              "color": "#E5ECF6",
              "width": 0.5
             }
            },
            "type": "barpolar"
           }
          ],
          "carpet": [
           {
            "aaxis": {
             "endlinecolor": "#2a3f5f",
             "gridcolor": "white",
             "linecolor": "white",
             "minorgridcolor": "white",
             "startlinecolor": "#2a3f5f"
            },
            "baxis": {
             "endlinecolor": "#2a3f5f",
             "gridcolor": "white",
             "linecolor": "white",
             "minorgridcolor": "white",
             "startlinecolor": "#2a3f5f"
            },
            "type": "carpet"
           }
          ],
          "choropleth": [
           {
            "colorbar": {
             "outlinewidth": 0,
             "ticks": ""
            },
            "type": "choropleth"
           }
          ],
          "contour": [
           {
            "colorbar": {
             "outlinewidth": 0,
             "ticks": ""
            },
            "colorscale": [
             [
              0.0,
              "#0d0887"
             ],
             [
              0.1111111111111111,
              "#46039f"
             ],
             [
              0.2222222222222222,
              "#7201a8"
             ],
             [
              0.3333333333333333,
              "#9c179e"
             ],
             [
              0.4444444444444444,
              "#bd3786"
             ],
             [
              0.5555555555555556,
              "#d8576b"
             ],
             [
              0.6666666666666666,
              "#ed7953"
             ],
             [
              0.7777777777777778,
              "#fb9f3a"
             ],
             [
              0.8888888888888888,
              "#fdca26"
             ],
             [
              1.0,
              "#f0f921"
             ]
            ],
            "type": "contour"
           }
          ],
          "contourcarpet": [
           {
            "colorbar": {
             "outlinewidth": 0,
             "ticks": ""
            },
            "type": "contourcarpet"
           }
          ],
          "heatmap": [
           {
            "colorbar": {
             "outlinewidth": 0,
             "ticks": ""
            },
            "colorscale": [
             [
              0.0,
              "#0d0887"
             ],
             [
              0.1111111111111111,
              "#46039f"
             ],
             [
              0.2222222222222222,
              "#7201a8"
             ],
             [
              0.3333333333333333,
              "#9c179e"
             ],
             [
              0.4444444444444444,
              "#bd3786"
             ],
             [
              0.5555555555555556,
              "#d8576b"
             ],
             [
              0.6666666666666666,
              "#ed7953"
             ],
             [
              0.7777777777777778,
              "#fb9f3a"
             ],
             [
              0.8888888888888888,
              "#fdca26"
             ],
             [
              1.0,
              "#f0f921"
             ]
            ],
            "type": "heatmap"
           }
          ],
          "heatmapgl": [
           {
            "colorbar": {
             "outlinewidth": 0,
             "ticks": ""
            },
            "colorscale": [
             [
              0.0,
              "#0d0887"
             ],
             [
              0.1111111111111111,
              "#46039f"
             ],
             [
              0.2222222222222222,
              "#7201a8"
             ],
             [
              0.3333333333333333,
              "#9c179e"
             ],
             [
              0.4444444444444444,
              "#bd3786"
             ],
             [
              0.5555555555555556,
              "#d8576b"
             ],
             [
              0.6666666666666666,
              "#ed7953"
             ],
             [
              0.7777777777777778,
              "#fb9f3a"
             ],
             [
              0.8888888888888888,
              "#fdca26"
             ],
             [
              1.0,
              "#f0f921"
             ]
            ],
            "type": "heatmapgl"
           }
          ],
          "histogram": [
           {
            "marker": {
             "colorbar": {
              "outlinewidth": 0,
              "ticks": ""
             }
            },
            "type": "histogram"
           }
          ],
          "histogram2d": [
           {
            "colorbar": {
             "outlinewidth": 0,
             "ticks": ""
            },
            "colorscale": [
             [
              0.0,
              "#0d0887"
             ],
             [
              0.1111111111111111,
              "#46039f"
             ],
             [
              0.2222222222222222,
              "#7201a8"
             ],
             [
              0.3333333333333333,
              "#9c179e"
             ],
             [
              0.4444444444444444,
              "#bd3786"
             ],
             [
              0.5555555555555556,
              "#d8576b"
             ],
             [
              0.6666666666666666,
              "#ed7953"
             ],
             [
              0.7777777777777778,
              "#fb9f3a"
             ],
             [
              0.8888888888888888,
              "#fdca26"
             ],
             [
              1.0,
              "#f0f921"
             ]
            ],
            "type": "histogram2d"
           }
          ],
          "histogram2dcontour": [
           {
            "colorbar": {
             "outlinewidth": 0,
             "ticks": ""
            },
            "colorscale": [
             [
              0.0,
              "#0d0887"
             ],
             [
              0.1111111111111111,
              "#46039f"
             ],
             [
              0.2222222222222222,
              "#7201a8"
             ],
             [
              0.3333333333333333,
              "#9c179e"
             ],
             [
              0.4444444444444444,
              "#bd3786"
             ],
             [
              0.5555555555555556,
              "#d8576b"
             ],
             [
              0.6666666666666666,
              "#ed7953"
             ],
             [
              0.7777777777777778,
              "#fb9f3a"
             ],
             [
              0.8888888888888888,
              "#fdca26"
             ],
             [
              1.0,
              "#f0f921"
             ]
            ],
            "type": "histogram2dcontour"
           }
          ],
          "mesh3d": [
           {
            "colorbar": {
             "outlinewidth": 0,
             "ticks": ""
            },
            "type": "mesh3d"
           }
          ],
          "parcoords": [
           {
            "line": {
             "colorbar": {
              "outlinewidth": 0,
              "ticks": ""
             }
            },
            "type": "parcoords"
           }
          ],
          "pie": [
           {
            "automargin": true,
            "type": "pie"
           }
          ],
          "scatter": [
           {
            "marker": {
             "colorbar": {
              "outlinewidth": 0,
              "ticks": ""
             }
            },
            "type": "scatter"
           }
          ],
          "scatter3d": [
           {
            "line": {
             "colorbar": {
              "outlinewidth": 0,
              "ticks": ""
             }
            },
            "marker": {
             "colorbar": {
              "outlinewidth": 0,
              "ticks": ""
             }
            },
            "type": "scatter3d"
           }
          ],
          "scattercarpet": [
           {
            "marker": {
             "colorbar": {
              "outlinewidth": 0,
              "ticks": ""
             }
            },
            "type": "scattercarpet"
           }
          ],
          "scattergeo": [
           {
            "marker": {
             "colorbar": {
              "outlinewidth": 0,
              "ticks": ""
             }
            },
            "type": "scattergeo"
           }
          ],
          "scattergl": [
           {
            "marker": {
             "colorbar": {
              "outlinewidth": 0,
              "ticks": ""
             }
            },
            "type": "scattergl"
           }
          ],
          "scattermapbox": [
           {
            "marker": {
             "colorbar": {
              "outlinewidth": 0,
              "ticks": ""
             }
            },
            "type": "scattermapbox"
           }
          ],
          "scatterpolar": [
           {
            "marker": {
             "colorbar": {
              "outlinewidth": 0,
              "ticks": ""
             }
            },
            "type": "scatterpolar"
           }
          ],
          "scatterpolargl": [
           {
            "marker": {
             "colorbar": {
              "outlinewidth": 0,
              "ticks": ""
             }
            },
            "type": "scatterpolargl"
           }
          ],
          "scatterternary": [
           {
            "marker": {
             "colorbar": {
              "outlinewidth": 0,
              "ticks": ""
             }
            },
            "type": "scatterternary"
           }
          ],
          "surface": [
           {
            "colorbar": {
             "outlinewidth": 0,
             "ticks": ""
            },
            "colorscale": [
             [
              0.0,
              "#0d0887"
             ],
             [
              0.1111111111111111,
              "#46039f"
             ],
             [
              0.2222222222222222,
              "#7201a8"
             ],
             [
              0.3333333333333333,
              "#9c179e"
             ],
             [
              0.4444444444444444,
              "#bd3786"
             ],
             [
              0.5555555555555556,
              "#d8576b"
             ],
             [
              0.6666666666666666,
              "#ed7953"
             ],
             [
              0.7777777777777778,
              "#fb9f3a"
             ],
             [
              0.8888888888888888,
              "#fdca26"
             ],
             [
              1.0,
              "#f0f921"
             ]
            ],
            "type": "surface"
           }
          ],
          "table": [
           {
            "cells": {
             "fill": {
              "color": "#EBF0F8"
             },
             "line": {
              "color": "white"
             }
            },
            "header": {
             "fill": {
              "color": "#C8D4E3"
             },
             "line": {
              "color": "white"
             }
            },
            "type": "table"
           }
          ]
         },
         "layout": {
          "annotationdefaults": {
           "arrowcolor": "#2a3f5f",
           "arrowhead": 0,
           "arrowwidth": 1
          },
          "coloraxis": {
           "colorbar": {
            "outlinewidth": 0,
            "ticks": ""
           }
          },
          "colorscale": {
           "diverging": [
            [
             0,
             "#8e0152"
            ],
            [
             0.1,
             "#c51b7d"
            ],
            [
             0.2,
             "#de77ae"
            ],
            [
             0.3,
             "#f1b6da"
            ],
            [
             0.4,
             "#fde0ef"
            ],
            [
             0.5,
             "#f7f7f7"
            ],
            [
             0.6,
             "#e6f5d0"
            ],
            [
             0.7,
             "#b8e186"
            ],
            [
             0.8,
             "#7fbc41"
            ],
            [
             0.9,
             "#4d9221"
            ],
            [
             1,
             "#276419"
            ]
           ],
           "sequential": [
            [
             0.0,
             "#0d0887"
            ],
            [
             0.1111111111111111,
             "#46039f"
            ],
            [
             0.2222222222222222,
             "#7201a8"
            ],
            [
             0.3333333333333333,
             "#9c179e"
            ],
            [
             0.4444444444444444,
             "#bd3786"
            ],
            [
             0.5555555555555556,
             "#d8576b"
            ],
            [
             0.6666666666666666,
             "#ed7953"
            ],
            [
             0.7777777777777778,
             "#fb9f3a"
            ],
            [
             0.8888888888888888,
             "#fdca26"
            ],
            [
             1.0,
             "#f0f921"
            ]
           ],
           "sequentialminus": [
            [
             0.0,
             "#0d0887"
            ],
            [
             0.1111111111111111,
             "#46039f"
            ],
            [
             0.2222222222222222,
             "#7201a8"
            ],
            [
             0.3333333333333333,
             "#9c179e"
            ],
            [
             0.4444444444444444,
             "#bd3786"
            ],
            [
             0.5555555555555556,
             "#d8576b"
            ],
            [
             0.6666666666666666,
             "#ed7953"
            ],
            [
             0.7777777777777778,
             "#fb9f3a"
            ],
            [
             0.8888888888888888,
             "#fdca26"
            ],
            [
             1.0,
             "#f0f921"
            ]
           ]
          },
          "colorway": [
           "#636efa",
           "#EF553B",
           "#00cc96",
           "#ab63fa",
           "#FFA15A",
           "#19d3f3",
           "#FF6692",
           "#B6E880",
           "#FF97FF",
           "#FECB52"
          ],
          "font": {
           "color": "#2a3f5f"
          },
          "geo": {
           "bgcolor": "white",
           "lakecolor": "white",
           "landcolor": "#E5ECF6",
           "showlakes": true,
           "showland": true,
           "subunitcolor": "white"
          },
          "hoverlabel": {
           "align": "left"
          },
          "hovermode": "closest",
          "mapbox": {
           "style": "light"
          },
          "paper_bgcolor": "white",
          "plot_bgcolor": "#E5ECF6",
          "polar": {
           "angularaxis": {
            "gridcolor": "white",
            "linecolor": "white",
            "ticks": ""
           },
           "bgcolor": "#E5ECF6",
           "radialaxis": {
            "gridcolor": "white",
            "linecolor": "white",
            "ticks": ""
           }
          },
          "scene": {
           "xaxis": {
            "backgroundcolor": "#E5ECF6",
            "gridcolor": "white",
            "gridwidth": 2,
            "linecolor": "white",
            "showbackground": true,
            "ticks": "",
            "zerolinecolor": "white"
           },
           "yaxis": {
            "backgroundcolor": "#E5ECF6",
            "gridcolor": "white",
            "gridwidth": 2,
            "linecolor": "white",
            "showbackground": true,
            "ticks": "",
            "zerolinecolor": "white"
           },
           "zaxis": {
            "backgroundcolor": "#E5ECF6",
            "gridcolor": "white",
            "gridwidth": 2,
            "linecolor": "white",
            "showbackground": true,
            "ticks": "",
            "zerolinecolor": "white"
           }
          },
          "shapedefaults": {
           "line": {
            "color": "#2a3f5f"
           }
          },
          "ternary": {
           "aaxis": {
            "gridcolor": "white",
            "linecolor": "white",
            "ticks": ""
           },
           "baxis": {
            "gridcolor": "white",
            "linecolor": "white",
            "ticks": ""
           },
           "bgcolor": "#E5ECF6",
           "caxis": {
            "gridcolor": "white",
            "linecolor": "white",
            "ticks": ""
           }
          },
          "title": {
           "x": 0.05
          },
          "xaxis": {
           "automargin": true,
           "gridcolor": "white",
           "linecolor": "white",
           "ticks": "",
           "title": {
            "standoff": 15
           },
           "zerolinecolor": "white",
           "zerolinewidth": 2
          },
          "yaxis": {
           "automargin": true,
           "gridcolor": "white",
           "linecolor": "white",
           "ticks": "",
           "title": {
            "standoff": 15
           },
           "zerolinecolor": "white",
           "zerolinewidth": 2
          }
         }
        },
        "width": 1800,
        "xaxis": {
         "gridcolor": "rgba(128, 128, 128, 0.2)",
         "gridwidth": 1,
         "showgrid": true,
         "tickangle": 45,
         "title": {
          "font": {
           "color": "#3D3C3A",
           "size": 28
          },
          "text": "Zone"
         }
        },
        "yaxis": {
         "gridcolor": "rgba(128, 128, 128, 0.2)",
         "gridwidth": 1,
         "showgrid": true,
         "title": {
          "font": {
           "color": "#3D3C3A",
           "size": 28
          },
          "text": "Factors"
         }
        }
       }
      },
      "text/html": "<div>\n        \n        \n            <div id=\"4555be52-d290-44a8-92db-82e0f9087130\" class=\"plotly-graph-div\" style=\"height:750px; width:1800px;\"></div>\n            <script type=\"text/javascript\">\n                require([\"plotly\"], function(Plotly) {\n                    window.PLOTLYENV=window.PLOTLYENV || {};\n                    \n                if (document.getElementById(\"4555be52-d290-44a8-92db-82e0f9087130\")) {\n                    Plotly.newPlot(\n                        '4555be52-d290-44a8-92db-82e0f9087130',\n                        [{\"colorbar\": {\"len\": 1, \"tickfont\": {\"size\": 20}, \"title\": {\"font\": {\"size\": 24}, \"side\": \"right\", \"text\": \"Correlation\"}}, \"colorscale\": [[0.0, \"#708090\"], [0.5, \"#FFFFFF\"], [1.0, \"#4169E1\"]], \"hoverongaps\": false, \"hovertemplate\": \"Zone: %{x}<br>Factor: %{y}<br>Correlation: %{z:.2f}<extra></extra>\", \"type\": \"heatmap\", \"x\": [\"Azimpur\", \"Barisal\", \"Bhairab Bazar\", \"Bhola\", \"Bogra\", \"Chittagong\", \"Comilla\", \"Dhaka\", \"Dinajpur\", \"Faridpur\", \"Feni\", \"Habiganj\", \"Ishurdi\", \"Jamalpur\", \"Jessore\", \"Joypur Hat\", \"Khagrachhari\", \"Khulna\", \"Kishorganj\", \"Kushtia\", \"Laksham\", \"Lakshmipur\", \"Lalmanirhat\", \"Madaripur\", \"Maulavi Bazar\", \"Mymensingh\", \"Nagarpur\", \"Narail\", \"Narayanganj\", \"Narsingdi\", \"Nawabganj\", \"Netrakona\", \"Pabna\", \"Palang\", \"Paltan\", \"Par Naogaon\", \"Patiya\", \"Pirojpur\", \"Raipur\", \"Rajshahi\", \"Ramganj\", \"Rangpur\", \"Saidpur\", \"Sandwip\", \"Sarishabari\", \"Satkania\", \"Satkhira\", \"Shahzadpur\", \"Sherpur\", \"Sirajganj\", \"Sylhet\", \"Tangail\", \"Thakurgaon\", \"Tungi\", \"Tungipara\"], \"y\": [\"Temperature\", \"Radiation\", \"Humidity\", \"Pressure\", \"Wind Speed\", \"Wind Gust\", \"Precipitation\", \"Cloud Cover\"], \"z\": [[-0.6405123970316646, -0.674919504115522, -0.6348285604771643, -0.6907179457125647, -0.6781507810456457, -0.6592354679118636, -0.6285098480268384, -0.6384228274555791, -0.6783923733851793, -0.6748501637956423, -0.633581987754856, -0.6274191968713948, -0.6982708501577158, -0.6612311772667531, -0.6958149471946127, -0.6879392561387829, -0.6163618867306644, -0.6858316275111667, -0.6448283163354379, -0.6990771421627907, -0.6391286051355142, -0.6638721721405284, -0.6452578065403248, -0.6745620647080722, -0.6246596034371742, -0.6419464447982072, -0.6682270209117896, -0.6946188768336529, -0.6334369476662748, -0.6284226583676282, -0.6980523904225129, -0.6399929260296414, -0.6963184632157772, -0.6681214337111455, -0.6384228070807771, -0.6846353113835725, -0.6581027187665663, -0.6931764618683459, -0.6611052064934964, -0.6935319445001444, -0.6430132748365548, -0.6677430545651345, -0.6689664130550932, -0.6164418091931294, -0.6687889782155972, -0.602798167686952, -0.6899281600160568, -0.6800334677420421, -0.6572771685212849, -0.6712378188915643, -0.6235353957036981, -0.6623458324061301, -0.6494331286129184, -0.6256877866197036, -0.6818307262701071], [-0.7427817409482375, -0.7963675311233569, -0.7654292299870084, -0.8004718236619386, -0.7846156114940543, -0.8203573236463926, -0.765700781122034, -0.7405327991706476, -0.7589608740007846, -0.7740527060660536, -0.7872682167245495, -0.7724588783248134, -0.789179967759983, -0.779232911192411, -0.7962395910692911, -0.7816087554681488, -0.7888820492491115, -0.7988337509635859, -0.7712298298768744, -0.7889448294690348, -0.7752057653283384, -0.7875580707268811, -0.7573676116682272, -0.7822276559662303, -0.7714422460751394, -0.7669755612418647, -0.7742149006556988, -0.7952097322074829, -0.7510661165021354, -0.7541551938485732, -0.7851495872795567, -0.7692414620928351, -0.786689496658527, -0.7751441990955029, -0.7405327991706476, -0.7834026822011051, -0.821463441821003, -0.8006577018155393, -0.783803520182536, -0.7854143189388983, -0.7765216728255805, -0.7663242264770205, -0.7588822185631775, -0.8017261050460562, -0.7777215275074281, -0.8122581678225254, -0.8010893408244445, -0.7828873113543223, -0.7768038016045528, -0.7802306780102773, -0.7528804815566373, -0.7716936816164801, -0.7436868936657101, -0.7372792991055903, -0.7905925575390179], [-0.11197442509569168, -0.11643464071738802, -0.08606790628198116, -0.15923042743030466, -0.17288368176208116, -0.1331929055241206, -0.1644124956725866, -0.1124445519384113, -0.21066461931815572, -0.17335987090159355, -0.26169388701514823, -0.14979929694612987, -0.0958392782425074, -0.1442664129218271, -0.12378353597869653, -0.18460266420151283, -0.0702902557186935, -0.15154091753460022, -0.09928419838465277, -0.09334673528700364, -0.1463515203607315, -0.1770267291384524, -0.25129773801532335, -0.12037648133981632, -0.18053919428019966, -0.1655824555909205, -0.1275151869740547, -0.13400000605910803, -0.1070243406689665, -0.15057264760307573, -0.07595869984394232, -0.1548774340451309, -0.09737947990478456, -0.1226104817773455, -0.1124445519384113, -0.20901015674704432, -0.13609494127044347, -0.118799744670408, -0.17587545616713474, -0.13396838270369363, -0.15806467396039162, -0.21710755843458981, -0.22133269513801865, -0.4039858202922961, -0.12443470108608008, -0.18820322917375965, -0.18439939569843478, -0.09778075806639593, -0.1756588962202039, -0.11273690122121074, -0.15833140045257338, -0.1050890873858048, -0.2661165568955173, -0.11298284362110164, -0.12425954631126915], [0.6246915037910037, 0.6723460350793689, 0.6306269686325825, 0.6690588999133895, 0.6774497602663502, 0.6726032905598616, 0.6407747091858756, 0.6227949811152822, 0.6730327948538609, 0.6664448892831658, 0.6525601237035465, 0.6261999195148235, 0.6937771603762404, 0.6589372328773561, 0.6926965610312935, 0.6824845565140906, 0.6458397949573408, 0.6858049865629867, 0.6329621859473648, 0.6923903137048315, 0.64774896207057, 0.6583508086337437, 0.6535367608133273, 0.659749799637666, 0.6168753835701852, 0.6428617582092649, 0.657597320559392, 0.6872724516128531, 0.6257897396351083, 0.6267114017900964, 0.7042786815715351, 0.6347522270347844, 0.6900172577488469, 0.653975773556389, 0.6227949811152822, 0.6905659896610673, 0.6747347166662724, 0.6823509995128206, 0.6547159208576795, 0.7019775720301785, 0.6502054371900006, 0.6620222777229966, 0.6666037674119512, 0.6692800026631456, 0.6632315761793841, 0.6724667026573053, 0.6862124612588154, 0.6715857710171824, 0.6549275553638486, 0.6664121821622024, 0.5992074431545962, 0.6560402722430564, 0.6537491970562801, 0.6197792681337191, 0.6779352894386746], [-0.2979740161970706, -0.29492462907551753, -0.33091016026428904, -0.35745678449827567, -0.3073634717519835, -0.3731663499153825, -0.30297653848693173, -0.29721029106540386, -0.2088562075052228, -0.28649129931855455, -0.3634647611627707, -0.21222289588502002, -0.29401931511226204, -0.2671621189156848, -0.3202780306375443, -0.2457097072709202, -0.2750553757605133, -0.3087072457153645, -0.2875867063668122, -0.2936011534210418, -0.3319693043191539, -0.31913820777981394, -0.18331102728908627, -0.31759611529988824, -0.13476224229828118, -0.2608880413372944, -0.3068732545566345, -0.3016876768695729, -0.31484506072978213, -0.30608278184813853, -0.24513154600917525, -0.2677085767831355, -0.29123038918357397, -0.31525158428408206, -0.29721029106540386, -0.2559793277210452, -0.3743721721669778, -0.32371813293594365, -0.317841493299156, -0.2856280458293795, -0.335285826509965, -0.21698264424148572, -0.19436336396322193, -0.39695937811062637, -0.2942264588708893, -0.2965014544412675, -0.3499950964327634, -0.335354820245515, -0.3117817082480425, -0.3070969170579032, -0.028360264448433065, -0.28252103318747324, -0.18358955526500195, -0.31296910971034175, -0.2903125817585636], [-0.39960445010121526, -0.39002058192879707, -0.4417293337148219, -0.39612107510458094, -0.42448984417704627, -0.42378271080028973, -0.4123693404185851, -0.3982323539448499, -0.3683262367591967, -0.40212625019538834, -0.42454855938721214, -0.37253301840579317, -0.42149193138545377, -0.39687858567788203, -0.41356644127409675, -0.40312602695966515, -0.38464425977641103, -0.4010577769876842, -0.42537894562137457, -0.42079281214563263, -0.4075451585678556, -0.3993182716857202, -0.3262552556004314, -0.42438185200239475, -0.34209391913737464, -0.40056241310998975, -0.4200168490632322, -0.4138119468245549, -0.4039075477414322, -0.425100665176781, -0.3971414496321844, -0.43035988501607764, -0.4175555095210458, -0.42047128959294544, -0.3982323539448499, -0.39371765798963415, -0.42461992928742587, -0.40660681188483166, -0.3977241417979291, -0.39835124539956224, -0.40612049249682136, -0.3528129644510967, -0.3511342719884812, -0.4247797093452011, -0.41622612797107067, -0.368750610129572, -0.4286378934741019, -0.44528246113147424, -0.4437014524237653, -0.4158832037373883, -0.32064143753376645, -0.4265860816667458, -0.32615882258272605, -0.40810983378594495, -0.39940129474229785], [-0.14994938942981537, -0.16090783186624522, -0.15746528519846595, -0.18050127047675796, -0.17359552746689358, -0.2188465907819527, -0.150176666940883, -0.14954863484732445, -0.17236994298778513, -0.14212117144536177, -0.19470103191176424, -0.16611070330478875, -0.15390307846249074, -0.18973223005119014, -0.15742329706923763, -0.15671525055784746, -0.15372505262346128, -0.14320259135313212, -0.16101625180961726, -0.1539546387624684, -0.15492663313331584, -0.1674072416115258, -0.2325827203320379, -0.1426946671510114, -0.21707667130513159, -0.1915205955163757, -0.15928461887896977, -0.15105581443148966, -0.15279002611849501, -0.14917267256501704, -0.15706011067908368, -0.21129371085941684, -0.15333264079007017, -0.1416997120696302, -0.14954863484732445, -0.1795952993537594, -0.22035185479714203, -0.14974127759380257, -0.16700895729507834, -0.15652339422324685, -0.15746181413719967, -0.21816568355865462, -0.21235243650954103, -0.21214326569006867, -0.18262408453985893, -0.20407075112136625, -0.14211130058571197, -0.16101357327591356, -0.17524279723150077, -0.16216965119603918, -0.24207563766108403, -0.15779387778473405, -0.19636996855552757, -0.16007455977179014, -0.1459656053718489], [-0.3875660191023885, -0.3959348672097482, -0.3504081668748809, -0.4164713136727393, -0.40320706201673495, -0.4528249973344371, -0.41475918384150146, -0.38623384245105197, -0.3836032452316067, -0.4038956109552778, -0.4252499355187671, -0.40873325830876095, -0.35587850983427954, -0.4263219510277449, -0.41228588054419407, -0.4078295962877317, -0.38065376270859835, -0.41373997987793737, -0.37536085282176374, -0.3561492622453132, -0.4108266857435953, -0.4084289451192833, -0.4080843149227203, -0.40055706539957375, -0.44683230519157174, -0.42599328269316633, -0.3990965502709057, -0.41275691695484734, -0.373366284757109, -0.3960261220419571, -0.3712281224454333, -0.44139306651572874, -0.35506018483080076, -0.39626487003696403, -0.38623384245105197, -0.4007022299390379, -0.4544172448947644, -0.39431853460790267, -0.4061709456689895, -0.378619295300659, -0.4075492754643398, -0.40422566629565976, -0.3932309581268981, -0.4508056116738956, -0.39127804986007947, -0.5111838446012987, -0.4160563471787983, -0.3628427032465273, -0.434633428499138, -0.367724024897284, -0.48520775174526226, -0.4020697956587038, -0.3924053678508355, -0.3925218614290805, -0.40253450895522247]], \"zmax\": 1, \"zmin\": -1}],\n                        {\"autosize\": false, \"font\": {\"color\": \"#3D3C3A\", \"size\": 27}, \"height\": 750, \"margin\": {\"b\": 150, \"l\": 100, \"r\": 50, \"t\": 120}, \"paper_bgcolor\": \"white\", \"plot_bgcolor\": \"white\", \"template\": {\"data\": {\"bar\": [{\"error_x\": {\"color\": \"#2a3f5f\"}, \"error_y\": {\"color\": \"#2a3f5f\"}, \"marker\": {\"line\": {\"color\": \"#E5ECF6\", \"width\": 0.5}}, \"type\": \"bar\"}], \"barpolar\": [{\"marker\": {\"line\": {\"color\": \"#E5ECF6\", \"width\": 0.5}}, \"type\": \"barpolar\"}], \"carpet\": [{\"aaxis\": {\"endlinecolor\": \"#2a3f5f\", \"gridcolor\": \"white\", \"linecolor\": \"white\", \"minorgridcolor\": \"white\", \"startlinecolor\": \"#2a3f5f\"}, \"baxis\": {\"endlinecolor\": \"#2a3f5f\", \"gridcolor\": \"white\", \"linecolor\": \"white\", \"minorgridcolor\": \"white\", \"startlinecolor\": \"#2a3f5f\"}, \"type\": \"carpet\"}], \"choropleth\": [{\"colorbar\": {\"outlinewidth\": 0, \"ticks\": \"\"}, \"type\": \"choropleth\"}], \"contour\": [{\"colorbar\": {\"outlinewidth\": 0, \"ticks\": \"\"}, \"colorscale\": [[0.0, \"#0d0887\"], [0.1111111111111111, \"#46039f\"], [0.2222222222222222, \"#7201a8\"], [0.3333333333333333, \"#9c179e\"], [0.4444444444444444, \"#bd3786\"], [0.5555555555555556, \"#d8576b\"], [0.6666666666666666, \"#ed7953\"], [0.7777777777777778, \"#fb9f3a\"], [0.8888888888888888, \"#fdca26\"], [1.0, \"#f0f921\"]], \"type\": \"contour\"}], \"contourcarpet\": [{\"colorbar\": {\"outlinewidth\": 0, \"ticks\": \"\"}, \"type\": \"contourcarpet\"}], \"heatmap\": [{\"colorbar\": {\"outlinewidth\": 0, \"ticks\": \"\"}, \"colorscale\": [[0.0, \"#0d0887\"], [0.1111111111111111, \"#46039f\"], [0.2222222222222222, \"#7201a8\"], [0.3333333333333333, \"#9c179e\"], [0.4444444444444444, \"#bd3786\"], [0.5555555555555556, \"#d8576b\"], [0.6666666666666666, \"#ed7953\"], [0.7777777777777778, \"#fb9f3a\"], [0.8888888888888888, \"#fdca26\"], [1.0, \"#f0f921\"]], \"type\": \"heatmap\"}], \"heatmapgl\": [{\"colorbar\": {\"outlinewidth\": 0, \"ticks\": \"\"}, \"colorscale\": [[0.0, \"#0d0887\"], [0.1111111111111111, \"#46039f\"], [0.2222222222222222, \"#7201a8\"], [0.3333333333333333, \"#9c179e\"], [0.4444444444444444, \"#bd3786\"], [0.5555555555555556, \"#d8576b\"], [0.6666666666666666, \"#ed7953\"], [0.7777777777777778, \"#fb9f3a\"], [0.8888888888888888, \"#fdca26\"], [1.0, \"#f0f921\"]], \"type\": \"heatmapgl\"}], \"histogram\": [{\"marker\": {\"colorbar\": {\"outlinewidth\": 0, \"ticks\": \"\"}}, \"type\": \"histogram\"}], \"histogram2d\": [{\"colorbar\": {\"outlinewidth\": 0, \"ticks\": \"\"}, \"colorscale\": [[0.0, \"#0d0887\"], [0.1111111111111111, \"#46039f\"], [0.2222222222222222, \"#7201a8\"], [0.3333333333333333, \"#9c179e\"], [0.4444444444444444, \"#bd3786\"], [0.5555555555555556, \"#d8576b\"], [0.6666666666666666, \"#ed7953\"], [0.7777777777777778, \"#fb9f3a\"], [0.8888888888888888, \"#fdca26\"], [1.0, \"#f0f921\"]], \"type\": \"histogram2d\"}], \"histogram2dcontour\": [{\"colorbar\": {\"outlinewidth\": 0, \"ticks\": \"\"}, \"colorscale\": [[0.0, \"#0d0887\"], [0.1111111111111111, \"#46039f\"], [0.2222222222222222, \"#7201a8\"], [0.3333333333333333, \"#9c179e\"], [0.4444444444444444, \"#bd3786\"], [0.5555555555555556, \"#d8576b\"], [0.6666666666666666, \"#ed7953\"], [0.7777777777777778, \"#fb9f3a\"], [0.8888888888888888, \"#fdca26\"], [1.0, \"#f0f921\"]], \"type\": \"histogram2dcontour\"}], \"mesh3d\": [{\"colorbar\": {\"outlinewidth\": 0, \"ticks\": \"\"}, \"type\": \"mesh3d\"}], \"parcoords\": [{\"line\": {\"colorbar\": {\"outlinewidth\": 0, \"ticks\": \"\"}}, \"type\": \"parcoords\"}], \"pie\": [{\"automargin\": true, \"type\": \"pie\"}], \"scatter\": [{\"marker\": {\"colorbar\": {\"outlinewidth\": 0, \"ticks\": \"\"}}, \"type\": \"scatter\"}], \"scatter3d\": [{\"line\": {\"colorbar\": {\"outlinewidth\": 0, \"ticks\": \"\"}}, \"marker\": {\"colorbar\": {\"outlinewidth\": 0, \"ticks\": \"\"}}, \"type\": \"scatter3d\"}], \"scattercarpet\": [{\"marker\": {\"colorbar\": {\"outlinewidth\": 0, \"ticks\": \"\"}}, \"type\": \"scattercarpet\"}], \"scattergeo\": [{\"marker\": {\"colorbar\": {\"outlinewidth\": 0, \"ticks\": \"\"}}, \"type\": \"scattergeo\"}], \"scattergl\": [{\"marker\": {\"colorbar\": {\"outlinewidth\": 0, \"ticks\": \"\"}}, \"type\": \"scattergl\"}], \"scattermapbox\": [{\"marker\": {\"colorbar\": {\"outlinewidth\": 0, \"ticks\": \"\"}}, \"type\": \"scattermapbox\"}], \"scatterpolar\": [{\"marker\": {\"colorbar\": {\"outlinewidth\": 0, \"ticks\": \"\"}}, \"type\": \"scatterpolar\"}], \"scatterpolargl\": [{\"marker\": {\"colorbar\": {\"outlinewidth\": 0, \"ticks\": \"\"}}, \"type\": \"scatterpolargl\"}], \"scatterternary\": [{\"marker\": {\"colorbar\": {\"outlinewidth\": 0, \"ticks\": \"\"}}, \"type\": \"scatterternary\"}], \"surface\": [{\"colorbar\": {\"outlinewidth\": 0, \"ticks\": \"\"}, \"colorscale\": [[0.0, \"#0d0887\"], [0.1111111111111111, \"#46039f\"], [0.2222222222222222, \"#7201a8\"], [0.3333333333333333, \"#9c179e\"], [0.4444444444444444, \"#bd3786\"], [0.5555555555555556, \"#d8576b\"], [0.6666666666666666, \"#ed7953\"], [0.7777777777777778, \"#fb9f3a\"], [0.8888888888888888, \"#fdca26\"], [1.0, \"#f0f921\"]], \"type\": \"surface\"}], \"table\": [{\"cells\": {\"fill\": {\"color\": \"#EBF0F8\"}, \"line\": {\"color\": \"white\"}}, \"header\": {\"fill\": {\"color\": \"#C8D4E3\"}, \"line\": {\"color\": \"white\"}}, \"type\": \"table\"}]}, \"layout\": {\"annotationdefaults\": {\"arrowcolor\": \"#2a3f5f\", \"arrowhead\": 0, \"arrowwidth\": 1}, \"coloraxis\": {\"colorbar\": {\"outlinewidth\": 0, \"ticks\": \"\"}}, \"colorscale\": {\"diverging\": [[0, \"#8e0152\"], [0.1, \"#c51b7d\"], [0.2, \"#de77ae\"], [0.3, \"#f1b6da\"], [0.4, \"#fde0ef\"], [0.5, \"#f7f7f7\"], [0.6, \"#e6f5d0\"], [0.7, \"#b8e186\"], [0.8, \"#7fbc41\"], [0.9, \"#4d9221\"], [1, \"#276419\"]], \"sequential\": [[0.0, \"#0d0887\"], [0.1111111111111111, \"#46039f\"], [0.2222222222222222, \"#7201a8\"], [0.3333333333333333, \"#9c179e\"], [0.4444444444444444, \"#bd3786\"], [0.5555555555555556, \"#d8576b\"], [0.6666666666666666, \"#ed7953\"], [0.7777777777777778, \"#fb9f3a\"], [0.8888888888888888, \"#fdca26\"], [1.0, \"#f0f921\"]], \"sequentialminus\": [[0.0, \"#0d0887\"], [0.1111111111111111, \"#46039f\"], [0.2222222222222222, \"#7201a8\"], [0.3333333333333333, \"#9c179e\"], [0.4444444444444444, \"#bd3786\"], [0.5555555555555556, \"#d8576b\"], [0.6666666666666666, \"#ed7953\"], [0.7777777777777778, \"#fb9f3a\"], [0.8888888888888888, \"#fdca26\"], [1.0, \"#f0f921\"]]}, \"colorway\": [\"#636efa\", \"#EF553B\", \"#00cc96\", \"#ab63fa\", \"#FFA15A\", \"#19d3f3\", \"#FF6692\", \"#B6E880\", \"#FF97FF\", \"#FECB52\"], \"font\": {\"color\": \"#2a3f5f\"}, \"geo\": {\"bgcolor\": \"white\", \"lakecolor\": \"white\", \"landcolor\": \"#E5ECF6\", \"showlakes\": true, \"showland\": true, \"subunitcolor\": \"white\"}, \"hoverlabel\": {\"align\": \"left\"}, \"hovermode\": \"closest\", \"mapbox\": {\"style\": \"light\"}, \"paper_bgcolor\": \"white\", \"plot_bgcolor\": \"#E5ECF6\", \"polar\": {\"angularaxis\": {\"gridcolor\": \"white\", \"linecolor\": \"white\", \"ticks\": \"\"}, \"bgcolor\": \"#E5ECF6\", \"radialaxis\": {\"gridcolor\": \"white\", \"linecolor\": \"white\", \"ticks\": \"\"}}, \"scene\": {\"xaxis\": {\"backgroundcolor\": \"#E5ECF6\", \"gridcolor\": \"white\", \"gridwidth\": 2, \"linecolor\": \"white\", \"showbackground\": true, \"ticks\": \"\", \"zerolinecolor\": \"white\"}, \"yaxis\": {\"backgroundcolor\": \"#E5ECF6\", \"gridcolor\": \"white\", \"gridwidth\": 2, \"linecolor\": \"white\", \"showbackground\": true, \"ticks\": \"\", \"zerolinecolor\": \"white\"}, \"zaxis\": {\"backgroundcolor\": \"#E5ECF6\", \"gridcolor\": \"white\", \"gridwidth\": 2, \"linecolor\": \"white\", \"showbackground\": true, \"ticks\": \"\", \"zerolinecolor\": \"white\"}}, \"shapedefaults\": {\"line\": {\"color\": \"#2a3f5f\"}}, \"ternary\": {\"aaxis\": {\"gridcolor\": \"white\", \"linecolor\": \"white\", \"ticks\": \"\"}, \"baxis\": {\"gridcolor\": \"white\", \"linecolor\": \"white\", \"ticks\": \"\"}, \"bgcolor\": \"#E5ECF6\", \"caxis\": {\"gridcolor\": \"white\", \"linecolor\": \"white\", \"ticks\": \"\"}}, \"title\": {\"x\": 0.05}, \"xaxis\": {\"automargin\": true, \"gridcolor\": \"white\", \"linecolor\": \"white\", \"ticks\": \"\", \"title\": {\"standoff\": 15}, \"zerolinecolor\": \"white\", \"zerolinewidth\": 2}, \"yaxis\": {\"automargin\": true, \"gridcolor\": \"white\", \"linecolor\": \"white\", \"ticks\": \"\", \"title\": {\"standoff\": 15}, \"zerolinecolor\": \"white\", \"zerolinewidth\": 2}}}, \"width\": 1800, \"xaxis\": {\"gridcolor\": \"rgba(128, 128, 128, 0.2)\", \"gridwidth\": 1, \"showgrid\": true, \"tickangle\": 45, \"title\": {\"font\": {\"color\": \"#3D3C3A\", \"size\": 28}, \"text\": \"Zone\"}}, \"yaxis\": {\"gridcolor\": \"rgba(128, 128, 128, 0.2)\", \"gridwidth\": 1, \"showgrid\": true, \"title\": {\"font\": {\"color\": \"#3D3C3A\", \"size\": 28}, \"text\": \"Factors\"}}},\n                        {\"displayModeBar\": false, \"responsive\": true}\n                    ).then(function(){\n                            \nvar gd = document.getElementById('4555be52-d290-44a8-92db-82e0f9087130');\nvar x = new MutationObserver(function (mutations, observer) {{\n        var display = window.getComputedStyle(gd).display;\n        if (!display || display === 'none') {{\n            console.log([gd, 'removed!']);\n            Plotly.purge(gd);\n            observer.disconnect();\n        }}\n}});\n\n// Listen for the removal of the full notebook cells\nvar notebookContainer = gd.closest('#notebook-container');\nif (notebookContainer) {{\n    x.observe(notebookContainer, {childList: true});\n}}\n\n// Listen for the clearing of the current output cell\nvar outputEl = gd.closest('.output');\nif (outputEl) {{\n    x.observe(outputEl, {childList: true});\n}}\n\n                        })\n                };\n                });\n            </script>\n        </div>"
     },
     "metadata": {},
     "output_type": "display_data"
    },
    {
     "ename": "ValueError",
     "evalue": "\nThe orca executable is required in order to export figures as static images,\nbut the executable that was found at '/usr/bin/orca'\ndoes not seem to be a valid plotly orca executable. Please refer to the end of\nthis message for details on what went wrong.\n\nIf you haven't installed orca yet, you can do so using conda as follows:\n\n    $ conda install -c plotly plotly-orca\n\nAlternatively, see other installation methods in the orca project README at\nhttps://github.com/plotly/orca\n\nAfter installation is complete, no further configuration should be needed.\n\nIf you have installed orca, then for some reason plotly.py was unable to\nlocate it. In this case, set the `plotly.io.orca.config.executable`\nproperty to the full path of your orca executable. For example:\n\n    >>> plotly.io.orca.config.executable = '/path/to/orca'\n\nAfter updating this executable property, try the export operation again.\nIf it is successful then you may want to save this configuration so that it\nwill be applied automatically in future sessions. You can do this as follows:\n\n    >>> plotly.io.orca.config.save()\n\nIf you're still having trouble, feel free to ask for help on the forums at\nhttps://community.plot.ly/c/api/python\n\nThe error encountered is that unexpected output was returned by the command\n    $ /usr/bin/orca --help\n\nb'Usage: orca [-h] [-v] [-r] [-s] [-l] [-e OPTION] [-d OPTION] [-p NAME]\\n            [-u DIR] [--debug-file FILE] [--debug]\\n\\nOptional arguments:\\n  -h, --help                   Show this help message and exit\\n  -v, --version                3.36.2\\n  -r, --replace                Replace a currently running instance of this\\n                               screen reader\\n  -s, --setup                  Set up user preferences (GUI version)\\n  -l, --list-apps              Print the known running applications\\n  -e OPTION, --enable OPTION   Force use of option\\n  -d OPTION, --disable OPTION  Prevent use of option\\n  -p NAME, --profile NAME      Load profile\\n  -u DIR, --user-prefs DIR     Use alternate directory for user preferences\\n  --debug-file FILE            Send debug output to the specified file\\n  --debug                      Send debug output to debug-YYYY-MM-DD-\\n                               HH:MM:SS.out\\n\\nReport bugs to orca-list@gnome.org.\\n'\n",
     "output_type": "error",
     "traceback": [
      "\u001B[0;31m---------------------------------------------------------------------------\u001B[0m",
      "\u001B[0;31mValueError\u001B[0m                                Traceback (most recent call last)",
      "\u001B[0;32m<ipython-input-31-e2b687c0c3de>\u001B[0m in \u001B[0;36m<module>\u001B[0;34m\u001B[0m\n\u001B[1;32m     76\u001B[0m \u001B[0;34m\u001B[0m\u001B[0m\n\u001B[1;32m     77\u001B[0m \u001B[0mfig\u001B[0m\u001B[0;34m.\u001B[0m\u001B[0mshow\u001B[0m\u001B[0;34m(\u001B[0m\u001B[0mconfig\u001B[0m\u001B[0;34m=\u001B[0m\u001B[0;34m{\u001B[0m\u001B[0;34m'displayModeBar'\u001B[0m\u001B[0;34m:\u001B[0m \u001B[0;32mFalse\u001B[0m\u001B[0;34m,\u001B[0m \u001B[0;34m'responsive'\u001B[0m\u001B[0;34m:\u001B[0m \u001B[0;32mTrue\u001B[0m\u001B[0;34m}\u001B[0m\u001B[0;34m)\u001B[0m\u001B[0;34m\u001B[0m\u001B[0;34m\u001B[0m\u001B[0m\n\u001B[0;32m---> 78\u001B[0;31m \u001B[0mfig\u001B[0m\u001B[0;34m.\u001B[0m\u001B[0mwrite_image\u001B[0m\u001B[0;34m(\u001B[0m\u001B[0;34m\"your_graph.pdf\"\u001B[0m\u001B[0;34m,\u001B[0m \u001B[0mformat\u001B[0m\u001B[0;34m=\u001B[0m\u001B[0;34m\"pdf\"\u001B[0m\u001B[0;34m)\u001B[0m\u001B[0;34m\u001B[0m\u001B[0;34m\u001B[0m\u001B[0m\n\u001B[0m",
      "\u001B[0;32m~/PycharmProjects/Air_Quality_Analysis/venv/lib/python3.6/site-packages/plotly/basedatatypes.py\u001B[0m in \u001B[0;36mwrite_image\u001B[0;34m(self, *args, **kwargs)\u001B[0m\n\u001B[1;32m   3238\u001B[0m         \u001B[0;32mimport\u001B[0m \u001B[0mplotly\u001B[0m\u001B[0;34m.\u001B[0m\u001B[0mio\u001B[0m \u001B[0;32mas\u001B[0m \u001B[0mpio\u001B[0m\u001B[0;34m\u001B[0m\u001B[0;34m\u001B[0m\u001B[0m\n\u001B[1;32m   3239\u001B[0m \u001B[0;34m\u001B[0m\u001B[0m\n\u001B[0;32m-> 3240\u001B[0;31m         \u001B[0;32mreturn\u001B[0m \u001B[0mpio\u001B[0m\u001B[0;34m.\u001B[0m\u001B[0mwrite_image\u001B[0m\u001B[0;34m(\u001B[0m\u001B[0mself\u001B[0m\u001B[0;34m,\u001B[0m \u001B[0;34m*\u001B[0m\u001B[0margs\u001B[0m\u001B[0;34m,\u001B[0m \u001B[0;34m**\u001B[0m\u001B[0mkwargs\u001B[0m\u001B[0;34m)\u001B[0m\u001B[0;34m\u001B[0m\u001B[0;34m\u001B[0m\u001B[0m\n\u001B[0m\u001B[1;32m   3241\u001B[0m \u001B[0;34m\u001B[0m\u001B[0m\n\u001B[1;32m   3242\u001B[0m     \u001B[0;31m# Static helpers\u001B[0m\u001B[0;34m\u001B[0m\u001B[0;34m\u001B[0m\u001B[0;34m\u001B[0m\u001B[0m\n",
      "\u001B[0;32m~/PycharmProjects/Air_Quality_Analysis/venv/lib/python3.6/site-packages/plotly/io/_orca.py\u001B[0m in \u001B[0;36mwrite_image\u001B[0;34m(fig, file, format, scale, width, height, validate)\u001B[0m\n\u001B[1;32m   1768\u001B[0m     \u001B[0;31m# Do this first so we don't create a file if image conversion fails\u001B[0m\u001B[0;34m\u001B[0m\u001B[0;34m\u001B[0m\u001B[0;34m\u001B[0m\u001B[0m\n\u001B[1;32m   1769\u001B[0m     img_data = to_image(\n\u001B[0;32m-> 1770\u001B[0;31m         \u001B[0mfig\u001B[0m\u001B[0;34m,\u001B[0m \u001B[0mformat\u001B[0m\u001B[0;34m=\u001B[0m\u001B[0mformat\u001B[0m\u001B[0;34m,\u001B[0m \u001B[0mscale\u001B[0m\u001B[0;34m=\u001B[0m\u001B[0mscale\u001B[0m\u001B[0;34m,\u001B[0m \u001B[0mwidth\u001B[0m\u001B[0;34m=\u001B[0m\u001B[0mwidth\u001B[0m\u001B[0;34m,\u001B[0m \u001B[0mheight\u001B[0m\u001B[0;34m=\u001B[0m\u001B[0mheight\u001B[0m\u001B[0;34m,\u001B[0m \u001B[0mvalidate\u001B[0m\u001B[0;34m=\u001B[0m\u001B[0mvalidate\u001B[0m\u001B[0;34m\u001B[0m\u001B[0;34m\u001B[0m\u001B[0m\n\u001B[0m\u001B[1;32m   1771\u001B[0m     )\n\u001B[1;32m   1772\u001B[0m \u001B[0;34m\u001B[0m\u001B[0m\n",
      "\u001B[0;32m~/PycharmProjects/Air_Quality_Analysis/venv/lib/python3.6/site-packages/plotly/io/_orca.py\u001B[0m in \u001B[0;36mto_image\u001B[0;34m(fig, format, width, height, scale, validate)\u001B[0m\n\u001B[1;32m   1533\u001B[0m     \u001B[0;31m# Make sure orca sever is running\u001B[0m\u001B[0;34m\u001B[0m\u001B[0;34m\u001B[0m\u001B[0;34m\u001B[0m\u001B[0m\n\u001B[1;32m   1534\u001B[0m     \u001B[0;31m# -------------------------------\u001B[0m\u001B[0;34m\u001B[0m\u001B[0;34m\u001B[0m\u001B[0;34m\u001B[0m\u001B[0m\n\u001B[0;32m-> 1535\u001B[0;31m     \u001B[0mensure_server\u001B[0m\u001B[0;34m(\u001B[0m\u001B[0;34m)\u001B[0m\u001B[0;34m\u001B[0m\u001B[0;34m\u001B[0m\u001B[0m\n\u001B[0m\u001B[1;32m   1536\u001B[0m \u001B[0;34m\u001B[0m\u001B[0m\n\u001B[1;32m   1537\u001B[0m     \u001B[0;31m# Handle defaults\u001B[0m\u001B[0;34m\u001B[0m\u001B[0;34m\u001B[0m\u001B[0;34m\u001B[0m\u001B[0m\n",
      "\u001B[0;32m~/PycharmProjects/Air_Quality_Analysis/venv/lib/python3.6/site-packages/plotly/io/_orca.py\u001B[0m in \u001B[0;36mensure_server\u001B[0;34m()\u001B[0m\n\u001B[1;32m   1388\u001B[0m         \u001B[0;31m# Validate orca executable only if server_url is not provided\u001B[0m\u001B[0;34m\u001B[0m\u001B[0;34m\u001B[0m\u001B[0;34m\u001B[0m\u001B[0m\n\u001B[1;32m   1389\u001B[0m         \u001B[0;32mif\u001B[0m \u001B[0mstatus\u001B[0m\u001B[0;34m.\u001B[0m\u001B[0mstate\u001B[0m \u001B[0;34m==\u001B[0m \u001B[0;34m\"unvalidated\"\u001B[0m\u001B[0;34m:\u001B[0m\u001B[0;34m\u001B[0m\u001B[0;34m\u001B[0m\u001B[0m\n\u001B[0;32m-> 1390\u001B[0;31m             \u001B[0mvalidate_executable\u001B[0m\u001B[0;34m(\u001B[0m\u001B[0;34m)\u001B[0m\u001B[0;34m\u001B[0m\u001B[0;34m\u001B[0m\u001B[0m\n\u001B[0m\u001B[1;32m   1391\u001B[0m         \u001B[0;31m# Acquire lock to make sure that we keep the properties of orca_state\u001B[0m\u001B[0;34m\u001B[0m\u001B[0;34m\u001B[0m\u001B[0;34m\u001B[0m\u001B[0m\n\u001B[1;32m   1392\u001B[0m         \u001B[0;31m# consistent across threads\u001B[0m\u001B[0;34m\u001B[0m\u001B[0;34m\u001B[0m\u001B[0;34m\u001B[0m\u001B[0m\n",
      "\u001B[0;32m~/PycharmProjects/Air_Quality_Analysis/venv/lib/python3.6/site-packages/plotly/io/_orca.py\u001B[0m in \u001B[0;36mvalidate_executable\u001B[0;34m()\u001B[0m\n\u001B[1;32m   1204\u001B[0m \u001B[0;34m{\u001B[0m\u001B[0mhelp_result\u001B[0m\u001B[0;34m}\u001B[0m\u001B[0;34m\u001B[0m\u001B[0;34m\u001B[0m\u001B[0m\n\u001B[1;32m   1205\u001B[0m \"\"\".format(\n\u001B[0;32m-> 1206\u001B[0;31m                 \u001B[0mexecutable\u001B[0m\u001B[0;34m=\u001B[0m\u001B[0;34m\" \"\u001B[0m\u001B[0;34m.\u001B[0m\u001B[0mjoin\u001B[0m\u001B[0;34m(\u001B[0m\u001B[0mexecutable_list\u001B[0m\u001B[0;34m)\u001B[0m\u001B[0;34m,\u001B[0m \u001B[0mhelp_result\u001B[0m\u001B[0;34m=\u001B[0m\u001B[0mhelp_result\u001B[0m\u001B[0;34m\u001B[0m\u001B[0;34m\u001B[0m\u001B[0m\n\u001B[0m\u001B[1;32m   1207\u001B[0m             )\n\u001B[1;32m   1208\u001B[0m         )\n",
      "\u001B[0;31mValueError\u001B[0m: \nThe orca executable is required in order to export figures as static images,\nbut the executable that was found at '/usr/bin/orca'\ndoes not seem to be a valid plotly orca executable. Please refer to the end of\nthis message for details on what went wrong.\n\nIf you haven't installed orca yet, you can do so using conda as follows:\n\n    $ conda install -c plotly plotly-orca\n\nAlternatively, see other installation methods in the orca project README at\nhttps://github.com/plotly/orca\n\nAfter installation is complete, no further configuration should be needed.\n\nIf you have installed orca, then for some reason plotly.py was unable to\nlocate it. In this case, set the `plotly.io.orca.config.executable`\nproperty to the full path of your orca executable. For example:\n\n    >>> plotly.io.orca.config.executable = '/path/to/orca'\n\nAfter updating this executable property, try the export operation again.\nIf it is successful then you may want to save this configuration so that it\nwill be applied automatically in future sessions. You can do this as follows:\n\n    >>> plotly.io.orca.config.save()\n\nIf you're still having trouble, feel free to ask for help on the forums at\nhttps://community.plot.ly/c/api/python\n\nThe error encountered is that unexpected output was returned by the command\n    $ /usr/bin/orca --help\n\nb'Usage: orca [-h] [-v] [-r] [-s] [-l] [-e OPTION] [-d OPTION] [-p NAME]\\n            [-u DIR] [--debug-file FILE] [--debug]\\n\\nOptional arguments:\\n  -h, --help                   Show this help message and exit\\n  -v, --version                3.36.2\\n  -r, --replace                Replace a currently running instance of this\\n                               screen reader\\n  -s, --setup                  Set up user preferences (GUI version)\\n  -l, --list-apps              Print the known running applications\\n  -e OPTION, --enable OPTION   Force use of option\\n  -d OPTION, --disable OPTION  Prevent use of option\\n  -p NAME, --profile NAME      Load profile\\n  -u DIR, --user-prefs DIR     Use alternate directory for user preferences\\n  --debug-file FILE            Send debug output to the specified file\\n  --debug                      Send debug output to debug-YYYY-MM-DD-\\n                               HH:MM:SS.out\\n\\nReport bugs to orca-list@gnome.org.\\n'\n"
     ]
    }
   ],
   "source": [
    "import plotly.graph_objects as go\n",
    "\n",
    "# Create custom colorscale from royal blue to slate gray\n",
    "colors = [\n",
    "   [0.0, '#708090'],    # Slate Gray for lowest values\n",
    "   [0.5, '#FFFFFF'],    # White for middle values\n",
    "   [1.0, '#4169E1']     # Royal Blue for highest values\n",
    "]\n",
    "\n",
    "fig = go.Figure(data=go.Heatmap(\n",
    "   z=corr_zones_df.T,\n",
    "   y=Y_axis_name,\n",
    "   x=corr_zones_df.index,\n",
    "   colorscale=colors,\n",
    "   zmin=-1,\n",
    "   zmax=1\n",
    "))\n",
    "\n",
    "# Enhanced layout with improvements\n",
    "fig.update_layout(\n",
    "   autosize=False,\n",
    "   width=1800,\n",
    "   height=750,\n",
    "   # Improved title and subtitle\n",
    "   # title=dict(\n",
    "   #     text=\"Correlation Analysis by Zone<br><sup>Showing weather factor correlations across different zones (-1 to +1)</sup>\",\n",
    "   #     font=dict(size=32, color=\"#2B4B8C\"),\n",
    "   #     x=0.5,\n",
    "   #     y=0.90\n",
    "   # ),\n",
    "   xaxis_title=dict(\n",
    "       text=\"Zone\",\n",
    "       font=dict(size=28, color=\"#3D3C3A\")\n",
    "   ),\n",
    "   yaxis_title=dict(\n",
    "       text=\"Factors\",\n",
    "       font=dict(size=28, color=\"#3D3C3A\")\n",
    "   ),\n",
    "   font=dict(size=27, color=\"#3D3C3A\"),\n",
    "   paper_bgcolor='white',\n",
    "   plot_bgcolor='white',\n",
    "   margin=dict(t=120, l=100, r=50, b=150)  # Increased bottom margin for rotated labels\n",
    ")\n",
    "\n",
    "# Add gridlines\n",
    "fig.update_xaxes(\n",
    "   showgrid=True,\n",
    "   gridwidth=1,\n",
    "   gridcolor='rgba(128, 128, 128, 0.2)',\n",
    "   tickangle=45  # Rotated labels at 45 degrees\n",
    ")\n",
    "fig.update_yaxes(\n",
    "   showgrid=True,\n",
    "   gridwidth=1,\n",
    "   gridcolor='rgba(128, 128, 128, 0.2)'\n",
    ")\n",
    "\n",
    "# Update hover template\n",
    "fig.update_traces(\n",
    "   hoverongaps=False,\n",
    "   hovertemplate='Zone: %{x}<br>Factor: %{y}<br>Correlation: %{z:.2f}<extra></extra>'\n",
    ")\n",
    "\n",
    "# Update colorbar\n",
    "fig.update_traces(\n",
    "   colorbar=dict(\n",
    "       title=dict(\n",
    "           text=\"Correlation\",\n",
    "           side=\"right\",\n",
    "           font=dict(size=24)\n",
    "       ),\n",
    "       tickfont=dict(size=20),\n",
    "       len=1\n",
    "   )\n",
    ")\n",
    "\n",
    "fig.show(config={'displayModeBar': False, 'responsive': True})"
   ],
   "metadata": {
    "collapsed": false,
    "ExecuteTime": {
     "start_time": "2024-11-23T21:12:03.313176Z",
     "end_time": "2024-11-23T21:12:03.479860Z"
    }
   }
  },
  {
   "cell_type": "code",
   "execution_count": null,
   "outputs": [],
   "source": [
    "corr_values = meteo_data_dhaka.apply(lambda x: x.corr(series_dhaka))\n",
    "corr_values"
   ],
   "metadata": {
    "collapsed": false,
    "ExecuteTime": {
     "start_time": "2024-10-17T03:32:14.675548Z",
     "end_time": "2024-10-17T03:32:14.837634Z"
    }
   }
  },
  {
   "cell_type": "code",
   "execution_count": null,
   "outputs": [],
   "source": [
    "corr_values_subset = corr_values[['Temperature [2 m elevation corrected]','Relative Humidity [2 m]','Mean Sea Level Pressure [MSL]','Wind Speed [10 m]']]\n",
    "corr_values_subset"
   ],
   "metadata": {
    "collapsed": false,
    "ExecuteTime": {
     "start_time": "2024-10-17T03:32:14.675609Z",
     "end_time": "2024-10-17T03:32:14.837715Z"
    }
   }
  },
  {
   "cell_type": "code",
   "execution_count": null,
   "outputs": [],
   "source": [
    "import plotly.graph_objects as go\n",
    "\n",
    "x = corr_values_subset.index\n",
    "y = corr_values_subset\n",
    "colors = ['#FFA500','#87CEEB','#2B65EC','#347C2C']\n",
    "\n",
    "# Use the hovertext kw argument for hover text\n",
    "fig = go.Figure(data=[go.Bar(x=x, y=y,\n",
    "            hovertext=[])])\n",
    "# Customize aspect\n",
    "fig.update_traces(marker_color=colors, marker_line_color='rgb(8,48,107)',\n",
    "                  marker_line_width=1.5, opacity=0.6)\n",
    "fig.update_layout(\n",
    "    autosize=False, width=1000, height=600,\n",
    "    yaxis_title=\"Pearson R\", xaxis_title=\"Factors\",\n",
    "    font=dict(size=15, color=\"#3D3C3A\"),yaxis_range=[-1,1])\n",
    "fig.show()"
   ],
   "metadata": {
    "collapsed": false,
    "ExecuteTime": {
     "start_time": "2024-10-17T03:32:14.675683Z",
     "end_time": "2024-10-17T03:32:14.837790Z"
    }
   }
  },
  {
   "cell_type": "markdown",
   "source": [
    "# All Factor Correlation"
   ],
   "metadata": {
    "collapsed": false
   }
  },
  {
   "cell_type": "code",
   "execution_count": 19,
   "outputs": [
    {
     "data": {
      "text/plain": "                                  Zone     Country      Region  Population  \\\nindex                                                                        \nAzimpur_Dhaka                  Azimpur  Bangladesh       Dhaka       96641   \nBarisal_Barisal                Barisal  Bangladesh     Barisal      202242   \nBhairab Bazar_Dhaka      Bhairab Bazar  Bangladesh       Dhaka      105457   \nBhola_Barisal                    Bhola  Bangladesh     Barisal       99079   \nBogra_Rajshahi                   Bogra  Bangladesh    Rajshahi      210000   \nChittagong_Chittagong       Chittagong  Bangladesh  Chittagong     3920222   \nComilla_Chittagong             Comilla  Bangladesh  Chittagong      389411   \nDhaka_Dhaka                      Dhaka  Bangladesh       Dhaka    10356500   \nDinajpur_Rangpur              Dinajpur  Bangladesh     Rangpur      206234   \nFaridpur_Dhaka                Faridpur  Bangladesh       Dhaka      112187   \nFeni_Chittagong                   Feni  Bangladesh  Chittagong       84028   \nHabiganj_Sylhet               Habiganj  Bangladesh      Sylhet       88760   \nIshurdi_Rajshahi               Ishurdi  Bangladesh    Rajshahi       81995   \nJamalpur_Mymensingh           Jamalpur  Bangladesh  Mymensingh      167900   \nJessore_Khulna                 Jessore  Bangladesh      Khulna      243987   \nJoypur Hat_Rajshahi         Joypur Hat  Bangladesh    Rajshahi       73068   \nKhagrachhari_Chittagong   Khagrachhari  Bangladesh  Chittagong       50364   \nKhulna_Khulna                   Khulna  Bangladesh      Khulna     1342339   \nKishorganj_Dhaka            Kishorganj  Bangladesh       Dhaka       90690   \nKushtia_Khulna                 Kushtia  Bangladesh      Khulna      135724   \nLaksham_Chittagong             Laksham  Bangladesh  Chittagong       82290   \nLakshmipur_Chittagong       Lakshmipur  Bangladesh  Chittagong       61703   \nLalmanirhat_Rangpur        Lalmanirhat  Bangladesh     Rangpur       65127   \nMadaripur_Dhaka              Madaripur  Bangladesh       Dhaka       84789   \nMaulavi Bazar_Sylhet     Maulavi Bazar  Bangladesh      Sylhet       57441   \nMymensingh_Mymensingh       Mymensingh  Bangladesh  Mymensingh      225126   \nNagarpur_Dhaka                Nagarpur  Bangladesh       Dhaka      238422   \nNarail_Khulna                   Narail  Bangladesh      Khulna       55112   \nNarayanganj_Dhaka          Narayanganj  Bangladesh       Dhaka      223622   \nNarsingdi_Dhaka              Narsingdi  Bangladesh       Dhaka      281080   \nNawabganj_Rajshahi           Nawabganj  Bangladesh    Rajshahi      142361   \nNetrakona_Mymensingh         Netrakona  Bangladesh  Mymensingh       79016   \nPabna_Rajshahi                   Pabna  Bangladesh    Rajshahi      186781   \nPalang_Dhaka                    Palang  Bangladesh       Dhaka       67652   \nPaltan_Dhaka                    Paltan  Bangladesh       Dhaka      184492   \nPar Naogaon_Rajshahi       Par Naogaon  Bangladesh    Rajshahi      192464   \nPatiya_Chittagong               Patiya  Bangladesh  Chittagong       51360   \nPirojpur_Barisal              Pirojpur  Bangladesh     Barisal       54418   \nRaipur_Chittagong               Raipur  Bangladesh  Chittagong       64652   \nRajshahi_Rajshahi             Rajshahi  Bangladesh    Rajshahi      700133   \nRamganj_Chittagong             Ramganj  Bangladesh  Chittagong       55241   \nRangpur_Rangpur                Rangpur  Bangladesh     Rangpur      343122   \nSaidpur_Rajshahi               Saidpur  Bangladesh    Rajshahi      199422   \nSandwip_Chittagong             Sandwip  Bangladesh  Chittagong       52152   \nSarishabari_Mymensingh     Sarishabari  Bangladesh  Mymensingh       81325   \nSatkania_Chittagong           Satkania  Bangladesh  Chittagong       52005   \nSatkhira_Khulna               Satkhira  Bangladesh      Khulna      128918   \nShahzadpur_Rajshahi         Shahzadpur  Bangladesh    Rajshahi      102420   \nSherpur_Mymensingh             Sherpur  Bangladesh  Mymensingh      107419   \nSirajganj_Rajshahi           Sirajganj  Bangladesh    Rajshahi      127481   \nSylhet_Sylhet                   Sylhet  Bangladesh      Sylhet      237000   \nTangail_Dhaka                  Tangail  Bangladesh       Dhaka      180144   \nThakurgaon_Rangpur          Thakurgaon  Bangladesh     Rangpur       71096   \nTungi_Dhaka                      Tungi  Bangladesh       Dhaka      337579   \nTungipara_Dhaka              Tungipara  Bangladesh       Dhaka       62210   \n\n                         Latitude  Longitude  \nindex                                         \nAzimpur_Dhaka             23.7298    90.3854  \nBarisal_Barisal           22.7050    90.3701  \nBhairab Bazar_Dhaka       24.0524    90.9764  \nBhola_Barisal             22.6876    90.6440  \nBogra_Rajshahi            24.8510    89.3711  \nChittagong_Chittagong     22.3384    91.8317  \nComilla_Chittagong        23.4619    91.1850  \nDhaka_Dhaka               23.7104    90.4074  \nDinajpur_Rangpur          25.6274    88.6378  \nFaridpur_Dhaka            23.6061    89.8406  \nFeni_Chittagong           23.0144    91.3966  \nHabiganj_Sylhet           24.3804    91.4130  \nIshurdi_Rajshahi          24.1286    89.0657  \nJamalpur_Mymensingh       24.9197    89.9481  \nJessore_Khulna            23.1697    89.2137  \nJoypur Hat_Rajshahi       25.1015    89.0273  \nKhagrachhari_Chittagong   23.1079    91.9701  \nKhulna_Khulna             22.8098    89.5644  \nKishorganj_Dhaka          24.4394    90.7829  \nKushtia_Khulna            23.9028    89.1194  \nLaksham_Chittagong        23.2402    91.1214  \nLakshmipur_Chittagong     22.9443    90.8300  \nLalmanirhat_Rangpur       25.9172    89.4459  \nMadaripur_Dhaka           23.1710    90.2094  \nMaulavi Bazar_Sylhet      24.4889    91.7708  \nMymensingh_Mymensingh     24.7564    90.4065  \nNagarpur_Dhaka            24.0578    89.8770  \nNarail_Khulna             23.1551    89.4951  \nNarayanganj_Dhaka         23.6135    90.5030  \nNarsingdi_Dhaka           23.9230    90.7177  \nNawabganj_Rajshahi        24.5903    88.2744  \nNetrakona_Mymensingh      24.8835    90.7290  \nPabna_Rajshahi            24.0064    89.2372  \nPalang_Dhaka              23.2182    90.3508  \nPaltan_Dhaka              23.7362    90.4143  \nPar Naogaon_Rajshahi      24.8042    88.9488  \nPatiya_Chittagong         22.2954    91.9790  \nPirojpur_Barisal          22.5797    89.9752  \nRaipur_Chittagong         23.0391    90.7681  \nRajshahi_Rajshahi         24.3740    88.6011  \nRamganj_Chittagong        23.1006    90.8499  \nRangpur_Rangpur           25.7466    89.2517  \nSaidpur_Rajshahi          25.7777    88.8917  \nSandwip_Chittagong        22.5141    91.4549  \nSarishabari_Mymensingh    24.7513    89.8313  \nSatkania_Chittagong       22.0764    92.0495  \nSatkhira_Khulna           22.7082    89.0718  \nShahzadpur_Rajshahi       24.1769    89.5988  \nSherpur_Mymensingh        25.0188    90.0175  \nSirajganj_Rajshahi        24.4577    89.7080  \nSylhet_Sylhet             24.8990    91.8720  \nTangail_Dhaka             24.2498    89.9166  \nThakurgaon_Rangpur        26.0310    88.4699  \nTungi_Dhaka               23.8915    90.4023  \nTungipara_Dhaka           22.8998    89.9033  ",
      "text/html": "<div>\n<style scoped>\n    .dataframe tbody tr th:only-of-type {\n        vertical-align: middle;\n    }\n\n    .dataframe tbody tr th {\n        vertical-align: top;\n    }\n\n    .dataframe thead th {\n        text-align: right;\n    }\n</style>\n<table border=\"1\" class=\"dataframe\">\n  <thead>\n    <tr style=\"text-align: right;\">\n      <th></th>\n      <th>Zone</th>\n      <th>Country</th>\n      <th>Region</th>\n      <th>Population</th>\n      <th>Latitude</th>\n      <th>Longitude</th>\n    </tr>\n    <tr>\n      <th>index</th>\n      <th></th>\n      <th></th>\n      <th></th>\n      <th></th>\n      <th></th>\n      <th></th>\n    </tr>\n  </thead>\n  <tbody>\n    <tr>\n      <th>Azimpur_Dhaka</th>\n      <td>Azimpur</td>\n      <td>Bangladesh</td>\n      <td>Dhaka</td>\n      <td>96641</td>\n      <td>23.7298</td>\n      <td>90.3854</td>\n    </tr>\n    <tr>\n      <th>Barisal_Barisal</th>\n      <td>Barisal</td>\n      <td>Bangladesh</td>\n      <td>Barisal</td>\n      <td>202242</td>\n      <td>22.7050</td>\n      <td>90.3701</td>\n    </tr>\n    <tr>\n      <th>Bhairab Bazar_Dhaka</th>\n      <td>Bhairab Bazar</td>\n      <td>Bangladesh</td>\n      <td>Dhaka</td>\n      <td>105457</td>\n      <td>24.0524</td>\n      <td>90.9764</td>\n    </tr>\n    <tr>\n      <th>Bhola_Barisal</th>\n      <td>Bhola</td>\n      <td>Bangladesh</td>\n      <td>Barisal</td>\n      <td>99079</td>\n      <td>22.6876</td>\n      <td>90.6440</td>\n    </tr>\n    <tr>\n      <th>Bogra_Rajshahi</th>\n      <td>Bogra</td>\n      <td>Bangladesh</td>\n      <td>Rajshahi</td>\n      <td>210000</td>\n      <td>24.8510</td>\n      <td>89.3711</td>\n    </tr>\n    <tr>\n      <th>Chittagong_Chittagong</th>\n      <td>Chittagong</td>\n      <td>Bangladesh</td>\n      <td>Chittagong</td>\n      <td>3920222</td>\n      <td>22.3384</td>\n      <td>91.8317</td>\n    </tr>\n    <tr>\n      <th>Comilla_Chittagong</th>\n      <td>Comilla</td>\n      <td>Bangladesh</td>\n      <td>Chittagong</td>\n      <td>389411</td>\n      <td>23.4619</td>\n      <td>91.1850</td>\n    </tr>\n    <tr>\n      <th>Dhaka_Dhaka</th>\n      <td>Dhaka</td>\n      <td>Bangladesh</td>\n      <td>Dhaka</td>\n      <td>10356500</td>\n      <td>23.7104</td>\n      <td>90.4074</td>\n    </tr>\n    <tr>\n      <th>Dinajpur_Rangpur</th>\n      <td>Dinajpur</td>\n      <td>Bangladesh</td>\n      <td>Rangpur</td>\n      <td>206234</td>\n      <td>25.6274</td>\n      <td>88.6378</td>\n    </tr>\n    <tr>\n      <th>Faridpur_Dhaka</th>\n      <td>Faridpur</td>\n      <td>Bangladesh</td>\n      <td>Dhaka</td>\n      <td>112187</td>\n      <td>23.6061</td>\n      <td>89.8406</td>\n    </tr>\n    <tr>\n      <th>Feni_Chittagong</th>\n      <td>Feni</td>\n      <td>Bangladesh</td>\n      <td>Chittagong</td>\n      <td>84028</td>\n      <td>23.0144</td>\n      <td>91.3966</td>\n    </tr>\n    <tr>\n      <th>Habiganj_Sylhet</th>\n      <td>Habiganj</td>\n      <td>Bangladesh</td>\n      <td>Sylhet</td>\n      <td>88760</td>\n      <td>24.3804</td>\n      <td>91.4130</td>\n    </tr>\n    <tr>\n      <th>Ishurdi_Rajshahi</th>\n      <td>Ishurdi</td>\n      <td>Bangladesh</td>\n      <td>Rajshahi</td>\n      <td>81995</td>\n      <td>24.1286</td>\n      <td>89.0657</td>\n    </tr>\n    <tr>\n      <th>Jamalpur_Mymensingh</th>\n      <td>Jamalpur</td>\n      <td>Bangladesh</td>\n      <td>Mymensingh</td>\n      <td>167900</td>\n      <td>24.9197</td>\n      <td>89.9481</td>\n    </tr>\n    <tr>\n      <th>Jessore_Khulna</th>\n      <td>Jessore</td>\n      <td>Bangladesh</td>\n      <td>Khulna</td>\n      <td>243987</td>\n      <td>23.1697</td>\n      <td>89.2137</td>\n    </tr>\n    <tr>\n      <th>Joypur Hat_Rajshahi</th>\n      <td>Joypur Hat</td>\n      <td>Bangladesh</td>\n      <td>Rajshahi</td>\n      <td>73068</td>\n      <td>25.1015</td>\n      <td>89.0273</td>\n    </tr>\n    <tr>\n      <th>Khagrachhari_Chittagong</th>\n      <td>Khagrachhari</td>\n      <td>Bangladesh</td>\n      <td>Chittagong</td>\n      <td>50364</td>\n      <td>23.1079</td>\n      <td>91.9701</td>\n    </tr>\n    <tr>\n      <th>Khulna_Khulna</th>\n      <td>Khulna</td>\n      <td>Bangladesh</td>\n      <td>Khulna</td>\n      <td>1342339</td>\n      <td>22.8098</td>\n      <td>89.5644</td>\n    </tr>\n    <tr>\n      <th>Kishorganj_Dhaka</th>\n      <td>Kishorganj</td>\n      <td>Bangladesh</td>\n      <td>Dhaka</td>\n      <td>90690</td>\n      <td>24.4394</td>\n      <td>90.7829</td>\n    </tr>\n    <tr>\n      <th>Kushtia_Khulna</th>\n      <td>Kushtia</td>\n      <td>Bangladesh</td>\n      <td>Khulna</td>\n      <td>135724</td>\n      <td>23.9028</td>\n      <td>89.1194</td>\n    </tr>\n    <tr>\n      <th>Laksham_Chittagong</th>\n      <td>Laksham</td>\n      <td>Bangladesh</td>\n      <td>Chittagong</td>\n      <td>82290</td>\n      <td>23.2402</td>\n      <td>91.1214</td>\n    </tr>\n    <tr>\n      <th>Lakshmipur_Chittagong</th>\n      <td>Lakshmipur</td>\n      <td>Bangladesh</td>\n      <td>Chittagong</td>\n      <td>61703</td>\n      <td>22.9443</td>\n      <td>90.8300</td>\n    </tr>\n    <tr>\n      <th>Lalmanirhat_Rangpur</th>\n      <td>Lalmanirhat</td>\n      <td>Bangladesh</td>\n      <td>Rangpur</td>\n      <td>65127</td>\n      <td>25.9172</td>\n      <td>89.4459</td>\n    </tr>\n    <tr>\n      <th>Madaripur_Dhaka</th>\n      <td>Madaripur</td>\n      <td>Bangladesh</td>\n      <td>Dhaka</td>\n      <td>84789</td>\n      <td>23.1710</td>\n      <td>90.2094</td>\n    </tr>\n    <tr>\n      <th>Maulavi Bazar_Sylhet</th>\n      <td>Maulavi Bazar</td>\n      <td>Bangladesh</td>\n      <td>Sylhet</td>\n      <td>57441</td>\n      <td>24.4889</td>\n      <td>91.7708</td>\n    </tr>\n    <tr>\n      <th>Mymensingh_Mymensingh</th>\n      <td>Mymensingh</td>\n      <td>Bangladesh</td>\n      <td>Mymensingh</td>\n      <td>225126</td>\n      <td>24.7564</td>\n      <td>90.4065</td>\n    </tr>\n    <tr>\n      <th>Nagarpur_Dhaka</th>\n      <td>Nagarpur</td>\n      <td>Bangladesh</td>\n      <td>Dhaka</td>\n      <td>238422</td>\n      <td>24.0578</td>\n      <td>89.8770</td>\n    </tr>\n    <tr>\n      <th>Narail_Khulna</th>\n      <td>Narail</td>\n      <td>Bangladesh</td>\n      <td>Khulna</td>\n      <td>55112</td>\n      <td>23.1551</td>\n      <td>89.4951</td>\n    </tr>\n    <tr>\n      <th>Narayanganj_Dhaka</th>\n      <td>Narayanganj</td>\n      <td>Bangladesh</td>\n      <td>Dhaka</td>\n      <td>223622</td>\n      <td>23.6135</td>\n      <td>90.5030</td>\n    </tr>\n    <tr>\n      <th>Narsingdi_Dhaka</th>\n      <td>Narsingdi</td>\n      <td>Bangladesh</td>\n      <td>Dhaka</td>\n      <td>281080</td>\n      <td>23.9230</td>\n      <td>90.7177</td>\n    </tr>\n    <tr>\n      <th>Nawabganj_Rajshahi</th>\n      <td>Nawabganj</td>\n      <td>Bangladesh</td>\n      <td>Rajshahi</td>\n      <td>142361</td>\n      <td>24.5903</td>\n      <td>88.2744</td>\n    </tr>\n    <tr>\n      <th>Netrakona_Mymensingh</th>\n      <td>Netrakona</td>\n      <td>Bangladesh</td>\n      <td>Mymensingh</td>\n      <td>79016</td>\n      <td>24.8835</td>\n      <td>90.7290</td>\n    </tr>\n    <tr>\n      <th>Pabna_Rajshahi</th>\n      <td>Pabna</td>\n      <td>Bangladesh</td>\n      <td>Rajshahi</td>\n      <td>186781</td>\n      <td>24.0064</td>\n      <td>89.2372</td>\n    </tr>\n    <tr>\n      <th>Palang_Dhaka</th>\n      <td>Palang</td>\n      <td>Bangladesh</td>\n      <td>Dhaka</td>\n      <td>67652</td>\n      <td>23.2182</td>\n      <td>90.3508</td>\n    </tr>\n    <tr>\n      <th>Paltan_Dhaka</th>\n      <td>Paltan</td>\n      <td>Bangladesh</td>\n      <td>Dhaka</td>\n      <td>184492</td>\n      <td>23.7362</td>\n      <td>90.4143</td>\n    </tr>\n    <tr>\n      <th>Par Naogaon_Rajshahi</th>\n      <td>Par Naogaon</td>\n      <td>Bangladesh</td>\n      <td>Rajshahi</td>\n      <td>192464</td>\n      <td>24.8042</td>\n      <td>88.9488</td>\n    </tr>\n    <tr>\n      <th>Patiya_Chittagong</th>\n      <td>Patiya</td>\n      <td>Bangladesh</td>\n      <td>Chittagong</td>\n      <td>51360</td>\n      <td>22.2954</td>\n      <td>91.9790</td>\n    </tr>\n    <tr>\n      <th>Pirojpur_Barisal</th>\n      <td>Pirojpur</td>\n      <td>Bangladesh</td>\n      <td>Barisal</td>\n      <td>54418</td>\n      <td>22.5797</td>\n      <td>89.9752</td>\n    </tr>\n    <tr>\n      <th>Raipur_Chittagong</th>\n      <td>Raipur</td>\n      <td>Bangladesh</td>\n      <td>Chittagong</td>\n      <td>64652</td>\n      <td>23.0391</td>\n      <td>90.7681</td>\n    </tr>\n    <tr>\n      <th>Rajshahi_Rajshahi</th>\n      <td>Rajshahi</td>\n      <td>Bangladesh</td>\n      <td>Rajshahi</td>\n      <td>700133</td>\n      <td>24.3740</td>\n      <td>88.6011</td>\n    </tr>\n    <tr>\n      <th>Ramganj_Chittagong</th>\n      <td>Ramganj</td>\n      <td>Bangladesh</td>\n      <td>Chittagong</td>\n      <td>55241</td>\n      <td>23.1006</td>\n      <td>90.8499</td>\n    </tr>\n    <tr>\n      <th>Rangpur_Rangpur</th>\n      <td>Rangpur</td>\n      <td>Bangladesh</td>\n      <td>Rangpur</td>\n      <td>343122</td>\n      <td>25.7466</td>\n      <td>89.2517</td>\n    </tr>\n    <tr>\n      <th>Saidpur_Rajshahi</th>\n      <td>Saidpur</td>\n      <td>Bangladesh</td>\n      <td>Rajshahi</td>\n      <td>199422</td>\n      <td>25.7777</td>\n      <td>88.8917</td>\n    </tr>\n    <tr>\n      <th>Sandwip_Chittagong</th>\n      <td>Sandwip</td>\n      <td>Bangladesh</td>\n      <td>Chittagong</td>\n      <td>52152</td>\n      <td>22.5141</td>\n      <td>91.4549</td>\n    </tr>\n    <tr>\n      <th>Sarishabari_Mymensingh</th>\n      <td>Sarishabari</td>\n      <td>Bangladesh</td>\n      <td>Mymensingh</td>\n      <td>81325</td>\n      <td>24.7513</td>\n      <td>89.8313</td>\n    </tr>\n    <tr>\n      <th>Satkania_Chittagong</th>\n      <td>Satkania</td>\n      <td>Bangladesh</td>\n      <td>Chittagong</td>\n      <td>52005</td>\n      <td>22.0764</td>\n      <td>92.0495</td>\n    </tr>\n    <tr>\n      <th>Satkhira_Khulna</th>\n      <td>Satkhira</td>\n      <td>Bangladesh</td>\n      <td>Khulna</td>\n      <td>128918</td>\n      <td>22.7082</td>\n      <td>89.0718</td>\n    </tr>\n    <tr>\n      <th>Shahzadpur_Rajshahi</th>\n      <td>Shahzadpur</td>\n      <td>Bangladesh</td>\n      <td>Rajshahi</td>\n      <td>102420</td>\n      <td>24.1769</td>\n      <td>89.5988</td>\n    </tr>\n    <tr>\n      <th>Sherpur_Mymensingh</th>\n      <td>Sherpur</td>\n      <td>Bangladesh</td>\n      <td>Mymensingh</td>\n      <td>107419</td>\n      <td>25.0188</td>\n      <td>90.0175</td>\n    </tr>\n    <tr>\n      <th>Sirajganj_Rajshahi</th>\n      <td>Sirajganj</td>\n      <td>Bangladesh</td>\n      <td>Rajshahi</td>\n      <td>127481</td>\n      <td>24.4577</td>\n      <td>89.7080</td>\n    </tr>\n    <tr>\n      <th>Sylhet_Sylhet</th>\n      <td>Sylhet</td>\n      <td>Bangladesh</td>\n      <td>Sylhet</td>\n      <td>237000</td>\n      <td>24.8990</td>\n      <td>91.8720</td>\n    </tr>\n    <tr>\n      <th>Tangail_Dhaka</th>\n      <td>Tangail</td>\n      <td>Bangladesh</td>\n      <td>Dhaka</td>\n      <td>180144</td>\n      <td>24.2498</td>\n      <td>89.9166</td>\n    </tr>\n    <tr>\n      <th>Thakurgaon_Rangpur</th>\n      <td>Thakurgaon</td>\n      <td>Bangladesh</td>\n      <td>Rangpur</td>\n      <td>71096</td>\n      <td>26.0310</td>\n      <td>88.4699</td>\n    </tr>\n    <tr>\n      <th>Tungi_Dhaka</th>\n      <td>Tungi</td>\n      <td>Bangladesh</td>\n      <td>Dhaka</td>\n      <td>337579</td>\n      <td>23.8915</td>\n      <td>90.4023</td>\n    </tr>\n    <tr>\n      <th>Tungipara_Dhaka</th>\n      <td>Tungipara</td>\n      <td>Bangladesh</td>\n      <td>Dhaka</td>\n      <td>62210</td>\n      <td>22.8998</td>\n      <td>89.9033</td>\n    </tr>\n  </tbody>\n</table>\n</div>"
     },
     "execution_count": 19,
     "metadata": {},
     "output_type": "execute_result"
    }
   ],
   "source": [
    "metadata"
   ],
   "metadata": {
    "collapsed": false,
    "ExecuteTime": {
     "start_time": "2024-11-23T21:59:43.212796Z",
     "end_time": "2024-11-23T21:59:43.227948Z"
    }
   }
  },
  {
   "cell_type": "code",
   "execution_count": 57,
   "outputs": [
    {
     "name": "stdout",
     "output_type": "stream",
     "text": [
      "Azimpur_Dhaka (9, 9)\n",
      "Barisal_Barisal (9, 9)\n",
      "Bhairab Bazar_Dhaka (9, 9)\n",
      "Bhola_Barisal (9, 9)\n",
      "Bogra_Rajshahi (9, 9)\n"
     ]
    }
   ],
   "source": [
    "corr_list = []\n",
    "\n",
    "for zone in metadata.head().index:\n",
    "    pm_meteo_series_mb_corr = pd.concat((series[zone],get_district_data(meteo_data,zone)[selected_factors]),axis=1).corr()\n",
    "    print(zone,pm_meteo_series_mb_corr.shape)\n",
    "    corr_list.append(pm_meteo_series_mb_corr)"
   ],
   "metadata": {
    "collapsed": false,
    "ExecuteTime": {
     "start_time": "2024-11-23T22:08:46.122911Z",
     "end_time": "2024-11-23T22:08:46.679818Z"
    }
   }
  },
  {
   "cell_type": "code",
   "execution_count": 44,
   "outputs": [
    {
     "data": {
      "text/plain": "                                       Bogra_Rajshahi  \\\nBogra_Rajshahi                               1.000000   \nTemperature [2 m elevation corrected]       -0.678120   \nLongwave Radiation                          -0.784716   \nRelative Humidity [2 m]                     -0.172371   \nMean Sea Level Pressure [MSL]                0.677691   \nWind Speed [10 m]                           -0.308314   \nWind Gust                                   -0.425287   \nPrecipitation Total                         -0.174033   \nCloud Cover Total                           -0.404782   \n\n                                       Temperature [2 m elevation corrected]  \\\nBogra_Rajshahi                                                     -0.678120   \nTemperature [2 m elevation corrected]                               1.000000   \nLongwave Radiation                                                  0.848386   \nRelative Humidity [2 m]                                            -0.294259   \nMean Sea Level Pressure [MSL]                                      -0.725863   \nWind Speed [10 m]                                                   0.198930   \nWind Gust                                                           0.408650   \nPrecipitation Total                                                 0.049119   \nCloud Cover Total                                                   0.176403   \n\n                                       Longwave Radiation  \\\nBogra_Rajshahi                                  -0.784716   \nTemperature [2 m elevation corrected]            0.848386   \nLongwave Radiation                               1.000000   \nRelative Humidity [2 m]                          0.159172   \nMean Sea Level Pressure [MSL]                   -0.826569   \nWind Speed [10 m]                                0.303775   \nWind Gust                                        0.444515   \nPrecipitation Total                              0.189371   \nCloud Cover Total                                0.468363   \n\n                                       Relative Humidity [2 m]  \\\nBogra_Rajshahi                                       -0.172371   \nTemperature [2 m elevation corrected]                -0.294259   \nLongwave Radiation                                    0.159172   \nRelative Humidity [2 m]                               1.000000   \nMean Sea Level Pressure [MSL]                        -0.153753   \nWind Speed [10 m]                                     0.054889   \nWind Gust                                            -0.172947   \nPrecipitation Total                                   0.154220   \nCloud Cover Total                                     0.297136   \n\n                                       Mean Sea Level Pressure [MSL]  \\\nBogra_Rajshahi                                              0.677691   \nTemperature [2 m elevation corrected]                      -0.725863   \nLongwave Radiation                                         -0.826569   \nRelative Humidity [2 m]                                    -0.153753   \nMean Sea Level Pressure [MSL]                               1.000000   \nWind Speed [10 m]                                          -0.387800   \nWind Gust                                                  -0.434379   \nPrecipitation Total                                        -0.152385   \nCloud Cover Total                                          -0.298424   \n\n                                       Wind Speed [10 m]  Wind Gust  \\\nBogra_Rajshahi                                 -0.308314  -0.425287   \nTemperature [2 m elevation corrected]           0.198930   0.408650   \nLongwave Radiation                              0.303775   0.444515   \nRelative Humidity [2 m]                         0.054889  -0.172947   \nMean Sea Level Pressure [MSL]                  -0.387800  -0.434379   \nWind Speed [10 m]                               1.000000   0.770829   \nWind Gust                                       0.770829   1.000000   \nPrecipitation Total                             0.125192   0.194890   \nCloud Cover Total                               0.305842   0.348462   \n\n                                       Precipitation Total  Cloud Cover Total  \nBogra_Rajshahi                                   -0.174033          -0.404782  \nTemperature [2 m elevation corrected]             0.049119           0.176403  \nLongwave Radiation                                0.189371           0.468363  \nRelative Humidity [2 m]                           0.154220           0.297136  \nMean Sea Level Pressure [MSL]                    -0.152385          -0.298424  \nWind Speed [10 m]                                 0.125192           0.305842  \nWind Gust                                         0.194890           0.348462  \nPrecipitation Total                               1.000000           0.258127  \nCloud Cover Total                                 0.258127           1.000000  ",
      "text/html": "<div>\n<style scoped>\n    .dataframe tbody tr th:only-of-type {\n        vertical-align: middle;\n    }\n\n    .dataframe tbody tr th {\n        vertical-align: top;\n    }\n\n    .dataframe thead th {\n        text-align: right;\n    }\n</style>\n<table border=\"1\" class=\"dataframe\">\n  <thead>\n    <tr style=\"text-align: right;\">\n      <th></th>\n      <th>Bogra_Rajshahi</th>\n      <th>Temperature [2 m elevation corrected]</th>\n      <th>Longwave Radiation</th>\n      <th>Relative Humidity [2 m]</th>\n      <th>Mean Sea Level Pressure [MSL]</th>\n      <th>Wind Speed [10 m]</th>\n      <th>Wind Gust</th>\n      <th>Precipitation Total</th>\n      <th>Cloud Cover Total</th>\n    </tr>\n  </thead>\n  <tbody>\n    <tr>\n      <th>Bogra_Rajshahi</th>\n      <td>1.000000</td>\n      <td>-0.678120</td>\n      <td>-0.784716</td>\n      <td>-0.172371</td>\n      <td>0.677691</td>\n      <td>-0.308314</td>\n      <td>-0.425287</td>\n      <td>-0.174033</td>\n      <td>-0.404782</td>\n    </tr>\n    <tr>\n      <th>Temperature [2 m elevation corrected]</th>\n      <td>-0.678120</td>\n      <td>1.000000</td>\n      <td>0.848386</td>\n      <td>-0.294259</td>\n      <td>-0.725863</td>\n      <td>0.198930</td>\n      <td>0.408650</td>\n      <td>0.049119</td>\n      <td>0.176403</td>\n    </tr>\n    <tr>\n      <th>Longwave Radiation</th>\n      <td>-0.784716</td>\n      <td>0.848386</td>\n      <td>1.000000</td>\n      <td>0.159172</td>\n      <td>-0.826569</td>\n      <td>0.303775</td>\n      <td>0.444515</td>\n      <td>0.189371</td>\n      <td>0.468363</td>\n    </tr>\n    <tr>\n      <th>Relative Humidity [2 m]</th>\n      <td>-0.172371</td>\n      <td>-0.294259</td>\n      <td>0.159172</td>\n      <td>1.000000</td>\n      <td>-0.153753</td>\n      <td>0.054889</td>\n      <td>-0.172947</td>\n      <td>0.154220</td>\n      <td>0.297136</td>\n    </tr>\n    <tr>\n      <th>Mean Sea Level Pressure [MSL]</th>\n      <td>0.677691</td>\n      <td>-0.725863</td>\n      <td>-0.826569</td>\n      <td>-0.153753</td>\n      <td>1.000000</td>\n      <td>-0.387800</td>\n      <td>-0.434379</td>\n      <td>-0.152385</td>\n      <td>-0.298424</td>\n    </tr>\n    <tr>\n      <th>Wind Speed [10 m]</th>\n      <td>-0.308314</td>\n      <td>0.198930</td>\n      <td>0.303775</td>\n      <td>0.054889</td>\n      <td>-0.387800</td>\n      <td>1.000000</td>\n      <td>0.770829</td>\n      <td>0.125192</td>\n      <td>0.305842</td>\n    </tr>\n    <tr>\n      <th>Wind Gust</th>\n      <td>-0.425287</td>\n      <td>0.408650</td>\n      <td>0.444515</td>\n      <td>-0.172947</td>\n      <td>-0.434379</td>\n      <td>0.770829</td>\n      <td>1.000000</td>\n      <td>0.194890</td>\n      <td>0.348462</td>\n    </tr>\n    <tr>\n      <th>Precipitation Total</th>\n      <td>-0.174033</td>\n      <td>0.049119</td>\n      <td>0.189371</td>\n      <td>0.154220</td>\n      <td>-0.152385</td>\n      <td>0.125192</td>\n      <td>0.194890</td>\n      <td>1.000000</td>\n      <td>0.258127</td>\n    </tr>\n    <tr>\n      <th>Cloud Cover Total</th>\n      <td>-0.404782</td>\n      <td>0.176403</td>\n      <td>0.468363</td>\n      <td>0.297136</td>\n      <td>-0.298424</td>\n      <td>0.305842</td>\n      <td>0.348462</td>\n      <td>0.258127</td>\n      <td>1.000000</td>\n    </tr>\n  </tbody>\n</table>\n</div>"
     },
     "execution_count": 44,
     "metadata": {},
     "output_type": "execute_result"
    }
   ],
   "source": [
    "pm_meteo_series_mb_corr"
   ],
   "metadata": {
    "collapsed": false,
    "ExecuteTime": {
     "start_time": "2024-11-23T22:05:38.434550Z",
     "end_time": "2024-11-23T22:05:38.478203Z"
    }
   }
  },
  {
   "cell_type": "code",
   "execution_count": 68,
   "outputs": [
    {
     "data": {
      "text/plain": "                                        Reading  \\\nAzimpur_Dhaka                          1.000000   \nTemperature [2 m elevation corrected] -0.663078   \nLongwave Radiation                    -0.777424   \nRelative Humidity [2 m]               -0.129191   \nMean Sea Level Pressure [MSL]          0.654341   \nWind Speed [10 m]                     -0.319925   \nWind Gust                             -0.412313   \nPrecipitation Total                   -0.164991   \nCloud Cover Total                     -0.392195   \n\n                                       Temperature [2 m elevation corrected]  \\\nAzimpur_Dhaka                                                      -0.663078   \nTemperature [2 m elevation corrected]                               1.000000   \nLongwave Radiation                                                  0.843187   \nRelative Humidity [2 m]                                            -0.344205   \nMean Sea Level Pressure [MSL]                                      -0.688409   \nWind Speed [10 m]                                                   0.218714   \nWind Gust                                                           0.397581   \nPrecipitation Total                                                 0.049901   \nCloud Cover Total                                                   0.170612   \n\n                                       Longwave Radiation  \\\nAzimpur_Dhaka                                   -0.777424   \nTemperature [2 m elevation corrected]            0.843187   \nLongwave Radiation                               1.000000   \nRelative Humidity [2 m]                          0.106222   \nMean Sea Level Pressure [MSL]                   -0.814596   \nWind Speed [10 m]                                0.336672   \nWind Gust                                        0.450884   \nPrecipitation Total                              0.189691   \nCloud Cover Total                                0.465550   \n\n                                       Relative Humidity [2 m]  \\\nAzimpur_Dhaka                                        -0.129191   \nTemperature [2 m elevation corrected]                -0.344205   \nLongwave Radiation                                    0.106222   \nRelative Humidity [2 m]                               1.000000   \nMean Sea Level Pressure [MSL]                        -0.151692   \nWind Speed [10 m]                                     0.044849   \nWind Gust                                            -0.165241   \nPrecipitation Total                                   0.131236   \nCloud Cover Total                                     0.273897   \n\n                                       Mean Sea Level Pressure [MSL]  \\\nAzimpur_Dhaka                                               0.654341   \nTemperature [2 m elevation corrected]                      -0.688409   \nLongwave Radiation                                         -0.814596   \nRelative Humidity [2 m]                                    -0.151692   \nMean Sea Level Pressure [MSL]                               1.000000   \nWind Speed [10 m]                                          -0.426316   \nWind Gust                                                  -0.458229   \nPrecipitation Total                                        -0.151110   \nCloud Cover Total                                          -0.329062   \n\n                                       Wind Speed [10 m]  Wind Gust  \\\nAzimpur_Dhaka                                  -0.319925  -0.412313   \nTemperature [2 m elevation corrected]           0.218714   0.397581   \nLongwave Radiation                              0.336672   0.450884   \nRelative Humidity [2 m]                         0.044849  -0.165241   \nMean Sea Level Pressure [MSL]                  -0.426316  -0.458229   \nWind Speed [10 m]                               1.000000   0.823610   \nWind Gust                                       0.823610   1.000000   \nPrecipitation Total                             0.172786   0.224331   \nCloud Cover Total                               0.307633   0.333102   \n\n                                       Precipitation Total  Cloud Cover Total  \nAzimpur_Dhaka                                    -0.164991          -0.392195  \nTemperature [2 m elevation corrected]             0.049901           0.170612  \nLongwave Radiation                                0.189691           0.465550  \nRelative Humidity [2 m]                           0.131236           0.273897  \nMean Sea Level Pressure [MSL]                    -0.151110          -0.329062  \nWind Speed [10 m]                                 0.172786           0.307633  \nWind Gust                                         0.224331           0.333102  \nPrecipitation Total                               1.000000           0.247326  \nCloud Cover Total                                 0.247326           1.000000  ",
      "text/html": "<div>\n<style scoped>\n    .dataframe tbody tr th:only-of-type {\n        vertical-align: middle;\n    }\n\n    .dataframe tbody tr th {\n        vertical-align: top;\n    }\n\n    .dataframe thead th {\n        text-align: right;\n    }\n</style>\n<table border=\"1\" class=\"dataframe\">\n  <thead>\n    <tr style=\"text-align: right;\">\n      <th></th>\n      <th>Reading</th>\n      <th>Temperature [2 m elevation corrected]</th>\n      <th>Longwave Radiation</th>\n      <th>Relative Humidity [2 m]</th>\n      <th>Mean Sea Level Pressure [MSL]</th>\n      <th>Wind Speed [10 m]</th>\n      <th>Wind Gust</th>\n      <th>Precipitation Total</th>\n      <th>Cloud Cover Total</th>\n    </tr>\n  </thead>\n  <tbody>\n    <tr>\n      <th>Azimpur_Dhaka</th>\n      <td>1.000000</td>\n      <td>-0.663078</td>\n      <td>-0.777424</td>\n      <td>-0.129191</td>\n      <td>0.654341</td>\n      <td>-0.319925</td>\n      <td>-0.412313</td>\n      <td>-0.164991</td>\n      <td>-0.392195</td>\n    </tr>\n    <tr>\n      <th>Temperature [2 m elevation corrected]</th>\n      <td>-0.663078</td>\n      <td>1.000000</td>\n      <td>0.843187</td>\n      <td>-0.344205</td>\n      <td>-0.688409</td>\n      <td>0.218714</td>\n      <td>0.397581</td>\n      <td>0.049901</td>\n      <td>0.170612</td>\n    </tr>\n    <tr>\n      <th>Longwave Radiation</th>\n      <td>-0.777424</td>\n      <td>0.843187</td>\n      <td>1.000000</td>\n      <td>0.106222</td>\n      <td>-0.814596</td>\n      <td>0.336672</td>\n      <td>0.450884</td>\n      <td>0.189691</td>\n      <td>0.465550</td>\n    </tr>\n    <tr>\n      <th>Relative Humidity [2 m]</th>\n      <td>-0.129191</td>\n      <td>-0.344205</td>\n      <td>0.106222</td>\n      <td>1.000000</td>\n      <td>-0.151692</td>\n      <td>0.044849</td>\n      <td>-0.165241</td>\n      <td>0.131236</td>\n      <td>0.273897</td>\n    </tr>\n    <tr>\n      <th>Mean Sea Level Pressure [MSL]</th>\n      <td>0.654341</td>\n      <td>-0.688409</td>\n      <td>-0.814596</td>\n      <td>-0.151692</td>\n      <td>1.000000</td>\n      <td>-0.426316</td>\n      <td>-0.458229</td>\n      <td>-0.151110</td>\n      <td>-0.329062</td>\n    </tr>\n    <tr>\n      <th>Wind Speed [10 m]</th>\n      <td>-0.319925</td>\n      <td>0.218714</td>\n      <td>0.336672</td>\n      <td>0.044849</td>\n      <td>-0.426316</td>\n      <td>1.000000</td>\n      <td>0.823610</td>\n      <td>0.172786</td>\n      <td>0.307633</td>\n    </tr>\n    <tr>\n      <th>Wind Gust</th>\n      <td>-0.412313</td>\n      <td>0.397581</td>\n      <td>0.450884</td>\n      <td>-0.165241</td>\n      <td>-0.458229</td>\n      <td>0.823610</td>\n      <td>1.000000</td>\n      <td>0.224331</td>\n      <td>0.333102</td>\n    </tr>\n    <tr>\n      <th>Precipitation Total</th>\n      <td>-0.164991</td>\n      <td>0.049901</td>\n      <td>0.189691</td>\n      <td>0.131236</td>\n      <td>-0.151110</td>\n      <td>0.172786</td>\n      <td>0.224331</td>\n      <td>1.000000</td>\n      <td>0.247326</td>\n    </tr>\n    <tr>\n      <th>Cloud Cover Total</th>\n      <td>-0.392195</td>\n      <td>0.170612</td>\n      <td>0.465550</td>\n      <td>0.273897</td>\n      <td>-0.329062</td>\n      <td>0.307633</td>\n      <td>0.333102</td>\n      <td>0.247326</td>\n      <td>1.000000</td>\n    </tr>\n  </tbody>\n</table>\n</div>"
     },
     "execution_count": 68,
     "metadata": {},
     "output_type": "execute_result"
    }
   ],
   "source": [
    "import numpy as np\n",
    "\n",
    "stacked = np.stack([df.values for df in corr_list])\n",
    "average = np.mean(stacked, axis=0)\n",
    "\n",
    "# Create a new DataFrame with the averages\n",
    "# If the first DataFrame has named indices/columns, preserve them\n",
    "result_df = pd.DataFrame(\n",
    "    average,\n",
    "    index=corr_list[0].index,\n",
    "    columns=corr_list[0].columns\n",
    ")\n",
    "\n",
    "# result_df.columns =\n",
    "result_df = result_df.rename(columns={'Azimpur_Dhaka': 'Reading'})\n",
    "\n",
    "result_df"
   ],
   "metadata": {
    "collapsed": false,
    "ExecuteTime": {
     "start_time": "2024-11-23T22:12:45.661407Z",
     "end_time": "2024-11-23T22:12:45.684645Z"
    }
   }
  },
  {
   "cell_type": "code",
   "execution_count": 69,
   "outputs": [
    {
     "data": {
      "application/vnd.plotly.v1+json": {
       "config": {
        "plotlyServerURL": "https://plot.ly"
       },
       "data": [
        {
         "colorbar": {
          "len": 1,
          "tickfont": {
           "size": 18
          },
          "title": {
           "font": {
            "size": 18
           },
           "side": "right",
           "text": "Correlation"
          }
         },
         "colorscale": [
          [
           0.0,
           "#708090"
          ],
          [
           0.5,
           "#FFFFFF"
          ],
          [
           1.0,
           "#4169E1"
          ]
         ],
         "hovertemplate": "%{x}<br>%{y}<br>Correlation: %{z:.2f}<extra></extra>",
         "type": "heatmap",
         "x": [
          "Reading",
          "Temperature [2 m elevation corrected]",
          "Longwave Radiation",
          "Relative Humidity [2 m]",
          "Mean Sea Level Pressure [MSL]",
          "Wind Speed [10 m]",
          "Wind Gust",
          "Precipitation Total",
          "Cloud Cover Total"
         ],
         "y": [
          "Reading",
          "Temperature [2 m elevation corrected]",
          "Longwave Radiation",
          "Relative Humidity [2 m]",
          "Mean Sea Level Pressure [MSL]",
          "Wind Speed [10 m]",
          "Wind Gust",
          "Precipitation Total",
          "Cloud Cover Total"
         ],
         "z": [
          [
           1.0,
           -0.6630780480362335,
           -0.7774235990937491,
           -0.12919065470165653,
           0.6543407143551445,
           -0.3199249128325903,
           -0.4123131955980048,
           -0.16499089214094392,
           -0.39219549625655936
          ],
          [
           null,
           1.0,
           0.8431869290533264,
           -0.34420474973904336,
           -0.68840917090548,
           0.21871361699984146,
           0.3975807556239697,
           0.049900991672703746,
           0.17061176711978637
          ],
          [
           null,
           null,
           1.0,
           0.10622172235643998,
           -0.8145960499587674,
           0.33667248848433057,
           0.4508836711239613,
           0.18969130414087965,
           0.46554953809615685
          ],
          [
           null,
           null,
           null,
           1.0,
           -0.1516918952948359,
           0.04484852303531757,
           -0.16524070114116868,
           0.13123596993195547,
           0.27389740170675075
          ],
          [
           null,
           null,
           null,
           null,
           1.0,
           -0.42631605748360435,
           -0.4582288524401016,
           -0.15111037677039135,
           -0.3290620318736217
          ],
          [
           null,
           null,
           null,
           null,
           null,
           1.0,
           0.8236095986451669,
           0.17278569148961437,
           0.3076331488252736
          ],
          [
           null,
           null,
           null,
           null,
           null,
           null,
           1.0,
           0.22433060470363936,
           0.3331018469977871
          ],
          [
           null,
           null,
           null,
           null,
           null,
           null,
           null,
           1.0,
           0.2473255575824218
          ],
          [
           null,
           null,
           null,
           null,
           null,
           null,
           null,
           null,
           1.0
          ]
         ],
         "zmax": 1,
         "zmin": -1
        }
       ],
       "layout": {
        "annotations": [
         {
          "font": {
           "size": 18
          },
          "showarrow": false,
          "text": "1.0",
          "x": "Reading",
          "y": "Reading"
         },
         {
          "font": {
           "size": 18
          },
          "showarrow": false,
          "text": "-0.91",
          "x": "Temperature [2 m elevation corrected]",
          "y": "Reading"
         },
         {
          "font": {
           "size": 18
          },
          "showarrow": false,
          "text": "1.0",
          "x": "Temperature [2 m elevation corrected]",
          "y": "Temperature [2 m elevation corrected]"
         },
         {
          "font": {
           "size": 18
          },
          "showarrow": false,
          "text": "-0.98",
          "x": "Longwave Radiation",
          "y": "Reading"
         },
         {
          "font": {
           "size": 18
          },
          "showarrow": false,
          "text": "0.95",
          "x": "Longwave Radiation",
          "y": "Temperature [2 m elevation corrected]"
         },
         {
          "font": {
           "size": 18
          },
          "showarrow": false,
          "text": "1.0",
          "x": "Longwave Radiation",
          "y": "Longwave Radiation"
         },
         {
          "font": {
           "size": 18
          },
          "showarrow": false,
          "text": "-0.1",
          "x": "Relative Humidity [2 m]",
          "y": "Reading"
         },
         {
          "font": {
           "size": 18
          },
          "showarrow": false,
          "text": "-0.26",
          "x": "Relative Humidity [2 m]",
          "y": "Temperature [2 m elevation corrected]"
         },
         {
          "font": {
           "size": 18
          },
          "showarrow": false,
          "text": "0.04",
          "x": "Relative Humidity [2 m]",
          "y": "Longwave Radiation"
         },
         {
          "font": {
           "size": 18
          },
          "showarrow": false,
          "text": "1.0",
          "x": "Relative Humidity [2 m]",
          "y": "Relative Humidity [2 m]"
         },
         {
          "font": {
           "size": 18
          },
          "showarrow": false,
          "text": "0.96",
          "x": "Mean Sea Level Pressure [MSL]",
          "y": "Reading"
         },
         {
          "font": {
           "size": 18
          },
          "showarrow": false,
          "text": "-0.91",
          "x": "Mean Sea Level Pressure [MSL]",
          "y": "Temperature [2 m elevation corrected]"
         },
         {
          "font": {
           "size": 18
          },
          "showarrow": false,
          "text": "-0.98",
          "x": "Mean Sea Level Pressure [MSL]",
          "y": "Longwave Radiation"
         },
         {
          "font": {
           "size": 18
          },
          "showarrow": false,
          "text": "-0.09",
          "x": "Mean Sea Level Pressure [MSL]",
          "y": "Relative Humidity [2 m]"
         },
         {
          "font": {
           "size": 18
          },
          "showarrow": false,
          "text": "1.0",
          "x": "Mean Sea Level Pressure [MSL]",
          "y": "Mean Sea Level Pressure [MSL]"
         },
         {
          "font": {
           "size": 18
          },
          "showarrow": false,
          "text": "-0.7",
          "x": "Wind Speed [10 m]",
          "y": "Reading"
         },
         {
          "font": {
           "size": 18
          },
          "showarrow": false,
          "text": "0.61",
          "x": "Wind Speed [10 m]",
          "y": "Temperature [2 m elevation corrected]"
         },
         {
          "font": {
           "size": 18
          },
          "showarrow": false,
          "text": "0.67",
          "x": "Wind Speed [10 m]",
          "y": "Longwave Radiation"
         },
         {
          "font": {
           "size": 18
          },
          "showarrow": false,
          "text": "-0.04",
          "x": "Wind Speed [10 m]",
          "y": "Relative Humidity [2 m]"
         },
         {
          "font": {
           "size": 18
          },
          "showarrow": false,
          "text": "-0.74",
          "x": "Wind Speed [10 m]",
          "y": "Mean Sea Level Pressure [MSL]"
         },
         {
          "font": {
           "size": 18
          },
          "showarrow": false,
          "text": "1.0",
          "x": "Wind Speed [10 m]",
          "y": "Wind Speed [10 m]"
         },
         {
          "font": {
           "size": 18
          },
          "showarrow": false,
          "text": "-0.77",
          "x": "Wind Gust",
          "y": "Reading"
         },
         {
          "font": {
           "size": 18
          },
          "showarrow": false,
          "text": "0.75",
          "x": "Wind Gust",
          "y": "Temperature [2 m elevation corrected]"
         },
         {
          "font": {
           "size": 18
          },
          "showarrow": false,
          "text": "0.76",
          "x": "Wind Gust",
          "y": "Longwave Radiation"
         },
         {
          "font": {
           "size": 18
          },
          "showarrow": false,
          "text": "-0.2",
          "x": "Wind Gust",
          "y": "Relative Humidity [2 m]"
         },
         {
          "font": {
           "size": 18
          },
          "showarrow": false,
          "text": "-0.8",
          "x": "Wind Gust",
          "y": "Mean Sea Level Pressure [MSL]"
         },
         {
          "font": {
           "size": 18
          },
          "showarrow": false,
          "text": "0.96",
          "x": "Wind Gust",
          "y": "Wind Speed [10 m]"
         },
         {
          "font": {
           "size": 18
          },
          "showarrow": false,
          "text": "1.0",
          "x": "Wind Gust",
          "y": "Wind Gust"
         },
         {
          "font": {
           "size": 18
          },
          "showarrow": false,
          "text": "-0.4",
          "x": "Precipitation Total",
          "y": "Reading"
         },
         {
          "font": {
           "size": 18
          },
          "showarrow": false,
          "text": "0.25",
          "x": "Precipitation Total",
          "y": "Temperature [2 m elevation corrected]"
         },
         {
          "font": {
           "size": 18
          },
          "showarrow": false,
          "text": "0.36",
          "x": "Precipitation Total",
          "y": "Longwave Radiation"
         },
         {
          "font": {
           "size": 18
          },
          "showarrow": false,
          "text": "0.19",
          "x": "Precipitation Total",
          "y": "Relative Humidity [2 m]"
         },
         {
          "font": {
           "size": 18
          },
          "showarrow": false,
          "text": "-0.38",
          "x": "Precipitation Total",
          "y": "Mean Sea Level Pressure [MSL]"
         },
         {
          "font": {
           "size": 18
          },
          "showarrow": false,
          "text": "0.31",
          "x": "Precipitation Total",
          "y": "Wind Speed [10 m]"
         },
         {
          "font": {
           "size": 18
          },
          "showarrow": false,
          "text": "0.35",
          "x": "Precipitation Total",
          "y": "Wind Gust"
         },
         {
          "font": {
           "size": 18
          },
          "showarrow": false,
          "text": "1.0",
          "x": "Precipitation Total",
          "y": "Precipitation Total"
         },
         {
          "font": {
           "size": 18
          },
          "showarrow": false,
          "text": "-0.77",
          "x": "Cloud Cover Total",
          "y": "Reading"
         },
         {
          "font": {
           "size": 18
          },
          "showarrow": false,
          "text": "0.56",
          "x": "Cloud Cover Total",
          "y": "Temperature [2 m elevation corrected]"
         },
         {
          "font": {
           "size": 18
          },
          "showarrow": false,
          "text": "0.75",
          "x": "Cloud Cover Total",
          "y": "Longwave Radiation"
         },
         {
          "font": {
           "size": 18
          },
          "showarrow": false,
          "text": "0.35",
          "x": "Cloud Cover Total",
          "y": "Relative Humidity [2 m]"
         },
         {
          "font": {
           "size": 18
          },
          "showarrow": false,
          "text": "-0.73",
          "x": "Cloud Cover Total",
          "y": "Mean Sea Level Pressure [MSL]"
         },
         {
          "font": {
           "size": 18
          },
          "showarrow": false,
          "text": "0.59",
          "x": "Cloud Cover Total",
          "y": "Wind Speed [10 m]"
         },
         {
          "font": {
           "size": 18
          },
          "showarrow": false,
          "text": "0.6",
          "x": "Cloud Cover Total",
          "y": "Wind Gust"
         },
         {
          "font": {
           "size": 18
          },
          "showarrow": false,
          "text": "0.42",
          "x": "Cloud Cover Total",
          "y": "Precipitation Total"
         },
         {
          "font": {
           "size": 18
          },
          "showarrow": false,
          "text": "1.0",
          "x": "Cloud Cover Total",
          "y": "Cloud Cover Total"
         }
        ],
        "font": {
         "size": 18
        },
        "height": 900,
        "margin": {
         "b": 100,
         "l": 100,
         "r": 50,
         "t": 100
        },
        "template": {},
        "title": {
         "font": {
          "size": 24
         },
         "text": "Correlation Heatmap (Upper Triangle)",
         "x": 0.5
        },
        "width": 900,
        "xaxis": {
         "automargin": true,
         "tickangle": 45,
         "title": {
          "font": {
           "size": 18
          },
          "text": "Variables"
         }
        },
        "yaxis": {
         "automargin": true,
         "title": {
          "font": {
           "size": 18
          },
          "standoff": 10,
          "text": "Variables"
         }
        }
       }
      },
      "text/html": "<div>\n        \n        \n            <div id=\"35683e85-420f-4cd1-850f-780f34d5c1b6\" class=\"plotly-graph-div\" style=\"height:900px; width:900px;\"></div>\n            <script type=\"text/javascript\">\n                require([\"plotly\"], function(Plotly) {\n                    window.PLOTLYENV=window.PLOTLYENV || {};\n                    \n                if (document.getElementById(\"35683e85-420f-4cd1-850f-780f34d5c1b6\")) {\n                    Plotly.newPlot(\n                        '35683e85-420f-4cd1-850f-780f34d5c1b6',\n                        [{\"colorbar\": {\"len\": 1, \"tickfont\": {\"size\": 18}, \"title\": {\"font\": {\"size\": 18}, \"side\": \"right\", \"text\": \"Correlation\"}}, \"colorscale\": [[0.0, \"#708090\"], [0.5, \"#FFFFFF\"], [1.0, \"#4169E1\"]], \"hovertemplate\": \"%{x}<br>%{y}<br>Correlation: %{z:.2f}<extra></extra>\", \"type\": \"heatmap\", \"x\": [\"Reading\", \"Temperature [2 m elevation corrected]\", \"Longwave Radiation\", \"Relative Humidity [2 m]\", \"Mean Sea Level Pressure [MSL]\", \"Wind Speed [10 m]\", \"Wind Gust\", \"Precipitation Total\", \"Cloud Cover Total\"], \"y\": [\"Reading\", \"Temperature [2 m elevation corrected]\", \"Longwave Radiation\", \"Relative Humidity [2 m]\", \"Mean Sea Level Pressure [MSL]\", \"Wind Speed [10 m]\", \"Wind Gust\", \"Precipitation Total\", \"Cloud Cover Total\"], \"z\": [[1.0, -0.6630780480362335, -0.7774235990937491, -0.12919065470165653, 0.6543407143551445, -0.3199249128325903, -0.4123131955980048, -0.16499089214094392, -0.39219549625655936], [null, 1.0, 0.8431869290533264, -0.34420474973904336, -0.68840917090548, 0.21871361699984146, 0.3975807556239697, 0.049900991672703746, 0.17061176711978637], [null, null, 1.0, 0.10622172235643998, -0.8145960499587674, 0.33667248848433057, 0.4508836711239613, 0.18969130414087965, 0.46554953809615685], [null, null, null, 1.0, -0.1516918952948359, 0.04484852303531757, -0.16524070114116868, 0.13123596993195547, 0.27389740170675075], [null, null, null, null, 1.0, -0.42631605748360435, -0.4582288524401016, -0.15111037677039135, -0.3290620318736217], [null, null, null, null, null, 1.0, 0.8236095986451669, 0.17278569148961437, 0.3076331488252736], [null, null, null, null, null, null, 1.0, 0.22433060470363936, 0.3331018469977871], [null, null, null, null, null, null, null, 1.0, 0.2473255575824218], [null, null, null, null, null, null, null, null, 1.0]], \"zmax\": 1, \"zmin\": -1}],\n                        {\"annotations\": [{\"font\": {\"size\": 18}, \"showarrow\": false, \"text\": \"1.0\", \"x\": \"Reading\", \"y\": \"Reading\"}, {\"font\": {\"size\": 18}, \"showarrow\": false, \"text\": \"-0.91\", \"x\": \"Temperature [2 m elevation corrected]\", \"y\": \"Reading\"}, {\"font\": {\"size\": 18}, \"showarrow\": false, \"text\": \"1.0\", \"x\": \"Temperature [2 m elevation corrected]\", \"y\": \"Temperature [2 m elevation corrected]\"}, {\"font\": {\"size\": 18}, \"showarrow\": false, \"text\": \"-0.98\", \"x\": \"Longwave Radiation\", \"y\": \"Reading\"}, {\"font\": {\"size\": 18}, \"showarrow\": false, \"text\": \"0.95\", \"x\": \"Longwave Radiation\", \"y\": \"Temperature [2 m elevation corrected]\"}, {\"font\": {\"size\": 18}, \"showarrow\": false, \"text\": \"1.0\", \"x\": \"Longwave Radiation\", \"y\": \"Longwave Radiation\"}, {\"font\": {\"size\": 18}, \"showarrow\": false, \"text\": \"-0.1\", \"x\": \"Relative Humidity [2 m]\", \"y\": \"Reading\"}, {\"font\": {\"size\": 18}, \"showarrow\": false, \"text\": \"-0.26\", \"x\": \"Relative Humidity [2 m]\", \"y\": \"Temperature [2 m elevation corrected]\"}, {\"font\": {\"size\": 18}, \"showarrow\": false, \"text\": \"0.04\", \"x\": \"Relative Humidity [2 m]\", \"y\": \"Longwave Radiation\"}, {\"font\": {\"size\": 18}, \"showarrow\": false, \"text\": \"1.0\", \"x\": \"Relative Humidity [2 m]\", \"y\": \"Relative Humidity [2 m]\"}, {\"font\": {\"size\": 18}, \"showarrow\": false, \"text\": \"0.96\", \"x\": \"Mean Sea Level Pressure [MSL]\", \"y\": \"Reading\"}, {\"font\": {\"size\": 18}, \"showarrow\": false, \"text\": \"-0.91\", \"x\": \"Mean Sea Level Pressure [MSL]\", \"y\": \"Temperature [2 m elevation corrected]\"}, {\"font\": {\"size\": 18}, \"showarrow\": false, \"text\": \"-0.98\", \"x\": \"Mean Sea Level Pressure [MSL]\", \"y\": \"Longwave Radiation\"}, {\"font\": {\"size\": 18}, \"showarrow\": false, \"text\": \"-0.09\", \"x\": \"Mean Sea Level Pressure [MSL]\", \"y\": \"Relative Humidity [2 m]\"}, {\"font\": {\"size\": 18}, \"showarrow\": false, \"text\": \"1.0\", \"x\": \"Mean Sea Level Pressure [MSL]\", \"y\": \"Mean Sea Level Pressure [MSL]\"}, {\"font\": {\"size\": 18}, \"showarrow\": false, \"text\": \"-0.7\", \"x\": \"Wind Speed [10 m]\", \"y\": \"Reading\"}, {\"font\": {\"size\": 18}, \"showarrow\": false, \"text\": \"0.61\", \"x\": \"Wind Speed [10 m]\", \"y\": \"Temperature [2 m elevation corrected]\"}, {\"font\": {\"size\": 18}, \"showarrow\": false, \"text\": \"0.67\", \"x\": \"Wind Speed [10 m]\", \"y\": \"Longwave Radiation\"}, {\"font\": {\"size\": 18}, \"showarrow\": false, \"text\": \"-0.04\", \"x\": \"Wind Speed [10 m]\", \"y\": \"Relative Humidity [2 m]\"}, {\"font\": {\"size\": 18}, \"showarrow\": false, \"text\": \"-0.74\", \"x\": \"Wind Speed [10 m]\", \"y\": \"Mean Sea Level Pressure [MSL]\"}, {\"font\": {\"size\": 18}, \"showarrow\": false, \"text\": \"1.0\", \"x\": \"Wind Speed [10 m]\", \"y\": \"Wind Speed [10 m]\"}, {\"font\": {\"size\": 18}, \"showarrow\": false, \"text\": \"-0.77\", \"x\": \"Wind Gust\", \"y\": \"Reading\"}, {\"font\": {\"size\": 18}, \"showarrow\": false, \"text\": \"0.75\", \"x\": \"Wind Gust\", \"y\": \"Temperature [2 m elevation corrected]\"}, {\"font\": {\"size\": 18}, \"showarrow\": false, \"text\": \"0.76\", \"x\": \"Wind Gust\", \"y\": \"Longwave Radiation\"}, {\"font\": {\"size\": 18}, \"showarrow\": false, \"text\": \"-0.2\", \"x\": \"Wind Gust\", \"y\": \"Relative Humidity [2 m]\"}, {\"font\": {\"size\": 18}, \"showarrow\": false, \"text\": \"-0.8\", \"x\": \"Wind Gust\", \"y\": \"Mean Sea Level Pressure [MSL]\"}, {\"font\": {\"size\": 18}, \"showarrow\": false, \"text\": \"0.96\", \"x\": \"Wind Gust\", \"y\": \"Wind Speed [10 m]\"}, {\"font\": {\"size\": 18}, \"showarrow\": false, \"text\": \"1.0\", \"x\": \"Wind Gust\", \"y\": \"Wind Gust\"}, {\"font\": {\"size\": 18}, \"showarrow\": false, \"text\": \"-0.4\", \"x\": \"Precipitation Total\", \"y\": \"Reading\"}, {\"font\": {\"size\": 18}, \"showarrow\": false, \"text\": \"0.25\", \"x\": \"Precipitation Total\", \"y\": \"Temperature [2 m elevation corrected]\"}, {\"font\": {\"size\": 18}, \"showarrow\": false, \"text\": \"0.36\", \"x\": \"Precipitation Total\", \"y\": \"Longwave Radiation\"}, {\"font\": {\"size\": 18}, \"showarrow\": false, \"text\": \"0.19\", \"x\": \"Precipitation Total\", \"y\": \"Relative Humidity [2 m]\"}, {\"font\": {\"size\": 18}, \"showarrow\": false, \"text\": \"-0.38\", \"x\": \"Precipitation Total\", \"y\": \"Mean Sea Level Pressure [MSL]\"}, {\"font\": {\"size\": 18}, \"showarrow\": false, \"text\": \"0.31\", \"x\": \"Precipitation Total\", \"y\": \"Wind Speed [10 m]\"}, {\"font\": {\"size\": 18}, \"showarrow\": false, \"text\": \"0.35\", \"x\": \"Precipitation Total\", \"y\": \"Wind Gust\"}, {\"font\": {\"size\": 18}, \"showarrow\": false, \"text\": \"1.0\", \"x\": \"Precipitation Total\", \"y\": \"Precipitation Total\"}, {\"font\": {\"size\": 18}, \"showarrow\": false, \"text\": \"-0.77\", \"x\": \"Cloud Cover Total\", \"y\": \"Reading\"}, {\"font\": {\"size\": 18}, \"showarrow\": false, \"text\": \"0.56\", \"x\": \"Cloud Cover Total\", \"y\": \"Temperature [2 m elevation corrected]\"}, {\"font\": {\"size\": 18}, \"showarrow\": false, \"text\": \"0.75\", \"x\": \"Cloud Cover Total\", \"y\": \"Longwave Radiation\"}, {\"font\": {\"size\": 18}, \"showarrow\": false, \"text\": \"0.35\", \"x\": \"Cloud Cover Total\", \"y\": \"Relative Humidity [2 m]\"}, {\"font\": {\"size\": 18}, \"showarrow\": false, \"text\": \"-0.73\", \"x\": \"Cloud Cover Total\", \"y\": \"Mean Sea Level Pressure [MSL]\"}, {\"font\": {\"size\": 18}, \"showarrow\": false, \"text\": \"0.59\", \"x\": \"Cloud Cover Total\", \"y\": \"Wind Speed [10 m]\"}, {\"font\": {\"size\": 18}, \"showarrow\": false, \"text\": \"0.6\", \"x\": \"Cloud Cover Total\", \"y\": \"Wind Gust\"}, {\"font\": {\"size\": 18}, \"showarrow\": false, \"text\": \"0.42\", \"x\": \"Cloud Cover Total\", \"y\": \"Precipitation Total\"}, {\"font\": {\"size\": 18}, \"showarrow\": false, \"text\": \"1.0\", \"x\": \"Cloud Cover Total\", \"y\": \"Cloud Cover Total\"}], \"font\": {\"size\": 18}, \"height\": 900, \"margin\": {\"b\": 100, \"l\": 100, \"r\": 50, \"t\": 100}, \"template\": {}, \"title\": {\"font\": {\"size\": 24}, \"text\": \"Correlation Heatmap (Upper Triangle)\", \"x\": 0.5}, \"width\": 900, \"xaxis\": {\"automargin\": true, \"tickangle\": 45, \"title\": {\"font\": {\"size\": 18}, \"text\": \"Variables\"}}, \"yaxis\": {\"automargin\": true, \"title\": {\"font\": {\"size\": 18}, \"standoff\": 10, \"text\": \"Variables\"}}},\n                        {\"responsive\": true}\n                    ).then(function(){\n                            \nvar gd = document.getElementById('35683e85-420f-4cd1-850f-780f34d5c1b6');\nvar x = new MutationObserver(function (mutations, observer) {{\n        var display = window.getComputedStyle(gd).display;\n        if (!display || display === 'none') {{\n            console.log([gd, 'removed!']);\n            Plotly.purge(gd);\n            observer.disconnect();\n        }}\n}});\n\n// Listen for the removal of the full notebook cells\nvar notebookContainer = gd.closest('#notebook-container');\nif (notebookContainer) {{\n    x.observe(notebookContainer, {childList: true});\n}}\n\n// Listen for the clearing of the current output cell\nvar outputEl = gd.closest('.output');\nif (outputEl) {{\n    x.observe(outputEl, {childList: true});\n}}\n\n                        })\n                };\n                });\n            </script>\n        </div>"
     },
     "metadata": {},
     "output_type": "display_data"
    }
   ],
   "source": [
    "from meteorology import all_factor_correlation_matrix\n",
    "\n",
    "all_factor_correlation_matrix(result_df)"
   ],
   "metadata": {
    "collapsed": false,
    "ExecuteTime": {
     "start_time": "2024-11-23T22:12:48.363333Z",
     "end_time": "2024-11-23T22:12:48.379122Z"
    }
   }
  },
  {
   "cell_type": "markdown",
   "source": [
    "# Cross Corr"
   ],
   "metadata": {
    "collapsed": false
   }
  },
  {
   "cell_type": "code",
   "execution_count": 75,
   "outputs": [],
   "source": [
    "pm_data_dhaka = series_dhaka\n",
    "factors = selected_factors"
   ],
   "metadata": {
    "collapsed": false,
    "ExecuteTime": {
     "start_time": "2024-11-24T01:55:16.072815Z",
     "end_time": "2024-11-24T01:55:16.129622Z"
    }
   }
  },
  {
   "cell_type": "code",
   "execution_count": 125,
   "outputs": [
    {
     "data": {
      "text/plain": "time\n2019-01-01    148.75\n2019-01-02    163.40\n2019-01-03    175.65\n2019-01-04    238.00\n2019-01-05    172.65\n               ...  \n2019-12-27    149.30\n2019-12-28    161.85\n2019-12-29    162.55\n2019-12-30    177.05\n2019-12-31    183.35\nFreq: D, Name: Azimpur_Dhaka, Length: 365, dtype: float64"
     },
     "execution_count": 125,
     "metadata": {},
     "output_type": "execute_result"
    }
   ],
   "source": [
    "pm_data_dhaka_daily = pm_data_dhaka.resample(\"D\").median()\n",
    "pm_data_dhaka_daily"
   ],
   "metadata": {
    "collapsed": false,
    "ExecuteTime": {
     "start_time": "2024-11-24T02:30:49.341326Z",
     "end_time": "2024-11-24T02:30:49.355342Z"
    }
   }
  },
  {
   "cell_type": "code",
   "execution_count": 127,
   "outputs": [
    {
     "data": {
      "text/plain": "factor      Cloud Cover High [high cld lay]  Cloud Cover Low [low cld lay]  \\\ntime                                                                         \n2019-01-01                              0.0                            0.0   \n2019-01-02                              0.0                            0.0   \n2019-01-03                              0.0                            0.0   \n2019-01-04                              0.0                            0.0   \n2019-01-05                              0.0                            0.0   \n...                                     ...                            ...   \n2019-12-27                              0.0                           10.0   \n2019-12-28                              0.0                           12.5   \n2019-12-29                              0.0                            0.0   \n2019-12-30                             77.5                            2.0   \n2019-12-31                              0.0                            0.0   \n\nfactor      Cloud Cover Medium [mid cld lay]  Cloud Cover Total  \\\ntime                                                              \n2019-01-01                               0.0               0.00   \n2019-01-02                               0.0               0.00   \n2019-01-03                               0.0               0.00   \n2019-01-04                               0.0               0.00   \n2019-01-05                               0.0               0.00   \n...                                      ...                ...   \n2019-12-27                              53.0              63.00   \n2019-12-28                               0.0              21.00   \n2019-12-29                               0.0               0.00   \n2019-12-30                               0.0              23.25   \n2019-12-31                               0.0               1.00   \n\nfactor      Evapotranspiration  Growing Degree Days [2 m elevation corrected]  \\\ntime                                                                            \n2019-01-01             0.00432                                       0.296564   \n2019-01-02             0.00504                                       0.260314   \n2019-01-03             0.00360                                       0.242189   \n2019-01-04             0.00720                                       0.218856   \n2019-01-05             0.00576                                       0.222606   \n...                        ...                                            ...   \n2019-12-27             0.01656                                       0.219064   \n2019-12-28             0.00720                                       0.195106   \n2019-12-29             0.00144                                       0.211564   \n2019-12-30             0.00432                                       0.235314   \n2019-12-31             0.00072                                       0.280314   \n\nfactor      Longwave Radiation  Mean Sea Level Pressure [MSL]  \\\ntime                                                            \n2019-01-01               319.0                         1018.4   \n2019-01-02               313.5                         1018.4   \n2019-01-03               306.0                         1018.7   \n2019-01-04               304.0                         1019.5   \n2019-01-05               312.0                         1017.9   \n...                        ...                            ...   \n2019-12-27               369.0                         1015.1   \n2019-12-28               314.0                         1016.2   \n2019-12-29               312.5                         1015.9   \n2019-12-30               321.5                         1016.3   \n2019-12-31               340.0                         1017.0   \n\nfactor      Precipitation Runoff  Precipitation Total  ...  \\\ntime                                                   ...   \n2019-01-01                  0.00                  0.0  ...   \n2019-01-02                  0.00                  0.0  ...   \n2019-01-03                  0.00                  0.0  ...   \n2019-01-04                  0.00                  0.0  ...   \n2019-01-05                  0.00                  0.0  ...   \n...                          ...                  ...  ...   \n2019-12-27                  0.04                  0.0  ...   \n2019-12-28                  0.04                  0.0  ...   \n2019-12-29                  0.04                  0.0  ...   \n2019-12-30                  0.04                  0.0  ...   \n2019-12-31                  0.04                  0.0  ...   \n\nfactor      Wind Direction [900 mb]  Wind Gust  Wind Speed [10 m]  \\\ntime                                                                \n2019-01-01               140.859795  10.979999           6.449805   \n2019-01-02               212.059380  11.699999           6.462601   \n2019-01-03               290.061630  12.419999           8.480693   \n2019-01-04               318.189640  12.599999           7.594208   \n2019-01-05               336.694840  12.240000           7.522041   \n...                             ...        ...                ...   \n2019-12-27               117.161795  12.779999           5.553368   \n2019-12-28                28.312935  17.820000           9.125671   \n2019-12-29                63.004150  14.400000           8.221094   \n2019-12-30                88.427995  12.599999           6.524299   \n2019-12-31               133.208335  10.620000           6.188385   \n\nfactor      Wind Speed [100 m]  Wind Speed [250 mb]  Wind Speed [500 mb]  \\\ntime                                                                       \n2019-01-01           12.625671           149.870075            86.716270   \n2019-01-02            9.610076           169.728070            95.787797   \n2019-01-03           11.040082           215.049760           129.176545   \n2019-01-04           13.290857           168.974325           105.368945   \n2019-01-05           10.623503           132.934675            70.012737   \n...                        ...                  ...                  ...   \n2019-12-27            9.100230           153.723410           109.837615   \n2019-12-28           18.069561           105.770027            68.904055   \n2019-12-29           17.015067           106.503442            36.583081   \n2019-12-30           16.183349           156.731915            52.251475   \n2019-12-31            9.197808           151.718605            70.708885   \n\nfactor      Wind Speed [700 mb]  Wind Speed [800 mb]  Wind Speed [850 mb]  \\\ntime                                                                        \n2019-01-01            39.784003            13.300375            11.090103   \n2019-01-02            36.744158            19.327226            13.586999   \n2019-01-03            48.933850            32.010055            17.112038   \n2019-01-04            51.351830            36.089322            23.718328   \n2019-01-05            45.763189            28.112308            15.003352   \n...                         ...                  ...                  ...   \n2019-12-27            52.714800            20.865915            10.522889   \n2019-12-28            28.460497            25.331792            22.380693   \n2019-12-29            11.533092            23.082796            19.342579   \n2019-12-30            13.844642             8.654875            14.657713   \n2019-12-31            22.854536            30.297780            23.212100   \n\nfactor      Wind Speed [900 mb]  \ntime                             \n2019-01-01             5.871049  \n2019-01-02             7.222452  \n2019-01-03            12.297550  \n2019-01-04            13.349153  \n2019-01-05             8.807004  \n...                         ...  \n2019-12-27             5.967702  \n2019-12-28            16.423666  \n2019-12-29            20.342325  \n2019-12-30            14.010798  \n2019-12-31            15.215656  \n\n[365 rows x 37 columns]",
      "text/html": "<div>\n<style scoped>\n    .dataframe tbody tr th:only-of-type {\n        vertical-align: middle;\n    }\n\n    .dataframe tbody tr th {\n        vertical-align: top;\n    }\n\n    .dataframe thead th {\n        text-align: right;\n    }\n</style>\n<table border=\"1\" class=\"dataframe\">\n  <thead>\n    <tr style=\"text-align: right;\">\n      <th>factor</th>\n      <th>Cloud Cover High [high cld lay]</th>\n      <th>Cloud Cover Low [low cld lay]</th>\n      <th>Cloud Cover Medium [mid cld lay]</th>\n      <th>Cloud Cover Total</th>\n      <th>Evapotranspiration</th>\n      <th>Growing Degree Days [2 m elevation corrected]</th>\n      <th>Longwave Radiation</th>\n      <th>Mean Sea Level Pressure [MSL]</th>\n      <th>Precipitation Runoff</th>\n      <th>Precipitation Total</th>\n      <th>...</th>\n      <th>Wind Direction [900 mb]</th>\n      <th>Wind Gust</th>\n      <th>Wind Speed [10 m]</th>\n      <th>Wind Speed [100 m]</th>\n      <th>Wind Speed [250 mb]</th>\n      <th>Wind Speed [500 mb]</th>\n      <th>Wind Speed [700 mb]</th>\n      <th>Wind Speed [800 mb]</th>\n      <th>Wind Speed [850 mb]</th>\n      <th>Wind Speed [900 mb]</th>\n    </tr>\n    <tr>\n      <th>time</th>\n      <th></th>\n      <th></th>\n      <th></th>\n      <th></th>\n      <th></th>\n      <th></th>\n      <th></th>\n      <th></th>\n      <th></th>\n      <th></th>\n      <th></th>\n      <th></th>\n      <th></th>\n      <th></th>\n      <th></th>\n      <th></th>\n      <th></th>\n      <th></th>\n      <th></th>\n      <th></th>\n      <th></th>\n    </tr>\n  </thead>\n  <tbody>\n    <tr>\n      <th>2019-01-01</th>\n      <td>0.0</td>\n      <td>0.0</td>\n      <td>0.0</td>\n      <td>0.00</td>\n      <td>0.00432</td>\n      <td>0.296564</td>\n      <td>319.0</td>\n      <td>1018.4</td>\n      <td>0.00</td>\n      <td>0.0</td>\n      <td>...</td>\n      <td>140.859795</td>\n      <td>10.979999</td>\n      <td>6.449805</td>\n      <td>12.625671</td>\n      <td>149.870075</td>\n      <td>86.716270</td>\n      <td>39.784003</td>\n      <td>13.300375</td>\n      <td>11.090103</td>\n      <td>5.871049</td>\n    </tr>\n    <tr>\n      <th>2019-01-02</th>\n      <td>0.0</td>\n      <td>0.0</td>\n      <td>0.0</td>\n      <td>0.00</td>\n      <td>0.00504</td>\n      <td>0.260314</td>\n      <td>313.5</td>\n      <td>1018.4</td>\n      <td>0.00</td>\n      <td>0.0</td>\n      <td>...</td>\n      <td>212.059380</td>\n      <td>11.699999</td>\n      <td>6.462601</td>\n      <td>9.610076</td>\n      <td>169.728070</td>\n      <td>95.787797</td>\n      <td>36.744158</td>\n      <td>19.327226</td>\n      <td>13.586999</td>\n      <td>7.222452</td>\n    </tr>\n    <tr>\n      <th>2019-01-03</th>\n      <td>0.0</td>\n      <td>0.0</td>\n      <td>0.0</td>\n      <td>0.00</td>\n      <td>0.00360</td>\n      <td>0.242189</td>\n      <td>306.0</td>\n      <td>1018.7</td>\n      <td>0.00</td>\n      <td>0.0</td>\n      <td>...</td>\n      <td>290.061630</td>\n      <td>12.419999</td>\n      <td>8.480693</td>\n      <td>11.040082</td>\n      <td>215.049760</td>\n      <td>129.176545</td>\n      <td>48.933850</td>\n      <td>32.010055</td>\n      <td>17.112038</td>\n      <td>12.297550</td>\n    </tr>\n    <tr>\n      <th>2019-01-04</th>\n      <td>0.0</td>\n      <td>0.0</td>\n      <td>0.0</td>\n      <td>0.00</td>\n      <td>0.00720</td>\n      <td>0.218856</td>\n      <td>304.0</td>\n      <td>1019.5</td>\n      <td>0.00</td>\n      <td>0.0</td>\n      <td>...</td>\n      <td>318.189640</td>\n      <td>12.599999</td>\n      <td>7.594208</td>\n      <td>13.290857</td>\n      <td>168.974325</td>\n      <td>105.368945</td>\n      <td>51.351830</td>\n      <td>36.089322</td>\n      <td>23.718328</td>\n      <td>13.349153</td>\n    </tr>\n    <tr>\n      <th>2019-01-05</th>\n      <td>0.0</td>\n      <td>0.0</td>\n      <td>0.0</td>\n      <td>0.00</td>\n      <td>0.00576</td>\n      <td>0.222606</td>\n      <td>312.0</td>\n      <td>1017.9</td>\n      <td>0.00</td>\n      <td>0.0</td>\n      <td>...</td>\n      <td>336.694840</td>\n      <td>12.240000</td>\n      <td>7.522041</td>\n      <td>10.623503</td>\n      <td>132.934675</td>\n      <td>70.012737</td>\n      <td>45.763189</td>\n      <td>28.112308</td>\n      <td>15.003352</td>\n      <td>8.807004</td>\n    </tr>\n    <tr>\n      <th>...</th>\n      <td>...</td>\n      <td>...</td>\n      <td>...</td>\n      <td>...</td>\n      <td>...</td>\n      <td>...</td>\n      <td>...</td>\n      <td>...</td>\n      <td>...</td>\n      <td>...</td>\n      <td>...</td>\n      <td>...</td>\n      <td>...</td>\n      <td>...</td>\n      <td>...</td>\n      <td>...</td>\n      <td>...</td>\n      <td>...</td>\n      <td>...</td>\n      <td>...</td>\n      <td>...</td>\n    </tr>\n    <tr>\n      <th>2019-12-27</th>\n      <td>0.0</td>\n      <td>10.0</td>\n      <td>53.0</td>\n      <td>63.00</td>\n      <td>0.01656</td>\n      <td>0.219064</td>\n      <td>369.0</td>\n      <td>1015.1</td>\n      <td>0.04</td>\n      <td>0.0</td>\n      <td>...</td>\n      <td>117.161795</td>\n      <td>12.779999</td>\n      <td>5.553368</td>\n      <td>9.100230</td>\n      <td>153.723410</td>\n      <td>109.837615</td>\n      <td>52.714800</td>\n      <td>20.865915</td>\n      <td>10.522889</td>\n      <td>5.967702</td>\n    </tr>\n    <tr>\n      <th>2019-12-28</th>\n      <td>0.0</td>\n      <td>12.5</td>\n      <td>0.0</td>\n      <td>21.00</td>\n      <td>0.00720</td>\n      <td>0.195106</td>\n      <td>314.0</td>\n      <td>1016.2</td>\n      <td>0.04</td>\n      <td>0.0</td>\n      <td>...</td>\n      <td>28.312935</td>\n      <td>17.820000</td>\n      <td>9.125671</td>\n      <td>18.069561</td>\n      <td>105.770027</td>\n      <td>68.904055</td>\n      <td>28.460497</td>\n      <td>25.331792</td>\n      <td>22.380693</td>\n      <td>16.423666</td>\n    </tr>\n    <tr>\n      <th>2019-12-29</th>\n      <td>0.0</td>\n      <td>0.0</td>\n      <td>0.0</td>\n      <td>0.00</td>\n      <td>0.00144</td>\n      <td>0.211564</td>\n      <td>312.5</td>\n      <td>1015.9</td>\n      <td>0.04</td>\n      <td>0.0</td>\n      <td>...</td>\n      <td>63.004150</td>\n      <td>14.400000</td>\n      <td>8.221094</td>\n      <td>17.015067</td>\n      <td>106.503442</td>\n      <td>36.583081</td>\n      <td>11.533092</td>\n      <td>23.082796</td>\n      <td>19.342579</td>\n      <td>20.342325</td>\n    </tr>\n    <tr>\n      <th>2019-12-30</th>\n      <td>77.5</td>\n      <td>2.0</td>\n      <td>0.0</td>\n      <td>23.25</td>\n      <td>0.00432</td>\n      <td>0.235314</td>\n      <td>321.5</td>\n      <td>1016.3</td>\n      <td>0.04</td>\n      <td>0.0</td>\n      <td>...</td>\n      <td>88.427995</td>\n      <td>12.599999</td>\n      <td>6.524299</td>\n      <td>16.183349</td>\n      <td>156.731915</td>\n      <td>52.251475</td>\n      <td>13.844642</td>\n      <td>8.654875</td>\n      <td>14.657713</td>\n      <td>14.010798</td>\n    </tr>\n    <tr>\n      <th>2019-12-31</th>\n      <td>0.0</td>\n      <td>0.0</td>\n      <td>0.0</td>\n      <td>1.00</td>\n      <td>0.00072</td>\n      <td>0.280314</td>\n      <td>340.0</td>\n      <td>1017.0</td>\n      <td>0.04</td>\n      <td>0.0</td>\n      <td>...</td>\n      <td>133.208335</td>\n      <td>10.620000</td>\n      <td>6.188385</td>\n      <td>9.197808</td>\n      <td>151.718605</td>\n      <td>70.708885</td>\n      <td>22.854536</td>\n      <td>30.297780</td>\n      <td>23.212100</td>\n      <td>15.215656</td>\n    </tr>\n  </tbody>\n</table>\n<p>365 rows × 37 columns</p>\n</div>"
     },
     "execution_count": 127,
     "metadata": {},
     "output_type": "execute_result"
    }
   ],
   "source": [
    "meteo_data_dhaka_daily = meteo_data_dhaka.resample(\"D\").median()\n",
    "meteo_data_dhaka_daily"
   ],
   "metadata": {
    "collapsed": false,
    "ExecuteTime": {
     "start_time": "2024-11-24T02:31:41.881520Z",
     "end_time": "2024-11-24T02:31:41.922975Z"
    }
   }
  },
  {
   "cell_type": "code",
   "execution_count": 142,
   "outputs": [
    {
     "name": "stdout",
     "output_type": "stream",
     "text": [
      "Temperature [2 m elevation corrected]\n",
      "0 -0.6392996131223575 0.0\n",
      "1 -0.6110822165138725 0.0\n",
      "2 -0.5836019195092979 0.0\n",
      "3 -0.5593127597035401 0.0\n",
      "4 -0.5382440430122291 0.0\n",
      "5 -0.5238974118726866 0.0\n",
      "6 -0.516503038501551 0.0\n",
      "7 -0.5150603959440131 0.0\n",
      "8 -0.5199365598626153 0.0\n",
      "9 -0.5294673449962075 0.0\n",
      "10 -0.5426459477523927 0.0\n",
      "11 -0.5557563913427586 0.0\n",
      "12 -0.5720422344634143 0.0\n",
      "13 -0.5881862461717622 0.0\n",
      "14 -0.6061573468320693 0.0\n",
      "15 -0.6254454979573902 0.0\n",
      "16 -0.6458685762856073 0.0\n",
      "17 -0.664500391961715 0.0\n",
      "18 -0.6823126632517678 0.0\n",
      "19 -0.6939094428465188 0.0\n",
      "20 -0.7010850156653834 0.0\n",
      "21 -0.7011760560353585 0.0\n",
      "22 -0.6908212600172925 0.0\n",
      "23 -0.6732922652150788 0.0\n",
      "24 -0.6505865511966804 0.0\n",
      "25 -0.6234547920975428 0.0\n",
      "26 -0.5982198840462174 0.0\n",
      "27 -0.5752582448281505 0.0\n",
      "28 -0.5557789044239312 0.0\n",
      "29 -0.5423726897389551 0.0\n",
      "30 -0.5348337614189788 0.0\n",
      "31 -0.5328075682667377 0.0\n",
      "32 -0.536769589158565 0.0\n",
      "33 -0.5456450077867221 0.0\n",
      "34 -0.5579464398565916 0.0\n",
      "35 -0.5699713693668667 0.0\n",
      "36 -0.5851389368290562 0.0\n",
      "37 -0.6013492579848065 0.0\n",
      "38 -0.6186542250358267 0.0\n",
      "39 -0.6370118420750929 0.0\n",
      "40 -0.656074682417691 0.0\n",
      "41 -0.6732235832045446 0.0\n",
      "42 -0.6892081624825942 0.0\n",
      "43 -0.700152161255056 0.0\n",
      "44 -0.7068890722516642 0.0\n",
      "45 -0.7060803765059341 0.0\n",
      "46 -0.6951672465823037 0.0\n",
      "47 -0.6766638796468475 0.0\n",
      "48 -0.6540884864737073 0.0\n",
      "49 -0.6272012506355642 0.0\n",
      "50 -0.6021070096916715 0.0\n",
      "51 -0.5796072636820637 0.0\n",
      "52 -0.5606658776025534 0.0\n",
      "53 -0.5475949000924596 0.0\n",
      "54 -0.5398532022801537 0.0\n",
      "55 -0.5384479538615847 0.0\n",
      "56 -0.5432786811259273 0.0\n",
      "57 -0.5519670729521965 0.0\n",
      "58 -0.5649506168026793 0.0\n",
      "59 -0.5777794338070329 0.0\n",
      "60 -0.5921360638154629 0.0\n",
      "61 -0.6075888477083704 0.0\n",
      "62 -0.6243470040896166 0.0\n",
      "63 -0.6421885529556368 0.0\n",
      "64 -0.6606920208890787 0.0\n",
      "65 -0.6776261685848253 0.0\n",
      "66 -0.6932537421626179 0.0\n",
      "67 -0.7028357054020338 0.0\n",
      "68 -0.7076490555378084 0.0\n",
      "69 -0.7067206706108309 0.0\n",
      "70 -0.6960570252972993 0.0\n",
      "71 -0.6781737512786064 0.0\n",
      "72 -0.6560798306782157 0.0\n",
      "73 -0.6293894386560839 0.0\n",
      "74 -0.6048795773809307 0.0\n",
      "75 -0.5834619343889917 0.0\n",
      "76 -0.5650359383595652 0.0\n",
      "77 -0.5524523190240763 0.0\n",
      "78 -0.5456362052123153 0.0\n",
      "79 -0.5445033614172926 0.0\n",
      "80 -0.5486612642577227 0.0\n",
      "81 -0.5573166855352883 0.0\n",
      "82 -0.5694981481899136 0.0\n",
      "83 -0.5806219498986942 0.0\n",
      "84 -0.5945841076831438 0.0\n",
      "85 -0.6096527835519254 0.0\n",
      "86 -0.6259083557172187 0.0\n",
      "87 -0.6437261810559773 0.0\n",
      "88 -0.6621281354823653 0.0\n",
      "89 -0.6786166933959739 0.0\n",
      "90 -0.692721707721109 0.0\n",
      "91 -0.7024508383463787 0.0\n",
      "92 -0.7075851944887537 0.0\n",
      "93 -0.7072751558690685 0.0\n",
      "94 -0.6975170496623773 0.0\n",
      "95 -0.6813453067444651 0.0\n",
      "96 -0.6587380470864939 0.0\n",
      "97 -0.6324696033369878 0.0\n",
      "98 -0.6077194621639692 0.0\n",
      "99 -0.5849556872050925 0.0\n",
      "100 -0.5661518502984595 0.0\n",
      "101 -0.5528493653029163 0.0\n",
      "102 -0.5455204432300149 0.0\n",
      "103 -0.5445424610533476 0.0\n",
      "104 -0.5492118252735958 0.0\n",
      "105 -0.5579843788731658 0.0\n",
      "106 -0.570220419626245 0.0\n",
      "107 -0.5822354879445475 0.0\n",
      "108 -0.5963196061490657 0.0\n",
      "109 -0.6107565879825663 0.0\n",
      "110 -0.6267187889489905 0.0\n",
      "111 -0.6438567978297307 0.0\n",
      "112 -0.6618398249622084 0.0\n",
      "113 -0.6778612443998214 0.0\n",
      "114 -0.6921899971134464 0.0\n",
      "115 -0.7011311993658107 0.0\n",
      "116 -0.7051125533888967 0.0\n",
      "117 -0.7043805105412392 0.0\n",
      "118 -0.6942039404990639 0.0\n",
      "119 -0.6768028717805573 0.0\n",
      "120 -0.6542195695310777 0.0\n",
      "121 -0.6289089202080247 0.0\n",
      "122 -0.6045547800429467 0.0\n",
      "123 -0.5817877158126414 0.0\n",
      "124 -0.5628347803085785 0.0\n",
      "125 -0.5503800441456972 0.0\n",
      "126 -0.5431303082713916 0.0\n",
      "127 -0.5427743355794379 0.0\n",
      "128 -0.547764746300595 0.0\n",
      "129 -0.5567682375625325 0.0\n",
      "130 -0.5689006397680673 0.0\n",
      "131 -0.5813173771569004 0.0\n",
      "132 -0.5954695998891191 0.0\n",
      "133 -0.6098458529742059 0.0\n",
      "134 -0.624857210009915 0.0\n",
      "135 -0.64190224705251 0.0\n",
      "136 -0.6592794378061562 0.0\n",
      "137 -0.6758709044550899 0.0\n",
      "138 -0.6903479486238786 0.0\n",
      "139 -0.6993364394570863 0.0\n",
      "140 -0.7033918750333212 0.0\n",
      "141 -0.7028541298434705 0.0\n",
      "142 -0.6925236391122571 0.0\n",
      "143 -0.6752552575219716 0.0\n",
      "144 -0.6533438716563629 0.0\n",
      "145 -0.6271280022719525 0.0\n",
      "146 -0.6017187832455978 0.0\n",
      "147 -0.5794733192416919 0.0\n",
      "148 -0.5600570937499993 0.0\n",
      "149 -0.5461449890159129 0.0\n",
      "150 -0.5375942353316032 0.0\n",
      "151 -0.5375995816199087 0.0\n",
      "152 -0.5416099211236426 0.0\n",
      "153 -0.5512799680512059 0.0\n",
      "154 -0.5648439960256607 0.0\n",
      "155 -0.5771127713562969 0.0\n",
      "156 -0.5917926572525934 0.0\n",
      "157 -0.6064462870073087 0.0\n",
      "158 -0.6228711528868272 0.0\n",
      "159 -0.6402794317686833 0.0\n",
      "160 -0.658425453908684 0.0\n",
      "161 -0.6743755047714404 0.0\n",
      "162 -0.6879135707382815 0.0\n",
      "163 -0.6960553076049545 0.0\n",
      "164 -0.701297452466552 0.0\n",
      "165 -0.7009513049470784 0.0\n",
      "166 -0.6907965768851207 0.0\n",
      "167 -0.6737631294910736 0.0\n",
      "168 -0.6506924931030987 0.0\n",
      "169 -0.6240231136423343 0.0\n",
      "170 -0.5988859317933145 0.0\n",
      "171 -0.5760677615022796 0.0\n",
      "172 -0.5572757029654702 0.0\n",
      "173 -0.544867862603587 0.0\n",
      "174 -0.5386694672285994 0.0\n",
      "175 -0.5379272308821645 0.0\n",
      "176 -0.5420907715067352 0.0\n",
      "177 -0.5501760008571661 0.0\n",
      "178 -0.5615559343457386 0.0\n",
      "179 -0.5728971253592525 0.0\n",
      "180 -0.5868453767855621 0.0\n",
      "181 -0.6005546249055315 0.0\n",
      "182 -0.6159836892082906 0.0\n",
      "183 -0.6329437532432328 0.0\n",
      "184 -0.6503108909567827 0.0\n",
      "185 -0.665411159867406 0.0\n",
      "186 -0.6791874971577886 0.0\n",
      "187 -0.6868842386840093 0.0\n",
      "188 -0.6917056139072366 0.0\n",
      "189 -0.6915427939610521 0.0\n",
      "190 -0.6806942754844505 0.0\n",
      "191 -0.6628577643483571 0.0\n",
      "192 -0.64019731206417 0.0\n",
      "193 -0.6153705374440731 0.0\n",
      "194 -0.5914133189512129 0.0\n",
      "195 -0.5697010730997666 0.0\n",
      "196 -0.5504588059185693 0.0\n",
      "197 -0.5375802735044595 0.0\n",
      "198 -0.5296530871916401 0.0\n",
      "199 -0.5282781308521384 0.0\n",
      "200 -0.5330314623029613 0.0\n",
      "201 -0.5408377484453792 0.0\n",
      "202 -0.5516462316281153 0.0\n",
      "203 -0.5628400166559608 0.0\n",
      "204 -0.5772220963199641 0.0\n",
      "205 -0.590934929532275 0.0\n",
      "206 -0.605909058444307 0.0\n",
      "207 -0.6233286400455119 0.0\n",
      "208 -0.6408889750010552 0.0\n",
      "209 -0.6557526149070573 0.0\n",
      "210 -0.6690544290235529 0.0\n",
      "211 -0.6770865398429389 0.0\n",
      "212 -0.6810528925878524 0.0\n",
      "213 -0.6807692096260385 0.0\n",
      "214 -0.6703430968142403 0.0\n",
      "215 -0.6539174056677093 0.0\n",
      "216 -0.6320596706063654 0.0\n",
      "217 -0.6072477207332315 0.0\n",
      "218 -0.58317865108325 0.0\n",
      "219 -0.5609367379383667 0.0\n",
      "220 -0.5418640822436924 0.0\n",
      "221 -0.529677136168731 0.0\n",
      "222 -0.5223449985472045 0.0\n",
      "223 -0.5197261183998105 0.0\n",
      "224 -0.5249556522989876 0.0\n",
      "225 -0.5331370306012978 0.0\n",
      "226 -0.5448160659427315 0.0\n",
      "227 -0.5568486791514908 0.0\n",
      "228 -0.5712429371074341 0.0\n",
      "229 -0.5852482380983327 0.0\n",
      "230 -0.6008899033116246 0.0\n",
      "231 -0.6177805470781078 0.0\n",
      "232 -0.6349809040535361 0.0\n",
      "233 -0.6505217510879875 0.0\n",
      "234 -0.6648668510236276 0.0\n",
      "235 -0.6730412965875594 0.0\n",
      "236 -0.6767573729335955 0.0\n",
      "237 -0.6759932814790635 0.0\n",
      "238 -0.6660808069290625 0.0\n",
      "239 -0.6492801948669251 0.0\n",
      "240 -0.6269540882337515 0.0\n",
      "241 -0.6018219375594869 0.0\n",
      "242 -0.5772129751568753 0.0\n",
      "243 -0.5549060793645544 0.0\n",
      "244 -0.5354567622135564 0.0\n",
      "245 -0.5223286691537805 0.0\n",
      "246 -0.5142204738421038 0.0\n",
      "247 -0.5119713620315166 0.0\n",
      "248 -0.517004321633362 0.0\n",
      "249 -0.525785024235798 0.0\n",
      "250 -0.5372855553394098 0.0\n",
      "251 -0.5494645098170887 0.0\n",
      "252 -0.5648234879931007 0.0\n",
      "253 -0.5791427651268254 0.0\n",
      "254 -0.5949398111695652 0.0\n",
      "255 -0.6113226382819164 0.0\n",
      "256 -0.627414526957558 0.0\n",
      "257 -0.6420329514231262 0.0\n",
      "258 -0.6550762116373914 0.0\n",
      "259 -0.6628599023414414 0.0\n",
      "260 -0.6663933349303313 0.0\n",
      "261 -0.6646553967349169 0.0\n",
      "262 -0.6535903258539191 0.0\n",
      "263 -0.6365558408274941 0.0\n",
      "264 -0.6141605598614779 0.0\n",
      "265 -0.5896463195919713 0.0\n",
      "266 -0.5664874593970202 0.0\n",
      "267 -0.5442964558025053 0.0\n",
      "268 -0.5255485129191158 0.0\n",
      "269 -0.5144410271766233 0.0\n",
      "270 -0.5083242566776927 0.0\n",
      "271 -0.5062871733673873 0.0\n",
      "272 -0.5108737107378225 0.0\n",
      "273 -0.5200680488939899 0.0\n",
      "274 -0.5315897248682309 0.0\n",
      "275 -0.5436983514852193 0.0\n",
      "276 -0.558835119328875 0.0\n",
      "277 -0.5728109740953138 0.0\n",
      "278 -0.5887246637090754 0.0\n",
      "279 -0.6066147676107928 0.0\n",
      "280 -0.6228929588202119 0.0\n",
      "281 -0.6378640946809112 0.0\n",
      "282 -0.6510489952971142 0.0\n",
      "283 -0.6587430626477384 0.0\n",
      "284 -0.6619029238867782 0.0\n",
      "285 -0.6607960129002732 0.0\n",
      "286 -0.6510045568643368 0.0\n",
      "287 -0.6345725455421268 0.0\n",
      "288 -0.6131186643590707 0.0\n",
      "289 -0.5888692701177702 0.0\n",
      "290 -0.56556040358214 0.0\n",
      "291 -0.543600260887238 0.0\n",
      "292 -0.5252677285066326 0.0\n",
      "293 -0.5140897550277115 0.0\n",
      "294 -0.5080137299172042 0.0\n",
      "295 -0.5070014473067133 0.0\n",
      "296 -0.5112394645954732 0.0\n",
      "297 -0.5194319627815003 0.0\n",
      "298 -0.5306152967379983 0.0\n",
      "299 -0.5418613474338316 0.0\n",
      "300 -0.5568394833642127 0.0\n",
      "301 -0.5710439053985255 0.0\n",
      "302 -0.587072210489328 0.0\n",
      "303 -0.6046521045975146 0.0\n",
      "304 -0.6203827783824141 0.0\n",
      "305 -0.6349508464873932 0.0\n",
      "306 -0.6494907786878736 0.0\n",
      "307 -0.6578095286827814 0.0\n",
      "308 -0.6614951048171019 0.0\n",
      "309 -0.6608533669293224 0.0\n",
      "310 -0.6497831914568093 0.0\n",
      "311 -0.6326042562685534 0.0\n",
      "312 -0.6103227677256913 0.0\n",
      "313 -0.5855850857482088 0.0\n",
      "314 -0.5616134361834881 0.0\n",
      "315 -0.5387684881554495 0.0\n",
      "316 -0.5190214302461286 0.0\n",
      "317 -0.5068786991947467 0.0\n",
      "318 -0.500017569294388 0.0\n",
      "319 -0.49800274670705147 0.0\n",
      "320 -0.5023367302548434 0.0\n",
      "321 -0.5125358290275266 0.0\n",
      "322 -0.5259381576772174 0.0\n",
      "323 -0.5387288411110802 0.0\n",
      "324 -0.5556269645095147 0.0\n",
      "325 -0.5705992203311807 0.0\n",
      "326 -0.5870349685589722 0.0\n",
      "327 -0.604692862552318 0.0\n",
      "328 -0.6202763265172647 0.0\n",
      "329 -0.6332501909117872 0.0\n",
      "330 -0.6445006340505135 0.0\n",
      "331 -0.6508386340185349 0.0\n",
      "332 -0.6534554095201296 0.0\n",
      "333 -0.6515466576454385 0.0\n",
      "334 -0.6409782040827043 0.0\n",
      "335 -0.6242346801749878 0.0\n",
      "Longwave Radiation\n",
      "0 -0.7412059503039873 0.0\n",
      "1 -0.731452089845737 0.0\n",
      "2 -0.7214581469375378 0.0\n",
      "3 -0.712508135643303 0.0\n",
      "4 -0.7061589549206925 0.0\n",
      "5 -0.7021447580737589 0.0\n",
      "6 -0.7011606858838377 0.0\n",
      "7 -0.7026852028674506 0.0\n",
      "8 -0.705019120416692 0.0\n",
      "9 -0.7088076543619922 0.0\n",
      "10 -0.7142846147359515 0.0\n",
      "11 -0.7205773731636917 0.0\n",
      "12 -0.7274725537496648 0.0\n",
      "13 -0.7345765678769933 0.0\n",
      "14 -0.7420291350580416 0.0\n",
      "15 -0.7490354031977424 0.0\n",
      "16 -0.755293413811486 0.0\n",
      "17 -0.7623753098481729 0.0\n",
      "18 -0.7682291177177798 0.0\n",
      "19 -0.7714244478895705 0.0\n",
      "20 -0.7719762121356541 0.0\n",
      "21 -0.7696775330149874 0.0\n",
      "22 -0.7639418003965497 0.0\n",
      "23 -0.7560857810522904 0.0\n",
      "24 -0.7467772530986112 0.0\n",
      "25 -0.737137867358267 0.0\n",
      "26 -0.7280174637324717 0.0\n",
      "27 -0.7199735398486565 0.0\n",
      "28 -0.7135884608348481 0.0\n",
      "29 -0.7102423014951025 0.0\n",
      "30 -0.709120655303689 0.0\n",
      "31 -0.710792232928822 0.0\n",
      "32 -0.7135985151996547 0.0\n",
      "33 -0.7172877991193247 0.0\n",
      "34 -0.7219792158069334 0.0\n",
      "35 -0.7271391180557714 0.0\n",
      "36 -0.7326373347410511 0.0\n",
      "37 -0.738583046883514 0.0\n",
      "38 -0.7446284475909382 0.0\n",
      "39 -0.7505591201567122 0.0\n",
      "40 -0.7565727255482104 0.0\n",
      "41 -0.7621142681120544 0.0\n",
      "42 -0.7665233741547682 0.0\n",
      "43 -0.7688562621044543 0.0\n",
      "44 -0.7686010201209599 0.0\n",
      "45 -0.7642918213385343 0.0\n",
      "46 -0.7581716897654553 0.0\n",
      "47 -0.7500814196946795 0.0\n",
      "48 -0.7398623359208067 0.0\n",
      "49 -0.7283408038762316 0.0\n",
      "50 -0.7185104096630872 0.0\n",
      "51 -0.7097654753059446 0.0\n",
      "52 -0.7031975687179471 0.0\n",
      "53 -0.6994854585244463 0.0\n",
      "54 -0.6987357262847874 0.0\n",
      "55 -0.6997965165186006 0.0\n",
      "56 -0.7031657441440814 0.0\n",
      "57 -0.7069111146367093 0.0\n",
      "58 -0.7115823641629024 0.0\n",
      "59 -0.7167269439259607 0.0\n",
      "60 -0.7214676748263146 0.0\n",
      "61 -0.7269968033115819 0.0\n",
      "62 -0.7329520033437136 0.0\n",
      "63 -0.7383171187936066 0.0\n",
      "64 -0.7430294049755852 0.0\n",
      "65 -0.7477232704236029 0.0\n",
      "66 -0.7521874969857418 0.0\n",
      "67 -0.7544973703582173 0.0\n",
      "68 -0.7543819346448278 0.0\n",
      "69 -0.7508199187616229 0.0\n",
      "70 -0.744207802724216 0.0\n",
      "71 -0.7350680830111704 0.0\n",
      "72 -0.7250646098252889 0.0\n",
      "73 -0.7142556544809568 0.0\n",
      "74 -0.7045712251492984 0.0\n",
      "75 -0.696101853852485 0.0\n",
      "76 -0.6893459443660073 0.0\n",
      "77 -0.6853248635644053 0.0\n",
      "78 -0.6845430617010431 0.0\n",
      "79 -0.6850811377189584 0.0\n",
      "80 -0.6870552617160769 0.0\n",
      "81 -0.691200829338922 0.0\n",
      "82 -0.6957128796746568 0.0\n",
      "83 -0.7002552747794175 0.0\n",
      "84 -0.7059357552623422 0.0\n",
      "85 -0.7109846401699742 0.0\n",
      "86 -0.716430808457256 0.0\n",
      "87 -0.7227681220337085 0.0\n",
      "88 -0.7291838977424996 0.0\n",
      "89 -0.7337123072197528 0.0\n",
      "90 -0.738224249024134 0.0\n",
      "91 -0.7416370884528396 0.0\n",
      "92 -0.7411947000595924 0.0\n",
      "93 -0.737414685588896 0.0\n",
      "94 -0.7312333188920872 0.0\n",
      "95 -0.7229986411321763 0.0\n",
      "96 -0.7133862789842699 0.0\n",
      "97 -0.7033704707780305 0.0\n",
      "98 -0.6940818252199883 0.0\n",
      "99 -0.6847991964680004 0.0\n",
      "100 -0.6785522133558606 0.0\n",
      "101 -0.6754912841580402 0.0\n",
      "102 -0.6740634141383648 0.0\n",
      "103 -0.6750218097707877 0.0\n",
      "104 -0.6770165196465743 0.0\n",
      "105 -0.6807969344879377 0.0\n",
      "106 -0.6855946195342362 0.0\n",
      "107 -0.692282834041696 0.0\n",
      "108 -0.6978327951314327 0.0\n",
      "109 -0.7027293221288377 0.0\n",
      "110 -0.7079029967657509 0.0\n",
      "111 -0.712966107668346 0.0\n",
      "112 -0.7186951895043896 0.0\n",
      "113 -0.7248514956757448 0.0\n",
      "114 -0.7284117024901113 0.0\n",
      "115 -0.7304172972586853 0.0\n",
      "116 -0.7298332046825506 0.0\n",
      "117 -0.7266036115979904 0.0\n",
      "118 -0.7204638514272864 0.0\n",
      "119 -0.7117479540446666 0.0\n",
      "120 -0.7017941525903734 0.0\n",
      "121 -0.6934290567591836 0.0\n",
      "122 -0.6846539682900672 0.0\n",
      "123 -0.6775357235258903 0.0\n",
      "124 -0.6716593903034425 0.0\n",
      "125 -0.6690836783002048 0.0\n",
      "126 -0.6684213956474039 0.0\n",
      "127 -0.670051054281368 0.0\n",
      "128 -0.6730410502597751 0.0\n",
      "129 -0.6777225199035907 0.0\n",
      "130 -0.6837936476809914 0.0\n",
      "131 -0.6885826771632875 0.0\n",
      "132 -0.6938344599182704 0.0\n",
      "133 -0.6996329635461525 0.0\n",
      "134 -0.7042022469577625 0.0\n",
      "135 -0.7090867108141169 0.0\n",
      "136 -0.7147820121500992 0.0\n",
      "137 -0.7194917657517373 0.0\n",
      "138 -0.7243691272957208 0.0\n",
      "139 -0.7267061286672439 0.0\n",
      "140 -0.7260402262269936 0.0\n",
      "141 -0.7227382229314615 0.0\n",
      "142 -0.7168751880557495 0.0\n",
      "143 -0.7075463438117219 0.0\n",
      "144 -0.6974859338875804 0.0\n",
      "145 -0.6872873240408732 0.0\n",
      "146 -0.6781222982680959 0.0\n",
      "147 -0.6707299560338795 0.0\n",
      "148 -0.6655720729037451 0.0\n",
      "149 -0.6627621831345623 0.0\n",
      "150 -0.6629775920850436 0.0\n",
      "151 -0.6644958721178882 0.0\n",
      "152 -0.667664318385279 0.0\n",
      "153 -0.6721978466665011 0.0\n",
      "154 -0.6768847662174551 0.0\n",
      "155 -0.6832250715624222 0.0\n",
      "156 -0.6891201902485473 0.0\n",
      "157 -0.6948612568051373 0.0\n",
      "158 -0.7007631414855208 0.0\n",
      "159 -0.7070015602465332 0.0\n",
      "160 -0.7126295877938946 0.0\n",
      "161 -0.7179719364057318 0.0\n",
      "162 -0.7215027545044889 0.0\n",
      "163 -0.7237218430331861 0.0\n",
      "164 -0.7238172161808047 0.0\n",
      "165 -0.7209980578734925 0.0\n",
      "166 -0.7155468100249406 0.0\n",
      "167 -0.7065361373405776 0.0\n",
      "168 -0.695697408045389 0.0\n",
      "169 -0.6866784035893538 0.0\n",
      "170 -0.678516911809739 0.0\n",
      "171 -0.6712511497234981 0.0\n",
      "172 -0.6664353509823873 0.0\n",
      "173 -0.6643205296021959 0.0\n",
      "174 -0.6639340099484625 0.0\n",
      "175 -0.6652381862177889 0.0\n",
      "176 -0.6679715351015683 0.0\n",
      "177 -0.671250829782097 0.0\n",
      "178 -0.6758622420305571 0.0\n",
      "179 -0.6812160204739267 0.0\n",
      "180 -0.6866364908528955 0.0\n",
      "181 -0.6933362041460002 0.0\n",
      "182 -0.6994697152273992 0.0\n",
      "183 -0.7054435322542469 0.0\n",
      "184 -0.7103429668706954 0.0\n",
      "185 -0.7157557957857181 0.0\n",
      "186 -0.7204104455625633 0.0\n",
      "187 -0.7233976939741384 0.0\n",
      "188 -0.7238814171140957 0.0\n",
      "189 -0.721330495562933 0.0\n",
      "190 -0.7145780915844433 0.0\n",
      "191 -0.706233583295354 0.0\n",
      "192 -0.6963077615356597 0.0\n",
      "193 -0.6861340058516764 0.0\n",
      "194 -0.6763262704876167 0.0\n",
      "195 -0.668003079532214 0.0\n",
      "196 -0.6625431262809074 0.0\n",
      "197 -0.65875438216331 0.0\n",
      "198 -0.6583686536765899 0.0\n",
      "199 -0.6590812185927803 0.0\n",
      "200 -0.6611366098309817 0.0\n",
      "201 -0.6650025760135805 0.0\n",
      "202 -0.6698101173660614 0.0\n",
      "203 -0.674357381116417 0.0\n",
      "204 -0.6799480781678737 0.0\n",
      "205 -0.6852447969651468 0.0\n",
      "206 -0.6903294302279559 0.0\n",
      "207 -0.6960742267409502 0.0\n",
      "208 -0.7014726772318112 0.0\n",
      "209 -0.7060453340984336 0.0\n",
      "210 -0.7098150170467495 0.0\n",
      "211 -0.7123729759237569 0.0\n",
      "212 -0.7120925247109774 0.0\n",
      "213 -0.7089789173756083 0.0\n",
      "214 -0.7032177714760333 0.0\n",
      "215 -0.6946215266423763 0.0\n",
      "216 -0.6843774961684801 0.0\n",
      "217 -0.6742731986111399 0.0\n",
      "218 -0.6646978480775644 0.0\n",
      "219 -0.655527931690665 0.0\n",
      "220 -0.649344443284942 0.0\n",
      "221 -0.6459088954354975 0.0\n",
      "222 -0.6458320101412451 0.0\n",
      "223 -0.6473248284101777 0.0\n",
      "224 -0.6501029194833767 0.0\n",
      "225 -0.6537959286026052 0.0\n",
      "226 -0.6585920921694784 0.0\n",
      "227 -0.6645675208799517 0.0\n",
      "228 -0.670353789994802 0.0\n",
      "229 -0.6762618596401527 0.0\n",
      "230 -0.6821379382075029 0.0\n",
      "231 -0.6873496330643922 0.0\n",
      "232 -0.692737686373591 0.0\n",
      "233 -0.6970927145482948 0.0\n",
      "234 -0.7013008480670558 0.0\n",
      "235 -0.7028713171189056 0.0\n",
      "236 -0.7038042919853172 0.0\n",
      "237 -0.7005008793272371 0.0\n",
      "238 -0.6941132747118213 0.0\n",
      "239 -0.6867342688801059 0.0\n",
      "240 -0.6775049957597867 0.0\n",
      "241 -0.6674754827638341 0.0\n",
      "242 -0.658724486024779 0.0\n",
      "243 -0.6511226456410006 0.0\n",
      "244 -0.6450985268448899 0.0\n",
      "245 -0.6418508876204444 0.0\n",
      "246 -0.640355172570657 0.0\n",
      "247 -0.6411166514800084 0.0\n",
      "248 -0.6438537684564682 0.0\n",
      "249 -0.6481681467851496 0.0\n",
      "250 -0.6533050672374621 0.0\n",
      "251 -0.6585331642302739 0.0\n",
      "252 -0.6636518626564795 0.0\n",
      "253 -0.669277369441984 0.0\n",
      "254 -0.6749090159004766 0.0\n",
      "255 -0.6806527534050686 0.0\n",
      "256 -0.6853959393335054 0.0\n",
      "257 -0.6891864306294353 0.0\n",
      "258 -0.6922847154799576 0.0\n",
      "259 -0.6938671759099753 0.0\n",
      "260 -0.6931032860776936 0.0\n",
      "261 -0.6911680793443353 0.0\n",
      "262 -0.6855533418742585 0.0\n",
      "263 -0.6779646144793234 0.0\n",
      "264 -0.6689355005477267 0.0\n",
      "265 -0.6593847805455686 0.0\n",
      "266 -0.6497209525259551 0.0\n",
      "267 -0.6414658252602345 0.0\n",
      "268 -0.6354925540100818 0.0\n",
      "269 -0.6317912681634347 0.0\n",
      "270 -0.6311325457963228 0.0\n",
      "271 -0.6316227701327387 0.0\n",
      "272 -0.6345917502143662 0.0\n",
      "273 -0.6386280000840302 0.0\n",
      "274 -0.6432282529972673 0.0\n",
      "275 -0.6477695601550884 0.0\n",
      "276 -0.653216307777725 0.0\n",
      "277 -0.6589727578527109 0.0\n",
      "278 -0.6653140381231886 0.0\n",
      "279 -0.6723136238572363 0.0\n",
      "280 -0.6776144781770139 0.0\n",
      "281 -0.6827809193054727 0.0\n",
      "282 -0.6873345401702715 0.0\n",
      "283 -0.6893570334225907 0.0\n",
      "284 -0.689201815082197 0.0\n",
      "285 -0.6868304551184696 0.0\n",
      "286 -0.6821906539109703 0.0\n",
      "287 -0.6754875789305312 0.0\n",
      "288 -0.6671137761282031 0.0\n",
      "289 -0.657099523312398 0.0\n",
      "290 -0.6476501938216404 0.0\n",
      "291 -0.6395055017896301 0.0\n",
      "292 -0.6338694706870172 0.0\n",
      "293 -0.630132574305442 0.0\n",
      "294 -0.6297689404401763 0.0\n",
      "295 -0.6312537085916184 0.0\n",
      "296 -0.6344219073001454 0.0\n",
      "297 -0.6389884431478147 0.0\n",
      "298 -0.6444787892564314 0.0\n",
      "299 -0.649434014818884 0.0\n",
      "300 -0.6556874857735393 0.0\n",
      "301 -0.6627491406924801 0.0\n",
      "302 -0.6704803423621706 0.0\n",
      "303 -0.6776316151144588 0.0\n",
      "304 -0.6845178792214484 0.0\n",
      "305 -0.6897176784074829 0.0\n",
      "306 -0.6941127914474028 0.0\n",
      "307 -0.6965109548388233 0.0\n",
      "308 -0.6971463073643258 0.0\n",
      "309 -0.6950884311913008 0.0\n",
      "310 -0.6897174512136652 0.0\n",
      "311 -0.6828544028154055 0.0\n",
      "312 -0.6745504397074786 0.0\n",
      "313 -0.6653648317609763 0.0\n",
      "314 -0.6552665550947698 0.0\n",
      "315 -0.6459909381695667 0.0\n",
      "316 -0.6389816027987265 0.0\n",
      "317 -0.6346480735239136 0.0\n",
      "318 -0.6322861042817485 0.0\n",
      "319 -0.6327527348009252 0.0\n",
      "320 -0.6352771641051599 0.0\n",
      "321 -0.6390743714850986 0.0\n",
      "322 -0.6457523764914754 0.0\n",
      "323 -0.651914875174869 0.0\n",
      "324 -0.6579783150951358 0.0\n",
      "325 -0.6652425848195487 0.0\n",
      "326 -0.6725976605965909 0.0\n",
      "327 -0.6793676037517105 0.0\n",
      "328 -0.6851095091611463 0.0\n",
      "329 -0.6900974087479483 0.0\n",
      "330 -0.6934333130562065 0.0\n",
      "331 -0.6944229448540327 0.0\n",
      "332 -0.6938498767472419 0.0\n",
      "333 -0.6913671032301082 0.0\n",
      "334 -0.6869920090872844 0.0\n",
      "335 -0.6793663817181317 0.0\n",
      "Relative Humidity [2 m]\n",
      "0 -0.11032370994296262 3.9353402192541255e-25\n",
      "1 -0.15133910160602548 4.895768411676234e-46\n",
      "2 -0.19187006171808962 2.1346589549205214e-73\n",
      "3 -0.23021573996499445 1.099632297947845e-105\n",
      "4 -0.2630664052048307 1.5360766521154274e-138\n",
      "5 -0.28545698109545614 8.323649202780159e-164\n",
      "6 -0.2982366859730718 2.646707545029633e-179\n",
      "7 -0.3034470184052682 7.679499469332785e-186\n",
      "8 -0.30023290501370226 9.271384811946702e-182\n",
      "9 -0.2902573020868209 1.8291336679125455e-169\n",
      "10 -0.27596969707008945 1.0262263167880607e-152\n",
      "11 -0.2622969234428077 1.3231646363221886e-137\n",
      "12 -0.2431386670464335 6.559097872554609e-118\n",
      "13 -0.2237700954275424 1.073338404461166e-99\n",
      "14 -0.198977991183438 8.457009380748436e-79\n",
      "15 -0.17035108931633758 6.149718604831737e-58\n",
      "16 -0.13865820560821832 8.596959670726328e-39\n",
      "17 -0.10839413480710183 2.8765756103887235e-24\n",
      "18 -0.07792376441722854 2.968433449511151e-13\n",
      "19 -0.05659350775925097 1.192762974483821e-07\n",
      "20 -0.04132959673706246 0.00011112624049207469\n",
      "21 -0.0361312085913128 0.0007294612420775127\n",
      "22 -0.048680206647885346 5.3001873931081636e-06\n",
      "23 -0.07348257222593595 6.118085226515551e-12\n",
      "24 -0.10585024397182327 3.4102361870744655e-23\n",
      "25 -0.14456489204679085 5.214609747189351e-42\n",
      "26 -0.18035597725015673 9.343359430509204e-65\n",
      "27 -0.21555483614789733 2.472473142074172e-92\n",
      "28 -0.24482351923675721 2.337666287188763e-119\n",
      "29 -0.26573643381014417 4.949448284830366e-141\n",
      "30 -0.2780911898850073 8.69974795302431e-155\n",
      "31 -0.28332345695462735 8.055617617436831e-161\n",
      "32 -0.2806713354031357 1.0173749571488622e-157\n",
      "33 -0.2710451691710691 8.543187196490635e-147\n",
      "34 -0.25774799390469627 1.959864780738236e-132\n",
      "35 -0.2451248696156652 1.4616866914864623e-119\n",
      "36 -0.22682384785771398 3.4399707567269216e-102\n",
      "37 -0.20650482096831874 1.2188891787294662e-84\n",
      "38 -0.18228871187977952 4.787296125750145e-66\n",
      "39 -0.15336801885138382 4.763326177587809e-47\n",
      "40 -0.12182230736610827 3.447159142017977e-30\n",
      "41 -0.09232879332843205 5.69682499140493e-18\n",
      "42 -0.06418230611069403 1.9971091499704722e-09\n",
      "43 -0.04265781158616923 6.776957975684841e-05\n",
      "44 -0.028631106207059394 0.007514243525774813\n",
      "45 -0.026439154665886085 0.013576309384237342\n",
      "46 -0.04073093879871358 0.0001428289554374398\n",
      "47 -0.06736532100877396 3.0867061146382095e-10\n",
      "48 -0.09914028885048784 1.7746153747444083e-20\n",
      "49 -0.1370107216191611 9.013887771172721e-38\n",
      "50 -0.17321051492374623 1.2366819347884356e-59\n",
      "51 -0.2069539628234629 7.097049076416262e-85\n",
      "52 -0.2349022206434493 1.8059745200582383e-109\n",
      "53 -0.25500408470422326 2.676479272641506e-129\n",
      "54 -0.26715608021346693 3.558795556716198e-142\n",
      "55 -0.27074530821673143 4.251174624615856e-146\n",
      "56 -0.2657268190501564 1.3645719675186743e-140\n",
      "57 -0.25516200170214465 2.1037126317525962e-129\n",
      "58 -0.23952623728622202 8.527468716638134e-114\n",
      "59 -0.2248697448306773 3.6441032222265436e-100\n",
      "60 -0.207344364563165 4.13855121742304e-85\n",
      "61 -0.18795295976886772 5.4343554614049706e-70\n",
      "62 -0.16403592837126937 1.6185410628603047e-53\n",
      "63 -0.13579986060460794 4.489594189012231e-37\n",
      "64 -0.10474716650269782 1.201078624191082e-22\n",
      "65 -0.07571740868467897 1.554316985246794e-12\n",
      "66 -0.04802346864982912 7.473861878218813e-06\n",
      "67 -0.029052331527106772 0.006750405126268008\n",
      "68 -0.01745531316257433 0.10368095442424817\n",
      "69 -0.015146108913036005 0.15798472105565914\n",
      "70 -0.027445059228027032 0.010511062878565111\n",
      "71 -0.052558832107185795 9.489262317828964e-07\n",
      "72 -0.08346258180648346 6.5967792974605495e-15\n",
      "73 -0.12138948227317034 7.054173104875697e-30\n",
      "74 -0.15606712647387322 1.7322374128313006e-48\n",
      "75 -0.18764858078983368 1.1721185576111432e-69\n",
      "76 -0.2125875336987008 2.6104611752054887e-89\n",
      "77 -0.2309291039670177 1.8274670526975734e-105\n",
      "78 -0.2408745580136797 7.760011853011472e-115\n",
      "79 -0.24361635434290402 1.73145075951593e-117\n",
      "80 -0.23933347809571587 2.5031878468496306e-113\n",
      "81 -0.22970689324987648 2.704300054542374e-104\n",
      "82 -0.2154440400439252 1.1410237156092485e-91\n",
      "83 -0.2020513851092875 1.2839777996662594e-80\n",
      "84 -0.18490251294730012 1.386226270234183e-67\n",
      "85 -0.16674768187459948 3.999484020834093e-55\n",
      "86 -0.14428946414160193 1.420094065872371e-41\n",
      "87 -0.11785263055382088 3.33369448691306e-28\n",
      "88 -0.08894580273900657 1.0569374560131678e-16\n",
      "89 -0.06284729752837998 4.7080930138405355e-09\n",
      "90 -0.038459262074744066 0.00034115705329064785\n",
      "91 -0.020001691994465613 0.06257144350734586\n",
      "92 -0.007990736155867761 0.4569618692240796\n",
      "93 -0.0044892613039718325 0.6760367974391175\n",
      "94 -0.015801227372981334 0.14133513217487437\n",
      "95 -0.039072840114783985 0.00027476543784577076\n",
      "96 -0.07060550927608132 4.727721149185118e-11\n",
      "97 -0.10693561360974246 1.8599921741890944e-23\n",
      "98 -0.14188717532839262 3.4235332592766824e-40\n",
      "99 -0.17513685156372882 1.2930456360227166e-60\n",
      "100 -0.20229294911483028 1.1772584019553874e-80\n",
      "101 -0.22212129325330468 2.9653450355477627e-97\n",
      "102 -0.2337245940893819 9.417973313541473e-108\n",
      "103 -0.23637562336174447 3.177706019806492e-110\n",
      "104 -0.23222838116563488 2.4348971881935627e-106\n",
      "105 -0.2233240781498972 2.8479694861288233e-98\n",
      "106 -0.20982139405511108 1.0522355340122699e-86\n",
      "107 -0.1979608932797676 3.4440138257066732e-77\n",
      "108 -0.18279975474762078 6.788398161875652e-66\n",
      "109 -0.1654212736001476 4.0174476364802e-54\n",
      "110 -0.142876312037595 1.1089015693897102e-40\n",
      "111 -0.11641867572139411 1.742571388669255e-27\n",
      "112 -0.08649232700775306 7.802306745364885e-16\n",
      "113 -0.05904404692357773 3.9190480995227565e-08\n",
      "114 -0.03399622503778003 0.0015692793455441111\n",
      "115 -0.016719796640254532 0.12007345960766809\n",
      "116 -0.006105393921965713 0.5703333086959681\n",
      "117 -0.003263159786742703 0.761641808478042\n",
      "118 -0.015000745808826878 0.16320245231844716\n",
      "119 -0.03945572171761933 0.0002438989543318799\n",
      "120 -0.0712887038899566 3.269724666851161e-11\n",
      "121 -0.10673576487059765 2.5813654351167227e-23\n",
      "122 -0.14151037248711273 7.023550804321357e-40\n",
      "123 -0.17585684107171695 6.079810322334141e-61\n",
      "124 -0.20386425615519213 1.091166804704176e-81\n",
      "125 -0.22226824107993184 4.048555506168731e-97\n",
      "126 -0.23333008345452408 4.29881515043282e-107\n",
      "127 -0.23577678400159413 2.315487634465796e-109\n",
      "128 -0.23011187398321778 4.1425699575899156e-104\n",
      "129 -0.219444983172881 1.2986074354216108e-94\n",
      "130 -0.20530377918997428 8.681013723503897e-83\n",
      "131 -0.19181581874660059 2.6535682808998204e-72\n",
      "132 -0.1750634370155449 2.4296154448364837e-60\n",
      "133 -0.15882237510335284 7.624856128280673e-50\n",
      "134 -0.13966742067121962 7.855583454916613e-39\n",
      "135 -0.11494558563861444 9.229294181974799e-27\n",
      "136 -0.08707516628818676 5.473596467324795e-16\n",
      "137 -0.05895474075218783 4.2890950662540927e-08\n",
      "138 -0.03322927639013872 0.0020293698923400457\n",
      "139 -0.015892940720999522 0.14007057414053498\n",
      "140 -0.005824801196922221 0.5886980126760953\n",
      "141 -0.0028808362583447353 0.7891500507671299\n",
      "142 -0.015451353179171385 0.15149355773496453\n",
      "143 -0.039012953686235474 0.0002919498974605545\n",
      "144 -0.06991506992429504 8.210402559525975e-11\n",
      "145 -0.10623269884743629 4.751632220542673e-23\n",
      "146 -0.14116508703315228 1.3799738785868189e-39\n",
      "147 -0.1731339715853922 6.13165591911753e-59\n",
      "148 -0.20200508726860034 5.433261696848041e-80\n",
      "149 -0.22292510352577002 1.974668523671097e-97\n",
      "150 -0.23722056395468816 1.9775291878516875e-110\n",
      "151 -0.23976493424221862 7.926035165120473e-113\n",
      "152 -0.23503941589218236 2.3118231307572077e-108\n",
      "153 -0.22285230785631455 2.5340545166702397e-97\n",
      "154 -0.20703428087037198 5.856493312369554e-84\n",
      "155 -0.19374696250060852 1.4819204477306518e-73\n",
      "156 -0.17639166165197678 4.419322617600636e-61\n",
      "157 -0.15934523050246818 4.963578157513666e-50\n",
      "158 -0.13890762952236052 2.5343710775859654e-38\n",
      "159 -0.11423877402312638 2.2090927759929294e-26\n",
      "160 -0.08674455859346697 7.731044024037615e-16\n",
      "161 -0.05984865637870404 2.7922909443359698e-08\n",
      "162 -0.035237014543351264 0.001083463327065213\n",
      "163 -0.019040010011406535 0.07751450239123125\n",
      "164 -0.006755632200997519 0.5311431701383589\n",
      "165 -0.0035933579663042863 0.7390663120535155\n",
      "166 -0.016041070086827803 0.13702855096839114\n",
      "167 -0.04110502461700946 0.00013816633309108909\n",
      "168 -0.07393675275123393 6.798953411787585e-12\n",
      "169 -0.11182476652290414 2.5887095115402323e-25\n",
      "170 -0.14683552598523575 1.3135770197124884e-42\n",
      "171 -0.18099296985702742 3.7165348431749593e-64\n",
      "172 -0.20870885685623283 3.795081043901261e-85\n",
      "173 -0.22713240939876086 6.845814294791017e-101\n",
      "174 -0.23714847948220116 4.63706263615667e-110\n",
      "175 -0.24036001345312552 4.386037702593299e-113\n",
      "176 -0.23646548308087983 2.1444167763990084e-109\n",
      "177 -0.22783900653462263 1.7720211388943654e-101\n",
      "178 -0.21458740979794927 5.912840384290464e-90\n",
      "179 -0.20120499641300477 4.410092570232101e-79\n",
      "180 -0.18376155860657184 4.821034141562167e-66\n",
      "181 -0.16824170402403216 1.695718161706744e-55\n",
      "182 -0.1479887616481062 3.3493118777550736e-43\n",
      "183 -0.12250559363559668 4.867712374419685e-30\n",
      "184 -0.09537973815859468 8.619588392401477e-19\n",
      "185 -0.0701073834956579 8.080971700887874e-11\n",
      "186 -0.04531189785243278 2.701878220594134e-05\n",
      "187 -0.0292622470447196 0.006736620371370935\n",
      "188 -0.017653520743978253 0.10218707994760137\n",
      "189 -0.013806758531151474 0.201214174778476\n",
      "190 -0.02703893215964925 0.012307507751095662\n",
      "191 -0.051287049006048344 2.033977756445557e-06\n",
      "192 -0.08286699766904229 1.559464649300861e-14\n",
      "193 -0.11825773051130721 4.630402126223934e-28\n",
      "194 -0.15155567892931482 3.4687889151068387e-45\n",
      "195 -0.18289283212228974 2.572294346104411e-65\n",
      "196 -0.21090273168920853 1.0400492401726293e-86\n",
      "197 -0.2289825526081028 2.84267649634928e-102\n",
      "198 -0.23980996946773164 2.896105124477927e-112\n",
      "199 -0.2409601670718878 2.4090765181121258e-113\n",
      "200 -0.23573648644951012 2.0445241031419732e-108\n",
      "201 -0.2268530089600201 2.553925509047692e-100\n",
      "202 -0.21363469540695607 6.52230726897519e-89\n",
      "203 -0.20138084597907271 5.284176244458419e-79\n",
      "204 -0.18345616629648132 1.1996702340437957e-65\n",
      "205 -0.16557531938386721 1.2217300288211044e-53\n",
      "206 -0.144485993440984 3.938426234183638e-41\n",
      "207 -0.11876724190756961 3.0165356425240654e-28\n",
      "208 -0.09062113655980539 4.602659521017739e-17\n",
      "209 -0.06448828613628309 2.391843875720481e-09\n",
      "210 -0.03987254397261425 0.00022620986157249613\n",
      "211 -0.024851665927625197 0.021571817822247735\n",
      "212 -0.015196008934555015 0.1600722388283461\n",
      "213 -0.011878650619116665 0.2721786371106796\n",
      "214 -0.0247270242922117 0.02226043519932237\n",
      "215 -0.04834378789326042 7.792031785296223e-06\n",
      "216 -0.0793777657112184 2.0163520140054279e-13\n",
      "217 -0.11430540154523003 3.0355795730403126e-26\n",
      "218 -0.14784654989013754 6.013721706160192e-43\n",
      "219 -0.17990197826824983 4.739760413852507e-63\n",
      "220 -0.20731792765855162 1.4753483770640878e-83\n",
      "221 -0.22460404768515932 4.2140172336832043e-98\n",
      "222 -0.23485359712020953 2.5186471757275163e-107\n",
      "223 -0.23797308321822377 3.2532382887120966e-110\n",
      "224 -0.23139736862684002 3.892012098401038e-104\n",
      "225 -0.22171063047536255 1.5616564851068117e-95\n",
      "226 -0.20789176288945044 5.804703182556129e-84\n",
      "227 -0.195216970344738 4.642094739991753e-74\n",
      "228 -0.17808728129504803 9.722825344143155e-62\n",
      "229 -0.16111874010094768 1.0341921529378054e-50\n",
      "230 -0.13945402707121168 2.6387164619216314e-38\n",
      "231 -0.11496564900448543 1.7222407180831187e-26\n",
      "232 -0.08773273075132695 4.804726042432437e-16\n",
      "233 -0.060723027864335324 2.004324625434464e-08\n",
      "234 -0.03622485111789606 0.0008214094819853632\n",
      "235 -0.019966683972446286 0.06526248152735853\n",
      "236 -0.009836930724738988 0.3638315008026536\n",
      "237 -0.006854155600047033 0.5269355012311777\n",
      "238 -0.018235630438355077 0.09231521326615956\n",
      "239 -0.04136648693659567 0.00013367663234749153\n",
      "240 -0.07320363391207127 1.3325124780359408e-11\n",
      "241 -0.10888484479784961 6.88366412308963e-24\n",
      "242 -0.1435908486314385 1.7814973831594444e-40\n",
      "243 -0.1750157261529704 1.4810259620048143e-59\n",
      "244 -0.20309148628116896 5.691171067464534e-80\n",
      "245 -0.22151458136762558 3.8221418744811857e-95\n",
      "246 -0.23237213512836075 9.30570491398416e-105\n",
      "247 -0.23574649972066208 7.692275858061575e-108\n",
      "248 -0.2296829158836704 2.6520376300925036e-102\n",
      "249 -0.21888888013788413 7.529707925099621e-93\n",
      "250 -0.20539377567069872 9.823235007467157e-82\n",
      "251 -0.19029643506517857 3.3130483252854515e-70\n",
      "252 -0.16932732509519055 9.425860497979227e-56\n",
      "253 -0.15131204215188274 9.539764918125212e-45\n",
      "254 -0.12931947425350615 4.7792057145300166e-33\n",
      "255 -0.10503508650041443 2.678829931226047e-22\n",
      "256 -0.0787639104898177 3.4999003392738303e-13\n",
      "257 -0.05366982918935284 7.351949477802593e-07\n",
      "258 -0.03051673661521879 0.004891755495430751\n",
      "259 -0.015143510484796 0.16267850231477324\n",
      "260 -0.004927023471049997 0.6496956280530651\n",
      "261 -0.0023353275833465545 0.8295626445995498\n",
      "262 -0.015079912381449973 0.16452578378647356\n",
      "263 -0.03872697443644372 0.0003561172819501078\n",
      "264 -0.06982813585909996 1.169498651665029e-10\n",
      "265 -0.10375548395233986 9.029211129373864e-22\n",
      "266 -0.13659833517408246 1.1657682000642511e-36\n",
      "267 -0.1686696705566505 3.1119391412137064e-55\n",
      "268 -0.19466704003043406 2.6655870965222783e-73\n",
      "269 -0.20990591059501829 3.558378514638072e-85\n",
      "270 -0.21800633725773258 7.067094911648849e-92\n",
      "271 -0.2217289213159068 4.813714207676721e-95\n",
      "272 -0.2175786557133796 1.704760701571793e-91\n",
      "273 -0.207176264376069 6.1543311157596796e-83\n",
      "274 -0.19202653950467852 2.7309383359572504e-71\n",
      "275 -0.17885496478003668 6.232888373154999e-62\n",
      "276 -0.15953165587540444 1.780452154540639e-49\n",
      "277 -0.1425837201215853 9.013857604834466e-40\n",
      "278 -0.12207085256586779 1.591958834240195e-29\n",
      "279 -0.09654137983538753 5.092686517229655e-19\n",
      "280 -0.07099086952397787 5.9645069283646e-11\n",
      "281 -0.04619174741437645 2.0900342979762514e-05\n",
      "282 -0.0241865385359099 0.02594737779924347\n",
      "283 -0.010152634416178977 0.3499709522803839\n",
      "284 -0.0026055957115373334 0.8104467738769437\n",
      "285 -0.0011195065217851881 0.9179261960542073\n",
      "286 -0.01245310909851733 0.2516967021858534\n",
      "287 -0.03411495353862153 0.0016854759113945187\n",
      "288 -0.06414686227126332 3.4311648622032527e-09\n",
      "289 -0.09736094623012215 2.6848735109885064e-19\n",
      "290 -0.13017406886760213 2.480405656068718e-33\n",
      "291 -0.16238038080298384 3.9478720490297165e-51\n",
      "292 -0.18793824125983855 3.594131212967021e-68\n",
      "293 -0.20201131943365752 1.1108973044141167e-78\n",
      "294 -0.21000400209877704 5.213298366098852e-85\n",
      "295 -0.2126751422273877 3.5449950991500593e-87\n",
      "296 -0.2103256482556033 2.9935444910616276e-85\n",
      "297 -0.20089684530743573 8.795259178929672e-78\n",
      "298 -0.188815562778532 9.35481755845887e-69\n",
      "299 -0.17644149852552982 3.9538017852540474e-60\n",
      "300 -0.15898021857699443 5.223501516974262e-49\n",
      "301 -0.14307646717352648 6.269129134429409e-40\n",
      "302 -0.12253360421786434 1.1699451936412805e-29\n",
      "303 -0.09862318555853888 9.866856176848176e-20\n",
      "304 -0.07535407735094304 3.9729801404472885e-12\n",
      "305 -0.052195206060592594 1.5711314926803282e-06\n",
      "306 -0.027918318123705477 0.010255649879293923\n",
      "307 -0.011129180194047914 0.3062608548006969\n",
      "308 -0.0012052901976976659 0.9117815148169839\n",
      "309 0.0023440033423754373 0.8294156673230629\n",
      "310 -0.010575448620519188 0.33104077385335345\n",
      "311 -0.03410699844963633 0.0017155528518365119\n",
      "312 -0.06520563864200275 1.9885018271240973e-09\n",
      "313 -0.09838503443332772 1.2692907886726104e-19\n",
      "314 -0.13181460935289435 4.7532342932961505e-34\n",
      "315 -0.16554060360147027 5.963621590570825e-53\n",
      "316 -0.19303183056019863 1.0986585862650827e-71\n",
      "317 -0.20993645976949282 9.942410899650547e-85\n",
      "318 -0.2190913887546201 2.7735936692380607e-92\n",
      "319 -0.2232412772941045 8.106197616955442e-96\n",
      "320 -0.21916830542745136 2.5085626627753738e-92\n",
      "321 -0.20537398453965525 4.722628645105753e-81\n",
      "322 -0.18909954626362366 9.043024903527137e-69\n",
      "323 -0.17536467550646934 3.027811741449313e-59\n",
      "324 -0.15588106308593627 4.931577040139752e-47\n",
      "325 -0.1383152098173721 2.6491305389697477e-37\n",
      "326 -0.1176444874111902 2.2209754378078208e-27\n",
      "327 -0.09259619415054972 1.5916251890854057e-17\n",
      "328 -0.06853393602470274 2.982870328191096e-10\n",
      "329 -0.047782376928928325 1.1373851484809205e-05\n",
      "330 -0.029912296220207146 0.0060215479364306565\n",
      "331 -0.01672730299434079 0.12463493821937978\n",
      "332 -0.007952228516493388 0.4654202889664558\n",
      "333 -0.005776711893281239 0.5959591572947444\n",
      "334 -0.01727114648189715 0.1129078140111198\n",
      "335 -0.0396645436482335 0.0002709341698854335\n",
      "Mean Sea Level Pressure [MSL]\n",
      "0 0.621238758128162 0.0\n",
      "1 0.6176040983713653 0.0\n",
      "2 0.6182312698580565 0.0\n",
      "3 0.6222889583538784 0.0\n",
      "4 0.6287599473096597 0.0\n",
      "5 0.6358099154369502 0.0\n",
      "6 0.6421551853614744 0.0\n",
      "7 0.6467260469354412 0.0\n",
      "8 0.6491136403200745 0.0\n",
      "9 0.6497963599018173 0.0\n",
      "10 0.649127750557169 0.0\n",
      "11 0.6487424722464399 0.0\n",
      "12 0.6488709350937405 0.0\n",
      "13 0.6502446932128069 0.0\n",
      "14 0.6533470897673401 0.0\n",
      "15 0.6577679922301514 0.0\n",
      "16 0.6620106879198426 0.0\n",
      "17 0.6651919009415423 0.0\n",
      "18 0.665891317424389 0.0\n",
      "19 0.6633514618695148 0.0\n",
      "20 0.6573030777177655 0.0\n",
      "21 0.6490220611743591 0.0\n",
      "22 0.6400705635175875 0.0\n",
      "23 0.6320400094053897 0.0\n",
      "24 0.6259378875172339 0.0\n",
      "25 0.6226302017946763 0.0\n",
      "26 0.6235042360182887 0.0\n",
      "27 0.6276762448712301 0.0\n",
      "28 0.6337963666069317 0.0\n",
      "29 0.6404810429175642 0.0\n",
      "30 0.6467755879640419 0.0\n",
      "31 0.6513130261103961 0.0\n",
      "32 0.6539282483258531 0.0\n",
      "33 0.6546250132657996 0.0\n",
      "34 0.6541921798618873 0.0\n",
      "35 0.6534220870201948 0.0\n",
      "36 0.6531581290708856 0.0\n",
      "37 0.6545048111442795 0.0\n",
      "38 0.6575283726145725 0.0\n",
      "39 0.6618918791159574 0.0\n",
      "40 0.666502742561821 0.0\n",
      "41 0.6701553677792592 0.0\n",
      "42 0.6712161236801453 0.0\n",
      "43 0.66890345927926 0.0\n",
      "44 0.6635023044350151 0.0\n",
      "45 0.6558016587327578 0.0\n",
      "46 0.6471308167378307 0.0\n",
      "47 0.6391581550058105 0.0\n",
      "48 0.6333720546913781 0.0\n",
      "49 0.6306520938637508 0.0\n",
      "50 0.6315502761978481 0.0\n",
      "51 0.6360320007209642 0.0\n",
      "52 0.6421576034914743 0.0\n",
      "53 0.648994836781273 0.0\n",
      "54 0.6549299156562525 0.0\n",
      "55 0.659100535404356 0.0\n",
      "56 0.6615202547878064 0.0\n",
      "57 0.6621748760660464 0.0\n",
      "58 0.6616413756269279 0.0\n",
      "59 0.6608956861872249 0.0\n",
      "60 0.6610256699247792 0.0\n",
      "61 0.6622941773453572 0.0\n",
      "62 0.6650998224497212 0.0\n",
      "63 0.6692305148071869 0.0\n",
      "64 0.6732485624502702 0.0\n",
      "65 0.6764455977417128 0.0\n",
      "66 0.6776498700742899 0.0\n",
      "67 0.6748153865048467 0.0\n",
      "68 0.6684004564067522 0.0\n",
      "69 0.659826959817683 0.0\n",
      "70 0.6506312342462632 0.0\n",
      "71 0.6423407640282586 0.0\n",
      "72 0.6358277705173208 0.0\n",
      "73 0.6325858477783952 0.0\n",
      "74 0.6328947102379133 0.0\n",
      "75 0.6365894753988623 0.0\n",
      "76 0.6420825477064287 0.0\n",
      "77 0.648606552756771 0.0\n",
      "78 0.6542301918238491 0.0\n",
      "79 0.6581178891438648 0.0\n",
      "80 0.6601721522371673 0.0\n",
      "81 0.6601854081532628 0.0\n",
      "82 0.6588847108055097 0.0\n",
      "83 0.6574374133894991 0.0\n",
      "84 0.6569505166610925 0.0\n",
      "85 0.6575479515448504 0.0\n",
      "86 0.6599812116620598 0.0\n",
      "87 0.6635025851965698 0.0\n",
      "88 0.6671296818500467 0.0\n",
      "89 0.6699595269930968 0.0\n",
      "90 0.670413756885579 0.0\n",
      "91 0.6675742098381052 0.0\n",
      "92 0.6611644830666135 0.0\n",
      "93 0.652339078867622 0.0\n",
      "94 0.6431498312416082 0.0\n",
      "95 0.6347573876649883 0.0\n",
      "96 0.6283292079100838 0.0\n",
      "97 0.6249751289764766 0.0\n",
      "98 0.6252025999373372 0.0\n",
      "99 0.6290586719827724 0.0\n",
      "100 0.6347094235504678 0.0\n",
      "101 0.6411893516259569 0.0\n",
      "102 0.6466839947233873 0.0\n",
      "103 0.650759680997916 0.0\n",
      "104 0.6529415549107519 0.0\n",
      "105 0.6532833843014383 0.0\n",
      "106 0.6523606980399677 0.0\n",
      "107 0.6516758206881639 0.0\n",
      "108 0.6514933100043582 0.0\n",
      "109 0.6527155008296268 0.0\n",
      "110 0.6550998348418378 0.0\n",
      "111 0.6589693764598061 0.0\n",
      "112 0.6631729517079576 0.0\n",
      "113 0.6660149020082224 0.0\n",
      "114 0.6668536886904605 0.0\n",
      "115 0.6639031124617469 0.0\n",
      "116 0.6578058909668807 0.0\n",
      "117 0.6495219405266743 0.0\n",
      "118 0.6403405104820734 0.0\n",
      "119 0.631908655318629 0.0\n",
      "120 0.6253882852636945 0.0\n",
      "121 0.6217928195498743 0.0\n",
      "122 0.6223996595169392 0.0\n",
      "123 0.6260940510863258 0.0\n",
      "124 0.6318292904351054 0.0\n",
      "125 0.6381030919572529 0.0\n",
      "126 0.6440813192183183 0.0\n",
      "127 0.6485798888958492 0.0\n",
      "128 0.6511354629869112 0.0\n",
      "129 0.65187728495515 0.0\n",
      "130 0.6512221810100274 0.0\n",
      "131 0.6504801759759566 0.0\n",
      "132 0.6501317982117779 0.0\n",
      "133 0.6512215169951179 0.0\n",
      "134 0.6536832508213941 0.0\n",
      "135 0.6573402209151132 0.0\n",
      "136 0.661178331364978 0.0\n",
      "137 0.6640805574616464 0.0\n",
      "138 0.6646870833609757 0.0\n",
      "139 0.6619518021457866 0.0\n",
      "140 0.6563020037157737 0.0\n",
      "141 0.6481511712719374 0.0\n",
      "142 0.6387150646814923 0.0\n",
      "143 0.6300044373704122 0.0\n",
      "144 0.6238118213764579 0.0\n",
      "145 0.6204485751974392 0.0\n",
      "146 0.6215619786691452 0.0\n",
      "147 0.6253589322901187 0.0\n",
      "148 0.6311106024838773 0.0\n",
      "149 0.6374353824567883 0.0\n",
      "150 0.6435908268196278 0.0\n",
      "151 0.648013062137155 0.0\n",
      "152 0.6508131501065543 0.0\n",
      "153 0.6514667751697891 0.0\n",
      "154 0.6508682730192642 0.0\n",
      "155 0.6501986192009004 0.0\n",
      "156 0.6507232331690905 0.0\n",
      "157 0.6520930225750785 0.0\n",
      "158 0.6545257690676651 0.0\n",
      "159 0.6588140665830391 0.0\n",
      "160 0.66258444964304 0.0\n",
      "161 0.6660325008588006 0.0\n",
      "162 0.666909675035557 0.0\n",
      "163 0.6646816100834307 0.0\n",
      "164 0.6588551624837207 0.0\n",
      "165 0.6511061181835471 0.0\n",
      "166 0.6421395556172197 0.0\n",
      "167 0.633964274203933 0.0\n",
      "168 0.6276216351196378 0.0\n",
      "169 0.6242176321803565 0.0\n",
      "170 0.6248947379015083 0.0\n",
      "171 0.6289257649928 0.0\n",
      "172 0.6352500011656601 0.0\n",
      "173 0.6419187840714842 0.0\n",
      "174 0.6481290040627803 0.0\n",
      "175 0.6523912982917811 0.0\n",
      "176 0.6549546633153582 0.0\n",
      "177 0.6556965240535604 0.0\n",
      "178 0.6552749053824556 0.0\n",
      "179 0.6541721485566878 0.0\n",
      "180 0.6543289844868707 0.0\n",
      "181 0.6552650738163374 0.0\n",
      "182 0.6582837435491213 0.0\n",
      "183 0.6619095413633597 0.0\n",
      "184 0.665690537157159 0.0\n",
      "185 0.6687573101121489 0.0\n",
      "186 0.6692400261127209 0.0\n",
      "187 0.6663899964642066 0.0\n",
      "188 0.6606702413506843 0.0\n",
      "189 0.6527488038692861 0.0\n",
      "190 0.6437637853031768 0.0\n",
      "191 0.635357299991504 0.0\n",
      "192 0.6292734162002016 0.0\n",
      "193 0.625659090415166 0.0\n",
      "194 0.6256857308745543 0.0\n",
      "195 0.6293084849605914 0.0\n",
      "196 0.6344980686702466 0.0\n",
      "197 0.6400978401475473 0.0\n",
      "198 0.6449794605122277 0.0\n",
      "199 0.6487474740904742 0.0\n",
      "200 0.6507368395969848 0.0\n",
      "201 0.6511101048959631 0.0\n",
      "202 0.6504009166359598 0.0\n",
      "203 0.6492977873422232 0.0\n",
      "204 0.6489474254892971 0.0\n",
      "205 0.6498562497810529 0.0\n",
      "206 0.6518068766712525 0.0\n",
      "207 0.655578563335559 0.0\n",
      "208 0.6592573911992153 0.0\n",
      "209 0.6618959275010728 0.0\n",
      "210 0.66219953480446 0.0\n",
      "211 0.6595134848157698 0.0\n",
      "212 0.6538711969652367 0.0\n",
      "213 0.6458344964217155 0.0\n",
      "214 0.6373257549993034 0.0\n",
      "215 0.6291194437991936 0.0\n",
      "216 0.6229518150614648 0.0\n",
      "217 0.6190829673690239 0.0\n",
      "218 0.6192499098868955 0.0\n",
      "219 0.6228723599106086 0.0\n",
      "220 0.6281421613286146 0.0\n",
      "221 0.6342779872149171 0.0\n",
      "222 0.6398647021031276 0.0\n",
      "223 0.6437269156146495 0.0\n",
      "224 0.6461368821112784 0.0\n",
      "225 0.646717292788251 0.0\n",
      "226 0.646487105636021 0.0\n",
      "227 0.6459432600954353 0.0\n",
      "228 0.6462956445375778 0.0\n",
      "229 0.6475176969284233 0.0\n",
      "230 0.6498330300215935 0.0\n",
      "231 0.6536501191983992 0.0\n",
      "232 0.6575432139849617 0.0\n",
      "233 0.660400936050424 0.0\n",
      "234 0.6606053550983694 0.0\n",
      "235 0.6576903875925487 0.0\n",
      "236 0.6517761267227812 0.0\n",
      "237 0.6440597862558227 0.0\n",
      "238 0.6352387053626535 0.0\n",
      "239 0.627107140492535 0.0\n",
      "240 0.620956892504324 0.0\n",
      "241 0.6176010973234094 0.0\n",
      "242 0.61763406556481 0.0\n",
      "243 0.6206863583295221 0.0\n",
      "244 0.6261966581101821 0.0\n",
      "245 0.6316401587741283 0.0\n",
      "246 0.6370042384641917 0.0\n",
      "247 0.6406522959965584 0.0\n",
      "248 0.6424403250081592 0.0\n",
      "249 0.6428521756603547 0.0\n",
      "250 0.642374355346219 0.0\n",
      "251 0.6415965504676068 0.0\n",
      "252 0.6414958729181963 0.0\n",
      "253 0.6425058733054727 0.0\n",
      "254 0.6449641062270018 0.0\n",
      "255 0.648600902219916 0.0\n",
      "256 0.6523592227150408 0.0\n",
      "257 0.6549326589722686 0.0\n",
      "258 0.6550499417785349 0.0\n",
      "259 0.651923650836705 0.0\n",
      "260 0.6455507536065266 0.0\n",
      "261 0.6376368023318748 0.0\n",
      "262 0.6289056536309527 0.0\n",
      "263 0.6204953880112472 0.0\n",
      "264 0.613762792339706 0.0\n",
      "265 0.6098070516991976 0.0\n",
      "266 0.609627677727774 0.0\n",
      "267 0.6129389481982561 0.0\n",
      "268 0.6183512930559592 0.0\n",
      "269 0.6243128746960009 0.0\n",
      "270 0.6295236164303013 0.0\n",
      "271 0.6330190893021784 0.0\n",
      "272 0.6351184139930648 0.0\n",
      "273 0.6353722581305753 0.0\n",
      "274 0.6347903563589341 0.0\n",
      "275 0.6341928117129815 0.0\n",
      "276 0.6343143596147999 0.0\n",
      "277 0.6353739524987851 0.0\n",
      "278 0.6378116305974516 0.0\n",
      "279 0.640929867935937 0.0\n",
      "280 0.6444437574352668 0.0\n",
      "281 0.6468969749013991 0.0\n",
      "282 0.6470706904536849 0.0\n",
      "283 0.6442561296316134 0.0\n",
      "284 0.6383740589106529 0.0\n",
      "285 0.630610143228941 0.0\n",
      "286 0.6220944017885933 0.0\n",
      "287 0.6144372701173866 0.0\n",
      "288 0.6085926898333859 0.0\n",
      "289 0.6054201977847933 0.0\n",
      "290 0.6056076738261966 0.0\n",
      "291 0.608925221593055 0.0\n",
      "292 0.6140791429795163 0.0\n",
      "293 0.6200030613716602 0.0\n",
      "294 0.6251718203156639 0.0\n",
      "295 0.6288287496919701 0.0\n",
      "296 0.6309236320349277 0.0\n",
      "297 0.6316611514388566 0.0\n",
      "298 0.6313880154065766 0.0\n",
      "299 0.6308743743252396 0.0\n",
      "300 0.6311546377418416 0.0\n",
      "301 0.6324132525979229 0.0\n",
      "302 0.6351455794814591 0.0\n",
      "303 0.6387117837327334 0.0\n",
      "304 0.6420771111762649 0.0\n",
      "305 0.6446081252722908 0.0\n",
      "306 0.6452624842358865 0.0\n",
      "307 0.6425335750399227 0.0\n",
      "308 0.6369052914446799 0.0\n",
      "309 0.6291549100695528 0.0\n",
      "310 0.6206483278102382 0.0\n",
      "311 0.6130102795597995 0.0\n",
      "312 0.6070138105436702 0.0\n",
      "313 0.60392382494314 0.0\n",
      "314 0.6043543859888383 0.0\n",
      "315 0.6080300131640217 0.0\n",
      "316 0.6135927186694633 0.0\n",
      "317 0.6195420641708249 0.0\n",
      "318 0.6249809954077686 0.0\n",
      "319 0.6287748554044983 0.0\n",
      "320 0.6309563466825201 0.0\n",
      "321 0.6318501022000766 0.0\n",
      "322 0.6315823158145708 0.0\n",
      "323 0.631227520443128 0.0\n",
      "324 0.6313896613728757 0.0\n",
      "325 0.6324449787070094 0.0\n",
      "326 0.6350455283729264 0.0\n",
      "327 0.6382412997837289 0.0\n",
      "328 0.6416056922233041 0.0\n",
      "329 0.6437023988275319 0.0\n",
      "330 0.6439816627118073 0.0\n",
      "331 0.6412089675194788 0.0\n",
      "332 0.6357113030865768 0.0\n",
      "333 0.6282661544624836 0.0\n",
      "334 0.619755759567519 0.0\n",
      "335 0.6127247573238884 0.0\n",
      "Wind Speed [10 m]\n",
      "0 -0.2951959175968612 1.1713266584745458e-175\n",
      "1 -0.29425867454534027 1.7392129630543933e-174\n",
      "2 -0.2938959146184258 5.065830213575796e-174\n",
      "3 -0.2944848179603321 1.0052441725586149e-174\n",
      "4 -0.2960061265390598 1.4095254866089064e-176\n",
      "5 -0.300568970582749 3.042392116058076e-182\n",
      "6 -0.3032501022806621 1.3021768942484488e-185\n",
      "7 -0.3069599116796805 2.4382559767077783e-190\n",
      "8 -0.3088006901781488 1.063713622452811e-192\n",
      "9 -0.31289247084666055 4.9332212009087526e-198\n",
      "10 -0.3174223829669295 4.866814372702161e-204\n",
      "11 -0.31756471928452257 3.305386857548315e-204\n",
      "12 -0.3151437000660843 6.0024024814561206e-201\n",
      "13 -0.31291656450110106 5.6357079006132985e-198\n",
      "14 -0.30655223292347566 1.1547559589511666e-189\n",
      "15 -0.3012754557265894 6.315939887861375e-183\n",
      "16 -0.2948215285158702 7.009598105102103e-175\n",
      "17 -0.29018864971676706 3.147969708574605e-169\n",
      "18 -0.2853927454181576 1.7236128299322434e-163\n",
      "19 -0.28025114263689954 1.82655579976821e-157\n",
      "20 -0.27627351311353854 6.892892214564737e-153\n",
      "21 -0.2698078465981327 1.2714030489383904e-145\n",
      "22 -0.2645867543244206 6.74557345356589e-140\n",
      "23 -0.2568854974024676 1.0735527841692484e-131\n",
      "24 -0.25245206477657667 4.294480670956376e-127\n",
      "25 -0.25000961265313937 1.3661636873315013e-124\n",
      "26 -0.24890237357126468 1.855327278069325e-123\n",
      "27 -0.24936636588849617 6.519277233209905e-124\n",
      "28 -0.24900833410058534 1.5468133351675667e-123\n",
      "29 -0.2534134614842672 5.224459163153761e-128\n",
      "30 -0.25934369086927883 3.58014013817403e-134\n",
      "31 -0.26511884712324085 2.4876850404502695e-140\n",
      "32 -0.2691749773382971 9.617498865558217e-145\n",
      "33 -0.27079765987751997 1.6077950211250695e-146\n",
      "34 -0.2732477432608503 3.1042962507524468e-149\n",
      "35 -0.27655954288776763 5.924349888900145e-153\n",
      "36 -0.27480255985281876 6.002830073412486e-151\n",
      "37 -0.2715638048474596 2.6417694643207344e-147\n",
      "38 -0.2670217417283435 2.7553344063196943e-142\n",
      "39 -0.26157822710736295 2.1001369877516727e-136\n",
      "40 -0.25319318801574364 1.2675594189823964e-127\n",
      "41 -0.24548612042192436 7.72931946603965e-120\n",
      "42 -0.23836594099496625 6.922486937232584e-113\n",
      "43 -0.22897877672444777 4.490523330984932e-104\n",
      "44 -0.22393653536425823 1.6925643796348904e-99\n",
      "45 -0.22166879531742573 1.802658666487295e-97\n",
      "46 -0.22019852412326973 3.6463094028185456e-96\n",
      "47 -0.21650137555976756 6.122383079351883e-93\n",
      "48 -0.21276285598396572 9.69960964778312e-90\n",
      "49 -0.2119610732504345 4.708522485257545e-89\n",
      "50 -0.21327111232517493 3.7755481000898884e-90\n",
      "51 -0.21505061549080853 1.1834677986177816e-91\n",
      "52 -0.21951682325149696 1.673258576500166e-95\n",
      "53 -0.22684540867976538 5.157358495890565e-102\n",
      "54 -0.23305448880650775 1.0321108279346164e-107\n",
      "55 -0.23619171458860327 1.1910644457853388e-110\n",
      "56 -0.24090843286591598 3.723665842459388e-115\n",
      "57 -0.24729220669753482 2.0467757348599285e-121\n",
      "58 -0.2507712883307194 6.740949166923213e-125\n",
      "59 -0.25341565617642836 1.4090280964605641e-127\n",
      "60 -0.2521274905498281 3.016561034218654e-126\n",
      "61 -0.24672631819249982 8.496373572687221e-121\n",
      "62 -0.23980590706528135 5.166203392696312e-114\n",
      "63 -0.23440311111901263 7.269604035976716e-109\n",
      "64 -0.22919517866034078 5.017038787125996e-104\n",
      "65 -0.22514502558688385 2.412694893642141e-100\n",
      "66 -0.22041611645208123 3.868918600955354e-96\n",
      "67 -0.216249769594086 1.6292622056165246e-92\n",
      "68 -0.21503090370902966 1.84155763247599e-91\n",
      "69 -0.21279989793799386 1.46991431772893e-89\n",
      "70 -0.21066650087430316 9.249200279701019e-88\n",
      "71 -0.20744996754750816 4.3203834771851546e-85\n",
      "72 -0.20525991933601073 2.6934337833496464e-83\n",
      "73 -0.2034640999398427 7.727952647833063e-82\n",
      "74 -0.2029809371855499 1.9255858500048583e-81\n",
      "75 -0.20635265172870323 3.7201376993060165e-84\n",
      "76 -0.21102953203517896 5.279738483492049e-88\n",
      "77 -0.2179559099174738 7.035324834244203e-94\n",
      "78 -0.22532404808999607 2.3399498292289213e-100\n",
      "79 -0.23049311297035163 4.86376806986622e-105\n",
      "80 -0.2340925644144533 2.2972073393476366e-108\n",
      "81 -0.23506053765536733 2.9254420808890436e-109\n",
      "82 -0.23689749720997338 5.565848349816102e-111\n",
      "83 -0.23896645730214272 6.143327498063011e-113\n",
      "84 -0.23833814160766176 2.519528287427694e-112\n",
      "85 -0.2361253266176615 3.260562044577292e-110\n",
      "86 -0.23249522688496282 8.355907617643963e-107\n",
      "87 -0.22822714017852852 7.114018057994831e-103\n",
      "88 -0.22308931275855376 2.974136341114219e-98\n",
      "89 -0.2189899099392182 1.2001536681396299e-94\n",
      "90 -0.21451091746954665 8.583768315640263e-91\n",
      "91 -0.20786855082538963 3.049768571353459e-85\n",
      "92 -0.207847000022908 3.247494743473513e-85\n",
      "93 -0.20543810239471771 3.0408027945635778e-83\n",
      "94 -0.2027873817305483 4.1908428400588356e-81\n",
      "95 -0.1988572969272695 5.421026160474616e-78\n",
      "96 -0.19643806791597426 4.168994864080147e-76\n",
      "97 -0.19808721021332815 2.248036569597913e-77\n",
      "98 -0.20273635122529193 5.00688204427247e-81\n",
      "99 -0.2079842000530162 2.9271427845561356e-85\n",
      "100 -0.21172916473328426 2.3829218955009426e-88\n",
      "101 -0.21841191076069677 5.103518747554225e-94\n",
      "102 -0.22354950279302946 1.6649452664283192e-98\n",
      "103 -0.2262633506485077 6.469397405193131e-101\n",
      "104 -0.2294810033923735 8.120060067140274e-104\n",
      "105 -0.2326992565075015 9.179481767310446e-107\n",
      "106 -0.23760571658251967 2.381339011991381e-111\n",
      "107 -0.24005558733581978 1.1317868836143391e-113\n",
      "108 -0.24194585938254634 1.7635549285453652e-115\n",
      "109 -0.2398535259420886 1.8758795079405097e-113\n",
      "110 -0.2384625388067044 4.1098828743933056e-112\n",
      "111 -0.23404098277696395 6.157657657321506e-108\n",
      "112 -0.22779064378042316 3.4527575519919935e-102\n",
      "113 -0.2235130633149086 2.378981583717965e-98\n",
      "114 -0.22060880576186698 8.706559651378757e-96\n",
      "115 -0.21593388583740847 9.589150601279384e-92\n",
      "116 -0.21470345136049124 1.0897676798261718e-90\n",
      "117 -0.21309231187433553 2.547627567786292e-89\n",
      "118 -0.2119201257759963 2.4976340300216098e-88\n",
      "119 -0.20878993938815127 9.971575140253937e-86\n",
      "120 -0.2069779110317985 3.0845836154180207e-84\n",
      "121 -0.2071733535209888 2.186311934262072e-84\n",
      "122 -0.20711064871968607 2.5135834278839376e-84\n",
      "123 -0.21117080671056854 1.1786239690504878e-87\n",
      "124 -0.21621629431270947 6.835030989734804e-92\n",
      "125 -0.22120683649701506 3.446672641137991e-96\n",
      "126 -0.22690926076583606 3.1211959352709016e-101\n",
      "127 -0.23091279707369683 7.465413518951121e-105\n",
      "128 -0.23323725082811747 5.542705255031498e-107\n",
      "129 -0.23648420657330083 5.312132879781396e-110\n",
      "130 -0.23919208100054498 1.4959007227769117e-112\n",
      "131 -0.24145731824989308 1.044635957720786e-114\n",
      "132 -0.24174243680745433 5.720971437500622e-115\n",
      "133 -0.24211087185470734 2.6018213921846027e-115\n",
      "134 -0.24073048129159624 5.705602444581725e-114\n",
      "135 -0.2396266616482707 6.681698352361196e-113\n",
      "136 -0.23395478426221827 1.4993894997671876e-107\n",
      "137 -0.22784132806488494 6.058370387282655e-102\n",
      "138 -0.22014906241004809 3.981272564722844e-95\n",
      "139 -0.2148328999321025 1.459673849562047e-90\n",
      "140 -0.2126284281669707 1.063796906217061e-88\n",
      "141 -0.20906179549519419 9.759482450733962e-86\n",
      "142 -0.20656052405724962 1.0892980952574956e-83\n",
      "143 -0.2026439221981263 1.5279443443734672e-80\n",
      "144 -0.20220154001148974 3.495391944177532e-80\n",
      "145 -0.2028591881781821 1.0756012531968997e-80\n",
      "146 -0.2051081713240343 1.7608832891615968e-82\n",
      "147 -0.20805573522551435 7.417323107520889e-85\n",
      "148 -0.21229022339374473 2.451904488413183e-88\n",
      "149 -0.21733390432981006 1.3886006673013037e-92\n",
      "150 -0.2222731496800484 7.562619283765733e-97\n",
      "151 -0.2253072062009911 1.6291665516266881e-99\n",
      "152 -0.2284784642547274 2.409905742134837e-102\n",
      "153 -0.23013826369826004 7.748728059490203e-104\n",
      "154 -0.23347849944925128 6.874613755265255e-107\n",
      "155 -0.23601486227244972 3.0936224759545376e-109\n",
      "156 -0.234879170536268 3.652467370806824e-108\n",
      "157 -0.23368383155006653 4.8302131648918895e-107\n",
      "158 -0.23250340898063085 6.096526074338779e-106\n",
      "159 -0.22919544498114325 6.542321321265465e-103\n",
      "160 -0.2259169000545746 5.910917239989627e-100\n",
      "161 -0.22274633525837034 3.850083403483187e-97\n",
      "162 -0.21885161218131563 9.529782336717954e-94\n",
      "163 -0.21288685374142866 1.1041041995797376e-88\n",
      "164 -0.21019806570220254 1.909743698813419e-86\n",
      "165 -0.2065776382324461 1.744550612702862e-83\n",
      "166 -0.20312849981951744 1.024404674078232e-80\n",
      "167 -0.19974425036743054 4.763878058268731e-78\n",
      "168 -0.197661406164099 1.9897062241593317e-76\n",
      "169 -0.19769212556828314 1.9223328810856377e-76\n",
      "170 -0.1984831177524516 4.814208324374666e-77\n",
      "171 -0.2018158372356088 1.237876772301897e-79\n",
      "172 -0.20473778853305644 6.098838617938502e-82\n",
      "173 -0.20952372370236488 8.37241608490161e-86\n",
      "174 -0.21531109258176434 1.322194911351356e-90\n",
      "175 -0.2200338257203697 1.2579924918372083e-94\n",
      "176 -0.22508586253548343 4.9152326726150765e-99\n",
      "177 -0.22871097324630035 2.9123852265690085e-102\n",
      "178 -0.23219008691382598 2.061919793571018e-105\n",
      "179 -0.23457627591332403 1.341188621624126e-107\n",
      "180 -0.23474029002275906 9.722278039743613e-108\n",
      "181 -0.23164044513654306 7.133203312732555e-105\n",
      "182 -0.22722606264994238 7.1685951377628e-101\n",
      "183 -0.226085502780008 7.656152452956041e-100\n",
      "184 -0.22402916653736898 5.183229969695192e-98\n",
      "185 -0.22050111795370483 6.368049789026299e-95\n",
      "186 -0.21715249593966457 4.8596417229424296e-92\n",
      "187 -0.2142188698112027 1.4900218213429677e-89\n",
      "188 -0.21028716884358084 2.7794094336510683e-86\n",
      "189 -0.20400677797245023 3.35360061794026e-81\n",
      "190 -0.19878941941674166 4.180413830551978e-77\n",
      "191 -0.19326736903344047 6.770427934886847e-73\n",
      "192 -0.1889572932733224 1.0694351197434046e-69\n",
      "193 -0.18838658246680992 2.8424569581059e-69\n",
      "194 -0.19030798448456943 1.1317290650665628e-70\n",
      "195 -0.19127249728952947 2.2356332176222077e-71\n",
      "196 -0.19213435719260177 5.221253700149844e-72\n",
      "197 -0.1947427804214743 5.905151608021501e-74\n",
      "198 -0.19909263882708256 2.866221996440826e-77\n",
      "199 -0.20282838811468804 3.548536844670292e-80\n",
      "200 -0.20828371364623102 1.5704288964758726e-84\n",
      "201 -0.21128127605883262 5.688512742854523e-87\n",
      "202 -0.21415635752084397 2.3925039196788578e-89\n",
      "203 -0.21600443434979472 6.869353195598679e-91\n",
      "204 -0.21675654225305005 1.6275720382608752e-91\n",
      "205 -0.21676312938330844 1.6460270040609442e-91\n",
      "206 -0.21788212545542365 1.891087932738162e-92\n",
      "207 -0.21691611156190066 1.2817808165869313e-91\n",
      "208 -0.2154285945215269 2.3650159897528205e-90\n",
      "209 -0.21492788971385554 6.377094798414361e-90\n",
      "210 -0.21384082736030613 5.29600385652307e-89\n",
      "211 -0.2109336142237147 1.3812333705142127e-86\n",
      "212 -0.2088913656122852 6.588828007487972e-85\n",
      "213 -0.20601758271570295 1.4010687502832647e-82\n",
      "214 -0.2057062047721846 2.5405941195184358e-82\n",
      "215 -0.20238021766411332 1.118598718691159e-79\n",
      "216 -0.19944598873706304 2.203295468133102e-77\n",
      "217 -0.19798735817333962 2.9815546350822354e-76\n",
      "218 -0.19831540120173743 1.7041146323291708e-76\n",
      "219 -0.20015733290330828 6.592740117798663e-78\n",
      "220 -0.20259296997347698 8.456374242792438e-80\n",
      "221 -0.2086246453960075 1.3262531702466104e-84\n",
      "222 -0.21393538698882836 5.854036349252231e-89\n",
      "223 -0.21810903195065787 1.835417518425816e-92\n",
      "224 -0.2249618809787242 2.2071288116422324e-98\n",
      "225 -0.23095927274163675 9.988043172021984e-104\n",
      "226 -0.23479980458617933 3.1636307325053476e-107\n",
      "227 -0.23653397145824312 8.056277693083415e-109\n",
      "228 -0.23715471906449967 2.190374762250854e-109\n",
      "229 -0.23609887081011277 2.1645801611054055e-108\n",
      "230 -0.23445596982818268 7.351410498733931e-107\n",
      "231 -0.23243946677609073 5.323288008988759e-105\n",
      "232 -0.22910053921800788 5.729453153819511e-102\n",
      "233 -0.22749628980517017 1.5974447389631544e-100\n",
      "234 -0.22945108036816092 2.9301083183184557e-102\n",
      "235 -0.22752880341688386 1.5762260225396288e-100\n",
      "236 -0.22649840517946268 1.330209410478865e-99\n",
      "237 -0.2244705512088735 8.356425740746675e-98\n",
      "238 -0.22318214755812166 1.1457611491356772e-96\n",
      "239 -0.2198943658772466 8.137858774172706e-94\n",
      "240 -0.21732402795986847 1.2863339400719416e-91\n",
      "241 -0.21875776337032204 7.998439297859173e-93\n",
      "242 -0.2214674920908427 3.8914420542833565e-95\n",
      "243 -0.22408613135850955 2.1183268410541608e-97\n",
      "244 -0.22480510892152814 5.098984393205133e-98\n",
      "245 -0.22805071322459164 7.058600222043174e-101\n",
      "246 -0.23275530816761206 4.166570821826227e-105\n",
      "247 -0.23791646541389522 7.406860767175864e-110\n",
      "248 -0.2454066612228114 5.808283375414297e-117\n",
      "249 -0.25393439624026043 2.3526366520879726e-125\n",
      "250 -0.2593831293627826 7.000494259998494e-131\n",
      "251 -0.2624790804183428 4.492845688621776e-134\n",
      "252 -0.2620531274375917 1.2939366461726165e-133\n",
      "253 -0.2637485571704925 2.2697155880572654e-135\n",
      "254 -0.26270307618005634 2.9201727628856677e-134\n",
      "255 -0.26137867374326595 7.231327768777948e-133\n",
      "256 -0.25643777886662 8.824820753122955e-128\n",
      "257 -0.2505720076656309 6.879067103829027e-122\n",
      "258 -0.24729669110098074 1.1641244690493434e-118\n",
      "259 -0.24183835184911823 2.139071922301366e-113\n",
      "260 -0.23893585909834536 1.2065070596646381e-110\n",
      "261 -0.23824056503492763 5.555135923829182e-110\n",
      "262 -0.23749711287330988 2.8210350410942886e-109\n",
      "263 -0.23530323846014553 3.116911015672868e-107\n",
      "264 -0.23259553027797714 9.621124192893514e-105\n",
      "265 -0.23148767296916253 9.989462601824135e-104\n",
      "266 -0.23374700518310482 9.081602501384192e-106\n",
      "267 -0.23670327792215895 1.7800633519781837e-108\n",
      "268 -0.24025015206126527 8.906357534371847e-112\n",
      "269 -0.24671755375972687 6.021260372601683e-118\n",
      "270 -0.2508131079316561 6.063799653119149e-122\n",
      "271 -0.2518756573291375 5.550130128275852e-123\n",
      "272 -0.2522984409333898 2.1796907966956128e-123\n",
      "273 -0.2555795968356796 1.161654561208798e-126\n",
      "274 -0.25767259377314344 9.071475933255742e-129\n",
      "275 -0.2589804483772491 4.33247813835814e-130\n",
      "276 -0.2586935399157737 8.82105894385659e-130\n",
      "277 -0.2603012339674814 2.043312049120279e-131\n",
      "278 -0.2567670330589146 8.6613675740298e-128\n",
      "279 -0.25690640749349636 6.472343994494494e-128\n",
      "280 -0.2550781957343114 4.7101079527193035e-126\n",
      "281 -0.2506175518813082 1.3525901437148523e-121\n",
      "282 -0.2450721898734097 3.510407949323506e-116\n",
      "283 -0.23964719174294527 5.127044918363208e-111\n",
      "284 -0.23763376652676366 3.9944473610186113e-109\n",
      "285 -0.23619952720517678 8.738764544326086e-108\n",
      "286 -0.23525074698562698 6.71409420996461e-107\n",
      "287 -0.2323072553219665 3.332243417240854e-104\n",
      "288 -0.23097300580187613 5.478374633141804e-103\n",
      "289 -0.230115550175482 3.311959658686651e-102\n",
      "290 -0.23091194129636577 6.567679554826249e-103\n",
      "291 -0.23158186580970908 1.6836028190400086e-103\n",
      "292 -0.23295388108715365 9.935284763480637e-105\n",
      "293 -0.23725878971536726 1.1557194540877577e-108\n",
      "294 -0.24228405037976822 2.3285852998287296e-113\n",
      "295 -0.24694261389660008 8.26222105647623e-118\n",
      "296 -0.251948957725994 1.0670144388802204e-122\n",
      "297 -0.25420891921274447 6.209917633102448e-125\n",
      "298 -0.2560127732320993 9.910295506668133e-127\n",
      "299 -0.25641607587505727 4.0167081794325104e-127\n",
      "300 -0.2552124377878813 6.775246966610729e-126\n",
      "301 -0.25357268725991045 3.065219426891575e-124\n",
      "302 -0.25150945535384844 3.5343624634017334e-122\n",
      "303 -0.24922975482097717 6.345547827396435e-120\n",
      "304 -0.24840080888068217 4.2179911870111554e-119\n",
      "305 -0.2468507654356726 1.389295528313311e-117\n",
      "306 -0.2456870391946509 1.8984924339814871e-116\n",
      "307 -0.2441792086225656 5.4526077266033835e-115\n",
      "308 -0.2457298527490192 1.8379718194255483e-116\n",
      "309 -0.24551626511498786 3.04177084454846e-116\n",
      "310 -0.24644624330268833 3.996422559527132e-117\n",
      "311 -0.2442357423356108 5.446832651014432e-115\n",
      "312 -0.243267471899407 4.695198542532888e-114\n",
      "313 -0.24210701057627454 6.088990662624085e-113\n",
      "314 -0.2419313603167031 9.195924874242928e-113\n",
      "315 -0.24652707066567725 3.907604282987328e-117\n",
      "316 -0.24847552487151928 5.232494605728403e-119\n",
      "317 -0.2508498028528482 2.576232000829418e-121\n",
      "318 -0.2557222405451203 3.828818742297595e-126\n",
      "319 -0.25713063710577194 1.5087584435415677e-127\n",
      "320 -0.2617202764309403 3.218604966465167e-132\n",
      "321 -0.26600394681264594 1.1602411717407953e-136\n",
      "322 -0.26852178990969156 2.6385975944144904e-139\n",
      "323 -0.2697612022030963 1.312926403652548e-140\n",
      "324 -0.26851913164505037 2.8625108714875867e-139\n",
      "325 -0.26817977438691143 6.807273502393511e-139\n",
      "326 -0.2675748353428582 3.086589841645115e-138\n",
      "327 -0.2661391140936159 1.0432279076596372e-136\n",
      "328 -0.2662675371677248 7.933078625420039e-137\n",
      "329 -0.2641331356446315 1.4053354882145156e-134\n",
      "330 -0.26457677891526665 5.026443043641656e-135\n",
      "331 -0.263182137368023 1.4689532321559773e-133\n",
      "332 -0.2634355453165905 8.314664967702144e-134\n",
      "333 -0.26334740321605066 1.0639250931979957e-133\n",
      "334 -0.26579262487160776 3.116021872506924e-136\n",
      "335 -0.2616805215273038 6.026906992779038e-132\n",
      "Wind Gust\n",
      "0 -0.3969550642227565 0.0\n",
      "1 -0.3806272163418136 5.4570271949246855e-300\n",
      "2 -0.3610340099208027 6.805161539013162e-268\n",
      "3 -0.3440684587670224 7.1873454930615505e-242\n",
      "4 -0.3278061249645414 2.083943398762261e-218\n",
      "5 -0.3143394645486504 4.878591033417277e-200\n",
      "6 -0.3055807051495052 1.3780566594754826e-188\n",
      "7 -0.30122706782200404 4.965232424125447e-183\n",
      "8 -0.3016704520286336 1.4364999169085977e-183\n",
      "9 -0.3038904982816074 2.3068581302126186e-186\n",
      "10 -0.30722997074905645 1.2686747017368056e-190\n",
      "11 -0.30937294664359233 2.230974803310253e-193\n",
      "12 -0.31047376414407296 8.614939144408206e-195\n",
      "13 -0.31288169119908205 6.265224368449047e-198\n",
      "14 -0.315389504323631 3.1383830234138574e-201\n",
      "15 -0.32408820594894694 5.546996385945012e-213\n",
      "16 -0.33595123528284443 1.178358260631076e-229\n",
      "17 -0.34862324897393016 2.6875022687369634e-248\n",
      "18 -0.36011862211229034 5.749653000674269e-266\n",
      "19 -0.3730802512793003 8.69026585820561e-287\n",
      "20 -0.38322033851139675 9.550512126910168e-304\n",
      "21 -0.3873794457290034 7.398639586126e-311\n",
      "22 -0.3830256030769432 2.4045442423404306e-303\n",
      "23 -0.37372539817715184 1.0153936355516448e-287\n",
      "24 -0.3599628560895193 1.5323520495044087e-265\n",
      "25 -0.3434018661987017 2.7882811109579906e-240\n",
      "26 -0.32396814790420075 1.4941248689266623e-212\n",
      "27 -0.3043249764598971 1.5470966277757122e-186\n",
      "28 -0.28956112508488385 2.899326381544884e-168\n",
      "29 -0.2795577222112282 1.7334540636689456e-156\n",
      "30 -0.27361393111964405 1.032001391186428e-149\n",
      "31 -0.2709703633151138 9.582488866914974e-147\n",
      "32 -0.27225807744136726 3.672484869457373e-148\n",
      "33 -0.27501261449812764 3.0910097529302674e-151\n",
      "34 -0.2783042740028179 5.831065376388883e-155\n",
      "35 -0.2820918092341058 2.59681236704467e-159\n",
      "36 -0.2848252364213299 1.7255970815319418e-162\n",
      "37 -0.28758023089590906 9.961710272774115e-166\n",
      "38 -0.2910840444531909 6.636067517842274e-170\n",
      "39 -0.29604194979034054 6.350345984165192e-176\n",
      "40 -0.30163251365853433 7.393285063112872e-183\n",
      "41 -0.3096632778615915 4.246061865428833e-193\n",
      "42 -0.31905549865278393 1.717044363579192e-205\n",
      "43 -0.3310255589611539 5.966940762761127e-222\n",
      "44 -0.34194223776806393 1.2884704329054468e-237\n",
      "45 -0.34513782530017967 2.648797725998356e-242\n",
      "46 -0.34199357116938206 1.2270079164213248e-237\n",
      "47 -0.33229473985861313 1.2182029360096857e-223\n",
      "48 -0.3189660078856222 3.127185699990749e-205\n",
      "49 -0.30411692232751797 8.288166725266972e-186\n",
      "50 -0.28920757105028905 2.013784943723826e-167\n",
      "51 -0.2744912102791507 2.424982163773855e-150\n",
      "52 -0.26188737525550587 1.5620858739512349e-136\n",
      "53 -0.25355947018887964 8.21794958974132e-128\n",
      "54 -0.24853202850624978 1.0709279948961798e-122\n",
      "55 -0.24485495975698757 5.021542406079795e-119\n",
      "56 -0.24525760142581715 2.0742270021321247e-119\n",
      "57 -0.24923563313035124 2.3159177931185457e-123\n",
      "58 -0.2545384418511578 9.568232377726493e-129\n",
      "59 -0.25797474942756526 2.6854583912894596e-132\n",
      "60 -0.2603139702155262 9.66797170311233e-135\n",
      "61 -0.2609913643785749 1.9229408672741973e-135\n",
      "62 -0.26363247691822034 3.056224781874179e-138\n",
      "63 -0.27044881319541975 1.2255598938303692e-145\n",
      "64 -0.280884654174501 2.1508116065025607e-157\n",
      "65 -0.2917335859164122 3.628994906974349e-170\n",
      "66 -0.30378930936293314 4.917709126492267e-185\n",
      "67 -0.3196449370342491 1.062277984420482e-205\n",
      "68 -0.3310252414882496 2.551944211040279e-221\n",
      "69 -0.3357675778259832 5.16943584451613e-228\n",
      "70 -0.3326112759217739 1.6743705306346621e-223\n",
      "71 -0.32314346521912884 2.423779567211815e-210\n",
      "72 -0.30947001044073585 3.607631881514344e-192\n",
      "73 -0.2939367822400456 1.1207211787207542e-172\n",
      "74 -0.2770993759925252 6.858486284956105e-153\n",
      "75 -0.2615451929570272 8.170291556590553e-136\n",
      "76 -0.24862598865866237 1.7412677251953115e-122\n",
      "77 -0.24080641085634807 8.763306777836624e-115\n",
      "78 -0.23681502541597524 5.935109979017842e-111\n",
      "79 -0.23520258292119153 2.0320676786739383e-109\n",
      "80 -0.23550176650755306 1.0935402663407365e-109\n",
      "81 -0.23643976170035386 1.4664191401397656e-110\n",
      "82 -0.23888093912066144 7.20134870229709e-113\n",
      "83 -0.2429505261984478 8.739946848355489e-117\n",
      "84 -0.2456005362832946 2.2738166930040565e-119\n",
      "85 -0.24941079904808416 3.798751731159972e-123\n",
      "86 -0.25451629078448923 2.5795432828544317e-128\n",
      "87 -0.26382318545052463 4.709720973112238e-138\n",
      "88 -0.2749685178830519 3.02132630608277e-150\n",
      "89 -0.28604223243467064 6.113647565097654e-163\n",
      "90 -0.29790954317163776 3.367261588723877e-177\n",
      "91 -0.31244942289704436 1.2832183641813486e-195\n",
      "92 -0.3227800372751064 2.4077157045937376e-209\n",
      "93 -0.3275775983333865 6.825171252505877e-216\n",
      "94 -0.32600432883898794 1.063410995747342e-213\n",
      "95 -0.318485798514493 1.7099086326088067e-203\n",
      "96 -0.3061496680147127 2.1593598071985414e-187\n",
      "97 -0.2910763678000467 9.265576314932996e-169\n",
      "98 -0.27652385535033974 7.99789066631533e-152\n",
      "99 -0.26278373328666427 9.30884558040427e-137\n",
      "100 -0.2493090191539499 7.782944811099987e-123\n",
      "101 -0.24119401546273117 7.603849098734157e-115\n",
      "102 -0.2375985764116961 2.1528677935466176e-111\n",
      "103 -0.23805867110932866 8.107012771533854e-112\n",
      "104 -0.24030797936901777 5.926369542238132e-114\n",
      "105 -0.2440887669269196 1.3285180184297343e-117\n",
      "106 -0.2483468931726805 8.620067546773221e-122\n",
      "107 -0.25176461752845813 3.2990546903876683e-125\n",
      "108 -0.25542179057094383 6.351538105755359e-129\n",
      "109 -0.261323519471686 4.680078360435616e-135\n",
      "110 -0.2659202089242018 6.122610080516376e-140\n",
      "111 -0.27432001388735294 3.961608086725422e-149\n",
      "112 -0.2848011982591255 4.60374502015056e-161\n",
      "113 -0.2953388128302722 1.3643403665766694e-173\n",
      "114 -0.30515108841370053 9.654513720956004e-186\n",
      "115 -0.31903336216228306 9.28899264119246e-204\n",
      "116 -0.33021268026935346 5.634502488179765e-219\n",
      "117 -0.33492238994597223 1.44849905546785e-225\n",
      "118 -0.332688735093425 2.1790150796196888e-222\n",
      "119 -0.324370175121937 7.396277833600639e-211\n",
      "120 -0.3132794355947188 4.730213456521906e-196\n",
      "121 -0.29936999715383045 2.2665200501143056e-178\n",
      "122 -0.28394652721748304 6.920113586028711e-160\n",
      "123 -0.2707990872553628 4.958020852343495e-145\n",
      "124 -0.258099179050614 1.8771850641330543e-131\n",
      "125 -0.24754554505519763 9.857731743382813e-121\n",
      "126 -0.2434506831921115 1.0594888692110388e-116\n",
      "127 -0.24251448504226883 8.835716706448901e-116\n",
      "128 -0.24376088006440982 5.623993360998525e-117\n",
      "129 -0.24707552294006419 3.263047769467896e-120\n",
      "130 -0.25019040830225886 2.683458855787946e-123\n",
      "131 -0.2518561764674153 5.85967097597019e-125\n",
      "132 -0.25602515133642584 3.4323941761153665e-129\n",
      "133 -0.26093626069820797 2.7966576311262093e-134\n",
      "134 -0.26684875646677453 1.4827137182017295e-140\n",
      "135 -0.2744603337809236 7.080106674172121e-149\n",
      "136 -0.28506403036610806 6.294489385717625e-161\n",
      "137 -0.2962778503583622 2.951551862728553e-174\n",
      "138 -0.30632450448219045 1.026870880845869e-186\n",
      "139 -0.3183584995476009 2.6606687796039696e-202\n",
      "140 -0.32885530472231866 1.710140023716663e-216\n",
      "141 -0.33416701041936026 7.038126255829566e-224\n",
      "142 -0.3310481113756502 1.7451245237084153e-219\n",
      "143 -0.32364143155697317 2.735340128092322e-209\n",
      "144 -0.31248826888306636 1.7437808943980584e-194\n",
      "145 -0.29763630771971994 9.396683853266917e-176\n",
      "146 -0.28280341468549614 3.961691193167268e-158\n",
      "147 -0.26699804109196573 1.6566183267908706e-140\n",
      "148 -0.2541838806820268 4.501226361049631e-127\n",
      "149 -0.24468367137462949 1.3558936212574354e-117\n",
      "150 -0.24083076303143597 7.380965697718765e-114\n",
      "151 -0.2402062226215037 3.007505456828233e-113\n",
      "152 -0.24125670381716507 3.061557285949358e-114\n",
      "153 -0.24502007603750298 7.209442056682102e-118\n",
      "154 -0.24941207225070378 3.486508405303015e-122\n",
      "155 -0.2503294797571249 4.377928430273096e-123\n",
      "156 -0.25469749360046845 1.7647468568228224e-127\n",
      "157 -0.26014347201512517 4.403504894060332e-133\n",
      "158 -0.26592195745289987 3.553689135832497e-139\n",
      "159 -0.2732234598693568 4.248130012755724e-147\n",
      "160 -0.2812156531384387 4.68299241386581e-156\n",
      "161 -0.2902519134289639 1.5043705619818285e-166\n",
      "162 -0.3013287275134248 5.9634927453987074e-180\n",
      "163 -0.3136026192436022 1.6624331601508913e-195\n",
      "164 -0.32230751718866296 5.48416494654323e-207\n",
      "165 -0.32591209445995145 7.699631944519442e-212\n",
      "166 -0.32333215474264615 2.556012565997654e-208\n",
      "167 -0.3165869198100919 2.579291816280864e-199\n",
      "168 -0.30584207934196406 1.830855087996938e-185\n",
      "169 -0.2924275911104321 5.539876948327006e-169\n",
      "170 -0.2774323586612738 1.3506264557039056e-151\n",
      "171 -0.26207040826248473 6.92404311191202e-135\n",
      "172 -0.2509287001715371 1.914318139806116e-123\n",
      "173 -0.2417007846381462 2.1604957087983546e-114\n",
      "174 -0.2365967637787474 1.5254847402808858e-109\n",
      "175 -0.23472730234899486 8.672688655759187e-108\n",
      "176 -0.23371831192328 7.66124825736924e-107\n",
      "177 -0.23519158984911254 3.4014852616163576e-108\n",
      "178 -0.24030118534098285 5.456727981843831e-113\n",
      "179 -0.24327311209299432 7.96239850647613e-116\n",
      "180 -0.2471444626872248 1.3956198461165717e-119\n",
      "181 -0.25124543716449066 1.237719027094564e-123\n",
      "182 -0.25726700326586205 1.0001884822708902e-129\n",
      "183 -0.2672351495064209 3.498620076182766e-140\n",
      "184 -0.27787102664249586 7.62567700141707e-152\n",
      "185 -0.2881985869062358 1.12890052222286e-163\n",
      "186 -0.30017719241235474 4.9131852562642975e-178\n",
      "187 -0.31288001469331694 4.966943708259046e-194\n",
      "188 -0.32053241738150173 4.8076496413746544e-204\n",
      "189 -0.32265407505862076 7.42224839530415e-207\n",
      "190 -0.3190775779443096 4.566080319183675e-202\n",
      "191 -0.3087083500235437 1.352568078311138e-188\n",
      "192 -0.2955509999790542 2.797134452157333e-172\n",
      "193 -0.2821325429210232 1.6475572329296335e-156\n",
      "194 -0.26704512077480447 8.40968110751899e-140\n",
      "195 -0.25108348221440613 2.837523661362854e-123\n",
      "196 -0.2382785500923537 7.630313578973346e-111\n",
      "197 -0.22961336714043282 7.671948130644834e-103\n",
      "198 -0.22459179739744808 2.3789268509000082e-98\n",
      "199 -0.22512184884389674 8.317742536119933e-99\n",
      "200 -0.22543220792922367 4.539173901965104e-99\n",
      "201 -0.22677941581763889 2.969922283911411e-100\n",
      "202 -0.22972895298024676 6.910111497421983e-103\n",
      "203 -0.23207219227981254 5.289927677465444e-105\n",
      "204 -0.23543260601052235 4.390286012571149e-108\n",
      "205 -0.2416804076881352 5.930691668823973e-114\n",
      "206 -0.24900588340097815 4.682476361906914e-121\n",
      "207 -0.25708539141733744 3.618274678816399e-129\n",
      "208 -0.2681142375457385 1.009582732672563e-140\n",
      "209 -0.2827639573068044 6.094127605733942e-157\n",
      "210 -0.2958393246413847 2.865393368388218e-172\n",
      "211 -0.31025284327307856 4.0018752484430615e-190\n",
      "212 -0.32119941513873246 2.2968972235041124e-204\n",
      "213 -0.3257140139503346 2.1200245801109966e-210\n",
      "214 -0.32261424062924077 3.320791126605874e-206\n",
      "215 -0.3132808073997816 6.404572502016873e-194\n",
      "216 -0.3004280381884189 9.994199022310281e-178\n",
      "217 -0.2877707989831083 1.4287043113216168e-162\n",
      "218 -0.27298117777023256 7.749013013078815e-146\n",
      "219 -0.2593911812433888 2.329013065564125e-131\n",
      "220 -0.24797516464345995 7.575795567625615e-120\n",
      "221 -0.24041974482829223 1.5172169905678174e-112\n",
      "222 -0.23655272806323566 6.699468520395649e-109\n",
      "223 -0.23709703905046853 2.1447010898679575e-109\n",
      "224 -0.24045261088531933 1.5444237249050276e-112\n",
      "225 -0.24333020858584706 2.8625615691934156e-115\n",
      "226 -0.24708013738579754 6.891594265689118e-119\n",
      "227 -0.2505091837310767 2.9969303636797735e-122\n",
      "228 -0.2541536316076367 7.016687859280874e-126\n",
      "229 -0.25784609498360916 1.2807638401717592e-129\n",
      "230 -0.26274033425120047 1.1301079525199067e-134\n",
      "231 -0.2717279615022987 2.988359474735805e-144\n",
      "232 -0.2826021804302222 2.4321048503731513e-156\n",
      "233 -0.29599047982224064 5.413610991290888e-172\n",
      "234 -0.309810319344885 4.686498773865352e-189\n",
      "235 -0.32276012955649436 6.733565630323258e-206\n",
      "236 -0.3324708197995843 4.453902287524093e-219\n",
      "237 -0.33812619757625506 5.763605845724424e-227\n",
      "238 -0.3353189127060857 5.441252167704489e-223\n",
      "239 -0.32985755438554476 2.1124814612466181e-215\n",
      "240 -0.3219399694131041 1.0973559085879397e-204\n",
      "241 -0.31125168845692425 9.775227744491363e-191\n",
      "242 -0.2968445839928415 7.675710284307042e-173\n",
      "243 -0.2796849086311329 7.63656266668956e-153\n",
      "244 -0.2664042851540327 2.5749956726820642e-138\n",
      "245 -0.25629707896465537 8.431894612738016e-128\n",
      "246 -0.2532065718821737 1.144000643516798e-124\n",
      "247 -0.252399957402457 7.575408483489343e-124\n",
      "248 -0.2538300437780675 2.896637639411158e-125\n",
      "249 -0.2573344180287054 8.497738349727098e-129\n",
      "250 -0.2628965799788526 1.58867754481999e-134\n",
      "251 -0.266685219913641 1.6771976911806242e-138\n",
      "252 -0.2715821687570982 9.636961469792082e-144\n",
      "253 -0.27710216712373414 8.769903068865582e-150\n",
      "254 -0.28320709973415314 1.2480056002946127e-156\n",
      "255 -0.2893975872939988 9.454014093870846e-164\n",
      "256 -0.2978585554215061 8.773438673705948e-174\n",
      "257 -0.3075709459170864 9.988350676016191e-186\n",
      "258 -0.31865461500995845 6.332160570446229e-200\n",
      "259 -0.33222629712915364 3.7314819316711916e-218\n",
      "260 -0.3420933682174622 5.389138360841962e-232\n",
      "261 -0.3474311641771406 1.108546996102039e-239\n",
      "262 -0.34431673324610845 3.9024513973676696e-235\n",
      "263 -0.3370114603389744 1.0353628984486591e-224\n",
      "264 -0.3242984252608391 2.9453929925324913e-207\n",
      "265 -0.30962836712992337 3.811236035516656e-188\n",
      "266 -0.2939478078024215 6.733639095835796e-169\n",
      "267 -0.28132124500880085 2.9398716002715705e-154\n",
      "268 -0.27238007504971795 2.4276541254450535e-144\n",
      "269 -0.265042434245776 1.7732201833555227e-136\n",
      "270 -0.2580772940428787 3.055684827903496e-129\n",
      "271 -0.2528691336346959 5.696330621593145e-124\n",
      "272 -0.24997607694665908 4.330605266554762e-121\n",
      "273 -0.2515577994646338 1.2250308084010945e-122\n",
      "274 -0.25594379801226186 5.151352616689908e-127\n",
      "275 -0.2595383144290676 1.1602922964075765e-130\n",
      "276 -0.2651685377279468 1.6865221944036058e-136\n",
      "277 -0.2697920160592244 2.1344790901470938e-141\n",
      "278 -0.2754301666055019 1.6660740966453448e-147\n",
      "279 -0.28615013030284975 1.5452336661314406e-159\n",
      "280 -0.29677899731688023 5.320319309351966e-172\n",
      "281 -0.3060716515714492 2.4529557877336512e-183\n",
      "282 -0.31596692248400293 7.15631435922994e-196\n",
      "283 -0.32843357215194224 2.307337700712516e-212\n",
      "284 -0.3401176918967834 1.548811852824249e-228\n",
      "285 -0.34499551323887934 1.7555261385167605e-235\n",
      "286 -0.3410488830638422 8.360659878861303e-230\n",
      "287 -0.3353722751607404 8.547636135325086e-222\n",
      "288 -0.32482087825967504 2.2437765195091398e-207\n",
      "289 -0.3111606691015035 1.4754176912223094e-189\n",
      "290 -0.29452623844746756 4.1089523887672527e-169\n",
      "291 -0.2807620015430513 3.3650831040209183e-153\n",
      "292 -0.26863622251847785 6.473267189596525e-140\n",
      "293 -0.2592596023685463 4.197868381065634e-130\n",
      "294 -0.2543006277683797 4.546721721936486e-125\n",
      "295 -0.2545423863927949 2.6922341416910783e-125\n",
      "296 -0.2536897847350895 1.9830177855288675e-124\n",
      "297 -0.2547065039626089 1.9714106285611376e-125\n",
      "298 -0.25868152785333165 1.9464485199283323e-129\n",
      "299 -0.2628341329033424 1.069577231096796e-133\n",
      "300 -0.26778447092494884 7.03100742346927e-139\n",
      "301 -0.2733332930095831 8.031540340732604e-145\n",
      "302 -0.2804587903146741 1.1562164232433092e-152\n",
      "303 -0.28931141811775785 9.740181948117632e-163\n",
      "304 -0.3012201643703512 7.0223999323563045e-177\n",
      "305 -0.3141627277103566 5.0098214481658e-193\n",
      "306 -0.3267383423094592 1.6576724225347967e-209\n",
      "307 -0.3409667872369586 4.008902366537184e-229\n",
      "308 -0.3515152975636503 2.4386779561845866e-244\n",
      "309 -0.357108717581168 1.2386401192575418e-252\n",
      "310 -0.3562370130121126 2.6955009601801264e-251\n",
      "311 -0.3504942234540903 9.417899032341465e-243\n",
      "312 -0.3406807178183102 1.387839446441897e-228\n",
      "313 -0.3270463624921116 9.493019234927123e-210\n",
      "314 -0.31116624274087956 5.1919770414637145e-189\n",
      "315 -0.29585443818249746 3.3897532230341785e-170\n",
      "316 -0.28257991826144063 8.539693124105722e-155\n",
      "317 -0.27221368388156164 2.434015672542015e-143\n",
      "318 -0.26762249793497106 2.0407381364131833e-138\n",
      "319 -0.26659153852607564 2.596678758128223e-137\n",
      "320 -0.26801853156099464 8.370528114810812e-139\n",
      "321 -0.2695063606932843 2.2766830432817897e-140\n",
      "322 -0.27195940153640996 5.548714090978994e-143\n",
      "323 -0.275555455065225 7.190216786834537e-147\n",
      "324 -0.28054827100539714 2.2648714341010465e-152\n",
      "325 -0.28583421158156913 2.537224659290969e-158\n",
      "326 -0.2936307564117531 2.4041817336392556e-167\n",
      "327 -0.3039914690060249 8.670031880396005e-180\n",
      "328 -0.3151593856546239 8.78420652600569e-194\n",
      "329 -0.32782152665294634 2.1335800061040723e-210\n",
      "330 -0.3394253511310982 2.474249825901628e-226\n",
      "331 -0.35201690416185855 2.036496125920683e-244\n",
      "332 -0.3637128893464653 5.70700056274103e-262\n",
      "333 -0.3695580462881776 5.26336820768027e-271\n",
      "334 -0.36620218400591054 9.565341936607509e-266\n",
      "335 -0.3587475142662878 2.51679694970207e-254\n",
      "Precipitation Total\n",
      "0 -0.14999841899852767 2.98367881175651e-45\n",
      "1 -0.14879025162345183 1.5321559709197277e-44\n",
      "2 -0.14811708038031707 3.808221696882777e-44\n",
      "3 -0.14618789632738038 4.948672837619865e-43\n",
      "4 -0.14452813105626605 4.37659496447384e-42\n",
      "5 -0.14622247075003528 4.832618800365367e-43\n",
      "6 -0.1450827789631344 2.1721618620071358e-42\n",
      "7 -0.14686066501494932 2.1306626201106403e-43\n",
      "8 -0.14319031611351785 2.5726029628090315e-41\n",
      "9 -0.14078060805975154 5.6099356727431074e-40\n",
      "10 -0.14203388695939412 1.154725053718286e-40\n",
      "11 -0.1411215380952593 3.718894270364583e-40\n",
      "12 -0.14164415957144263 1.9356921925010794e-40\n",
      "13 -0.1438814121269398 1.1123812501043351e-41\n",
      "14 -0.14602269914117688 6.926293281907927e-43\n",
      "15 -0.14760646410363226 8.67427075663743e-44\n",
      "16 -0.14878840357240794 1.818295713856975e-44\n",
      "17 -0.15056783632631066 1.6795284108418803e-45\n",
      "18 -0.15098868616174438 9.60571748039692e-46\n",
      "19 -0.14588708807230275 8.733334301883369e-43\n",
      "20 -0.14301197149325615 3.664884119941678e-41\n",
      "21 -0.14410874611248192 9.021353689949232e-42\n",
      "22 -0.14281593723611644 4.810409669013139e-41\n",
      "23 -0.1391344465005644 5.089562326868589e-39\n",
      "24 -0.13727553411076773 5.130933126308677e-38\n",
      "25 -0.13897444237399084 6.335221819478766e-39\n",
      "26 -0.13839851430270853 1.3081124711331446e-38\n",
      "27 -0.14002707197249956 1.7345587640984383e-39\n",
      "28 -0.136023424241139 2.464919837037957e-37\n",
      "29 -0.13477667486579128 1.1265125137032029e-36\n",
      "30 -0.13348767429657177 5.3362781894898824e-36\n",
      "31 -0.12823801892627423 2.497374647934165e-33\n",
      "32 -0.125308515908956 6.940812034918325e-32\n",
      "33 -0.1250647211066537 9.187408345322499e-32\n",
      "34 -0.1282251367321497 2.5987575660316685e-33\n",
      "35 -0.12831945908865566 2.3521954169344035e-33\n",
      "36 -0.1310145361535882 1.046696299986055e-34\n",
      "37 -0.13086761021768595 1.2537849361200794e-34\n",
      "38 -0.13381822215284572 3.8659694425651816e-36\n",
      "39 -0.13765850216846848 3.699544773620412e-38\n",
      "40 -0.13681914114128513 1.045840291027161e-37\n",
      "41 -0.13815724278354932 2.0394892841701037e-38\n",
      "42 -0.13699472551591657 8.598821187060596e-38\n",
      "43 -0.14245218651085362 9.510759824516954e-41\n",
      "44 -0.14027549553483185 1.5050275486766884e-39\n",
      "45 -0.13420560367294368 2.591926663947537e-36\n",
      "46 -0.12943594140332973 7.146235064501331e-34\n",
      "47 -0.1283690294241316 2.4569403315175676e-33\n",
      "48 -0.12464021735499037 1.6596848309413977e-31\n",
      "49 -0.12045675930624017 1.609584874282677e-29\n",
      "50 -0.11751459218863047 3.6595612753621128e-28\n",
      "51 -0.11031959855605199 5.415000060028963e-25\n",
      "52 -0.1109338573459646 2.9771496757832097e-25\n",
      "53 -0.10908997453765681 1.8194266426330942e-24\n",
      "54 -0.1120609654468387 9.860320849484487e-26\n",
      "55 -0.10799846977295627 5.2797016835897974e-24\n",
      "56 -0.10812292249780923 4.7126526171634984e-24\n",
      "57 -0.1123156514642143 7.796169507802635e-26\n",
      "58 -0.11354480653589596 2.2843996154582898e-26\n",
      "59 -0.11399260637830436 1.4619798367525764e-26\n",
      "60 -0.11198006636341801 1.1103991434466617e-25\n",
      "61 -0.11514639495095055 4.5755574229445076e-27\n",
      "62 -0.11075580782586737 3.7764323192425703e-25\n",
      "63 -0.11742106572472544 4.41988314435569e-28\n",
      "64 -0.12195678158743634 3.5700943026577854e-30\n",
      "65 -0.12542647227861387 7.916092674385634e-32\n",
      "66 -0.12411038227035699 3.4368285626517776e-31\n",
      "67 -0.12580823084681786 5.250946635579083e-32\n",
      "68 -0.12574939517217434 5.653335009211225e-32\n",
      "69 -0.12194330225164585 3.761981741345496e-30\n",
      "70 -0.12258666843837661 1.884250630077617e-30\n",
      "71 -0.11528071552343966 4.26584411210111e-27\n",
      "72 -0.11042738121827103 5.547609376614623e-25\n",
      "73 -0.10815445724451955 5.057701787591302e-24\n",
      "74 -0.10515838576385164 8.66011806984454e-23\n",
      "75 -0.10185279850273217 1.810317416136421e-21\n",
      "76 -0.09817227428360717 4.7603506435168414e-20\n",
      "77 -0.09389720509654825 1.8234772629093473e-18\n",
      "78 -0.09507880738854069 6.80586202357575e-19\n",
      "79 -0.09765260156435882 7.584352395079758e-20\n",
      "80 -0.09553898204974665 4.65606112539728e-19\n",
      "81 -0.09828711416167832 4.414238616211783e-20\n",
      "82 -0.09928629851058982 1.8497353043717637e-20\n",
      "83 -0.10406312619484498 2.5140503241858187e-22\n",
      "84 -0.10453682595988803 1.6317890586675163e-22\n",
      "85 -0.10780450581330273 7.59102283702296e-24\n",
      "86 -0.1101115934359286 8.236261279004614e-25\n",
      "87 -0.11195329458582147 1.3541278918570875e-25\n",
      "88 -0.11454954028189783 1.0072488910427769e-26\n",
      "89 -0.10959749558641327 1.383469573487219e-24\n",
      "90 -0.11437804274823113 1.214620429183044e-26\n",
      "91 -0.10962158408154193 1.368088338265661e-24\n",
      "92 -0.10532238404627906 8.223971500268926e-23\n",
      "93 -0.10628905574936927 3.3449284449357453e-23\n",
      "94 -0.10612980592471122 3.9073768023336725e-23\n",
      "95 -0.10402691370391241 2.77663719460154e-22\n",
      "96 -0.09957962686466332 1.5328536813054946e-20\n",
      "97 -0.09422221215738533 1.521850343842261e-18\n",
      "98 -0.09233880270268495 7.234934101025947e-18\n",
      "99 -0.08911249826007825 9.688207784320214e-17\n",
      "100 -0.0850491357276123 2.2302262981913847e-15\n",
      "101 -0.08647225276984542 7.597885264197403e-16\n",
      "102 -0.08585297984879829 1.223108898479032e-15\n",
      "103 -0.08063293628134482 5.757466027830131e-14\n",
      "104 -0.08527091157328935 1.9149322214636203e-15\n",
      "105 -0.09444233159809882 1.3132223520602462e-18\n",
      "106 -0.09968484325991553 1.4694431026745123e-20\n",
      "107 -0.10051945795252801 7.058866181637428e-21\n",
      "108 -0.10214660929213384 1.6531085941887664e-21\n",
      "109 -0.10822076913155046 5.878838142528462e-24\n",
      "110 -0.11491375779980215 8.060955354189766e-27\n",
      "111 -0.11202034863291105 1.476283207072324e-25\n",
      "112 -0.10949348321629987 1.7603458902226964e-24\n",
      "113 -0.11112020401502479 3.630424505058674e-25\n",
      "114 -0.10969223061565558 1.4701121358839755e-24\n",
      "115 -0.10862511124829319 4.13698354967677e-24\n",
      "116 -0.10836061260547102 5.361786267397036e-24\n",
      "117 -0.11150210737371732 2.5577249156115967e-25\n",
      "118 -0.1112633687813369 3.25493048847052e-25\n",
      "119 -0.10781179784520409 9.21362651676322e-24\n",
      "120 -0.10455152366824616 1.9658869474296336e-22\n",
      "121 -0.1009913961032155 4.986223235502475e-21\n",
      "122 -0.09875498683327147 3.594941547509028e-20\n",
      "123 -0.0974685241973986 1.0998700091923443e-19\n",
      "124 -0.09462894296544955 1.225139809351151e-18\n",
      "125 -0.09648727470838284 2.57035894579001e-19\n",
      "126 -0.09736554717988669 1.219128418403397e-19\n",
      "127 -0.0895188996671816 7.876385842704656e-17\n",
      "128 -0.08689339466828311 6.10167360714412e-16\n",
      "129 -0.09330464588323761 3.754402750008607e-18\n",
      "130 -0.10011842408157356 1.1324070472020321e-20\n",
      "131 -0.10080673512468209 6.188464501886452e-21\n",
      "132 -0.10321905976063754 7.114992246807552e-22\n",
      "133 -0.1035159069465689 5.459150682010327e-22\n",
      "134 -0.10484765672135277 1.6169707163088787e-22\n",
      "135 -0.10576185674909884 6.964131809921739e-23\n",
      "136 -0.11157472870872562 2.685031545113514e-25\n",
      "137 -0.11377524061683059 3.041671335997049e-26\n",
      "138 -0.10787349270399806 9.720574720802219e-24\n",
      "139 -0.1082269725731175 6.98570252025396e-24\n",
      "140 -0.10743903306580091 1.4847511056621703e-23\n",
      "141 -0.10529734675617641 1.1093206828403066e-22\n",
      "142 -0.10300502286857632 9.120807313462655e-22\n",
      "143 -0.10125950563843461 4.402230021658004e-21\n",
      "144 -0.09951710663162534 2.0622246230195147e-20\n",
      "145 -0.09567162625176885 5.630874479830973e-19\n",
      "146 -0.093820310823449 2.6476380441452452e-18\n",
      "147 -0.08955951639430466 8.27671564966029e-17\n",
      "148 -0.08793793071272663 2.949535529380761e-16\n",
      "149 -0.08638328424592248 9.761039026969779e-16\n",
      "150 -0.0914843330661203 1.808976249599388e-17\n",
      "151 -0.08427690431341814 4.786124941829674e-15\n",
      "152 -0.08727901783579484 4.9795736742856e-16\n",
      "153 -0.09483146331006442 1.1811136560901358e-18\n",
      "154 -0.09697467362067803 1.9482115651252882e-19\n",
      "155 -0.09697013467129041 1.9651354298242685e-19\n",
      "156 -0.09589525072594349 4.909766954506061e-19\n",
      "157 -0.09602956195325896 4.404597919217028e-19\n",
      "158 -0.09878749622162664 4.1777335956879483e-20\n",
      "159 -0.10527516385717006 1.2531154885370183e-22\n",
      "160 -0.10772476911403574 1.2744146060166426e-23\n",
      "161 -0.11009478900983491 1.3283362732517637e-24\n",
      "162 -0.1087135404288497 5.038903752958468e-24\n",
      "163 -0.11166600585308384 2.9120901797234723e-25\n",
      "164 -0.11382737023361907 3.4478206057822346e-26\n",
      "165 -0.11249228675224857 1.3078437244565713e-25\n",
      "166 -0.1070574754220341 2.4764838126748734e-23\n",
      "167 -0.1001081051608504 1.3797292105618734e-20\n",
      "168 -0.09414417429974162 2.2367429360365705e-18\n",
      "169 -0.09085020912366268 3.2581432405302744e-17\n",
      "170 -0.0916210907274792 1.7648222178472353e-17\n",
      "171 -0.09276708037159676 7.01304333738403e-18\n",
      "172 -0.09414820772000508 2.269868478497741e-18\n",
      "173 -0.09431408411227393 1.98798497164483e-18\n",
      "174 -0.08968855006895149 8.349641767908103e-17\n",
      "175 -0.09314441688398307 5.246967857209711e-18\n",
      "176 -0.0942749016213891 2.0815067872342704e-18\n",
      "177 -0.09434402302330794 1.9747818528948007e-18\n",
      "178 -0.09578378123541861 5.975968263224669e-19\n",
      "179 -0.09583175842189115 5.766834060261259e-19\n",
      "180 -0.09812508547961904 8.251478826354015e-20\n",
      "181 -0.10131450512760759 5.1104607279659125e-21\n",
      "182 -0.10211172274888466 2.524792971703617e-21\n",
      "183 -0.10315000301779398 9.980787647046953e-22\n",
      "184 -0.1092961565551278 3.2966779704276046e-24\n",
      "185 -0.10512782576460182 1.6615337353847895e-22\n",
      "186 -0.1049329878165093 1.998798030298881e-22\n",
      "187 -0.10790620314575083 1.2590091927892332e-23\n",
      "188 -0.11035207733852606 1.223583681278962e-24\n",
      "189 -0.107661415463066 1.6049977569099617e-23\n",
      "190 -0.10426157697765875 3.77943625079799e-22\n",
      "191 -0.10069554949821115 9.30500915290261e-21\n",
      "192 -0.0929958092154219 6.3837191835047446e-18\n",
      "193 -0.09277863028070936 7.650080358555127e-18\n",
      "194 -0.09364312998551186 3.795866886993095e-18\n",
      "195 -0.09276246841960206 7.819301457990448e-18\n",
      "196 -0.08928939611870858 1.2490280271243985e-16\n",
      "197 -0.08918999231889804 1.3553509070072172e-16\n",
      "198 -0.0907380674896218 4.02314237674996e-17\n",
      "199 -0.09152508758127217 2.1572461036894076e-17\n",
      "200 -0.09344838087899698 4.572192740527755e-18\n",
      "201 -0.09393256226983104 3.088811673403618e-18\n",
      "202 -0.09152313848262847 2.1884232525389935e-17\n",
      "203 -0.09268266172956491 8.639225137688363e-18\n",
      "204 -0.09326782034526523 5.393037815965613e-18\n",
      "205 -0.09377127130410168 3.589584256685561e-18\n",
      "206 -0.096398831530614 4.0632690771256797e-19\n",
      "207 -0.09888514940471298 4.896494308966929e-20\n",
      "208 -0.10070908540575675 1.0036672537502407e-20\n",
      "209 -0.10404349687003242 5.1184736336707e-22\n",
      "210 -0.1007125705627222 1.010963873194626e-20\n",
      "211 -0.10623228080439748 6.939170514274264e-23\n",
      "212 -0.10626672992090251 6.759569941858239e-23\n",
      "213 -0.10782506358739258 1.5848308104453692e-23\n",
      "214 -0.10413566314976216 4.838576795746097e-22\n",
      "215 -0.09877486375678068 5.603583794887622e-20\n",
      "216 -0.09246597572219475 1.089431661716787e-17\n",
      "217 -0.09226361803529612 1.2880792213014369e-17\n",
      "218 -0.09422600838704848 2.620001308313835e-18\n",
      "219 -0.09165370386937423 2.1197244022561323e-17\n",
      "220 -0.09131285944816109 2.7945309579496853e-17\n",
      "221 -0.09583371405032853 7.005063642121717e-19\n",
      "222 -0.09516928087557877 1.2240190510332574e-18\n",
      "223 -0.09482785127269819 1.6316780900545416e-18\n",
      "224 -0.0942683312180929 2.5999407623963063e-18\n",
      "225 -0.09293184120986075 7.774153699848352e-18\n",
      "226 -0.08589103541995169 1.8937496983736687e-15\n",
      "227 -0.08829536674342996 3.0588338242094178e-16\n",
      "228 -0.0896703136017595 1.0565745492841381e-16\n",
      "229 -0.09495930763938863 1.5043171063232474e-18\n",
      "230 -0.09309804884846039 6.945136766324044e-18\n",
      "231 -0.09664624656734569 3.7138441895567734e-19\n",
      "232 -0.09618529511726029 5.495670473206353e-19\n",
      "233 -0.09739622346201944 1.989360102433911e-19\n",
      "234 -0.09859351339426539 7.195682812815313e-20\n",
      "235 -0.09964483755255063 2.918564382196437e-20\n",
      "236 -0.10393820450749458 6.531675125911151e-22\n",
      "237 -0.09958851172209016 3.095744880389265e-20\n",
      "238 -0.09209967224169334 1.6091611864290248e-17\n",
      "239 -0.08143649209746062 5.1229715380157075e-14\n",
      "240 -0.07824732521222467 4.739735129996762e-13\n",
      "241 -0.08064519788054034 9.022547114003426e-14\n",
      "242 -0.08360652463880552 1.0865098262136815e-14\n",
      "243 -0.08672196015837433 1.081005084104925e-15\n",
      "244 -0.08727099361944901 7.159322849616041e-16\n",
      "245 -0.08828108583535739 3.3216942620970527e-16\n",
      "246 -0.09406915398655853 3.3806917036611628e-18\n",
      "247 -0.09431387622921186 2.7790446166372247e-18\n",
      "248 -0.0896295885905157 1.1837297270972012e-16\n",
      "249 -0.09336332652228477 6.090701860981562e-18\n",
      "250 -0.09337120770088962 6.078756673222617e-18\n",
      "251 -0.09558796947730579 9.886725329766509e-19\n",
      "252 -0.09013100504435817 8.131317295268241e-17\n",
      "253 -0.09120020980834878 3.5151134518400085e-17\n",
      "254 -0.0938998295675392 4.0244430651632724e-18\n",
      "255 -0.09750887632705099 2.0108285079079474e-19\n",
      "256 -0.10347418397595352 1.1071724739039906e-21\n",
      "257 -0.10312381268524701 1.5243459833210894e-21\n",
      "258 -0.10185934619929504 4.7223890725865986e-21\n",
      "259 -0.10156759911956803 6.142517353033927e-21\n",
      "260 -0.10245437766360578 2.8155215092944807e-21\n",
      "261 -0.0973080317972401 2.4531992068281073e-19\n",
      "262 -0.09332509154830916 6.65523427726931e-18\n",
      "263 -0.08621273557750639 1.711045606996641e-15\n",
      "264 -0.08014331160723154 1.3832983784022953e-13\n",
      "265 -0.08055145120761976 1.0434369497306459e-13\n",
      "266 -0.0802631086170994 1.2807739935819593e-13\n",
      "267 -0.08243378795743046 2.76816745292683e-14\n",
      "268 -0.08206804521507195 3.607796255646777e-14\n",
      "269 -0.08683040703798722 1.1005483160245686e-15\n",
      "270 -0.08557063628078501 2.836216561672925e-15\n",
      "271 -0.08442520347308324 6.629795705743377e-15\n",
      "272 -0.08276497376195466 2.2208717443162614e-14\n",
      "273 -0.08472964316673182 5.340395424311963e-15\n",
      "274 -0.08706845395034427 9.374578782882135e-16\n",
      "275 -0.08572128025818446 2.583556013551228e-15\n",
      "276 -0.09116877661397099 3.972087649623035e-17\n",
      "277 -0.0969664511239241 3.532269454597944e-19\n",
      "278 -0.097289475927501 2.704406832857903e-19\n",
      "279 -0.10127586886131494 8.814332667146373e-21\n",
      "280 -0.10365643720453391 1.0713162338684882e-21\n",
      "281 -0.10508760157877041 2.9544615212880946e-22\n",
      "282 -0.10338415552088942 1.3824812664866468e-21\n",
      "283 -0.09991023094876897 2.956672907215551e-20\n",
      "284 -0.10198389048620182 4.8525582171744096e-21\n",
      "285 -0.10226575645393923 3.802354072431348e-21\n",
      "286 -0.09904487945783144 6.324137584199759e-20\n",
      "287 -0.09241273416556069 1.5483074418946898e-17\n",
      "288 -0.08788839156048572 5.316190100104576e-16\n",
      "289 -0.08394535744020792 1.0044858462113789e-14\n",
      "290 -0.08148982436792618 5.862914250189444e-14\n",
      "291 -0.0807495703715303 9.901275000863506e-14\n",
      "292 -0.08174260979862996 4.936176932380687e-14\n",
      "293 -0.08544862914530711 3.3826249747656085e-15\n",
      "294 -0.08857620734411238 3.2190921730293794e-16\n",
      "295 -0.09020934547296967 9.138001286304909e-17\n",
      "296 -0.08990513798409297 1.1630045637928117e-16\n",
      "297 -0.08936115011300713 1.7805435235976527e-16\n",
      "298 -0.09123466369000872 4.138781739524688e-17\n",
      "299 -0.09016691664457177 9.603290962408407e-17\n",
      "300 -0.09120704453462819 4.2659212120682914e-17\n",
      "301 -0.09029307953066192 8.775484018366257e-17\n",
      "302 -0.09338624836144978 7.563371877542052e-18\n",
      "303 -0.09669002742233698 5.040384682128158e-19\n",
      "304 -0.09857332183134808 1.0345919327600562e-19\n",
      "305 -0.09398723962917119 4.7124897696964194e-18\n",
      "306 -0.09184732205993634 2.637307038543064e-17\n",
      "307 -0.08872055967021711 3.0357594098120983e-16\n",
      "308 -0.0888973738694929 2.6612411357509225e-16\n",
      "309 -0.08429041091373732 8.397785247682144e-15\n",
      "310 -0.08759398291835387 7.246347262391771e-16\n",
      "311 -0.09148245436049815 3.596674839381173e-17\n",
      "312 -0.08859005832628215 3.422692103176809e-16\n",
      "313 -0.08740269621796036 8.472142537849777e-16\n",
      "314 -0.08786703669368834 5.985038054876455e-16\n",
      "315 -0.088475576180173 3.780759514592405e-16\n",
      "316 -0.09131782257514637 4.1835580795582616e-17\n",
      "317 -0.09447437822827512 3.347331489743633e-18\n",
      "318 -0.09400405347143093 4.9283690826275735e-18\n",
      "319 -0.09244755714101961 1.730604880906475e-17\n",
      "320 -0.09423778036569866 4.1135879920810336e-18\n",
      "321 -0.09276612612045068 1.3535898156524357e-17\n",
      "322 -0.08944466695364095 1.8481246711050497e-16\n",
      "323 -0.08730107881899576 9.509393162159324e-16\n",
      "324 -0.08692018893481915 1.270994174472075e-15\n",
      "325 -0.09242234212344116 1.8124101785298352e-17\n",
      "326 -0.09713365863432306 3.882220003706063e-19\n",
      "327 -0.09874919636929941 9.981539211045685e-20\n",
      "328 -0.09593265864023798 1.0640660357527538e-18\n",
      "329 -0.09483236079000294 2.6399757201699133e-18\n",
      "330 -0.09455735107217618 3.3189364976599227e-18\n",
      "331 -0.09883190955625956 9.489743767322596e-20\n",
      "332 -0.10130168179697041 1.1360554048511552e-20\n",
      "333 -0.0982951581476845 1.5112968063414975e-19\n",
      "334 -0.09969149817515643 4.6215152644677317e-20\n",
      "335 -0.09610505841122652 9.534980116374952e-19\n",
      "Cloud Cover Total\n",
      "0 -0.3867133267899966 1.91141062627056e-310\n",
      "1 -0.3865093728572165 4.6704738127238e-310\n",
      "2 -0.3857833774706311 9.082265424456295e-309\n",
      "3 -0.37962201108129423 3.1942006688296503e-298\n",
      "4 -0.3751922941758127 9.013522709702101e-291\n",
      "5 -0.36670243507934236 7.584983354213639e-277\n",
      "6 -0.35990629258973783 5.388549268355618e-266\n",
      "7 -0.3537017245115316 2.5721876228854636e-256\n",
      "8 -0.34869759365996755 1.1578518294228425e-248\n",
      "9 -0.3423399036060296 3.7857560950604985e-239\n",
      "10 -0.3365404522954085 1.1632814847650693e-230\n",
      "11 -0.3392804141451782 1.311540640047386e-234\n",
      "12 -0.3406326651089978 1.4734844403020235e-236\n",
      "13 -0.345946705957376 2.1599901949582337e-244\n",
      "14 -0.35133223831254623 1.7323158516839087e-252\n",
      "15 -0.3577133760563953 2.72024169365092e-262\n",
      "16 -0.36192505105464734 7.079856004751325e-269\n",
      "17 -0.3648150748239935 1.923484545075547e-273\n",
      "18 -0.36922331061507113 1.631990599983272e-280\n",
      "19 -0.3705967793722637 1.021039808734847e-282\n",
      "20 -0.3692842540545571 1.504754055507728e-280\n",
      "21 -0.37159886399782516 2.7270188403379376e-284\n",
      "22 -0.37525040527626374 2.8314149553061214e-290\n",
      "23 -0.3732428059537176 6.335578481597479e-287\n",
      "24 -0.3706301205529912 1.3037599945720496e-282\n",
      "25 -0.3701193322970813 9.538849184894172e-282\n",
      "26 -0.3665946569502604 5.155561864800007e-276\n",
      "27 -0.36482828679983037 3.744282171724048e-273\n",
      "28 -0.36571695628803025 1.5245940472240527e-274\n",
      "29 -0.3628406960052835 6.27388355959902e-270\n",
      "30 -0.3552415326097649 5.131419648426113e-258\n",
      "31 -0.3503876237483961 1.442214721171281e-250\n",
      "32 -0.3438630545874315 9.008721039144448e-241\n",
      "33 -0.3362421526843048 1.246598997643639e-229\n",
      "34 -0.3307060548242785 9.974432829751559e-222\n",
      "35 -0.33133104344262665 1.3901291013737783e-222\n",
      "36 -0.33358707889684813 9.359532381066435e-226\n",
      "37 -0.33520177788710753 4.9237922359793985e-228\n",
      "38 -0.342027163762341 6.656641423268466e-238\n",
      "39 -0.3470825960403948 2.2884593579930444e-245\n",
      "40 -0.3479427041344293 1.256742057015088e-246\n",
      "41 -0.3485374296157089 1.7151074955571325e-247\n",
      "42 -0.3502575914524368 4.6655180179833044e-250\n",
      "43 -0.3508919163842552 5.456923875024112e-251\n",
      "44 -0.3528764315243281 5.5825030016971945e-254\n",
      "45 -0.35570299800929794 2.7475367763695868e-258\n",
      "46 -0.35330195260658476 1.4278223517065631e-254\n",
      "47 -0.3510792908708136 3.691334992990067e-251\n",
      "48 -0.3508747606880612 8.048540156640126e-251\n",
      "49 -0.3482028191317263 9.155623938251816e-247\n",
      "50 -0.3437429696443159 4.209019404420692e-240\n",
      "51 -0.3415341300063251 7.886502838487527e-237\n",
      "52 -0.33899391627084996 4.198151931234937e-233\n",
      "53 -0.33279894086864614 3.3493239412828604e-224\n",
      "54 -0.3271459355384592 2.9558549361587826e-216\n",
      "55 -0.32134163583236264 2.8327681780798444e-208\n",
      "56 -0.31302770591648316 3.701080813439678e-197\n",
      "57 -0.3093597490395398 2.3531903877217337e-192\n",
      "58 -0.3051918899144361 5.531320416441645e-187\n",
      "59 -0.29972849306320387 4.400147521945617e-180\n",
      "60 -0.29998840616136 2.188079425412993e-180\n",
      "61 -0.3004186471786 6.664690285329475e-181\n",
      "62 -0.30648299531258694 1.5165918226774088e-188\n",
      "63 -0.31094413665170556 2.802445092871844e-194\n",
      "64 -0.313000049163293 6.080658684199145e-197\n",
      "65 -0.3122811720900951 5.594825643267304e-196\n",
      "66 -0.30993563904870003 6.654872211365113e-193\n",
      "67 -0.3122037360049744 7.827565790482509e-196\n",
      "68 -0.3153341301444301 6.307598517022243e-200\n",
      "69 -0.3147338687450276 4.127409453443749e-199\n",
      "70 -0.3148206256213079 3.3408770048704655e-199\n",
      "71 -0.3112767941003868 1.554629333102332e-194\n",
      "72 -0.31059459601408923 1.2605210567001402e-193\n",
      "73 -0.3105469810423738 1.5289793839175993e-193\n",
      "74 -0.31005523146681785 6.981219707830422e-193\n",
      "75 -0.3082200406830523 1.7136032881404367e-190\n",
      "76 -0.3077925293206363 6.378828480135896e-190\n",
      "77 -0.30311816090252236 5.888262617571998e-184\n",
      "78 -0.2966685267219855 6.48982928689511e-176\n",
      "79 -0.29051417041718763 1.9695004542174822e-168\n",
      "80 -0.2815633726859643 6.8604094223145096e-158\n",
      "81 -0.2766298353927885 3.084112905937519e-152\n",
      "82 -0.2722286107225491 2.723217375337847e-147\n",
      "83 -0.2702111495978763 4.788735669452e-145\n",
      "84 -0.2652086177193377 1.3781017045792084e-139\n",
      "85 -0.2660972663775898 1.5739113710267848e-140\n",
      "86 -0.2684868866036776 4.153504672646997e-143\n",
      "87 -0.2752874382593002 1.2738429848654747e-150\n",
      "88 -0.27938283509339823 3.039724587118518e-155\n",
      "89 -0.285084395370344 8.109079448381948e-162\n",
      "90 -0.2884800583907614 8.469340632111129e-166\n",
      "91 -0.28909653835342 1.639558777463484e-166\n",
      "92 -0.29165041235374306 1.5201775923382233e-169\n",
      "93 -0.29336730223518565 1.355088293762848e-171\n",
      "94 -0.29321693389667647 2.1543587741459105e-171\n",
      "95 -0.2912214049828229 5.682921068559184e-169\n",
      "96 -0.28923286247019564 1.4046999439011562e-166\n",
      "97 -0.28427464262917423 1.0027880832758859e-160\n",
      "98 -0.2831753683165013 1.9811923309615995e-159\n",
      "99 -0.2824404214378509 1.464886706045349e-158\n",
      "100 -0.281268502209753 3.426676810976911e-157\n",
      "101 -0.2804778228289194 2.887209893959303e-156\n",
      "102 -0.2753009960122348 2.2232277552362298e-150\n",
      "103 -0.2671678513607494 2.1264620203061195e-141\n",
      "104 -0.2646367741841071 1.1743692808217638e-138\n",
      "105 -0.2604768416460683 3.1686734719458037e-134\n",
      "106 -0.25851951440001286 3.679192305753673e-132\n",
      "107 -0.25602896949178133 1.455430136882941e-129\n",
      "108 -0.25736439060405647 6.264311410346527e-131\n",
      "109 -0.2622321023945232 5.124131172633889e-136\n",
      "110 -0.26495901980200504 6.597487006956891e-139\n",
      "111 -0.26688722955198424 5.753945442207791e-141\n",
      "112 -0.26581013794603814 8.654818342362646e-140\n",
      "113 -0.2675032815329049 1.3353191774257472e-141\n",
      "114 -0.26991072917918985 3.314186022518751e-144\n",
      "115 -0.27086256048907686 3.112209044659868e-145\n",
      "116 -0.27172483615556753 3.6352190801417615e-146\n",
      "117 -0.2713917235931855 8.795087035401928e-146\n",
      "118 -0.2712846329059715 1.198804993099933e-145\n",
      "119 -0.2718354048670928 3.080771510386541e-146\n",
      "120 -0.2721680198811054 1.3750195626233798e-146\n",
      "121 -0.27097720630365163 2.9280460758289184e-145\n",
      "122 -0.2702328409613229 1.9930569844244978e-144\n",
      "123 -0.27039955412009137 1.3596298934257517e-144\n",
      "124 -0.2689951746707986 4.828589905505993e-143\n",
      "125 -0.26980060321707944 6.632559059554366e-144\n",
      "126 -0.26949745445816675 1.4759673465418434e-143\n",
      "127 -0.26480766522605087 1.779801058548855e-138\n",
      "128 -0.25829663615870757 1.3440763817252347e-131\n",
      "129 -0.2541076114785501 2.8514973249116097e-127\n",
      "130 -0.25354965745165664 1.0908640169918406e-126\n",
      "131 -0.2551931891526039 2.3697828947668715e-128\n",
      "132 -0.25614604072577885 2.5779689368200798e-129\n",
      "133 -0.2564899431195604 1.1804692907856489e-129\n",
      "134 -0.2583226179354538 1.5543815129299247e-131\n",
      "135 -0.2632031830534154 1.2152601426563254e-136\n",
      "136 -0.26736474937286625 4.432194648935527e-141\n",
      "137 -0.2725856941789112 9.164417277798005e-147\n",
      "138 -0.27932609740934344 2.6971500204207822e-154\n",
      "139 -0.2801219973654231 3.4933542297711906e-155\n",
      "140 -0.2842591810063567 6.412306995762706e-160\n",
      "141 -0.2834841849999247 5.272109376266331e-159\n",
      "142 -0.2799373218427541 6.4093463446641455e-155\n",
      "143 -0.27860538107610977 2.168040384400616e-153\n",
      "144 -0.27744683405635906 4.5855835973252715e-152\n",
      "145 -0.275916249288888 2.4923277810031314e-150\n",
      "146 -0.27129299559245124 3.428218034066299e-145\n",
      "147 -0.26493173321927455 2.7180051820756676e-138\n",
      "148 -0.26531110599703756 1.1089927152096578e-138\n",
      "149 -0.2606723086948619 9.303462958280856e-134\n",
      "150 -0.26023496860804307 2.7637312806657864e-133\n",
      "151 -0.2592929487092952 2.7491451433716738e-132\n",
      "152 -0.2569837770791842 7.001002995157927e-130\n",
      "153 -0.2529759097324193 8.942183630556318e-126\n",
      "154 -0.25311773176153995 6.642218166367228e-126\n",
      "155 -0.2520750337426603 7.75578789198122e-125\n",
      "156 -0.24878211787712706 1.5719192051489345e-121\n",
      "157 -0.2502605516337141 5.473866773988477e-123\n",
      "158 -0.2540031406382789 9.600420407370105e-127\n",
      "159 -0.2561508377543373 6.381335730517636e-129\n",
      "160 -0.2630945807282542 3.8892708047769035e-136\n",
      "161 -0.2668965805857421 3.5764708381748173e-140\n",
      "162 -0.26887189885446705 2.7426197376308608e-142\n",
      "163 -0.2681334234439817 1.7919374260415646e-141\n",
      "164 -0.26876362264374193 3.873255010199528e-142\n",
      "165 -0.2662660139389632 1.9682445720998304e-139\n",
      "166 -0.2672385748595418 1.8461616181460656e-140\n",
      "167 -0.26796371583347045 3.172243256964837e-141\n",
      "168 -0.26808959759876116 2.4085614868823665e-141\n",
      "169 -0.2664257485550715 1.5380738644932917e-139\n",
      "170 -0.26270872246527976 1.4222074177269152e-135\n",
      "171 -0.2575695723072832 3.3469686828637364e-130\n",
      "172 -0.2542987151317345 7.68128956122756e-127\n",
      "173 -0.2501809139995319 1.103586211279724e-122\n",
      "174 -0.24928117754723295 8.949312454380831e-122\n",
      "175 -0.24610959828158277 1.2331277081590882e-118\n",
      "176 -0.24335357383242345 6.074700913287231e-116\n",
      "177 -0.23997011756590825 1.0939400622598475e-112\n",
      "178 -0.2365566526557717 1.8666970915278532e-109\n",
      "179 -0.23643266535366436 2.509297759749278e-109\n",
      "180 -0.24010979189261358 8.808775349902666e-113\n",
      "181 -0.2441711030416986 1.1462212803603434e-116\n",
      "182 -0.24871655720498675 4.194322295890904e-121\n",
      "183 -0.25947136747385197 5.47718468846954e-132\n",
      "184 -0.2641847673542681 6.491298578987567e-137\n",
      "185 -0.2649445184118018 1.0522590636842394e-137\n",
      "186 -0.2653603483069742 3.9424497436138965e-138\n",
      "187 -0.2666236242651346 1.834732492142804e-139\n",
      "188 -0.26939121378118813 1.9990839846651504e-142\n",
      "189 -0.26733486957276575 3.416637561118324e-140\n",
      "190 -0.26727076041576575 4.154339447036643e-140\n",
      "191 -0.27194276035508297 3.7433021751272484e-145\n",
      "192 -0.2695731857443979 1.4769408198751785e-142\n",
      "193 -0.26717120570627484 5.937254428894025e-140\n",
      "194 -0.26438897157221286 5.669636980521377e-137\n",
      "195 -0.2625092899521111 5.640767208794239e-135\n",
      "196 -0.26192743414412645 2.382596629277687e-134\n",
      "197 -0.25999558841375175 2.553117436338021e-132\n",
      "198 -0.25614899168497685 2.412735919631314e-128\n",
      "199 -0.2538839973987411 4.983262159139094e-126\n",
      "200 -0.25016168817267637 2.7640422876615873e-122\n",
      "201 -0.24506227916570433 2.90715656201506e-117\n",
      "202 -0.2411197760082882 1.857088616804419e-113\n",
      "203 -0.24029833097788428 1.1565532330300507e-112\n",
      "204 -0.24279349545965612 4.942145496535678e-115\n",
      "205 -0.2462689414122625 2.2049661437410834e-118\n",
      "206 -0.2512383064738146 2.846710690023621e-123\n",
      "207 -0.2585797405970801 1.0550177678747827e-130\n",
      "208 -0.2642793147645611 1.230561620803876e-136\n",
      "209 -0.26756441882308635 4.07629281825273e-140\n",
      "210 -0.2685160962302272 4.0235189773799855e-141\n",
      "211 -0.26952804337342945 3.38762293926458e-142\n",
      "212 -0.26920781315168973 7.798495518214658e-142\n",
      "213 -0.27097944573117694 9.773146126214076e-144\n",
      "214 -0.26836643041034636 6.77023233395183e-141\n",
      "215 -0.26720560869016335 1.2335153117844027e-139\n",
      "216 -0.26765633613447026 4.216133091244454e-140\n",
      "217 -0.26626654169975317 1.3340677861977754e-138\n",
      "218 -0.26435072674148924 1.4866051802000946e-136\n",
      "219 -0.26329569338224235 1.991217275500833e-135\n",
      "220 -0.259283462549859 3.115704272763565e-131\n",
      "221 -0.25378437230202333 1.3084427796656936e-125\n",
      "222 -0.2510736449503473 7.001583627641774e-123\n",
      "223 -0.2484102432704392 3.115673304176907e-120\n",
      "224 -0.24758586322570778 2.0712377257032638e-119\n",
      "225 -0.24498717753430863 7.236553605818342e-117\n",
      "226 -0.24449631107286213 2.2252466449171729e-116\n",
      "227 -0.24456388790478079 1.9749324274053467e-116\n",
      "228 -0.24551474332361156 2.4491134274463538e-117\n",
      "229 -0.2474963389314606 2.9691992447932615e-119\n",
      "230 -0.2536701592085898 2.3014351786074154e-125\n",
      "231 -0.2595934917911399 2.1887356830788e-131\n",
      "232 -0.26091800197562365 9.639046832075475e-133\n",
      "233 -0.26005796880379983 7.773375713999053e-132\n",
      "234 -0.2631773947215204 4.5453767928474836e-135\n",
      "235 -0.2644474259037862 2.178426056856737e-136\n",
      "236 -0.262733698931648 1.423673053525443e-134\n",
      "237 -0.2630478766346751 6.920016812779157e-135\n",
      "238 -0.2615795760272638 2.4467121975866975e-133\n",
      "239 -0.262222787869902 5.417318800437517e-134\n",
      "240 -0.26264727249046826 2.0229929403630616e-134\n",
      "241 -0.2648268401070111 1.078371217073542e-136\n",
      "242 -0.26608334235091646 5.2410326860041273e-138\n",
      "243 -0.264463459979496 2.8015736919447733e-136\n",
      "244 -0.2627022184042225 2.0453557673944884e-134\n",
      "245 -0.26022566867394115 7.945255274136789e-132\n",
      "246 -0.2572829203213478 8.652415720584355e-129\n",
      "247 -0.24979036128082066 2.9437587651802622e-121\n",
      "248 -0.24772025364647254 3.2751619308069926e-119\n",
      "249 -0.24349553602852267 4.140718662758771e-115\n",
      "250 -0.2429506146994867 1.4185927007669338e-114\n",
      "251 -0.24321977704331985 8.085415820736207e-115\n",
      "252 -0.24376089262589046 2.52702634697261e-115\n",
      "253 -0.24871506532910542 4.0777553184478954e-120\n",
      "254 -0.2516819102215493 4.950007301221812e-123\n",
      "255 -0.2554052416820055 9.481250058105598e-127\n",
      "256 -0.25869457610315594 4.3966956220328014e-130\n",
      "257 -0.25999392437744717 2.099949723637701e-131\n",
      "258 -0.26004876747498606 1.9093330676292148e-131\n",
      "259 -0.26368928907283284 3.2521087655719656e-135\n",
      "260 -0.2634082213867819 6.638827348582858e-135\n",
      "261 -0.26528377388991764 7.372626676394941e-137\n",
      "262 -0.2697189629921132 1.4497361459827162e-141\n",
      "263 -0.2767732200857902 3.028715551353628e-149\n",
      "264 -0.278690076019041 2.3312644186948883e-151\n",
      "265 -0.2781237861866344 1.0385674310082814e-150\n",
      "266 -0.2771415497868446 1.3341331857013467e-149\n",
      "267 -0.2755234491665621 8.516824272103312e-148\n",
      "268 -0.27461514625297967 8.82080141436037e-147\n",
      "269 -0.27227243451940797 3.3025516856264524e-144\n",
      "270 -0.26764266491858624 3.254574191858027e-139\n",
      "271 -0.26012049606165233 2.541004198400694e-131\n",
      "272 -0.25273151497615337 8.07559465594177e-124\n",
      "273 -0.2490588349451408 3.560785441469256e-120\n",
      "274 -0.2483703493445155 1.7346292582980095e-119\n",
      "275 -0.2459386188484645 4.126470191479465e-117\n",
      "276 -0.2462782633924294 1.9988749898109325e-117\n",
      "277 -0.2514223147487251 1.9021154055613012e-122\n",
      "278 -0.2587280938155205 8.715898032815935e-130\n",
      "279 -0.2662655082482365 1.3118379780406739e-137\n",
      "280 -0.27166037664296405 2.322382482011125e-143\n",
      "281 -0.2749581930551002 6.183854023717223e-147\n",
      "282 -0.2783021531011198 1.305547714992264e-150\n",
      "283 -0.28039705035886475 6.220351566955338e-153\n",
      "284 -0.27922540217609737 1.3256992264475094e-151\n",
      "285 -0.281896452426446 1.3891949974310554e-154\n",
      "286 -0.28256382714887684 2.55122954025336e-155\n",
      "287 -0.2850885280897051 3.5792735968806533e-158\n",
      "288 -0.28363250394510786 1.703935701487884e-156\n",
      "289 -0.2825126147513757 3.3032962320613647e-155\n",
      "290 -0.2802402446255886 1.242056348094188e-152\n",
      "291 -0.2770397554840539 4.700974427319915e-149\n",
      "292 -0.2763160687667745 3.0753889811508863e-148\n",
      "293 -0.2698891162913255 3.077669812389271e-141\n",
      "294 -0.26388270962765925 7.225884216081921e-135\n",
      "295 -0.25872915252631934 1.568321930155325e-129\n",
      "296 -0.25761961531402433 2.1890924899097426e-128\n",
      "297 -0.25579771407778173 1.577992153544637e-126\n",
      "298 -0.2517296068970361 1.8783995159874405e-122\n",
      "299 -0.24793108690443477 1.030365371412777e-118\n",
      "300 -0.2512633015189287 5.793457014180722e-122\n",
      "301 -0.259535163636026 2.898516179756295e-130\n",
      "302 -0.2660401408521579 5.286566637842834e-137\n",
      "303 -0.27350170137243357 5.695956456084701e-145\n",
      "304 -0.2824758762558678 6.787776590315222e-155\n",
      "305 -0.28983039966343405 2.6522314092863542e-163\n",
      "306 -0.296776810649355 1.7773253608188506e-171\n",
      "307 -0.30269713944678345 1.274437653072521e-178\n",
      "308 -0.30713647585135245 4.3969063544079013e-184\n",
      "309 -0.30447604423506425 9.156818203532754e-181\n",
      "310 -0.3001316759637412 1.9599885671641977e-175\n",
      "311 -0.29934090181465534 1.858953749129258e-174\n",
      "312 -0.30091138860780464 2.43976019254043e-176\n",
      "313 -0.29737517530661506 4.722342810700997e-172\n",
      "314 -0.2964136848333133 6.977900202609281e-171\n",
      "315 -0.29366661367506364 1.3274295215495798e-167\n",
      "316 -0.2898500222529993 4.0801781476871326e-163\n",
      "317 -0.28286406072212766 4.2562503808948816e-155\n",
      "318 -0.2759751930162253 2.0465560956771204e-147\n",
      "319 -0.27138594327459054 2.0485922966478307e-142\n",
      "320 -0.26752194166814725 2.808531186279145e-138\n",
      "321 -0.26552786017969976 3.665838667498354e-136\n",
      "322 -0.2656009631725523 3.1873814988692553e-136\n",
      "323 -0.26790528247275985 1.2340742315688109e-138\n",
      "324 -0.26959529672009996 2.0496111685637793e-140\n",
      "325 -0.2754950585809908 9.060154839711785e-147\n",
      "326 -0.28085567273586065 1.1148354526204425e-152\n",
      "327 -0.2878148851795055 1.485328595361391e-160\n",
      "328 -0.2958100459383102 6.947633308774689e-170\n",
      "329 -0.30411432268846045 6.750530953974625e-180\n",
      "330 -0.3102096890720631 1.8832287154403286e-187\n",
      "331 -0.31391300443608094 4.035839773535101e-192\n",
      "332 -0.31286540076721897 9.16592485560228e-191\n",
      "333 -0.3103585719916927 1.4244606122244365e-187\n",
      "334 -0.30886891511281445 1.106680234508747e-185\n",
      "335 -0.30453023690845826 2.786599978821767e-180\n"
     ]
    }
   ],
   "source": [
    "from scipy.stats import pearsonr\n",
    "\n",
    "lag_range = range(24*7*2)\n",
    "# lag_range = range(30)\n",
    "factor_lag_corr = []\n",
    "# for factor in factors[4:5]:\n",
    "for factor in factors[:]:\n",
    "    print(factor)\n",
    "    lag_corr = []\n",
    "    for lag in lag_range:\n",
    "        # print(factor,lag)\n",
    "        meteo_data_dhaka_factor_lag = meteo_data_dhaka[factor].shift(lag).dropna()\n",
    "        # meteo_data_dhaka_factor_lag = meteo_data_dhaka_daily[factor].shift(lag).dropna()\n",
    "        # print(meteo_data_dhaka_factor_lag)\n",
    "        # corr = pm_data_dhaka.corr(meteo_data_dhaka_factor_lag)\n",
    "        # corr, p_value = pearsonr(pm_data_dhaka.fillna(0), meteo_data_dhaka_factor_lag.fillna(0))\n",
    "        corr, p_value = pearsonr(pm_data_dhaka.loc[meteo_data_dhaka_factor_lag.index].fillna(0), meteo_data_dhaka_factor_lag.fillna(0))\n",
    "        # corr, p_value = pearsonr(pm_data_dhaka_daily.fillna(0), meteo_data_dhaka_factor_lag.fillna(0))\n",
    "        # corr, p_value = pearsonr(pm_data_dhaka_daily.loc[meteo_data_dhaka_factor_lag.index], meteo_data_dhaka_factor_lag)\n",
    "\n",
    "        # corr, p_value = pearsonr(pm_data_dhaka.fillna(0)['2021'], meteo_data_dhaka_factor_lag.fillna(0)['2021'])\n",
    "        # corr, p_value = pearsonr(pm_data_dhaka.fillna(0)['2021-01'], meteo_data_dhaka_factor_lag.fillna(0)['2021-01'])\n",
    "        print(lag,corr,p_value)\n",
    "        lag_corr.append(corr)\n",
    "    factor_lag_corr.append(lag_corr)"
   ],
   "metadata": {
    "collapsed": false,
    "ExecuteTime": {
     "start_time": "2024-11-24T02:37:14.554598Z",
     "end_time": "2024-11-24T02:37:18.970157Z"
    }
   }
  },
  {
   "cell_type": "code",
   "execution_count": 143,
   "outputs": [
    {
     "data": {
      "text/plain": "     Temperature [2 m elevation corrected]  Longwave Radiation  \\\n0                                -0.639300           -0.741206   \n1                                -0.611082           -0.731452   \n2                                -0.583602           -0.721458   \n3                                -0.559313           -0.712508   \n4                                -0.538244           -0.706159   \n..                                     ...                 ...   \n331                              -0.650839           -0.694423   \n332                              -0.653455           -0.693850   \n333                              -0.651547           -0.691367   \n334                              -0.640978           -0.686992   \n335                              -0.624235           -0.679366   \n\n     Relative Humidity [2 m]  Mean Sea Level Pressure [MSL]  \\\n0                  -0.110324                       0.621239   \n1                  -0.151339                       0.617604   \n2                  -0.191870                       0.618231   \n3                  -0.230216                       0.622289   \n4                  -0.263066                       0.628760   \n..                       ...                            ...   \n331                -0.016727                       0.641209   \n332                -0.007952                       0.635711   \n333                -0.005777                       0.628266   \n334                -0.017271                       0.619756   \n335                -0.039665                       0.612725   \n\n     Wind Speed [10 m]  Wind Gust  Precipitation Total  Cloud Cover Total  \n0            -0.295196  -0.396955            -0.149998          -0.386713  \n1            -0.294259  -0.380627            -0.148790          -0.386509  \n2            -0.293896  -0.361034            -0.148117          -0.385783  \n3            -0.294485  -0.344068            -0.146188          -0.379622  \n4            -0.296006  -0.327806            -0.144528          -0.375192  \n..                 ...        ...                  ...                ...  \n331          -0.263182  -0.352017            -0.098832          -0.313913  \n332          -0.263436  -0.363713            -0.101302          -0.312865  \n333          -0.263347  -0.369558            -0.098295          -0.310359  \n334          -0.265793  -0.366202            -0.099691          -0.308869  \n335          -0.261681  -0.358748            -0.096105          -0.304530  \n\n[336 rows x 8 columns]",
      "text/html": "<div>\n<style scoped>\n    .dataframe tbody tr th:only-of-type {\n        vertical-align: middle;\n    }\n\n    .dataframe tbody tr th {\n        vertical-align: top;\n    }\n\n    .dataframe thead th {\n        text-align: right;\n    }\n</style>\n<table border=\"1\" class=\"dataframe\">\n  <thead>\n    <tr style=\"text-align: right;\">\n      <th></th>\n      <th>Temperature [2 m elevation corrected]</th>\n      <th>Longwave Radiation</th>\n      <th>Relative Humidity [2 m]</th>\n      <th>Mean Sea Level Pressure [MSL]</th>\n      <th>Wind Speed [10 m]</th>\n      <th>Wind Gust</th>\n      <th>Precipitation Total</th>\n      <th>Cloud Cover Total</th>\n    </tr>\n  </thead>\n  <tbody>\n    <tr>\n      <th>0</th>\n      <td>-0.639300</td>\n      <td>-0.741206</td>\n      <td>-0.110324</td>\n      <td>0.621239</td>\n      <td>-0.295196</td>\n      <td>-0.396955</td>\n      <td>-0.149998</td>\n      <td>-0.386713</td>\n    </tr>\n    <tr>\n      <th>1</th>\n      <td>-0.611082</td>\n      <td>-0.731452</td>\n      <td>-0.151339</td>\n      <td>0.617604</td>\n      <td>-0.294259</td>\n      <td>-0.380627</td>\n      <td>-0.148790</td>\n      <td>-0.386509</td>\n    </tr>\n    <tr>\n      <th>2</th>\n      <td>-0.583602</td>\n      <td>-0.721458</td>\n      <td>-0.191870</td>\n      <td>0.618231</td>\n      <td>-0.293896</td>\n      <td>-0.361034</td>\n      <td>-0.148117</td>\n      <td>-0.385783</td>\n    </tr>\n    <tr>\n      <th>3</th>\n      <td>-0.559313</td>\n      <td>-0.712508</td>\n      <td>-0.230216</td>\n      <td>0.622289</td>\n      <td>-0.294485</td>\n      <td>-0.344068</td>\n      <td>-0.146188</td>\n      <td>-0.379622</td>\n    </tr>\n    <tr>\n      <th>4</th>\n      <td>-0.538244</td>\n      <td>-0.706159</td>\n      <td>-0.263066</td>\n      <td>0.628760</td>\n      <td>-0.296006</td>\n      <td>-0.327806</td>\n      <td>-0.144528</td>\n      <td>-0.375192</td>\n    </tr>\n    <tr>\n      <th>...</th>\n      <td>...</td>\n      <td>...</td>\n      <td>...</td>\n      <td>...</td>\n      <td>...</td>\n      <td>...</td>\n      <td>...</td>\n      <td>...</td>\n    </tr>\n    <tr>\n      <th>331</th>\n      <td>-0.650839</td>\n      <td>-0.694423</td>\n      <td>-0.016727</td>\n      <td>0.641209</td>\n      <td>-0.263182</td>\n      <td>-0.352017</td>\n      <td>-0.098832</td>\n      <td>-0.313913</td>\n    </tr>\n    <tr>\n      <th>332</th>\n      <td>-0.653455</td>\n      <td>-0.693850</td>\n      <td>-0.007952</td>\n      <td>0.635711</td>\n      <td>-0.263436</td>\n      <td>-0.363713</td>\n      <td>-0.101302</td>\n      <td>-0.312865</td>\n    </tr>\n    <tr>\n      <th>333</th>\n      <td>-0.651547</td>\n      <td>-0.691367</td>\n      <td>-0.005777</td>\n      <td>0.628266</td>\n      <td>-0.263347</td>\n      <td>-0.369558</td>\n      <td>-0.098295</td>\n      <td>-0.310359</td>\n    </tr>\n    <tr>\n      <th>334</th>\n      <td>-0.640978</td>\n      <td>-0.686992</td>\n      <td>-0.017271</td>\n      <td>0.619756</td>\n      <td>-0.265793</td>\n      <td>-0.366202</td>\n      <td>-0.099691</td>\n      <td>-0.308869</td>\n    </tr>\n    <tr>\n      <th>335</th>\n      <td>-0.624235</td>\n      <td>-0.679366</td>\n      <td>-0.039665</td>\n      <td>0.612725</td>\n      <td>-0.261681</td>\n      <td>-0.358748</td>\n      <td>-0.096105</td>\n      <td>-0.304530</td>\n    </tr>\n  </tbody>\n</table>\n<p>336 rows × 8 columns</p>\n</div>"
     },
     "execution_count": 143,
     "metadata": {},
     "output_type": "execute_result"
    }
   ],
   "source": [
    "factor_lag_corr_df = pd.DataFrame(factor_lag_corr,columns=lag_range,index=factors).T\n",
    "factor_lag_corr_df"
   ],
   "metadata": {
    "collapsed": false,
    "ExecuteTime": {
     "start_time": "2024-11-24T02:37:18.988544Z",
     "end_time": "2024-11-24T02:37:19.019774Z"
    }
   }
  },
  {
   "cell_type": "code",
   "execution_count": 145,
   "outputs": [
    {
     "data": {
      "text/plain": "Temperature [2 m elevation corrected]    68\nLongwave Radiation                       20\nRelative Humidity [2 m]                   7\nMean Sea Level Pressure [MSL]            66\nWind Speed [10 m]                        11\nWind Gust                                 0\nPrecipitation Total                      18\nCloud Cover Total                         0\ndtype: int64"
     },
     "execution_count": 145,
     "metadata": {},
     "output_type": "execute_result"
    }
   ],
   "source": [
    "best_lag =factor_lag_corr_df.abs().idxmax()\n",
    "best_lag\n"
   ],
   "metadata": {
    "collapsed": false,
    "ExecuteTime": {
     "start_time": "2024-11-24T02:37:23.031997Z",
     "end_time": "2024-11-24T02:37:23.079116Z"
    }
   }
  },
  {
   "cell_type": "code",
   "execution_count": 144,
   "outputs": [
    {
     "data": {
      "text/plain": "array([-0.70764906, -0.77197621, -0.30344702,  0.67764987, -0.31756472,\n       -0.39695506, -0.15098869, -0.38671333])"
     },
     "execution_count": 144,
     "metadata": {},
     "output_type": "execute_result"
    }
   ],
   "source": [
    "best_lag_value = factor_lag_corr_df.lookup(best_lag, best_lag.index)\n",
    "best_lag_value"
   ],
   "metadata": {
    "collapsed": false,
    "ExecuteTime": {
     "start_time": "2024-11-24T02:37:20.006516Z",
     "end_time": "2024-11-24T02:37:20.022970Z"
    }
   }
  },
  {
   "cell_type": "code",
   "execution_count": 167,
   "outputs": [
    {
     "data": {
      "application/vnd.plotly.v1+json": {
       "config": {
        "plotlyServerURL": "https://plot.ly"
       },
       "data": [
        {
         "marker": {
          "color": "#A9A9A9",
          "line": {
           "color": "dimgrey",
           "width": 2
          }
         },
         "name": "MeteoBlue",
         "orientation": "h",
         "text": [
          "68",
          "7",
          "66",
          "11",
          "20",
          "0",
          "18",
          "0"
         ],
         "textposition": "outside",
         "type": "bar",
         "x": [
          68,
          7,
          66,
          11,
          20,
          0,
          18,
          0
         ],
         "y": [
          "Temperature",
          "Humidity",
          "Pressure",
          "Wind Speed",
          "Longwave Radiation",
          "Wind Gust",
          "Precipitation Total",
          "Cloud Cover Total"
         ]
        },
        {
         "marker": {
          "color": "lightgrey",
          "line": {
           "color": "dimgrey",
           "width": 2
          }
         },
         "name": "Wunderground",
         "orientation": "h",
         "text": [
          "43",
          "5",
          "66",
          "20",
          "",
          "",
          "",
          ""
         ],
         "textposition": "outside",
         "type": "bar",
         "x": [
          43,
          5,
          66,
          20,
          null,
          null,
          null,
          null
         ],
         "y": [
          "Temperature",
          "Humidity",
          "Pressure",
          "Wind Speed",
          "Longwave Radiation",
          "Wind Gust",
          "Precipitation Total",
          "Cloud Cover Total"
         ]
        }
       ],
       "layout": {
        "bargap": 0.2,
        "barmode": "group",
        "font": {
         "size": 18
        },
        "height": 600,
        "legend": {
         "orientation": "h"
        },
        "margin": {
         "b": 50,
         "l": 200,
         "r": 50,
         "t": 50
        },
        "shapes": [
         {
          "line": {
           "color": "lightgray",
           "dash": "dash",
           "width": 1
          },
          "type": "line",
          "x0": -5,
          "x1": 80,
          "y0": 3.5,
          "y1": 3.5
         }
        ],
        "template": {
         "data": {
          "bar": [
           {
            "error_x": {
             "color": "#2a3f5f"
            },
            "error_y": {
             "color": "#2a3f5f"
            },
            "marker": {
             "line": {
              "color": "white",
              "width": 0.5
             }
            },
            "type": "bar"
           }
          ],
          "barpolar": [
           {
            "marker": {
             "line": {
              "color": "white",
              "width": 0.5
             }
            },
            "type": "barpolar"
           }
          ],
          "carpet": [
           {
            "aaxis": {
             "endlinecolor": "#2a3f5f",
             "gridcolor": "#C8D4E3",
             "linecolor": "#C8D4E3",
             "minorgridcolor": "#C8D4E3",
             "startlinecolor": "#2a3f5f"
            },
            "baxis": {
             "endlinecolor": "#2a3f5f",
             "gridcolor": "#C8D4E3",
             "linecolor": "#C8D4E3",
             "minorgridcolor": "#C8D4E3",
             "startlinecolor": "#2a3f5f"
            },
            "type": "carpet"
           }
          ],
          "choropleth": [
           {
            "colorbar": {
             "outlinewidth": 0,
             "ticks": ""
            },
            "type": "choropleth"
           }
          ],
          "contour": [
           {
            "colorbar": {
             "outlinewidth": 0,
             "ticks": ""
            },
            "colorscale": [
             [
              0.0,
              "#0d0887"
             ],
             [
              0.1111111111111111,
              "#46039f"
             ],
             [
              0.2222222222222222,
              "#7201a8"
             ],
             [
              0.3333333333333333,
              "#9c179e"
             ],
             [
              0.4444444444444444,
              "#bd3786"
             ],
             [
              0.5555555555555556,
              "#d8576b"
             ],
             [
              0.6666666666666666,
              "#ed7953"
             ],
             [
              0.7777777777777778,
              "#fb9f3a"
             ],
             [
              0.8888888888888888,
              "#fdca26"
             ],
             [
              1.0,
              "#f0f921"
             ]
            ],
            "type": "contour"
           }
          ],
          "contourcarpet": [
           {
            "colorbar": {
             "outlinewidth": 0,
             "ticks": ""
            },
            "type": "contourcarpet"
           }
          ],
          "heatmap": [
           {
            "colorbar": {
             "outlinewidth": 0,
             "ticks": ""
            },
            "colorscale": [
             [
              0.0,
              "#0d0887"
             ],
             [
              0.1111111111111111,
              "#46039f"
             ],
             [
              0.2222222222222222,
              "#7201a8"
             ],
             [
              0.3333333333333333,
              "#9c179e"
             ],
             [
              0.4444444444444444,
              "#bd3786"
             ],
             [
              0.5555555555555556,
              "#d8576b"
             ],
             [
              0.6666666666666666,
              "#ed7953"
             ],
             [
              0.7777777777777778,
              "#fb9f3a"
             ],
             [
              0.8888888888888888,
              "#fdca26"
             ],
             [
              1.0,
              "#f0f921"
             ]
            ],
            "type": "heatmap"
           }
          ],
          "heatmapgl": [
           {
            "colorbar": {
             "outlinewidth": 0,
             "ticks": ""
            },
            "colorscale": [
             [
              0.0,
              "#0d0887"
             ],
             [
              0.1111111111111111,
              "#46039f"
             ],
             [
              0.2222222222222222,
              "#7201a8"
             ],
             [
              0.3333333333333333,
              "#9c179e"
             ],
             [
              0.4444444444444444,
              "#bd3786"
             ],
             [
              0.5555555555555556,
              "#d8576b"
             ],
             [
              0.6666666666666666,
              "#ed7953"
             ],
             [
              0.7777777777777778,
              "#fb9f3a"
             ],
             [
              0.8888888888888888,
              "#fdca26"
             ],
             [
              1.0,
              "#f0f921"
             ]
            ],
            "type": "heatmapgl"
           }
          ],
          "histogram": [
           {
            "marker": {
             "colorbar": {
              "outlinewidth": 0,
              "ticks": ""
             }
            },
            "type": "histogram"
           }
          ],
          "histogram2d": [
           {
            "colorbar": {
             "outlinewidth": 0,
             "ticks": ""
            },
            "colorscale": [
             [
              0.0,
              "#0d0887"
             ],
             [
              0.1111111111111111,
              "#46039f"
             ],
             [
              0.2222222222222222,
              "#7201a8"
             ],
             [
              0.3333333333333333,
              "#9c179e"
             ],
             [
              0.4444444444444444,
              "#bd3786"
             ],
             [
              0.5555555555555556,
              "#d8576b"
             ],
             [
              0.6666666666666666,
              "#ed7953"
             ],
             [
              0.7777777777777778,
              "#fb9f3a"
             ],
             [
              0.8888888888888888,
              "#fdca26"
             ],
             [
              1.0,
              "#f0f921"
             ]
            ],
            "type": "histogram2d"
           }
          ],
          "histogram2dcontour": [
           {
            "colorbar": {
             "outlinewidth": 0,
             "ticks": ""
            },
            "colorscale": [
             [
              0.0,
              "#0d0887"
             ],
             [
              0.1111111111111111,
              "#46039f"
             ],
             [
              0.2222222222222222,
              "#7201a8"
             ],
             [
              0.3333333333333333,
              "#9c179e"
             ],
             [
              0.4444444444444444,
              "#bd3786"
             ],
             [
              0.5555555555555556,
              "#d8576b"
             ],
             [
              0.6666666666666666,
              "#ed7953"
             ],
             [
              0.7777777777777778,
              "#fb9f3a"
             ],
             [
              0.8888888888888888,
              "#fdca26"
             ],
             [
              1.0,
              "#f0f921"
             ]
            ],
            "type": "histogram2dcontour"
           }
          ],
          "mesh3d": [
           {
            "colorbar": {
             "outlinewidth": 0,
             "ticks": ""
            },
            "type": "mesh3d"
           }
          ],
          "parcoords": [
           {
            "line": {
             "colorbar": {
              "outlinewidth": 0,
              "ticks": ""
             }
            },
            "type": "parcoords"
           }
          ],
          "pie": [
           {
            "automargin": true,
            "type": "pie"
           }
          ],
          "scatter": [
           {
            "marker": {
             "colorbar": {
              "outlinewidth": 0,
              "ticks": ""
             }
            },
            "type": "scatter"
           }
          ],
          "scatter3d": [
           {
            "line": {
             "colorbar": {
              "outlinewidth": 0,
              "ticks": ""
             }
            },
            "marker": {
             "colorbar": {
              "outlinewidth": 0,
              "ticks": ""
             }
            },
            "type": "scatter3d"
           }
          ],
          "scattercarpet": [
           {
            "marker": {
             "colorbar": {
              "outlinewidth": 0,
              "ticks": ""
             }
            },
            "type": "scattercarpet"
           }
          ],
          "scattergeo": [
           {
            "marker": {
             "colorbar": {
              "outlinewidth": 0,
              "ticks": ""
             }
            },
            "type": "scattergeo"
           }
          ],
          "scattergl": [
           {
            "marker": {
             "colorbar": {
              "outlinewidth": 0,
              "ticks": ""
             }
            },
            "type": "scattergl"
           }
          ],
          "scattermapbox": [
           {
            "marker": {
             "colorbar": {
              "outlinewidth": 0,
              "ticks": ""
             }
            },
            "type": "scattermapbox"
           }
          ],
          "scatterpolar": [
           {
            "marker": {
             "colorbar": {
              "outlinewidth": 0,
              "ticks": ""
             }
            },
            "type": "scatterpolar"
           }
          ],
          "scatterpolargl": [
           {
            "marker": {
             "colorbar": {
              "outlinewidth": 0,
              "ticks": ""
             }
            },
            "type": "scatterpolargl"
           }
          ],
          "scatterternary": [
           {
            "marker": {
             "colorbar": {
              "outlinewidth": 0,
              "ticks": ""
             }
            },
            "type": "scatterternary"
           }
          ],
          "surface": [
           {
            "colorbar": {
             "outlinewidth": 0,
             "ticks": ""
            },
            "colorscale": [
             [
              0.0,
              "#0d0887"
             ],
             [
              0.1111111111111111,
              "#46039f"
             ],
             [
              0.2222222222222222,
              "#7201a8"
             ],
             [
              0.3333333333333333,
              "#9c179e"
             ],
             [
              0.4444444444444444,
              "#bd3786"
             ],
             [
              0.5555555555555556,
              "#d8576b"
             ],
             [
              0.6666666666666666,
              "#ed7953"
             ],
             [
              0.7777777777777778,
              "#fb9f3a"
             ],
             [
              0.8888888888888888,
              "#fdca26"
             ],
             [
              1.0,
              "#f0f921"
             ]
            ],
            "type": "surface"
           }
          ],
          "table": [
           {
            "cells": {
             "fill": {
              "color": "#EBF0F8"
             },
             "line": {
              "color": "white"
             }
            },
            "header": {
             "fill": {
              "color": "#C8D4E3"
             },
             "line": {
              "color": "white"
             }
            },
            "type": "table"
           }
          ]
         },
         "layout": {
          "annotationdefaults": {
           "arrowcolor": "#2a3f5f",
           "arrowhead": 0,
           "arrowwidth": 1
          },
          "coloraxis": {
           "colorbar": {
            "outlinewidth": 0,
            "ticks": ""
           }
          },
          "colorscale": {
           "diverging": [
            [
             0,
             "#8e0152"
            ],
            [
             0.1,
             "#c51b7d"
            ],
            [
             0.2,
             "#de77ae"
            ],
            [
             0.3,
             "#f1b6da"
            ],
            [
             0.4,
             "#fde0ef"
            ],
            [
             0.5,
             "#f7f7f7"
            ],
            [
             0.6,
             "#e6f5d0"
            ],
            [
             0.7,
             "#b8e186"
            ],
            [
             0.8,
             "#7fbc41"
            ],
            [
             0.9,
             "#4d9221"
            ],
            [
             1,
             "#276419"
            ]
           ],
           "sequential": [
            [
             0.0,
             "#0d0887"
            ],
            [
             0.1111111111111111,
             "#46039f"
            ],
            [
             0.2222222222222222,
             "#7201a8"
            ],
            [
             0.3333333333333333,
             "#9c179e"
            ],
            [
             0.4444444444444444,
             "#bd3786"
            ],
            [
             0.5555555555555556,
             "#d8576b"
            ],
            [
             0.6666666666666666,
             "#ed7953"
            ],
            [
             0.7777777777777778,
             "#fb9f3a"
            ],
            [
             0.8888888888888888,
             "#fdca26"
            ],
            [
             1.0,
             "#f0f921"
            ]
           ],
           "sequentialminus": [
            [
             0.0,
             "#0d0887"
            ],
            [
             0.1111111111111111,
             "#46039f"
            ],
            [
             0.2222222222222222,
             "#7201a8"
            ],
            [
             0.3333333333333333,
             "#9c179e"
            ],
            [
             0.4444444444444444,
             "#bd3786"
            ],
            [
             0.5555555555555556,
             "#d8576b"
            ],
            [
             0.6666666666666666,
             "#ed7953"
            ],
            [
             0.7777777777777778,
             "#fb9f3a"
            ],
            [
             0.8888888888888888,
             "#fdca26"
            ],
            [
             1.0,
             "#f0f921"
            ]
           ]
          },
          "colorway": [
           "#636efa",
           "#EF553B",
           "#00cc96",
           "#ab63fa",
           "#FFA15A",
           "#19d3f3",
           "#FF6692",
           "#B6E880",
           "#FF97FF",
           "#FECB52"
          ],
          "font": {
           "color": "#2a3f5f"
          },
          "geo": {
           "bgcolor": "white",
           "lakecolor": "white",
           "landcolor": "white",
           "showlakes": true,
           "showland": true,
           "subunitcolor": "#C8D4E3"
          },
          "hoverlabel": {
           "align": "left"
          },
          "hovermode": "closest",
          "mapbox": {
           "style": "light"
          },
          "paper_bgcolor": "white",
          "plot_bgcolor": "white",
          "polar": {
           "angularaxis": {
            "gridcolor": "#EBF0F8",
            "linecolor": "#EBF0F8",
            "ticks": ""
           },
           "bgcolor": "white",
           "radialaxis": {
            "gridcolor": "#EBF0F8",
            "linecolor": "#EBF0F8",
            "ticks": ""
           }
          },
          "scene": {
           "xaxis": {
            "backgroundcolor": "white",
            "gridcolor": "#DFE8F3",
            "gridwidth": 2,
            "linecolor": "#EBF0F8",
            "showbackground": true,
            "ticks": "",
            "zerolinecolor": "#EBF0F8"
           },
           "yaxis": {
            "backgroundcolor": "white",
            "gridcolor": "#DFE8F3",
            "gridwidth": 2,
            "linecolor": "#EBF0F8",
            "showbackground": true,
            "ticks": "",
            "zerolinecolor": "#EBF0F8"
           },
           "zaxis": {
            "backgroundcolor": "white",
            "gridcolor": "#DFE8F3",
            "gridwidth": 2,
            "linecolor": "#EBF0F8",
            "showbackground": true,
            "ticks": "",
            "zerolinecolor": "#EBF0F8"
           }
          },
          "shapedefaults": {
           "line": {
            "color": "#2a3f5f"
           }
          },
          "ternary": {
           "aaxis": {
            "gridcolor": "#DFE8F3",
            "linecolor": "#A2B1C6",
            "ticks": ""
           },
           "baxis": {
            "gridcolor": "#DFE8F3",
            "linecolor": "#A2B1C6",
            "ticks": ""
           },
           "bgcolor": "white",
           "caxis": {
            "gridcolor": "#DFE8F3",
            "linecolor": "#A2B1C6",
            "ticks": ""
           }
          },
          "title": {
           "x": 0.05
          },
          "xaxis": {
           "automargin": true,
           "gridcolor": "#EBF0F8",
           "linecolor": "#EBF0F8",
           "ticks": "",
           "title": {
            "standoff": 15
           },
           "zerolinecolor": "#EBF0F8",
           "zerolinewidth": 2
          },
          "yaxis": {
           "automargin": true,
           "gridcolor": "#EBF0F8",
           "linecolor": "#EBF0F8",
           "ticks": "",
           "title": {
            "standoff": 15
           },
           "zerolinecolor": "#EBF0F8",
           "zerolinewidth": 2
          }
         }
        },
        "title": {
         "text": "Weather Variables Lag Hours Comparison"
        },
        "width": 1000,
        "xaxis": {
         "showgrid": false,
         "title": {
          "text": "Lag Hours"
         }
        },
        "yaxis": {
         "automargin": true,
         "title": {
          "text": "Weather Variables"
         }
        }
       }
      },
      "text/html": "<div>\n        \n        \n            <div id=\"1ae4ad92-76ce-4f62-bc3c-ddf19ebbab1d\" class=\"plotly-graph-div\" style=\"height:600px; width:1000px;\"></div>\n            <script type=\"text/javascript\">\n                require([\"plotly\"], function(Plotly) {\n                    window.PLOTLYENV=window.PLOTLYENV || {};\n                    \n                if (document.getElementById(\"1ae4ad92-76ce-4f62-bc3c-ddf19ebbab1d\")) {\n                    Plotly.newPlot(\n                        '1ae4ad92-76ce-4f62-bc3c-ddf19ebbab1d',\n                        [{\"marker\": {\"color\": \"#A9A9A9\", \"line\": {\"color\": \"dimgrey\", \"width\": 2}}, \"name\": \"MeteoBlue\", \"orientation\": \"h\", \"text\": [\"68\", \"7\", \"66\", \"11\", \"20\", \"0\", \"18\", \"0\"], \"textposition\": \"outside\", \"type\": \"bar\", \"x\": [68, 7, 66, 11, 20, 0, 18, 0], \"y\": [\"Temperature\", \"Humidity\", \"Pressure\", \"Wind Speed\", \"Longwave Radiation\", \"Wind Gust\", \"Precipitation Total\", \"Cloud Cover Total\"]}, {\"marker\": {\"color\": \"lightgrey\", \"line\": {\"color\": \"dimgrey\", \"width\": 2}}, \"name\": \"Wunderground\", \"orientation\": \"h\", \"text\": [\"43\", \"5\", \"66\", \"20\", \"\", \"\", \"\", \"\"], \"textposition\": \"outside\", \"type\": \"bar\", \"x\": [43, 5, 66, 20, null, null, null, null], \"y\": [\"Temperature\", \"Humidity\", \"Pressure\", \"Wind Speed\", \"Longwave Radiation\", \"Wind Gust\", \"Precipitation Total\", \"Cloud Cover Total\"]}],\n                        {\"bargap\": 0.2, \"barmode\": \"group\", \"font\": {\"size\": 18}, \"height\": 600, \"legend\": {\"orientation\": \"h\"}, \"margin\": {\"b\": 50, \"l\": 200, \"r\": 50, \"t\": 50}, \"shapes\": [{\"line\": {\"color\": \"lightgray\", \"dash\": \"dash\", \"width\": 1}, \"type\": \"line\", \"x0\": -5, \"x1\": 80, \"y0\": 3.5, \"y1\": 3.5}], \"template\": {\"data\": {\"bar\": [{\"error_x\": {\"color\": \"#2a3f5f\"}, \"error_y\": {\"color\": \"#2a3f5f\"}, \"marker\": {\"line\": {\"color\": \"white\", \"width\": 0.5}}, \"type\": \"bar\"}], \"barpolar\": [{\"marker\": {\"line\": {\"color\": \"white\", \"width\": 0.5}}, \"type\": \"barpolar\"}], \"carpet\": [{\"aaxis\": {\"endlinecolor\": \"#2a3f5f\", \"gridcolor\": \"#C8D4E3\", \"linecolor\": \"#C8D4E3\", \"minorgridcolor\": \"#C8D4E3\", \"startlinecolor\": \"#2a3f5f\"}, \"baxis\": {\"endlinecolor\": \"#2a3f5f\", \"gridcolor\": \"#C8D4E3\", \"linecolor\": \"#C8D4E3\", \"minorgridcolor\": \"#C8D4E3\", \"startlinecolor\": \"#2a3f5f\"}, \"type\": \"carpet\"}], \"choropleth\": [{\"colorbar\": {\"outlinewidth\": 0, \"ticks\": \"\"}, \"type\": \"choropleth\"}], \"contour\": [{\"colorbar\": {\"outlinewidth\": 0, \"ticks\": \"\"}, \"colorscale\": [[0.0, \"#0d0887\"], [0.1111111111111111, \"#46039f\"], [0.2222222222222222, \"#7201a8\"], [0.3333333333333333, \"#9c179e\"], [0.4444444444444444, \"#bd3786\"], [0.5555555555555556, \"#d8576b\"], [0.6666666666666666, \"#ed7953\"], [0.7777777777777778, \"#fb9f3a\"], [0.8888888888888888, \"#fdca26\"], [1.0, \"#f0f921\"]], \"type\": \"contour\"}], \"contourcarpet\": [{\"colorbar\": {\"outlinewidth\": 0, \"ticks\": \"\"}, \"type\": \"contourcarpet\"}], \"heatmap\": [{\"colorbar\": {\"outlinewidth\": 0, \"ticks\": \"\"}, \"colorscale\": [[0.0, \"#0d0887\"], [0.1111111111111111, \"#46039f\"], [0.2222222222222222, \"#7201a8\"], [0.3333333333333333, \"#9c179e\"], [0.4444444444444444, \"#bd3786\"], [0.5555555555555556, \"#d8576b\"], [0.6666666666666666, \"#ed7953\"], [0.7777777777777778, \"#fb9f3a\"], [0.8888888888888888, \"#fdca26\"], [1.0, \"#f0f921\"]], \"type\": \"heatmap\"}], \"heatmapgl\": [{\"colorbar\": {\"outlinewidth\": 0, \"ticks\": \"\"}, \"colorscale\": [[0.0, \"#0d0887\"], [0.1111111111111111, \"#46039f\"], [0.2222222222222222, \"#7201a8\"], [0.3333333333333333, \"#9c179e\"], [0.4444444444444444, \"#bd3786\"], [0.5555555555555556, \"#d8576b\"], [0.6666666666666666, \"#ed7953\"], [0.7777777777777778, \"#fb9f3a\"], [0.8888888888888888, \"#fdca26\"], [1.0, \"#f0f921\"]], \"type\": \"heatmapgl\"}], \"histogram\": [{\"marker\": {\"colorbar\": {\"outlinewidth\": 0, \"ticks\": \"\"}}, \"type\": \"histogram\"}], \"histogram2d\": [{\"colorbar\": {\"outlinewidth\": 0, \"ticks\": \"\"}, \"colorscale\": [[0.0, \"#0d0887\"], [0.1111111111111111, \"#46039f\"], [0.2222222222222222, \"#7201a8\"], [0.3333333333333333, \"#9c179e\"], [0.4444444444444444, \"#bd3786\"], [0.5555555555555556, \"#d8576b\"], [0.6666666666666666, \"#ed7953\"], [0.7777777777777778, \"#fb9f3a\"], [0.8888888888888888, \"#fdca26\"], [1.0, \"#f0f921\"]], \"type\": \"histogram2d\"}], \"histogram2dcontour\": [{\"colorbar\": {\"outlinewidth\": 0, \"ticks\": \"\"}, \"colorscale\": [[0.0, \"#0d0887\"], [0.1111111111111111, \"#46039f\"], [0.2222222222222222, \"#7201a8\"], [0.3333333333333333, \"#9c179e\"], [0.4444444444444444, \"#bd3786\"], [0.5555555555555556, \"#d8576b\"], [0.6666666666666666, \"#ed7953\"], [0.7777777777777778, \"#fb9f3a\"], [0.8888888888888888, \"#fdca26\"], [1.0, \"#f0f921\"]], \"type\": \"histogram2dcontour\"}], \"mesh3d\": [{\"colorbar\": {\"outlinewidth\": 0, \"ticks\": \"\"}, \"type\": \"mesh3d\"}], \"parcoords\": [{\"line\": {\"colorbar\": {\"outlinewidth\": 0, \"ticks\": \"\"}}, \"type\": \"parcoords\"}], \"pie\": [{\"automargin\": true, \"type\": \"pie\"}], \"scatter\": [{\"marker\": {\"colorbar\": {\"outlinewidth\": 0, \"ticks\": \"\"}}, \"type\": \"scatter\"}], \"scatter3d\": [{\"line\": {\"colorbar\": {\"outlinewidth\": 0, \"ticks\": \"\"}}, \"marker\": {\"colorbar\": {\"outlinewidth\": 0, \"ticks\": \"\"}}, \"type\": \"scatter3d\"}], \"scattercarpet\": [{\"marker\": {\"colorbar\": {\"outlinewidth\": 0, \"ticks\": \"\"}}, \"type\": \"scattercarpet\"}], \"scattergeo\": [{\"marker\": {\"colorbar\": {\"outlinewidth\": 0, \"ticks\": \"\"}}, \"type\": \"scattergeo\"}], \"scattergl\": [{\"marker\": {\"colorbar\": {\"outlinewidth\": 0, \"ticks\": \"\"}}, \"type\": \"scattergl\"}], \"scattermapbox\": [{\"marker\": {\"colorbar\": {\"outlinewidth\": 0, \"ticks\": \"\"}}, \"type\": \"scattermapbox\"}], \"scatterpolar\": [{\"marker\": {\"colorbar\": {\"outlinewidth\": 0, \"ticks\": \"\"}}, \"type\": \"scatterpolar\"}], \"scatterpolargl\": [{\"marker\": {\"colorbar\": {\"outlinewidth\": 0, \"ticks\": \"\"}}, \"type\": \"scatterpolargl\"}], \"scatterternary\": [{\"marker\": {\"colorbar\": {\"outlinewidth\": 0, \"ticks\": \"\"}}, \"type\": \"scatterternary\"}], \"surface\": [{\"colorbar\": {\"outlinewidth\": 0, \"ticks\": \"\"}, \"colorscale\": [[0.0, \"#0d0887\"], [0.1111111111111111, \"#46039f\"], [0.2222222222222222, \"#7201a8\"], [0.3333333333333333, \"#9c179e\"], [0.4444444444444444, \"#bd3786\"], [0.5555555555555556, \"#d8576b\"], [0.6666666666666666, \"#ed7953\"], [0.7777777777777778, \"#fb9f3a\"], [0.8888888888888888, \"#fdca26\"], [1.0, \"#f0f921\"]], \"type\": \"surface\"}], \"table\": [{\"cells\": {\"fill\": {\"color\": \"#EBF0F8\"}, \"line\": {\"color\": \"white\"}}, \"header\": {\"fill\": {\"color\": \"#C8D4E3\"}, \"line\": {\"color\": \"white\"}}, \"type\": \"table\"}]}, \"layout\": {\"annotationdefaults\": {\"arrowcolor\": \"#2a3f5f\", \"arrowhead\": 0, \"arrowwidth\": 1}, \"coloraxis\": {\"colorbar\": {\"outlinewidth\": 0, \"ticks\": \"\"}}, \"colorscale\": {\"diverging\": [[0, \"#8e0152\"], [0.1, \"#c51b7d\"], [0.2, \"#de77ae\"], [0.3, \"#f1b6da\"], [0.4, \"#fde0ef\"], [0.5, \"#f7f7f7\"], [0.6, \"#e6f5d0\"], [0.7, \"#b8e186\"], [0.8, \"#7fbc41\"], [0.9, \"#4d9221\"], [1, \"#276419\"]], \"sequential\": [[0.0, \"#0d0887\"], [0.1111111111111111, \"#46039f\"], [0.2222222222222222, \"#7201a8\"], [0.3333333333333333, \"#9c179e\"], [0.4444444444444444, \"#bd3786\"], [0.5555555555555556, \"#d8576b\"], [0.6666666666666666, \"#ed7953\"], [0.7777777777777778, \"#fb9f3a\"], [0.8888888888888888, \"#fdca26\"], [1.0, \"#f0f921\"]], \"sequentialminus\": [[0.0, \"#0d0887\"], [0.1111111111111111, \"#46039f\"], [0.2222222222222222, \"#7201a8\"], [0.3333333333333333, \"#9c179e\"], [0.4444444444444444, \"#bd3786\"], [0.5555555555555556, \"#d8576b\"], [0.6666666666666666, \"#ed7953\"], [0.7777777777777778, \"#fb9f3a\"], [0.8888888888888888, \"#fdca26\"], [1.0, \"#f0f921\"]]}, \"colorway\": [\"#636efa\", \"#EF553B\", \"#00cc96\", \"#ab63fa\", \"#FFA15A\", \"#19d3f3\", \"#FF6692\", \"#B6E880\", \"#FF97FF\", \"#FECB52\"], \"font\": {\"color\": \"#2a3f5f\"}, \"geo\": {\"bgcolor\": \"white\", \"lakecolor\": \"white\", \"landcolor\": \"white\", \"showlakes\": true, \"showland\": true, \"subunitcolor\": \"#C8D4E3\"}, \"hoverlabel\": {\"align\": \"left\"}, \"hovermode\": \"closest\", \"mapbox\": {\"style\": \"light\"}, \"paper_bgcolor\": \"white\", \"plot_bgcolor\": \"white\", \"polar\": {\"angularaxis\": {\"gridcolor\": \"#EBF0F8\", \"linecolor\": \"#EBF0F8\", \"ticks\": \"\"}, \"bgcolor\": \"white\", \"radialaxis\": {\"gridcolor\": \"#EBF0F8\", \"linecolor\": \"#EBF0F8\", \"ticks\": \"\"}}, \"scene\": {\"xaxis\": {\"backgroundcolor\": \"white\", \"gridcolor\": \"#DFE8F3\", \"gridwidth\": 2, \"linecolor\": \"#EBF0F8\", \"showbackground\": true, \"ticks\": \"\", \"zerolinecolor\": \"#EBF0F8\"}, \"yaxis\": {\"backgroundcolor\": \"white\", \"gridcolor\": \"#DFE8F3\", \"gridwidth\": 2, \"linecolor\": \"#EBF0F8\", \"showbackground\": true, \"ticks\": \"\", \"zerolinecolor\": \"#EBF0F8\"}, \"zaxis\": {\"backgroundcolor\": \"white\", \"gridcolor\": \"#DFE8F3\", \"gridwidth\": 2, \"linecolor\": \"#EBF0F8\", \"showbackground\": true, \"ticks\": \"\", \"zerolinecolor\": \"#EBF0F8\"}}, \"shapedefaults\": {\"line\": {\"color\": \"#2a3f5f\"}}, \"ternary\": {\"aaxis\": {\"gridcolor\": \"#DFE8F3\", \"linecolor\": \"#A2B1C6\", \"ticks\": \"\"}, \"baxis\": {\"gridcolor\": \"#DFE8F3\", \"linecolor\": \"#A2B1C6\", \"ticks\": \"\"}, \"bgcolor\": \"white\", \"caxis\": {\"gridcolor\": \"#DFE8F3\", \"linecolor\": \"#A2B1C6\", \"ticks\": \"\"}}, \"title\": {\"x\": 0.05}, \"xaxis\": {\"automargin\": true, \"gridcolor\": \"#EBF0F8\", \"linecolor\": \"#EBF0F8\", \"ticks\": \"\", \"title\": {\"standoff\": 15}, \"zerolinecolor\": \"#EBF0F8\", \"zerolinewidth\": 2}, \"yaxis\": {\"automargin\": true, \"gridcolor\": \"#EBF0F8\", \"linecolor\": \"#EBF0F8\", \"ticks\": \"\", \"title\": {\"standoff\": 15}, \"zerolinecolor\": \"#EBF0F8\", \"zerolinewidth\": 2}}}, \"title\": {\"text\": \"Weather Variables Lag Hours Comparison\"}, \"width\": 1000, \"xaxis\": {\"showgrid\": false, \"title\": {\"text\": \"Lag Hours\"}}, \"yaxis\": {\"automargin\": true, \"title\": {\"text\": \"Weather Variables\"}}},\n                        {\"responsive\": true}\n                    ).then(function(){\n                            \nvar gd = document.getElementById('1ae4ad92-76ce-4f62-bc3c-ddf19ebbab1d');\nvar x = new MutationObserver(function (mutations, observer) {{\n        var display = window.getComputedStyle(gd).display;\n        if (!display || display === 'none') {{\n            console.log([gd, 'removed!']);\n            Plotly.purge(gd);\n            observer.disconnect();\n        }}\n}});\n\n// Listen for the removal of the full notebook cells\nvar notebookContainer = gd.closest('#notebook-container');\nif (notebookContainer) {{\n    x.observe(notebookContainer, {childList: true});\n}}\n\n// Listen for the clearing of the current output cell\nvar outputEl = gd.closest('.output');\nif (outputEl) {{\n    x.observe(outputEl, {childList: true});\n}}\n\n                        })\n                };\n                });\n            </script>\n        </div>"
     },
     "metadata": {},
     "output_type": "display_data"
    }
   ],
   "source": [
    "import plotly.graph_objects as go\n",
    "\n",
    "# Data preparation\n",
    "all_variables = {\n",
    "    \"Temperature\": {\"MeteoBlue\": 68, \"Wunderground\": 43},\n",
    "    \"Humidity\": {\"MeteoBlue\": 7, \"Wunderground\": 5},\n",
    "    \"Pressure\": {\"MeteoBlue\": 66, \"Wunderground\": 66},\n",
    "    \"Wind Speed\": {\"MeteoBlue\": 11, \"Wunderground\": 20},\n",
    "    \"Longwave Radiation\": {\"MeteoBlue\": 20, \"Wunderground\": None},\n",
    "    \"Wind Gust\": {\"MeteoBlue\": 0, \"Wunderground\": None},\n",
    "    \"Precipitation Total\": {\"MeteoBlue\": 18, \"Wunderground\": None},\n",
    "    \"Cloud Cover Total\": {\"MeteoBlue\": 0, \"Wunderground\": None}\n",
    "}\n",
    "\n",
    "# Prepare data for plotting\n",
    "variables = list(all_variables.keys())\n",
    "meteoblue_values = [all_variables[var][\"MeteoBlue\"] for var in variables]\n",
    "wunder_values = [all_variables[var][\"Wunderground\"] for var in variables]\n",
    "\n",
    "# Create figure\n",
    "fig = go.Figure()\n",
    "\n",
    "# Add MeteoBlue bars\n",
    "fig.add_trace(go.Bar(\n",
    "    y=variables,\n",
    "    x=meteoblue_values,\n",
    "    orientation='h',\n",
    "    name=\"MeteoBlue\",\n",
    "    marker=dict(\n",
    "        color='#A9A9A9',\n",
    "        line=dict(color='dimgrey', width=2)\n",
    "    ),\n",
    "    text=meteoblue_values,\n",
    "    textposition='outside'\n",
    "))\n",
    "\n",
    "# Add Wunderground bars (will show only for common variables)\n",
    "fig.add_trace(go.Bar(\n",
    "    y=variables,\n",
    "    x=wunder_values,\n",
    "    orientation='h',\n",
    "    name=\"Wunderground\",\n",
    "    marker=dict(\n",
    "        color='lightgrey',\n",
    "        line=dict(color='dimgrey', width=2)\n",
    "    ),\n",
    "    text=[str(x) if x is not None else \"\" for x in wunder_values],\n",
    "    textposition='outside'\n",
    "))\n",
    "\n",
    "# Update layout\n",
    "fig.update_layout(\n",
    "    legend_orientation = 'h',\n",
    "    title=\"Weather Variables Lag Hours Comparison\",\n",
    "    template='plotly_white',\n",
    "    xaxis=dict(\n",
    "        title=\"Lag Hours\",\n",
    "        showgrid=False\n",
    "    ),\n",
    "    yaxis=dict(\n",
    "        title=\"Weather Variables\",\n",
    "        automargin=True\n",
    "    ),\n",
    "    font=dict(size=18),\n",
    "    height=600,\n",
    "    width=1000,\n",
    "    bargap=0.2,\n",
    "    barmode='group',\n",
    "    margin=dict(l=200, r=50, t=50, b=50),\n",
    "    # Add a shape to separate common and MeteoBlue-only variables\n",
    "    shapes=[\n",
    "        dict(\n",
    "            type=\"line\",\n",
    "            x0=-5,  # Adjust these values based on your data range\n",
    "            x1=80,\n",
    "            y0=3.5,  # Position between common and MeteoBlue-only variables\n",
    "            y1=3.5,\n",
    "            line=dict(\n",
    "                color=\"lightgray\",\n",
    "                width=1,\n",
    "                dash=\"dash\"\n",
    "            )\n",
    "        )\n",
    "    ],\n",
    "    # Add annotations to label the sections\n",
    "    # annotations=[\n",
    "    #     dict(\n",
    "    #         x=-5,  # Adjust x position as needed\n",
    "    #         y=1.5,  # Middle of common variables\n",
    "    #         text=\"Common Variables\",\n",
    "    #         showarrow=False,\n",
    "    #         xref=\"x\",\n",
    "    #         yref=\"y\",\n",
    "    #         font=dict(size=12)\n",
    "    #     ),\n",
    "    #     dict(\n",
    "    #         x=-5,  # Adjust x position as needed\n",
    "    #         y=5.5,  # Middle of MeteoBlue-only variables\n",
    "    #         text=\"MeteoBlue Only\",\n",
    "    #         showarrow=False,\n",
    "    #         xref=\"x\",\n",
    "    #         yref=\"y\",\n",
    "    #         font=dict(size=12)\n",
    "    #     )\n",
    "    # ]\n",
    ")\n",
    "\n",
    "# Show the figure\n",
    "fig.show()"
   ],
   "metadata": {
    "collapsed": false,
    "ExecuteTime": {
     "start_time": "2024-11-24T02:58:51.242273Z",
     "end_time": "2024-11-24T02:58:51.300280Z"
    }
   }
  }
 ],
 "metadata": {
  "kernelspec": {
   "display_name": "Python 3",
   "language": "python",
   "name": "python3"
  },
  "language_info": {
   "codemirror_mode": {
    "name": "ipython",
    "version": 2
   },
   "file_extension": ".py",
   "mimetype": "text/x-python",
   "name": "python",
   "nbconvert_exporter": "python",
   "pygments_lexer": "ipython2",
   "version": "2.7.6"
  }
 },
 "nbformat": 4,
 "nbformat_minor": 0
}
