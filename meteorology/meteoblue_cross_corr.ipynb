{
 "cells": [
  {
   "cell_type": "code",
   "execution_count": 1,
   "metadata": {
    "collapsed": true
   },
   "outputs": [
    {
     "data": {
      "text/plain": "factor               Cloud Cover High [high cld lay]  \\\ntime                                                   \n2019-01-01 00:00:00                              0.0   \n2019-01-01 01:00:00                              0.0   \n2019-01-01 02:00:00                              0.0   \n2019-01-01 03:00:00                              0.0   \n2019-01-01 04:00:00                              0.0   \n...                                              ...   \n2019-12-31 19:00:00                              0.0   \n2019-12-31 20:00:00                              0.0   \n2019-12-31 21:00:00                              0.0   \n2019-12-31 22:00:00                              0.0   \n2019-12-31 23:00:00                              2.0   \n\nfactor               Cloud Cover Low [low cld lay]  \\\ntime                                                 \n2019-01-01 00:00:00                            0.0   \n2019-01-01 01:00:00                            0.0   \n2019-01-01 02:00:00                            0.0   \n2019-01-01 03:00:00                            0.0   \n2019-01-01 04:00:00                            0.0   \n...                                            ...   \n2019-12-31 19:00:00                            0.0   \n2019-12-31 20:00:00                            0.0   \n2019-12-31 21:00:00                            0.0   \n2019-12-31 22:00:00                            0.0   \n2019-12-31 23:00:00                            0.0   \n\nfactor               Cloud Cover Medium [mid cld lay]  Cloud Cover Total  \\\ntime                                                                       \n2019-01-01 00:00:00                               0.0                0.0   \n2019-01-01 01:00:00                               0.0                0.0   \n2019-01-01 02:00:00                               0.0                0.0   \n2019-01-01 03:00:00                               0.0                0.0   \n2019-01-01 04:00:00                               0.0                0.0   \n...                                               ...                ...   \n2019-12-31 19:00:00                               1.0                1.0   \n2019-12-31 20:00:00                               0.0                0.0   \n2019-12-31 21:00:00                               0.0                0.0   \n2019-12-31 22:00:00                               0.0                0.0   \n2019-12-31 23:00:00                               0.0                0.6   \n\nfactor               Evapotranspiration  \\\ntime                                      \n2019-01-01 00:00:00                 0.0   \n2019-01-01 01:00:00                 0.0   \n2019-01-01 02:00:00                 0.0   \n2019-01-01 03:00:00                 0.0   \n2019-01-01 04:00:00                 0.0   \n...                                 ...   \n2019-12-31 19:00:00                 0.0   \n2019-12-31 20:00:00                 0.0   \n2019-12-31 21:00:00                 0.0   \n2019-12-31 22:00:00                 0.0   \n2019-12-31 23:00:00                 0.0   \n\nfactor               Growing Degree Days [2 m elevation corrected]  \\\ntime                                                                 \n2019-01-01 00:00:00                                       0.165731   \n2019-01-01 01:00:00                                       0.159064   \n2019-01-01 02:00:00                                       0.151564   \n2019-01-01 03:00:00                                       0.144064   \n2019-01-01 04:00:00                                       0.096981   \n...                                                            ...   \n2019-12-31 19:00:00                                       0.414481   \n2019-12-31 20:00:00                                       0.296981   \n2019-12-31 21:00:00                                       0.277398   \n2019-12-31 22:00:00                                       0.280314   \n2019-12-31 23:00:00                                       0.252814   \n\nfactor               Longwave Radiation  Mean Sea Level Pressure [MSL]  \\\ntime                                                                     \n2019-01-01 00:00:00               313.0                         1018.6   \n2019-01-01 01:00:00               312.0                         1018.5   \n2019-01-01 02:00:00               310.0                         1018.3   \n2019-01-01 03:00:00               309.0                         1018.2   \n2019-01-01 04:00:00               308.0                         1018.3   \n...                                 ...                            ...   \n2019-12-31 19:00:00               348.0                         1016.8   \n2019-12-31 20:00:00               344.0                         1017.4   \n2019-12-31 21:00:00               344.0                         1017.8   \n2019-12-31 22:00:00               341.0                         1018.2   \n2019-12-31 23:00:00               346.0                         1018.1   \n\nfactor               Precipitation Runoff  Precipitation Total  ...  \\\ntime                                                            ...   \n2019-01-01 00:00:00                  0.00                  0.0  ...   \n2019-01-01 01:00:00                  0.00                  0.0  ...   \n2019-01-01 02:00:00                  0.00                  0.0  ...   \n2019-01-01 03:00:00                  0.00                  0.0  ...   \n2019-01-01 04:00:00                  0.00                  0.0  ...   \n...                                   ...                  ...  ...   \n2019-12-31 19:00:00                  0.04                  0.0  ...   \n2019-12-31 20:00:00                  0.04                  0.0  ...   \n2019-12-31 21:00:00                  0.04                  0.0  ...   \n2019-12-31 22:00:00                  0.04                  0.0  ...   \n2019-12-31 23:00:00                  0.04                  0.0  ...   \n\nfactor               Wind Direction [900 mb]  Wind Gust  Wind Speed [10 m]  \\\ntime                                                                         \n2019-01-01 00:00:00               114.443950  11.519999           6.915374   \n2019-01-01 01:00:00               122.471190  11.159999           6.409617   \n2019-01-01 02:00:00               128.157230  10.799999           6.369050   \n2019-01-01 03:00:00               135.000000   9.720000           6.618519   \n2019-01-01 04:00:00               141.709840   9.720000           6.489992   \n...                                      ...        ...                ...   \n2019-12-31 19:00:00               140.013100   9.360000           8.913181   \n2019-12-31 20:00:00               133.152390   9.720000           9.220499   \n2019-12-31 21:00:00               127.568590  10.440001           8.217153   \n2019-12-31 22:00:00               124.562515  10.799999           7.862518   \n2019-12-31 23:00:00               122.319610  10.799999           7.568566   \n\nfactor               Wind Speed [100 m]  Wind Speed [250 mb]  \\\ntime                                                           \n2019-01-01 00:00:00           18.391737            149.81233   \n2019-01-01 01:00:00           17.713316            149.12518   \n2019-01-01 02:00:00           15.990646            149.90012   \n2019-01-01 03:00:00           14.658676            151.44666   \n2019-01-01 04:00:00           14.058450            152.92671   \n...                                 ...                  ...   \n2019-12-31 19:00:00            9.585739            150.01291   \n2019-12-31 20:00:00            9.686609            149.71889   \n2019-12-31 21:00:00            8.435069            150.13078   \n2019-12-31 22:00:00            8.089994            149.13953   \n2019-12-31 23:00:00            7.289444            146.58676   \n\nfactor               Wind Speed [500 mb]  Wind Speed [700 mb]  \\\ntime                                                            \n2019-01-01 00:00:00            87.651680            31.651350   \n2019-01-01 01:00:00            87.177990            32.427986   \n2019-01-01 02:00:00            86.353490            33.487740   \n2019-01-01 03:00:00            86.654620            35.320385   \n2019-01-01 04:00:00            91.028755            38.047756   \n...                                  ...                  ...   \n2019-12-31 19:00:00            80.435630            28.694056   \n2019-12-31 20:00:00            82.092630            31.487143   \n2019-12-31 21:00:00            83.675804            33.563120   \n2019-12-31 22:00:00            82.584500            35.311210   \n2019-12-31 23:00:00            80.502470            37.064266   \n\nfactor               Wind Speed [800 mb]  Wind Speed [850 mb]  \\\ntime                                                            \n2019-01-01 00:00:00            15.119999            12.429127   \n2019-01-01 01:00:00            16.039202            12.496719   \n2019-01-01 02:00:00            15.937878            12.074766   \n2019-01-01 03:00:00            15.941944            11.792404   \n2019-01-01 04:00:00            14.658676            13.979871   \n...                                  ...                  ...   \n2019-12-31 19:00:00            27.021591            17.193533   \n2019-12-31 20:00:00            24.881702            18.089775   \n2019-12-31 21:00:00            24.442911            20.188908   \n2019-12-31 22:00:00            25.630886            22.668570   \n2019-12-31 23:00:00            26.525429            24.195107   \n\nfactor               Wind Speed [900 mb]  \ntime                                      \n2019-01-01 00:00:00             4.349896  \n2019-01-01 01:00:00             4.693826  \n2019-01-01 02:00:00             6.409617  \n2019-01-01 03:00:00             7.636753  \n2019-01-01 04:00:00             8.714677  \n...                                  ...  \n2019-12-31 19:00:00            14.565548  \n2019-12-31 20:00:00            15.790833  \n2019-12-31 21:00:00            17.713316  \n2019-12-31 22:00:00            19.671950  \n2019-12-31 23:00:00            20.873790  \n\n[8760 rows x 37 columns]",
      "text/html": "<div>\n<style scoped>\n    .dataframe tbody tr th:only-of-type {\n        vertical-align: middle;\n    }\n\n    .dataframe tbody tr th {\n        vertical-align: top;\n    }\n\n    .dataframe thead th {\n        text-align: right;\n    }\n</style>\n<table border=\"1\" class=\"dataframe\">\n  <thead>\n    <tr style=\"text-align: right;\">\n      <th>factor</th>\n      <th>Cloud Cover High [high cld lay]</th>\n      <th>Cloud Cover Low [low cld lay]</th>\n      <th>Cloud Cover Medium [mid cld lay]</th>\n      <th>Cloud Cover Total</th>\n      <th>Evapotranspiration</th>\n      <th>Growing Degree Days [2 m elevation corrected]</th>\n      <th>Longwave Radiation</th>\n      <th>Mean Sea Level Pressure [MSL]</th>\n      <th>Precipitation Runoff</th>\n      <th>Precipitation Total</th>\n      <th>...</th>\n      <th>Wind Direction [900 mb]</th>\n      <th>Wind Gust</th>\n      <th>Wind Speed [10 m]</th>\n      <th>Wind Speed [100 m]</th>\n      <th>Wind Speed [250 mb]</th>\n      <th>Wind Speed [500 mb]</th>\n      <th>Wind Speed [700 mb]</th>\n      <th>Wind Speed [800 mb]</th>\n      <th>Wind Speed [850 mb]</th>\n      <th>Wind Speed [900 mb]</th>\n    </tr>\n    <tr>\n      <th>time</th>\n      <th></th>\n      <th></th>\n      <th></th>\n      <th></th>\n      <th></th>\n      <th></th>\n      <th></th>\n      <th></th>\n      <th></th>\n      <th></th>\n      <th></th>\n      <th></th>\n      <th></th>\n      <th></th>\n      <th></th>\n      <th></th>\n      <th></th>\n      <th></th>\n      <th></th>\n      <th></th>\n      <th></th>\n    </tr>\n  </thead>\n  <tbody>\n    <tr>\n      <th>2019-01-01 00:00:00</th>\n      <td>0.0</td>\n      <td>0.0</td>\n      <td>0.0</td>\n      <td>0.0</td>\n      <td>0.0</td>\n      <td>0.165731</td>\n      <td>313.0</td>\n      <td>1018.6</td>\n      <td>0.00</td>\n      <td>0.0</td>\n      <td>...</td>\n      <td>114.443950</td>\n      <td>11.519999</td>\n      <td>6.915374</td>\n      <td>18.391737</td>\n      <td>149.81233</td>\n      <td>87.651680</td>\n      <td>31.651350</td>\n      <td>15.119999</td>\n      <td>12.429127</td>\n      <td>4.349896</td>\n    </tr>\n    <tr>\n      <th>2019-01-01 01:00:00</th>\n      <td>0.0</td>\n      <td>0.0</td>\n      <td>0.0</td>\n      <td>0.0</td>\n      <td>0.0</td>\n      <td>0.159064</td>\n      <td>312.0</td>\n      <td>1018.5</td>\n      <td>0.00</td>\n      <td>0.0</td>\n      <td>...</td>\n      <td>122.471190</td>\n      <td>11.159999</td>\n      <td>6.409617</td>\n      <td>17.713316</td>\n      <td>149.12518</td>\n      <td>87.177990</td>\n      <td>32.427986</td>\n      <td>16.039202</td>\n      <td>12.496719</td>\n      <td>4.693826</td>\n    </tr>\n    <tr>\n      <th>2019-01-01 02:00:00</th>\n      <td>0.0</td>\n      <td>0.0</td>\n      <td>0.0</td>\n      <td>0.0</td>\n      <td>0.0</td>\n      <td>0.151564</td>\n      <td>310.0</td>\n      <td>1018.3</td>\n      <td>0.00</td>\n      <td>0.0</td>\n      <td>...</td>\n      <td>128.157230</td>\n      <td>10.799999</td>\n      <td>6.369050</td>\n      <td>15.990646</td>\n      <td>149.90012</td>\n      <td>86.353490</td>\n      <td>33.487740</td>\n      <td>15.937878</td>\n      <td>12.074766</td>\n      <td>6.409617</td>\n    </tr>\n    <tr>\n      <th>2019-01-01 03:00:00</th>\n      <td>0.0</td>\n      <td>0.0</td>\n      <td>0.0</td>\n      <td>0.0</td>\n      <td>0.0</td>\n      <td>0.144064</td>\n      <td>309.0</td>\n      <td>1018.2</td>\n      <td>0.00</td>\n      <td>0.0</td>\n      <td>...</td>\n      <td>135.000000</td>\n      <td>9.720000</td>\n      <td>6.618519</td>\n      <td>14.658676</td>\n      <td>151.44666</td>\n      <td>86.654620</td>\n      <td>35.320385</td>\n      <td>15.941944</td>\n      <td>11.792404</td>\n      <td>7.636753</td>\n    </tr>\n    <tr>\n      <th>2019-01-01 04:00:00</th>\n      <td>0.0</td>\n      <td>0.0</td>\n      <td>0.0</td>\n      <td>0.0</td>\n      <td>0.0</td>\n      <td>0.096981</td>\n      <td>308.0</td>\n      <td>1018.3</td>\n      <td>0.00</td>\n      <td>0.0</td>\n      <td>...</td>\n      <td>141.709840</td>\n      <td>9.720000</td>\n      <td>6.489992</td>\n      <td>14.058450</td>\n      <td>152.92671</td>\n      <td>91.028755</td>\n      <td>38.047756</td>\n      <td>14.658676</td>\n      <td>13.979871</td>\n      <td>8.714677</td>\n    </tr>\n    <tr>\n      <th>...</th>\n      <td>...</td>\n      <td>...</td>\n      <td>...</td>\n      <td>...</td>\n      <td>...</td>\n      <td>...</td>\n      <td>...</td>\n      <td>...</td>\n      <td>...</td>\n      <td>...</td>\n      <td>...</td>\n      <td>...</td>\n      <td>...</td>\n      <td>...</td>\n      <td>...</td>\n      <td>...</td>\n      <td>...</td>\n      <td>...</td>\n      <td>...</td>\n      <td>...</td>\n      <td>...</td>\n    </tr>\n    <tr>\n      <th>2019-12-31 19:00:00</th>\n      <td>0.0</td>\n      <td>0.0</td>\n      <td>1.0</td>\n      <td>1.0</td>\n      <td>0.0</td>\n      <td>0.414481</td>\n      <td>348.0</td>\n      <td>1016.8</td>\n      <td>0.04</td>\n      <td>0.0</td>\n      <td>...</td>\n      <td>140.013100</td>\n      <td>9.360000</td>\n      <td>8.913181</td>\n      <td>9.585739</td>\n      <td>150.01291</td>\n      <td>80.435630</td>\n      <td>28.694056</td>\n      <td>27.021591</td>\n      <td>17.193533</td>\n      <td>14.565548</td>\n    </tr>\n    <tr>\n      <th>2019-12-31 20:00:00</th>\n      <td>0.0</td>\n      <td>0.0</td>\n      <td>0.0</td>\n      <td>0.0</td>\n      <td>0.0</td>\n      <td>0.296981</td>\n      <td>344.0</td>\n      <td>1017.4</td>\n      <td>0.04</td>\n      <td>0.0</td>\n      <td>...</td>\n      <td>133.152390</td>\n      <td>9.720000</td>\n      <td>9.220499</td>\n      <td>9.686609</td>\n      <td>149.71889</td>\n      <td>82.092630</td>\n      <td>31.487143</td>\n      <td>24.881702</td>\n      <td>18.089775</td>\n      <td>15.790833</td>\n    </tr>\n    <tr>\n      <th>2019-12-31 21:00:00</th>\n      <td>0.0</td>\n      <td>0.0</td>\n      <td>0.0</td>\n      <td>0.0</td>\n      <td>0.0</td>\n      <td>0.277398</td>\n      <td>344.0</td>\n      <td>1017.8</td>\n      <td>0.04</td>\n      <td>0.0</td>\n      <td>...</td>\n      <td>127.568590</td>\n      <td>10.440001</td>\n      <td>8.217153</td>\n      <td>8.435069</td>\n      <td>150.13078</td>\n      <td>83.675804</td>\n      <td>33.563120</td>\n      <td>24.442911</td>\n      <td>20.188908</td>\n      <td>17.713316</td>\n    </tr>\n    <tr>\n      <th>2019-12-31 22:00:00</th>\n      <td>0.0</td>\n      <td>0.0</td>\n      <td>0.0</td>\n      <td>0.0</td>\n      <td>0.0</td>\n      <td>0.280314</td>\n      <td>341.0</td>\n      <td>1018.2</td>\n      <td>0.04</td>\n      <td>0.0</td>\n      <td>...</td>\n      <td>124.562515</td>\n      <td>10.799999</td>\n      <td>7.862518</td>\n      <td>8.089994</td>\n      <td>149.13953</td>\n      <td>82.584500</td>\n      <td>35.311210</td>\n      <td>25.630886</td>\n      <td>22.668570</td>\n      <td>19.671950</td>\n    </tr>\n    <tr>\n      <th>2019-12-31 23:00:00</th>\n      <td>2.0</td>\n      <td>0.0</td>\n      <td>0.0</td>\n      <td>0.6</td>\n      <td>0.0</td>\n      <td>0.252814</td>\n      <td>346.0</td>\n      <td>1018.1</td>\n      <td>0.04</td>\n      <td>0.0</td>\n      <td>...</td>\n      <td>122.319610</td>\n      <td>10.799999</td>\n      <td>7.568566</td>\n      <td>7.289444</td>\n      <td>146.58676</td>\n      <td>80.502470</td>\n      <td>37.064266</td>\n      <td>26.525429</td>\n      <td>24.195107</td>\n      <td>20.873790</td>\n    </tr>\n  </tbody>\n</table>\n<p>8760 rows × 37 columns</p>\n</div>"
     },
     "execution_count": 1,
     "metadata": {},
     "output_type": "execute_result"
    }
   ],
   "source": [
    "import pandas as pd\n",
    "\n",
    "from meteorology.meteoblue_data_preparation import read_meteo_data_file_bd_and_neighbours\n",
    "from meteorology import get_district_data\n",
    "\n",
    "meteo_data = read_meteo_data_file_bd_and_neighbours()\n",
    "\n",
    "meteo_data_dhaka = get_district_data(meteo_data, 'Azimpur_Dhaka')\n",
    "meteo_data_dhaka"
   ]
  },
  {
   "cell_type": "code",
   "execution_count": 2,
   "outputs": [
    {
     "data": {
      "text/plain": "<xarray.DataArray 'meteo' (district: 55, time: 8760, factor: 37)>\n[17826600 values with dtype=float64]\nCoordinates:\n  * time      (time) datetime64[ns] 2019-01-01 ... 2019-12-31T23:00:00\n  * district  (district) object 'Azimpur_Dhaka' ... 'Tungipara_Dhaka'\n  * factor    (factor) object 'Temperature [2 m elevation corrected]' ... 'Evapotranspiration'",
      "text/html": "<div><svg style=\"position: absolute; width: 0; height: 0; overflow: hidden\">\n<defs>\n<symbol id=\"icon-database\" viewBox=\"0 0 32 32\">\n<title>Show/Hide data repr</title>\n<path d=\"M16 0c-8.837 0-16 2.239-16 5v4c0 2.761 7.163 5 16 5s16-2.239 16-5v-4c0-2.761-7.163-5-16-5z\"></path>\n<path d=\"M16 17c-8.837 0-16-2.239-16-5v6c0 2.761 7.163 5 16 5s16-2.239 16-5v-6c0 2.761-7.163 5-16 5z\"></path>\n<path d=\"M16 26c-8.837 0-16-2.239-16-5v6c0 2.761 7.163 5 16 5s16-2.239 16-5v-6c0 2.761-7.163 5-16 5z\"></path>\n</symbol>\n<symbol id=\"icon-file-text2\" viewBox=\"0 0 32 32\">\n<title>Show/Hide attributes</title>\n<path d=\"M28.681 7.159c-0.694-0.947-1.662-2.053-2.724-3.116s-2.169-2.030-3.116-2.724c-1.612-1.182-2.393-1.319-2.841-1.319h-15.5c-1.378 0-2.5 1.121-2.5 2.5v27c0 1.378 1.122 2.5 2.5 2.5h23c1.378 0 2.5-1.122 2.5-2.5v-19.5c0-0.448-0.137-1.23-1.319-2.841zM24.543 5.457c0.959 0.959 1.712 1.825 2.268 2.543h-4.811v-4.811c0.718 0.556 1.584 1.309 2.543 2.268zM28 29.5c0 0.271-0.229 0.5-0.5 0.5h-23c-0.271 0-0.5-0.229-0.5-0.5v-27c0-0.271 0.229-0.5 0.5-0.5 0 0 15.499-0 15.5 0v7c0 0.552 0.448 1 1 1h7v19.5z\"></path>\n<path d=\"M23 26h-14c-0.552 0-1-0.448-1-1s0.448-1 1-1h14c0.552 0 1 0.448 1 1s-0.448 1-1 1z\"></path>\n<path d=\"M23 22h-14c-0.552 0-1-0.448-1-1s0.448-1 1-1h14c0.552 0 1 0.448 1 1s-0.448 1-1 1z\"></path>\n<path d=\"M23 18h-14c-0.552 0-1-0.448-1-1s0.448-1 1-1h14c0.552 0 1 0.448 1 1s-0.448 1-1 1z\"></path>\n</symbol>\n</defs>\n</svg>\n<style>/* CSS stylesheet for displaying xarray objects in jupyterlab.\n *\n */\n\n:root {\n  --xr-font-color0: var(--jp-content-font-color0, rgba(0, 0, 0, 1));\n  --xr-font-color2: var(--jp-content-font-color2, rgba(0, 0, 0, 0.54));\n  --xr-font-color3: var(--jp-content-font-color3, rgba(0, 0, 0, 0.38));\n  --xr-border-color: var(--jp-border-color2, #e0e0e0);\n  --xr-disabled-color: var(--jp-layout-color3, #bdbdbd);\n  --xr-background-color: var(--jp-layout-color0, white);\n  --xr-background-color-row-even: var(--jp-layout-color1, white);\n  --xr-background-color-row-odd: var(--jp-layout-color2, #eeeeee);\n}\n\n.xr-wrap {\n  min-width: 300px;\n  max-width: 700px;\n}\n\n.xr-header {\n  padding-top: 6px;\n  padding-bottom: 6px;\n  margin-bottom: 4px;\n  border-bottom: solid 1px var(--xr-border-color);\n}\n\n.xr-header > div,\n.xr-header > ul {\n  display: inline;\n  margin-top: 0;\n  margin-bottom: 0;\n}\n\n.xr-obj-type,\n.xr-array-name {\n  margin-left: 2px;\n  margin-right: 10px;\n}\n\n.xr-obj-type {\n  color: var(--xr-font-color2);\n}\n\n.xr-sections {\n  padding-left: 0 !important;\n  display: grid;\n  grid-template-columns: 150px auto auto 1fr 20px 20px;\n}\n\n.xr-section-item {\n  display: contents;\n}\n\n.xr-section-item input {\n  display: none;\n}\n\n.xr-section-item input + label {\n  color: var(--xr-disabled-color);\n}\n\n.xr-section-item input:enabled + label {\n  cursor: pointer;\n  color: var(--xr-font-color2);\n}\n\n.xr-section-item input:enabled + label:hover {\n  color: var(--xr-font-color0);\n}\n\n.xr-section-summary {\n  grid-column: 1;\n  color: var(--xr-font-color2);\n  font-weight: 500;\n}\n\n.xr-section-summary > span {\n  display: inline-block;\n  padding-left: 0.5em;\n}\n\n.xr-section-summary-in:disabled + label {\n  color: var(--xr-font-color2);\n}\n\n.xr-section-summary-in + label:before {\n  display: inline-block;\n  content: '►';\n  font-size: 11px;\n  width: 15px;\n  text-align: center;\n}\n\n.xr-section-summary-in:disabled + label:before {\n  color: var(--xr-disabled-color);\n}\n\n.xr-section-summary-in:checked + label:before {\n  content: '▼';\n}\n\n.xr-section-summary-in:checked + label > span {\n  display: none;\n}\n\n.xr-section-summary,\n.xr-section-inline-details {\n  padding-top: 4px;\n  padding-bottom: 4px;\n}\n\n.xr-section-inline-details {\n  grid-column: 2 / -1;\n}\n\n.xr-section-details {\n  display: none;\n  grid-column: 1 / -1;\n  margin-bottom: 5px;\n}\n\n.xr-section-summary-in:checked ~ .xr-section-details {\n  display: contents;\n}\n\n.xr-array-wrap {\n  grid-column: 1 / -1;\n  display: grid;\n  grid-template-columns: 20px auto;\n}\n\n.xr-array-wrap > label {\n  grid-column: 1;\n  vertical-align: top;\n}\n\n.xr-preview {\n  color: var(--xr-font-color3);\n}\n\n.xr-array-preview,\n.xr-array-data {\n  padding: 0 5px !important;\n  grid-column: 2;\n}\n\n.xr-array-data,\n.xr-array-in:checked ~ .xr-array-preview {\n  display: none;\n}\n\n.xr-array-in:checked ~ .xr-array-data,\n.xr-array-preview {\n  display: inline-block;\n}\n\n.xr-dim-list {\n  display: inline-block !important;\n  list-style: none;\n  padding: 0 !important;\n  margin: 0;\n}\n\n.xr-dim-list li {\n  display: inline-block;\n  padding: 0;\n  margin: 0;\n}\n\n.xr-dim-list:before {\n  content: '(';\n}\n\n.xr-dim-list:after {\n  content: ')';\n}\n\n.xr-dim-list li:not(:last-child):after {\n  content: ',';\n  padding-right: 5px;\n}\n\n.xr-has-index {\n  font-weight: bold;\n}\n\n.xr-var-list,\n.xr-var-item {\n  display: contents;\n}\n\n.xr-var-item > div,\n.xr-var-item label,\n.xr-var-item > .xr-var-name span {\n  background-color: var(--xr-background-color-row-even);\n  margin-bottom: 0;\n}\n\n.xr-var-item > .xr-var-name:hover span {\n  padding-right: 5px;\n}\n\n.xr-var-list > li:nth-child(odd) > div,\n.xr-var-list > li:nth-child(odd) > label,\n.xr-var-list > li:nth-child(odd) > .xr-var-name span {\n  background-color: var(--xr-background-color-row-odd);\n}\n\n.xr-var-name {\n  grid-column: 1;\n}\n\n.xr-var-dims {\n  grid-column: 2;\n}\n\n.xr-var-dtype {\n  grid-column: 3;\n  text-align: right;\n  color: var(--xr-font-color2);\n}\n\n.xr-var-preview {\n  grid-column: 4;\n}\n\n.xr-var-name,\n.xr-var-dims,\n.xr-var-dtype,\n.xr-preview,\n.xr-attrs dt {\n  white-space: nowrap;\n  overflow: hidden;\n  text-overflow: ellipsis;\n  padding-right: 10px;\n}\n\n.xr-var-name:hover,\n.xr-var-dims:hover,\n.xr-var-dtype:hover,\n.xr-attrs dt:hover {\n  overflow: visible;\n  width: auto;\n  z-index: 1;\n}\n\n.xr-var-attrs,\n.xr-var-data {\n  display: none;\n  background-color: var(--xr-background-color) !important;\n  padding-bottom: 5px !important;\n}\n\n.xr-var-attrs-in:checked ~ .xr-var-attrs,\n.xr-var-data-in:checked ~ .xr-var-data {\n  display: block;\n}\n\n.xr-var-data > table {\n  float: right;\n}\n\n.xr-var-name span,\n.xr-var-data,\n.xr-attrs {\n  padding-left: 25px !important;\n}\n\n.xr-attrs,\n.xr-var-attrs,\n.xr-var-data {\n  grid-column: 1 / -1;\n}\n\ndl.xr-attrs {\n  padding: 0;\n  margin: 0;\n  display: grid;\n  grid-template-columns: 125px auto;\n}\n\n.xr-attrs dt, dd {\n  padding: 0;\n  margin: 0;\n  float: left;\n  padding-right: 10px;\n  width: auto;\n}\n\n.xr-attrs dt {\n  font-weight: normal;\n  grid-column: 1;\n}\n\n.xr-attrs dt:hover span {\n  display: inline-block;\n  background: var(--xr-background-color);\n  padding-right: 10px;\n}\n\n.xr-attrs dd {\n  grid-column: 2;\n  white-space: pre-wrap;\n  word-break: break-all;\n}\n\n.xr-icon-database,\n.xr-icon-file-text2 {\n  display: inline-block;\n  vertical-align: middle;\n  width: 1em;\n  height: 1.5em !important;\n  stroke-width: 0;\n  stroke: currentColor;\n  fill: currentColor;\n}\n</style><div class='xr-wrap'><div class='xr-header'><div class='xr-obj-type'>xarray.DataArray</div><div class='xr-array-name'>'meteo'</div><ul class='xr-dim-list'><li><span class='xr-has-index'>district</span>: 55</li><li><span class='xr-has-index'>time</span>: 8760</li><li><span class='xr-has-index'>factor</span>: 37</li></ul></div><ul class='xr-sections'><li class='xr-section-item'><div class='xr-array-wrap'><input id='section-b1fc7521-5012-40d8-9624-a7e8de02bf42' class='xr-array-in' type='checkbox' ><label for='section-b1fc7521-5012-40d8-9624-a7e8de02bf42' title='Show/hide data repr'><svg class='icon xr-icon-database'><use xlink:href='#icon-database'></use></svg></label><div class='xr-array-preview xr-preview'><span>...</span></div><pre class='xr-array-data'>[17826600 values with dtype=float64]</pre></div></li><li class='xr-section-item'><input id='section-4fbaf3cf-7506-46e8-b1a4-c88c285273cc' class='xr-section-summary-in' type='checkbox'  checked><label for='section-4fbaf3cf-7506-46e8-b1a4-c88c285273cc' class='xr-section-summary' >Coordinates: <span>(3)</span></label><div class='xr-section-inline-details'></div><div class='xr-section-details'><ul class='xr-var-list'><li class='xr-var-item'><div class='xr-var-name'><span class='xr-has-index'>time</span></div><div class='xr-var-dims'>(time)</div><div class='xr-var-dtype'>datetime64[ns]</div><div class='xr-var-preview xr-preview'>2019-01-01 ... 2019-12-31T23:00:00</div><input id='attrs-37c429f6-e32e-4a76-bd8c-121ed64577c0' class='xr-var-attrs-in' type='checkbox' disabled><label for='attrs-37c429f6-e32e-4a76-bd8c-121ed64577c0' title='Show/Hide attributes'><svg class='icon xr-icon-file-text2'><use xlink:href='#icon-file-text2'></use></svg></label><input id='data-9bd35b2c-a8b8-438f-a9db-a019606aae00' class='xr-var-data-in' type='checkbox'><label for='data-9bd35b2c-a8b8-438f-a9db-a019606aae00' title='Show/Hide data repr'><svg class='icon xr-icon-database'><use xlink:href='#icon-database'></use></svg></label><div class='xr-var-attrs'><dl class='xr-attrs'></dl></div><pre class='xr-var-data'>array([&#x27;2019-01-01T00:00:00.000000000&#x27;, &#x27;2019-01-01T01:00:00.000000000&#x27;,\n       &#x27;2019-01-01T02:00:00.000000000&#x27;, ..., &#x27;2019-12-31T21:00:00.000000000&#x27;,\n       &#x27;2019-12-31T22:00:00.000000000&#x27;, &#x27;2019-12-31T23:00:00.000000000&#x27;],\n      dtype=&#x27;datetime64[ns]&#x27;)</pre></li><li class='xr-var-item'><div class='xr-var-name'><span class='xr-has-index'>district</span></div><div class='xr-var-dims'>(district)</div><div class='xr-var-dtype'>object</div><div class='xr-var-preview xr-preview'>&#x27;Azimpur_Dhaka&#x27; ... &#x27;Tungipara_Dhaka&#x27;</div><input id='attrs-38d19e52-c8c2-4bc9-aaa1-d4947f14cda3' class='xr-var-attrs-in' type='checkbox' disabled><label for='attrs-38d19e52-c8c2-4bc9-aaa1-d4947f14cda3' title='Show/Hide attributes'><svg class='icon xr-icon-file-text2'><use xlink:href='#icon-file-text2'></use></svg></label><input id='data-ea488029-39d0-489e-bde3-82c1ba73bea9' class='xr-var-data-in' type='checkbox'><label for='data-ea488029-39d0-489e-bde3-82c1ba73bea9' title='Show/Hide data repr'><svg class='icon xr-icon-database'><use xlink:href='#icon-database'></use></svg></label><div class='xr-var-attrs'><dl class='xr-attrs'></dl></div><pre class='xr-var-data'>array([&#x27;Azimpur_Dhaka&#x27;, &#x27;Barisal_Barisal&#x27;, &#x27;Bhairab Bazar_Dhaka&#x27;,\n       &#x27;Bhola_Barisal&#x27;, &#x27;Bogra_Rajshahi&#x27;, &#x27;Chittagong_Chittagong&#x27;,\n       &#x27;Comilla_Chittagong&#x27;, &#x27;Dhaka_Dhaka&#x27;, &#x27;Dinajpur_Rangpur&#x27;,\n       &#x27;Faridpur_Dhaka&#x27;, &#x27;Feni_Chittagong&#x27;, &#x27;Habiganj_Sylhet&#x27;,\n       &#x27;Ishurdi_Rajshahi&#x27;, &#x27;Jamalpur_Mymensingh&#x27;, &#x27;Jessore_Khulna&#x27;,\n       &#x27;Joypur Hat_Rajshahi&#x27;, &#x27;Khagrachhari_Chittagong&#x27;, &#x27;Khulna_Khulna&#x27;,\n       &#x27;Kishorganj_Dhaka&#x27;, &#x27;Kushtia_Khulna&#x27;, &#x27;Laksham_Chittagong&#x27;,\n       &#x27;Lakshmipur_Chittagong&#x27;, &#x27;Lalmanirhat_Rangpur&#x27;, &#x27;Madaripur_Dhaka&#x27;,\n       &#x27;Maulavi Bazar_Sylhet&#x27;, &#x27;Mymensingh_Mymensingh&#x27;, &#x27;Nagarpur_Dhaka&#x27;,\n       &#x27;Narail_Khulna&#x27;, &#x27;Narayanganj_Dhaka&#x27;, &#x27;Narsingdi_Dhaka&#x27;,\n       &#x27;Nawabganj_Rajshahi&#x27;, &#x27;Netrakona_Mymensingh&#x27;, &#x27;Pabna_Rajshahi&#x27;,\n       &#x27;Palang_Dhaka&#x27;, &#x27;Paltan_Dhaka&#x27;, &#x27;Par Naogaon_Rajshahi&#x27;,\n       &#x27;Patiya_Chittagong&#x27;, &#x27;Pirojpur_Barisal&#x27;, &#x27;Raipur_Chittagong&#x27;,\n       &#x27;Rajshahi_Rajshahi&#x27;, &#x27;Ramganj_Chittagong&#x27;, &#x27;Rangpur_Rangpur&#x27;,\n       &#x27;Saidpur_Rajshahi&#x27;, &#x27;Sandwip_Chittagong&#x27;, &#x27;Sarishabari_Mymensingh&#x27;,\n       &#x27;Satkania_Chittagong&#x27;, &#x27;Satkhira_Khulna&#x27;, &#x27;Shahzadpur_Rajshahi&#x27;,\n       &#x27;Sherpur_Mymensingh&#x27;, &#x27;Sirajganj_Rajshahi&#x27;, &#x27;Sylhet_Sylhet&#x27;,\n       &#x27;Tangail_Dhaka&#x27;, &#x27;Thakurgaon_Rangpur&#x27;, &#x27;Tungi_Dhaka&#x27;, &#x27;Tungipara_Dhaka&#x27;],\n      dtype=object)</pre></li><li class='xr-var-item'><div class='xr-var-name'><span class='xr-has-index'>factor</span></div><div class='xr-var-dims'>(factor)</div><div class='xr-var-dtype'>object</div><div class='xr-var-preview xr-preview'>&#x27;Temperature [2 m elevation corrected]&#x27; ... &#x27;Evapotranspiration&#x27;</div><input id='attrs-df2567c1-6bc8-4279-b09a-535e16f063d5' class='xr-var-attrs-in' type='checkbox' disabled><label for='attrs-df2567c1-6bc8-4279-b09a-535e16f063d5' title='Show/Hide attributes'><svg class='icon xr-icon-file-text2'><use xlink:href='#icon-file-text2'></use></svg></label><input id='data-b92f273d-f6bd-4f2d-92aa-52f8f7ec7b27' class='xr-var-data-in' type='checkbox'><label for='data-b92f273d-f6bd-4f2d-92aa-52f8f7ec7b27' title='Show/Hide data repr'><svg class='icon xr-icon-database'><use xlink:href='#icon-database'></use></svg></label><div class='xr-var-attrs'><dl class='xr-attrs'></dl></div><pre class='xr-var-data'>array([&#x27;Temperature [2 m elevation corrected]&#x27;,\n       &#x27;Growing Degree Days [2 m elevation corrected]&#x27;, &#x27;Temperature [900 mb]&#x27;,\n       &#x27;Temperature [850 mb]&#x27;, &#x27;Temperature [800 mb]&#x27;, &#x27;Temperature [700 mb]&#x27;,\n       &#x27;Temperature [500 mb]&#x27;, &#x27;Precipitation Total&#x27;, &#x27;Precipitation Runoff&#x27;,\n       &#x27;Relative Humidity [2 m]&#x27;, &#x27;Wind Gust&#x27;, &#x27;Wind Speed [10 m]&#x27;,\n       &#x27;Wind Direction [10 m]&#x27;, &#x27;Wind Speed [100 m]&#x27;, &#x27;Wind Direction [100 m]&#x27;,\n       &#x27;Wind Speed [900 mb]&#x27;, &#x27;Wind Direction [900 mb]&#x27;, &#x27;Wind Speed [850 mb]&#x27;,\n       &#x27;Wind Direction [850 mb]&#x27;, &#x27;Wind Speed [800 mb]&#x27;,\n       &#x27;Wind Direction [800 mb]&#x27;, &#x27;Wind Speed [700 mb]&#x27;,\n       &#x27;Wind Direction [700 mb]&#x27;, &#x27;Wind Speed [500 mb]&#x27;,\n       &#x27;Wind Direction [500 mb]&#x27;, &#x27;Wind Speed [250 mb]&#x27;,\n       &#x27;Wind Direction [250 mb]&#x27;, &#x27;Cloud Cover Total&#x27;,\n       &#x27;Cloud Cover High [high cld lay]&#x27;, &#x27;Cloud Cover Medium [mid cld lay]&#x27;,\n       &#x27;Cloud Cover Low [low cld lay]&#x27;, &#x27;Sunshine Duration&#x27;,\n       &#x27;Shortwave Radiation&#x27;, &#x27;Longwave Radiation&#x27;, &#x27;UV Radiation&#x27;,\n       &#x27;Mean Sea Level Pressure [MSL]&#x27;, &#x27;Evapotranspiration&#x27;], dtype=object)</pre></li></ul></div></li><li class='xr-section-item'><input id='section-602f5ff6-df0d-4b43-8c25-2601b161477d' class='xr-section-summary-in' type='checkbox' disabled ><label for='section-602f5ff6-df0d-4b43-8c25-2601b161477d' class='xr-section-summary'  title='Expand/collapse section'>Attributes: <span>(0)</span></label><div class='xr-section-inline-details'></div><div class='xr-section-details'><dl class='xr-attrs'></dl></div></li></ul></div></div>"
     },
     "execution_count": 2,
     "metadata": {},
     "output_type": "execute_result"
    }
   ],
   "source": [
    "meteo_data"
   ],
   "metadata": {
    "collapsed": false,
    "pycharm": {
     "name": "#%%\n"
    }
   }
  },
  {
   "cell_type": "code",
   "execution_count": 3,
   "outputs": [],
   "source": [
    "from data_preparation import read_all_granularity_data\n",
    "\n",
    "metadata_all, series_all, metadata_region_all, region_series_all,\\\n",
    "metadata_country_all, country_series_all = read_all_granularity_data()"
   ],
   "metadata": {
    "collapsed": false,
    "pycharm": {
     "name": "#%%\n"
    }
   }
  },
  {
   "cell_type": "code",
   "execution_count": 4,
   "outputs": [
    {
     "data": {
      "text/plain": "time\n2019-01-01 00:00:00    168.2\n2019-01-01 01:00:00    157.6\n2019-01-01 02:00:00    161.4\n2019-01-01 03:00:00    187.7\n2019-01-01 04:00:00    198.5\n                       ...  \n2019-12-31 19:00:00    245.2\n2019-12-31 20:00:00    296.6\n2019-12-31 21:00:00    285.1\n2019-12-31 22:00:00    225.3\n2019-12-31 23:00:00    210.9\nName: Azimpur_Dhaka, Length: 8760, dtype: float64"
     },
     "execution_count": 4,
     "metadata": {},
     "output_type": "execute_result"
    }
   ],
   "source": [
    "series_dhaka = series_all.Azimpur_Dhaka['2019']\n",
    "series_dhaka"
   ],
   "metadata": {
    "collapsed": false,
    "pycharm": {
     "name": "#%%\n"
    }
   }
  },
  {
   "cell_type": "code",
   "execution_count": 5,
   "outputs": [],
   "source": [
    "from data_preparation.spatio_temporal_filtering import read_bd_data\n",
    "\n",
    "metadata, series, metadata_region, region_series, metadata_country, country_series = read_bd_data()"
   ],
   "metadata": {
    "collapsed": false,
    "pycharm": {
     "name": "#%%\n"
    }
   }
  },
  {
   "cell_type": "code",
   "execution_count": 6,
   "outputs": [
    {
     "data": {
      "text/plain": "                     Azimpur_Dhaka  Barisal_Barisal  Bhairab Bazar_Dhaka  \\\ntime                                                                       \n2019-01-01 00:00:00          168.2            144.6                141.6   \n2019-01-01 01:00:00          157.6            133.0                133.0   \n2019-01-01 02:00:00          161.4            136.5                135.3   \n2019-01-01 03:00:00          187.7            152.2                156.7   \n2019-01-01 04:00:00          198.5            160.1                166.1   \n...                            ...              ...                  ...   \n2019-12-31 19:00:00          245.2            202.0                213.7   \n2019-12-31 20:00:00          296.6            230.0                250.1   \n2019-12-31 21:00:00          285.1            227.4                241.7   \n2019-12-31 22:00:00          225.3            177.0                216.7   \n2019-12-31 23:00:00          210.9            165.0                204.6   \n\n                     Bhola_Barisal  Bogra_Rajshahi  Chittagong_Chittagong  \\\ntime                                                                        \n2019-01-01 00:00:00          139.4           138.9                  110.5   \n2019-01-01 01:00:00          128.4           133.2                  101.8   \n2019-01-01 02:00:00          131.5           132.3                  103.3   \n2019-01-01 03:00:00          147.2           144.8                  116.1   \n2019-01-01 04:00:00          155.1           151.7                  123.6   \n...                            ...             ...                    ...   \n2019-12-31 19:00:00          192.2           239.5                  147.6   \n2019-12-31 20:00:00          219.7           258.6                  166.5   \n2019-12-31 21:00:00          216.5           255.2                  163.3   \n2019-12-31 22:00:00          172.8           186.6                  144.3   \n2019-12-31 23:00:00          161.4           179.9                  135.3   \n\n                     Comilla_Chittagong  Dhaka_Dhaka  Dinajpur_Rangpur  \\\ntime                                                                     \n2019-01-01 00:00:00               137.4        168.1             139.7   \n2019-01-01 01:00:00               128.1        157.5             136.7   \n2019-01-01 02:00:00               130.7        161.3             129.0   \n2019-01-01 03:00:00               150.5        187.9             136.1   \n2019-01-01 04:00:00               159.4        198.7             138.9   \n...                                 ...          ...               ...   \n2019-12-31 19:00:00               196.5        244.3             208.5   \n2019-12-31 20:00:00               230.5        296.6             216.5   \n2019-12-31 21:00:00               223.3        284.8             214.8   \n2019-12-31 22:00:00               197.0        226.2             147.9   \n2019-12-31 23:00:00               184.7        211.2             144.5   \n\n                     Faridpur_Dhaka  ...  Satkania_Chittagong  \\\ntime                                 ...                        \n2019-01-01 00:00:00           158.9  ...                104.4   \n2019-01-01 01:00:00           148.4  ...                 96.1   \n2019-01-01 02:00:00           153.0  ...                 97.3   \n2019-01-01 03:00:00           172.2  ...                108.9   \n2019-01-01 04:00:00           181.3  ...                116.3   \n...                             ...  ...                  ...   \n2019-12-31 19:00:00           249.5  ...                137.7   \n2019-12-31 20:00:00           285.6  ...                154.1   \n2019-12-31 21:00:00           279.9  ...                151.3   \n2019-12-31 22:00:00           208.6  ...                133.8   \n2019-12-31 23:00:00           194.7  ...                125.6   \n\n                     Satkhira_Khulna  Shahzadpur_Rajshahi  Sherpur_Mymensingh  \\\ntime                                                                            \n2019-01-01 00:00:00            161.9                150.3               131.5   \n2019-01-01 01:00:00            146.6                142.1               125.6   \n2019-01-01 02:00:00            154.0                144.9               125.0   \n2019-01-01 03:00:00            163.6                161.4               139.7   \n2019-01-01 04:00:00            169.0                169.9               147.2   \n...                              ...                  ...                 ...   \n2019-12-31 19:00:00            256.2                249.8               244.6   \n2019-12-31 20:00:00            271.5                278.9               265.7   \n2019-12-31 21:00:00            278.2                274.0               261.3   \n2019-12-31 22:00:00            187.2                203.3               201.0   \n2019-12-31 23:00:00            171.6                191.9               195.9   \n\n                     Sirajganj_Rajshahi  Sylhet_Sylhet  Tangail_Dhaka  \\\ntime                                                                    \n2019-01-01 00:00:00               145.5          103.7          152.0   \n2019-01-01 01:00:00               138.1           98.0          143.6   \n2019-01-01 02:00:00               139.6           98.8          146.1   \n2019-01-01 03:00:00               155.9          113.7          165.3   \n2019-01-01 04:00:00               164.2          121.4          174.3   \n...                                 ...            ...            ...   \n2019-12-31 19:00:00               245.6          156.6          247.1   \n2019-12-31 20:00:00               273.3          169.7          281.5   \n2019-12-31 21:00:00               268.1          166.5          274.7   \n2019-12-31 22:00:00               203.0          223.3          211.4   \n2019-12-31 23:00:00               193.5          210.7          200.3   \n\n                     Thakurgaon_Rangpur  Tungi_Dhaka  Tungipara_Dhaka  \ntime                                                                   \n2019-01-01 00:00:00               138.1        166.8            152.6  \n2019-01-01 01:00:00               136.1        156.7            140.2  \n2019-01-01 02:00:00               125.2        160.1            144.8  \n2019-01-01 03:00:00               130.8        186.7            160.0  \n2019-01-01 04:00:00               131.6        197.5            167.6  \n...                                 ...          ...              ...  \n2019-12-31 19:00:00               188.4        244.6            223.6  \n2019-12-31 20:00:00               193.5        295.3            251.0  \n2019-12-31 21:00:00               192.1        283.7            249.8  \n2019-12-31 22:00:00               130.9        227.2            185.3  \n2019-12-31 23:00:00               129.2        213.9            172.2  \n\n[8760 rows x 55 columns]",
      "text/html": "<div>\n<style scoped>\n    .dataframe tbody tr th:only-of-type {\n        vertical-align: middle;\n    }\n\n    .dataframe tbody tr th {\n        vertical-align: top;\n    }\n\n    .dataframe thead th {\n        text-align: right;\n    }\n</style>\n<table border=\"1\" class=\"dataframe\">\n  <thead>\n    <tr style=\"text-align: right;\">\n      <th></th>\n      <th>Azimpur_Dhaka</th>\n      <th>Barisal_Barisal</th>\n      <th>Bhairab Bazar_Dhaka</th>\n      <th>Bhola_Barisal</th>\n      <th>Bogra_Rajshahi</th>\n      <th>Chittagong_Chittagong</th>\n      <th>Comilla_Chittagong</th>\n      <th>Dhaka_Dhaka</th>\n      <th>Dinajpur_Rangpur</th>\n      <th>Faridpur_Dhaka</th>\n      <th>...</th>\n      <th>Satkania_Chittagong</th>\n      <th>Satkhira_Khulna</th>\n      <th>Shahzadpur_Rajshahi</th>\n      <th>Sherpur_Mymensingh</th>\n      <th>Sirajganj_Rajshahi</th>\n      <th>Sylhet_Sylhet</th>\n      <th>Tangail_Dhaka</th>\n      <th>Thakurgaon_Rangpur</th>\n      <th>Tungi_Dhaka</th>\n      <th>Tungipara_Dhaka</th>\n    </tr>\n    <tr>\n      <th>time</th>\n      <th></th>\n      <th></th>\n      <th></th>\n      <th></th>\n      <th></th>\n      <th></th>\n      <th></th>\n      <th></th>\n      <th></th>\n      <th></th>\n      <th></th>\n      <th></th>\n      <th></th>\n      <th></th>\n      <th></th>\n      <th></th>\n      <th></th>\n      <th></th>\n      <th></th>\n      <th></th>\n      <th></th>\n    </tr>\n  </thead>\n  <tbody>\n    <tr>\n      <th>2019-01-01 00:00:00</th>\n      <td>168.2</td>\n      <td>144.6</td>\n      <td>141.6</td>\n      <td>139.4</td>\n      <td>138.9</td>\n      <td>110.5</td>\n      <td>137.4</td>\n      <td>168.1</td>\n      <td>139.7</td>\n      <td>158.9</td>\n      <td>...</td>\n      <td>104.4</td>\n      <td>161.9</td>\n      <td>150.3</td>\n      <td>131.5</td>\n      <td>145.5</td>\n      <td>103.7</td>\n      <td>152.0</td>\n      <td>138.1</td>\n      <td>166.8</td>\n      <td>152.6</td>\n    </tr>\n    <tr>\n      <th>2019-01-01 01:00:00</th>\n      <td>157.6</td>\n      <td>133.0</td>\n      <td>133.0</td>\n      <td>128.4</td>\n      <td>133.2</td>\n      <td>101.8</td>\n      <td>128.1</td>\n      <td>157.5</td>\n      <td>136.7</td>\n      <td>148.4</td>\n      <td>...</td>\n      <td>96.1</td>\n      <td>146.6</td>\n      <td>142.1</td>\n      <td>125.6</td>\n      <td>138.1</td>\n      <td>98.0</td>\n      <td>143.6</td>\n      <td>136.1</td>\n      <td>156.7</td>\n      <td>140.2</td>\n    </tr>\n    <tr>\n      <th>2019-01-01 02:00:00</th>\n      <td>161.4</td>\n      <td>136.5</td>\n      <td>135.3</td>\n      <td>131.5</td>\n      <td>132.3</td>\n      <td>103.3</td>\n      <td>130.7</td>\n      <td>161.3</td>\n      <td>129.0</td>\n      <td>153.0</td>\n      <td>...</td>\n      <td>97.3</td>\n      <td>154.0</td>\n      <td>144.9</td>\n      <td>125.0</td>\n      <td>139.6</td>\n      <td>98.8</td>\n      <td>146.1</td>\n      <td>125.2</td>\n      <td>160.1</td>\n      <td>144.8</td>\n    </tr>\n    <tr>\n      <th>2019-01-01 03:00:00</th>\n      <td>187.7</td>\n      <td>152.2</td>\n      <td>156.7</td>\n      <td>147.2</td>\n      <td>144.8</td>\n      <td>116.1</td>\n      <td>150.5</td>\n      <td>187.9</td>\n      <td>136.1</td>\n      <td>172.2</td>\n      <td>...</td>\n      <td>108.9</td>\n      <td>163.6</td>\n      <td>161.4</td>\n      <td>139.7</td>\n      <td>155.9</td>\n      <td>113.7</td>\n      <td>165.3</td>\n      <td>130.8</td>\n      <td>186.7</td>\n      <td>160.0</td>\n    </tr>\n    <tr>\n      <th>2019-01-01 04:00:00</th>\n      <td>198.5</td>\n      <td>160.1</td>\n      <td>166.1</td>\n      <td>155.1</td>\n      <td>151.7</td>\n      <td>123.6</td>\n      <td>159.4</td>\n      <td>198.7</td>\n      <td>138.9</td>\n      <td>181.3</td>\n      <td>...</td>\n      <td>116.3</td>\n      <td>169.0</td>\n      <td>169.9</td>\n      <td>147.2</td>\n      <td>164.2</td>\n      <td>121.4</td>\n      <td>174.3</td>\n      <td>131.6</td>\n      <td>197.5</td>\n      <td>167.6</td>\n    </tr>\n    <tr>\n      <th>...</th>\n      <td>...</td>\n      <td>...</td>\n      <td>...</td>\n      <td>...</td>\n      <td>...</td>\n      <td>...</td>\n      <td>...</td>\n      <td>...</td>\n      <td>...</td>\n      <td>...</td>\n      <td>...</td>\n      <td>...</td>\n      <td>...</td>\n      <td>...</td>\n      <td>...</td>\n      <td>...</td>\n      <td>...</td>\n      <td>...</td>\n      <td>...</td>\n      <td>...</td>\n      <td>...</td>\n    </tr>\n    <tr>\n      <th>2019-12-31 19:00:00</th>\n      <td>245.2</td>\n      <td>202.0</td>\n      <td>213.7</td>\n      <td>192.2</td>\n      <td>239.5</td>\n      <td>147.6</td>\n      <td>196.5</td>\n      <td>244.3</td>\n      <td>208.5</td>\n      <td>249.5</td>\n      <td>...</td>\n      <td>137.7</td>\n      <td>256.2</td>\n      <td>249.8</td>\n      <td>244.6</td>\n      <td>245.6</td>\n      <td>156.6</td>\n      <td>247.1</td>\n      <td>188.4</td>\n      <td>244.6</td>\n      <td>223.6</td>\n    </tr>\n    <tr>\n      <th>2019-12-31 20:00:00</th>\n      <td>296.6</td>\n      <td>230.0</td>\n      <td>250.1</td>\n      <td>219.7</td>\n      <td>258.6</td>\n      <td>166.5</td>\n      <td>230.5</td>\n      <td>296.6</td>\n      <td>216.5</td>\n      <td>285.6</td>\n      <td>...</td>\n      <td>154.1</td>\n      <td>271.5</td>\n      <td>278.9</td>\n      <td>265.7</td>\n      <td>273.3</td>\n      <td>169.7</td>\n      <td>281.5</td>\n      <td>193.5</td>\n      <td>295.3</td>\n      <td>251.0</td>\n    </tr>\n    <tr>\n      <th>2019-12-31 21:00:00</th>\n      <td>285.1</td>\n      <td>227.4</td>\n      <td>241.7</td>\n      <td>216.5</td>\n      <td>255.2</td>\n      <td>163.3</td>\n      <td>223.3</td>\n      <td>284.8</td>\n      <td>214.8</td>\n      <td>279.9</td>\n      <td>...</td>\n      <td>151.3</td>\n      <td>278.2</td>\n      <td>274.0</td>\n      <td>261.3</td>\n      <td>268.1</td>\n      <td>166.5</td>\n      <td>274.7</td>\n      <td>192.1</td>\n      <td>283.7</td>\n      <td>249.8</td>\n    </tr>\n    <tr>\n      <th>2019-12-31 22:00:00</th>\n      <td>225.3</td>\n      <td>177.0</td>\n      <td>216.7</td>\n      <td>172.8</td>\n      <td>186.6</td>\n      <td>144.3</td>\n      <td>197.0</td>\n      <td>226.2</td>\n      <td>147.9</td>\n      <td>208.6</td>\n      <td>...</td>\n      <td>133.8</td>\n      <td>187.2</td>\n      <td>203.3</td>\n      <td>201.0</td>\n      <td>203.0</td>\n      <td>223.3</td>\n      <td>211.4</td>\n      <td>130.9</td>\n      <td>227.2</td>\n      <td>185.3</td>\n    </tr>\n    <tr>\n      <th>2019-12-31 23:00:00</th>\n      <td>210.9</td>\n      <td>165.0</td>\n      <td>204.6</td>\n      <td>161.4</td>\n      <td>179.9</td>\n      <td>135.3</td>\n      <td>184.7</td>\n      <td>211.2</td>\n      <td>144.5</td>\n      <td>194.7</td>\n      <td>...</td>\n      <td>125.6</td>\n      <td>171.6</td>\n      <td>191.9</td>\n      <td>195.9</td>\n      <td>193.5</td>\n      <td>210.7</td>\n      <td>200.3</td>\n      <td>129.2</td>\n      <td>213.9</td>\n      <td>172.2</td>\n    </tr>\n  </tbody>\n</table>\n<p>8760 rows × 55 columns</p>\n</div>"
     },
     "execution_count": 6,
     "metadata": {},
     "output_type": "execute_result"
    }
   ],
   "source": [
    "from data_preparation.handling_missing_entries import FillMissingFromCombined\n",
    "\n",
    "series_imputed = series.apply(FillMissingFromCombined)['2019']\n",
    "series_imputed"
   ],
   "metadata": {
    "collapsed": false,
    "pycharm": {
     "name": "#%%\n"
    }
   }
  },
  {
   "cell_type": "code",
   "execution_count": 7,
   "outputs": [],
   "source": [
    "series_bd = series_imputed"
   ],
   "metadata": {
    "collapsed": false,
    "pycharm": {
     "name": "#%%\n"
    }
   }
  },
  {
   "cell_type": "code",
   "execution_count": 15,
   "outputs": [
    {
     "data": {
      "text/plain": "                     Azimpur_Dhaka  Barisal_Barisal  Bhairab Bazar_Dhaka  \\\ntime                                                                       \n2019-01-01 00:00:00            NaN              NaN                  NaN   \n2019-01-01 01:00:00          -10.6            -11.6                 -8.6   \n2019-01-01 02:00:00            3.8              3.5                  2.3   \n2019-01-01 03:00:00           26.3             15.7                 21.4   \n2019-01-01 04:00:00           10.8              7.9                  9.4   \n...                            ...              ...                  ...   \n2019-12-31 19:00:00            1.8              0.6                  1.0   \n2019-12-31 20:00:00           51.4             28.0                 36.4   \n2019-12-31 21:00:00          -11.5             -2.6                 -8.4   \n2019-12-31 22:00:00          -59.8            -50.4                -25.0   \n2019-12-31 23:00:00          -14.4            -12.0                -12.1   \n\n                     Bhola_Barisal  Bogra_Rajshahi  Chittagong_Chittagong  \\\ntime                                                                        \n2019-01-01 00:00:00            NaN             NaN                    NaN   \n2019-01-01 01:00:00          -11.0            -5.7                   -8.7   \n2019-01-01 02:00:00            3.1            -0.9                    1.5   \n2019-01-01 03:00:00           15.7            12.5                   12.8   \n2019-01-01 04:00:00            7.9             6.9                    7.5   \n...                            ...             ...                    ...   \n2019-12-31 19:00:00            0.5             2.2                   -0.2   \n2019-12-31 20:00:00           27.5            19.1                   18.9   \n2019-12-31 21:00:00           -3.2            -3.4                   -3.2   \n2019-12-31 22:00:00          -43.7           -68.6                  -19.0   \n2019-12-31 23:00:00          -11.4            -6.7                   -9.0   \n\n                     Comilla_Chittagong  Dhaka_Dhaka  Dinajpur_Rangpur  \\\ntime                                                                     \n2019-01-01 00:00:00                 NaN          NaN               NaN   \n2019-01-01 01:00:00                -9.3        -10.6              -3.0   \n2019-01-01 02:00:00                 2.6          3.8              -7.7   \n2019-01-01 03:00:00                19.8         26.6               7.1   \n2019-01-01 04:00:00                 8.9         10.8               2.8   \n...                                 ...          ...               ...   \n2019-12-31 19:00:00                 0.7          1.8               3.2   \n2019-12-31 20:00:00                34.0         52.3               8.0   \n2019-12-31 21:00:00                -7.2        -11.8              -1.7   \n2019-12-31 22:00:00               -26.3        -58.6             -66.9   \n2019-12-31 23:00:00               -12.3        -15.0              -3.4   \n\n                     Faridpur_Dhaka  ...  Satkania_Chittagong  \\\ntime                                 ...                        \n2019-01-01 00:00:00             NaN  ...                  NaN   \n2019-01-01 01:00:00           -10.5  ...                 -8.3   \n2019-01-01 02:00:00             4.6  ...                  1.2   \n2019-01-01 03:00:00            19.2  ...                 11.6   \n2019-01-01 04:00:00             9.1  ...                  7.4   \n...                             ...  ...                  ...   \n2019-12-31 19:00:00             1.6  ...                 -0.4   \n2019-12-31 20:00:00            36.1  ...                 16.4   \n2019-12-31 21:00:00            -5.7  ...                 -2.8   \n2019-12-31 22:00:00           -71.3  ...                -17.5   \n2019-12-31 23:00:00           -13.9  ...                 -8.2   \n\n                     Satkhira_Khulna  Shahzadpur_Rajshahi  Sherpur_Mymensingh  \\\ntime                                                                            \n2019-01-01 00:00:00              NaN                  NaN                 NaN   \n2019-01-01 01:00:00            -15.3                 -8.2                -5.9   \n2019-01-01 02:00:00              7.4                  2.8                -0.6   \n2019-01-01 03:00:00              9.6                 16.5                14.7   \n2019-01-01 04:00:00              5.4                  8.5                 7.5   \n...                              ...                  ...                 ...   \n2019-12-31 19:00:00              0.7                  1.9                 1.5   \n2019-12-31 20:00:00             15.3                 29.1                21.1   \n2019-12-31 21:00:00              6.7                 -4.9                -4.4   \n2019-12-31 22:00:00            -91.0                -70.7               -60.3   \n2019-12-31 23:00:00            -15.6                -11.4                -5.1   \n\n                     Sirajganj_Rajshahi  Sylhet_Sylhet  Tangail_Dhaka  \\\ntime                                                                    \n2019-01-01 00:00:00                 NaN            NaN            NaN   \n2019-01-01 01:00:00                -7.4           -5.7           -8.4   \n2019-01-01 02:00:00                 1.5            0.8            2.5   \n2019-01-01 03:00:00                16.3           14.9           19.2   \n2019-01-01 04:00:00                 8.3            7.7            9.0   \n...                                 ...            ...            ...   \n2019-12-31 19:00:00                 1.8            0.0            1.7   \n2019-12-31 20:00:00                27.7           13.1           34.4   \n2019-12-31 21:00:00                -5.2           -3.2           -6.8   \n2019-12-31 22:00:00               -65.1           56.8          -63.3   \n2019-12-31 23:00:00                -9.5          -12.6          -11.1   \n\n                     Thakurgaon_Rangpur  Tungi_Dhaka  Tungipara_Dhaka  \ntime                                                                   \n2019-01-01 00:00:00                 NaN          NaN              NaN  \n2019-01-01 01:00:00                -2.0        -10.1            -12.4  \n2019-01-01 02:00:00               -10.9          3.4              4.6  \n2019-01-01 03:00:00                 5.6         26.6             15.2  \n2019-01-01 04:00:00                 0.8         10.8              7.6  \n...                                 ...          ...              ...  \n2019-12-31 19:00:00                 2.6          1.7              0.9  \n2019-12-31 20:00:00                 5.1         50.7             27.4  \n2019-12-31 21:00:00                -1.4        -11.6             -1.2  \n2019-12-31 22:00:00               -61.2        -56.5            -64.5  \n2019-12-31 23:00:00                -1.7        -13.3            -13.1  \n\n[8760 rows x 55 columns]",
      "text/html": "<div>\n<style scoped>\n    .dataframe tbody tr th:only-of-type {\n        vertical-align: middle;\n    }\n\n    .dataframe tbody tr th {\n        vertical-align: top;\n    }\n\n    .dataframe thead th {\n        text-align: right;\n    }\n</style>\n<table border=\"1\" class=\"dataframe\">\n  <thead>\n    <tr style=\"text-align: right;\">\n      <th></th>\n      <th>Azimpur_Dhaka</th>\n      <th>Barisal_Barisal</th>\n      <th>Bhairab Bazar_Dhaka</th>\n      <th>Bhola_Barisal</th>\n      <th>Bogra_Rajshahi</th>\n      <th>Chittagong_Chittagong</th>\n      <th>Comilla_Chittagong</th>\n      <th>Dhaka_Dhaka</th>\n      <th>Dinajpur_Rangpur</th>\n      <th>Faridpur_Dhaka</th>\n      <th>...</th>\n      <th>Satkania_Chittagong</th>\n      <th>Satkhira_Khulna</th>\n      <th>Shahzadpur_Rajshahi</th>\n      <th>Sherpur_Mymensingh</th>\n      <th>Sirajganj_Rajshahi</th>\n      <th>Sylhet_Sylhet</th>\n      <th>Tangail_Dhaka</th>\n      <th>Thakurgaon_Rangpur</th>\n      <th>Tungi_Dhaka</th>\n      <th>Tungipara_Dhaka</th>\n    </tr>\n    <tr>\n      <th>time</th>\n      <th></th>\n      <th></th>\n      <th></th>\n      <th></th>\n      <th></th>\n      <th></th>\n      <th></th>\n      <th></th>\n      <th></th>\n      <th></th>\n      <th></th>\n      <th></th>\n      <th></th>\n      <th></th>\n      <th></th>\n      <th></th>\n      <th></th>\n      <th></th>\n      <th></th>\n      <th></th>\n      <th></th>\n    </tr>\n  </thead>\n  <tbody>\n    <tr>\n      <th>2019-01-01 00:00:00</th>\n      <td>NaN</td>\n      <td>NaN</td>\n      <td>NaN</td>\n      <td>NaN</td>\n      <td>NaN</td>\n      <td>NaN</td>\n      <td>NaN</td>\n      <td>NaN</td>\n      <td>NaN</td>\n      <td>NaN</td>\n      <td>...</td>\n      <td>NaN</td>\n      <td>NaN</td>\n      <td>NaN</td>\n      <td>NaN</td>\n      <td>NaN</td>\n      <td>NaN</td>\n      <td>NaN</td>\n      <td>NaN</td>\n      <td>NaN</td>\n      <td>NaN</td>\n    </tr>\n    <tr>\n      <th>2019-01-01 01:00:00</th>\n      <td>-10.6</td>\n      <td>-11.6</td>\n      <td>-8.6</td>\n      <td>-11.0</td>\n      <td>-5.7</td>\n      <td>-8.7</td>\n      <td>-9.3</td>\n      <td>-10.6</td>\n      <td>-3.0</td>\n      <td>-10.5</td>\n      <td>...</td>\n      <td>-8.3</td>\n      <td>-15.3</td>\n      <td>-8.2</td>\n      <td>-5.9</td>\n      <td>-7.4</td>\n      <td>-5.7</td>\n      <td>-8.4</td>\n      <td>-2.0</td>\n      <td>-10.1</td>\n      <td>-12.4</td>\n    </tr>\n    <tr>\n      <th>2019-01-01 02:00:00</th>\n      <td>3.8</td>\n      <td>3.5</td>\n      <td>2.3</td>\n      <td>3.1</td>\n      <td>-0.9</td>\n      <td>1.5</td>\n      <td>2.6</td>\n      <td>3.8</td>\n      <td>-7.7</td>\n      <td>4.6</td>\n      <td>...</td>\n      <td>1.2</td>\n      <td>7.4</td>\n      <td>2.8</td>\n      <td>-0.6</td>\n      <td>1.5</td>\n      <td>0.8</td>\n      <td>2.5</td>\n      <td>-10.9</td>\n      <td>3.4</td>\n      <td>4.6</td>\n    </tr>\n    <tr>\n      <th>2019-01-01 03:00:00</th>\n      <td>26.3</td>\n      <td>15.7</td>\n      <td>21.4</td>\n      <td>15.7</td>\n      <td>12.5</td>\n      <td>12.8</td>\n      <td>19.8</td>\n      <td>26.6</td>\n      <td>7.1</td>\n      <td>19.2</td>\n      <td>...</td>\n      <td>11.6</td>\n      <td>9.6</td>\n      <td>16.5</td>\n      <td>14.7</td>\n      <td>16.3</td>\n      <td>14.9</td>\n      <td>19.2</td>\n      <td>5.6</td>\n      <td>26.6</td>\n      <td>15.2</td>\n    </tr>\n    <tr>\n      <th>2019-01-01 04:00:00</th>\n      <td>10.8</td>\n      <td>7.9</td>\n      <td>9.4</td>\n      <td>7.9</td>\n      <td>6.9</td>\n      <td>7.5</td>\n      <td>8.9</td>\n      <td>10.8</td>\n      <td>2.8</td>\n      <td>9.1</td>\n      <td>...</td>\n      <td>7.4</td>\n      <td>5.4</td>\n      <td>8.5</td>\n      <td>7.5</td>\n      <td>8.3</td>\n      <td>7.7</td>\n      <td>9.0</td>\n      <td>0.8</td>\n      <td>10.8</td>\n      <td>7.6</td>\n    </tr>\n    <tr>\n      <th>...</th>\n      <td>...</td>\n      <td>...</td>\n      <td>...</td>\n      <td>...</td>\n      <td>...</td>\n      <td>...</td>\n      <td>...</td>\n      <td>...</td>\n      <td>...</td>\n      <td>...</td>\n      <td>...</td>\n      <td>...</td>\n      <td>...</td>\n      <td>...</td>\n      <td>...</td>\n      <td>...</td>\n      <td>...</td>\n      <td>...</td>\n      <td>...</td>\n      <td>...</td>\n      <td>...</td>\n    </tr>\n    <tr>\n      <th>2019-12-31 19:00:00</th>\n      <td>1.8</td>\n      <td>0.6</td>\n      <td>1.0</td>\n      <td>0.5</td>\n      <td>2.2</td>\n      <td>-0.2</td>\n      <td>0.7</td>\n      <td>1.8</td>\n      <td>3.2</td>\n      <td>1.6</td>\n      <td>...</td>\n      <td>-0.4</td>\n      <td>0.7</td>\n      <td>1.9</td>\n      <td>1.5</td>\n      <td>1.8</td>\n      <td>0.0</td>\n      <td>1.7</td>\n      <td>2.6</td>\n      <td>1.7</td>\n      <td>0.9</td>\n    </tr>\n    <tr>\n      <th>2019-12-31 20:00:00</th>\n      <td>51.4</td>\n      <td>28.0</td>\n      <td>36.4</td>\n      <td>27.5</td>\n      <td>19.1</td>\n      <td>18.9</td>\n      <td>34.0</td>\n      <td>52.3</td>\n      <td>8.0</td>\n      <td>36.1</td>\n      <td>...</td>\n      <td>16.4</td>\n      <td>15.3</td>\n      <td>29.1</td>\n      <td>21.1</td>\n      <td>27.7</td>\n      <td>13.1</td>\n      <td>34.4</td>\n      <td>5.1</td>\n      <td>50.7</td>\n      <td>27.4</td>\n    </tr>\n    <tr>\n      <th>2019-12-31 21:00:00</th>\n      <td>-11.5</td>\n      <td>-2.6</td>\n      <td>-8.4</td>\n      <td>-3.2</td>\n      <td>-3.4</td>\n      <td>-3.2</td>\n      <td>-7.2</td>\n      <td>-11.8</td>\n      <td>-1.7</td>\n      <td>-5.7</td>\n      <td>...</td>\n      <td>-2.8</td>\n      <td>6.7</td>\n      <td>-4.9</td>\n      <td>-4.4</td>\n      <td>-5.2</td>\n      <td>-3.2</td>\n      <td>-6.8</td>\n      <td>-1.4</td>\n      <td>-11.6</td>\n      <td>-1.2</td>\n    </tr>\n    <tr>\n      <th>2019-12-31 22:00:00</th>\n      <td>-59.8</td>\n      <td>-50.4</td>\n      <td>-25.0</td>\n      <td>-43.7</td>\n      <td>-68.6</td>\n      <td>-19.0</td>\n      <td>-26.3</td>\n      <td>-58.6</td>\n      <td>-66.9</td>\n      <td>-71.3</td>\n      <td>...</td>\n      <td>-17.5</td>\n      <td>-91.0</td>\n      <td>-70.7</td>\n      <td>-60.3</td>\n      <td>-65.1</td>\n      <td>56.8</td>\n      <td>-63.3</td>\n      <td>-61.2</td>\n      <td>-56.5</td>\n      <td>-64.5</td>\n    </tr>\n    <tr>\n      <th>2019-12-31 23:00:00</th>\n      <td>-14.4</td>\n      <td>-12.0</td>\n      <td>-12.1</td>\n      <td>-11.4</td>\n      <td>-6.7</td>\n      <td>-9.0</td>\n      <td>-12.3</td>\n      <td>-15.0</td>\n      <td>-3.4</td>\n      <td>-13.9</td>\n      <td>...</td>\n      <td>-8.2</td>\n      <td>-15.6</td>\n      <td>-11.4</td>\n      <td>-5.1</td>\n      <td>-9.5</td>\n      <td>-12.6</td>\n      <td>-11.1</td>\n      <td>-1.7</td>\n      <td>-13.3</td>\n      <td>-13.1</td>\n    </tr>\n  </tbody>\n</table>\n<p>8760 rows × 55 columns</p>\n</div>"
     },
     "execution_count": 15,
     "metadata": {},
     "output_type": "execute_result"
    }
   ],
   "source": [
    "series_bd.diff()"
   ],
   "metadata": {
    "collapsed": false,
    "pycharm": {
     "name": "#%%\n"
    }
   }
  },
  {
   "cell_type": "code",
   "execution_count": 22,
   "outputs": [],
   "source": [
    "corr_zones = []\n",
    "\n",
    "for series_zone in series_bd:\n",
    "    series_zone_data = series_bd[series_zone]\n",
    "    # series_zone_data = series_bd[series_zone][\"2019-01\":\"2019-03\"]\n",
    "    corr_zone = (get_district_data(meteo_data,series_zone).apply(lambda x: x.corr(series_zone_data)))\n",
    "    corr_zones.append(corr_zone)"
   ],
   "metadata": {
    "collapsed": false,
    "pycharm": {
     "name": "#%%\n"
    }
   }
  },
  {
   "cell_type": "code",
   "execution_count": 23,
   "outputs": [
    {
     "data": {
      "text/plain": "               Temperature [2 m elevation corrected]  \\\nZone                                                   \nAzimpur                                    -0.640512   \nBarisal                                    -0.674920   \nBhairab Bazar                              -0.634829   \nBhola                                      -0.690718   \nBogra                                      -0.678151   \nChittagong                                 -0.659235   \nComilla                                    -0.628510   \nDhaka                                      -0.638423   \nDinajpur                                   -0.678392   \nFaridpur                                   -0.674850   \nFeni                                       -0.633582   \nHabiganj                                   -0.627419   \nIshurdi                                    -0.698271   \nJamalpur                                   -0.661231   \nJessore                                    -0.695815   \nJoypur Hat                                 -0.687939   \nKhagrachhari                               -0.616362   \nKhulna                                     -0.685832   \nKishorganj                                 -0.644828   \nKushtia                                    -0.699077   \nLaksham                                    -0.639129   \nLakshmipur                                 -0.663872   \nLalmanirhat                                -0.645258   \nMadaripur                                  -0.674562   \nMaulavi Bazar                              -0.624660   \nMymensingh                                 -0.641946   \nNagarpur                                   -0.668227   \nNarail                                     -0.694619   \nNarayanganj                                -0.633437   \nNarsingdi                                  -0.628423   \nNawabganj                                  -0.698052   \nNetrakona                                  -0.639993   \nPabna                                      -0.696318   \nPalang                                     -0.668121   \nPaltan                                     -0.638423   \nPar Naogaon                                -0.684635   \nPatiya                                     -0.658103   \nPirojpur                                   -0.693176   \nRaipur                                     -0.661105   \nRajshahi                                   -0.693532   \nRamganj                                    -0.643013   \nRangpur                                    -0.667743   \nSaidpur                                    -0.668966   \nSandwip                                    -0.616442   \nSarishabari                                -0.668789   \nSatkania                                   -0.602798   \nSatkhira                                   -0.689928   \nShahzadpur                                 -0.680033   \nSherpur                                    -0.657277   \nSirajganj                                  -0.671238   \nSylhet                                     -0.623535   \nTangail                                    -0.662346   \nThakurgaon                                 -0.649433   \nTungi                                      -0.625688   \nTungipara                                  -0.681831   \n\n               Growing Degree Days [2 m elevation corrected]  \\\nZone                                                           \nAzimpur                                            -0.667192   \nBarisal                                            -0.711973   \nBhairab Bazar                                      -0.659551   \nBhola                                              -0.721196   \nBogra                                              -0.696047   \nChittagong                                         -0.696882   \nComilla                                            -0.663236   \nDhaka                                              -0.664650   \nDinajpur                                           -0.693655   \nFaridpur                                           -0.704242   \nFeni                                               -0.666760   \nHabiganj                                           -0.649437   \nIshurdi                                            -0.727124   \nJamalpur                                           -0.679603   \nJessore                                            -0.731551   \nJoypur Hat                                         -0.704022   \nKhagrachhari                                       -0.649227   \nKhulna                                             -0.720765   \nKishorganj                                         -0.665410   \nKushtia                                            -0.728069   \nLaksham                                            -0.673930   \nLakshmipur                                         -0.691728   \nLalmanirhat                                        -0.660147   \nMadaripur                                          -0.705172   \nMaulavi Bazar                                      -0.646388   \nMymensingh                                         -0.660440   \nNagarpur                                           -0.692608   \nNarail                                             -0.727678   \nNarayanganj                                        -0.660501   \nNarsingdi                                          -0.654619   \nNawabganj                                          -0.728857   \nNetrakona                                          -0.655714   \nPabna                                              -0.725191   \nPalang                                             -0.698441   \nPaltan                                             -0.664867   \nPar Naogaon                                        -0.706669   \nPatiya                                             -0.696219   \nPirojpur                                           -0.724790   \nRaipur                                             -0.688779   \nRajshahi                                           -0.724255   \nRamganj                                            -0.674704   \nRangpur                                            -0.680359   \nSaidpur                                            -0.683382   \nSandwip                                            -0.652869   \nSarishabari                                        -0.686379   \nSatkania                                           -0.656883   \nSatkhira                                           -0.721941   \nShahzadpur                                         -0.700865   \nSherpur                                            -0.672433   \nSirajganj                                          -0.689849   \nSylhet                                             -0.637542   \nTangail                                            -0.684229   \nThakurgaon                                         -0.665972   \nTungi                                              -0.650432   \nTungipara                                          -0.715277   \n\n               Temperature [900 mb]  Temperature [850 mb]  \\\nZone                                                        \nAzimpur                   -0.675460             -0.656170   \nBarisal                   -0.686827             -0.633081   \nBhairab Bazar             -0.687388             -0.673114   \nBhola                     -0.685046             -0.626783   \nBogra                     -0.713993             -0.722542   \nChittagong                -0.629961             -0.593458   \nComilla                   -0.681593             -0.654395   \nDhaka                     -0.673687             -0.654784   \nDinajpur                  -0.709574             -0.728980   \nFaridpur                  -0.696768             -0.671548   \nFeni                      -0.668848             -0.622765   \nHabiganj                  -0.678805             -0.683824   \nIshurdi                   -0.707309             -0.700316   \nJamalpur                  -0.704164             -0.717242   \nJessore                   -0.702448             -0.667830   \nJoypur Hat                -0.715515             -0.727349   \nKhagrachhari              -0.654687             -0.648800   \nKhulna                    -0.704700             -0.655602   \nKishorganj                -0.691444             -0.687672   \nKushtia                   -0.708409             -0.700885   \nLaksham                   -0.680276             -0.642418   \nLakshmipur                -0.683100             -0.631259   \nLalmanirhat               -0.700787             -0.732524   \nMadaripur                 -0.693359             -0.656348   \nMaulavi Bazar             -0.664265             -0.684994   \nMymensingh                -0.691641             -0.710170   \nNagarpur                  -0.701620             -0.688380   \nNarail                    -0.706221             -0.669710   \nNarayanganj               -0.679947             -0.657779   \nNarsingdi                 -0.683108             -0.669983   \nNawabganj                 -0.683969             -0.690730   \nNetrakona                 -0.683033             -0.706312   \nPabna                     -0.706751             -0.700470   \nPalang                    -0.687700             -0.652584   \nPaltan                    -0.673687             -0.654784   \nPar Naogaon               -0.710220             -0.717513   \nPatiya                    -0.628702             -0.592906   \nPirojpur                  -0.698431             -0.640710   \nRaipur                    -0.680492             -0.629127   \nRajshahi                  -0.692789             -0.695918   \nRamganj                   -0.685763             -0.644250   \nRangpur                   -0.704974             -0.734574   \nSaidpur                   -0.706330             -0.728943   \nSandwip                   -0.674074             -0.614401   \nSarishabari               -0.708261             -0.717663   \nSatkania                  -0.622400             -0.596524   \nSatkhira                  -0.687366             -0.637057   \nShahzadpur                -0.711015             -0.706223   \nSherpur                   -0.701663             -0.722760   \nSirajganj                 -0.709073             -0.710964   \nSylhet                    -0.626976             -0.659700   \nTangail                   -0.703555             -0.697677   \nThakurgaon                -0.696368             -0.721141   \nTungi                     -0.674381             -0.664319   \nTungipara                 -0.701144             -0.653455   \n\n               Temperature [800 mb]  Temperature [700 mb]  \\\nZone                                                        \nAzimpur                   -0.636497             -0.598246   \nBarisal                   -0.622778             -0.607077   \nBhairab Bazar             -0.651294             -0.620938   \nBhola                     -0.621544             -0.607943   \nBogra                     -0.703550             -0.656186   \nChittagong                -0.611636             -0.626944   \nComilla                   -0.634576             -0.615657   \nDhaka                     -0.635345             -0.597266   \nDinajpur                  -0.718586             -0.678464   \nFaridpur                  -0.649970             -0.614828   \nFeni                      -0.618392             -0.616317   \nHabiganj                  -0.661825             -0.635320   \nIshurdi                   -0.672690             -0.630715   \nJamalpur                  -0.705629             -0.651135   \nJessore                   -0.644862             -0.613861   \nJoypur Hat                -0.709301             -0.665596   \nKhagrachhari              -0.633049             -0.634750   \nKhulna                    -0.635317             -0.608937   \nKishorganj                -0.666039             -0.629228   \nKushtia                   -0.672542             -0.628845   \nLaksham                   -0.628608             -0.613219   \nLakshmipur                -0.623378             -0.607634   \nLalmanirhat               -0.728457             -0.690412   \nMadaripur                 -0.635427             -0.607738   \nMaulavi Bazar             -0.671744             -0.643711   \nMymensingh                -0.699624             -0.646238   \nNagarpur                  -0.667689             -0.622632   \nNarail                    -0.646629             -0.615353   \nNarayanganj               -0.635964             -0.601233   \nNarsingdi                 -0.648345             -0.611824   \nNawabganj                 -0.677067             -0.643787   \nNetrakona                 -0.695182             -0.646242   \nPabna                     -0.673740             -0.630934   \nPalang                    -0.632762             -0.606235   \nPaltan                    -0.635345             -0.597266   \nPar Naogaon               -0.698773             -0.658201   \nPatiya                    -0.612416             -0.631336   \nPirojpur                  -0.627318             -0.609696   \nRaipur                    -0.621099             -0.604201   \nRajshahi                  -0.675053             -0.637281   \nRamganj                   -0.629244             -0.608280   \nRangpur                   -0.724201             -0.681880   \nSaidpur                   -0.719723             -0.678998   \nSandwip                   -0.621784             -0.624232   \nSarishabari               -0.704180             -0.652293   \nSatkania                  -0.607716             -0.633768   \nSatkhira                  -0.621517             -0.592880   \nShahzadpur                -0.684784             -0.633759   \nSherpur                   -0.713279             -0.659116   \nSirajganj                 -0.694807             -0.642332   \nSylhet                    -0.663904             -0.636325   \nTangail                   -0.679768             -0.628945   \nThakurgaon                -0.716587             -0.679472   \nTungi                     -0.645052             -0.603226   \nTungipara                 -0.633778             -0.610041   \n\n               Temperature [500 mb]  Precipitation Total  \\\nZone                                                       \nAzimpur                   -0.609757            -0.149949   \nBarisal                   -0.618267            -0.160908   \nBhairab Bazar             -0.637681            -0.157465   \nBhola                     -0.622454            -0.180501   \nBogra                     -0.665333            -0.173596   \nChittagong                -0.649914            -0.218847   \nComilla                   -0.633562            -0.150177   \nDhaka                     -0.608661            -0.149549   \nDinajpur                  -0.676741            -0.172370   \nFaridpur                  -0.623074            -0.142121   \nFeni                      -0.635230            -0.194701   \nHabiganj                  -0.649525            -0.166111   \nIshurdi                   -0.645176            -0.153903   \nJamalpur                  -0.660236            -0.189732   \nJessore                   -0.615230            -0.157423   \nJoypur Hat                -0.671313            -0.156715   \nKhagrachhari              -0.653132            -0.153725   \nKhulna                    -0.613975            -0.143203   \nKishorganj                -0.645334            -0.161016   \nKushtia                   -0.643124            -0.153955   \nLaksham                   -0.631483            -0.154927   \nLakshmipur                -0.624054            -0.167407   \nLalmanirhat               -0.674338            -0.232583   \nMadaripur                 -0.617968            -0.142695   \nMaulavi Bazar             -0.653485            -0.217077   \nMymensingh                -0.654616            -0.191521   \nNagarpur                  -0.635529            -0.159285   \nNarail                    -0.619488            -0.151056   \nNarayanganj               -0.614191            -0.152790   \nNarsingdi                 -0.628277            -0.149173   \nNawabganj                 -0.657187            -0.157060   \nNetrakona                 -0.656682            -0.211294   \nPabna                     -0.644623            -0.153333   \nPalang                    -0.616207            -0.141700   \nPaltan                    -0.608661            -0.149549   \nPar Naogaon               -0.667809            -0.179595   \nPatiya                    -0.654598            -0.220352   \nPirojpur                  -0.617323            -0.149741   \nRaipur                    -0.620203            -0.167009   \nRajshahi                  -0.652431            -0.156523   \nRamganj                   -0.624393            -0.157462   \nRangpur                   -0.674155            -0.218166   \nSaidpur                   -0.674805            -0.212352   \nSandwip                   -0.646338            -0.212143   \nSarishabari               -0.660395            -0.182624   \nSatkania                  -0.656984            -0.204071   \nSatkhira                  -0.590624            -0.142111   \nShahzadpur                -0.647801            -0.161014   \nSherpur                   -0.663751            -0.175243   \nSirajganj                 -0.654095            -0.162170   \nSylhet                    -0.642619            -0.242076   \nTangail                   -0.642467            -0.157794   \nThakurgaon                -0.671512            -0.196370   \nTungi                     -0.615524            -0.160075   \nTungipara                 -0.617795            -0.145966   \n\n               Precipitation Runoff  Relative Humidity [2 m]  ...  \\\nZone                                                          ...   \nAzimpur                   -0.084765                -0.111974  ...   \nBarisal                   -0.056393                -0.116435  ...   \nBhairab Bazar             -0.137661                -0.086068  ...   \nBhola                     -0.163914                -0.159230  ...   \nBogra                     -0.168873                -0.172884  ...   \nChittagong                -0.220924                -0.133193  ...   \nComilla                   -0.102679                -0.164412  ...   \nDhaka                     -0.084634                -0.112445  ...   \nDinajpur                  -0.151676                -0.210665  ...   \nFaridpur                  -0.082976                -0.173360  ...   \nFeni                      -0.210991                -0.261694  ...   \nHabiganj                  -0.084047                -0.149799  ...   \nIshurdi                   -0.120647                -0.095839  ...   \nJamalpur                  -0.189424                -0.144266  ...   \nJessore                   -0.062480                -0.123784  ...   \nJoypur Hat                -0.111870                -0.184603  ...   \nKhagrachhari              -0.062331                -0.070290  ...   \nKhulna                    -0.045183                -0.151541  ...   \nKishorganj                -0.149241                -0.099284  ...   \nKushtia                   -0.119929                -0.093347  ...   \nLaksham                   -0.061823                -0.146352  ...   \nLakshmipur                -0.110955                -0.177027  ...   \nLalmanirhat               -0.251194                -0.251298  ...   \nMadaripur                 -0.047234                -0.120376  ...   \nMaulavi Bazar             -0.302016                -0.180539  ...   \nMymensingh                -0.201509                -0.165582  ...   \nNagarpur                  -0.128970                -0.127515  ...   \nNarail                    -0.063258                -0.134000  ...   \nNarayanganj               -0.108996                -0.107024  ...   \nNarsingdi                 -0.096745                -0.150573  ...   \nNawabganj                 -0.059219                -0.075959  ...   \nNetrakona                 -0.239395                -0.154877  ...   \nPabna                     -0.120515                -0.097379  ...   \nPalang                    -0.047665                -0.122610  ...   \nPaltan                    -0.084634                -0.112445  ...   \nPar Naogaon               -0.097714                -0.209010  ...   \nPatiya                    -0.223504                -0.136095  ...   \nPirojpur                  -0.045414                -0.118800  ...   \nRaipur                    -0.110552                -0.175875  ...   \nRajshahi                  -0.063153                -0.133968  ...   \nRamganj                   -0.067641                -0.158065  ...   \nRangpur                   -0.240656                -0.217108  ...   \nSaidpur                   -0.236184                -0.221333  ...   \nSandwip                   -0.202998                -0.403986  ...   \nSarishabari               -0.185525                -0.124435  ...   \nSatkania                  -0.126482                -0.188203  ...   \nSatkhira                  -0.076924                -0.184399  ...   \nShahzadpur                -0.117013                -0.097781  ...   \nSherpur                   -0.158030                -0.175659  ...   \nSirajganj                 -0.131856                -0.112737  ...   \nSylhet                    -0.264320                -0.158331  ...   \nTangail                   -0.116304                -0.105089  ...   \nThakurgaon                -0.198780                -0.266117  ...   \nTungi                     -0.140575                -0.112983  ...   \nTungipara                 -0.054686                -0.124260  ...   \n\n               Cloud Cover Total  Cloud Cover High [high cld lay]  \\\nZone                                                                \nAzimpur                -0.387566                        -0.479758   \nBarisal                -0.395935                        -0.536954   \nBhairab Bazar          -0.350408                        -0.501949   \nBhola                  -0.416471                        -0.537768   \nBogra                  -0.403207                        -0.481336   \nChittagong             -0.452825                        -0.551512   \nComilla                -0.414759                        -0.516851   \nDhaka                  -0.386234                        -0.478414   \nDinajpur               -0.383603                        -0.452145   \nFaridpur               -0.403896                        -0.497148   \nFeni                   -0.425250                        -0.539037   \nHabiganj               -0.408733                        -0.522837   \nIshurdi                -0.355879                        -0.491863   \nJamalpur               -0.426322                        -0.489327   \nJessore                -0.412286                        -0.502012   \nJoypur Hat             -0.407830                        -0.474976   \nKhagrachhari           -0.380654                        -0.547995   \nKhulna                 -0.413740                        -0.528399   \nKishorganj             -0.375361                        -0.504890   \nKushtia                -0.356149                        -0.489560   \nLaksham                -0.410827                        -0.524452   \nLakshmipur             -0.408429                        -0.532092   \nLalmanirhat            -0.408084                        -0.471510   \nMadaripur              -0.400557                        -0.515758   \nMaulavi Bazar          -0.446832                        -0.530458   \nMymensingh             -0.425993                        -0.488382   \nNagarpur               -0.399097                        -0.494250   \nNarail                 -0.412757                        -0.509457   \nNarayanganj            -0.373366                        -0.487682   \nNarsingdi              -0.396026                        -0.487920   \nNawabganj              -0.371228                        -0.472341   \nNetrakona              -0.441393                        -0.495975   \nPabna                  -0.355060                        -0.488431   \nPalang                 -0.396265                        -0.512120   \nPaltan                 -0.386234                        -0.478414   \nPar Naogaon            -0.400702                        -0.472257   \nPatiya                 -0.454417                        -0.555224   \nPirojpur               -0.394319                        -0.540746   \nRaipur                 -0.406171                        -0.528932   \nRajshahi               -0.378619                        -0.485535   \nRamganj                -0.407549                        -0.520198   \nRangpur                -0.404226                        -0.470047   \nSaidpur                -0.393231                        -0.458313   \nSandwip                -0.450806                        -0.549770   \nSarishabari            -0.391278                        -0.481752   \nSatkania               -0.511184                        -0.556358   \nSatkhira               -0.416056                        -0.517673   \nShahzadpur             -0.362843                        -0.491998   \nSherpur                -0.434633                        -0.480164   \nSirajganj              -0.367724                        -0.486983   \nSylhet                 -0.485208                        -0.511129   \nTangail                -0.402070                        -0.491421   \nThakurgaon             -0.392405                        -0.439007   \nTungi                  -0.392522                        -0.476562   \nTungipara              -0.402535                        -0.530633   \n\n               Cloud Cover Medium [mid cld lay]  \\\nZone                                              \nAzimpur                               -0.308617   \nBarisal                               -0.349847   \nBhairab Bazar                         -0.356953   \nBhola                                 -0.356025   \nBogra                                 -0.370738   \nChittagong                            -0.436780   \nComilla                               -0.359933   \nDhaka                                 -0.307212   \nDinajpur                              -0.363836   \nFaridpur                              -0.311523   \nFeni                                  -0.378627   \nHabiganj                              -0.386666   \nIshurdi                               -0.321566   \nJamalpur                              -0.379796   \nJessore                               -0.328662   \nJoypur Hat                            -0.381728   \nKhagrachhari                          -0.393985   \nKhulna                                -0.340328   \nKishorganj                            -0.372596   \nKushtia                               -0.320623   \nLaksham                               -0.365616   \nLakshmipur                            -0.362044   \nLalmanirhat                           -0.416213   \nMadaripur                             -0.327333   \nMaulavi Bazar                         -0.421997   \nMymensingh                            -0.384856   \nNagarpur                              -0.327680   \nNarail                                -0.324618   \nNarayanganj                           -0.318126   \nNarsingdi                             -0.340270   \nNawabganj                             -0.345289   \nNetrakona                             -0.403878   \nPabna                                 -0.317299   \nPalang                                -0.322576   \nPaltan                                -0.307212   \nPar Naogaon                           -0.357366   \nPatiya                                -0.439118   \nPirojpur                              -0.350901   \nRaipur                                -0.359381   \nRajshahi                              -0.331771   \nRamganj                               -0.351965   \nRangpur                               -0.392387   \nSaidpur                               -0.376135   \nSandwip                               -0.383125   \nSarishabari                           -0.369541   \nSatkania                              -0.454998   \nSatkhira                              -0.334422   \nShahzadpur                            -0.345023   \nSherpur                               -0.383023   \nSirajganj                             -0.354882   \nSylhet                                -0.437641   \nTangail                               -0.345722   \nThakurgaon                            -0.367677   \nTungi                                 -0.318529   \nTungipara                             -0.342257   \n\n               Cloud Cover Low [low cld lay]  Sunshine Duration  \\\nZone                                                              \nAzimpur                            -0.296123          -0.012257   \nBarisal                            -0.270476          -0.013490   \nBhairab Bazar                      -0.246688          -0.017733   \nBhola                              -0.295932          -0.023093   \nBogra                              -0.286031          -0.003969   \nChittagong                         -0.325564           0.008644   \nComilla                            -0.316617          -0.012724   \nDhaka                              -0.295440          -0.012090   \nDinajpur                           -0.270025          -0.006088   \nFaridpur                           -0.294210          -0.018021   \nFeni                               -0.324539          -0.015538   \nHabiganj                           -0.279527          -0.014964   \nIshurdi                            -0.228531          -0.028065   \nJamalpur                           -0.321913          -0.001170   \nJessore                            -0.283648          -0.024207   \nJoypur Hat                         -0.283487          -0.005145   \nKhagrachhari                       -0.271131          -0.003646   \nKhulna                             -0.281624          -0.016491   \nKishorganj                         -0.266141          -0.012003   \nKushtia                            -0.228997          -0.028015   \nLaksham                            -0.301107          -0.012979   \nLakshmipur                         -0.291937          -0.019825   \nLalmanirhat                        -0.271417          -0.001162   \nMadaripur                          -0.285662          -0.021830   \nMaulavi Bazar                      -0.340926           0.010825   \nMymensingh                         -0.323308           0.006497   \nNagarpur                           -0.299452          -0.009909   \nNarail                             -0.286661          -0.020904   \nNarayanganj                        -0.273393          -0.015683   \nNarsingdi                          -0.300813          -0.005592   \nNawabganj                          -0.240876          -0.020803   \nNetrakona                          -0.344906           0.016636   \nPabna                              -0.230143          -0.027645   \nPalang                             -0.283997          -0.021901   \nPaltan                             -0.295440          -0.012090   \nPar Naogaon                        -0.281326          -0.008644   \nPatiya                             -0.326782           0.009468   \nPirojpur                           -0.257440          -0.019829   \nRaipur                             -0.290929          -0.020350   \nRajshahi                           -0.253993          -0.019334   \nRamganj                            -0.295640          -0.015708   \nRangpur                            -0.268983          -0.008500   \nSaidpur                            -0.265876           0.001859   \nSandwip                            -0.347870          -0.005230   \nSarishabari                        -0.277410          -0.009281   \nSatkania                           -0.397062           0.024174   \nSatkhira                           -0.289676          -0.021139   \nShahzadpur                         -0.244735          -0.020926   \nSherpur                            -0.327851          -0.005177   \nSirajganj                          -0.250050          -0.016527   \nSylhet                             -0.367260           0.027584   \nTangail                            -0.290857          -0.008192   \nThakurgaon                         -0.273133           0.001488   \nTungi                              -0.300922          -0.002397   \nTungipara                          -0.266564          -0.016330   \n\n               Shortwave Radiation  Longwave Radiation  UV Radiation  \\\nZone                                                                   \nAzimpur                  -0.102616           -0.742782     -0.122213   \nBarisal                  -0.102529           -0.796368     -0.128221   \nBhairab Bazar            -0.104717           -0.765429     -0.125722   \nBhola                    -0.103895           -0.800472     -0.129806   \nBogra                    -0.111828           -0.784616     -0.135170   \nChittagong               -0.104247           -0.820357     -0.128501   \nComilla                  -0.103395           -0.765701     -0.124377   \nDhaka                    -0.102096           -0.740533     -0.121638   \nDinajpur                 -0.117840           -0.758961     -0.138774   \nFaridpur                 -0.112640           -0.774053     -0.133508   \nFeni                     -0.104438           -0.787268     -0.127278   \nHabiganj                 -0.105249           -0.772459     -0.129328   \nIshurdi                  -0.121819           -0.789180     -0.143454   \nJamalpur                 -0.105530           -0.779233     -0.127429   \nJessore                  -0.118432           -0.796240     -0.139012   \nJoypur Hat               -0.115712           -0.781609     -0.137141   \nKhagrachhari             -0.105345           -0.788882     -0.125815   \nKhulna                   -0.106606           -0.798834     -0.130801   \nKishorganj               -0.102680           -0.771230     -0.124669   \nKushtia                  -0.120983           -0.788945     -0.142521   \nLaksham                  -0.103628           -0.775206     -0.126604   \nLakshmipur               -0.105162           -0.787558     -0.128154   \nLalmanirhat              -0.109745           -0.757368     -0.129909   \nMadaripur                -0.107457           -0.782228     -0.130459   \nMaulavi Bazar            -0.094456           -0.771442     -0.120427   \nMymensingh               -0.099857           -0.766976     -0.120796   \nNagarpur                 -0.109567           -0.774215     -0.130800   \nNarail                   -0.113902           -0.795210     -0.136236   \nNarayanganj              -0.101329           -0.751066     -0.121915   \nNarsingdi                -0.102306           -0.754155     -0.121345   \nNawabganj                -0.128484           -0.785150     -0.149264   \nNetrakona                -0.095985           -0.769241     -0.119415   \nPabna                    -0.120426           -0.786689     -0.141932   \nPalang                   -0.106350           -0.775144     -0.129164   \nPaltan                   -0.102096           -0.740533     -0.121638   \nPar Naogaon              -0.119164           -0.783403     -0.141604   \nPatiya                   -0.103641           -0.821463     -0.127996   \nPirojpur                 -0.099760           -0.800658     -0.126114   \nRaipur                   -0.105229           -0.783804     -0.128085   \nRajshahi                 -0.126594           -0.785414     -0.147447   \nRamganj                  -0.103612           -0.776522     -0.126519   \nRangpur                  -0.112448           -0.766324     -0.131394   \nSaidpur                  -0.114516           -0.758882     -0.134910   \nSandwip                  -0.108375           -0.801726     -0.132606   \nSarishabari              -0.105518           -0.777722     -0.128673   \nSatkania                 -0.089165           -0.812258     -0.112836   \nSatkhira                 -0.106301           -0.801089     -0.130780   \nShahzadpur               -0.110939           -0.782887     -0.134425   \nSherpur                  -0.107513           -0.776804     -0.129645   \nSirajganj                -0.107309           -0.780231     -0.131208   \nSylhet                   -0.086670           -0.752880     -0.110573   \nTangail                  -0.105821           -0.771694     -0.127325   \nThakurgaon               -0.113367           -0.743687     -0.133973   \nTungi                    -0.098890           -0.737279     -0.117900   \nTungipara                -0.103807           -0.790593     -0.128291   \n\n               Mean Sea Level Pressure [MSL]  Evapotranspiration  \nZone                                                              \nAzimpur                             0.624692           -0.208599  \nBarisal                             0.672346           -0.221158  \nBhairab Bazar                       0.630627           -0.229194  \nBhola                               0.669059           -0.252690  \nBogra                               0.677450           -0.237643  \nChittagong                          0.672603           -0.249439  \nComilla                             0.640775           -0.222080  \nDhaka                               0.622795           -0.207757  \nDinajpur                            0.673033           -0.241405  \nFaridpur                            0.666445           -0.221247  \nFeni                                0.652560           -0.253349  \nHabiganj                            0.626200           -0.233204  \nIshurdi                             0.693777           -0.239924  \nJamalpur                            0.658937           -0.229315  \nJessore                             0.692697           -0.227735  \nJoypur Hat                          0.682485           -0.235910  \nKhagrachhari                        0.645840           -0.192877  \nKhulna                              0.685805           -0.219199  \nKishorganj                          0.632962           -0.220991  \nKushtia                             0.692390           -0.238893  \nLaksham                             0.647749           -0.207502  \nLakshmipur                          0.658351           -0.218145  \nLalmanirhat                         0.653537           -0.265510  \nMadaripur                           0.659750           -0.218369  \nMaulavi Bazar                       0.616875           -0.224895  \nMymensingh                          0.642862           -0.224270  \nNagarpur                            0.657597           -0.219808  \nNarail                              0.687272           -0.223327  \nNarayanganj                         0.625790           -0.227050  \nNarsingdi                           0.626711           -0.218854  \nNawabganj                           0.704279           -0.269769  \nNetrakona                           0.634752           -0.213756  \nPabna                               0.690017           -0.237683  \nPalang                              0.653976           -0.216149  \nPaltan                              0.622795           -0.207757  \nPar Naogaon                         0.690566           -0.247772  \nPatiya                              0.674735           -0.250695  \nPirojpur                            0.682351           -0.214710  \nRaipur                              0.654716           -0.217380  \nRajshahi                            0.701978           -0.254691  \nRamganj                             0.650205           -0.216589  \nRangpur                             0.662022           -0.244293  \nSaidpur                             0.666604           -0.241838  \nSandwip                             0.669280           -0.291374  \nSarishabari                         0.663232           -0.246548  \nSatkania                            0.672467           -0.220839  \nSatkhira                            0.686212           -0.267918  \nShahzadpur                          0.671586           -0.248657  \nSherpur                             0.654928           -0.230666  \nSirajganj                           0.666412           -0.249994  \nSylhet                              0.599207           -0.190893  \nTangail                             0.656040           -0.217150  \nThakurgaon                          0.653749           -0.264951  \nTungi                               0.619779           -0.205232  \nTungipara                           0.677935           -0.197662  \n\n[55 rows x 37 columns]",
      "text/html": "<div>\n<style scoped>\n    .dataframe tbody tr th:only-of-type {\n        vertical-align: middle;\n    }\n\n    .dataframe tbody tr th {\n        vertical-align: top;\n    }\n\n    .dataframe thead th {\n        text-align: right;\n    }\n</style>\n<table border=\"1\" class=\"dataframe\">\n  <thead>\n    <tr style=\"text-align: right;\">\n      <th></th>\n      <th>Temperature [2 m elevation corrected]</th>\n      <th>Growing Degree Days [2 m elevation corrected]</th>\n      <th>Temperature [900 mb]</th>\n      <th>Temperature [850 mb]</th>\n      <th>Temperature [800 mb]</th>\n      <th>Temperature [700 mb]</th>\n      <th>Temperature [500 mb]</th>\n      <th>Precipitation Total</th>\n      <th>Precipitation Runoff</th>\n      <th>Relative Humidity [2 m]</th>\n      <th>...</th>\n      <th>Cloud Cover Total</th>\n      <th>Cloud Cover High [high cld lay]</th>\n      <th>Cloud Cover Medium [mid cld lay]</th>\n      <th>Cloud Cover Low [low cld lay]</th>\n      <th>Sunshine Duration</th>\n      <th>Shortwave Radiation</th>\n      <th>Longwave Radiation</th>\n      <th>UV Radiation</th>\n      <th>Mean Sea Level Pressure [MSL]</th>\n      <th>Evapotranspiration</th>\n    </tr>\n    <tr>\n      <th>Zone</th>\n      <th></th>\n      <th></th>\n      <th></th>\n      <th></th>\n      <th></th>\n      <th></th>\n      <th></th>\n      <th></th>\n      <th></th>\n      <th></th>\n      <th></th>\n      <th></th>\n      <th></th>\n      <th></th>\n      <th></th>\n      <th></th>\n      <th></th>\n      <th></th>\n      <th></th>\n      <th></th>\n      <th></th>\n    </tr>\n  </thead>\n  <tbody>\n    <tr>\n      <th>Azimpur</th>\n      <td>-0.640512</td>\n      <td>-0.667192</td>\n      <td>-0.675460</td>\n      <td>-0.656170</td>\n      <td>-0.636497</td>\n      <td>-0.598246</td>\n      <td>-0.609757</td>\n      <td>-0.149949</td>\n      <td>-0.084765</td>\n      <td>-0.111974</td>\n      <td>...</td>\n      <td>-0.387566</td>\n      <td>-0.479758</td>\n      <td>-0.308617</td>\n      <td>-0.296123</td>\n      <td>-0.012257</td>\n      <td>-0.102616</td>\n      <td>-0.742782</td>\n      <td>-0.122213</td>\n      <td>0.624692</td>\n      <td>-0.208599</td>\n    </tr>\n    <tr>\n      <th>Barisal</th>\n      <td>-0.674920</td>\n      <td>-0.711973</td>\n      <td>-0.686827</td>\n      <td>-0.633081</td>\n      <td>-0.622778</td>\n      <td>-0.607077</td>\n      <td>-0.618267</td>\n      <td>-0.160908</td>\n      <td>-0.056393</td>\n      <td>-0.116435</td>\n      <td>...</td>\n      <td>-0.395935</td>\n      <td>-0.536954</td>\n      <td>-0.349847</td>\n      <td>-0.270476</td>\n      <td>-0.013490</td>\n      <td>-0.102529</td>\n      <td>-0.796368</td>\n      <td>-0.128221</td>\n      <td>0.672346</td>\n      <td>-0.221158</td>\n    </tr>\n    <tr>\n      <th>Bhairab Bazar</th>\n      <td>-0.634829</td>\n      <td>-0.659551</td>\n      <td>-0.687388</td>\n      <td>-0.673114</td>\n      <td>-0.651294</td>\n      <td>-0.620938</td>\n      <td>-0.637681</td>\n      <td>-0.157465</td>\n      <td>-0.137661</td>\n      <td>-0.086068</td>\n      <td>...</td>\n      <td>-0.350408</td>\n      <td>-0.501949</td>\n      <td>-0.356953</td>\n      <td>-0.246688</td>\n      <td>-0.017733</td>\n      <td>-0.104717</td>\n      <td>-0.765429</td>\n      <td>-0.125722</td>\n      <td>0.630627</td>\n      <td>-0.229194</td>\n    </tr>\n    <tr>\n      <th>Bhola</th>\n      <td>-0.690718</td>\n      <td>-0.721196</td>\n      <td>-0.685046</td>\n      <td>-0.626783</td>\n      <td>-0.621544</td>\n      <td>-0.607943</td>\n      <td>-0.622454</td>\n      <td>-0.180501</td>\n      <td>-0.163914</td>\n      <td>-0.159230</td>\n      <td>...</td>\n      <td>-0.416471</td>\n      <td>-0.537768</td>\n      <td>-0.356025</td>\n      <td>-0.295932</td>\n      <td>-0.023093</td>\n      <td>-0.103895</td>\n      <td>-0.800472</td>\n      <td>-0.129806</td>\n      <td>0.669059</td>\n      <td>-0.252690</td>\n    </tr>\n    <tr>\n      <th>Bogra</th>\n      <td>-0.678151</td>\n      <td>-0.696047</td>\n      <td>-0.713993</td>\n      <td>-0.722542</td>\n      <td>-0.703550</td>\n      <td>-0.656186</td>\n      <td>-0.665333</td>\n      <td>-0.173596</td>\n      <td>-0.168873</td>\n      <td>-0.172884</td>\n      <td>...</td>\n      <td>-0.403207</td>\n      <td>-0.481336</td>\n      <td>-0.370738</td>\n      <td>-0.286031</td>\n      <td>-0.003969</td>\n      <td>-0.111828</td>\n      <td>-0.784616</td>\n      <td>-0.135170</td>\n      <td>0.677450</td>\n      <td>-0.237643</td>\n    </tr>\n    <tr>\n      <th>Chittagong</th>\n      <td>-0.659235</td>\n      <td>-0.696882</td>\n      <td>-0.629961</td>\n      <td>-0.593458</td>\n      <td>-0.611636</td>\n      <td>-0.626944</td>\n      <td>-0.649914</td>\n      <td>-0.218847</td>\n      <td>-0.220924</td>\n      <td>-0.133193</td>\n      <td>...</td>\n      <td>-0.452825</td>\n      <td>-0.551512</td>\n      <td>-0.436780</td>\n      <td>-0.325564</td>\n      <td>0.008644</td>\n      <td>-0.104247</td>\n      <td>-0.820357</td>\n      <td>-0.128501</td>\n      <td>0.672603</td>\n      <td>-0.249439</td>\n    </tr>\n    <tr>\n      <th>Comilla</th>\n      <td>-0.628510</td>\n      <td>-0.663236</td>\n      <td>-0.681593</td>\n      <td>-0.654395</td>\n      <td>-0.634576</td>\n      <td>-0.615657</td>\n      <td>-0.633562</td>\n      <td>-0.150177</td>\n      <td>-0.102679</td>\n      <td>-0.164412</td>\n      <td>...</td>\n      <td>-0.414759</td>\n      <td>-0.516851</td>\n      <td>-0.359933</td>\n      <td>-0.316617</td>\n      <td>-0.012724</td>\n      <td>-0.103395</td>\n      <td>-0.765701</td>\n      <td>-0.124377</td>\n      <td>0.640775</td>\n      <td>-0.222080</td>\n    </tr>\n    <tr>\n      <th>Dhaka</th>\n      <td>-0.638423</td>\n      <td>-0.664650</td>\n      <td>-0.673687</td>\n      <td>-0.654784</td>\n      <td>-0.635345</td>\n      <td>-0.597266</td>\n      <td>-0.608661</td>\n      <td>-0.149549</td>\n      <td>-0.084634</td>\n      <td>-0.112445</td>\n      <td>...</td>\n      <td>-0.386234</td>\n      <td>-0.478414</td>\n      <td>-0.307212</td>\n      <td>-0.295440</td>\n      <td>-0.012090</td>\n      <td>-0.102096</td>\n      <td>-0.740533</td>\n      <td>-0.121638</td>\n      <td>0.622795</td>\n      <td>-0.207757</td>\n    </tr>\n    <tr>\n      <th>Dinajpur</th>\n      <td>-0.678392</td>\n      <td>-0.693655</td>\n      <td>-0.709574</td>\n      <td>-0.728980</td>\n      <td>-0.718586</td>\n      <td>-0.678464</td>\n      <td>-0.676741</td>\n      <td>-0.172370</td>\n      <td>-0.151676</td>\n      <td>-0.210665</td>\n      <td>...</td>\n      <td>-0.383603</td>\n      <td>-0.452145</td>\n      <td>-0.363836</td>\n      <td>-0.270025</td>\n      <td>-0.006088</td>\n      <td>-0.117840</td>\n      <td>-0.758961</td>\n      <td>-0.138774</td>\n      <td>0.673033</td>\n      <td>-0.241405</td>\n    </tr>\n    <tr>\n      <th>Faridpur</th>\n      <td>-0.674850</td>\n      <td>-0.704242</td>\n      <td>-0.696768</td>\n      <td>-0.671548</td>\n      <td>-0.649970</td>\n      <td>-0.614828</td>\n      <td>-0.623074</td>\n      <td>-0.142121</td>\n      <td>-0.082976</td>\n      <td>-0.173360</td>\n      <td>...</td>\n      <td>-0.403896</td>\n      <td>-0.497148</td>\n      <td>-0.311523</td>\n      <td>-0.294210</td>\n      <td>-0.018021</td>\n      <td>-0.112640</td>\n      <td>-0.774053</td>\n      <td>-0.133508</td>\n      <td>0.666445</td>\n      <td>-0.221247</td>\n    </tr>\n    <tr>\n      <th>Feni</th>\n      <td>-0.633582</td>\n      <td>-0.666760</td>\n      <td>-0.668848</td>\n      <td>-0.622765</td>\n      <td>-0.618392</td>\n      <td>-0.616317</td>\n      <td>-0.635230</td>\n      <td>-0.194701</td>\n      <td>-0.210991</td>\n      <td>-0.261694</td>\n      <td>...</td>\n      <td>-0.425250</td>\n      <td>-0.539037</td>\n      <td>-0.378627</td>\n      <td>-0.324539</td>\n      <td>-0.015538</td>\n      <td>-0.104438</td>\n      <td>-0.787268</td>\n      <td>-0.127278</td>\n      <td>0.652560</td>\n      <td>-0.253349</td>\n    </tr>\n    <tr>\n      <th>Habiganj</th>\n      <td>-0.627419</td>\n      <td>-0.649437</td>\n      <td>-0.678805</td>\n      <td>-0.683824</td>\n      <td>-0.661825</td>\n      <td>-0.635320</td>\n      <td>-0.649525</td>\n      <td>-0.166111</td>\n      <td>-0.084047</td>\n      <td>-0.149799</td>\n      <td>...</td>\n      <td>-0.408733</td>\n      <td>-0.522837</td>\n      <td>-0.386666</td>\n      <td>-0.279527</td>\n      <td>-0.014964</td>\n      <td>-0.105249</td>\n      <td>-0.772459</td>\n      <td>-0.129328</td>\n      <td>0.626200</td>\n      <td>-0.233204</td>\n    </tr>\n    <tr>\n      <th>Ishurdi</th>\n      <td>-0.698271</td>\n      <td>-0.727124</td>\n      <td>-0.707309</td>\n      <td>-0.700316</td>\n      <td>-0.672690</td>\n      <td>-0.630715</td>\n      <td>-0.645176</td>\n      <td>-0.153903</td>\n      <td>-0.120647</td>\n      <td>-0.095839</td>\n      <td>...</td>\n      <td>-0.355879</td>\n      <td>-0.491863</td>\n      <td>-0.321566</td>\n      <td>-0.228531</td>\n      <td>-0.028065</td>\n      <td>-0.121819</td>\n      <td>-0.789180</td>\n      <td>-0.143454</td>\n      <td>0.693777</td>\n      <td>-0.239924</td>\n    </tr>\n    <tr>\n      <th>Jamalpur</th>\n      <td>-0.661231</td>\n      <td>-0.679603</td>\n      <td>-0.704164</td>\n      <td>-0.717242</td>\n      <td>-0.705629</td>\n      <td>-0.651135</td>\n      <td>-0.660236</td>\n      <td>-0.189732</td>\n      <td>-0.189424</td>\n      <td>-0.144266</td>\n      <td>...</td>\n      <td>-0.426322</td>\n      <td>-0.489327</td>\n      <td>-0.379796</td>\n      <td>-0.321913</td>\n      <td>-0.001170</td>\n      <td>-0.105530</td>\n      <td>-0.779233</td>\n      <td>-0.127429</td>\n      <td>0.658937</td>\n      <td>-0.229315</td>\n    </tr>\n    <tr>\n      <th>Jessore</th>\n      <td>-0.695815</td>\n      <td>-0.731551</td>\n      <td>-0.702448</td>\n      <td>-0.667830</td>\n      <td>-0.644862</td>\n      <td>-0.613861</td>\n      <td>-0.615230</td>\n      <td>-0.157423</td>\n      <td>-0.062480</td>\n      <td>-0.123784</td>\n      <td>...</td>\n      <td>-0.412286</td>\n      <td>-0.502012</td>\n      <td>-0.328662</td>\n      <td>-0.283648</td>\n      <td>-0.024207</td>\n      <td>-0.118432</td>\n      <td>-0.796240</td>\n      <td>-0.139012</td>\n      <td>0.692697</td>\n      <td>-0.227735</td>\n    </tr>\n    <tr>\n      <th>Joypur Hat</th>\n      <td>-0.687939</td>\n      <td>-0.704022</td>\n      <td>-0.715515</td>\n      <td>-0.727349</td>\n      <td>-0.709301</td>\n      <td>-0.665596</td>\n      <td>-0.671313</td>\n      <td>-0.156715</td>\n      <td>-0.111870</td>\n      <td>-0.184603</td>\n      <td>...</td>\n      <td>-0.407830</td>\n      <td>-0.474976</td>\n      <td>-0.381728</td>\n      <td>-0.283487</td>\n      <td>-0.005145</td>\n      <td>-0.115712</td>\n      <td>-0.781609</td>\n      <td>-0.137141</td>\n      <td>0.682485</td>\n      <td>-0.235910</td>\n    </tr>\n    <tr>\n      <th>Khagrachhari</th>\n      <td>-0.616362</td>\n      <td>-0.649227</td>\n      <td>-0.654687</td>\n      <td>-0.648800</td>\n      <td>-0.633049</td>\n      <td>-0.634750</td>\n      <td>-0.653132</td>\n      <td>-0.153725</td>\n      <td>-0.062331</td>\n      <td>-0.070290</td>\n      <td>...</td>\n      <td>-0.380654</td>\n      <td>-0.547995</td>\n      <td>-0.393985</td>\n      <td>-0.271131</td>\n      <td>-0.003646</td>\n      <td>-0.105345</td>\n      <td>-0.788882</td>\n      <td>-0.125815</td>\n      <td>0.645840</td>\n      <td>-0.192877</td>\n    </tr>\n    <tr>\n      <th>Khulna</th>\n      <td>-0.685832</td>\n      <td>-0.720765</td>\n      <td>-0.704700</td>\n      <td>-0.655602</td>\n      <td>-0.635317</td>\n      <td>-0.608937</td>\n      <td>-0.613975</td>\n      <td>-0.143203</td>\n      <td>-0.045183</td>\n      <td>-0.151541</td>\n      <td>...</td>\n      <td>-0.413740</td>\n      <td>-0.528399</td>\n      <td>-0.340328</td>\n      <td>-0.281624</td>\n      <td>-0.016491</td>\n      <td>-0.106606</td>\n      <td>-0.798834</td>\n      <td>-0.130801</td>\n      <td>0.685805</td>\n      <td>-0.219199</td>\n    </tr>\n    <tr>\n      <th>Kishorganj</th>\n      <td>-0.644828</td>\n      <td>-0.665410</td>\n      <td>-0.691444</td>\n      <td>-0.687672</td>\n      <td>-0.666039</td>\n      <td>-0.629228</td>\n      <td>-0.645334</td>\n      <td>-0.161016</td>\n      <td>-0.149241</td>\n      <td>-0.099284</td>\n      <td>...</td>\n      <td>-0.375361</td>\n      <td>-0.504890</td>\n      <td>-0.372596</td>\n      <td>-0.266141</td>\n      <td>-0.012003</td>\n      <td>-0.102680</td>\n      <td>-0.771230</td>\n      <td>-0.124669</td>\n      <td>0.632962</td>\n      <td>-0.220991</td>\n    </tr>\n    <tr>\n      <th>Kushtia</th>\n      <td>-0.699077</td>\n      <td>-0.728069</td>\n      <td>-0.708409</td>\n      <td>-0.700885</td>\n      <td>-0.672542</td>\n      <td>-0.628845</td>\n      <td>-0.643124</td>\n      <td>-0.153955</td>\n      <td>-0.119929</td>\n      <td>-0.093347</td>\n      <td>...</td>\n      <td>-0.356149</td>\n      <td>-0.489560</td>\n      <td>-0.320623</td>\n      <td>-0.228997</td>\n      <td>-0.028015</td>\n      <td>-0.120983</td>\n      <td>-0.788945</td>\n      <td>-0.142521</td>\n      <td>0.692390</td>\n      <td>-0.238893</td>\n    </tr>\n    <tr>\n      <th>Laksham</th>\n      <td>-0.639129</td>\n      <td>-0.673930</td>\n      <td>-0.680276</td>\n      <td>-0.642418</td>\n      <td>-0.628608</td>\n      <td>-0.613219</td>\n      <td>-0.631483</td>\n      <td>-0.154927</td>\n      <td>-0.061823</td>\n      <td>-0.146352</td>\n      <td>...</td>\n      <td>-0.410827</td>\n      <td>-0.524452</td>\n      <td>-0.365616</td>\n      <td>-0.301107</td>\n      <td>-0.012979</td>\n      <td>-0.103628</td>\n      <td>-0.775206</td>\n      <td>-0.126604</td>\n      <td>0.647749</td>\n      <td>-0.207502</td>\n    </tr>\n    <tr>\n      <th>Lakshmipur</th>\n      <td>-0.663872</td>\n      <td>-0.691728</td>\n      <td>-0.683100</td>\n      <td>-0.631259</td>\n      <td>-0.623378</td>\n      <td>-0.607634</td>\n      <td>-0.624054</td>\n      <td>-0.167407</td>\n      <td>-0.110955</td>\n      <td>-0.177027</td>\n      <td>...</td>\n      <td>-0.408429</td>\n      <td>-0.532092</td>\n      <td>-0.362044</td>\n      <td>-0.291937</td>\n      <td>-0.019825</td>\n      <td>-0.105162</td>\n      <td>-0.787558</td>\n      <td>-0.128154</td>\n      <td>0.658351</td>\n      <td>-0.218145</td>\n    </tr>\n    <tr>\n      <th>Lalmanirhat</th>\n      <td>-0.645258</td>\n      <td>-0.660147</td>\n      <td>-0.700787</td>\n      <td>-0.732524</td>\n      <td>-0.728457</td>\n      <td>-0.690412</td>\n      <td>-0.674338</td>\n      <td>-0.232583</td>\n      <td>-0.251194</td>\n      <td>-0.251298</td>\n      <td>...</td>\n      <td>-0.408084</td>\n      <td>-0.471510</td>\n      <td>-0.416213</td>\n      <td>-0.271417</td>\n      <td>-0.001162</td>\n      <td>-0.109745</td>\n      <td>-0.757368</td>\n      <td>-0.129909</td>\n      <td>0.653537</td>\n      <td>-0.265510</td>\n    </tr>\n    <tr>\n      <th>Madaripur</th>\n      <td>-0.674562</td>\n      <td>-0.705172</td>\n      <td>-0.693359</td>\n      <td>-0.656348</td>\n      <td>-0.635427</td>\n      <td>-0.607738</td>\n      <td>-0.617968</td>\n      <td>-0.142695</td>\n      <td>-0.047234</td>\n      <td>-0.120376</td>\n      <td>...</td>\n      <td>-0.400557</td>\n      <td>-0.515758</td>\n      <td>-0.327333</td>\n      <td>-0.285662</td>\n      <td>-0.021830</td>\n      <td>-0.107457</td>\n      <td>-0.782228</td>\n      <td>-0.130459</td>\n      <td>0.659750</td>\n      <td>-0.218369</td>\n    </tr>\n    <tr>\n      <th>Maulavi Bazar</th>\n      <td>-0.624660</td>\n      <td>-0.646388</td>\n      <td>-0.664265</td>\n      <td>-0.684994</td>\n      <td>-0.671744</td>\n      <td>-0.643711</td>\n      <td>-0.653485</td>\n      <td>-0.217077</td>\n      <td>-0.302016</td>\n      <td>-0.180539</td>\n      <td>...</td>\n      <td>-0.446832</td>\n      <td>-0.530458</td>\n      <td>-0.421997</td>\n      <td>-0.340926</td>\n      <td>0.010825</td>\n      <td>-0.094456</td>\n      <td>-0.771442</td>\n      <td>-0.120427</td>\n      <td>0.616875</td>\n      <td>-0.224895</td>\n    </tr>\n    <tr>\n      <th>Mymensingh</th>\n      <td>-0.641946</td>\n      <td>-0.660440</td>\n      <td>-0.691641</td>\n      <td>-0.710170</td>\n      <td>-0.699624</td>\n      <td>-0.646238</td>\n      <td>-0.654616</td>\n      <td>-0.191521</td>\n      <td>-0.201509</td>\n      <td>-0.165582</td>\n      <td>...</td>\n      <td>-0.425993</td>\n      <td>-0.488382</td>\n      <td>-0.384856</td>\n      <td>-0.323308</td>\n      <td>0.006497</td>\n      <td>-0.099857</td>\n      <td>-0.766976</td>\n      <td>-0.120796</td>\n      <td>0.642862</td>\n      <td>-0.224270</td>\n    </tr>\n    <tr>\n      <th>Nagarpur</th>\n      <td>-0.668227</td>\n      <td>-0.692608</td>\n      <td>-0.701620</td>\n      <td>-0.688380</td>\n      <td>-0.667689</td>\n      <td>-0.622632</td>\n      <td>-0.635529</td>\n      <td>-0.159285</td>\n      <td>-0.128970</td>\n      <td>-0.127515</td>\n      <td>...</td>\n      <td>-0.399097</td>\n      <td>-0.494250</td>\n      <td>-0.327680</td>\n      <td>-0.299452</td>\n      <td>-0.009909</td>\n      <td>-0.109567</td>\n      <td>-0.774215</td>\n      <td>-0.130800</td>\n      <td>0.657597</td>\n      <td>-0.219808</td>\n    </tr>\n    <tr>\n      <th>Narail</th>\n      <td>-0.694619</td>\n      <td>-0.727678</td>\n      <td>-0.706221</td>\n      <td>-0.669710</td>\n      <td>-0.646629</td>\n      <td>-0.615353</td>\n      <td>-0.619488</td>\n      <td>-0.151056</td>\n      <td>-0.063258</td>\n      <td>-0.134000</td>\n      <td>...</td>\n      <td>-0.412757</td>\n      <td>-0.509457</td>\n      <td>-0.324618</td>\n      <td>-0.286661</td>\n      <td>-0.020904</td>\n      <td>-0.113902</td>\n      <td>-0.795210</td>\n      <td>-0.136236</td>\n      <td>0.687272</td>\n      <td>-0.223327</td>\n    </tr>\n    <tr>\n      <th>Narayanganj</th>\n      <td>-0.633437</td>\n      <td>-0.660501</td>\n      <td>-0.679947</td>\n      <td>-0.657779</td>\n      <td>-0.635964</td>\n      <td>-0.601233</td>\n      <td>-0.614191</td>\n      <td>-0.152790</td>\n      <td>-0.108996</td>\n      <td>-0.107024</td>\n      <td>...</td>\n      <td>-0.373366</td>\n      <td>-0.487682</td>\n      <td>-0.318126</td>\n      <td>-0.273393</td>\n      <td>-0.015683</td>\n      <td>-0.101329</td>\n      <td>-0.751066</td>\n      <td>-0.121915</td>\n      <td>0.625790</td>\n      <td>-0.227050</td>\n    </tr>\n    <tr>\n      <th>Narsingdi</th>\n      <td>-0.628423</td>\n      <td>-0.654619</td>\n      <td>-0.683108</td>\n      <td>-0.669983</td>\n      <td>-0.648345</td>\n      <td>-0.611824</td>\n      <td>-0.628277</td>\n      <td>-0.149173</td>\n      <td>-0.096745</td>\n      <td>-0.150573</td>\n      <td>...</td>\n      <td>-0.396026</td>\n      <td>-0.487920</td>\n      <td>-0.340270</td>\n      <td>-0.300813</td>\n      <td>-0.005592</td>\n      <td>-0.102306</td>\n      <td>-0.754155</td>\n      <td>-0.121345</td>\n      <td>0.626711</td>\n      <td>-0.218854</td>\n    </tr>\n    <tr>\n      <th>Nawabganj</th>\n      <td>-0.698052</td>\n      <td>-0.728857</td>\n      <td>-0.683969</td>\n      <td>-0.690730</td>\n      <td>-0.677067</td>\n      <td>-0.643787</td>\n      <td>-0.657187</td>\n      <td>-0.157060</td>\n      <td>-0.059219</td>\n      <td>-0.075959</td>\n      <td>...</td>\n      <td>-0.371228</td>\n      <td>-0.472341</td>\n      <td>-0.345289</td>\n      <td>-0.240876</td>\n      <td>-0.020803</td>\n      <td>-0.128484</td>\n      <td>-0.785150</td>\n      <td>-0.149264</td>\n      <td>0.704279</td>\n      <td>-0.269769</td>\n    </tr>\n    <tr>\n      <th>Netrakona</th>\n      <td>-0.639993</td>\n      <td>-0.655714</td>\n      <td>-0.683033</td>\n      <td>-0.706312</td>\n      <td>-0.695182</td>\n      <td>-0.646242</td>\n      <td>-0.656682</td>\n      <td>-0.211294</td>\n      <td>-0.239395</td>\n      <td>-0.154877</td>\n      <td>...</td>\n      <td>-0.441393</td>\n      <td>-0.495975</td>\n      <td>-0.403878</td>\n      <td>-0.344906</td>\n      <td>0.016636</td>\n      <td>-0.095985</td>\n      <td>-0.769241</td>\n      <td>-0.119415</td>\n      <td>0.634752</td>\n      <td>-0.213756</td>\n    </tr>\n    <tr>\n      <th>Pabna</th>\n      <td>-0.696318</td>\n      <td>-0.725191</td>\n      <td>-0.706751</td>\n      <td>-0.700470</td>\n      <td>-0.673740</td>\n      <td>-0.630934</td>\n      <td>-0.644623</td>\n      <td>-0.153333</td>\n      <td>-0.120515</td>\n      <td>-0.097379</td>\n      <td>...</td>\n      <td>-0.355060</td>\n      <td>-0.488431</td>\n      <td>-0.317299</td>\n      <td>-0.230143</td>\n      <td>-0.027645</td>\n      <td>-0.120426</td>\n      <td>-0.786689</td>\n      <td>-0.141932</td>\n      <td>0.690017</td>\n      <td>-0.237683</td>\n    </tr>\n    <tr>\n      <th>Palang</th>\n      <td>-0.668121</td>\n      <td>-0.698441</td>\n      <td>-0.687700</td>\n      <td>-0.652584</td>\n      <td>-0.632762</td>\n      <td>-0.606235</td>\n      <td>-0.616207</td>\n      <td>-0.141700</td>\n      <td>-0.047665</td>\n      <td>-0.122610</td>\n      <td>...</td>\n      <td>-0.396265</td>\n      <td>-0.512120</td>\n      <td>-0.322576</td>\n      <td>-0.283997</td>\n      <td>-0.021901</td>\n      <td>-0.106350</td>\n      <td>-0.775144</td>\n      <td>-0.129164</td>\n      <td>0.653976</td>\n      <td>-0.216149</td>\n    </tr>\n    <tr>\n      <th>Paltan</th>\n      <td>-0.638423</td>\n      <td>-0.664867</td>\n      <td>-0.673687</td>\n      <td>-0.654784</td>\n      <td>-0.635345</td>\n      <td>-0.597266</td>\n      <td>-0.608661</td>\n      <td>-0.149549</td>\n      <td>-0.084634</td>\n      <td>-0.112445</td>\n      <td>...</td>\n      <td>-0.386234</td>\n      <td>-0.478414</td>\n      <td>-0.307212</td>\n      <td>-0.295440</td>\n      <td>-0.012090</td>\n      <td>-0.102096</td>\n      <td>-0.740533</td>\n      <td>-0.121638</td>\n      <td>0.622795</td>\n      <td>-0.207757</td>\n    </tr>\n    <tr>\n      <th>Par Naogaon</th>\n      <td>-0.684635</td>\n      <td>-0.706669</td>\n      <td>-0.710220</td>\n      <td>-0.717513</td>\n      <td>-0.698773</td>\n      <td>-0.658201</td>\n      <td>-0.667809</td>\n      <td>-0.179595</td>\n      <td>-0.097714</td>\n      <td>-0.209010</td>\n      <td>...</td>\n      <td>-0.400702</td>\n      <td>-0.472257</td>\n      <td>-0.357366</td>\n      <td>-0.281326</td>\n      <td>-0.008644</td>\n      <td>-0.119164</td>\n      <td>-0.783403</td>\n      <td>-0.141604</td>\n      <td>0.690566</td>\n      <td>-0.247772</td>\n    </tr>\n    <tr>\n      <th>Patiya</th>\n      <td>-0.658103</td>\n      <td>-0.696219</td>\n      <td>-0.628702</td>\n      <td>-0.592906</td>\n      <td>-0.612416</td>\n      <td>-0.631336</td>\n      <td>-0.654598</td>\n      <td>-0.220352</td>\n      <td>-0.223504</td>\n      <td>-0.136095</td>\n      <td>...</td>\n      <td>-0.454417</td>\n      <td>-0.555224</td>\n      <td>-0.439118</td>\n      <td>-0.326782</td>\n      <td>0.009468</td>\n      <td>-0.103641</td>\n      <td>-0.821463</td>\n      <td>-0.127996</td>\n      <td>0.674735</td>\n      <td>-0.250695</td>\n    </tr>\n    <tr>\n      <th>Pirojpur</th>\n      <td>-0.693176</td>\n      <td>-0.724790</td>\n      <td>-0.698431</td>\n      <td>-0.640710</td>\n      <td>-0.627318</td>\n      <td>-0.609696</td>\n      <td>-0.617323</td>\n      <td>-0.149741</td>\n      <td>-0.045414</td>\n      <td>-0.118800</td>\n      <td>...</td>\n      <td>-0.394319</td>\n      <td>-0.540746</td>\n      <td>-0.350901</td>\n      <td>-0.257440</td>\n      <td>-0.019829</td>\n      <td>-0.099760</td>\n      <td>-0.800658</td>\n      <td>-0.126114</td>\n      <td>0.682351</td>\n      <td>-0.214710</td>\n    </tr>\n    <tr>\n      <th>Raipur</th>\n      <td>-0.661105</td>\n      <td>-0.688779</td>\n      <td>-0.680492</td>\n      <td>-0.629127</td>\n      <td>-0.621099</td>\n      <td>-0.604201</td>\n      <td>-0.620203</td>\n      <td>-0.167009</td>\n      <td>-0.110552</td>\n      <td>-0.175875</td>\n      <td>...</td>\n      <td>-0.406171</td>\n      <td>-0.528932</td>\n      <td>-0.359381</td>\n      <td>-0.290929</td>\n      <td>-0.020350</td>\n      <td>-0.105229</td>\n      <td>-0.783804</td>\n      <td>-0.128085</td>\n      <td>0.654716</td>\n      <td>-0.217380</td>\n    </tr>\n    <tr>\n      <th>Rajshahi</th>\n      <td>-0.693532</td>\n      <td>-0.724255</td>\n      <td>-0.692789</td>\n      <td>-0.695918</td>\n      <td>-0.675053</td>\n      <td>-0.637281</td>\n      <td>-0.652431</td>\n      <td>-0.156523</td>\n      <td>-0.063153</td>\n      <td>-0.133968</td>\n      <td>...</td>\n      <td>-0.378619</td>\n      <td>-0.485535</td>\n      <td>-0.331771</td>\n      <td>-0.253993</td>\n      <td>-0.019334</td>\n      <td>-0.126594</td>\n      <td>-0.785414</td>\n      <td>-0.147447</td>\n      <td>0.701978</td>\n      <td>-0.254691</td>\n    </tr>\n    <tr>\n      <th>Ramganj</th>\n      <td>-0.643013</td>\n      <td>-0.674704</td>\n      <td>-0.685763</td>\n      <td>-0.644250</td>\n      <td>-0.629244</td>\n      <td>-0.608280</td>\n      <td>-0.624393</td>\n      <td>-0.157462</td>\n      <td>-0.067641</td>\n      <td>-0.158065</td>\n      <td>...</td>\n      <td>-0.407549</td>\n      <td>-0.520198</td>\n      <td>-0.351965</td>\n      <td>-0.295640</td>\n      <td>-0.015708</td>\n      <td>-0.103612</td>\n      <td>-0.776522</td>\n      <td>-0.126519</td>\n      <td>0.650205</td>\n      <td>-0.216589</td>\n    </tr>\n    <tr>\n      <th>Rangpur</th>\n      <td>-0.667743</td>\n      <td>-0.680359</td>\n      <td>-0.704974</td>\n      <td>-0.734574</td>\n      <td>-0.724201</td>\n      <td>-0.681880</td>\n      <td>-0.674155</td>\n      <td>-0.218166</td>\n      <td>-0.240656</td>\n      <td>-0.217108</td>\n      <td>...</td>\n      <td>-0.404226</td>\n      <td>-0.470047</td>\n      <td>-0.392387</td>\n      <td>-0.268983</td>\n      <td>-0.008500</td>\n      <td>-0.112448</td>\n      <td>-0.766324</td>\n      <td>-0.131394</td>\n      <td>0.662022</td>\n      <td>-0.244293</td>\n    </tr>\n    <tr>\n      <th>Saidpur</th>\n      <td>-0.668966</td>\n      <td>-0.683382</td>\n      <td>-0.706330</td>\n      <td>-0.728943</td>\n      <td>-0.719723</td>\n      <td>-0.678998</td>\n      <td>-0.674805</td>\n      <td>-0.212352</td>\n      <td>-0.236184</td>\n      <td>-0.221333</td>\n      <td>...</td>\n      <td>-0.393231</td>\n      <td>-0.458313</td>\n      <td>-0.376135</td>\n      <td>-0.265876</td>\n      <td>0.001859</td>\n      <td>-0.114516</td>\n      <td>-0.758882</td>\n      <td>-0.134910</td>\n      <td>0.666604</td>\n      <td>-0.241838</td>\n    </tr>\n    <tr>\n      <th>Sandwip</th>\n      <td>-0.616442</td>\n      <td>-0.652869</td>\n      <td>-0.674074</td>\n      <td>-0.614401</td>\n      <td>-0.621784</td>\n      <td>-0.624232</td>\n      <td>-0.646338</td>\n      <td>-0.212143</td>\n      <td>-0.202998</td>\n      <td>-0.403986</td>\n      <td>...</td>\n      <td>-0.450806</td>\n      <td>-0.549770</td>\n      <td>-0.383125</td>\n      <td>-0.347870</td>\n      <td>-0.005230</td>\n      <td>-0.108375</td>\n      <td>-0.801726</td>\n      <td>-0.132606</td>\n      <td>0.669280</td>\n      <td>-0.291374</td>\n    </tr>\n    <tr>\n      <th>Sarishabari</th>\n      <td>-0.668789</td>\n      <td>-0.686379</td>\n      <td>-0.708261</td>\n      <td>-0.717663</td>\n      <td>-0.704180</td>\n      <td>-0.652293</td>\n      <td>-0.660395</td>\n      <td>-0.182624</td>\n      <td>-0.185525</td>\n      <td>-0.124435</td>\n      <td>...</td>\n      <td>-0.391278</td>\n      <td>-0.481752</td>\n      <td>-0.369541</td>\n      <td>-0.277410</td>\n      <td>-0.009281</td>\n      <td>-0.105518</td>\n      <td>-0.777722</td>\n      <td>-0.128673</td>\n      <td>0.663232</td>\n      <td>-0.246548</td>\n    </tr>\n    <tr>\n      <th>Satkania</th>\n      <td>-0.602798</td>\n      <td>-0.656883</td>\n      <td>-0.622400</td>\n      <td>-0.596524</td>\n      <td>-0.607716</td>\n      <td>-0.633768</td>\n      <td>-0.656984</td>\n      <td>-0.204071</td>\n      <td>-0.126482</td>\n      <td>-0.188203</td>\n      <td>...</td>\n      <td>-0.511184</td>\n      <td>-0.556358</td>\n      <td>-0.454998</td>\n      <td>-0.397062</td>\n      <td>0.024174</td>\n      <td>-0.089165</td>\n      <td>-0.812258</td>\n      <td>-0.112836</td>\n      <td>0.672467</td>\n      <td>-0.220839</td>\n    </tr>\n    <tr>\n      <th>Satkhira</th>\n      <td>-0.689928</td>\n      <td>-0.721941</td>\n      <td>-0.687366</td>\n      <td>-0.637057</td>\n      <td>-0.621517</td>\n      <td>-0.592880</td>\n      <td>-0.590624</td>\n      <td>-0.142111</td>\n      <td>-0.076924</td>\n      <td>-0.184399</td>\n      <td>...</td>\n      <td>-0.416056</td>\n      <td>-0.517673</td>\n      <td>-0.334422</td>\n      <td>-0.289676</td>\n      <td>-0.021139</td>\n      <td>-0.106301</td>\n      <td>-0.801089</td>\n      <td>-0.130780</td>\n      <td>0.686212</td>\n      <td>-0.267918</td>\n    </tr>\n    <tr>\n      <th>Shahzadpur</th>\n      <td>-0.680033</td>\n      <td>-0.700865</td>\n      <td>-0.711015</td>\n      <td>-0.706223</td>\n      <td>-0.684784</td>\n      <td>-0.633759</td>\n      <td>-0.647801</td>\n      <td>-0.161014</td>\n      <td>-0.117013</td>\n      <td>-0.097781</td>\n      <td>...</td>\n      <td>-0.362843</td>\n      <td>-0.491998</td>\n      <td>-0.345023</td>\n      <td>-0.244735</td>\n      <td>-0.020926</td>\n      <td>-0.110939</td>\n      <td>-0.782887</td>\n      <td>-0.134425</td>\n      <td>0.671586</td>\n      <td>-0.248657</td>\n    </tr>\n    <tr>\n      <th>Sherpur</th>\n      <td>-0.657277</td>\n      <td>-0.672433</td>\n      <td>-0.701663</td>\n      <td>-0.722760</td>\n      <td>-0.713279</td>\n      <td>-0.659116</td>\n      <td>-0.663751</td>\n      <td>-0.175243</td>\n      <td>-0.158030</td>\n      <td>-0.175659</td>\n      <td>...</td>\n      <td>-0.434633</td>\n      <td>-0.480164</td>\n      <td>-0.383023</td>\n      <td>-0.327851</td>\n      <td>-0.005177</td>\n      <td>-0.107513</td>\n      <td>-0.776804</td>\n      <td>-0.129645</td>\n      <td>0.654928</td>\n      <td>-0.230666</td>\n    </tr>\n    <tr>\n      <th>Sirajganj</th>\n      <td>-0.671238</td>\n      <td>-0.689849</td>\n      <td>-0.709073</td>\n      <td>-0.710964</td>\n      <td>-0.694807</td>\n      <td>-0.642332</td>\n      <td>-0.654095</td>\n      <td>-0.162170</td>\n      <td>-0.131856</td>\n      <td>-0.112737</td>\n      <td>...</td>\n      <td>-0.367724</td>\n      <td>-0.486983</td>\n      <td>-0.354882</td>\n      <td>-0.250050</td>\n      <td>-0.016527</td>\n      <td>-0.107309</td>\n      <td>-0.780231</td>\n      <td>-0.131208</td>\n      <td>0.666412</td>\n      <td>-0.249994</td>\n    </tr>\n    <tr>\n      <th>Sylhet</th>\n      <td>-0.623535</td>\n      <td>-0.637542</td>\n      <td>-0.626976</td>\n      <td>-0.659700</td>\n      <td>-0.663904</td>\n      <td>-0.636325</td>\n      <td>-0.642619</td>\n      <td>-0.242076</td>\n      <td>-0.264320</td>\n      <td>-0.158331</td>\n      <td>...</td>\n      <td>-0.485208</td>\n      <td>-0.511129</td>\n      <td>-0.437641</td>\n      <td>-0.367260</td>\n      <td>0.027584</td>\n      <td>-0.086670</td>\n      <td>-0.752880</td>\n      <td>-0.110573</td>\n      <td>0.599207</td>\n      <td>-0.190893</td>\n    </tr>\n    <tr>\n      <th>Tangail</th>\n      <td>-0.662346</td>\n      <td>-0.684229</td>\n      <td>-0.703555</td>\n      <td>-0.697677</td>\n      <td>-0.679768</td>\n      <td>-0.628945</td>\n      <td>-0.642467</td>\n      <td>-0.157794</td>\n      <td>-0.116304</td>\n      <td>-0.105089</td>\n      <td>...</td>\n      <td>-0.402070</td>\n      <td>-0.491421</td>\n      <td>-0.345722</td>\n      <td>-0.290857</td>\n      <td>-0.008192</td>\n      <td>-0.105821</td>\n      <td>-0.771694</td>\n      <td>-0.127325</td>\n      <td>0.656040</td>\n      <td>-0.217150</td>\n    </tr>\n    <tr>\n      <th>Thakurgaon</th>\n      <td>-0.649433</td>\n      <td>-0.665972</td>\n      <td>-0.696368</td>\n      <td>-0.721141</td>\n      <td>-0.716587</td>\n      <td>-0.679472</td>\n      <td>-0.671512</td>\n      <td>-0.196370</td>\n      <td>-0.198780</td>\n      <td>-0.266117</td>\n      <td>...</td>\n      <td>-0.392405</td>\n      <td>-0.439007</td>\n      <td>-0.367677</td>\n      <td>-0.273133</td>\n      <td>0.001488</td>\n      <td>-0.113367</td>\n      <td>-0.743687</td>\n      <td>-0.133973</td>\n      <td>0.653749</td>\n      <td>-0.264951</td>\n    </tr>\n    <tr>\n      <th>Tungi</th>\n      <td>-0.625688</td>\n      <td>-0.650432</td>\n      <td>-0.674381</td>\n      <td>-0.664319</td>\n      <td>-0.645052</td>\n      <td>-0.603226</td>\n      <td>-0.615524</td>\n      <td>-0.160075</td>\n      <td>-0.140575</td>\n      <td>-0.112983</td>\n      <td>...</td>\n      <td>-0.392522</td>\n      <td>-0.476562</td>\n      <td>-0.318529</td>\n      <td>-0.300922</td>\n      <td>-0.002397</td>\n      <td>-0.098890</td>\n      <td>-0.737279</td>\n      <td>-0.117900</td>\n      <td>0.619779</td>\n      <td>-0.205232</td>\n    </tr>\n    <tr>\n      <th>Tungipara</th>\n      <td>-0.681831</td>\n      <td>-0.715277</td>\n      <td>-0.701144</td>\n      <td>-0.653455</td>\n      <td>-0.633778</td>\n      <td>-0.610041</td>\n      <td>-0.617795</td>\n      <td>-0.145966</td>\n      <td>-0.054686</td>\n      <td>-0.124260</td>\n      <td>...</td>\n      <td>-0.402535</td>\n      <td>-0.530633</td>\n      <td>-0.342257</td>\n      <td>-0.266564</td>\n      <td>-0.016330</td>\n      <td>-0.103807</td>\n      <td>-0.790593</td>\n      <td>-0.128291</td>\n      <td>0.677935</td>\n      <td>-0.197662</td>\n    </tr>\n  </tbody>\n</table>\n<p>55 rows × 37 columns</p>\n</div>"
     },
     "execution_count": 23,
     "metadata": {},
     "output_type": "execute_result"
    }
   ],
   "source": [
    "from meteorology.meteoblue_data_preparation import factors\n",
    "\n",
    "corr_zones_df = pd.DataFrame(corr_zones,columns=factors,index=metadata.Zone)\n",
    "corr_zones_df"
   ],
   "metadata": {
    "collapsed": false,
    "pycharm": {
     "name": "#%%\n"
    }
   }
  },
  {
   "cell_type": "code",
   "execution_count": 24,
   "outputs": [
    {
     "data": {
      "text/plain": "['Temperature [2 m elevation corrected]',\n 'Growing Degree Days [2 m elevation corrected]',\n 'Temperature [900 mb]',\n 'Temperature [850 mb]',\n 'Temperature [800 mb]',\n 'Temperature [700 mb]',\n 'Temperature [500 mb]',\n 'Precipitation Total',\n 'Precipitation Runoff',\n 'Relative Humidity [2 m]',\n 'Wind Gust',\n 'Wind Speed [10 m]',\n 'Wind Direction [10 m]',\n 'Wind Speed [100 m]',\n 'Wind Direction [100 m]',\n 'Wind Speed [900 mb]',\n 'Wind Direction [900 mb]',\n 'Wind Speed [850 mb]',\n 'Wind Direction [850 mb]',\n 'Wind Speed [800 mb]',\n 'Wind Direction [800 mb]',\n 'Wind Speed [700 mb]',\n 'Wind Direction [700 mb]',\n 'Wind Speed [500 mb]',\n 'Wind Direction [500 mb]',\n 'Wind Speed [250 mb]',\n 'Wind Direction [250 mb]',\n 'Cloud Cover Total',\n 'Cloud Cover High [high cld lay]',\n 'Cloud Cover Medium [mid cld lay]',\n 'Cloud Cover Low [low cld lay]',\n 'Sunshine Duration',\n 'Shortwave Radiation',\n 'Longwave Radiation',\n 'UV Radiation',\n 'Mean Sea Level Pressure [MSL]',\n 'Evapotranspiration']"
     },
     "execution_count": 24,
     "metadata": {},
     "output_type": "execute_result"
    }
   ],
   "source": [
    "factors"
   ],
   "metadata": {
    "collapsed": false,
    "pycharm": {
     "name": "#%%\n"
    }
   }
  },
  {
   "cell_type": "code",
   "execution_count": 25,
   "outputs": [],
   "source": [
    "selected_factors = ['Temperature [2 m elevation corrected]','Longwave Radiation','Relative Humidity [2 m]','Mean Sea Level Pressure [MSL]',\n",
    "                    'Wind Speed [10 m]','Wind Gust','Precipitation Total','Cloud Cover Total',]"
   ],
   "metadata": {
    "collapsed": false,
    "pycharm": {
     "name": "#%%\n"
    }
   }
  },
  {
   "cell_type": "code",
   "execution_count": 26,
   "outputs": [],
   "source": [
    "corr_zones_df = corr_zones_df[selected_factors]"
   ],
   "metadata": {
    "collapsed": false,
    "pycharm": {
     "name": "#%%\n"
    }
   }
  },
  {
   "cell_type": "code",
   "execution_count": 27,
   "outputs": [
    {
     "data": {
      "application/vnd.plotly.v1+json": {
       "config": {
        "displayModeBar": false,
        "plotlyServerURL": "https://plot.ly",
        "responsive": true
       },
       "data": [
        {
         "colorscale": [
          [
           0.0,
           "rgb(84,48,5)"
          ],
          [
           0.1,
           "rgb(140,81,10)"
          ],
          [
           0.2,
           "rgb(191,129,45)"
          ],
          [
           0.3,
           "rgb(223,194,125)"
          ],
          [
           0.4,
           "rgb(246,232,195)"
          ],
          [
           0.5,
           "rgb(245,245,245)"
          ],
          [
           0.6,
           "rgb(199,234,229)"
          ],
          [
           0.7,
           "rgb(128,205,193)"
          ],
          [
           0.8,
           "rgb(53,151,143)"
          ],
          [
           0.9,
           "rgb(1,102,94)"
          ],
          [
           1.0,
           "rgb(0,60,48)"
          ]
         ],
         "reversescale": true,
         "type": "heatmap",
         "x": [
          "Azimpur",
          "Barisal",
          "Bhairab Bazar",
          "Bhola",
          "Bogra",
          "Chittagong",
          "Comilla",
          "Dhaka",
          "Dinajpur",
          "Faridpur",
          "Feni",
          "Habiganj",
          "Ishurdi",
          "Jamalpur",
          "Jessore",
          "Joypur Hat",
          "Khagrachhari",
          "Khulna",
          "Kishorganj",
          "Kushtia",
          "Laksham",
          "Lakshmipur",
          "Lalmanirhat",
          "Madaripur",
          "Maulavi Bazar",
          "Mymensingh",
          "Nagarpur",
          "Narail",
          "Narayanganj",
          "Narsingdi",
          "Nawabganj",
          "Netrakona",
          "Pabna",
          "Palang",
          "Paltan",
          "Par Naogaon",
          "Patiya",
          "Pirojpur",
          "Raipur",
          "Rajshahi",
          "Ramganj",
          "Rangpur",
          "Saidpur",
          "Sandwip",
          "Sarishabari",
          "Satkania",
          "Satkhira",
          "Shahzadpur",
          "Sherpur",
          "Sirajganj",
          "Sylhet",
          "Tangail",
          "Thakurgaon",
          "Tungi",
          "Tungipara"
         ],
         "y": [
          "Temperature [2 m elevation corrected]",
          "Longwave Radiation",
          "Relative Humidity [2 m]",
          "Mean Sea Level Pressure [MSL]",
          "Wind Speed [10 m]",
          "Wind Gust",
          "Precipitation Total",
          "Cloud Cover Total"
         ],
         "z": [
          [
           -0.6405123970316646,
           -0.674919504115522,
           -0.6348285604771643,
           -0.6907179457125647,
           -0.6781507810456457,
           -0.6592354679118636,
           -0.6285098480268384,
           -0.6384228274555791,
           -0.6783923733851793,
           -0.6748501637956423,
           -0.633581987754856,
           -0.6274191968713948,
           -0.6982708501577158,
           -0.6612311772667531,
           -0.6958149471946127,
           -0.6879392561387829,
           -0.6163618867306644,
           -0.6858316275111667,
           -0.6448283163354379,
           -0.6990771421627907,
           -0.6391286051355142,
           -0.6638721721405284,
           -0.6452578065403248,
           -0.6745620647080722,
           -0.6246596034371742,
           -0.6419464447982072,
           -0.6682270209117896,
           -0.6946188768336529,
           -0.6334369476662748,
           -0.6284226583676282,
           -0.6980523904225129,
           -0.6399929260296414,
           -0.6963184632157772,
           -0.6681214337111455,
           -0.6384228070807771,
           -0.6846353113835725,
           -0.6581027187665663,
           -0.6931764618683459,
           -0.6611052064934964,
           -0.6935319445001444,
           -0.6430132748365548,
           -0.6677430545651345,
           -0.6689664130550932,
           -0.6164418091931294,
           -0.6687889782155972,
           -0.602798167686952,
           -0.6899281600160568,
           -0.6800334677420421,
           -0.6572771685212849,
           -0.6712378188915643,
           -0.6235353957036981,
           -0.6623458324061301,
           -0.6494331286129184,
           -0.6256877866197036,
           -0.6818307262701071
          ],
          [
           -0.7427817409482375,
           -0.7963675311233569,
           -0.7654292299870084,
           -0.8004718236619386,
           -0.7846156114940543,
           -0.8203573236463926,
           -0.765700781122034,
           -0.7405327991706476,
           -0.7589608740007846,
           -0.7740527060660536,
           -0.7872682167245495,
           -0.7724588783248134,
           -0.789179967759983,
           -0.779232911192411,
           -0.7962395910692911,
           -0.7816087554681488,
           -0.7888820492491115,
           -0.7988337509635859,
           -0.7712298298768744,
           -0.7889448294690348,
           -0.7752057653283384,
           -0.7875580707268811,
           -0.7573676116682272,
           -0.7822276559662303,
           -0.7714422460751394,
           -0.7669755612418647,
           -0.7742149006556988,
           -0.7952097322074829,
           -0.7510661165021354,
           -0.7541551938485732,
           -0.7851495872795567,
           -0.7692414620928351,
           -0.786689496658527,
           -0.7751441990955029,
           -0.7405327991706476,
           -0.7834026822011051,
           -0.821463441821003,
           -0.8006577018155393,
           -0.783803520182536,
           -0.7854143189388983,
           -0.7765216728255805,
           -0.7663242264770205,
           -0.7588822185631775,
           -0.8017261050460562,
           -0.7777215275074281,
           -0.8122581678225254,
           -0.8010893408244445,
           -0.7828873113543223,
           -0.7768038016045528,
           -0.7802306780102773,
           -0.7528804815566373,
           -0.7716936816164801,
           -0.7436868936657101,
           -0.7372792991055903,
           -0.7905925575390179
          ],
          [
           -0.11197442509569168,
           -0.11643464071738802,
           -0.08606790628198116,
           -0.15923042743030466,
           -0.17288368176208116,
           -0.1331929055241206,
           -0.1644124956725866,
           -0.1124445519384113,
           -0.21066461931815572,
           -0.17335987090159355,
           -0.26169388701514823,
           -0.14979929694612987,
           -0.0958392782425074,
           -0.1442664129218271,
           -0.12378353597869653,
           -0.18460266420151283,
           -0.0702902557186935,
           -0.15154091753460022,
           -0.09928419838465277,
           -0.09334673528700364,
           -0.1463515203607315,
           -0.1770267291384524,
           -0.25129773801532335,
           -0.12037648133981632,
           -0.18053919428019966,
           -0.1655824555909205,
           -0.1275151869740547,
           -0.13400000605910803,
           -0.1070243406689665,
           -0.15057264760307573,
           -0.07595869984394232,
           -0.1548774340451309,
           -0.09737947990478456,
           -0.1226104817773455,
           -0.1124445519384113,
           -0.20901015674704432,
           -0.13609494127044347,
           -0.118799744670408,
           -0.17587545616713474,
           -0.13396838270369363,
           -0.15806467396039162,
           -0.21710755843458981,
           -0.22133269513801865,
           -0.4039858202922961,
           -0.12443470108608008,
           -0.18820322917375965,
           -0.18439939569843478,
           -0.09778075806639593,
           -0.1756588962202039,
           -0.11273690122121074,
           -0.15833140045257338,
           -0.1050890873858048,
           -0.2661165568955173,
           -0.11298284362110164,
           -0.12425954631126915
          ],
          [
           0.6246915037910037,
           0.6723460350793689,
           0.6306269686325825,
           0.6690588999133895,
           0.6774497602663502,
           0.6726032905598616,
           0.6407747091858756,
           0.6227949811152822,
           0.6730327948538609,
           0.6664448892831658,
           0.6525601237035465,
           0.6261999195148235,
           0.6937771603762404,
           0.6589372328773561,
           0.6926965610312935,
           0.6824845565140906,
           0.6458397949573408,
           0.6858049865629867,
           0.6329621859473648,
           0.6923903137048315,
           0.64774896207057,
           0.6583508086337437,
           0.6535367608133273,
           0.659749799637666,
           0.6168753835701852,
           0.6428617582092649,
           0.657597320559392,
           0.6872724516128531,
           0.6257897396351083,
           0.6267114017900964,
           0.7042786815715351,
           0.6347522270347844,
           0.6900172577488469,
           0.653975773556389,
           0.6227949811152822,
           0.6905659896610673,
           0.6747347166662724,
           0.6823509995128206,
           0.6547159208576795,
           0.7019775720301785,
           0.6502054371900006,
           0.6620222777229966,
           0.6666037674119512,
           0.6692800026631456,
           0.6632315761793841,
           0.6724667026573053,
           0.6862124612588154,
           0.6715857710171824,
           0.6549275553638486,
           0.6664121821622024,
           0.5992074431545962,
           0.6560402722430564,
           0.6537491970562801,
           0.6197792681337191,
           0.6779352894386746
          ],
          [
           -0.2979740161970706,
           -0.29492462907551753,
           -0.33091016026428904,
           -0.35745678449827567,
           -0.3073634717519835,
           -0.3731663499153825,
           -0.30297653848693173,
           -0.29721029106540386,
           -0.2088562075052228,
           -0.28649129931855455,
           -0.3634647611627707,
           -0.21222289588502002,
           -0.29401931511226204,
           -0.2671621189156848,
           -0.3202780306375443,
           -0.2457097072709202,
           -0.2750553757605133,
           -0.3087072457153645,
           -0.2875867063668122,
           -0.2936011534210418,
           -0.3319693043191539,
           -0.31913820777981394,
           -0.18331102728908627,
           -0.31759611529988824,
           -0.13476224229828118,
           -0.2608880413372944,
           -0.3068732545566345,
           -0.3016876768695729,
           -0.31484506072978213,
           -0.30608278184813853,
           -0.24513154600917525,
           -0.2677085767831355,
           -0.29123038918357397,
           -0.31525158428408206,
           -0.29721029106540386,
           -0.2559793277210452,
           -0.3743721721669778,
           -0.32371813293594365,
           -0.317841493299156,
           -0.2856280458293795,
           -0.335285826509965,
           -0.21698264424148572,
           -0.19436336396322193,
           -0.39695937811062637,
           -0.2942264588708893,
           -0.2965014544412675,
           -0.3499950964327634,
           -0.335354820245515,
           -0.3117817082480425,
           -0.3070969170579032,
           -0.028360264448433065,
           -0.28252103318747324,
           -0.18358955526500195,
           -0.31296910971034175,
           -0.2903125817585636
          ],
          [
           -0.39960445010121526,
           -0.39002058192879707,
           -0.4417293337148219,
           -0.39612107510458094,
           -0.42448984417704627,
           -0.42378271080028973,
           -0.4123693404185851,
           -0.3982323539448499,
           -0.3683262367591967,
           -0.40212625019538834,
           -0.42454855938721214,
           -0.37253301840579317,
           -0.42149193138545377,
           -0.39687858567788203,
           -0.41356644127409675,
           -0.40312602695966515,
           -0.38464425977641103,
           -0.4010577769876842,
           -0.42537894562137457,
           -0.42079281214563263,
           -0.4075451585678556,
           -0.3993182716857202,
           -0.3262552556004314,
           -0.42438185200239475,
           -0.34209391913737464,
           -0.40056241310998975,
           -0.4200168490632322,
           -0.4138119468245549,
           -0.4039075477414322,
           -0.425100665176781,
           -0.3971414496321844,
           -0.43035988501607764,
           -0.4175555095210458,
           -0.42047128959294544,
           -0.3982323539448499,
           -0.39371765798963415,
           -0.42461992928742587,
           -0.40660681188483166,
           -0.3977241417979291,
           -0.39835124539956224,
           -0.40612049249682136,
           -0.3528129644510967,
           -0.3511342719884812,
           -0.4247797093452011,
           -0.41622612797107067,
           -0.368750610129572,
           -0.4286378934741019,
           -0.44528246113147424,
           -0.4437014524237653,
           -0.4158832037373883,
           -0.32064143753376645,
           -0.4265860816667458,
           -0.32615882258272605,
           -0.40810983378594495,
           -0.39940129474229785
          ],
          [
           -0.14994938942981537,
           -0.16090783186624522,
           -0.15746528519846595,
           -0.18050127047675796,
           -0.17359552746689358,
           -0.2188465907819527,
           -0.150176666940883,
           -0.14954863484732445,
           -0.17236994298778513,
           -0.14212117144536177,
           -0.19470103191176424,
           -0.16611070330478875,
           -0.15390307846249074,
           -0.18973223005119014,
           -0.15742329706923763,
           -0.15671525055784746,
           -0.15372505262346128,
           -0.14320259135313212,
           -0.16101625180961726,
           -0.1539546387624684,
           -0.15492663313331584,
           -0.1674072416115258,
           -0.2325827203320379,
           -0.1426946671510114,
           -0.21707667130513159,
           -0.1915205955163757,
           -0.15928461887896977,
           -0.15105581443148966,
           -0.15279002611849501,
           -0.14917267256501704,
           -0.15706011067908368,
           -0.21129371085941684,
           -0.15333264079007017,
           -0.1416997120696302,
           -0.14954863484732445,
           -0.1795952993537594,
           -0.22035185479714203,
           -0.14974127759380257,
           -0.16700895729507834,
           -0.15652339422324685,
           -0.15746181413719967,
           -0.21816568355865462,
           -0.21235243650954103,
           -0.21214326569006867,
           -0.18262408453985893,
           -0.20407075112136625,
           -0.14211130058571197,
           -0.16101357327591356,
           -0.17524279723150077,
           -0.16216965119603918,
           -0.24207563766108403,
           -0.15779387778473405,
           -0.19636996855552757,
           -0.16007455977179014,
           -0.1459656053718489
          ],
          [
           -0.3875660191023885,
           -0.3959348672097482,
           -0.3504081668748809,
           -0.4164713136727393,
           -0.40320706201673495,
           -0.4528249973344371,
           -0.41475918384150146,
           -0.38623384245105197,
           -0.3836032452316067,
           -0.4038956109552778,
           -0.4252499355187671,
           -0.40873325830876095,
           -0.35587850983427954,
           -0.4263219510277449,
           -0.41228588054419407,
           -0.4078295962877317,
           -0.38065376270859835,
           -0.41373997987793737,
           -0.37536085282176374,
           -0.3561492622453132,
           -0.4108266857435953,
           -0.4084289451192833,
           -0.4080843149227203,
           -0.40055706539957375,
           -0.44683230519157174,
           -0.42599328269316633,
           -0.3990965502709057,
           -0.41275691695484734,
           -0.373366284757109,
           -0.3960261220419571,
           -0.3712281224454333,
           -0.44139306651572874,
           -0.35506018483080076,
           -0.39626487003696403,
           -0.38623384245105197,
           -0.4007022299390379,
           -0.4544172448947644,
           -0.39431853460790267,
           -0.4061709456689895,
           -0.378619295300659,
           -0.4075492754643398,
           -0.40422566629565976,
           -0.3932309581268981,
           -0.4508056116738956,
           -0.39127804986007947,
           -0.5111838446012987,
           -0.4160563471787983,
           -0.3628427032465273,
           -0.434633428499138,
           -0.367724024897284,
           -0.48520775174526226,
           -0.4020697956587038,
           -0.3924053678508355,
           -0.3925218614290805,
           -0.40253450895522247
          ]
         ],
         "zmax": 1,
         "zmin": -1
        }
       ],
       "layout": {
        "autosize": false,
        "font": {
         "color": "#3D3C3A",
         "size": 15
        },
        "height": 600,
        "template": {
         "data": {
          "bar": [
           {
            "error_x": {
             "color": "#2a3f5f"
            },
            "error_y": {
             "color": "#2a3f5f"
            },
            "marker": {
             "line": {
              "color": "#E5ECF6",
              "width": 0.5
             }
            },
            "type": "bar"
           }
          ],
          "barpolar": [
           {
            "marker": {
             "line": {
              "color": "#E5ECF6",
              "width": 0.5
             }
            },
            "type": "barpolar"
           }
          ],
          "carpet": [
           {
            "aaxis": {
             "endlinecolor": "#2a3f5f",
             "gridcolor": "white",
             "linecolor": "white",
             "minorgridcolor": "white",
             "startlinecolor": "#2a3f5f"
            },
            "baxis": {
             "endlinecolor": "#2a3f5f",
             "gridcolor": "white",
             "linecolor": "white",
             "minorgridcolor": "white",
             "startlinecolor": "#2a3f5f"
            },
            "type": "carpet"
           }
          ],
          "choropleth": [
           {
            "colorbar": {
             "outlinewidth": 0,
             "ticks": ""
            },
            "type": "choropleth"
           }
          ],
          "contour": [
           {
            "colorbar": {
             "outlinewidth": 0,
             "ticks": ""
            },
            "colorscale": [
             [
              0.0,
              "#0d0887"
             ],
             [
              0.1111111111111111,
              "#46039f"
             ],
             [
              0.2222222222222222,
              "#7201a8"
             ],
             [
              0.3333333333333333,
              "#9c179e"
             ],
             [
              0.4444444444444444,
              "#bd3786"
             ],
             [
              0.5555555555555556,
              "#d8576b"
             ],
             [
              0.6666666666666666,
              "#ed7953"
             ],
             [
              0.7777777777777778,
              "#fb9f3a"
             ],
             [
              0.8888888888888888,
              "#fdca26"
             ],
             [
              1.0,
              "#f0f921"
             ]
            ],
            "type": "contour"
           }
          ],
          "contourcarpet": [
           {
            "colorbar": {
             "outlinewidth": 0,
             "ticks": ""
            },
            "type": "contourcarpet"
           }
          ],
          "heatmap": [
           {
            "colorbar": {
             "outlinewidth": 0,
             "ticks": ""
            },
            "colorscale": [
             [
              0.0,
              "#0d0887"
             ],
             [
              0.1111111111111111,
              "#46039f"
             ],
             [
              0.2222222222222222,
              "#7201a8"
             ],
             [
              0.3333333333333333,
              "#9c179e"
             ],
             [
              0.4444444444444444,
              "#bd3786"
             ],
             [
              0.5555555555555556,
              "#d8576b"
             ],
             [
              0.6666666666666666,
              "#ed7953"
             ],
             [
              0.7777777777777778,
              "#fb9f3a"
             ],
             [
              0.8888888888888888,
              "#fdca26"
             ],
             [
              1.0,
              "#f0f921"
             ]
            ],
            "type": "heatmap"
           }
          ],
          "heatmapgl": [
           {
            "colorbar": {
             "outlinewidth": 0,
             "ticks": ""
            },
            "colorscale": [
             [
              0.0,
              "#0d0887"
             ],
             [
              0.1111111111111111,
              "#46039f"
             ],
             [
              0.2222222222222222,
              "#7201a8"
             ],
             [
              0.3333333333333333,
              "#9c179e"
             ],
             [
              0.4444444444444444,
              "#bd3786"
             ],
             [
              0.5555555555555556,
              "#d8576b"
             ],
             [
              0.6666666666666666,
              "#ed7953"
             ],
             [
              0.7777777777777778,
              "#fb9f3a"
             ],
             [
              0.8888888888888888,
              "#fdca26"
             ],
             [
              1.0,
              "#f0f921"
             ]
            ],
            "type": "heatmapgl"
           }
          ],
          "histogram": [
           {
            "marker": {
             "colorbar": {
              "outlinewidth": 0,
              "ticks": ""
             }
            },
            "type": "histogram"
           }
          ],
          "histogram2d": [
           {
            "colorbar": {
             "outlinewidth": 0,
             "ticks": ""
            },
            "colorscale": [
             [
              0.0,
              "#0d0887"
             ],
             [
              0.1111111111111111,
              "#46039f"
             ],
             [
              0.2222222222222222,
              "#7201a8"
             ],
             [
              0.3333333333333333,
              "#9c179e"
             ],
             [
              0.4444444444444444,
              "#bd3786"
             ],
             [
              0.5555555555555556,
              "#d8576b"
             ],
             [
              0.6666666666666666,
              "#ed7953"
             ],
             [
              0.7777777777777778,
              "#fb9f3a"
             ],
             [
              0.8888888888888888,
              "#fdca26"
             ],
             [
              1.0,
              "#f0f921"
             ]
            ],
            "type": "histogram2d"
           }
          ],
          "histogram2dcontour": [
           {
            "colorbar": {
             "outlinewidth": 0,
             "ticks": ""
            },
            "colorscale": [
             [
              0.0,
              "#0d0887"
             ],
             [
              0.1111111111111111,
              "#46039f"
             ],
             [
              0.2222222222222222,
              "#7201a8"
             ],
             [
              0.3333333333333333,
              "#9c179e"
             ],
             [
              0.4444444444444444,
              "#bd3786"
             ],
             [
              0.5555555555555556,
              "#d8576b"
             ],
             [
              0.6666666666666666,
              "#ed7953"
             ],
             [
              0.7777777777777778,
              "#fb9f3a"
             ],
             [
              0.8888888888888888,
              "#fdca26"
             ],
             [
              1.0,
              "#f0f921"
             ]
            ],
            "type": "histogram2dcontour"
           }
          ],
          "mesh3d": [
           {
            "colorbar": {
             "outlinewidth": 0,
             "ticks": ""
            },
            "type": "mesh3d"
           }
          ],
          "parcoords": [
           {
            "line": {
             "colorbar": {
              "outlinewidth": 0,
              "ticks": ""
             }
            },
            "type": "parcoords"
           }
          ],
          "pie": [
           {
            "automargin": true,
            "type": "pie"
           }
          ],
          "scatter": [
           {
            "marker": {
             "colorbar": {
              "outlinewidth": 0,
              "ticks": ""
             }
            },
            "type": "scatter"
           }
          ],
          "scatter3d": [
           {
            "line": {
             "colorbar": {
              "outlinewidth": 0,
              "ticks": ""
             }
            },
            "marker": {
             "colorbar": {
              "outlinewidth": 0,
              "ticks": ""
             }
            },
            "type": "scatter3d"
           }
          ],
          "scattercarpet": [
           {
            "marker": {
             "colorbar": {
              "outlinewidth": 0,
              "ticks": ""
             }
            },
            "type": "scattercarpet"
           }
          ],
          "scattergeo": [
           {
            "marker": {
             "colorbar": {
              "outlinewidth": 0,
              "ticks": ""
             }
            },
            "type": "scattergeo"
           }
          ],
          "scattergl": [
           {
            "marker": {
             "colorbar": {
              "outlinewidth": 0,
              "ticks": ""
             }
            },
            "type": "scattergl"
           }
          ],
          "scattermapbox": [
           {
            "marker": {
             "colorbar": {
              "outlinewidth": 0,
              "ticks": ""
             }
            },
            "type": "scattermapbox"
           }
          ],
          "scatterpolar": [
           {
            "marker": {
             "colorbar": {
              "outlinewidth": 0,
              "ticks": ""
             }
            },
            "type": "scatterpolar"
           }
          ],
          "scatterpolargl": [
           {
            "marker": {
             "colorbar": {
              "outlinewidth": 0,
              "ticks": ""
             }
            },
            "type": "scatterpolargl"
           }
          ],
          "scatterternary": [
           {
            "marker": {
             "colorbar": {
              "outlinewidth": 0,
              "ticks": ""
             }
            },
            "type": "scatterternary"
           }
          ],
          "surface": [
           {
            "colorbar": {
             "outlinewidth": 0,
             "ticks": ""
            },
            "colorscale": [
             [
              0.0,
              "#0d0887"
             ],
             [
              0.1111111111111111,
              "#46039f"
             ],
             [
              0.2222222222222222,
              "#7201a8"
             ],
             [
              0.3333333333333333,
              "#9c179e"
             ],
             [
              0.4444444444444444,
              "#bd3786"
             ],
             [
              0.5555555555555556,
              "#d8576b"
             ],
             [
              0.6666666666666666,
              "#ed7953"
             ],
             [
              0.7777777777777778,
              "#fb9f3a"
             ],
             [
              0.8888888888888888,
              "#fdca26"
             ],
             [
              1.0,
              "#f0f921"
             ]
            ],
            "type": "surface"
           }
          ],
          "table": [
           {
            "cells": {
             "fill": {
              "color": "#EBF0F8"
             },
             "line": {
              "color": "white"
             }
            },
            "header": {
             "fill": {
              "color": "#C8D4E3"
             },
             "line": {
              "color": "white"
             }
            },
            "type": "table"
           }
          ]
         },
         "layout": {
          "annotationdefaults": {
           "arrowcolor": "#2a3f5f",
           "arrowhead": 0,
           "arrowwidth": 1
          },
          "coloraxis": {
           "colorbar": {
            "outlinewidth": 0,
            "ticks": ""
           }
          },
          "colorscale": {
           "diverging": [
            [
             0,
             "#8e0152"
            ],
            [
             0.1,
             "#c51b7d"
            ],
            [
             0.2,
             "#de77ae"
            ],
            [
             0.3,
             "#f1b6da"
            ],
            [
             0.4,
             "#fde0ef"
            ],
            [
             0.5,
             "#f7f7f7"
            ],
            [
             0.6,
             "#e6f5d0"
            ],
            [
             0.7,
             "#b8e186"
            ],
            [
             0.8,
             "#7fbc41"
            ],
            [
             0.9,
             "#4d9221"
            ],
            [
             1,
             "#276419"
            ]
           ],
           "sequential": [
            [
             0.0,
             "#0d0887"
            ],
            [
             0.1111111111111111,
             "#46039f"
            ],
            [
             0.2222222222222222,
             "#7201a8"
            ],
            [
             0.3333333333333333,
             "#9c179e"
            ],
            [
             0.4444444444444444,
             "#bd3786"
            ],
            [
             0.5555555555555556,
             "#d8576b"
            ],
            [
             0.6666666666666666,
             "#ed7953"
            ],
            [
             0.7777777777777778,
             "#fb9f3a"
            ],
            [
             0.8888888888888888,
             "#fdca26"
            ],
            [
             1.0,
             "#f0f921"
            ]
           ],
           "sequentialminus": [
            [
             0.0,
             "#0d0887"
            ],
            [
             0.1111111111111111,
             "#46039f"
            ],
            [
             0.2222222222222222,
             "#7201a8"
            ],
            [
             0.3333333333333333,
             "#9c179e"
            ],
            [
             0.4444444444444444,
             "#bd3786"
            ],
            [
             0.5555555555555556,
             "#d8576b"
            ],
            [
             0.6666666666666666,
             "#ed7953"
            ],
            [
             0.7777777777777778,
             "#fb9f3a"
            ],
            [
             0.8888888888888888,
             "#fdca26"
            ],
            [
             1.0,
             "#f0f921"
            ]
           ]
          },
          "colorway": [
           "#636efa",
           "#EF553B",
           "#00cc96",
           "#ab63fa",
           "#FFA15A",
           "#19d3f3",
           "#FF6692",
           "#B6E880",
           "#FF97FF",
           "#FECB52"
          ],
          "font": {
           "color": "#2a3f5f"
          },
          "geo": {
           "bgcolor": "white",
           "lakecolor": "white",
           "landcolor": "#E5ECF6",
           "showlakes": true,
           "showland": true,
           "subunitcolor": "white"
          },
          "hoverlabel": {
           "align": "left"
          },
          "hovermode": "closest",
          "mapbox": {
           "style": "light"
          },
          "paper_bgcolor": "white",
          "plot_bgcolor": "#E5ECF6",
          "polar": {
           "angularaxis": {
            "gridcolor": "white",
            "linecolor": "white",
            "ticks": ""
           },
           "bgcolor": "#E5ECF6",
           "radialaxis": {
            "gridcolor": "white",
            "linecolor": "white",
            "ticks": ""
           }
          },
          "scene": {
           "xaxis": {
            "backgroundcolor": "#E5ECF6",
            "gridcolor": "white",
            "gridwidth": 2,
            "linecolor": "white",
            "showbackground": true,
            "ticks": "",
            "zerolinecolor": "white"
           },
           "yaxis": {
            "backgroundcolor": "#E5ECF6",
            "gridcolor": "white",
            "gridwidth": 2,
            "linecolor": "white",
            "showbackground": true,
            "ticks": "",
            "zerolinecolor": "white"
           },
           "zaxis": {
            "backgroundcolor": "#E5ECF6",
            "gridcolor": "white",
            "gridwidth": 2,
            "linecolor": "white",
            "showbackground": true,
            "ticks": "",
            "zerolinecolor": "white"
           }
          },
          "shapedefaults": {
           "line": {
            "color": "#2a3f5f"
           }
          },
          "ternary": {
           "aaxis": {
            "gridcolor": "white",
            "linecolor": "white",
            "ticks": ""
           },
           "baxis": {
            "gridcolor": "white",
            "linecolor": "white",
            "ticks": ""
           },
           "bgcolor": "#E5ECF6",
           "caxis": {
            "gridcolor": "white",
            "linecolor": "white",
            "ticks": ""
           }
          },
          "title": {
           "x": 0.05
          },
          "xaxis": {
           "automargin": true,
           "gridcolor": "white",
           "linecolor": "white",
           "ticks": "",
           "title": {
            "standoff": 15
           },
           "zerolinecolor": "white",
           "zerolinewidth": 2
          },
          "yaxis": {
           "automargin": true,
           "gridcolor": "white",
           "linecolor": "white",
           "ticks": "",
           "title": {
            "standoff": 15
           },
           "zerolinecolor": "white",
           "zerolinewidth": 2
          }
         }
        },
        "title": {
         "text": ""
        },
        "width": 1500,
        "xaxis": {
         "title": {
          "text": "Zone"
         }
        },
        "yaxis": {
         "title": {
          "text": "Factors"
         }
        }
       }
      },
      "text/html": "<div>\n        \n        \n            <div id=\"796eb712-14a3-4f6f-a0d5-0f749ac750ab\" class=\"plotly-graph-div\" style=\"height:600px; width:1500px;\"></div>\n            <script type=\"text/javascript\">\n                require([\"plotly\"], function(Plotly) {\n                    window.PLOTLYENV=window.PLOTLYENV || {};\n                    \n                if (document.getElementById(\"796eb712-14a3-4f6f-a0d5-0f749ac750ab\")) {\n                    Plotly.newPlot(\n                        '796eb712-14a3-4f6f-a0d5-0f749ac750ab',\n                        [{\"colorscale\": [[0.0, \"rgb(84,48,5)\"], [0.1, \"rgb(140,81,10)\"], [0.2, \"rgb(191,129,45)\"], [0.3, \"rgb(223,194,125)\"], [0.4, \"rgb(246,232,195)\"], [0.5, \"rgb(245,245,245)\"], [0.6, \"rgb(199,234,229)\"], [0.7, \"rgb(128,205,193)\"], [0.8, \"rgb(53,151,143)\"], [0.9, \"rgb(1,102,94)\"], [1.0, \"rgb(0,60,48)\"]], \"reversescale\": true, \"type\": \"heatmap\", \"x\": [\"Azimpur\", \"Barisal\", \"Bhairab Bazar\", \"Bhola\", \"Bogra\", \"Chittagong\", \"Comilla\", \"Dhaka\", \"Dinajpur\", \"Faridpur\", \"Feni\", \"Habiganj\", \"Ishurdi\", \"Jamalpur\", \"Jessore\", \"Joypur Hat\", \"Khagrachhari\", \"Khulna\", \"Kishorganj\", \"Kushtia\", \"Laksham\", \"Lakshmipur\", \"Lalmanirhat\", \"Madaripur\", \"Maulavi Bazar\", \"Mymensingh\", \"Nagarpur\", \"Narail\", \"Narayanganj\", \"Narsingdi\", \"Nawabganj\", \"Netrakona\", \"Pabna\", \"Palang\", \"Paltan\", \"Par Naogaon\", \"Patiya\", \"Pirojpur\", \"Raipur\", \"Rajshahi\", \"Ramganj\", \"Rangpur\", \"Saidpur\", \"Sandwip\", \"Sarishabari\", \"Satkania\", \"Satkhira\", \"Shahzadpur\", \"Sherpur\", \"Sirajganj\", \"Sylhet\", \"Tangail\", \"Thakurgaon\", \"Tungi\", \"Tungipara\"], \"y\": [\"Temperature [2 m elevation corrected]\", \"Longwave Radiation\", \"Relative Humidity [2 m]\", \"Mean Sea Level Pressure [MSL]\", \"Wind Speed [10 m]\", \"Wind Gust\", \"Precipitation Total\", \"Cloud Cover Total\"], \"z\": [[-0.6405123970316646, -0.674919504115522, -0.6348285604771643, -0.6907179457125647, -0.6781507810456457, -0.6592354679118636, -0.6285098480268384, -0.6384228274555791, -0.6783923733851793, -0.6748501637956423, -0.633581987754856, -0.6274191968713948, -0.6982708501577158, -0.6612311772667531, -0.6958149471946127, -0.6879392561387829, -0.6163618867306644, -0.6858316275111667, -0.6448283163354379, -0.6990771421627907, -0.6391286051355142, -0.6638721721405284, -0.6452578065403248, -0.6745620647080722, -0.6246596034371742, -0.6419464447982072, -0.6682270209117896, -0.6946188768336529, -0.6334369476662748, -0.6284226583676282, -0.6980523904225129, -0.6399929260296414, -0.6963184632157772, -0.6681214337111455, -0.6384228070807771, -0.6846353113835725, -0.6581027187665663, -0.6931764618683459, -0.6611052064934964, -0.6935319445001444, -0.6430132748365548, -0.6677430545651345, -0.6689664130550932, -0.6164418091931294, -0.6687889782155972, -0.602798167686952, -0.6899281600160568, -0.6800334677420421, -0.6572771685212849, -0.6712378188915643, -0.6235353957036981, -0.6623458324061301, -0.6494331286129184, -0.6256877866197036, -0.6818307262701071], [-0.7427817409482375, -0.7963675311233569, -0.7654292299870084, -0.8004718236619386, -0.7846156114940543, -0.8203573236463926, -0.765700781122034, -0.7405327991706476, -0.7589608740007846, -0.7740527060660536, -0.7872682167245495, -0.7724588783248134, -0.789179967759983, -0.779232911192411, -0.7962395910692911, -0.7816087554681488, -0.7888820492491115, -0.7988337509635859, -0.7712298298768744, -0.7889448294690348, -0.7752057653283384, -0.7875580707268811, -0.7573676116682272, -0.7822276559662303, -0.7714422460751394, -0.7669755612418647, -0.7742149006556988, -0.7952097322074829, -0.7510661165021354, -0.7541551938485732, -0.7851495872795567, -0.7692414620928351, -0.786689496658527, -0.7751441990955029, -0.7405327991706476, -0.7834026822011051, -0.821463441821003, -0.8006577018155393, -0.783803520182536, -0.7854143189388983, -0.7765216728255805, -0.7663242264770205, -0.7588822185631775, -0.8017261050460562, -0.7777215275074281, -0.8122581678225254, -0.8010893408244445, -0.7828873113543223, -0.7768038016045528, -0.7802306780102773, -0.7528804815566373, -0.7716936816164801, -0.7436868936657101, -0.7372792991055903, -0.7905925575390179], [-0.11197442509569168, -0.11643464071738802, -0.08606790628198116, -0.15923042743030466, -0.17288368176208116, -0.1331929055241206, -0.1644124956725866, -0.1124445519384113, -0.21066461931815572, -0.17335987090159355, -0.26169388701514823, -0.14979929694612987, -0.0958392782425074, -0.1442664129218271, -0.12378353597869653, -0.18460266420151283, -0.0702902557186935, -0.15154091753460022, -0.09928419838465277, -0.09334673528700364, -0.1463515203607315, -0.1770267291384524, -0.25129773801532335, -0.12037648133981632, -0.18053919428019966, -0.1655824555909205, -0.1275151869740547, -0.13400000605910803, -0.1070243406689665, -0.15057264760307573, -0.07595869984394232, -0.1548774340451309, -0.09737947990478456, -0.1226104817773455, -0.1124445519384113, -0.20901015674704432, -0.13609494127044347, -0.118799744670408, -0.17587545616713474, -0.13396838270369363, -0.15806467396039162, -0.21710755843458981, -0.22133269513801865, -0.4039858202922961, -0.12443470108608008, -0.18820322917375965, -0.18439939569843478, -0.09778075806639593, -0.1756588962202039, -0.11273690122121074, -0.15833140045257338, -0.1050890873858048, -0.2661165568955173, -0.11298284362110164, -0.12425954631126915], [0.6246915037910037, 0.6723460350793689, 0.6306269686325825, 0.6690588999133895, 0.6774497602663502, 0.6726032905598616, 0.6407747091858756, 0.6227949811152822, 0.6730327948538609, 0.6664448892831658, 0.6525601237035465, 0.6261999195148235, 0.6937771603762404, 0.6589372328773561, 0.6926965610312935, 0.6824845565140906, 0.6458397949573408, 0.6858049865629867, 0.6329621859473648, 0.6923903137048315, 0.64774896207057, 0.6583508086337437, 0.6535367608133273, 0.659749799637666, 0.6168753835701852, 0.6428617582092649, 0.657597320559392, 0.6872724516128531, 0.6257897396351083, 0.6267114017900964, 0.7042786815715351, 0.6347522270347844, 0.6900172577488469, 0.653975773556389, 0.6227949811152822, 0.6905659896610673, 0.6747347166662724, 0.6823509995128206, 0.6547159208576795, 0.7019775720301785, 0.6502054371900006, 0.6620222777229966, 0.6666037674119512, 0.6692800026631456, 0.6632315761793841, 0.6724667026573053, 0.6862124612588154, 0.6715857710171824, 0.6549275553638486, 0.6664121821622024, 0.5992074431545962, 0.6560402722430564, 0.6537491970562801, 0.6197792681337191, 0.6779352894386746], [-0.2979740161970706, -0.29492462907551753, -0.33091016026428904, -0.35745678449827567, -0.3073634717519835, -0.3731663499153825, -0.30297653848693173, -0.29721029106540386, -0.2088562075052228, -0.28649129931855455, -0.3634647611627707, -0.21222289588502002, -0.29401931511226204, -0.2671621189156848, -0.3202780306375443, -0.2457097072709202, -0.2750553757605133, -0.3087072457153645, -0.2875867063668122, -0.2936011534210418, -0.3319693043191539, -0.31913820777981394, -0.18331102728908627, -0.31759611529988824, -0.13476224229828118, -0.2608880413372944, -0.3068732545566345, -0.3016876768695729, -0.31484506072978213, -0.30608278184813853, -0.24513154600917525, -0.2677085767831355, -0.29123038918357397, -0.31525158428408206, -0.29721029106540386, -0.2559793277210452, -0.3743721721669778, -0.32371813293594365, -0.317841493299156, -0.2856280458293795, -0.335285826509965, -0.21698264424148572, -0.19436336396322193, -0.39695937811062637, -0.2942264588708893, -0.2965014544412675, -0.3499950964327634, -0.335354820245515, -0.3117817082480425, -0.3070969170579032, -0.028360264448433065, -0.28252103318747324, -0.18358955526500195, -0.31296910971034175, -0.2903125817585636], [-0.39960445010121526, -0.39002058192879707, -0.4417293337148219, -0.39612107510458094, -0.42448984417704627, -0.42378271080028973, -0.4123693404185851, -0.3982323539448499, -0.3683262367591967, -0.40212625019538834, -0.42454855938721214, -0.37253301840579317, -0.42149193138545377, -0.39687858567788203, -0.41356644127409675, -0.40312602695966515, -0.38464425977641103, -0.4010577769876842, -0.42537894562137457, -0.42079281214563263, -0.4075451585678556, -0.3993182716857202, -0.3262552556004314, -0.42438185200239475, -0.34209391913737464, -0.40056241310998975, -0.4200168490632322, -0.4138119468245549, -0.4039075477414322, -0.425100665176781, -0.3971414496321844, -0.43035988501607764, -0.4175555095210458, -0.42047128959294544, -0.3982323539448499, -0.39371765798963415, -0.42461992928742587, -0.40660681188483166, -0.3977241417979291, -0.39835124539956224, -0.40612049249682136, -0.3528129644510967, -0.3511342719884812, -0.4247797093452011, -0.41622612797107067, -0.368750610129572, -0.4286378934741019, -0.44528246113147424, -0.4437014524237653, -0.4158832037373883, -0.32064143753376645, -0.4265860816667458, -0.32615882258272605, -0.40810983378594495, -0.39940129474229785], [-0.14994938942981537, -0.16090783186624522, -0.15746528519846595, -0.18050127047675796, -0.17359552746689358, -0.2188465907819527, -0.150176666940883, -0.14954863484732445, -0.17236994298778513, -0.14212117144536177, -0.19470103191176424, -0.16611070330478875, -0.15390307846249074, -0.18973223005119014, -0.15742329706923763, -0.15671525055784746, -0.15372505262346128, -0.14320259135313212, -0.16101625180961726, -0.1539546387624684, -0.15492663313331584, -0.1674072416115258, -0.2325827203320379, -0.1426946671510114, -0.21707667130513159, -0.1915205955163757, -0.15928461887896977, -0.15105581443148966, -0.15279002611849501, -0.14917267256501704, -0.15706011067908368, -0.21129371085941684, -0.15333264079007017, -0.1416997120696302, -0.14954863484732445, -0.1795952993537594, -0.22035185479714203, -0.14974127759380257, -0.16700895729507834, -0.15652339422324685, -0.15746181413719967, -0.21816568355865462, -0.21235243650954103, -0.21214326569006867, -0.18262408453985893, -0.20407075112136625, -0.14211130058571197, -0.16101357327591356, -0.17524279723150077, -0.16216965119603918, -0.24207563766108403, -0.15779387778473405, -0.19636996855552757, -0.16007455977179014, -0.1459656053718489], [-0.3875660191023885, -0.3959348672097482, -0.3504081668748809, -0.4164713136727393, -0.40320706201673495, -0.4528249973344371, -0.41475918384150146, -0.38623384245105197, -0.3836032452316067, -0.4038956109552778, -0.4252499355187671, -0.40873325830876095, -0.35587850983427954, -0.4263219510277449, -0.41228588054419407, -0.4078295962877317, -0.38065376270859835, -0.41373997987793737, -0.37536085282176374, -0.3561492622453132, -0.4108266857435953, -0.4084289451192833, -0.4080843149227203, -0.40055706539957375, -0.44683230519157174, -0.42599328269316633, -0.3990965502709057, -0.41275691695484734, -0.373366284757109, -0.3960261220419571, -0.3712281224454333, -0.44139306651572874, -0.35506018483080076, -0.39626487003696403, -0.38623384245105197, -0.4007022299390379, -0.4544172448947644, -0.39431853460790267, -0.4061709456689895, -0.378619295300659, -0.4075492754643398, -0.40422566629565976, -0.3932309581268981, -0.4508056116738956, -0.39127804986007947, -0.5111838446012987, -0.4160563471787983, -0.3628427032465273, -0.434633428499138, -0.367724024897284, -0.48520775174526226, -0.4020697956587038, -0.3924053678508355, -0.3925218614290805, -0.40253450895522247]], \"zmax\": 1, \"zmin\": -1}],\n                        {\"autosize\": false, \"font\": {\"color\": \"#3D3C3A\", \"size\": 15}, \"height\": 600, \"template\": {\"data\": {\"bar\": [{\"error_x\": {\"color\": \"#2a3f5f\"}, \"error_y\": {\"color\": \"#2a3f5f\"}, \"marker\": {\"line\": {\"color\": \"#E5ECF6\", \"width\": 0.5}}, \"type\": \"bar\"}], \"barpolar\": [{\"marker\": {\"line\": {\"color\": \"#E5ECF6\", \"width\": 0.5}}, \"type\": \"barpolar\"}], \"carpet\": [{\"aaxis\": {\"endlinecolor\": \"#2a3f5f\", \"gridcolor\": \"white\", \"linecolor\": \"white\", \"minorgridcolor\": \"white\", \"startlinecolor\": \"#2a3f5f\"}, \"baxis\": {\"endlinecolor\": \"#2a3f5f\", \"gridcolor\": \"white\", \"linecolor\": \"white\", \"minorgridcolor\": \"white\", \"startlinecolor\": \"#2a3f5f\"}, \"type\": \"carpet\"}], \"choropleth\": [{\"colorbar\": {\"outlinewidth\": 0, \"ticks\": \"\"}, \"type\": \"choropleth\"}], \"contour\": [{\"colorbar\": {\"outlinewidth\": 0, \"ticks\": \"\"}, \"colorscale\": [[0.0, \"#0d0887\"], [0.1111111111111111, \"#46039f\"], [0.2222222222222222, \"#7201a8\"], [0.3333333333333333, \"#9c179e\"], [0.4444444444444444, \"#bd3786\"], [0.5555555555555556, \"#d8576b\"], [0.6666666666666666, \"#ed7953\"], [0.7777777777777778, \"#fb9f3a\"], [0.8888888888888888, \"#fdca26\"], [1.0, \"#f0f921\"]], \"type\": \"contour\"}], \"contourcarpet\": [{\"colorbar\": {\"outlinewidth\": 0, \"ticks\": \"\"}, \"type\": \"contourcarpet\"}], \"heatmap\": [{\"colorbar\": {\"outlinewidth\": 0, \"ticks\": \"\"}, \"colorscale\": [[0.0, \"#0d0887\"], [0.1111111111111111, \"#46039f\"], [0.2222222222222222, \"#7201a8\"], [0.3333333333333333, \"#9c179e\"], [0.4444444444444444, \"#bd3786\"], [0.5555555555555556, \"#d8576b\"], [0.6666666666666666, \"#ed7953\"], [0.7777777777777778, \"#fb9f3a\"], [0.8888888888888888, \"#fdca26\"], [1.0, \"#f0f921\"]], \"type\": \"heatmap\"}], \"heatmapgl\": [{\"colorbar\": {\"outlinewidth\": 0, \"ticks\": \"\"}, \"colorscale\": [[0.0, \"#0d0887\"], [0.1111111111111111, \"#46039f\"], [0.2222222222222222, \"#7201a8\"], [0.3333333333333333, \"#9c179e\"], [0.4444444444444444, \"#bd3786\"], [0.5555555555555556, \"#d8576b\"], [0.6666666666666666, \"#ed7953\"], [0.7777777777777778, \"#fb9f3a\"], [0.8888888888888888, \"#fdca26\"], [1.0, \"#f0f921\"]], \"type\": \"heatmapgl\"}], \"histogram\": [{\"marker\": {\"colorbar\": {\"outlinewidth\": 0, \"ticks\": \"\"}}, \"type\": \"histogram\"}], \"histogram2d\": [{\"colorbar\": {\"outlinewidth\": 0, \"ticks\": \"\"}, \"colorscale\": [[0.0, \"#0d0887\"], [0.1111111111111111, \"#46039f\"], [0.2222222222222222, \"#7201a8\"], [0.3333333333333333, \"#9c179e\"], [0.4444444444444444, \"#bd3786\"], [0.5555555555555556, \"#d8576b\"], [0.6666666666666666, \"#ed7953\"], [0.7777777777777778, \"#fb9f3a\"], [0.8888888888888888, \"#fdca26\"], [1.0, \"#f0f921\"]], \"type\": \"histogram2d\"}], \"histogram2dcontour\": [{\"colorbar\": {\"outlinewidth\": 0, \"ticks\": \"\"}, \"colorscale\": [[0.0, \"#0d0887\"], [0.1111111111111111, \"#46039f\"], [0.2222222222222222, \"#7201a8\"], [0.3333333333333333, \"#9c179e\"], [0.4444444444444444, \"#bd3786\"], [0.5555555555555556, \"#d8576b\"], [0.6666666666666666, \"#ed7953\"], [0.7777777777777778, \"#fb9f3a\"], [0.8888888888888888, \"#fdca26\"], [1.0, \"#f0f921\"]], \"type\": \"histogram2dcontour\"}], \"mesh3d\": [{\"colorbar\": {\"outlinewidth\": 0, \"ticks\": \"\"}, \"type\": \"mesh3d\"}], \"parcoords\": [{\"line\": {\"colorbar\": {\"outlinewidth\": 0, \"ticks\": \"\"}}, \"type\": \"parcoords\"}], \"pie\": [{\"automargin\": true, \"type\": \"pie\"}], \"scatter\": [{\"marker\": {\"colorbar\": {\"outlinewidth\": 0, \"ticks\": \"\"}}, \"type\": \"scatter\"}], \"scatter3d\": [{\"line\": {\"colorbar\": {\"outlinewidth\": 0, \"ticks\": \"\"}}, \"marker\": {\"colorbar\": {\"outlinewidth\": 0, \"ticks\": \"\"}}, \"type\": \"scatter3d\"}], \"scattercarpet\": [{\"marker\": {\"colorbar\": {\"outlinewidth\": 0, \"ticks\": \"\"}}, \"type\": \"scattercarpet\"}], \"scattergeo\": [{\"marker\": {\"colorbar\": {\"outlinewidth\": 0, \"ticks\": \"\"}}, \"type\": \"scattergeo\"}], \"scattergl\": [{\"marker\": {\"colorbar\": {\"outlinewidth\": 0, \"ticks\": \"\"}}, \"type\": \"scattergl\"}], \"scattermapbox\": [{\"marker\": {\"colorbar\": {\"outlinewidth\": 0, \"ticks\": \"\"}}, \"type\": \"scattermapbox\"}], \"scatterpolar\": [{\"marker\": {\"colorbar\": {\"outlinewidth\": 0, \"ticks\": \"\"}}, \"type\": \"scatterpolar\"}], \"scatterpolargl\": [{\"marker\": {\"colorbar\": {\"outlinewidth\": 0, \"ticks\": \"\"}}, \"type\": \"scatterpolargl\"}], \"scatterternary\": [{\"marker\": {\"colorbar\": {\"outlinewidth\": 0, \"ticks\": \"\"}}, \"type\": \"scatterternary\"}], \"surface\": [{\"colorbar\": {\"outlinewidth\": 0, \"ticks\": \"\"}, \"colorscale\": [[0.0, \"#0d0887\"], [0.1111111111111111, \"#46039f\"], [0.2222222222222222, \"#7201a8\"], [0.3333333333333333, \"#9c179e\"], [0.4444444444444444, \"#bd3786\"], [0.5555555555555556, \"#d8576b\"], [0.6666666666666666, \"#ed7953\"], [0.7777777777777778, \"#fb9f3a\"], [0.8888888888888888, \"#fdca26\"], [1.0, \"#f0f921\"]], \"type\": \"surface\"}], \"table\": [{\"cells\": {\"fill\": {\"color\": \"#EBF0F8\"}, \"line\": {\"color\": \"white\"}}, \"header\": {\"fill\": {\"color\": \"#C8D4E3\"}, \"line\": {\"color\": \"white\"}}, \"type\": \"table\"}]}, \"layout\": {\"annotationdefaults\": {\"arrowcolor\": \"#2a3f5f\", \"arrowhead\": 0, \"arrowwidth\": 1}, \"coloraxis\": {\"colorbar\": {\"outlinewidth\": 0, \"ticks\": \"\"}}, \"colorscale\": {\"diverging\": [[0, \"#8e0152\"], [0.1, \"#c51b7d\"], [0.2, \"#de77ae\"], [0.3, \"#f1b6da\"], [0.4, \"#fde0ef\"], [0.5, \"#f7f7f7\"], [0.6, \"#e6f5d0\"], [0.7, \"#b8e186\"], [0.8, \"#7fbc41\"], [0.9, \"#4d9221\"], [1, \"#276419\"]], \"sequential\": [[0.0, \"#0d0887\"], [0.1111111111111111, \"#46039f\"], [0.2222222222222222, \"#7201a8\"], [0.3333333333333333, \"#9c179e\"], [0.4444444444444444, \"#bd3786\"], [0.5555555555555556, \"#d8576b\"], [0.6666666666666666, \"#ed7953\"], [0.7777777777777778, \"#fb9f3a\"], [0.8888888888888888, \"#fdca26\"], [1.0, \"#f0f921\"]], \"sequentialminus\": [[0.0, \"#0d0887\"], [0.1111111111111111, \"#46039f\"], [0.2222222222222222, \"#7201a8\"], [0.3333333333333333, \"#9c179e\"], [0.4444444444444444, \"#bd3786\"], [0.5555555555555556, \"#d8576b\"], [0.6666666666666666, \"#ed7953\"], [0.7777777777777778, \"#fb9f3a\"], [0.8888888888888888, \"#fdca26\"], [1.0, \"#f0f921\"]]}, \"colorway\": [\"#636efa\", \"#EF553B\", \"#00cc96\", \"#ab63fa\", \"#FFA15A\", \"#19d3f3\", \"#FF6692\", \"#B6E880\", \"#FF97FF\", \"#FECB52\"], \"font\": {\"color\": \"#2a3f5f\"}, \"geo\": {\"bgcolor\": \"white\", \"lakecolor\": \"white\", \"landcolor\": \"#E5ECF6\", \"showlakes\": true, \"showland\": true, \"subunitcolor\": \"white\"}, \"hoverlabel\": {\"align\": \"left\"}, \"hovermode\": \"closest\", \"mapbox\": {\"style\": \"light\"}, \"paper_bgcolor\": \"white\", \"plot_bgcolor\": \"#E5ECF6\", \"polar\": {\"angularaxis\": {\"gridcolor\": \"white\", \"linecolor\": \"white\", \"ticks\": \"\"}, \"bgcolor\": \"#E5ECF6\", \"radialaxis\": {\"gridcolor\": \"white\", \"linecolor\": \"white\", \"ticks\": \"\"}}, \"scene\": {\"xaxis\": {\"backgroundcolor\": \"#E5ECF6\", \"gridcolor\": \"white\", \"gridwidth\": 2, \"linecolor\": \"white\", \"showbackground\": true, \"ticks\": \"\", \"zerolinecolor\": \"white\"}, \"yaxis\": {\"backgroundcolor\": \"#E5ECF6\", \"gridcolor\": \"white\", \"gridwidth\": 2, \"linecolor\": \"white\", \"showbackground\": true, \"ticks\": \"\", \"zerolinecolor\": \"white\"}, \"zaxis\": {\"backgroundcolor\": \"#E5ECF6\", \"gridcolor\": \"white\", \"gridwidth\": 2, \"linecolor\": \"white\", \"showbackground\": true, \"ticks\": \"\", \"zerolinecolor\": \"white\"}}, \"shapedefaults\": {\"line\": {\"color\": \"#2a3f5f\"}}, \"ternary\": {\"aaxis\": {\"gridcolor\": \"white\", \"linecolor\": \"white\", \"ticks\": \"\"}, \"baxis\": {\"gridcolor\": \"white\", \"linecolor\": \"white\", \"ticks\": \"\"}, \"bgcolor\": \"#E5ECF6\", \"caxis\": {\"gridcolor\": \"white\", \"linecolor\": \"white\", \"ticks\": \"\"}}, \"title\": {\"x\": 0.05}, \"xaxis\": {\"automargin\": true, \"gridcolor\": \"white\", \"linecolor\": \"white\", \"ticks\": \"\", \"title\": {\"standoff\": 15}, \"zerolinecolor\": \"white\", \"zerolinewidth\": 2}, \"yaxis\": {\"automargin\": true, \"gridcolor\": \"white\", \"linecolor\": \"white\", \"ticks\": \"\", \"title\": {\"standoff\": 15}, \"zerolinecolor\": \"white\", \"zerolinewidth\": 2}}}, \"title\": {\"text\": \"\"}, \"width\": 1500, \"xaxis\": {\"title\": {\"text\": \"Zone\"}}, \"yaxis\": {\"title\": {\"text\": \"Factors\"}}},\n                        {\"displayModeBar\": false, \"responsive\": true}\n                    ).then(function(){\n                            \nvar gd = document.getElementById('796eb712-14a3-4f6f-a0d5-0f749ac750ab');\nvar x = new MutationObserver(function (mutations, observer) {{\n        var display = window.getComputedStyle(gd).display;\n        if (!display || display === 'none') {{\n            console.log([gd, 'removed!']);\n            Plotly.purge(gd);\n            observer.disconnect();\n        }}\n}});\n\n// Listen for the removal of the full notebook cells\nvar notebookContainer = gd.closest('#notebook-container');\nif (notebookContainer) {{\n    x.observe(notebookContainer, {childList: true});\n}}\n\n// Listen for the clearing of the current output cell\nvar outputEl = gd.closest('.output');\nif (outputEl) {{\n    x.observe(outputEl, {childList: true});\n}}\n\n                        })\n                };\n                });\n            </script>\n        </div>"
     },
     "metadata": {},
     "output_type": "display_data"
    }
   ],
   "source": [
    "import plotly.graph_objects as go\n",
    "\n",
    "fig = go.Figure(data=go.Heatmap(\n",
    "    z=corr_zones_df.T, y=corr_zones_df.columns, x=corr_zones_df.index,\n",
    "    colorscale='BrBG',\n",
    "    zmin=-1, zmax=1,\n",
    "    reversescale=True\n",
    "))\n",
    "fig.update_layout(\n",
    "    autosize=False, width=1500, height=600,\n",
    "    title=\"\",\n",
    "    xaxis_title=\"Zone\", yaxis_title=\"Factors\",\n",
    "    font=dict(size=15, color=\"#3D3C3A\"\n",
    "              )\n",
    ")\n",
    "fig.show(config={'displayModeBar': False, 'responsive': True})"
   ],
   "metadata": {
    "collapsed": false,
    "pycharm": {
     "name": "#%%\n"
    }
   }
  },
  {
   "cell_type": "code",
   "execution_count": 4,
   "outputs": [
    {
     "data": {
      "text/plain": "factor\nCloud Cover High [high cld lay]                 -0.480554\nCloud Cover Low [low cld lay]                   -0.296573\nCloud Cover Medium [mid cld lay]                -0.310941\nCloud Cover Total                               -0.389489\nEvapotranspiration                              -0.209089\nGrowing Degree Days [2 m elevation corrected]   -0.666956\nLongwave Radiation                              -0.742917\nMean Sea Level Pressure [MSL]                    0.624579\nPrecipitation Runoff                            -0.084992\nPrecipitation Total                             -0.151203\nRelative Humidity [2 m]                         -0.111839\nShortwave Radiation                             -0.102853\nSunshine Duration                               -0.012402\nTemperature [2 m elevation corrected]           -0.640356\nTemperature [500 mb]                            -0.609498\nTemperature [700 mb]                            -0.597456\nTemperature [800 mb]                            -0.635999\nTemperature [850 mb]                            -0.655858\nTemperature [900 mb]                            -0.675174\nUV Radiation                                    -0.122483\nWind Direction [10 m]                            0.479629\nWind Direction [100 m]                           0.476634\nWind Direction [250 mb]                          0.454538\nWind Direction [500 mb]                          0.328970\nWind Direction [700 mb]                          0.338757\nWind Direction [800 mb]                          0.371538\nWind Direction [850 mb]                          0.364835\nWind Direction [900 mb]                          0.344367\nWind Gust                                       -0.400958\nWind Speed [10 m]                               -0.299386\nWind Speed [100 m]                              -0.279506\nWind Speed [250 mb]                              0.642853\nWind Speed [500 mb]                              0.579729\nWind Speed [700 mb]                              0.245009\nWind Speed [800 mb]                             -0.063374\nWind Speed [850 mb]                             -0.217006\nWind Speed [900 mb]                             -0.336026\ndtype: float64"
     },
     "execution_count": 4,
     "metadata": {},
     "output_type": "execute_result"
    }
   ],
   "source": [
    "corr_values = meteo_data_dhaka.apply(lambda x: x.corr(series_dhaka))\n",
    "corr_values"
   ],
   "metadata": {
    "collapsed": false,
    "pycharm": {
     "name": "#%%\n"
    }
   }
  },
  {
   "cell_type": "code",
   "execution_count": 5,
   "outputs": [
    {
     "data": {
      "text/plain": "factor\nTemperature [2 m elevation corrected]   -0.640356\nRelative Humidity [2 m]                 -0.111839\nMean Sea Level Pressure [MSL]            0.624579\nWind Speed [10 m]                       -0.299386\ndtype: float64"
     },
     "execution_count": 5,
     "metadata": {},
     "output_type": "execute_result"
    }
   ],
   "source": [
    "corr_values_subset = corr_values[['Temperature [2 m elevation corrected]','Relative Humidity [2 m]','Mean Sea Level Pressure [MSL]','Wind Speed [10 m]']]\n",
    "corr_values_subset"
   ],
   "metadata": {
    "collapsed": false,
    "pycharm": {
     "name": "#%%\n"
    }
   }
  },
  {
   "cell_type": "code",
   "execution_count": null,
   "outputs": [],
   "source": [
    "import plotly.graph_objects as go\n",
    "\n",
    "x = corr_values_subset.index\n",
    "y = corr_values_subset\n",
    "colors = ['#FFA500','#87CEEB','#2B65EC','#347C2C']\n",
    "\n",
    "# Use the hovertext kw argument for hover text\n",
    "fig = go.Figure(data=[go.Bar(x=x, y=y,\n",
    "            hovertext=[])])\n",
    "# Customize aspect\n",
    "fig.update_traces(marker_color=colors, marker_line_color='rgb(8,48,107)',\n",
    "                  marker_line_width=1.5, opacity=0.6)\n",
    "fig.update_layout(\n",
    "    autosize=False, width=1000, height=600,\n",
    "    yaxis_title=\"Pearson R\", xaxis_title=\"Factors\",\n",
    "    font=dict(size=15, color=\"#3D3C3A\"),yaxis_range=[-1,1])\n",
    "fig.show()"
   ],
   "metadata": {
    "collapsed": false,
    "pycharm": {
     "name": "#%%\n"
    }
   }
  }
 ],
 "metadata": {
  "kernelspec": {
   "display_name": "Python 3",
   "language": "python",
   "name": "python3"
  },
  "language_info": {
   "codemirror_mode": {
    "name": "ipython",
    "version": 2
   },
   "file_extension": ".py",
   "mimetype": "text/x-python",
   "name": "python",
   "nbconvert_exporter": "python",
   "pygments_lexer": "ipython2",
   "version": "2.7.6"
  }
 },
 "nbformat": 4,
 "nbformat_minor": 0
}