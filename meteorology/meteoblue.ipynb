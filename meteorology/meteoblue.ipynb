{
 "cells": [
  {
   "cell_type": "code",
   "execution_count": null,
   "metadata": {
    "collapsed": true,
    "pycharm": {
     "name": "#%%\n",
     "is_executing": true
    }
   },
   "outputs": [],
   "source": [
    "from meteorological_functions import read_meteo_data\n",
    "import pandas as pd\n",
    "\n",
    "data = read_meteo_data()\n",
    "# data"
   ]
  },
  {
   "cell_type": "code",
   "execution_count": null,
   "outputs": [],
   "source": [
    "# data"
   ],
   "metadata": {
    "collapsed": false,
    "pycharm": {
     "name": "#%%\n",
     "is_executing": true
    }
   }
  },
  {
   "cell_type": "code",
   "execution_count": null,
   "outputs": [],
   "source": [
    "from plotly.subplots import make_subplots\n",
    "from meteorological_functions.meteoblue_data_preparation import meteorological_variable_type_list_linear\n",
    "import plotly.graph_objects as go\n",
    "\n",
    "sub_plot_rows = len(meteorological_variable_type_list_linear)\n",
    "fig = make_subplots(rows=sub_plot_rows, cols=1,\n",
    "                    shared_xaxes=True,\n",
    "                    vertical_spacing=0.02)\n",
    "\n",
    "for j,meteorological_variable in enumerate(meteorological_variable_type_list_linear):\n",
    "    meteo_data = data.mean(axis=0).resample(time=\"MS\").mean().loc[:, meteorological_variable.factor_list]\n",
    "    for i, factor in enumerate(meteo_data['factor'].values):\n",
    "        fig.add_trace(\n",
    "            go.Scatter(x=pd.Series(meteo_data['time'].values), y=meteo_data.loc[:, factor], name=factor,\n",
    "                       marker_color=meteorological_variable.color_list[i]),row=j+1, col=1)\n",
    "    fig.update_yaxes(title_text=f\"{meteorological_variable.name} ({meteorological_variable.unit})\", row=j+1, col=1)\n",
    "\n",
    "fig.update_layout(height=1800, width=1600,\n",
    "                  title_text=\"Stacked Subplots with Shared X-Axes\", legend_orientation='h',font_size=15)\n",
    "\n",
    "fig.show()"
   ],
   "metadata": {
    "collapsed": false,
    "pycharm": {
     "name": "#%%\n",
     "is_executing": true
    }
   }
  },
  {
   "cell_type": "code",
   "execution_count": 1,
   "outputs": [
    {
     "ename": "NameError",
     "evalue": "name 'read_meteo_data' is not defined",
     "output_type": "error",
     "traceback": [
      "\u001B[0;31m---------------------------------------------------------------------------\u001B[0m",
      "\u001B[0;31mNameError\u001B[0m                                 Traceback (most recent call last)",
      "\u001B[0;32m<ipython-input-1-7f679e73ae81>\u001B[0m in \u001B[0;36m<module>\u001B[0;34m\u001B[0m\n\u001B[0;32m----> 1\u001B[0;31m \u001B[0mdata\u001B[0m \u001B[0;34m=\u001B[0m \u001B[0mread_meteo_data\u001B[0m\u001B[0;34m(\u001B[0m\u001B[0;34m)\u001B[0m\u001B[0;34m\u001B[0m\u001B[0;34m\u001B[0m\u001B[0m\n\u001B[0m",
      "\u001B[0;31mNameError\u001B[0m: name 'read_meteo_data' is not defined"
     ]
    }
   ],
   "source": [
    "data = read_meteo_data()"
   ],
   "metadata": {
    "collapsed": false,
    "pycharm": {
     "name": "#%%\n"
    }
   }
  },
  {
   "cell_type": "code",
   "execution_count": 3,
   "outputs": [],
   "source": [
    "meteo_data = data"
   ],
   "metadata": {
    "collapsed": false,
    "pycharm": {
     "name": "#%%\n"
    }
   }
  },
  {
   "cell_type": "code",
   "execution_count": null,
   "outputs": [],
   "source": [
    "from meteorological_functions import get_district_data\n",
    "from meteorological_functions.wind_data_visualization import WindGraphTeamEstimate, monthly_rose_plot_no_slow_wind\n",
    "from meteorological_functions.meteoblue_data_preparation import wind_direction_factor, wind_speed_factor\n",
    "\n",
    "# meteo_data_dhaka = meteo_data.loc['Dhaka', :, :]\n",
    "meteo_data_dhaka = get_district_data(meteo_data, 'Azimpur_Dhaka')\n",
    "monthly_rose_plot_no_slow_wind(meteo_data_dhaka,wind_speed_factor,wind_direction_factor)"
   ],
   "metadata": {
    "collapsed": false,
    "pycharm": {
     "name": "#%%\n",
     "is_executing": true
    }
   }
  }
 ],
 "metadata": {
  "kernelspec": {
   "display_name": "Python 3",
   "language": "python",
   "name": "python3"
  },
  "language_info": {
   "codemirror_mode": {
    "name": "ipython",
    "version": 2
   },
   "file_extension": ".py",
   "mimetype": "text/x-python",
   "name": "python",
   "nbconvert_exporter": "python",
   "pygments_lexer": "ipython2",
   "version": "2.7.6"
  }
 },
 "nbformat": 4,
 "nbformat_minor": 0
}