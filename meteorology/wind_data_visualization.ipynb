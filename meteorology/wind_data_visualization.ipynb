{
 "cells": [
  {
   "cell_type": "code",
   "execution_count": 1,
   "metadata": {
    "collapsed": true,
    "pycharm": {
     "name": "#%%\n"
    }
   },
   "outputs": [],
   "source": [
    "import xarray as xr\n",
    "from paths import aq_directory_local\n",
    "from meteorology import *\n",
    "import numpy as np\n",
    "import plotly.graph_objects as go\n",
    "\n",
    "from astropy.stats import circmean\n",
    "from astropy import units as u\n",
    "from meteorology import get_factor_data"
   ]
  },
  {
   "cell_type": "code",
   "execution_count": 2,
   "outputs": [
    {
     "data": {
      "text/plain": "<xarray.DataArray 'meteo' (district: 30, time: 8760, factor: 37)>\n[9723600 values with dtype=float64]\nCoordinates:\n  * time      (time) datetime64[ns] 2019-01-01 ... 2019-12-31T23:00:00\n  * factor    (factor) object 'Temperature [2 m elevation corrected]' ... 'Evapotranspiration'\n  * district  (district) object 'Barisal' 'Bogra' ... 'Tongi' 'Tungipara'",
      "text/html": "<div><svg style=\"position: absolute; width: 0; height: 0; overflow: hidden\">\n<defs>\n<symbol id=\"icon-database\" viewBox=\"0 0 32 32\">\n<title>Show/Hide data repr</title>\n<path d=\"M16 0c-8.837 0-16 2.239-16 5v4c0 2.761 7.163 5 16 5s16-2.239 16-5v-4c0-2.761-7.163-5-16-5z\"></path>\n<path d=\"M16 17c-8.837 0-16-2.239-16-5v6c0 2.761 7.163 5 16 5s16-2.239 16-5v-6c0 2.761-7.163 5-16 5z\"></path>\n<path d=\"M16 26c-8.837 0-16-2.239-16-5v6c0 2.761 7.163 5 16 5s16-2.239 16-5v-6c0 2.761-7.163 5-16 5z\"></path>\n</symbol>\n<symbol id=\"icon-file-text2\" viewBox=\"0 0 32 32\">\n<title>Show/Hide attributes</title>\n<path d=\"M28.681 7.159c-0.694-0.947-1.662-2.053-2.724-3.116s-2.169-2.030-3.116-2.724c-1.612-1.182-2.393-1.319-2.841-1.319h-15.5c-1.378 0-2.5 1.121-2.5 2.5v27c0 1.378 1.122 2.5 2.5 2.5h23c1.378 0 2.5-1.122 2.5-2.5v-19.5c0-0.448-0.137-1.23-1.319-2.841zM24.543 5.457c0.959 0.959 1.712 1.825 2.268 2.543h-4.811v-4.811c0.718 0.556 1.584 1.309 2.543 2.268zM28 29.5c0 0.271-0.229 0.5-0.5 0.5h-23c-0.271 0-0.5-0.229-0.5-0.5v-27c0-0.271 0.229-0.5 0.5-0.5 0 0 15.499-0 15.5 0v7c0 0.552 0.448 1 1 1h7v19.5z\"></path>\n<path d=\"M23 26h-14c-0.552 0-1-0.448-1-1s0.448-1 1-1h14c0.552 0 1 0.448 1 1s-0.448 1-1 1z\"></path>\n<path d=\"M23 22h-14c-0.552 0-1-0.448-1-1s0.448-1 1-1h14c0.552 0 1 0.448 1 1s-0.448 1-1 1z\"></path>\n<path d=\"M23 18h-14c-0.552 0-1-0.448-1-1s0.448-1 1-1h14c0.552 0 1 0.448 1 1s-0.448 1-1 1z\"></path>\n</symbol>\n</defs>\n</svg>\n<style>/* CSS stylesheet for displaying xarray objects in jupyterlab.\n *\n */\n\n:root {\n  --xr-font-color0: var(--jp-content-font-color0, rgba(0, 0, 0, 1));\n  --xr-font-color2: var(--jp-content-font-color2, rgba(0, 0, 0, 0.54));\n  --xr-font-color3: var(--jp-content-font-color3, rgba(0, 0, 0, 0.38));\n  --xr-border-color: var(--jp-border-color2, #e0e0e0);\n  --xr-disabled-color: var(--jp-layout-color3, #bdbdbd);\n  --xr-background-color: var(--jp-layout-color0, white);\n  --xr-background-color-row-even: var(--jp-layout-color1, white);\n  --xr-background-color-row-odd: var(--jp-layout-color2, #eeeeee);\n}\n\n.xr-wrap {\n  min-width: 300px;\n  max-width: 700px;\n}\n\n.xr-header {\n  padding-top: 6px;\n  padding-bottom: 6px;\n  margin-bottom: 4px;\n  border-bottom: solid 1px var(--xr-border-color);\n}\n\n.xr-header > div,\n.xr-header > ul {\n  display: inline;\n  margin-top: 0;\n  margin-bottom: 0;\n}\n\n.xr-obj-type,\n.xr-array-name {\n  margin-left: 2px;\n  margin-right: 10px;\n}\n\n.xr-obj-type {\n  color: var(--xr-font-color2);\n}\n\n.xr-sections {\n  padding-left: 0 !important;\n  display: grid;\n  grid-template-columns: 150px auto auto 1fr 20px 20px;\n}\n\n.xr-section-item {\n  display: contents;\n}\n\n.xr-section-item input {\n  display: none;\n}\n\n.xr-section-item input + label {\n  color: var(--xr-disabled-color);\n}\n\n.xr-section-item input:enabled + label {\n  cursor: pointer;\n  color: var(--xr-font-color2);\n}\n\n.xr-section-item input:enabled + label:hover {\n  color: var(--xr-font-color0);\n}\n\n.xr-section-summary {\n  grid-column: 1;\n  color: var(--xr-font-color2);\n  font-weight: 500;\n}\n\n.xr-section-summary > span {\n  display: inline-block;\n  padding-left: 0.5em;\n}\n\n.xr-section-summary-in:disabled + label {\n  color: var(--xr-font-color2);\n}\n\n.xr-section-summary-in + label:before {\n  display: inline-block;\n  content: '►';\n  font-size: 11px;\n  width: 15px;\n  text-align: center;\n}\n\n.xr-section-summary-in:disabled + label:before {\n  color: var(--xr-disabled-color);\n}\n\n.xr-section-summary-in:checked + label:before {\n  content: '▼';\n}\n\n.xr-section-summary-in:checked + label > span {\n  display: none;\n}\n\n.xr-section-summary,\n.xr-section-inline-details {\n  padding-top: 4px;\n  padding-bottom: 4px;\n}\n\n.xr-section-inline-details {\n  grid-column: 2 / -1;\n}\n\n.xr-section-details {\n  display: none;\n  grid-column: 1 / -1;\n  margin-bottom: 5px;\n}\n\n.xr-section-summary-in:checked ~ .xr-section-details {\n  display: contents;\n}\n\n.xr-array-wrap {\n  grid-column: 1 / -1;\n  display: grid;\n  grid-template-columns: 20px auto;\n}\n\n.xr-array-wrap > label {\n  grid-column: 1;\n  vertical-align: top;\n}\n\n.xr-preview {\n  color: var(--xr-font-color3);\n}\n\n.xr-array-preview,\n.xr-array-data {\n  padding: 0 5px !important;\n  grid-column: 2;\n}\n\n.xr-array-data,\n.xr-array-in:checked ~ .xr-array-preview {\n  display: none;\n}\n\n.xr-array-in:checked ~ .xr-array-data,\n.xr-array-preview {\n  display: inline-block;\n}\n\n.xr-dim-list {\n  display: inline-block !important;\n  list-style: none;\n  padding: 0 !important;\n  margin: 0;\n}\n\n.xr-dim-list li {\n  display: inline-block;\n  padding: 0;\n  margin: 0;\n}\n\n.xr-dim-list:before {\n  content: '(';\n}\n\n.xr-dim-list:after {\n  content: ')';\n}\n\n.xr-dim-list li:not(:last-child):after {\n  content: ',';\n  padding-right: 5px;\n}\n\n.xr-has-index {\n  font-weight: bold;\n}\n\n.xr-var-list,\n.xr-var-item {\n  display: contents;\n}\n\n.xr-var-item > div,\n.xr-var-item label,\n.xr-var-item > .xr-var-name span {\n  background-color: var(--xr-background-color-row-even);\n  margin-bottom: 0;\n}\n\n.xr-var-item > .xr-var-name:hover span {\n  padding-right: 5px;\n}\n\n.xr-var-list > li:nth-child(odd) > div,\n.xr-var-list > li:nth-child(odd) > label,\n.xr-var-list > li:nth-child(odd) > .xr-var-name span {\n  background-color: var(--xr-background-color-row-odd);\n}\n\n.xr-var-name {\n  grid-column: 1;\n}\n\n.xr-var-dims {\n  grid-column: 2;\n}\n\n.xr-var-dtype {\n  grid-column: 3;\n  text-align: right;\n  color: var(--xr-font-color2);\n}\n\n.xr-var-preview {\n  grid-column: 4;\n}\n\n.xr-var-name,\n.xr-var-dims,\n.xr-var-dtype,\n.xr-preview,\n.xr-attrs dt {\n  white-space: nowrap;\n  overflow: hidden;\n  text-overflow: ellipsis;\n  padding-right: 10px;\n}\n\n.xr-var-name:hover,\n.xr-var-dims:hover,\n.xr-var-dtype:hover,\n.xr-attrs dt:hover {\n  overflow: visible;\n  width: auto;\n  z-index: 1;\n}\n\n.xr-var-attrs,\n.xr-var-data {\n  display: none;\n  background-color: var(--xr-background-color) !important;\n  padding-bottom: 5px !important;\n}\n\n.xr-var-attrs-in:checked ~ .xr-var-attrs,\n.xr-var-data-in:checked ~ .xr-var-data {\n  display: block;\n}\n\n.xr-var-data > table {\n  float: right;\n}\n\n.xr-var-name span,\n.xr-var-data,\n.xr-attrs {\n  padding-left: 25px !important;\n}\n\n.xr-attrs,\n.xr-var-attrs,\n.xr-var-data {\n  grid-column: 1 / -1;\n}\n\ndl.xr-attrs {\n  padding: 0;\n  margin: 0;\n  display: grid;\n  grid-template-columns: 125px auto;\n}\n\n.xr-attrs dt, dd {\n  padding: 0;\n  margin: 0;\n  float: left;\n  padding-right: 10px;\n  width: auto;\n}\n\n.xr-attrs dt {\n  font-weight: normal;\n  grid-column: 1;\n}\n\n.xr-attrs dt:hover span {\n  display: inline-block;\n  background: var(--xr-background-color);\n  padding-right: 10px;\n}\n\n.xr-attrs dd {\n  grid-column: 2;\n  white-space: pre-wrap;\n  word-break: break-all;\n}\n\n.xr-icon-database,\n.xr-icon-file-text2 {\n  display: inline-block;\n  vertical-align: middle;\n  width: 1em;\n  height: 1.5em !important;\n  stroke-width: 0;\n  stroke: currentColor;\n  fill: currentColor;\n}\n</style><div class='xr-wrap'><div class='xr-header'><div class='xr-obj-type'>xarray.DataArray</div><div class='xr-array-name'>'meteo'</div><ul class='xr-dim-list'><li><span class='xr-has-index'>district</span>: 30</li><li><span class='xr-has-index'>time</span>: 8760</li><li><span class='xr-has-index'>factor</span>: 37</li></ul></div><ul class='xr-sections'><li class='xr-section-item'><div class='xr-array-wrap'><input id='section-5fd9f66f-ce4c-4934-bafd-aebe6dfee7b3' class='xr-array-in' type='checkbox' ><label for='section-5fd9f66f-ce4c-4934-bafd-aebe6dfee7b3' title='Show/hide data repr'><svg class='icon xr-icon-database'><use xlink:href='#icon-database'></use></svg></label><div class='xr-array-preview xr-preview'><span>...</span></div><pre class='xr-array-data'>[9723600 values with dtype=float64]</pre></div></li><li class='xr-section-item'><input id='section-dddc3305-54a6-423a-afb6-1ce7d6ca7773' class='xr-section-summary-in' type='checkbox'  checked><label for='section-dddc3305-54a6-423a-afb6-1ce7d6ca7773' class='xr-section-summary' >Coordinates: <span>(3)</span></label><div class='xr-section-inline-details'></div><div class='xr-section-details'><ul class='xr-var-list'><li class='xr-var-item'><div class='xr-var-name'><span class='xr-has-index'>time</span></div><div class='xr-var-dims'>(time)</div><div class='xr-var-dtype'>datetime64[ns]</div><div class='xr-var-preview xr-preview'>2019-01-01 ... 2019-12-31T23:00:00</div><input id='attrs-4b561f7e-4196-494d-bcbc-1d5a3b6eec4e' class='xr-var-attrs-in' type='checkbox' disabled><label for='attrs-4b561f7e-4196-494d-bcbc-1d5a3b6eec4e' title='Show/Hide attributes'><svg class='icon xr-icon-file-text2'><use xlink:href='#icon-file-text2'></use></svg></label><input id='data-e6e07c1c-a178-4419-b779-7dff1dbbc6e2' class='xr-var-data-in' type='checkbox'><label for='data-e6e07c1c-a178-4419-b779-7dff1dbbc6e2' title='Show/Hide data repr'><svg class='icon xr-icon-database'><use xlink:href='#icon-database'></use></svg></label><div class='xr-var-attrs'><dl class='xr-attrs'></dl></div><pre class='xr-var-data'>array([&#x27;2019-01-01T00:00:00.000000000&#x27;, &#x27;2019-01-01T01:00:00.000000000&#x27;,\n       &#x27;2019-01-01T02:00:00.000000000&#x27;, ..., &#x27;2019-12-31T21:00:00.000000000&#x27;,\n       &#x27;2019-12-31T22:00:00.000000000&#x27;, &#x27;2019-12-31T23:00:00.000000000&#x27;],\n      dtype=&#x27;datetime64[ns]&#x27;)</pre></li><li class='xr-var-item'><div class='xr-var-name'><span class='xr-has-index'>factor</span></div><div class='xr-var-dims'>(factor)</div><div class='xr-var-dtype'>object</div><div class='xr-var-preview xr-preview'>&#x27;Temperature [2 m elevation corrected]&#x27; ... &#x27;Evapotranspiration&#x27;</div><input id='attrs-d05f1d0f-09be-4b68-907c-add66e0bbeeb' class='xr-var-attrs-in' type='checkbox' disabled><label for='attrs-d05f1d0f-09be-4b68-907c-add66e0bbeeb' title='Show/Hide attributes'><svg class='icon xr-icon-file-text2'><use xlink:href='#icon-file-text2'></use></svg></label><input id='data-258f7f81-d95d-478f-bd96-93a68c9ad736' class='xr-var-data-in' type='checkbox'><label for='data-258f7f81-d95d-478f-bd96-93a68c9ad736' title='Show/Hide data repr'><svg class='icon xr-icon-database'><use xlink:href='#icon-database'></use></svg></label><div class='xr-var-attrs'><dl class='xr-attrs'></dl></div><pre class='xr-var-data'>array([&#x27;Temperature [2 m elevation corrected]&#x27;,\n       &#x27;Growing Degree Days [2 m elevation corrected]&#x27;, &#x27;Temperature [900 mb]&#x27;,\n       &#x27;Temperature [850 mb]&#x27;, &#x27;Temperature [800 mb]&#x27;, &#x27;Temperature [700 mb]&#x27;,\n       &#x27;Temperature [500 mb]&#x27;, &#x27;Precipitation Total&#x27;, &#x27;Precipitation Runoff&#x27;,\n       &#x27;Relative Humidity [2 m]&#x27;, &#x27;Wind Gust&#x27;, &#x27;Wind Speed [10 m]&#x27;,\n       &#x27;Wind Direction [10 m]&#x27;, &#x27;Wind Speed [100 m]&#x27;, &#x27;Wind Direction [100 m]&#x27;,\n       &#x27;Wind Speed [900 mb]&#x27;, &#x27;Wind Direction [900 mb]&#x27;, &#x27;Wind Speed [850 mb]&#x27;,\n       &#x27;Wind Direction [850 mb]&#x27;, &#x27;Wind Speed [800 mb]&#x27;,\n       &#x27;Wind Direction [800 mb]&#x27;, &#x27;Wind Speed [700 mb]&#x27;,\n       &#x27;Wind Direction [700 mb]&#x27;, &#x27;Wind Speed [500 mb]&#x27;,\n       &#x27;Wind Direction [500 mb]&#x27;, &#x27;Wind Speed [250 mb]&#x27;,\n       &#x27;Wind Direction [250 mb]&#x27;, &#x27;Cloud Cover Total&#x27;,\n       &#x27;Cloud Cover High [high cld lay]&#x27;, &#x27;Cloud Cover Medium [mid cld lay]&#x27;,\n       &#x27;Cloud Cover Low [low cld lay]&#x27;, &#x27;Sunshine Duration&#x27;,\n       &#x27;Shortwave Radiation&#x27;, &#x27;Longwave Radiation&#x27;, &#x27;UV Radiation&#x27;,\n       &#x27;Mean Sea Level Pressure [MSL]&#x27;, &#x27;Evapotranspiration&#x27;], dtype=object)</pre></li><li class='xr-var-item'><div class='xr-var-name'><span class='xr-has-index'>district</span></div><div class='xr-var-dims'>(district)</div><div class='xr-var-dtype'>object</div><div class='xr-var-preview xr-preview'>&#x27;Barisal&#x27; &#x27;Bogra&#x27; ... &#x27;Tungipara&#x27;</div><input id='attrs-ae9edadc-1e42-4be7-8c8b-158e3cf715fa' class='xr-var-attrs-in' type='checkbox' disabled><label for='attrs-ae9edadc-1e42-4be7-8c8b-158e3cf715fa' title='Show/Hide attributes'><svg class='icon xr-icon-file-text2'><use xlink:href='#icon-file-text2'></use></svg></label><input id='data-3bebbc8f-3868-426f-840a-1e8fe58a09ba' class='xr-var-data-in' type='checkbox'><label for='data-3bebbc8f-3868-426f-840a-1e8fe58a09ba' title='Show/Hide data repr'><svg class='icon xr-icon-database'><use xlink:href='#icon-database'></use></svg></label><div class='xr-var-attrs'><dl class='xr-attrs'></dl></div><pre class='xr-var-data'>array([&#x27;Barisal&#x27;, &#x27;Bogra&#x27;, &#x27;Dhaka&#x27;, &#x27;Jamalpur&#x27;, &#x27;Jessore&#x27;, &#x27;Kishorganj&#x27;,\n       &#x27;Kushtia&#x27;, &#x27;Lakshmipur&#x27;, &#x27;Madaripur&#x27;, &#x27;Mymensingh&#x27;, &#x27;Nagarpur&#x27;,\n       &#x27;Narail&#x27;, &#x27;Narayanganj&#x27;, &#x27;Narsingdi&#x27;, &#x27;Nawabganj&#x27;, &#x27;Pabna&#x27;, &#x27;Palang&#x27;,\n       &#x27;Par Naogaon&#x27;, &#x27;Pirojpur&#x27;, &#x27;Raipur&#x27;, &#x27;Rajshahi&#x27;, &#x27;Ramganj&#x27;,\n       &#x27;Sarishabari&#x27;, &#x27;Satkhira&#x27;, &#x27;Shahzadpur&#x27;, &#x27;Sherpur&#x27;, &#x27;Sirajganj&#x27;,\n       &#x27;Tangail&#x27;, &#x27;Tongi&#x27;, &#x27;Tungipara&#x27;], dtype=object)</pre></li></ul></div></li><li class='xr-section-item'><input id='section-7a424478-6a35-4cae-b3aa-ba572f4f05c2' class='xr-section-summary-in' type='checkbox' disabled ><label for='section-7a424478-6a35-4cae-b3aa-ba572f4f05c2' class='xr-section-summary'  title='Expand/collapse section'>Attributes: <span>(0)</span></label><div class='xr-section-inline-details'></div><div class='xr-section-details'><dl class='xr-attrs'></dl></div></li></ul></div></div>"
     },
     "execution_count": 2,
     "metadata": {},
     "output_type": "execute_result"
    }
   ],
   "source": [
    "# file = aq_directory_local + 'meteoData_2019.nc'\n",
    "file = '../Files/meteoData_2019.nc'\n",
    "\n",
    "meteo_data = xr.open_dataset(file)['meteo']\n",
    "meteo_data"
   ],
   "metadata": {
    "collapsed": false,
    "pycharm": {
     "name": "#%%\n"
    }
   }
  },
  {
   "cell_type": "code",
   "execution_count": 3,
   "outputs": [
    {
     "data": {
      "text/plain": "<xarray.DataArray 'time' (time: 8760)>\narray(['2019-01-01T00:00:00.000000000', '2019-01-01T01:00:00.000000000',\n       '2019-01-01T02:00:00.000000000', ..., '2019-12-31T21:00:00.000000000',\n       '2019-12-31T22:00:00.000000000', '2019-12-31T23:00:00.000000000'],\n      dtype='datetime64[ns]')\nCoordinates:\n  * time     (time) datetime64[ns] 2019-01-01 ... 2019-12-31T23:00:00",
      "text/html": "<div><svg style=\"position: absolute; width: 0; height: 0; overflow: hidden\">\n<defs>\n<symbol id=\"icon-database\" viewBox=\"0 0 32 32\">\n<title>Show/Hide data repr</title>\n<path d=\"M16 0c-8.837 0-16 2.239-16 5v4c0 2.761 7.163 5 16 5s16-2.239 16-5v-4c0-2.761-7.163-5-16-5z\"></path>\n<path d=\"M16 17c-8.837 0-16-2.239-16-5v6c0 2.761 7.163 5 16 5s16-2.239 16-5v-6c0 2.761-7.163 5-16 5z\"></path>\n<path d=\"M16 26c-8.837 0-16-2.239-16-5v6c0 2.761 7.163 5 16 5s16-2.239 16-5v-6c0 2.761-7.163 5-16 5z\"></path>\n</symbol>\n<symbol id=\"icon-file-text2\" viewBox=\"0 0 32 32\">\n<title>Show/Hide attributes</title>\n<path d=\"M28.681 7.159c-0.694-0.947-1.662-2.053-2.724-3.116s-2.169-2.030-3.116-2.724c-1.612-1.182-2.393-1.319-2.841-1.319h-15.5c-1.378 0-2.5 1.121-2.5 2.5v27c0 1.378 1.122 2.5 2.5 2.5h23c1.378 0 2.5-1.122 2.5-2.5v-19.5c0-0.448-0.137-1.23-1.319-2.841zM24.543 5.457c0.959 0.959 1.712 1.825 2.268 2.543h-4.811v-4.811c0.718 0.556 1.584 1.309 2.543 2.268zM28 29.5c0 0.271-0.229 0.5-0.5 0.5h-23c-0.271 0-0.5-0.229-0.5-0.5v-27c0-0.271 0.229-0.5 0.5-0.5 0 0 15.499-0 15.5 0v7c0 0.552 0.448 1 1 1h7v19.5z\"></path>\n<path d=\"M23 26h-14c-0.552 0-1-0.448-1-1s0.448-1 1-1h14c0.552 0 1 0.448 1 1s-0.448 1-1 1z\"></path>\n<path d=\"M23 22h-14c-0.552 0-1-0.448-1-1s0.448-1 1-1h14c0.552 0 1 0.448 1 1s-0.448 1-1 1z\"></path>\n<path d=\"M23 18h-14c-0.552 0-1-0.448-1-1s0.448-1 1-1h14c0.552 0 1 0.448 1 1s-0.448 1-1 1z\"></path>\n</symbol>\n</defs>\n</svg>\n<style>/* CSS stylesheet for displaying xarray objects in jupyterlab.\n *\n */\n\n:root {\n  --xr-font-color0: var(--jp-content-font-color0, rgba(0, 0, 0, 1));\n  --xr-font-color2: var(--jp-content-font-color2, rgba(0, 0, 0, 0.54));\n  --xr-font-color3: var(--jp-content-font-color3, rgba(0, 0, 0, 0.38));\n  --xr-border-color: var(--jp-border-color2, #e0e0e0);\n  --xr-disabled-color: var(--jp-layout-color3, #bdbdbd);\n  --xr-background-color: var(--jp-layout-color0, white);\n  --xr-background-color-row-even: var(--jp-layout-color1, white);\n  --xr-background-color-row-odd: var(--jp-layout-color2, #eeeeee);\n}\n\n.xr-wrap {\n  min-width: 300px;\n  max-width: 700px;\n}\n\n.xr-header {\n  padding-top: 6px;\n  padding-bottom: 6px;\n  margin-bottom: 4px;\n  border-bottom: solid 1px var(--xr-border-color);\n}\n\n.xr-header > div,\n.xr-header > ul {\n  display: inline;\n  margin-top: 0;\n  margin-bottom: 0;\n}\n\n.xr-obj-type,\n.xr-array-name {\n  margin-left: 2px;\n  margin-right: 10px;\n}\n\n.xr-obj-type {\n  color: var(--xr-font-color2);\n}\n\n.xr-sections {\n  padding-left: 0 !important;\n  display: grid;\n  grid-template-columns: 150px auto auto 1fr 20px 20px;\n}\n\n.xr-section-item {\n  display: contents;\n}\n\n.xr-section-item input {\n  display: none;\n}\n\n.xr-section-item input + label {\n  color: var(--xr-disabled-color);\n}\n\n.xr-section-item input:enabled + label {\n  cursor: pointer;\n  color: var(--xr-font-color2);\n}\n\n.xr-section-item input:enabled + label:hover {\n  color: var(--xr-font-color0);\n}\n\n.xr-section-summary {\n  grid-column: 1;\n  color: var(--xr-font-color2);\n  font-weight: 500;\n}\n\n.xr-section-summary > span {\n  display: inline-block;\n  padding-left: 0.5em;\n}\n\n.xr-section-summary-in:disabled + label {\n  color: var(--xr-font-color2);\n}\n\n.xr-section-summary-in + label:before {\n  display: inline-block;\n  content: '►';\n  font-size: 11px;\n  width: 15px;\n  text-align: center;\n}\n\n.xr-section-summary-in:disabled + label:before {\n  color: var(--xr-disabled-color);\n}\n\n.xr-section-summary-in:checked + label:before {\n  content: '▼';\n}\n\n.xr-section-summary-in:checked + label > span {\n  display: none;\n}\n\n.xr-section-summary,\n.xr-section-inline-details {\n  padding-top: 4px;\n  padding-bottom: 4px;\n}\n\n.xr-section-inline-details {\n  grid-column: 2 / -1;\n}\n\n.xr-section-details {\n  display: none;\n  grid-column: 1 / -1;\n  margin-bottom: 5px;\n}\n\n.xr-section-summary-in:checked ~ .xr-section-details {\n  display: contents;\n}\n\n.xr-array-wrap {\n  grid-column: 1 / -1;\n  display: grid;\n  grid-template-columns: 20px auto;\n}\n\n.xr-array-wrap > label {\n  grid-column: 1;\n  vertical-align: top;\n}\n\n.xr-preview {\n  color: var(--xr-font-color3);\n}\n\n.xr-array-preview,\n.xr-array-data {\n  padding: 0 5px !important;\n  grid-column: 2;\n}\n\n.xr-array-data,\n.xr-array-in:checked ~ .xr-array-preview {\n  display: none;\n}\n\n.xr-array-in:checked ~ .xr-array-data,\n.xr-array-preview {\n  display: inline-block;\n}\n\n.xr-dim-list {\n  display: inline-block !important;\n  list-style: none;\n  padding: 0 !important;\n  margin: 0;\n}\n\n.xr-dim-list li {\n  display: inline-block;\n  padding: 0;\n  margin: 0;\n}\n\n.xr-dim-list:before {\n  content: '(';\n}\n\n.xr-dim-list:after {\n  content: ')';\n}\n\n.xr-dim-list li:not(:last-child):after {\n  content: ',';\n  padding-right: 5px;\n}\n\n.xr-has-index {\n  font-weight: bold;\n}\n\n.xr-var-list,\n.xr-var-item {\n  display: contents;\n}\n\n.xr-var-item > div,\n.xr-var-item label,\n.xr-var-item > .xr-var-name span {\n  background-color: var(--xr-background-color-row-even);\n  margin-bottom: 0;\n}\n\n.xr-var-item > .xr-var-name:hover span {\n  padding-right: 5px;\n}\n\n.xr-var-list > li:nth-child(odd) > div,\n.xr-var-list > li:nth-child(odd) > label,\n.xr-var-list > li:nth-child(odd) > .xr-var-name span {\n  background-color: var(--xr-background-color-row-odd);\n}\n\n.xr-var-name {\n  grid-column: 1;\n}\n\n.xr-var-dims {\n  grid-column: 2;\n}\n\n.xr-var-dtype {\n  grid-column: 3;\n  text-align: right;\n  color: var(--xr-font-color2);\n}\n\n.xr-var-preview {\n  grid-column: 4;\n}\n\n.xr-var-name,\n.xr-var-dims,\n.xr-var-dtype,\n.xr-preview,\n.xr-attrs dt {\n  white-space: nowrap;\n  overflow: hidden;\n  text-overflow: ellipsis;\n  padding-right: 10px;\n}\n\n.xr-var-name:hover,\n.xr-var-dims:hover,\n.xr-var-dtype:hover,\n.xr-attrs dt:hover {\n  overflow: visible;\n  width: auto;\n  z-index: 1;\n}\n\n.xr-var-attrs,\n.xr-var-data {\n  display: none;\n  background-color: var(--xr-background-color) !important;\n  padding-bottom: 5px !important;\n}\n\n.xr-var-attrs-in:checked ~ .xr-var-attrs,\n.xr-var-data-in:checked ~ .xr-var-data {\n  display: block;\n}\n\n.xr-var-data > table {\n  float: right;\n}\n\n.xr-var-name span,\n.xr-var-data,\n.xr-attrs {\n  padding-left: 25px !important;\n}\n\n.xr-attrs,\n.xr-var-attrs,\n.xr-var-data {\n  grid-column: 1 / -1;\n}\n\ndl.xr-attrs {\n  padding: 0;\n  margin: 0;\n  display: grid;\n  grid-template-columns: 125px auto;\n}\n\n.xr-attrs dt, dd {\n  padding: 0;\n  margin: 0;\n  float: left;\n  padding-right: 10px;\n  width: auto;\n}\n\n.xr-attrs dt {\n  font-weight: normal;\n  grid-column: 1;\n}\n\n.xr-attrs dt:hover span {\n  display: inline-block;\n  background: var(--xr-background-color);\n  padding-right: 10px;\n}\n\n.xr-attrs dd {\n  grid-column: 2;\n  white-space: pre-wrap;\n  word-break: break-all;\n}\n\n.xr-icon-database,\n.xr-icon-file-text2 {\n  display: inline-block;\n  vertical-align: middle;\n  width: 1em;\n  height: 1.5em !important;\n  stroke-width: 0;\n  stroke: currentColor;\n  fill: currentColor;\n}\n</style><div class='xr-wrap'><div class='xr-header'><div class='xr-obj-type'>xarray.DataArray</div><div class='xr-array-name'>'time'</div><ul class='xr-dim-list'><li><span class='xr-has-index'>time</span>: 8760</li></ul></div><ul class='xr-sections'><li class='xr-section-item'><div class='xr-array-wrap'><input id='section-a297f8a0-be46-414b-b447-b2d8c8e2e99a' class='xr-array-in' type='checkbox' ><label for='section-a297f8a0-be46-414b-b447-b2d8c8e2e99a' title='Show/hide data repr'><svg class='icon xr-icon-database'><use xlink:href='#icon-database'></use></svg></label><div class='xr-array-preview xr-preview'><span>2019-01-01 2019-01-01T01:00:00 ... 2019-12-31T23:00:00</span></div><pre class='xr-array-data'>array([&#x27;2019-01-01T00:00:00.000000000&#x27;, &#x27;2019-01-01T01:00:00.000000000&#x27;,\n       &#x27;2019-01-01T02:00:00.000000000&#x27;, ..., &#x27;2019-12-31T21:00:00.000000000&#x27;,\n       &#x27;2019-12-31T22:00:00.000000000&#x27;, &#x27;2019-12-31T23:00:00.000000000&#x27;],\n      dtype=&#x27;datetime64[ns]&#x27;)</pre></div></li><li class='xr-section-item'><input id='section-17cfa306-43ae-4862-8a8f-71bd2092b7b7' class='xr-section-summary-in' type='checkbox'  checked><label for='section-17cfa306-43ae-4862-8a8f-71bd2092b7b7' class='xr-section-summary' >Coordinates: <span>(1)</span></label><div class='xr-section-inline-details'></div><div class='xr-section-details'><ul class='xr-var-list'><li class='xr-var-item'><div class='xr-var-name'><span class='xr-has-index'>time</span></div><div class='xr-var-dims'>(time)</div><div class='xr-var-dtype'>datetime64[ns]</div><div class='xr-var-preview xr-preview'>2019-01-01 ... 2019-12-31T23:00:00</div><input id='attrs-fc8638fb-6d91-4ef8-be0c-227eaf5e2f29' class='xr-var-attrs-in' type='checkbox' disabled><label for='attrs-fc8638fb-6d91-4ef8-be0c-227eaf5e2f29' title='Show/Hide attributes'><svg class='icon xr-icon-file-text2'><use xlink:href='#icon-file-text2'></use></svg></label><input id='data-920049a5-df8a-4815-8a93-edd078ce7811' class='xr-var-data-in' type='checkbox'><label for='data-920049a5-df8a-4815-8a93-edd078ce7811' title='Show/Hide data repr'><svg class='icon xr-icon-database'><use xlink:href='#icon-database'></use></svg></label><div class='xr-var-attrs'><dl class='xr-attrs'></dl></div><pre class='xr-var-data'>array([&#x27;2019-01-01T00:00:00.000000000&#x27;, &#x27;2019-01-01T01:00:00.000000000&#x27;,\n       &#x27;2019-01-01T02:00:00.000000000&#x27;, ..., &#x27;2019-12-31T21:00:00.000000000&#x27;,\n       &#x27;2019-12-31T22:00:00.000000000&#x27;, &#x27;2019-12-31T23:00:00.000000000&#x27;],\n      dtype=&#x27;datetime64[ns]&#x27;)</pre></li></ul></div></li><li class='xr-section-item'><input id='section-04155629-adfb-4668-be42-81ee96b7e75a' class='xr-section-summary-in' type='checkbox' disabled ><label for='section-04155629-adfb-4668-be42-81ee96b7e75a' class='xr-section-summary'  title='Expand/collapse section'>Attributes: <span>(0)</span></label><div class='xr-section-inline-details'></div><div class='xr-section-details'><dl class='xr-attrs'></dl></div></li></ul></div></div>"
     },
     "execution_count": 3,
     "metadata": {},
     "output_type": "execute_result"
    }
   ],
   "source": [
    "meteo_data.time"
   ],
   "metadata": {
    "collapsed": false,
    "pycharm": {
     "name": "#%%\n"
    }
   }
  },
  {
   "cell_type": "markdown",
   "source": [
    "# Analysis of wind direction"
   ],
   "metadata": {
    "collapsed": false,
    "pycharm": {
     "name": "#%% md\n"
    }
   }
  },
  {
   "cell_type": "code",
   "execution_count": 11,
   "outputs": [],
   "source": [
    "# meteo_data_wind_direction = meteo_data.loc[:, :, wind_direction_factors()[0]]\n",
    "# for month,data in meteo_data_wind_direction.groupby('time.month'):\n",
    "#     # print(data)\n",
    "#     print(data.stack(z=(\"time\", \"district\",\"factor\")).values)"
   ],
   "metadata": {
    "collapsed": false,
    "pycharm": {
     "name": "#%%\n"
    }
   }
  },
  {
   "cell_type": "code",
   "execution_count": 5,
   "outputs": [],
   "source": [
    "\n",
    "wind_direction_10m = get_factor_data(meteo_data,'Wind Direction [10 m]')\n",
    "wind_direction_100m = get_factor_data(meteo_data,'Wind Direction [100 m]')\n",
    "wind_direction_250m = get_factor_data(meteo_data,'Wind Direction [250 mb]')\n",
    "wind_direction_500m = get_factor_data(meteo_data,'Wind Direction [500 mb]')\n",
    "wind_direction_700m = get_factor_data(meteo_data,'Wind Direction [700 mb]')\n",
    "wind_direction_850m = get_factor_data(meteo_data,'Wind Direction [850 mb]')\n",
    "wind_direction_900m = get_factor_data(meteo_data,'Wind Direction [900 mb]')"
   ],
   "metadata": {
    "collapsed": false,
    "pycharm": {
     "name": "#%%\n"
    }
   }
  },
  {
   "cell_type": "code",
   "execution_count": null,
   "outputs": [],
   "source": [
    "wind_direction_10m"
   ],
   "metadata": {
    "collapsed": false,
    "pycharm": {
     "name": "#%%\n",
     "is_executing": true
    }
   }
  },
  {
   "cell_type": "code",
   "execution_count": null,
   "outputs": [],
   "source": [
    "wind_direction_700m"
   ],
   "metadata": {
    "collapsed": false,
    "pycharm": {
     "name": "#%%\n",
     "is_executing": true
    }
   }
  },
  {
   "cell_type": "code",
   "execution_count": 15,
   "outputs": [],
   "source": [
    "# wind_dir_10m_bd = wind_direction_10m.stack().droplevel(1)\n",
    "# wind_dir_100m_bd = wind_direction_100m.stack().droplevel(1)\n",
    "# wind_dir_10m_bd"
   ],
   "metadata": {
    "collapsed": false,
    "pycharm": {
     "name": "#%%\n"
    }
   }
  },
  {
   "cell_type": "markdown",
   "source": [
    "### Linear statistics won't work for circular data like wind direction, so we will use circular statistics"
   ],
   "metadata": {
    "collapsed": false,
    "pycharm": {
     "name": "#%% md\n"
    }
   }
  },
  {
   "cell_type": "code",
   "execution_count": 8,
   "outputs": [
    {
     "data": {
      "text/plain": "<Quantity 359.5>",
      "text/latex": "$359.5 \\; \\mathrm{}$"
     },
     "execution_count": 8,
     "metadata": {},
     "output_type": "execute_result"
    }
   ],
   "source": [
    "def circular_mean(data):\n",
    "    # data = np.array([51, 67, 40, 109, 31, 358])\n",
    "    # data = np.array([2, 3, 40, 339, 352, 358])\n",
    "    return (circmean(data*u.deg)/u.deg+360)%360\n",
    "\n",
    "data = np.array([1,358])\n",
    "circular_mean(data)"
   ],
   "metadata": {
    "collapsed": false,
    "pycharm": {
     "name": "#%%\n"
    }
   }
  },
  {
   "cell_type": "code",
   "execution_count": 9,
   "outputs": [],
   "source": [
    "monthly_direction_10m = wind_direction_10m.resample('M').apply(lambda x: circular_mean(x.values))\n",
    "monthly_direction_100m = wind_direction_100m.resample('M').apply(lambda x: circular_mean(x.values))\n",
    "monthly_direction_250m = wind_direction_250m.resample('M').apply(lambda x: circular_mean(x.values))\n",
    "monthly_direction_500m = wind_direction_500m.resample('M').apply(lambda x: circular_mean(x.values))\n",
    "monthly_direction_700m = wind_direction_700m.resample('M').apply(lambda x: circular_mean(x.values))\n",
    "monthly_direction_850m = wind_direction_850m.resample('M').apply(lambda x: circular_mean(x.values))\n",
    "monthly_direction_900m = wind_direction_900m.resample('M').apply(lambda x: circular_mean(x.values))"
   ],
   "metadata": {
    "collapsed": false,
    "pycharm": {
     "name": "#%%\n"
    }
   }
  },
  {
   "cell_type": "code",
   "execution_count": 10,
   "outputs": [
    {
     "data": {
      "text/plain": "time\n2019-01-31     326.4141048941575\n2019-02-28    311.06192609062043\n2019-03-31    234.36424105966233\n2019-04-30     141.5042698526571\n2019-05-31    168.27150003685824\n2019-06-30    150.81651817905924\n2019-07-31    155.89573116678673\n2019-08-31     137.3709370030033\n2019-09-30    135.75442706500803\n2019-10-31    342.74523025995785\n2019-11-30    340.74677901813607\n2019-12-31    341.15911771114787\ndtype: object"
     },
     "execution_count": 10,
     "metadata": {},
     "output_type": "execute_result"
    }
   ],
   "source": [
    "monthly_direction_10m"
   ],
   "metadata": {
    "collapsed": false,
    "pycharm": {
     "name": "#%%\n"
    }
   }
  },
  {
   "cell_type": "code",
   "execution_count": 15,
   "outputs": [
    {
     "data": {
      "text/plain": "time\n2019-01-31    271.24242037083354\n2019-02-28    274.06197099752717\n2019-03-31    283.90079570286787\n2019-04-30     281.4175006696936\n2019-05-31      281.255189469533\n2019-06-30      276.483358552905\n2019-07-31    201.60995310008644\n2019-08-31     135.3695411693957\n2019-09-30     177.2240702237383\n2019-10-31     249.1590757179073\n2019-11-30    279.99312355946904\n2019-12-31     279.2406250362859\ndtype: object"
     },
     "execution_count": 15,
     "metadata": {},
     "output_type": "execute_result"
    }
   ],
   "source": [
    "monthly_direction_700m"
   ],
   "metadata": {
    "collapsed": false,
    "pycharm": {
     "name": "#%%\n"
    }
   }
  },
  {
   "cell_type": "markdown",
   "source": [
    "### We can observe that wind direction with 10 meter height is consistent with seasonal wind direction of Bangladesh but not so much for height of 700 meter"
   ],
   "metadata": {
    "collapsed": false,
    "pycharm": {
     "name": "#%% md\n"
    }
   }
  },
  {
   "cell_type": "code",
   "execution_count": 23,
   "outputs": [
    {
     "data": {
      "text/plain": "0.9186367218469381"
     },
     "execution_count": 23,
     "metadata": {},
     "output_type": "execute_result"
    }
   ],
   "source": [
    "monthly_direction_10m.astype(int).corr(monthly_direction_900m.astype(int))\n",
    "# monthly_direction_10m.astype(int).corr(monthly_direction_500m.astype(int))\n",
    "# monthly_direction_500m.astype(int).corr(monthly_direction_700m.astype(int))"
   ],
   "metadata": {
    "collapsed": false,
    "pycharm": {
     "name": "#%%\n"
    }
   }
  },
  {
   "cell_type": "code",
   "execution_count": 21,
   "outputs": [],
   "source": [
    "# import seaborn as sns\n",
    "#\n",
    "# sns.set()\n",
    "# sns.pointplot(data=monthly_direction_10m)"
   ],
   "metadata": {
    "collapsed": false,
    "pycharm": {
     "name": "#%%\n"
    }
   }
  },
  {
   "cell_type": "markdown",
   "source": [
    "# Analysis of wind speed"
   ],
   "metadata": {
    "collapsed": false,
    "pycharm": {
     "name": "#%% md\n"
    }
   }
  },
  {
   "cell_type": "code",
   "execution_count": 28,
   "outputs": [],
   "source": [
    "wind_speed_10m = get_factor_data(meteo_data,'Wind Speed [10 m]')\n",
    "wind_speed_100m = get_factor_data(meteo_data,'Wind Speed [100 m]')\n",
    "wind_speed_250m = get_factor_data(meteo_data,'Wind Speed [250 mb]')\n",
    "wind_speed_500m = get_factor_data(meteo_data,'Wind Speed [500 mb]')\n",
    "wind_speed_700m = get_factor_data(meteo_data,'Wind Speed [700 mb]')\n",
    "wind_speed_850m = get_factor_data(meteo_data,'Wind Speed [850 mb]')\n",
    "wind_speed_900m = get_factor_data(meteo_data,'Wind Speed [900 mb]')"
   ],
   "metadata": {
    "collapsed": false,
    "pycharm": {
     "name": "#%%\n"
    }
   }
  },
  {
   "cell_type": "code",
   "execution_count": 23,
   "outputs": [
    {
     "data": {
      "text/plain": "count    262800.000000\nmean          8.509030\nstd           4.393377\nmin           0.000000\n25%           5.506941\n50%           7.695920\n75%          10.703569\nmax          45.950440\ndtype: float64"
     },
     "execution_count": 23,
     "metadata": {},
     "output_type": "execute_result"
    }
   ],
   "source": [
    "wind_speed_10m.stack().describe()"
   ],
   "metadata": {
    "collapsed": false,
    "pycharm": {
     "name": "#%%\n"
    }
   }
  },
  {
   "cell_type": "code",
   "execution_count": 24,
   "outputs": [
    {
     "data": {
      "text/plain": "count    262800.000000\nmean         33.256230\nstd          18.103324\nmin           0.000000\n25%          19.376562\n50%          30.955812\n75%          44.250720\nmax         114.408090\ndtype: float64"
     },
     "execution_count": 24,
     "metadata": {},
     "output_type": "execute_result"
    }
   ],
   "source": [
    "wind_speed_700m.stack().describe()"
   ],
   "metadata": {
    "collapsed": false,
    "pycharm": {
     "name": "#%%\n"
    }
   }
  },
  {
   "cell_type": "code",
   "execution_count": 67,
   "outputs": [
    {
     "data": {
      "text/plain": "0.13435312024353122"
     },
     "execution_count": 67,
     "metadata": {},
     "output_type": "execute_result"
    }
   ],
   "source": [
    "(wind_speed_500m.stack()<15).sum()/262800.000000"
   ],
   "metadata": {
    "collapsed": false,
    "pycharm": {
     "name": "#%%\n"
    }
   }
  },
  {
   "cell_type": "code",
   "execution_count": null,
   "outputs": [],
   "source": [
    "fig = go.Figure()\n",
    "meteo_data_wind_speed = meteo_data.loc[['Dhaka'], :, wind_speed_factor.factor_list[:2]]\n",
    "for month,data in meteo_data_wind_speed.groupby('time.month'):\n",
    "    fig.add_trace(go.Box(y=data.stack(z=(\"time\", \"district\",\"factor\")).values, name=str(month), marker_color=wind_speed_factor.color_list[6]))\n",
    "fig.show()"
   ],
   "metadata": {
    "collapsed": false,
    "pycharm": {
     "name": "#%%\n",
     "is_executing": true
    }
   }
  },
  {
   "cell_type": "code",
   "execution_count": 35,
   "outputs": [
    {
     "data": {
      "text/plain": "time                 district \n2019-01-01 00:00:00  Barisal      7.787991\n                     Bogra        8.145870\n                     Dhaka        6.915374\n                     Jamalpur     6.763786\n                     Jessore      8.587338\n                                    ...   \n2019-12-31 23:00:00  Sherpur      6.696387\n                     Sirajganj    4.024922\n                     Tangail      2.811690\n                     Tongi        8.311245\n                     Tungipara    8.287822\nLength: 262800, dtype: float64"
     },
     "execution_count": 35,
     "metadata": {},
     "output_type": "execute_result"
    }
   ],
   "source": [
    "wind_speed_10m"
   ],
   "metadata": {
    "collapsed": false,
    "pycharm": {
     "name": "#%%\n"
    }
   }
  },
  {
   "cell_type": "code",
   "execution_count": null,
   "outputs": [],
   "source": [
    "import plotly.figure_factory as ff\n",
    "import numpy as np\n",
    "\n",
    "# Add histogram data\n",
    "x1 = wind_speed_10m.stack().sample(2628)\n",
    "x2 = wind_speed_100m.stack().sample(2628)\n",
    "x3 = wind_speed_250m.stack().sample(2628)\n",
    "x4 = wind_speed_500m.stack().sample(2628)\n",
    "x5 = wind_speed_700m.stack().sample(2628)\n",
    "x6 = wind_speed_850m.stack().sample(2628)\n",
    "x7 = wind_speed_900m.stack().sample(2628)\n",
    "\n",
    "# Group data together\n",
    "hist_data = [x1, x2, x3, x4, x5, x6, x7]\n",
    "\n",
    "group_labels = ['Group 10', 'Group 100', 'Group 250', 'Group 500', 'Group 700', 'Group 850', 'Group 900']\n",
    "\n",
    "# Create distplot with custom bin_size\n",
    "fig = ff.create_distplot(hist_data, group_labels, bin_size=.5,colors=wind_speed_factor.color_list)\n",
    "fig.show()"
   ],
   "metadata": {
    "collapsed": false,
    "pycharm": {
     "name": "#%%\n",
     "is_executing": true
    }
   }
  },
  {
   "cell_type": "code",
   "execution_count": null,
   "outputs": [],
   "source": [
    "\n",
    "x0 = wind_speed_10m.stack().sample(262).values\n",
    "# Add 1 to shift the mean of the Gaussian distribution\n",
    "x1 = wind_speed_100m.stack().sample(262).values\n",
    "\n",
    "# x0 = np.rand\n",
    "# om.randn(500) + 1\n",
    "\n",
    "fig = go.Figure()\n",
    "fig.add_trace(go.Histogram(x=x0))\n",
    "fig.add_trace(go.Histogram(x=x1))\n",
    "\n",
    "# Overlay both histograms\n",
    "fig.update_layout(barmode='overlay')\n",
    "# Reduce opacity to see both histograms\n",
    "fig.update_traces(opacity=0.75)\n",
    "fig.show()"
   ],
   "metadata": {
    "collapsed": false,
    "pycharm": {
     "name": "#%%\n",
     "is_executing": true
    }
   }
  }
 ],
 "metadata": {
  "kernelspec": {
   "display_name": "Python 3",
   "language": "python",
   "name": "python3"
  },
  "language_info": {
   "codemirror_mode": {
    "name": "ipython",
    "version": 2
   },
   "file_extension": ".py",
   "mimetype": "text/x-python",
   "name": "python",
   "nbconvert_exporter": "python",
   "pygments_lexer": "ipython2",
   "version": "2.7.6"
  }
 },
 "nbformat": 4,
 "nbformat_minor": 0
}