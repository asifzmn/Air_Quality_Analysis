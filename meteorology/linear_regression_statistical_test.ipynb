{
 "cells": [
  {
   "cell_type": "code",
   "execution_count": 2,
   "metadata": {
    "collapsed": true
   },
   "outputs": [],
   "source": [
    "from scipy.stats.stats import pearsonr"
   ]
  },
  {
   "cell_type": "code",
   "execution_count": 4,
   "outputs": [],
   "source": [
    "from data_preparation import read_region_and_country_series\n",
    "region_series, metadata_region, country_series, metadata_country = read_region_and_country_series()"
   ],
   "metadata": {
    "collapsed": false,
    "pycharm": {
     "name": "#%%\n"
    }
   }
  },
  {
   "cell_type": "code",
   "execution_count": 3,
   "outputs": [
    {
     "data": {
      "text/plain": "                     Temperature  Dew Point  Humidity  Wind Speed  Wind Gust  \\\nTime                                                                           \n2020-03-04 19:00:00        26.11      16.11      0.54         9.6        0.0   \n2020-01-28 00:00:00        16.11      12.78      0.82         0.0        0.0   \n2019-02-08 03:00:00        18.89      15.00      0.78         0.0        0.0   \n2019-02-26 14:30:00        22.78      17.78      0.73        16.0        0.0   \n2019-02-23 17:00:00        31.11      15.00      0.38        14.4        0.0   \n\n                      Pressure  Precip. Condition  Wind Direction  \nTime                                                               \n2020-03-04 19:00:00  1009.0280      0.0      Haze           225.0  \n2020-01-28 00:00:00  1013.0912      0.0       Fog             NaN  \n2019-02-08 03:00:00  1013.7684      0.0      Haze             NaN  \n2019-02-26 14:30:00  1008.6894      0.0      Haze           157.5  \n2019-02-23 17:00:00  1006.6578      0.0      Haze           292.5  ",
      "text/html": "<div>\n<style scoped>\n    .dataframe tbody tr th:only-of-type {\n        vertical-align: middle;\n    }\n\n    .dataframe tbody tr th {\n        vertical-align: top;\n    }\n\n    .dataframe thead th {\n        text-align: right;\n    }\n</style>\n<table border=\"1\" class=\"dataframe\">\n  <thead>\n    <tr style=\"text-align: right;\">\n      <th></th>\n      <th>Temperature</th>\n      <th>Dew Point</th>\n      <th>Humidity</th>\n      <th>Wind Speed</th>\n      <th>Wind Gust</th>\n      <th>Pressure</th>\n      <th>Precip.</th>\n      <th>Condition</th>\n      <th>Wind Direction</th>\n    </tr>\n    <tr>\n      <th>Time</th>\n      <th></th>\n      <th></th>\n      <th></th>\n      <th></th>\n      <th></th>\n      <th></th>\n      <th></th>\n      <th></th>\n      <th></th>\n    </tr>\n  </thead>\n  <tbody>\n    <tr>\n      <th>2020-03-04 19:00:00</th>\n      <td>26.11</td>\n      <td>16.11</td>\n      <td>0.54</td>\n      <td>9.6</td>\n      <td>0.0</td>\n      <td>1009.0280</td>\n      <td>0.0</td>\n      <td>Haze</td>\n      <td>225.0</td>\n    </tr>\n    <tr>\n      <th>2020-01-28 00:00:00</th>\n      <td>16.11</td>\n      <td>12.78</td>\n      <td>0.82</td>\n      <td>0.0</td>\n      <td>0.0</td>\n      <td>1013.0912</td>\n      <td>0.0</td>\n      <td>Fog</td>\n      <td>NaN</td>\n    </tr>\n    <tr>\n      <th>2019-02-08 03:00:00</th>\n      <td>18.89</td>\n      <td>15.00</td>\n      <td>0.78</td>\n      <td>0.0</td>\n      <td>0.0</td>\n      <td>1013.7684</td>\n      <td>0.0</td>\n      <td>Haze</td>\n      <td>NaN</td>\n    </tr>\n    <tr>\n      <th>2019-02-26 14:30:00</th>\n      <td>22.78</td>\n      <td>17.78</td>\n      <td>0.73</td>\n      <td>16.0</td>\n      <td>0.0</td>\n      <td>1008.6894</td>\n      <td>0.0</td>\n      <td>Haze</td>\n      <td>157.5</td>\n    </tr>\n    <tr>\n      <th>2019-02-23 17:00:00</th>\n      <td>31.11</td>\n      <td>15.00</td>\n      <td>0.38</td>\n      <td>14.4</td>\n      <td>0.0</td>\n      <td>1006.6578</td>\n      <td>0.0</td>\n      <td>Haze</td>\n      <td>292.5</td>\n    </tr>\n  </tbody>\n</table>\n</div>"
     },
     "execution_count": 3,
     "metadata": {},
     "output_type": "execute_result"
    }
   ],
   "source": [
    "from meteorology.wunderground_data_preparation import read_compressed_data\n",
    "\n",
    "raw_data = read_compressed_data('Dhaka')\n",
    "raw_data.sample(5)"
   ],
   "metadata": {
    "collapsed": false,
    "pycharm": {
     "name": "#%%\n"
    }
   }
  },
  {
   "cell_type": "code",
   "execution_count": 18,
   "outputs": [],
   "source": [
    "from meteorology.wunderground_data_preparation import linear_var\n",
    "\n",
    "meteo_data_hourly = raw_data.resample('H').mean()[linear_var].fillna(0)"
   ],
   "metadata": {
    "collapsed": false,
    "pycharm": {
     "name": "#%%\n"
    }
   }
  },
  {
   "cell_type": "code",
   "execution_count": 19,
   "outputs": [],
   "source": [
    "pm_data_hourly = region_series['Dhaka']['2019':'2021'].fillna(0)"
   ],
   "metadata": {
    "collapsed": false,
    "pycharm": {
     "name": "#%%\n"
    }
   }
  },
  {
   "cell_type": "code",
   "execution_count": 91,
   "outputs": [
    {
     "data": {
      "text/plain": "Temperature    0\nDew Point      0\nHumidity       0\nWind Gust      0\nPressure       0\nPrecip.        0\ndtype: int64"
     },
     "execution_count": 91,
     "metadata": {},
     "output_type": "execute_result"
    }
   ],
   "source": [
    "meteo_data_hourly.isna().sum()"
   ],
   "metadata": {
    "collapsed": false,
    "pycharm": {
     "name": "#%%\n"
    }
   }
  },
  {
   "cell_type": "code",
   "execution_count": 92,
   "outputs": [
    {
     "data": {
      "text/plain": "(-0.29599934511752085, 0.16020381527370056)"
     },
     "execution_count": 92,
     "metadata": {},
     "output_type": "execute_result"
    }
   ],
   "source": [
    "pm_variable, meteo_variable = pm_data_hourly,meteo_data_hourly.Temperature\n",
    "pm_variable, meteo_variable = pm_variable['2019-01-01'], meteo_variable['2019-01-01']\n",
    "\n",
    "# pm_variable, meteo_variable = pm_data_hourly.resample('D').mean(),meteo_data_hourly.Temperature.resample('D').mean()\n",
    "# pm_variable, meteo_variable = pm_variable['2019'], meteo_variable['2019']\n",
    "\n",
    "pearsonr(pm_variable, meteo_variable)"
   ],
   "metadata": {
    "collapsed": false,
    "pycharm": {
     "name": "#%%\n"
    }
   }
  },
  {
   "cell_type": "markdown",
   "source": [],
   "metadata": {
    "collapsed": false
   }
  },
  {
   "cell_type": "code",
   "execution_count": 78,
   "outputs": [
    {
     "data": {
      "text/plain": "(-0.29599934511752085, 0.16020381527370056)"
     },
     "execution_count": 78,
     "metadata": {},
     "output_type": "execute_result"
    }
   ],
   "source": [
    "pearsonr(pm_variable, meteo_variable)\n",
    "# pearsonr(meteo_data_hourly['Dew Point'],meteo_data_hourly.Temperature)"
   ],
   "metadata": {
    "collapsed": false,
    "pycharm": {
     "name": "#%%\n"
    }
   }
  },
  {
   "cell_type": "code",
   "execution_count": 89,
   "outputs": [
    {
     "data": {
      "text/plain": "LinregressResult(slope=-0.025464068921982334, intercept=23.73360860547294, rvalue=-0.29599934511752085, pvalue=0.16020381527370073, stderr=0.017519214623104948)"
     },
     "execution_count": 89,
     "metadata": {},
     "output_type": "execute_result"
    }
   ],
   "source": [
    "from scipy.stats import linregress\n",
    "linregress(pm_variable, meteo_variable)"
   ],
   "metadata": {
    "collapsed": false,
    "pycharm": {
     "name": "#%%\n"
    }
   }
  }
 ],
 "metadata": {
  "kernelspec": {
   "display_name": "Python 3",
   "language": "python",
   "name": "python3"
  },
  "language_info": {
   "codemirror_mode": {
    "name": "ipython",
    "version": 2
   },
   "file_extension": ".py",
   "mimetype": "text/x-python",
   "name": "python",
   "nbconvert_exporter": "python",
   "pygments_lexer": "ipython2",
   "version": "2.7.6"
  }
 },
 "nbformat": 4,
 "nbformat_minor": 0
}