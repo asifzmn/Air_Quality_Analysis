{
 "cells": [
  {
   "cell_type": "code",
   "execution_count": 1,
   "outputs": [],
   "source": [
    "import pandas as pd"
   ],
   "metadata": {
    "collapsed": false,
    "pycharm": {
     "name": "#%%\n"
    }
   }
  },
  {
   "cell_type": "code",
   "execution_count": 2,
   "outputs": [],
   "source": [
    "from data_preparation import read_all_granularity_data\n",
    "\n",
    "metadata_all, series_all, metadata_region_all, region_series_all,\\\n",
    "metadata_country_all, country_series_all = read_all_granularity_data()"
   ],
   "metadata": {
    "collapsed": false,
    "pycharm": {
     "name": "#%%\n"
    }
   }
  },
  {
   "cell_type": "code",
   "execution_count": 3,
   "outputs": [
    {
     "data": {
      "text/plain": "Index(['Barisal', 'Bihar', 'Chhattisgarh', 'Chittagong', 'Dhaka', 'Haryana',\n       'Jharkhand', 'Khulna', 'Madhya Pradesh', 'Mymensingh', 'NCT', 'Odisha',\n       'Rajshahi', 'Rangpur', 'Sylhet', 'Telangana', 'Uttar Pradesh',\n       'West Bengal'],\n      dtype='object')"
     },
     "execution_count": 3,
     "metadata": {},
     "output_type": "execute_result"
    }
   ],
   "source": [
    "region_series_all.columns"
   ],
   "metadata": {
    "collapsed": false,
    "pycharm": {
     "name": "#%%\n"
    }
   }
  },
  {
   "cell_type": "code",
   "execution_count": 4,
   "outputs": [
    {
     "data": {
      "text/plain": "count    44132.000000\nmean        67.611995\nstd         51.383517\nmin          1.490000\n25%         28.010000\n50%         50.830000\n75%         95.202500\nmax        452.720000\nName: Dhaka, dtype: float64"
     },
     "execution_count": 4,
     "metadata": {},
     "output_type": "execute_result"
    }
   ],
   "source": [
    "region_series_all.Dhaka.describe()"
   ],
   "metadata": {
    "collapsed": false,
    "pycharm": {
     "name": "#%%\n"
    }
   }
  },
  {
   "cell_type": "code",
   "execution_count": 235,
   "outputs": [
    {
     "data": {
      "text/plain": "time\n2019-01-01 00:00:00    156.80\n2019-01-01 01:00:00    146.73\n2019-01-01 02:00:00    150.16\n2019-01-01 03:00:00    172.24\n2019-01-01 04:00:00    181.86\n                        ...  \n2021-12-31 19:00:00    119.16\n2021-12-31 20:00:00    121.96\n2021-12-31 21:00:00    125.66\n2021-12-31 22:00:00    121.99\n2021-12-31 23:00:00    121.36\nName: Dhaka, Length: 26304, dtype: float64"
     },
     "execution_count": 235,
     "metadata": {},
     "output_type": "execute_result"
    }
   ],
   "source": [
    "# pm_data_dhaka = series_all[\"2019\":\"2021\"].Azimpur_Dhaka\n",
    "pm_data_dhaka = region_series_all[\"2019\":\"2021\"].Dhaka\n",
    "# pm_data_dhaka = region_series_all[\"2019\":\"2021\"].Dhaka.resample('D').mean()\n",
    "pm_data_dhaka"
   ],
   "metadata": {
    "collapsed": false,
    "pycharm": {
     "name": "#%%\n"
    }
   }
  },
  {
   "cell_type": "code",
   "execution_count": 230,
   "outputs": [],
   "source": [
    "from meteorology.wunderground_data_preparation import read_meteo_data_file_wg\n",
    "from meteorology import get_district_data\n",
    "\n",
    "meteo_data = read_meteo_data_file_wg()\n",
    "\n",
    "meteo_data_dhaka = get_district_data(meteo_data, 'Dhaka')\n",
    "# meteo_data_dhaka = get_district_data(meteo_data, 'Dhaka').resample('D').mean()"
   ],
   "metadata": {
    "collapsed": false,
    "pycharm": {
     "name": "#%%\n"
    }
   }
  },
  {
   "cell_type": "code",
   "execution_count": 196,
   "outputs": [
    {
     "data": {
      "text/plain": "time\n2019-01-01 00:00:00    156.80\n2019-01-01 01:00:00    146.73\n2019-01-01 02:00:00    150.16\n2019-01-01 03:00:00    172.24\n2019-01-01 04:00:00    181.86\n                        ...  \n2021-12-31 19:00:00    119.16\n2021-12-31 20:00:00    121.96\n2021-12-31 21:00:00    125.66\n2021-12-31 22:00:00    121.99\n2021-12-31 23:00:00    121.36\nName: Dhaka, Length: 26304, dtype: float64"
     },
     "execution_count": 196,
     "metadata": {},
     "output_type": "execute_result"
    }
   ],
   "source": [
    "pm_data_dhaka"
   ],
   "metadata": {
    "collapsed": false,
    "pycharm": {
     "name": "#%%\n"
    }
   }
  },
  {
   "cell_type": "code",
   "execution_count": 197,
   "outputs": [
    {
     "data": {
      "text/plain": "factor               Dew Point  Humidity  Precip.   Pressure  Temperature  \\\ntime                                                                        \n2019-01-01 00:00:00     12.500     0.705      0.0  1017.8316       17.780   \n2019-01-01 01:00:00     12.500     0.725      0.0  1016.8158       17.500   \n2019-01-01 02:00:00     12.220     0.720      0.0  1016.8158       17.220   \n2019-01-01 03:00:00     12.220     0.745      0.0  1016.8158       16.665   \n2019-01-01 04:00:00     12.220     0.770      0.0  1016.8158       16.110   \n...                        ...       ...      ...        ...          ...   \n2021-12-31 19:00:00     15.000     0.555      0.0  1017.8316       24.445   \n2021-12-31 20:00:00     15.555     0.590      0.0  1018.3395       23.890   \n2021-12-31 21:00:00     16.110     0.630      0.0  1018.8474       23.335   \n2021-12-31 22:00:00     16.110     0.650      0.0  1018.8474       22.780   \n2021-12-31 23:00:00     16.110     0.690      0.0  1018.8474       22.220   \n\nfactor               Wind Direction  Wind Gust  Wind Speed  \ntime                                                        \n2019-01-01 00:00:00      315.000000        0.0    4.434622  \n2019-01-01 01:00:00      315.000000        0.0    2.400000  \n2019-01-01 02:00:00        0.000000        0.0    0.000000  \n2019-01-01 03:00:00        0.000000        0.0    0.000000  \n2019-01-01 04:00:00        0.000000        0.0    0.000000  \n...                             ...        ...         ...  \n2021-12-31 19:00:00      270.000000        0.0    7.200000  \n2021-12-31 20:00:00      283.148778        0.0    9.420711  \n2021-12-31 21:00:00      270.000000        0.0    2.400000  \n2021-12-31 22:00:00      270.000000        0.0    2.400000  \n2021-12-31 23:00:00      292.500000        0.0    2.400000  \n\n[26304 rows x 8 columns]",
      "text/html": "<div>\n<style scoped>\n    .dataframe tbody tr th:only-of-type {\n        vertical-align: middle;\n    }\n\n    .dataframe tbody tr th {\n        vertical-align: top;\n    }\n\n    .dataframe thead th {\n        text-align: right;\n    }\n</style>\n<table border=\"1\" class=\"dataframe\">\n  <thead>\n    <tr style=\"text-align: right;\">\n      <th>factor</th>\n      <th>Dew Point</th>\n      <th>Humidity</th>\n      <th>Precip.</th>\n      <th>Pressure</th>\n      <th>Temperature</th>\n      <th>Wind Direction</th>\n      <th>Wind Gust</th>\n      <th>Wind Speed</th>\n    </tr>\n    <tr>\n      <th>time</th>\n      <th></th>\n      <th></th>\n      <th></th>\n      <th></th>\n      <th></th>\n      <th></th>\n      <th></th>\n      <th></th>\n    </tr>\n  </thead>\n  <tbody>\n    <tr>\n      <th>2019-01-01 00:00:00</th>\n      <td>12.500</td>\n      <td>0.705</td>\n      <td>0.0</td>\n      <td>1017.8316</td>\n      <td>17.780</td>\n      <td>315.000000</td>\n      <td>0.0</td>\n      <td>4.434622</td>\n    </tr>\n    <tr>\n      <th>2019-01-01 01:00:00</th>\n      <td>12.500</td>\n      <td>0.725</td>\n      <td>0.0</td>\n      <td>1016.8158</td>\n      <td>17.500</td>\n      <td>315.000000</td>\n      <td>0.0</td>\n      <td>2.400000</td>\n    </tr>\n    <tr>\n      <th>2019-01-01 02:00:00</th>\n      <td>12.220</td>\n      <td>0.720</td>\n      <td>0.0</td>\n      <td>1016.8158</td>\n      <td>17.220</td>\n      <td>0.000000</td>\n      <td>0.0</td>\n      <td>0.000000</td>\n    </tr>\n    <tr>\n      <th>2019-01-01 03:00:00</th>\n      <td>12.220</td>\n      <td>0.745</td>\n      <td>0.0</td>\n      <td>1016.8158</td>\n      <td>16.665</td>\n      <td>0.000000</td>\n      <td>0.0</td>\n      <td>0.000000</td>\n    </tr>\n    <tr>\n      <th>2019-01-01 04:00:00</th>\n      <td>12.220</td>\n      <td>0.770</td>\n      <td>0.0</td>\n      <td>1016.8158</td>\n      <td>16.110</td>\n      <td>0.000000</td>\n      <td>0.0</td>\n      <td>0.000000</td>\n    </tr>\n    <tr>\n      <th>...</th>\n      <td>...</td>\n      <td>...</td>\n      <td>...</td>\n      <td>...</td>\n      <td>...</td>\n      <td>...</td>\n      <td>...</td>\n      <td>...</td>\n    </tr>\n    <tr>\n      <th>2021-12-31 19:00:00</th>\n      <td>15.000</td>\n      <td>0.555</td>\n      <td>0.0</td>\n      <td>1017.8316</td>\n      <td>24.445</td>\n      <td>270.000000</td>\n      <td>0.0</td>\n      <td>7.200000</td>\n    </tr>\n    <tr>\n      <th>2021-12-31 20:00:00</th>\n      <td>15.555</td>\n      <td>0.590</td>\n      <td>0.0</td>\n      <td>1018.3395</td>\n      <td>23.890</td>\n      <td>283.148778</td>\n      <td>0.0</td>\n      <td>9.420711</td>\n    </tr>\n    <tr>\n      <th>2021-12-31 21:00:00</th>\n      <td>16.110</td>\n      <td>0.630</td>\n      <td>0.0</td>\n      <td>1018.8474</td>\n      <td>23.335</td>\n      <td>270.000000</td>\n      <td>0.0</td>\n      <td>2.400000</td>\n    </tr>\n    <tr>\n      <th>2021-12-31 22:00:00</th>\n      <td>16.110</td>\n      <td>0.650</td>\n      <td>0.0</td>\n      <td>1018.8474</td>\n      <td>22.780</td>\n      <td>270.000000</td>\n      <td>0.0</td>\n      <td>2.400000</td>\n    </tr>\n    <tr>\n      <th>2021-12-31 23:00:00</th>\n      <td>16.110</td>\n      <td>0.690</td>\n      <td>0.0</td>\n      <td>1018.8474</td>\n      <td>22.220</td>\n      <td>292.500000</td>\n      <td>0.0</td>\n      <td>2.400000</td>\n    </tr>\n  </tbody>\n</table>\n<p>26304 rows × 8 columns</p>\n</div>"
     },
     "execution_count": 197,
     "metadata": {},
     "output_type": "execute_result"
    }
   ],
   "source": [
    "meteo_data_dhaka"
   ],
   "metadata": {
    "collapsed": false,
    "pycharm": {
     "name": "#%%\n"
    }
   }
  },
  {
   "cell_type": "code",
   "execution_count": 198,
   "outputs": [
    {
     "data": {
      "text/plain": "Dew Point        NaN\nDhaka            NaN\nHumidity         NaN\nPrecip.          NaN\nPressure         NaN\nTemperature      NaN\nWind Direction   NaN\nWind Gust        NaN\nWind Speed       NaN\ndtype: float64"
     },
     "execution_count": 198,
     "metadata": {},
     "output_type": "execute_result"
    }
   ],
   "source": [
    "pm_data_dhaka.to_frame().corrwith(meteo_data_dhaka)"
   ],
   "metadata": {
    "collapsed": false,
    "pycharm": {
     "name": "#%%\n"
    }
   }
  },
  {
   "cell_type": "code",
   "execution_count": 30,
   "outputs": [],
   "source": [
    "import numpy as np"
   ],
   "metadata": {
    "collapsed": false,
    "pycharm": {
     "name": "#%%\n"
    }
   }
  },
  {
   "cell_type": "code",
   "execution_count": 199,
   "outputs": [
    {
     "data": {
      "text/plain": "Index(['Dew Point', 'Humidity', 'Precip.', 'Pressure', 'Temperature',\n       'Wind Direction', 'Wind Gust', 'Wind Speed'],\n      dtype='object', name='factor')"
     },
     "execution_count": 199,
     "metadata": {},
     "output_type": "execute_result"
    }
   ],
   "source": [
    "meteo_data_dhaka.columns"
   ],
   "metadata": {
    "collapsed": false,
    "pycharm": {
     "name": "#%%\n"
    }
   }
  },
  {
   "cell_type": "code",
   "execution_count": 210,
   "outputs": [],
   "source": [
    "factors = pd.Series(['Temperature', 'Humidity', 'Pressure', 'Wind Speed', ])"
   ],
   "metadata": {
    "collapsed": false,
    "pycharm": {
     "name": "#%%\n"
    }
   }
  },
  {
   "cell_type": "code",
   "execution_count": 211,
   "outputs": [
    {
     "name": "stdout",
     "output_type": "stream",
     "text": [
      "Temperature\n",
      "0 -0.8000782681445361 4.940714592813279e-245\n",
      "1 -0.7998019742708531 9.672885339011665e-245\n",
      "2 -0.7983931960984615 2.925029754470531e-243\n",
      "3 -0.7925193945639826 3.269770589362055e-237\n",
      "4 -0.7888273345021608 1.6476311762283505e-233\n",
      "5 -0.778751103196161 8.987746433981371e-224\n",
      "6 -0.7685558037195241 1.9768414623257046e-214\n",
      "7 -0.7602589704256433 3.5525297723247394e-207\n",
      "8 -0.751294020506294 1.158754854023569e-199\n",
      "9 -0.7435450930535759 2.0122446179834387e-193\n",
      "10 -0.7369807580093987 2.6036753608667375e-188\n",
      "11 -0.7330470449214048 2.546368366913294e-185\n",
      "Humidity\n",
      "0 -0.28725045094543 2.8971686780066604e-22\n",
      "1 -0.2790308015446165 4.747410656750079e-21\n",
      "2 -0.2573244003744231 4.912100631837071e-18\n",
      "3 -0.2359158266256386 2.507592610425504e-15\n",
      "4 -0.23574460948911546 2.629522298510006e-15\n",
      "5 -0.23315007699420204 5.374648398451901e-15\n",
      "6 -0.23337381133943194 5.055031606332087e-15\n",
      "7 -0.23885275614763662 1.1041320223506821e-15\n",
      "8 -0.24671349785991703 1.1636219343430263e-16\n",
      "9 -0.25147574611292733 2.863124604900753e-17\n",
      "10 -0.2501626123641035 4.2270952811226016e-17\n",
      "11 -0.24705037324071227 1.0547663950538549e-16\n",
      "Pressure\n",
      "0 0.7723903060269015 6.911048310936328e-218\n",
      "1 0.10151534429469403 0.0007637218453113006\n",
      "2 0.03983159770515327 0.1876112248422794\n",
      "3 0.0010139300336137243 0.9732529301191108\n",
      "4 -0.046536056283432894 0.12363501801694847\n",
      "5 -0.0680818207946488 0.024199128463291402\n",
      "6 -0.08318418628619832 0.00585987615267561\n",
      "7 -0.09835039103387225 0.001113460159676344\n",
      "8 -0.10860435441450492 0.0003157783787649403\n",
      "9 -0.11855879222618614 8.340499192884443e-05\n",
      "10 -0.13143868948661577 1.2690135694960289e-05\n",
      "11 -0.1474232806678807 9.49546759976373e-07\n",
      "Wind Speed\n",
      "0 -0.5984268404047753 1.9223570151882378e-107\n",
      "1 -0.5575023732430504 1.6106707200676362e-90\n",
      "2 -0.5092404115302761 2.2928391424961136e-73\n",
      "3 -0.48969214027297714 3.624152667919899e-67\n",
      "4 -0.48637190740293124 3.7385833912921054e-66\n",
      "5 -0.5002410647639093 1.8369519388690677e-70\n",
      "6 -0.5116279977054694 3.761035458984332e-74\n",
      "7 -0.5235696466509887 3.5783547567628427e-78\n",
      "8 -0.5215455436874817 1.7646854609994183e-77\n",
      "9 -0.5239446267712762 2.6594261377871978e-78\n",
      "10 -0.526901872271057 2.526891942138333e-79\n",
      "11 -0.5336012081449323 1.1197944188290958e-81\n"
     ]
    }
   ],
   "source": [
    "from scipy.stats import pearsonr\n",
    "\n",
    "lag_range = range(12)\n",
    "factor_lag_corr = []\n",
    "# for factor in factors[4:5]:\n",
    "for factor in factors[:]:\n",
    "    print(factor)\n",
    "    lag_corr = []\n",
    "    for lag in lag_range:\n",
    "        # print(factor,lag)\n",
    "        meteo_data_dhaka_factor_lag = meteo_data_dhaka[factor].shift(lag)\n",
    "        # print(meteo_data_dhaka_factor_lag)\n",
    "        # corr = pm_data_dhaka.corr(meteo_data_dhaka_factor_lag)\n",
    "        corr, p_value = pearsonr(pm_data_dhaka.fillna(0), meteo_data_dhaka_factor_lag.fillna(0))\n",
    "\n",
    "        # corr, p_value = pearsonr(pm_data_dhaka.fillna(0)['2021'], meteo_data_dhaka_factor_lag.fillna(0)['2021'])\n",
    "        # corr, p_value = pearsonr(pm_data_dhaka.fillna(0)['2021-01'], meteo_data_dhaka_factor_lag.fillna(0)['2021-01'])\n",
    "        print(lag,corr,p_value)\n",
    "        lag_corr.append(corr)\n",
    "    factor_lag_corr.append(lag_corr)"
   ],
   "metadata": {
    "collapsed": false,
    "pycharm": {
     "name": "#%%\n"
    }
   }
  },
  {
   "cell_type": "markdown",
   "source": [],
   "metadata": {
    "collapsed": false
   }
  },
  {
   "cell_type": "code",
   "execution_count": 218,
   "outputs": [
    {
     "data": {
      "text/plain": "    Temperature  Humidity  Pressure  Wind Speed\n0     -0.800078 -0.287250  0.772390   -0.598427\n1     -0.799802 -0.279031  0.101515   -0.557502\n2     -0.798393 -0.257324  0.039832   -0.509240\n3     -0.792519 -0.235916  0.001014   -0.489692\n4     -0.788827 -0.235745 -0.046536   -0.486372\n5     -0.778751 -0.233150 -0.068082   -0.500241\n6     -0.768556 -0.233374 -0.083184   -0.511628\n7     -0.760259 -0.238853 -0.098350   -0.523570\n8     -0.751294 -0.246713 -0.108604   -0.521546\n9     -0.743545 -0.251476 -0.118559   -0.523945\n10    -0.736981 -0.250163 -0.131439   -0.526902\n11    -0.733047 -0.247050 -0.147423   -0.533601",
      "text/html": "<div>\n<style scoped>\n    .dataframe tbody tr th:only-of-type {\n        vertical-align: middle;\n    }\n\n    .dataframe tbody tr th {\n        vertical-align: top;\n    }\n\n    .dataframe thead th {\n        text-align: right;\n    }\n</style>\n<table border=\"1\" class=\"dataframe\">\n  <thead>\n    <tr style=\"text-align: right;\">\n      <th></th>\n      <th>Temperature</th>\n      <th>Humidity</th>\n      <th>Pressure</th>\n      <th>Wind Speed</th>\n    </tr>\n  </thead>\n  <tbody>\n    <tr>\n      <th>0</th>\n      <td>-0.800078</td>\n      <td>-0.287250</td>\n      <td>0.772390</td>\n      <td>-0.598427</td>\n    </tr>\n    <tr>\n      <th>1</th>\n      <td>-0.799802</td>\n      <td>-0.279031</td>\n      <td>0.101515</td>\n      <td>-0.557502</td>\n    </tr>\n    <tr>\n      <th>2</th>\n      <td>-0.798393</td>\n      <td>-0.257324</td>\n      <td>0.039832</td>\n      <td>-0.509240</td>\n    </tr>\n    <tr>\n      <th>3</th>\n      <td>-0.792519</td>\n      <td>-0.235916</td>\n      <td>0.001014</td>\n      <td>-0.489692</td>\n    </tr>\n    <tr>\n      <th>4</th>\n      <td>-0.788827</td>\n      <td>-0.235745</td>\n      <td>-0.046536</td>\n      <td>-0.486372</td>\n    </tr>\n    <tr>\n      <th>5</th>\n      <td>-0.778751</td>\n      <td>-0.233150</td>\n      <td>-0.068082</td>\n      <td>-0.500241</td>\n    </tr>\n    <tr>\n      <th>6</th>\n      <td>-0.768556</td>\n      <td>-0.233374</td>\n      <td>-0.083184</td>\n      <td>-0.511628</td>\n    </tr>\n    <tr>\n      <th>7</th>\n      <td>-0.760259</td>\n      <td>-0.238853</td>\n      <td>-0.098350</td>\n      <td>-0.523570</td>\n    </tr>\n    <tr>\n      <th>8</th>\n      <td>-0.751294</td>\n      <td>-0.246713</td>\n      <td>-0.108604</td>\n      <td>-0.521546</td>\n    </tr>\n    <tr>\n      <th>9</th>\n      <td>-0.743545</td>\n      <td>-0.251476</td>\n      <td>-0.118559</td>\n      <td>-0.523945</td>\n    </tr>\n    <tr>\n      <th>10</th>\n      <td>-0.736981</td>\n      <td>-0.250163</td>\n      <td>-0.131439</td>\n      <td>-0.526902</td>\n    </tr>\n    <tr>\n      <th>11</th>\n      <td>-0.733047</td>\n      <td>-0.247050</td>\n      <td>-0.147423</td>\n      <td>-0.533601</td>\n    </tr>\n  </tbody>\n</table>\n</div>"
     },
     "execution_count": 218,
     "metadata": {},
     "output_type": "execute_result"
    }
   ],
   "source": [
    "factor_lag_corr_df = pd.DataFrame(factor_lag_corr,columns=lag_range,index=factors).T\n",
    "factor_lag_corr_df"
   ],
   "metadata": {
    "collapsed": false,
    "pycharm": {
     "name": "#%%\n"
    }
   }
  },
  {
   "cell_type": "code",
   "execution_count": 213,
   "outputs": [
    {
     "data": {
      "text/plain": "Temperature    0\nHumidity       0\nPressure       0\nWind Speed     0\ndtype: int64"
     },
     "execution_count": 213,
     "metadata": {},
     "output_type": "execute_result"
    }
   ],
   "source": [
    "factor_lag_corr_df.abs().idxmax()"
   ],
   "metadata": {
    "collapsed": false,
    "pycharm": {
     "name": "#%%\n"
    }
   }
  },
  {
   "cell_type": "code",
   "execution_count": 214,
   "outputs": [
    {
     "data": {
      "application/vnd.plotly.v1+json": {
       "config": {
        "plotlyServerURL": "https://plot.ly"
       },
       "data": [
        {
         "hovertemplate": "variable=Temperature<br>index=%{x}<br>value=%{y}<extra></extra>",
         "legendgroup": "Temperature",
         "line": {
          "color": "#636efa",
          "dash": "solid"
         },
         "mode": "lines",
         "name": "Temperature",
         "orientation": "v",
         "showlegend": true,
         "type": "scatter",
         "x": [
          0,
          1,
          2,
          3,
          4,
          5,
          6,
          7,
          8,
          9,
          10,
          11
         ],
         "xaxis": "x",
         "y": [
          -0.8000782681445361,
          -0.7998019742708531,
          -0.7983931960984615,
          -0.7925193945639826,
          -0.7888273345021608,
          -0.778751103196161,
          -0.7685558037195241,
          -0.7602589704256433,
          -0.751294020506294,
          -0.7435450930535759,
          -0.7369807580093987,
          -0.7330470449214048
         ],
         "yaxis": "y"
        },
        {
         "hovertemplate": "variable=Humidity<br>index=%{x}<br>value=%{y}<extra></extra>",
         "legendgroup": "Humidity",
         "line": {
          "color": "#EF553B",
          "dash": "solid"
         },
         "mode": "lines",
         "name": "Humidity",
         "orientation": "v",
         "showlegend": true,
         "type": "scatter",
         "x": [
          0,
          1,
          2,
          3,
          4,
          5,
          6,
          7,
          8,
          9,
          10,
          11
         ],
         "xaxis": "x",
         "y": [
          -0.28725045094543,
          -0.2790308015446165,
          -0.2573244003744231,
          -0.2359158266256386,
          -0.23574460948911546,
          -0.23315007699420204,
          -0.23337381133943194,
          -0.23885275614763662,
          -0.24671349785991703,
          -0.25147574611292733,
          -0.2501626123641035,
          -0.24705037324071227
         ],
         "yaxis": "y"
        },
        {
         "hovertemplate": "variable=Pressure<br>index=%{x}<br>value=%{y}<extra></extra>",
         "legendgroup": "Pressure",
         "line": {
          "color": "#00cc96",
          "dash": "solid"
         },
         "mode": "lines",
         "name": "Pressure",
         "orientation": "v",
         "showlegend": true,
         "type": "scatter",
         "x": [
          0,
          1,
          2,
          3,
          4,
          5,
          6,
          7,
          8,
          9,
          10,
          11
         ],
         "xaxis": "x",
         "y": [
          0.7723903060269015,
          0.10151534429469403,
          0.03983159770515327,
          0.0010139300336137243,
          -0.046536056283432894,
          -0.0680818207946488,
          -0.08318418628619832,
          -0.09835039103387225,
          -0.10860435441450492,
          -0.11855879222618614,
          -0.13143868948661577,
          -0.1474232806678807
         ],
         "yaxis": "y"
        },
        {
         "hovertemplate": "variable=Wind Speed<br>index=%{x}<br>value=%{y}<extra></extra>",
         "legendgroup": "Wind Speed",
         "line": {
          "color": "#ab63fa",
          "dash": "solid"
         },
         "mode": "lines",
         "name": "Wind Speed",
         "orientation": "v",
         "showlegend": true,
         "type": "scatter",
         "x": [
          0,
          1,
          2,
          3,
          4,
          5,
          6,
          7,
          8,
          9,
          10,
          11
         ],
         "xaxis": "x",
         "y": [
          -0.5984268404047753,
          -0.5575023732430504,
          -0.5092404115302761,
          -0.48969214027297714,
          -0.48637190740293124,
          -0.5002410647639093,
          -0.5116279977054694,
          -0.5235696466509887,
          -0.5215455436874817,
          -0.5239446267712762,
          -0.526901872271057,
          -0.5336012081449323
         ],
         "yaxis": "y"
        }
       ],
       "layout": {
        "legend": {
         "title": {
          "text": "variable"
         },
         "tracegroupgap": 0
        },
        "margin": {
         "t": 60
        },
        "template": {
         "data": {
          "bar": [
           {
            "error_x": {
             "color": "#2a3f5f"
            },
            "error_y": {
             "color": "#2a3f5f"
            },
            "marker": {
             "line": {
              "color": "#E5ECF6",
              "width": 0.5
             }
            },
            "type": "bar"
           }
          ],
          "barpolar": [
           {
            "marker": {
             "line": {
              "color": "#E5ECF6",
              "width": 0.5
             }
            },
            "type": "barpolar"
           }
          ],
          "carpet": [
           {
            "aaxis": {
             "endlinecolor": "#2a3f5f",
             "gridcolor": "white",
             "linecolor": "white",
             "minorgridcolor": "white",
             "startlinecolor": "#2a3f5f"
            },
            "baxis": {
             "endlinecolor": "#2a3f5f",
             "gridcolor": "white",
             "linecolor": "white",
             "minorgridcolor": "white",
             "startlinecolor": "#2a3f5f"
            },
            "type": "carpet"
           }
          ],
          "choropleth": [
           {
            "colorbar": {
             "outlinewidth": 0,
             "ticks": ""
            },
            "type": "choropleth"
           }
          ],
          "contour": [
           {
            "colorbar": {
             "outlinewidth": 0,
             "ticks": ""
            },
            "colorscale": [
             [
              0.0,
              "#0d0887"
             ],
             [
              0.1111111111111111,
              "#46039f"
             ],
             [
              0.2222222222222222,
              "#7201a8"
             ],
             [
              0.3333333333333333,
              "#9c179e"
             ],
             [
              0.4444444444444444,
              "#bd3786"
             ],
             [
              0.5555555555555556,
              "#d8576b"
             ],
             [
              0.6666666666666666,
              "#ed7953"
             ],
             [
              0.7777777777777778,
              "#fb9f3a"
             ],
             [
              0.8888888888888888,
              "#fdca26"
             ],
             [
              1.0,
              "#f0f921"
             ]
            ],
            "type": "contour"
           }
          ],
          "contourcarpet": [
           {
            "colorbar": {
             "outlinewidth": 0,
             "ticks": ""
            },
            "type": "contourcarpet"
           }
          ],
          "heatmap": [
           {
            "colorbar": {
             "outlinewidth": 0,
             "ticks": ""
            },
            "colorscale": [
             [
              0.0,
              "#0d0887"
             ],
             [
              0.1111111111111111,
              "#46039f"
             ],
             [
              0.2222222222222222,
              "#7201a8"
             ],
             [
              0.3333333333333333,
              "#9c179e"
             ],
             [
              0.4444444444444444,
              "#bd3786"
             ],
             [
              0.5555555555555556,
              "#d8576b"
             ],
             [
              0.6666666666666666,
              "#ed7953"
             ],
             [
              0.7777777777777778,
              "#fb9f3a"
             ],
             [
              0.8888888888888888,
              "#fdca26"
             ],
             [
              1.0,
              "#f0f921"
             ]
            ],
            "type": "heatmap"
           }
          ],
          "heatmapgl": [
           {
            "colorbar": {
             "outlinewidth": 0,
             "ticks": ""
            },
            "colorscale": [
             [
              0.0,
              "#0d0887"
             ],
             [
              0.1111111111111111,
              "#46039f"
             ],
             [
              0.2222222222222222,
              "#7201a8"
             ],
             [
              0.3333333333333333,
              "#9c179e"
             ],
             [
              0.4444444444444444,
              "#bd3786"
             ],
             [
              0.5555555555555556,
              "#d8576b"
             ],
             [
              0.6666666666666666,
              "#ed7953"
             ],
             [
              0.7777777777777778,
              "#fb9f3a"
             ],
             [
              0.8888888888888888,
              "#fdca26"
             ],
             [
              1.0,
              "#f0f921"
             ]
            ],
            "type": "heatmapgl"
           }
          ],
          "histogram": [
           {
            "marker": {
             "colorbar": {
              "outlinewidth": 0,
              "ticks": ""
             }
            },
            "type": "histogram"
           }
          ],
          "histogram2d": [
           {
            "colorbar": {
             "outlinewidth": 0,
             "ticks": ""
            },
            "colorscale": [
             [
              0.0,
              "#0d0887"
             ],
             [
              0.1111111111111111,
              "#46039f"
             ],
             [
              0.2222222222222222,
              "#7201a8"
             ],
             [
              0.3333333333333333,
              "#9c179e"
             ],
             [
              0.4444444444444444,
              "#bd3786"
             ],
             [
              0.5555555555555556,
              "#d8576b"
             ],
             [
              0.6666666666666666,
              "#ed7953"
             ],
             [
              0.7777777777777778,
              "#fb9f3a"
             ],
             [
              0.8888888888888888,
              "#fdca26"
             ],
             [
              1.0,
              "#f0f921"
             ]
            ],
            "type": "histogram2d"
           }
          ],
          "histogram2dcontour": [
           {
            "colorbar": {
             "outlinewidth": 0,
             "ticks": ""
            },
            "colorscale": [
             [
              0.0,
              "#0d0887"
             ],
             [
              0.1111111111111111,
              "#46039f"
             ],
             [
              0.2222222222222222,
              "#7201a8"
             ],
             [
              0.3333333333333333,
              "#9c179e"
             ],
             [
              0.4444444444444444,
              "#bd3786"
             ],
             [
              0.5555555555555556,
              "#d8576b"
             ],
             [
              0.6666666666666666,
              "#ed7953"
             ],
             [
              0.7777777777777778,
              "#fb9f3a"
             ],
             [
              0.8888888888888888,
              "#fdca26"
             ],
             [
              1.0,
              "#f0f921"
             ]
            ],
            "type": "histogram2dcontour"
           }
          ],
          "mesh3d": [
           {
            "colorbar": {
             "outlinewidth": 0,
             "ticks": ""
            },
            "type": "mesh3d"
           }
          ],
          "parcoords": [
           {
            "line": {
             "colorbar": {
              "outlinewidth": 0,
              "ticks": ""
             }
            },
            "type": "parcoords"
           }
          ],
          "pie": [
           {
            "automargin": true,
            "type": "pie"
           }
          ],
          "scatter": [
           {
            "marker": {
             "colorbar": {
              "outlinewidth": 0,
              "ticks": ""
             }
            },
            "type": "scatter"
           }
          ],
          "scatter3d": [
           {
            "line": {
             "colorbar": {
              "outlinewidth": 0,
              "ticks": ""
             }
            },
            "marker": {
             "colorbar": {
              "outlinewidth": 0,
              "ticks": ""
             }
            },
            "type": "scatter3d"
           }
          ],
          "scattercarpet": [
           {
            "marker": {
             "colorbar": {
              "outlinewidth": 0,
              "ticks": ""
             }
            },
            "type": "scattercarpet"
           }
          ],
          "scattergeo": [
           {
            "marker": {
             "colorbar": {
              "outlinewidth": 0,
              "ticks": ""
             }
            },
            "type": "scattergeo"
           }
          ],
          "scattergl": [
           {
            "marker": {
             "colorbar": {
              "outlinewidth": 0,
              "ticks": ""
             }
            },
            "type": "scattergl"
           }
          ],
          "scattermapbox": [
           {
            "marker": {
             "colorbar": {
              "outlinewidth": 0,
              "ticks": ""
             }
            },
            "type": "scattermapbox"
           }
          ],
          "scatterpolar": [
           {
            "marker": {
             "colorbar": {
              "outlinewidth": 0,
              "ticks": ""
             }
            },
            "type": "scatterpolar"
           }
          ],
          "scatterpolargl": [
           {
            "marker": {
             "colorbar": {
              "outlinewidth": 0,
              "ticks": ""
             }
            },
            "type": "scatterpolargl"
           }
          ],
          "scatterternary": [
           {
            "marker": {
             "colorbar": {
              "outlinewidth": 0,
              "ticks": ""
             }
            },
            "type": "scatterternary"
           }
          ],
          "surface": [
           {
            "colorbar": {
             "outlinewidth": 0,
             "ticks": ""
            },
            "colorscale": [
             [
              0.0,
              "#0d0887"
             ],
             [
              0.1111111111111111,
              "#46039f"
             ],
             [
              0.2222222222222222,
              "#7201a8"
             ],
             [
              0.3333333333333333,
              "#9c179e"
             ],
             [
              0.4444444444444444,
              "#bd3786"
             ],
             [
              0.5555555555555556,
              "#d8576b"
             ],
             [
              0.6666666666666666,
              "#ed7953"
             ],
             [
              0.7777777777777778,
              "#fb9f3a"
             ],
             [
              0.8888888888888888,
              "#fdca26"
             ],
             [
              1.0,
              "#f0f921"
             ]
            ],
            "type": "surface"
           }
          ],
          "table": [
           {
            "cells": {
             "fill": {
              "color": "#EBF0F8"
             },
             "line": {
              "color": "white"
             }
            },
            "header": {
             "fill": {
              "color": "#C8D4E3"
             },
             "line": {
              "color": "white"
             }
            },
            "type": "table"
           }
          ]
         },
         "layout": {
          "annotationdefaults": {
           "arrowcolor": "#2a3f5f",
           "arrowhead": 0,
           "arrowwidth": 1
          },
          "coloraxis": {
           "colorbar": {
            "outlinewidth": 0,
            "ticks": ""
           }
          },
          "colorscale": {
           "diverging": [
            [
             0,
             "#8e0152"
            ],
            [
             0.1,
             "#c51b7d"
            ],
            [
             0.2,
             "#de77ae"
            ],
            [
             0.3,
             "#f1b6da"
            ],
            [
             0.4,
             "#fde0ef"
            ],
            [
             0.5,
             "#f7f7f7"
            ],
            [
             0.6,
             "#e6f5d0"
            ],
            [
             0.7,
             "#b8e186"
            ],
            [
             0.8,
             "#7fbc41"
            ],
            [
             0.9,
             "#4d9221"
            ],
            [
             1,
             "#276419"
            ]
           ],
           "sequential": [
            [
             0.0,
             "#0d0887"
            ],
            [
             0.1111111111111111,
             "#46039f"
            ],
            [
             0.2222222222222222,
             "#7201a8"
            ],
            [
             0.3333333333333333,
             "#9c179e"
            ],
            [
             0.4444444444444444,
             "#bd3786"
            ],
            [
             0.5555555555555556,
             "#d8576b"
            ],
            [
             0.6666666666666666,
             "#ed7953"
            ],
            [
             0.7777777777777778,
             "#fb9f3a"
            ],
            [
             0.8888888888888888,
             "#fdca26"
            ],
            [
             1.0,
             "#f0f921"
            ]
           ],
           "sequentialminus": [
            [
             0.0,
             "#0d0887"
            ],
            [
             0.1111111111111111,
             "#46039f"
            ],
            [
             0.2222222222222222,
             "#7201a8"
            ],
            [
             0.3333333333333333,
             "#9c179e"
            ],
            [
             0.4444444444444444,
             "#bd3786"
            ],
            [
             0.5555555555555556,
             "#d8576b"
            ],
            [
             0.6666666666666666,
             "#ed7953"
            ],
            [
             0.7777777777777778,
             "#fb9f3a"
            ],
            [
             0.8888888888888888,
             "#fdca26"
            ],
            [
             1.0,
             "#f0f921"
            ]
           ]
          },
          "colorway": [
           "#636efa",
           "#EF553B",
           "#00cc96",
           "#ab63fa",
           "#FFA15A",
           "#19d3f3",
           "#FF6692",
           "#B6E880",
           "#FF97FF",
           "#FECB52"
          ],
          "font": {
           "color": "#2a3f5f"
          },
          "geo": {
           "bgcolor": "white",
           "lakecolor": "white",
           "landcolor": "#E5ECF6",
           "showlakes": true,
           "showland": true,
           "subunitcolor": "white"
          },
          "hoverlabel": {
           "align": "left"
          },
          "hovermode": "closest",
          "mapbox": {
           "style": "light"
          },
          "paper_bgcolor": "white",
          "plot_bgcolor": "#E5ECF6",
          "polar": {
           "angularaxis": {
            "gridcolor": "white",
            "linecolor": "white",
            "ticks": ""
           },
           "bgcolor": "#E5ECF6",
           "radialaxis": {
            "gridcolor": "white",
            "linecolor": "white",
            "ticks": ""
           }
          },
          "scene": {
           "xaxis": {
            "backgroundcolor": "#E5ECF6",
            "gridcolor": "white",
            "gridwidth": 2,
            "linecolor": "white",
            "showbackground": true,
            "ticks": "",
            "zerolinecolor": "white"
           },
           "yaxis": {
            "backgroundcolor": "#E5ECF6",
            "gridcolor": "white",
            "gridwidth": 2,
            "linecolor": "white",
            "showbackground": true,
            "ticks": "",
            "zerolinecolor": "white"
           },
           "zaxis": {
            "backgroundcolor": "#E5ECF6",
            "gridcolor": "white",
            "gridwidth": 2,
            "linecolor": "white",
            "showbackground": true,
            "ticks": "",
            "zerolinecolor": "white"
           }
          },
          "shapedefaults": {
           "line": {
            "color": "#2a3f5f"
           }
          },
          "ternary": {
           "aaxis": {
            "gridcolor": "white",
            "linecolor": "white",
            "ticks": ""
           },
           "baxis": {
            "gridcolor": "white",
            "linecolor": "white",
            "ticks": ""
           },
           "bgcolor": "#E5ECF6",
           "caxis": {
            "gridcolor": "white",
            "linecolor": "white",
            "ticks": ""
           }
          },
          "title": {
           "x": 0.05
          },
          "xaxis": {
           "automargin": true,
           "gridcolor": "white",
           "linecolor": "white",
           "ticks": "",
           "title": {
            "standoff": 15
           },
           "zerolinecolor": "white",
           "zerolinewidth": 2
          },
          "yaxis": {
           "automargin": true,
           "gridcolor": "white",
           "linecolor": "white",
           "ticks": "",
           "title": {
            "standoff": 15
           },
           "zerolinecolor": "white",
           "zerolinewidth": 2
          }
         }
        },
        "xaxis": {
         "anchor": "y",
         "domain": [
          0.0,
          1.0
         ],
         "title": {
          "text": "index"
         }
        },
        "yaxis": {
         "anchor": "x",
         "domain": [
          0.0,
          1.0
         ],
         "title": {
          "text": "value"
         }
        }
       }
      },
      "text/html": "<div>\n        \n        \n            <div id=\"e3c9b502-8f12-4f94-a36f-f5144f3e1852\" class=\"plotly-graph-div\" style=\"height:525px; width:100%;\"></div>\n            <script type=\"text/javascript\">\n                require([\"plotly\"], function(Plotly) {\n                    window.PLOTLYENV=window.PLOTLYENV || {};\n                    \n                if (document.getElementById(\"e3c9b502-8f12-4f94-a36f-f5144f3e1852\")) {\n                    Plotly.newPlot(\n                        'e3c9b502-8f12-4f94-a36f-f5144f3e1852',\n                        [{\"hovertemplate\": \"variable=Temperature<br>index=%{x}<br>value=%{y}<extra></extra>\", \"legendgroup\": \"Temperature\", \"line\": {\"color\": \"#636efa\", \"dash\": \"solid\"}, \"mode\": \"lines\", \"name\": \"Temperature\", \"orientation\": \"v\", \"showlegend\": true, \"type\": \"scatter\", \"x\": [0, 1, 2, 3, 4, 5, 6, 7, 8, 9, 10, 11], \"xaxis\": \"x\", \"y\": [-0.8000782681445361, -0.7998019742708531, -0.7983931960984615, -0.7925193945639826, -0.7888273345021608, -0.778751103196161, -0.7685558037195241, -0.7602589704256433, -0.751294020506294, -0.7435450930535759, -0.7369807580093987, -0.7330470449214048], \"yaxis\": \"y\"}, {\"hovertemplate\": \"variable=Humidity<br>index=%{x}<br>value=%{y}<extra></extra>\", \"legendgroup\": \"Humidity\", \"line\": {\"color\": \"#EF553B\", \"dash\": \"solid\"}, \"mode\": \"lines\", \"name\": \"Humidity\", \"orientation\": \"v\", \"showlegend\": true, \"type\": \"scatter\", \"x\": [0, 1, 2, 3, 4, 5, 6, 7, 8, 9, 10, 11], \"xaxis\": \"x\", \"y\": [-0.28725045094543, -0.2790308015446165, -0.2573244003744231, -0.2359158266256386, -0.23574460948911546, -0.23315007699420204, -0.23337381133943194, -0.23885275614763662, -0.24671349785991703, -0.25147574611292733, -0.2501626123641035, -0.24705037324071227], \"yaxis\": \"y\"}, {\"hovertemplate\": \"variable=Pressure<br>index=%{x}<br>value=%{y}<extra></extra>\", \"legendgroup\": \"Pressure\", \"line\": {\"color\": \"#00cc96\", \"dash\": \"solid\"}, \"mode\": \"lines\", \"name\": \"Pressure\", \"orientation\": \"v\", \"showlegend\": true, \"type\": \"scatter\", \"x\": [0, 1, 2, 3, 4, 5, 6, 7, 8, 9, 10, 11], \"xaxis\": \"x\", \"y\": [0.7723903060269015, 0.10151534429469403, 0.03983159770515327, 0.0010139300336137243, -0.046536056283432894, -0.0680818207946488, -0.08318418628619832, -0.09835039103387225, -0.10860435441450492, -0.11855879222618614, -0.13143868948661577, -0.1474232806678807], \"yaxis\": \"y\"}, {\"hovertemplate\": \"variable=Wind Speed<br>index=%{x}<br>value=%{y}<extra></extra>\", \"legendgroup\": \"Wind Speed\", \"line\": {\"color\": \"#ab63fa\", \"dash\": \"solid\"}, \"mode\": \"lines\", \"name\": \"Wind Speed\", \"orientation\": \"v\", \"showlegend\": true, \"type\": \"scatter\", \"x\": [0, 1, 2, 3, 4, 5, 6, 7, 8, 9, 10, 11], \"xaxis\": \"x\", \"y\": [-0.5984268404047753, -0.5575023732430504, -0.5092404115302761, -0.48969214027297714, -0.48637190740293124, -0.5002410647639093, -0.5116279977054694, -0.5235696466509887, -0.5215455436874817, -0.5239446267712762, -0.526901872271057, -0.5336012081449323], \"yaxis\": \"y\"}],\n                        {\"legend\": {\"title\": {\"text\": \"variable\"}, \"tracegroupgap\": 0}, \"margin\": {\"t\": 60}, \"template\": {\"data\": {\"bar\": [{\"error_x\": {\"color\": \"#2a3f5f\"}, \"error_y\": {\"color\": \"#2a3f5f\"}, \"marker\": {\"line\": {\"color\": \"#E5ECF6\", \"width\": 0.5}}, \"type\": \"bar\"}], \"barpolar\": [{\"marker\": {\"line\": {\"color\": \"#E5ECF6\", \"width\": 0.5}}, \"type\": \"barpolar\"}], \"carpet\": [{\"aaxis\": {\"endlinecolor\": \"#2a3f5f\", \"gridcolor\": \"white\", \"linecolor\": \"white\", \"minorgridcolor\": \"white\", \"startlinecolor\": \"#2a3f5f\"}, \"baxis\": {\"endlinecolor\": \"#2a3f5f\", \"gridcolor\": \"white\", \"linecolor\": \"white\", \"minorgridcolor\": \"white\", \"startlinecolor\": \"#2a3f5f\"}, \"type\": \"carpet\"}], \"choropleth\": [{\"colorbar\": {\"outlinewidth\": 0, \"ticks\": \"\"}, \"type\": \"choropleth\"}], \"contour\": [{\"colorbar\": {\"outlinewidth\": 0, \"ticks\": \"\"}, \"colorscale\": [[0.0, \"#0d0887\"], [0.1111111111111111, \"#46039f\"], [0.2222222222222222, \"#7201a8\"], [0.3333333333333333, \"#9c179e\"], [0.4444444444444444, \"#bd3786\"], [0.5555555555555556, \"#d8576b\"], [0.6666666666666666, \"#ed7953\"], [0.7777777777777778, \"#fb9f3a\"], [0.8888888888888888, \"#fdca26\"], [1.0, \"#f0f921\"]], \"type\": \"contour\"}], \"contourcarpet\": [{\"colorbar\": {\"outlinewidth\": 0, \"ticks\": \"\"}, \"type\": \"contourcarpet\"}], \"heatmap\": [{\"colorbar\": {\"outlinewidth\": 0, \"ticks\": \"\"}, \"colorscale\": [[0.0, \"#0d0887\"], [0.1111111111111111, \"#46039f\"], [0.2222222222222222, \"#7201a8\"], [0.3333333333333333, \"#9c179e\"], [0.4444444444444444, \"#bd3786\"], [0.5555555555555556, \"#d8576b\"], [0.6666666666666666, \"#ed7953\"], [0.7777777777777778, \"#fb9f3a\"], [0.8888888888888888, \"#fdca26\"], [1.0, \"#f0f921\"]], \"type\": \"heatmap\"}], \"heatmapgl\": [{\"colorbar\": {\"outlinewidth\": 0, \"ticks\": \"\"}, \"colorscale\": [[0.0, \"#0d0887\"], [0.1111111111111111, \"#46039f\"], [0.2222222222222222, \"#7201a8\"], [0.3333333333333333, \"#9c179e\"], [0.4444444444444444, \"#bd3786\"], [0.5555555555555556, \"#d8576b\"], [0.6666666666666666, \"#ed7953\"], [0.7777777777777778, \"#fb9f3a\"], [0.8888888888888888, \"#fdca26\"], [1.0, \"#f0f921\"]], \"type\": \"heatmapgl\"}], \"histogram\": [{\"marker\": {\"colorbar\": {\"outlinewidth\": 0, \"ticks\": \"\"}}, \"type\": \"histogram\"}], \"histogram2d\": [{\"colorbar\": {\"outlinewidth\": 0, \"ticks\": \"\"}, \"colorscale\": [[0.0, \"#0d0887\"], [0.1111111111111111, \"#46039f\"], [0.2222222222222222, \"#7201a8\"], [0.3333333333333333, \"#9c179e\"], [0.4444444444444444, \"#bd3786\"], [0.5555555555555556, \"#d8576b\"], [0.6666666666666666, \"#ed7953\"], [0.7777777777777778, \"#fb9f3a\"], [0.8888888888888888, \"#fdca26\"], [1.0, \"#f0f921\"]], \"type\": \"histogram2d\"}], \"histogram2dcontour\": [{\"colorbar\": {\"outlinewidth\": 0, \"ticks\": \"\"}, \"colorscale\": [[0.0, \"#0d0887\"], [0.1111111111111111, \"#46039f\"], [0.2222222222222222, \"#7201a8\"], [0.3333333333333333, \"#9c179e\"], [0.4444444444444444, \"#bd3786\"], [0.5555555555555556, \"#d8576b\"], [0.6666666666666666, \"#ed7953\"], [0.7777777777777778, \"#fb9f3a\"], [0.8888888888888888, \"#fdca26\"], [1.0, \"#f0f921\"]], \"type\": \"histogram2dcontour\"}], \"mesh3d\": [{\"colorbar\": {\"outlinewidth\": 0, \"ticks\": \"\"}, \"type\": \"mesh3d\"}], \"parcoords\": [{\"line\": {\"colorbar\": {\"outlinewidth\": 0, \"ticks\": \"\"}}, \"type\": \"parcoords\"}], \"pie\": [{\"automargin\": true, \"type\": \"pie\"}], \"scatter\": [{\"marker\": {\"colorbar\": {\"outlinewidth\": 0, \"ticks\": \"\"}}, \"type\": \"scatter\"}], \"scatter3d\": [{\"line\": {\"colorbar\": {\"outlinewidth\": 0, \"ticks\": \"\"}}, \"marker\": {\"colorbar\": {\"outlinewidth\": 0, \"ticks\": \"\"}}, \"type\": \"scatter3d\"}], \"scattercarpet\": [{\"marker\": {\"colorbar\": {\"outlinewidth\": 0, \"ticks\": \"\"}}, \"type\": \"scattercarpet\"}], \"scattergeo\": [{\"marker\": {\"colorbar\": {\"outlinewidth\": 0, \"ticks\": \"\"}}, \"type\": \"scattergeo\"}], \"scattergl\": [{\"marker\": {\"colorbar\": {\"outlinewidth\": 0, \"ticks\": \"\"}}, \"type\": \"scattergl\"}], \"scattermapbox\": [{\"marker\": {\"colorbar\": {\"outlinewidth\": 0, \"ticks\": \"\"}}, \"type\": \"scattermapbox\"}], \"scatterpolar\": [{\"marker\": {\"colorbar\": {\"outlinewidth\": 0, \"ticks\": \"\"}}, \"type\": \"scatterpolar\"}], \"scatterpolargl\": [{\"marker\": {\"colorbar\": {\"outlinewidth\": 0, \"ticks\": \"\"}}, \"type\": \"scatterpolargl\"}], \"scatterternary\": [{\"marker\": {\"colorbar\": {\"outlinewidth\": 0, \"ticks\": \"\"}}, \"type\": \"scatterternary\"}], \"surface\": [{\"colorbar\": {\"outlinewidth\": 0, \"ticks\": \"\"}, \"colorscale\": [[0.0, \"#0d0887\"], [0.1111111111111111, \"#46039f\"], [0.2222222222222222, \"#7201a8\"], [0.3333333333333333, \"#9c179e\"], [0.4444444444444444, \"#bd3786\"], [0.5555555555555556, \"#d8576b\"], [0.6666666666666666, \"#ed7953\"], [0.7777777777777778, \"#fb9f3a\"], [0.8888888888888888, \"#fdca26\"], [1.0, \"#f0f921\"]], \"type\": \"surface\"}], \"table\": [{\"cells\": {\"fill\": {\"color\": \"#EBF0F8\"}, \"line\": {\"color\": \"white\"}}, \"header\": {\"fill\": {\"color\": \"#C8D4E3\"}, \"line\": {\"color\": \"white\"}}, \"type\": \"table\"}]}, \"layout\": {\"annotationdefaults\": {\"arrowcolor\": \"#2a3f5f\", \"arrowhead\": 0, \"arrowwidth\": 1}, \"coloraxis\": {\"colorbar\": {\"outlinewidth\": 0, \"ticks\": \"\"}}, \"colorscale\": {\"diverging\": [[0, \"#8e0152\"], [0.1, \"#c51b7d\"], [0.2, \"#de77ae\"], [0.3, \"#f1b6da\"], [0.4, \"#fde0ef\"], [0.5, \"#f7f7f7\"], [0.6, \"#e6f5d0\"], [0.7, \"#b8e186\"], [0.8, \"#7fbc41\"], [0.9, \"#4d9221\"], [1, \"#276419\"]], \"sequential\": [[0.0, \"#0d0887\"], [0.1111111111111111, \"#46039f\"], [0.2222222222222222, \"#7201a8\"], [0.3333333333333333, \"#9c179e\"], [0.4444444444444444, \"#bd3786\"], [0.5555555555555556, \"#d8576b\"], [0.6666666666666666, \"#ed7953\"], [0.7777777777777778, \"#fb9f3a\"], [0.8888888888888888, \"#fdca26\"], [1.0, \"#f0f921\"]], \"sequentialminus\": [[0.0, \"#0d0887\"], [0.1111111111111111, \"#46039f\"], [0.2222222222222222, \"#7201a8\"], [0.3333333333333333, \"#9c179e\"], [0.4444444444444444, \"#bd3786\"], [0.5555555555555556, \"#d8576b\"], [0.6666666666666666, \"#ed7953\"], [0.7777777777777778, \"#fb9f3a\"], [0.8888888888888888, \"#fdca26\"], [1.0, \"#f0f921\"]]}, \"colorway\": [\"#636efa\", \"#EF553B\", \"#00cc96\", \"#ab63fa\", \"#FFA15A\", \"#19d3f3\", \"#FF6692\", \"#B6E880\", \"#FF97FF\", \"#FECB52\"], \"font\": {\"color\": \"#2a3f5f\"}, \"geo\": {\"bgcolor\": \"white\", \"lakecolor\": \"white\", \"landcolor\": \"#E5ECF6\", \"showlakes\": true, \"showland\": true, \"subunitcolor\": \"white\"}, \"hoverlabel\": {\"align\": \"left\"}, \"hovermode\": \"closest\", \"mapbox\": {\"style\": \"light\"}, \"paper_bgcolor\": \"white\", \"plot_bgcolor\": \"#E5ECF6\", \"polar\": {\"angularaxis\": {\"gridcolor\": \"white\", \"linecolor\": \"white\", \"ticks\": \"\"}, \"bgcolor\": \"#E5ECF6\", \"radialaxis\": {\"gridcolor\": \"white\", \"linecolor\": \"white\", \"ticks\": \"\"}}, \"scene\": {\"xaxis\": {\"backgroundcolor\": \"#E5ECF6\", \"gridcolor\": \"white\", \"gridwidth\": 2, \"linecolor\": \"white\", \"showbackground\": true, \"ticks\": \"\", \"zerolinecolor\": \"white\"}, \"yaxis\": {\"backgroundcolor\": \"#E5ECF6\", \"gridcolor\": \"white\", \"gridwidth\": 2, \"linecolor\": \"white\", \"showbackground\": true, \"ticks\": \"\", \"zerolinecolor\": \"white\"}, \"zaxis\": {\"backgroundcolor\": \"#E5ECF6\", \"gridcolor\": \"white\", \"gridwidth\": 2, \"linecolor\": \"white\", \"showbackground\": true, \"ticks\": \"\", \"zerolinecolor\": \"white\"}}, \"shapedefaults\": {\"line\": {\"color\": \"#2a3f5f\"}}, \"ternary\": {\"aaxis\": {\"gridcolor\": \"white\", \"linecolor\": \"white\", \"ticks\": \"\"}, \"baxis\": {\"gridcolor\": \"white\", \"linecolor\": \"white\", \"ticks\": \"\"}, \"bgcolor\": \"#E5ECF6\", \"caxis\": {\"gridcolor\": \"white\", \"linecolor\": \"white\", \"ticks\": \"\"}}, \"title\": {\"x\": 0.05}, \"xaxis\": {\"automargin\": true, \"gridcolor\": \"white\", \"linecolor\": \"white\", \"ticks\": \"\", \"title\": {\"standoff\": 15}, \"zerolinecolor\": \"white\", \"zerolinewidth\": 2}, \"yaxis\": {\"automargin\": true, \"gridcolor\": \"white\", \"linecolor\": \"white\", \"ticks\": \"\", \"title\": {\"standoff\": 15}, \"zerolinecolor\": \"white\", \"zerolinewidth\": 2}}}, \"xaxis\": {\"anchor\": \"y\", \"domain\": [0.0, 1.0], \"title\": {\"text\": \"index\"}}, \"yaxis\": {\"anchor\": \"x\", \"domain\": [0.0, 1.0], \"title\": {\"text\": \"value\"}}},\n                        {\"responsive\": true}\n                    ).then(function(){\n                            \nvar gd = document.getElementById('e3c9b502-8f12-4f94-a36f-f5144f3e1852');\nvar x = new MutationObserver(function (mutations, observer) {{\n        var display = window.getComputedStyle(gd).display;\n        if (!display || display === 'none') {{\n            console.log([gd, 'removed!']);\n            Plotly.purge(gd);\n            observer.disconnect();\n        }}\n}});\n\n// Listen for the removal of the full notebook cells\nvar notebookContainer = gd.closest('#notebook-container');\nif (notebookContainer) {{\n    x.observe(notebookContainer, {childList: true});\n}}\n\n// Listen for the clearing of the current output cell\nvar outputEl = gd.closest('.output');\nif (outputEl) {{\n    x.observe(outputEl, {childList: true});\n}}\n\n                        })\n                };\n                });\n            </script>\n        </div>"
     },
     "metadata": {},
     "output_type": "display_data"
    }
   ],
   "source": [
    "import plotly.express as px\n",
    "fig = px.line(factor_lag_corr_df)\n",
    "fig.show()"
   ],
   "metadata": {
    "collapsed": false,
    "pycharm": {
     "name": "#%%\n"
    }
   }
  },
  {
   "cell_type": "code",
   "execution_count": 219,
   "outputs": [
    {
     "data": {
      "application/vnd.plotly.v1+json": {
       "config": {
        "plotlyServerURL": "https://plot.ly"
       },
       "data": [
        {
         "hovertext": [],
         "marker": {
          "color": [
           "#FFA500",
           "#87CEEB",
           "#2B65EC",
           "#347C2C"
          ],
          "line": {
           "color": "rgb(8,48,107)",
           "width": 1.5
          }
         },
         "opacity": 0.6,
         "type": "bar",
         "x": [
          "Temperature",
          "Humidity",
          "Pressure",
          "Wind Speed"
         ],
         "y": [
          -0.8000782681445361,
          -0.28725045094543,
          0.7723903060269015,
          -0.5984268404047753
         ]
        }
       ],
       "layout": {
        "autosize": false,
        "font": {
         "color": "#3D3C3A",
         "size": 21
        },
        "height": 500,
        "template": {
         "data": {
          "bar": [
           {
            "error_x": {
             "color": "#2a3f5f"
            },
            "error_y": {
             "color": "#2a3f5f"
            },
            "marker": {
             "line": {
              "color": "#E5ECF6",
              "width": 0.5
             }
            },
            "type": "bar"
           }
          ],
          "barpolar": [
           {
            "marker": {
             "line": {
              "color": "#E5ECF6",
              "width": 0.5
             }
            },
            "type": "barpolar"
           }
          ],
          "carpet": [
           {
            "aaxis": {
             "endlinecolor": "#2a3f5f",
             "gridcolor": "white",
             "linecolor": "white",
             "minorgridcolor": "white",
             "startlinecolor": "#2a3f5f"
            },
            "baxis": {
             "endlinecolor": "#2a3f5f",
             "gridcolor": "white",
             "linecolor": "white",
             "minorgridcolor": "white",
             "startlinecolor": "#2a3f5f"
            },
            "type": "carpet"
           }
          ],
          "choropleth": [
           {
            "colorbar": {
             "outlinewidth": 0,
             "ticks": ""
            },
            "type": "choropleth"
           }
          ],
          "contour": [
           {
            "colorbar": {
             "outlinewidth": 0,
             "ticks": ""
            },
            "colorscale": [
             [
              0.0,
              "#0d0887"
             ],
             [
              0.1111111111111111,
              "#46039f"
             ],
             [
              0.2222222222222222,
              "#7201a8"
             ],
             [
              0.3333333333333333,
              "#9c179e"
             ],
             [
              0.4444444444444444,
              "#bd3786"
             ],
             [
              0.5555555555555556,
              "#d8576b"
             ],
             [
              0.6666666666666666,
              "#ed7953"
             ],
             [
              0.7777777777777778,
              "#fb9f3a"
             ],
             [
              0.8888888888888888,
              "#fdca26"
             ],
             [
              1.0,
              "#f0f921"
             ]
            ],
            "type": "contour"
           }
          ],
          "contourcarpet": [
           {
            "colorbar": {
             "outlinewidth": 0,
             "ticks": ""
            },
            "type": "contourcarpet"
           }
          ],
          "heatmap": [
           {
            "colorbar": {
             "outlinewidth": 0,
             "ticks": ""
            },
            "colorscale": [
             [
              0.0,
              "#0d0887"
             ],
             [
              0.1111111111111111,
              "#46039f"
             ],
             [
              0.2222222222222222,
              "#7201a8"
             ],
             [
              0.3333333333333333,
              "#9c179e"
             ],
             [
              0.4444444444444444,
              "#bd3786"
             ],
             [
              0.5555555555555556,
              "#d8576b"
             ],
             [
              0.6666666666666666,
              "#ed7953"
             ],
             [
              0.7777777777777778,
              "#fb9f3a"
             ],
             [
              0.8888888888888888,
              "#fdca26"
             ],
             [
              1.0,
              "#f0f921"
             ]
            ],
            "type": "heatmap"
           }
          ],
          "heatmapgl": [
           {
            "colorbar": {
             "outlinewidth": 0,
             "ticks": ""
            },
            "colorscale": [
             [
              0.0,
              "#0d0887"
             ],
             [
              0.1111111111111111,
              "#46039f"
             ],
             [
              0.2222222222222222,
              "#7201a8"
             ],
             [
              0.3333333333333333,
              "#9c179e"
             ],
             [
              0.4444444444444444,
              "#bd3786"
             ],
             [
              0.5555555555555556,
              "#d8576b"
             ],
             [
              0.6666666666666666,
              "#ed7953"
             ],
             [
              0.7777777777777778,
              "#fb9f3a"
             ],
             [
              0.8888888888888888,
              "#fdca26"
             ],
             [
              1.0,
              "#f0f921"
             ]
            ],
            "type": "heatmapgl"
           }
          ],
          "histogram": [
           {
            "marker": {
             "colorbar": {
              "outlinewidth": 0,
              "ticks": ""
             }
            },
            "type": "histogram"
           }
          ],
          "histogram2d": [
           {
            "colorbar": {
             "outlinewidth": 0,
             "ticks": ""
            },
            "colorscale": [
             [
              0.0,
              "#0d0887"
             ],
             [
              0.1111111111111111,
              "#46039f"
             ],
             [
              0.2222222222222222,
              "#7201a8"
             ],
             [
              0.3333333333333333,
              "#9c179e"
             ],
             [
              0.4444444444444444,
              "#bd3786"
             ],
             [
              0.5555555555555556,
              "#d8576b"
             ],
             [
              0.6666666666666666,
              "#ed7953"
             ],
             [
              0.7777777777777778,
              "#fb9f3a"
             ],
             [
              0.8888888888888888,
              "#fdca26"
             ],
             [
              1.0,
              "#f0f921"
             ]
            ],
            "type": "histogram2d"
           }
          ],
          "histogram2dcontour": [
           {
            "colorbar": {
             "outlinewidth": 0,
             "ticks": ""
            },
            "colorscale": [
             [
              0.0,
              "#0d0887"
             ],
             [
              0.1111111111111111,
              "#46039f"
             ],
             [
              0.2222222222222222,
              "#7201a8"
             ],
             [
              0.3333333333333333,
              "#9c179e"
             ],
             [
              0.4444444444444444,
              "#bd3786"
             ],
             [
              0.5555555555555556,
              "#d8576b"
             ],
             [
              0.6666666666666666,
              "#ed7953"
             ],
             [
              0.7777777777777778,
              "#fb9f3a"
             ],
             [
              0.8888888888888888,
              "#fdca26"
             ],
             [
              1.0,
              "#f0f921"
             ]
            ],
            "type": "histogram2dcontour"
           }
          ],
          "mesh3d": [
           {
            "colorbar": {
             "outlinewidth": 0,
             "ticks": ""
            },
            "type": "mesh3d"
           }
          ],
          "parcoords": [
           {
            "line": {
             "colorbar": {
              "outlinewidth": 0,
              "ticks": ""
             }
            },
            "type": "parcoords"
           }
          ],
          "pie": [
           {
            "automargin": true,
            "type": "pie"
           }
          ],
          "scatter": [
           {
            "marker": {
             "colorbar": {
              "outlinewidth": 0,
              "ticks": ""
             }
            },
            "type": "scatter"
           }
          ],
          "scatter3d": [
           {
            "line": {
             "colorbar": {
              "outlinewidth": 0,
              "ticks": ""
             }
            },
            "marker": {
             "colorbar": {
              "outlinewidth": 0,
              "ticks": ""
             }
            },
            "type": "scatter3d"
           }
          ],
          "scattercarpet": [
           {
            "marker": {
             "colorbar": {
              "outlinewidth": 0,
              "ticks": ""
             }
            },
            "type": "scattercarpet"
           }
          ],
          "scattergeo": [
           {
            "marker": {
             "colorbar": {
              "outlinewidth": 0,
              "ticks": ""
             }
            },
            "type": "scattergeo"
           }
          ],
          "scattergl": [
           {
            "marker": {
             "colorbar": {
              "outlinewidth": 0,
              "ticks": ""
             }
            },
            "type": "scattergl"
           }
          ],
          "scattermapbox": [
           {
            "marker": {
             "colorbar": {
              "outlinewidth": 0,
              "ticks": ""
             }
            },
            "type": "scattermapbox"
           }
          ],
          "scatterpolar": [
           {
            "marker": {
             "colorbar": {
              "outlinewidth": 0,
              "ticks": ""
             }
            },
            "type": "scatterpolar"
           }
          ],
          "scatterpolargl": [
           {
            "marker": {
             "colorbar": {
              "outlinewidth": 0,
              "ticks": ""
             }
            },
            "type": "scatterpolargl"
           }
          ],
          "scatterternary": [
           {
            "marker": {
             "colorbar": {
              "outlinewidth": 0,
              "ticks": ""
             }
            },
            "type": "scatterternary"
           }
          ],
          "surface": [
           {
            "colorbar": {
             "outlinewidth": 0,
             "ticks": ""
            },
            "colorscale": [
             [
              0.0,
              "#0d0887"
             ],
             [
              0.1111111111111111,
              "#46039f"
             ],
             [
              0.2222222222222222,
              "#7201a8"
             ],
             [
              0.3333333333333333,
              "#9c179e"
             ],
             [
              0.4444444444444444,
              "#bd3786"
             ],
             [
              0.5555555555555556,
              "#d8576b"
             ],
             [
              0.6666666666666666,
              "#ed7953"
             ],
             [
              0.7777777777777778,
              "#fb9f3a"
             ],
             [
              0.8888888888888888,
              "#fdca26"
             ],
             [
              1.0,
              "#f0f921"
             ]
            ],
            "type": "surface"
           }
          ],
          "table": [
           {
            "cells": {
             "fill": {
              "color": "#EBF0F8"
             },
             "line": {
              "color": "white"
             }
            },
            "header": {
             "fill": {
              "color": "#C8D4E3"
             },
             "line": {
              "color": "white"
             }
            },
            "type": "table"
           }
          ]
         },
         "layout": {
          "annotationdefaults": {
           "arrowcolor": "#2a3f5f",
           "arrowhead": 0,
           "arrowwidth": 1
          },
          "coloraxis": {
           "colorbar": {
            "outlinewidth": 0,
            "ticks": ""
           }
          },
          "colorscale": {
           "diverging": [
            [
             0,
             "#8e0152"
            ],
            [
             0.1,
             "#c51b7d"
            ],
            [
             0.2,
             "#de77ae"
            ],
            [
             0.3,
             "#f1b6da"
            ],
            [
             0.4,
             "#fde0ef"
            ],
            [
             0.5,
             "#f7f7f7"
            ],
            [
             0.6,
             "#e6f5d0"
            ],
            [
             0.7,
             "#b8e186"
            ],
            [
             0.8,
             "#7fbc41"
            ],
            [
             0.9,
             "#4d9221"
            ],
            [
             1,
             "#276419"
            ]
           ],
           "sequential": [
            [
             0.0,
             "#0d0887"
            ],
            [
             0.1111111111111111,
             "#46039f"
            ],
            [
             0.2222222222222222,
             "#7201a8"
            ],
            [
             0.3333333333333333,
             "#9c179e"
            ],
            [
             0.4444444444444444,
             "#bd3786"
            ],
            [
             0.5555555555555556,
             "#d8576b"
            ],
            [
             0.6666666666666666,
             "#ed7953"
            ],
            [
             0.7777777777777778,
             "#fb9f3a"
            ],
            [
             0.8888888888888888,
             "#fdca26"
            ],
            [
             1.0,
             "#f0f921"
            ]
           ],
           "sequentialminus": [
            [
             0.0,
             "#0d0887"
            ],
            [
             0.1111111111111111,
             "#46039f"
            ],
            [
             0.2222222222222222,
             "#7201a8"
            ],
            [
             0.3333333333333333,
             "#9c179e"
            ],
            [
             0.4444444444444444,
             "#bd3786"
            ],
            [
             0.5555555555555556,
             "#d8576b"
            ],
            [
             0.6666666666666666,
             "#ed7953"
            ],
            [
             0.7777777777777778,
             "#fb9f3a"
            ],
            [
             0.8888888888888888,
             "#fdca26"
            ],
            [
             1.0,
             "#f0f921"
            ]
           ]
          },
          "colorway": [
           "#636efa",
           "#EF553B",
           "#00cc96",
           "#ab63fa",
           "#FFA15A",
           "#19d3f3",
           "#FF6692",
           "#B6E880",
           "#FF97FF",
           "#FECB52"
          ],
          "font": {
           "color": "#2a3f5f"
          },
          "geo": {
           "bgcolor": "white",
           "lakecolor": "white",
           "landcolor": "#E5ECF6",
           "showlakes": true,
           "showland": true,
           "subunitcolor": "white"
          },
          "hoverlabel": {
           "align": "left"
          },
          "hovermode": "closest",
          "mapbox": {
           "style": "light"
          },
          "paper_bgcolor": "white",
          "plot_bgcolor": "#E5ECF6",
          "polar": {
           "angularaxis": {
            "gridcolor": "white",
            "linecolor": "white",
            "ticks": ""
           },
           "bgcolor": "#E5ECF6",
           "radialaxis": {
            "gridcolor": "white",
            "linecolor": "white",
            "ticks": ""
           }
          },
          "scene": {
           "xaxis": {
            "backgroundcolor": "#E5ECF6",
            "gridcolor": "white",
            "gridwidth": 2,
            "linecolor": "white",
            "showbackground": true,
            "ticks": "",
            "zerolinecolor": "white"
           },
           "yaxis": {
            "backgroundcolor": "#E5ECF6",
            "gridcolor": "white",
            "gridwidth": 2,
            "linecolor": "white",
            "showbackground": true,
            "ticks": "",
            "zerolinecolor": "white"
           },
           "zaxis": {
            "backgroundcolor": "#E5ECF6",
            "gridcolor": "white",
            "gridwidth": 2,
            "linecolor": "white",
            "showbackground": true,
            "ticks": "",
            "zerolinecolor": "white"
           }
          },
          "shapedefaults": {
           "line": {
            "color": "#2a3f5f"
           }
          },
          "ternary": {
           "aaxis": {
            "gridcolor": "white",
            "linecolor": "white",
            "ticks": ""
           },
           "baxis": {
            "gridcolor": "white",
            "linecolor": "white",
            "ticks": ""
           },
           "bgcolor": "#E5ECF6",
           "caxis": {
            "gridcolor": "white",
            "linecolor": "white",
            "ticks": ""
           }
          },
          "title": {
           "x": 0.05
          },
          "xaxis": {
           "automargin": true,
           "gridcolor": "white",
           "linecolor": "white",
           "ticks": "",
           "title": {
            "standoff": 15
           },
           "zerolinecolor": "white",
           "zerolinewidth": 2
          },
          "yaxis": {
           "automargin": true,
           "gridcolor": "white",
           "linecolor": "white",
           "ticks": "",
           "title": {
            "standoff": 15
           },
           "zerolinecolor": "white",
           "zerolinewidth": 2
          }
         }
        },
        "width": 1000,
        "xaxis": {
         "title": {
          "text": "Factors"
         }
        },
        "yaxis": {
         "range": [
          -1,
          1
         ],
         "title": {
          "text": "Pearson R"
         }
        }
       }
      },
      "text/html": "<div>\n        \n        \n            <div id=\"3f1e0a24-a31c-43a1-8c74-4ce14b0b817b\" class=\"plotly-graph-div\" style=\"height:500px; width:1000px;\"></div>\n            <script type=\"text/javascript\">\n                require([\"plotly\"], function(Plotly) {\n                    window.PLOTLYENV=window.PLOTLYENV || {};\n                    \n                if (document.getElementById(\"3f1e0a24-a31c-43a1-8c74-4ce14b0b817b\")) {\n                    Plotly.newPlot(\n                        '3f1e0a24-a31c-43a1-8c74-4ce14b0b817b',\n                        [{\"hovertext\": [], \"marker\": {\"color\": [\"#FFA500\", \"#87CEEB\", \"#2B65EC\", \"#347C2C\"], \"line\": {\"color\": \"rgb(8,48,107)\", \"width\": 1.5}}, \"opacity\": 0.6, \"type\": \"bar\", \"x\": [\"Temperature\", \"Humidity\", \"Pressure\", \"Wind Speed\"], \"y\": [-0.8000782681445361, -0.28725045094543, 0.7723903060269015, -0.5984268404047753]}],\n                        {\"autosize\": false, \"font\": {\"color\": \"#3D3C3A\", \"size\": 21}, \"height\": 500, \"template\": {\"data\": {\"bar\": [{\"error_x\": {\"color\": \"#2a3f5f\"}, \"error_y\": {\"color\": \"#2a3f5f\"}, \"marker\": {\"line\": {\"color\": \"#E5ECF6\", \"width\": 0.5}}, \"type\": \"bar\"}], \"barpolar\": [{\"marker\": {\"line\": {\"color\": \"#E5ECF6\", \"width\": 0.5}}, \"type\": \"barpolar\"}], \"carpet\": [{\"aaxis\": {\"endlinecolor\": \"#2a3f5f\", \"gridcolor\": \"white\", \"linecolor\": \"white\", \"minorgridcolor\": \"white\", \"startlinecolor\": \"#2a3f5f\"}, \"baxis\": {\"endlinecolor\": \"#2a3f5f\", \"gridcolor\": \"white\", \"linecolor\": \"white\", \"minorgridcolor\": \"white\", \"startlinecolor\": \"#2a3f5f\"}, \"type\": \"carpet\"}], \"choropleth\": [{\"colorbar\": {\"outlinewidth\": 0, \"ticks\": \"\"}, \"type\": \"choropleth\"}], \"contour\": [{\"colorbar\": {\"outlinewidth\": 0, \"ticks\": \"\"}, \"colorscale\": [[0.0, \"#0d0887\"], [0.1111111111111111, \"#46039f\"], [0.2222222222222222, \"#7201a8\"], [0.3333333333333333, \"#9c179e\"], [0.4444444444444444, \"#bd3786\"], [0.5555555555555556, \"#d8576b\"], [0.6666666666666666, \"#ed7953\"], [0.7777777777777778, \"#fb9f3a\"], [0.8888888888888888, \"#fdca26\"], [1.0, \"#f0f921\"]], \"type\": \"contour\"}], \"contourcarpet\": [{\"colorbar\": {\"outlinewidth\": 0, \"ticks\": \"\"}, \"type\": \"contourcarpet\"}], \"heatmap\": [{\"colorbar\": {\"outlinewidth\": 0, \"ticks\": \"\"}, \"colorscale\": [[0.0, \"#0d0887\"], [0.1111111111111111, \"#46039f\"], [0.2222222222222222, \"#7201a8\"], [0.3333333333333333, \"#9c179e\"], [0.4444444444444444, \"#bd3786\"], [0.5555555555555556, \"#d8576b\"], [0.6666666666666666, \"#ed7953\"], [0.7777777777777778, \"#fb9f3a\"], [0.8888888888888888, \"#fdca26\"], [1.0, \"#f0f921\"]], \"type\": \"heatmap\"}], \"heatmapgl\": [{\"colorbar\": {\"outlinewidth\": 0, \"ticks\": \"\"}, \"colorscale\": [[0.0, \"#0d0887\"], [0.1111111111111111, \"#46039f\"], [0.2222222222222222, \"#7201a8\"], [0.3333333333333333, \"#9c179e\"], [0.4444444444444444, \"#bd3786\"], [0.5555555555555556, \"#d8576b\"], [0.6666666666666666, \"#ed7953\"], [0.7777777777777778, \"#fb9f3a\"], [0.8888888888888888, \"#fdca26\"], [1.0, \"#f0f921\"]], \"type\": \"heatmapgl\"}], \"histogram\": [{\"marker\": {\"colorbar\": {\"outlinewidth\": 0, \"ticks\": \"\"}}, \"type\": \"histogram\"}], \"histogram2d\": [{\"colorbar\": {\"outlinewidth\": 0, \"ticks\": \"\"}, \"colorscale\": [[0.0, \"#0d0887\"], [0.1111111111111111, \"#46039f\"], [0.2222222222222222, \"#7201a8\"], [0.3333333333333333, \"#9c179e\"], [0.4444444444444444, \"#bd3786\"], [0.5555555555555556, \"#d8576b\"], [0.6666666666666666, \"#ed7953\"], [0.7777777777777778, \"#fb9f3a\"], [0.8888888888888888, \"#fdca26\"], [1.0, \"#f0f921\"]], \"type\": \"histogram2d\"}], \"histogram2dcontour\": [{\"colorbar\": {\"outlinewidth\": 0, \"ticks\": \"\"}, \"colorscale\": [[0.0, \"#0d0887\"], [0.1111111111111111, \"#46039f\"], [0.2222222222222222, \"#7201a8\"], [0.3333333333333333, \"#9c179e\"], [0.4444444444444444, \"#bd3786\"], [0.5555555555555556, \"#d8576b\"], [0.6666666666666666, \"#ed7953\"], [0.7777777777777778, \"#fb9f3a\"], [0.8888888888888888, \"#fdca26\"], [1.0, \"#f0f921\"]], \"type\": \"histogram2dcontour\"}], \"mesh3d\": [{\"colorbar\": {\"outlinewidth\": 0, \"ticks\": \"\"}, \"type\": \"mesh3d\"}], \"parcoords\": [{\"line\": {\"colorbar\": {\"outlinewidth\": 0, \"ticks\": \"\"}}, \"type\": \"parcoords\"}], \"pie\": [{\"automargin\": true, \"type\": \"pie\"}], \"scatter\": [{\"marker\": {\"colorbar\": {\"outlinewidth\": 0, \"ticks\": \"\"}}, \"type\": \"scatter\"}], \"scatter3d\": [{\"line\": {\"colorbar\": {\"outlinewidth\": 0, \"ticks\": \"\"}}, \"marker\": {\"colorbar\": {\"outlinewidth\": 0, \"ticks\": \"\"}}, \"type\": \"scatter3d\"}], \"scattercarpet\": [{\"marker\": {\"colorbar\": {\"outlinewidth\": 0, \"ticks\": \"\"}}, \"type\": \"scattercarpet\"}], \"scattergeo\": [{\"marker\": {\"colorbar\": {\"outlinewidth\": 0, \"ticks\": \"\"}}, \"type\": \"scattergeo\"}], \"scattergl\": [{\"marker\": {\"colorbar\": {\"outlinewidth\": 0, \"ticks\": \"\"}}, \"type\": \"scattergl\"}], \"scattermapbox\": [{\"marker\": {\"colorbar\": {\"outlinewidth\": 0, \"ticks\": \"\"}}, \"type\": \"scattermapbox\"}], \"scatterpolar\": [{\"marker\": {\"colorbar\": {\"outlinewidth\": 0, \"ticks\": \"\"}}, \"type\": \"scatterpolar\"}], \"scatterpolargl\": [{\"marker\": {\"colorbar\": {\"outlinewidth\": 0, \"ticks\": \"\"}}, \"type\": \"scatterpolargl\"}], \"scatterternary\": [{\"marker\": {\"colorbar\": {\"outlinewidth\": 0, \"ticks\": \"\"}}, \"type\": \"scatterternary\"}], \"surface\": [{\"colorbar\": {\"outlinewidth\": 0, \"ticks\": \"\"}, \"colorscale\": [[0.0, \"#0d0887\"], [0.1111111111111111, \"#46039f\"], [0.2222222222222222, \"#7201a8\"], [0.3333333333333333, \"#9c179e\"], [0.4444444444444444, \"#bd3786\"], [0.5555555555555556, \"#d8576b\"], [0.6666666666666666, \"#ed7953\"], [0.7777777777777778, \"#fb9f3a\"], [0.8888888888888888, \"#fdca26\"], [1.0, \"#f0f921\"]], \"type\": \"surface\"}], \"table\": [{\"cells\": {\"fill\": {\"color\": \"#EBF0F8\"}, \"line\": {\"color\": \"white\"}}, \"header\": {\"fill\": {\"color\": \"#C8D4E3\"}, \"line\": {\"color\": \"white\"}}, \"type\": \"table\"}]}, \"layout\": {\"annotationdefaults\": {\"arrowcolor\": \"#2a3f5f\", \"arrowhead\": 0, \"arrowwidth\": 1}, \"coloraxis\": {\"colorbar\": {\"outlinewidth\": 0, \"ticks\": \"\"}}, \"colorscale\": {\"diverging\": [[0, \"#8e0152\"], [0.1, \"#c51b7d\"], [0.2, \"#de77ae\"], [0.3, \"#f1b6da\"], [0.4, \"#fde0ef\"], [0.5, \"#f7f7f7\"], [0.6, \"#e6f5d0\"], [0.7, \"#b8e186\"], [0.8, \"#7fbc41\"], [0.9, \"#4d9221\"], [1, \"#276419\"]], \"sequential\": [[0.0, \"#0d0887\"], [0.1111111111111111, \"#46039f\"], [0.2222222222222222, \"#7201a8\"], [0.3333333333333333, \"#9c179e\"], [0.4444444444444444, \"#bd3786\"], [0.5555555555555556, \"#d8576b\"], [0.6666666666666666, \"#ed7953\"], [0.7777777777777778, \"#fb9f3a\"], [0.8888888888888888, \"#fdca26\"], [1.0, \"#f0f921\"]], \"sequentialminus\": [[0.0, \"#0d0887\"], [0.1111111111111111, \"#46039f\"], [0.2222222222222222, \"#7201a8\"], [0.3333333333333333, \"#9c179e\"], [0.4444444444444444, \"#bd3786\"], [0.5555555555555556, \"#d8576b\"], [0.6666666666666666, \"#ed7953\"], [0.7777777777777778, \"#fb9f3a\"], [0.8888888888888888, \"#fdca26\"], [1.0, \"#f0f921\"]]}, \"colorway\": [\"#636efa\", \"#EF553B\", \"#00cc96\", \"#ab63fa\", \"#FFA15A\", \"#19d3f3\", \"#FF6692\", \"#B6E880\", \"#FF97FF\", \"#FECB52\"], \"font\": {\"color\": \"#2a3f5f\"}, \"geo\": {\"bgcolor\": \"white\", \"lakecolor\": \"white\", \"landcolor\": \"#E5ECF6\", \"showlakes\": true, \"showland\": true, \"subunitcolor\": \"white\"}, \"hoverlabel\": {\"align\": \"left\"}, \"hovermode\": \"closest\", \"mapbox\": {\"style\": \"light\"}, \"paper_bgcolor\": \"white\", \"plot_bgcolor\": \"#E5ECF6\", \"polar\": {\"angularaxis\": {\"gridcolor\": \"white\", \"linecolor\": \"white\", \"ticks\": \"\"}, \"bgcolor\": \"#E5ECF6\", \"radialaxis\": {\"gridcolor\": \"white\", \"linecolor\": \"white\", \"ticks\": \"\"}}, \"scene\": {\"xaxis\": {\"backgroundcolor\": \"#E5ECF6\", \"gridcolor\": \"white\", \"gridwidth\": 2, \"linecolor\": \"white\", \"showbackground\": true, \"ticks\": \"\", \"zerolinecolor\": \"white\"}, \"yaxis\": {\"backgroundcolor\": \"#E5ECF6\", \"gridcolor\": \"white\", \"gridwidth\": 2, \"linecolor\": \"white\", \"showbackground\": true, \"ticks\": \"\", \"zerolinecolor\": \"white\"}, \"zaxis\": {\"backgroundcolor\": \"#E5ECF6\", \"gridcolor\": \"white\", \"gridwidth\": 2, \"linecolor\": \"white\", \"showbackground\": true, \"ticks\": \"\", \"zerolinecolor\": \"white\"}}, \"shapedefaults\": {\"line\": {\"color\": \"#2a3f5f\"}}, \"ternary\": {\"aaxis\": {\"gridcolor\": \"white\", \"linecolor\": \"white\", \"ticks\": \"\"}, \"baxis\": {\"gridcolor\": \"white\", \"linecolor\": \"white\", \"ticks\": \"\"}, \"bgcolor\": \"#E5ECF6\", \"caxis\": {\"gridcolor\": \"white\", \"linecolor\": \"white\", \"ticks\": \"\"}}, \"title\": {\"x\": 0.05}, \"xaxis\": {\"automargin\": true, \"gridcolor\": \"white\", \"linecolor\": \"white\", \"ticks\": \"\", \"title\": {\"standoff\": 15}, \"zerolinecolor\": \"white\", \"zerolinewidth\": 2}, \"yaxis\": {\"automargin\": true, \"gridcolor\": \"white\", \"linecolor\": \"white\", \"ticks\": \"\", \"title\": {\"standoff\": 15}, \"zerolinecolor\": \"white\", \"zerolinewidth\": 2}}}, \"width\": 1000, \"xaxis\": {\"title\": {\"text\": \"Factors\"}}, \"yaxis\": {\"range\": [-1, 1], \"title\": {\"text\": \"Pearson R\"}}},\n                        {\"responsive\": true}\n                    ).then(function(){\n                            \nvar gd = document.getElementById('3f1e0a24-a31c-43a1-8c74-4ce14b0b817b');\nvar x = new MutationObserver(function (mutations, observer) {{\n        var display = window.getComputedStyle(gd).display;\n        if (!display || display === 'none') {{\n            console.log([gd, 'removed!']);\n            Plotly.purge(gd);\n            observer.disconnect();\n        }}\n}});\n\n// Listen for the removal of the full notebook cells\nvar notebookContainer = gd.closest('#notebook-container');\nif (notebookContainer) {{\n    x.observe(notebookContainer, {childList: true});\n}}\n\n// Listen for the clearing of the current output cell\nvar outputEl = gd.closest('.output');\nif (outputEl) {{\n    x.observe(outputEl, {childList: true});\n}}\n\n                        })\n                };\n                });\n            </script>\n        </div>"
     },
     "metadata": {},
     "output_type": "display_data"
    }
   ],
   "source": [
    "import plotly.graph_objects as go\n",
    "\n",
    "x = factors\n",
    "y = factor_lag_corr_df.iloc[0]\n",
    "colors = ['#FFA500','#87CEEB','#2B65EC','#347C2C']\n",
    "\n",
    "# Use the hovertext kw argument for hover text\n",
    "fig = go.Figure(data=[go.Bar(x=x, y=y,\n",
    "            hovertext=[])])\n",
    "# Customize aspect\n",
    "fig.update_traces(marker_color=colors, marker_line_color='rgb(8,48,107)',\n",
    "                  marker_line_width=1.5, opacity=0.6)\n",
    "fig.update_layout(\n",
    "    autosize=False, width=1000, height=500,\n",
    "    yaxis_title=\"Pearson R\", xaxis_title=\"Factors\",\n",
    "    font=dict(size=21, color=\"#3D3C3A\"),yaxis_range=[-1,1])\n",
    "fig.show()"
   ],
   "metadata": {
    "collapsed": false,
    "pycharm": {
     "name": "#%%\n"
    }
   }
  },
  {
   "cell_type": "code",
   "execution_count": null,
   "metadata": {
    "collapsed": true,
    "pycharm": {
     "is_executing": true
    }
   },
   "outputs": [],
   "source": [
    "from meteorology import get_factor_data\n",
    "from meteorology.wunderground_data_preparation import wg_regions_list\n",
    "# from meteorological_functions import get_factor_data\n",
    "# from cross_correlation import correlation_heatmap_with_linear_meteorological_variables_with_lag\n",
    "\n",
    "import plotly.graph_objects as go\n",
    "\n",
    "# def get_factor_data(meteo_data, factor):\n",
    "#     return meteo_data.sel(factor=factor).to_dataframe().drop('factor', axis=1).unstack().T.droplevel(level=0)\n",
    "\n",
    "df = region_series_all[wg_regions_list]\n",
    "districts = wg_regions_list\n",
    "\n",
    "for lag in range(0, 2, 1):\n",
    "    z = factors.apply(lambda x: df.shift(lag).corrwith(get_factor_data(meteo_data, x), axis=0))\n",
    "    z.index = factors.values\n",
    "    print(z)\n",
    "\n",
    "    fig = go.Figure(data=go.Heatmap(\n",
    "        z=z, y=factors, x=districts,\n",
    "        colorscale='icefire',\n",
    "        zmin=-1, zmax=1,\n",
    "        reversescale=True\n",
    "    ))\n",
    "    fig.update_layout(\n",
    "        autosize=False, width=1500, height=500,\n",
    "        title=\"PM2.5 correaltion with meteorological factors\",\n",
    "        xaxis_title=\"District\", yaxis_title=\"Factors\",\n",
    "        font=dict(size=21, color=\"#3D3C3A\"\n",
    "                  )\n",
    "    )\n",
    "    fig.show(config={'displayModeBar': False, 'responsive': True})"
   ]
  },
  {
   "cell_type": "code",
   "execution_count": 20,
   "outputs": [
    {
     "data": {
      "text/plain": "time\n2017-01-01 00:00:00    236.78\n2017-01-01 01:00:00    235.59\n2017-01-01 02:00:00    213.68\n2017-01-01 03:00:00    200.58\n2017-01-01 04:00:00    193.19\n                        ...  \n2022-04-30 19:00:00     66.38\n2022-04-30 20:00:00     71.01\n2022-04-30 21:00:00     44.02\n2022-04-30 22:00:00     42.41\n2022-04-30 23:00:00     46.32\nName: Dhaka, Length: 46704, dtype: float64"
     },
     "execution_count": 20,
     "metadata": {},
     "output_type": "execute_result"
    }
   ],
   "source": [
    "region_series_all.Dhaka"
   ],
   "metadata": {
    "collapsed": false,
    "pycharm": {
     "name": "#%%\n"
    }
   }
  },
  {
   "cell_type": "code",
   "execution_count": 23,
   "outputs": [
    {
     "data": {
      "text/plain": "                     Reading  Temperature  Dew Point  Humidity  Wind Gust  \\\ntime                                                                        \n2019-01-01 00:00:00   156.80       17.780     12.500     0.705        0.0   \n2019-01-01 01:00:00   146.73       17.500     12.500     0.725        0.0   \n2019-01-01 02:00:00   150.16       17.220     12.220     0.720        0.0   \n2019-01-01 03:00:00   172.24       16.665     12.220     0.745        0.0   \n2019-01-01 04:00:00   181.86       16.110     12.220     0.770        0.0   \n...                      ...          ...        ...       ...        ...   \n2021-12-31 19:00:00   119.16       24.445     15.000     0.555        0.0   \n2021-12-31 20:00:00   121.96       23.890     15.555     0.590        0.0   \n2021-12-31 21:00:00   125.66       23.335     16.110     0.630        0.0   \n2021-12-31 22:00:00   121.99       22.780     16.110     0.650        0.0   \n2021-12-31 23:00:00   121.36       22.220     16.110     0.690        0.0   \n\n                      Pressure  Precip.  \ntime                                     \n2019-01-01 00:00:00  1017.8316      0.0  \n2019-01-01 01:00:00  1016.8158      0.0  \n2019-01-01 02:00:00  1016.8158      0.0  \n2019-01-01 03:00:00  1016.8158      0.0  \n2019-01-01 04:00:00  1016.8158      0.0  \n...                        ...      ...  \n2021-12-31 19:00:00  1017.8316      0.0  \n2021-12-31 20:00:00  1018.3395      0.0  \n2021-12-31 21:00:00  1018.8474      0.0  \n2021-12-31 22:00:00  1018.8474      0.0  \n2021-12-31 23:00:00  1018.8474      0.0  \n\n[26304 rows x 7 columns]",
      "text/html": "<div>\n<style scoped>\n    .dataframe tbody tr th:only-of-type {\n        vertical-align: middle;\n    }\n\n    .dataframe tbody tr th {\n        vertical-align: top;\n    }\n\n    .dataframe thead th {\n        text-align: right;\n    }\n</style>\n<table border=\"1\" class=\"dataframe\">\n  <thead>\n    <tr style=\"text-align: right;\">\n      <th></th>\n      <th>Reading</th>\n      <th>Temperature</th>\n      <th>Dew Point</th>\n      <th>Humidity</th>\n      <th>Wind Gust</th>\n      <th>Pressure</th>\n      <th>Precip.</th>\n    </tr>\n    <tr>\n      <th>time</th>\n      <th></th>\n      <th></th>\n      <th></th>\n      <th></th>\n      <th></th>\n      <th></th>\n      <th></th>\n    </tr>\n  </thead>\n  <tbody>\n    <tr>\n      <th>2019-01-01 00:00:00</th>\n      <td>156.80</td>\n      <td>17.780</td>\n      <td>12.500</td>\n      <td>0.705</td>\n      <td>0.0</td>\n      <td>1017.8316</td>\n      <td>0.0</td>\n    </tr>\n    <tr>\n      <th>2019-01-01 01:00:00</th>\n      <td>146.73</td>\n      <td>17.500</td>\n      <td>12.500</td>\n      <td>0.725</td>\n      <td>0.0</td>\n      <td>1016.8158</td>\n      <td>0.0</td>\n    </tr>\n    <tr>\n      <th>2019-01-01 02:00:00</th>\n      <td>150.16</td>\n      <td>17.220</td>\n      <td>12.220</td>\n      <td>0.720</td>\n      <td>0.0</td>\n      <td>1016.8158</td>\n      <td>0.0</td>\n    </tr>\n    <tr>\n      <th>2019-01-01 03:00:00</th>\n      <td>172.24</td>\n      <td>16.665</td>\n      <td>12.220</td>\n      <td>0.745</td>\n      <td>0.0</td>\n      <td>1016.8158</td>\n      <td>0.0</td>\n    </tr>\n    <tr>\n      <th>2019-01-01 04:00:00</th>\n      <td>181.86</td>\n      <td>16.110</td>\n      <td>12.220</td>\n      <td>0.770</td>\n      <td>0.0</td>\n      <td>1016.8158</td>\n      <td>0.0</td>\n    </tr>\n    <tr>\n      <th>...</th>\n      <td>...</td>\n      <td>...</td>\n      <td>...</td>\n      <td>...</td>\n      <td>...</td>\n      <td>...</td>\n      <td>...</td>\n    </tr>\n    <tr>\n      <th>2021-12-31 19:00:00</th>\n      <td>119.16</td>\n      <td>24.445</td>\n      <td>15.000</td>\n      <td>0.555</td>\n      <td>0.0</td>\n      <td>1017.8316</td>\n      <td>0.0</td>\n    </tr>\n    <tr>\n      <th>2021-12-31 20:00:00</th>\n      <td>121.96</td>\n      <td>23.890</td>\n      <td>15.555</td>\n      <td>0.590</td>\n      <td>0.0</td>\n      <td>1018.3395</td>\n      <td>0.0</td>\n    </tr>\n    <tr>\n      <th>2021-12-31 21:00:00</th>\n      <td>125.66</td>\n      <td>23.335</td>\n      <td>16.110</td>\n      <td>0.630</td>\n      <td>0.0</td>\n      <td>1018.8474</td>\n      <td>0.0</td>\n    </tr>\n    <tr>\n      <th>2021-12-31 22:00:00</th>\n      <td>121.99</td>\n      <td>22.780</td>\n      <td>16.110</td>\n      <td>0.650</td>\n      <td>0.0</td>\n      <td>1018.8474</td>\n      <td>0.0</td>\n    </tr>\n    <tr>\n      <th>2021-12-31 23:00:00</th>\n      <td>121.36</td>\n      <td>22.220</td>\n      <td>16.110</td>\n      <td>0.690</td>\n      <td>0.0</td>\n      <td>1018.8474</td>\n      <td>0.0</td>\n    </tr>\n  </tbody>\n</table>\n<p>26304 rows × 7 columns</p>\n</div>"
     },
     "execution_count": 23,
     "metadata": {},
     "output_type": "execute_result"
    }
   ],
   "source": [
    "from meteorology.wunderground_data_preparation import linear_var\n",
    "\n",
    "reading_data = region_series_all[\"2019\":\"2021\"].Dhaka\n",
    "reading_data.name = \"Reading\"\n",
    "combined_data = pd.concat((reading_data, get_district_data(meteo_data,'Dhaka')[linear_var]), axis=1)\n",
    "combined_data"
   ],
   "metadata": {
    "collapsed": false,
    "pycharm": {
     "name": "#%%\n"
    }
   }
  },
  {
   "cell_type": "code",
   "execution_count": 24,
   "outputs": [
    {
     "name": "stdout",
     "output_type": "stream",
     "text": [
      "<class 'pandas.core.frame.DataFrame'>\n",
      "DatetimeIndex: 26304 entries, 2019-01-01 00:00:00 to 2021-12-31 23:00:00\n",
      "Data columns (total 7 columns):\n",
      " #   Column       Non-Null Count  Dtype  \n",
      "---  ------       --------------  -----  \n",
      " 0   Reading      26109 non-null  float64\n",
      " 1   Temperature  26304 non-null  float64\n",
      " 2   Dew Point    26304 non-null  float64\n",
      " 3   Humidity     26304 non-null  float64\n",
      " 4   Wind Gust    26304 non-null  float64\n",
      " 5   Pressure     26304 non-null  float64\n",
      " 6   Precip.      26304 non-null  float64\n",
      "dtypes: float64(7)\n",
      "memory usage: 1.6 MB\n"
     ]
    }
   ],
   "source": [
    "combined_data.info()"
   ],
   "metadata": {
    "collapsed": false,
    "pycharm": {
     "name": "#%%\n"
    }
   }
  },
  {
   "cell_type": "code",
   "execution_count": 25,
   "outputs": [
    {
     "data": {
      "text/plain": "              Reading  Temperature  Dew Point  Humidity  Wind Gust  Pressure  \\\nReading      1.000000    -0.597463  -0.744525 -0.173277        NaN  0.641431   \nTemperature -0.597463     1.000000   0.709852 -0.417256        NaN -0.647174   \nDew Point   -0.744525     0.709852   1.000000  0.334729        NaN -0.757993   \nHumidity    -0.173277    -0.417256   0.334729  1.000000        NaN -0.121954   \nWind Gust         NaN          NaN        NaN       NaN        NaN       NaN   \nPressure     0.641431    -0.647174  -0.757993 -0.121954        NaN  1.000000   \nPrecip.           NaN          NaN        NaN       NaN        NaN       NaN   \n\n             Precip.  \nReading          NaN  \nTemperature      NaN  \nDew Point        NaN  \nHumidity         NaN  \nWind Gust        NaN  \nPressure         NaN  \nPrecip.          NaN  ",
      "text/html": "<div>\n<style scoped>\n    .dataframe tbody tr th:only-of-type {\n        vertical-align: middle;\n    }\n\n    .dataframe tbody tr th {\n        vertical-align: top;\n    }\n\n    .dataframe thead th {\n        text-align: right;\n    }\n</style>\n<table border=\"1\" class=\"dataframe\">\n  <thead>\n    <tr style=\"text-align: right;\">\n      <th></th>\n      <th>Reading</th>\n      <th>Temperature</th>\n      <th>Dew Point</th>\n      <th>Humidity</th>\n      <th>Wind Gust</th>\n      <th>Pressure</th>\n      <th>Precip.</th>\n    </tr>\n  </thead>\n  <tbody>\n    <tr>\n      <th>Reading</th>\n      <td>1.000000</td>\n      <td>-0.597463</td>\n      <td>-0.744525</td>\n      <td>-0.173277</td>\n      <td>NaN</td>\n      <td>0.641431</td>\n      <td>NaN</td>\n    </tr>\n    <tr>\n      <th>Temperature</th>\n      <td>-0.597463</td>\n      <td>1.000000</td>\n      <td>0.709852</td>\n      <td>-0.417256</td>\n      <td>NaN</td>\n      <td>-0.647174</td>\n      <td>NaN</td>\n    </tr>\n    <tr>\n      <th>Dew Point</th>\n      <td>-0.744525</td>\n      <td>0.709852</td>\n      <td>1.000000</td>\n      <td>0.334729</td>\n      <td>NaN</td>\n      <td>-0.757993</td>\n      <td>NaN</td>\n    </tr>\n    <tr>\n      <th>Humidity</th>\n      <td>-0.173277</td>\n      <td>-0.417256</td>\n      <td>0.334729</td>\n      <td>1.000000</td>\n      <td>NaN</td>\n      <td>-0.121954</td>\n      <td>NaN</td>\n    </tr>\n    <tr>\n      <th>Wind Gust</th>\n      <td>NaN</td>\n      <td>NaN</td>\n      <td>NaN</td>\n      <td>NaN</td>\n      <td>NaN</td>\n      <td>NaN</td>\n      <td>NaN</td>\n    </tr>\n    <tr>\n      <th>Pressure</th>\n      <td>0.641431</td>\n      <td>-0.647174</td>\n      <td>-0.757993</td>\n      <td>-0.121954</td>\n      <td>NaN</td>\n      <td>1.000000</td>\n      <td>NaN</td>\n    </tr>\n    <tr>\n      <th>Precip.</th>\n      <td>NaN</td>\n      <td>NaN</td>\n      <td>NaN</td>\n      <td>NaN</td>\n      <td>NaN</td>\n      <td>NaN</td>\n      <td>NaN</td>\n    </tr>\n  </tbody>\n</table>\n</div>"
     },
     "execution_count": 25,
     "metadata": {},
     "output_type": "execute_result"
    }
   ],
   "source": [
    "combined_data.corr()"
   ],
   "metadata": {
    "collapsed": false,
    "pycharm": {
     "name": "#%%\n"
    }
   }
  },
  {
   "cell_type": "markdown",
   "source": [
    "# LR Model"
   ],
   "metadata": {
    "collapsed": false
   }
  },
  {
   "cell_type": "code",
   "execution_count": 221,
   "outputs": [],
   "source": [
    "import statsmodels.api as sm"
   ],
   "metadata": {
    "collapsed": false,
    "pycharm": {
     "name": "#%%\n"
    }
   }
  },
  {
   "cell_type": "code",
   "execution_count": 226,
   "outputs": [
    {
     "data": {
      "text/plain": "factor               Temperature  Humidity   Pressure  Wind Speed\ntime                                                             \n2019-01-01 00:00:00       17.780     0.705  1017.8316    4.434622\n2019-01-01 01:00:00       17.500     0.725  1016.8158    2.400000\n2019-01-01 02:00:00       17.220     0.720  1016.8158    0.000000\n2019-01-01 03:00:00       16.665     0.745  1016.8158    0.000000\n2019-01-01 04:00:00       16.110     0.770  1016.8158    0.000000\n...                          ...       ...        ...         ...\n2021-12-31 19:00:00       24.445     0.555  1017.8316    7.200000\n2021-12-31 20:00:00       23.890     0.590  1018.3395    9.420711\n2021-12-31 21:00:00       23.335     0.630  1018.8474    2.400000\n2021-12-31 22:00:00       22.780     0.650  1018.8474    2.400000\n2021-12-31 23:00:00       22.220     0.690  1018.8474    2.400000\n\n[26304 rows x 4 columns]",
      "text/html": "<div>\n<style scoped>\n    .dataframe tbody tr th:only-of-type {\n        vertical-align: middle;\n    }\n\n    .dataframe tbody tr th {\n        vertical-align: top;\n    }\n\n    .dataframe thead th {\n        text-align: right;\n    }\n</style>\n<table border=\"1\" class=\"dataframe\">\n  <thead>\n    <tr style=\"text-align: right;\">\n      <th>factor</th>\n      <th>Temperature</th>\n      <th>Humidity</th>\n      <th>Pressure</th>\n      <th>Wind Speed</th>\n    </tr>\n    <tr>\n      <th>time</th>\n      <th></th>\n      <th></th>\n      <th></th>\n      <th></th>\n    </tr>\n  </thead>\n  <tbody>\n    <tr>\n      <th>2019-01-01 00:00:00</th>\n      <td>17.780</td>\n      <td>0.705</td>\n      <td>1017.8316</td>\n      <td>4.434622</td>\n    </tr>\n    <tr>\n      <th>2019-01-01 01:00:00</th>\n      <td>17.500</td>\n      <td>0.725</td>\n      <td>1016.8158</td>\n      <td>2.400000</td>\n    </tr>\n    <tr>\n      <th>2019-01-01 02:00:00</th>\n      <td>17.220</td>\n      <td>0.720</td>\n      <td>1016.8158</td>\n      <td>0.000000</td>\n    </tr>\n    <tr>\n      <th>2019-01-01 03:00:00</th>\n      <td>16.665</td>\n      <td>0.745</td>\n      <td>1016.8158</td>\n      <td>0.000000</td>\n    </tr>\n    <tr>\n      <th>2019-01-01 04:00:00</th>\n      <td>16.110</td>\n      <td>0.770</td>\n      <td>1016.8158</td>\n      <td>0.000000</td>\n    </tr>\n    <tr>\n      <th>...</th>\n      <td>...</td>\n      <td>...</td>\n      <td>...</td>\n      <td>...</td>\n    </tr>\n    <tr>\n      <th>2021-12-31 19:00:00</th>\n      <td>24.445</td>\n      <td>0.555</td>\n      <td>1017.8316</td>\n      <td>7.200000</td>\n    </tr>\n    <tr>\n      <th>2021-12-31 20:00:00</th>\n      <td>23.890</td>\n      <td>0.590</td>\n      <td>1018.3395</td>\n      <td>9.420711</td>\n    </tr>\n    <tr>\n      <th>2021-12-31 21:00:00</th>\n      <td>23.335</td>\n      <td>0.630</td>\n      <td>1018.8474</td>\n      <td>2.400000</td>\n    </tr>\n    <tr>\n      <th>2021-12-31 22:00:00</th>\n      <td>22.780</td>\n      <td>0.650</td>\n      <td>1018.8474</td>\n      <td>2.400000</td>\n    </tr>\n    <tr>\n      <th>2021-12-31 23:00:00</th>\n      <td>22.220</td>\n      <td>0.690</td>\n      <td>1018.8474</td>\n      <td>2.400000</td>\n    </tr>\n  </tbody>\n</table>\n<p>26304 rows × 4 columns</p>\n</div>"
     },
     "execution_count": 226,
     "metadata": {},
     "output_type": "execute_result"
    }
   ],
   "source": [
    "get_district_data(meteo_data, 'Dhaka')[factors]"
   ],
   "metadata": {
    "collapsed": false,
    "pycharm": {
     "name": "#%%\n"
    }
   }
  },
  {
   "cell_type": "code",
   "execution_count": 236,
   "outputs": [
    {
     "data": {
      "text/plain": "time\n2019-01-01 00:00:00    156.80\n2019-01-01 01:00:00    146.73\n2019-01-01 02:00:00    150.16\n2019-01-01 03:00:00    172.24\n2019-01-01 04:00:00    181.86\n                        ...  \n2021-12-31 19:00:00    119.16\n2021-12-31 20:00:00    121.96\n2021-12-31 21:00:00    125.66\n2021-12-31 22:00:00    121.99\n2021-12-31 23:00:00    121.36\nName: Dhaka, Length: 26304, dtype: float64"
     },
     "execution_count": 236,
     "metadata": {},
     "output_type": "execute_result"
    }
   ],
   "source": [
    "pm_data_dhaka"
   ],
   "metadata": {
    "collapsed": false,
    "pycharm": {
     "name": "#%%\n"
    }
   }
  },
  {
   "cell_type": "code",
   "execution_count": 249,
   "outputs": [
    {
     "name": "stdout",
     "output_type": "stream",
     "text": [
      "                                 OLS Regression Results                                \n",
      "=======================================================================================\n",
      "Dep. Variable:                Reading   R-squared (uncentered):                   0.595\n",
      "Model:                            OLS   Adj. R-squared (uncentered):              0.595\n",
      "Method:                 Least Squares   F-statistic:                              9646.\n",
      "Date:                Wed, 11 Jan 2023   Prob (F-statistic):                        0.00\n",
      "Time:                        01:37:55   Log-Likelihood:                         -25447.\n",
      "No. Observations:               26304   AIC:                                  5.090e+04\n",
      "Df Residuals:                   26300   BIC:                                  5.093e+04\n",
      "Df Model:                           4                                                  \n",
      "Covariance Type:            nonrobust                                                  \n",
      "===============================================================================\n",
      "                  coef    std err          t      P>|t|      [0.025      0.975]\n",
      "-------------------------------------------------------------------------------\n",
      "Temperature    -0.6714      0.007    -97.838      0.000      -0.685      -0.658\n",
      "Humidity       -0.4542      0.005    -86.629      0.000      -0.465      -0.444\n",
      "Pressure        0.0908      0.006     14.196      0.000       0.078       0.103\n",
      "Wind Speed     -0.1414      0.004    -32.182      0.000      -0.150      -0.133\n",
      "==============================================================================\n",
      "Omnibus:                     4546.601   Durbin-Watson:                   0.405\n",
      "Prob(Omnibus):                  0.000   Jarque-Bera (JB):            13209.469\n",
      "Skew:                           0.915   Prob(JB):                         0.00\n",
      "Kurtosis:                       5.950   Cond. No.                         3.45\n",
      "==============================================================================\n",
      "\n",
      "Notes:\n",
      "[1] R² is computed without centering (uncentered) since the model does not contain a constant.\n",
      "[2] Standard Errors assume that the covariance matrix of the errors is correctly specified.\n"
     ]
    }
   ],
   "source": [
    "from sklearn.preprocessing import StandardScaler\n",
    "\n",
    "zonal_meteo_data = get_district_data(meteo_data, 'Dhaka')[factors].assign(Reading=pm_data_dhaka.fillna(0))\n",
    "zonal_meteo_data = zonal_meteo_data.reset_index().drop('time', axis=1).dropna()\n",
    "\n",
    "scaler = StandardScaler()\n",
    "scaler.fit(zonal_meteo_data)\n",
    "timeSeries_model = pd.DataFrame(data=scaler.transform(zonal_meteo_data), index=zonal_meteo_data.index, columns=zonal_meteo_data.columns)\n",
    "\n",
    "model = sm.OLS(timeSeries_model['Reading'], timeSeries_model.drop('Reading', axis=1))\n",
    "\n",
    "# model = sm.OLS(get_district_data(meteo_data, 'Dhaka')[factors], pm_data_dhaka.fillna(0))\n",
    "results = model.fit()\n",
    "print(results.summary())"
   ],
   "metadata": {
    "collapsed": false,
    "pycharm": {
     "name": "#%%\n"
    }
   }
  },
  {
   "cell_type": "code",
   "execution_count": 248,
   "outputs": [
    {
     "data": {
      "text/plain": "['HC0_se',\n 'HC1_se',\n 'HC2_se',\n 'HC3_se',\n '_HCCM',\n '__class__',\n '__delattr__',\n '__dict__',\n '__dir__',\n '__doc__',\n '__eq__',\n '__format__',\n '__ge__',\n '__getattribute__',\n '__gt__',\n '__hash__',\n '__init__',\n '__init_subclass__',\n '__le__',\n '__lt__',\n '__module__',\n '__ne__',\n '__new__',\n '__reduce__',\n '__reduce_ex__',\n '__repr__',\n '__setattr__',\n '__sizeof__',\n '__str__',\n '__subclasshook__',\n '__weakref__',\n '_abat_diagonal',\n '_cache',\n '_data_attr',\n '_data_in_cache',\n '_get_robustcov_results',\n '_is_nested',\n '_use_t',\n '_wexog_singular_values',\n 'aic',\n 'bic',\n 'bse',\n 'centered_tss',\n 'compare_f_test',\n 'compare_lm_test',\n 'compare_lr_test',\n 'condition_number',\n 'conf_int',\n 'conf_int_el',\n 'cov_HC0',\n 'cov_HC1',\n 'cov_HC2',\n 'cov_HC3',\n 'cov_kwds',\n 'cov_params',\n 'cov_type',\n 'df_model',\n 'df_resid',\n 'eigenvals',\n 'el_test',\n 'ess',\n 'f_pvalue',\n 'f_test',\n 'fittedvalues',\n 'fvalue',\n 'get_influence',\n 'get_prediction',\n 'get_robustcov_results',\n 'initialize',\n 'k_constant',\n 'llf',\n 'load',\n 'model',\n 'mse_model',\n 'mse_resid',\n 'mse_total',\n 'nobs',\n 'normalized_cov_params',\n 'outlier_test',\n 'params',\n 'predict',\n 'pvalues',\n 'remove_data',\n 'resid',\n 'resid_pearson',\n 'rsquared',\n 'rsquared_adj',\n 'save',\n 'scale',\n 'ssr',\n 'summary',\n 'summary2',\n 't_test',\n 't_test_pairwise',\n 'tvalues',\n 'uncentered_tss',\n 'use_t',\n 'wald_test',\n 'wald_test_terms',\n 'wresid']"
     },
     "execution_count": 248,
     "metadata": {},
     "output_type": "execute_result"
    }
   ],
   "source": [
    "dir(results)"
   ],
   "metadata": {
    "collapsed": false,
    "pycharm": {
     "name": "#%%\n"
    }
   }
  }
 ],
 "metadata": {
  "kernelspec": {
   "display_name": "Python 3",
   "language": "python",
   "name": "python3"
  },
  "language_info": {
   "codemirror_mode": {
    "name": "ipython",
    "version": 2
   },
   "file_extension": ".py",
   "mimetype": "text/x-python",
   "name": "python",
   "nbconvert_exporter": "python",
   "pygments_lexer": "ipython2",
   "version": "2.7.6"
  }
 },
 "nbformat": 4,
 "nbformat_minor": 0
}