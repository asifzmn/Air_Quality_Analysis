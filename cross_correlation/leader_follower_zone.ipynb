{
 "cells": [
  {
   "cell_type": "code",
   "execution_count": null,
   "metadata": {
    "collapsed": true
   },
   "outputs": [],
   "source": [
    "range_iter = range(-12, 12 + 1)\n",
    "for i in range(10):\n",
    "    subseries = region_series[f'2021-0{i + 1}-01':f'2021-0{i + 2}-01']\n",
    "    cross_corr = pd.Series([subseries.Dhaka.shift(j).corr(subseries.NCT) for j in range_iter], index=range_iter)\n",
    "    print(subseries.shape)\n",
    "    print(cross_corr.idxmax())\n",
    "    fig = px.bar(cross_corr)\n",
    "    fig.show()"
   ]
  },
  {
   "cell_type": "code",
   "execution_count": null,
   "outputs": [],
   "source": [
    "region_series.index"
   ],
   "metadata": {
    "collapsed": false,
    "pycharm": {
     "name": "#%%\n"
    }
   }
  },
  {
   "cell_type": "code",
   "execution_count": null,
   "outputs": [],
   "source": [
    "region_series_india = region_series[metadata_region[metadata_region.Country=='India'].index]\n",
    "region_series_india"
   ],
   "metadata": {
    "collapsed": false,
    "pycharm": {
     "name": "#%%\n"
    }
   }
  },
  {
   "cell_type": "code",
   "execution_count": null,
   "outputs": [],
   "source": [
    "region_series_india = region_series_india.shift(1)\n"
   ],
   "metadata": {
    "collapsed": false,
    "pycharm": {
     "name": "#%%\n"
    }
   }
  },
  {
   "cell_type": "code",
   "execution_count": null,
   "outputs": [],
   "source": [
    "range_iter = range(0, 12 + 1)\n",
    "for time_segment, subseries in region_series.resample('W'):\n",
    "    # print(time_segment)\n",
    "    cross_corr = pd.Series([subseries.Dhaka.shift(j).corr(subseries['West Bengal']) for j in range_iter], index=range_iter)\n",
    "    # print(subseries.shape)\n",
    "    if cross_corr.max()<.3 or cross_corr.idxmax()==0: continue\n",
    "    print(time_segment,cross_corr.idxmax(),cross_corr.max())\n",
    "    # fig = px.bar(cross_corr)\n",
    "    # fig.show()"
   ],
   "metadata": {
    "collapsed": false,
    "pycharm": {
     "name": "#%%\n"
    }
   }
  }
 ],
 "metadata": {
  "kernelspec": {
   "display_name": "Python 3",
   "language": "python",
   "name": "python3"
  },
  "language_info": {
   "codemirror_mode": {
    "name": "ipython",
    "version": 2
   },
   "file_extension": ".py",
   "mimetype": "text/x-python",
   "name": "python",
   "nbconvert_exporter": "python",
   "pygments_lexer": "ipython2",
   "version": "2.7.6"
  }
 },
 "nbformat": 4,
 "nbformat_minor": 0
}