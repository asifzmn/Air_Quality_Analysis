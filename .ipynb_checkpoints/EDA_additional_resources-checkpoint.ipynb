{
 "cells": [
  {
   "cell_type": "code",
   "execution_count": 1,
   "metadata": {
    "pycharm": {
     "name": "#%%\n"
    }
   },
   "outputs": [],
   "source": [
    "import pathlib\n",
    "from aq_analysis import *\n",
    "from scrapers.meteoblue import prepare_firefox_driver\n",
    "\n",
    "meta_data, timeseries = get_metadata(), get_series()\n"
   ]
  },
  {
   "cell_type": "code",
   "execution_count": 2,
   "metadata": {
    "pycharm": {
     "name": "#%%\n"
    }
   },
   "outputs": [
    {
     "name": "stdout",
     "output_type": "stream",
     "text": [
      "0        night\n",
      "1        night\n",
      "2        night\n",
      "3        night\n",
      "4        night\n",
      "         ...  \n",
      "35059    night\n",
      "35060    night\n",
      "35061    night\n",
      "35062    night\n",
      "35063    night\n",
      "Length: 35064, dtype: object\n",
      "DatetimeIndex(['2017-01-01 00:00:00', '2017-01-01 01:00:00',\n",
      "               '2017-01-01 02:00:00', '2017-01-01 03:00:00',\n",
      "               '2017-01-01 04:00:00', '2017-01-01 05:00:00',\n",
      "               '2017-01-01 06:00:00', '2017-01-01 07:00:00',\n",
      "               '2017-01-01 08:00:00', '2017-01-01 09:00:00',\n",
      "               ...\n",
      "               '2020-12-31 14:00:00', '2020-12-31 15:00:00',\n",
      "               '2020-12-31 16:00:00', '2020-12-31 17:00:00',\n",
      "               '2020-12-31 18:00:00', '2020-12-31 19:00:00',\n",
      "               '2020-12-31 20:00:00', '2020-12-31 21:00:00',\n",
      "               '2020-12-31 22:00:00', '2020-12-31 23:00:00'],\n",
      "              dtype='datetime64[ns]', length=35064, freq='H')\n"
     ]
    }
   ],
   "source": [
    "sun_time_series = get_diurnal_period()"
   ]
  },
  {
   "cell_type": "code",
   "execution_count": 3,
   "metadata": {
    "pycharm": {
     "name": "#%%\n"
    }
   },
   "outputs": [
    {
     "data": {
      "text/plain": [
       "'\\n\\n        February 3, 2022\\n    \\n\\nFebruary 3, 2022\\n\\n\\n\\n\\n\\n\\n\\n\\n\\n\\n\\n\\n\\n\\n\\n\\n\\nAir pollution \\n\\n\\nWhich\\n                        district has the worst air pollution in Bangladesh?\\nProf Dr Ahmad Kamruzzaman Majumder, director of the Center for Atmospheric Pollution\\n                    Studies at Stamford University, this morning revealed a survey report on which district has the\\n                    worst air...\\n\\n\\n\\n\\n\\n\\n        February 2, 2022\\n    \\n\\nFebruary 2, 2022\\n\\n\\n\\n\\n\\n\\n\\n\\n\\n\\n\\n\\n\\n\\n\\n\\n\\nAir pollution \\n\\n\\nCurbing\\n                        air pollution: HC blasts govt for its failures\\nThe High Court yesterday blasted the government authorities concerned for their failure\\n                    in taking effective measures to control the air pollution in Dhaka and its surrounding areas despite\\n                    its...\\n\\n\\n\\n\\n\\n\\n        February 1, 2022\\n    \\n\\nFebruary 1, 2022\\n\\n\\n\\n\\n\\n\\n\\n\\n\\n\\n\\n\\n\\n\\n\\n\\n\\nAir pollution \\n\\n\\nHC\\n                        blasts govt for failure to control air pollution in Dhaka\\nThe High Court today criticised the authorities concerned of the government for their\\n                    failure in taking effective measures to control air pollution in Dhaka and surrounding areas despite\\n                    its...\\n\\n\\n\\n\\n\\n\\n        January 28, 2022\\n    \\n\\nJanuary 28, 2022\\n\\n\\n\\n\\n\\n\\n\\n\\n\\n\\n\\n\\n\\n\\n\\n\\n\\nAir pollution \\n\\n\\nDhaka\\n                        most polluted city in the world\\nDhaka is the most polluted city in the world, and air pollution is the main cause for\\n                    respiratory issues, said Dhaka South City Corporation (DSCC) Mayor Sheikh Fazle Noor Taposh\\n                    yesterday.\\n\\n\\n\\n\\n\\n\\n        January 28, 2022\\n    \\n\\nJanuary 28, 2022\\n\\n\\n\\n\\n\\n\\n\\n\\n\\n\\n\\n\\n\\n\\n\\n\\n\\nAir pollution \\n\\n\\n38 days of\\n                        fresh air in 6 years\\nResidents of the capital have inhaled clean air for only 38 days in the last six years,\\n                    found a study, highlighting the gravity of the air pollution that over two crore people of the city\\n                    are...\\n\\n\\n\\n\\n\\n\\n        January 27, 2022\\n    \\n\\nJanuary 27, 2022\\n\\n\\n\\n\\n\\n\\n\\n\\n\\n\\n\\n\\n\\n\\n\\n\\n\\nPlastic pollution \\n\\n\\n‘Stop\\n                        plastic use, save Kuakata’\\nDemanding an end to the use of disposable plastics to protect the environment of\\n                    Kuakata beach, a memorandum signed by 2,783 people was handed over to the Patuakhali deputy\\n                    commissioner (DC) on...\\n\\n\\n\\n\\n\\n\\n        January 27, 2022\\n    \\n\\nJanuary 27, 2022\\n\\n\\n\\n\\n\\n\\n\\n\\n\\n\\n\\n\\n\\n\\n\\n\\n\\nAir pollution \\n\\n\\nDhaka\\n                        air pollution: Tejgaon industrial area tops the list\\nThe air quality of 10 significant areas in the capital scored below standard throughout\\n                    2021, according to a study of the Centre for Atmospheric Pollution Studies of the Department of\\n                    Environmental...\\n\\n\\n\\n\\n\\n\\n        January 25, 2022\\n    \\n\\nJanuary 25, 2022\\n\\n\\n\\n\\n\\n\\n\\n\\n\\n\\n\\n\\n\\n\\n\\n\\n\\nEnvironment \\n\\n\\nCelebrating the country’s\\n                        rivers\\nA cultural show on the country’s rivers was held at Mymensingh Zila Shilpakala Academy\\n                    auditorium on Sunday evening.\\n\\n\\n\\n\\n\\n\\n        January 23, 2022\\n    \\n\\nJanuary 23, 2022\\n\\n\\n\\n\\n\\n\\n\\n\\n\\n\\n\\n\\n\\n\\n\\n\\n\\nAir pollution \\n\\n\\nDhaka’s\\n                        air again most polluted in the world, followed by Shenyang, Kolkata\\nOnce again, Dhaka finds itself at the top of the list of cities with most polluted air\\n                    this morning.\\n\\n\\n\\n\\n\\n\\n        January 22, 2022\\n    \\n\\nJanuary 22, 2022\\n\\n\\n\\n\\n\\n\\n\\n\\n\\n\\n\\n\\n\\n\\n\\n\\n\\nAir pollution \\n\\n\\nDhaka’s\\n                        air 2nd most polluted today; Russia’s Krasnoyarsk tops AQI list\\nDhaka ranked second in the list of cities with the worst air quality around the world\\n                    this morning.\\n\\n\\n\\n\\n\\n\\n        January 20, 2022\\n    \\n\\nJanuary 20, 2022\\n\\n\\n\\n\\n\\n\\n\\n\\n\\n\\n\\n\\n\\n\\n\\n\\n\\nAir pollution \\n\\n\\nDhaka\\'s\\n                        air 2nd most polluted today, Delhi tops AQI list\\nDhaka\\'s air rated as the world\\'s second-most polluted this morning.\\n\\n\\n\\n\\n\\n\\n        January 20, 2022\\n    \\n\\nJanuary 20, 2022\\n\\n\\n\\n\\n\\n\\n\\n\\n\\n\\n\\n\\n\\n\\n\\n\\n\\nAir pollution \\n\\n\\nDhaka’s\\n                        air again worst in the world\\nDhaka’s air quality index (AQI) was recorded at 269 at 10:11am yesterday, once again\\n                    making the capital’s air the world’s most polluted.\\n\\n\\n\\n\\n\\n\\n        January 19, 2022\\n    \\n\\nJanuary 19, 2022\\n\\n\\n\\n\\n\\n\\n\\n\\n\\n\\n\\n\\n\\n\\n\\n\\n\\nAir pollution \\n\\n\\nDhaka’s\\n                        air unhealthiest yet again, Wuhan 2nd and Delhi 3rd in AQI\\nDhaka’s air is once again the world’s most polluted.\\n\\n\\n\\n\\n\\n\\n        January 19, 2022\\n    \\n\\nJanuary 19, 2022\\n\\n\\n\\n\\n\\n\\n\\n\\n\\n\\n\\n\\n\\n\\n\\n\\n\\nWater pollution \\n\\n\\nPainting a river\\n                        black\\nThe level of pollutants in the Buriganga water samples taken from some dyeing factory\\n                    effluent release points is much higher than standard levels, found a study.\\n\\n\\n\\n\\n\\n\\n        January 16, 2022\\n    \\n\\nJanuary 16, 2022\\n\\n\\n\\n\\n\\n\\n\\n\\n\\n\\n\\n\\n\\n\\n\\n\\n\\nPollution \\n\\n\\nDhaka air still\\n                        ‘unhealthy’\\nDhaka’s air quality continues to be “unhealthy”.\\n\\n\\n\\n\\n\\n\\n        January 12, 2022\\n    \\n\\nJanuary 12, 2022\\n\\n\\n\\n\\n\\n\\n\\n\\n\\n\\n\\n\\n\\n\\n\\n\\n\\nWater pollution \\n\\n\\nBuriganga\\n                        suffering, Dhaleshwari worse off\\nThe water quality of the Buriganga continues to be poor even though it has been almost\\n                    five years since the tanneries from the capital’s Hazaribagh area were relocated to an estate in\\n                    Hemayetpur of...\\n\\n\\n\\n\\n\\n\\n        January 9, 2022\\n    \\n\\nJanuary 9, 2022\\n\\n\\n\\n\\n\\n\\n\\n\\n\\n\\n\\n\\n\\n\\n\\n\\n\\nStar Health \\n\\n\\n1.8\\n                        million excess deaths attributable to urban air pollution in 2019\\nIn a The Lancet Planetary Health journal study, researchers looked at PM2.5 (fine\\n                    particulate matter with a diameter of 2.5 micrometres or less) - the leading environmental risk\\n                    factor for disease....\\n\\n\\n\\n\\n\\n\\n        January 6, 2022\\n    \\n\\nJanuary 6, 2022\\n\\n\\n\\n\\n\\n\\n\\n\\n\\n\\n\\n\\n\\n\\n\\n\\n\\nAir pollution \\n\\n\\nDhaka’s\\n                        air 2nd most polluted in the world today: AQI\\nDhaka ranked second in the list of cities with the worst air quality in the world this\\n                    afternoon.\\n\\n\\n\\n\\n\\n\\n        January 4, 2022\\n    \\n\\nJanuary 4, 2022\\n\\n\\n\\n\\n\\n\\n\\n\\n\\n\\n\\n\\n\\n\\n\\n\\n\\nAir pollution \\n\\n\\nDhaka air too\\n                        ‘unhealthy’\\nDhaka continues to gasp for fresh air as the city ranks the fourth most polluted city.\\n                    Dhaka’s air quality index (AQI) score was recorded at 197 at 10am yesterday, which is considered\\n                    “unhealthy”.\\n\\n\\n\\n\\n\\n\\n        January 3, 2022\\n    \\n\\nJanuary 3, 2022\\n\\n\\n\\n\\n\\n\\n\\n\\n\\n\\n\\n\\n\\n\\n\\n\\n\\nPollution \\n\\n\\nAir\\n                        Quality Index: Dhaka 4th most polluted, Dubai tops list\\nDhaka continues to gasp for fresh air as it ranks fourth most polluted city in the\\n                    world.\\n\\n\\n\\n\\n\\n\\n        December 21, 2021\\n    \\n\\nDecember 21, 2021\\n\\n\\n\\n\\n\\n\\n\\n\\n\\n\\n\\n\\n\\n\\n\\n\\n\\nPlastic pollution \\n\\n\\nNew\\n                        study finds plastic in \\'clean\\' air\\nFrom Mount Everest to the Mariana Trench, microplastics are everywhere – even high in\\n                    the Earth’s troposphere where wind speeds allow them to travel vast distances, a study showed\\n                    Tuesday.\\n\\n\\n\\n\\n\\n\\n        December 21, 2021\\n    \\n\\nDecember 21, 2021\\n\\n\\n\\n\\n\\n\\n\\n\\n\\n\\n\\n\\n\\n\\n\\n\\n\\nPlastic pollution \\n\\n\\nPlastic\\n                        menace worsening\\nBangladesh’s plastic consumption in urban areas tripled in the 15 years to 2020, found\\n                    a World Bank study, in what can be viewed as a setback for the government’s efforts to beat plastic\\n                    pollution.\\n\\n\\n\\n\\n\\n\\n        December 16, 2021\\n    \\n\\nDecember 16, 2021\\n\\n\\n\\n\\n\\n\\n\\n\\n\\n\\n\\n\\n\\n\\n\\n\\n\\nAir pollution \\n\\n\\nCooking stove\\n                        the killer\\nSmoke from cooking stoves that burn coal, wood, dung, and crop residues caused the\\n                    deaths of almost 18,000 people in Bangladesh in 2017, according to a global study.\\xa0\\n\\n\\n\\n\\n\\n\\n        November 24, 2021\\n    \\n\\nNovember 24, 2021\\n\\n\\n\\n\\n\\n\\n\\n\\n\\n\\n\\n\\n\\n\\n\\n\\n\\nPollution \\n\\n\\nHonking a major sound\\n                        polluter\\nHorns are a major cause of hearing loss among Dhaka residents. Despite the ban on\\n                    hydraulic horns, noise pollution couldn’t be curbed as laws remain ineffective. Speakers at a\\n                    roundtable yesterday...\\n\\n\\n\\n\\n\\n\\n        November 17, 2021\\n    \\n\\nNovember 17, 2021\\n\\n\\n\\n\\n\\n\\n\\n\\n\\n\\n\\n\\n\\n\\n\\n\\n\\nAir pollution \\n\\n\\nSchools\\n                        in Indian capital shut indefinitely as smog worsens\\nDelhi shut down schools until further notice, urged people to work from home and banned\\n                    non-essential trucks from entering the Indian capital due to dangerous levels of air pollution.\\n\\n\\n\\n\\n\\n\\n        November 5, 2021\\n    \\n\\nNovember 5, 2021\\n\\n\\n\\n\\n\\n\\n\\n\\n\\n\\n\\n\\n\\n\\n\\n\\n\\nAir pollution \\n\\n\\nDiwali\\n                        takes heavy toll on Delhi air\\nThe morning after Diwali, the Hindu festival of lights, residents of New Delhi woke up\\n                    under a blanket of toxic smog and breathed in the most dangerously polluted air of the year so far,\\n                    after...\\n\\n\\n\\n\\n\\n\\n        November 4, 2021\\n    \\n\\nNovember 4, 2021\\n\\n\\n\\n\\n\\n\\n\\n\\n\\n\\n\\n\\n\\n\\n\\n\\n\\nPollution \\n\\n\\nBhairab in peril\\nRampant river-grabbing by influential persons mixed with reluctance on the authorities’\\n                    side to take steps against them, squeezed into a corner, the Bhairab river stands as a major\\n                    waterbody being...\\n\\n\\n\\n\\n\\n\\n        October 24, 2021\\n    \\n\\nOctober 24, 2021\\n\\n\\n\\n\\n\\n\\n\\n\\n\\n\\n\\n\\n\\n\\n\\n\\n\\nAir pollution \\n\\n\\nAir\\n                        Quality Index: Dhaka world’s 2nd most polluted city\\nDhaka was ranked second in the list of cities with the worst air quality. The city’s\\n                    air quality index (AQI) was recorded at 159 around 9:15am yesterday, which is considered\\n                    “unhealthy”.\\n\\n\\n\\n\\n\\n\\n        October 20, 2021\\n    \\n\\nOctober 20, 2021\\n\\n\\n\\n\\n\\n\\n\\n\\n\\n\\n\\n\\n\\n\\n\\n\\n\\nPollution \\n\\n\\nEnvironment\\n                        Pollution: Victims should be compensated\\nA parliamentary watchdog yesterday recommended giving compensation to victims of\\n                    environment pollution from fines collected from polluters.\\n\\n\\n\\n\\n\\n\\n        October 17, 2021\\n    \\n\\nOctober 17, 2021\\n\\n\\n\\n\\n\\n\\n\\n\\n\\n\\n\\n\\n\\n\\n\\n\\n\\nWater pollution \\n\\n\\nAs our rivers lie\\n                        dying\\nTwo major riverbanks on the capital’s outskirts remain at the mercy of illegal\\n                    encroachers, and the only action the government has taken over the last decade is preparing lists of\\n                    the grabbers,\\xa0...\\n\\n\\n\\n\\n\\n\\n        September 22, 2021\\n    \\n\\nSeptember 22, 2021\\n\\n\\n\\n\\n\\n\\n\\n\\n\\n\\n\\n\\n\\n\\n\\n\\n\\nAir pollution \\n\\n\\nNew\\n                        WHO air-quality guidelines aim to cut deaths linked to fossil fuels\\nThe World Health Organisation (WHO) on Wednesday issued its first air quality\\n                    guidelines since 2005 aimed at reducing deaths from key pollutants that cause cardiovascular and\\n                    respiratory diseases.\\n\\n\\n\\n\\n\\n\\n        September 14, 2021\\n    \\n\\nSeptember 14, 2021\\n\\n\\n\\n\\n\\n\\n\\n\\n\\n\\n\\n\\n\\n\\n\\n\\n\\nPollution \\n\\n\\nAs it stands, the world\\n                        around it burns\\nFor four years now, a ship has remained anchored at Chattogram’s Parki beach.\\n\\n                \\n\\n\\n\\n\\n\\n\\n        September 12, 2021\\n    \\n\\nSeptember 12, 2021\\n\\n\\n\\n\\n\\n\\n\\n\\n\\n\\n\\n\\n\\n\\n\\n\\n\\nSound pollution \\n\\n\\n3\\n                        areas in Barishal declared ‘silent zone’\\nThree areas in Barishal city have been declared as “silent zone”.\\n\\n\\n\\n\\n\\n\\n        September 7, 2021\\n    \\n\\nSeptember 7, 2021\\n\\n\\n\\n\\n\\n\\n\\n\\n\\n\\n\\n\\n\\n\\n\\n\\n\\nAir pollution \\n\\n\\nOther cities not faring\\n                        any better\\nWhen it comes to air pollution, Dhaka continues to be one of the most polluted cities\\n                    in the world. But what about the other areas of the country?\\n\\n\\n\\n\\n\\n\\n        September 1, 2021\\n    \\n\\nSeptember 1, 2021\\n\\n\\n\\n\\n\\n\\n\\n\\n\\n\\n\\n\\n\\n\\n\\n\\n\\nAir pollution \\n\\n\\nCost\\n                        of air pollution: Takes 7.7 years off Dhaka residents\\' lives\\nDhaka residents could live 7.7 years longer if air pollution subsides, found a recent\\n                    global study.\\n\\n\\n\\n\\n\\n\\n        August 29, 2021\\n    \\n\\nAugust 29, 2021\\n\\n\\n\\n\\n\\n\\n\\n\\n\\n\\n\\n\\n\\n\\n\\n\\n\\nWater pollution \\n\\n\\nNo\\n                        proper ETP set-up: Dyeing factory fined Tk one lakh in Gazipur\\nThe Department of Environment (DoE) today fined a dyeing factory in Gazipur Tk one lakh\\n                    for not properly setting up an Effluent Treatment Plant (ETP).\\n\\n\\n\\n\\n\\n\\n        August 28, 2021\\n    \\n\\nAugust 28, 2021\\n\\n\\n\\n\\n\\n\\n\\n\\n\\n\\n\\n\\n\\n\\n\\n\\n\\nAir pollution \\n\\n\\nAir\\n                        pollution linked to severe mental illness: study\\nExposure to air pollution is linked to an increased severity of mental illness,\\n                    according to a new study published in the British Journal of Psychiatry.\\n\\n                \\n\\n\\n\\n\\n\\n\\n        August 23, 2021\\n    \\n\\nAugust 23, 2021\\n\\n\\n\\n\\n\\n\\n\\n\\n\\n\\n\\n\\n\\n\\n\\n\\n\\nAir pollution \\n\\n\\nAll\\n                        for breathable air: India\\'s first \\'smog tower\\' inaugurated in Delhi\\nIndia installed its first smog tower in New Delhi\\'s Connaught Place today. The tower\\n                    will purify 1,000 cubic meters of air per second within a radius of around 1 km.\\n\\n\\n\\n\\n\\n\\n        August 12, 2021\\n    \\n\\nAugust 12, 2021\\n\\n\\n\\n\\n\\n\\n\\n\\n\\n\\n\\n\\n\\n\\n\\n\\n\\nPollution \\n\\n\\nBSCIC\\n                        Industrial Estates: 48 factories run without ETP\\nMost look forward to the monsoon season every year, but that is not the case for\\n                    residents of the Pagar Alerteg area adjacent to the Tongi Industrial Zone of the Bangladesh Small\\n                    and Cottage...\\n\\n\\n\\n\\n\\n\\n        July 27, 2021\\n    \\n\\nJuly 27, 2021\\n\\n\\n\\n\\n\\n\\n\\n\\n\\n\\n\\n\\n\\n\\n\\n\\n\\nAir pollution \\n\\n\\nDhaka\\n                        enjoyed healthy air after Eid-ul-Azha\\nDhaka’s air saw significant fall in pollution level during the three days following\\n                    Eid-ul-Azha.\\n\\n\\n\\n\\n\\n\\n        July 27, 2021\\n    \\n\\nJuly 27, 2021\\n\\n\\n\\n\\n\\n\\n\\n\\n\\n\\n\\n\\n\\n\\n\\n\\n\\nWater pollution \\n\\n\\nFish\\n                        worth Tk 15 lakh die in Moulvibazar pond\\nFish worth around Tk 15 lakh have died due to dumping of waste of a cattle haat into\\n                    ‘Sagardighi’ in Sreemangal Municipality of Moulvibazar. The dead fish mostly rohu and pangas\\n                    weighing 2-4 kg...\\n\\n\\n\\n\\n\\n\\n        July 24, 2021\\n    \\n\\nJuly 24, 2021\\n\\n\\n\\n\\n\\n\\n\\n\\n\\n\\n\\n\\n\\n\\n\\n\\n\\nWater pollution \\n\\n\\nPollution\\n                        from animal waste: Fish worth Tk 15 lakh die in Moulvibazar pond\\nFish were dying in a pond as waste of sacrificial animals from a nearby cattle market\\n                    polluted the water in Moulvibazar’s Sreemangal upazila. \\xa0\\n\\n\\n\\n\\n\\n\\n        July 20, 2021\\n    \\n\\nJuly 20, 2021\\n\\n\\n\\n\\n\\n\\n\\n\\n\\n\\n\\n\\n\\n\\n\\n\\n\\nPollution \\n\\n\\nMulti-sector\\n                        approach imperative: speakers\\nExperts at a virtual workshop yesterday suggested forming a time-bound national\\n                    framework and proper coordination among government agencies to fight lead poisoning, which has\\n                    emerged as a global...\\n\\n\\n\\n\\n\\n\\n        July 20, 2021\\n    \\n\\nJuly 20, 2021\\n\\n\\n\\n\\n\\n\\n\\n\\n\\n\\n\\n\\n\\n\\n\\n\\n\\nWater resources \\n\\n\\nDeath\\n                        of Boral, destruction of Chalan Beel\\nA long line of buildings are marked with a red cross at Bonorupa housing society in\\n                    Bonpara municipality area in Natore’s Boraigram upazila.\\n\\n\\n\\n\\n\\n\\n        July 19, 2021\\n    \\n\\nJuly 19, 2021\\n\\n\\n\\n\\n\\n\\n\\n\\n\\n\\n\\n\\n\\n\\n\\n\\n\\nRadioactive contamination \\n\\n\\n16\\n                        factories recycling lead knocked down\\nDepartment of Environment (DoE) yesterday demolished 16 factories that were illegally\\n                    recycling lead and aluminium and jailed 13 people in this connection at Konapara of Demra in the\\n                    capital.\\n\\n\\n\\n\\n\\n\\n        July 18, 2021\\n    \\n\\nJuly 18, 2021\\n\\n\\n\\n\\n\\n\\n\\n\\n\\n\\n\\n\\n\\n\\n\\n\\n\\nAir pollution \\n\\n\\n16\\n                        factories illegally recycling lead, aluminium demolished in Demra, 13 jailed\\nDepartment of Environment (DoE) demolished 16 factories that were illegally recycling\\n                    lead and aluminium and jailed 13 people in this connection at Konapara of Demra in the capital.\\xa0\\n\\n                \\n\\n\\n\\n\\n\\n\\n        June 30, 2021\\n    \\n\\nJune 30, 2021\\n\\n\\n\\n\\n\\n\\n\\n\\n\\n\\n\\n\\n\\n\\n\\n\\n\\nAir pollution \\n\\n\\nWorld\\n                        must remove 1 billion tonnes of CO2 by 2025 to meet climate goal\\nThe current pipeline of projects in development could remove only around 150 million,\\n                    well short of what\\'s needed, the report said.\\n\\n\\n\\n\\n\\n\\n        March 14, 2021\\n    \\n\\nMarch 14, 2021\\n\\n\\n\\n\\n\\n\\n\\n\\n\\n\\n\\n\\n\\n\\n\\n\\n\\nPollution \\n\\n\\nSC\\n                        clears way to shut down illegal brick kilns in Chattogram\\nThe Supreme Court upheld a High Court directive today that asked government authorities\\n                    to shut down all brick kilns without valid licenses in Chattogram.\\n\\n\\n\\n\\n\\n\\n        March 13, 2021\\n    \\n\\nMarch 13, 2021\\n\\n\\n\\n\\n\\n\\n\\n\\n\\n\\n\\n\\n\\n\\n\\n\\n\\nPollution \\n\\n\\nDhaka’s air quality\\n                        still ‘unhealthy’\\nDhaka\\'s air quality is still \"unhealthy\". It is now sixth in the list of cities with\\n                    the worst air quality.\\n\\n\\n\\n\\n\\n\\n        March 3, 2021\\n    \\n\\nMarch 3, 2021\\n\\n\\n\\n\\n\\n\\n\\n\\n\\n\\n\\n\\n\\n\\n\\n\\n\\nPollution \\n\\n\\nDhaka\\n                        air still ‘unhealthy’ but no longer world’s most polluted city\\nSome good news: Dhaka is no longer world’s most polluted city. Lahore holds that\\n                    undesired title now.\\n\\n\\n\\n\\n\\n\\n        February 18, 2021\\n    \\n\\nFebruary 18, 2021\\n\\n\\n\\n\\n\\n\\n\\n\\n\\n\\n\\n\\n\\n\\n\\n\\n\\nPollution \\n\\n\\nAir\\n                        pollution caused 160,000 deaths in big cities last year: NGO\\nSerious pollution caused around 160,000 premature deaths in the world\\'s five most\\n                    populous cities last year, even as air quality improved in some places due to coronavirus lockdowns,\\n                    an...\\n\\n\\n\\n\\n\\n\\n        January 31, 2021\\n    \\n\\nJanuary 31, 2021\\n\\n\\n\\n\\n\\n\\n\\n\\n\\n\\n\\n\\n\\n\\n\\n\\n\\nPollution \\n\\n\\nShut\\n                        down all illegal brick kilns in Ctg immediately: HC directs govt\\nThe High Court today directed the authorities concerned of government to immediately\\n                    shut down all the illegal brick kilns in Chattogram and to submit a report after complying with the\\n                    directive by...\\n\\n\\n\\n\\n\\n\\n        January 29, 2021\\n    \\n\\nJanuary 29, 2021\\n\\n\\n\\n\\n\\n\\n\\n\\n\\n\\n\\n\\n\\n\\n\\n\\n\\nPollution \\n\\n\\nEnvironmentalists,\\n                        farmers win Dutch court case over Shell Nigeria spills\\nIn a victory for environmentalists, a Dutch appeals court has said that the Nigerian\\n                    subsidiary of Royal Dutch Shell was responsible for multiple oil pipeline leaks in the Niger Delta\\n                    and ordered...\\n\\n\\n\\n\\n\\n\\n        January 19, 2021\\n    \\n\\nJanuary 19, 2021\\n\\n\\n\\n\\n\\n\\n\\n\\n\\n\\n\\n\\n\\n\\n\\n\\n\\nEnvironment \\n\\n\\n4\\n                        illegal brick kilns demolished, one fined Tk 5 lakh in Faridpur\\nA mobile court of the Department of Environment (DoE) today demolished four illegal\\n                    brick kilns and fined another Tk five lakh in Faridpur.\\n\\n\\n\\n\\n\\n\\n        January 19, 2021\\n    \\n\\nJanuary 19, 2021\\n\\n\\n\\n\\n\\n\\n\\n\\n\\n\\n\\n\\n\\n\\n\\n\\n\\nPollution \\n\\n\\nDhaka’s air quality ‘very unhealthy’\\n                        today\\nDhaka, one the most polluted cities in the world, ranked 3rd worst in the Air Quality\\n                    Index (AQI) this afternoon.\\n\\n\\n\\n\\n\\n\\n        December 22, 2020\\n    \\n\\nDecember 22, 2020\\n\\n\\n\\n\\n\\n\\n\\n\\n\\n\\n\\n\\n\\n\\n\\n\\n\\nPollution \\n\\n\\nPollution\\n                        deaths in India rose to 1.67 million in 2019 \\nToxic air killed more people in India in 2019 than in 2017, The Lancet said in a report\\n                    shared by the government on Tuesday, with 1.67 million deaths accounting for 18% of all fatalities.\\n\\n                \\n\\n\\n\\n\\n\\n\\n        December 21, 2020\\n    \\n\\nDecember 21, 2020\\n\\n\\n\\n\\n\\n\\n\\n\\n\\n\\n\\n\\n\\n\\n\\n\\n\\nPollution \\n\\n\\nDhaka’s air quality\\n                        ‘hazardous’\\nDhaka, one the most polluted cities in the world, ranked worst in the Air Quality Index\\n                    (AQI) this morning.\\n\\n\\n\\n\\n\\n\\n        November 22, 2020\\n    \\n\\nNovember 22, 2020\\n\\n\\n\\n\\n\\n\\n\\n\\n\\n\\n\\n\\n\\n\\n\\n\\n\\nPollution \\n\\n\\nDhaka’s\\n                        deteriorating air quality triggers worsening coronavirus concern\\nDhaka’s air ranked fifth-worst in the Air Quality Index (AQI) this morning amid rising\\n                    fears that the country could be hit by a second-wave of coronavirus.\\n\\n\\n\\n\\n\\n\\n        September 27, 2020\\n    \\n\\nSeptember 27, 2020\\n\\n\\n\\n\\n\\n\\n\\n\\n\\n\\n\\n\\n\\n\\n\\n\\n\\nEnvironment \\n\\n\\nSri Lanka\\n                        returns 21 containers of illegal waste to Britain\\nSri Lanka has shipped back to Britain 21 container-loads of waste that the government\\n                    said was brought into the island in violation of international laws governing the shipping of\\n                    hazardous material.\\n\\n\\n\\n\\n\\n\\n        June 3, 2020\\n    \\n\\nJune 3, 2020\\n\\n\\n\\n\\n\\n\\n\\n\\n\\n\\n\\n\\n\\n\\n\\n\\n\\nCity \\n\\n\\nDhaka’s air improves for\\n                        second consecutive day\\nThe quality of Dhaka’s air shows signs of improvement for the second consecutive\\n                    day.\\n\\n\\n\\n\\n\\n\\n        February 3, 2020\\n    \\n\\nFebruary 3, 2020\\n\\n\\n\\n\\n\\n\\n\\n\\n\\n\\n\\n\\n\\n\\n\\n\\n\\nPollution \\n\\n\\nMasterplan\\n                        drafted to curb river pollution: Water resources state minister\\nState Minister for Water Resources Zahid Faruque tells parliament that the government\\n                    has taken an initiative to formulate a masterplan for curbing river pollution across the\\n                    country.\\n\\n\\n\\n\\n\\n\\n        December 21, 2019\\n    \\n\\nDecember 21, 2019\\n\\n\\n\\n\\n\\n\\n\\n\\n\\n\\n\\n\\n\\n\\n\\n\\n\\nPollution \\n\\n\\nAir\\n                        pollution: Tanneries burning leather wastes at Dhaleshwari\\nFor last two years the authorities of Tannery Industrial Estate are polluting the\\n                    Dhaleshwari river dumping liquid waste as their effluent treatment plant is not ready yet, now they\\n                    are also...\\n\\n\\n\\n\\n\\n\\n        December 5, 2019\\n    \\n\\nDecember 5, 2019\\n\\n\\n\\n\\n\\n\\n\\n\\n\\n\\n\\n\\n\\n\\n\\n\\n\\nPollution \\n\\n\\nMobile\\n                        court demolishes illegal brick kiln in Savar\\nA team of Department of Environment (DoE) demolishes one illegal brick kiln and\\n                    detained its staff in a drive in Savar. \\n\\n\\n\\n\\n\\n\\n        December 3, 2019\\n    \\n\\nDecember 3, 2019\\n\\n\\n\\n\\n\\n\\n\\n\\n\\n\\n\\n\\n\\n\\n\\n\\n\\nPollution \\n\\n\\nBuriganga\\n                        River pollution must be stopped: HC\\nThe High Court today observes that the Dhaka Water Supply and Sewerage Authority (Wasa)\\n                    is the concerned authority to control and stop 68 underground drains and sewerage lines connected\\n                    to...\\n\\n\\n\\n\\n\\n\\n        December 2, 2019\\n    \\n\\nDecember 2, 2019\\n\\n\\n\\n\\n\\n\\n\\n\\n\\n\\n\\n\\n\\n\\n\\n\\n\\nPollution \\n\\n\\nMobile\\n                        courts to act against dust pollution: Khokon\\nDhaka city corporation authorities will conduct mobile court drive against the sources\\n                    of dust pollution, Mayor Sayeed Khokon says.\\n\\n\\n\\n\\n\\n\\n        November 26, 2019\\n    \\n\\nNovember 26, 2019\\n\\n\\n\\n\\n\\n\\n\\n\\n\\n\\n\\n\\n\\n\\n\\n\\n\\nPollution \\n\\n\\n\\'Shut\\n                        illegal brick kilns in 15 days to reduce air pollution\\'\\nThe High Court orders the government to conduct mobile court drives to shut the illegal\\n                    brick kilns in five districts -- Dhaka, Narayanganj, Gazipur, Munshiganj and Manikganj -- in 15 days\\n                    for...\\n\\n\\n\\n\\n\\n\\n        November 25, 2019\\n    \\n\\nNovember 25, 2019\\n\\n\\n\\n\\n\\n\\n\\n\\n\\n\\n\\n\\n\\n\\n\\n\\n\\nPollution \\n\\n\\nPilot project\\n                        from Dec 17 for sound-pollution-free Dhaka\\nA pilot project to make Dhaka city free from sound-pollution will begin from 17th\\n                    December, Environment, Forest and Climate Change Minister Md Shahab Uddin says.\\n\\n\\n\\n\\n\\n\\n        November 25, 2019\\n    \\n\\nNovember 25, 2019\\n\\n\\n\\n\\n\\n\\n\\n\\n\\n\\n\\n\\n\\n\\n\\n\\n\\nPollution \\n\\n\\nDhaka now most air polluted\\n                        city in the world: Minister\\nDhaka city has the most polluted air in the world as level of air pollution has been\\n                    increasing, Environment, Forests and Climate Change Minister Md Shahab Uddin says.\\n\\n\\n\\n\\n\\n\\n        September 30, 2019\\n    \\n\\nSeptember 30, 2019\\n\\n\\n\\n\\n\\n\\n\\n\\n\\n\\n\\n\\n\\n\\n\\n\\n\\nPollution \\n\\n\\nBangkok enshrouded in\\n                        toxic air\\nAn unhealthy level of air pollution covers 14 areas of Greater Bangkok, according to\\n                    the country\\'s Pollution Control Department due to particulate matter smaller than 2.5 micrometres\\n                    (PM2.5).\\n\\n\\n\\n\\n\\n\\n        September 18, 2019\\n    \\n\\nSeptember 18, 2019\\n\\n\\n\\n\\n\\n\\n\\n\\n\\n\\n\\n\\n\\n\\n\\n\\n\\nHealthcare \\n\\n\\nStudy\\n                        finds air pollution reaches placenta during pregnancy\\nA new study suggests when a pregnant woman breathes in air pollution, it can travel\\n                    beyond her lungs to the placenta that guards her fetus.\\n\\n\\n\\n\\n\\n\\n        August 18, 2019\\n    \\n\\nAugust 18, 2019\\n\\n\\n\\n\\n\\n\\n\\n\\n\\n\\n\\n\\n\\n\\n\\n\\n\\nPollution \\n\\n\\nAsian\\n                        Paper Mill ordered to shut for polluting Halda \\nThe Environment department orders Asian Paper Mill to shut down for polluting a water\\n                    body that drains into the Halda river in Chattogram.\\n\\n                \\n\\n\\n\\n\\n\\n\\n        July 16, 2019\\n    \\n\\nJuly 16, 2019\\n\\n\\n\\n\\n\\n\\n\\n\\n\\n\\n\\n\\n\\n\\n\\n\\n\\nSoutheast Asia \\n\\n\\nJava pre-teen writes to Trump\\n\\nAeshnina Azzahra, a 12-year-old from Gresik, East Java, writes to Trump complaining\\n                    about the amount of waste US exports to Indonesia and urges him to stop the practice.\\n\\n\\n\\n\\n\\n\\n        July 8, 2019\\n    \\n\\nJuly 8, 2019\\n\\n\\n\\n\\n\\n\\n\\n\\n\\n\\n\\n\\n\\n\\n\\n\\n\\nPollution \\n\\n\\nWaste\\n                        oil dumped into water body linked to Halda river\\nUntreated furnace oil has been allegedly released to a nearby water body that connects\\n                    the Halda river from a power plant in Chattogram’s Hathazari upazila.\\n\\n\\n\\n\\n\\n\\n        June 24, 2019\\n    \\n\\nJune 24, 2019\\n\\n\\n\\n\\n\\n\\n\\n\\n\\n\\n\\n\\n\\n\\n\\n\\n\\nHealthcare \\n\\n\\nSmoking at home\\n                        to soon become a punishable offence in Thailand\\nPeople in Thailand will no longer be allowed to smoke at home if their habit has a\\n                    negative effect on other family members due to exposure to second-hand smoke, says the Act on\\n                    Promotion of the...\\n\\n\\n\\n\\n\\n\\n        May 23, 2019\\n    \\n\\nMay 23, 2019\\n\\n\\n\\n\\n\\n\\n\\n\\n\\n\\n\\n\\n\\n\\n\\n\\n\\nPollution \\n\\n\\nIllegal\\n                        ozone-depleting gases traced to China: study\\nIndustries in northeastern China have spewed large quantities of an ozone-depleting gas\\n                    into the atmosphere in violation of an international treaty, scientists say.\\n\\n\\n\\n\\n\\n\\n        May 14, 2019\\n    \\n\\nMay 14, 2019\\n\\n\\n\\n\\n\\n\\n\\n\\n\\n\\n\\n\\n\\n\\n\\n\\n\\nPollution \\n\\n\\nTrash\\n                        found littering ocean floor in deepest-ever sub dive\\nOn the deepest dive ever made by a human inside a submarine, a Texas investor and\\n                    explorer finds something he could have found in the gutter of nearly any street in the world:\\n                    trash.\\n\\n\\n\\n\\n\\n\\n        March 12, 2019\\n    \\n\\nMarch 12, 2019\\n\\n\\n\\n\\n\\n\\n\\n\\n\\n\\n\\n\\n\\n\\n\\n\\n\\nPollution \\n\\n\\nAir\\n                        pollution causes 8.8m deaths worldwide: Study\\nAir pollution causes 790,000 premature deaths every year in Europe and 8.8 million\\n                    worldwide, doubling recent assessments, according to a study.\\n\\n\\n\\n\\n\\n\\n        February 19, 2019\\n    \\n\\nFebruary 19, 2019\\n\\n\\n\\n\\n\\n\\n\\n\\n\\n\\n\\n\\n\\n\\n\\n\\n\\nPollution \\n\\n\\nThai govt starts\\n                        planning for smog season\\nThe government in Thailand has begun planning ahead for the next “smog season” in\\n                    Bangkok, preparing a graduated system of emergency responses and possibly a major upgrade for the\\n                    transport sector.\\n\\n\\n\\n\\n\\n\\n        February 2, 2019\\n    \\n\\nFebruary 2, 2019\\n\\n\\n\\n\\n\\n\\n\\n\\n\\n\\n\\n\\n\\n\\n\\n\\n\\nPollution \\n\\n\\nThai govt\\n                        apologises for Bangkok’s hazardous smog\\nThai government apologises to Bangkok citizens about the air pollution that continues\\n                    to disrupt their daily lives and is threatening their health. \\n\\n\\n\\n\\n\\n\\n        January 31, 2019\\n    \\n\\nJanuary 31, 2019\\n\\n\\n\\n\\n\\n\\n\\n\\n\\n\\n\\n\\n\\n\\n\\n\\n\\nPollution \\n\\n\\nSchools\\n                        shut as toxic smog chokes Bangkok\\nToxic smog forced hundreds of Bangkok schools to close yesterday, as authorities\\n                    struggle to manage a pollution crisis that has stirred widespread health fears and taken on a\\n                    political edge just...\\n\\n\\n\\n\\n\\n\\n        January 29, 2019\\n    \\n\\nJanuary 29, 2019\\n\\n\\n\\n\\n\\n\\n\\n\\n\\n\\n\\n\\n\\n\\n\\n\\n\\nCity \\n\\n\\nTake actions against air\\n                        polluters\\nThe High Court (HC) yesterday ordered the director general (DG) of Department of\\n                    Environment (DoE) to take steps to conduct mobile court twice a week against those responsible for\\n                    air pollution in...\\n\\n\\n\\n\\n\\n\\n        January 22, 2019\\n    \\n\\nJanuary 22, 2019\\n\\n\\n\\n\\n\\n\\n\\n\\n\\n\\n\\n\\n\\n\\n\\n\\n\\nAsia \\n\\n\\nUnhappiness linked to poor\\n                        air quality in China\\nEye-watering, throat-scratching air pollution is a major driver of big city blues in\\n                    China, according to a study published that matched social network chatter with fine-particle\\n                    pollution levels.\\n\\n\\n\\n\\n\\n\\n        January 21, 2019\\n    \\n\\nJanuary 21, 2019\\n\\n\\n\\n\\n\\n\\n\\n\\n\\n\\n\\n\\n\\n\\n\\n\\n\\nPollution \\n\\n\\nChina to step up fight on air\\n                        pollution\\nChina’s top environmental watchdog has vowed to succeed in air pollution control this\\n                    year by enhancing the management of diesel-powered trucks while further reducing industrial\\n                    emissions.\\n\\n\\n\\n\\n\\n\\n        November 22, 2018\\n    \\n\\nNovember 22, 2018\\n\\n\\n\\n\\n\\n\\n\\n\\n\\n\\n\\n\\n\\n\\n\\n\\n\\nSundarbans & Forest \\n\\n\\nWhale found\\n                        dead with 6kg plastic trash in stomach\\nA sperm whale found dead in a national park in Indonesia had nearly six kilogrammes\\n                    (13.2 lbs) of plastic waste, including 115 cups, in its stomach, park officials say.\\n\\n\\n\\n\\n\\n\\n        September 20, 2018\\n    \\n\\nSeptember 20, 2018\\n\\n\\n\\n\\n\\n\\n\\n\\n\\n\\n\\n\\n\\n\\n\\n\\n\\nPollution \\n\\n\\nMicroplastics\\n                        may enter foodchain through mosquitoes\\nMosquito larvae have been observed ingesting microplastics that can be passed up the\\n                    food chain, researchers say, potentially uncovering a new way that the polluting particles could\\n                    damage the...\\n\\n\\n\\n\\n\\n\\n        September 19, 2018\\n    \\n\\nSeptember 19, 2018\\n\\n\\n\\n\\n\\n\\n\\n\\n\\n\\n\\n\\n\\n\\n\\n\\n\\nHealthcare \\n\\n\\nAir pollution linked\\n                        to higher risk of dementia: Study\\nUrban air pollution, mostly from vehicles, is associated with an increased risk of\\n                    dementia, a research says.\\n\\n\\n\\n\\n\\n\\n        September 10, 2018\\n    \\n\\nSeptember 10, 2018\\n\\n\\n\\n\\n\\n\\n\\n\\n\\n\\n\\n\\n\\n\\n\\n\\n\\nPollution \\n\\n\\nThe\\n                        Ocean Cleanup project sails out to sweep Pacific plastic\\nA supply ship towing a long floating boom designed to corral ocean plastic sets sail\\n                    from San Francisco for a test run ahead of a trip to the Great Pacific Garbage Patch.\\n\\n\\n\\n\\n\\n\\n        June 14, 2018\\n    \\n\\nJune 14, 2018\\n\\n\\n\\n\\n\\n\\n\\n\\n\\n\\n\\n\\n\\n\\n\\n\\n\\nIndia \\n\\n\\nDelhi air pollution\\n                        ‘severe’ for 3rd day\\nThe air pollution in Delhi, India’s most polluted city, continue to be above the\\n                    \"severe\" level for the third day as authorities caution people against staying outdoors for more\\n                    than...\\n\\n\\n\\n\\n\\n\\n        May 7, 2018\\n    \\n\\nMay 7, 2018\\n\\n\\n\\n\\n\\n\\n\\n\\n\\n\\n\\n\\n\\n\\n\\n\\n\\nInnovation \\n\\n\\nChinese\\n                        scientists develop new material for water purification\\nChinese scientists have come up with a new membrane material which can efficiently\\n                    separate salt from water and has other water purification functions.\\n\\n\\n\\n\\n\\n\\n        May 2, 2018\\n    \\n\\nMay 2, 2018\\n\\n\\n\\n\\n\\n\\n\\n\\n\\n\\n\\n\\n\\n\\n\\n\\n\\nPollution \\n\\n\\n9\\n                        out of 10 people worldwide breathe polluted air: WHO\\nNine out of 10 people breathe air containing high levels of pollutants, shows new data\\n                    from the United Nations World Health Organization (WHO).\\n\\n\\n\\n\\n\\n\\n        April 21, 2018\\n    \\n\\nApril 21, 2018\\n\\n\\n\\n\\n\\n\\n\\n\\n\\n\\n\\n\\n\\n\\n\\n\\n\\nPollution \\n\\n\\nBan\\n                        on polythene: Punish rule violators, experts demand\\nEnvironmentalists demand exemplary punishment for the people who are violating the law\\n                    banning production and use of polythene.\\n\\n\\n\\n\\n\\n\\n        March 10, 2018\\n    \\n\\nMarch 10, 2018\\n\\n\\n\\n\\n\\n\\n\\n\\n\\n\\n\\n\\n\\n\\n\\n\\n\\nHealthcare \\n\\n\\nExposure\\n                        to air pollution during pregnancy could change children\\'s brain structure \\nA new European research finds that exposure to air pollution during pregnancy could\\n                    affect the cognitive function of children, by changing the structure of the brain.\\n\\n\\n\\n\\n\\n\\n        February 7, 2018\\n    \\n\\nFebruary 7, 2018\\n\\n\\n\\n\\n\\n\\n\\n\\n\\n\\n\\n\\n\\n\\n\\n\\n\\nPollution \\n\\n\\nOzone\\n                        layer declining over populated zones, study says\\nThe ozone layer that protects life on Earth from deadly ultraviolet radiation is\\n                    unexpectedly declining above the planet\\'s most populated regions, a study says.\\n\\n\\n\\n\\n\\n\\n        January 15, 2018\\n    \\n\\nJanuary 15, 2018\\n\\n\\n\\n\\n\\n\\n\\n\\n\\n\\n\\n\\n\\n\\n\\n\\n\\nPollution \\n\\n\\nChina\\n                        punishes officials for tampering with smog monitoring\\nChina has punished officials in the provinces of Jiangxi and Henan for tampering with\\n                    pollution monitoring equipment in order to reduce smog readings, the environment ministry says in a\\n                    notice.\\n\\n\\n\\n\\n\\n\\n        December 6, 2017\\n    \\n\\nDecember 6, 2017\\n\\n\\n\\n\\n\\n\\n\\n\\n\\n\\n\\n\\n\\n\\n\\n\\n\\nPollution \\n\\n\\nBabies\\' brains at\\n                        risk from toxic pollution: UN\\nAs New Delhi and other major cities hit new toxic smog peaks, the United Nations sounds\\n                    the alarm over the damage that pollution is doing to babies\\' developing brains.\\n\\n\\n\\n\\n\\n\\n        October 28, 2017\\n    \\n\\nOctober 28, 2017\\n\\n\\n\\n\\n\\n\\n\\n\\n\\n\\n\\n\\n\\n\\n\\n\\n\\nPollution \\n\\n\\nTake\\n                        steps to control road dust in winter: Activists \\nGreen activists ask the authorities concerned to take monitoring initiatives to check\\n                    dust pollution in Dhaka city as its air quality is set to fall with the onset of dry season.\\n\\n\\n\\n\\n\\n\\n        September 17, 2017\\n    \\n\\nSeptember 17, 2017\\n\\n\\n\\n\\n\\n\\n\\n\\n\\n\\n\\n\\n\\n\\n\\n\\n\\nEconomy \\n\\n\\nWater:\\n                        Garments’ invisible price\\nBangladesh boasts as the world’s number two garment exporter. Every third European has\\n                    a t-shirt made in Bangladesh on his back. Every fifth American wears jeans manufactured in\\n                    Bangladesh.\\n                    ...\\n\\n\\n\\n\\n\\n\\n        August 23, 2017\\n    \\n\\nAugust 23, 2017\\n\\n\\n\\n\\n\\n\\n\\n\\n\\n\\n\\n\\n\\n\\n\\n\\n\\nPollution \\n\\n\\nGovt\\n                        asked to stop use of pneumatic horn in Dhaka\\nThe High Court directs the government to take necessary steps in 48 hours to stop the\\n                    use of pneumatic horns in vehicles in Dhaka city to prevent sound pollution. The court asked the\\n                    government to...\\n\\n\\n\\n\\n\\n\\n        July 13, 2017\\n    \\n\\nJuly 13, 2017\\n\\n\\n\\n\\n\\n\\n\\n\\n\\n\\n\\n\\n\\n\\n\\n\\n\\nBusiness \\n\\n\\n4\\n                        Asian countries have world’s most coal plant projects\\nChina, India, Indonesia and Vietnam have the world’s four biggest coal-fired power\\n                    plants in pipeline. Together, they represent 82 percent of the 718 units globally under\\n                    construction.\\n\\n\\n\\n\\n\\n\\n        June 5, 2017\\n    \\n\\nJune 5, 2017\\n\\n\\n\\n\\n\\n\\n\\n\\n\\n\\n\\n\\n\\n\\n\\n\\n\\nEconomy \\n\\n\\nLighter\\n                        vessel sinks in Bagerhat\\nA lighter vessel carrying 800 tonnes of cement clinkers capsizes in Pashur River along\\n                    the Sundarbans in Bagerhat.\\n\\n\\n\\n\\n\\n\\n        May 30, 2017\\n    \\n\\nMay 30, 2017\\n\\n\\n\\n\\n\\n\\n\\n\\n\\n\\n\\n\\n\\n\\n\\n\\n\\nHealthcare \\n\\n\\nTobacco kills\\n                        7 million a year, wreaks environmental havoc: WHO\\nSmoking and other tobacco use kills more than seven million people each year, the World\\n                    Health Organization says, also warning of the dire environmental impact of tobacco production,\\n                    distribution...\\n\\n\\n\\n\\n\\n\\n        March 19, 2017\\n    \\n\\nMarch 19, 2017\\n\\n\\n\\n\\n\\n\\n\\n\\n\\n\\n\\n\\n\\n\\n\\n\\n\\nPollution \\n\\n\\nChinese\\n                        firms offer pollution solution with bottled air\\nEven as Chinese Premier Li Keqiang pledges to ensure that blue skies never become a\\n                    luxury, a state-backed firm is doing brisk business selling 48 yuan ($6.95) cans of fresh air\\n                    bottled in a forest...\\n\\n\\n\\n\\n\\n\\n        January 13, 2017\\n    \\n\\nJanuary 13, 2017\\n\\n\\n\\n\\n\\n\\n\\n\\n\\n\\n\\n\\n\\n\\n\\n\\n\\nCountry \\n\\n\\nCoal vessel sinks near\\n                        Sundarbans, all rescued\\nLighter vessel, carrying 1,000 tonnes of coal sinks west of Zulfikar Channel on the way\\n                    in to Passur River – some 10 kilometres into the estuary of Bay. All 13 aboard the vessel have been\\n                    rescued.\\n\\n\\n\\n\\n\\n\\n        December 12, 2016\\n    \\n\\nDecember 12, 2016\\n\\n\\n\\n\\n\\n\\n\\n\\n\\n\\n\\n\\n\\n\\n\\n\\n\\nSpace Science \\n\\n\\nChina’s\\n                        new weather satellite can study lightning, pollutants\\nChina launches a new-generation weather satellite that can improve weather forecasting\\n                    as well as help study lightning and air pollutants, including PM2.5.\\n\\n\\n\\n\\n\\n\\n        November 14, 2016\\n    \\n\\nNovember 14, 2016\\n\\n\\n\\n\\n\\n\\n\\n\\n\\n\\n\\n\\n\\n\\n\\n\\n\\nPollution \\n\\n\\nPollution\\n                        may force Delhi residents to pack up and go\\nAir quality has fallen to levels not seen in two decades amid calls for authorities to\\n                    take urgent action.\\n\\n\\n\\n\\n\\n\\n        October 25, 2016\\n    \\n\\nOctober 25, 2016\\n\\n\\n\\n\\n\\n\\n\\n\\n\\n\\n\\n\\n\\n\\n\\n\\n\\nHealth alert \\n\\n\\nAir pollution\\n                        can affect blood pressure: study\\nLong-term exposure to urban air pollution incrementally increases the risk of high\\n                    blood pressure, according to a study.\\n\\n\\n\\n\\n\\n\\n        September 17, 2015\\n    \\n\\nSeptember 17, 2015\\n\\n\\n\\n\\n\\n\\n\\n\\n\\n\\n\\n\\n\\n\\n\\n\\n\\nEnvironment \\n\\n\\nSouth Asian rights\\n                        body calls for halt to Rampal plant\\nSouth Asians for Human Rights (SAHR), a regional human rights group, calls for\\n                    suspension of Rampal plant’s construction in the Sundarbans and urged for an impartial impact\\n                    assessment.\\n\\n\\n\\n\\n\\n\\n        August 6, 2015\\n    \\n\\nAugust 6, 2015\\n\\n\\n\\n\\n\\n\\n\\n\\n\\n\\n\\n\\n\\n\\n\\n\\n\\nEnvironment \\n\\n\\nFast-growth fish risks\\n                        overlooked\\nA study of global fish populations suggests fast-growth fish species are more\\n                    vulnerable to population collapses than previously thought.\\n\\n\\n\\n'"
      ]
     },
     "execution_count": 3,
     "metadata": {},
     "output_type": "execute_result"
    }
   ],
   "source": [
    "from urllib.request import urlopen\n",
    "from bs4 import BeautifulSoup\n",
    "import codecs\n",
    "\n",
    "news_html_file = '/home/asif/PycharmProjects/Air_Quality_Analysis/Files/daily_star_articles.html'\n",
    "\n",
    "f=codecs.open(news_html_file, 'r')\n",
    "html_text = f.read()\n",
    "# print(html_text)\n",
    "soup = BeautifulSoup(html_text, features=\"html.parser\")\n",
    "\n",
    "# print(soup)\n",
    "# for link in soup.find_all(\"a\"):\n",
    "#   print(\"Inner Text: {}\".format(link.text))\n",
    "#   print(\"Title: {}\".format(link.get(\"title\")))\n",
    "#   print(\"href: {}\".format(link.get(\"href\")))\n",
    "\n",
    "# kill all script and style elements\n",
    "# for script_style in soup([\"script\", \"style\"]):\n",
    "#     script_style.extract()    # rip it out\n",
    "\n",
    "# get text\n",
    "space_line_raw_text = soup.get_text()\n",
    "space_line_raw_text\n"
   ]
  },
  {
   "cell_type": "code",
   "execution_count": 4,
   "metadata": {
    "pycharm": {
     "name": "#%%\n"
    }
   },
   "outputs": [],
   "source": [
    "\n",
    "browser = prepare_firefox_driver()\n",
    "url = pathlib.Path(news_html_file).as_uri()\n",
    "browser.get(url)"
   ]
  },
  {
   "cell_type": "code",
   "execution_count": 5,
   "metadata": {
    "pycharm": {
     "name": "#%%\n"
    }
   },
   "outputs": [
    {
     "data": {
      "text/plain": [
       "2022-02-03    1\n",
       "2022-02-02    1\n",
       "2022-02-01    1\n",
       "2022-01-28    1\n",
       "2022-01-28    1\n",
       "             ..\n",
       "2016-12-12    1\n",
       "2016-11-14    1\n",
       "2016-10-25    1\n",
       "2015-09-17    1\n",
       "2015-08-06    1\n",
       "Length: 108, dtype: int64"
      ]
     },
     "execution_count": 5,
     "metadata": {},
     "output_type": "execute_result"
    }
   ],
   "source": [
    "date_class_name =  \"columns shrink small-full-width load-more-date text-10 font-open-sans hide-for-small-only\"\n",
    "date_class_name = \".\"+date_class_name.replace(\" \",\".\")\n",
    "# date_class_name\n",
    "\n",
    "dates = pd.Series(browser.find_elements_by_css_selector(date_class_name))\n",
    "dates = pd.to_datetime(dates.apply(lambda date : date.text ))\n",
    "dates = pd.Series(index = dates.values , data = 1)\n",
    "dates"
   ]
  },
  {
   "cell_type": "code",
   "execution_count": 15,
   "metadata": {
    "pycharm": {
     "name": "#%%\n"
    }
   },
   "outputs": [
    {
     "data": {
      "application/vnd.plotly.v1+json": {
       "config": {
        "plotlyServerURL": "https://plot.ly"
       },
       "data": [
        {
         "hovertemplate": "variable=count<br>date=%{x}<br>value=%{y}<extra></extra>",
         "legendgroup": "count",
         "marker": {
          "color": "rgb(76,114,176)",
          "opacity": 0.75,
          "symbol": "circle"
         },
         "mode": "markers",
         "name": "count",
         "orientation": "v",
         "showlegend": true,
         "type": "scatter",
         "x": [
          "2015-08-31T00:00:00",
          "2015-09-30T00:00:00",
          "2015-10-31T00:00:00",
          "2015-11-30T00:00:00",
          "2015-12-31T00:00:00",
          "2016-01-31T00:00:00",
          "2016-02-29T00:00:00",
          "2016-03-31T00:00:00",
          "2016-04-30T00:00:00",
          "2016-05-31T00:00:00",
          "2016-06-30T00:00:00",
          "2016-07-31T00:00:00",
          "2016-08-31T00:00:00",
          "2016-09-30T00:00:00",
          "2016-10-31T00:00:00",
          "2016-11-30T00:00:00",
          "2016-12-31T00:00:00",
          "2017-01-31T00:00:00",
          "2017-02-28T00:00:00",
          "2017-03-31T00:00:00",
          "2017-04-30T00:00:00",
          "2017-05-31T00:00:00",
          "2017-06-30T00:00:00",
          "2017-07-31T00:00:00",
          "2017-08-31T00:00:00",
          "2017-09-30T00:00:00",
          "2017-10-31T00:00:00",
          "2017-11-30T00:00:00",
          "2017-12-31T00:00:00",
          "2018-01-31T00:00:00",
          "2018-02-28T00:00:00",
          "2018-03-31T00:00:00",
          "2018-04-30T00:00:00",
          "2018-05-31T00:00:00",
          "2018-06-30T00:00:00",
          "2018-07-31T00:00:00",
          "2018-08-31T00:00:00",
          "2018-09-30T00:00:00",
          "2018-10-31T00:00:00",
          "2018-11-30T00:00:00",
          "2018-12-31T00:00:00",
          "2019-01-31T00:00:00",
          "2019-02-28T00:00:00",
          "2019-03-31T00:00:00",
          "2019-04-30T00:00:00",
          "2019-05-31T00:00:00",
          "2019-06-30T00:00:00",
          "2019-07-31T00:00:00",
          "2019-08-31T00:00:00",
          "2019-09-30T00:00:00",
          "2019-10-31T00:00:00",
          "2019-11-30T00:00:00",
          "2019-12-31T00:00:00",
          "2020-01-31T00:00:00",
          "2020-02-29T00:00:00",
          "2020-03-31T00:00:00",
          "2020-04-30T00:00:00",
          "2020-05-31T00:00:00",
          "2020-06-30T00:00:00",
          "2020-07-31T00:00:00",
          "2020-08-31T00:00:00",
          "2020-09-30T00:00:00",
          "2020-10-31T00:00:00",
          "2020-11-30T00:00:00",
          "2020-12-31T00:00:00",
          "2021-01-31T00:00:00",
          "2021-02-28T00:00:00",
          "2021-03-31T00:00:00",
          "2021-04-30T00:00:00",
          "2021-05-31T00:00:00",
          "2021-06-30T00:00:00",
          "2021-07-31T00:00:00",
          "2021-08-31T00:00:00",
          "2021-09-30T00:00:00",
          "2021-10-31T00:00:00",
          "2021-11-30T00:00:00",
          "2021-12-31T00:00:00",
          "2022-01-31T00:00:00",
          "2022-02-28T00:00:00"
         ],
         "xaxis": "x",
         "y": [
          1,
          1,
          0,
          0,
          0,
          0,
          0,
          0,
          0,
          0,
          0,
          0,
          0,
          0,
          1,
          1,
          1,
          1,
          0,
          1,
          0,
          1,
          1,
          1,
          1,
          1,
          1,
          0,
          1,
          1,
          1,
          1,
          1,
          2,
          1,
          0,
          0,
          3,
          0,
          1,
          0,
          4,
          2,
          1,
          0,
          2,
          1,
          2,
          1,
          2,
          0,
          3,
          4,
          0,
          1,
          0,
          0,
          0,
          1,
          0,
          0,
          1,
          0,
          1,
          2,
          4,
          1,
          3,
          0,
          0,
          1,
          7,
          4,
          5,
          3,
          4,
          3,
          17,
          3
         ],
         "yaxis": "y"
        },
        {
         "hovertemplate": "<b>OLS trendline</b><br>value = 1.70673e-08 * date + -24.977<br>R<sup>2</sup>=0.205693<br><br>variable=count<br>date=%{x}<br>value=%{y} <b>(trend)</b><extra></extra>",
         "legendgroup": "count",
         "marker": {
          "color": "rgb(76,114,176)",
          "symbol": "circle"
         },
         "mode": "lines",
         "name": "count",
         "showlegend": false,
         "type": "scatter",
         "x": [
          "2015-08-31T00:00:00",
          "2015-09-30T00:00:00",
          "2015-10-31T00:00:00",
          "2015-11-30T00:00:00",
          "2015-12-31T00:00:00",
          "2016-01-31T00:00:00",
          "2016-02-29T00:00:00",
          "2016-03-31T00:00:00",
          "2016-04-30T00:00:00",
          "2016-05-31T00:00:00",
          "2016-06-30T00:00:00",
          "2016-07-31T00:00:00",
          "2016-08-31T00:00:00",
          "2016-09-30T00:00:00",
          "2016-10-31T00:00:00",
          "2016-11-30T00:00:00",
          "2016-12-31T00:00:00",
          "2017-01-31T00:00:00",
          "2017-02-28T00:00:00",
          "2017-03-31T00:00:00",
          "2017-04-30T00:00:00",
          "2017-05-31T00:00:00",
          "2017-06-30T00:00:00",
          "2017-07-31T00:00:00",
          "2017-08-31T00:00:00",
          "2017-09-30T00:00:00",
          "2017-10-31T00:00:00",
          "2017-11-30T00:00:00",
          "2017-12-31T00:00:00",
          "2018-01-31T00:00:00",
          "2018-02-28T00:00:00",
          "2018-03-31T00:00:00",
          "2018-04-30T00:00:00",
          "2018-05-31T00:00:00",
          "2018-06-30T00:00:00",
          "2018-07-31T00:00:00",
          "2018-08-31T00:00:00",
          "2018-09-30T00:00:00",
          "2018-10-31T00:00:00",
          "2018-11-30T00:00:00",
          "2018-12-31T00:00:00",
          "2019-01-31T00:00:00",
          "2019-02-28T00:00:00",
          "2019-03-31T00:00:00",
          "2019-04-30T00:00:00",
          "2019-05-31T00:00:00",
          "2019-06-30T00:00:00",
          "2019-07-31T00:00:00",
          "2019-08-31T00:00:00",
          "2019-09-30T00:00:00",
          "2019-10-31T00:00:00",
          "2019-11-30T00:00:00",
          "2019-12-31T00:00:00",
          "2020-01-31T00:00:00",
          "2020-02-29T00:00:00",
          "2020-03-31T00:00:00",
          "2020-04-30T00:00:00",
          "2020-05-31T00:00:00",
          "2020-06-30T00:00:00",
          "2020-07-31T00:00:00",
          "2020-08-31T00:00:00",
          "2020-09-30T00:00:00",
          "2020-10-31T00:00:00",
          "2020-11-30T00:00:00",
          "2020-12-31T00:00:00",
          "2021-01-31T00:00:00",
          "2021-02-28T00:00:00",
          "2021-03-31T00:00:00",
          "2021-04-30T00:00:00",
          "2021-05-31T00:00:00",
          "2021-06-30T00:00:00",
          "2021-07-31T00:00:00",
          "2021-08-31T00:00:00",
          "2021-09-30T00:00:00",
          "2021-10-31T00:00:00",
          "2021-11-30T00:00:00",
          "2021-12-31T00:00:00",
          "2022-01-31T00:00:00",
          "2022-02-28T00:00:00"
         ],
         "xaxis": "x",
         "y": [
          -0.38337496880953026,
          -0.3391364621653459,
          -0.29342333863301917,
          -0.24918483198883123,
          -0.20347170845650453,
          -0.15775858492417427,
          -0.11499469516812866,
          -0.06928157163580195,
          -0.025043064991614017,
          0.020670058540712688,
          0.06490856518490062,
          0.11062168871722733,
          0.15633481224955403,
          0.20057331889374197,
          0.24628644242606867,
          0.2905249490702566,
          0.3362380726025833,
          0.38195119613491,
          0.4232404690028204,
          0.4689535925351471,
          0.5131920991793351,
          0.5589052227116618,
          0.6031437293558497,
          0.6488568528881764,
          0.6945699764205031,
          0.738808483064691,
          0.7845216065970178,
          0.8287601132412057,
          0.8744732367735324,
          0.9201863603058591,
          0.9614756331737659,
          1.0071887567060926,
          1.0514272633502806,
          1.0971403868826073,
          1.1413788935267952,
          1.187092017059122,
          1.2328051405914486,
          1.2770436472356366,
          1.3227567707679633,
          1.3669952774121512,
          1.412708400944478,
          1.4584215244768046,
          1.499710797344715,
          1.5454239208770417,
          1.5896624275212297,
          1.6353755510535564,
          1.6796140576977443,
          1.725327181230071,
          1.7710403047623977,
          1.8152788114065856,
          1.8609919349389124,
          1.9052304415831003,
          1.950943565115427,
          1.9966566886477537,
          2.0394205784037993,
          2.0851337019361296,
          2.129372208580314,
          2.175085332112644,
          2.2193238387568286,
          2.2650369622891553,
          2.3107500858214856,
          2.35498859246567,
          2.400701715998,
          2.4449402226421846,
          2.490653346174515,
          2.5363664697068415,
          2.5776557425747484,
          2.623368866107075,
          2.667607372751263,
          2.7133204962835897,
          2.7575590029277777,
          2.8032721264601044,
          2.848985249992431,
          2.893223756636619,
          2.9389368801689457,
          2.9831753868131337,
          3.0288885103454604,
          3.074601633877787,
          3.1158909067456975
         ],
         "yaxis": "y"
        }
       ],
       "layout": {
        "font": {
         "size": 18
        },
        "height": 450,
        "legend": {
         "orientation": "h",
         "title": {
          "text": "variable"
         },
         "tracegroupgap": 0
        },
        "margin": {
         "t": 60
        },
        "template": {
         "data": {
          "bar": [
           {
            "error_x": {
             "color": "rgb(36,36,36)"
            },
            "error_y": {
             "color": "rgb(36,36,36)"
            },
            "marker": {
             "line": {
              "color": "rgb(234,234,242)",
              "width": 0.5
             }
            },
            "type": "bar"
           }
          ],
          "barpolar": [
           {
            "marker": {
             "line": {
              "color": "rgb(234,234,242)",
              "width": 0.5
             }
            },
            "type": "barpolar"
           }
          ],
          "carpet": [
           {
            "aaxis": {
             "endlinecolor": "rgb(36,36,36)",
             "gridcolor": "white",
             "linecolor": "white",
             "minorgridcolor": "white",
             "startlinecolor": "rgb(36,36,36)"
            },
            "baxis": {
             "endlinecolor": "rgb(36,36,36)",
             "gridcolor": "white",
             "linecolor": "white",
             "minorgridcolor": "white",
             "startlinecolor": "rgb(36,36,36)"
            },
            "type": "carpet"
           }
          ],
          "choropleth": [
           {
            "colorbar": {
             "outlinewidth": 0,
             "tickcolor": "rgb(36,36,36)",
             "ticklen": 8,
             "ticks": "outside",
             "tickwidth": 2
            },
            "type": "choropleth"
           }
          ],
          "contour": [
           {
            "colorbar": {
             "outlinewidth": 0,
             "tickcolor": "rgb(36,36,36)",
             "ticklen": 8,
             "ticks": "outside",
             "tickwidth": 2
            },
            "colorscale": [
             [
              0,
              "rgb(2,4,25)"
             ],
             [
              0.06274509803921569,
              "rgb(24,15,41)"
             ],
             [
              0.12549019607843137,
              "rgb(47,23,57)"
             ],
             [
              0.18823529411764706,
              "rgb(71,28,72)"
             ],
             [
              0.25098039215686274,
              "rgb(97,30,82)"
             ],
             [
              0.3137254901960784,
              "rgb(123,30,89)"
             ],
             [
              0.3764705882352941,
              "rgb(150,27,91)"
             ],
             [
              0.4392156862745098,
              "rgb(177,22,88)"
             ],
             [
              0.5019607843137255,
              "rgb(203,26,79)"
             ],
             [
              0.5647058823529412,
              "rgb(223,47,67)"
             ],
             [
              0.6274509803921569,
              "rgb(236,76,61)"
             ],
             [
              0.6901960784313725,
              "rgb(242,107,73)"
             ],
             [
              0.7529411764705882,
              "rgb(244,135,95)"
             ],
             [
              0.8156862745098039,
              "rgb(245,162,122)"
             ],
             [
              0.8784313725490196,
              "rgb(246,188,153)"
             ],
             [
              0.9411764705882353,
              "rgb(247,212,187)"
             ],
             [
              1,
              "rgb(250,234,220)"
             ]
            ],
            "type": "contour"
           }
          ],
          "contourcarpet": [
           {
            "colorbar": {
             "outlinewidth": 0,
             "tickcolor": "rgb(36,36,36)",
             "ticklen": 8,
             "ticks": "outside",
             "tickwidth": 2
            },
            "type": "contourcarpet"
           }
          ],
          "heatmap": [
           {
            "colorbar": {
             "outlinewidth": 0,
             "tickcolor": "rgb(36,36,36)",
             "ticklen": 8,
             "ticks": "outside",
             "tickwidth": 2
            },
            "colorscale": [
             [
              0,
              "rgb(2,4,25)"
             ],
             [
              0.06274509803921569,
              "rgb(24,15,41)"
             ],
             [
              0.12549019607843137,
              "rgb(47,23,57)"
             ],
             [
              0.18823529411764706,
              "rgb(71,28,72)"
             ],
             [
              0.25098039215686274,
              "rgb(97,30,82)"
             ],
             [
              0.3137254901960784,
              "rgb(123,30,89)"
             ],
             [
              0.3764705882352941,
              "rgb(150,27,91)"
             ],
             [
              0.4392156862745098,
              "rgb(177,22,88)"
             ],
             [
              0.5019607843137255,
              "rgb(203,26,79)"
             ],
             [
              0.5647058823529412,
              "rgb(223,47,67)"
             ],
             [
              0.6274509803921569,
              "rgb(236,76,61)"
             ],
             [
              0.6901960784313725,
              "rgb(242,107,73)"
             ],
             [
              0.7529411764705882,
              "rgb(244,135,95)"
             ],
             [
              0.8156862745098039,
              "rgb(245,162,122)"
             ],
             [
              0.8784313725490196,
              "rgb(246,188,153)"
             ],
             [
              0.9411764705882353,
              "rgb(247,212,187)"
             ],
             [
              1,
              "rgb(250,234,220)"
             ]
            ],
            "type": "heatmap"
           }
          ],
          "heatmapgl": [
           {
            "colorbar": {
             "outlinewidth": 0,
             "tickcolor": "rgb(36,36,36)",
             "ticklen": 8,
             "ticks": "outside",
             "tickwidth": 2
            },
            "colorscale": [
             [
              0,
              "rgb(2,4,25)"
             ],
             [
              0.06274509803921569,
              "rgb(24,15,41)"
             ],
             [
              0.12549019607843137,
              "rgb(47,23,57)"
             ],
             [
              0.18823529411764706,
              "rgb(71,28,72)"
             ],
             [
              0.25098039215686274,
              "rgb(97,30,82)"
             ],
             [
              0.3137254901960784,
              "rgb(123,30,89)"
             ],
             [
              0.3764705882352941,
              "rgb(150,27,91)"
             ],
             [
              0.4392156862745098,
              "rgb(177,22,88)"
             ],
             [
              0.5019607843137255,
              "rgb(203,26,79)"
             ],
             [
              0.5647058823529412,
              "rgb(223,47,67)"
             ],
             [
              0.6274509803921569,
              "rgb(236,76,61)"
             ],
             [
              0.6901960784313725,
              "rgb(242,107,73)"
             ],
             [
              0.7529411764705882,
              "rgb(244,135,95)"
             ],
             [
              0.8156862745098039,
              "rgb(245,162,122)"
             ],
             [
              0.8784313725490196,
              "rgb(246,188,153)"
             ],
             [
              0.9411764705882353,
              "rgb(247,212,187)"
             ],
             [
              1,
              "rgb(250,234,220)"
             ]
            ],
            "type": "heatmapgl"
           }
          ],
          "histogram": [
           {
            "marker": {
             "colorbar": {
              "outlinewidth": 0,
              "tickcolor": "rgb(36,36,36)",
              "ticklen": 8,
              "ticks": "outside",
              "tickwidth": 2
             }
            },
            "type": "histogram"
           }
          ],
          "histogram2d": [
           {
            "colorbar": {
             "outlinewidth": 0,
             "tickcolor": "rgb(36,36,36)",
             "ticklen": 8,
             "ticks": "outside",
             "tickwidth": 2
            },
            "colorscale": [
             [
              0,
              "rgb(2,4,25)"
             ],
             [
              0.06274509803921569,
              "rgb(24,15,41)"
             ],
             [
              0.12549019607843137,
              "rgb(47,23,57)"
             ],
             [
              0.18823529411764706,
              "rgb(71,28,72)"
             ],
             [
              0.25098039215686274,
              "rgb(97,30,82)"
             ],
             [
              0.3137254901960784,
              "rgb(123,30,89)"
             ],
             [
              0.3764705882352941,
              "rgb(150,27,91)"
             ],
             [
              0.4392156862745098,
              "rgb(177,22,88)"
             ],
             [
              0.5019607843137255,
              "rgb(203,26,79)"
             ],
             [
              0.5647058823529412,
              "rgb(223,47,67)"
             ],
             [
              0.6274509803921569,
              "rgb(236,76,61)"
             ],
             [
              0.6901960784313725,
              "rgb(242,107,73)"
             ],
             [
              0.7529411764705882,
              "rgb(244,135,95)"
             ],
             [
              0.8156862745098039,
              "rgb(245,162,122)"
             ],
             [
              0.8784313725490196,
              "rgb(246,188,153)"
             ],
             [
              0.9411764705882353,
              "rgb(247,212,187)"
             ],
             [
              1,
              "rgb(250,234,220)"
             ]
            ],
            "type": "histogram2d"
           }
          ],
          "histogram2dcontour": [
           {
            "colorbar": {
             "outlinewidth": 0,
             "tickcolor": "rgb(36,36,36)",
             "ticklen": 8,
             "ticks": "outside",
             "tickwidth": 2
            },
            "colorscale": [
             [
              0,
              "rgb(2,4,25)"
             ],
             [
              0.06274509803921569,
              "rgb(24,15,41)"
             ],
             [
              0.12549019607843137,
              "rgb(47,23,57)"
             ],
             [
              0.18823529411764706,
              "rgb(71,28,72)"
             ],
             [
              0.25098039215686274,
              "rgb(97,30,82)"
             ],
             [
              0.3137254901960784,
              "rgb(123,30,89)"
             ],
             [
              0.3764705882352941,
              "rgb(150,27,91)"
             ],
             [
              0.4392156862745098,
              "rgb(177,22,88)"
             ],
             [
              0.5019607843137255,
              "rgb(203,26,79)"
             ],
             [
              0.5647058823529412,
              "rgb(223,47,67)"
             ],
             [
              0.6274509803921569,
              "rgb(236,76,61)"
             ],
             [
              0.6901960784313725,
              "rgb(242,107,73)"
             ],
             [
              0.7529411764705882,
              "rgb(244,135,95)"
             ],
             [
              0.8156862745098039,
              "rgb(245,162,122)"
             ],
             [
              0.8784313725490196,
              "rgb(246,188,153)"
             ],
             [
              0.9411764705882353,
              "rgb(247,212,187)"
             ],
             [
              1,
              "rgb(250,234,220)"
             ]
            ],
            "type": "histogram2dcontour"
           }
          ],
          "mesh3d": [
           {
            "colorbar": {
             "outlinewidth": 0,
             "tickcolor": "rgb(36,36,36)",
             "ticklen": 8,
             "ticks": "outside",
             "tickwidth": 2
            },
            "type": "mesh3d"
           }
          ],
          "parcoords": [
           {
            "line": {
             "colorbar": {
              "outlinewidth": 0,
              "tickcolor": "rgb(36,36,36)",
              "ticklen": 8,
              "ticks": "outside",
              "tickwidth": 2
             }
            },
            "type": "parcoords"
           }
          ],
          "pie": [
           {
            "automargin": true,
            "type": "pie"
           }
          ],
          "scatter": [
           {
            "marker": {
             "colorbar": {
              "outlinewidth": 0,
              "tickcolor": "rgb(36,36,36)",
              "ticklen": 8,
              "ticks": "outside",
              "tickwidth": 2
             }
            },
            "type": "scatter"
           }
          ],
          "scatter3d": [
           {
            "line": {
             "colorbar": {
              "outlinewidth": 0,
              "tickcolor": "rgb(36,36,36)",
              "ticklen": 8,
              "ticks": "outside",
              "tickwidth": 2
             }
            },
            "marker": {
             "colorbar": {
              "outlinewidth": 0,
              "tickcolor": "rgb(36,36,36)",
              "ticklen": 8,
              "ticks": "outside",
              "tickwidth": 2
             }
            },
            "type": "scatter3d"
           }
          ],
          "scattercarpet": [
           {
            "marker": {
             "colorbar": {
              "outlinewidth": 0,
              "tickcolor": "rgb(36,36,36)",
              "ticklen": 8,
              "ticks": "outside",
              "tickwidth": 2
             }
            },
            "type": "scattercarpet"
           }
          ],
          "scattergeo": [
           {
            "marker": {
             "colorbar": {
              "outlinewidth": 0,
              "tickcolor": "rgb(36,36,36)",
              "ticklen": 8,
              "ticks": "outside",
              "tickwidth": 2
             }
            },
            "type": "scattergeo"
           }
          ],
          "scattergl": [
           {
            "marker": {
             "colorbar": {
              "outlinewidth": 0,
              "tickcolor": "rgb(36,36,36)",
              "ticklen": 8,
              "ticks": "outside",
              "tickwidth": 2
             }
            },
            "type": "scattergl"
           }
          ],
          "scattermapbox": [
           {
            "marker": {
             "colorbar": {
              "outlinewidth": 0,
              "tickcolor": "rgb(36,36,36)",
              "ticklen": 8,
              "ticks": "outside",
              "tickwidth": 2
             }
            },
            "type": "scattermapbox"
           }
          ],
          "scatterpolar": [
           {
            "marker": {
             "colorbar": {
              "outlinewidth": 0,
              "tickcolor": "rgb(36,36,36)",
              "ticklen": 8,
              "ticks": "outside",
              "tickwidth": 2
             }
            },
            "type": "scatterpolar"
           }
          ],
          "scatterpolargl": [
           {
            "marker": {
             "colorbar": {
              "outlinewidth": 0,
              "tickcolor": "rgb(36,36,36)",
              "ticklen": 8,
              "ticks": "outside",
              "tickwidth": 2
             }
            },
            "type": "scatterpolargl"
           }
          ],
          "scatterternary": [
           {
            "marker": {
             "colorbar": {
              "outlinewidth": 0,
              "tickcolor": "rgb(36,36,36)",
              "ticklen": 8,
              "ticks": "outside",
              "tickwidth": 2
             }
            },
            "type": "scatterternary"
           }
          ],
          "surface": [
           {
            "colorbar": {
             "outlinewidth": 0,
             "tickcolor": "rgb(36,36,36)",
             "ticklen": 8,
             "ticks": "outside",
             "tickwidth": 2
            },
            "colorscale": [
             [
              0,
              "rgb(2,4,25)"
             ],
             [
              0.06274509803921569,
              "rgb(24,15,41)"
             ],
             [
              0.12549019607843137,
              "rgb(47,23,57)"
             ],
             [
              0.18823529411764706,
              "rgb(71,28,72)"
             ],
             [
              0.25098039215686274,
              "rgb(97,30,82)"
             ],
             [
              0.3137254901960784,
              "rgb(123,30,89)"
             ],
             [
              0.3764705882352941,
              "rgb(150,27,91)"
             ],
             [
              0.4392156862745098,
              "rgb(177,22,88)"
             ],
             [
              0.5019607843137255,
              "rgb(203,26,79)"
             ],
             [
              0.5647058823529412,
              "rgb(223,47,67)"
             ],
             [
              0.6274509803921569,
              "rgb(236,76,61)"
             ],
             [
              0.6901960784313725,
              "rgb(242,107,73)"
             ],
             [
              0.7529411764705882,
              "rgb(244,135,95)"
             ],
             [
              0.8156862745098039,
              "rgb(245,162,122)"
             ],
             [
              0.8784313725490196,
              "rgb(246,188,153)"
             ],
             [
              0.9411764705882353,
              "rgb(247,212,187)"
             ],
             [
              1,
              "rgb(250,234,220)"
             ]
            ],
            "type": "surface"
           }
          ],
          "table": [
           {
            "cells": {
             "fill": {
              "color": "rgb(231,231,240)"
             },
             "line": {
              "color": "white"
             }
            },
            "header": {
             "fill": {
              "color": "rgb(183,183,191)"
             },
             "line": {
              "color": "white"
             }
            },
            "type": "table"
           }
          ]
         },
         "layout": {
          "annotationdefaults": {
           "arrowcolor": "rgb(67,103,167)"
          },
          "coloraxis": {
           "colorbar": {
            "outlinewidth": 0,
            "tickcolor": "rgb(36,36,36)",
            "ticklen": 8,
            "ticks": "outside",
            "tickwidth": 2
           }
          },
          "colorscale": {
           "sequential": [
            [
             0,
             "rgb(2,4,25)"
            ],
            [
             0.06274509803921569,
             "rgb(24,15,41)"
            ],
            [
             0.12549019607843137,
             "rgb(47,23,57)"
            ],
            [
             0.18823529411764706,
             "rgb(71,28,72)"
            ],
            [
             0.25098039215686274,
             "rgb(97,30,82)"
            ],
            [
             0.3137254901960784,
             "rgb(123,30,89)"
            ],
            [
             0.3764705882352941,
             "rgb(150,27,91)"
            ],
            [
             0.4392156862745098,
             "rgb(177,22,88)"
            ],
            [
             0.5019607843137255,
             "rgb(203,26,79)"
            ],
            [
             0.5647058823529412,
             "rgb(223,47,67)"
            ],
            [
             0.6274509803921569,
             "rgb(236,76,61)"
            ],
            [
             0.6901960784313725,
             "rgb(242,107,73)"
            ],
            [
             0.7529411764705882,
             "rgb(244,135,95)"
            ],
            [
             0.8156862745098039,
             "rgb(245,162,122)"
            ],
            [
             0.8784313725490196,
             "rgb(246,188,153)"
            ],
            [
             0.9411764705882353,
             "rgb(247,212,187)"
            ],
            [
             1,
             "rgb(250,234,220)"
            ]
           ],
           "sequentialminus": [
            [
             0,
             "rgb(2,4,25)"
            ],
            [
             0.06274509803921569,
             "rgb(24,15,41)"
            ],
            [
             0.12549019607843137,
             "rgb(47,23,57)"
            ],
            [
             0.18823529411764706,
             "rgb(71,28,72)"
            ],
            [
             0.25098039215686274,
             "rgb(97,30,82)"
            ],
            [
             0.3137254901960784,
             "rgb(123,30,89)"
            ],
            [
             0.3764705882352941,
             "rgb(150,27,91)"
            ],
            [
             0.4392156862745098,
             "rgb(177,22,88)"
            ],
            [
             0.5019607843137255,
             "rgb(203,26,79)"
            ],
            [
             0.5647058823529412,
             "rgb(223,47,67)"
            ],
            [
             0.6274509803921569,
             "rgb(236,76,61)"
            ],
            [
             0.6901960784313725,
             "rgb(242,107,73)"
            ],
            [
             0.7529411764705882,
             "rgb(244,135,95)"
            ],
            [
             0.8156862745098039,
             "rgb(245,162,122)"
            ],
            [
             0.8784313725490196,
             "rgb(246,188,153)"
            ],
            [
             0.9411764705882353,
             "rgb(247,212,187)"
            ],
            [
             1,
             "rgb(250,234,220)"
            ]
           ]
          },
          "colorway": [
           "rgb(76,114,176)",
           "rgb(221,132,82)",
           "rgb(85,168,104)",
           "rgb(196,78,82)",
           "rgb(129,114,179)",
           "rgb(147,120,96)",
           "rgb(218,139,195)",
           "rgb(140,140,140)",
           "rgb(204,185,116)",
           "rgb(100,181,205)"
          ],
          "font": {
           "color": "rgb(36,36,36)"
          },
          "geo": {
           "bgcolor": "white",
           "lakecolor": "white",
           "landcolor": "rgb(234,234,242)",
           "showlakes": true,
           "showland": true,
           "subunitcolor": "white"
          },
          "hoverlabel": {
           "align": "left"
          },
          "hovermode": "closest",
          "paper_bgcolor": "white",
          "plot_bgcolor": "rgb(234,234,242)",
          "polar": {
           "angularaxis": {
            "gridcolor": "white",
            "linecolor": "white",
            "showgrid": true,
            "ticks": ""
           },
           "bgcolor": "rgb(234,234,242)",
           "radialaxis": {
            "gridcolor": "white",
            "linecolor": "white",
            "showgrid": true,
            "ticks": ""
           }
          },
          "scene": {
           "xaxis": {
            "backgroundcolor": "rgb(234,234,242)",
            "gridcolor": "white",
            "gridwidth": 2,
            "linecolor": "white",
            "showbackground": true,
            "showgrid": true,
            "ticks": "",
            "zerolinecolor": "white"
           },
           "yaxis": {
            "backgroundcolor": "rgb(234,234,242)",
            "gridcolor": "white",
            "gridwidth": 2,
            "linecolor": "white",
            "showbackground": true,
            "showgrid": true,
            "ticks": "",
            "zerolinecolor": "white"
           },
           "zaxis": {
            "backgroundcolor": "rgb(234,234,242)",
            "gridcolor": "white",
            "gridwidth": 2,
            "linecolor": "white",
            "showbackground": true,
            "showgrid": true,
            "ticks": "",
            "zerolinecolor": "white"
           }
          },
          "shapedefaults": {
           "fillcolor": "rgb(67,103,167)",
           "line": {
            "width": 0
           },
           "opacity": 0.5
          },
          "ternary": {
           "aaxis": {
            "gridcolor": "white",
            "linecolor": "white",
            "showgrid": true,
            "ticks": ""
           },
           "baxis": {
            "gridcolor": "white",
            "linecolor": "white",
            "showgrid": true,
            "ticks": ""
           },
           "bgcolor": "rgb(234,234,242)",
           "caxis": {
            "gridcolor": "white",
            "linecolor": "white",
            "showgrid": true,
            "ticks": ""
           }
          },
          "xaxis": {
           "automargin": true,
           "gridcolor": "white",
           "linecolor": "white",
           "showgrid": true,
           "ticks": "",
           "title": {
            "standoff": 15
           },
           "zerolinecolor": "white"
          },
          "yaxis": {
           "automargin": true,
           "gridcolor": "white",
           "linecolor": "white",
           "showgrid": true,
           "ticks": "",
           "title": {
            "standoff": 15
           },
           "zerolinecolor": "white"
          }
         }
        },
        "width": 750,
        "xaxis": {
         "anchor": "y",
         "domain": [
          0,
          1
         ],
         "title": {
          "text": "date"
         }
        },
        "yaxis": {
         "anchor": "x",
         "domain": [
          0,
          1
         ],
         "range": [
          0,
          175
         ],
         "title": {
          "text": "value"
         }
        }
       }
      },
      "text/html": [
       "<div>\n",
       "        \n",
       "        \n",
       "            <div id=\"613be3da-51df-40e6-bc3c-ed914596fb13\" class=\"plotly-graph-div\" style=\"height:450px; width:750px;\"></div>\n",
       "            <script type=\"text/javascript\">\n",
       "                require([\"plotly\"], function(Plotly) {\n",
       "                    window.PLOTLYENV=window.PLOTLYENV || {};\n",
       "                    \n",
       "                if (document.getElementById(\"613be3da-51df-40e6-bc3c-ed914596fb13\")) {\n",
       "                    Plotly.newPlot(\n",
       "                        '613be3da-51df-40e6-bc3c-ed914596fb13',\n",
       "                        [{\"hovertemplate\": \"variable=count<br>date=%{x}<br>value=%{y}<extra></extra>\", \"legendgroup\": \"count\", \"marker\": {\"color\": \"rgb(76,114,176)\", \"opacity\": 0.75, \"symbol\": \"circle\"}, \"mode\": \"markers\", \"name\": \"count\", \"orientation\": \"v\", \"showlegend\": true, \"type\": \"scatter\", \"x\": [\"2015-08-31T00:00:00\", \"2015-09-30T00:00:00\", \"2015-10-31T00:00:00\", \"2015-11-30T00:00:00\", \"2015-12-31T00:00:00\", \"2016-01-31T00:00:00\", \"2016-02-29T00:00:00\", \"2016-03-31T00:00:00\", \"2016-04-30T00:00:00\", \"2016-05-31T00:00:00\", \"2016-06-30T00:00:00\", \"2016-07-31T00:00:00\", \"2016-08-31T00:00:00\", \"2016-09-30T00:00:00\", \"2016-10-31T00:00:00\", \"2016-11-30T00:00:00\", \"2016-12-31T00:00:00\", \"2017-01-31T00:00:00\", \"2017-02-28T00:00:00\", \"2017-03-31T00:00:00\", \"2017-04-30T00:00:00\", \"2017-05-31T00:00:00\", \"2017-06-30T00:00:00\", \"2017-07-31T00:00:00\", \"2017-08-31T00:00:00\", \"2017-09-30T00:00:00\", \"2017-10-31T00:00:00\", \"2017-11-30T00:00:00\", \"2017-12-31T00:00:00\", \"2018-01-31T00:00:00\", \"2018-02-28T00:00:00\", \"2018-03-31T00:00:00\", \"2018-04-30T00:00:00\", \"2018-05-31T00:00:00\", \"2018-06-30T00:00:00\", \"2018-07-31T00:00:00\", \"2018-08-31T00:00:00\", \"2018-09-30T00:00:00\", \"2018-10-31T00:00:00\", \"2018-11-30T00:00:00\", \"2018-12-31T00:00:00\", \"2019-01-31T00:00:00\", \"2019-02-28T00:00:00\", \"2019-03-31T00:00:00\", \"2019-04-30T00:00:00\", \"2019-05-31T00:00:00\", \"2019-06-30T00:00:00\", \"2019-07-31T00:00:00\", \"2019-08-31T00:00:00\", \"2019-09-30T00:00:00\", \"2019-10-31T00:00:00\", \"2019-11-30T00:00:00\", \"2019-12-31T00:00:00\", \"2020-01-31T00:00:00\", \"2020-02-29T00:00:00\", \"2020-03-31T00:00:00\", \"2020-04-30T00:00:00\", \"2020-05-31T00:00:00\", \"2020-06-30T00:00:00\", \"2020-07-31T00:00:00\", \"2020-08-31T00:00:00\", \"2020-09-30T00:00:00\", \"2020-10-31T00:00:00\", \"2020-11-30T00:00:00\", \"2020-12-31T00:00:00\", \"2021-01-31T00:00:00\", \"2021-02-28T00:00:00\", \"2021-03-31T00:00:00\", \"2021-04-30T00:00:00\", \"2021-05-31T00:00:00\", \"2021-06-30T00:00:00\", \"2021-07-31T00:00:00\", \"2021-08-31T00:00:00\", \"2021-09-30T00:00:00\", \"2021-10-31T00:00:00\", \"2021-11-30T00:00:00\", \"2021-12-31T00:00:00\", \"2022-01-31T00:00:00\", \"2022-02-28T00:00:00\"], \"xaxis\": \"x\", \"y\": [1, 1, 0, 0, 0, 0, 0, 0, 0, 0, 0, 0, 0, 0, 1, 1, 1, 1, 0, 1, 0, 1, 1, 1, 1, 1, 1, 0, 1, 1, 1, 1, 1, 2, 1, 0, 0, 3, 0, 1, 0, 4, 2, 1, 0, 2, 1, 2, 1, 2, 0, 3, 4, 0, 1, 0, 0, 0, 1, 0, 0, 1, 0, 1, 2, 4, 1, 3, 0, 0, 1, 7, 4, 5, 3, 4, 3, 17, 3], \"yaxis\": \"y\"}, {\"hovertemplate\": \"<b>OLS trendline</b><br>value = 1.70673e-08 * date + -24.977<br>R<sup>2</sup>=0.205693<br><br>variable=count<br>date=%{x}<br>value=%{y} <b>(trend)</b><extra></extra>\", \"legendgroup\": \"count\", \"marker\": {\"color\": \"rgb(76,114,176)\", \"symbol\": \"circle\"}, \"mode\": \"lines\", \"name\": \"count\", \"showlegend\": false, \"type\": \"scatter\", \"x\": [\"2015-08-31T00:00:00\", \"2015-09-30T00:00:00\", \"2015-10-31T00:00:00\", \"2015-11-30T00:00:00\", \"2015-12-31T00:00:00\", \"2016-01-31T00:00:00\", \"2016-02-29T00:00:00\", \"2016-03-31T00:00:00\", \"2016-04-30T00:00:00\", \"2016-05-31T00:00:00\", \"2016-06-30T00:00:00\", \"2016-07-31T00:00:00\", \"2016-08-31T00:00:00\", \"2016-09-30T00:00:00\", \"2016-10-31T00:00:00\", \"2016-11-30T00:00:00\", \"2016-12-31T00:00:00\", \"2017-01-31T00:00:00\", \"2017-02-28T00:00:00\", \"2017-03-31T00:00:00\", \"2017-04-30T00:00:00\", \"2017-05-31T00:00:00\", \"2017-06-30T00:00:00\", \"2017-07-31T00:00:00\", \"2017-08-31T00:00:00\", \"2017-09-30T00:00:00\", \"2017-10-31T00:00:00\", \"2017-11-30T00:00:00\", \"2017-12-31T00:00:00\", \"2018-01-31T00:00:00\", \"2018-02-28T00:00:00\", \"2018-03-31T00:00:00\", \"2018-04-30T00:00:00\", \"2018-05-31T00:00:00\", \"2018-06-30T00:00:00\", \"2018-07-31T00:00:00\", \"2018-08-31T00:00:00\", \"2018-09-30T00:00:00\", \"2018-10-31T00:00:00\", \"2018-11-30T00:00:00\", \"2018-12-31T00:00:00\", \"2019-01-31T00:00:00\", \"2019-02-28T00:00:00\", \"2019-03-31T00:00:00\", \"2019-04-30T00:00:00\", \"2019-05-31T00:00:00\", \"2019-06-30T00:00:00\", \"2019-07-31T00:00:00\", \"2019-08-31T00:00:00\", \"2019-09-30T00:00:00\", \"2019-10-31T00:00:00\", \"2019-11-30T00:00:00\", \"2019-12-31T00:00:00\", \"2020-01-31T00:00:00\", \"2020-02-29T00:00:00\", \"2020-03-31T00:00:00\", \"2020-04-30T00:00:00\", \"2020-05-31T00:00:00\", \"2020-06-30T00:00:00\", \"2020-07-31T00:00:00\", \"2020-08-31T00:00:00\", \"2020-09-30T00:00:00\", \"2020-10-31T00:00:00\", \"2020-11-30T00:00:00\", \"2020-12-31T00:00:00\", \"2021-01-31T00:00:00\", \"2021-02-28T00:00:00\", \"2021-03-31T00:00:00\", \"2021-04-30T00:00:00\", \"2021-05-31T00:00:00\", \"2021-06-30T00:00:00\", \"2021-07-31T00:00:00\", \"2021-08-31T00:00:00\", \"2021-09-30T00:00:00\", \"2021-10-31T00:00:00\", \"2021-11-30T00:00:00\", \"2021-12-31T00:00:00\", \"2022-01-31T00:00:00\", \"2022-02-28T00:00:00\"], \"xaxis\": \"x\", \"y\": [-0.38337496880953026, -0.3391364621653459, -0.29342333863301917, -0.24918483198883123, -0.20347170845650453, -0.15775858492417427, -0.11499469516812866, -0.06928157163580195, -0.025043064991614017, 0.020670058540712688, 0.06490856518490062, 0.11062168871722733, 0.15633481224955403, 0.20057331889374197, 0.24628644242606867, 0.2905249490702566, 0.3362380726025833, 0.38195119613491, 0.4232404690028204, 0.4689535925351471, 0.5131920991793351, 0.5589052227116618, 0.6031437293558497, 0.6488568528881764, 0.6945699764205031, 0.738808483064691, 0.7845216065970178, 0.8287601132412057, 0.8744732367735324, 0.9201863603058591, 0.9614756331737659, 1.0071887567060926, 1.0514272633502806, 1.0971403868826073, 1.1413788935267952, 1.187092017059122, 1.2328051405914486, 1.2770436472356366, 1.3227567707679633, 1.3669952774121512, 1.412708400944478, 1.4584215244768046, 1.499710797344715, 1.5454239208770417, 1.5896624275212297, 1.6353755510535564, 1.6796140576977443, 1.725327181230071, 1.7710403047623977, 1.8152788114065856, 1.8609919349389124, 1.9052304415831003, 1.950943565115427, 1.9966566886477537, 2.0394205784037993, 2.0851337019361296, 2.129372208580314, 2.175085332112644, 2.2193238387568286, 2.2650369622891553, 2.3107500858214856, 2.35498859246567, 2.400701715998, 2.4449402226421846, 2.490653346174515, 2.5363664697068415, 2.5776557425747484, 2.623368866107075, 2.667607372751263, 2.7133204962835897, 2.7575590029277777, 2.8032721264601044, 2.848985249992431, 2.893223756636619, 2.9389368801689457, 2.9831753868131337, 3.0288885103454604, 3.074601633877787, 3.1158909067456975], \"yaxis\": \"y\"}],\n",
       "                        {\"font\": {\"size\": 18}, \"height\": 450, \"legend\": {\"orientation\": \"h\", \"title\": {\"text\": \"variable\"}, \"tracegroupgap\": 0}, \"margin\": {\"t\": 60}, \"template\": {\"data\": {\"bar\": [{\"error_x\": {\"color\": \"rgb(36,36,36)\"}, \"error_y\": {\"color\": \"rgb(36,36,36)\"}, \"marker\": {\"line\": {\"color\": \"rgb(234,234,242)\", \"width\": 0.5}}, \"type\": \"bar\"}], \"barpolar\": [{\"marker\": {\"line\": {\"color\": \"rgb(234,234,242)\", \"width\": 0.5}}, \"type\": \"barpolar\"}], \"carpet\": [{\"aaxis\": {\"endlinecolor\": \"rgb(36,36,36)\", \"gridcolor\": \"white\", \"linecolor\": \"white\", \"minorgridcolor\": \"white\", \"startlinecolor\": \"rgb(36,36,36)\"}, \"baxis\": {\"endlinecolor\": \"rgb(36,36,36)\", \"gridcolor\": \"white\", \"linecolor\": \"white\", \"minorgridcolor\": \"white\", \"startlinecolor\": \"rgb(36,36,36)\"}, \"type\": \"carpet\"}], \"choropleth\": [{\"colorbar\": {\"outlinewidth\": 0, \"tickcolor\": \"rgb(36,36,36)\", \"ticklen\": 8, \"ticks\": \"outside\", \"tickwidth\": 2}, \"type\": \"choropleth\"}], \"contour\": [{\"colorbar\": {\"outlinewidth\": 0, \"tickcolor\": \"rgb(36,36,36)\", \"ticklen\": 8, \"ticks\": \"outside\", \"tickwidth\": 2}, \"colorscale\": [[0.0, \"rgb(2,4,25)\"], [0.06274509803921569, \"rgb(24,15,41)\"], [0.12549019607843137, \"rgb(47,23,57)\"], [0.18823529411764706, \"rgb(71,28,72)\"], [0.25098039215686274, \"rgb(97,30,82)\"], [0.3137254901960784, \"rgb(123,30,89)\"], [0.3764705882352941, \"rgb(150,27,91)\"], [0.4392156862745098, \"rgb(177,22,88)\"], [0.5019607843137255, \"rgb(203,26,79)\"], [0.5647058823529412, \"rgb(223,47,67)\"], [0.6274509803921569, \"rgb(236,76,61)\"], [0.6901960784313725, \"rgb(242,107,73)\"], [0.7529411764705882, \"rgb(244,135,95)\"], [0.8156862745098039, \"rgb(245,162,122)\"], [0.8784313725490196, \"rgb(246,188,153)\"], [0.9411764705882353, \"rgb(247,212,187)\"], [1.0, \"rgb(250,234,220)\"]], \"type\": \"contour\"}], \"contourcarpet\": [{\"colorbar\": {\"outlinewidth\": 0, \"tickcolor\": \"rgb(36,36,36)\", \"ticklen\": 8, \"ticks\": \"outside\", \"tickwidth\": 2}, \"type\": \"contourcarpet\"}], \"heatmap\": [{\"colorbar\": {\"outlinewidth\": 0, \"tickcolor\": \"rgb(36,36,36)\", \"ticklen\": 8, \"ticks\": \"outside\", \"tickwidth\": 2}, \"colorscale\": [[0.0, \"rgb(2,4,25)\"], [0.06274509803921569, \"rgb(24,15,41)\"], [0.12549019607843137, \"rgb(47,23,57)\"], [0.18823529411764706, \"rgb(71,28,72)\"], [0.25098039215686274, \"rgb(97,30,82)\"], [0.3137254901960784, \"rgb(123,30,89)\"], [0.3764705882352941, \"rgb(150,27,91)\"], [0.4392156862745098, \"rgb(177,22,88)\"], [0.5019607843137255, \"rgb(203,26,79)\"], [0.5647058823529412, \"rgb(223,47,67)\"], [0.6274509803921569, \"rgb(236,76,61)\"], [0.6901960784313725, \"rgb(242,107,73)\"], [0.7529411764705882, \"rgb(244,135,95)\"], [0.8156862745098039, \"rgb(245,162,122)\"], [0.8784313725490196, \"rgb(246,188,153)\"], [0.9411764705882353, \"rgb(247,212,187)\"], [1.0, \"rgb(250,234,220)\"]], \"type\": \"heatmap\"}], \"heatmapgl\": [{\"colorbar\": {\"outlinewidth\": 0, \"tickcolor\": \"rgb(36,36,36)\", \"ticklen\": 8, \"ticks\": \"outside\", \"tickwidth\": 2}, \"colorscale\": [[0.0, \"rgb(2,4,25)\"], [0.06274509803921569, \"rgb(24,15,41)\"], [0.12549019607843137, \"rgb(47,23,57)\"], [0.18823529411764706, \"rgb(71,28,72)\"], [0.25098039215686274, \"rgb(97,30,82)\"], [0.3137254901960784, \"rgb(123,30,89)\"], [0.3764705882352941, \"rgb(150,27,91)\"], [0.4392156862745098, \"rgb(177,22,88)\"], [0.5019607843137255, \"rgb(203,26,79)\"], [0.5647058823529412, \"rgb(223,47,67)\"], [0.6274509803921569, \"rgb(236,76,61)\"], [0.6901960784313725, \"rgb(242,107,73)\"], [0.7529411764705882, \"rgb(244,135,95)\"], [0.8156862745098039, \"rgb(245,162,122)\"], [0.8784313725490196, \"rgb(246,188,153)\"], [0.9411764705882353, \"rgb(247,212,187)\"], [1.0, \"rgb(250,234,220)\"]], \"type\": \"heatmapgl\"}], \"histogram\": [{\"marker\": {\"colorbar\": {\"outlinewidth\": 0, \"tickcolor\": \"rgb(36,36,36)\", \"ticklen\": 8, \"ticks\": \"outside\", \"tickwidth\": 2}}, \"type\": \"histogram\"}], \"histogram2d\": [{\"colorbar\": {\"outlinewidth\": 0, \"tickcolor\": \"rgb(36,36,36)\", \"ticklen\": 8, \"ticks\": \"outside\", \"tickwidth\": 2}, \"colorscale\": [[0.0, \"rgb(2,4,25)\"], [0.06274509803921569, \"rgb(24,15,41)\"], [0.12549019607843137, \"rgb(47,23,57)\"], [0.18823529411764706, \"rgb(71,28,72)\"], [0.25098039215686274, \"rgb(97,30,82)\"], [0.3137254901960784, \"rgb(123,30,89)\"], [0.3764705882352941, \"rgb(150,27,91)\"], [0.4392156862745098, \"rgb(177,22,88)\"], [0.5019607843137255, \"rgb(203,26,79)\"], [0.5647058823529412, \"rgb(223,47,67)\"], [0.6274509803921569, \"rgb(236,76,61)\"], [0.6901960784313725, \"rgb(242,107,73)\"], [0.7529411764705882, \"rgb(244,135,95)\"], [0.8156862745098039, \"rgb(245,162,122)\"], [0.8784313725490196, \"rgb(246,188,153)\"], [0.9411764705882353, \"rgb(247,212,187)\"], [1.0, \"rgb(250,234,220)\"]], \"type\": \"histogram2d\"}], \"histogram2dcontour\": [{\"colorbar\": {\"outlinewidth\": 0, \"tickcolor\": \"rgb(36,36,36)\", \"ticklen\": 8, \"ticks\": \"outside\", \"tickwidth\": 2}, \"colorscale\": [[0.0, \"rgb(2,4,25)\"], [0.06274509803921569, \"rgb(24,15,41)\"], [0.12549019607843137, \"rgb(47,23,57)\"], [0.18823529411764706, \"rgb(71,28,72)\"], [0.25098039215686274, \"rgb(97,30,82)\"], [0.3137254901960784, \"rgb(123,30,89)\"], [0.3764705882352941, \"rgb(150,27,91)\"], [0.4392156862745098, \"rgb(177,22,88)\"], [0.5019607843137255, \"rgb(203,26,79)\"], [0.5647058823529412, \"rgb(223,47,67)\"], [0.6274509803921569, \"rgb(236,76,61)\"], [0.6901960784313725, \"rgb(242,107,73)\"], [0.7529411764705882, \"rgb(244,135,95)\"], [0.8156862745098039, \"rgb(245,162,122)\"], [0.8784313725490196, \"rgb(246,188,153)\"], [0.9411764705882353, \"rgb(247,212,187)\"], [1.0, \"rgb(250,234,220)\"]], \"type\": \"histogram2dcontour\"}], \"mesh3d\": [{\"colorbar\": {\"outlinewidth\": 0, \"tickcolor\": \"rgb(36,36,36)\", \"ticklen\": 8, \"ticks\": \"outside\", \"tickwidth\": 2}, \"type\": \"mesh3d\"}], \"parcoords\": [{\"line\": {\"colorbar\": {\"outlinewidth\": 0, \"tickcolor\": \"rgb(36,36,36)\", \"ticklen\": 8, \"ticks\": \"outside\", \"tickwidth\": 2}}, \"type\": \"parcoords\"}], \"pie\": [{\"automargin\": true, \"type\": \"pie\"}], \"scatter\": [{\"marker\": {\"colorbar\": {\"outlinewidth\": 0, \"tickcolor\": \"rgb(36,36,36)\", \"ticklen\": 8, \"ticks\": \"outside\", \"tickwidth\": 2}}, \"type\": \"scatter\"}], \"scatter3d\": [{\"line\": {\"colorbar\": {\"outlinewidth\": 0, \"tickcolor\": \"rgb(36,36,36)\", \"ticklen\": 8, \"ticks\": \"outside\", \"tickwidth\": 2}}, \"marker\": {\"colorbar\": {\"outlinewidth\": 0, \"tickcolor\": \"rgb(36,36,36)\", \"ticklen\": 8, \"ticks\": \"outside\", \"tickwidth\": 2}}, \"type\": \"scatter3d\"}], \"scattercarpet\": [{\"marker\": {\"colorbar\": {\"outlinewidth\": 0, \"tickcolor\": \"rgb(36,36,36)\", \"ticklen\": 8, \"ticks\": \"outside\", \"tickwidth\": 2}}, \"type\": \"scattercarpet\"}], \"scattergeo\": [{\"marker\": {\"colorbar\": {\"outlinewidth\": 0, \"tickcolor\": \"rgb(36,36,36)\", \"ticklen\": 8, \"ticks\": \"outside\", \"tickwidth\": 2}}, \"type\": \"scattergeo\"}], \"scattergl\": [{\"marker\": {\"colorbar\": {\"outlinewidth\": 0, \"tickcolor\": \"rgb(36,36,36)\", \"ticklen\": 8, \"ticks\": \"outside\", \"tickwidth\": 2}}, \"type\": \"scattergl\"}], \"scattermapbox\": [{\"marker\": {\"colorbar\": {\"outlinewidth\": 0, \"tickcolor\": \"rgb(36,36,36)\", \"ticklen\": 8, \"ticks\": \"outside\", \"tickwidth\": 2}}, \"type\": \"scattermapbox\"}], \"scatterpolar\": [{\"marker\": {\"colorbar\": {\"outlinewidth\": 0, \"tickcolor\": \"rgb(36,36,36)\", \"ticklen\": 8, \"ticks\": \"outside\", \"tickwidth\": 2}}, \"type\": \"scatterpolar\"}], \"scatterpolargl\": [{\"marker\": {\"colorbar\": {\"outlinewidth\": 0, \"tickcolor\": \"rgb(36,36,36)\", \"ticklen\": 8, \"ticks\": \"outside\", \"tickwidth\": 2}}, \"type\": \"scatterpolargl\"}], \"scatterternary\": [{\"marker\": {\"colorbar\": {\"outlinewidth\": 0, \"tickcolor\": \"rgb(36,36,36)\", \"ticklen\": 8, \"ticks\": \"outside\", \"tickwidth\": 2}}, \"type\": \"scatterternary\"}], \"surface\": [{\"colorbar\": {\"outlinewidth\": 0, \"tickcolor\": \"rgb(36,36,36)\", \"ticklen\": 8, \"ticks\": \"outside\", \"tickwidth\": 2}, \"colorscale\": [[0.0, \"rgb(2,4,25)\"], [0.06274509803921569, \"rgb(24,15,41)\"], [0.12549019607843137, \"rgb(47,23,57)\"], [0.18823529411764706, \"rgb(71,28,72)\"], [0.25098039215686274, \"rgb(97,30,82)\"], [0.3137254901960784, \"rgb(123,30,89)\"], [0.3764705882352941, \"rgb(150,27,91)\"], [0.4392156862745098, \"rgb(177,22,88)\"], [0.5019607843137255, \"rgb(203,26,79)\"], [0.5647058823529412, \"rgb(223,47,67)\"], [0.6274509803921569, \"rgb(236,76,61)\"], [0.6901960784313725, \"rgb(242,107,73)\"], [0.7529411764705882, \"rgb(244,135,95)\"], [0.8156862745098039, \"rgb(245,162,122)\"], [0.8784313725490196, \"rgb(246,188,153)\"], [0.9411764705882353, \"rgb(247,212,187)\"], [1.0, \"rgb(250,234,220)\"]], \"type\": \"surface\"}], \"table\": [{\"cells\": {\"fill\": {\"color\": \"rgb(231,231,240)\"}, \"line\": {\"color\": \"white\"}}, \"header\": {\"fill\": {\"color\": \"rgb(183,183,191)\"}, \"line\": {\"color\": \"white\"}}, \"type\": \"table\"}]}, \"layout\": {\"annotationdefaults\": {\"arrowcolor\": \"rgb(67,103,167)\"}, \"coloraxis\": {\"colorbar\": {\"outlinewidth\": 0, \"tickcolor\": \"rgb(36,36,36)\", \"ticklen\": 8, \"ticks\": \"outside\", \"tickwidth\": 2}}, \"colorscale\": {\"sequential\": [[0.0, \"rgb(2,4,25)\"], [0.06274509803921569, \"rgb(24,15,41)\"], [0.12549019607843137, \"rgb(47,23,57)\"], [0.18823529411764706, \"rgb(71,28,72)\"], [0.25098039215686274, \"rgb(97,30,82)\"], [0.3137254901960784, \"rgb(123,30,89)\"], [0.3764705882352941, \"rgb(150,27,91)\"], [0.4392156862745098, \"rgb(177,22,88)\"], [0.5019607843137255, \"rgb(203,26,79)\"], [0.5647058823529412, \"rgb(223,47,67)\"], [0.6274509803921569, \"rgb(236,76,61)\"], [0.6901960784313725, \"rgb(242,107,73)\"], [0.7529411764705882, \"rgb(244,135,95)\"], [0.8156862745098039, \"rgb(245,162,122)\"], [0.8784313725490196, \"rgb(246,188,153)\"], [0.9411764705882353, \"rgb(247,212,187)\"], [1.0, \"rgb(250,234,220)\"]], \"sequentialminus\": [[0.0, \"rgb(2,4,25)\"], [0.06274509803921569, \"rgb(24,15,41)\"], [0.12549019607843137, \"rgb(47,23,57)\"], [0.18823529411764706, \"rgb(71,28,72)\"], [0.25098039215686274, \"rgb(97,30,82)\"], [0.3137254901960784, \"rgb(123,30,89)\"], [0.3764705882352941, \"rgb(150,27,91)\"], [0.4392156862745098, \"rgb(177,22,88)\"], [0.5019607843137255, \"rgb(203,26,79)\"], [0.5647058823529412, \"rgb(223,47,67)\"], [0.6274509803921569, \"rgb(236,76,61)\"], [0.6901960784313725, \"rgb(242,107,73)\"], [0.7529411764705882, \"rgb(244,135,95)\"], [0.8156862745098039, \"rgb(245,162,122)\"], [0.8784313725490196, \"rgb(246,188,153)\"], [0.9411764705882353, \"rgb(247,212,187)\"], [1.0, \"rgb(250,234,220)\"]]}, \"colorway\": [\"rgb(76,114,176)\", \"rgb(221,132,82)\", \"rgb(85,168,104)\", \"rgb(196,78,82)\", \"rgb(129,114,179)\", \"rgb(147,120,96)\", \"rgb(218,139,195)\", \"rgb(140,140,140)\", \"rgb(204,185,116)\", \"rgb(100,181,205)\"], \"font\": {\"color\": \"rgb(36,36,36)\"}, \"geo\": {\"bgcolor\": \"white\", \"lakecolor\": \"white\", \"landcolor\": \"rgb(234,234,242)\", \"showlakes\": true, \"showland\": true, \"subunitcolor\": \"white\"}, \"hoverlabel\": {\"align\": \"left\"}, \"hovermode\": \"closest\", \"paper_bgcolor\": \"white\", \"plot_bgcolor\": \"rgb(234,234,242)\", \"polar\": {\"angularaxis\": {\"gridcolor\": \"white\", \"linecolor\": \"white\", \"showgrid\": true, \"ticks\": \"\"}, \"bgcolor\": \"rgb(234,234,242)\", \"radialaxis\": {\"gridcolor\": \"white\", \"linecolor\": \"white\", \"showgrid\": true, \"ticks\": \"\"}}, \"scene\": {\"xaxis\": {\"backgroundcolor\": \"rgb(234,234,242)\", \"gridcolor\": \"white\", \"gridwidth\": 2, \"linecolor\": \"white\", \"showbackground\": true, \"showgrid\": true, \"ticks\": \"\", \"zerolinecolor\": \"white\"}, \"yaxis\": {\"backgroundcolor\": \"rgb(234,234,242)\", \"gridcolor\": \"white\", \"gridwidth\": 2, \"linecolor\": \"white\", \"showbackground\": true, \"showgrid\": true, \"ticks\": \"\", \"zerolinecolor\": \"white\"}, \"zaxis\": {\"backgroundcolor\": \"rgb(234,234,242)\", \"gridcolor\": \"white\", \"gridwidth\": 2, \"linecolor\": \"white\", \"showbackground\": true, \"showgrid\": true, \"ticks\": \"\", \"zerolinecolor\": \"white\"}}, \"shapedefaults\": {\"fillcolor\": \"rgb(67,103,167)\", \"line\": {\"width\": 0}, \"opacity\": 0.5}, \"ternary\": {\"aaxis\": {\"gridcolor\": \"white\", \"linecolor\": \"white\", \"showgrid\": true, \"ticks\": \"\"}, \"baxis\": {\"gridcolor\": \"white\", \"linecolor\": \"white\", \"showgrid\": true, \"ticks\": \"\"}, \"bgcolor\": \"rgb(234,234,242)\", \"caxis\": {\"gridcolor\": \"white\", \"linecolor\": \"white\", \"showgrid\": true, \"ticks\": \"\"}}, \"xaxis\": {\"automargin\": true, \"gridcolor\": \"white\", \"linecolor\": \"white\", \"showgrid\": true, \"ticks\": \"\", \"title\": {\"standoff\": 15}, \"zerolinecolor\": \"white\"}, \"yaxis\": {\"automargin\": true, \"gridcolor\": \"white\", \"linecolor\": \"white\", \"showgrid\": true, \"ticks\": \"\", \"title\": {\"standoff\": 15}, \"zerolinecolor\": \"white\"}}}, \"width\": 750, \"xaxis\": {\"anchor\": \"y\", \"domain\": [0.0, 1.0], \"title\": {\"text\": \"date\"}}, \"yaxis\": {\"anchor\": \"x\", \"domain\": [0.0, 1.0], \"range\": [0, 175], \"title\": {\"text\": \"value\"}}},\n",
       "                        {\"responsive\": true}\n",
       "                    ).then(function(){\n",
       "                            \n",
       "var gd = document.getElementById('613be3da-51df-40e6-bc3c-ed914596fb13');\n",
       "var x = new MutationObserver(function (mutations, observer) {{\n",
       "        var display = window.getComputedStyle(gd).display;\n",
       "        if (!display || display === 'none') {{\n",
       "            console.log([gd, 'removed!']);\n",
       "            Plotly.purge(gd);\n",
       "            observer.disconnect();\n",
       "        }}\n",
       "}});\n",
       "\n",
       "// Listen for the removal of the full notebook cells\n",
       "var notebookContainer = gd.closest('#notebook-container');\n",
       "if (notebookContainer) {{\n",
       "    x.observe(notebookContainer, {childList: true});\n",
       "}}\n",
       "\n",
       "// Listen for the clearing of the current output cell\n",
       "var outputEl = gd.closest('.output');\n",
       "if (outputEl) {{\n",
       "    x.observe(outputEl, {childList: true});\n",
       "}}\n",
       "\n",
       "                        })\n",
       "                };\n",
       "                });\n",
       "            </script>\n",
       "        </div>"
      ]
     },
     "metadata": {},
     "output_type": "display_data"
    }
   ],
   "source": [
    "import plotly.express as px\n",
    "\n",
    "date_count = dates.resample(\"M\").count()\n",
    "date_count.index.name = 'date'\n",
    "date_count.name = 'count'\n",
    "fig = px.scatter(date_count, opacity=0.75,trendline='ols', template='seaborn')\n",
    "# fig = px.scatter(all_data, y=\"PM2.5 Reading\", x=factor_rename,opacity=0.33,trendline='ols',color_discrete_map=color_map)\n",
    "fig.update_layout(height=450, width=750, font=dict(size=18), legend_orientation='h', yaxis_range=[0, 175])\n",
    "fig.show()\n",
    "\n",
    "# sns.lineplot(data = date_count)"
   ]
  },
  {
   "cell_type": "code",
   "execution_count": 7,
   "metadata": {
    "pycharm": {
     "name": "#%%\n"
    }
   },
   "outputs": [
    {
     "data": {
      "text/html": [
       "<div>\n",
       "<style scoped>\n",
       "    .dataframe tbody tr th:only-of-type {\n",
       "        vertical-align: middle;\n",
       "    }\n",
       "\n",
       "    .dataframe tbody tr th {\n",
       "        vertical-align: top;\n",
       "    }\n",
       "\n",
       "    .dataframe thead th {\n",
       "        text-align: right;\n",
       "    }\n",
       "</style>\n",
       "<table border=\"1\" class=\"dataframe\">\n",
       "  <thead>\n",
       "    <tr style=\"text-align: right;\">\n",
       "      <th></th>\n",
       "      <th>Barisal</th>\n",
       "      <th>Bogra</th>\n",
       "      <th>Dhaka</th>\n",
       "      <th>Jamalpur</th>\n",
       "      <th>Jessore</th>\n",
       "      <th>Kishorganj</th>\n",
       "      <th>Kushtia</th>\n",
       "      <th>Lakshmipur</th>\n",
       "      <th>Madaripur</th>\n",
       "      <th>Mymensingh</th>\n",
       "      <th>...</th>\n",
       "      <th>Ramganj</th>\n",
       "      <th>Sarishabari</th>\n",
       "      <th>Satkhira</th>\n",
       "      <th>Shahzadpur</th>\n",
       "      <th>Sherpur</th>\n",
       "      <th>Sirajganj</th>\n",
       "      <th>Tangail</th>\n",
       "      <th>Tongi</th>\n",
       "      <th>Tungipara</th>\n",
       "      <th>diurnal_name</th>\n",
       "    </tr>\n",
       "    <tr>\n",
       "      <th>time</th>\n",
       "      <th></th>\n",
       "      <th></th>\n",
       "      <th></th>\n",
       "      <th></th>\n",
       "      <th></th>\n",
       "      <th></th>\n",
       "      <th></th>\n",
       "      <th></th>\n",
       "      <th></th>\n",
       "      <th></th>\n",
       "      <th></th>\n",
       "      <th></th>\n",
       "      <th></th>\n",
       "      <th></th>\n",
       "      <th></th>\n",
       "      <th></th>\n",
       "      <th></th>\n",
       "      <th></th>\n",
       "      <th></th>\n",
       "      <th></th>\n",
       "      <th></th>\n",
       "    </tr>\n",
       "  </thead>\n",
       "  <tbody>\n",
       "    <tr>\n",
       "      <th>2019-01-01 00:00:00</th>\n",
       "      <td>144.6</td>\n",
       "      <td>138.9</td>\n",
       "      <td>168.2</td>\n",
       "      <td>134.7</td>\n",
       "      <td>156.2</td>\n",
       "      <td>138.3</td>\n",
       "      <td>148.6</td>\n",
       "      <td>139.7</td>\n",
       "      <td>154.8</td>\n",
       "      <td>133.8</td>\n",
       "      <td>...</td>\n",
       "      <td>143.3</td>\n",
       "      <td>138.7</td>\n",
       "      <td>161.9</td>\n",
       "      <td>150.3</td>\n",
       "      <td>131.5</td>\n",
       "      <td>145.5</td>\n",
       "      <td>152.0</td>\n",
       "      <td>166.8</td>\n",
       "      <td>152.6</td>\n",
       "      <td>night</td>\n",
       "    </tr>\n",
       "    <tr>\n",
       "      <th>2019-01-01 01:00:00</th>\n",
       "      <td>133.0</td>\n",
       "      <td>133.2</td>\n",
       "      <td>157.6</td>\n",
       "      <td>128.6</td>\n",
       "      <td>144.0</td>\n",
       "      <td>130.5</td>\n",
       "      <td>140.4</td>\n",
       "      <td>129.3</td>\n",
       "      <td>143.4</td>\n",
       "      <td>127.0</td>\n",
       "      <td>...</td>\n",
       "      <td>132.9</td>\n",
       "      <td>132.3</td>\n",
       "      <td>146.6</td>\n",
       "      <td>142.1</td>\n",
       "      <td>125.6</td>\n",
       "      <td>138.1</td>\n",
       "      <td>143.6</td>\n",
       "      <td>156.7</td>\n",
       "      <td>140.2</td>\n",
       "      <td>night</td>\n",
       "    </tr>\n",
       "    <tr>\n",
       "      <th>2019-01-01 02:00:00</th>\n",
       "      <td>136.5</td>\n",
       "      <td>132.3</td>\n",
       "      <td>161.4</td>\n",
       "      <td>128.2</td>\n",
       "      <td>151.4</td>\n",
       "      <td>132.1</td>\n",
       "      <td>144.9</td>\n",
       "      <td>132.3</td>\n",
       "      <td>147.6</td>\n",
       "      <td>127.6</td>\n",
       "      <td>...</td>\n",
       "      <td>136.0</td>\n",
       "      <td>132.4</td>\n",
       "      <td>154.0</td>\n",
       "      <td>144.9</td>\n",
       "      <td>125.0</td>\n",
       "      <td>139.6</td>\n",
       "      <td>146.1</td>\n",
       "      <td>160.1</td>\n",
       "      <td>144.8</td>\n",
       "      <td>night</td>\n",
       "    </tr>\n",
       "    <tr>\n",
       "      <th>2019-01-01 03:00:00</th>\n",
       "      <td>152.2</td>\n",
       "      <td>144.8</td>\n",
       "      <td>187.7</td>\n",
       "      <td>143.1</td>\n",
       "      <td>163.7</td>\n",
       "      <td>152.2</td>\n",
       "      <td>157.9</td>\n",
       "      <td>149.8</td>\n",
       "      <td>166.7</td>\n",
       "      <td>145.0</td>\n",
       "      <td>...</td>\n",
       "      <td>155.1</td>\n",
       "      <td>147.7</td>\n",
       "      <td>163.6</td>\n",
       "      <td>161.4</td>\n",
       "      <td>139.7</td>\n",
       "      <td>155.9</td>\n",
       "      <td>165.3</td>\n",
       "      <td>186.7</td>\n",
       "      <td>160.0</td>\n",
       "      <td>night</td>\n",
       "    </tr>\n",
       "    <tr>\n",
       "      <th>2019-01-01 04:00:00</th>\n",
       "      <td>160.1</td>\n",
       "      <td>151.7</td>\n",
       "      <td>198.5</td>\n",
       "      <td>150.7</td>\n",
       "      <td>171.0</td>\n",
       "      <td>161.2</td>\n",
       "      <td>166.3</td>\n",
       "      <td>158.2</td>\n",
       "      <td>175.5</td>\n",
       "      <td>153.3</td>\n",
       "      <td>...</td>\n",
       "      <td>163.9</td>\n",
       "      <td>155.5</td>\n",
       "      <td>169.0</td>\n",
       "      <td>169.9</td>\n",
       "      <td>147.2</td>\n",
       "      <td>164.2</td>\n",
       "      <td>174.3</td>\n",
       "      <td>197.5</td>\n",
       "      <td>167.6</td>\n",
       "      <td>night</td>\n",
       "    </tr>\n",
       "    <tr>\n",
       "      <th>...</th>\n",
       "      <td>...</td>\n",
       "      <td>...</td>\n",
       "      <td>...</td>\n",
       "      <td>...</td>\n",
       "      <td>...</td>\n",
       "      <td>...</td>\n",
       "      <td>...</td>\n",
       "      <td>...</td>\n",
       "      <td>...</td>\n",
       "      <td>...</td>\n",
       "      <td>...</td>\n",
       "      <td>...</td>\n",
       "      <td>...</td>\n",
       "      <td>...</td>\n",
       "      <td>...</td>\n",
       "      <td>...</td>\n",
       "      <td>...</td>\n",
       "      <td>...</td>\n",
       "      <td>...</td>\n",
       "      <td>...</td>\n",
       "      <td>...</td>\n",
       "    </tr>\n",
       "    <tr>\n",
       "      <th>2019-12-31 19:00:00</th>\n",
       "      <td>202.0</td>\n",
       "      <td>239.5</td>\n",
       "      <td>245.2</td>\n",
       "      <td>243.4</td>\n",
       "      <td>264.9</td>\n",
       "      <td>223.5</td>\n",
       "      <td>256.5</td>\n",
       "      <td>195.2</td>\n",
       "      <td>226.6</td>\n",
       "      <td>238.0</td>\n",
       "      <td>...</td>\n",
       "      <td>202.4</td>\n",
       "      <td>243.4</td>\n",
       "      <td>256.2</td>\n",
       "      <td>249.8</td>\n",
       "      <td>244.6</td>\n",
       "      <td>245.6</td>\n",
       "      <td>247.1</td>\n",
       "      <td>244.6</td>\n",
       "      <td>223.6</td>\n",
       "      <td>night</td>\n",
       "    </tr>\n",
       "    <tr>\n",
       "      <th>2019-12-31 20:00:00</th>\n",
       "      <td>230.0</td>\n",
       "      <td>258.6</td>\n",
       "      <td>296.6</td>\n",
       "      <td>265.7</td>\n",
       "      <td>286.1</td>\n",
       "      <td>255.8</td>\n",
       "      <td>279.1</td>\n",
       "      <td>226.1</td>\n",
       "      <td>262.2</td>\n",
       "      <td>264.2</td>\n",
       "      <td>...</td>\n",
       "      <td>236.5</td>\n",
       "      <td>267.4</td>\n",
       "      <td>271.5</td>\n",
       "      <td>278.9</td>\n",
       "      <td>265.7</td>\n",
       "      <td>273.3</td>\n",
       "      <td>281.5</td>\n",
       "      <td>295.3</td>\n",
       "      <td>251.0</td>\n",
       "      <td>night</td>\n",
       "    </tr>\n",
       "    <tr>\n",
       "      <th>2019-12-31 21:00:00</th>\n",
       "      <td>227.4</td>\n",
       "      <td>255.2</td>\n",
       "      <td>285.1</td>\n",
       "      <td>261.2</td>\n",
       "      <td>287.7</td>\n",
       "      <td>248.5</td>\n",
       "      <td>277.0</td>\n",
       "      <td>221.2</td>\n",
       "      <td>257.0</td>\n",
       "      <td>258.5</td>\n",
       "      <td>...</td>\n",
       "      <td>230.4</td>\n",
       "      <td>262.6</td>\n",
       "      <td>278.2</td>\n",
       "      <td>274.0</td>\n",
       "      <td>261.3</td>\n",
       "      <td>268.1</td>\n",
       "      <td>274.7</td>\n",
       "      <td>283.7</td>\n",
       "      <td>249.8</td>\n",
       "      <td>night</td>\n",
       "    </tr>\n",
       "    <tr>\n",
       "      <th>2019-12-31 22:00:00</th>\n",
       "      <td>177.0</td>\n",
       "      <td>186.6</td>\n",
       "      <td>225.3</td>\n",
       "      <td>200.2</td>\n",
       "      <td>196.1</td>\n",
       "      <td>220.1</td>\n",
       "      <td>195.7</td>\n",
       "      <td>181.6</td>\n",
       "      <td>197.9</td>\n",
       "      <td>214.2</td>\n",
       "      <td>...</td>\n",
       "      <td>190.3</td>\n",
       "      <td>200.4</td>\n",
       "      <td>187.2</td>\n",
       "      <td>203.3</td>\n",
       "      <td>201.0</td>\n",
       "      <td>203.0</td>\n",
       "      <td>211.4</td>\n",
       "      <td>227.2</td>\n",
       "      <td>185.3</td>\n",
       "      <td>night</td>\n",
       "    </tr>\n",
       "    <tr>\n",
       "      <th>2019-12-31 23:00:00</th>\n",
       "      <td>165.0</td>\n",
       "      <td>179.9</td>\n",
       "      <td>210.9</td>\n",
       "      <td>194.2</td>\n",
       "      <td>180.4</td>\n",
       "      <td>209.4</td>\n",
       "      <td>182.9</td>\n",
       "      <td>169.7</td>\n",
       "      <td>184.4</td>\n",
       "      <td>206.7</td>\n",
       "      <td>...</td>\n",
       "      <td>177.9</td>\n",
       "      <td>193.1</td>\n",
       "      <td>171.6</td>\n",
       "      <td>191.9</td>\n",
       "      <td>195.9</td>\n",
       "      <td>193.5</td>\n",
       "      <td>200.3</td>\n",
       "      <td>213.9</td>\n",
       "      <td>172.2</td>\n",
       "      <td>night</td>\n",
       "    </tr>\n",
       "  </tbody>\n",
       "</table>\n",
       "<p>8760 rows × 31 columns</p>\n",
       "</div>"
      ],
      "text/plain": [
       "                     Barisal  Bogra  Dhaka  Jamalpur  Jessore  Kishorganj  \\\n",
       "time                                                                        \n",
       "2019-01-01 00:00:00    144.6  138.9  168.2     134.7    156.2       138.3   \n",
       "2019-01-01 01:00:00    133.0  133.2  157.6     128.6    144.0       130.5   \n",
       "2019-01-01 02:00:00    136.5  132.3  161.4     128.2    151.4       132.1   \n",
       "2019-01-01 03:00:00    152.2  144.8  187.7     143.1    163.7       152.2   \n",
       "2019-01-01 04:00:00    160.1  151.7  198.5     150.7    171.0       161.2   \n",
       "...                      ...    ...    ...       ...      ...         ...   \n",
       "2019-12-31 19:00:00    202.0  239.5  245.2     243.4    264.9       223.5   \n",
       "2019-12-31 20:00:00    230.0  258.6  296.6     265.7    286.1       255.8   \n",
       "2019-12-31 21:00:00    227.4  255.2  285.1     261.2    287.7       248.5   \n",
       "2019-12-31 22:00:00    177.0  186.6  225.3     200.2    196.1       220.1   \n",
       "2019-12-31 23:00:00    165.0  179.9  210.9     194.2    180.4       209.4   \n",
       "\n",
       "                     Kushtia  Lakshmipur  Madaripur  Mymensingh  ...  Ramganj  \\\n",
       "time                                                             ...            \n",
       "2019-01-01 00:00:00    148.6       139.7      154.8       133.8  ...    143.3   \n",
       "2019-01-01 01:00:00    140.4       129.3      143.4       127.0  ...    132.9   \n",
       "2019-01-01 02:00:00    144.9       132.3      147.6       127.6  ...    136.0   \n",
       "2019-01-01 03:00:00    157.9       149.8      166.7       145.0  ...    155.1   \n",
       "2019-01-01 04:00:00    166.3       158.2      175.5       153.3  ...    163.9   \n",
       "...                      ...         ...        ...         ...  ...      ...   \n",
       "2019-12-31 19:00:00    256.5       195.2      226.6       238.0  ...    202.4   \n",
       "2019-12-31 20:00:00    279.1       226.1      262.2       264.2  ...    236.5   \n",
       "2019-12-31 21:00:00    277.0       221.2      257.0       258.5  ...    230.4   \n",
       "2019-12-31 22:00:00    195.7       181.6      197.9       214.2  ...    190.3   \n",
       "2019-12-31 23:00:00    182.9       169.7      184.4       206.7  ...    177.9   \n",
       "\n",
       "                     Sarishabari  Satkhira  Shahzadpur  Sherpur  Sirajganj  \\\n",
       "time                                                                         \n",
       "2019-01-01 00:00:00        138.7     161.9       150.3    131.5      145.5   \n",
       "2019-01-01 01:00:00        132.3     146.6       142.1    125.6      138.1   \n",
       "2019-01-01 02:00:00        132.4     154.0       144.9    125.0      139.6   \n",
       "2019-01-01 03:00:00        147.7     163.6       161.4    139.7      155.9   \n",
       "2019-01-01 04:00:00        155.5     169.0       169.9    147.2      164.2   \n",
       "...                          ...       ...         ...      ...        ...   \n",
       "2019-12-31 19:00:00        243.4     256.2       249.8    244.6      245.6   \n",
       "2019-12-31 20:00:00        267.4     271.5       278.9    265.7      273.3   \n",
       "2019-12-31 21:00:00        262.6     278.2       274.0    261.3      268.1   \n",
       "2019-12-31 22:00:00        200.4     187.2       203.3    201.0      203.0   \n",
       "2019-12-31 23:00:00        193.1     171.6       191.9    195.9      193.5   \n",
       "\n",
       "                     Tangail  Tongi  Tungipara  diurnal_name  \n",
       "time                                                          \n",
       "2019-01-01 00:00:00    152.0  166.8      152.6         night  \n",
       "2019-01-01 01:00:00    143.6  156.7      140.2         night  \n",
       "2019-01-01 02:00:00    146.1  160.1      144.8         night  \n",
       "2019-01-01 03:00:00    165.3  186.7      160.0         night  \n",
       "2019-01-01 04:00:00    174.3  197.5      167.6         night  \n",
       "...                      ...    ...        ...           ...  \n",
       "2019-12-31 19:00:00    247.1  244.6      223.6         night  \n",
       "2019-12-31 20:00:00    281.5  295.3      251.0         night  \n",
       "2019-12-31 21:00:00    274.7  283.7      249.8         night  \n",
       "2019-12-31 22:00:00    211.4  227.2      185.3         night  \n",
       "2019-12-31 23:00:00    200.3  213.9      172.2         night  \n",
       "\n",
       "[8760 rows x 31 columns]"
      ]
     },
     "execution_count": 7,
     "metadata": {},
     "output_type": "execute_result"
    }
   ],
   "source": [
    "timeseries['2019'].join(sun_time_series)\n",
    "\n",
    "\n"
   ]
  }
 ],
 "metadata": {
  "kernelspec": {
   "display_name": "Python 3",
   "language": "python",
   "name": "python3"
  },
  "language_info": {
   "codemirror_mode": {
    "name": "ipython",
    "version": 3
   },
   "file_extension": ".py",
   "mimetype": "text/x-python",
   "name": "python",
   "nbconvert_exporter": "python",
   "pygments_lexer": "ipython3",
   "version": "3.8.10"
  }
 },
 "nbformat": 4,
 "nbformat_minor": 1
}