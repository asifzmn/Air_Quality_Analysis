{
 "cells": [
  {
   "cell_type": "code",
   "execution_count": 1,
   "metadata": {
    "collapsed": true
   },
   "outputs": [],
   "source": [
    "\n",
    "from AQ_Analysis import *\n",
    "\n",
    "meta_data, time_series = get_metadata(), get_series()"
   ]
  },
  {
   "cell_type": "code",
   "execution_count": 2,
   "outputs": [
    {
     "data": {
      "text/plain": "                     Bangkok  Dhaka  Jakarta  Kandy  Kathmandu  Kuala Lumpur  \\\ntime                                                                           \n2017-01-01 00:00:00     25.4  269.4     31.5    NaN       62.6          34.2   \n2017-01-01 01:00:00     22.4  272.4     60.2    NaN       53.0          28.0   \n2017-01-01 02:00:00     22.6  249.8     95.3    NaN       58.0          27.5   \n2017-01-01 03:00:00     19.2  233.0     88.3    NaN       69.2          23.8   \n2017-01-01 04:00:00     20.0  225.9     29.5    NaN       99.1          21.5   \n...                      ...    ...      ...    ...        ...           ...   \n2020-12-31 19:00:00      NaN  203.8     33.5   32.0      210.3          12.1   \n2020-12-31 20:00:00      NaN  203.2     34.3   33.1      192.1          12.1   \n2020-12-31 21:00:00      NaN  204.2     27.7   32.7      160.6          12.1   \n2020-12-31 22:00:00      NaN  181.3     21.4   82.8      137.9          12.1   \n2020-12-31 23:00:00      NaN  165.4     17.7   78.9      119.2          12.1   \n\n                     Lahore  Mumbai  Songjiang  Thimphu  Tokyo  \ntime                                                            \n2017-01-01 00:00:00     NaN   123.5       74.8      NaN   19.8  \n2017-01-01 01:00:00     NaN   131.1       73.0      NaN   22.7  \n2017-01-01 02:00:00     NaN   125.9       70.1      NaN   31.0  \n2017-01-01 03:00:00     NaN    99.6       69.2      NaN   31.8  \n2017-01-01 04:00:00     NaN   124.0       68.9      NaN   29.5  \n...                     ...     ...        ...      ...    ...  \n2020-12-31 19:00:00   121.8   137.9       34.4    159.4    9.3  \n2020-12-31 20:00:00   368.2   128.3       33.6    149.5    9.7  \n2020-12-31 21:00:00    87.7   134.4       34.6    126.8    9.7  \n2020-12-31 22:00:00    82.1   142.2       34.7    114.0   10.3  \n2020-12-31 23:00:00    77.7   144.8       34.6    101.8   10.3  \n\n[35064 rows x 11 columns]",
      "text/html": "<div>\n<style scoped>\n    .dataframe tbody tr th:only-of-type {\n        vertical-align: middle;\n    }\n\n    .dataframe tbody tr th {\n        vertical-align: top;\n    }\n\n    .dataframe thead th {\n        text-align: right;\n    }\n</style>\n<table border=\"1\" class=\"dataframe\">\n  <thead>\n    <tr style=\"text-align: right;\">\n      <th></th>\n      <th>Bangkok</th>\n      <th>Dhaka</th>\n      <th>Jakarta</th>\n      <th>Kandy</th>\n      <th>Kathmandu</th>\n      <th>Kuala Lumpur</th>\n      <th>Lahore</th>\n      <th>Mumbai</th>\n      <th>Songjiang</th>\n      <th>Thimphu</th>\n      <th>Tokyo</th>\n    </tr>\n    <tr>\n      <th>time</th>\n      <th></th>\n      <th></th>\n      <th></th>\n      <th></th>\n      <th></th>\n      <th></th>\n      <th></th>\n      <th></th>\n      <th></th>\n      <th></th>\n      <th></th>\n    </tr>\n  </thead>\n  <tbody>\n    <tr>\n      <th>2017-01-01 00:00:00</th>\n      <td>25.4</td>\n      <td>269.4</td>\n      <td>31.5</td>\n      <td>NaN</td>\n      <td>62.6</td>\n      <td>34.2</td>\n      <td>NaN</td>\n      <td>123.5</td>\n      <td>74.8</td>\n      <td>NaN</td>\n      <td>19.8</td>\n    </tr>\n    <tr>\n      <th>2017-01-01 01:00:00</th>\n      <td>22.4</td>\n      <td>272.4</td>\n      <td>60.2</td>\n      <td>NaN</td>\n      <td>53.0</td>\n      <td>28.0</td>\n      <td>NaN</td>\n      <td>131.1</td>\n      <td>73.0</td>\n      <td>NaN</td>\n      <td>22.7</td>\n    </tr>\n    <tr>\n      <th>2017-01-01 02:00:00</th>\n      <td>22.6</td>\n      <td>249.8</td>\n      <td>95.3</td>\n      <td>NaN</td>\n      <td>58.0</td>\n      <td>27.5</td>\n      <td>NaN</td>\n      <td>125.9</td>\n      <td>70.1</td>\n      <td>NaN</td>\n      <td>31.0</td>\n    </tr>\n    <tr>\n      <th>2017-01-01 03:00:00</th>\n      <td>19.2</td>\n      <td>233.0</td>\n      <td>88.3</td>\n      <td>NaN</td>\n      <td>69.2</td>\n      <td>23.8</td>\n      <td>NaN</td>\n      <td>99.6</td>\n      <td>69.2</td>\n      <td>NaN</td>\n      <td>31.8</td>\n    </tr>\n    <tr>\n      <th>2017-01-01 04:00:00</th>\n      <td>20.0</td>\n      <td>225.9</td>\n      <td>29.5</td>\n      <td>NaN</td>\n      <td>99.1</td>\n      <td>21.5</td>\n      <td>NaN</td>\n      <td>124.0</td>\n      <td>68.9</td>\n      <td>NaN</td>\n      <td>29.5</td>\n    </tr>\n    <tr>\n      <th>...</th>\n      <td>...</td>\n      <td>...</td>\n      <td>...</td>\n      <td>...</td>\n      <td>...</td>\n      <td>...</td>\n      <td>...</td>\n      <td>...</td>\n      <td>...</td>\n      <td>...</td>\n      <td>...</td>\n    </tr>\n    <tr>\n      <th>2020-12-31 19:00:00</th>\n      <td>NaN</td>\n      <td>203.8</td>\n      <td>33.5</td>\n      <td>32.0</td>\n      <td>210.3</td>\n      <td>12.1</td>\n      <td>121.8</td>\n      <td>137.9</td>\n      <td>34.4</td>\n      <td>159.4</td>\n      <td>9.3</td>\n    </tr>\n    <tr>\n      <th>2020-12-31 20:00:00</th>\n      <td>NaN</td>\n      <td>203.2</td>\n      <td>34.3</td>\n      <td>33.1</td>\n      <td>192.1</td>\n      <td>12.1</td>\n      <td>368.2</td>\n      <td>128.3</td>\n      <td>33.6</td>\n      <td>149.5</td>\n      <td>9.7</td>\n    </tr>\n    <tr>\n      <th>2020-12-31 21:00:00</th>\n      <td>NaN</td>\n      <td>204.2</td>\n      <td>27.7</td>\n      <td>32.7</td>\n      <td>160.6</td>\n      <td>12.1</td>\n      <td>87.7</td>\n      <td>134.4</td>\n      <td>34.6</td>\n      <td>126.8</td>\n      <td>9.7</td>\n    </tr>\n    <tr>\n      <th>2020-12-31 22:00:00</th>\n      <td>NaN</td>\n      <td>181.3</td>\n      <td>21.4</td>\n      <td>82.8</td>\n      <td>137.9</td>\n      <td>12.1</td>\n      <td>82.1</td>\n      <td>142.2</td>\n      <td>34.7</td>\n      <td>114.0</td>\n      <td>10.3</td>\n    </tr>\n    <tr>\n      <th>2020-12-31 23:00:00</th>\n      <td>NaN</td>\n      <td>165.4</td>\n      <td>17.7</td>\n      <td>78.9</td>\n      <td>119.2</td>\n      <td>12.1</td>\n      <td>77.7</td>\n      <td>144.8</td>\n      <td>34.6</td>\n      <td>101.8</td>\n      <td>10.3</td>\n    </tr>\n  </tbody>\n</table>\n<p>35064 rows × 11 columns</p>\n</div>"
     },
     "execution_count": 2,
     "metadata": {},
     "output_type": "execute_result"
    }
   ],
   "source": [
    "time_series"
   ],
   "metadata": {
    "collapsed": false,
    "pycharm": {
     "name": "#%%\n"
    }
   }
  }
 ],
 "metadata": {
  "kernelspec": {
   "display_name": "Python 3",
   "language": "python",
   "name": "python3"
  },
  "language_info": {
   "codemirror_mode": {
    "name": "ipython",
    "version": 2
   },
   "file_extension": ".py",
   "mimetype": "text/x-python",
   "name": "python",
   "nbconvert_exporter": "python",
   "pygments_lexer": "ipython2",
   "version": "2.7.6"
  }
 },
 "nbformat": 4,
 "nbformat_minor": 0
}