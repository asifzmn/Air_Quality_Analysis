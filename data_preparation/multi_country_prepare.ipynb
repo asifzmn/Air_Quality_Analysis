{
 "cells": [
  {
   "cell_type": "code",
   "execution_count": 1,
   "outputs": [],
   "source": [
    "from data_preparation import get_metadata, get_series,clip_missing_prone_values, prepare_region_and_country_series\n",
    "from data_preparation import save_region_and_country_series,read_region_and_country_series"
   ],
   "metadata": {
    "collapsed": false,
    "pycharm": {
     "name": "#%%\n"
    }
   }
  },
  {
   "cell_type": "code",
   "execution_count": 2,
   "outputs": [],
   "source": [
    "# metadata_all_with_heavy_missing, series_all_with_heavy_missing = get_metadata(), get_series()\n",
    "#\n",
    "# division_missing_counts, metadata_all, series_all = clip_missing_prone_values(metadata_all_with_heavy_missing,\n",
    "#                                                                               series_all_with_heavy_missing)\n",
    "# region_series_all, metadata_region_all, country_series_all, metadata_country_all = prepare_region_and_country_series(series_all,\n",
    "#                                                                                                                      metadata_all)"
   ],
   "metadata": {
    "collapsed": false,
    "pycharm": {
     "name": "#%%\n"
    }
   }
  },
  {
   "cell_type": "code",
   "execution_count": null,
   "outputs": [],
   "source": [
    "# save_region_and_country_series(region_series_all, country_series_all, metadata_region_all, metadata_country_all)"
   ],
   "metadata": {
    "collapsed": false,
    "pycharm": {
     "name": "#%%\n"
    }
   }
  },
  {
   "cell_type": "code",
   "execution_count": null,
   "outputs": [],
   "source": [
    "# region_series_all, metadata_region_all, country_series_all, metadata_country_all = read_region_and_country_series()"
   ],
   "metadata": {
    "collapsed": false,
    "pycharm": {
     "name": "#%%\n"
    }
   }
  },
  {
   "cell_type": "code",
   "execution_count": 40,
   "outputs": [],
   "source": [
    "from data_preparation import get_all_granularity_data\n",
    "\n",
    "metadata_all, series_all, metadata_region_all, region_series_all,\\\n",
    "metadata_country_all, country_series_all = get_all_granularity_data()"
   ],
   "metadata": {
    "collapsed": false,
    "pycharm": {
     "name": "#%%\n"
    }
   }
  },
  {
   "cell_type": "code",
   "execution_count": 41,
   "outputs": [
    {
     "data": {
      "text/plain": "((444, 6), (18, 5), (2, 4))"
     },
     "execution_count": 41,
     "metadata": {},
     "output_type": "execute_result"
    }
   ],
   "source": [
    "metadata_all.shape, metadata_region_all.shape, metadata_country_all.shape"
   ],
   "metadata": {
    "collapsed": false,
    "pycharm": {
     "name": "#%%\n"
    }
   }
  },
  {
   "cell_type": "code",
   "execution_count": 42,
   "outputs": [
    {
     "data": {
      "text/plain": "((46704, 444), (46704, 18), (46704, 2))"
     },
     "execution_count": 42,
     "metadata": {},
     "output_type": "execute_result"
    }
   ],
   "source": [
    "series_all.shape,region_series_all.shape,country_series_all.shape"
   ],
   "metadata": {
    "collapsed": false,
    "pycharm": {
     "name": "#%%\n"
    }
   }
  },
  {
   "cell_type": "code",
   "execution_count": 43,
   "outputs": [],
   "source": [
    "from data_preparation import get_bd_data\n",
    "\n",
    "metadata, series, metadata_region, region_series, metadata_country, country_series = get_bd_data()"
   ],
   "metadata": {
    "collapsed": false,
    "pycharm": {
     "name": "#%%\n"
    }
   }
  },
  {
   "cell_type": "code",
   "execution_count": 44,
   "outputs": [
    {
     "data": {
      "text/plain": "((55, 6), (8, 5), (1, 4))"
     },
     "execution_count": 44,
     "metadata": {},
     "output_type": "execute_result"
    }
   ],
   "source": [
    "metadata.shape, metadata_region.shape, metadata_country.shape"
   ],
   "metadata": {
    "collapsed": false,
    "pycharm": {
     "name": "#%%\n"
    }
   }
  },
  {
   "cell_type": "code",
   "execution_count": 45,
   "outputs": [
    {
     "data": {
      "text/plain": "((46704, 55), (46704, 8), (46704, 1))"
     },
     "execution_count": 45,
     "metadata": {},
     "output_type": "execute_result"
    }
   ],
   "source": [
    "series.shape,region_series.shape,country_series.shape"
   ],
   "metadata": {
    "collapsed": false,
    "pycharm": {
     "name": "#%%\n"
    }
   }
  },
  {
   "cell_type": "code",
   "execution_count": 8,
   "outputs": [
    {
     "data": {
      "text/plain": "                                Zone Country          Region  Population  \\\nindex                                                                      \nAdilabad_Telangana          Adilabad   India       Telangana      118526   \nAgra_Uttar Pradesh              Agra   India   Uttar Pradesh     1430055   \nAjodhya_Uttar Pradesh        Ajodhya   India   Uttar Pradesh       53293   \nAligarh_Uttar Pradesh        Aligarh   India   Uttar Pradesh      753207   \nAllahabad_Uttar Pradesh    Allahabad   India   Uttar Pradesh     1073438   \n...                              ...     ...             ...         ...   \nVidisha_Madhya Pradesh       Vidisha   India  Madhya Pradesh      140045   \nVrindavan_Uttar Pradesh    Vrindavan   India   Uttar Pradesh       60195   \nWanparti_Telangana          Wanparti   India       Telangana       55182   \nWarangal_Telangana          Warangal   India       Telangana      557802   \nYamunanagar_Haryana      Yamunanagar   India         Haryana      208931   \n\n                         Latitude  Longitude  \nindex                                         \nAdilabad_Telangana        19.6720    78.5359  \nAgra_Uttar Pradesh        27.1833    78.0167  \nAjodhya_Uttar Pradesh     26.7991    82.2047  \nAligarh_Uttar Pradesh     27.8815    78.0746  \nAllahabad_Uttar Pradesh   25.4448    81.8432  \n...                           ...        ...  \nVidisha_Madhya Pradesh    23.5260    77.8109  \nVrindavan_Uttar Pradesh   27.5811    77.6966  \nWanparti_Telangana        16.3674    78.0689  \nWarangal_Telangana        18.0000    79.5833  \nYamunanagar_Haryana       30.1280    77.2837  \n\n[445 rows x 6 columns]",
      "text/html": "<div>\n<style scoped>\n    .dataframe tbody tr th:only-of-type {\n        vertical-align: middle;\n    }\n\n    .dataframe tbody tr th {\n        vertical-align: top;\n    }\n\n    .dataframe thead th {\n        text-align: right;\n    }\n</style>\n<table border=\"1\" class=\"dataframe\">\n  <thead>\n    <tr style=\"text-align: right;\">\n      <th></th>\n      <th>Zone</th>\n      <th>Country</th>\n      <th>Region</th>\n      <th>Population</th>\n      <th>Latitude</th>\n      <th>Longitude</th>\n    </tr>\n    <tr>\n      <th>index</th>\n      <th></th>\n      <th></th>\n      <th></th>\n      <th></th>\n      <th></th>\n      <th></th>\n    </tr>\n  </thead>\n  <tbody>\n    <tr>\n      <th>Adilabad_Telangana</th>\n      <td>Adilabad</td>\n      <td>India</td>\n      <td>Telangana</td>\n      <td>118526</td>\n      <td>19.6720</td>\n      <td>78.5359</td>\n    </tr>\n    <tr>\n      <th>Agra_Uttar Pradesh</th>\n      <td>Agra</td>\n      <td>India</td>\n      <td>Uttar Pradesh</td>\n      <td>1430055</td>\n      <td>27.1833</td>\n      <td>78.0167</td>\n    </tr>\n    <tr>\n      <th>Ajodhya_Uttar Pradesh</th>\n      <td>Ajodhya</td>\n      <td>India</td>\n      <td>Uttar Pradesh</td>\n      <td>53293</td>\n      <td>26.7991</td>\n      <td>82.2047</td>\n    </tr>\n    <tr>\n      <th>Aligarh_Uttar Pradesh</th>\n      <td>Aligarh</td>\n      <td>India</td>\n      <td>Uttar Pradesh</td>\n      <td>753207</td>\n      <td>27.8815</td>\n      <td>78.0746</td>\n    </tr>\n    <tr>\n      <th>Allahabad_Uttar Pradesh</th>\n      <td>Allahabad</td>\n      <td>India</td>\n      <td>Uttar Pradesh</td>\n      <td>1073438</td>\n      <td>25.4448</td>\n      <td>81.8432</td>\n    </tr>\n    <tr>\n      <th>...</th>\n      <td>...</td>\n      <td>...</td>\n      <td>...</td>\n      <td>...</td>\n      <td>...</td>\n      <td>...</td>\n    </tr>\n    <tr>\n      <th>Vidisha_Madhya Pradesh</th>\n      <td>Vidisha</td>\n      <td>India</td>\n      <td>Madhya Pradesh</td>\n      <td>140045</td>\n      <td>23.5260</td>\n      <td>77.8109</td>\n    </tr>\n    <tr>\n      <th>Vrindavan_Uttar Pradesh</th>\n      <td>Vrindavan</td>\n      <td>India</td>\n      <td>Uttar Pradesh</td>\n      <td>60195</td>\n      <td>27.5811</td>\n      <td>77.6966</td>\n    </tr>\n    <tr>\n      <th>Wanparti_Telangana</th>\n      <td>Wanparti</td>\n      <td>India</td>\n      <td>Telangana</td>\n      <td>55182</td>\n      <td>16.3674</td>\n      <td>78.0689</td>\n    </tr>\n    <tr>\n      <th>Warangal_Telangana</th>\n      <td>Warangal</td>\n      <td>India</td>\n      <td>Telangana</td>\n      <td>557802</td>\n      <td>18.0000</td>\n      <td>79.5833</td>\n    </tr>\n    <tr>\n      <th>Yamunanagar_Haryana</th>\n      <td>Yamunanagar</td>\n      <td>India</td>\n      <td>Haryana</td>\n      <td>208931</td>\n      <td>30.1280</td>\n      <td>77.2837</td>\n    </tr>\n  </tbody>\n</table>\n<p>445 rows × 6 columns</p>\n</div>"
     },
     "execution_count": 8,
     "metadata": {},
     "output_type": "execute_result"
    }
   ],
   "source": [
    "metadata_all"
   ],
   "metadata": {
    "collapsed": false,
    "pycharm": {
     "name": "#%%\n"
    }
   }
  },
  {
   "cell_type": "code",
   "execution_count": 9,
   "outputs": [
    {
     "data": {
      "text/plain": "                        Country  Population   Latitude  Longitude  Count\nRegion                                                                  \nBarisal              Bangladesh      355739  22.657433  90.329767      3\nBihar                     India     6928787  25.708822  85.630522     41\nChhattisgarh              India     2872929  21.400350  82.035208     12\nChittagong           Bangladesh     5117216  22.714367  91.453817     12\nDhaka                Bangladesh    12421465  23.735636  90.334793     14\nHaryana                   India     6280342  29.229848  76.427341     27\nJharkhand                 India     3061175  23.793406  85.894763     16\nKhulna               Bangladesh     1906080  23.149120  89.292880      5\nMadhya Pradesh            India    11620902  23.683922  77.800602     50\nMymensingh Division  Bangladesh      660786  24.865940  90.186480      5\nNCT                       India    11440146  28.655767  77.174667      3\nOdisha                    India     4212298  20.656442  84.843668     19\nRajshahi             Bangladesh     2016125  24.626830  89.072410     10\nRangpur Division     Bangladesh      685579  25.830550  88.951325      4\nSylhet               Bangladesh      383201  24.589433  91.685267      3\nTelangana                 India     8941106  17.849662  78.918646     39\nUttar Pradesh             India    26376298  27.528679  79.667813    107\nWest Bengal               India    17664785  23.554336  88.158059     75",
      "text/html": "<div>\n<style scoped>\n    .dataframe tbody tr th:only-of-type {\n        vertical-align: middle;\n    }\n\n    .dataframe tbody tr th {\n        vertical-align: top;\n    }\n\n    .dataframe thead th {\n        text-align: right;\n    }\n</style>\n<table border=\"1\" class=\"dataframe\">\n  <thead>\n    <tr style=\"text-align: right;\">\n      <th></th>\n      <th>Country</th>\n      <th>Population</th>\n      <th>Latitude</th>\n      <th>Longitude</th>\n      <th>Count</th>\n    </tr>\n    <tr>\n      <th>Region</th>\n      <th></th>\n      <th></th>\n      <th></th>\n      <th></th>\n      <th></th>\n    </tr>\n  </thead>\n  <tbody>\n    <tr>\n      <th>Barisal</th>\n      <td>Bangladesh</td>\n      <td>355739</td>\n      <td>22.657433</td>\n      <td>90.329767</td>\n      <td>3</td>\n    </tr>\n    <tr>\n      <th>Bihar</th>\n      <td>India</td>\n      <td>6928787</td>\n      <td>25.708822</td>\n      <td>85.630522</td>\n      <td>41</td>\n    </tr>\n    <tr>\n      <th>Chhattisgarh</th>\n      <td>India</td>\n      <td>2872929</td>\n      <td>21.400350</td>\n      <td>82.035208</td>\n      <td>12</td>\n    </tr>\n    <tr>\n      <th>Chittagong</th>\n      <td>Bangladesh</td>\n      <td>5117216</td>\n      <td>22.714367</td>\n      <td>91.453817</td>\n      <td>12</td>\n    </tr>\n    <tr>\n      <th>Dhaka</th>\n      <td>Bangladesh</td>\n      <td>12421465</td>\n      <td>23.735636</td>\n      <td>90.334793</td>\n      <td>14</td>\n    </tr>\n    <tr>\n      <th>Haryana</th>\n      <td>India</td>\n      <td>6280342</td>\n      <td>29.229848</td>\n      <td>76.427341</td>\n      <td>27</td>\n    </tr>\n    <tr>\n      <th>Jharkhand</th>\n      <td>India</td>\n      <td>3061175</td>\n      <td>23.793406</td>\n      <td>85.894763</td>\n      <td>16</td>\n    </tr>\n    <tr>\n      <th>Khulna</th>\n      <td>Bangladesh</td>\n      <td>1906080</td>\n      <td>23.149120</td>\n      <td>89.292880</td>\n      <td>5</td>\n    </tr>\n    <tr>\n      <th>Madhya Pradesh</th>\n      <td>India</td>\n      <td>11620902</td>\n      <td>23.683922</td>\n      <td>77.800602</td>\n      <td>50</td>\n    </tr>\n    <tr>\n      <th>Mymensingh Division</th>\n      <td>Bangladesh</td>\n      <td>660786</td>\n      <td>24.865940</td>\n      <td>90.186480</td>\n      <td>5</td>\n    </tr>\n    <tr>\n      <th>NCT</th>\n      <td>India</td>\n      <td>11440146</td>\n      <td>28.655767</td>\n      <td>77.174667</td>\n      <td>3</td>\n    </tr>\n    <tr>\n      <th>Odisha</th>\n      <td>India</td>\n      <td>4212298</td>\n      <td>20.656442</td>\n      <td>84.843668</td>\n      <td>19</td>\n    </tr>\n    <tr>\n      <th>Rajshahi</th>\n      <td>Bangladesh</td>\n      <td>2016125</td>\n      <td>24.626830</td>\n      <td>89.072410</td>\n      <td>10</td>\n    </tr>\n    <tr>\n      <th>Rangpur Division</th>\n      <td>Bangladesh</td>\n      <td>685579</td>\n      <td>25.830550</td>\n      <td>88.951325</td>\n      <td>4</td>\n    </tr>\n    <tr>\n      <th>Sylhet</th>\n      <td>Bangladesh</td>\n      <td>383201</td>\n      <td>24.589433</td>\n      <td>91.685267</td>\n      <td>3</td>\n    </tr>\n    <tr>\n      <th>Telangana</th>\n      <td>India</td>\n      <td>8941106</td>\n      <td>17.849662</td>\n      <td>78.918646</td>\n      <td>39</td>\n    </tr>\n    <tr>\n      <th>Uttar Pradesh</th>\n      <td>India</td>\n      <td>26376298</td>\n      <td>27.528679</td>\n      <td>79.667813</td>\n      <td>107</td>\n    </tr>\n    <tr>\n      <th>West Bengal</th>\n      <td>India</td>\n      <td>17664785</td>\n      <td>23.554336</td>\n      <td>88.158059</td>\n      <td>75</td>\n    </tr>\n  </tbody>\n</table>\n</div>"
     },
     "execution_count": 9,
     "metadata": {},
     "output_type": "execute_result"
    }
   ],
   "source": [
    "metadata_region_all"
   ],
   "metadata": {
    "collapsed": false,
    "pycharm": {
     "name": "#%%\n"
    }
   }
  },
  {
   "cell_type": "code",
   "execution_count": 10,
   "outputs": [
    {
     "data": {
      "text/plain": "            Population   Latitude  Longitude  Count\nCountry                                            \nBangladesh    23546191  23.862102  90.216146     56\nIndia         99398768  24.554454  81.955912    389",
      "text/html": "<div>\n<style scoped>\n    .dataframe tbody tr th:only-of-type {\n        vertical-align: middle;\n    }\n\n    .dataframe tbody tr th {\n        vertical-align: top;\n    }\n\n    .dataframe thead th {\n        text-align: right;\n    }\n</style>\n<table border=\"1\" class=\"dataframe\">\n  <thead>\n    <tr style=\"text-align: right;\">\n      <th></th>\n      <th>Population</th>\n      <th>Latitude</th>\n      <th>Longitude</th>\n      <th>Count</th>\n    </tr>\n    <tr>\n      <th>Country</th>\n      <th></th>\n      <th></th>\n      <th></th>\n      <th></th>\n    </tr>\n  </thead>\n  <tbody>\n    <tr>\n      <th>Bangladesh</th>\n      <td>23546191</td>\n      <td>23.862102</td>\n      <td>90.216146</td>\n      <td>56</td>\n    </tr>\n    <tr>\n      <th>India</th>\n      <td>99398768</td>\n      <td>24.554454</td>\n      <td>81.955912</td>\n      <td>389</td>\n    </tr>\n  </tbody>\n</table>\n</div>"
     },
     "execution_count": 10,
     "metadata": {},
     "output_type": "execute_result"
    }
   ],
   "source": [
    "metadata_country_all"
   ],
   "metadata": {
    "collapsed": false,
    "pycharm": {
     "name": "#%%\n"
    }
   }
  },
  {
   "cell_type": "code",
   "execution_count": 79,
   "outputs": [
    {
     "name": "stdout",
     "output_type": "stream",
     "text": [
      "<class 'pandas.core.frame.DataFrame'>\n",
      "DatetimeIndex: 46704 entries, 2017-01-01 00:00:00 to 2022-04-30 23:00:00\n",
      "Data columns (total 55 columns):\n",
      " #   Column                           Non-Null Count  Dtype  \n",
      "---  ------                           --------------  -----  \n",
      " 0   Azimpur_Dhaka                    44084 non-null  float64\n",
      " 1   Barisal_Barisal                  44130 non-null  float64\n",
      " 2   Bhairab Bazar_Dhaka              42550 non-null  float64\n",
      " 3   Bhola_Barisal                    43936 non-null  float64\n",
      " 4   Bogra_Rajshahi                   43782 non-null  float64\n",
      " 5   Chittagong_Chittagong            33200 non-null  float64\n",
      " 6   Comilla_Chittagong               41665 non-null  float64\n",
      " 7   Dhaka_Dhaka                      44034 non-null  float64\n",
      " 8   Dinajpur_Rangpur Division        40780 non-null  float64\n",
      " 9   Faridpur_Dhaka                   44126 non-null  float64\n",
      " 10  Feni_Chittagong                  41702 non-null  float64\n",
      " 11  Habiganj_Sylhet                  41807 non-null  float64\n",
      " 12  Ishurdi_Rajshahi                 44473 non-null  float64\n",
      " 13  Jamalpur_Mymensingh Division     43975 non-null  float64\n",
      " 14  Jessore_Khulna                   44677 non-null  float64\n",
      " 15  Joypur Hat_Rajshahi              43772 non-null  float64\n",
      " 16  Khagrachhari_Chittagong          33586 non-null  float64\n",
      " 17  Khulna_Khulna                    44222 non-null  float64\n",
      " 18  Kishorganj_Dhaka                 43495 non-null  float64\n",
      " 19  Kushtia_Khulna                   44738 non-null  float64\n",
      " 20  Laksham_Chittagong               41865 non-null  float64\n",
      " 21  Lakshmipur_Chittagong            43792 non-null  float64\n",
      " 22  Lalmanirhat_Rangpur Division     35802 non-null  float64\n",
      " 23  Madaripur_Dhaka                  44110 non-null  float64\n",
      " 24  Maulavi Bazar_Sylhet             33700 non-null  float64\n",
      " 25  Mymensingh_Mymensingh Division   43930 non-null  float64\n",
      " 26  Nagarpur_Dhaka                   44074 non-null  float64\n",
      " 27  Narail_Khulna                    44577 non-null  float64\n",
      " 28  Narayanganj_Dhaka                43933 non-null  float64\n",
      " 29  Narsingdi_Dhaka                  43898 non-null  float64\n",
      " 30  Nawabganj_Rajshahi               44534 non-null  float64\n",
      " 31  Netrakona_Mymensingh Division    43530 non-null  float64\n",
      " 32  Pabna_Rajshahi                   44668 non-null  float64\n",
      " 33  Palang_Dhaka                     44125 non-null  float64\n",
      " 34  Paltan_Dhaka                     44085 non-null  float64\n",
      " 35  Par Naogaon_Rajshahi             43759 non-null  float64\n",
      " 36  Patiya_Chittagong                33221 non-null  float64\n",
      " 37  Pirojpur_Barisal                 43955 non-null  float64\n",
      " 38  Raipur_Chittagong                43995 non-null  float64\n",
      " 39  Rajshahi_Rajshahi                44556 non-null  float64\n",
      " 40  Ramganj_Chittagong               43885 non-null  float64\n",
      " 41  Rangpur_Rangpur Division         35789 non-null  float64\n",
      " 42  Saidpur_Rajshahi                 36346 non-null  float64\n",
      " 43  Sandwip_Chittagong               33479 non-null  float64\n",
      " 44  Sarishabari_Mymensingh Division  44033 non-null  float64\n",
      " 45  Satkania_Chittagong              32932 non-null  float64\n",
      " 46  Satkhira_Khulna                  44238 non-null  float64\n",
      " 47  Shahzadpur_Rajshahi              44074 non-null  float64\n",
      " 48  Sherpur_Mymensingh Division      43964 non-null  float64\n",
      " 49  Sirajganj_Rajshahi               44092 non-null  float64\n",
      " 50  Sylhet_Sylhet                    33699 non-null  float64\n",
      " 51  Tangail_Dhaka                    44063 non-null  float64\n",
      " 52  Thakurgaon_Rangpur Division      37302 non-null  float64\n",
      " 53  Tungi_Dhaka                      43956 non-null  float64\n",
      " 54  Tungipara_Dhaka                  44124 non-null  float64\n",
      "dtypes: float64(55)\n",
      "memory usage: 20.0 MB\n"
     ]
    }
   ],
   "source": [
    "series.info()"
   ],
   "metadata": {
    "collapsed": false,
    "pycharm": {
     "name": "#%%\n"
    }
   }
  },
  {
   "cell_type": "markdown",
   "source": [
    "# Custom Data Preparation"
   ],
   "metadata": {
    "collapsed": false
   }
  },
  {
   "cell_type": "code",
   "execution_count": 6,
   "outputs": [],
   "source": [
    "# division_series_bd = region_series[['Dhaka','Khulna','Chittagong']][\"2019\":\"2022\"].round(2)\n",
    "# division_series_bd.to_csv(\"region_series_BD_3_only.csv\")"
   ],
   "metadata": {
    "collapsed": false,
    "pycharm": {
     "name": "#%%\n"
    }
   }
  },
  {
   "cell_type": "code",
   "execution_count": 7,
   "outputs": [],
   "source": [
    "# region_series_summary = region_series.describe().round(2).T\n",
    "# region_series_summary.to_csv(\"region_series_summary.csv\")"
   ],
   "metadata": {
    "collapsed": false,
    "pycharm": {
     "name": "#%%\n"
    }
   }
  },
  {
   "cell_type": "code",
   "execution_count": 8,
   "outputs": [],
   "source": [
    "# country_series_summary = country_series.describe().round(2).T\n",
    "# country_series_summary.to_csv(\"country_series_summary.csv\")"
   ],
   "metadata": {
    "collapsed": false,
    "pycharm": {
     "name": "#%%\n"
    }
   }
  },
  {
   "cell_type": "code",
   "execution_count": null,
   "outputs": [],
   "source": [],
   "metadata": {
    "collapsed": false,
    "pycharm": {
     "name": "#%%\n"
    }
   }
  },
  {
   "cell_type": "code",
   "execution_count": 78,
   "outputs": [],
   "source": [],
   "metadata": {
    "collapsed": false,
    "pycharm": {
     "name": "#%%\n"
    }
   }
  },
  {
   "cell_type": "code",
   "execution_count": 78,
   "outputs": [],
   "source": [],
   "metadata": {
    "collapsed": false,
    "pycharm": {
     "name": "#%%\n"
    }
   }
  },
  {
   "cell_type": "code",
   "execution_count": 78,
   "outputs": [],
   "source": [],
   "metadata": {
    "collapsed": false,
    "pycharm": {
     "name": "#%%\n"
    }
   }
  },
  {
   "cell_type": "code",
   "execution_count": 78,
   "outputs": [],
   "source": [],
   "metadata": {
    "collapsed": false,
    "pycharm": {
     "name": "#%%\n"
    }
   }
  }
 ],
 "metadata": {
  "kernelspec": {
   "display_name": "Python 3",
   "language": "python",
   "name": "python3"
  },
  "language_info": {
   "codemirror_mode": {
    "name": "ipython",
    "version": 2
   },
   "file_extension": ".py",
   "mimetype": "text/x-python",
   "name": "python",
   "nbconvert_exporter": "python",
   "pygments_lexer": "ipython2",
   "version": "2.7.6"
  }
 },
 "nbformat": 4,
 "nbformat_minor": 0
}