{
 "cells": [
  {
   "cell_type": "code",
   "execution_count": 1,
   "outputs": [],
   "source": [
    "import pandas as pd\n",
    "\n",
    "from data_preparation import get_metadata, get_series,clip_missing_prone_values, prepare_region_and_country_series\n",
    "\n",
    "series_with_heavy_missing, metadata_with_heavy_missing = get_series(), get_metadata()\n",
    "division_missing_counts, metadata, series = clip_missing_prone_values(metadata_with_heavy_missing, series_with_heavy_missing)\n",
    "region_series, metadata_region, country_series, metadata_country = prepare_region_and_country_series(series,\n",
    "                                                                                                       metadata)"
   ],
   "metadata": {
    "collapsed": false,
    "pycharm": {
     "name": "#%%\n"
    }
   }
  },
  {
   "cell_type": "code",
   "execution_count": 15,
   "outputs": [
    {
     "data": {
      "text/plain": "Division\nUttar Pradesh           1731\nBihar                   1757\nRajshahi                1762\nMymensingh Division     1778\nWest Bengal             1781\nKhulna                  1868\nJharkhand               1962\nHaryana                 1981\nNCT                     2254\nOdisha                  2451\nShan                    2553\nBarisal                 2570\nDhaka                   2572\nChittagong              2696\nTelangana               2944\nKachin                  3924\nMadhya Pradesh          4096\nSylhet                  4823\nTripura                 4968\nChhattisgarh            5291\nRangpur Division        5764\nAssam                  10562\nKayin                  12194\nBago                   13072\nMon                    13080\nTanintharyi            17449\nMandalay               24014\nYangon                 25440\nAyeyarwady             27408\nSagain                 28935\nNay Pyi Taw            36859\nMagway                 37819\nRakhine                46694\ndtype: int64"
     },
     "execution_count": 15,
     "metadata": {},
     "output_type": "execute_result"
    }
   ],
   "source": [
    "division_missing_counts"
   ],
   "metadata": {
    "collapsed": false,
    "pycharm": {
     "name": "#%%\n"
    }
   }
  },
  {
   "cell_type": "code",
   "execution_count": 6,
   "outputs": [],
   "source": [
    "# division_series_bd = region_series[['Dhaka','Khulna','Chittagong']][\"2019\":\"2022\"].round(2)\n",
    "# division_series_bd.to_csv(\"region_series_BD_3_only.csv\")"
   ],
   "metadata": {
    "collapsed": false,
    "pycharm": {
     "name": "#%%\n"
    }
   }
  },
  {
   "cell_type": "code",
   "execution_count": 2,
   "outputs": [],
   "source": [
    "region_series.to_csv(\"region_series.csv\")"
   ],
   "metadata": {
    "collapsed": false,
    "pycharm": {
     "name": "#%%\n"
    }
   }
  },
  {
   "cell_type": "code",
   "execution_count": 7,
   "outputs": [],
   "source": [
    "region_series_summary = region_series.describe().round(2).T\n",
    "region_series_summary.to_csv(\"region_series_summary.csv\")"
   ],
   "metadata": {
    "collapsed": false,
    "pycharm": {
     "name": "#%%\n"
    }
   }
  },
  {
   "cell_type": "code",
   "execution_count": 3,
   "outputs": [],
   "source": [
    "country_series.to_csv(\"country_series.csv\")"
   ],
   "metadata": {
    "collapsed": false,
    "pycharm": {
     "name": "#%%\n"
    }
   }
  },
  {
   "cell_type": "code",
   "execution_count": 8,
   "outputs": [],
   "source": [
    "country_series_summary = country_series.describe().round(2).T\n",
    "country_series_summary.to_csv(\"country_series_summary.csv\")"
   ],
   "metadata": {
    "collapsed": false,
    "pycharm": {
     "name": "#%%\n"
    }
   }
  },
  {
   "cell_type": "code",
   "execution_count": 16,
   "outputs": [],
   "source": [
    "metadata_region.to_csv(\"metadata_region.csv\")\n",
    "metadata_country.to_csv(\"metadata_country.csv\")"
   ],
   "metadata": {
    "collapsed": false,
    "pycharm": {
     "name": "#%%\n"
    }
   }
  },
  {
   "cell_type": "code",
   "execution_count": 32,
   "outputs": [
    {
     "data": {
      "text/plain": "                     Barisal  Bihar  Chhattisgarh  Chittagong   Dhaka  \\\ntime                                                                    \n2017-01-01 00:00:00   205.90  99.31         82.70      198.87  236.78   \n2017-01-01 01:00:00   197.10  90.76         82.55      195.83  235.59   \n2017-01-01 02:00:00   172.90  85.51         78.80      176.58  213.68   \n2017-01-01 03:00:00   162.97  88.61         86.30      167.30  200.58   \n2017-01-01 04:00:00   151.57  93.17         87.35      160.97  193.19   \n...                      ...    ...           ...         ...     ...   \n2022-04-30 19:00:00    45.63  40.32         49.02       42.78   66.38   \n2022-04-30 20:00:00    48.33  38.82         43.06       44.66   71.01   \n2022-04-30 21:00:00    32.27  39.07         58.42       29.55   44.02   \n2022-04-30 22:00:00    31.70  33.59         41.88       27.92   42.41   \n2022-04-30 23:00:00    34.67  34.39         47.00       28.77   46.32   \n\n                     Haryana  Jharkhand  Kachin  Khulna  Madhya Pradesh  ...  \\\ntime                                                                     ...   \n2017-01-01 00:00:00   129.14     122.73    51.4  226.34          117.13  ...   \n2017-01-01 01:00:00   122.20     112.49    54.4  210.94          106.62  ...   \n2017-01-01 02:00:00   128.47      99.64    57.9  180.12          105.61  ...   \n2017-01-01 03:00:00   137.14      99.15    74.7  168.82          109.20  ...   \n2017-01-01 04:00:00   151.82      95.85    86.2  151.92          124.04  ...   \n...                      ...        ...     ...     ...             ...  ...   \n2022-04-30 19:00:00   117.79      40.01    22.4   43.92           56.14  ...   \n2022-04-30 20:00:00   123.87      36.45    22.5   45.90           51.72  ...   \n2022-04-30 21:00:00   122.80      42.10    21.5   32.68           51.22  ...   \n2022-04-30 22:00:00   114.74      34.59    21.4   32.40           46.71  ...   \n2022-04-30 23:00:00   100.77      37.20    21.3   36.14           47.09  ...   \n\n                        NCT  Odisha  Rajshahi  Rangpur Division   Shan  \\\ntime                                                                     \n2017-01-01 00:00:00  164.83   76.55    178.90               NaN  21.80   \n2017-01-01 01:00:00  158.33   78.35    170.01               NaN  24.30   \n2017-01-01 02:00:00  168.63   74.20    152.00               NaN  27.90   \n2017-01-01 03:00:00  165.90   82.15    145.62               NaN  32.60   \n2017-01-01 04:00:00  192.07   80.25    140.94               NaN  39.00   \n...                     ...     ...       ...               ...    ...   \n2022-04-30 19:00:00  123.73   22.79     51.92             36.78  28.20   \n2022-04-30 20:00:00  130.93   20.51     52.38             35.90  28.15   \n2022-04-30 21:00:00  130.40   24.62     39.93             28.70  27.20   \n2022-04-30 22:00:00  116.50   36.17     36.46             26.87  25.60   \n2022-04-30 23:00:00  122.43   37.11     38.59             27.83  24.30   \n\n                     Sylhet  Telangana  Tripura  Uttar Pradesh  West Bengal  \ntime                                                                         \n2017-01-01 00:00:00  171.00      71.53    193.0         124.27       225.31  \n2017-01-01 01:00:00  171.20      79.03    192.9         111.39       200.20  \n2017-01-01 02:00:00  157.80      77.46    176.7         116.21       162.93  \n2017-01-01 03:00:00  152.30      82.83    168.4         121.28       152.62  \n2017-01-01 04:00:00  151.60      87.65    165.2         137.86       129.16  \n...                     ...        ...      ...            ...          ...  \n2022-04-30 19:00:00   41.23      75.17     56.0          89.19        31.37  \n2022-04-30 20:00:00   41.70      65.66     56.9          87.64        30.45  \n2022-04-30 21:00:00   26.37      69.28     34.4          79.81        27.05  \n2022-04-30 22:00:00   23.63      60.96     28.9          71.32        27.30  \n2022-04-30 23:00:00   22.80      62.09     26.0          69.41        29.17  \n\n[46704 rows x 21 columns]",
      "text/html": "<div>\n<style scoped>\n    .dataframe tbody tr th:only-of-type {\n        vertical-align: middle;\n    }\n\n    .dataframe tbody tr th {\n        vertical-align: top;\n    }\n\n    .dataframe thead th {\n        text-align: right;\n    }\n</style>\n<table border=\"1\" class=\"dataframe\">\n  <thead>\n    <tr style=\"text-align: right;\">\n      <th></th>\n      <th>Barisal</th>\n      <th>Bihar</th>\n      <th>Chhattisgarh</th>\n      <th>Chittagong</th>\n      <th>Dhaka</th>\n      <th>Haryana</th>\n      <th>Jharkhand</th>\n      <th>Kachin</th>\n      <th>Khulna</th>\n      <th>Madhya Pradesh</th>\n      <th>...</th>\n      <th>NCT</th>\n      <th>Odisha</th>\n      <th>Rajshahi</th>\n      <th>Rangpur Division</th>\n      <th>Shan</th>\n      <th>Sylhet</th>\n      <th>Telangana</th>\n      <th>Tripura</th>\n      <th>Uttar Pradesh</th>\n      <th>West Bengal</th>\n    </tr>\n    <tr>\n      <th>time</th>\n      <th></th>\n      <th></th>\n      <th></th>\n      <th></th>\n      <th></th>\n      <th></th>\n      <th></th>\n      <th></th>\n      <th></th>\n      <th></th>\n      <th></th>\n      <th></th>\n      <th></th>\n      <th></th>\n      <th></th>\n      <th></th>\n      <th></th>\n      <th></th>\n      <th></th>\n      <th></th>\n      <th></th>\n    </tr>\n  </thead>\n  <tbody>\n    <tr>\n      <th>2017-01-01 00:00:00</th>\n      <td>205.90</td>\n      <td>99.31</td>\n      <td>82.70</td>\n      <td>198.87</td>\n      <td>236.78</td>\n      <td>129.14</td>\n      <td>122.73</td>\n      <td>51.4</td>\n      <td>226.34</td>\n      <td>117.13</td>\n      <td>...</td>\n      <td>164.83</td>\n      <td>76.55</td>\n      <td>178.90</td>\n      <td>NaN</td>\n      <td>21.80</td>\n      <td>171.00</td>\n      <td>71.53</td>\n      <td>193.0</td>\n      <td>124.27</td>\n      <td>225.31</td>\n    </tr>\n    <tr>\n      <th>2017-01-01 01:00:00</th>\n      <td>197.10</td>\n      <td>90.76</td>\n      <td>82.55</td>\n      <td>195.83</td>\n      <td>235.59</td>\n      <td>122.20</td>\n      <td>112.49</td>\n      <td>54.4</td>\n      <td>210.94</td>\n      <td>106.62</td>\n      <td>...</td>\n      <td>158.33</td>\n      <td>78.35</td>\n      <td>170.01</td>\n      <td>NaN</td>\n      <td>24.30</td>\n      <td>171.20</td>\n      <td>79.03</td>\n      <td>192.9</td>\n      <td>111.39</td>\n      <td>200.20</td>\n    </tr>\n    <tr>\n      <th>2017-01-01 02:00:00</th>\n      <td>172.90</td>\n      <td>85.51</td>\n      <td>78.80</td>\n      <td>176.58</td>\n      <td>213.68</td>\n      <td>128.47</td>\n      <td>99.64</td>\n      <td>57.9</td>\n      <td>180.12</td>\n      <td>105.61</td>\n      <td>...</td>\n      <td>168.63</td>\n      <td>74.20</td>\n      <td>152.00</td>\n      <td>NaN</td>\n      <td>27.90</td>\n      <td>157.80</td>\n      <td>77.46</td>\n      <td>176.7</td>\n      <td>116.21</td>\n      <td>162.93</td>\n    </tr>\n    <tr>\n      <th>2017-01-01 03:00:00</th>\n      <td>162.97</td>\n      <td>88.61</td>\n      <td>86.30</td>\n      <td>167.30</td>\n      <td>200.58</td>\n      <td>137.14</td>\n      <td>99.15</td>\n      <td>74.7</td>\n      <td>168.82</td>\n      <td>109.20</td>\n      <td>...</td>\n      <td>165.90</td>\n      <td>82.15</td>\n      <td>145.62</td>\n      <td>NaN</td>\n      <td>32.60</td>\n      <td>152.30</td>\n      <td>82.83</td>\n      <td>168.4</td>\n      <td>121.28</td>\n      <td>152.62</td>\n    </tr>\n    <tr>\n      <th>2017-01-01 04:00:00</th>\n      <td>151.57</td>\n      <td>93.17</td>\n      <td>87.35</td>\n      <td>160.97</td>\n      <td>193.19</td>\n      <td>151.82</td>\n      <td>95.85</td>\n      <td>86.2</td>\n      <td>151.92</td>\n      <td>124.04</td>\n      <td>...</td>\n      <td>192.07</td>\n      <td>80.25</td>\n      <td>140.94</td>\n      <td>NaN</td>\n      <td>39.00</td>\n      <td>151.60</td>\n      <td>87.65</td>\n      <td>165.2</td>\n      <td>137.86</td>\n      <td>129.16</td>\n    </tr>\n    <tr>\n      <th>...</th>\n      <td>...</td>\n      <td>...</td>\n      <td>...</td>\n      <td>...</td>\n      <td>...</td>\n      <td>...</td>\n      <td>...</td>\n      <td>...</td>\n      <td>...</td>\n      <td>...</td>\n      <td>...</td>\n      <td>...</td>\n      <td>...</td>\n      <td>...</td>\n      <td>...</td>\n      <td>...</td>\n      <td>...</td>\n      <td>...</td>\n      <td>...</td>\n      <td>...</td>\n      <td>...</td>\n    </tr>\n    <tr>\n      <th>2022-04-30 19:00:00</th>\n      <td>45.63</td>\n      <td>40.32</td>\n      <td>49.02</td>\n      <td>42.78</td>\n      <td>66.38</td>\n      <td>117.79</td>\n      <td>40.01</td>\n      <td>22.4</td>\n      <td>43.92</td>\n      <td>56.14</td>\n      <td>...</td>\n      <td>123.73</td>\n      <td>22.79</td>\n      <td>51.92</td>\n      <td>36.78</td>\n      <td>28.20</td>\n      <td>41.23</td>\n      <td>75.17</td>\n      <td>56.0</td>\n      <td>89.19</td>\n      <td>31.37</td>\n    </tr>\n    <tr>\n      <th>2022-04-30 20:00:00</th>\n      <td>48.33</td>\n      <td>38.82</td>\n      <td>43.06</td>\n      <td>44.66</td>\n      <td>71.01</td>\n      <td>123.87</td>\n      <td>36.45</td>\n      <td>22.5</td>\n      <td>45.90</td>\n      <td>51.72</td>\n      <td>...</td>\n      <td>130.93</td>\n      <td>20.51</td>\n      <td>52.38</td>\n      <td>35.90</td>\n      <td>28.15</td>\n      <td>41.70</td>\n      <td>65.66</td>\n      <td>56.9</td>\n      <td>87.64</td>\n      <td>30.45</td>\n    </tr>\n    <tr>\n      <th>2022-04-30 21:00:00</th>\n      <td>32.27</td>\n      <td>39.07</td>\n      <td>58.42</td>\n      <td>29.55</td>\n      <td>44.02</td>\n      <td>122.80</td>\n      <td>42.10</td>\n      <td>21.5</td>\n      <td>32.68</td>\n      <td>51.22</td>\n      <td>...</td>\n      <td>130.40</td>\n      <td>24.62</td>\n      <td>39.93</td>\n      <td>28.70</td>\n      <td>27.20</td>\n      <td>26.37</td>\n      <td>69.28</td>\n      <td>34.4</td>\n      <td>79.81</td>\n      <td>27.05</td>\n    </tr>\n    <tr>\n      <th>2022-04-30 22:00:00</th>\n      <td>31.70</td>\n      <td>33.59</td>\n      <td>41.88</td>\n      <td>27.92</td>\n      <td>42.41</td>\n      <td>114.74</td>\n      <td>34.59</td>\n      <td>21.4</td>\n      <td>32.40</td>\n      <td>46.71</td>\n      <td>...</td>\n      <td>116.50</td>\n      <td>36.17</td>\n      <td>36.46</td>\n      <td>26.87</td>\n      <td>25.60</td>\n      <td>23.63</td>\n      <td>60.96</td>\n      <td>28.9</td>\n      <td>71.32</td>\n      <td>27.30</td>\n    </tr>\n    <tr>\n      <th>2022-04-30 23:00:00</th>\n      <td>34.67</td>\n      <td>34.39</td>\n      <td>47.00</td>\n      <td>28.77</td>\n      <td>46.32</td>\n      <td>100.77</td>\n      <td>37.20</td>\n      <td>21.3</td>\n      <td>36.14</td>\n      <td>47.09</td>\n      <td>...</td>\n      <td>122.43</td>\n      <td>37.11</td>\n      <td>38.59</td>\n      <td>27.83</td>\n      <td>24.30</td>\n      <td>22.80</td>\n      <td>62.09</td>\n      <td>26.0</td>\n      <td>69.41</td>\n      <td>29.17</td>\n    </tr>\n  </tbody>\n</table>\n<p>46704 rows × 21 columns</p>\n</div>"
     },
     "execution_count": 32,
     "metadata": {},
     "output_type": "execute_result"
    }
   ],
   "source": [
    "files_path = \"../Files/series/\"\n",
    "df = pd.read_csv(files_path + \"region_series.csv\",index_col='time')\n",
    "# df = pd.read_csv(files_path + \"metadata_region.csv\",index_col='Division')\n",
    "# df = pd.read_csv(files_path + \"country_series.csv\",index_col='time')\n",
    "# df = pd.read_csv(files_path + \"metadata_country.csv\",index_col='Country')\n",
    "df"
   ],
   "metadata": {
    "collapsed": false,
    "pycharm": {
     "name": "#%%\n"
    }
   }
  },
  {
   "cell_type": "code",
   "execution_count": 7,
   "outputs": [
    {
     "data": {
      "text/plain": "Division\nUttar Pradesh          1618\nBihar                  1644\nRajshahi               1646\nKhulna                 1654\nMymensingh Division    1664\nWest Bengal            1665\nHaryana                1807\nJharkhand              1849\nNCT                    2042\nOdisha                 2266\nTelangana              2360\nShan                   2411\nDhaka                  2455\nBarisal                2456\nChittagong             2574\nMadhya Pradesh         3512\nKachin                 3682\nSylhet                 4685\nTripura                4688\nChhattisgarh           4689\nRangpur Division       5639\ndtype: int64"
     },
     "execution_count": 7,
     "metadata": {},
     "output_type": "execute_result"
    }
   ],
   "source": [
    "region_series.isna().sum().sort_values()"
   ],
   "metadata": {
    "collapsed": false,
    "pycharm": {
     "name": "#%%\n"
    }
   }
  },
  {
   "cell_type": "code",
   "execution_count": 8,
   "outputs": [
    {
     "data": {
      "text/plain": "Division    Barisal  Bihar  Chhattisgarh  Chittagong   Dhaka  Haryana  \\\ntime                                                                    \n2017-12-31   1392.0  673.0        1254.0      1392.0  1392.0    808.0   \n2018-12-31    868.0  776.0        1208.0       912.0   868.0    667.0   \n2019-12-31     23.0   29.0        1403.0        83.0    23.0    136.0   \n2020-12-31     11.0    8.0         239.0        11.0    11.0      8.0   \n2021-12-31    162.0  158.0         585.0       176.0   161.0    188.0   \n\nDivision    Jharkhand  Kachin  Khulna  Madhya Pradesh  ...    NCT  Odisha  \\\ntime                                                   ...                  \n2017-12-31      942.0   398.0   677.0           846.0  ...  808.0   845.0   \n2018-12-31      686.0   680.0   781.0           871.0  ...  798.0   772.0   \n2019-12-31       50.0  1780.0    23.0          1113.0  ...  139.0   289.0   \n2020-12-31        9.0   503.0    11.0           152.0  ...   87.0   163.0   \n2021-12-31      162.0   321.0   162.0           530.0  ...  210.0   197.0   \n\nDivision    Rajshahi  Rangpur Division   Shan  Sylhet  Telangana  Tripura  \\\ntime                                                                        \n2017-12-31     677.0            4495.0  894.0  1392.0      846.0   1392.0   \n2018-12-31     776.0             912.0  656.0  2857.0      700.0   2857.0   \n2019-12-31      23.0              58.0   48.0   237.0      156.0    239.0   \n2020-12-31       9.0               9.0  492.0    19.0      153.0     19.0   \n2021-12-31     161.0             165.0  321.0   180.0      505.0    181.0   \n\nDivision    Uttar Pradesh  West Bengal  \ntime                                    \n2017-12-31          755.0        823.0  \n2018-12-31          683.0        661.0  \n2019-12-31           17.0         18.0  \n2020-12-31            8.0          8.0  \n2021-12-31          155.0        155.0  \n\n[5 rows x 21 columns]",
      "text/html": "<div>\n<style scoped>\n    .dataframe tbody tr th:only-of-type {\n        vertical-align: middle;\n    }\n\n    .dataframe tbody tr th {\n        vertical-align: top;\n    }\n\n    .dataframe thead th {\n        text-align: right;\n    }\n</style>\n<table border=\"1\" class=\"dataframe\">\n  <thead>\n    <tr style=\"text-align: right;\">\n      <th>Division</th>\n      <th>Barisal</th>\n      <th>Bihar</th>\n      <th>Chhattisgarh</th>\n      <th>Chittagong</th>\n      <th>Dhaka</th>\n      <th>Haryana</th>\n      <th>Jharkhand</th>\n      <th>Kachin</th>\n      <th>Khulna</th>\n      <th>Madhya Pradesh</th>\n      <th>...</th>\n      <th>NCT</th>\n      <th>Odisha</th>\n      <th>Rajshahi</th>\n      <th>Rangpur Division</th>\n      <th>Shan</th>\n      <th>Sylhet</th>\n      <th>Telangana</th>\n      <th>Tripura</th>\n      <th>Uttar Pradesh</th>\n      <th>West Bengal</th>\n    </tr>\n    <tr>\n      <th>time</th>\n      <th></th>\n      <th></th>\n      <th></th>\n      <th></th>\n      <th></th>\n      <th></th>\n      <th></th>\n      <th></th>\n      <th></th>\n      <th></th>\n      <th></th>\n      <th></th>\n      <th></th>\n      <th></th>\n      <th></th>\n      <th></th>\n      <th></th>\n      <th></th>\n      <th></th>\n      <th></th>\n      <th></th>\n    </tr>\n  </thead>\n  <tbody>\n    <tr>\n      <th>2017-12-31</th>\n      <td>1392.0</td>\n      <td>673.0</td>\n      <td>1254.0</td>\n      <td>1392.0</td>\n      <td>1392.0</td>\n      <td>808.0</td>\n      <td>942.0</td>\n      <td>398.0</td>\n      <td>677.0</td>\n      <td>846.0</td>\n      <td>...</td>\n      <td>808.0</td>\n      <td>845.0</td>\n      <td>677.0</td>\n      <td>4495.0</td>\n      <td>894.0</td>\n      <td>1392.0</td>\n      <td>846.0</td>\n      <td>1392.0</td>\n      <td>755.0</td>\n      <td>823.0</td>\n    </tr>\n    <tr>\n      <th>2018-12-31</th>\n      <td>868.0</td>\n      <td>776.0</td>\n      <td>1208.0</td>\n      <td>912.0</td>\n      <td>868.0</td>\n      <td>667.0</td>\n      <td>686.0</td>\n      <td>680.0</td>\n      <td>781.0</td>\n      <td>871.0</td>\n      <td>...</td>\n      <td>798.0</td>\n      <td>772.0</td>\n      <td>776.0</td>\n      <td>912.0</td>\n      <td>656.0</td>\n      <td>2857.0</td>\n      <td>700.0</td>\n      <td>2857.0</td>\n      <td>683.0</td>\n      <td>661.0</td>\n    </tr>\n    <tr>\n      <th>2019-12-31</th>\n      <td>23.0</td>\n      <td>29.0</td>\n      <td>1403.0</td>\n      <td>83.0</td>\n      <td>23.0</td>\n      <td>136.0</td>\n      <td>50.0</td>\n      <td>1780.0</td>\n      <td>23.0</td>\n      <td>1113.0</td>\n      <td>...</td>\n      <td>139.0</td>\n      <td>289.0</td>\n      <td>23.0</td>\n      <td>58.0</td>\n      <td>48.0</td>\n      <td>237.0</td>\n      <td>156.0</td>\n      <td>239.0</td>\n      <td>17.0</td>\n      <td>18.0</td>\n    </tr>\n    <tr>\n      <th>2020-12-31</th>\n      <td>11.0</td>\n      <td>8.0</td>\n      <td>239.0</td>\n      <td>11.0</td>\n      <td>11.0</td>\n      <td>8.0</td>\n      <td>9.0</td>\n      <td>503.0</td>\n      <td>11.0</td>\n      <td>152.0</td>\n      <td>...</td>\n      <td>87.0</td>\n      <td>163.0</td>\n      <td>9.0</td>\n      <td>9.0</td>\n      <td>492.0</td>\n      <td>19.0</td>\n      <td>153.0</td>\n      <td>19.0</td>\n      <td>8.0</td>\n      <td>8.0</td>\n    </tr>\n    <tr>\n      <th>2021-12-31</th>\n      <td>162.0</td>\n      <td>158.0</td>\n      <td>585.0</td>\n      <td>176.0</td>\n      <td>161.0</td>\n      <td>188.0</td>\n      <td>162.0</td>\n      <td>321.0</td>\n      <td>162.0</td>\n      <td>530.0</td>\n      <td>...</td>\n      <td>210.0</td>\n      <td>197.0</td>\n      <td>161.0</td>\n      <td>165.0</td>\n      <td>321.0</td>\n      <td>180.0</td>\n      <td>505.0</td>\n      <td>181.0</td>\n      <td>155.0</td>\n      <td>155.0</td>\n    </tr>\n  </tbody>\n</table>\n<p>5 rows × 21 columns</p>\n</div>"
     },
     "execution_count": 8,
     "metadata": {},
     "output_type": "execute_result"
    }
   ],
   "source": [
    "region_series.resample('Y').apply(lambda x: x.isna().sum())#.sum(axis=1)"
   ],
   "metadata": {
    "collapsed": false,
    "pycharm": {
     "name": "#%%\n"
    }
   }
  },
  {
   "cell_type": "code",
   "execution_count": 9,
   "outputs": [],
   "source": [
    "Khulna_division_series = region_series.Khulna"
   ],
   "metadata": {
    "collapsed": false,
    "pycharm": {
     "name": "#%%\n"
    }
   }
  },
  {
   "cell_type": "code",
   "execution_count": 10,
   "outputs": [
    {
     "data": {
      "text/plain": "time\n2017-12-31    677.0\n2018-12-31    781.0\n2019-12-31     23.0\n2020-12-31     11.0\n2021-12-31    162.0\nFreq: A-DEC, Name: Khulna, dtype: float64"
     },
     "execution_count": 10,
     "metadata": {},
     "output_type": "execute_result"
    }
   ],
   "source": [
    "Khulna_division_series.resample('Y').apply(lambda x: x.isna().sum())"
   ],
   "metadata": {
    "collapsed": false,
    "pycharm": {
     "name": "#%%\n"
    }
   }
  }
 ],
 "metadata": {
  "kernelspec": {
   "display_name": "Python 3",
   "language": "python",
   "name": "python3"
  },
  "language_info": {
   "codemirror_mode": {
    "name": "ipython",
    "version": 2
   },
   "file_extension": ".py",
   "mimetype": "text/x-python",
   "name": "python",
   "nbconvert_exporter": "python",
   "pygments_lexer": "ipython2",
   "version": "2.7.6"
  }
 },
 "nbformat": 4,
 "nbformat_minor": 0
}