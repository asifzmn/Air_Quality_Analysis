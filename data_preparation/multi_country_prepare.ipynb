{
 "cells": [
  {
   "cell_type": "code",
   "execution_count": 1,
   "outputs": [],
   "source": [
    "from data_preparation import get_metadata, get_series,clip_missing_prone_values, prepare_division_and_country_series\n",
    "\n",
    "series_with_heavy_missing, metadata_with_heavy_missing = get_series(), get_metadata()\n",
    "division_missing_counts, metadata, series = clip_missing_prone_values(metadata_with_heavy_missing, series_with_heavy_missing)\n",
    "region_series, metadata_region, country_series, metadata_country = prepare_division_and_country_series(series,\n",
    "                                                                                                       metadata)"
   ],
   "metadata": {
    "collapsed": false,
    "pycharm": {
     "name": "#%%\n"
    }
   }
  },
  {
   "cell_type": "code",
   "execution_count": 6,
   "outputs": [],
   "source": [
    "# division_series_bd = region_series[['Dhaka','Khulna','Chittagong']][\"2019\":'2022'].round(2)\n",
    "# division_series_bd.to_csv(\"region_series_BD_3_only.csv\")"
   ],
   "metadata": {
    "collapsed": false,
    "pycharm": {
     "name": "#%%\n"
    }
   }
  },
  {
   "cell_type": "code",
   "execution_count": 2,
   "outputs": [],
   "source": [
    "region_series.to_csv(\"region_series.csv\")"
   ],
   "metadata": {
    "collapsed": false,
    "pycharm": {
     "name": "#%%\n"
    }
   }
  },
  {
   "cell_type": "code",
   "execution_count": 7,
   "outputs": [],
   "source": [
    "region_series_summary = region_series.describe().round(2).T\n",
    "region_series_summary.to_csv(\"region_series_summary.csv\")"
   ],
   "metadata": {
    "collapsed": false,
    "pycharm": {
     "name": "#%%\n"
    }
   }
  },
  {
   "cell_type": "code",
   "execution_count": 3,
   "outputs": [],
   "source": [
    "country_series.to_csv(\"country_series.csv\")"
   ],
   "metadata": {
    "collapsed": false,
    "pycharm": {
     "name": "#%%\n"
    }
   }
  },
  {
   "cell_type": "code",
   "execution_count": 8,
   "outputs": [],
   "source": [
    "country_series_summary = country_series.describe().round(2).T\n",
    "country_series_summary.to_csv(\"country_series_summary.csv\")"
   ],
   "metadata": {
    "collapsed": false,
    "pycharm": {
     "name": "#%%\n"
    }
   }
  },
  {
   "cell_type": "code",
   "execution_count": 7,
   "outputs": [
    {
     "data": {
      "text/plain": "Division\nUttar Pradesh          1618\nBihar                  1644\nRajshahi               1646\nKhulna                 1654\nMymensingh Division    1664\nWest Bengal            1665\nHaryana                1807\nJharkhand              1849\nNCT                    2042\nOdisha                 2266\nTelangana              2360\nShan                   2411\nDhaka                  2455\nBarisal                2456\nChittagong             2574\nMadhya Pradesh         3512\nKachin                 3682\nSylhet                 4685\nTripura                4688\nChhattisgarh           4689\nRangpur Division       5639\ndtype: int64"
     },
     "execution_count": 7,
     "metadata": {},
     "output_type": "execute_result"
    }
   ],
   "source": [
    "region_series.isna().sum().sort_values()"
   ],
   "metadata": {
    "collapsed": false,
    "pycharm": {
     "name": "#%%\n"
    }
   }
  },
  {
   "cell_type": "code",
   "execution_count": 8,
   "outputs": [
    {
     "data": {
      "text/plain": "Division    Barisal  Bihar  Chhattisgarh  Chittagong   Dhaka  Haryana  \\\ntime                                                                    \n2017-12-31   1392.0  673.0        1254.0      1392.0  1392.0    808.0   \n2018-12-31    868.0  776.0        1208.0       912.0   868.0    667.0   \n2019-12-31     23.0   29.0        1403.0        83.0    23.0    136.0   \n2020-12-31     11.0    8.0         239.0        11.0    11.0      8.0   \n2021-12-31    162.0  158.0         585.0       176.0   161.0    188.0   \n\nDivision    Jharkhand  Kachin  Khulna  Madhya Pradesh  ...    NCT  Odisha  \\\ntime                                                   ...                  \n2017-12-31      942.0   398.0   677.0           846.0  ...  808.0   845.0   \n2018-12-31      686.0   680.0   781.0           871.0  ...  798.0   772.0   \n2019-12-31       50.0  1780.0    23.0          1113.0  ...  139.0   289.0   \n2020-12-31        9.0   503.0    11.0           152.0  ...   87.0   163.0   \n2021-12-31      162.0   321.0   162.0           530.0  ...  210.0   197.0   \n\nDivision    Rajshahi  Rangpur Division   Shan  Sylhet  Telangana  Tripura  \\\ntime                                                                        \n2017-12-31     677.0            4495.0  894.0  1392.0      846.0   1392.0   \n2018-12-31     776.0             912.0  656.0  2857.0      700.0   2857.0   \n2019-12-31      23.0              58.0   48.0   237.0      156.0    239.0   \n2020-12-31       9.0               9.0  492.0    19.0      153.0     19.0   \n2021-12-31     161.0             165.0  321.0   180.0      505.0    181.0   \n\nDivision    Uttar Pradesh  West Bengal  \ntime                                    \n2017-12-31          755.0        823.0  \n2018-12-31          683.0        661.0  \n2019-12-31           17.0         18.0  \n2020-12-31            8.0          8.0  \n2021-12-31          155.0        155.0  \n\n[5 rows x 21 columns]",
      "text/html": "<div>\n<style scoped>\n    .dataframe tbody tr th:only-of-type {\n        vertical-align: middle;\n    }\n\n    .dataframe tbody tr th {\n        vertical-align: top;\n    }\n\n    .dataframe thead th {\n        text-align: right;\n    }\n</style>\n<table border=\"1\" class=\"dataframe\">\n  <thead>\n    <tr style=\"text-align: right;\">\n      <th>Division</th>\n      <th>Barisal</th>\n      <th>Bihar</th>\n      <th>Chhattisgarh</th>\n      <th>Chittagong</th>\n      <th>Dhaka</th>\n      <th>Haryana</th>\n      <th>Jharkhand</th>\n      <th>Kachin</th>\n      <th>Khulna</th>\n      <th>Madhya Pradesh</th>\n      <th>...</th>\n      <th>NCT</th>\n      <th>Odisha</th>\n      <th>Rajshahi</th>\n      <th>Rangpur Division</th>\n      <th>Shan</th>\n      <th>Sylhet</th>\n      <th>Telangana</th>\n      <th>Tripura</th>\n      <th>Uttar Pradesh</th>\n      <th>West Bengal</th>\n    </tr>\n    <tr>\n      <th>time</th>\n      <th></th>\n      <th></th>\n      <th></th>\n      <th></th>\n      <th></th>\n      <th></th>\n      <th></th>\n      <th></th>\n      <th></th>\n      <th></th>\n      <th></th>\n      <th></th>\n      <th></th>\n      <th></th>\n      <th></th>\n      <th></th>\n      <th></th>\n      <th></th>\n      <th></th>\n      <th></th>\n      <th></th>\n    </tr>\n  </thead>\n  <tbody>\n    <tr>\n      <th>2017-12-31</th>\n      <td>1392.0</td>\n      <td>673.0</td>\n      <td>1254.0</td>\n      <td>1392.0</td>\n      <td>1392.0</td>\n      <td>808.0</td>\n      <td>942.0</td>\n      <td>398.0</td>\n      <td>677.0</td>\n      <td>846.0</td>\n      <td>...</td>\n      <td>808.0</td>\n      <td>845.0</td>\n      <td>677.0</td>\n      <td>4495.0</td>\n      <td>894.0</td>\n      <td>1392.0</td>\n      <td>846.0</td>\n      <td>1392.0</td>\n      <td>755.0</td>\n      <td>823.0</td>\n    </tr>\n    <tr>\n      <th>2018-12-31</th>\n      <td>868.0</td>\n      <td>776.0</td>\n      <td>1208.0</td>\n      <td>912.0</td>\n      <td>868.0</td>\n      <td>667.0</td>\n      <td>686.0</td>\n      <td>680.0</td>\n      <td>781.0</td>\n      <td>871.0</td>\n      <td>...</td>\n      <td>798.0</td>\n      <td>772.0</td>\n      <td>776.0</td>\n      <td>912.0</td>\n      <td>656.0</td>\n      <td>2857.0</td>\n      <td>700.0</td>\n      <td>2857.0</td>\n      <td>683.0</td>\n      <td>661.0</td>\n    </tr>\n    <tr>\n      <th>2019-12-31</th>\n      <td>23.0</td>\n      <td>29.0</td>\n      <td>1403.0</td>\n      <td>83.0</td>\n      <td>23.0</td>\n      <td>136.0</td>\n      <td>50.0</td>\n      <td>1780.0</td>\n      <td>23.0</td>\n      <td>1113.0</td>\n      <td>...</td>\n      <td>139.0</td>\n      <td>289.0</td>\n      <td>23.0</td>\n      <td>58.0</td>\n      <td>48.0</td>\n      <td>237.0</td>\n      <td>156.0</td>\n      <td>239.0</td>\n      <td>17.0</td>\n      <td>18.0</td>\n    </tr>\n    <tr>\n      <th>2020-12-31</th>\n      <td>11.0</td>\n      <td>8.0</td>\n      <td>239.0</td>\n      <td>11.0</td>\n      <td>11.0</td>\n      <td>8.0</td>\n      <td>9.0</td>\n      <td>503.0</td>\n      <td>11.0</td>\n      <td>152.0</td>\n      <td>...</td>\n      <td>87.0</td>\n      <td>163.0</td>\n      <td>9.0</td>\n      <td>9.0</td>\n      <td>492.0</td>\n      <td>19.0</td>\n      <td>153.0</td>\n      <td>19.0</td>\n      <td>8.0</td>\n      <td>8.0</td>\n    </tr>\n    <tr>\n      <th>2021-12-31</th>\n      <td>162.0</td>\n      <td>158.0</td>\n      <td>585.0</td>\n      <td>176.0</td>\n      <td>161.0</td>\n      <td>188.0</td>\n      <td>162.0</td>\n      <td>321.0</td>\n      <td>162.0</td>\n      <td>530.0</td>\n      <td>...</td>\n      <td>210.0</td>\n      <td>197.0</td>\n      <td>161.0</td>\n      <td>165.0</td>\n      <td>321.0</td>\n      <td>180.0</td>\n      <td>505.0</td>\n      <td>181.0</td>\n      <td>155.0</td>\n      <td>155.0</td>\n    </tr>\n  </tbody>\n</table>\n<p>5 rows × 21 columns</p>\n</div>"
     },
     "execution_count": 8,
     "metadata": {},
     "output_type": "execute_result"
    }
   ],
   "source": [
    "region_series.resample('Y').apply(lambda x: x.isna().sum())#.sum(axis=1)"
   ],
   "metadata": {
    "collapsed": false,
    "pycharm": {
     "name": "#%%\n"
    }
   }
  },
  {
   "cell_type": "code",
   "execution_count": 9,
   "outputs": [],
   "source": [
    "Khulna_division_series = region_series.Khulna"
   ],
   "metadata": {
    "collapsed": false,
    "pycharm": {
     "name": "#%%\n"
    }
   }
  },
  {
   "cell_type": "code",
   "execution_count": 10,
   "outputs": [
    {
     "data": {
      "text/plain": "time\n2017-12-31    677.0\n2018-12-31    781.0\n2019-12-31     23.0\n2020-12-31     11.0\n2021-12-31    162.0\nFreq: A-DEC, Name: Khulna, dtype: float64"
     },
     "execution_count": 10,
     "metadata": {},
     "output_type": "execute_result"
    }
   ],
   "source": [
    "Khulna_division_series.resample('Y').apply(lambda x: x.isna().sum())"
   ],
   "metadata": {
    "collapsed": false,
    "pycharm": {
     "name": "#%%\n"
    }
   }
  }
 ],
 "metadata": {
  "kernelspec": {
   "display_name": "Python 3",
   "language": "python",
   "name": "python3"
  },
  "language_info": {
   "codemirror_mode": {
    "name": "ipython",
    "version": 2
   },
   "file_extension": ".py",
   "mimetype": "text/x-python",
   "name": "python",
   "nbconvert_exporter": "python",
   "pygments_lexer": "ipython2",
   "version": "2.7.6"
  }
 },
 "nbformat": 4,
 "nbformat_minor": 0
}