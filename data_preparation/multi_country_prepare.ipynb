{
 "cells": [
  {
   "cell_type": "code",
   "execution_count": 1,
   "outputs": [],
   "source": [
    "from data_preparation import get_metadata, get_series,clip_missing_prone_values, prepare_region_and_country_series\n",
    "from data_preparation import save_region_and_country_series,read_region_and_country_series"
   ],
   "metadata": {
    "collapsed": false,
    "pycharm": {
     "name": "#%%\n"
    }
   }
  },
  {
   "cell_type": "markdown",
   "source": [
    "# Saving all granularity data"
   ],
   "metadata": {
    "collapsed": false
   }
  },
  {
   "cell_type": "code",
   "execution_count": 2,
   "outputs": [],
   "source": [
    "# metadata_all_with_heavy_missing, series_all_with_heavy_missing = get_metadata(), get_series()\n",
    "#\n",
    "# division_missing_counts, metadata_all, series_all = clip_missing_prone_values(metadata_all_with_heavy_missing,\n",
    "#                                                                               series_all_with_heavy_missing)\n",
    "# region_series_all, metadata_region_all, country_series_all, metadata_country_all = prepare_region_and_country_series(series_all,\n",
    "#                                                                                                                      metadata_all)"
   ],
   "metadata": {
    "collapsed": false,
    "pycharm": {
     "name": "#%%\n"
    }
   }
  },
  {
   "cell_type": "code",
   "execution_count": null,
   "outputs": [],
   "source": [
    "# save_region_and_country_series(region_series_all, country_series_all, metadata_region_all, metadata_country_all)"
   ],
   "metadata": {
    "collapsed": false,
    "pycharm": {
     "name": "#%%\n"
    }
   }
  },
  {
   "cell_type": "code",
   "execution_count": null,
   "outputs": [],
   "source": [
    "# region_series_all, metadata_region_all, country_series_all, metadata_country_all = read_region_and_country_series()"
   ],
   "metadata": {
    "collapsed": false,
    "pycharm": {
     "name": "#%%\n"
    }
   }
  },
  {
   "cell_type": "markdown",
   "source": [],
   "metadata": {
    "collapsed": false
   }
  },
  {
   "cell_type": "code",
   "execution_count": 1,
   "outputs": [],
   "source": [
    "from data_preparation import read_all_granularity_data\n",
    "\n",
    "metadata_all, series_all, metadata_region_all, region_series_all,\\\n",
    "metadata_country_all, country_series_all = read_all_granularity_data()"
   ],
   "metadata": {
    "collapsed": false,
    "pycharm": {
     "name": "#%%\n"
    }
   }
  },
  {
   "cell_type": "code",
   "execution_count": 3,
   "outputs": [
    {
     "data": {
      "text/plain": "                                Zone Country          Region  Population  \\\nindex                                                                      \nAdilabad_Telangana          Adilabad   India       Telangana      118526   \nAgra_Uttar Pradesh              Agra   India   Uttar Pradesh     1430055   \nAjodhya_Uttar Pradesh        Ajodhya   India   Uttar Pradesh       53293   \nAligarh_Uttar Pradesh        Aligarh   India   Uttar Pradesh      753207   \nAllahabad_Uttar Pradesh    Allahabad   India   Uttar Pradesh     1073438   \n...                              ...     ...             ...         ...   \nVidisha_Madhya Pradesh       Vidisha   India  Madhya Pradesh      140045   \nVrindavan_Uttar Pradesh    Vrindavan   India   Uttar Pradesh       60195   \nWanparti_Telangana          Wanparti   India       Telangana       55182   \nWarangal_Telangana          Warangal   India       Telangana      557802   \nYamunanagar_Haryana      Yamunanagar   India         Haryana      208931   \n\n                         Latitude  Longitude  \nindex                                         \nAdilabad_Telangana        19.6720    78.5359  \nAgra_Uttar Pradesh        27.1833    78.0167  \nAjodhya_Uttar Pradesh     26.7991    82.2047  \nAligarh_Uttar Pradesh     27.8815    78.0746  \nAllahabad_Uttar Pradesh   25.4448    81.8432  \n...                           ...        ...  \nVidisha_Madhya Pradesh    23.5260    77.8109  \nVrindavan_Uttar Pradesh   27.5811    77.6966  \nWanparti_Telangana        16.3674    78.0689  \nWarangal_Telangana        18.0000    79.5833  \nYamunanagar_Haryana       30.1280    77.2837  \n\n[444 rows x 6 columns]",
      "text/html": "<div>\n<style scoped>\n    .dataframe tbody tr th:only-of-type {\n        vertical-align: middle;\n    }\n\n    .dataframe tbody tr th {\n        vertical-align: top;\n    }\n\n    .dataframe thead th {\n        text-align: right;\n    }\n</style>\n<table border=\"1\" class=\"dataframe\">\n  <thead>\n    <tr style=\"text-align: right;\">\n      <th></th>\n      <th>Zone</th>\n      <th>Country</th>\n      <th>Region</th>\n      <th>Population</th>\n      <th>Latitude</th>\n      <th>Longitude</th>\n    </tr>\n    <tr>\n      <th>index</th>\n      <th></th>\n      <th></th>\n      <th></th>\n      <th></th>\n      <th></th>\n      <th></th>\n    </tr>\n  </thead>\n  <tbody>\n    <tr>\n      <th>Adilabad_Telangana</th>\n      <td>Adilabad</td>\n      <td>India</td>\n      <td>Telangana</td>\n      <td>118526</td>\n      <td>19.6720</td>\n      <td>78.5359</td>\n    </tr>\n    <tr>\n      <th>Agra_Uttar Pradesh</th>\n      <td>Agra</td>\n      <td>India</td>\n      <td>Uttar Pradesh</td>\n      <td>1430055</td>\n      <td>27.1833</td>\n      <td>78.0167</td>\n    </tr>\n    <tr>\n      <th>Ajodhya_Uttar Pradesh</th>\n      <td>Ajodhya</td>\n      <td>India</td>\n      <td>Uttar Pradesh</td>\n      <td>53293</td>\n      <td>26.7991</td>\n      <td>82.2047</td>\n    </tr>\n    <tr>\n      <th>Aligarh_Uttar Pradesh</th>\n      <td>Aligarh</td>\n      <td>India</td>\n      <td>Uttar Pradesh</td>\n      <td>753207</td>\n      <td>27.8815</td>\n      <td>78.0746</td>\n    </tr>\n    <tr>\n      <th>Allahabad_Uttar Pradesh</th>\n      <td>Allahabad</td>\n      <td>India</td>\n      <td>Uttar Pradesh</td>\n      <td>1073438</td>\n      <td>25.4448</td>\n      <td>81.8432</td>\n    </tr>\n    <tr>\n      <th>...</th>\n      <td>...</td>\n      <td>...</td>\n      <td>...</td>\n      <td>...</td>\n      <td>...</td>\n      <td>...</td>\n    </tr>\n    <tr>\n      <th>Vidisha_Madhya Pradesh</th>\n      <td>Vidisha</td>\n      <td>India</td>\n      <td>Madhya Pradesh</td>\n      <td>140045</td>\n      <td>23.5260</td>\n      <td>77.8109</td>\n    </tr>\n    <tr>\n      <th>Vrindavan_Uttar Pradesh</th>\n      <td>Vrindavan</td>\n      <td>India</td>\n      <td>Uttar Pradesh</td>\n      <td>60195</td>\n      <td>27.5811</td>\n      <td>77.6966</td>\n    </tr>\n    <tr>\n      <th>Wanparti_Telangana</th>\n      <td>Wanparti</td>\n      <td>India</td>\n      <td>Telangana</td>\n      <td>55182</td>\n      <td>16.3674</td>\n      <td>78.0689</td>\n    </tr>\n    <tr>\n      <th>Warangal_Telangana</th>\n      <td>Warangal</td>\n      <td>India</td>\n      <td>Telangana</td>\n      <td>557802</td>\n      <td>18.0000</td>\n      <td>79.5833</td>\n    </tr>\n    <tr>\n      <th>Yamunanagar_Haryana</th>\n      <td>Yamunanagar</td>\n      <td>India</td>\n      <td>Haryana</td>\n      <td>208931</td>\n      <td>30.1280</td>\n      <td>77.2837</td>\n    </tr>\n  </tbody>\n</table>\n<p>444 rows × 6 columns</p>\n</div>"
     },
     "execution_count": 3,
     "metadata": {},
     "output_type": "execute_result"
    }
   ],
   "source": [],
   "metadata": {
    "collapsed": false,
    "pycharm": {
     "name": "#%%\n"
    }
   }
  },
  {
   "cell_type": "code",
   "execution_count": 2,
   "outputs": [
    {
     "data": {
      "text/plain": "((444, 6), (18, 5), (2, 4))"
     },
     "execution_count": 2,
     "metadata": {},
     "output_type": "execute_result"
    }
   ],
   "source": [
    "metadata_all.shape, metadata_region_all.shape, metadata_country_all.shape"
   ],
   "metadata": {
    "collapsed": false,
    "pycharm": {
     "name": "#%%\n"
    }
   }
  },
  {
   "cell_type": "code",
   "execution_count": 3,
   "outputs": [
    {
     "data": {
      "text/plain": "((46704, 444), (46704, 18), (46704, 2))"
     },
     "execution_count": 3,
     "metadata": {},
     "output_type": "execute_result"
    }
   ],
   "source": [
    "series_all.shape,region_series_all.shape,country_series_all.shape"
   ],
   "metadata": {
    "collapsed": false,
    "pycharm": {
     "name": "#%%\n"
    }
   }
  },
  {
   "cell_type": "code",
   "execution_count": 4,
   "outputs": [],
   "source": [
    "from data_preparation.spatio_temporal_filtering import get_bd_data\n",
    "\n",
    "metadata, series, metadata_region, region_series, metadata_country, country_series = get_bd_data()"
   ],
   "metadata": {
    "collapsed": false,
    "pycharm": {
     "name": "#%%\n"
    }
   }
  },
  {
   "cell_type": "code",
   "execution_count": 5,
   "outputs": [
    {
     "data": {
      "text/plain": "((55, 6), (8, 5), (1, 4))"
     },
     "execution_count": 5,
     "metadata": {},
     "output_type": "execute_result"
    }
   ],
   "source": [
    "metadata.shape, metadata_region.shape, metadata_country.shape"
   ],
   "metadata": {
    "collapsed": false,
    "pycharm": {
     "name": "#%%\n"
    }
   }
  },
  {
   "cell_type": "code",
   "execution_count": 6,
   "outputs": [
    {
     "data": {
      "text/plain": "((46704, 55), (46704, 8), (46704, 1))"
     },
     "execution_count": 6,
     "metadata": {},
     "output_type": "execute_result"
    }
   ],
   "source": [
    "series.shape,region_series.shape,country_series.shape"
   ],
   "metadata": {
    "collapsed": false,
    "pycharm": {
     "name": "#%%\n"
    }
   }
  },
  {
   "cell_type": "code",
   "execution_count": 8,
   "outputs": [
    {
     "data": {
      "text/plain": "                                Zone Country          Region  Population  \\\nindex                                                                      \nAdilabad_Telangana          Adilabad   India       Telangana      118526   \nAgra_Uttar Pradesh              Agra   India   Uttar Pradesh     1430055   \nAjodhya_Uttar Pradesh        Ajodhya   India   Uttar Pradesh       53293   \nAligarh_Uttar Pradesh        Aligarh   India   Uttar Pradesh      753207   \nAllahabad_Uttar Pradesh    Allahabad   India   Uttar Pradesh     1073438   \n...                              ...     ...             ...         ...   \nVidisha_Madhya Pradesh       Vidisha   India  Madhya Pradesh      140045   \nVrindavan_Uttar Pradesh    Vrindavan   India   Uttar Pradesh       60195   \nWanparti_Telangana          Wanparti   India       Telangana       55182   \nWarangal_Telangana          Warangal   India       Telangana      557802   \nYamunanagar_Haryana      Yamunanagar   India         Haryana      208931   \n\n                         Latitude  Longitude  \nindex                                         \nAdilabad_Telangana        19.6720    78.5359  \nAgra_Uttar Pradesh        27.1833    78.0167  \nAjodhya_Uttar Pradesh     26.7991    82.2047  \nAligarh_Uttar Pradesh     27.8815    78.0746  \nAllahabad_Uttar Pradesh   25.4448    81.8432  \n...                           ...        ...  \nVidisha_Madhya Pradesh    23.5260    77.8109  \nVrindavan_Uttar Pradesh   27.5811    77.6966  \nWanparti_Telangana        16.3674    78.0689  \nWarangal_Telangana        18.0000    79.5833  \nYamunanagar_Haryana       30.1280    77.2837  \n\n[445 rows x 6 columns]",
      "text/html": "<div>\n<style scoped>\n    .dataframe tbody tr th:only-of-type {\n        vertical-align: middle;\n    }\n\n    .dataframe tbody tr th {\n        vertical-align: top;\n    }\n\n    .dataframe thead th {\n        text-align: right;\n    }\n</style>\n<table border=\"1\" class=\"dataframe\">\n  <thead>\n    <tr style=\"text-align: right;\">\n      <th></th>\n      <th>Zone</th>\n      <th>Country</th>\n      <th>Region</th>\n      <th>Population</th>\n      <th>Latitude</th>\n      <th>Longitude</th>\n    </tr>\n    <tr>\n      <th>index</th>\n      <th></th>\n      <th></th>\n      <th></th>\n      <th></th>\n      <th></th>\n      <th></th>\n    </tr>\n  </thead>\n  <tbody>\n    <tr>\n      <th>Adilabad_Telangana</th>\n      <td>Adilabad</td>\n      <td>India</td>\n      <td>Telangana</td>\n      <td>118526</td>\n      <td>19.6720</td>\n      <td>78.5359</td>\n    </tr>\n    <tr>\n      <th>Agra_Uttar Pradesh</th>\n      <td>Agra</td>\n      <td>India</td>\n      <td>Uttar Pradesh</td>\n      <td>1430055</td>\n      <td>27.1833</td>\n      <td>78.0167</td>\n    </tr>\n    <tr>\n      <th>Ajodhya_Uttar Pradesh</th>\n      <td>Ajodhya</td>\n      <td>India</td>\n      <td>Uttar Pradesh</td>\n      <td>53293</td>\n      <td>26.7991</td>\n      <td>82.2047</td>\n    </tr>\n    <tr>\n      <th>Aligarh_Uttar Pradesh</th>\n      <td>Aligarh</td>\n      <td>India</td>\n      <td>Uttar Pradesh</td>\n      <td>753207</td>\n      <td>27.8815</td>\n      <td>78.0746</td>\n    </tr>\n    <tr>\n      <th>Allahabad_Uttar Pradesh</th>\n      <td>Allahabad</td>\n      <td>India</td>\n      <td>Uttar Pradesh</td>\n      <td>1073438</td>\n      <td>25.4448</td>\n      <td>81.8432</td>\n    </tr>\n    <tr>\n      <th>...</th>\n      <td>...</td>\n      <td>...</td>\n      <td>...</td>\n      <td>...</td>\n      <td>...</td>\n      <td>...</td>\n    </tr>\n    <tr>\n      <th>Vidisha_Madhya Pradesh</th>\n      <td>Vidisha</td>\n      <td>India</td>\n      <td>Madhya Pradesh</td>\n      <td>140045</td>\n      <td>23.5260</td>\n      <td>77.8109</td>\n    </tr>\n    <tr>\n      <th>Vrindavan_Uttar Pradesh</th>\n      <td>Vrindavan</td>\n      <td>India</td>\n      <td>Uttar Pradesh</td>\n      <td>60195</td>\n      <td>27.5811</td>\n      <td>77.6966</td>\n    </tr>\n    <tr>\n      <th>Wanparti_Telangana</th>\n      <td>Wanparti</td>\n      <td>India</td>\n      <td>Telangana</td>\n      <td>55182</td>\n      <td>16.3674</td>\n      <td>78.0689</td>\n    </tr>\n    <tr>\n      <th>Warangal_Telangana</th>\n      <td>Warangal</td>\n      <td>India</td>\n      <td>Telangana</td>\n      <td>557802</td>\n      <td>18.0000</td>\n      <td>79.5833</td>\n    </tr>\n    <tr>\n      <th>Yamunanagar_Haryana</th>\n      <td>Yamunanagar</td>\n      <td>India</td>\n      <td>Haryana</td>\n      <td>208931</td>\n      <td>30.1280</td>\n      <td>77.2837</td>\n    </tr>\n  </tbody>\n</table>\n<p>445 rows × 6 columns</p>\n</div>"
     },
     "execution_count": 8,
     "metadata": {},
     "output_type": "execute_result"
    }
   ],
   "source": [
    "metadata_all"
   ],
   "metadata": {
    "collapsed": false,
    "pycharm": {
     "name": "#%%\n"
    }
   }
  },
  {
   "cell_type": "code",
   "execution_count": 9,
   "outputs": [
    {
     "data": {
      "text/plain": "                        Country  Population   Latitude  Longitude  Count\nRegion                                                                  \nBarisal              Bangladesh      355739  22.657433  90.329767      3\nBihar                     India     6928787  25.708822  85.630522     41\nChhattisgarh              India     2872929  21.400350  82.035208     12\nChittagong           Bangladesh     5117216  22.714367  91.453817     12\nDhaka                Bangladesh    12421465  23.735636  90.334793     14\nHaryana                   India     6280342  29.229848  76.427341     27\nJharkhand                 India     3061175  23.793406  85.894763     16\nKhulna               Bangladesh     1906080  23.149120  89.292880      5\nMadhya Pradesh            India    11620902  23.683922  77.800602     50\nMymensingh Division  Bangladesh      660786  24.865940  90.186480      5\nNCT                       India    11440146  28.655767  77.174667      3\nOdisha                    India     4212298  20.656442  84.843668     19\nRajshahi             Bangladesh     2016125  24.626830  89.072410     10\nRangpur Division     Bangladesh      685579  25.830550  88.951325      4\nSylhet               Bangladesh      383201  24.589433  91.685267      3\nTelangana                 India     8941106  17.849662  78.918646     39\nUttar Pradesh             India    26376298  27.528679  79.667813    107\nWest Bengal               India    17664785  23.554336  88.158059     75",
      "text/html": "<div>\n<style scoped>\n    .dataframe tbody tr th:only-of-type {\n        vertical-align: middle;\n    }\n\n    .dataframe tbody tr th {\n        vertical-align: top;\n    }\n\n    .dataframe thead th {\n        text-align: right;\n    }\n</style>\n<table border=\"1\" class=\"dataframe\">\n  <thead>\n    <tr style=\"text-align: right;\">\n      <th></th>\n      <th>Country</th>\n      <th>Population</th>\n      <th>Latitude</th>\n      <th>Longitude</th>\n      <th>Count</th>\n    </tr>\n    <tr>\n      <th>Region</th>\n      <th></th>\n      <th></th>\n      <th></th>\n      <th></th>\n      <th></th>\n    </tr>\n  </thead>\n  <tbody>\n    <tr>\n      <th>Barisal</th>\n      <td>Bangladesh</td>\n      <td>355739</td>\n      <td>22.657433</td>\n      <td>90.329767</td>\n      <td>3</td>\n    </tr>\n    <tr>\n      <th>Bihar</th>\n      <td>India</td>\n      <td>6928787</td>\n      <td>25.708822</td>\n      <td>85.630522</td>\n      <td>41</td>\n    </tr>\n    <tr>\n      <th>Chhattisgarh</th>\n      <td>India</td>\n      <td>2872929</td>\n      <td>21.400350</td>\n      <td>82.035208</td>\n      <td>12</td>\n    </tr>\n    <tr>\n      <th>Chittagong</th>\n      <td>Bangladesh</td>\n      <td>5117216</td>\n      <td>22.714367</td>\n      <td>91.453817</td>\n      <td>12</td>\n    </tr>\n    <tr>\n      <th>Dhaka</th>\n      <td>Bangladesh</td>\n      <td>12421465</td>\n      <td>23.735636</td>\n      <td>90.334793</td>\n      <td>14</td>\n    </tr>\n    <tr>\n      <th>Haryana</th>\n      <td>India</td>\n      <td>6280342</td>\n      <td>29.229848</td>\n      <td>76.427341</td>\n      <td>27</td>\n    </tr>\n    <tr>\n      <th>Jharkhand</th>\n      <td>India</td>\n      <td>3061175</td>\n      <td>23.793406</td>\n      <td>85.894763</td>\n      <td>16</td>\n    </tr>\n    <tr>\n      <th>Khulna</th>\n      <td>Bangladesh</td>\n      <td>1906080</td>\n      <td>23.149120</td>\n      <td>89.292880</td>\n      <td>5</td>\n    </tr>\n    <tr>\n      <th>Madhya Pradesh</th>\n      <td>India</td>\n      <td>11620902</td>\n      <td>23.683922</td>\n      <td>77.800602</td>\n      <td>50</td>\n    </tr>\n    <tr>\n      <th>Mymensingh Division</th>\n      <td>Bangladesh</td>\n      <td>660786</td>\n      <td>24.865940</td>\n      <td>90.186480</td>\n      <td>5</td>\n    </tr>\n    <tr>\n      <th>NCT</th>\n      <td>India</td>\n      <td>11440146</td>\n      <td>28.655767</td>\n      <td>77.174667</td>\n      <td>3</td>\n    </tr>\n    <tr>\n      <th>Odisha</th>\n      <td>India</td>\n      <td>4212298</td>\n      <td>20.656442</td>\n      <td>84.843668</td>\n      <td>19</td>\n    </tr>\n    <tr>\n      <th>Rajshahi</th>\n      <td>Bangladesh</td>\n      <td>2016125</td>\n      <td>24.626830</td>\n      <td>89.072410</td>\n      <td>10</td>\n    </tr>\n    <tr>\n      <th>Rangpur Division</th>\n      <td>Bangladesh</td>\n      <td>685579</td>\n      <td>25.830550</td>\n      <td>88.951325</td>\n      <td>4</td>\n    </tr>\n    <tr>\n      <th>Sylhet</th>\n      <td>Bangladesh</td>\n      <td>383201</td>\n      <td>24.589433</td>\n      <td>91.685267</td>\n      <td>3</td>\n    </tr>\n    <tr>\n      <th>Telangana</th>\n      <td>India</td>\n      <td>8941106</td>\n      <td>17.849662</td>\n      <td>78.918646</td>\n      <td>39</td>\n    </tr>\n    <tr>\n      <th>Uttar Pradesh</th>\n      <td>India</td>\n      <td>26376298</td>\n      <td>27.528679</td>\n      <td>79.667813</td>\n      <td>107</td>\n    </tr>\n    <tr>\n      <th>West Bengal</th>\n      <td>India</td>\n      <td>17664785</td>\n      <td>23.554336</td>\n      <td>88.158059</td>\n      <td>75</td>\n    </tr>\n  </tbody>\n</table>\n</div>"
     },
     "execution_count": 9,
     "metadata": {},
     "output_type": "execute_result"
    }
   ],
   "source": [
    "metadata_region_all"
   ],
   "metadata": {
    "collapsed": false,
    "pycharm": {
     "name": "#%%\n"
    }
   }
  },
  {
   "cell_type": "code",
   "execution_count": 10,
   "outputs": [
    {
     "data": {
      "text/plain": "            Population   Latitude  Longitude  Count\nCountry                                            \nBangladesh    23546191  23.862102  90.216146     56\nIndia         99398768  24.554454  81.955912    389",
      "text/html": "<div>\n<style scoped>\n    .dataframe tbody tr th:only-of-type {\n        vertical-align: middle;\n    }\n\n    .dataframe tbody tr th {\n        vertical-align: top;\n    }\n\n    .dataframe thead th {\n        text-align: right;\n    }\n</style>\n<table border=\"1\" class=\"dataframe\">\n  <thead>\n    <tr style=\"text-align: right;\">\n      <th></th>\n      <th>Population</th>\n      <th>Latitude</th>\n      <th>Longitude</th>\n      <th>Count</th>\n    </tr>\n    <tr>\n      <th>Country</th>\n      <th></th>\n      <th></th>\n      <th></th>\n      <th></th>\n    </tr>\n  </thead>\n  <tbody>\n    <tr>\n      <th>Bangladesh</th>\n      <td>23546191</td>\n      <td>23.862102</td>\n      <td>90.216146</td>\n      <td>56</td>\n    </tr>\n    <tr>\n      <th>India</th>\n      <td>99398768</td>\n      <td>24.554454</td>\n      <td>81.955912</td>\n      <td>389</td>\n    </tr>\n  </tbody>\n</table>\n</div>"
     },
     "execution_count": 10,
     "metadata": {},
     "output_type": "execute_result"
    }
   ],
   "source": [
    "metadata_country_all"
   ],
   "metadata": {
    "collapsed": false,
    "pycharm": {
     "name": "#%%\n"
    }
   }
  },
  {
   "cell_type": "code",
   "execution_count": 79,
   "outputs": [
    {
     "name": "stdout",
     "output_type": "stream",
     "text": [
      "<class 'pandas.core.frame.DataFrame'>\n",
      "DatetimeIndex: 46704 entries, 2017-01-01 00:00:00 to 2022-04-30 23:00:00\n",
      "Data columns (total 55 columns):\n",
      " #   Column                           Non-Null Count  Dtype  \n",
      "---  ------                           --------------  -----  \n",
      " 0   Azimpur_Dhaka                    44084 non-null  float64\n",
      " 1   Barisal_Barisal                  44130 non-null  float64\n",
      " 2   Bhairab Bazar_Dhaka              42550 non-null  float64\n",
      " 3   Bhola_Barisal                    43936 non-null  float64\n",
      " 4   Bogra_Rajshahi                   43782 non-null  float64\n",
      " 5   Chittagong_Chittagong            33200 non-null  float64\n",
      " 6   Comilla_Chittagong               41665 non-null  float64\n",
      " 7   Dhaka_Dhaka                      44034 non-null  float64\n",
      " 8   Dinajpur_Rangpur Division        40780 non-null  float64\n",
      " 9   Faridpur_Dhaka                   44126 non-null  float64\n",
      " 10  Feni_Chittagong                  41702 non-null  float64\n",
      " 11  Habiganj_Sylhet                  41807 non-null  float64\n",
      " 12  Ishurdi_Rajshahi                 44473 non-null  float64\n",
      " 13  Jamalpur_Mymensingh Division     43975 non-null  float64\n",
      " 14  Jessore_Khulna                   44677 non-null  float64\n",
      " 15  Joypur Hat_Rajshahi              43772 non-null  float64\n",
      " 16  Khagrachhari_Chittagong          33586 non-null  float64\n",
      " 17  Khulna_Khulna                    44222 non-null  float64\n",
      " 18  Kishorganj_Dhaka                 43495 non-null  float64\n",
      " 19  Kushtia_Khulna                   44738 non-null  float64\n",
      " 20  Laksham_Chittagong               41865 non-null  float64\n",
      " 21  Lakshmipur_Chittagong            43792 non-null  float64\n",
      " 22  Lalmanirhat_Rangpur Division     35802 non-null  float64\n",
      " 23  Madaripur_Dhaka                  44110 non-null  float64\n",
      " 24  Maulavi Bazar_Sylhet             33700 non-null  float64\n",
      " 25  Mymensingh_Mymensingh Division   43930 non-null  float64\n",
      " 26  Nagarpur_Dhaka                   44074 non-null  float64\n",
      " 27  Narail_Khulna                    44577 non-null  float64\n",
      " 28  Narayanganj_Dhaka                43933 non-null  float64\n",
      " 29  Narsingdi_Dhaka                  43898 non-null  float64\n",
      " 30  Nawabganj_Rajshahi               44534 non-null  float64\n",
      " 31  Netrakona_Mymensingh Division    43530 non-null  float64\n",
      " 32  Pabna_Rajshahi                   44668 non-null  float64\n",
      " 33  Palang_Dhaka                     44125 non-null  float64\n",
      " 34  Paltan_Dhaka                     44085 non-null  float64\n",
      " 35  Par Naogaon_Rajshahi             43759 non-null  float64\n",
      " 36  Patiya_Chittagong                33221 non-null  float64\n",
      " 37  Pirojpur_Barisal                 43955 non-null  float64\n",
      " 38  Raipur_Chittagong                43995 non-null  float64\n",
      " 39  Rajshahi_Rajshahi                44556 non-null  float64\n",
      " 40  Ramganj_Chittagong               43885 non-null  float64\n",
      " 41  Rangpur_Rangpur Division         35789 non-null  float64\n",
      " 42  Saidpur_Rajshahi                 36346 non-null  float64\n",
      " 43  Sandwip_Chittagong               33479 non-null  float64\n",
      " 44  Sarishabari_Mymensingh Division  44033 non-null  float64\n",
      " 45  Satkania_Chittagong              32932 non-null  float64\n",
      " 46  Satkhira_Khulna                  44238 non-null  float64\n",
      " 47  Shahzadpur_Rajshahi              44074 non-null  float64\n",
      " 48  Sherpur_Mymensingh Division      43964 non-null  float64\n",
      " 49  Sirajganj_Rajshahi               44092 non-null  float64\n",
      " 50  Sylhet_Sylhet                    33699 non-null  float64\n",
      " 51  Tangail_Dhaka                    44063 non-null  float64\n",
      " 52  Thakurgaon_Rangpur Division      37302 non-null  float64\n",
      " 53  Tungi_Dhaka                      43956 non-null  float64\n",
      " 54  Tungipara_Dhaka                  44124 non-null  float64\n",
      "dtypes: float64(55)\n",
      "memory usage: 20.0 MB\n"
     ]
    }
   ],
   "source": [
    "series.info()"
   ],
   "metadata": {
    "collapsed": false,
    "pycharm": {
     "name": "#%%\n"
    }
   }
  },
  {
   "cell_type": "markdown",
   "source": [
    "# Custom Data Preparation"
   ],
   "metadata": {
    "collapsed": false
   }
  },
  {
   "cell_type": "code",
   "execution_count": 6,
   "outputs": [],
   "source": [
    "# division_series_bd = region_series[['Dhaka','Khulna','Chittagong']][\"2019\":\"2022\"].round(2)\n",
    "# division_series_bd.to_csv(\"region_series_BD_3_only.csv\")"
   ],
   "metadata": {
    "collapsed": false,
    "pycharm": {
     "name": "#%%\n"
    }
   }
  },
  {
   "cell_type": "code",
   "execution_count": 7,
   "outputs": [],
   "source": [
    "# region_series_summary = region_series.describe().round(2).T\n",
    "# region_series_summary.to_csv(\"region_series_summary.csv\")"
   ],
   "metadata": {
    "collapsed": false,
    "pycharm": {
     "name": "#%%\n"
    }
   }
  },
  {
   "cell_type": "code",
   "execution_count": 8,
   "outputs": [],
   "source": [
    "# country_series_summary = country_series.describe().round(2).T\n",
    "# country_series_summary.to_csv(\"country_series_summary.csv\")"
   ],
   "metadata": {
    "collapsed": false,
    "pycharm": {
     "name": "#%%\n"
    }
   }
  },
  {
   "cell_type": "markdown",
   "source": [
    "# Custom Data Preparation BD\n"
   ],
   "metadata": {
    "collapsed": false
   }
  },
  {
   "cell_type": "code",
   "execution_count": 4,
   "outputs": [],
   "source": [
    "from data_preparation.spatio_temporal_filtering import get_bd_data_4_years\n",
    "\n",
    "# metadata, series, metadata_region, region_series, metadata_country, country_series = get_bd_data_4_years()"
   ],
   "metadata": {
    "collapsed": false,
    "pycharm": {
     "name": "#%%\n"
    }
   }
  },
  {
   "cell_type": "code",
   "execution_count": 10,
   "outputs": [
    {
     "data": {
      "text/plain": "                                  Zone     Country      Region  Population  \\\nindex                                                                        \nAzimpur_Dhaka                  Azimpur  Bangladesh       Dhaka       96641   \nBarisal_Barisal                Barisal  Bangladesh     Barisal      202242   \nBhairab Bazar_Dhaka      Bhairab Bazar  Bangladesh       Dhaka      105457   \nBhola_Barisal                    Bhola  Bangladesh     Barisal       99079   \nBogra_Rajshahi                   Bogra  Bangladesh    Rajshahi      210000   \nChittagong_Chittagong       Chittagong  Bangladesh  Chittagong     3920222   \nComilla_Chittagong             Comilla  Bangladesh  Chittagong      389411   \nDhaka_Dhaka                      Dhaka  Bangladesh       Dhaka    10356500   \nDinajpur_Rangpur              Dinajpur  Bangladesh     Rangpur      206234   \nFaridpur_Dhaka                Faridpur  Bangladesh       Dhaka      112187   \nFeni_Chittagong                   Feni  Bangladesh  Chittagong       84028   \nHabiganj_Sylhet               Habiganj  Bangladesh      Sylhet       88760   \nIshurdi_Rajshahi               Ishurdi  Bangladesh    Rajshahi       81995   \nJamalpur_Mymensingh           Jamalpur  Bangladesh  Mymensingh      167900   \nJessore_Khulna                 Jessore  Bangladesh      Khulna      243987   \nJoypur Hat_Rajshahi         Joypur Hat  Bangladesh    Rajshahi       73068   \nKhagrachhari_Chittagong   Khagrachhari  Bangladesh  Chittagong       50364   \nKhulna_Khulna                   Khulna  Bangladesh      Khulna     1342339   \nKishorganj_Dhaka            Kishorganj  Bangladesh       Dhaka       90690   \nKushtia_Khulna                 Kushtia  Bangladesh      Khulna      135724   \nLaksham_Chittagong             Laksham  Bangladesh  Chittagong       82290   \nLakshmipur_Chittagong       Lakshmipur  Bangladesh  Chittagong       61703   \nLalmanirhat_Rangpur        Lalmanirhat  Bangladesh     Rangpur       65127   \nMadaripur_Dhaka              Madaripur  Bangladesh       Dhaka       84789   \nMaulavi Bazar_Sylhet     Maulavi Bazar  Bangladesh      Sylhet       57441   \nMymensingh_Mymensingh       Mymensingh  Bangladesh  Mymensingh      225126   \nNagarpur_Dhaka                Nagarpur  Bangladesh       Dhaka      238422   \nNarail_Khulna                   Narail  Bangladesh      Khulna       55112   \nNarayanganj_Dhaka          Narayanganj  Bangladesh       Dhaka      223622   \nNarsingdi_Dhaka              Narsingdi  Bangladesh       Dhaka      281080   \nNawabganj_Rajshahi           Nawabganj  Bangladesh    Rajshahi      142361   \nNetrakona_Mymensingh         Netrakona  Bangladesh  Mymensingh       79016   \nPabna_Rajshahi                   Pabna  Bangladesh    Rajshahi      186781   \nPalang_Dhaka                    Palang  Bangladesh       Dhaka       67652   \nPaltan_Dhaka                    Paltan  Bangladesh       Dhaka      184492   \nPar Naogaon_Rajshahi       Par Naogaon  Bangladesh    Rajshahi      192464   \nPatiya_Chittagong               Patiya  Bangladesh  Chittagong       51360   \nPirojpur_Barisal              Pirojpur  Bangladesh     Barisal       54418   \nRaipur_Chittagong               Raipur  Bangladesh  Chittagong       64652   \nRajshahi_Rajshahi             Rajshahi  Bangladesh    Rajshahi      700133   \nRamganj_Chittagong             Ramganj  Bangladesh  Chittagong       55241   \nRangpur_Rangpur                Rangpur  Bangladesh     Rangpur      343122   \nSaidpur_Rajshahi               Saidpur  Bangladesh    Rajshahi      199422   \nSandwip_Chittagong             Sandwip  Bangladesh  Chittagong       52152   \nSarishabari_Mymensingh     Sarishabari  Bangladesh  Mymensingh       81325   \nSatkania_Chittagong           Satkania  Bangladesh  Chittagong       52005   \nSatkhira_Khulna               Satkhira  Bangladesh      Khulna      128918   \nShahzadpur_Rajshahi         Shahzadpur  Bangladesh    Rajshahi      102420   \nSherpur_Mymensingh             Sherpur  Bangladesh  Mymensingh      107419   \nSirajganj_Rajshahi           Sirajganj  Bangladesh    Rajshahi      127481   \nSylhet_Sylhet                   Sylhet  Bangladesh      Sylhet      237000   \nTangail_Dhaka                  Tangail  Bangladesh       Dhaka      180144   \nThakurgaon_Rangpur          Thakurgaon  Bangladesh     Rangpur       71096   \nTungi_Dhaka                      Tungi  Bangladesh       Dhaka      337579   \nTungipara_Dhaka              Tungipara  Bangladesh       Dhaka       62210   \n\n                         Latitude  Longitude  \nindex                                         \nAzimpur_Dhaka             23.7298    90.3854  \nBarisal_Barisal           22.7050    90.3701  \nBhairab Bazar_Dhaka       24.0524    90.9764  \nBhola_Barisal             22.6876    90.6440  \nBogra_Rajshahi            24.8510    89.3711  \nChittagong_Chittagong     22.3384    91.8317  \nComilla_Chittagong        23.4619    91.1850  \nDhaka_Dhaka               23.7104    90.4074  \nDinajpur_Rangpur          25.6274    88.6378  \nFaridpur_Dhaka            23.6061    89.8406  \nFeni_Chittagong           23.0144    91.3966  \nHabiganj_Sylhet           24.3804    91.4130  \nIshurdi_Rajshahi          24.1286    89.0657  \nJamalpur_Mymensingh       24.9197    89.9481  \nJessore_Khulna            23.1697    89.2137  \nJoypur Hat_Rajshahi       25.1015    89.0273  \nKhagrachhari_Chittagong   23.1079    91.9701  \nKhulna_Khulna             22.8098    89.5644  \nKishorganj_Dhaka          24.4394    90.7829  \nKushtia_Khulna            23.9028    89.1194  \nLaksham_Chittagong        23.2402    91.1214  \nLakshmipur_Chittagong     22.9443    90.8300  \nLalmanirhat_Rangpur       25.9172    89.4459  \nMadaripur_Dhaka           23.1710    90.2094  \nMaulavi Bazar_Sylhet      24.4889    91.7708  \nMymensingh_Mymensingh     24.7564    90.4065  \nNagarpur_Dhaka            24.0578    89.8770  \nNarail_Khulna             23.1551    89.4951  \nNarayanganj_Dhaka         23.6135    90.5030  \nNarsingdi_Dhaka           23.9230    90.7177  \nNawabganj_Rajshahi        24.5903    88.2744  \nNetrakona_Mymensingh      24.8835    90.7290  \nPabna_Rajshahi            24.0064    89.2372  \nPalang_Dhaka              23.2182    90.3508  \nPaltan_Dhaka              23.7362    90.4143  \nPar Naogaon_Rajshahi      24.8042    88.9488  \nPatiya_Chittagong         22.2954    91.9790  \nPirojpur_Barisal          22.5797    89.9752  \nRaipur_Chittagong         23.0391    90.7681  \nRajshahi_Rajshahi         24.3740    88.6011  \nRamganj_Chittagong        23.1006    90.8499  \nRangpur_Rangpur           25.7466    89.2517  \nSaidpur_Rajshahi          25.7777    88.8917  \nSandwip_Chittagong        22.5141    91.4549  \nSarishabari_Mymensingh    24.7513    89.8313  \nSatkania_Chittagong       22.0764    92.0495  \nSatkhira_Khulna           22.7082    89.0718  \nShahzadpur_Rajshahi       24.1769    89.5988  \nSherpur_Mymensingh        25.0188    90.0175  \nSirajganj_Rajshahi        24.4577    89.7080  \nSylhet_Sylhet             24.8990    91.8720  \nTangail_Dhaka             24.2498    89.9166  \nThakurgaon_Rangpur        26.0310    88.4699  \nTungi_Dhaka               23.8915    90.4023  \nTungipara_Dhaka           22.8998    89.9033  ",
      "text/html": "<div>\n<style scoped>\n    .dataframe tbody tr th:only-of-type {\n        vertical-align: middle;\n    }\n\n    .dataframe tbody tr th {\n        vertical-align: top;\n    }\n\n    .dataframe thead th {\n        text-align: right;\n    }\n</style>\n<table border=\"1\" class=\"dataframe\">\n  <thead>\n    <tr style=\"text-align: right;\">\n      <th></th>\n      <th>Zone</th>\n      <th>Country</th>\n      <th>Region</th>\n      <th>Population</th>\n      <th>Latitude</th>\n      <th>Longitude</th>\n    </tr>\n    <tr>\n      <th>index</th>\n      <th></th>\n      <th></th>\n      <th></th>\n      <th></th>\n      <th></th>\n      <th></th>\n    </tr>\n  </thead>\n  <tbody>\n    <tr>\n      <th>Azimpur_Dhaka</th>\n      <td>Azimpur</td>\n      <td>Bangladesh</td>\n      <td>Dhaka</td>\n      <td>96641</td>\n      <td>23.7298</td>\n      <td>90.3854</td>\n    </tr>\n    <tr>\n      <th>Barisal_Barisal</th>\n      <td>Barisal</td>\n      <td>Bangladesh</td>\n      <td>Barisal</td>\n      <td>202242</td>\n      <td>22.7050</td>\n      <td>90.3701</td>\n    </tr>\n    <tr>\n      <th>Bhairab Bazar_Dhaka</th>\n      <td>Bhairab Bazar</td>\n      <td>Bangladesh</td>\n      <td>Dhaka</td>\n      <td>105457</td>\n      <td>24.0524</td>\n      <td>90.9764</td>\n    </tr>\n    <tr>\n      <th>Bhola_Barisal</th>\n      <td>Bhola</td>\n      <td>Bangladesh</td>\n      <td>Barisal</td>\n      <td>99079</td>\n      <td>22.6876</td>\n      <td>90.6440</td>\n    </tr>\n    <tr>\n      <th>Bogra_Rajshahi</th>\n      <td>Bogra</td>\n      <td>Bangladesh</td>\n      <td>Rajshahi</td>\n      <td>210000</td>\n      <td>24.8510</td>\n      <td>89.3711</td>\n    </tr>\n    <tr>\n      <th>Chittagong_Chittagong</th>\n      <td>Chittagong</td>\n      <td>Bangladesh</td>\n      <td>Chittagong</td>\n      <td>3920222</td>\n      <td>22.3384</td>\n      <td>91.8317</td>\n    </tr>\n    <tr>\n      <th>Comilla_Chittagong</th>\n      <td>Comilla</td>\n      <td>Bangladesh</td>\n      <td>Chittagong</td>\n      <td>389411</td>\n      <td>23.4619</td>\n      <td>91.1850</td>\n    </tr>\n    <tr>\n      <th>Dhaka_Dhaka</th>\n      <td>Dhaka</td>\n      <td>Bangladesh</td>\n      <td>Dhaka</td>\n      <td>10356500</td>\n      <td>23.7104</td>\n      <td>90.4074</td>\n    </tr>\n    <tr>\n      <th>Dinajpur_Rangpur</th>\n      <td>Dinajpur</td>\n      <td>Bangladesh</td>\n      <td>Rangpur</td>\n      <td>206234</td>\n      <td>25.6274</td>\n      <td>88.6378</td>\n    </tr>\n    <tr>\n      <th>Faridpur_Dhaka</th>\n      <td>Faridpur</td>\n      <td>Bangladesh</td>\n      <td>Dhaka</td>\n      <td>112187</td>\n      <td>23.6061</td>\n      <td>89.8406</td>\n    </tr>\n    <tr>\n      <th>Feni_Chittagong</th>\n      <td>Feni</td>\n      <td>Bangladesh</td>\n      <td>Chittagong</td>\n      <td>84028</td>\n      <td>23.0144</td>\n      <td>91.3966</td>\n    </tr>\n    <tr>\n      <th>Habiganj_Sylhet</th>\n      <td>Habiganj</td>\n      <td>Bangladesh</td>\n      <td>Sylhet</td>\n      <td>88760</td>\n      <td>24.3804</td>\n      <td>91.4130</td>\n    </tr>\n    <tr>\n      <th>Ishurdi_Rajshahi</th>\n      <td>Ishurdi</td>\n      <td>Bangladesh</td>\n      <td>Rajshahi</td>\n      <td>81995</td>\n      <td>24.1286</td>\n      <td>89.0657</td>\n    </tr>\n    <tr>\n      <th>Jamalpur_Mymensingh</th>\n      <td>Jamalpur</td>\n      <td>Bangladesh</td>\n      <td>Mymensingh</td>\n      <td>167900</td>\n      <td>24.9197</td>\n      <td>89.9481</td>\n    </tr>\n    <tr>\n      <th>Jessore_Khulna</th>\n      <td>Jessore</td>\n      <td>Bangladesh</td>\n      <td>Khulna</td>\n      <td>243987</td>\n      <td>23.1697</td>\n      <td>89.2137</td>\n    </tr>\n    <tr>\n      <th>Joypur Hat_Rajshahi</th>\n      <td>Joypur Hat</td>\n      <td>Bangladesh</td>\n      <td>Rajshahi</td>\n      <td>73068</td>\n      <td>25.1015</td>\n      <td>89.0273</td>\n    </tr>\n    <tr>\n      <th>Khagrachhari_Chittagong</th>\n      <td>Khagrachhari</td>\n      <td>Bangladesh</td>\n      <td>Chittagong</td>\n      <td>50364</td>\n      <td>23.1079</td>\n      <td>91.9701</td>\n    </tr>\n    <tr>\n      <th>Khulna_Khulna</th>\n      <td>Khulna</td>\n      <td>Bangladesh</td>\n      <td>Khulna</td>\n      <td>1342339</td>\n      <td>22.8098</td>\n      <td>89.5644</td>\n    </tr>\n    <tr>\n      <th>Kishorganj_Dhaka</th>\n      <td>Kishorganj</td>\n      <td>Bangladesh</td>\n      <td>Dhaka</td>\n      <td>90690</td>\n      <td>24.4394</td>\n      <td>90.7829</td>\n    </tr>\n    <tr>\n      <th>Kushtia_Khulna</th>\n      <td>Kushtia</td>\n      <td>Bangladesh</td>\n      <td>Khulna</td>\n      <td>135724</td>\n      <td>23.9028</td>\n      <td>89.1194</td>\n    </tr>\n    <tr>\n      <th>Laksham_Chittagong</th>\n      <td>Laksham</td>\n      <td>Bangladesh</td>\n      <td>Chittagong</td>\n      <td>82290</td>\n      <td>23.2402</td>\n      <td>91.1214</td>\n    </tr>\n    <tr>\n      <th>Lakshmipur_Chittagong</th>\n      <td>Lakshmipur</td>\n      <td>Bangladesh</td>\n      <td>Chittagong</td>\n      <td>61703</td>\n      <td>22.9443</td>\n      <td>90.8300</td>\n    </tr>\n    <tr>\n      <th>Lalmanirhat_Rangpur</th>\n      <td>Lalmanirhat</td>\n      <td>Bangladesh</td>\n      <td>Rangpur</td>\n      <td>65127</td>\n      <td>25.9172</td>\n      <td>89.4459</td>\n    </tr>\n    <tr>\n      <th>Madaripur_Dhaka</th>\n      <td>Madaripur</td>\n      <td>Bangladesh</td>\n      <td>Dhaka</td>\n      <td>84789</td>\n      <td>23.1710</td>\n      <td>90.2094</td>\n    </tr>\n    <tr>\n      <th>Maulavi Bazar_Sylhet</th>\n      <td>Maulavi Bazar</td>\n      <td>Bangladesh</td>\n      <td>Sylhet</td>\n      <td>57441</td>\n      <td>24.4889</td>\n      <td>91.7708</td>\n    </tr>\n    <tr>\n      <th>Mymensingh_Mymensingh</th>\n      <td>Mymensingh</td>\n      <td>Bangladesh</td>\n      <td>Mymensingh</td>\n      <td>225126</td>\n      <td>24.7564</td>\n      <td>90.4065</td>\n    </tr>\n    <tr>\n      <th>Nagarpur_Dhaka</th>\n      <td>Nagarpur</td>\n      <td>Bangladesh</td>\n      <td>Dhaka</td>\n      <td>238422</td>\n      <td>24.0578</td>\n      <td>89.8770</td>\n    </tr>\n    <tr>\n      <th>Narail_Khulna</th>\n      <td>Narail</td>\n      <td>Bangladesh</td>\n      <td>Khulna</td>\n      <td>55112</td>\n      <td>23.1551</td>\n      <td>89.4951</td>\n    </tr>\n    <tr>\n      <th>Narayanganj_Dhaka</th>\n      <td>Narayanganj</td>\n      <td>Bangladesh</td>\n      <td>Dhaka</td>\n      <td>223622</td>\n      <td>23.6135</td>\n      <td>90.5030</td>\n    </tr>\n    <tr>\n      <th>Narsingdi_Dhaka</th>\n      <td>Narsingdi</td>\n      <td>Bangladesh</td>\n      <td>Dhaka</td>\n      <td>281080</td>\n      <td>23.9230</td>\n      <td>90.7177</td>\n    </tr>\n    <tr>\n      <th>Nawabganj_Rajshahi</th>\n      <td>Nawabganj</td>\n      <td>Bangladesh</td>\n      <td>Rajshahi</td>\n      <td>142361</td>\n      <td>24.5903</td>\n      <td>88.2744</td>\n    </tr>\n    <tr>\n      <th>Netrakona_Mymensingh</th>\n      <td>Netrakona</td>\n      <td>Bangladesh</td>\n      <td>Mymensingh</td>\n      <td>79016</td>\n      <td>24.8835</td>\n      <td>90.7290</td>\n    </tr>\n    <tr>\n      <th>Pabna_Rajshahi</th>\n      <td>Pabna</td>\n      <td>Bangladesh</td>\n      <td>Rajshahi</td>\n      <td>186781</td>\n      <td>24.0064</td>\n      <td>89.2372</td>\n    </tr>\n    <tr>\n      <th>Palang_Dhaka</th>\n      <td>Palang</td>\n      <td>Bangladesh</td>\n      <td>Dhaka</td>\n      <td>67652</td>\n      <td>23.2182</td>\n      <td>90.3508</td>\n    </tr>\n    <tr>\n      <th>Paltan_Dhaka</th>\n      <td>Paltan</td>\n      <td>Bangladesh</td>\n      <td>Dhaka</td>\n      <td>184492</td>\n      <td>23.7362</td>\n      <td>90.4143</td>\n    </tr>\n    <tr>\n      <th>Par Naogaon_Rajshahi</th>\n      <td>Par Naogaon</td>\n      <td>Bangladesh</td>\n      <td>Rajshahi</td>\n      <td>192464</td>\n      <td>24.8042</td>\n      <td>88.9488</td>\n    </tr>\n    <tr>\n      <th>Patiya_Chittagong</th>\n      <td>Patiya</td>\n      <td>Bangladesh</td>\n      <td>Chittagong</td>\n      <td>51360</td>\n      <td>22.2954</td>\n      <td>91.9790</td>\n    </tr>\n    <tr>\n      <th>Pirojpur_Barisal</th>\n      <td>Pirojpur</td>\n      <td>Bangladesh</td>\n      <td>Barisal</td>\n      <td>54418</td>\n      <td>22.5797</td>\n      <td>89.9752</td>\n    </tr>\n    <tr>\n      <th>Raipur_Chittagong</th>\n      <td>Raipur</td>\n      <td>Bangladesh</td>\n      <td>Chittagong</td>\n      <td>64652</td>\n      <td>23.0391</td>\n      <td>90.7681</td>\n    </tr>\n    <tr>\n      <th>Rajshahi_Rajshahi</th>\n      <td>Rajshahi</td>\n      <td>Bangladesh</td>\n      <td>Rajshahi</td>\n      <td>700133</td>\n      <td>24.3740</td>\n      <td>88.6011</td>\n    </tr>\n    <tr>\n      <th>Ramganj_Chittagong</th>\n      <td>Ramganj</td>\n      <td>Bangladesh</td>\n      <td>Chittagong</td>\n      <td>55241</td>\n      <td>23.1006</td>\n      <td>90.8499</td>\n    </tr>\n    <tr>\n      <th>Rangpur_Rangpur</th>\n      <td>Rangpur</td>\n      <td>Bangladesh</td>\n      <td>Rangpur</td>\n      <td>343122</td>\n      <td>25.7466</td>\n      <td>89.2517</td>\n    </tr>\n    <tr>\n      <th>Saidpur_Rajshahi</th>\n      <td>Saidpur</td>\n      <td>Bangladesh</td>\n      <td>Rajshahi</td>\n      <td>199422</td>\n      <td>25.7777</td>\n      <td>88.8917</td>\n    </tr>\n    <tr>\n      <th>Sandwip_Chittagong</th>\n      <td>Sandwip</td>\n      <td>Bangladesh</td>\n      <td>Chittagong</td>\n      <td>52152</td>\n      <td>22.5141</td>\n      <td>91.4549</td>\n    </tr>\n    <tr>\n      <th>Sarishabari_Mymensingh</th>\n      <td>Sarishabari</td>\n      <td>Bangladesh</td>\n      <td>Mymensingh</td>\n      <td>81325</td>\n      <td>24.7513</td>\n      <td>89.8313</td>\n    </tr>\n    <tr>\n      <th>Satkania_Chittagong</th>\n      <td>Satkania</td>\n      <td>Bangladesh</td>\n      <td>Chittagong</td>\n      <td>52005</td>\n      <td>22.0764</td>\n      <td>92.0495</td>\n    </tr>\n    <tr>\n      <th>Satkhira_Khulna</th>\n      <td>Satkhira</td>\n      <td>Bangladesh</td>\n      <td>Khulna</td>\n      <td>128918</td>\n      <td>22.7082</td>\n      <td>89.0718</td>\n    </tr>\n    <tr>\n      <th>Shahzadpur_Rajshahi</th>\n      <td>Shahzadpur</td>\n      <td>Bangladesh</td>\n      <td>Rajshahi</td>\n      <td>102420</td>\n      <td>24.1769</td>\n      <td>89.5988</td>\n    </tr>\n    <tr>\n      <th>Sherpur_Mymensingh</th>\n      <td>Sherpur</td>\n      <td>Bangladesh</td>\n      <td>Mymensingh</td>\n      <td>107419</td>\n      <td>25.0188</td>\n      <td>90.0175</td>\n    </tr>\n    <tr>\n      <th>Sirajganj_Rajshahi</th>\n      <td>Sirajganj</td>\n      <td>Bangladesh</td>\n      <td>Rajshahi</td>\n      <td>127481</td>\n      <td>24.4577</td>\n      <td>89.7080</td>\n    </tr>\n    <tr>\n      <th>Sylhet_Sylhet</th>\n      <td>Sylhet</td>\n      <td>Bangladesh</td>\n      <td>Sylhet</td>\n      <td>237000</td>\n      <td>24.8990</td>\n      <td>91.8720</td>\n    </tr>\n    <tr>\n      <th>Tangail_Dhaka</th>\n      <td>Tangail</td>\n      <td>Bangladesh</td>\n      <td>Dhaka</td>\n      <td>180144</td>\n      <td>24.2498</td>\n      <td>89.9166</td>\n    </tr>\n    <tr>\n      <th>Thakurgaon_Rangpur</th>\n      <td>Thakurgaon</td>\n      <td>Bangladesh</td>\n      <td>Rangpur</td>\n      <td>71096</td>\n      <td>26.0310</td>\n      <td>88.4699</td>\n    </tr>\n    <tr>\n      <th>Tungi_Dhaka</th>\n      <td>Tungi</td>\n      <td>Bangladesh</td>\n      <td>Dhaka</td>\n      <td>337579</td>\n      <td>23.8915</td>\n      <td>90.4023</td>\n    </tr>\n    <tr>\n      <th>Tungipara_Dhaka</th>\n      <td>Tungipara</td>\n      <td>Bangladesh</td>\n      <td>Dhaka</td>\n      <td>62210</td>\n      <td>22.8998</td>\n      <td>89.9033</td>\n    </tr>\n  </tbody>\n</table>\n</div>"
     },
     "execution_count": 10,
     "metadata": {},
     "output_type": "execute_result"
    }
   ],
   "source": [
    "# series.to_csv('series_4_year.csv')\n",
    "# region_series.to_csv('region_series_4_year.csv')\n",
    "# country_series.to_csv('country_series_4_year.csv')"
   ],
   "metadata": {
    "collapsed": false,
    "pycharm": {
     "name": "#%%\n"
    }
   }
  },
  {
   "cell_type": "code",
   "execution_count": 17,
   "outputs": [],
   "source": [
    "from data_preparation.spatio_temporal_filtering import get_bd_data\n",
    "\n",
    "metadata, series, metadata_region, region_series, metadata_country, country_series = get_bd_data()"
   ],
   "metadata": {
    "collapsed": false,
    "pycharm": {
     "name": "#%%\n"
    }
   }
  },
  {
   "cell_type": "code",
   "execution_count": 18,
   "outputs": [],
   "source": [
    "series.to_csv('series.csv')\n",
    "region_series.to_csv('region_series.csv')\n",
    "country_series.to_csv('country_series.csv')"
   ],
   "metadata": {
    "collapsed": false,
    "pycharm": {
     "name": "#%%\n"
    }
   }
  },
  {
   "cell_type": "code",
   "execution_count": 19,
   "outputs": [],
   "source": [
    "metadata.to_csv('metadata.csv')\n",
    "metadata_region.to_csv('metadata_region.csv')\n",
    "metadata_country.to_csv('metadata_country.csv')"
   ],
   "metadata": {
    "collapsed": false,
    "pycharm": {
     "name": "#%%\n"
    }
   }
  },
  {
   "cell_type": "code",
   "execution_count": 15,
   "outputs": [
    {
     "name": "stdout",
     "output_type": "stream",
     "text": [
      "(55, 6) (46704, 55) (8, 5) (46704, 8) (1, 4) (46704, 1)\n"
     ]
    }
   ],
   "source": [
    "print(metadata.shape, series.shape, metadata_region.shape, region_series.shape, metadata_country.shape, country_series.shape)"
   ],
   "metadata": {
    "collapsed": false,
    "pycharm": {
     "name": "#%%\n"
    }
   }
  },
  {
   "cell_type": "code",
   "execution_count": 78,
   "outputs": [],
   "source": [],
   "metadata": {
    "collapsed": false,
    "pycharm": {
     "name": "#%%\n"
    }
   }
  },
  {
   "cell_type": "code",
   "execution_count": 78,
   "outputs": [],
   "source": [],
   "metadata": {
    "collapsed": false,
    "pycharm": {
     "name": "#%%\n"
    }
   }
  },
  {
   "cell_type": "code",
   "execution_count": 78,
   "outputs": [],
   "source": [],
   "metadata": {
    "collapsed": false,
    "pycharm": {
     "name": "#%%\n"
    }
   }
  }
 ],
 "metadata": {
  "kernelspec": {
   "display_name": "Python 3",
   "language": "python",
   "name": "python3"
  },
  "language_info": {
   "codemirror_mode": {
    "name": "ipython",
    "version": 2
   },
   "file_extension": ".py",
   "mimetype": "text/x-python",
   "name": "python",
   "nbconvert_exporter": "python",
   "pygments_lexer": "ipython2",
   "version": "2.7.6"
  }
 },
 "nbformat": 4,
 "nbformat_minor": 0
}