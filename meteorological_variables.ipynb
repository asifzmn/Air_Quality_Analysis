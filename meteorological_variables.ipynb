{
 "cells": [
  {
   "cell_type": "code",
   "execution_count": 14,
   "metadata": {
    "collapsed": true,
    "pycharm": {
     "name": "#%%\n"
    }
   },
   "outputs": [],
   "source": [
    "import xarray as xr\n",
    "from paths import aq_directory_local\n",
    "from meteorological_variables import *"
   ]
  },
  {
   "cell_type": "code",
   "execution_count": 15,
   "outputs": [
    {
     "data": {
      "text/plain": "<xarray.DataArray 'meteo' (district: 30, time: 8760, factor: 37)>\n[9723600 values with dtype=float64]\nCoordinates:\n  * time      (time) datetime64[ns] 2019-01-01 ... 2019-12-31T23:00:00\n  * factor    (factor) object 'Temperature [2 m elevation corrected]' ... 'Evapotranspiration'\n  * district  (district) object 'Barisal' 'Bogra' ... 'Tongi' 'Tungipara'",
      "text/html": "<div><svg style=\"position: absolute; width: 0; height: 0; overflow: hidden\">\n<defs>\n<symbol id=\"icon-database\" viewBox=\"0 0 32 32\">\n<title>Show/Hide data repr</title>\n<path d=\"M16 0c-8.837 0-16 2.239-16 5v4c0 2.761 7.163 5 16 5s16-2.239 16-5v-4c0-2.761-7.163-5-16-5z\"></path>\n<path d=\"M16 17c-8.837 0-16-2.239-16-5v6c0 2.761 7.163 5 16 5s16-2.239 16-5v-6c0 2.761-7.163 5-16 5z\"></path>\n<path d=\"M16 26c-8.837 0-16-2.239-16-5v6c0 2.761 7.163 5 16 5s16-2.239 16-5v-6c0 2.761-7.163 5-16 5z\"></path>\n</symbol>\n<symbol id=\"icon-file-text2\" viewBox=\"0 0 32 32\">\n<title>Show/Hide attributes</title>\n<path d=\"M28.681 7.159c-0.694-0.947-1.662-2.053-2.724-3.116s-2.169-2.030-3.116-2.724c-1.612-1.182-2.393-1.319-2.841-1.319h-15.5c-1.378 0-2.5 1.121-2.5 2.5v27c0 1.378 1.122 2.5 2.5 2.5h23c1.378 0 2.5-1.122 2.5-2.5v-19.5c0-0.448-0.137-1.23-1.319-2.841zM24.543 5.457c0.959 0.959 1.712 1.825 2.268 2.543h-4.811v-4.811c0.718 0.556 1.584 1.309 2.543 2.268zM28 29.5c0 0.271-0.229 0.5-0.5 0.5h-23c-0.271 0-0.5-0.229-0.5-0.5v-27c0-0.271 0.229-0.5 0.5-0.5 0 0 15.499-0 15.5 0v7c0 0.552 0.448 1 1 1h7v19.5z\"></path>\n<path d=\"M23 26h-14c-0.552 0-1-0.448-1-1s0.448-1 1-1h14c0.552 0 1 0.448 1 1s-0.448 1-1 1z\"></path>\n<path d=\"M23 22h-14c-0.552 0-1-0.448-1-1s0.448-1 1-1h14c0.552 0 1 0.448 1 1s-0.448 1-1 1z\"></path>\n<path d=\"M23 18h-14c-0.552 0-1-0.448-1-1s0.448-1 1-1h14c0.552 0 1 0.448 1 1s-0.448 1-1 1z\"></path>\n</symbol>\n</defs>\n</svg>\n<style>/* CSS stylesheet for displaying xarray objects in jupyterlab.\n *\n */\n\n:root {\n  --xr-font-color0: var(--jp-content-font-color0, rgba(0, 0, 0, 1));\n  --xr-font-color2: var(--jp-content-font-color2, rgba(0, 0, 0, 0.54));\n  --xr-font-color3: var(--jp-content-font-color3, rgba(0, 0, 0, 0.38));\n  --xr-border-color: var(--jp-border-color2, #e0e0e0);\n  --xr-disabled-color: var(--jp-layout-color3, #bdbdbd);\n  --xr-background-color: var(--jp-layout-color0, white);\n  --xr-background-color-row-even: var(--jp-layout-color1, white);\n  --xr-background-color-row-odd: var(--jp-layout-color2, #eeeeee);\n}\n\n.xr-wrap {\n  min-width: 300px;\n  max-width: 700px;\n}\n\n.xr-header {\n  padding-top: 6px;\n  padding-bottom: 6px;\n  margin-bottom: 4px;\n  border-bottom: solid 1px var(--xr-border-color);\n}\n\n.xr-header > div,\n.xr-header > ul {\n  display: inline;\n  margin-top: 0;\n  margin-bottom: 0;\n}\n\n.xr-obj-type,\n.xr-array-name {\n  margin-left: 2px;\n  margin-right: 10px;\n}\n\n.xr-obj-type {\n  color: var(--xr-font-color2);\n}\n\n.xr-sections {\n  padding-left: 0 !important;\n  display: grid;\n  grid-template-columns: 150px auto auto 1fr 20px 20px;\n}\n\n.xr-section-item {\n  display: contents;\n}\n\n.xr-section-item input {\n  display: none;\n}\n\n.xr-section-item input + label {\n  color: var(--xr-disabled-color);\n}\n\n.xr-section-item input:enabled + label {\n  cursor: pointer;\n  color: var(--xr-font-color2);\n}\n\n.xr-section-item input:enabled + label:hover {\n  color: var(--xr-font-color0);\n}\n\n.xr-section-summary {\n  grid-column: 1;\n  color: var(--xr-font-color2);\n  font-weight: 500;\n}\n\n.xr-section-summary > span {\n  display: inline-block;\n  padding-left: 0.5em;\n}\n\n.xr-section-summary-in:disabled + label {\n  color: var(--xr-font-color2);\n}\n\n.xr-section-summary-in + label:before {\n  display: inline-block;\n  content: '►';\n  font-size: 11px;\n  width: 15px;\n  text-align: center;\n}\n\n.xr-section-summary-in:disabled + label:before {\n  color: var(--xr-disabled-color);\n}\n\n.xr-section-summary-in:checked + label:before {\n  content: '▼';\n}\n\n.xr-section-summary-in:checked + label > span {\n  display: none;\n}\n\n.xr-section-summary,\n.xr-section-inline-details {\n  padding-top: 4px;\n  padding-bottom: 4px;\n}\n\n.xr-section-inline-details {\n  grid-column: 2 / -1;\n}\n\n.xr-section-details {\n  display: none;\n  grid-column: 1 / -1;\n  margin-bottom: 5px;\n}\n\n.xr-section-summary-in:checked ~ .xr-section-details {\n  display: contents;\n}\n\n.xr-array-wrap {\n  grid-column: 1 / -1;\n  display: grid;\n  grid-template-columns: 20px auto;\n}\n\n.xr-array-wrap > label {\n  grid-column: 1;\n  vertical-align: top;\n}\n\n.xr-preview {\n  color: var(--xr-font-color3);\n}\n\n.xr-array-preview,\n.xr-array-data {\n  padding: 0 5px !important;\n  grid-column: 2;\n}\n\n.xr-array-data,\n.xr-array-in:checked ~ .xr-array-preview {\n  display: none;\n}\n\n.xr-array-in:checked ~ .xr-array-data,\n.xr-array-preview {\n  display: inline-block;\n}\n\n.xr-dim-list {\n  display: inline-block !important;\n  list-style: none;\n  padding: 0 !important;\n  margin: 0;\n}\n\n.xr-dim-list li {\n  display: inline-block;\n  padding: 0;\n  margin: 0;\n}\n\n.xr-dim-list:before {\n  content: '(';\n}\n\n.xr-dim-list:after {\n  content: ')';\n}\n\n.xr-dim-list li:not(:last-child):after {\n  content: ',';\n  padding-right: 5px;\n}\n\n.xr-has-index {\n  font-weight: bold;\n}\n\n.xr-var-list,\n.xr-var-item {\n  display: contents;\n}\n\n.xr-var-item > div,\n.xr-var-item label,\n.xr-var-item > .xr-var-name span {\n  background-color: var(--xr-background-color-row-even);\n  margin-bottom: 0;\n}\n\n.xr-var-item > .xr-var-name:hover span {\n  padding-right: 5px;\n}\n\n.xr-var-list > li:nth-child(odd) > div,\n.xr-var-list > li:nth-child(odd) > label,\n.xr-var-list > li:nth-child(odd) > .xr-var-name span {\n  background-color: var(--xr-background-color-row-odd);\n}\n\n.xr-var-name {\n  grid-column: 1;\n}\n\n.xr-var-dims {\n  grid-column: 2;\n}\n\n.xr-var-dtype {\n  grid-column: 3;\n  text-align: right;\n  color: var(--xr-font-color2);\n}\n\n.xr-var-preview {\n  grid-column: 4;\n}\n\n.xr-var-name,\n.xr-var-dims,\n.xr-var-dtype,\n.xr-preview,\n.xr-attrs dt {\n  white-space: nowrap;\n  overflow: hidden;\n  text-overflow: ellipsis;\n  padding-right: 10px;\n}\n\n.xr-var-name:hover,\n.xr-var-dims:hover,\n.xr-var-dtype:hover,\n.xr-attrs dt:hover {\n  overflow: visible;\n  width: auto;\n  z-index: 1;\n}\n\n.xr-var-attrs,\n.xr-var-data {\n  display: none;\n  background-color: var(--xr-background-color) !important;\n  padding-bottom: 5px !important;\n}\n\n.xr-var-attrs-in:checked ~ .xr-var-attrs,\n.xr-var-data-in:checked ~ .xr-var-data {\n  display: block;\n}\n\n.xr-var-data > table {\n  float: right;\n}\n\n.xr-var-name span,\n.xr-var-data,\n.xr-attrs {\n  padding-left: 25px !important;\n}\n\n.xr-attrs,\n.xr-var-attrs,\n.xr-var-data {\n  grid-column: 1 / -1;\n}\n\ndl.xr-attrs {\n  padding: 0;\n  margin: 0;\n  display: grid;\n  grid-template-columns: 125px auto;\n}\n\n.xr-attrs dt, dd {\n  padding: 0;\n  margin: 0;\n  float: left;\n  padding-right: 10px;\n  width: auto;\n}\n\n.xr-attrs dt {\n  font-weight: normal;\n  grid-column: 1;\n}\n\n.xr-attrs dt:hover span {\n  display: inline-block;\n  background: var(--xr-background-color);\n  padding-right: 10px;\n}\n\n.xr-attrs dd {\n  grid-column: 2;\n  white-space: pre-wrap;\n  word-break: break-all;\n}\n\n.xr-icon-database,\n.xr-icon-file-text2 {\n  display: inline-block;\n  vertical-align: middle;\n  width: 1em;\n  height: 1.5em !important;\n  stroke-width: 0;\n  stroke: currentColor;\n  fill: currentColor;\n}\n</style><div class='xr-wrap'><div class='xr-header'><div class='xr-obj-type'>xarray.DataArray</div><div class='xr-array-name'>'meteo'</div><ul class='xr-dim-list'><li><span class='xr-has-index'>district</span>: 30</li><li><span class='xr-has-index'>time</span>: 8760</li><li><span class='xr-has-index'>factor</span>: 37</li></ul></div><ul class='xr-sections'><li class='xr-section-item'><div class='xr-array-wrap'><input id='section-2a2b769a-593d-432c-b5d4-38c2cf0e1da0' class='xr-array-in' type='checkbox' ><label for='section-2a2b769a-593d-432c-b5d4-38c2cf0e1da0' title='Show/hide data repr'><svg class='icon xr-icon-database'><use xlink:href='#icon-database'></use></svg></label><div class='xr-array-preview xr-preview'><span>...</span></div><pre class='xr-array-data'>[9723600 values with dtype=float64]</pre></div></li><li class='xr-section-item'><input id='section-27b2af7e-7c07-4fc8-af59-3eda6adb3b58' class='xr-section-summary-in' type='checkbox'  checked><label for='section-27b2af7e-7c07-4fc8-af59-3eda6adb3b58' class='xr-section-summary' >Coordinates: <span>(3)</span></label><div class='xr-section-inline-details'></div><div class='xr-section-details'><ul class='xr-var-list'><li class='xr-var-item'><div class='xr-var-name'><span class='xr-has-index'>time</span></div><div class='xr-var-dims'>(time)</div><div class='xr-var-dtype'>datetime64[ns]</div><div class='xr-var-preview xr-preview'>2019-01-01 ... 2019-12-31T23:00:00</div><input id='attrs-b8c3ac7c-bcfc-4dc8-8bec-affbc18dc6c4' class='xr-var-attrs-in' type='checkbox' disabled><label for='attrs-b8c3ac7c-bcfc-4dc8-8bec-affbc18dc6c4' title='Show/Hide attributes'><svg class='icon xr-icon-file-text2'><use xlink:href='#icon-file-text2'></use></svg></label><input id='data-2e7aed44-f15c-4c2e-b59a-f689215d274d' class='xr-var-data-in' type='checkbox'><label for='data-2e7aed44-f15c-4c2e-b59a-f689215d274d' title='Show/Hide data repr'><svg class='icon xr-icon-database'><use xlink:href='#icon-database'></use></svg></label><div class='xr-var-attrs'><dl class='xr-attrs'></dl></div><pre class='xr-var-data'>array([&#x27;2019-01-01T00:00:00.000000000&#x27;, &#x27;2019-01-01T01:00:00.000000000&#x27;,\n       &#x27;2019-01-01T02:00:00.000000000&#x27;, ..., &#x27;2019-12-31T21:00:00.000000000&#x27;,\n       &#x27;2019-12-31T22:00:00.000000000&#x27;, &#x27;2019-12-31T23:00:00.000000000&#x27;],\n      dtype=&#x27;datetime64[ns]&#x27;)</pre></li><li class='xr-var-item'><div class='xr-var-name'><span class='xr-has-index'>factor</span></div><div class='xr-var-dims'>(factor)</div><div class='xr-var-dtype'>object</div><div class='xr-var-preview xr-preview'>&#x27;Temperature [2 m elevation corrected]&#x27; ... &#x27;Evapotranspiration&#x27;</div><input id='attrs-6d1b623e-47cd-4f07-b585-1364151f4e39' class='xr-var-attrs-in' type='checkbox' disabled><label for='attrs-6d1b623e-47cd-4f07-b585-1364151f4e39' title='Show/Hide attributes'><svg class='icon xr-icon-file-text2'><use xlink:href='#icon-file-text2'></use></svg></label><input id='data-0dd42081-cb29-43d7-8f27-b8c43e988bd5' class='xr-var-data-in' type='checkbox'><label for='data-0dd42081-cb29-43d7-8f27-b8c43e988bd5' title='Show/Hide data repr'><svg class='icon xr-icon-database'><use xlink:href='#icon-database'></use></svg></label><div class='xr-var-attrs'><dl class='xr-attrs'></dl></div><pre class='xr-var-data'>array([&#x27;Temperature [2 m elevation corrected]&#x27;,\n       &#x27;Growing Degree Days [2 m elevation corrected]&#x27;, &#x27;Temperature [900 mb]&#x27;,\n       &#x27;Temperature [850 mb]&#x27;, &#x27;Temperature [800 mb]&#x27;, &#x27;Temperature [700 mb]&#x27;,\n       &#x27;Temperature [500 mb]&#x27;, &#x27;Precipitation Total&#x27;, &#x27;Precipitation Runoff&#x27;,\n       &#x27;Relative Humidity [2 m]&#x27;, &#x27;Wind Gust&#x27;, &#x27;Wind Speed [10 m]&#x27;,\n       &#x27;Wind Direction [10 m]&#x27;, &#x27;Wind Speed [100 m]&#x27;, &#x27;Wind Direction [100 m]&#x27;,\n       &#x27;Wind Speed [900 mb]&#x27;, &#x27;Wind Direction [900 mb]&#x27;, &#x27;Wind Speed [850 mb]&#x27;,\n       &#x27;Wind Direction [850 mb]&#x27;, &#x27;Wind Speed [800 mb]&#x27;,\n       &#x27;Wind Direction [800 mb]&#x27;, &#x27;Wind Speed [700 mb]&#x27;,\n       &#x27;Wind Direction [700 mb]&#x27;, &#x27;Wind Speed [500 mb]&#x27;,\n       &#x27;Wind Direction [500 mb]&#x27;, &#x27;Wind Speed [250 mb]&#x27;,\n       &#x27;Wind Direction [250 mb]&#x27;, &#x27;Cloud Cover Total&#x27;,\n       &#x27;Cloud Cover High [high cld lay]&#x27;, &#x27;Cloud Cover Medium [mid cld lay]&#x27;,\n       &#x27;Cloud Cover Low [low cld lay]&#x27;, &#x27;Sunshine Duration&#x27;,\n       &#x27;Shortwave Radiation&#x27;, &#x27;Longwave Radiation&#x27;, &#x27;UV Radiation&#x27;,\n       &#x27;Mean Sea Level Pressure [MSL]&#x27;, &#x27;Evapotranspiration&#x27;], dtype=object)</pre></li><li class='xr-var-item'><div class='xr-var-name'><span class='xr-has-index'>district</span></div><div class='xr-var-dims'>(district)</div><div class='xr-var-dtype'>object</div><div class='xr-var-preview xr-preview'>&#x27;Barisal&#x27; &#x27;Bogra&#x27; ... &#x27;Tungipara&#x27;</div><input id='attrs-1d817eb5-27fb-4d59-bf41-df5ac838759e' class='xr-var-attrs-in' type='checkbox' disabled><label for='attrs-1d817eb5-27fb-4d59-bf41-df5ac838759e' title='Show/Hide attributes'><svg class='icon xr-icon-file-text2'><use xlink:href='#icon-file-text2'></use></svg></label><input id='data-847c0050-70a1-4652-bd14-9761affb0385' class='xr-var-data-in' type='checkbox'><label for='data-847c0050-70a1-4652-bd14-9761affb0385' title='Show/Hide data repr'><svg class='icon xr-icon-database'><use xlink:href='#icon-database'></use></svg></label><div class='xr-var-attrs'><dl class='xr-attrs'></dl></div><pre class='xr-var-data'>array([&#x27;Barisal&#x27;, &#x27;Bogra&#x27;, &#x27;Dhaka&#x27;, &#x27;Jamalpur&#x27;, &#x27;Jessore&#x27;, &#x27;Kishorganj&#x27;,\n       &#x27;Kushtia&#x27;, &#x27;Lakshmipur&#x27;, &#x27;Madaripur&#x27;, &#x27;Mymensingh&#x27;, &#x27;Nagarpur&#x27;,\n       &#x27;Narail&#x27;, &#x27;Narayanganj&#x27;, &#x27;Narsingdi&#x27;, &#x27;Nawabganj&#x27;, &#x27;Pabna&#x27;, &#x27;Palang&#x27;,\n       &#x27;Par Naogaon&#x27;, &#x27;Pirojpur&#x27;, &#x27;Raipur&#x27;, &#x27;Rajshahi&#x27;, &#x27;Ramganj&#x27;,\n       &#x27;Sarishabari&#x27;, &#x27;Satkhira&#x27;, &#x27;Shahzadpur&#x27;, &#x27;Sherpur&#x27;, &#x27;Sirajganj&#x27;,\n       &#x27;Tangail&#x27;, &#x27;Tongi&#x27;, &#x27;Tungipara&#x27;], dtype=object)</pre></li></ul></div></li><li class='xr-section-item'><input id='section-6f69dcbc-2481-4df3-bb9f-200445c1cbac' class='xr-section-summary-in' type='checkbox' disabled ><label for='section-6f69dcbc-2481-4df3-bb9f-200445c1cbac' class='xr-section-summary'  title='Expand/collapse section'>Attributes: <span>(0)</span></label><div class='xr-section-inline-details'></div><div class='xr-section-details'><dl class='xr-attrs'></dl></div></li></ul></div></div>"
     },
     "execution_count": 15,
     "metadata": {},
     "output_type": "execute_result"
    }
   ],
   "source": [
    "file = aq_directory_local + 'meteoData_2019.nc'\n",
    "\n",
    "meteo_data = xr.open_dataset(file)['meteo']\n",
    "meteo_data"
   ],
   "metadata": {
    "collapsed": false,
    "pycharm": {
     "name": "#%%\n"
    }
   }
  },
  {
   "cell_type": "code",
   "execution_count": 16,
   "outputs": [
    {
     "data": {
      "text/plain": "<xarray.DataArray 'time' (time: 8760)>\narray(['2019-01-01T00:00:00.000000000', '2019-01-01T01:00:00.000000000',\n       '2019-01-01T02:00:00.000000000', ..., '2019-12-31T21:00:00.000000000',\n       '2019-12-31T22:00:00.000000000', '2019-12-31T23:00:00.000000000'],\n      dtype='datetime64[ns]')\nCoordinates:\n  * time     (time) datetime64[ns] 2019-01-01 ... 2019-12-31T23:00:00",
      "text/html": "<div><svg style=\"position: absolute; width: 0; height: 0; overflow: hidden\">\n<defs>\n<symbol id=\"icon-database\" viewBox=\"0 0 32 32\">\n<title>Show/Hide data repr</title>\n<path d=\"M16 0c-8.837 0-16 2.239-16 5v4c0 2.761 7.163 5 16 5s16-2.239 16-5v-4c0-2.761-7.163-5-16-5z\"></path>\n<path d=\"M16 17c-8.837 0-16-2.239-16-5v6c0 2.761 7.163 5 16 5s16-2.239 16-5v-6c0 2.761-7.163 5-16 5z\"></path>\n<path d=\"M16 26c-8.837 0-16-2.239-16-5v6c0 2.761 7.163 5 16 5s16-2.239 16-5v-6c0 2.761-7.163 5-16 5z\"></path>\n</symbol>\n<symbol id=\"icon-file-text2\" viewBox=\"0 0 32 32\">\n<title>Show/Hide attributes</title>\n<path d=\"M28.681 7.159c-0.694-0.947-1.662-2.053-2.724-3.116s-2.169-2.030-3.116-2.724c-1.612-1.182-2.393-1.319-2.841-1.319h-15.5c-1.378 0-2.5 1.121-2.5 2.5v27c0 1.378 1.122 2.5 2.5 2.5h23c1.378 0 2.5-1.122 2.5-2.5v-19.5c0-0.448-0.137-1.23-1.319-2.841zM24.543 5.457c0.959 0.959 1.712 1.825 2.268 2.543h-4.811v-4.811c0.718 0.556 1.584 1.309 2.543 2.268zM28 29.5c0 0.271-0.229 0.5-0.5 0.5h-23c-0.271 0-0.5-0.229-0.5-0.5v-27c0-0.271 0.229-0.5 0.5-0.5 0 0 15.499-0 15.5 0v7c0 0.552 0.448 1 1 1h7v19.5z\"></path>\n<path d=\"M23 26h-14c-0.552 0-1-0.448-1-1s0.448-1 1-1h14c0.552 0 1 0.448 1 1s-0.448 1-1 1z\"></path>\n<path d=\"M23 22h-14c-0.552 0-1-0.448-1-1s0.448-1 1-1h14c0.552 0 1 0.448 1 1s-0.448 1-1 1z\"></path>\n<path d=\"M23 18h-14c-0.552 0-1-0.448-1-1s0.448-1 1-1h14c0.552 0 1 0.448 1 1s-0.448 1-1 1z\"></path>\n</symbol>\n</defs>\n</svg>\n<style>/* CSS stylesheet for displaying xarray objects in jupyterlab.\n *\n */\n\n:root {\n  --xr-font-color0: var(--jp-content-font-color0, rgba(0, 0, 0, 1));\n  --xr-font-color2: var(--jp-content-font-color2, rgba(0, 0, 0, 0.54));\n  --xr-font-color3: var(--jp-content-font-color3, rgba(0, 0, 0, 0.38));\n  --xr-border-color: var(--jp-border-color2, #e0e0e0);\n  --xr-disabled-color: var(--jp-layout-color3, #bdbdbd);\n  --xr-background-color: var(--jp-layout-color0, white);\n  --xr-background-color-row-even: var(--jp-layout-color1, white);\n  --xr-background-color-row-odd: var(--jp-layout-color2, #eeeeee);\n}\n\n.xr-wrap {\n  min-width: 300px;\n  max-width: 700px;\n}\n\n.xr-header {\n  padding-top: 6px;\n  padding-bottom: 6px;\n  margin-bottom: 4px;\n  border-bottom: solid 1px var(--xr-border-color);\n}\n\n.xr-header > div,\n.xr-header > ul {\n  display: inline;\n  margin-top: 0;\n  margin-bottom: 0;\n}\n\n.xr-obj-type,\n.xr-array-name {\n  margin-left: 2px;\n  margin-right: 10px;\n}\n\n.xr-obj-type {\n  color: var(--xr-font-color2);\n}\n\n.xr-sections {\n  padding-left: 0 !important;\n  display: grid;\n  grid-template-columns: 150px auto auto 1fr 20px 20px;\n}\n\n.xr-section-item {\n  display: contents;\n}\n\n.xr-section-item input {\n  display: none;\n}\n\n.xr-section-item input + label {\n  color: var(--xr-disabled-color);\n}\n\n.xr-section-item input:enabled + label {\n  cursor: pointer;\n  color: var(--xr-font-color2);\n}\n\n.xr-section-item input:enabled + label:hover {\n  color: var(--xr-font-color0);\n}\n\n.xr-section-summary {\n  grid-column: 1;\n  color: var(--xr-font-color2);\n  font-weight: 500;\n}\n\n.xr-section-summary > span {\n  display: inline-block;\n  padding-left: 0.5em;\n}\n\n.xr-section-summary-in:disabled + label {\n  color: var(--xr-font-color2);\n}\n\n.xr-section-summary-in + label:before {\n  display: inline-block;\n  content: '►';\n  font-size: 11px;\n  width: 15px;\n  text-align: center;\n}\n\n.xr-section-summary-in:disabled + label:before {\n  color: var(--xr-disabled-color);\n}\n\n.xr-section-summary-in:checked + label:before {\n  content: '▼';\n}\n\n.xr-section-summary-in:checked + label > span {\n  display: none;\n}\n\n.xr-section-summary,\n.xr-section-inline-details {\n  padding-top: 4px;\n  padding-bottom: 4px;\n}\n\n.xr-section-inline-details {\n  grid-column: 2 / -1;\n}\n\n.xr-section-details {\n  display: none;\n  grid-column: 1 / -1;\n  margin-bottom: 5px;\n}\n\n.xr-section-summary-in:checked ~ .xr-section-details {\n  display: contents;\n}\n\n.xr-array-wrap {\n  grid-column: 1 / -1;\n  display: grid;\n  grid-template-columns: 20px auto;\n}\n\n.xr-array-wrap > label {\n  grid-column: 1;\n  vertical-align: top;\n}\n\n.xr-preview {\n  color: var(--xr-font-color3);\n}\n\n.xr-array-preview,\n.xr-array-data {\n  padding: 0 5px !important;\n  grid-column: 2;\n}\n\n.xr-array-data,\n.xr-array-in:checked ~ .xr-array-preview {\n  display: none;\n}\n\n.xr-array-in:checked ~ .xr-array-data,\n.xr-array-preview {\n  display: inline-block;\n}\n\n.xr-dim-list {\n  display: inline-block !important;\n  list-style: none;\n  padding: 0 !important;\n  margin: 0;\n}\n\n.xr-dim-list li {\n  display: inline-block;\n  padding: 0;\n  margin: 0;\n}\n\n.xr-dim-list:before {\n  content: '(';\n}\n\n.xr-dim-list:after {\n  content: ')';\n}\n\n.xr-dim-list li:not(:last-child):after {\n  content: ',';\n  padding-right: 5px;\n}\n\n.xr-has-index {\n  font-weight: bold;\n}\n\n.xr-var-list,\n.xr-var-item {\n  display: contents;\n}\n\n.xr-var-item > div,\n.xr-var-item label,\n.xr-var-item > .xr-var-name span {\n  background-color: var(--xr-background-color-row-even);\n  margin-bottom: 0;\n}\n\n.xr-var-item > .xr-var-name:hover span {\n  padding-right: 5px;\n}\n\n.xr-var-list > li:nth-child(odd) > div,\n.xr-var-list > li:nth-child(odd) > label,\n.xr-var-list > li:nth-child(odd) > .xr-var-name span {\n  background-color: var(--xr-background-color-row-odd);\n}\n\n.xr-var-name {\n  grid-column: 1;\n}\n\n.xr-var-dims {\n  grid-column: 2;\n}\n\n.xr-var-dtype {\n  grid-column: 3;\n  text-align: right;\n  color: var(--xr-font-color2);\n}\n\n.xr-var-preview {\n  grid-column: 4;\n}\n\n.xr-var-name,\n.xr-var-dims,\n.xr-var-dtype,\n.xr-preview,\n.xr-attrs dt {\n  white-space: nowrap;\n  overflow: hidden;\n  text-overflow: ellipsis;\n  padding-right: 10px;\n}\n\n.xr-var-name:hover,\n.xr-var-dims:hover,\n.xr-var-dtype:hover,\n.xr-attrs dt:hover {\n  overflow: visible;\n  width: auto;\n  z-index: 1;\n}\n\n.xr-var-attrs,\n.xr-var-data {\n  display: none;\n  background-color: var(--xr-background-color) !important;\n  padding-bottom: 5px !important;\n}\n\n.xr-var-attrs-in:checked ~ .xr-var-attrs,\n.xr-var-data-in:checked ~ .xr-var-data {\n  display: block;\n}\n\n.xr-var-data > table {\n  float: right;\n}\n\n.xr-var-name span,\n.xr-var-data,\n.xr-attrs {\n  padding-left: 25px !important;\n}\n\n.xr-attrs,\n.xr-var-attrs,\n.xr-var-data {\n  grid-column: 1 / -1;\n}\n\ndl.xr-attrs {\n  padding: 0;\n  margin: 0;\n  display: grid;\n  grid-template-columns: 125px auto;\n}\n\n.xr-attrs dt, dd {\n  padding: 0;\n  margin: 0;\n  float: left;\n  padding-right: 10px;\n  width: auto;\n}\n\n.xr-attrs dt {\n  font-weight: normal;\n  grid-column: 1;\n}\n\n.xr-attrs dt:hover span {\n  display: inline-block;\n  background: var(--xr-background-color);\n  padding-right: 10px;\n}\n\n.xr-attrs dd {\n  grid-column: 2;\n  white-space: pre-wrap;\n  word-break: break-all;\n}\n\n.xr-icon-database,\n.xr-icon-file-text2 {\n  display: inline-block;\n  vertical-align: middle;\n  width: 1em;\n  height: 1.5em !important;\n  stroke-width: 0;\n  stroke: currentColor;\n  fill: currentColor;\n}\n</style><div class='xr-wrap'><div class='xr-header'><div class='xr-obj-type'>xarray.DataArray</div><div class='xr-array-name'>'time'</div><ul class='xr-dim-list'><li><span class='xr-has-index'>time</span>: 8760</li></ul></div><ul class='xr-sections'><li class='xr-section-item'><div class='xr-array-wrap'><input id='section-b8173412-7e04-488d-9f85-5cc84cf25a90' class='xr-array-in' type='checkbox' ><label for='section-b8173412-7e04-488d-9f85-5cc84cf25a90' title='Show/hide data repr'><svg class='icon xr-icon-database'><use xlink:href='#icon-database'></use></svg></label><div class='xr-array-preview xr-preview'><span>2019-01-01 2019-01-01T01:00:00 ... 2019-12-31T23:00:00</span></div><pre class='xr-array-data'>array([&#x27;2019-01-01T00:00:00.000000000&#x27;, &#x27;2019-01-01T01:00:00.000000000&#x27;,\n       &#x27;2019-01-01T02:00:00.000000000&#x27;, ..., &#x27;2019-12-31T21:00:00.000000000&#x27;,\n       &#x27;2019-12-31T22:00:00.000000000&#x27;, &#x27;2019-12-31T23:00:00.000000000&#x27;],\n      dtype=&#x27;datetime64[ns]&#x27;)</pre></div></li><li class='xr-section-item'><input id='section-22ef4832-9506-48a4-82ab-4591c421b66d' class='xr-section-summary-in' type='checkbox'  checked><label for='section-22ef4832-9506-48a4-82ab-4591c421b66d' class='xr-section-summary' >Coordinates: <span>(1)</span></label><div class='xr-section-inline-details'></div><div class='xr-section-details'><ul class='xr-var-list'><li class='xr-var-item'><div class='xr-var-name'><span class='xr-has-index'>time</span></div><div class='xr-var-dims'>(time)</div><div class='xr-var-dtype'>datetime64[ns]</div><div class='xr-var-preview xr-preview'>2019-01-01 ... 2019-12-31T23:00:00</div><input id='attrs-16e4897b-24df-444d-bcc0-2c5ff34d87f2' class='xr-var-attrs-in' type='checkbox' disabled><label for='attrs-16e4897b-24df-444d-bcc0-2c5ff34d87f2' title='Show/Hide attributes'><svg class='icon xr-icon-file-text2'><use xlink:href='#icon-file-text2'></use></svg></label><input id='data-09bf3ea2-1ae7-4199-a217-a5e8a38df941' class='xr-var-data-in' type='checkbox'><label for='data-09bf3ea2-1ae7-4199-a217-a5e8a38df941' title='Show/Hide data repr'><svg class='icon xr-icon-database'><use xlink:href='#icon-database'></use></svg></label><div class='xr-var-attrs'><dl class='xr-attrs'></dl></div><pre class='xr-var-data'>array([&#x27;2019-01-01T00:00:00.000000000&#x27;, &#x27;2019-01-01T01:00:00.000000000&#x27;,\n       &#x27;2019-01-01T02:00:00.000000000&#x27;, ..., &#x27;2019-12-31T21:00:00.000000000&#x27;,\n       &#x27;2019-12-31T22:00:00.000000000&#x27;, &#x27;2019-12-31T23:00:00.000000000&#x27;],\n      dtype=&#x27;datetime64[ns]&#x27;)</pre></li></ul></div></li><li class='xr-section-item'><input id='section-c8b6e0a5-d5ca-40a2-82cb-5d70a8ac9c2c' class='xr-section-summary-in' type='checkbox' disabled ><label for='section-c8b6e0a5-d5ca-40a2-82cb-5d70a8ac9c2c' class='xr-section-summary'  title='Expand/collapse section'>Attributes: <span>(0)</span></label><div class='xr-section-inline-details'></div><div class='xr-section-details'><dl class='xr-attrs'></dl></div></li></ul></div></div>"
     },
     "execution_count": 16,
     "metadata": {},
     "output_type": "execute_result"
    }
   ],
   "source": [
    "meteo_data.time"
   ],
   "metadata": {
    "collapsed": false,
    "pycharm": {
     "name": "#%%\n"
    }
   }
  },
  {
   "cell_type": "markdown",
   "source": [],
   "metadata": {
    "collapsed": false,
    "pycharm": {
     "name": "#%% md\n"
    }
   }
  },
  {
   "cell_type": "code",
   "execution_count": 17,
   "outputs": [],
   "source": [
    "wind_direction_10m = get_factor_data(meteo_data,'Wind Direction [10 m]')\n",
    "wind_direction_100m = get_factor_data(meteo_data,'Wind Direction [100 m]')\n",
    "wind_direction_500m = get_factor_data(meteo_data,'Wind Direction [500 mb]')\n",
    "wind_direction_700m = get_factor_data(meteo_data,'Wind Direction [700 mb]')\n"
   ],
   "metadata": {
    "collapsed": false,
    "pycharm": {
     "name": "#%%\n"
    }
   }
  },
  {
   "cell_type": "code",
   "execution_count": 18,
   "outputs": [
    {
     "data": {
      "text/plain": "district               Barisal       Bogra      Dhaka    Jamalpur    Jessore  \\\ntime                                                                           \n2019-01-01 00:00:00  326.30994  315.000000  308.65982  295.201100  326.97614   \n2019-01-01 01:00:00  322.59467  315.000000  308.15723  289.440030  330.25513   \n2019-01-01 02:00:00  327.09480  320.527530  312.70940  286.389560  333.43497   \n2019-01-01 03:00:00  327.99463  320.906160  315.00000  281.309940  335.77228   \n2019-01-01 04:00:00  333.43497  328.570430  326.30994  285.945400  342.34988   \n...                        ...         ...        ...         ...        ...   \n2019-12-31 19:00:00  203.19860    8.130096  223.36343  270.000000  303.69006   \n2019-12-31 20:00:00  209.05461   15.945404  231.34020  360.000000  304.38034   \n2019-12-31 21:00:00  226.63658   17.525558  241.18921   32.471190  300.06860   \n2019-12-31 22:00:00  245.55606   21.250488  254.05460   59.036255  298.07248   \n2019-12-31 23:00:00  256.60750   28.072480  267.27368   69.775130  306.86990   \n\ndistrict             Kishorganj    Kushtia  Lakshmipur  Madaripur  Mymensingh  \\\ntime                                                                            \n2019-01-01 00:00:00  328.570430  319.63547   332.24146  316.97495  303.690060   \n2019-01-01 01:00:00  321.340200  321.70984   334.65384  317.12110  297.645970   \n2019-01-01 02:00:00  318.012820  325.61970   337.16635  323.74615  290.224850   \n2019-01-01 03:00:00  306.869900  328.57043   338.74950  328.57043  280.619660   \n2019-01-01 04:00:00  321.340200  334.53668   347.47120  338.74950  296.565060   \n...                         ...        ...         ...        ...         ...   \n2019-12-31 19:00:00   77.471180  275.19443   233.13010  180.00000  115.016890   \n2019-12-31 20:00:00   71.565040  282.80426   229.89910  187.12502   89.999990   \n2019-12-31 21:00:00   18.434952  288.43497   241.38954  206.56505   74.054596   \n2019-12-31 22:00:00   23.962494  290.85446   255.96376  229.08562   74.054596   \n2019-12-31 23:00:00   38.659805  292.83368   265.42610  247.16635   75.379130   \n\ndistrict             ...   Rajshahi    Ramganj  Sarishabari   Satkhira  \\\ntime                 ...                                                 \n2019-01-01 00:00:00  ...  320.71060  326.30994   306.253850  328.57043   \n2019-01-01 01:00:00  ...  323.97263  329.53445   303.690060  330.94543   \n2019-01-01 02:00:00  ...  328.24054  334.79890   300.963750  336.03750   \n2019-01-01 03:00:00  ...  333.43497  336.37064   300.963750  341.56506   \n2019-01-01 04:00:00  ...  340.01690  345.96375   308.157230  343.30075   \n...                  ...        ...        ...          ...        ...   \n2019-12-31 19:00:00  ...  302.90524  243.43495   330.945430  257.73523   \n2019-12-31 20:00:00  ...  309.09387  243.43495   347.471200  255.37914   \n2019-12-31 21:00:00  ...  316.97495  249.14554   360.000000  265.60130   \n2019-12-31 22:00:00  ...  323.74615  262.56860    12.804245  278.74615   \n2019-12-31 23:00:00  ...  326.30994  270.00000    26.565033  286.92752   \n\ndistrict             Shahzadpur     Sherpur  Sirajganj    Tangail      Tongi  \\\ntime                                                                           \n2019-01-01 00:00:00   308.65982  355.030270  310.91437  315.00000  317.29062   \n2019-01-01 01:00:00   306.86990  352.568600  311.18590  315.00000  319.76367   \n2019-01-01 02:00:00   312.87890  352.568600  311.18590  318.81410  321.84277   \n2019-01-01 03:00:00   310.60132  349.695160  313.02510  316.97495  325.49150   \n2019-01-01 04:00:00   319.08563  352.234830  320.52753  324.46234  333.43497   \n...                         ...         ...        ...        ...        ...   \n2019-12-31 19:00:00   222.27368   11.309921  270.00000  209.35776  223.02507   \n2019-12-31 20:00:00   218.65982   40.236343  315.00000  215.53769  234.16235   \n2019-12-31 21:00:00   236.30994   47.121094  341.56506  230.71060  241.18921   \n2019-12-31 22:00:00   263.65982   53.746155  350.53770  264.80557  249.14554   \n2019-12-31 23:00:00   299.74487   53.746155   10.30484  320.19443  265.03027   \n\ndistrict             Tungipara  \ntime                            \n2019-01-01 00:00:00  318.81410  \n2019-01-01 01:00:00  320.90616  \n2019-01-01 02:00:00  323.13013  \n2019-01-01 03:00:00  326.30994  \n2019-01-01 04:00:00  337.61987  \n...                        ...  \n2019-12-31 19:00:00  240.94540  \n2019-12-31 20:00:00  239.93141  \n2019-12-31 21:00:00  248.62938  \n2019-12-31 22:00:00  260.13420  \n2019-12-31 23:00:00  267.51044  \n\n[8760 rows x 30 columns]",
      "text/html": "<div>\n<style scoped>\n    .dataframe tbody tr th:only-of-type {\n        vertical-align: middle;\n    }\n\n    .dataframe tbody tr th {\n        vertical-align: top;\n    }\n\n    .dataframe thead th {\n        text-align: right;\n    }\n</style>\n<table border=\"1\" class=\"dataframe\">\n  <thead>\n    <tr style=\"text-align: right;\">\n      <th>district</th>\n      <th>Barisal</th>\n      <th>Bogra</th>\n      <th>Dhaka</th>\n      <th>Jamalpur</th>\n      <th>Jessore</th>\n      <th>Kishorganj</th>\n      <th>Kushtia</th>\n      <th>Lakshmipur</th>\n      <th>Madaripur</th>\n      <th>Mymensingh</th>\n      <th>...</th>\n      <th>Rajshahi</th>\n      <th>Ramganj</th>\n      <th>Sarishabari</th>\n      <th>Satkhira</th>\n      <th>Shahzadpur</th>\n      <th>Sherpur</th>\n      <th>Sirajganj</th>\n      <th>Tangail</th>\n      <th>Tongi</th>\n      <th>Tungipara</th>\n    </tr>\n    <tr>\n      <th>time</th>\n      <th></th>\n      <th></th>\n      <th></th>\n      <th></th>\n      <th></th>\n      <th></th>\n      <th></th>\n      <th></th>\n      <th></th>\n      <th></th>\n      <th></th>\n      <th></th>\n      <th></th>\n      <th></th>\n      <th></th>\n      <th></th>\n      <th></th>\n      <th></th>\n      <th></th>\n      <th></th>\n      <th></th>\n    </tr>\n  </thead>\n  <tbody>\n    <tr>\n      <th>2019-01-01 00:00:00</th>\n      <td>326.30994</td>\n      <td>315.000000</td>\n      <td>308.65982</td>\n      <td>295.201100</td>\n      <td>326.97614</td>\n      <td>328.570430</td>\n      <td>319.63547</td>\n      <td>332.24146</td>\n      <td>316.97495</td>\n      <td>303.690060</td>\n      <td>...</td>\n      <td>320.71060</td>\n      <td>326.30994</td>\n      <td>306.253850</td>\n      <td>328.57043</td>\n      <td>308.65982</td>\n      <td>355.030270</td>\n      <td>310.91437</td>\n      <td>315.00000</td>\n      <td>317.29062</td>\n      <td>318.81410</td>\n    </tr>\n    <tr>\n      <th>2019-01-01 01:00:00</th>\n      <td>322.59467</td>\n      <td>315.000000</td>\n      <td>308.15723</td>\n      <td>289.440030</td>\n      <td>330.25513</td>\n      <td>321.340200</td>\n      <td>321.70984</td>\n      <td>334.65384</td>\n      <td>317.12110</td>\n      <td>297.645970</td>\n      <td>...</td>\n      <td>323.97263</td>\n      <td>329.53445</td>\n      <td>303.690060</td>\n      <td>330.94543</td>\n      <td>306.86990</td>\n      <td>352.568600</td>\n      <td>311.18590</td>\n      <td>315.00000</td>\n      <td>319.76367</td>\n      <td>320.90616</td>\n    </tr>\n    <tr>\n      <th>2019-01-01 02:00:00</th>\n      <td>327.09480</td>\n      <td>320.527530</td>\n      <td>312.70940</td>\n      <td>286.389560</td>\n      <td>333.43497</td>\n      <td>318.012820</td>\n      <td>325.61970</td>\n      <td>337.16635</td>\n      <td>323.74615</td>\n      <td>290.224850</td>\n      <td>...</td>\n      <td>328.24054</td>\n      <td>334.79890</td>\n      <td>300.963750</td>\n      <td>336.03750</td>\n      <td>312.87890</td>\n      <td>352.568600</td>\n      <td>311.18590</td>\n      <td>318.81410</td>\n      <td>321.84277</td>\n      <td>323.13013</td>\n    </tr>\n    <tr>\n      <th>2019-01-01 03:00:00</th>\n      <td>327.99463</td>\n      <td>320.906160</td>\n      <td>315.00000</td>\n      <td>281.309940</td>\n      <td>335.77228</td>\n      <td>306.869900</td>\n      <td>328.57043</td>\n      <td>338.74950</td>\n      <td>328.57043</td>\n      <td>280.619660</td>\n      <td>...</td>\n      <td>333.43497</td>\n      <td>336.37064</td>\n      <td>300.963750</td>\n      <td>341.56506</td>\n      <td>310.60132</td>\n      <td>349.695160</td>\n      <td>313.02510</td>\n      <td>316.97495</td>\n      <td>325.49150</td>\n      <td>326.30994</td>\n    </tr>\n    <tr>\n      <th>2019-01-01 04:00:00</th>\n      <td>333.43497</td>\n      <td>328.570430</td>\n      <td>326.30994</td>\n      <td>285.945400</td>\n      <td>342.34988</td>\n      <td>321.340200</td>\n      <td>334.53668</td>\n      <td>347.47120</td>\n      <td>338.74950</td>\n      <td>296.565060</td>\n      <td>...</td>\n      <td>340.01690</td>\n      <td>345.96375</td>\n      <td>308.157230</td>\n      <td>343.30075</td>\n      <td>319.08563</td>\n      <td>352.234830</td>\n      <td>320.52753</td>\n      <td>324.46234</td>\n      <td>333.43497</td>\n      <td>337.61987</td>\n    </tr>\n    <tr>\n      <th>...</th>\n      <td>...</td>\n      <td>...</td>\n      <td>...</td>\n      <td>...</td>\n      <td>...</td>\n      <td>...</td>\n      <td>...</td>\n      <td>...</td>\n      <td>...</td>\n      <td>...</td>\n      <td>...</td>\n      <td>...</td>\n      <td>...</td>\n      <td>...</td>\n      <td>...</td>\n      <td>...</td>\n      <td>...</td>\n      <td>...</td>\n      <td>...</td>\n      <td>...</td>\n      <td>...</td>\n    </tr>\n    <tr>\n      <th>2019-12-31 19:00:00</th>\n      <td>203.19860</td>\n      <td>8.130096</td>\n      <td>223.36343</td>\n      <td>270.000000</td>\n      <td>303.69006</td>\n      <td>77.471180</td>\n      <td>275.19443</td>\n      <td>233.13010</td>\n      <td>180.00000</td>\n      <td>115.016890</td>\n      <td>...</td>\n      <td>302.90524</td>\n      <td>243.43495</td>\n      <td>330.945430</td>\n      <td>257.73523</td>\n      <td>222.27368</td>\n      <td>11.309921</td>\n      <td>270.00000</td>\n      <td>209.35776</td>\n      <td>223.02507</td>\n      <td>240.94540</td>\n    </tr>\n    <tr>\n      <th>2019-12-31 20:00:00</th>\n      <td>209.05461</td>\n      <td>15.945404</td>\n      <td>231.34020</td>\n      <td>360.000000</td>\n      <td>304.38034</td>\n      <td>71.565040</td>\n      <td>282.80426</td>\n      <td>229.89910</td>\n      <td>187.12502</td>\n      <td>89.999990</td>\n      <td>...</td>\n      <td>309.09387</td>\n      <td>243.43495</td>\n      <td>347.471200</td>\n      <td>255.37914</td>\n      <td>218.65982</td>\n      <td>40.236343</td>\n      <td>315.00000</td>\n      <td>215.53769</td>\n      <td>234.16235</td>\n      <td>239.93141</td>\n    </tr>\n    <tr>\n      <th>2019-12-31 21:00:00</th>\n      <td>226.63658</td>\n      <td>17.525558</td>\n      <td>241.18921</td>\n      <td>32.471190</td>\n      <td>300.06860</td>\n      <td>18.434952</td>\n      <td>288.43497</td>\n      <td>241.38954</td>\n      <td>206.56505</td>\n      <td>74.054596</td>\n      <td>...</td>\n      <td>316.97495</td>\n      <td>249.14554</td>\n      <td>360.000000</td>\n      <td>265.60130</td>\n      <td>236.30994</td>\n      <td>47.121094</td>\n      <td>341.56506</td>\n      <td>230.71060</td>\n      <td>241.18921</td>\n      <td>248.62938</td>\n    </tr>\n    <tr>\n      <th>2019-12-31 22:00:00</th>\n      <td>245.55606</td>\n      <td>21.250488</td>\n      <td>254.05460</td>\n      <td>59.036255</td>\n      <td>298.07248</td>\n      <td>23.962494</td>\n      <td>290.85446</td>\n      <td>255.96376</td>\n      <td>229.08562</td>\n      <td>74.054596</td>\n      <td>...</td>\n      <td>323.74615</td>\n      <td>262.56860</td>\n      <td>12.804245</td>\n      <td>278.74615</td>\n      <td>263.65982</td>\n      <td>53.746155</td>\n      <td>350.53770</td>\n      <td>264.80557</td>\n      <td>249.14554</td>\n      <td>260.13420</td>\n    </tr>\n    <tr>\n      <th>2019-12-31 23:00:00</th>\n      <td>256.60750</td>\n      <td>28.072480</td>\n      <td>267.27368</td>\n      <td>69.775130</td>\n      <td>306.86990</td>\n      <td>38.659805</td>\n      <td>292.83368</td>\n      <td>265.42610</td>\n      <td>247.16635</td>\n      <td>75.379130</td>\n      <td>...</td>\n      <td>326.30994</td>\n      <td>270.00000</td>\n      <td>26.565033</td>\n      <td>286.92752</td>\n      <td>299.74487</td>\n      <td>53.746155</td>\n      <td>10.30484</td>\n      <td>320.19443</td>\n      <td>265.03027</td>\n      <td>267.51044</td>\n    </tr>\n  </tbody>\n</table>\n<p>8760 rows × 30 columns</p>\n</div>"
     },
     "execution_count": 18,
     "metadata": {},
     "output_type": "execute_result"
    }
   ],
   "source": [
    "wind_direction_10m"
   ],
   "metadata": {
    "collapsed": false,
    "pycharm": {
     "name": "#%%\n"
    }
   }
  },
  {
   "cell_type": "code",
   "execution_count": 19,
   "outputs": [
    {
     "data": {
      "text/plain": "district               Barisal      Bogra      Dhaka   Jamalpur    Jessore  \\\ntime                                                                         \n2019-01-01 00:00:00  299.50073  286.42932  289.25930  271.54816  314.23610   \n2019-01-01 01:00:00  302.61926  289.25930  292.86450  273.71530  312.76883   \n2019-01-01 02:00:00  305.09583  292.71442  296.84050  276.49933  312.06433   \n2019-01-01 03:00:00  306.99527  294.69156  299.96220  280.61966  311.76030   \n2019-01-01 04:00:00  309.95755  298.42120  302.63750  283.69006  314.30972   \n...                        ...        ...        ...        ...        ...   \n2019-12-31 19:00:00  217.38145  169.11447  203.67053  171.86990  222.43623   \n2019-12-31 20:00:00  214.21570  173.65980  202.16635  176.09950  216.65611   \n2019-12-31 21:00:00  214.55438  177.87890  202.71442  182.48955  215.65533   \n2019-12-31 22:00:00  215.93350  180.00000  203.42870  188.58362  214.21570   \n2019-12-31 23:00:00  217.12607  181.63658  204.07550  194.50017  216.20946   \n\ndistrict             Kishorganj    Kushtia  Lakshmipur  Madaripur  Mymensingh  \\\ntime                                                                            \n2019-01-01 00:00:00   270.62274  305.65533   288.03430  296.56506   266.94714   \n2019-01-01 01:00:00   272.48956  305.26303   291.44775  299.74487   267.76883   \n2019-01-01 02:00:00   273.81410  305.79742   295.13293  302.81137   270.00000   \n2019-01-01 03:00:00   275.77432  307.04248   297.99716  305.18875   272.14758   \n2019-01-01 04:00:00   278.21920  309.25940   302.47120  308.31310   274.39870   \n...                         ...        ...         ...        ...         ...   \n2019-12-31 19:00:00   201.92960  190.88553   219.04590  212.27565   177.70940   \n2019-12-31 20:00:00   202.03622  195.42216   216.02737  208.14160   181.06091   \n2019-12-31 21:00:00   203.19860  198.97041   214.66730  207.78392   187.00127   \n2019-12-31 22:00:00   204.88742  198.92465   215.19751  209.30220   192.99461   \n2019-12-31 23:00:00   205.88028  196.69925   215.72740  212.05737   197.94940   \n\ndistrict             ...   Rajshahi    Ramganj  Sarishabari   Satkhira  \\\ntime                 ...                                                 \n2019-01-01 00:00:00  ...  304.95468  284.64737    279.09027  317.60257   \n2019-01-01 01:00:00  ...  304.74880  287.42987    282.14430  316.29218   \n2019-01-01 02:00:00  ...  305.15887  291.68230    285.85193  315.85510   \n2019-01-01 03:00:00  ...  306.31750  295.13293    288.85315  315.00000   \n2019-01-01 04:00:00  ...  309.15110  299.59230    292.41614  317.38596   \n...                  ...        ...        ...          ...        ...   \n2019-12-31 19:00:00  ...  186.34020  215.83765    171.38435  222.87890   \n2019-12-31 20:00:00  ...  183.01279  213.14700    174.80557  220.52512   \n2019-12-31 21:00:00  ...  185.44034  212.15230    180.00000  222.13760   \n2019-12-31 22:00:00  ...  184.39871  212.96940    185.85602  224.55586   \n2019-12-31 23:00:00  ...  187.85332  214.27115    190.30484  230.04245   \n\ndistrict             Shahzadpur    Sherpur  Sirajganj    Tangail      Tongi  \\\ntime                                                                          \n2019-01-01 00:00:00   292.86450  267.22980  286.03995  285.66815  283.87753   \n2019-01-01 01:00:00   295.76935  269.13196  289.04663  289.87220  288.43497   \n2019-01-01 02:00:00   298.56583  270.00000  292.47943  292.95410  292.03625   \n2019-01-01 03:00:00   300.59998  273.27050  295.26312  296.04180  295.48920   \n2019-01-01 04:00:00   302.55000  275.96448  297.83807  298.33914  298.33914   \n...                         ...        ...        ...        ...        ...   \n2019-12-31 19:00:00   181.43210  164.74487  173.65980  185.59933  197.44719   \n2019-12-31 20:00:00   186.34020  164.74487  180.00000  189.95062  198.65788   \n2019-12-31 21:00:00   191.30994  168.02386  186.48308  194.25003  200.70905   \n2019-12-31 22:00:00   194.03624  174.28941  191.30994  196.92752  201.57130   \n2019-12-31 23:00:00   196.96616  181.24536  194.79677  199.14813  202.57414   \n\ndistrict             Tungipara  \ntime                            \n2019-01-01 00:00:00  304.93933  \n2019-01-01 01:00:00  306.49130  \n2019-01-01 02:00:00  307.98352  \n2019-01-01 03:00:00  308.29016  \n2019-01-01 04:00:00  311.13452  \n...                        ...  \n2019-12-31 19:00:00  215.46336  \n2019-12-31 20:00:00  211.87960  \n2019-12-31 21:00:00  212.00539  \n2019-12-31 22:00:00  213.83511  \n2019-12-31 23:00:00  217.78574  \n\n[8760 rows x 30 columns]",
      "text/html": "<div>\n<style scoped>\n    .dataframe tbody tr th:only-of-type {\n        vertical-align: middle;\n    }\n\n    .dataframe tbody tr th {\n        vertical-align: top;\n    }\n\n    .dataframe thead th {\n        text-align: right;\n    }\n</style>\n<table border=\"1\" class=\"dataframe\">\n  <thead>\n    <tr style=\"text-align: right;\">\n      <th>district</th>\n      <th>Barisal</th>\n      <th>Bogra</th>\n      <th>Dhaka</th>\n      <th>Jamalpur</th>\n      <th>Jessore</th>\n      <th>Kishorganj</th>\n      <th>Kushtia</th>\n      <th>Lakshmipur</th>\n      <th>Madaripur</th>\n      <th>Mymensingh</th>\n      <th>...</th>\n      <th>Rajshahi</th>\n      <th>Ramganj</th>\n      <th>Sarishabari</th>\n      <th>Satkhira</th>\n      <th>Shahzadpur</th>\n      <th>Sherpur</th>\n      <th>Sirajganj</th>\n      <th>Tangail</th>\n      <th>Tongi</th>\n      <th>Tungipara</th>\n    </tr>\n    <tr>\n      <th>time</th>\n      <th></th>\n      <th></th>\n      <th></th>\n      <th></th>\n      <th></th>\n      <th></th>\n      <th></th>\n      <th></th>\n      <th></th>\n      <th></th>\n      <th></th>\n      <th></th>\n      <th></th>\n      <th></th>\n      <th></th>\n      <th></th>\n      <th></th>\n      <th></th>\n      <th></th>\n      <th></th>\n      <th></th>\n    </tr>\n  </thead>\n  <tbody>\n    <tr>\n      <th>2019-01-01 00:00:00</th>\n      <td>299.50073</td>\n      <td>286.42932</td>\n      <td>289.25930</td>\n      <td>271.54816</td>\n      <td>314.23610</td>\n      <td>270.62274</td>\n      <td>305.65533</td>\n      <td>288.03430</td>\n      <td>296.56506</td>\n      <td>266.94714</td>\n      <td>...</td>\n      <td>304.95468</td>\n      <td>284.64737</td>\n      <td>279.09027</td>\n      <td>317.60257</td>\n      <td>292.86450</td>\n      <td>267.22980</td>\n      <td>286.03995</td>\n      <td>285.66815</td>\n      <td>283.87753</td>\n      <td>304.93933</td>\n    </tr>\n    <tr>\n      <th>2019-01-01 01:00:00</th>\n      <td>302.61926</td>\n      <td>289.25930</td>\n      <td>292.86450</td>\n      <td>273.71530</td>\n      <td>312.76883</td>\n      <td>272.48956</td>\n      <td>305.26303</td>\n      <td>291.44775</td>\n      <td>299.74487</td>\n      <td>267.76883</td>\n      <td>...</td>\n      <td>304.74880</td>\n      <td>287.42987</td>\n      <td>282.14430</td>\n      <td>316.29218</td>\n      <td>295.76935</td>\n      <td>269.13196</td>\n      <td>289.04663</td>\n      <td>289.87220</td>\n      <td>288.43497</td>\n      <td>306.49130</td>\n    </tr>\n    <tr>\n      <th>2019-01-01 02:00:00</th>\n      <td>305.09583</td>\n      <td>292.71442</td>\n      <td>296.84050</td>\n      <td>276.49933</td>\n      <td>312.06433</td>\n      <td>273.81410</td>\n      <td>305.79742</td>\n      <td>295.13293</td>\n      <td>302.81137</td>\n      <td>270.00000</td>\n      <td>...</td>\n      <td>305.15887</td>\n      <td>291.68230</td>\n      <td>285.85193</td>\n      <td>315.85510</td>\n      <td>298.56583</td>\n      <td>270.00000</td>\n      <td>292.47943</td>\n      <td>292.95410</td>\n      <td>292.03625</td>\n      <td>307.98352</td>\n    </tr>\n    <tr>\n      <th>2019-01-01 03:00:00</th>\n      <td>306.99527</td>\n      <td>294.69156</td>\n      <td>299.96220</td>\n      <td>280.61966</td>\n      <td>311.76030</td>\n      <td>275.77432</td>\n      <td>307.04248</td>\n      <td>297.99716</td>\n      <td>305.18875</td>\n      <td>272.14758</td>\n      <td>...</td>\n      <td>306.31750</td>\n      <td>295.13293</td>\n      <td>288.85315</td>\n      <td>315.00000</td>\n      <td>300.59998</td>\n      <td>273.27050</td>\n      <td>295.26312</td>\n      <td>296.04180</td>\n      <td>295.48920</td>\n      <td>308.29016</td>\n    </tr>\n    <tr>\n      <th>2019-01-01 04:00:00</th>\n      <td>309.95755</td>\n      <td>298.42120</td>\n      <td>302.63750</td>\n      <td>283.69006</td>\n      <td>314.30972</td>\n      <td>278.21920</td>\n      <td>309.25940</td>\n      <td>302.47120</td>\n      <td>308.31310</td>\n      <td>274.39870</td>\n      <td>...</td>\n      <td>309.15110</td>\n      <td>299.59230</td>\n      <td>292.41614</td>\n      <td>317.38596</td>\n      <td>302.55000</td>\n      <td>275.96448</td>\n      <td>297.83807</td>\n      <td>298.33914</td>\n      <td>298.33914</td>\n      <td>311.13452</td>\n    </tr>\n    <tr>\n      <th>...</th>\n      <td>...</td>\n      <td>...</td>\n      <td>...</td>\n      <td>...</td>\n      <td>...</td>\n      <td>...</td>\n      <td>...</td>\n      <td>...</td>\n      <td>...</td>\n      <td>...</td>\n      <td>...</td>\n      <td>...</td>\n      <td>...</td>\n      <td>...</td>\n      <td>...</td>\n      <td>...</td>\n      <td>...</td>\n      <td>...</td>\n      <td>...</td>\n      <td>...</td>\n      <td>...</td>\n    </tr>\n    <tr>\n      <th>2019-12-31 19:00:00</th>\n      <td>217.38145</td>\n      <td>169.11447</td>\n      <td>203.67053</td>\n      <td>171.86990</td>\n      <td>222.43623</td>\n      <td>201.92960</td>\n      <td>190.88553</td>\n      <td>219.04590</td>\n      <td>212.27565</td>\n      <td>177.70940</td>\n      <td>...</td>\n      <td>186.34020</td>\n      <td>215.83765</td>\n      <td>171.38435</td>\n      <td>222.87890</td>\n      <td>181.43210</td>\n      <td>164.74487</td>\n      <td>173.65980</td>\n      <td>185.59933</td>\n      <td>197.44719</td>\n      <td>215.46336</td>\n    </tr>\n    <tr>\n      <th>2019-12-31 20:00:00</th>\n      <td>214.21570</td>\n      <td>173.65980</td>\n      <td>202.16635</td>\n      <td>176.09950</td>\n      <td>216.65611</td>\n      <td>202.03622</td>\n      <td>195.42216</td>\n      <td>216.02737</td>\n      <td>208.14160</td>\n      <td>181.06091</td>\n      <td>...</td>\n      <td>183.01279</td>\n      <td>213.14700</td>\n      <td>174.80557</td>\n      <td>220.52512</td>\n      <td>186.34020</td>\n      <td>164.74487</td>\n      <td>180.00000</td>\n      <td>189.95062</td>\n      <td>198.65788</td>\n      <td>211.87960</td>\n    </tr>\n    <tr>\n      <th>2019-12-31 21:00:00</th>\n      <td>214.55438</td>\n      <td>177.87890</td>\n      <td>202.71442</td>\n      <td>182.48955</td>\n      <td>215.65533</td>\n      <td>203.19860</td>\n      <td>198.97041</td>\n      <td>214.66730</td>\n      <td>207.78392</td>\n      <td>187.00127</td>\n      <td>...</td>\n      <td>185.44034</td>\n      <td>212.15230</td>\n      <td>180.00000</td>\n      <td>222.13760</td>\n      <td>191.30994</td>\n      <td>168.02386</td>\n      <td>186.48308</td>\n      <td>194.25003</td>\n      <td>200.70905</td>\n      <td>212.00539</td>\n    </tr>\n    <tr>\n      <th>2019-12-31 22:00:00</th>\n      <td>215.93350</td>\n      <td>180.00000</td>\n      <td>203.42870</td>\n      <td>188.58362</td>\n      <td>214.21570</td>\n      <td>204.88742</td>\n      <td>198.92465</td>\n      <td>215.19751</td>\n      <td>209.30220</td>\n      <td>192.99461</td>\n      <td>...</td>\n      <td>184.39871</td>\n      <td>212.96940</td>\n      <td>185.85602</td>\n      <td>224.55586</td>\n      <td>194.03624</td>\n      <td>174.28941</td>\n      <td>191.30994</td>\n      <td>196.92752</td>\n      <td>201.57130</td>\n      <td>213.83511</td>\n    </tr>\n    <tr>\n      <th>2019-12-31 23:00:00</th>\n      <td>217.12607</td>\n      <td>181.63658</td>\n      <td>204.07550</td>\n      <td>194.50017</td>\n      <td>216.20946</td>\n      <td>205.88028</td>\n      <td>196.69925</td>\n      <td>215.72740</td>\n      <td>212.05737</td>\n      <td>197.94940</td>\n      <td>...</td>\n      <td>187.85332</td>\n      <td>214.27115</td>\n      <td>190.30484</td>\n      <td>230.04245</td>\n      <td>196.96616</td>\n      <td>181.24536</td>\n      <td>194.79677</td>\n      <td>199.14813</td>\n      <td>202.57414</td>\n      <td>217.78574</td>\n    </tr>\n  </tbody>\n</table>\n<p>8760 rows × 30 columns</p>\n</div>"
     },
     "execution_count": 19,
     "metadata": {},
     "output_type": "execute_result"
    }
   ],
   "source": [
    "wind_direction_700m"
   ],
   "metadata": {
    "collapsed": false,
    "pycharm": {
     "name": "#%%\n"
    }
   }
  },
  {
   "cell_type": "code",
   "execution_count": 20,
   "outputs": [],
   "source": [
    "# wind_dir_10m_bd = wind_direction_10m.stack().droplevel(1)\n",
    "# wind_dir_100m_bd = wind_direction_100m.stack().droplevel(1)\n",
    "# wind_dir_10m_bd"
   ],
   "metadata": {
    "collapsed": false,
    "pycharm": {
     "name": "#%%\n"
    }
   }
  },
  {
   "cell_type": "markdown",
   "source": [
    "### Linear statistics won't work for circular data like wind direction, so we will use circular statistics"
   ],
   "metadata": {
    "collapsed": false,
    "pycharm": {
     "name": "#%% md\n"
    }
   }
  },
  {
   "cell_type": "code",
   "execution_count": 21,
   "outputs": [
    {
     "data": {
      "text/plain": "<Quantity 359.5>",
      "text/latex": "$359.5 \\; \\mathrm{}$"
     },
     "execution_count": 21,
     "metadata": {},
     "output_type": "execute_result"
    }
   ],
   "source": [
    "import numpy as np\n",
    "\n",
    "from astropy.stats import circmean\n",
    "from astropy import units as u\n",
    "\n",
    "def circular_mean(data):\n",
    "    # data = np.array([51, 67, 40, 109, 31, 358])\n",
    "    # data = np.array([2, 3, 40, 339, 352, 358])\n",
    "    return (circmean(data*u.deg)/u.deg+360)%360\n",
    "\n",
    "data = np.array([1,358])\n",
    "circular_mean(data)"
   ],
   "metadata": {
    "collapsed": false,
    "pycharm": {
     "name": "#%%\n"
    }
   }
  },
  {
   "cell_type": "code",
   "execution_count": 22,
   "outputs": [],
   "source": [
    "monthly_direction_10m = wind_direction_10m.resample('M').apply(lambda x: circular_mean(x.values))\n",
    "monthly_direction_100m = wind_direction_100m.resample('M').apply(lambda x: circular_mean(x.values))\n",
    "monthly_direction_500m = wind_direction_500m.resample('M').apply(lambda x: circular_mean(x.values))\n",
    "monthly_direction_700m = wind_direction_700m.resample('M').apply(lambda x: circular_mean(x.values))"
   ],
   "metadata": {
    "collapsed": false,
    "pycharm": {
     "name": "#%%\n"
    }
   }
  },
  {
   "cell_type": "code",
   "execution_count": 23,
   "outputs": [
    {
     "data": {
      "text/plain": "time\n2019-01-31     326.4141048941575\n2019-02-28    311.06192609062043\n2019-03-31    234.36424105966233\n2019-04-30     141.5042698526571\n2019-05-31    168.27150003685824\n2019-06-30    150.81651817905924\n2019-07-31    155.89573116678673\n2019-08-31     137.3709370030033\n2019-09-30    135.75442706500803\n2019-10-31    342.74523025995785\n2019-11-30    340.74677901813607\n2019-12-31    341.15911771114787\ndtype: object"
     },
     "execution_count": 23,
     "metadata": {},
     "output_type": "execute_result"
    }
   ],
   "source": [
    "monthly_direction_10m"
   ],
   "metadata": {
    "collapsed": false,
    "pycharm": {
     "name": "#%%\n"
    }
   }
  },
  {
   "cell_type": "code",
   "execution_count": 24,
   "outputs": [
    {
     "data": {
      "text/plain": "time\n2019-01-31    271.24242037083354\n2019-02-28    274.06197099752717\n2019-03-31    283.90079570286787\n2019-04-30     281.4175006696936\n2019-05-31      281.255189469533\n2019-06-30      276.483358552905\n2019-07-31    201.60995310008644\n2019-08-31     135.3695411693957\n2019-09-30     177.2240702237383\n2019-10-31     249.1590757179073\n2019-11-30    279.99312355946904\n2019-12-31     279.2406250362859\ndtype: object"
     },
     "execution_count": 24,
     "metadata": {},
     "output_type": "execute_result"
    }
   ],
   "source": [
    "monthly_direction_700m"
   ],
   "metadata": {
    "collapsed": false,
    "pycharm": {
     "name": "#%%\n"
    }
   }
  },
  {
   "cell_type": "markdown",
   "source": [
    "### We can observe that wind direction with 10 meter height is consistent with seasonal wind direction of Bangladesh but not so much for height of 700 meter"
   ],
   "metadata": {
    "collapsed": false,
    "pycharm": {
     "name": "#%% md\n"
    }
   }
  },
  {
   "cell_type": "code",
   "execution_count": 25,
   "outputs": [
    {
     "data": {
      "text/plain": "0.9828151965085434"
     },
     "execution_count": 25,
     "metadata": {},
     "output_type": "execute_result"
    }
   ],
   "source": [
    "# monthly_direction_10m.astype(int).corr(monthly_direction_100m.astype(int))\n",
    "# monthly_direction_10m.astype(int).corr(monthly_direction_500m.astype(int))\n",
    "monthly_direction_500m.astype(int).corr(monthly_direction_700m.astype(int))"
   ],
   "metadata": {
    "collapsed": false,
    "pycharm": {
     "name": "#%%\n"
    }
   }
  },
  {
   "cell_type": "code",
   "execution_count": 26,
   "outputs": [],
   "source": [
    "# import seaborn as sns\n",
    "#\n",
    "# sns.set()\n",
    "# sns.pointplot(data=monthly_direction_10m)"
   ],
   "metadata": {
    "collapsed": false,
    "pycharm": {
     "name": "#%%\n"
    }
   }
  },
  {
   "cell_type": "code",
   "execution_count": 27,
   "outputs": [],
   "source": [
    "wind_speed_10m = get_factor_data(meteo_data,'Wind Speed [10 m]')\n",
    "wind_speed_100m = get_factor_data(meteo_data,'Wind Speed [100 m]')\n",
    "wind_speed_500m = get_factor_data(meteo_data,'Wind Speed [500 mb]')\n",
    "wind_speed_700m = get_factor_data(meteo_data,'Wind Speed [700 mb]')"
   ],
   "metadata": {
    "collapsed": false,
    "pycharm": {
     "name": "#%%\n"
    }
   }
  },
  {
   "cell_type": "code",
   "execution_count": 28,
   "outputs": [
    {
     "data": {
      "text/plain": "count    262800.000000\nmean          8.509030\nstd           4.393377\nmin           0.000000\n25%           5.506941\n50%           7.695920\n75%          10.703569\nmax          45.950440\ndtype: float64"
     },
     "execution_count": 28,
     "metadata": {},
     "output_type": "execute_result"
    }
   ],
   "source": [
    "wind_speed_10m.stack().describe()"
   ],
   "metadata": {
    "collapsed": false,
    "pycharm": {
     "name": "#%%\n"
    }
   }
  },
  {
   "cell_type": "code",
   "execution_count": 29,
   "outputs": [
    {
     "data": {
      "text/plain": "count    262800.000000\nmean         33.256230\nstd          18.103324\nmin           0.000000\n25%          19.376562\n50%          30.955812\n75%          44.250720\nmax         114.408090\ndtype: float64"
     },
     "execution_count": 29,
     "metadata": {},
     "output_type": "execute_result"
    }
   ],
   "source": [
    "wind_speed_700m.stack().describe()"
   ],
   "metadata": {
    "collapsed": false,
    "pycharm": {
     "name": "#%%\n"
    }
   }
  }
 ],
 "metadata": {
  "kernelspec": {
   "display_name": "Python 3",
   "language": "python",
   "name": "python3"
  },
  "language_info": {
   "codemirror_mode": {
    "name": "ipython",
    "version": 2
   },
   "file_extension": ".py",
   "mimetype": "text/x-python",
   "name": "python",
   "nbconvert_exporter": "python",
   "pygments_lexer": "ipython2",
   "version": "2.7.6"
  }
 },
 "nbformat": 4,
 "nbformat_minor": 0
}