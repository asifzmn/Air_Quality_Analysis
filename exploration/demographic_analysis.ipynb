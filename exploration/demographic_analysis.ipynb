{
 "cells": [
  {
   "cell_type": "code",
   "metadata": {
    "collapsed": true,
    "ExecuteTime": {
     "end_time": "2025-09-11T05:10:53.879978Z",
     "start_time": "2025-09-11T05:10:53.862168Z"
    }
   },
   "source": [
    "import shapefile\n",
    "import numpy as np\n",
    "import pandas as pd\n",
    "from scipy import stats\n",
    "import plotly.graph_objects as go\n",
    "import plotly.express as px\n",
    "import plotly.io as pio\n",
    "\n",
    "# Set the default template to 'plotly_white'\n",
    "pio.templates.default = \"plotly_white\""
   ],
   "outputs": [],
   "execution_count": 5
  },
  {
   "cell_type": "code",
   "execution_count": 18,
   "outputs": [],
   "source": [
    "\n",
    "def read_shaepfile_bd_forst():\n",
    "    sf = shapefile.Reader(\"/home/asif/Desktop/AQ/bgd_phy_forestnaturalparks_lged.zip\")\n",
    "    print(sf.shapeType==shapefile.POLYGON)\n",
    "\n",
    "    shapes = sf.shapes()\n",
    "    print(len(shapes))\n",
    "    print(shapes[:5])\n",
    "\n",
    "    s = sf.shape(0)\n",
    "    print(s)\n",
    "\n",
    "    print(['%.3f' % coord for coord in s.bbox])\n",
    "\n",
    "    print(sf.fields)\n",
    "\n",
    "    for s in shapes[:5]:\n",
    "        print(s.bbox[::-1])\n",
    "\n",
    "    bbox_array = np.array(s.bbox)\n",
    "    lon,lat = bbox_array[[0,2]],bbox_array[[1,3]]\n",
    "    print(lon,lat)\n",
    "\n",
    "# for s1 in shapes:\n",
    "#     for s2 in shapes:\n",
    "#         if s1.bbox[0:2]==s2.bbox[3:4]:\n",
    "#             print(s1,s2)\n",
    "\n",
    "shapes = []"
   ],
   "metadata": {
    "collapsed": false,
    "ExecuteTime": {
     "start_time": "2024-12-20T15:57:38.926147Z",
     "end_time": "2024-12-20T15:57:39.052137Z"
    }
   }
  },
  {
   "cell_type": "code",
   "execution_count": 19,
   "outputs": [
    {
     "data": {
      "application/vnd.plotly.v1+json": {
       "config": {
        "plotlyServerURL": "https://plot.ly"
       },
       "data": [],
       "layout": {
        "height": 900,
        "mapbox": {
         "center": {
          "lat": 24.13,
          "lon": 91.84
         },
         "style": "open-street-map",
         "zoom": 8
        },
        "margin": {
         "b": 0,
         "l": 0,
         "r": 0,
         "t": 0
        },
        "template": {
         "data": {
          "bar": [
           {
            "error_x": {
             "color": "#2a3f5f"
            },
            "error_y": {
             "color": "#2a3f5f"
            },
            "marker": {
             "line": {
              "color": "#E5ECF6",
              "width": 0.5
             }
            },
            "type": "bar"
           }
          ],
          "barpolar": [
           {
            "marker": {
             "line": {
              "color": "#E5ECF6",
              "width": 0.5
             }
            },
            "type": "barpolar"
           }
          ],
          "carpet": [
           {
            "aaxis": {
             "endlinecolor": "#2a3f5f",
             "gridcolor": "white",
             "linecolor": "white",
             "minorgridcolor": "white",
             "startlinecolor": "#2a3f5f"
            },
            "baxis": {
             "endlinecolor": "#2a3f5f",
             "gridcolor": "white",
             "linecolor": "white",
             "minorgridcolor": "white",
             "startlinecolor": "#2a3f5f"
            },
            "type": "carpet"
           }
          ],
          "choropleth": [
           {
            "colorbar": {
             "outlinewidth": 0,
             "ticks": ""
            },
            "type": "choropleth"
           }
          ],
          "contour": [
           {
            "colorbar": {
             "outlinewidth": 0,
             "ticks": ""
            },
            "colorscale": [
             [
              0.0,
              "#0d0887"
             ],
             [
              0.1111111111111111,
              "#46039f"
             ],
             [
              0.2222222222222222,
              "#7201a8"
             ],
             [
              0.3333333333333333,
              "#9c179e"
             ],
             [
              0.4444444444444444,
              "#bd3786"
             ],
             [
              0.5555555555555556,
              "#d8576b"
             ],
             [
              0.6666666666666666,
              "#ed7953"
             ],
             [
              0.7777777777777778,
              "#fb9f3a"
             ],
             [
              0.8888888888888888,
              "#fdca26"
             ],
             [
              1.0,
              "#f0f921"
             ]
            ],
            "type": "contour"
           }
          ],
          "contourcarpet": [
           {
            "colorbar": {
             "outlinewidth": 0,
             "ticks": ""
            },
            "type": "contourcarpet"
           }
          ],
          "heatmap": [
           {
            "colorbar": {
             "outlinewidth": 0,
             "ticks": ""
            },
            "colorscale": [
             [
              0.0,
              "#0d0887"
             ],
             [
              0.1111111111111111,
              "#46039f"
             ],
             [
              0.2222222222222222,
              "#7201a8"
             ],
             [
              0.3333333333333333,
              "#9c179e"
             ],
             [
              0.4444444444444444,
              "#bd3786"
             ],
             [
              0.5555555555555556,
              "#d8576b"
             ],
             [
              0.6666666666666666,
              "#ed7953"
             ],
             [
              0.7777777777777778,
              "#fb9f3a"
             ],
             [
              0.8888888888888888,
              "#fdca26"
             ],
             [
              1.0,
              "#f0f921"
             ]
            ],
            "type": "heatmap"
           }
          ],
          "heatmapgl": [
           {
            "colorbar": {
             "outlinewidth": 0,
             "ticks": ""
            },
            "colorscale": [
             [
              0.0,
              "#0d0887"
             ],
             [
              0.1111111111111111,
              "#46039f"
             ],
             [
              0.2222222222222222,
              "#7201a8"
             ],
             [
              0.3333333333333333,
              "#9c179e"
             ],
             [
              0.4444444444444444,
              "#bd3786"
             ],
             [
              0.5555555555555556,
              "#d8576b"
             ],
             [
              0.6666666666666666,
              "#ed7953"
             ],
             [
              0.7777777777777778,
              "#fb9f3a"
             ],
             [
              0.8888888888888888,
              "#fdca26"
             ],
             [
              1.0,
              "#f0f921"
             ]
            ],
            "type": "heatmapgl"
           }
          ],
          "histogram": [
           {
            "marker": {
             "colorbar": {
              "outlinewidth": 0,
              "ticks": ""
             }
            },
            "type": "histogram"
           }
          ],
          "histogram2d": [
           {
            "colorbar": {
             "outlinewidth": 0,
             "ticks": ""
            },
            "colorscale": [
             [
              0.0,
              "#0d0887"
             ],
             [
              0.1111111111111111,
              "#46039f"
             ],
             [
              0.2222222222222222,
              "#7201a8"
             ],
             [
              0.3333333333333333,
              "#9c179e"
             ],
             [
              0.4444444444444444,
              "#bd3786"
             ],
             [
              0.5555555555555556,
              "#d8576b"
             ],
             [
              0.6666666666666666,
              "#ed7953"
             ],
             [
              0.7777777777777778,
              "#fb9f3a"
             ],
             [
              0.8888888888888888,
              "#fdca26"
             ],
             [
              1.0,
              "#f0f921"
             ]
            ],
            "type": "histogram2d"
           }
          ],
          "histogram2dcontour": [
           {
            "colorbar": {
             "outlinewidth": 0,
             "ticks": ""
            },
            "colorscale": [
             [
              0.0,
              "#0d0887"
             ],
             [
              0.1111111111111111,
              "#46039f"
             ],
             [
              0.2222222222222222,
              "#7201a8"
             ],
             [
              0.3333333333333333,
              "#9c179e"
             ],
             [
              0.4444444444444444,
              "#bd3786"
             ],
             [
              0.5555555555555556,
              "#d8576b"
             ],
             [
              0.6666666666666666,
              "#ed7953"
             ],
             [
              0.7777777777777778,
              "#fb9f3a"
             ],
             [
              0.8888888888888888,
              "#fdca26"
             ],
             [
              1.0,
              "#f0f921"
             ]
            ],
            "type": "histogram2dcontour"
           }
          ],
          "mesh3d": [
           {
            "colorbar": {
             "outlinewidth": 0,
             "ticks": ""
            },
            "type": "mesh3d"
           }
          ],
          "parcoords": [
           {
            "line": {
             "colorbar": {
              "outlinewidth": 0,
              "ticks": ""
             }
            },
            "type": "parcoords"
           }
          ],
          "pie": [
           {
            "automargin": true,
            "type": "pie"
           }
          ],
          "scatter": [
           {
            "marker": {
             "colorbar": {
              "outlinewidth": 0,
              "ticks": ""
             }
            },
            "type": "scatter"
           }
          ],
          "scatter3d": [
           {
            "line": {
             "colorbar": {
              "outlinewidth": 0,
              "ticks": ""
             }
            },
            "marker": {
             "colorbar": {
              "outlinewidth": 0,
              "ticks": ""
             }
            },
            "type": "scatter3d"
           }
          ],
          "scattercarpet": [
           {
            "marker": {
             "colorbar": {
              "outlinewidth": 0,
              "ticks": ""
             }
            },
            "type": "scattercarpet"
           }
          ],
          "scattergeo": [
           {
            "marker": {
             "colorbar": {
              "outlinewidth": 0,
              "ticks": ""
             }
            },
            "type": "scattergeo"
           }
          ],
          "scattergl": [
           {
            "marker": {
             "colorbar": {
              "outlinewidth": 0,
              "ticks": ""
             }
            },
            "type": "scattergl"
           }
          ],
          "scattermapbox": [
           {
            "marker": {
             "colorbar": {
              "outlinewidth": 0,
              "ticks": ""
             }
            },
            "type": "scattermapbox"
           }
          ],
          "scatterpolar": [
           {
            "marker": {
             "colorbar": {
              "outlinewidth": 0,
              "ticks": ""
             }
            },
            "type": "scatterpolar"
           }
          ],
          "scatterpolargl": [
           {
            "marker": {
             "colorbar": {
              "outlinewidth": 0,
              "ticks": ""
             }
            },
            "type": "scatterpolargl"
           }
          ],
          "scatterternary": [
           {
            "marker": {
             "colorbar": {
              "outlinewidth": 0,
              "ticks": ""
             }
            },
            "type": "scatterternary"
           }
          ],
          "surface": [
           {
            "colorbar": {
             "outlinewidth": 0,
             "ticks": ""
            },
            "colorscale": [
             [
              0.0,
              "#0d0887"
             ],
             [
              0.1111111111111111,
              "#46039f"
             ],
             [
              0.2222222222222222,
              "#7201a8"
             ],
             [
              0.3333333333333333,
              "#9c179e"
             ],
             [
              0.4444444444444444,
              "#bd3786"
             ],
             [
              0.5555555555555556,
              "#d8576b"
             ],
             [
              0.6666666666666666,
              "#ed7953"
             ],
             [
              0.7777777777777778,
              "#fb9f3a"
             ],
             [
              0.8888888888888888,
              "#fdca26"
             ],
             [
              1.0,
              "#f0f921"
             ]
            ],
            "type": "surface"
           }
          ],
          "table": [
           {
            "cells": {
             "fill": {
              "color": "#EBF0F8"
             },
             "line": {
              "color": "white"
             }
            },
            "header": {
             "fill": {
              "color": "#C8D4E3"
             },
             "line": {
              "color": "white"
             }
            },
            "type": "table"
           }
          ]
         },
         "layout": {
          "annotationdefaults": {
           "arrowcolor": "#2a3f5f",
           "arrowhead": 0,
           "arrowwidth": 1
          },
          "coloraxis": {
           "colorbar": {
            "outlinewidth": 0,
            "ticks": ""
           }
          },
          "colorscale": {
           "diverging": [
            [
             0,
             "#8e0152"
            ],
            [
             0.1,
             "#c51b7d"
            ],
            [
             0.2,
             "#de77ae"
            ],
            [
             0.3,
             "#f1b6da"
            ],
            [
             0.4,
             "#fde0ef"
            ],
            [
             0.5,
             "#f7f7f7"
            ],
            [
             0.6,
             "#e6f5d0"
            ],
            [
             0.7,
             "#b8e186"
            ],
            [
             0.8,
             "#7fbc41"
            ],
            [
             0.9,
             "#4d9221"
            ],
            [
             1,
             "#276419"
            ]
           ],
           "sequential": [
            [
             0.0,
             "#0d0887"
            ],
            [
             0.1111111111111111,
             "#46039f"
            ],
            [
             0.2222222222222222,
             "#7201a8"
            ],
            [
             0.3333333333333333,
             "#9c179e"
            ],
            [
             0.4444444444444444,
             "#bd3786"
            ],
            [
             0.5555555555555556,
             "#d8576b"
            ],
            [
             0.6666666666666666,
             "#ed7953"
            ],
            [
             0.7777777777777778,
             "#fb9f3a"
            ],
            [
             0.8888888888888888,
             "#fdca26"
            ],
            [
             1.0,
             "#f0f921"
            ]
           ],
           "sequentialminus": [
            [
             0.0,
             "#0d0887"
            ],
            [
             0.1111111111111111,
             "#46039f"
            ],
            [
             0.2222222222222222,
             "#7201a8"
            ],
            [
             0.3333333333333333,
             "#9c179e"
            ],
            [
             0.4444444444444444,
             "#bd3786"
            ],
            [
             0.5555555555555556,
             "#d8576b"
            ],
            [
             0.6666666666666666,
             "#ed7953"
            ],
            [
             0.7777777777777778,
             "#fb9f3a"
            ],
            [
             0.8888888888888888,
             "#fdca26"
            ],
            [
             1.0,
             "#f0f921"
            ]
           ]
          },
          "colorway": [
           "#636efa",
           "#EF553B",
           "#00cc96",
           "#ab63fa",
           "#FFA15A",
           "#19d3f3",
           "#FF6692",
           "#B6E880",
           "#FF97FF",
           "#FECB52"
          ],
          "font": {
           "color": "#2a3f5f"
          },
          "geo": {
           "bgcolor": "white",
           "lakecolor": "white",
           "landcolor": "#E5ECF6",
           "showlakes": true,
           "showland": true,
           "subunitcolor": "white"
          },
          "hoverlabel": {
           "align": "left"
          },
          "hovermode": "closest",
          "mapbox": {
           "style": "light"
          },
          "paper_bgcolor": "white",
          "plot_bgcolor": "#E5ECF6",
          "polar": {
           "angularaxis": {
            "gridcolor": "white",
            "linecolor": "white",
            "ticks": ""
           },
           "bgcolor": "#E5ECF6",
           "radialaxis": {
            "gridcolor": "white",
            "linecolor": "white",
            "ticks": ""
           }
          },
          "scene": {
           "xaxis": {
            "backgroundcolor": "#E5ECF6",
            "gridcolor": "white",
            "gridwidth": 2,
            "linecolor": "white",
            "showbackground": true,
            "ticks": "",
            "zerolinecolor": "white"
           },
           "yaxis": {
            "backgroundcolor": "#E5ECF6",
            "gridcolor": "white",
            "gridwidth": 2,
            "linecolor": "white",
            "showbackground": true,
            "ticks": "",
            "zerolinecolor": "white"
           },
           "zaxis": {
            "backgroundcolor": "#E5ECF6",
            "gridcolor": "white",
            "gridwidth": 2,
            "linecolor": "white",
            "showbackground": true,
            "ticks": "",
            "zerolinecolor": "white"
           }
          },
          "shapedefaults": {
           "line": {
            "color": "#2a3f5f"
           }
          },
          "ternary": {
           "aaxis": {
            "gridcolor": "white",
            "linecolor": "white",
            "ticks": ""
           },
           "baxis": {
            "gridcolor": "white",
            "linecolor": "white",
            "ticks": ""
           },
           "bgcolor": "#E5ECF6",
           "caxis": {
            "gridcolor": "white",
            "linecolor": "white",
            "ticks": ""
           }
          },
          "title": {
           "x": 0.05
          },
          "xaxis": {
           "automargin": true,
           "gridcolor": "white",
           "linecolor": "white",
           "ticks": "",
           "title": {
            "standoff": 15
           },
           "zerolinecolor": "white",
           "zerolinewidth": 2
          },
          "yaxis": {
           "automargin": true,
           "gridcolor": "white",
           "linecolor": "white",
           "ticks": "",
           "title": {
            "standoff": 15
           },
           "zerolinecolor": "white",
           "zerolinewidth": 2
          }
         }
        },
        "width": 900
       }
      },
      "text/html": "<div>\n        \n        \n            <div id=\"1a935827-4742-4415-9014-ba8406e5e998\" class=\"plotly-graph-div\" style=\"height:900px; width:900px;\"></div>\n            <script type=\"text/javascript\">\n                require([\"plotly\"], function(Plotly) {\n                    window.PLOTLYENV=window.PLOTLYENV || {};\n                    \n                if (document.getElementById(\"1a935827-4742-4415-9014-ba8406e5e998\")) {\n                    Plotly.newPlot(\n                        '1a935827-4742-4415-9014-ba8406e5e998',\n                        [],\n                        {\"height\": 900, \"mapbox\": {\"center\": {\"lat\": 24.13, \"lon\": 91.84}, \"style\": \"open-street-map\", \"zoom\": 8}, \"margin\": {\"b\": 0, \"l\": 0, \"r\": 0, \"t\": 0}, \"template\": {\"data\": {\"bar\": [{\"error_x\": {\"color\": \"#2a3f5f\"}, \"error_y\": {\"color\": \"#2a3f5f\"}, \"marker\": {\"line\": {\"color\": \"#E5ECF6\", \"width\": 0.5}}, \"type\": \"bar\"}], \"barpolar\": [{\"marker\": {\"line\": {\"color\": \"#E5ECF6\", \"width\": 0.5}}, \"type\": \"barpolar\"}], \"carpet\": [{\"aaxis\": {\"endlinecolor\": \"#2a3f5f\", \"gridcolor\": \"white\", \"linecolor\": \"white\", \"minorgridcolor\": \"white\", \"startlinecolor\": \"#2a3f5f\"}, \"baxis\": {\"endlinecolor\": \"#2a3f5f\", \"gridcolor\": \"white\", \"linecolor\": \"white\", \"minorgridcolor\": \"white\", \"startlinecolor\": \"#2a3f5f\"}, \"type\": \"carpet\"}], \"choropleth\": [{\"colorbar\": {\"outlinewidth\": 0, \"ticks\": \"\"}, \"type\": \"choropleth\"}], \"contour\": [{\"colorbar\": {\"outlinewidth\": 0, \"ticks\": \"\"}, \"colorscale\": [[0.0, \"#0d0887\"], [0.1111111111111111, \"#46039f\"], [0.2222222222222222, \"#7201a8\"], [0.3333333333333333, \"#9c179e\"], [0.4444444444444444, \"#bd3786\"], [0.5555555555555556, \"#d8576b\"], [0.6666666666666666, \"#ed7953\"], [0.7777777777777778, \"#fb9f3a\"], [0.8888888888888888, \"#fdca26\"], [1.0, \"#f0f921\"]], \"type\": \"contour\"}], \"contourcarpet\": [{\"colorbar\": {\"outlinewidth\": 0, \"ticks\": \"\"}, \"type\": \"contourcarpet\"}], \"heatmap\": [{\"colorbar\": {\"outlinewidth\": 0, \"ticks\": \"\"}, \"colorscale\": [[0.0, \"#0d0887\"], [0.1111111111111111, \"#46039f\"], [0.2222222222222222, \"#7201a8\"], [0.3333333333333333, \"#9c179e\"], [0.4444444444444444, \"#bd3786\"], [0.5555555555555556, \"#d8576b\"], [0.6666666666666666, \"#ed7953\"], [0.7777777777777778, \"#fb9f3a\"], [0.8888888888888888, \"#fdca26\"], [1.0, \"#f0f921\"]], \"type\": \"heatmap\"}], \"heatmapgl\": [{\"colorbar\": {\"outlinewidth\": 0, \"ticks\": \"\"}, \"colorscale\": [[0.0, \"#0d0887\"], [0.1111111111111111, \"#46039f\"], [0.2222222222222222, \"#7201a8\"], [0.3333333333333333, \"#9c179e\"], [0.4444444444444444, \"#bd3786\"], [0.5555555555555556, \"#d8576b\"], [0.6666666666666666, \"#ed7953\"], [0.7777777777777778, \"#fb9f3a\"], [0.8888888888888888, \"#fdca26\"], [1.0, \"#f0f921\"]], \"type\": \"heatmapgl\"}], \"histogram\": [{\"marker\": {\"colorbar\": {\"outlinewidth\": 0, \"ticks\": \"\"}}, \"type\": \"histogram\"}], \"histogram2d\": [{\"colorbar\": {\"outlinewidth\": 0, \"ticks\": \"\"}, \"colorscale\": [[0.0, \"#0d0887\"], [0.1111111111111111, \"#46039f\"], [0.2222222222222222, \"#7201a8\"], [0.3333333333333333, \"#9c179e\"], [0.4444444444444444, \"#bd3786\"], [0.5555555555555556, \"#d8576b\"], [0.6666666666666666, \"#ed7953\"], [0.7777777777777778, \"#fb9f3a\"], [0.8888888888888888, \"#fdca26\"], [1.0, \"#f0f921\"]], \"type\": \"histogram2d\"}], \"histogram2dcontour\": [{\"colorbar\": {\"outlinewidth\": 0, \"ticks\": \"\"}, \"colorscale\": [[0.0, \"#0d0887\"], [0.1111111111111111, \"#46039f\"], [0.2222222222222222, \"#7201a8\"], [0.3333333333333333, \"#9c179e\"], [0.4444444444444444, \"#bd3786\"], [0.5555555555555556, \"#d8576b\"], [0.6666666666666666, \"#ed7953\"], [0.7777777777777778, \"#fb9f3a\"], [0.8888888888888888, \"#fdca26\"], [1.0, \"#f0f921\"]], \"type\": \"histogram2dcontour\"}], \"mesh3d\": [{\"colorbar\": {\"outlinewidth\": 0, \"ticks\": \"\"}, \"type\": \"mesh3d\"}], \"parcoords\": [{\"line\": {\"colorbar\": {\"outlinewidth\": 0, \"ticks\": \"\"}}, \"type\": \"parcoords\"}], \"pie\": [{\"automargin\": true, \"type\": \"pie\"}], \"scatter\": [{\"marker\": {\"colorbar\": {\"outlinewidth\": 0, \"ticks\": \"\"}}, \"type\": \"scatter\"}], \"scatter3d\": [{\"line\": {\"colorbar\": {\"outlinewidth\": 0, \"ticks\": \"\"}}, \"marker\": {\"colorbar\": {\"outlinewidth\": 0, \"ticks\": \"\"}}, \"type\": \"scatter3d\"}], \"scattercarpet\": [{\"marker\": {\"colorbar\": {\"outlinewidth\": 0, \"ticks\": \"\"}}, \"type\": \"scattercarpet\"}], \"scattergeo\": [{\"marker\": {\"colorbar\": {\"outlinewidth\": 0, \"ticks\": \"\"}}, \"type\": \"scattergeo\"}], \"scattergl\": [{\"marker\": {\"colorbar\": {\"outlinewidth\": 0, \"ticks\": \"\"}}, \"type\": \"scattergl\"}], \"scattermapbox\": [{\"marker\": {\"colorbar\": {\"outlinewidth\": 0, \"ticks\": \"\"}}, \"type\": \"scattermapbox\"}], \"scatterpolar\": [{\"marker\": {\"colorbar\": {\"outlinewidth\": 0, \"ticks\": \"\"}}, \"type\": \"scatterpolar\"}], \"scatterpolargl\": [{\"marker\": {\"colorbar\": {\"outlinewidth\": 0, \"ticks\": \"\"}}, \"type\": \"scatterpolargl\"}], \"scatterternary\": [{\"marker\": {\"colorbar\": {\"outlinewidth\": 0, \"ticks\": \"\"}}, \"type\": \"scatterternary\"}], \"surface\": [{\"colorbar\": {\"outlinewidth\": 0, \"ticks\": \"\"}, \"colorscale\": [[0.0, \"#0d0887\"], [0.1111111111111111, \"#46039f\"], [0.2222222222222222, \"#7201a8\"], [0.3333333333333333, \"#9c179e\"], [0.4444444444444444, \"#bd3786\"], [0.5555555555555556, \"#d8576b\"], [0.6666666666666666, \"#ed7953\"], [0.7777777777777778, \"#fb9f3a\"], [0.8888888888888888, \"#fdca26\"], [1.0, \"#f0f921\"]], \"type\": \"surface\"}], \"table\": [{\"cells\": {\"fill\": {\"color\": \"#EBF0F8\"}, \"line\": {\"color\": \"white\"}}, \"header\": {\"fill\": {\"color\": \"#C8D4E3\"}, \"line\": {\"color\": \"white\"}}, \"type\": \"table\"}]}, \"layout\": {\"annotationdefaults\": {\"arrowcolor\": \"#2a3f5f\", \"arrowhead\": 0, \"arrowwidth\": 1}, \"coloraxis\": {\"colorbar\": {\"outlinewidth\": 0, \"ticks\": \"\"}}, \"colorscale\": {\"diverging\": [[0, \"#8e0152\"], [0.1, \"#c51b7d\"], [0.2, \"#de77ae\"], [0.3, \"#f1b6da\"], [0.4, \"#fde0ef\"], [0.5, \"#f7f7f7\"], [0.6, \"#e6f5d0\"], [0.7, \"#b8e186\"], [0.8, \"#7fbc41\"], [0.9, \"#4d9221\"], [1, \"#276419\"]], \"sequential\": [[0.0, \"#0d0887\"], [0.1111111111111111, \"#46039f\"], [0.2222222222222222, \"#7201a8\"], [0.3333333333333333, \"#9c179e\"], [0.4444444444444444, \"#bd3786\"], [0.5555555555555556, \"#d8576b\"], [0.6666666666666666, \"#ed7953\"], [0.7777777777777778, \"#fb9f3a\"], [0.8888888888888888, \"#fdca26\"], [1.0, \"#f0f921\"]], \"sequentialminus\": [[0.0, \"#0d0887\"], [0.1111111111111111, \"#46039f\"], [0.2222222222222222, \"#7201a8\"], [0.3333333333333333, \"#9c179e\"], [0.4444444444444444, \"#bd3786\"], [0.5555555555555556, \"#d8576b\"], [0.6666666666666666, \"#ed7953\"], [0.7777777777777778, \"#fb9f3a\"], [0.8888888888888888, \"#fdca26\"], [1.0, \"#f0f921\"]]}, \"colorway\": [\"#636efa\", \"#EF553B\", \"#00cc96\", \"#ab63fa\", \"#FFA15A\", \"#19d3f3\", \"#FF6692\", \"#B6E880\", \"#FF97FF\", \"#FECB52\"], \"font\": {\"color\": \"#2a3f5f\"}, \"geo\": {\"bgcolor\": \"white\", \"lakecolor\": \"white\", \"landcolor\": \"#E5ECF6\", \"showlakes\": true, \"showland\": true, \"subunitcolor\": \"white\"}, \"hoverlabel\": {\"align\": \"left\"}, \"hovermode\": \"closest\", \"mapbox\": {\"style\": \"light\"}, \"paper_bgcolor\": \"white\", \"plot_bgcolor\": \"#E5ECF6\", \"polar\": {\"angularaxis\": {\"gridcolor\": \"white\", \"linecolor\": \"white\", \"ticks\": \"\"}, \"bgcolor\": \"#E5ECF6\", \"radialaxis\": {\"gridcolor\": \"white\", \"linecolor\": \"white\", \"ticks\": \"\"}}, \"scene\": {\"xaxis\": {\"backgroundcolor\": \"#E5ECF6\", \"gridcolor\": \"white\", \"gridwidth\": 2, \"linecolor\": \"white\", \"showbackground\": true, \"ticks\": \"\", \"zerolinecolor\": \"white\"}, \"yaxis\": {\"backgroundcolor\": \"#E5ECF6\", \"gridcolor\": \"white\", \"gridwidth\": 2, \"linecolor\": \"white\", \"showbackground\": true, \"ticks\": \"\", \"zerolinecolor\": \"white\"}, \"zaxis\": {\"backgroundcolor\": \"#E5ECF6\", \"gridcolor\": \"white\", \"gridwidth\": 2, \"linecolor\": \"white\", \"showbackground\": true, \"ticks\": \"\", \"zerolinecolor\": \"white\"}}, \"shapedefaults\": {\"line\": {\"color\": \"#2a3f5f\"}}, \"ternary\": {\"aaxis\": {\"gridcolor\": \"white\", \"linecolor\": \"white\", \"ticks\": \"\"}, \"baxis\": {\"gridcolor\": \"white\", \"linecolor\": \"white\", \"ticks\": \"\"}, \"bgcolor\": \"#E5ECF6\", \"caxis\": {\"gridcolor\": \"white\", \"linecolor\": \"white\", \"ticks\": \"\"}}, \"title\": {\"x\": 0.05}, \"xaxis\": {\"automargin\": true, \"gridcolor\": \"white\", \"linecolor\": \"white\", \"ticks\": \"\", \"title\": {\"standoff\": 15}, \"zerolinecolor\": \"white\", \"zerolinewidth\": 2}, \"yaxis\": {\"automargin\": true, \"gridcolor\": \"white\", \"linecolor\": \"white\", \"ticks\": \"\", \"title\": {\"standoff\": 15}, \"zerolinecolor\": \"white\", \"zerolinewidth\": 2}}}, \"width\": 900},\n                        {\"responsive\": true}\n                    ).then(function(){\n                            \nvar gd = document.getElementById('1a935827-4742-4415-9014-ba8406e5e998');\nvar x = new MutationObserver(function (mutations, observer) {{\n        var display = window.getComputedStyle(gd).display;\n        if (!display || display === 'none') {{\n            console.log([gd, 'removed!']);\n            Plotly.purge(gd);\n            observer.disconnect();\n        }}\n}});\n\n// Listen for the removal of the full notebook cells\nvar notebookContainer = gd.closest('#notebook-container');\nif (notebookContainer) {{\n    x.observe(notebookContainer, {childList: true});\n}}\n\n// Listen for the clearing of the current output cell\nvar outputEl = gd.closest('.output');\nif (outputEl) {{\n    x.observe(outputEl, {childList: true});\n}}\n\n                        })\n                };\n                });\n            </script>\n        </div>"
     },
     "metadata": {},
     "output_type": "display_data"
    }
   ],
   "source": [
    "fig = go.Figure()\n",
    "\n",
    "for s in shapes[:5]:\n",
    "    bbox_array = np.array(s.bbox)\n",
    "    lon,lat = bbox_array[[0,2]],bbox_array[[1,3]]\n",
    "\n",
    "    fig.add_trace(go.Scattermapbox(\n",
    "        mode = \"markers+lines\",\n",
    "        lon = lon,\n",
    "        lat = lat,\n",
    "        marker = {'size': 10}))\n",
    "\n",
    "fig.update_layout(\n",
    "    height=900,\n",
    "    width=900,\n",
    "    margin ={'l':0,'t':0,'b':0,'r':0},\n",
    "    mapbox = {\n",
    "        'center': {'lon': 91.84, 'lat': 24.13},\n",
    "        'style': \"open-street-map\",\n",
    "        # 'center': {'lon': -20, 'lat': -20},\n",
    "        'zoom': 8})\n",
    "\n",
    "fig.show()"
   ],
   "metadata": {
    "collapsed": false,
    "ExecuteTime": {
     "start_time": "2024-12-20T15:57:38.934350Z",
     "end_time": "2024-12-20T15:57:39.159132Z"
    }
   }
  },
  {
   "cell_type": "code",
   "execution_count": 20,
   "outputs": [
    {
     "ename": "IndexError",
     "evalue": "too many indices for array: array is 1-dimensional, but 2 were indexed",
     "output_type": "error",
     "traceback": [
      "\u001B[0;31m---------------------------------------------------------------------------\u001B[0m",
      "\u001B[0;31mIndexError\u001B[0m                                Traceback (most recent call last)",
      "\u001B[0;32m<ipython-input-20-df269e58e18c>\u001B[0m in \u001B[0;36m<module>\u001B[0;34m\u001B[0m\n\u001B[1;32m      1\u001B[0m \u001B[0mbbox_array_all\u001B[0m \u001B[0;34m=\u001B[0m \u001B[0mnp\u001B[0m\u001B[0;34m.\u001B[0m\u001B[0marray\u001B[0m\u001B[0;34m(\u001B[0m\u001B[0;34m[\u001B[0m\u001B[0ms\u001B[0m\u001B[0;34m.\u001B[0m\u001B[0mbbox\u001B[0m\u001B[0;34m[\u001B[0m\u001B[0;34m:\u001B[0m\u001B[0;34m:\u001B[0m\u001B[0;34m-\u001B[0m\u001B[0;36m1\u001B[0m\u001B[0;34m]\u001B[0m \u001B[0;32mfor\u001B[0m \u001B[0ms\u001B[0m \u001B[0;32min\u001B[0m \u001B[0mshapes\u001B[0m\u001B[0;34m]\u001B[0m\u001B[0;34m)\u001B[0m\u001B[0;34m\u001B[0m\u001B[0;34m\u001B[0m\u001B[0m\n\u001B[0;32m----> 2\u001B[0;31m \u001B[0mforest_location\u001B[0m \u001B[0;34m=\u001B[0m \u001B[0mpd\u001B[0m\u001B[0;34m.\u001B[0m\u001B[0mDataFrame\u001B[0m\u001B[0;34m(\u001B[0m\u001B[0;34m(\u001B[0m\u001B[0;34m(\u001B[0m\u001B[0mbbox_array_all\u001B[0m\u001B[0;34m[\u001B[0m\u001B[0;34m:\u001B[0m\u001B[0;34m,\u001B[0m\u001B[0;34m:\u001B[0m\u001B[0;36m2\u001B[0m\u001B[0;34m]\u001B[0m\u001B[0;34m+\u001B[0m\u001B[0mbbox_array_all\u001B[0m\u001B[0;34m[\u001B[0m\u001B[0;34m:\u001B[0m\u001B[0;34m,\u001B[0m\u001B[0;36m2\u001B[0m\u001B[0;34m:\u001B[0m\u001B[0;36m4\u001B[0m\u001B[0;34m]\u001B[0m\u001B[0;34m)\u001B[0m\u001B[0;34m/\u001B[0m\u001B[0;36m2\u001B[0m\u001B[0;34m)\u001B[0m\u001B[0;34m,\u001B[0m\u001B[0mcolumns\u001B[0m\u001B[0;34m=\u001B[0m\u001B[0;34m[\u001B[0m\u001B[0;34m\"Latitude\"\u001B[0m\u001B[0;34m,\u001B[0m\u001B[0;34m\"Longitude\"\u001B[0m\u001B[0;34m]\u001B[0m\u001B[0;34m)\u001B[0m\u001B[0;34m\u001B[0m\u001B[0;34m\u001B[0m\u001B[0m\n\u001B[0m\u001B[1;32m      3\u001B[0m \u001B[0mforest_location\u001B[0m\u001B[0;34m\u001B[0m\u001B[0;34m\u001B[0m\u001B[0m\n",
      "\u001B[0;31mIndexError\u001B[0m: too many indices for array: array is 1-dimensional, but 2 were indexed"
     ]
    }
   ],
   "source": [
    "bbox_array_all = np.array([s.bbox[::-1] for s in shapes])\n",
    "forest_location = pd.DataFrame(((bbox_array_all[:,:2]+bbox_array_all[:,2:4])/2),columns=[\"Latitude\",\"Longitude\"])\n",
    "forest_location"
   ],
   "metadata": {
    "collapsed": false,
    "ExecuteTime": {
     "start_time": "2024-08-29T21:03:19.908737Z",
     "end_time": "2024-08-29T21:03:19.910319Z"
    }
   }
  },
  {
   "cell_type": "code",
   "execution_count": null,
   "outputs": [],
   "source": [
    "forest_location.to_csv(\"forest_location.csv\",index=False)"
   ],
   "metadata": {
    "collapsed": false,
    "ExecuteTime": {
     "start_time": "2024-08-29T21:03:19.909045Z",
     "end_time": "2024-08-29T21:03:19.910522Z"
    }
   }
  },
  {
   "cell_type": "code",
   "execution_count": 26,
   "outputs": [],
   "source": [
    "near_forest_location = [\"Thakurgaon_Rangpur\", \"Dinajpur_Rangpur\", \"Saidpur_Rajshahi\", \"Rangpur_Rangpur\",\n",
    "                        \"Lalmanirhat_Rangpur\", \"Sherpur_Mymensingh\", \"Jamalpur_Mymensingh\", \"Sarishabari_Mymensingh\",\n",
    "                        \"Mymensingh_Mymensingh\", \"Tangail_Dhaka\", \"Nagarpur_Dhaka\", \"Habiganj_Sylhet\",\n",
    "                        \"Satkhira_Khulna\", \"Khagrachhari_Chittagong\", \"Chittagong_Chittagong\", \"Patiya_Chittagong\",\n",
    "                        \"Satkania_Chittagong\", \"Sandwip_Chittagong\", \"Joypur Hat_Rajshahi\", \"Netrakona_Mymensingh\",\n",
    "                        \"Comilla_Chittagong\", \"Maulavi Bazar_Sylhet\", \"Bhola_Barisal\", \"Feni_Chittagong\"\n",
    "                        ]"
   ],
   "metadata": {
    "collapsed": false,
    "ExecuteTime": {
     "start_time": "2024-12-20T15:57:57.396058Z",
     "end_time": "2024-12-20T15:57:57.633364Z"
    }
   }
  },
  {
   "cell_type": "code",
   "source": [
    "from data_preparation.spatio_temporal_filtering import read_bd_data_4_years\n",
    "\n",
    "metadata, series, metadata_region, region_series, metadata_country, country_series = read_bd_data_4_years()\n",
    "series"
   ],
   "metadata": {
    "collapsed": false,
    "ExecuteTime": {
     "end_time": "2025-09-11T05:10:14.817101Z",
     "start_time": "2025-09-11T05:10:13.675094Z"
    }
   },
   "outputs": [
    {
     "data": {
      "text/plain": [
       "                     Azimpur_Dhaka  Barisal_Barisal  Bhairab Bazar_Dhaka  \\\n",
       "time                                                                       \n",
       "2018-01-01 00:00:00          131.2            118.2                106.3   \n",
       "2018-01-01 01:00:00          134.5            113.7                108.8   \n",
       "2018-01-01 02:00:00          147.9            117.8                118.4   \n",
       "2018-01-01 03:00:00          174.7            133.4                140.0   \n",
       "2018-01-01 04:00:00          184.0            140.6                150.1   \n",
       "...                            ...              ...                  ...   \n",
       "2021-12-31 19:00:00          129.1            108.3                107.4   \n",
       "2021-12-31 20:00:00          126.4            105.6                114.4   \n",
       "2021-12-31 21:00:00          125.9            111.5                128.4   \n",
       "2021-12-31 22:00:00          121.5            108.2                127.0   \n",
       "2021-12-31 23:00:00          123.9            101.5                136.2   \n",
       "\n",
       "                     Bhola_Barisal  Bogra_Rajshahi  Chittagong_Chittagong  \\\n",
       "time                                                                        \n",
       "2018-01-01 00:00:00          112.9           101.5                    NaN   \n",
       "2018-01-01 01:00:00          109.1           104.1                    NaN   \n",
       "2018-01-01 02:00:00          113.5           109.6                    NaN   \n",
       "2018-01-01 03:00:00          129.0           129.4                    NaN   \n",
       "2018-01-01 04:00:00          136.6           137.3                    NaN   \n",
       "...                            ...             ...                    ...   \n",
       "2021-12-31 19:00:00          104.5            92.0                   84.0   \n",
       "2021-12-31 20:00:00           99.6           121.8                   66.6   \n",
       "2021-12-31 21:00:00          107.0           127.7                   78.0   \n",
       "2021-12-31 22:00:00          103.8           123.7                   74.7   \n",
       "2021-12-31 23:00:00           99.6           114.2                   73.6   \n",
       "\n",
       "                     Comilla_Chittagong  Dhaka_Dhaka  Dinajpur_Rangpur  \\\n",
       "time                                                                     \n",
       "2018-01-01 00:00:00               105.3        131.0              86.4   \n",
       "2018-01-01 01:00:00               106.0        134.5              90.3   \n",
       "2018-01-01 02:00:00               113.9        148.1              94.6   \n",
       "2018-01-01 03:00:00               133.1        175.2             112.7   \n",
       "2018-01-01 04:00:00               142.8        184.6             119.9   \n",
       "...                                 ...          ...               ...   \n",
       "2021-12-31 19:00:00               105.1        129.1              71.8   \n",
       "2021-12-31 20:00:00               103.5        126.0             112.8   \n",
       "2021-12-31 21:00:00               117.8        125.8             118.2   \n",
       "2021-12-31 22:00:00               116.9        121.5             113.9   \n",
       "2021-12-31 23:00:00               125.3        124.9             106.5   \n",
       "\n",
       "                     Faridpur_Dhaka  ...  Satkania_Chittagong  \\\n",
       "time                                 ...                        \n",
       "2018-01-01 00:00:00           128.1  ...                  NaN   \n",
       "2018-01-01 01:00:00           127.2  ...                  NaN   \n",
       "2018-01-01 02:00:00           134.1  ...                  NaN   \n",
       "2018-01-01 03:00:00           154.9  ...                  NaN   \n",
       "2018-01-01 04:00:00           162.6  ...                  NaN   \n",
       "...                             ...  ...                  ...   \n",
       "2021-12-31 19:00:00           121.6  ...                 79.6   \n",
       "2021-12-31 20:00:00           127.6  ...                 61.6   \n",
       "2021-12-31 21:00:00           127.6  ...                 72.5   \n",
       "2021-12-31 22:00:00           123.6  ...                 69.1   \n",
       "2021-12-31 23:00:00           113.4  ...                 67.4   \n",
       "\n",
       "                     Satkhira_Khulna  Shahzadpur_Rajshahi  Sherpur_Mymensingh  \\\n",
       "time                                                                            \n",
       "2018-01-01 00:00:00            149.8                118.1                95.3   \n",
       "2018-01-01 01:00:00            136.2                119.0                98.1   \n",
       "2018-01-01 02:00:00            132.9                125.3               104.8   \n",
       "2018-01-01 03:00:00            142.6                146.0               124.5   \n",
       "2018-01-01 04:00:00            146.6                153.8               133.7   \n",
       "...                              ...                  ...                 ...   \n",
       "2021-12-31 19:00:00            123.2                110.6                90.6   \n",
       "2021-12-31 20:00:00            134.9                126.4               123.5   \n",
       "2021-12-31 21:00:00            135.3                128.2               135.1   \n",
       "2021-12-31 22:00:00            131.1                124.2               130.8   \n",
       "2021-12-31 23:00:00             99.0                113.3               124.0   \n",
       "\n",
       "                     Sirajganj_Rajshahi  Sylhet_Sylhet  Tangail_Dhaka  \\\n",
       "time                                                                    \n",
       "2018-01-01 00:00:00               110.4            NaN          116.6   \n",
       "2018-01-01 01:00:00               112.4            NaN          118.5   \n",
       "2018-01-01 02:00:00               119.2            NaN          126.7   \n",
       "2018-01-01 03:00:00               140.0            NaN          148.7   \n",
       "2018-01-01 04:00:00               148.3            NaN          157.2   \n",
       "...                                 ...            ...            ...   \n",
       "2021-12-31 19:00:00               104.3           78.0          112.5   \n",
       "2021-12-31 20:00:00               124.5           65.2          125.8   \n",
       "2021-12-31 21:00:00               129.2           81.2          129.0   \n",
       "2021-12-31 22:00:00               125.2           74.4          124.9   \n",
       "2021-12-31 23:00:00               117.2           74.6          119.2   \n",
       "\n",
       "                     Thakurgaon_Rangpur  Tungi_Dhaka  Tungipara_Dhaka  \n",
       "time                                                                   \n",
       "2018-01-01 00:00:00                 NaN        129.1            127.8  \n",
       "2018-01-01 01:00:00                 NaN        133.0            122.0  \n",
       "2018-01-01 02:00:00                 NaN        146.8            125.1  \n",
       "2018-01-01 03:00:00                 NaN        174.1            140.6  \n",
       "2018-01-01 04:00:00                 NaN        183.7            147.1  \n",
       "...                                 ...          ...              ...  \n",
       "2021-12-31 19:00:00                63.7        127.6            115.1  \n",
       "2021-12-31 20:00:00               110.3        126.5            117.1  \n",
       "2021-12-31 21:00:00               116.5        127.0            120.4  \n",
       "2021-12-31 22:00:00               111.8        122.7            116.6  \n",
       "2021-12-31 23:00:00               105.8        126.4            103.6  \n",
       "\n",
       "[35064 rows x 55 columns]"
      ],
      "text/html": [
       "<div>\n",
       "<style scoped>\n",
       "    .dataframe tbody tr th:only-of-type {\n",
       "        vertical-align: middle;\n",
       "    }\n",
       "\n",
       "    .dataframe tbody tr th {\n",
       "        vertical-align: top;\n",
       "    }\n",
       "\n",
       "    .dataframe thead th {\n",
       "        text-align: right;\n",
       "    }\n",
       "</style>\n",
       "<table border=\"1\" class=\"dataframe\">\n",
       "  <thead>\n",
       "    <tr style=\"text-align: right;\">\n",
       "      <th></th>\n",
       "      <th>Azimpur_Dhaka</th>\n",
       "      <th>Barisal_Barisal</th>\n",
       "      <th>Bhairab Bazar_Dhaka</th>\n",
       "      <th>Bhola_Barisal</th>\n",
       "      <th>Bogra_Rajshahi</th>\n",
       "      <th>Chittagong_Chittagong</th>\n",
       "      <th>Comilla_Chittagong</th>\n",
       "      <th>Dhaka_Dhaka</th>\n",
       "      <th>Dinajpur_Rangpur</th>\n",
       "      <th>Faridpur_Dhaka</th>\n",
       "      <th>...</th>\n",
       "      <th>Satkania_Chittagong</th>\n",
       "      <th>Satkhira_Khulna</th>\n",
       "      <th>Shahzadpur_Rajshahi</th>\n",
       "      <th>Sherpur_Mymensingh</th>\n",
       "      <th>Sirajganj_Rajshahi</th>\n",
       "      <th>Sylhet_Sylhet</th>\n",
       "      <th>Tangail_Dhaka</th>\n",
       "      <th>Thakurgaon_Rangpur</th>\n",
       "      <th>Tungi_Dhaka</th>\n",
       "      <th>Tungipara_Dhaka</th>\n",
       "    </tr>\n",
       "    <tr>\n",
       "      <th>time</th>\n",
       "      <th></th>\n",
       "      <th></th>\n",
       "      <th></th>\n",
       "      <th></th>\n",
       "      <th></th>\n",
       "      <th></th>\n",
       "      <th></th>\n",
       "      <th></th>\n",
       "      <th></th>\n",
       "      <th></th>\n",
       "      <th></th>\n",
       "      <th></th>\n",
       "      <th></th>\n",
       "      <th></th>\n",
       "      <th></th>\n",
       "      <th></th>\n",
       "      <th></th>\n",
       "      <th></th>\n",
       "      <th></th>\n",
       "      <th></th>\n",
       "      <th></th>\n",
       "    </tr>\n",
       "  </thead>\n",
       "  <tbody>\n",
       "    <tr>\n",
       "      <th>2018-01-01 00:00:00</th>\n",
       "      <td>131.2</td>\n",
       "      <td>118.2</td>\n",
       "      <td>106.3</td>\n",
       "      <td>112.9</td>\n",
       "      <td>101.5</td>\n",
       "      <td>NaN</td>\n",
       "      <td>105.3</td>\n",
       "      <td>131.0</td>\n",
       "      <td>86.4</td>\n",
       "      <td>128.1</td>\n",
       "      <td>...</td>\n",
       "      <td>NaN</td>\n",
       "      <td>149.8</td>\n",
       "      <td>118.1</td>\n",
       "      <td>95.3</td>\n",
       "      <td>110.4</td>\n",
       "      <td>NaN</td>\n",
       "      <td>116.6</td>\n",
       "      <td>NaN</td>\n",
       "      <td>129.1</td>\n",
       "      <td>127.8</td>\n",
       "    </tr>\n",
       "    <tr>\n",
       "      <th>2018-01-01 01:00:00</th>\n",
       "      <td>134.5</td>\n",
       "      <td>113.7</td>\n",
       "      <td>108.8</td>\n",
       "      <td>109.1</td>\n",
       "      <td>104.1</td>\n",
       "      <td>NaN</td>\n",
       "      <td>106.0</td>\n",
       "      <td>134.5</td>\n",
       "      <td>90.3</td>\n",
       "      <td>127.2</td>\n",
       "      <td>...</td>\n",
       "      <td>NaN</td>\n",
       "      <td>136.2</td>\n",
       "      <td>119.0</td>\n",
       "      <td>98.1</td>\n",
       "      <td>112.4</td>\n",
       "      <td>NaN</td>\n",
       "      <td>118.5</td>\n",
       "      <td>NaN</td>\n",
       "      <td>133.0</td>\n",
       "      <td>122.0</td>\n",
       "    </tr>\n",
       "    <tr>\n",
       "      <th>2018-01-01 02:00:00</th>\n",
       "      <td>147.9</td>\n",
       "      <td>117.8</td>\n",
       "      <td>118.4</td>\n",
       "      <td>113.5</td>\n",
       "      <td>109.6</td>\n",
       "      <td>NaN</td>\n",
       "      <td>113.9</td>\n",
       "      <td>148.1</td>\n",
       "      <td>94.6</td>\n",
       "      <td>134.1</td>\n",
       "      <td>...</td>\n",
       "      <td>NaN</td>\n",
       "      <td>132.9</td>\n",
       "      <td>125.3</td>\n",
       "      <td>104.8</td>\n",
       "      <td>119.2</td>\n",
       "      <td>NaN</td>\n",
       "      <td>126.7</td>\n",
       "      <td>NaN</td>\n",
       "      <td>146.8</td>\n",
       "      <td>125.1</td>\n",
       "    </tr>\n",
       "    <tr>\n",
       "      <th>2018-01-01 03:00:00</th>\n",
       "      <td>174.7</td>\n",
       "      <td>133.4</td>\n",
       "      <td>140.0</td>\n",
       "      <td>129.0</td>\n",
       "      <td>129.4</td>\n",
       "      <td>NaN</td>\n",
       "      <td>133.1</td>\n",
       "      <td>175.2</td>\n",
       "      <td>112.7</td>\n",
       "      <td>154.9</td>\n",
       "      <td>...</td>\n",
       "      <td>NaN</td>\n",
       "      <td>142.6</td>\n",
       "      <td>146.0</td>\n",
       "      <td>124.5</td>\n",
       "      <td>140.0</td>\n",
       "      <td>NaN</td>\n",
       "      <td>148.7</td>\n",
       "      <td>NaN</td>\n",
       "      <td>174.1</td>\n",
       "      <td>140.6</td>\n",
       "    </tr>\n",
       "    <tr>\n",
       "      <th>2018-01-01 04:00:00</th>\n",
       "      <td>184.0</td>\n",
       "      <td>140.6</td>\n",
       "      <td>150.1</td>\n",
       "      <td>136.6</td>\n",
       "      <td>137.3</td>\n",
       "      <td>NaN</td>\n",
       "      <td>142.8</td>\n",
       "      <td>184.6</td>\n",
       "      <td>119.9</td>\n",
       "      <td>162.6</td>\n",
       "      <td>...</td>\n",
       "      <td>NaN</td>\n",
       "      <td>146.6</td>\n",
       "      <td>153.8</td>\n",
       "      <td>133.7</td>\n",
       "      <td>148.3</td>\n",
       "      <td>NaN</td>\n",
       "      <td>157.2</td>\n",
       "      <td>NaN</td>\n",
       "      <td>183.7</td>\n",
       "      <td>147.1</td>\n",
       "    </tr>\n",
       "    <tr>\n",
       "      <th>...</th>\n",
       "      <td>...</td>\n",
       "      <td>...</td>\n",
       "      <td>...</td>\n",
       "      <td>...</td>\n",
       "      <td>...</td>\n",
       "      <td>...</td>\n",
       "      <td>...</td>\n",
       "      <td>...</td>\n",
       "      <td>...</td>\n",
       "      <td>...</td>\n",
       "      <td>...</td>\n",
       "      <td>...</td>\n",
       "      <td>...</td>\n",
       "      <td>...</td>\n",
       "      <td>...</td>\n",
       "      <td>...</td>\n",
       "      <td>...</td>\n",
       "      <td>...</td>\n",
       "      <td>...</td>\n",
       "      <td>...</td>\n",
       "      <td>...</td>\n",
       "    </tr>\n",
       "    <tr>\n",
       "      <th>2021-12-31 19:00:00</th>\n",
       "      <td>129.1</td>\n",
       "      <td>108.3</td>\n",
       "      <td>107.4</td>\n",
       "      <td>104.5</td>\n",
       "      <td>92.0</td>\n",
       "      <td>84.0</td>\n",
       "      <td>105.1</td>\n",
       "      <td>129.1</td>\n",
       "      <td>71.8</td>\n",
       "      <td>121.6</td>\n",
       "      <td>...</td>\n",
       "      <td>79.6</td>\n",
       "      <td>123.2</td>\n",
       "      <td>110.6</td>\n",
       "      <td>90.6</td>\n",
       "      <td>104.3</td>\n",
       "      <td>78.0</td>\n",
       "      <td>112.5</td>\n",
       "      <td>63.7</td>\n",
       "      <td>127.6</td>\n",
       "      <td>115.1</td>\n",
       "    </tr>\n",
       "    <tr>\n",
       "      <th>2021-12-31 20:00:00</th>\n",
       "      <td>126.4</td>\n",
       "      <td>105.6</td>\n",
       "      <td>114.4</td>\n",
       "      <td>99.6</td>\n",
       "      <td>121.8</td>\n",
       "      <td>66.6</td>\n",
       "      <td>103.5</td>\n",
       "      <td>126.0</td>\n",
       "      <td>112.8</td>\n",
       "      <td>127.6</td>\n",
       "      <td>...</td>\n",
       "      <td>61.6</td>\n",
       "      <td>134.9</td>\n",
       "      <td>126.4</td>\n",
       "      <td>123.5</td>\n",
       "      <td>124.5</td>\n",
       "      <td>65.2</td>\n",
       "      <td>125.8</td>\n",
       "      <td>110.3</td>\n",
       "      <td>126.5</td>\n",
       "      <td>117.1</td>\n",
       "    </tr>\n",
       "    <tr>\n",
       "      <th>2021-12-31 21:00:00</th>\n",
       "      <td>125.9</td>\n",
       "      <td>111.5</td>\n",
       "      <td>128.4</td>\n",
       "      <td>107.0</td>\n",
       "      <td>127.7</td>\n",
       "      <td>78.0</td>\n",
       "      <td>117.8</td>\n",
       "      <td>125.8</td>\n",
       "      <td>118.2</td>\n",
       "      <td>127.6</td>\n",
       "      <td>...</td>\n",
       "      <td>72.5</td>\n",
       "      <td>135.3</td>\n",
       "      <td>128.2</td>\n",
       "      <td>135.1</td>\n",
       "      <td>129.2</td>\n",
       "      <td>81.2</td>\n",
       "      <td>129.0</td>\n",
       "      <td>116.5</td>\n",
       "      <td>127.0</td>\n",
       "      <td>120.4</td>\n",
       "    </tr>\n",
       "    <tr>\n",
       "      <th>2021-12-31 22:00:00</th>\n",
       "      <td>121.5</td>\n",
       "      <td>108.2</td>\n",
       "      <td>127.0</td>\n",
       "      <td>103.8</td>\n",
       "      <td>123.7</td>\n",
       "      <td>74.7</td>\n",
       "      <td>116.9</td>\n",
       "      <td>121.5</td>\n",
       "      <td>113.9</td>\n",
       "      <td>123.6</td>\n",
       "      <td>...</td>\n",
       "      <td>69.1</td>\n",
       "      <td>131.1</td>\n",
       "      <td>124.2</td>\n",
       "      <td>130.8</td>\n",
       "      <td>125.2</td>\n",
       "      <td>74.4</td>\n",
       "      <td>124.9</td>\n",
       "      <td>111.8</td>\n",
       "      <td>122.7</td>\n",
       "      <td>116.6</td>\n",
       "    </tr>\n",
       "    <tr>\n",
       "      <th>2021-12-31 23:00:00</th>\n",
       "      <td>123.9</td>\n",
       "      <td>101.5</td>\n",
       "      <td>136.2</td>\n",
       "      <td>99.6</td>\n",
       "      <td>114.2</td>\n",
       "      <td>73.6</td>\n",
       "      <td>125.3</td>\n",
       "      <td>124.9</td>\n",
       "      <td>106.5</td>\n",
       "      <td>113.4</td>\n",
       "      <td>...</td>\n",
       "      <td>67.4</td>\n",
       "      <td>99.0</td>\n",
       "      <td>113.3</td>\n",
       "      <td>124.0</td>\n",
       "      <td>117.2</td>\n",
       "      <td>74.6</td>\n",
       "      <td>119.2</td>\n",
       "      <td>105.8</td>\n",
       "      <td>126.4</td>\n",
       "      <td>103.6</td>\n",
       "    </tr>\n",
       "  </tbody>\n",
       "</table>\n",
       "<p>35064 rows × 55 columns</p>\n",
       "</div>"
      ]
     },
     "execution_count": 2,
     "metadata": {},
     "output_type": "execute_result"
    }
   ],
   "execution_count": 2
  },
  {
   "cell_type": "code",
   "execution_count": 28,
   "outputs": [
    {
     "data": {
      "text/plain": "53.98127989654111"
     },
     "execution_count": 28,
     "metadata": {},
     "output_type": "execute_result"
    }
   ],
   "source": [
    "series[near_forest_location].stack().mean()"
   ],
   "metadata": {
    "collapsed": false,
    "ExecuteTime": {
     "start_time": "2024-12-20T15:57:58.128974Z",
     "end_time": "2024-12-20T15:57:58.179510Z"
    }
   }
  },
  {
   "cell_type": "code",
   "execution_count": 29,
   "outputs": [
    {
     "data": {
      "text/plain": "62.294974105393926"
     },
     "execution_count": 29,
     "metadata": {},
     "output_type": "execute_result"
    }
   ],
   "source": [
    "series[series.columns[~series.columns.isin(near_forest_location)]].stack().mean()"
   ],
   "metadata": {
    "collapsed": false,
    "ExecuteTime": {
     "start_time": "2024-12-20T15:57:58.145619Z",
     "end_time": "2024-12-20T15:57:58.390932Z"
    }
   }
  },
  {
   "cell_type": "code",
   "source": [
    "duplicates_bd = pd.read_csv(\"../data_preparation/Extra Data/duplicates_bd.csv\",index_col=\"zone\")\n",
    "duplicates_bd"
   ],
   "metadata": {
    "collapsed": false,
    "ExecuteTime": {
     "end_time": "2025-09-11T05:11:00.513676Z",
     "start_time": "2025-09-11T05:11:00.500887Z"
    }
   },
   "outputs": [
    {
     "data": {
      "text/plain": [
       "                                 duplicate_entries\n",
       "zone                                              \n",
       "Dhaka_Azimpur                                  210\n",
       "Barisal_Barisal                                210\n",
       "Dhaka_Bhairab_Bazar                            210\n",
       "Barisal_Bhola                                  214\n",
       "Rajshahi_Bogra                                 212\n",
       "Chittagong_Chittagong                          212\n",
       "Chittagong_Comilla                             209\n",
       "Dhaka_Dhaka                                    210\n",
       "Rangpur_Division_Dinajpur                      213\n",
       "Dhaka_Faridpur                                 211\n",
       "Chittagong_Feni                                209\n",
       "Sylhet_Habiganj                                205\n",
       "Rajshahi_Ishurdi                               211\n",
       "Mymensingh_Division_Jamalpur                   203\n",
       "Khulna_Jessore                                 211\n",
       "Rajshahi_Joypur_Hat                            210\n",
       "Chittagong_Khagrachhari                        199\n",
       "Khulna_Khulna                                  220\n",
       "Dhaka_Kishorganj                               207\n",
       "Khulna_Kushtia                                 211\n",
       "Chittagong_Laksham                             205\n",
       "Chittagong_Lakshmipur                          207\n",
       "Rangpur_Division_Lalmanirhat                   210\n",
       "Dhaka_Madaripur                                210\n",
       "Sylhet_Maulavi_Bazar                           205\n",
       "Mymensingh_Division_Mymensingh                 199\n",
       "Dhaka_Nagarpur                                 211\n",
       "Khulna_Narail                                  215\n",
       "Dhaka_Narayanganj                              214\n",
       "Dhaka_Narsingdi                                204\n",
       "Rajshahi_Nawabganj                             210\n",
       "Mymensingh_Division_Netrakona                  206\n",
       "Rajshahi_Pabna                                 211\n",
       "Dhaka_Palang                                   210\n",
       "Dhaka_Paltan                                   210\n",
       "Rajshahi_Par_Naogaon                           214\n",
       "Chittagong_Patiya                              212\n",
       "Barisal_Pirojpur                               210\n",
       "Chittagong_Raipur                              203\n",
       "Rajshahi_Rajshahi                              210\n",
       "Chittagong_Ramganj                             203\n",
       "Rangpur_Division_Rangpur                       211\n",
       "Rajshahi_Saidpur                               210\n",
       "Chittagong_Sandwip                             206\n",
       "Mymensingh_Division_Sarishabari                210\n",
       "Chittagong_Satkania                            198\n",
       "Khulna_Satkhira                                220\n",
       "Rajshahi_Shahzadpur                            211\n",
       "Mymensingh_Division_Sherpur                    203\n",
       "Rajshahi_Sirajganj                             210\n",
       "Sylhet_Sylhet                                  205\n",
       "Dhaka_Tangail                                  211\n",
       "Rangpur_Division_Thakurgaon                    210\n",
       "Dhaka_Tungi                                    212\n",
       "Dhaka_Tungipara                                210"
      ],
      "text/html": [
       "<div>\n",
       "<style scoped>\n",
       "    .dataframe tbody tr th:only-of-type {\n",
       "        vertical-align: middle;\n",
       "    }\n",
       "\n",
       "    .dataframe tbody tr th {\n",
       "        vertical-align: top;\n",
       "    }\n",
       "\n",
       "    .dataframe thead th {\n",
       "        text-align: right;\n",
       "    }\n",
       "</style>\n",
       "<table border=\"1\" class=\"dataframe\">\n",
       "  <thead>\n",
       "    <tr style=\"text-align: right;\">\n",
       "      <th></th>\n",
       "      <th>duplicate_entries</th>\n",
       "    </tr>\n",
       "    <tr>\n",
       "      <th>zone</th>\n",
       "      <th></th>\n",
       "    </tr>\n",
       "  </thead>\n",
       "  <tbody>\n",
       "    <tr>\n",
       "      <th>Dhaka_Azimpur</th>\n",
       "      <td>210</td>\n",
       "    </tr>\n",
       "    <tr>\n",
       "      <th>Barisal_Barisal</th>\n",
       "      <td>210</td>\n",
       "    </tr>\n",
       "    <tr>\n",
       "      <th>Dhaka_Bhairab_Bazar</th>\n",
       "      <td>210</td>\n",
       "    </tr>\n",
       "    <tr>\n",
       "      <th>Barisal_Bhola</th>\n",
       "      <td>214</td>\n",
       "    </tr>\n",
       "    <tr>\n",
       "      <th>Rajshahi_Bogra</th>\n",
       "      <td>212</td>\n",
       "    </tr>\n",
       "    <tr>\n",
       "      <th>Chittagong_Chittagong</th>\n",
       "      <td>212</td>\n",
       "    </tr>\n",
       "    <tr>\n",
       "      <th>Chittagong_Comilla</th>\n",
       "      <td>209</td>\n",
       "    </tr>\n",
       "    <tr>\n",
       "      <th>Dhaka_Dhaka</th>\n",
       "      <td>210</td>\n",
       "    </tr>\n",
       "    <tr>\n",
       "      <th>Rangpur_Division_Dinajpur</th>\n",
       "      <td>213</td>\n",
       "    </tr>\n",
       "    <tr>\n",
       "      <th>Dhaka_Faridpur</th>\n",
       "      <td>211</td>\n",
       "    </tr>\n",
       "    <tr>\n",
       "      <th>Chittagong_Feni</th>\n",
       "      <td>209</td>\n",
       "    </tr>\n",
       "    <tr>\n",
       "      <th>Sylhet_Habiganj</th>\n",
       "      <td>205</td>\n",
       "    </tr>\n",
       "    <tr>\n",
       "      <th>Rajshahi_Ishurdi</th>\n",
       "      <td>211</td>\n",
       "    </tr>\n",
       "    <tr>\n",
       "      <th>Mymensingh_Division_Jamalpur</th>\n",
       "      <td>203</td>\n",
       "    </tr>\n",
       "    <tr>\n",
       "      <th>Khulna_Jessore</th>\n",
       "      <td>211</td>\n",
       "    </tr>\n",
       "    <tr>\n",
       "      <th>Rajshahi_Joypur_Hat</th>\n",
       "      <td>210</td>\n",
       "    </tr>\n",
       "    <tr>\n",
       "      <th>Chittagong_Khagrachhari</th>\n",
       "      <td>199</td>\n",
       "    </tr>\n",
       "    <tr>\n",
       "      <th>Khulna_Khulna</th>\n",
       "      <td>220</td>\n",
       "    </tr>\n",
       "    <tr>\n",
       "      <th>Dhaka_Kishorganj</th>\n",
       "      <td>207</td>\n",
       "    </tr>\n",
       "    <tr>\n",
       "      <th>Khulna_Kushtia</th>\n",
       "      <td>211</td>\n",
       "    </tr>\n",
       "    <tr>\n",
       "      <th>Chittagong_Laksham</th>\n",
       "      <td>205</td>\n",
       "    </tr>\n",
       "    <tr>\n",
       "      <th>Chittagong_Lakshmipur</th>\n",
       "      <td>207</td>\n",
       "    </tr>\n",
       "    <tr>\n",
       "      <th>Rangpur_Division_Lalmanirhat</th>\n",
       "      <td>210</td>\n",
       "    </tr>\n",
       "    <tr>\n",
       "      <th>Dhaka_Madaripur</th>\n",
       "      <td>210</td>\n",
       "    </tr>\n",
       "    <tr>\n",
       "      <th>Sylhet_Maulavi_Bazar</th>\n",
       "      <td>205</td>\n",
       "    </tr>\n",
       "    <tr>\n",
       "      <th>Mymensingh_Division_Mymensingh</th>\n",
       "      <td>199</td>\n",
       "    </tr>\n",
       "    <tr>\n",
       "      <th>Dhaka_Nagarpur</th>\n",
       "      <td>211</td>\n",
       "    </tr>\n",
       "    <tr>\n",
       "      <th>Khulna_Narail</th>\n",
       "      <td>215</td>\n",
       "    </tr>\n",
       "    <tr>\n",
       "      <th>Dhaka_Narayanganj</th>\n",
       "      <td>214</td>\n",
       "    </tr>\n",
       "    <tr>\n",
       "      <th>Dhaka_Narsingdi</th>\n",
       "      <td>204</td>\n",
       "    </tr>\n",
       "    <tr>\n",
       "      <th>Rajshahi_Nawabganj</th>\n",
       "      <td>210</td>\n",
       "    </tr>\n",
       "    <tr>\n",
       "      <th>Mymensingh_Division_Netrakona</th>\n",
       "      <td>206</td>\n",
       "    </tr>\n",
       "    <tr>\n",
       "      <th>Rajshahi_Pabna</th>\n",
       "      <td>211</td>\n",
       "    </tr>\n",
       "    <tr>\n",
       "      <th>Dhaka_Palang</th>\n",
       "      <td>210</td>\n",
       "    </tr>\n",
       "    <tr>\n",
       "      <th>Dhaka_Paltan</th>\n",
       "      <td>210</td>\n",
       "    </tr>\n",
       "    <tr>\n",
       "      <th>Rajshahi_Par_Naogaon</th>\n",
       "      <td>214</td>\n",
       "    </tr>\n",
       "    <tr>\n",
       "      <th>Chittagong_Patiya</th>\n",
       "      <td>212</td>\n",
       "    </tr>\n",
       "    <tr>\n",
       "      <th>Barisal_Pirojpur</th>\n",
       "      <td>210</td>\n",
       "    </tr>\n",
       "    <tr>\n",
       "      <th>Chittagong_Raipur</th>\n",
       "      <td>203</td>\n",
       "    </tr>\n",
       "    <tr>\n",
       "      <th>Rajshahi_Rajshahi</th>\n",
       "      <td>210</td>\n",
       "    </tr>\n",
       "    <tr>\n",
       "      <th>Chittagong_Ramganj</th>\n",
       "      <td>203</td>\n",
       "    </tr>\n",
       "    <tr>\n",
       "      <th>Rangpur_Division_Rangpur</th>\n",
       "      <td>211</td>\n",
       "    </tr>\n",
       "    <tr>\n",
       "      <th>Rajshahi_Saidpur</th>\n",
       "      <td>210</td>\n",
       "    </tr>\n",
       "    <tr>\n",
       "      <th>Chittagong_Sandwip</th>\n",
       "      <td>206</td>\n",
       "    </tr>\n",
       "    <tr>\n",
       "      <th>Mymensingh_Division_Sarishabari</th>\n",
       "      <td>210</td>\n",
       "    </tr>\n",
       "    <tr>\n",
       "      <th>Chittagong_Satkania</th>\n",
       "      <td>198</td>\n",
       "    </tr>\n",
       "    <tr>\n",
       "      <th>Khulna_Satkhira</th>\n",
       "      <td>220</td>\n",
       "    </tr>\n",
       "    <tr>\n",
       "      <th>Rajshahi_Shahzadpur</th>\n",
       "      <td>211</td>\n",
       "    </tr>\n",
       "    <tr>\n",
       "      <th>Mymensingh_Division_Sherpur</th>\n",
       "      <td>203</td>\n",
       "    </tr>\n",
       "    <tr>\n",
       "      <th>Rajshahi_Sirajganj</th>\n",
       "      <td>210</td>\n",
       "    </tr>\n",
       "    <tr>\n",
       "      <th>Sylhet_Sylhet</th>\n",
       "      <td>205</td>\n",
       "    </tr>\n",
       "    <tr>\n",
       "      <th>Dhaka_Tangail</th>\n",
       "      <td>211</td>\n",
       "    </tr>\n",
       "    <tr>\n",
       "      <th>Rangpur_Division_Thakurgaon</th>\n",
       "      <td>210</td>\n",
       "    </tr>\n",
       "    <tr>\n",
       "      <th>Dhaka_Tungi</th>\n",
       "      <td>212</td>\n",
       "    </tr>\n",
       "    <tr>\n",
       "      <th>Dhaka_Tungipara</th>\n",
       "      <td>210</td>\n",
       "    </tr>\n",
       "  </tbody>\n",
       "</table>\n",
       "</div>"
      ]
     },
     "execution_count": 6,
     "metadata": {},
     "output_type": "execute_result"
    }
   ],
   "execution_count": 6
  },
  {
   "cell_type": "markdown",
   "source": [],
   "metadata": {
    "collapsed": false
   }
  },
  {
   "cell_type": "code",
   "source": [
    "intro_table = metadata[[\"Zone\",\"Region\"]].copy()\n",
    "intro_table[\"Average Reading\"] = series.mean().round(2)\n",
    "intro_table[\"Missing Entries\"] = series.isna().sum()\n",
    "intro_table[\"Missing Percentage\"] = (intro_table[\"Missing Entries\"] / series.shape[0] * 100).round(2)\n",
    "intro_table[\"Duplicate Entries\"] = duplicates_bd.values\n",
    "intro_table = intro_table.set_index(\"Zone\").sort_values(by=\"Average Reading\",ascending=False)\n",
    "# intro_table[\"Near Forest\"] = \"No\"\n",
    "# intro_table.loc[near_forest_location,\"Near Forest\"] = \"Yes\"\n",
    "print(intro_table.to_latex(col_space=3))"
   ],
   "metadata": {
    "collapsed": false,
    "ExecuteTime": {
     "end_time": "2025-09-11T05:13:03.382199Z",
     "start_time": "2025-09-11T05:13:03.353899Z"
    }
   },
   "outputs": [
    {
     "name": "stdout",
     "output_type": "stream",
     "text": [
      "\\begin{tabular}{llrrrr}\n",
      "\\toprule\n",
      "{} &      Region &  Average Reading &  Missing Entries &  Missing Percentage &  Duplicate Entries \\\\\n",
      "Zone          &             &                  &                  &                     &                    \\\\\n",
      "\\midrule\n",
      "Paltan        &       Dhaka &            72.18 &             1097 &                3.13 &                210 \\\\\n",
      "Dhaka         &       Dhaka &            72.18 &             1097 &                3.13 &                210 \\\\\n",
      "Azimpur       &       Dhaka &            72.16 &             1097 &                3.13 &                210 \\\\\n",
      "Tungi         &       Dhaka &            71.95 &             1101 &                3.14 &                212 \\\\\n",
      "Narayanganj   &       Dhaka &            69.02 &             1102 &                3.14 &                214 \\\\\n",
      "Faridpur      &       Dhaka &            66.57 &             1068 &                3.05 &                211 \\\\\n",
      "Nagarpur      &       Dhaka &            66.33 &             1077 &                3.07 &                211 \\\\\n",
      "Narsingdi     &       Dhaka &            65.83 &             1283 &                3.66 &                204 \\\\\n",
      "Tangail       &       Dhaka &            65.31 &             1096 &                3.13 &                211 \\\\\n",
      "Shahzadpur    &    Rajshahi &            64.24 &             1065 &                3.04 &                211 \\\\\n",
      "Pabna         &    Rajshahi &            63.64 &             1021 &                2.91 &                211 \\\\\n",
      "Kushtia       &      Khulna &            63.54 &             1022 &                2.91 &                211 \\\\\n",
      "Palang        &       Dhaka &            63.43 &             1067 &                3.04 &                210 \\\\\n",
      "Madaripur     &       Dhaka &            63.16 &             1068 &                3.05 &                210 \\\\\n",
      "Ishurdi       &    Rajshahi &            62.97 &             1018 &                2.90 &                211 \\\\\n",
      "Narail        &      Khulna &            62.57 &              979 &                2.79 &                215 \\\\\n",
      "Sirajganj     &    Rajshahi &            62.55 &             1098 &                3.13 &                210 \\\\\n",
      "Jessore       &      Khulna &            62.25 &              990 &                2.82 &                211 \\\\\n",
      "Rajshahi      &    Rajshahi &            61.51 &             1029 &                2.93 &                210 \\\\\n",
      "Bhairab Bazar &       Dhaka &            60.96 &             2267 &                6.47 &                210 \\\\\n",
      "Nawabganj     &    Rajshahi &            60.77 &             1040 &                2.97 &                210 \\\\\n",
      "Tungipara     &       Dhaka &            59.93 &             1066 &                3.04 &                210 \\\\\n",
      "Sarishabari   &  Mymensingh &            59.89 &             1107 &                3.16 &                210 \\\\\n",
      "Kishorganj    &       Dhaka &            59.85 &             1534 &                4.37 &                207 \\\\\n",
      "Khulna        &      Khulna &            59.73 &              992 &                2.83 &                220 \\\\\n",
      "Par Naogaon   &    Rajshahi &            59.49 &             1103 &                3.15 &                214 \\\\\n",
      "Satkhira      &      Khulna &            59.20 &              992 &                2.83 &                220 \\\\\n",
      "Bogra         &    Rajshahi &            59.17 &             1112 &                3.17 &                212 \\\\\n",
      "Ramganj       &  Chittagong &            58.67 &             1195 &                3.41 &                203 \\\\\n",
      "Jamalpur      &  Mymensingh &            58.46 &             1188 &                3.39 &                203 \\\\\n",
      "Mymensingh    &  Mymensingh &            58.45 &             1256 &                3.58 &                199 \\\\\n",
      "Comilla       &  Chittagong &            58.39 &             3296 &                9.40 &                209 \\\\\n",
      "Raipur        &  Chittagong &            58.09 &             1184 &                3.38 &                203 \\\\\n",
      "Laksham       &  Chittagong &            57.67 &             3296 &                9.40 &                205 \\\\\n",
      "Joypur Hat    &    Rajshahi &            57.62 &             1112 &                3.17 &                210 \\\\\n",
      "Sherpur       &  Mymensingh &            57.34 &             1189 &                3.39 &                203 \\\\\n",
      "Barisal       &     Barisal &            57.19 &             1068 &                3.05 &                210 \\\\\n",
      "Pirojpur      &     Barisal &            56.73 &             1079 &                3.08 &                210 \\\\\n",
      "Lakshmipur    &  Chittagong &            56.63 &             1192 &                3.40 &                207 \\\\\n",
      "Netrakona     &  Mymensingh &            55.74 &             1532 &                4.37 &                206 \\\\\n",
      "Bhola         &     Barisal &            55.45 &             1093 &                3.12 &                214 \\\\\n",
      "Dinajpur      &     Rangpur &            54.95 &             1153 &                3.29 &                213 \\\\\n",
      "Habiganj      &      Sylhet &            53.39 &             3293 &                9.39 &                205 \\\\\n",
      "Feni          &  Chittagong &            53.38 &             3298 &                9.41 &                209 \\\\\n",
      "Saidpur       &    Rajshahi &            52.26 &             1684 &                4.80 &                210 \\\\\n",
      "Thakurgaon    &     Rangpur &            51.99 &             1544 &                4.40 &                210 \\\\\n",
      "Rangpur       &     Rangpur &            51.33 &             1917 &                5.47 &                211 \\\\\n",
      "Lalmanirhat   &     Rangpur &            49.52 &             1929 &                5.50 &                210 \\\\\n",
      "Sandwip       &  Chittagong &            47.94 &             4211 &               12.01 &                206 \\\\\n",
      "Maulavi Bazar &      Sylhet &            47.10 &             4106 &               11.71 &                205 \\\\\n",
      "Khagrachhari  &  Chittagong &            45.59 &             4213 &               12.02 &                199 \\\\\n",
      "Chittagong    &  Chittagong &            44.65 &             4430 &               12.63 &                212 \\\\\n",
      "Sylhet        &      Sylhet &            44.53 &             4104 &               11.70 &                205 \\\\\n",
      "Patiya        &  Chittagong &            43.50 &             4429 &               12.63 &                212 \\\\\n",
      "Satkania      &  Chittagong &            42.71 &             4765 &               13.59 &                198 \\\\\n",
      "\\bottomrule\n",
      "\\end{tabular}\n",
      "\n"
     ]
    }
   ],
   "execution_count": 8
  },
  {
   "cell_type": "code",
   "execution_count": 32,
   "outputs": [
    {
     "data": {
      "text/plain": "                   Region  Average Reading  Missing Entries  Duplicate Values\nZone                                                                         \nPaltan              Dhaka            72.18             1097               210\nDhaka               Dhaka            72.18             1097               210\nAzimpur             Dhaka            72.16             1097               210\nTungi               Dhaka            71.95             1101               212\nNarayanganj         Dhaka            69.02             1102               214\nFaridpur            Dhaka            66.57             1068               211\nNagarpur            Dhaka            66.33             1077               211\nNarsingdi           Dhaka            65.83             1283               204\nTangail             Dhaka            65.31             1096               211\nShahzadpur       Rajshahi            64.24             1065               211\nPabna            Rajshahi            63.64             1021               211\nKushtia            Khulna            63.54             1022               211\nPalang              Dhaka            63.43             1067               210\nMadaripur           Dhaka            63.16             1068               210\nIshurdi          Rajshahi            62.97             1018               211\nNarail             Khulna            62.57              979               215\nSirajganj        Rajshahi            62.55             1098               210\nJessore            Khulna            62.25              990               211\nRajshahi         Rajshahi            61.51             1029               210\nBhairab Bazar       Dhaka            60.96             2267               210\nNawabganj        Rajshahi            60.77             1040               210\nTungipara           Dhaka            59.93             1066               210\nSarishabari    Mymensingh            59.89             1107               210\nKishorganj          Dhaka            59.85             1534               207\nKhulna             Khulna            59.73              992               220\nPar Naogaon      Rajshahi            59.49             1103               214\nSatkhira           Khulna            59.20              992               220\nBogra            Rajshahi            59.17             1112               212\nRamganj        Chittagong            58.67             1195               203\nJamalpur       Mymensingh            58.46             1188               203\nMymensingh     Mymensingh            58.45             1256               199\nComilla        Chittagong            58.39             3296               209\nRaipur         Chittagong            58.09             1184               203\nLaksham        Chittagong            57.67             3296               205\nJoypur Hat       Rajshahi            57.62             1112               210\nSherpur        Mymensingh            57.34             1189               203\nBarisal           Barisal            57.19             1068               210\nPirojpur          Barisal            56.73             1079               210\nLakshmipur     Chittagong            56.63             1192               207\nNetrakona      Mymensingh            55.74             1532               206\nBhola             Barisal            55.45             1093               214\nDinajpur          Rangpur            54.95             1153               213\nHabiganj           Sylhet            53.39             3293               205\nFeni           Chittagong            53.38             3298               209\nSaidpur          Rajshahi            52.26             1684               210\nThakurgaon        Rangpur            51.99             1544               210\nRangpur           Rangpur            51.33             1917               211\nLalmanirhat       Rangpur            49.52             1929               210\nSandwip        Chittagong            47.94             4211               206\nMaulavi Bazar      Sylhet            47.10             4106               205\nKhagrachhari   Chittagong            45.59             4213               199\nChittagong     Chittagong            44.65             4430               212\nSylhet             Sylhet            44.53             4104               205\nPatiya         Chittagong            43.50             4429               212\nSatkania       Chittagong            42.71             4765               198",
      "text/html": "<div>\n<style scoped>\n    .dataframe tbody tr th:only-of-type {\n        vertical-align: middle;\n    }\n\n    .dataframe tbody tr th {\n        vertical-align: top;\n    }\n\n    .dataframe thead th {\n        text-align: right;\n    }\n</style>\n<table border=\"1\" class=\"dataframe\">\n  <thead>\n    <tr style=\"text-align: right;\">\n      <th></th>\n      <th>Region</th>\n      <th>Average Reading</th>\n      <th>Missing Entries</th>\n      <th>Duplicate Values</th>\n    </tr>\n    <tr>\n      <th>Zone</th>\n      <th></th>\n      <th></th>\n      <th></th>\n      <th></th>\n    </tr>\n  </thead>\n  <tbody>\n    <tr>\n      <th>Paltan</th>\n      <td>Dhaka</td>\n      <td>72.18</td>\n      <td>1097</td>\n      <td>210</td>\n    </tr>\n    <tr>\n      <th>Dhaka</th>\n      <td>Dhaka</td>\n      <td>72.18</td>\n      <td>1097</td>\n      <td>210</td>\n    </tr>\n    <tr>\n      <th>Azimpur</th>\n      <td>Dhaka</td>\n      <td>72.16</td>\n      <td>1097</td>\n      <td>210</td>\n    </tr>\n    <tr>\n      <th>Tungi</th>\n      <td>Dhaka</td>\n      <td>71.95</td>\n      <td>1101</td>\n      <td>212</td>\n    </tr>\n    <tr>\n      <th>Narayanganj</th>\n      <td>Dhaka</td>\n      <td>69.02</td>\n      <td>1102</td>\n      <td>214</td>\n    </tr>\n    <tr>\n      <th>Faridpur</th>\n      <td>Dhaka</td>\n      <td>66.57</td>\n      <td>1068</td>\n      <td>211</td>\n    </tr>\n    <tr>\n      <th>Nagarpur</th>\n      <td>Dhaka</td>\n      <td>66.33</td>\n      <td>1077</td>\n      <td>211</td>\n    </tr>\n    <tr>\n      <th>Narsingdi</th>\n      <td>Dhaka</td>\n      <td>65.83</td>\n      <td>1283</td>\n      <td>204</td>\n    </tr>\n    <tr>\n      <th>Tangail</th>\n      <td>Dhaka</td>\n      <td>65.31</td>\n      <td>1096</td>\n      <td>211</td>\n    </tr>\n    <tr>\n      <th>Shahzadpur</th>\n      <td>Rajshahi</td>\n      <td>64.24</td>\n      <td>1065</td>\n      <td>211</td>\n    </tr>\n    <tr>\n      <th>Pabna</th>\n      <td>Rajshahi</td>\n      <td>63.64</td>\n      <td>1021</td>\n      <td>211</td>\n    </tr>\n    <tr>\n      <th>Kushtia</th>\n      <td>Khulna</td>\n      <td>63.54</td>\n      <td>1022</td>\n      <td>211</td>\n    </tr>\n    <tr>\n      <th>Palang</th>\n      <td>Dhaka</td>\n      <td>63.43</td>\n      <td>1067</td>\n      <td>210</td>\n    </tr>\n    <tr>\n      <th>Madaripur</th>\n      <td>Dhaka</td>\n      <td>63.16</td>\n      <td>1068</td>\n      <td>210</td>\n    </tr>\n    <tr>\n      <th>Ishurdi</th>\n      <td>Rajshahi</td>\n      <td>62.97</td>\n      <td>1018</td>\n      <td>211</td>\n    </tr>\n    <tr>\n      <th>Narail</th>\n      <td>Khulna</td>\n      <td>62.57</td>\n      <td>979</td>\n      <td>215</td>\n    </tr>\n    <tr>\n      <th>Sirajganj</th>\n      <td>Rajshahi</td>\n      <td>62.55</td>\n      <td>1098</td>\n      <td>210</td>\n    </tr>\n    <tr>\n      <th>Jessore</th>\n      <td>Khulna</td>\n      <td>62.25</td>\n      <td>990</td>\n      <td>211</td>\n    </tr>\n    <tr>\n      <th>Rajshahi</th>\n      <td>Rajshahi</td>\n      <td>61.51</td>\n      <td>1029</td>\n      <td>210</td>\n    </tr>\n    <tr>\n      <th>Bhairab Bazar</th>\n      <td>Dhaka</td>\n      <td>60.96</td>\n      <td>2267</td>\n      <td>210</td>\n    </tr>\n    <tr>\n      <th>Nawabganj</th>\n      <td>Rajshahi</td>\n      <td>60.77</td>\n      <td>1040</td>\n      <td>210</td>\n    </tr>\n    <tr>\n      <th>Tungipara</th>\n      <td>Dhaka</td>\n      <td>59.93</td>\n      <td>1066</td>\n      <td>210</td>\n    </tr>\n    <tr>\n      <th>Sarishabari</th>\n      <td>Mymensingh</td>\n      <td>59.89</td>\n      <td>1107</td>\n      <td>210</td>\n    </tr>\n    <tr>\n      <th>Kishorganj</th>\n      <td>Dhaka</td>\n      <td>59.85</td>\n      <td>1534</td>\n      <td>207</td>\n    </tr>\n    <tr>\n      <th>Khulna</th>\n      <td>Khulna</td>\n      <td>59.73</td>\n      <td>992</td>\n      <td>220</td>\n    </tr>\n    <tr>\n      <th>Par Naogaon</th>\n      <td>Rajshahi</td>\n      <td>59.49</td>\n      <td>1103</td>\n      <td>214</td>\n    </tr>\n    <tr>\n      <th>Satkhira</th>\n      <td>Khulna</td>\n      <td>59.20</td>\n      <td>992</td>\n      <td>220</td>\n    </tr>\n    <tr>\n      <th>Bogra</th>\n      <td>Rajshahi</td>\n      <td>59.17</td>\n      <td>1112</td>\n      <td>212</td>\n    </tr>\n    <tr>\n      <th>Ramganj</th>\n      <td>Chittagong</td>\n      <td>58.67</td>\n      <td>1195</td>\n      <td>203</td>\n    </tr>\n    <tr>\n      <th>Jamalpur</th>\n      <td>Mymensingh</td>\n      <td>58.46</td>\n      <td>1188</td>\n      <td>203</td>\n    </tr>\n    <tr>\n      <th>Mymensingh</th>\n      <td>Mymensingh</td>\n      <td>58.45</td>\n      <td>1256</td>\n      <td>199</td>\n    </tr>\n    <tr>\n      <th>Comilla</th>\n      <td>Chittagong</td>\n      <td>58.39</td>\n      <td>3296</td>\n      <td>209</td>\n    </tr>\n    <tr>\n      <th>Raipur</th>\n      <td>Chittagong</td>\n      <td>58.09</td>\n      <td>1184</td>\n      <td>203</td>\n    </tr>\n    <tr>\n      <th>Laksham</th>\n      <td>Chittagong</td>\n      <td>57.67</td>\n      <td>3296</td>\n      <td>205</td>\n    </tr>\n    <tr>\n      <th>Joypur Hat</th>\n      <td>Rajshahi</td>\n      <td>57.62</td>\n      <td>1112</td>\n      <td>210</td>\n    </tr>\n    <tr>\n      <th>Sherpur</th>\n      <td>Mymensingh</td>\n      <td>57.34</td>\n      <td>1189</td>\n      <td>203</td>\n    </tr>\n    <tr>\n      <th>Barisal</th>\n      <td>Barisal</td>\n      <td>57.19</td>\n      <td>1068</td>\n      <td>210</td>\n    </tr>\n    <tr>\n      <th>Pirojpur</th>\n      <td>Barisal</td>\n      <td>56.73</td>\n      <td>1079</td>\n      <td>210</td>\n    </tr>\n    <tr>\n      <th>Lakshmipur</th>\n      <td>Chittagong</td>\n      <td>56.63</td>\n      <td>1192</td>\n      <td>207</td>\n    </tr>\n    <tr>\n      <th>Netrakona</th>\n      <td>Mymensingh</td>\n      <td>55.74</td>\n      <td>1532</td>\n      <td>206</td>\n    </tr>\n    <tr>\n      <th>Bhola</th>\n      <td>Barisal</td>\n      <td>55.45</td>\n      <td>1093</td>\n      <td>214</td>\n    </tr>\n    <tr>\n      <th>Dinajpur</th>\n      <td>Rangpur</td>\n      <td>54.95</td>\n      <td>1153</td>\n      <td>213</td>\n    </tr>\n    <tr>\n      <th>Habiganj</th>\n      <td>Sylhet</td>\n      <td>53.39</td>\n      <td>3293</td>\n      <td>205</td>\n    </tr>\n    <tr>\n      <th>Feni</th>\n      <td>Chittagong</td>\n      <td>53.38</td>\n      <td>3298</td>\n      <td>209</td>\n    </tr>\n    <tr>\n      <th>Saidpur</th>\n      <td>Rajshahi</td>\n      <td>52.26</td>\n      <td>1684</td>\n      <td>210</td>\n    </tr>\n    <tr>\n      <th>Thakurgaon</th>\n      <td>Rangpur</td>\n      <td>51.99</td>\n      <td>1544</td>\n      <td>210</td>\n    </tr>\n    <tr>\n      <th>Rangpur</th>\n      <td>Rangpur</td>\n      <td>51.33</td>\n      <td>1917</td>\n      <td>211</td>\n    </tr>\n    <tr>\n      <th>Lalmanirhat</th>\n      <td>Rangpur</td>\n      <td>49.52</td>\n      <td>1929</td>\n      <td>210</td>\n    </tr>\n    <tr>\n      <th>Sandwip</th>\n      <td>Chittagong</td>\n      <td>47.94</td>\n      <td>4211</td>\n      <td>206</td>\n    </tr>\n    <tr>\n      <th>Maulavi Bazar</th>\n      <td>Sylhet</td>\n      <td>47.10</td>\n      <td>4106</td>\n      <td>205</td>\n    </tr>\n    <tr>\n      <th>Khagrachhari</th>\n      <td>Chittagong</td>\n      <td>45.59</td>\n      <td>4213</td>\n      <td>199</td>\n    </tr>\n    <tr>\n      <th>Chittagong</th>\n      <td>Chittagong</td>\n      <td>44.65</td>\n      <td>4430</td>\n      <td>212</td>\n    </tr>\n    <tr>\n      <th>Sylhet</th>\n      <td>Sylhet</td>\n      <td>44.53</td>\n      <td>4104</td>\n      <td>205</td>\n    </tr>\n    <tr>\n      <th>Patiya</th>\n      <td>Chittagong</td>\n      <td>43.50</td>\n      <td>4429</td>\n      <td>212</td>\n    </tr>\n    <tr>\n      <th>Satkania</th>\n      <td>Chittagong</td>\n      <td>42.71</td>\n      <td>4765</td>\n      <td>198</td>\n    </tr>\n  </tbody>\n</table>\n</div>"
     },
     "execution_count": 32,
     "metadata": {},
     "output_type": "execute_result"
    }
   ],
   "source": [
    "intro_table"
   ],
   "metadata": {
    "collapsed": false,
    "ExecuteTime": {
     "start_time": "2024-12-20T15:57:58.229856Z",
     "end_time": "2024-12-20T15:57:58.551843Z"
    }
   }
  },
  {
   "cell_type": "code",
   "execution_count": 33,
   "outputs": [
    {
     "data": {
      "text/plain": "               per_capita_income\nzone                            \nAzimpur                  9454.79\nBarisal                  3629.19\nBhairab Bazar            4181.99\nBhola                    3481.26\nBogra                    4268.47\nChittagong               6805.27\nComilla                  2503.52\nDhaka                    9454.79\nDinajpur                 3638.29\nFaridpur                 3645.76\nFeni                     3021.04\nHabiganj                 3628.23\nIshurdi                  3130.78\nJamalpur                 2837.73\nJessore                  4017.09\nJoypur Hat               3157.21\nKhagrachhari             2519.80\nKhulna                   9448.90\nKishorganj               4181.99\nKushtia                  4613.85\nLaksham                  2503.52\nLakshmipur               2870.03\nLalmanirhat              3127.29\nMadaripur                3457.38\nMaulavi Bazar            2386.83\nMymensingh               6077.80\nNagarpur                 3426.10\nNarail                   3242.35\nNarayanganj              8151.97\nNarsingdi                3587.89\nNawabganj                2795.04\nNetrakona                3380.27\nPabna                    3130.78\nPalang                   3396.53\nPaltan                   9454.79\nPar Naogaon              4957.67\nPatiya                   6805.27\nPirojpur                 8368.79\nRaipur                   2870.03\nRajshahi                 5592.60\nRamganj                  2870.03\nRangpur                  3801.43\nSaidpur                  2305.09\nSandwip                  6805.27\nSarishabari              2837.73\nSatkania                 6805.27\nSatkhira                 4952.99\nShahzadpur               3301.49\nSherpur                  3376.34\nSirajganj                3301.49\nSylhet                   3053.98\nTangail                  3426.10\nThakurgaon               3704.21\nTungi                    9454.79\nTungipara                4365.46",
      "text/html": "<div>\n<style scoped>\n    .dataframe tbody tr th:only-of-type {\n        vertical-align: middle;\n    }\n\n    .dataframe tbody tr th {\n        vertical-align: top;\n    }\n\n    .dataframe thead th {\n        text-align: right;\n    }\n</style>\n<table border=\"1\" class=\"dataframe\">\n  <thead>\n    <tr style=\"text-align: right;\">\n      <th></th>\n      <th>per_capita_income</th>\n    </tr>\n    <tr>\n      <th>zone</th>\n      <th></th>\n    </tr>\n  </thead>\n  <tbody>\n    <tr>\n      <th>Azimpur</th>\n      <td>9454.79</td>\n    </tr>\n    <tr>\n      <th>Barisal</th>\n      <td>3629.19</td>\n    </tr>\n    <tr>\n      <th>Bhairab Bazar</th>\n      <td>4181.99</td>\n    </tr>\n    <tr>\n      <th>Bhola</th>\n      <td>3481.26</td>\n    </tr>\n    <tr>\n      <th>Bogra</th>\n      <td>4268.47</td>\n    </tr>\n    <tr>\n      <th>Chittagong</th>\n      <td>6805.27</td>\n    </tr>\n    <tr>\n      <th>Comilla</th>\n      <td>2503.52</td>\n    </tr>\n    <tr>\n      <th>Dhaka</th>\n      <td>9454.79</td>\n    </tr>\n    <tr>\n      <th>Dinajpur</th>\n      <td>3638.29</td>\n    </tr>\n    <tr>\n      <th>Faridpur</th>\n      <td>3645.76</td>\n    </tr>\n    <tr>\n      <th>Feni</th>\n      <td>3021.04</td>\n    </tr>\n    <tr>\n      <th>Habiganj</th>\n      <td>3628.23</td>\n    </tr>\n    <tr>\n      <th>Ishurdi</th>\n      <td>3130.78</td>\n    </tr>\n    <tr>\n      <th>Jamalpur</th>\n      <td>2837.73</td>\n    </tr>\n    <tr>\n      <th>Jessore</th>\n      <td>4017.09</td>\n    </tr>\n    <tr>\n      <th>Joypur Hat</th>\n      <td>3157.21</td>\n    </tr>\n    <tr>\n      <th>Khagrachhari</th>\n      <td>2519.80</td>\n    </tr>\n    <tr>\n      <th>Khulna</th>\n      <td>9448.90</td>\n    </tr>\n    <tr>\n      <th>Kishorganj</th>\n      <td>4181.99</td>\n    </tr>\n    <tr>\n      <th>Kushtia</th>\n      <td>4613.85</td>\n    </tr>\n    <tr>\n      <th>Laksham</th>\n      <td>2503.52</td>\n    </tr>\n    <tr>\n      <th>Lakshmipur</th>\n      <td>2870.03</td>\n    </tr>\n    <tr>\n      <th>Lalmanirhat</th>\n      <td>3127.29</td>\n    </tr>\n    <tr>\n      <th>Madaripur</th>\n      <td>3457.38</td>\n    </tr>\n    <tr>\n      <th>Maulavi Bazar</th>\n      <td>2386.83</td>\n    </tr>\n    <tr>\n      <th>Mymensingh</th>\n      <td>6077.80</td>\n    </tr>\n    <tr>\n      <th>Nagarpur</th>\n      <td>3426.10</td>\n    </tr>\n    <tr>\n      <th>Narail</th>\n      <td>3242.35</td>\n    </tr>\n    <tr>\n      <th>Narayanganj</th>\n      <td>8151.97</td>\n    </tr>\n    <tr>\n      <th>Narsingdi</th>\n      <td>3587.89</td>\n    </tr>\n    <tr>\n      <th>Nawabganj</th>\n      <td>2795.04</td>\n    </tr>\n    <tr>\n      <th>Netrakona</th>\n      <td>3380.27</td>\n    </tr>\n    <tr>\n      <th>Pabna</th>\n      <td>3130.78</td>\n    </tr>\n    <tr>\n      <th>Palang</th>\n      <td>3396.53</td>\n    </tr>\n    <tr>\n      <th>Paltan</th>\n      <td>9454.79</td>\n    </tr>\n    <tr>\n      <th>Par Naogaon</th>\n      <td>4957.67</td>\n    </tr>\n    <tr>\n      <th>Patiya</th>\n      <td>6805.27</td>\n    </tr>\n    <tr>\n      <th>Pirojpur</th>\n      <td>8368.79</td>\n    </tr>\n    <tr>\n      <th>Raipur</th>\n      <td>2870.03</td>\n    </tr>\n    <tr>\n      <th>Rajshahi</th>\n      <td>5592.60</td>\n    </tr>\n    <tr>\n      <th>Ramganj</th>\n      <td>2870.03</td>\n    </tr>\n    <tr>\n      <th>Rangpur</th>\n      <td>3801.43</td>\n    </tr>\n    <tr>\n      <th>Saidpur</th>\n      <td>2305.09</td>\n    </tr>\n    <tr>\n      <th>Sandwip</th>\n      <td>6805.27</td>\n    </tr>\n    <tr>\n      <th>Sarishabari</th>\n      <td>2837.73</td>\n    </tr>\n    <tr>\n      <th>Satkania</th>\n      <td>6805.27</td>\n    </tr>\n    <tr>\n      <th>Satkhira</th>\n      <td>4952.99</td>\n    </tr>\n    <tr>\n      <th>Shahzadpur</th>\n      <td>3301.49</td>\n    </tr>\n    <tr>\n      <th>Sherpur</th>\n      <td>3376.34</td>\n    </tr>\n    <tr>\n      <th>Sirajganj</th>\n      <td>3301.49</td>\n    </tr>\n    <tr>\n      <th>Sylhet</th>\n      <td>3053.98</td>\n    </tr>\n    <tr>\n      <th>Tangail</th>\n      <td>3426.10</td>\n    </tr>\n    <tr>\n      <th>Thakurgaon</th>\n      <td>3704.21</td>\n    </tr>\n    <tr>\n      <th>Tungi</th>\n      <td>9454.79</td>\n    </tr>\n    <tr>\n      <th>Tungipara</th>\n      <td>4365.46</td>\n    </tr>\n  </tbody>\n</table>\n</div>"
     },
     "execution_count": 33,
     "metadata": {},
     "output_type": "execute_result"
    }
   ],
   "source": [
    "zone_income = pd.read_csv(\"../data_preparation/Extra Data/zone_income.csv\",index_col=\"zone\")\n",
    "zone_income_index_full = zone_income.index.copy()\n",
    "zone_income.index = zone_income.index.str.split(\"_\").str[0]\n",
    "zone_income"
   ],
   "metadata": {
    "collapsed": false,
    "ExecuteTime": {
     "start_time": "2024-12-20T15:57:58.243017Z",
     "end_time": "2024-12-20T15:57:58.578333Z"
    }
   }
  },
  {
   "cell_type": "code",
   "execution_count": 34,
   "outputs": [
    {
     "data": {
      "text/plain": "                   Region  Average Reading  Missing Entries  Duplicate Values  \\\nPaltan              Dhaka            72.18             1097               210   \nDhaka               Dhaka            72.18             1097               210   \nAzimpur             Dhaka            72.16             1097               210   \nTungi               Dhaka            71.95             1101               212   \nNarayanganj         Dhaka            69.02             1102               214   \nFaridpur            Dhaka            66.57             1068               211   \nNagarpur            Dhaka            66.33             1077               211   \nNarsingdi           Dhaka            65.83             1283               204   \nTangail             Dhaka            65.31             1096               211   \nShahzadpur       Rajshahi            64.24             1065               211   \nPabna            Rajshahi            63.64             1021               211   \nKushtia            Khulna            63.54             1022               211   \nPalang              Dhaka            63.43             1067               210   \nMadaripur           Dhaka            63.16             1068               210   \nIshurdi          Rajshahi            62.97             1018               211   \nNarail             Khulna            62.57              979               215   \nSirajganj        Rajshahi            62.55             1098               210   \nJessore            Khulna            62.25              990               211   \nRajshahi         Rajshahi            61.51             1029               210   \nBhairab Bazar       Dhaka            60.96             2267               210   \nNawabganj        Rajshahi            60.77             1040               210   \nTungipara           Dhaka            59.93             1066               210   \nSarishabari    Mymensingh            59.89             1107               210   \nKishorganj          Dhaka            59.85             1534               207   \nKhulna             Khulna            59.73              992               220   \nPar Naogaon      Rajshahi            59.49             1103               214   \nSatkhira           Khulna            59.20              992               220   \nBogra            Rajshahi            59.17             1112               212   \nRamganj        Chittagong            58.67             1195               203   \nJamalpur       Mymensingh            58.46             1188               203   \nMymensingh     Mymensingh            58.45             1256               199   \nComilla        Chittagong            58.39             3296               209   \nRaipur         Chittagong            58.09             1184               203   \nLaksham        Chittagong            57.67             3296               205   \nJoypur Hat       Rajshahi            57.62             1112               210   \nSherpur        Mymensingh            57.34             1189               203   \nBarisal           Barisal            57.19             1068               210   \nPirojpur          Barisal            56.73             1079               210   \nLakshmipur     Chittagong            56.63             1192               207   \nNetrakona      Mymensingh            55.74             1532               206   \nBhola             Barisal            55.45             1093               214   \nDinajpur          Rangpur            54.95             1153               213   \nHabiganj           Sylhet            53.39             3293               205   \nFeni           Chittagong            53.38             3298               209   \nSaidpur          Rajshahi            52.26             1684               210   \nThakurgaon        Rangpur            51.99             1544               210   \nRangpur           Rangpur            51.33             1917               211   \nLalmanirhat       Rangpur            49.52             1929               210   \nSandwip        Chittagong            47.94             4211               206   \nMaulavi Bazar      Sylhet            47.10             4106               205   \nKhagrachhari   Chittagong            45.59             4213               199   \nChittagong     Chittagong            44.65             4430               212   \nSylhet             Sylhet            44.53             4104               205   \nPatiya         Chittagong            43.50             4429               212   \nSatkania       Chittagong            42.71             4765               198   \n\n               per_capita_income  \nPaltan                   9454.79  \nDhaka                    9454.79  \nAzimpur                  9454.79  \nTungi                    9454.79  \nNarayanganj              8151.97  \nFaridpur                 3645.76  \nNagarpur                 3426.10  \nNarsingdi                3587.89  \nTangail                  3426.10  \nShahzadpur               3301.49  \nPabna                    3130.78  \nKushtia                  4613.85  \nPalang                   3396.53  \nMadaripur                3457.38  \nIshurdi                  3130.78  \nNarail                   3242.35  \nSirajganj                3301.49  \nJessore                  4017.09  \nRajshahi                 5592.60  \nBhairab Bazar            4181.99  \nNawabganj                2795.04  \nTungipara                4365.46  \nSarishabari              2837.73  \nKishorganj               4181.99  \nKhulna                   9448.90  \nPar Naogaon              4957.67  \nSatkhira                 4952.99  \nBogra                    4268.47  \nRamganj                  2870.03  \nJamalpur                 2837.73  \nMymensingh               6077.80  \nComilla                  2503.52  \nRaipur                   2870.03  \nLaksham                  2503.52  \nJoypur Hat               3157.21  \nSherpur                  3376.34  \nBarisal                  3629.19  \nPirojpur                 8368.79  \nLakshmipur               2870.03  \nNetrakona                3380.27  \nBhola                    3481.26  \nDinajpur                 3638.29  \nHabiganj                 3628.23  \nFeni                     3021.04  \nSaidpur                  2305.09  \nThakurgaon               3704.21  \nRangpur                  3801.43  \nLalmanirhat              3127.29  \nSandwip                  6805.27  \nMaulavi Bazar            2386.83  \nKhagrachhari             2519.80  \nChittagong               6805.27  \nSylhet                   3053.98  \nPatiya                   6805.27  \nSatkania                 6805.27  ",
      "text/html": "<div>\n<style scoped>\n    .dataframe tbody tr th:only-of-type {\n        vertical-align: middle;\n    }\n\n    .dataframe tbody tr th {\n        vertical-align: top;\n    }\n\n    .dataframe thead th {\n        text-align: right;\n    }\n</style>\n<table border=\"1\" class=\"dataframe\">\n  <thead>\n    <tr style=\"text-align: right;\">\n      <th></th>\n      <th>Region</th>\n      <th>Average Reading</th>\n      <th>Missing Entries</th>\n      <th>Duplicate Values</th>\n      <th>per_capita_income</th>\n    </tr>\n  </thead>\n  <tbody>\n    <tr>\n      <th>Paltan</th>\n      <td>Dhaka</td>\n      <td>72.18</td>\n      <td>1097</td>\n      <td>210</td>\n      <td>9454.79</td>\n    </tr>\n    <tr>\n      <th>Dhaka</th>\n      <td>Dhaka</td>\n      <td>72.18</td>\n      <td>1097</td>\n      <td>210</td>\n      <td>9454.79</td>\n    </tr>\n    <tr>\n      <th>Azimpur</th>\n      <td>Dhaka</td>\n      <td>72.16</td>\n      <td>1097</td>\n      <td>210</td>\n      <td>9454.79</td>\n    </tr>\n    <tr>\n      <th>Tungi</th>\n      <td>Dhaka</td>\n      <td>71.95</td>\n      <td>1101</td>\n      <td>212</td>\n      <td>9454.79</td>\n    </tr>\n    <tr>\n      <th>Narayanganj</th>\n      <td>Dhaka</td>\n      <td>69.02</td>\n      <td>1102</td>\n      <td>214</td>\n      <td>8151.97</td>\n    </tr>\n    <tr>\n      <th>Faridpur</th>\n      <td>Dhaka</td>\n      <td>66.57</td>\n      <td>1068</td>\n      <td>211</td>\n      <td>3645.76</td>\n    </tr>\n    <tr>\n      <th>Nagarpur</th>\n      <td>Dhaka</td>\n      <td>66.33</td>\n      <td>1077</td>\n      <td>211</td>\n      <td>3426.10</td>\n    </tr>\n    <tr>\n      <th>Narsingdi</th>\n      <td>Dhaka</td>\n      <td>65.83</td>\n      <td>1283</td>\n      <td>204</td>\n      <td>3587.89</td>\n    </tr>\n    <tr>\n      <th>Tangail</th>\n      <td>Dhaka</td>\n      <td>65.31</td>\n      <td>1096</td>\n      <td>211</td>\n      <td>3426.10</td>\n    </tr>\n    <tr>\n      <th>Shahzadpur</th>\n      <td>Rajshahi</td>\n      <td>64.24</td>\n      <td>1065</td>\n      <td>211</td>\n      <td>3301.49</td>\n    </tr>\n    <tr>\n      <th>Pabna</th>\n      <td>Rajshahi</td>\n      <td>63.64</td>\n      <td>1021</td>\n      <td>211</td>\n      <td>3130.78</td>\n    </tr>\n    <tr>\n      <th>Kushtia</th>\n      <td>Khulna</td>\n      <td>63.54</td>\n      <td>1022</td>\n      <td>211</td>\n      <td>4613.85</td>\n    </tr>\n    <tr>\n      <th>Palang</th>\n      <td>Dhaka</td>\n      <td>63.43</td>\n      <td>1067</td>\n      <td>210</td>\n      <td>3396.53</td>\n    </tr>\n    <tr>\n      <th>Madaripur</th>\n      <td>Dhaka</td>\n      <td>63.16</td>\n      <td>1068</td>\n      <td>210</td>\n      <td>3457.38</td>\n    </tr>\n    <tr>\n      <th>Ishurdi</th>\n      <td>Rajshahi</td>\n      <td>62.97</td>\n      <td>1018</td>\n      <td>211</td>\n      <td>3130.78</td>\n    </tr>\n    <tr>\n      <th>Narail</th>\n      <td>Khulna</td>\n      <td>62.57</td>\n      <td>979</td>\n      <td>215</td>\n      <td>3242.35</td>\n    </tr>\n    <tr>\n      <th>Sirajganj</th>\n      <td>Rajshahi</td>\n      <td>62.55</td>\n      <td>1098</td>\n      <td>210</td>\n      <td>3301.49</td>\n    </tr>\n    <tr>\n      <th>Jessore</th>\n      <td>Khulna</td>\n      <td>62.25</td>\n      <td>990</td>\n      <td>211</td>\n      <td>4017.09</td>\n    </tr>\n    <tr>\n      <th>Rajshahi</th>\n      <td>Rajshahi</td>\n      <td>61.51</td>\n      <td>1029</td>\n      <td>210</td>\n      <td>5592.60</td>\n    </tr>\n    <tr>\n      <th>Bhairab Bazar</th>\n      <td>Dhaka</td>\n      <td>60.96</td>\n      <td>2267</td>\n      <td>210</td>\n      <td>4181.99</td>\n    </tr>\n    <tr>\n      <th>Nawabganj</th>\n      <td>Rajshahi</td>\n      <td>60.77</td>\n      <td>1040</td>\n      <td>210</td>\n      <td>2795.04</td>\n    </tr>\n    <tr>\n      <th>Tungipara</th>\n      <td>Dhaka</td>\n      <td>59.93</td>\n      <td>1066</td>\n      <td>210</td>\n      <td>4365.46</td>\n    </tr>\n    <tr>\n      <th>Sarishabari</th>\n      <td>Mymensingh</td>\n      <td>59.89</td>\n      <td>1107</td>\n      <td>210</td>\n      <td>2837.73</td>\n    </tr>\n    <tr>\n      <th>Kishorganj</th>\n      <td>Dhaka</td>\n      <td>59.85</td>\n      <td>1534</td>\n      <td>207</td>\n      <td>4181.99</td>\n    </tr>\n    <tr>\n      <th>Khulna</th>\n      <td>Khulna</td>\n      <td>59.73</td>\n      <td>992</td>\n      <td>220</td>\n      <td>9448.90</td>\n    </tr>\n    <tr>\n      <th>Par Naogaon</th>\n      <td>Rajshahi</td>\n      <td>59.49</td>\n      <td>1103</td>\n      <td>214</td>\n      <td>4957.67</td>\n    </tr>\n    <tr>\n      <th>Satkhira</th>\n      <td>Khulna</td>\n      <td>59.20</td>\n      <td>992</td>\n      <td>220</td>\n      <td>4952.99</td>\n    </tr>\n    <tr>\n      <th>Bogra</th>\n      <td>Rajshahi</td>\n      <td>59.17</td>\n      <td>1112</td>\n      <td>212</td>\n      <td>4268.47</td>\n    </tr>\n    <tr>\n      <th>Ramganj</th>\n      <td>Chittagong</td>\n      <td>58.67</td>\n      <td>1195</td>\n      <td>203</td>\n      <td>2870.03</td>\n    </tr>\n    <tr>\n      <th>Jamalpur</th>\n      <td>Mymensingh</td>\n      <td>58.46</td>\n      <td>1188</td>\n      <td>203</td>\n      <td>2837.73</td>\n    </tr>\n    <tr>\n      <th>Mymensingh</th>\n      <td>Mymensingh</td>\n      <td>58.45</td>\n      <td>1256</td>\n      <td>199</td>\n      <td>6077.80</td>\n    </tr>\n    <tr>\n      <th>Comilla</th>\n      <td>Chittagong</td>\n      <td>58.39</td>\n      <td>3296</td>\n      <td>209</td>\n      <td>2503.52</td>\n    </tr>\n    <tr>\n      <th>Raipur</th>\n      <td>Chittagong</td>\n      <td>58.09</td>\n      <td>1184</td>\n      <td>203</td>\n      <td>2870.03</td>\n    </tr>\n    <tr>\n      <th>Laksham</th>\n      <td>Chittagong</td>\n      <td>57.67</td>\n      <td>3296</td>\n      <td>205</td>\n      <td>2503.52</td>\n    </tr>\n    <tr>\n      <th>Joypur Hat</th>\n      <td>Rajshahi</td>\n      <td>57.62</td>\n      <td>1112</td>\n      <td>210</td>\n      <td>3157.21</td>\n    </tr>\n    <tr>\n      <th>Sherpur</th>\n      <td>Mymensingh</td>\n      <td>57.34</td>\n      <td>1189</td>\n      <td>203</td>\n      <td>3376.34</td>\n    </tr>\n    <tr>\n      <th>Barisal</th>\n      <td>Barisal</td>\n      <td>57.19</td>\n      <td>1068</td>\n      <td>210</td>\n      <td>3629.19</td>\n    </tr>\n    <tr>\n      <th>Pirojpur</th>\n      <td>Barisal</td>\n      <td>56.73</td>\n      <td>1079</td>\n      <td>210</td>\n      <td>8368.79</td>\n    </tr>\n    <tr>\n      <th>Lakshmipur</th>\n      <td>Chittagong</td>\n      <td>56.63</td>\n      <td>1192</td>\n      <td>207</td>\n      <td>2870.03</td>\n    </tr>\n    <tr>\n      <th>Netrakona</th>\n      <td>Mymensingh</td>\n      <td>55.74</td>\n      <td>1532</td>\n      <td>206</td>\n      <td>3380.27</td>\n    </tr>\n    <tr>\n      <th>Bhola</th>\n      <td>Barisal</td>\n      <td>55.45</td>\n      <td>1093</td>\n      <td>214</td>\n      <td>3481.26</td>\n    </tr>\n    <tr>\n      <th>Dinajpur</th>\n      <td>Rangpur</td>\n      <td>54.95</td>\n      <td>1153</td>\n      <td>213</td>\n      <td>3638.29</td>\n    </tr>\n    <tr>\n      <th>Habiganj</th>\n      <td>Sylhet</td>\n      <td>53.39</td>\n      <td>3293</td>\n      <td>205</td>\n      <td>3628.23</td>\n    </tr>\n    <tr>\n      <th>Feni</th>\n      <td>Chittagong</td>\n      <td>53.38</td>\n      <td>3298</td>\n      <td>209</td>\n      <td>3021.04</td>\n    </tr>\n    <tr>\n      <th>Saidpur</th>\n      <td>Rajshahi</td>\n      <td>52.26</td>\n      <td>1684</td>\n      <td>210</td>\n      <td>2305.09</td>\n    </tr>\n    <tr>\n      <th>Thakurgaon</th>\n      <td>Rangpur</td>\n      <td>51.99</td>\n      <td>1544</td>\n      <td>210</td>\n      <td>3704.21</td>\n    </tr>\n    <tr>\n      <th>Rangpur</th>\n      <td>Rangpur</td>\n      <td>51.33</td>\n      <td>1917</td>\n      <td>211</td>\n      <td>3801.43</td>\n    </tr>\n    <tr>\n      <th>Lalmanirhat</th>\n      <td>Rangpur</td>\n      <td>49.52</td>\n      <td>1929</td>\n      <td>210</td>\n      <td>3127.29</td>\n    </tr>\n    <tr>\n      <th>Sandwip</th>\n      <td>Chittagong</td>\n      <td>47.94</td>\n      <td>4211</td>\n      <td>206</td>\n      <td>6805.27</td>\n    </tr>\n    <tr>\n      <th>Maulavi Bazar</th>\n      <td>Sylhet</td>\n      <td>47.10</td>\n      <td>4106</td>\n      <td>205</td>\n      <td>2386.83</td>\n    </tr>\n    <tr>\n      <th>Khagrachhari</th>\n      <td>Chittagong</td>\n      <td>45.59</td>\n      <td>4213</td>\n      <td>199</td>\n      <td>2519.80</td>\n    </tr>\n    <tr>\n      <th>Chittagong</th>\n      <td>Chittagong</td>\n      <td>44.65</td>\n      <td>4430</td>\n      <td>212</td>\n      <td>6805.27</td>\n    </tr>\n    <tr>\n      <th>Sylhet</th>\n      <td>Sylhet</td>\n      <td>44.53</td>\n      <td>4104</td>\n      <td>205</td>\n      <td>3053.98</td>\n    </tr>\n    <tr>\n      <th>Patiya</th>\n      <td>Chittagong</td>\n      <td>43.50</td>\n      <td>4429</td>\n      <td>212</td>\n      <td>6805.27</td>\n    </tr>\n    <tr>\n      <th>Satkania</th>\n      <td>Chittagong</td>\n      <td>42.71</td>\n      <td>4765</td>\n      <td>198</td>\n      <td>6805.27</td>\n    </tr>\n  </tbody>\n</table>\n</div>"
     },
     "execution_count": 34,
     "metadata": {},
     "output_type": "execute_result"
    }
   ],
   "source": [
    "intro_table_zone_income = pd.concat((intro_table,zone_income),axis=1)\n",
    "intro_table_zone_income"
   ],
   "metadata": {
    "collapsed": false,
    "ExecuteTime": {
     "start_time": "2024-12-20T15:57:58.285146Z",
     "end_time": "2024-12-20T15:57:58.578695Z"
    }
   }
  },
  {
   "cell_type": "code",
   "execution_count": 35,
   "outputs": [
    {
     "data": {
      "text/plain": "                   Region  Average Reading  Missing Entries  Duplicate Values  \\\nPaltan              Dhaka            72.18             1097               210   \nNarayanganj         Dhaka            69.02             1102               214   \nFaridpur            Dhaka            66.57             1068               211   \nNagarpur            Dhaka            66.33             1077               211   \nNarsingdi           Dhaka            65.83             1283               204   \nShahzadpur       Rajshahi            64.24             1065               211   \nPabna            Rajshahi            63.64             1021               211   \nKushtia            Khulna            63.54             1022               211   \nPalang              Dhaka            63.43             1067               210   \nMadaripur           Dhaka            63.16             1068               210   \nNarail             Khulna            62.57              979               215   \nJessore            Khulna            62.25              990               211   \nRajshahi         Rajshahi            61.51             1029               210   \nBhairab Bazar       Dhaka            60.96             2267               210   \nNawabganj        Rajshahi            60.77             1040               210   \nTungipara           Dhaka            59.93             1066               210   \nSarishabari    Mymensingh            59.89             1107               210   \nKhulna             Khulna            59.73              992               220   \nPar Naogaon      Rajshahi            59.49             1103               214   \nSatkhira           Khulna            59.20              992               220   \nBogra            Rajshahi            59.17             1112               212   \nRamganj        Chittagong            58.67             1195               203   \nMymensingh     Mymensingh            58.45             1256               199   \nComilla        Chittagong            58.39             3296               209   \nJoypur Hat       Rajshahi            57.62             1112               210   \nSherpur        Mymensingh            57.34             1189               203   \nBarisal           Barisal            57.19             1068               210   \nPirojpur          Barisal            56.73             1079               210   \nNetrakona      Mymensingh            55.74             1532               206   \nBhola             Barisal            55.45             1093               214   \nDinajpur          Rangpur            54.95             1153               213   \nHabiganj           Sylhet            53.39             3293               205   \nFeni           Chittagong            53.38             3298               209   \nSaidpur          Rajshahi            52.26             1684               210   \nThakurgaon        Rangpur            51.99             1544               210   \nRangpur           Rangpur            51.33             1917               211   \nLalmanirhat       Rangpur            49.52             1929               210   \nSandwip        Chittagong            47.94             4211               206   \nMaulavi Bazar      Sylhet            47.10             4106               205   \nKhagrachhari   Chittagong            45.59             4213               199   \nSylhet             Sylhet            44.53             4104               205   \n\n               per_capita_income  \nPaltan                   9454.79  \nNarayanganj              8151.97  \nFaridpur                 3645.76  \nNagarpur                 3426.10  \nNarsingdi                3587.89  \nShahzadpur               3301.49  \nPabna                    3130.78  \nKushtia                  4613.85  \nPalang                   3396.53  \nMadaripur                3457.38  \nNarail                   3242.35  \nJessore                  4017.09  \nRajshahi                 5592.60  \nBhairab Bazar            4181.99  \nNawabganj                2795.04  \nTungipara                4365.46  \nSarishabari              2837.73  \nKhulna                   9448.90  \nPar Naogaon              4957.67  \nSatkhira                 4952.99  \nBogra                    4268.47  \nRamganj                  2870.03  \nMymensingh               6077.80  \nComilla                  2503.52  \nJoypur Hat               3157.21  \nSherpur                  3376.34  \nBarisal                  3629.19  \nPirojpur                 8368.79  \nNetrakona                3380.27  \nBhola                    3481.26  \nDinajpur                 3638.29  \nHabiganj                 3628.23  \nFeni                     3021.04  \nSaidpur                  2305.09  \nThakurgaon               3704.21  \nRangpur                  3801.43  \nLalmanirhat              3127.29  \nSandwip                  6805.27  \nMaulavi Bazar            2386.83  \nKhagrachhari             2519.80  \nSylhet                   3053.98  ",
      "text/html": "<div>\n<style scoped>\n    .dataframe tbody tr th:only-of-type {\n        vertical-align: middle;\n    }\n\n    .dataframe tbody tr th {\n        vertical-align: top;\n    }\n\n    .dataframe thead th {\n        text-align: right;\n    }\n</style>\n<table border=\"1\" class=\"dataframe\">\n  <thead>\n    <tr style=\"text-align: right;\">\n      <th></th>\n      <th>Region</th>\n      <th>Average Reading</th>\n      <th>Missing Entries</th>\n      <th>Duplicate Values</th>\n      <th>per_capita_income</th>\n    </tr>\n  </thead>\n  <tbody>\n    <tr>\n      <th>Paltan</th>\n      <td>Dhaka</td>\n      <td>72.18</td>\n      <td>1097</td>\n      <td>210</td>\n      <td>9454.79</td>\n    </tr>\n    <tr>\n      <th>Narayanganj</th>\n      <td>Dhaka</td>\n      <td>69.02</td>\n      <td>1102</td>\n      <td>214</td>\n      <td>8151.97</td>\n    </tr>\n    <tr>\n      <th>Faridpur</th>\n      <td>Dhaka</td>\n      <td>66.57</td>\n      <td>1068</td>\n      <td>211</td>\n      <td>3645.76</td>\n    </tr>\n    <tr>\n      <th>Nagarpur</th>\n      <td>Dhaka</td>\n      <td>66.33</td>\n      <td>1077</td>\n      <td>211</td>\n      <td>3426.10</td>\n    </tr>\n    <tr>\n      <th>Narsingdi</th>\n      <td>Dhaka</td>\n      <td>65.83</td>\n      <td>1283</td>\n      <td>204</td>\n      <td>3587.89</td>\n    </tr>\n    <tr>\n      <th>Shahzadpur</th>\n      <td>Rajshahi</td>\n      <td>64.24</td>\n      <td>1065</td>\n      <td>211</td>\n      <td>3301.49</td>\n    </tr>\n    <tr>\n      <th>Pabna</th>\n      <td>Rajshahi</td>\n      <td>63.64</td>\n      <td>1021</td>\n      <td>211</td>\n      <td>3130.78</td>\n    </tr>\n    <tr>\n      <th>Kushtia</th>\n      <td>Khulna</td>\n      <td>63.54</td>\n      <td>1022</td>\n      <td>211</td>\n      <td>4613.85</td>\n    </tr>\n    <tr>\n      <th>Palang</th>\n      <td>Dhaka</td>\n      <td>63.43</td>\n      <td>1067</td>\n      <td>210</td>\n      <td>3396.53</td>\n    </tr>\n    <tr>\n      <th>Madaripur</th>\n      <td>Dhaka</td>\n      <td>63.16</td>\n      <td>1068</td>\n      <td>210</td>\n      <td>3457.38</td>\n    </tr>\n    <tr>\n      <th>Narail</th>\n      <td>Khulna</td>\n      <td>62.57</td>\n      <td>979</td>\n      <td>215</td>\n      <td>3242.35</td>\n    </tr>\n    <tr>\n      <th>Jessore</th>\n      <td>Khulna</td>\n      <td>62.25</td>\n      <td>990</td>\n      <td>211</td>\n      <td>4017.09</td>\n    </tr>\n    <tr>\n      <th>Rajshahi</th>\n      <td>Rajshahi</td>\n      <td>61.51</td>\n      <td>1029</td>\n      <td>210</td>\n      <td>5592.60</td>\n    </tr>\n    <tr>\n      <th>Bhairab Bazar</th>\n      <td>Dhaka</td>\n      <td>60.96</td>\n      <td>2267</td>\n      <td>210</td>\n      <td>4181.99</td>\n    </tr>\n    <tr>\n      <th>Nawabganj</th>\n      <td>Rajshahi</td>\n      <td>60.77</td>\n      <td>1040</td>\n      <td>210</td>\n      <td>2795.04</td>\n    </tr>\n    <tr>\n      <th>Tungipara</th>\n      <td>Dhaka</td>\n      <td>59.93</td>\n      <td>1066</td>\n      <td>210</td>\n      <td>4365.46</td>\n    </tr>\n    <tr>\n      <th>Sarishabari</th>\n      <td>Mymensingh</td>\n      <td>59.89</td>\n      <td>1107</td>\n      <td>210</td>\n      <td>2837.73</td>\n    </tr>\n    <tr>\n      <th>Khulna</th>\n      <td>Khulna</td>\n      <td>59.73</td>\n      <td>992</td>\n      <td>220</td>\n      <td>9448.90</td>\n    </tr>\n    <tr>\n      <th>Par Naogaon</th>\n      <td>Rajshahi</td>\n      <td>59.49</td>\n      <td>1103</td>\n      <td>214</td>\n      <td>4957.67</td>\n    </tr>\n    <tr>\n      <th>Satkhira</th>\n      <td>Khulna</td>\n      <td>59.20</td>\n      <td>992</td>\n      <td>220</td>\n      <td>4952.99</td>\n    </tr>\n    <tr>\n      <th>Bogra</th>\n      <td>Rajshahi</td>\n      <td>59.17</td>\n      <td>1112</td>\n      <td>212</td>\n      <td>4268.47</td>\n    </tr>\n    <tr>\n      <th>Ramganj</th>\n      <td>Chittagong</td>\n      <td>58.67</td>\n      <td>1195</td>\n      <td>203</td>\n      <td>2870.03</td>\n    </tr>\n    <tr>\n      <th>Mymensingh</th>\n      <td>Mymensingh</td>\n      <td>58.45</td>\n      <td>1256</td>\n      <td>199</td>\n      <td>6077.80</td>\n    </tr>\n    <tr>\n      <th>Comilla</th>\n      <td>Chittagong</td>\n      <td>58.39</td>\n      <td>3296</td>\n      <td>209</td>\n      <td>2503.52</td>\n    </tr>\n    <tr>\n      <th>Joypur Hat</th>\n      <td>Rajshahi</td>\n      <td>57.62</td>\n      <td>1112</td>\n      <td>210</td>\n      <td>3157.21</td>\n    </tr>\n    <tr>\n      <th>Sherpur</th>\n      <td>Mymensingh</td>\n      <td>57.34</td>\n      <td>1189</td>\n      <td>203</td>\n      <td>3376.34</td>\n    </tr>\n    <tr>\n      <th>Barisal</th>\n      <td>Barisal</td>\n      <td>57.19</td>\n      <td>1068</td>\n      <td>210</td>\n      <td>3629.19</td>\n    </tr>\n    <tr>\n      <th>Pirojpur</th>\n      <td>Barisal</td>\n      <td>56.73</td>\n      <td>1079</td>\n      <td>210</td>\n      <td>8368.79</td>\n    </tr>\n    <tr>\n      <th>Netrakona</th>\n      <td>Mymensingh</td>\n      <td>55.74</td>\n      <td>1532</td>\n      <td>206</td>\n      <td>3380.27</td>\n    </tr>\n    <tr>\n      <th>Bhola</th>\n      <td>Barisal</td>\n      <td>55.45</td>\n      <td>1093</td>\n      <td>214</td>\n      <td>3481.26</td>\n    </tr>\n    <tr>\n      <th>Dinajpur</th>\n      <td>Rangpur</td>\n      <td>54.95</td>\n      <td>1153</td>\n      <td>213</td>\n      <td>3638.29</td>\n    </tr>\n    <tr>\n      <th>Habiganj</th>\n      <td>Sylhet</td>\n      <td>53.39</td>\n      <td>3293</td>\n      <td>205</td>\n      <td>3628.23</td>\n    </tr>\n    <tr>\n      <th>Feni</th>\n      <td>Chittagong</td>\n      <td>53.38</td>\n      <td>3298</td>\n      <td>209</td>\n      <td>3021.04</td>\n    </tr>\n    <tr>\n      <th>Saidpur</th>\n      <td>Rajshahi</td>\n      <td>52.26</td>\n      <td>1684</td>\n      <td>210</td>\n      <td>2305.09</td>\n    </tr>\n    <tr>\n      <th>Thakurgaon</th>\n      <td>Rangpur</td>\n      <td>51.99</td>\n      <td>1544</td>\n      <td>210</td>\n      <td>3704.21</td>\n    </tr>\n    <tr>\n      <th>Rangpur</th>\n      <td>Rangpur</td>\n      <td>51.33</td>\n      <td>1917</td>\n      <td>211</td>\n      <td>3801.43</td>\n    </tr>\n    <tr>\n      <th>Lalmanirhat</th>\n      <td>Rangpur</td>\n      <td>49.52</td>\n      <td>1929</td>\n      <td>210</td>\n      <td>3127.29</td>\n    </tr>\n    <tr>\n      <th>Sandwip</th>\n      <td>Chittagong</td>\n      <td>47.94</td>\n      <td>4211</td>\n      <td>206</td>\n      <td>6805.27</td>\n    </tr>\n    <tr>\n      <th>Maulavi Bazar</th>\n      <td>Sylhet</td>\n      <td>47.10</td>\n      <td>4106</td>\n      <td>205</td>\n      <td>2386.83</td>\n    </tr>\n    <tr>\n      <th>Khagrachhari</th>\n      <td>Chittagong</td>\n      <td>45.59</td>\n      <td>4213</td>\n      <td>199</td>\n      <td>2519.80</td>\n    </tr>\n    <tr>\n      <th>Sylhet</th>\n      <td>Sylhet</td>\n      <td>44.53</td>\n      <td>4104</td>\n      <td>205</td>\n      <td>3053.98</td>\n    </tr>\n  </tbody>\n</table>\n</div>"
     },
     "execution_count": 35,
     "metadata": {},
     "output_type": "execute_result"
    }
   ],
   "source": [
    "intro_table_zone_income = intro_table_zone_income.drop_duplicates(subset=[\"per_capita_income\"])\n",
    "intro_table_zone_income"
   ],
   "metadata": {
    "collapsed": false,
    "ExecuteTime": {
     "start_time": "2024-12-20T15:57:58.285608Z",
     "end_time": "2024-12-20T15:57:58.578929Z"
    }
   }
  },
  {
   "cell_type": "code",
   "execution_count": 36,
   "outputs": [
    {
     "data": {
      "text/plain": "0.33575667730651093"
     },
     "execution_count": 36,
     "metadata": {},
     "output_type": "execute_result"
    }
   ],
   "source": [
    "intro_table_zone_income[\"Average Reading\"].corr(intro_table_zone_income[\"per_capita_income\"])"
   ],
   "metadata": {
    "collapsed": false,
    "ExecuteTime": {
     "start_time": "2024-12-20T15:57:58.285910Z",
     "end_time": "2024-12-20T15:57:58.579168Z"
    }
   }
  },
  {
   "cell_type": "markdown",
   "source": [],
   "metadata": {
    "collapsed": false
   }
  },
  {
   "cell_type": "code",
   "execution_count": 37,
   "outputs": [
    {
     "data": {
      "text/plain": "Region               0\nAverage Reading      0\nMissing Entries      0\nDuplicate Values     0\nper_capita_income    0\ndtype: int64"
     },
     "execution_count": 37,
     "metadata": {},
     "output_type": "execute_result"
    }
   ],
   "source": [
    "intro_table_zone_income.isna().sum()"
   ],
   "metadata": {
    "collapsed": false,
    "ExecuteTime": {
     "start_time": "2024-12-20T15:57:58.285998Z",
     "end_time": "2024-12-20T15:57:58.579415Z"
    }
   }
  },
  {
   "cell_type": "code",
   "execution_count": 38,
   "outputs": [
    {
     "data": {
      "application/vnd.plotly.v1+json": {
       "config": {
        "plotlyServerURL": "https://plot.ly"
       },
       "data": [
        {
         "hovertemplate": "Per Capita Income: %{x}<br>Average Reading: %{y}<extra></extra>",
         "marker": {
          "color": [
           9454.79,
           8151.97,
           3645.76,
           3426.1,
           3587.89,
           3301.49,
           3130.78,
           4613.85,
           3396.53,
           3457.38,
           3242.35,
           4017.09,
           5592.6,
           4181.99,
           2795.04,
           4365.46,
           2837.73,
           9448.9,
           4957.67,
           4952.99,
           4268.47,
           2870.03,
           6077.8,
           2503.52,
           3157.21,
           3376.34,
           3629.19,
           8368.79,
           3380.27,
           3481.26,
           3638.29,
           3628.23,
           3021.04,
           2305.09,
           3704.21,
           3801.43,
           3127.29,
           6805.27,
           2386.83,
           2519.8,
           3053.98
          ],
          "colorscale": [
           [
            0.0,
            "rgb(0, 0, 0)"
           ],
           [
            0.09090909090909091,
            "rgb(16, 16, 16)"
           ],
           [
            0.18181818181818182,
            "rgb(38, 38, 38)"
           ],
           [
            0.2727272727272727,
            "rgb(59, 59, 59)"
           ],
           [
            0.36363636363636365,
            "rgb(81, 80, 80)"
           ],
           [
            0.45454545454545453,
            "rgb(102, 101, 101)"
           ],
           [
            0.5454545454545454,
            "rgb(124, 123, 122)"
           ],
           [
            0.6363636363636364,
            "rgb(146, 146, 145)"
           ],
           [
            0.7272727272727273,
            "rgb(171, 171, 170)"
           ],
           [
            0.8181818181818182,
            "rgb(197, 197, 195)"
           ],
           [
            0.9090909090909091,
            "rgb(224, 224, 223)"
           ],
           [
            1.0,
            "rgb(254, 254, 253)"
           ]
          ],
          "line": {
           "color": "black",
           "width": 1
          },
          "size": 12
         },
         "mode": "markers",
         "name": "Data Points",
         "type": "scatter",
         "x": [
          9454.79,
          8151.97,
          3645.76,
          3426.1,
          3587.89,
          3301.49,
          3130.78,
          4613.85,
          3396.53,
          3457.38,
          3242.35,
          4017.09,
          5592.6,
          4181.99,
          2795.04,
          4365.46,
          2837.73,
          9448.9,
          4957.67,
          4952.99,
          4268.47,
          2870.03,
          6077.8,
          2503.52,
          3157.21,
          3376.34,
          3629.19,
          8368.79,
          3380.27,
          3481.26,
          3638.29,
          3628.23,
          3021.04,
          2305.09,
          3704.21,
          3801.43,
          3127.29,
          6805.27,
          2386.83,
          2519.8,
          3053.98
         ],
         "y": [
          72.18,
          69.02,
          66.57,
          66.33,
          65.83,
          64.24,
          63.64,
          63.54,
          63.43,
          63.16,
          62.57,
          62.25,
          61.51,
          60.96,
          60.77,
          59.93,
          59.89,
          59.73,
          59.49,
          59.2,
          59.17,
          58.67,
          58.45,
          58.39,
          57.62,
          57.34,
          57.19,
          56.73,
          55.74,
          55.45,
          54.95,
          53.39,
          53.38,
          52.26,
          51.99,
          51.33,
          49.52,
          47.94,
          47.1,
          45.59,
          44.53
         ]
        },
        {
         "line": {
          "color": "royalblue",
          "dash": "dash"
         },
         "marker": {
          "line": {
           "color": "black",
           "width": 1
          }
         },
         "mode": "lines",
         "name": "Regression Line",
         "type": "scatter",
         "x": [
          2305.09,
          9454.79
         ],
         "y": [
          56.14866915879773,
          64.38448831750506
         ]
        }
       ],
       "layout": {
        "height": 900,
        "template": {
         "data": {
          "bar": [
           {
            "error_x": {
             "color": "#2a3f5f"
            },
            "error_y": {
             "color": "#2a3f5f"
            },
            "marker": {
             "line": {
              "color": "white",
              "width": 0.5
             }
            },
            "type": "bar"
           }
          ],
          "barpolar": [
           {
            "marker": {
             "line": {
              "color": "white",
              "width": 0.5
             }
            },
            "type": "barpolar"
           }
          ],
          "carpet": [
           {
            "aaxis": {
             "endlinecolor": "#2a3f5f",
             "gridcolor": "#C8D4E3",
             "linecolor": "#C8D4E3",
             "minorgridcolor": "#C8D4E3",
             "startlinecolor": "#2a3f5f"
            },
            "baxis": {
             "endlinecolor": "#2a3f5f",
             "gridcolor": "#C8D4E3",
             "linecolor": "#C8D4E3",
             "minorgridcolor": "#C8D4E3",
             "startlinecolor": "#2a3f5f"
            },
            "type": "carpet"
           }
          ],
          "choropleth": [
           {
            "colorbar": {
             "outlinewidth": 0,
             "ticks": ""
            },
            "type": "choropleth"
           }
          ],
          "contour": [
           {
            "colorbar": {
             "outlinewidth": 0,
             "ticks": ""
            },
            "colorscale": [
             [
              0.0,
              "#0d0887"
             ],
             [
              0.1111111111111111,
              "#46039f"
             ],
             [
              0.2222222222222222,
              "#7201a8"
             ],
             [
              0.3333333333333333,
              "#9c179e"
             ],
             [
              0.4444444444444444,
              "#bd3786"
             ],
             [
              0.5555555555555556,
              "#d8576b"
             ],
             [
              0.6666666666666666,
              "#ed7953"
             ],
             [
              0.7777777777777778,
              "#fb9f3a"
             ],
             [
              0.8888888888888888,
              "#fdca26"
             ],
             [
              1.0,
              "#f0f921"
             ]
            ],
            "type": "contour"
           }
          ],
          "contourcarpet": [
           {
            "colorbar": {
             "outlinewidth": 0,
             "ticks": ""
            },
            "type": "contourcarpet"
           }
          ],
          "heatmap": [
           {
            "colorbar": {
             "outlinewidth": 0,
             "ticks": ""
            },
            "colorscale": [
             [
              0.0,
              "#0d0887"
             ],
             [
              0.1111111111111111,
              "#46039f"
             ],
             [
              0.2222222222222222,
              "#7201a8"
             ],
             [
              0.3333333333333333,
              "#9c179e"
             ],
             [
              0.4444444444444444,
              "#bd3786"
             ],
             [
              0.5555555555555556,
              "#d8576b"
             ],
             [
              0.6666666666666666,
              "#ed7953"
             ],
             [
              0.7777777777777778,
              "#fb9f3a"
             ],
             [
              0.8888888888888888,
              "#fdca26"
             ],
             [
              1.0,
              "#f0f921"
             ]
            ],
            "type": "heatmap"
           }
          ],
          "heatmapgl": [
           {
            "colorbar": {
             "outlinewidth": 0,
             "ticks": ""
            },
            "colorscale": [
             [
              0.0,
              "#0d0887"
             ],
             [
              0.1111111111111111,
              "#46039f"
             ],
             [
              0.2222222222222222,
              "#7201a8"
             ],
             [
              0.3333333333333333,
              "#9c179e"
             ],
             [
              0.4444444444444444,
              "#bd3786"
             ],
             [
              0.5555555555555556,
              "#d8576b"
             ],
             [
              0.6666666666666666,
              "#ed7953"
             ],
             [
              0.7777777777777778,
              "#fb9f3a"
             ],
             [
              0.8888888888888888,
              "#fdca26"
             ],
             [
              1.0,
              "#f0f921"
             ]
            ],
            "type": "heatmapgl"
           }
          ],
          "histogram": [
           {
            "marker": {
             "colorbar": {
              "outlinewidth": 0,
              "ticks": ""
             }
            },
            "type": "histogram"
           }
          ],
          "histogram2d": [
           {
            "colorbar": {
             "outlinewidth": 0,
             "ticks": ""
            },
            "colorscale": [
             [
              0.0,
              "#0d0887"
             ],
             [
              0.1111111111111111,
              "#46039f"
             ],
             [
              0.2222222222222222,
              "#7201a8"
             ],
             [
              0.3333333333333333,
              "#9c179e"
             ],
             [
              0.4444444444444444,
              "#bd3786"
             ],
             [
              0.5555555555555556,
              "#d8576b"
             ],
             [
              0.6666666666666666,
              "#ed7953"
             ],
             [
              0.7777777777777778,
              "#fb9f3a"
             ],
             [
              0.8888888888888888,
              "#fdca26"
             ],
             [
              1.0,
              "#f0f921"
             ]
            ],
            "type": "histogram2d"
           }
          ],
          "histogram2dcontour": [
           {
            "colorbar": {
             "outlinewidth": 0,
             "ticks": ""
            },
            "colorscale": [
             [
              0.0,
              "#0d0887"
             ],
             [
              0.1111111111111111,
              "#46039f"
             ],
             [
              0.2222222222222222,
              "#7201a8"
             ],
             [
              0.3333333333333333,
              "#9c179e"
             ],
             [
              0.4444444444444444,
              "#bd3786"
             ],
             [
              0.5555555555555556,
              "#d8576b"
             ],
             [
              0.6666666666666666,
              "#ed7953"
             ],
             [
              0.7777777777777778,
              "#fb9f3a"
             ],
             [
              0.8888888888888888,
              "#fdca26"
             ],
             [
              1.0,
              "#f0f921"
             ]
            ],
            "type": "histogram2dcontour"
           }
          ],
          "mesh3d": [
           {
            "colorbar": {
             "outlinewidth": 0,
             "ticks": ""
            },
            "type": "mesh3d"
           }
          ],
          "parcoords": [
           {
            "line": {
             "colorbar": {
              "outlinewidth": 0,
              "ticks": ""
             }
            },
            "type": "parcoords"
           }
          ],
          "pie": [
           {
            "automargin": true,
            "type": "pie"
           }
          ],
          "scatter": [
           {
            "marker": {
             "colorbar": {
              "outlinewidth": 0,
              "ticks": ""
             }
            },
            "type": "scatter"
           }
          ],
          "scatter3d": [
           {
            "line": {
             "colorbar": {
              "outlinewidth": 0,
              "ticks": ""
             }
            },
            "marker": {
             "colorbar": {
              "outlinewidth": 0,
              "ticks": ""
             }
            },
            "type": "scatter3d"
           }
          ],
          "scattercarpet": [
           {
            "marker": {
             "colorbar": {
              "outlinewidth": 0,
              "ticks": ""
             }
            },
            "type": "scattercarpet"
           }
          ],
          "scattergeo": [
           {
            "marker": {
             "colorbar": {
              "outlinewidth": 0,
              "ticks": ""
             }
            },
            "type": "scattergeo"
           }
          ],
          "scattergl": [
           {
            "marker": {
             "colorbar": {
              "outlinewidth": 0,
              "ticks": ""
             }
            },
            "type": "scattergl"
           }
          ],
          "scattermapbox": [
           {
            "marker": {
             "colorbar": {
              "outlinewidth": 0,
              "ticks": ""
             }
            },
            "type": "scattermapbox"
           }
          ],
          "scatterpolar": [
           {
            "marker": {
             "colorbar": {
              "outlinewidth": 0,
              "ticks": ""
             }
            },
            "type": "scatterpolar"
           }
          ],
          "scatterpolargl": [
           {
            "marker": {
             "colorbar": {
              "outlinewidth": 0,
              "ticks": ""
             }
            },
            "type": "scatterpolargl"
           }
          ],
          "scatterternary": [
           {
            "marker": {
             "colorbar": {
              "outlinewidth": 0,
              "ticks": ""
             }
            },
            "type": "scatterternary"
           }
          ],
          "surface": [
           {
            "colorbar": {
             "outlinewidth": 0,
             "ticks": ""
            },
            "colorscale": [
             [
              0.0,
              "#0d0887"
             ],
             [
              0.1111111111111111,
              "#46039f"
             ],
             [
              0.2222222222222222,
              "#7201a8"
             ],
             [
              0.3333333333333333,
              "#9c179e"
             ],
             [
              0.4444444444444444,
              "#bd3786"
             ],
             [
              0.5555555555555556,
              "#d8576b"
             ],
             [
              0.6666666666666666,
              "#ed7953"
             ],
             [
              0.7777777777777778,
              "#fb9f3a"
             ],
             [
              0.8888888888888888,
              "#fdca26"
             ],
             [
              1.0,
              "#f0f921"
             ]
            ],
            "type": "surface"
           }
          ],
          "table": [
           {
            "cells": {
             "fill": {
              "color": "#EBF0F8"
             },
             "line": {
              "color": "white"
             }
            },
            "header": {
             "fill": {
              "color": "#C8D4E3"
             },
             "line": {
              "color": "white"
             }
            },
            "type": "table"
           }
          ]
         },
         "layout": {
          "annotationdefaults": {
           "arrowcolor": "#2a3f5f",
           "arrowhead": 0,
           "arrowwidth": 1
          },
          "coloraxis": {
           "colorbar": {
            "outlinewidth": 0,
            "ticks": ""
           }
          },
          "colorscale": {
           "diverging": [
            [
             0,
             "#8e0152"
            ],
            [
             0.1,
             "#c51b7d"
            ],
            [
             0.2,
             "#de77ae"
            ],
            [
             0.3,
             "#f1b6da"
            ],
            [
             0.4,
             "#fde0ef"
            ],
            [
             0.5,
             "#f7f7f7"
            ],
            [
             0.6,
             "#e6f5d0"
            ],
            [
             0.7,
             "#b8e186"
            ],
            [
             0.8,
             "#7fbc41"
            ],
            [
             0.9,
             "#4d9221"
            ],
            [
             1,
             "#276419"
            ]
           ],
           "sequential": [
            [
             0.0,
             "#0d0887"
            ],
            [
             0.1111111111111111,
             "#46039f"
            ],
            [
             0.2222222222222222,
             "#7201a8"
            ],
            [
             0.3333333333333333,
             "#9c179e"
            ],
            [
             0.4444444444444444,
             "#bd3786"
            ],
            [
             0.5555555555555556,
             "#d8576b"
            ],
            [
             0.6666666666666666,
             "#ed7953"
            ],
            [
             0.7777777777777778,
             "#fb9f3a"
            ],
            [
             0.8888888888888888,
             "#fdca26"
            ],
            [
             1.0,
             "#f0f921"
            ]
           ],
           "sequentialminus": [
            [
             0.0,
             "#0d0887"
            ],
            [
             0.1111111111111111,
             "#46039f"
            ],
            [
             0.2222222222222222,
             "#7201a8"
            ],
            [
             0.3333333333333333,
             "#9c179e"
            ],
            [
             0.4444444444444444,
             "#bd3786"
            ],
            [
             0.5555555555555556,
             "#d8576b"
            ],
            [
             0.6666666666666666,
             "#ed7953"
            ],
            [
             0.7777777777777778,
             "#fb9f3a"
            ],
            [
             0.8888888888888888,
             "#fdca26"
            ],
            [
             1.0,
             "#f0f921"
            ]
           ]
          },
          "colorway": [
           "#636efa",
           "#EF553B",
           "#00cc96",
           "#ab63fa",
           "#FFA15A",
           "#19d3f3",
           "#FF6692",
           "#B6E880",
           "#FF97FF",
           "#FECB52"
          ],
          "font": {
           "color": "#2a3f5f"
          },
          "geo": {
           "bgcolor": "white",
           "lakecolor": "white",
           "landcolor": "white",
           "showlakes": true,
           "showland": true,
           "subunitcolor": "#C8D4E3"
          },
          "hoverlabel": {
           "align": "left"
          },
          "hovermode": "closest",
          "mapbox": {
           "style": "light"
          },
          "paper_bgcolor": "white",
          "plot_bgcolor": "white",
          "polar": {
           "angularaxis": {
            "gridcolor": "#EBF0F8",
            "linecolor": "#EBF0F8",
            "ticks": ""
           },
           "bgcolor": "white",
           "radialaxis": {
            "gridcolor": "#EBF0F8",
            "linecolor": "#EBF0F8",
            "ticks": ""
           }
          },
          "scene": {
           "xaxis": {
            "backgroundcolor": "white",
            "gridcolor": "#DFE8F3",
            "gridwidth": 2,
            "linecolor": "#EBF0F8",
            "showbackground": true,
            "ticks": "",
            "zerolinecolor": "#EBF0F8"
           },
           "yaxis": {
            "backgroundcolor": "white",
            "gridcolor": "#DFE8F3",
            "gridwidth": 2,
            "linecolor": "#EBF0F8",
            "showbackground": true,
            "ticks": "",
            "zerolinecolor": "#EBF0F8"
           },
           "zaxis": {
            "backgroundcolor": "white",
            "gridcolor": "#DFE8F3",
            "gridwidth": 2,
            "linecolor": "#EBF0F8",
            "showbackground": true,
            "ticks": "",
            "zerolinecolor": "#EBF0F8"
           }
          },
          "shapedefaults": {
           "line": {
            "color": "#2a3f5f"
           }
          },
          "ternary": {
           "aaxis": {
            "gridcolor": "#DFE8F3",
            "linecolor": "#A2B1C6",
            "ticks": ""
           },
           "baxis": {
            "gridcolor": "#DFE8F3",
            "linecolor": "#A2B1C6",
            "ticks": ""
           },
           "bgcolor": "white",
           "caxis": {
            "gridcolor": "#DFE8F3",
            "linecolor": "#A2B1C6",
            "ticks": ""
           }
          },
          "title": {
           "x": 0.05
          },
          "xaxis": {
           "automargin": true,
           "gridcolor": "#EBF0F8",
           "linecolor": "#EBF0F8",
           "ticks": "",
           "title": {
            "standoff": 15
           },
           "zerolinecolor": "#EBF0F8",
           "zerolinewidth": 2
          },
          "yaxis": {
           "automargin": true,
           "gridcolor": "#EBF0F8",
           "linecolor": "#EBF0F8",
           "ticks": "",
           "title": {
            "standoff": 15
           },
           "zerolinecolor": "#EBF0F8",
           "zerolinewidth": 2
          }
         }
        },
        "title": {
         "text": "Scatter Plot: Average Reading vs Per Capita Income<br>R-squared: 0.1127, p-value: 0.0319"
        },
        "width": 900,
        "xaxis": {
         "title": {
          "text": "Per Capita Income"
         }
        },
        "yaxis": {
         "title": {
          "text": "Average Reading"
         }
        }
       }
      },
      "text/html": "<div>\n        \n        \n            <div id=\"04b006f4-7e7e-4c77-af95-07442faf2004\" class=\"plotly-graph-div\" style=\"height:900px; width:900px;\"></div>\n            <script type=\"text/javascript\">\n                require([\"plotly\"], function(Plotly) {\n                    window.PLOTLYENV=window.PLOTLYENV || {};\n                    \n                if (document.getElementById(\"04b006f4-7e7e-4c77-af95-07442faf2004\")) {\n                    Plotly.newPlot(\n                        '04b006f4-7e7e-4c77-af95-07442faf2004',\n                        [{\"hovertemplate\": \"Per Capita Income: %{x}<br>Average Reading: %{y}<extra></extra>\", \"marker\": {\"color\": [9454.79, 8151.97, 3645.76, 3426.1, 3587.89, 3301.49, 3130.78, 4613.85, 3396.53, 3457.38, 3242.35, 4017.09, 5592.6, 4181.99, 2795.04, 4365.46, 2837.73, 9448.9, 4957.67, 4952.99, 4268.47, 2870.03, 6077.8, 2503.52, 3157.21, 3376.34, 3629.19, 8368.79, 3380.27, 3481.26, 3638.29, 3628.23, 3021.04, 2305.09, 3704.21, 3801.43, 3127.29, 6805.27, 2386.83, 2519.8, 3053.98], \"colorscale\": [[0.0, \"rgb(0, 0, 0)\"], [0.09090909090909091, \"rgb(16, 16, 16)\"], [0.18181818181818182, \"rgb(38, 38, 38)\"], [0.2727272727272727, \"rgb(59, 59, 59)\"], [0.36363636363636365, \"rgb(81, 80, 80)\"], [0.45454545454545453, \"rgb(102, 101, 101)\"], [0.5454545454545454, \"rgb(124, 123, 122)\"], [0.6363636363636364, \"rgb(146, 146, 145)\"], [0.7272727272727273, \"rgb(171, 171, 170)\"], [0.8181818181818182, \"rgb(197, 197, 195)\"], [0.9090909090909091, \"rgb(224, 224, 223)\"], [1.0, \"rgb(254, 254, 253)\"]], \"line\": {\"color\": \"black\", \"width\": 1}, \"size\": 12}, \"mode\": \"markers\", \"name\": \"Data Points\", \"type\": \"scatter\", \"x\": [9454.79, 8151.97, 3645.76, 3426.1, 3587.89, 3301.49, 3130.78, 4613.85, 3396.53, 3457.38, 3242.35, 4017.09, 5592.6, 4181.99, 2795.04, 4365.46, 2837.73, 9448.9, 4957.67, 4952.99, 4268.47, 2870.03, 6077.8, 2503.52, 3157.21, 3376.34, 3629.19, 8368.79, 3380.27, 3481.26, 3638.29, 3628.23, 3021.04, 2305.09, 3704.21, 3801.43, 3127.29, 6805.27, 2386.83, 2519.8, 3053.98], \"y\": [72.18, 69.02, 66.57, 66.33, 65.83, 64.24, 63.64, 63.54, 63.43, 63.16, 62.57, 62.25, 61.51, 60.96, 60.77, 59.93, 59.89, 59.73, 59.49, 59.2, 59.17, 58.67, 58.45, 58.39, 57.62, 57.34, 57.19, 56.73, 55.74, 55.45, 54.95, 53.39, 53.38, 52.26, 51.99, 51.33, 49.52, 47.94, 47.1, 45.59, 44.53]}, {\"line\": {\"color\": \"royalblue\", \"dash\": \"dash\"}, \"marker\": {\"line\": {\"color\": \"black\", \"width\": 1}}, \"mode\": \"lines\", \"name\": \"Regression Line\", \"type\": \"scatter\", \"x\": [2305.09, 9454.79], \"y\": [56.14866915879773, 64.38448831750506]}],\n                        {\"height\": 900, \"template\": {\"data\": {\"bar\": [{\"error_x\": {\"color\": \"#2a3f5f\"}, \"error_y\": {\"color\": \"#2a3f5f\"}, \"marker\": {\"line\": {\"color\": \"white\", \"width\": 0.5}}, \"type\": \"bar\"}], \"barpolar\": [{\"marker\": {\"line\": {\"color\": \"white\", \"width\": 0.5}}, \"type\": \"barpolar\"}], \"carpet\": [{\"aaxis\": {\"endlinecolor\": \"#2a3f5f\", \"gridcolor\": \"#C8D4E3\", \"linecolor\": \"#C8D4E3\", \"minorgridcolor\": \"#C8D4E3\", \"startlinecolor\": \"#2a3f5f\"}, \"baxis\": {\"endlinecolor\": \"#2a3f5f\", \"gridcolor\": \"#C8D4E3\", \"linecolor\": \"#C8D4E3\", \"minorgridcolor\": \"#C8D4E3\", \"startlinecolor\": \"#2a3f5f\"}, \"type\": \"carpet\"}], \"choropleth\": [{\"colorbar\": {\"outlinewidth\": 0, \"ticks\": \"\"}, \"type\": \"choropleth\"}], \"contour\": [{\"colorbar\": {\"outlinewidth\": 0, \"ticks\": \"\"}, \"colorscale\": [[0.0, \"#0d0887\"], [0.1111111111111111, \"#46039f\"], [0.2222222222222222, \"#7201a8\"], [0.3333333333333333, \"#9c179e\"], [0.4444444444444444, \"#bd3786\"], [0.5555555555555556, \"#d8576b\"], [0.6666666666666666, \"#ed7953\"], [0.7777777777777778, \"#fb9f3a\"], [0.8888888888888888, \"#fdca26\"], [1.0, \"#f0f921\"]], \"type\": \"contour\"}], \"contourcarpet\": [{\"colorbar\": {\"outlinewidth\": 0, \"ticks\": \"\"}, \"type\": \"contourcarpet\"}], \"heatmap\": [{\"colorbar\": {\"outlinewidth\": 0, \"ticks\": \"\"}, \"colorscale\": [[0.0, \"#0d0887\"], [0.1111111111111111, \"#46039f\"], [0.2222222222222222, \"#7201a8\"], [0.3333333333333333, \"#9c179e\"], [0.4444444444444444, \"#bd3786\"], [0.5555555555555556, \"#d8576b\"], [0.6666666666666666, \"#ed7953\"], [0.7777777777777778, \"#fb9f3a\"], [0.8888888888888888, \"#fdca26\"], [1.0, \"#f0f921\"]], \"type\": \"heatmap\"}], \"heatmapgl\": [{\"colorbar\": {\"outlinewidth\": 0, \"ticks\": \"\"}, \"colorscale\": [[0.0, \"#0d0887\"], [0.1111111111111111, \"#46039f\"], [0.2222222222222222, \"#7201a8\"], [0.3333333333333333, \"#9c179e\"], [0.4444444444444444, \"#bd3786\"], [0.5555555555555556, \"#d8576b\"], [0.6666666666666666, \"#ed7953\"], [0.7777777777777778, \"#fb9f3a\"], [0.8888888888888888, \"#fdca26\"], [1.0, \"#f0f921\"]], \"type\": \"heatmapgl\"}], \"histogram\": [{\"marker\": {\"colorbar\": {\"outlinewidth\": 0, \"ticks\": \"\"}}, \"type\": \"histogram\"}], \"histogram2d\": [{\"colorbar\": {\"outlinewidth\": 0, \"ticks\": \"\"}, \"colorscale\": [[0.0, \"#0d0887\"], [0.1111111111111111, \"#46039f\"], [0.2222222222222222, \"#7201a8\"], [0.3333333333333333, \"#9c179e\"], [0.4444444444444444, \"#bd3786\"], [0.5555555555555556, \"#d8576b\"], [0.6666666666666666, \"#ed7953\"], [0.7777777777777778, \"#fb9f3a\"], [0.8888888888888888, \"#fdca26\"], [1.0, \"#f0f921\"]], \"type\": \"histogram2d\"}], \"histogram2dcontour\": [{\"colorbar\": {\"outlinewidth\": 0, \"ticks\": \"\"}, \"colorscale\": [[0.0, \"#0d0887\"], [0.1111111111111111, \"#46039f\"], [0.2222222222222222, \"#7201a8\"], [0.3333333333333333, \"#9c179e\"], [0.4444444444444444, \"#bd3786\"], [0.5555555555555556, \"#d8576b\"], [0.6666666666666666, \"#ed7953\"], [0.7777777777777778, \"#fb9f3a\"], [0.8888888888888888, \"#fdca26\"], [1.0, \"#f0f921\"]], \"type\": \"histogram2dcontour\"}], \"mesh3d\": [{\"colorbar\": {\"outlinewidth\": 0, \"ticks\": \"\"}, \"type\": \"mesh3d\"}], \"parcoords\": [{\"line\": {\"colorbar\": {\"outlinewidth\": 0, \"ticks\": \"\"}}, \"type\": \"parcoords\"}], \"pie\": [{\"automargin\": true, \"type\": \"pie\"}], \"scatter\": [{\"marker\": {\"colorbar\": {\"outlinewidth\": 0, \"ticks\": \"\"}}, \"type\": \"scatter\"}], \"scatter3d\": [{\"line\": {\"colorbar\": {\"outlinewidth\": 0, \"ticks\": \"\"}}, \"marker\": {\"colorbar\": {\"outlinewidth\": 0, \"ticks\": \"\"}}, \"type\": \"scatter3d\"}], \"scattercarpet\": [{\"marker\": {\"colorbar\": {\"outlinewidth\": 0, \"ticks\": \"\"}}, \"type\": \"scattercarpet\"}], \"scattergeo\": [{\"marker\": {\"colorbar\": {\"outlinewidth\": 0, \"ticks\": \"\"}}, \"type\": \"scattergeo\"}], \"scattergl\": [{\"marker\": {\"colorbar\": {\"outlinewidth\": 0, \"ticks\": \"\"}}, \"type\": \"scattergl\"}], \"scattermapbox\": [{\"marker\": {\"colorbar\": {\"outlinewidth\": 0, \"ticks\": \"\"}}, \"type\": \"scattermapbox\"}], \"scatterpolar\": [{\"marker\": {\"colorbar\": {\"outlinewidth\": 0, \"ticks\": \"\"}}, \"type\": \"scatterpolar\"}], \"scatterpolargl\": [{\"marker\": {\"colorbar\": {\"outlinewidth\": 0, \"ticks\": \"\"}}, \"type\": \"scatterpolargl\"}], \"scatterternary\": [{\"marker\": {\"colorbar\": {\"outlinewidth\": 0, \"ticks\": \"\"}}, \"type\": \"scatterternary\"}], \"surface\": [{\"colorbar\": {\"outlinewidth\": 0, \"ticks\": \"\"}, \"colorscale\": [[0.0, \"#0d0887\"], [0.1111111111111111, \"#46039f\"], [0.2222222222222222, \"#7201a8\"], [0.3333333333333333, \"#9c179e\"], [0.4444444444444444, \"#bd3786\"], [0.5555555555555556, \"#d8576b\"], [0.6666666666666666, \"#ed7953\"], [0.7777777777777778, \"#fb9f3a\"], [0.8888888888888888, \"#fdca26\"], [1.0, \"#f0f921\"]], \"type\": \"surface\"}], \"table\": [{\"cells\": {\"fill\": {\"color\": \"#EBF0F8\"}, \"line\": {\"color\": \"white\"}}, \"header\": {\"fill\": {\"color\": \"#C8D4E3\"}, \"line\": {\"color\": \"white\"}}, \"type\": \"table\"}]}, \"layout\": {\"annotationdefaults\": {\"arrowcolor\": \"#2a3f5f\", \"arrowhead\": 0, \"arrowwidth\": 1}, \"coloraxis\": {\"colorbar\": {\"outlinewidth\": 0, \"ticks\": \"\"}}, \"colorscale\": {\"diverging\": [[0, \"#8e0152\"], [0.1, \"#c51b7d\"], [0.2, \"#de77ae\"], [0.3, \"#f1b6da\"], [0.4, \"#fde0ef\"], [0.5, \"#f7f7f7\"], [0.6, \"#e6f5d0\"], [0.7, \"#b8e186\"], [0.8, \"#7fbc41\"], [0.9, \"#4d9221\"], [1, \"#276419\"]], \"sequential\": [[0.0, \"#0d0887\"], [0.1111111111111111, \"#46039f\"], [0.2222222222222222, \"#7201a8\"], [0.3333333333333333, \"#9c179e\"], [0.4444444444444444, \"#bd3786\"], [0.5555555555555556, \"#d8576b\"], [0.6666666666666666, \"#ed7953\"], [0.7777777777777778, \"#fb9f3a\"], [0.8888888888888888, \"#fdca26\"], [1.0, \"#f0f921\"]], \"sequentialminus\": [[0.0, \"#0d0887\"], [0.1111111111111111, \"#46039f\"], [0.2222222222222222, \"#7201a8\"], [0.3333333333333333, \"#9c179e\"], [0.4444444444444444, \"#bd3786\"], [0.5555555555555556, \"#d8576b\"], [0.6666666666666666, \"#ed7953\"], [0.7777777777777778, \"#fb9f3a\"], [0.8888888888888888, \"#fdca26\"], [1.0, \"#f0f921\"]]}, \"colorway\": [\"#636efa\", \"#EF553B\", \"#00cc96\", \"#ab63fa\", \"#FFA15A\", \"#19d3f3\", \"#FF6692\", \"#B6E880\", \"#FF97FF\", \"#FECB52\"], \"font\": {\"color\": \"#2a3f5f\"}, \"geo\": {\"bgcolor\": \"white\", \"lakecolor\": \"white\", \"landcolor\": \"white\", \"showlakes\": true, \"showland\": true, \"subunitcolor\": \"#C8D4E3\"}, \"hoverlabel\": {\"align\": \"left\"}, \"hovermode\": \"closest\", \"mapbox\": {\"style\": \"light\"}, \"paper_bgcolor\": \"white\", \"plot_bgcolor\": \"white\", \"polar\": {\"angularaxis\": {\"gridcolor\": \"#EBF0F8\", \"linecolor\": \"#EBF0F8\", \"ticks\": \"\"}, \"bgcolor\": \"white\", \"radialaxis\": {\"gridcolor\": \"#EBF0F8\", \"linecolor\": \"#EBF0F8\", \"ticks\": \"\"}}, \"scene\": {\"xaxis\": {\"backgroundcolor\": \"white\", \"gridcolor\": \"#DFE8F3\", \"gridwidth\": 2, \"linecolor\": \"#EBF0F8\", \"showbackground\": true, \"ticks\": \"\", \"zerolinecolor\": \"#EBF0F8\"}, \"yaxis\": {\"backgroundcolor\": \"white\", \"gridcolor\": \"#DFE8F3\", \"gridwidth\": 2, \"linecolor\": \"#EBF0F8\", \"showbackground\": true, \"ticks\": \"\", \"zerolinecolor\": \"#EBF0F8\"}, \"zaxis\": {\"backgroundcolor\": \"white\", \"gridcolor\": \"#DFE8F3\", \"gridwidth\": 2, \"linecolor\": \"#EBF0F8\", \"showbackground\": true, \"ticks\": \"\", \"zerolinecolor\": \"#EBF0F8\"}}, \"shapedefaults\": {\"line\": {\"color\": \"#2a3f5f\"}}, \"ternary\": {\"aaxis\": {\"gridcolor\": \"#DFE8F3\", \"linecolor\": \"#A2B1C6\", \"ticks\": \"\"}, \"baxis\": {\"gridcolor\": \"#DFE8F3\", \"linecolor\": \"#A2B1C6\", \"ticks\": \"\"}, \"bgcolor\": \"white\", \"caxis\": {\"gridcolor\": \"#DFE8F3\", \"linecolor\": \"#A2B1C6\", \"ticks\": \"\"}}, \"title\": {\"x\": 0.05}, \"xaxis\": {\"automargin\": true, \"gridcolor\": \"#EBF0F8\", \"linecolor\": \"#EBF0F8\", \"ticks\": \"\", \"title\": {\"standoff\": 15}, \"zerolinecolor\": \"#EBF0F8\", \"zerolinewidth\": 2}, \"yaxis\": {\"automargin\": true, \"gridcolor\": \"#EBF0F8\", \"linecolor\": \"#EBF0F8\", \"ticks\": \"\", \"title\": {\"standoff\": 15}, \"zerolinecolor\": \"#EBF0F8\", \"zerolinewidth\": 2}}}, \"title\": {\"text\": \"Scatter Plot: Average Reading vs Per Capita Income<br>R-squared: 0.1127, p-value: 0.0319\"}, \"width\": 900, \"xaxis\": {\"title\": {\"text\": \"Per Capita Income\"}}, \"yaxis\": {\"title\": {\"text\": \"Average Reading\"}}},\n                        {\"responsive\": true}\n                    ).then(function(){\n                            \nvar gd = document.getElementById('04b006f4-7e7e-4c77-af95-07442faf2004');\nvar x = new MutationObserver(function (mutations, observer) {{\n        var display = window.getComputedStyle(gd).display;\n        if (!display || display === 'none') {{\n            console.log([gd, 'removed!']);\n            Plotly.purge(gd);\n            observer.disconnect();\n        }}\n}});\n\n// Listen for the removal of the full notebook cells\nvar notebookContainer = gd.closest('#notebook-container');\nif (notebookContainer) {{\n    x.observe(notebookContainer, {childList: true});\n}}\n\n// Listen for the clearing of the current output cell\nvar outputEl = gd.closest('.output');\nif (outputEl) {{\n    x.observe(outputEl, {childList: true});\n}}\n\n                        })\n                };\n                });\n            </script>\n        </div>"
     },
     "metadata": {},
     "output_type": "display_data"
    }
   ],
   "source": [
    "\n",
    "\n",
    "def create_scatter_regression_plot(df):\n",
    "    # Perform linear regression\n",
    "    slope, intercept, r_value, p_value, std_err = stats.linregress(\n",
    "        df['per_capita_income'],\n",
    "        df['Average Reading']\n",
    "    )\n",
    "\n",
    "    # Create regression line\n",
    "    line_x = np.array([df['per_capita_income'].min(), df['per_capita_income'].max()])\n",
    "    line_y = intercept + slope * line_x\n",
    "\n",
    "    # Create scatter plot with regression line\n",
    "    fig = go.Figure()\n",
    "\n",
    "    # Scatter plot\n",
    "    fig.add_trace(go.Scatter(\n",
    "        x=df['per_capita_income'],\n",
    "        y=df['Average Reading'],\n",
    "        mode='markers',\n",
    "        name='Data Points',\n",
    "        marker=dict(\n",
    "            size=12,\n",
    "            color=df['per_capita_income'],\n",
    "            colorscale='gray',\n",
    "            # showscale=True,\n",
    "            # colorbar=dict(title='Per Capita Income')\n",
    "        ),\n",
    "        hovertemplate=(\n",
    "            'Per Capita Income: %{x}<br>' +\n",
    "            'Average Reading: %{y}<extra></extra>'\n",
    "        )\n",
    "    ))\n",
    "\n",
    "    # Regression line\n",
    "    fig.add_trace(go.Scatter(\n",
    "        x=line_x,\n",
    "        y=line_y,\n",
    "        mode='lines',\n",
    "        name='Regression Line',\n",
    "        line=dict(color='royalblue', dash='dash')\n",
    "    ))\n",
    "\n",
    "    fig.update_traces(marker=dict(line=dict(width=1, color='black')))\n",
    "    # Update layout\n",
    "    fig.update_layout(\n",
    "        title=f'Scatter Plot: Average Reading vs Per Capita Income<br>' +\n",
    "              f'R-squared: {r_value**2:.4f}, p-value: {p_value:.4f}',\n",
    "        xaxis_title='Per Capita Income',\n",
    "        yaxis_title='Average Reading',\n",
    "        template='plotly_white',\n",
    "        width = 900,\n",
    "        height = 900\n",
    "    )\n",
    "\n",
    "    return fig\n",
    "\n",
    "# Example usage\n",
    "plot = create_scatter_regression_plot(intro_table_zone_income)\n",
    "plot.show()"
   ],
   "metadata": {
    "collapsed": false,
    "ExecuteTime": {
     "start_time": "2024-12-20T15:57:58.297290Z",
     "end_time": "2024-12-20T15:57:58.579778Z"
    }
   }
  },
  {
   "cell_type": "code",
   "execution_count": 39,
   "outputs": [
    {
     "data": {
      "application/vnd.plotly.v1+json": {
       "config": {
        "plotlyServerURL": "https://plot.ly"
       },
       "data": [
        {
         "colorscale": [
          [
           0.0,
           "rgb(255,255,255)"
          ],
          [
           0.125,
           "rgb(240,240,240)"
          ],
          [
           0.25,
           "rgb(217,217,217)"
          ],
          [
           0.375,
           "rgb(189,189,189)"
          ],
          [
           0.5,
           "rgb(150,150,150)"
          ],
          [
           0.625,
           "rgb(115,115,115)"
          ],
          [
           0.75,
           "rgb(82,82,82)"
          ],
          [
           0.875,
           "rgb(37,37,37)"
          ],
          [
           1.0,
           "rgb(0,0,0)"
          ]
         ],
         "contours": {
          "coloring": "fill"
         },
         "hovertemplate": "Per Capita Income=%{x}<br>Average Reading=%{y}<br>count=%{z}<extra></extra>",
         "legendgroup": "",
         "line": {
          "color": "#636efa"
         },
         "name": "",
         "showlegend": false,
         "type": "histogram2dcontour",
         "x": [
          9454.79,
          8151.97,
          3645.76,
          3426.1,
          3587.89,
          3301.49,
          3130.78,
          4613.85,
          3396.53,
          3457.38,
          3242.35,
          4017.09,
          5592.6,
          4181.99,
          2795.04,
          4365.46,
          2837.73,
          9448.9,
          4957.67,
          4952.99,
          4268.47,
          2870.03,
          6077.8,
          2503.52,
          3157.21,
          3376.34,
          3629.19,
          8368.79,
          3380.27,
          3481.26,
          3638.29,
          3628.23,
          3021.04,
          2305.09,
          3704.21,
          3801.43,
          3127.29,
          6805.27,
          2386.83,
          2519.8,
          3053.98
         ],
         "xaxis": "x",
         "xbingroup": "x",
         "y": [
          72.18,
          69.02,
          66.57,
          66.33,
          65.83,
          64.24,
          63.64,
          63.54,
          63.43,
          63.16,
          62.57,
          62.25,
          61.51,
          60.96,
          60.77,
          59.93,
          59.89,
          59.73,
          59.49,
          59.2,
          59.17,
          58.67,
          58.45,
          58.39,
          57.62,
          57.34,
          57.19,
          56.73,
          55.74,
          55.45,
          54.95,
          53.39,
          53.38,
          52.26,
          51.99,
          51.33,
          49.52,
          47.94,
          47.1,
          45.59,
          44.53
         ],
         "yaxis": "y",
         "ybingroup": "y"
        }
       ],
       "layout": {
        "height": 900,
        "legend": {
         "title": {
          "text": "Density"
         },
         "tracegroupgap": 0
        },
        "template": {
         "data": {
          "bar": [
           {
            "error_x": {
             "color": "#2a3f5f"
            },
            "error_y": {
             "color": "#2a3f5f"
            },
            "marker": {
             "line": {
              "color": "white",
              "width": 0.5
             }
            },
            "type": "bar"
           }
          ],
          "barpolar": [
           {
            "marker": {
             "line": {
              "color": "white",
              "width": 0.5
             }
            },
            "type": "barpolar"
           }
          ],
          "carpet": [
           {
            "aaxis": {
             "endlinecolor": "#2a3f5f",
             "gridcolor": "#C8D4E3",
             "linecolor": "#C8D4E3",
             "minorgridcolor": "#C8D4E3",
             "startlinecolor": "#2a3f5f"
            },
            "baxis": {
             "endlinecolor": "#2a3f5f",
             "gridcolor": "#C8D4E3",
             "linecolor": "#C8D4E3",
             "minorgridcolor": "#C8D4E3",
             "startlinecolor": "#2a3f5f"
            },
            "type": "carpet"
           }
          ],
          "choropleth": [
           {
            "colorbar": {
             "outlinewidth": 0,
             "ticks": ""
            },
            "type": "choropleth"
           }
          ],
          "contour": [
           {
            "colorbar": {
             "outlinewidth": 0,
             "ticks": ""
            },
            "colorscale": [
             [
              0.0,
              "#0d0887"
             ],
             [
              0.1111111111111111,
              "#46039f"
             ],
             [
              0.2222222222222222,
              "#7201a8"
             ],
             [
              0.3333333333333333,
              "#9c179e"
             ],
             [
              0.4444444444444444,
              "#bd3786"
             ],
             [
              0.5555555555555556,
              "#d8576b"
             ],
             [
              0.6666666666666666,
              "#ed7953"
             ],
             [
              0.7777777777777778,
              "#fb9f3a"
             ],
             [
              0.8888888888888888,
              "#fdca26"
             ],
             [
              1.0,
              "#f0f921"
             ]
            ],
            "type": "contour"
           }
          ],
          "contourcarpet": [
           {
            "colorbar": {
             "outlinewidth": 0,
             "ticks": ""
            },
            "type": "contourcarpet"
           }
          ],
          "heatmap": [
           {
            "colorbar": {
             "outlinewidth": 0,
             "ticks": ""
            },
            "colorscale": [
             [
              0.0,
              "#0d0887"
             ],
             [
              0.1111111111111111,
              "#46039f"
             ],
             [
              0.2222222222222222,
              "#7201a8"
             ],
             [
              0.3333333333333333,
              "#9c179e"
             ],
             [
              0.4444444444444444,
              "#bd3786"
             ],
             [
              0.5555555555555556,
              "#d8576b"
             ],
             [
              0.6666666666666666,
              "#ed7953"
             ],
             [
              0.7777777777777778,
              "#fb9f3a"
             ],
             [
              0.8888888888888888,
              "#fdca26"
             ],
             [
              1.0,
              "#f0f921"
             ]
            ],
            "type": "heatmap"
           }
          ],
          "heatmapgl": [
           {
            "colorbar": {
             "outlinewidth": 0,
             "ticks": ""
            },
            "colorscale": [
             [
              0.0,
              "#0d0887"
             ],
             [
              0.1111111111111111,
              "#46039f"
             ],
             [
              0.2222222222222222,
              "#7201a8"
             ],
             [
              0.3333333333333333,
              "#9c179e"
             ],
             [
              0.4444444444444444,
              "#bd3786"
             ],
             [
              0.5555555555555556,
              "#d8576b"
             ],
             [
              0.6666666666666666,
              "#ed7953"
             ],
             [
              0.7777777777777778,
              "#fb9f3a"
             ],
             [
              0.8888888888888888,
              "#fdca26"
             ],
             [
              1.0,
              "#f0f921"
             ]
            ],
            "type": "heatmapgl"
           }
          ],
          "histogram": [
           {
            "marker": {
             "colorbar": {
              "outlinewidth": 0,
              "ticks": ""
             }
            },
            "type": "histogram"
           }
          ],
          "histogram2d": [
           {
            "colorbar": {
             "outlinewidth": 0,
             "ticks": ""
            },
            "colorscale": [
             [
              0.0,
              "#0d0887"
             ],
             [
              0.1111111111111111,
              "#46039f"
             ],
             [
              0.2222222222222222,
              "#7201a8"
             ],
             [
              0.3333333333333333,
              "#9c179e"
             ],
             [
              0.4444444444444444,
              "#bd3786"
             ],
             [
              0.5555555555555556,
              "#d8576b"
             ],
             [
              0.6666666666666666,
              "#ed7953"
             ],
             [
              0.7777777777777778,
              "#fb9f3a"
             ],
             [
              0.8888888888888888,
              "#fdca26"
             ],
             [
              1.0,
              "#f0f921"
             ]
            ],
            "type": "histogram2d"
           }
          ],
          "histogram2dcontour": [
           {
            "colorbar": {
             "outlinewidth": 0,
             "ticks": ""
            },
            "colorscale": [
             [
              0.0,
              "#0d0887"
             ],
             [
              0.1111111111111111,
              "#46039f"
             ],
             [
              0.2222222222222222,
              "#7201a8"
             ],
             [
              0.3333333333333333,
              "#9c179e"
             ],
             [
              0.4444444444444444,
              "#bd3786"
             ],
             [
              0.5555555555555556,
              "#d8576b"
             ],
             [
              0.6666666666666666,
              "#ed7953"
             ],
             [
              0.7777777777777778,
              "#fb9f3a"
             ],
             [
              0.8888888888888888,
              "#fdca26"
             ],
             [
              1.0,
              "#f0f921"
             ]
            ],
            "type": "histogram2dcontour"
           }
          ],
          "mesh3d": [
           {
            "colorbar": {
             "outlinewidth": 0,
             "ticks": ""
            },
            "type": "mesh3d"
           }
          ],
          "parcoords": [
           {
            "line": {
             "colorbar": {
              "outlinewidth": 0,
              "ticks": ""
             }
            },
            "type": "parcoords"
           }
          ],
          "pie": [
           {
            "automargin": true,
            "type": "pie"
           }
          ],
          "scatter": [
           {
            "marker": {
             "colorbar": {
              "outlinewidth": 0,
              "ticks": ""
             }
            },
            "type": "scatter"
           }
          ],
          "scatter3d": [
           {
            "line": {
             "colorbar": {
              "outlinewidth": 0,
              "ticks": ""
             }
            },
            "marker": {
             "colorbar": {
              "outlinewidth": 0,
              "ticks": ""
             }
            },
            "type": "scatter3d"
           }
          ],
          "scattercarpet": [
           {
            "marker": {
             "colorbar": {
              "outlinewidth": 0,
              "ticks": ""
             }
            },
            "type": "scattercarpet"
           }
          ],
          "scattergeo": [
           {
            "marker": {
             "colorbar": {
              "outlinewidth": 0,
              "ticks": ""
             }
            },
            "type": "scattergeo"
           }
          ],
          "scattergl": [
           {
            "marker": {
             "colorbar": {
              "outlinewidth": 0,
              "ticks": ""
             }
            },
            "type": "scattergl"
           }
          ],
          "scattermapbox": [
           {
            "marker": {
             "colorbar": {
              "outlinewidth": 0,
              "ticks": ""
             }
            },
            "type": "scattermapbox"
           }
          ],
          "scatterpolar": [
           {
            "marker": {
             "colorbar": {
              "outlinewidth": 0,
              "ticks": ""
             }
            },
            "type": "scatterpolar"
           }
          ],
          "scatterpolargl": [
           {
            "marker": {
             "colorbar": {
              "outlinewidth": 0,
              "ticks": ""
             }
            },
            "type": "scatterpolargl"
           }
          ],
          "scatterternary": [
           {
            "marker": {
             "colorbar": {
              "outlinewidth": 0,
              "ticks": ""
             }
            },
            "type": "scatterternary"
           }
          ],
          "surface": [
           {
            "colorbar": {
             "outlinewidth": 0,
             "ticks": ""
            },
            "colorscale": [
             [
              0.0,
              "#0d0887"
             ],
             [
              0.1111111111111111,
              "#46039f"
             ],
             [
              0.2222222222222222,
              "#7201a8"
             ],
             [
              0.3333333333333333,
              "#9c179e"
             ],
             [
              0.4444444444444444,
              "#bd3786"
             ],
             [
              0.5555555555555556,
              "#d8576b"
             ],
             [
              0.6666666666666666,
              "#ed7953"
             ],
             [
              0.7777777777777778,
              "#fb9f3a"
             ],
             [
              0.8888888888888888,
              "#fdca26"
             ],
             [
              1.0,
              "#f0f921"
             ]
            ],
            "type": "surface"
           }
          ],
          "table": [
           {
            "cells": {
             "fill": {
              "color": "#EBF0F8"
             },
             "line": {
              "color": "white"
             }
            },
            "header": {
             "fill": {
              "color": "#C8D4E3"
             },
             "line": {
              "color": "white"
             }
            },
            "type": "table"
           }
          ]
         },
         "layout": {
          "annotationdefaults": {
           "arrowcolor": "#2a3f5f",
           "arrowhead": 0,
           "arrowwidth": 1
          },
          "coloraxis": {
           "colorbar": {
            "outlinewidth": 0,
            "ticks": ""
           }
          },
          "colorscale": {
           "diverging": [
            [
             0,
             "#8e0152"
            ],
            [
             0.1,
             "#c51b7d"
            ],
            [
             0.2,
             "#de77ae"
            ],
            [
             0.3,
             "#f1b6da"
            ],
            [
             0.4,
             "#fde0ef"
            ],
            [
             0.5,
             "#f7f7f7"
            ],
            [
             0.6,
             "#e6f5d0"
            ],
            [
             0.7,
             "#b8e186"
            ],
            [
             0.8,
             "#7fbc41"
            ],
            [
             0.9,
             "#4d9221"
            ],
            [
             1,
             "#276419"
            ]
           ],
           "sequential": [
            [
             0.0,
             "#0d0887"
            ],
            [
             0.1111111111111111,
             "#46039f"
            ],
            [
             0.2222222222222222,
             "#7201a8"
            ],
            [
             0.3333333333333333,
             "#9c179e"
            ],
            [
             0.4444444444444444,
             "#bd3786"
            ],
            [
             0.5555555555555556,
             "#d8576b"
            ],
            [
             0.6666666666666666,
             "#ed7953"
            ],
            [
             0.7777777777777778,
             "#fb9f3a"
            ],
            [
             0.8888888888888888,
             "#fdca26"
            ],
            [
             1.0,
             "#f0f921"
            ]
           ],
           "sequentialminus": [
            [
             0.0,
             "#0d0887"
            ],
            [
             0.1111111111111111,
             "#46039f"
            ],
            [
             0.2222222222222222,
             "#7201a8"
            ],
            [
             0.3333333333333333,
             "#9c179e"
            ],
            [
             0.4444444444444444,
             "#bd3786"
            ],
            [
             0.5555555555555556,
             "#d8576b"
            ],
            [
             0.6666666666666666,
             "#ed7953"
            ],
            [
             0.7777777777777778,
             "#fb9f3a"
            ],
            [
             0.8888888888888888,
             "#fdca26"
            ],
            [
             1.0,
             "#f0f921"
            ]
           ]
          },
          "colorway": [
           "#636efa",
           "#EF553B",
           "#00cc96",
           "#ab63fa",
           "#FFA15A",
           "#19d3f3",
           "#FF6692",
           "#B6E880",
           "#FF97FF",
           "#FECB52"
          ],
          "font": {
           "color": "#2a3f5f"
          },
          "geo": {
           "bgcolor": "white",
           "lakecolor": "white",
           "landcolor": "white",
           "showlakes": true,
           "showland": true,
           "subunitcolor": "#C8D4E3"
          },
          "hoverlabel": {
           "align": "left"
          },
          "hovermode": "closest",
          "mapbox": {
           "style": "light"
          },
          "paper_bgcolor": "white",
          "plot_bgcolor": "white",
          "polar": {
           "angularaxis": {
            "gridcolor": "#EBF0F8",
            "linecolor": "#EBF0F8",
            "ticks": ""
           },
           "bgcolor": "white",
           "radialaxis": {
            "gridcolor": "#EBF0F8",
            "linecolor": "#EBF0F8",
            "ticks": ""
           }
          },
          "scene": {
           "xaxis": {
            "backgroundcolor": "white",
            "gridcolor": "#DFE8F3",
            "gridwidth": 2,
            "linecolor": "#EBF0F8",
            "showbackground": true,
            "ticks": "",
            "zerolinecolor": "#EBF0F8"
           },
           "yaxis": {
            "backgroundcolor": "white",
            "gridcolor": "#DFE8F3",
            "gridwidth": 2,
            "linecolor": "#EBF0F8",
            "showbackground": true,
            "ticks": "",
            "zerolinecolor": "#EBF0F8"
           },
           "zaxis": {
            "backgroundcolor": "white",
            "gridcolor": "#DFE8F3",
            "gridwidth": 2,
            "linecolor": "#EBF0F8",
            "showbackground": true,
            "ticks": "",
            "zerolinecolor": "#EBF0F8"
           }
          },
          "shapedefaults": {
           "line": {
            "color": "#2a3f5f"
           }
          },
          "ternary": {
           "aaxis": {
            "gridcolor": "#DFE8F3",
            "linecolor": "#A2B1C6",
            "ticks": ""
           },
           "baxis": {
            "gridcolor": "#DFE8F3",
            "linecolor": "#A2B1C6",
            "ticks": ""
           },
           "bgcolor": "white",
           "caxis": {
            "gridcolor": "#DFE8F3",
            "linecolor": "#A2B1C6",
            "ticks": ""
           }
          },
          "title": {
           "x": 0.05
          },
          "xaxis": {
           "automargin": true,
           "gridcolor": "#EBF0F8",
           "linecolor": "#EBF0F8",
           "ticks": "",
           "title": {
            "standoff": 15
           },
           "zerolinecolor": "#EBF0F8",
           "zerolinewidth": 2
          },
          "yaxis": {
           "automargin": true,
           "gridcolor": "#EBF0F8",
           "linecolor": "#EBF0F8",
           "ticks": "",
           "title": {
            "standoff": 15
           },
           "zerolinecolor": "#EBF0F8",
           "zerolinewidth": 2
          }
         }
        },
        "title": {
         "text": "2D KDE of Average Reading vs Per Capita Income"
        },
        "width": 900,
        "xaxis": {
         "anchor": "y",
         "domain": [
          0.0,
          1.0
         ],
         "title": {
          "text": "Per Capita Income"
         }
        },
        "yaxis": {
         "anchor": "x",
         "domain": [
          0.0,
          1.0
         ],
         "title": {
          "text": "Average Reading"
         }
        }
       }
      },
      "text/html": "<div>\n        \n        \n            <div id=\"b3d21734-8f61-45f8-a728-5838989bf181\" class=\"plotly-graph-div\" style=\"height:900px; width:900px;\"></div>\n            <script type=\"text/javascript\">\n                require([\"plotly\"], function(Plotly) {\n                    window.PLOTLYENV=window.PLOTLYENV || {};\n                    \n                if (document.getElementById(\"b3d21734-8f61-45f8-a728-5838989bf181\")) {\n                    Plotly.newPlot(\n                        'b3d21734-8f61-45f8-a728-5838989bf181',\n                        [{\"colorscale\": [[0.0, \"rgb(255,255,255)\"], [0.125, \"rgb(240,240,240)\"], [0.25, \"rgb(217,217,217)\"], [0.375, \"rgb(189,189,189)\"], [0.5, \"rgb(150,150,150)\"], [0.625, \"rgb(115,115,115)\"], [0.75, \"rgb(82,82,82)\"], [0.875, \"rgb(37,37,37)\"], [1.0, \"rgb(0,0,0)\"]], \"contours\": {\"coloring\": \"fill\"}, \"hovertemplate\": \"Per Capita Income=%{x}<br>Average Reading=%{y}<br>count=%{z}<extra></extra>\", \"legendgroup\": \"\", \"line\": {\"color\": \"#636efa\"}, \"name\": \"\", \"showlegend\": false, \"type\": \"histogram2dcontour\", \"x\": [9454.79, 8151.97, 3645.76, 3426.1, 3587.89, 3301.49, 3130.78, 4613.85, 3396.53, 3457.38, 3242.35, 4017.09, 5592.6, 4181.99, 2795.04, 4365.46, 2837.73, 9448.9, 4957.67, 4952.99, 4268.47, 2870.03, 6077.8, 2503.52, 3157.21, 3376.34, 3629.19, 8368.79, 3380.27, 3481.26, 3638.29, 3628.23, 3021.04, 2305.09, 3704.21, 3801.43, 3127.29, 6805.27, 2386.83, 2519.8, 3053.98], \"xaxis\": \"x\", \"xbingroup\": \"x\", \"y\": [72.18, 69.02, 66.57, 66.33, 65.83, 64.24, 63.64, 63.54, 63.43, 63.16, 62.57, 62.25, 61.51, 60.96, 60.77, 59.93, 59.89, 59.73, 59.49, 59.2, 59.17, 58.67, 58.45, 58.39, 57.62, 57.34, 57.19, 56.73, 55.74, 55.45, 54.95, 53.39, 53.38, 52.26, 51.99, 51.33, 49.52, 47.94, 47.1, 45.59, 44.53], \"yaxis\": \"y\", \"ybingroup\": \"y\"}],\n                        {\"height\": 900, \"legend\": {\"title\": {\"text\": \"Density\"}, \"tracegroupgap\": 0}, \"template\": {\"data\": {\"bar\": [{\"error_x\": {\"color\": \"#2a3f5f\"}, \"error_y\": {\"color\": \"#2a3f5f\"}, \"marker\": {\"line\": {\"color\": \"white\", \"width\": 0.5}}, \"type\": \"bar\"}], \"barpolar\": [{\"marker\": {\"line\": {\"color\": \"white\", \"width\": 0.5}}, \"type\": \"barpolar\"}], \"carpet\": [{\"aaxis\": {\"endlinecolor\": \"#2a3f5f\", \"gridcolor\": \"#C8D4E3\", \"linecolor\": \"#C8D4E3\", \"minorgridcolor\": \"#C8D4E3\", \"startlinecolor\": \"#2a3f5f\"}, \"baxis\": {\"endlinecolor\": \"#2a3f5f\", \"gridcolor\": \"#C8D4E3\", \"linecolor\": \"#C8D4E3\", \"minorgridcolor\": \"#C8D4E3\", \"startlinecolor\": \"#2a3f5f\"}, \"type\": \"carpet\"}], \"choropleth\": [{\"colorbar\": {\"outlinewidth\": 0, \"ticks\": \"\"}, \"type\": \"choropleth\"}], \"contour\": [{\"colorbar\": {\"outlinewidth\": 0, \"ticks\": \"\"}, \"colorscale\": [[0.0, \"#0d0887\"], [0.1111111111111111, \"#46039f\"], [0.2222222222222222, \"#7201a8\"], [0.3333333333333333, \"#9c179e\"], [0.4444444444444444, \"#bd3786\"], [0.5555555555555556, \"#d8576b\"], [0.6666666666666666, \"#ed7953\"], [0.7777777777777778, \"#fb9f3a\"], [0.8888888888888888, \"#fdca26\"], [1.0, \"#f0f921\"]], \"type\": \"contour\"}], \"contourcarpet\": [{\"colorbar\": {\"outlinewidth\": 0, \"ticks\": \"\"}, \"type\": \"contourcarpet\"}], \"heatmap\": [{\"colorbar\": {\"outlinewidth\": 0, \"ticks\": \"\"}, \"colorscale\": [[0.0, \"#0d0887\"], [0.1111111111111111, \"#46039f\"], [0.2222222222222222, \"#7201a8\"], [0.3333333333333333, \"#9c179e\"], [0.4444444444444444, \"#bd3786\"], [0.5555555555555556, \"#d8576b\"], [0.6666666666666666, \"#ed7953\"], [0.7777777777777778, \"#fb9f3a\"], [0.8888888888888888, \"#fdca26\"], [1.0, \"#f0f921\"]], \"type\": \"heatmap\"}], \"heatmapgl\": [{\"colorbar\": {\"outlinewidth\": 0, \"ticks\": \"\"}, \"colorscale\": [[0.0, \"#0d0887\"], [0.1111111111111111, \"#46039f\"], [0.2222222222222222, \"#7201a8\"], [0.3333333333333333, \"#9c179e\"], [0.4444444444444444, \"#bd3786\"], [0.5555555555555556, \"#d8576b\"], [0.6666666666666666, \"#ed7953\"], [0.7777777777777778, \"#fb9f3a\"], [0.8888888888888888, \"#fdca26\"], [1.0, \"#f0f921\"]], \"type\": \"heatmapgl\"}], \"histogram\": [{\"marker\": {\"colorbar\": {\"outlinewidth\": 0, \"ticks\": \"\"}}, \"type\": \"histogram\"}], \"histogram2d\": [{\"colorbar\": {\"outlinewidth\": 0, \"ticks\": \"\"}, \"colorscale\": [[0.0, \"#0d0887\"], [0.1111111111111111, \"#46039f\"], [0.2222222222222222, \"#7201a8\"], [0.3333333333333333, \"#9c179e\"], [0.4444444444444444, \"#bd3786\"], [0.5555555555555556, \"#d8576b\"], [0.6666666666666666, \"#ed7953\"], [0.7777777777777778, \"#fb9f3a\"], [0.8888888888888888, \"#fdca26\"], [1.0, \"#f0f921\"]], \"type\": \"histogram2d\"}], \"histogram2dcontour\": [{\"colorbar\": {\"outlinewidth\": 0, \"ticks\": \"\"}, \"colorscale\": [[0.0, \"#0d0887\"], [0.1111111111111111, \"#46039f\"], [0.2222222222222222, \"#7201a8\"], [0.3333333333333333, \"#9c179e\"], [0.4444444444444444, \"#bd3786\"], [0.5555555555555556, \"#d8576b\"], [0.6666666666666666, \"#ed7953\"], [0.7777777777777778, \"#fb9f3a\"], [0.8888888888888888, \"#fdca26\"], [1.0, \"#f0f921\"]], \"type\": \"histogram2dcontour\"}], \"mesh3d\": [{\"colorbar\": {\"outlinewidth\": 0, \"ticks\": \"\"}, \"type\": \"mesh3d\"}], \"parcoords\": [{\"line\": {\"colorbar\": {\"outlinewidth\": 0, \"ticks\": \"\"}}, \"type\": \"parcoords\"}], \"pie\": [{\"automargin\": true, \"type\": \"pie\"}], \"scatter\": [{\"marker\": {\"colorbar\": {\"outlinewidth\": 0, \"ticks\": \"\"}}, \"type\": \"scatter\"}], \"scatter3d\": [{\"line\": {\"colorbar\": {\"outlinewidth\": 0, \"ticks\": \"\"}}, \"marker\": {\"colorbar\": {\"outlinewidth\": 0, \"ticks\": \"\"}}, \"type\": \"scatter3d\"}], \"scattercarpet\": [{\"marker\": {\"colorbar\": {\"outlinewidth\": 0, \"ticks\": \"\"}}, \"type\": \"scattercarpet\"}], \"scattergeo\": [{\"marker\": {\"colorbar\": {\"outlinewidth\": 0, \"ticks\": \"\"}}, \"type\": \"scattergeo\"}], \"scattergl\": [{\"marker\": {\"colorbar\": {\"outlinewidth\": 0, \"ticks\": \"\"}}, \"type\": \"scattergl\"}], \"scattermapbox\": [{\"marker\": {\"colorbar\": {\"outlinewidth\": 0, \"ticks\": \"\"}}, \"type\": \"scattermapbox\"}], \"scatterpolar\": [{\"marker\": {\"colorbar\": {\"outlinewidth\": 0, \"ticks\": \"\"}}, \"type\": \"scatterpolar\"}], \"scatterpolargl\": [{\"marker\": {\"colorbar\": {\"outlinewidth\": 0, \"ticks\": \"\"}}, \"type\": \"scatterpolargl\"}], \"scatterternary\": [{\"marker\": {\"colorbar\": {\"outlinewidth\": 0, \"ticks\": \"\"}}, \"type\": \"scatterternary\"}], \"surface\": [{\"colorbar\": {\"outlinewidth\": 0, \"ticks\": \"\"}, \"colorscale\": [[0.0, \"#0d0887\"], [0.1111111111111111, \"#46039f\"], [0.2222222222222222, \"#7201a8\"], [0.3333333333333333, \"#9c179e\"], [0.4444444444444444, \"#bd3786\"], [0.5555555555555556, \"#d8576b\"], [0.6666666666666666, \"#ed7953\"], [0.7777777777777778, \"#fb9f3a\"], [0.8888888888888888, \"#fdca26\"], [1.0, \"#f0f921\"]], \"type\": \"surface\"}], \"table\": [{\"cells\": {\"fill\": {\"color\": \"#EBF0F8\"}, \"line\": {\"color\": \"white\"}}, \"header\": {\"fill\": {\"color\": \"#C8D4E3\"}, \"line\": {\"color\": \"white\"}}, \"type\": \"table\"}]}, \"layout\": {\"annotationdefaults\": {\"arrowcolor\": \"#2a3f5f\", \"arrowhead\": 0, \"arrowwidth\": 1}, \"coloraxis\": {\"colorbar\": {\"outlinewidth\": 0, \"ticks\": \"\"}}, \"colorscale\": {\"diverging\": [[0, \"#8e0152\"], [0.1, \"#c51b7d\"], [0.2, \"#de77ae\"], [0.3, \"#f1b6da\"], [0.4, \"#fde0ef\"], [0.5, \"#f7f7f7\"], [0.6, \"#e6f5d0\"], [0.7, \"#b8e186\"], [0.8, \"#7fbc41\"], [0.9, \"#4d9221\"], [1, \"#276419\"]], \"sequential\": [[0.0, \"#0d0887\"], [0.1111111111111111, \"#46039f\"], [0.2222222222222222, \"#7201a8\"], [0.3333333333333333, \"#9c179e\"], [0.4444444444444444, \"#bd3786\"], [0.5555555555555556, \"#d8576b\"], [0.6666666666666666, \"#ed7953\"], [0.7777777777777778, \"#fb9f3a\"], [0.8888888888888888, \"#fdca26\"], [1.0, \"#f0f921\"]], \"sequentialminus\": [[0.0, \"#0d0887\"], [0.1111111111111111, \"#46039f\"], [0.2222222222222222, \"#7201a8\"], [0.3333333333333333, \"#9c179e\"], [0.4444444444444444, \"#bd3786\"], [0.5555555555555556, \"#d8576b\"], [0.6666666666666666, \"#ed7953\"], [0.7777777777777778, \"#fb9f3a\"], [0.8888888888888888, \"#fdca26\"], [1.0, \"#f0f921\"]]}, \"colorway\": [\"#636efa\", \"#EF553B\", \"#00cc96\", \"#ab63fa\", \"#FFA15A\", \"#19d3f3\", \"#FF6692\", \"#B6E880\", \"#FF97FF\", \"#FECB52\"], \"font\": {\"color\": \"#2a3f5f\"}, \"geo\": {\"bgcolor\": \"white\", \"lakecolor\": \"white\", \"landcolor\": \"white\", \"showlakes\": true, \"showland\": true, \"subunitcolor\": \"#C8D4E3\"}, \"hoverlabel\": {\"align\": \"left\"}, \"hovermode\": \"closest\", \"mapbox\": {\"style\": \"light\"}, \"paper_bgcolor\": \"white\", \"plot_bgcolor\": \"white\", \"polar\": {\"angularaxis\": {\"gridcolor\": \"#EBF0F8\", \"linecolor\": \"#EBF0F8\", \"ticks\": \"\"}, \"bgcolor\": \"white\", \"radialaxis\": {\"gridcolor\": \"#EBF0F8\", \"linecolor\": \"#EBF0F8\", \"ticks\": \"\"}}, \"scene\": {\"xaxis\": {\"backgroundcolor\": \"white\", \"gridcolor\": \"#DFE8F3\", \"gridwidth\": 2, \"linecolor\": \"#EBF0F8\", \"showbackground\": true, \"ticks\": \"\", \"zerolinecolor\": \"#EBF0F8\"}, \"yaxis\": {\"backgroundcolor\": \"white\", \"gridcolor\": \"#DFE8F3\", \"gridwidth\": 2, \"linecolor\": \"#EBF0F8\", \"showbackground\": true, \"ticks\": \"\", \"zerolinecolor\": \"#EBF0F8\"}, \"zaxis\": {\"backgroundcolor\": \"white\", \"gridcolor\": \"#DFE8F3\", \"gridwidth\": 2, \"linecolor\": \"#EBF0F8\", \"showbackground\": true, \"ticks\": \"\", \"zerolinecolor\": \"#EBF0F8\"}}, \"shapedefaults\": {\"line\": {\"color\": \"#2a3f5f\"}}, \"ternary\": {\"aaxis\": {\"gridcolor\": \"#DFE8F3\", \"linecolor\": \"#A2B1C6\", \"ticks\": \"\"}, \"baxis\": {\"gridcolor\": \"#DFE8F3\", \"linecolor\": \"#A2B1C6\", \"ticks\": \"\"}, \"bgcolor\": \"white\", \"caxis\": {\"gridcolor\": \"#DFE8F3\", \"linecolor\": \"#A2B1C6\", \"ticks\": \"\"}}, \"title\": {\"x\": 0.05}, \"xaxis\": {\"automargin\": true, \"gridcolor\": \"#EBF0F8\", \"linecolor\": \"#EBF0F8\", \"ticks\": \"\", \"title\": {\"standoff\": 15}, \"zerolinecolor\": \"#EBF0F8\", \"zerolinewidth\": 2}, \"yaxis\": {\"automargin\": true, \"gridcolor\": \"#EBF0F8\", \"linecolor\": \"#EBF0F8\", \"ticks\": \"\", \"title\": {\"standoff\": 15}, \"zerolinecolor\": \"#EBF0F8\", \"zerolinewidth\": 2}}}, \"title\": {\"text\": \"2D KDE of Average Reading vs Per Capita Income\"}, \"width\": 900, \"xaxis\": {\"anchor\": \"y\", \"domain\": [0.0, 1.0], \"title\": {\"text\": \"Per Capita Income\"}}, \"yaxis\": {\"anchor\": \"x\", \"domain\": [0.0, 1.0], \"title\": {\"text\": \"Average Reading\"}}},\n                        {\"responsive\": true}\n                    ).then(function(){\n                            \nvar gd = document.getElementById('b3d21734-8f61-45f8-a728-5838989bf181');\nvar x = new MutationObserver(function (mutations, observer) {{\n        var display = window.getComputedStyle(gd).display;\n        if (!display || display === 'none') {{\n            console.log([gd, 'removed!']);\n            Plotly.purge(gd);\n            observer.disconnect();\n        }}\n}});\n\n// Listen for the removal of the full notebook cells\nvar notebookContainer = gd.closest('#notebook-container');\nif (notebookContainer) {{\n    x.observe(notebookContainer, {childList: true});\n}}\n\n// Listen for the clearing of the current output cell\nvar outputEl = gd.closest('.output');\nif (outputEl) {{\n    x.observe(outputEl, {childList: true});\n}}\n\n                        })\n                };\n                });\n            </script>\n        </div>"
     },
     "metadata": {},
     "output_type": "display_data"
    }
   ],
   "source": [
    "import plotly.express as px\n",
    "\n",
    "# Example data\n",
    "df = intro_table_zone_income[['Average Reading', 'per_capita_income']]\n",
    "\n",
    "# Create a 2D KDE plot\n",
    "fig = px.density_contour(\n",
    "    df,\n",
    "    y=\"Average Reading\",\n",
    "    x=\"per_capita_income\",\n",
    "    title=\"2D KDE of Average Reading vs Per Capita Income\",\n",
    "    labels={\"Average Reading\": \"Average Reading\", \"per_capita_income\": \"Per Capita Income\"},\n",
    "    template=\"plotly_white\",\n",
    ")\n",
    "\n",
    "# Add filled contours for better visualization\n",
    "fig.update_traces(contours_coloring=\"fill\", colorscale=\"Greys\")\n",
    "\n",
    "# Customize layout\n",
    "fig.update_layout(\n",
    "    yaxis_title=\"Average Reading\",\n",
    "    xaxis_title=\"Per Capita Income\",\n",
    "    legend_title=\"Density\",\n",
    "    height=900,\n",
    "    width=900\n",
    ")\n",
    "\n",
    "# Show the plot\n",
    "fig.show()"
   ],
   "metadata": {
    "collapsed": false,
    "ExecuteTime": {
     "start_time": "2024-12-20T15:57:58.345517Z",
     "end_time": "2024-12-20T15:57:58.580013Z"
    }
   }
  },
  {
   "cell_type": "markdown",
   "source": [
    "# Zone to District Mapping"
   ],
   "metadata": {
    "collapsed": false
   }
  },
  {
   "cell_type": "code",
   "execution_count": 40,
   "outputs": [
    {
     "data": {
      "text/plain": "              per_capita_income\ndistrict                       \nGazipur                10115.44\nDhaka                   9454.79\nKhulna                  9448.90\nPirojpur                8368.79\nNarayanganj             8151.97\n...                         ...\nKhagrachhari            2519.80\nCumilla                 2503.52\nMaulvibazar             2386.83\nNilphamari              2305.09\nNoakhali                1562.99\n\n[64 rows x 1 columns]",
      "text/html": "<div>\n<style scoped>\n    .dataframe tbody tr th:only-of-type {\n        vertical-align: middle;\n    }\n\n    .dataframe tbody tr th {\n        vertical-align: top;\n    }\n\n    .dataframe thead th {\n        text-align: right;\n    }\n</style>\n<table border=\"1\" class=\"dataframe\">\n  <thead>\n    <tr style=\"text-align: right;\">\n      <th></th>\n      <th>per_capita_income</th>\n    </tr>\n    <tr>\n      <th>district</th>\n      <th></th>\n    </tr>\n  </thead>\n  <tbody>\n    <tr>\n      <th>Gazipur</th>\n      <td>10115.44</td>\n    </tr>\n    <tr>\n      <th>Dhaka</th>\n      <td>9454.79</td>\n    </tr>\n    <tr>\n      <th>Khulna</th>\n      <td>9448.90</td>\n    </tr>\n    <tr>\n      <th>Pirojpur</th>\n      <td>8368.79</td>\n    </tr>\n    <tr>\n      <th>Narayanganj</th>\n      <td>8151.97</td>\n    </tr>\n    <tr>\n      <th>...</th>\n      <td>...</td>\n    </tr>\n    <tr>\n      <th>Khagrachhari</th>\n      <td>2519.80</td>\n    </tr>\n    <tr>\n      <th>Cumilla</th>\n      <td>2503.52</td>\n    </tr>\n    <tr>\n      <th>Maulvibazar</th>\n      <td>2386.83</td>\n    </tr>\n    <tr>\n      <th>Nilphamari</th>\n      <td>2305.09</td>\n    </tr>\n    <tr>\n      <th>Noakhali</th>\n      <td>1562.99</td>\n    </tr>\n  </tbody>\n</table>\n<p>64 rows × 1 columns</p>\n</div>"
     },
     "execution_count": 40,
     "metadata": {},
     "output_type": "execute_result"
    }
   ],
   "source": [
    "district_income = pd.read_csv(\"../data_preparation/Extra Data/district_income.csv\",index_col=\"district\", sep='\\t+', engine='python')[[\"per_capita_income\"]]\n",
    "district_income"
   ],
   "metadata": {
    "collapsed": false,
    "ExecuteTime": {
     "start_time": "2024-12-20T15:57:58.377965Z",
     "end_time": "2024-12-20T15:57:58.580609Z"
    }
   }
  },
  {
   "cell_type": "code",
   "execution_count": 41,
   "outputs": [],
   "source": [
    "zone_income_full = zone_income.set_index(zone_income_index_full).reset_index().rename(columns={\"index\": \"zone\"})\n",
    "district_income = district_income.reset_index().rename(columns={\"index\": \"district\"})"
   ],
   "metadata": {
    "collapsed": false,
    "ExecuteTime": {
     "start_time": "2024-12-20T15:57:58.420991Z",
     "end_time": "2024-12-20T15:57:58.580756Z"
    }
   }
  },
  {
   "cell_type": "code",
   "execution_count": 42,
   "outputs": [
    {
     "data": {
      "text/plain": "                       zone      district\n0             Azimpur_Dhaka         Dhaka\n1               Dhaka_Dhaka         Dhaka\n2              Paltan_Dhaka         Dhaka\n3               Tungi_Dhaka         Dhaka\n4           Barisal_Barisal      Barishal\n5       Bhairab Bazar_Dhaka   Kishoreganj\n6          Kishorganj_Dhaka   Kishoreganj\n7             Bhola_Barisal         Bhola\n8            Bogra_Rajshahi        Bogura\n9     Chittagong_Chittagong    Chattogram\n10        Patiya_Chittagong    Chattogram\n11       Sandwip_Chittagong    Chattogram\n12      Satkania_Chittagong    Chattogram\n13       Comilla_Chittagong       Cumilla\n14       Laksham_Chittagong       Cumilla\n15         Dinajpur_Rangpur      Dinajpur\n16           Faridpur_Dhaka      Faridpur\n17          Feni_Chittagong          Feni\n18          Habiganj_Sylhet      Habiganj\n19         Ishurdi_Rajshahi         Pabna\n20           Pabna_Rajshahi         Pabna\n21      Jamalpur_Mymensingh      Jamalpur\n22   Sarishabari_Mymensingh      Jamalpur\n23           Jessore_Khulna       Jashore\n24      Joypur Hat_Rajshahi     Joypurhat\n25  Khagrachhari_Chittagong  Khagrachhari\n26            Khulna_Khulna        Khulna\n27           Kushtia_Khulna       Kushtia\n28    Lakshmipur_Chittagong    Lakshmipur\n29        Raipur_Chittagong    Lakshmipur\n30       Ramganj_Chittagong    Lakshmipur\n31      Lalmanirhat_Rangpur   Lalmonirhat\n32          Madaripur_Dhaka     Madaripur\n33     Maulavi Bazar_Sylhet   Maulvibazar\n34    Mymensingh_Mymensingh    Mymensingh\n35           Nagarpur_Dhaka       Tangail\n36            Tangail_Dhaka       Tangail\n37            Narail_Khulna        Narail\n38        Narayanganj_Dhaka   Narayanganj\n39          Narsingdi_Dhaka     Narsingdi\n40       Nawabganj_Rajshahi     Nawabganj\n41     Netrakona_Mymensingh     Netrokona\n42             Palang_Dhaka    Shariatpur\n43     Par Naogaon_Rajshahi       Naogaon\n44         Pirojpur_Barisal      Pirojpur\n45        Rajshahi_Rajshahi      Rajshahi\n46          Rangpur_Rangpur       Rangpur\n47         Saidpur_Rajshahi    Nilphamari\n48          Satkhira_Khulna      Satkhira\n49      Shahzadpur_Rajshahi     Sirajganj\n50       Sirajganj_Rajshahi     Sirajganj\n51       Sherpur_Mymensingh       Sherpur\n52            Sylhet_Sylhet        Sylhet\n53       Thakurgaon_Rangpur    Thakurgaon\n54          Tungipara_Dhaka     Gopalganj",
      "text/html": "<div>\n<style scoped>\n    .dataframe tbody tr th:only-of-type {\n        vertical-align: middle;\n    }\n\n    .dataframe tbody tr th {\n        vertical-align: top;\n    }\n\n    .dataframe thead th {\n        text-align: right;\n    }\n</style>\n<table border=\"1\" class=\"dataframe\">\n  <thead>\n    <tr style=\"text-align: right;\">\n      <th></th>\n      <th>zone</th>\n      <th>district</th>\n    </tr>\n  </thead>\n  <tbody>\n    <tr>\n      <th>0</th>\n      <td>Azimpur_Dhaka</td>\n      <td>Dhaka</td>\n    </tr>\n    <tr>\n      <th>1</th>\n      <td>Dhaka_Dhaka</td>\n      <td>Dhaka</td>\n    </tr>\n    <tr>\n      <th>2</th>\n      <td>Paltan_Dhaka</td>\n      <td>Dhaka</td>\n    </tr>\n    <tr>\n      <th>3</th>\n      <td>Tungi_Dhaka</td>\n      <td>Dhaka</td>\n    </tr>\n    <tr>\n      <th>4</th>\n      <td>Barisal_Barisal</td>\n      <td>Barishal</td>\n    </tr>\n    <tr>\n      <th>5</th>\n      <td>Bhairab Bazar_Dhaka</td>\n      <td>Kishoreganj</td>\n    </tr>\n    <tr>\n      <th>6</th>\n      <td>Kishorganj_Dhaka</td>\n      <td>Kishoreganj</td>\n    </tr>\n    <tr>\n      <th>7</th>\n      <td>Bhola_Barisal</td>\n      <td>Bhola</td>\n    </tr>\n    <tr>\n      <th>8</th>\n      <td>Bogra_Rajshahi</td>\n      <td>Bogura</td>\n    </tr>\n    <tr>\n      <th>9</th>\n      <td>Chittagong_Chittagong</td>\n      <td>Chattogram</td>\n    </tr>\n    <tr>\n      <th>10</th>\n      <td>Patiya_Chittagong</td>\n      <td>Chattogram</td>\n    </tr>\n    <tr>\n      <th>11</th>\n      <td>Sandwip_Chittagong</td>\n      <td>Chattogram</td>\n    </tr>\n    <tr>\n      <th>12</th>\n      <td>Satkania_Chittagong</td>\n      <td>Chattogram</td>\n    </tr>\n    <tr>\n      <th>13</th>\n      <td>Comilla_Chittagong</td>\n      <td>Cumilla</td>\n    </tr>\n    <tr>\n      <th>14</th>\n      <td>Laksham_Chittagong</td>\n      <td>Cumilla</td>\n    </tr>\n    <tr>\n      <th>15</th>\n      <td>Dinajpur_Rangpur</td>\n      <td>Dinajpur</td>\n    </tr>\n    <tr>\n      <th>16</th>\n      <td>Faridpur_Dhaka</td>\n      <td>Faridpur</td>\n    </tr>\n    <tr>\n      <th>17</th>\n      <td>Feni_Chittagong</td>\n      <td>Feni</td>\n    </tr>\n    <tr>\n      <th>18</th>\n      <td>Habiganj_Sylhet</td>\n      <td>Habiganj</td>\n    </tr>\n    <tr>\n      <th>19</th>\n      <td>Ishurdi_Rajshahi</td>\n      <td>Pabna</td>\n    </tr>\n    <tr>\n      <th>20</th>\n      <td>Pabna_Rajshahi</td>\n      <td>Pabna</td>\n    </tr>\n    <tr>\n      <th>21</th>\n      <td>Jamalpur_Mymensingh</td>\n      <td>Jamalpur</td>\n    </tr>\n    <tr>\n      <th>22</th>\n      <td>Sarishabari_Mymensingh</td>\n      <td>Jamalpur</td>\n    </tr>\n    <tr>\n      <th>23</th>\n      <td>Jessore_Khulna</td>\n      <td>Jashore</td>\n    </tr>\n    <tr>\n      <th>24</th>\n      <td>Joypur Hat_Rajshahi</td>\n      <td>Joypurhat</td>\n    </tr>\n    <tr>\n      <th>25</th>\n      <td>Khagrachhari_Chittagong</td>\n      <td>Khagrachhari</td>\n    </tr>\n    <tr>\n      <th>26</th>\n      <td>Khulna_Khulna</td>\n      <td>Khulna</td>\n    </tr>\n    <tr>\n      <th>27</th>\n      <td>Kushtia_Khulna</td>\n      <td>Kushtia</td>\n    </tr>\n    <tr>\n      <th>28</th>\n      <td>Lakshmipur_Chittagong</td>\n      <td>Lakshmipur</td>\n    </tr>\n    <tr>\n      <th>29</th>\n      <td>Raipur_Chittagong</td>\n      <td>Lakshmipur</td>\n    </tr>\n    <tr>\n      <th>30</th>\n      <td>Ramganj_Chittagong</td>\n      <td>Lakshmipur</td>\n    </tr>\n    <tr>\n      <th>31</th>\n      <td>Lalmanirhat_Rangpur</td>\n      <td>Lalmonirhat</td>\n    </tr>\n    <tr>\n      <th>32</th>\n      <td>Madaripur_Dhaka</td>\n      <td>Madaripur</td>\n    </tr>\n    <tr>\n      <th>33</th>\n      <td>Maulavi Bazar_Sylhet</td>\n      <td>Maulvibazar</td>\n    </tr>\n    <tr>\n      <th>34</th>\n      <td>Mymensingh_Mymensingh</td>\n      <td>Mymensingh</td>\n    </tr>\n    <tr>\n      <th>35</th>\n      <td>Nagarpur_Dhaka</td>\n      <td>Tangail</td>\n    </tr>\n    <tr>\n      <th>36</th>\n      <td>Tangail_Dhaka</td>\n      <td>Tangail</td>\n    </tr>\n    <tr>\n      <th>37</th>\n      <td>Narail_Khulna</td>\n      <td>Narail</td>\n    </tr>\n    <tr>\n      <th>38</th>\n      <td>Narayanganj_Dhaka</td>\n      <td>Narayanganj</td>\n    </tr>\n    <tr>\n      <th>39</th>\n      <td>Narsingdi_Dhaka</td>\n      <td>Narsingdi</td>\n    </tr>\n    <tr>\n      <th>40</th>\n      <td>Nawabganj_Rajshahi</td>\n      <td>Nawabganj</td>\n    </tr>\n    <tr>\n      <th>41</th>\n      <td>Netrakona_Mymensingh</td>\n      <td>Netrokona</td>\n    </tr>\n    <tr>\n      <th>42</th>\n      <td>Palang_Dhaka</td>\n      <td>Shariatpur</td>\n    </tr>\n    <tr>\n      <th>43</th>\n      <td>Par Naogaon_Rajshahi</td>\n      <td>Naogaon</td>\n    </tr>\n    <tr>\n      <th>44</th>\n      <td>Pirojpur_Barisal</td>\n      <td>Pirojpur</td>\n    </tr>\n    <tr>\n      <th>45</th>\n      <td>Rajshahi_Rajshahi</td>\n      <td>Rajshahi</td>\n    </tr>\n    <tr>\n      <th>46</th>\n      <td>Rangpur_Rangpur</td>\n      <td>Rangpur</td>\n    </tr>\n    <tr>\n      <th>47</th>\n      <td>Saidpur_Rajshahi</td>\n      <td>Nilphamari</td>\n    </tr>\n    <tr>\n      <th>48</th>\n      <td>Satkhira_Khulna</td>\n      <td>Satkhira</td>\n    </tr>\n    <tr>\n      <th>49</th>\n      <td>Shahzadpur_Rajshahi</td>\n      <td>Sirajganj</td>\n    </tr>\n    <tr>\n      <th>50</th>\n      <td>Sirajganj_Rajshahi</td>\n      <td>Sirajganj</td>\n    </tr>\n    <tr>\n      <th>51</th>\n      <td>Sherpur_Mymensingh</td>\n      <td>Sherpur</td>\n    </tr>\n    <tr>\n      <th>52</th>\n      <td>Sylhet_Sylhet</td>\n      <td>Sylhet</td>\n    </tr>\n    <tr>\n      <th>53</th>\n      <td>Thakurgaon_Rangpur</td>\n      <td>Thakurgaon</td>\n    </tr>\n    <tr>\n      <th>54</th>\n      <td>Tungipara_Dhaka</td>\n      <td>Gopalganj</td>\n    </tr>\n  </tbody>\n</table>\n</div>"
     },
     "execution_count": 42,
     "metadata": {},
     "output_type": "execute_result"
    }
   ],
   "source": [
    "zone_district_map = pd.merge(zone_income_full, district_income, on=\"per_capita_income\", how=\"inner\")[[\"zone\",\"district\"]]\n",
    "# zone_district_map.to_csv(\"zone_district_map.csv\",index=False)\n",
    "zone_district_map"
   ],
   "metadata": {
    "collapsed": false,
    "ExecuteTime": {
     "start_time": "2024-12-20T15:57:58.421082Z",
     "end_time": "2024-12-20T15:57:58.580986Z"
    }
   }
  },
  {
   "cell_type": "markdown",
   "source": [
    "# BBS Data Analysis"
   ],
   "metadata": {
    "collapsed": false
   }
  },
  {
   "cell_type": "code",
   "execution_count": 43,
   "outputs": [
    {
     "data": {
      "text/plain": "             Households Total  Households General  Households Institutional  \\\nDistrict                                                                      \nBarguna              215842.0            214863.0                     148.0   \nBarishal             513673.0            510780.0                     425.0   \nBhola                372723.0            371799.0                     132.0   \nJhalokati            158139.0            157559.0                     123.0   \nPatuakhali           346462.0            345113.0                     157.0   \n...                       ...                 ...                       ...   \nThakurgaon           320786.0            319929.0                     150.0   \nHabiganj             393302.0            391657.0                     164.0   \nMaulvibazar          361177.0           3597715.0                     158.0   \nSunamganj            440332.0            438752.0                     134.0   \nSylhet               596081.0            589425.0                     644.0   \n\n             Households Others  Population       Male     Female  Ratio_M_F  \\\nDistrict                                                                      \nBarguna                  831.0    892781.0   437413.0   455368.0       96.1   \nBarishal                2468.0   2324310.0  1137210.0  1187100.0       95.8   \nBhola                    792.0   1776795.0   884069.0   892726.0       99.0   \nJhalokati                457.0    682669.0   329147.0   353522.0       93.1   \nPatuakhali              1192.0   1535854.0   753441.0   782413.0       96.3   \n...                        ...         ...        ...        ...        ...   \nThakurgaon               707.0   1390042.0   701281.0   688761.0      101.8   \nHabiganj                1481.0   2089001.0  1025591.0  1063410.0       96.4   \nMaulvibazar             1304.0   1919062.0   944728.0   974334.0       97.0   \nSunamganj               1446.0   2467968.0  1236106.0  1231862.0      100.3   \nSylhet                  6012.0   3434188.0  1726965.0  1707223.0      101.2   \n\n             Literacy Rate  \nDistrict                    \nBarguna              57.64  \nBarishal             61.24  \nBhola                43.24  \nJhalokati            66.68  \nPatuakhali           54.07  \n...                    ...  \nThakurgaon           48.71  \nHabiganj             40.53  \nMaulvibazar          51.10  \nSunamganj            34.98  \nSylhet               51.18  \n\n[64 rows x 9 columns]",
      "text/html": "<div>\n<style scoped>\n    .dataframe tbody tr th:only-of-type {\n        vertical-align: middle;\n    }\n\n    .dataframe tbody tr th {\n        vertical-align: top;\n    }\n\n    .dataframe thead th {\n        text-align: right;\n    }\n</style>\n<table border=\"1\" class=\"dataframe\">\n  <thead>\n    <tr style=\"text-align: right;\">\n      <th></th>\n      <th>Households Total</th>\n      <th>Households General</th>\n      <th>Households Institutional</th>\n      <th>Households Others</th>\n      <th>Population</th>\n      <th>Male</th>\n      <th>Female</th>\n      <th>Ratio_M_F</th>\n      <th>Literacy Rate</th>\n    </tr>\n    <tr>\n      <th>District</th>\n      <th></th>\n      <th></th>\n      <th></th>\n      <th></th>\n      <th></th>\n      <th></th>\n      <th></th>\n      <th></th>\n      <th></th>\n    </tr>\n  </thead>\n  <tbody>\n    <tr>\n      <th>Barguna</th>\n      <td>215842.0</td>\n      <td>214863.0</td>\n      <td>148.0</td>\n      <td>831.0</td>\n      <td>892781.0</td>\n      <td>437413.0</td>\n      <td>455368.0</td>\n      <td>96.1</td>\n      <td>57.64</td>\n    </tr>\n    <tr>\n      <th>Barishal</th>\n      <td>513673.0</td>\n      <td>510780.0</td>\n      <td>425.0</td>\n      <td>2468.0</td>\n      <td>2324310.0</td>\n      <td>1137210.0</td>\n      <td>1187100.0</td>\n      <td>95.8</td>\n      <td>61.24</td>\n    </tr>\n    <tr>\n      <th>Bhola</th>\n      <td>372723.0</td>\n      <td>371799.0</td>\n      <td>132.0</td>\n      <td>792.0</td>\n      <td>1776795.0</td>\n      <td>884069.0</td>\n      <td>892726.0</td>\n      <td>99.0</td>\n      <td>43.24</td>\n    </tr>\n    <tr>\n      <th>Jhalokati</th>\n      <td>158139.0</td>\n      <td>157559.0</td>\n      <td>123.0</td>\n      <td>457.0</td>\n      <td>682669.0</td>\n      <td>329147.0</td>\n      <td>353522.0</td>\n      <td>93.1</td>\n      <td>66.68</td>\n    </tr>\n    <tr>\n      <th>Patuakhali</th>\n      <td>346462.0</td>\n      <td>345113.0</td>\n      <td>157.0</td>\n      <td>1192.0</td>\n      <td>1535854.0</td>\n      <td>753441.0</td>\n      <td>782413.0</td>\n      <td>96.3</td>\n      <td>54.07</td>\n    </tr>\n    <tr>\n      <th>...</th>\n      <td>...</td>\n      <td>...</td>\n      <td>...</td>\n      <td>...</td>\n      <td>...</td>\n      <td>...</td>\n      <td>...</td>\n      <td>...</td>\n      <td>...</td>\n    </tr>\n    <tr>\n      <th>Thakurgaon</th>\n      <td>320786.0</td>\n      <td>319929.0</td>\n      <td>150.0</td>\n      <td>707.0</td>\n      <td>1390042.0</td>\n      <td>701281.0</td>\n      <td>688761.0</td>\n      <td>101.8</td>\n      <td>48.71</td>\n    </tr>\n    <tr>\n      <th>Habiganj</th>\n      <td>393302.0</td>\n      <td>391657.0</td>\n      <td>164.0</td>\n      <td>1481.0</td>\n      <td>2089001.0</td>\n      <td>1025591.0</td>\n      <td>1063410.0</td>\n      <td>96.4</td>\n      <td>40.53</td>\n    </tr>\n    <tr>\n      <th>Maulvibazar</th>\n      <td>361177.0</td>\n      <td>3597715.0</td>\n      <td>158.0</td>\n      <td>1304.0</td>\n      <td>1919062.0</td>\n      <td>944728.0</td>\n      <td>974334.0</td>\n      <td>97.0</td>\n      <td>51.10</td>\n    </tr>\n    <tr>\n      <th>Sunamganj</th>\n      <td>440332.0</td>\n      <td>438752.0</td>\n      <td>134.0</td>\n      <td>1446.0</td>\n      <td>2467968.0</td>\n      <td>1236106.0</td>\n      <td>1231862.0</td>\n      <td>100.3</td>\n      <td>34.98</td>\n    </tr>\n    <tr>\n      <th>Sylhet</th>\n      <td>596081.0</td>\n      <td>589425.0</td>\n      <td>644.0</td>\n      <td>6012.0</td>\n      <td>3434188.0</td>\n      <td>1726965.0</td>\n      <td>1707223.0</td>\n      <td>101.2</td>\n      <td>51.18</td>\n    </tr>\n  </tbody>\n</table>\n<p>64 rows × 9 columns</p>\n</div>"
     },
     "execution_count": 43,
     "metadata": {},
     "output_type": "execute_result"
    }
   ],
   "source": [
    "Household_Population_Literacy_Rate_District_2011 = pd.read_csv('../data_preparation/Extra Data/BBS 2022 Data/Household_Population_Literacy_Rate_District_2011.csv', sep='\\s+', header=[0], index_col=0).replace(\"-\",0).astype(float)\n",
    "Household_Population_Literacy_Rate_District_2011"
   ],
   "metadata": {
    "collapsed": false,
    "ExecuteTime": {
     "start_time": "2024-12-20T15:57:58.421293Z",
     "end_time": "2024-12-20T15:57:58.581861Z"
    }
   }
  },
  {
   "cell_type": "code",
   "execution_count": 44,
   "outputs": [
    {
     "data": {
      "text/plain": "Index(['Households Total', 'Households General', 'Households Institutional',\n       'Households Others', 'Population', 'Male', 'Female', 'Ratio_M_F',\n       'Literacy Rate'],\n      dtype='object')"
     },
     "execution_count": 44,
     "metadata": {},
     "output_type": "execute_result"
    }
   ],
   "source": [
    "Household_Population_Literacy_Rate_District_2011.columns"
   ],
   "metadata": {
    "collapsed": false,
    "ExecuteTime": {
     "start_time": "2024-12-20T15:57:58.438664Z",
     "end_time": "2024-12-20T15:57:58.582172Z"
    }
   }
  },
  {
   "cell_type": "code",
   "execution_count": 45,
   "outputs": [
    {
     "data": {
      "text/plain": "             National Highways  Regional Highways  Zilla Highways  \\\nDistrict                                                            \nBarishal                 90.78              20.31          242.18   \nBhola                    16.47             109.40          155.09   \nJhalokati                 7.32              38.81          205.35   \nPirojpur                  0.00              25.19          263.18   \nPatuakhali               13.37              69.85          173.96   \n...                        ...                ...             ...   \nThakurgaon               30.60               6.14          155.70   \nSylhet                  139.14             162.01          253.03   \nSunamganj                 0.00             138.46          206.98   \nHabiganj                128.02             103.33          107.43   \nMaulvibazar              89.73              74.22          216.69   \n\n             Total Highways  \nDistrict                     \nBarishal             353.27  \nBhola                280.96  \nJhalokati            251.48  \nPirojpur             288.37  \nPatuakhali           257.18  \n...                     ...  \nThakurgaon           192.44  \nSylhet               554.18  \nSunamganj            345.44  \nHabiganj             338.78  \nMaulvibazar          380.64  \n\n[64 rows x 4 columns]",
      "text/html": "<div>\n<style scoped>\n    .dataframe tbody tr th:only-of-type {\n        vertical-align: middle;\n    }\n\n    .dataframe tbody tr th {\n        vertical-align: top;\n    }\n\n    .dataframe thead th {\n        text-align: right;\n    }\n</style>\n<table border=\"1\" class=\"dataframe\">\n  <thead>\n    <tr style=\"text-align: right;\">\n      <th></th>\n      <th>National Highways</th>\n      <th>Regional Highways</th>\n      <th>Zilla Highways</th>\n      <th>Total Highways</th>\n    </tr>\n    <tr>\n      <th>District</th>\n      <th></th>\n      <th></th>\n      <th></th>\n      <th></th>\n    </tr>\n  </thead>\n  <tbody>\n    <tr>\n      <th>Barishal</th>\n      <td>90.78</td>\n      <td>20.31</td>\n      <td>242.18</td>\n      <td>353.27</td>\n    </tr>\n    <tr>\n      <th>Bhola</th>\n      <td>16.47</td>\n      <td>109.40</td>\n      <td>155.09</td>\n      <td>280.96</td>\n    </tr>\n    <tr>\n      <th>Jhalokati</th>\n      <td>7.32</td>\n      <td>38.81</td>\n      <td>205.35</td>\n      <td>251.48</td>\n    </tr>\n    <tr>\n      <th>Pirojpur</th>\n      <td>0.00</td>\n      <td>25.19</td>\n      <td>263.18</td>\n      <td>288.37</td>\n    </tr>\n    <tr>\n      <th>Patuakhali</th>\n      <td>13.37</td>\n      <td>69.85</td>\n      <td>173.96</td>\n      <td>257.18</td>\n    </tr>\n    <tr>\n      <th>...</th>\n      <td>...</td>\n      <td>...</td>\n      <td>...</td>\n      <td>...</td>\n    </tr>\n    <tr>\n      <th>Thakurgaon</th>\n      <td>30.60</td>\n      <td>6.14</td>\n      <td>155.70</td>\n      <td>192.44</td>\n    </tr>\n    <tr>\n      <th>Sylhet</th>\n      <td>139.14</td>\n      <td>162.01</td>\n      <td>253.03</td>\n      <td>554.18</td>\n    </tr>\n    <tr>\n      <th>Sunamganj</th>\n      <td>0.00</td>\n      <td>138.46</td>\n      <td>206.98</td>\n      <td>345.44</td>\n    </tr>\n    <tr>\n      <th>Habiganj</th>\n      <td>128.02</td>\n      <td>103.33</td>\n      <td>107.43</td>\n      <td>338.78</td>\n    </tr>\n    <tr>\n      <th>Maulvibazar</th>\n      <td>89.73</td>\n      <td>74.22</td>\n      <td>216.69</td>\n      <td>380.64</td>\n    </tr>\n  </tbody>\n</table>\n<p>64 rows × 4 columns</p>\n</div>"
     },
     "execution_count": 45,
     "metadata": {},
     "output_type": "execute_result"
    }
   ],
   "source": [
    "road_length_district_2022 = pd.read_csv('../data_preparation/Extra Data/BBS 2022 Data/road_length_district_2022.csv', sep='\\s+', header=[0], index_col=0).replace(\"-\",0).astype(float)\n",
    "road_length_district_2022"
   ],
   "metadata": {
    "collapsed": false,
    "ExecuteTime": {
     "start_time": "2024-12-20T15:57:58.443504Z",
     "end_time": "2024-12-20T15:57:58.582696Z"
    }
   }
  },
  {
   "cell_type": "code",
   "execution_count": 46,
   "outputs": [
    {
     "data": {
      "text/plain": "Index(['National Highways', 'Regional Highways', 'Zilla Highways',\n       'Total Highways'],\n      dtype='object')"
     },
     "execution_count": 46,
     "metadata": {},
     "output_type": "execute_result"
    }
   ],
   "source": [
    "road_length_district_2022.columns"
   ],
   "metadata": {
    "collapsed": false,
    "ExecuteTime": {
     "start_time": "2024-12-20T15:57:58.459301Z",
     "end_time": "2024-12-20T15:57:58.645552Z"
    }
   }
  },
  {
   "cell_type": "code",
   "execution_count": 47,
   "outputs": [
    {
     "data": {
      "text/plain": "Int64Index([ 0,  1,  2,  3,  4,  5,  6,  7,  8,  9, 10, 11, 12, 13, 14, 15, 16,\n            17, 18, 19, 20, 21, 22, 23, 24, 25, 26, 27, 28, 29, 30, 31, 32, 33,\n            34, 35, 36, 37, 38, 39, 40, 41, 42, 43, 44, 45, 46, 47, 48, 49, 50,\n            51, 52, 53, 54, 55, 56, 57, 58, 59, 60, 61, 62, 63],\n           dtype='int64')"
     },
     "execution_count": 47,
     "metadata": {},
     "output_type": "execute_result"
    }
   ],
   "source": [
    "district_income.index.sort_values()"
   ],
   "metadata": {
    "collapsed": false,
    "ExecuteTime": {
     "start_time": "2024-12-20T15:57:58.501020Z",
     "end_time": "2024-12-20T15:57:58.646091Z"
    }
   }
  },
  {
   "cell_type": "code",
   "execution_count": 48,
   "outputs": [
    {
     "data": {
      "text/plain": "set()"
     },
     "execution_count": 48,
     "metadata": {},
     "output_type": "execute_result"
    }
   ],
   "source": [
    "set(road_length_district_2022.index) - set(Household_Population_Literacy_Rate_District_2011.index)"
   ],
   "metadata": {
    "collapsed": false,
    "ExecuteTime": {
     "start_time": "2024-12-20T15:57:58.501088Z",
     "end_time": "2024-12-20T15:57:58.646300Z"
    }
   }
  },
  {
   "cell_type": "code",
   "execution_count": 49,
   "outputs": [
    {
     "data": {
      "text/plain": "                       zone      district\n0             Azimpur_Dhaka         Dhaka\n1               Dhaka_Dhaka         Dhaka\n2              Paltan_Dhaka         Dhaka\n3               Tungi_Dhaka         Dhaka\n4           Barisal_Barisal      Barishal\n5       Bhairab Bazar_Dhaka   Kishoreganj\n6          Kishorganj_Dhaka   Kishoreganj\n7             Bhola_Barisal         Bhola\n8            Bogra_Rajshahi        Bogura\n9     Chittagong_Chittagong    Chattogram\n10        Patiya_Chittagong    Chattogram\n11       Sandwip_Chittagong    Chattogram\n12      Satkania_Chittagong    Chattogram\n13       Comilla_Chittagong       Cumilla\n14       Laksham_Chittagong       Cumilla\n15         Dinajpur_Rangpur      Dinajpur\n16           Faridpur_Dhaka      Faridpur\n17          Feni_Chittagong          Feni\n18          Habiganj_Sylhet      Habiganj\n19         Ishurdi_Rajshahi         Pabna\n20           Pabna_Rajshahi         Pabna\n21      Jamalpur_Mymensingh      Jamalpur\n22   Sarishabari_Mymensingh      Jamalpur\n23           Jessore_Khulna       Jashore\n24      Joypur Hat_Rajshahi     Joypurhat\n25  Khagrachhari_Chittagong  Khagrachhari\n26            Khulna_Khulna        Khulna\n27           Kushtia_Khulna       Kushtia\n28    Lakshmipur_Chittagong    Lakshmipur\n29        Raipur_Chittagong    Lakshmipur\n30       Ramganj_Chittagong    Lakshmipur\n31      Lalmanirhat_Rangpur   Lalmonirhat\n32          Madaripur_Dhaka     Madaripur\n33     Maulavi Bazar_Sylhet   Maulvibazar\n34    Mymensingh_Mymensingh    Mymensingh\n35           Nagarpur_Dhaka       Tangail\n36            Tangail_Dhaka       Tangail\n37            Narail_Khulna        Narail\n38        Narayanganj_Dhaka   Narayanganj\n39          Narsingdi_Dhaka     Narsingdi\n40       Nawabganj_Rajshahi     Nawabganj\n41     Netrakona_Mymensingh     Netrokona\n42             Palang_Dhaka    Shariatpur\n43     Par Naogaon_Rajshahi       Naogaon\n44         Pirojpur_Barisal      Pirojpur\n45        Rajshahi_Rajshahi      Rajshahi\n46          Rangpur_Rangpur       Rangpur\n47         Saidpur_Rajshahi    Nilphamari\n48          Satkhira_Khulna      Satkhira\n49      Shahzadpur_Rajshahi     Sirajganj\n50       Sirajganj_Rajshahi     Sirajganj\n51       Sherpur_Mymensingh       Sherpur\n52            Sylhet_Sylhet        Sylhet\n53       Thakurgaon_Rangpur    Thakurgaon\n54          Tungipara_Dhaka     Gopalganj",
      "text/html": "<div>\n<style scoped>\n    .dataframe tbody tr th:only-of-type {\n        vertical-align: middle;\n    }\n\n    .dataframe tbody tr th {\n        vertical-align: top;\n    }\n\n    .dataframe thead th {\n        text-align: right;\n    }\n</style>\n<table border=\"1\" class=\"dataframe\">\n  <thead>\n    <tr style=\"text-align: right;\">\n      <th></th>\n      <th>zone</th>\n      <th>district</th>\n    </tr>\n  </thead>\n  <tbody>\n    <tr>\n      <th>0</th>\n      <td>Azimpur_Dhaka</td>\n      <td>Dhaka</td>\n    </tr>\n    <tr>\n      <th>1</th>\n      <td>Dhaka_Dhaka</td>\n      <td>Dhaka</td>\n    </tr>\n    <tr>\n      <th>2</th>\n      <td>Paltan_Dhaka</td>\n      <td>Dhaka</td>\n    </tr>\n    <tr>\n      <th>3</th>\n      <td>Tungi_Dhaka</td>\n      <td>Dhaka</td>\n    </tr>\n    <tr>\n      <th>4</th>\n      <td>Barisal_Barisal</td>\n      <td>Barishal</td>\n    </tr>\n    <tr>\n      <th>5</th>\n      <td>Bhairab Bazar_Dhaka</td>\n      <td>Kishoreganj</td>\n    </tr>\n    <tr>\n      <th>6</th>\n      <td>Kishorganj_Dhaka</td>\n      <td>Kishoreganj</td>\n    </tr>\n    <tr>\n      <th>7</th>\n      <td>Bhola_Barisal</td>\n      <td>Bhola</td>\n    </tr>\n    <tr>\n      <th>8</th>\n      <td>Bogra_Rajshahi</td>\n      <td>Bogura</td>\n    </tr>\n    <tr>\n      <th>9</th>\n      <td>Chittagong_Chittagong</td>\n      <td>Chattogram</td>\n    </tr>\n    <tr>\n      <th>10</th>\n      <td>Patiya_Chittagong</td>\n      <td>Chattogram</td>\n    </tr>\n    <tr>\n      <th>11</th>\n      <td>Sandwip_Chittagong</td>\n      <td>Chattogram</td>\n    </tr>\n    <tr>\n      <th>12</th>\n      <td>Satkania_Chittagong</td>\n      <td>Chattogram</td>\n    </tr>\n    <tr>\n      <th>13</th>\n      <td>Comilla_Chittagong</td>\n      <td>Cumilla</td>\n    </tr>\n    <tr>\n      <th>14</th>\n      <td>Laksham_Chittagong</td>\n      <td>Cumilla</td>\n    </tr>\n    <tr>\n      <th>15</th>\n      <td>Dinajpur_Rangpur</td>\n      <td>Dinajpur</td>\n    </tr>\n    <tr>\n      <th>16</th>\n      <td>Faridpur_Dhaka</td>\n      <td>Faridpur</td>\n    </tr>\n    <tr>\n      <th>17</th>\n      <td>Feni_Chittagong</td>\n      <td>Feni</td>\n    </tr>\n    <tr>\n      <th>18</th>\n      <td>Habiganj_Sylhet</td>\n      <td>Habiganj</td>\n    </tr>\n    <tr>\n      <th>19</th>\n      <td>Ishurdi_Rajshahi</td>\n      <td>Pabna</td>\n    </tr>\n    <tr>\n      <th>20</th>\n      <td>Pabna_Rajshahi</td>\n      <td>Pabna</td>\n    </tr>\n    <tr>\n      <th>21</th>\n      <td>Jamalpur_Mymensingh</td>\n      <td>Jamalpur</td>\n    </tr>\n    <tr>\n      <th>22</th>\n      <td>Sarishabari_Mymensingh</td>\n      <td>Jamalpur</td>\n    </tr>\n    <tr>\n      <th>23</th>\n      <td>Jessore_Khulna</td>\n      <td>Jashore</td>\n    </tr>\n    <tr>\n      <th>24</th>\n      <td>Joypur Hat_Rajshahi</td>\n      <td>Joypurhat</td>\n    </tr>\n    <tr>\n      <th>25</th>\n      <td>Khagrachhari_Chittagong</td>\n      <td>Khagrachhari</td>\n    </tr>\n    <tr>\n      <th>26</th>\n      <td>Khulna_Khulna</td>\n      <td>Khulna</td>\n    </tr>\n    <tr>\n      <th>27</th>\n      <td>Kushtia_Khulna</td>\n      <td>Kushtia</td>\n    </tr>\n    <tr>\n      <th>28</th>\n      <td>Lakshmipur_Chittagong</td>\n      <td>Lakshmipur</td>\n    </tr>\n    <tr>\n      <th>29</th>\n      <td>Raipur_Chittagong</td>\n      <td>Lakshmipur</td>\n    </tr>\n    <tr>\n      <th>30</th>\n      <td>Ramganj_Chittagong</td>\n      <td>Lakshmipur</td>\n    </tr>\n    <tr>\n      <th>31</th>\n      <td>Lalmanirhat_Rangpur</td>\n      <td>Lalmonirhat</td>\n    </tr>\n    <tr>\n      <th>32</th>\n      <td>Madaripur_Dhaka</td>\n      <td>Madaripur</td>\n    </tr>\n    <tr>\n      <th>33</th>\n      <td>Maulavi Bazar_Sylhet</td>\n      <td>Maulvibazar</td>\n    </tr>\n    <tr>\n      <th>34</th>\n      <td>Mymensingh_Mymensingh</td>\n      <td>Mymensingh</td>\n    </tr>\n    <tr>\n      <th>35</th>\n      <td>Nagarpur_Dhaka</td>\n      <td>Tangail</td>\n    </tr>\n    <tr>\n      <th>36</th>\n      <td>Tangail_Dhaka</td>\n      <td>Tangail</td>\n    </tr>\n    <tr>\n      <th>37</th>\n      <td>Narail_Khulna</td>\n      <td>Narail</td>\n    </tr>\n    <tr>\n      <th>38</th>\n      <td>Narayanganj_Dhaka</td>\n      <td>Narayanganj</td>\n    </tr>\n    <tr>\n      <th>39</th>\n      <td>Narsingdi_Dhaka</td>\n      <td>Narsingdi</td>\n    </tr>\n    <tr>\n      <th>40</th>\n      <td>Nawabganj_Rajshahi</td>\n      <td>Nawabganj</td>\n    </tr>\n    <tr>\n      <th>41</th>\n      <td>Netrakona_Mymensingh</td>\n      <td>Netrokona</td>\n    </tr>\n    <tr>\n      <th>42</th>\n      <td>Palang_Dhaka</td>\n      <td>Shariatpur</td>\n    </tr>\n    <tr>\n      <th>43</th>\n      <td>Par Naogaon_Rajshahi</td>\n      <td>Naogaon</td>\n    </tr>\n    <tr>\n      <th>44</th>\n      <td>Pirojpur_Barisal</td>\n      <td>Pirojpur</td>\n    </tr>\n    <tr>\n      <th>45</th>\n      <td>Rajshahi_Rajshahi</td>\n      <td>Rajshahi</td>\n    </tr>\n    <tr>\n      <th>46</th>\n      <td>Rangpur_Rangpur</td>\n      <td>Rangpur</td>\n    </tr>\n    <tr>\n      <th>47</th>\n      <td>Saidpur_Rajshahi</td>\n      <td>Nilphamari</td>\n    </tr>\n    <tr>\n      <th>48</th>\n      <td>Satkhira_Khulna</td>\n      <td>Satkhira</td>\n    </tr>\n    <tr>\n      <th>49</th>\n      <td>Shahzadpur_Rajshahi</td>\n      <td>Sirajganj</td>\n    </tr>\n    <tr>\n      <th>50</th>\n      <td>Sirajganj_Rajshahi</td>\n      <td>Sirajganj</td>\n    </tr>\n    <tr>\n      <th>51</th>\n      <td>Sherpur_Mymensingh</td>\n      <td>Sherpur</td>\n    </tr>\n    <tr>\n      <th>52</th>\n      <td>Sylhet_Sylhet</td>\n      <td>Sylhet</td>\n    </tr>\n    <tr>\n      <th>53</th>\n      <td>Thakurgaon_Rangpur</td>\n      <td>Thakurgaon</td>\n    </tr>\n    <tr>\n      <th>54</th>\n      <td>Tungipara_Dhaka</td>\n      <td>Gopalganj</td>\n    </tr>\n  </tbody>\n</table>\n</div>"
     },
     "execution_count": 49,
     "metadata": {},
     "output_type": "execute_result"
    }
   ],
   "source": [
    "zone_district_map"
   ],
   "metadata": {
    "collapsed": false,
    "ExecuteTime": {
     "start_time": "2024-12-20T15:57:58.501154Z",
     "end_time": "2024-12-20T15:57:58.646516Z"
    }
   }
  },
  {
   "cell_type": "code",
   "execution_count": 50,
   "outputs": [
    {
     "data": {
      "text/plain": "zone\nAzimpur_Dhaka              52.10\nDhaka_Dhaka                52.10\nPaltan_Dhaka               52.10\nTungi_Dhaka                52.10\nBarisal_Barisal            43.20\nBhairab Bazar_Dhaka        46.40\nKishorganj_Dhaka           45.00\nBhola_Barisal              42.30\nBogra_Rajshahi             45.20\nChittagong_Chittagong      36.40\nPatiya_Chittagong          35.60\nSandwip_Chittagong         38.50\nSatkania_Chittagong        35.30\nComilla_Chittagong         45.20\nLaksham_Chittagong         44.80\nDinajpur_Rangpur           42.60\nFaridpur_Dhaka             49.20\nFeni_Chittagong            42.10\nHabiganj_Sylhet            42.00\nIshurdi_Rajshahi           47.80\nPabna_Rajshahi             48.00\nJamalpur_Mymensingh        44.30\nSarishabari_Mymensingh     45.30\nJessore_Khulna             45.90\nJoypur Hat_Rajshahi        44.40\nKhagrachhari_Chittagong    36.50\nKhulna_Khulna              44.20\nKushtia_Khulna             48.00\nLakshmipur_Chittagong      43.00\nRaipur_Chittagong          43.90\nRamganj_Chittagong         44.20\nLalmanirhat_Rangpur        37.80\nMadaripur_Dhaka            46.80\nMaulavi Bazar_Sylhet       37.30\nMymensingh_Mymensingh      44.10\nNagarpur_Dhaka             49.10\nTangail_Dhaka              48.60\nNarail_Khulna              46.30\nNarayanganj_Dhaka          50.30\nNarsingdi_Dhaka            48.50\nNawabganj_Rajshahi         48.00\nNetrakona_Mymensingh       42.40\nPalang_Dhaka               47.00\nPar Naogaon_Rajshahi       45.90\nPirojpur_Barisal           42.60\nRajshahi_Rajshahi          47.70\nRangpur_Rangpur            39.30\nSaidpur_Rajshahi           40.30\nSatkhira_Khulna            43.10\nShahzadpur_Rajshahi        48.20\nSirajganj_Rajshahi         47.15\nSherpur_Mymensingh         43.50\nSylhet_Sylhet              34.90\nThakurgaon_Rangpur         40.05\nTungipara_Dhaka            44.70\nName: average_reading, dtype: float64"
     },
     "execution_count": 50,
     "metadata": {},
     "output_type": "execute_result"
    }
   ],
   "source": [
    "average_reading = series.median()[zone_district_map.zone]\n",
    "average_reading.name = \"average_reading\"\n",
    "average_reading"
   ],
   "metadata": {
    "collapsed": false,
    "ExecuteTime": {
     "start_time": "2024-12-20T15:57:58.501365Z",
     "end_time": "2024-12-20T15:57:58.646841Z"
    }
   }
  },
  {
   "cell_type": "code",
   "execution_count": 51,
   "outputs": [
    {
     "data": {
      "text/plain": "                         National Highways  Regional Highways  Zilla Highways  \\\nzone                                                                            \nAzimpur_Dhaka                       100.44              70.69          105.48   \nDhaka_Dhaka                         100.44              70.69          105.48   \nPaltan_Dhaka                        100.44              70.69          105.48   \nTungi_Dhaka                         100.44              70.69          105.48   \nBarisal_Barisal                      90.78              20.31          242.18   \nBhairab Bazar_Dhaka                   3.27             137.49          286.07   \nKishorganj_Dhaka                      3.27             137.49          286.07   \nBhola_Barisal                        16.47             109.40          155.09   \nBogra_Rajshahi                      126.35              59.51          338.68   \nChittagong_Chittagong             14257.00             137.93          289.98   \nPatiya_Chittagong                 14257.00             137.93          289.98   \nSandwip_Chittagong                14257.00             137.93          289.98   \nSatkania_Chittagong               14257.00             137.93          289.98   \nComilla_Chittagong                  198.81              67.44          604.69   \nLaksham_Chittagong                  198.81              67.44          604.69   \nDinajpur_Rangpur                     96.08             161.11          267.78   \nFaridpur_Dhaka                       90.60               0.00          240.09   \nFeni_Chittagong                      49.24               6.56          239.70   \nHabiganj_Sylhet                     128.02             103.33          107.43   \nIshurdi_Rajshahi                    155.04             168.97          207.01   \nPabna_Rajshahi                      155.04             168.97          207.01   \nJamalpur_Mymensingh                  19.73             165.67          163.04   \nSarishabari_Mymensingh               19.73             165.67          163.04   \nJessore_Khulna                      146.50              54.37          137.69   \nJoypur Hat_Rajshahi                   0.00              39.04          151.95   \nKhagrachhari_Chittagong               0.00             104.73          284.03   \nKhulna_Khulna                        61.04              42.38          309.76   \nKushtia_Khulna                       48.65              73.82          146.36   \nLakshmipur_Chittagong                10.03              56.26          190.21   \nRaipur_Chittagong                    10.03              56.26          190.21   \nRamganj_Chittagong                   10.03              56.26          190.21   \nLalmanirhat_Rangpur                 120.70              16.88           42.54   \nMadaripur_Dhaka                      86.66              50.39           79.69   \nMaulavi Bazar_Sylhet                 89.73              74.22          216.69   \nMymensingh_Mymensingh               101.91              92.77          374.61   \nNagarpur_Dhaka                      132.92              67.26          376.72   \nTangail_Dhaka                       132.92              67.26          376.72   \nNarail_Khulna                        30.98              16.08          141.54   \nNarayanganj_Dhaka                    90.60              88.24           74.57   \nNarsingdi_Dhaka                      62.61             135.41          165.27   \nNawabganj_Rajshahi                   42.19              23.01          165.92   \nNetrakona_Mymensingh                  0.00              52.64          316.19   \nPalang_Dhaka                          0.00              75.94           66.45   \nPar Naogaon_Rajshahi                  0.00             262.44          212.91   \nPirojpur_Barisal                      0.00              25.19          263.18   \nRajshahi_Rajshahi                   100.22              75.94          250.35   \nRangpur_Rangpur                     108.75              62.56          215.60   \nSaidpur_Rajshahi                     17.47              55.59          204.85   \nSatkhira_Khulna                       9.23              51.96          220.47   \nShahzadpur_Rajshahi                  87.16              23.43          331.21   \nSirajganj_Rajshahi                   87.16              23.43          331.21   \nSherpur_Mymensingh                   28.00              63.28          228.56   \nSylhet_Sylhet                       139.14             162.01          253.03   \nThakurgaon_Rangpur                   30.60               6.14          155.70   \nTungipara_Dhaka                      66.88              74.88          158.34   \n\n                         Total Highways  Households Total  Households General  \\\nzone                                                                            \nAzimpur_Dhaka                   276.610         2786133.0           2639630.0   \nDhaka_Dhaka                     276.610         2786133.0           2639630.0   \nPaltan_Dhaka                    276.610         2786133.0           2639630.0   \nTungi_Dhaka                     276.610         2786133.0           2639630.0   \nBarisal_Barisal                 353.270          513673.0            510780.0   \nBhairab Bazar_Dhaka             426.830          627322.0            623914.0   \nKishorganj_Dhaka                426.830          627322.0            623914.0   \nBhola_Barisal                   280.960          372723.0            371799.0   \nBogra_Rajshahi                  524.540          867137.0            863600.0   \nChittagong_Chittagong           570.480         1532014.0           1509717.0   \nPatiya_Chittagong               570.480         1532014.0           1509717.0   \nSandwip_Chittagong              570.480         1532014.0           1509717.0   \nSatkania_Chittagong             570.480         1532014.0           1509717.0   \nComilla_Chittagong              870.940         1053572.0           1048984.0   \nLaksham_Chittagong              870.940         1053572.0           1048984.0   \nDinajpur_Rangpur                524.960          715773.0            713255.0   \nFaridpur_Dhaka                  330.700          420174.0             41855.0   \nFeni_Chittagong                 295.490          277665.0            275461.0   \nHabiganj_Sylhet                 338.780          393302.0            391657.0   \nIshurdi_Rajshahi                531.020          590749.0            588891.0   \nPabna_Rajshahi                  531.020          590749.0            588891.0   \nJamalpur_Mymensingh             348.440          563367.0            562180.0   \nSarishabari_Mymensingh          348.440          563367.0            562180.0   \nJessore_Khulna                  338.560         6564113.0            653423.0   \nJoypur Hat_Rajshahi             190.980          242556.0            241994.0   \nKhagrachhari_Chittagong         388.760          133792.0            132503.0   \nKhulna_Khulna                   413.180         5473347.0            540504.0   \nKushtia_Khulna                  268.820          477289.0            475989.0   \nLakshmipur_Chittagong           256.510          365339.0            364255.0   \nRaipur_Chittagong               256.510          365339.0            364255.0   \nRamganj_Chittagong              256.510          365339.0            364255.0   \nLalmanirhat_Rangpur             180.110          290444.0            289953.0   \nMadaripur_Dhaka                 216.740          252149.0            251581.0   \nMaulavi Bazar_Sylhet            380.640          361177.0           3597715.0   \nMymensingh_Mymensingh           569.280         1155436.0           1150574.0   \nNagarpur_Dhaka                  576.900          870102.0            866578.0   \nTangail_Dhaka                   576.900          870102.0            866578.0   \nNarail_Khulna                   188.600          162607.0            162299.0   \nNarayanganj_Dhaka               253.410          675652.0            663088.0   \nNarsingdi_Dhaka                 363.300          477976.0            473937.0   \nNawabganj_Rajshahi              231.120          357982.0            357246.0   \nNetrakona_Mymensingh            368.830          479146.0            477927.0   \nPalang_Dhaka                    142.390          247880.0            246535.0   \nPar Naogaon_Rajshahi            475.340          655801.0            654275.0   \nPirojpur_Barisal                288.370          256002.0            255059.0   \nRajshahi_Rajshahi               426.510          633758.0            630331.0   \nRangpur_Rangpur                 386.912          720180.0            717362.0   \nSaidpur_Rajshahi                277.910          421572.0            420906.0   \nSatkhira_Khulna                 281.650          469890.0            468853.0   \nShahzadpur_Rajshahi             441.800          714971.0            713064.0   \nSirajganj_Rajshahi              441.800          714971.0            713064.0   \nSherpur_Mymensingh              319.840          341443.0            340769.0   \nSylhet_Sylhet                   554.180          596081.0            589425.0   \nThakurgaon_Rangpur              192.440          320786.0            319929.0   \nTungipara_Dhaka                 300.100          249872.0            248735.0   \n\n                         Households Institutional  Households Others  \\\nzone                                                                   \nAzimpur_Dhaka                              5578.0           140925.0   \nDhaka_Dhaka                                5578.0           140925.0   \nPaltan_Dhaka                               5578.0           140925.0   \nTungi_Dhaka                                5578.0           140925.0   \nBarisal_Barisal                             425.0             2468.0   \nBhairab Bazar_Dhaka                         223.0             3185.0   \nKishorganj_Dhaka                            223.0             3185.0   \nBhola_Barisal                               132.0              792.0   \nBogra_Rajshahi                              505.0             3032.0   \nChittagong_Chittagong                      3141.0            19156.0   \nPatiya_Chittagong                          3141.0            19156.0   \nSandwip_Chittagong                         3141.0            19156.0   \nSatkania_Chittagong                        3141.0            19156.0   \nComilla_Chittagong                         1120.0             3468.0   \nLaksham_Chittagong                         1120.0             3468.0   \nDinajpur_Rangpur                            429.0             2089.0   \nFaridpur_Dhaka                              372.0             1248.0   \nFeni_Chittagong                             419.0             1785.0   \nHabiganj_Sylhet                             164.0             1481.0   \nIshurdi_Rajshahi                            238.0             1620.0   \nPabna_Rajshahi                              238.0             1620.0   \nJamalpur_Mymensingh                         166.0             1021.0   \nSarishabari_Mymensingh                      166.0             1021.0   \nJessore_Khulna                              469.0             2521.0   \nJoypur Hat_Rajshahi                         115.0              447.0   \nKhagrachhari_Chittagong                     243.0             1046.0   \nKhulna_Khulna                               612.0             6231.0   \nKushtia_Khulna                              187.0             1113.0   \nLakshmipur_Chittagong                       225.0              859.0   \nRaipur_Chittagong                           225.0              859.0   \nRamganj_Chittagong                          225.0              859.0   \nLalmanirhat_Rangpur                         139.0              352.0   \nMadaripur_Dhaka                             145.0              423.0   \nMaulavi Bazar_Sylhet                        158.0             1304.0   \nMymensingh_Mymensingh                       611.0             4251.0   \nNagarpur_Dhaka                              564.0             2960.0   \nTangail_Dhaka                               564.0             2960.0   \nNarail_Khulna                                74.0              234.0   \nNarayanganj_Dhaka                           619.0            11945.0   \nNarsingdi_Dhaka                             393.0             3646.0   \nNawabganj_Rajshahi                          126.0              610.0   \nNetrakona_Mymensingh                        197.0             1022.0   \nPalang_Dhaka                                 95.0             1250.0   \nPar Naogaon_Rajshahi                        250.0             1276.0   \nPirojpur_Barisal                            163.0              780.0   \nRajshahi_Rajshahi                           520.0             2907.0   \nRangpur_Rangpur                             389.0             2429.0   \nSaidpur_Rajshahi                            217.0              449.0   \nSatkhira_Khulna                             172.0              865.0   \nShahzadpur_Rajshahi                         290.0             1617.0   \nSirajganj_Rajshahi                          290.0             1617.0   \nSherpur_Mymensingh                          121.0              553.0   \nSylhet_Sylhet                               644.0             6012.0   \nThakurgaon_Rangpur                          150.0              707.0   \nTungipara_Dhaka                             225.0              912.0   \n\n                         Population       Male      Female  Ratio_M_F  \\\nzone                                                                    \nAzimpur_Dhaka            12043977.0  6555792.0   5488185.0      119.5   \nDhaka_Dhaka              12043977.0  6555792.0   5488185.0      119.5   \nPaltan_Dhaka             12043977.0  6555792.0   5488185.0      119.5   \nTungi_Dhaka              12043977.0  6555792.0   5488185.0      119.5   \nBarisal_Barisal           2324310.0  1137210.0   1187100.0       95.8   \nBhairab Bazar_Dhaka       2911907.0  1432242.0   1479665.0       96.8   \nKishorganj_Dhaka          2911907.0  1432242.0   1479665.0       96.8   \nBhola_Barisal             1776795.0   884069.0    892726.0       99.0   \nBogra_Rajshahi            3400874.0  1708806.0   1692068.0      101.0   \nChittagong_Chittagong     7616352.0  3838854.0  37774998.0      101.6   \nPatiya_Chittagong         7616352.0  3838854.0  37774998.0      101.6   \nSandwip_Chittagong        7616352.0  3838854.0  37774998.0      101.6   \nSatkania_Chittagong       7616352.0  3838854.0  37774998.0      101.6   \nComilla_Chittagong        5387288.0  2575018.0   2812270.0       91.6   \nLaksham_Chittagong        5387288.0  2575018.0   2812270.0       91.6   \nDinajpur_Rangpur          2990128.0  1508670.0   1481458.0      101.8   \nFaridpur_Dhaka            1912969.0   942245.0    970724.0       97.1   \nFeni_Chittagong           1437371.0   694128.0    743243.0       93.4   \nHabiganj_Sylhet           2089001.0  1025591.0   1063410.0       96.4   \nIshurdi_Rajshahi          2523179.0  1262934.0   1260245.0      100.2   \nPabna_Rajshahi            2523179.0  1262934.0   1260245.0      100.2   \nJamalpur_Mymensingh       2292674.0  1128724.0   1163950.0       97.0   \nSarishabari_Mymensingh    2292674.0  1128724.0   1163950.0       97.0   \nJessore_Khulna            2764547.0  1386293.0   1378254.0      100.6   \nJoypur Hat_Rajshahi        913768.0   459284.0    454484.0      101.1   \nKhagrachhari_Chittagong    613917.0   313793.0    300124.0      104.6   \nKhulna_Khulna             2318527.0  1175686.0   1142841.0      102.9   \nKushtia_Khulna            1946838.0   973518.0    973320.0      100.0   \nLakshmipur_Chittagong     1729188.0   827780.0    901408.0       91.8   \nRaipur_Chittagong         1729188.0   827780.0    901408.0       91.8   \nRamganj_Chittagong        1729188.0   827780.0    901408.0       91.8   \nLalmanirhat_Rangpur       1256099.0   628799.0    627300.0      100.2   \nMadaripur_Dhaka           1165952.0   574582.0    591370.0       97.2   \nMaulavi Bazar_Sylhet      1919062.0   944728.0    974334.0       97.0   \nMymensingh_Mymensingh     5110272.0  2539124.0   2571148.0       98.8   \nNagarpur_Dhaka            3605083.0  1757370.0   1847713.0       95.1   \nTangail_Dhaka             3605083.0  1757370.0   1847713.0       95.1   \nNarail_Khulna              721668.0   353527.0    368141.0       96.0   \nNarayanganj_Dhaka         2948217.0  1521438.0   1426779.0      106.6   \nNarsingdi_Dhaka           2224944.0  1102943.0   1122001.0       98.3   \nNawabganj_Rajshahi        1647521.0   810218.0    837303.0       96.8   \nNetrakona_Mymensingh      2229642.0  1111306.0   1118336.0       99.4   \nPalang_Dhaka              1155824.0   559075.0    596749.0       93.7   \nPar Naogaon_Rajshahi      2600157.0  1300227.0   1299930.0      100.0   \nPirojpur_Barisal          1113257.0   548228.0    565029.0       97.0   \nRajshahi_Rajshahi         2595197.0  1309890.0   1285307.0      101.9   \nRangpur_Rangpur           2881086.0  1443816.0   1437270.0      100.5   \nSaidpur_Rajshahi          1834231.0   922964.0    911267.0      101.3   \nSatkhira_Khulna           1985959.0   982777.0   1003182.0       98.0   \nShahzadpur_Rajshahi       3097489.0  1551368.0   1546121.0      100.3   \nSirajganj_Rajshahi        3097489.0  1551368.0   1546121.0      100.3   \nSherpur_Mymensingh       13583225.0   676388.0    681937.0       99.2   \nSylhet_Sylhet             3434188.0  1726965.0   1707223.0      101.2   \nThakurgaon_Rangpur        1390042.0   701281.0    688761.0      101.8   \nTungipara_Dhaka           1172415.0   577868.0    594547.0       97.2   \n\n                         Literacy Rate  Per Capita Income  \nzone                                                       \nAzimpur_Dhaka                    70.54            9454.79  \nDhaka_Dhaka                      70.54            3629.19  \nPaltan_Dhaka                     70.54            4181.99  \nTungi_Dhaka                      70.54            3481.26  \nBarisal_Barisal                  61.24            4268.47  \nBhairab Bazar_Dhaka              40.87            6805.27  \nKishorganj_Dhaka                 40.87            2503.52  \nBhola_Barisal                    43.24            9454.79  \nBogra_Rajshahi                   49.38            3638.29  \nChittagong_Chittagong            58.91            3645.76  \nPatiya_Chittagong                58.91            3021.04  \nSandwip_Chittagong               58.91            3628.23  \nSatkania_Chittagong              58.91            3130.78  \nComilla_Chittagong               53.32            2837.73  \nLaksham_Chittagong               53.32            4017.09  \nDinajpur_Rangpur                 52.42            3157.21  \nFaridpur_Dhaka                   48.96            2519.80  \nFeni_Chittagong                  59.63            9448.90  \nHabiganj_Sylhet                  40.53            4181.99  \nIshurdi_Rajshahi                 46.72            4613.85  \nPabna_Rajshahi                   46.72            2503.52  \nJamalpur_Mymensingh              38.44            2870.03  \nSarishabari_Mymensingh           38.44            3127.29  \nJessore_Khulna                   56.52            3457.38  \nJoypur Hat_Rajshahi              57.48            2386.83  \nKhagrachhari_Chittagong          46.11            6077.80  \nKhulna_Khulna                    60.14            3426.10  \nKushtia_Khulna                   46.33            3242.35  \nLakshmipur_Chittagong            49.40            8151.97  \nRaipur_Chittagong                49.40            3587.89  \nRamganj_Chittagong               49.40            2795.04  \nLalmanirhat_Rangpur              46.09            3380.27  \nMadaripur_Dhaka                  47.97            3130.78  \nMaulavi Bazar_Sylhet             51.10            3396.53  \nMymensingh_Mymensingh            43.49            9454.79  \nNagarpur_Dhaka                   46.79            4957.67  \nTangail_Dhaka                    46.79            6805.27  \nNarail_Khulna                    61.27            8368.79  \nNarayanganj_Dhaka                57.10            2870.03  \nNarsingdi_Dhaka                  49.60            5592.60  \nNawabganj_Rajshahi               42.94            2870.03  \nNetrakona_Mymensingh             39.44            3801.43  \nPalang_Dhaka                     47.26            2305.09  \nPar Naogaon_Rajshahi             48.22            6805.27  \nPirojpur_Barisal                 64.85            2837.73  \nRajshahi_Rajshahi                52.98            6805.27  \nRangpur_Rangpur                  48.55            4952.99  \nSaidpur_Rajshahi                 44.37            3301.49  \nSatkhira_Khulna                  52.07            3376.34  \nShahzadpur_Rajshahi              42.05            3301.49  \nSirajganj_Rajshahi               42.05            3053.98  \nSherpur_Mymensingh               37.91            3426.10  \nSylhet_Sylhet                    51.18            3704.21  \nThakurgaon_Rangpur               48.71            9454.79  \nTungipara_Dhaka                  58.09            4365.46  ",
      "text/html": "<div>\n<style scoped>\n    .dataframe tbody tr th:only-of-type {\n        vertical-align: middle;\n    }\n\n    .dataframe tbody tr th {\n        vertical-align: top;\n    }\n\n    .dataframe thead th {\n        text-align: right;\n    }\n</style>\n<table border=\"1\" class=\"dataframe\">\n  <thead>\n    <tr style=\"text-align: right;\">\n      <th></th>\n      <th>National Highways</th>\n      <th>Regional Highways</th>\n      <th>Zilla Highways</th>\n      <th>Total Highways</th>\n      <th>Households Total</th>\n      <th>Households General</th>\n      <th>Households Institutional</th>\n      <th>Households Others</th>\n      <th>Population</th>\n      <th>Male</th>\n      <th>Female</th>\n      <th>Ratio_M_F</th>\n      <th>Literacy Rate</th>\n      <th>Per Capita Income</th>\n    </tr>\n    <tr>\n      <th>zone</th>\n      <th></th>\n      <th></th>\n      <th></th>\n      <th></th>\n      <th></th>\n      <th></th>\n      <th></th>\n      <th></th>\n      <th></th>\n      <th></th>\n      <th></th>\n      <th></th>\n      <th></th>\n      <th></th>\n    </tr>\n  </thead>\n  <tbody>\n    <tr>\n      <th>Azimpur_Dhaka</th>\n      <td>100.44</td>\n      <td>70.69</td>\n      <td>105.48</td>\n      <td>276.610</td>\n      <td>2786133.0</td>\n      <td>2639630.0</td>\n      <td>5578.0</td>\n      <td>140925.0</td>\n      <td>12043977.0</td>\n      <td>6555792.0</td>\n      <td>5488185.0</td>\n      <td>119.5</td>\n      <td>70.54</td>\n      <td>9454.79</td>\n    </tr>\n    <tr>\n      <th>Dhaka_Dhaka</th>\n      <td>100.44</td>\n      <td>70.69</td>\n      <td>105.48</td>\n      <td>276.610</td>\n      <td>2786133.0</td>\n      <td>2639630.0</td>\n      <td>5578.0</td>\n      <td>140925.0</td>\n      <td>12043977.0</td>\n      <td>6555792.0</td>\n      <td>5488185.0</td>\n      <td>119.5</td>\n      <td>70.54</td>\n      <td>3629.19</td>\n    </tr>\n    <tr>\n      <th>Paltan_Dhaka</th>\n      <td>100.44</td>\n      <td>70.69</td>\n      <td>105.48</td>\n      <td>276.610</td>\n      <td>2786133.0</td>\n      <td>2639630.0</td>\n      <td>5578.0</td>\n      <td>140925.0</td>\n      <td>12043977.0</td>\n      <td>6555792.0</td>\n      <td>5488185.0</td>\n      <td>119.5</td>\n      <td>70.54</td>\n      <td>4181.99</td>\n    </tr>\n    <tr>\n      <th>Tungi_Dhaka</th>\n      <td>100.44</td>\n      <td>70.69</td>\n      <td>105.48</td>\n      <td>276.610</td>\n      <td>2786133.0</td>\n      <td>2639630.0</td>\n      <td>5578.0</td>\n      <td>140925.0</td>\n      <td>12043977.0</td>\n      <td>6555792.0</td>\n      <td>5488185.0</td>\n      <td>119.5</td>\n      <td>70.54</td>\n      <td>3481.26</td>\n    </tr>\n    <tr>\n      <th>Barisal_Barisal</th>\n      <td>90.78</td>\n      <td>20.31</td>\n      <td>242.18</td>\n      <td>353.270</td>\n      <td>513673.0</td>\n      <td>510780.0</td>\n      <td>425.0</td>\n      <td>2468.0</td>\n      <td>2324310.0</td>\n      <td>1137210.0</td>\n      <td>1187100.0</td>\n      <td>95.8</td>\n      <td>61.24</td>\n      <td>4268.47</td>\n    </tr>\n    <tr>\n      <th>Bhairab Bazar_Dhaka</th>\n      <td>3.27</td>\n      <td>137.49</td>\n      <td>286.07</td>\n      <td>426.830</td>\n      <td>627322.0</td>\n      <td>623914.0</td>\n      <td>223.0</td>\n      <td>3185.0</td>\n      <td>2911907.0</td>\n      <td>1432242.0</td>\n      <td>1479665.0</td>\n      <td>96.8</td>\n      <td>40.87</td>\n      <td>6805.27</td>\n    </tr>\n    <tr>\n      <th>Kishorganj_Dhaka</th>\n      <td>3.27</td>\n      <td>137.49</td>\n      <td>286.07</td>\n      <td>426.830</td>\n      <td>627322.0</td>\n      <td>623914.0</td>\n      <td>223.0</td>\n      <td>3185.0</td>\n      <td>2911907.0</td>\n      <td>1432242.0</td>\n      <td>1479665.0</td>\n      <td>96.8</td>\n      <td>40.87</td>\n      <td>2503.52</td>\n    </tr>\n    <tr>\n      <th>Bhola_Barisal</th>\n      <td>16.47</td>\n      <td>109.40</td>\n      <td>155.09</td>\n      <td>280.960</td>\n      <td>372723.0</td>\n      <td>371799.0</td>\n      <td>132.0</td>\n      <td>792.0</td>\n      <td>1776795.0</td>\n      <td>884069.0</td>\n      <td>892726.0</td>\n      <td>99.0</td>\n      <td>43.24</td>\n      <td>9454.79</td>\n    </tr>\n    <tr>\n      <th>Bogra_Rajshahi</th>\n      <td>126.35</td>\n      <td>59.51</td>\n      <td>338.68</td>\n      <td>524.540</td>\n      <td>867137.0</td>\n      <td>863600.0</td>\n      <td>505.0</td>\n      <td>3032.0</td>\n      <td>3400874.0</td>\n      <td>1708806.0</td>\n      <td>1692068.0</td>\n      <td>101.0</td>\n      <td>49.38</td>\n      <td>3638.29</td>\n    </tr>\n    <tr>\n      <th>Chittagong_Chittagong</th>\n      <td>14257.00</td>\n      <td>137.93</td>\n      <td>289.98</td>\n      <td>570.480</td>\n      <td>1532014.0</td>\n      <td>1509717.0</td>\n      <td>3141.0</td>\n      <td>19156.0</td>\n      <td>7616352.0</td>\n      <td>3838854.0</td>\n      <td>37774998.0</td>\n      <td>101.6</td>\n      <td>58.91</td>\n      <td>3645.76</td>\n    </tr>\n    <tr>\n      <th>Patiya_Chittagong</th>\n      <td>14257.00</td>\n      <td>137.93</td>\n      <td>289.98</td>\n      <td>570.480</td>\n      <td>1532014.0</td>\n      <td>1509717.0</td>\n      <td>3141.0</td>\n      <td>19156.0</td>\n      <td>7616352.0</td>\n      <td>3838854.0</td>\n      <td>37774998.0</td>\n      <td>101.6</td>\n      <td>58.91</td>\n      <td>3021.04</td>\n    </tr>\n    <tr>\n      <th>Sandwip_Chittagong</th>\n      <td>14257.00</td>\n      <td>137.93</td>\n      <td>289.98</td>\n      <td>570.480</td>\n      <td>1532014.0</td>\n      <td>1509717.0</td>\n      <td>3141.0</td>\n      <td>19156.0</td>\n      <td>7616352.0</td>\n      <td>3838854.0</td>\n      <td>37774998.0</td>\n      <td>101.6</td>\n      <td>58.91</td>\n      <td>3628.23</td>\n    </tr>\n    <tr>\n      <th>Satkania_Chittagong</th>\n      <td>14257.00</td>\n      <td>137.93</td>\n      <td>289.98</td>\n      <td>570.480</td>\n      <td>1532014.0</td>\n      <td>1509717.0</td>\n      <td>3141.0</td>\n      <td>19156.0</td>\n      <td>7616352.0</td>\n      <td>3838854.0</td>\n      <td>37774998.0</td>\n      <td>101.6</td>\n      <td>58.91</td>\n      <td>3130.78</td>\n    </tr>\n    <tr>\n      <th>Comilla_Chittagong</th>\n      <td>198.81</td>\n      <td>67.44</td>\n      <td>604.69</td>\n      <td>870.940</td>\n      <td>1053572.0</td>\n      <td>1048984.0</td>\n      <td>1120.0</td>\n      <td>3468.0</td>\n      <td>5387288.0</td>\n      <td>2575018.0</td>\n      <td>2812270.0</td>\n      <td>91.6</td>\n      <td>53.32</td>\n      <td>2837.73</td>\n    </tr>\n    <tr>\n      <th>Laksham_Chittagong</th>\n      <td>198.81</td>\n      <td>67.44</td>\n      <td>604.69</td>\n      <td>870.940</td>\n      <td>1053572.0</td>\n      <td>1048984.0</td>\n      <td>1120.0</td>\n      <td>3468.0</td>\n      <td>5387288.0</td>\n      <td>2575018.0</td>\n      <td>2812270.0</td>\n      <td>91.6</td>\n      <td>53.32</td>\n      <td>4017.09</td>\n    </tr>\n    <tr>\n      <th>Dinajpur_Rangpur</th>\n      <td>96.08</td>\n      <td>161.11</td>\n      <td>267.78</td>\n      <td>524.960</td>\n      <td>715773.0</td>\n      <td>713255.0</td>\n      <td>429.0</td>\n      <td>2089.0</td>\n      <td>2990128.0</td>\n      <td>1508670.0</td>\n      <td>1481458.0</td>\n      <td>101.8</td>\n      <td>52.42</td>\n      <td>3157.21</td>\n    </tr>\n    <tr>\n      <th>Faridpur_Dhaka</th>\n      <td>90.60</td>\n      <td>0.00</td>\n      <td>240.09</td>\n      <td>330.700</td>\n      <td>420174.0</td>\n      <td>41855.0</td>\n      <td>372.0</td>\n      <td>1248.0</td>\n      <td>1912969.0</td>\n      <td>942245.0</td>\n      <td>970724.0</td>\n      <td>97.1</td>\n      <td>48.96</td>\n      <td>2519.80</td>\n    </tr>\n    <tr>\n      <th>Feni_Chittagong</th>\n      <td>49.24</td>\n      <td>6.56</td>\n      <td>239.70</td>\n      <td>295.490</td>\n      <td>277665.0</td>\n      <td>275461.0</td>\n      <td>419.0</td>\n      <td>1785.0</td>\n      <td>1437371.0</td>\n      <td>694128.0</td>\n      <td>743243.0</td>\n      <td>93.4</td>\n      <td>59.63</td>\n      <td>9448.90</td>\n    </tr>\n    <tr>\n      <th>Habiganj_Sylhet</th>\n      <td>128.02</td>\n      <td>103.33</td>\n      <td>107.43</td>\n      <td>338.780</td>\n      <td>393302.0</td>\n      <td>391657.0</td>\n      <td>164.0</td>\n      <td>1481.0</td>\n      <td>2089001.0</td>\n      <td>1025591.0</td>\n      <td>1063410.0</td>\n      <td>96.4</td>\n      <td>40.53</td>\n      <td>4181.99</td>\n    </tr>\n    <tr>\n      <th>Ishurdi_Rajshahi</th>\n      <td>155.04</td>\n      <td>168.97</td>\n      <td>207.01</td>\n      <td>531.020</td>\n      <td>590749.0</td>\n      <td>588891.0</td>\n      <td>238.0</td>\n      <td>1620.0</td>\n      <td>2523179.0</td>\n      <td>1262934.0</td>\n      <td>1260245.0</td>\n      <td>100.2</td>\n      <td>46.72</td>\n      <td>4613.85</td>\n    </tr>\n    <tr>\n      <th>Pabna_Rajshahi</th>\n      <td>155.04</td>\n      <td>168.97</td>\n      <td>207.01</td>\n      <td>531.020</td>\n      <td>590749.0</td>\n      <td>588891.0</td>\n      <td>238.0</td>\n      <td>1620.0</td>\n      <td>2523179.0</td>\n      <td>1262934.0</td>\n      <td>1260245.0</td>\n      <td>100.2</td>\n      <td>46.72</td>\n      <td>2503.52</td>\n    </tr>\n    <tr>\n      <th>Jamalpur_Mymensingh</th>\n      <td>19.73</td>\n      <td>165.67</td>\n      <td>163.04</td>\n      <td>348.440</td>\n      <td>563367.0</td>\n      <td>562180.0</td>\n      <td>166.0</td>\n      <td>1021.0</td>\n      <td>2292674.0</td>\n      <td>1128724.0</td>\n      <td>1163950.0</td>\n      <td>97.0</td>\n      <td>38.44</td>\n      <td>2870.03</td>\n    </tr>\n    <tr>\n      <th>Sarishabari_Mymensingh</th>\n      <td>19.73</td>\n      <td>165.67</td>\n      <td>163.04</td>\n      <td>348.440</td>\n      <td>563367.0</td>\n      <td>562180.0</td>\n      <td>166.0</td>\n      <td>1021.0</td>\n      <td>2292674.0</td>\n      <td>1128724.0</td>\n      <td>1163950.0</td>\n      <td>97.0</td>\n      <td>38.44</td>\n      <td>3127.29</td>\n    </tr>\n    <tr>\n      <th>Jessore_Khulna</th>\n      <td>146.50</td>\n      <td>54.37</td>\n      <td>137.69</td>\n      <td>338.560</td>\n      <td>6564113.0</td>\n      <td>653423.0</td>\n      <td>469.0</td>\n      <td>2521.0</td>\n      <td>2764547.0</td>\n      <td>1386293.0</td>\n      <td>1378254.0</td>\n      <td>100.6</td>\n      <td>56.52</td>\n      <td>3457.38</td>\n    </tr>\n    <tr>\n      <th>Joypur Hat_Rajshahi</th>\n      <td>0.00</td>\n      <td>39.04</td>\n      <td>151.95</td>\n      <td>190.980</td>\n      <td>242556.0</td>\n      <td>241994.0</td>\n      <td>115.0</td>\n      <td>447.0</td>\n      <td>913768.0</td>\n      <td>459284.0</td>\n      <td>454484.0</td>\n      <td>101.1</td>\n      <td>57.48</td>\n      <td>2386.83</td>\n    </tr>\n    <tr>\n      <th>Khagrachhari_Chittagong</th>\n      <td>0.00</td>\n      <td>104.73</td>\n      <td>284.03</td>\n      <td>388.760</td>\n      <td>133792.0</td>\n      <td>132503.0</td>\n      <td>243.0</td>\n      <td>1046.0</td>\n      <td>613917.0</td>\n      <td>313793.0</td>\n      <td>300124.0</td>\n      <td>104.6</td>\n      <td>46.11</td>\n      <td>6077.80</td>\n    </tr>\n    <tr>\n      <th>Khulna_Khulna</th>\n      <td>61.04</td>\n      <td>42.38</td>\n      <td>309.76</td>\n      <td>413.180</td>\n      <td>5473347.0</td>\n      <td>540504.0</td>\n      <td>612.0</td>\n      <td>6231.0</td>\n      <td>2318527.0</td>\n      <td>1175686.0</td>\n      <td>1142841.0</td>\n      <td>102.9</td>\n      <td>60.14</td>\n      <td>3426.10</td>\n    </tr>\n    <tr>\n      <th>Kushtia_Khulna</th>\n      <td>48.65</td>\n      <td>73.82</td>\n      <td>146.36</td>\n      <td>268.820</td>\n      <td>477289.0</td>\n      <td>475989.0</td>\n      <td>187.0</td>\n      <td>1113.0</td>\n      <td>1946838.0</td>\n      <td>973518.0</td>\n      <td>973320.0</td>\n      <td>100.0</td>\n      <td>46.33</td>\n      <td>3242.35</td>\n    </tr>\n    <tr>\n      <th>Lakshmipur_Chittagong</th>\n      <td>10.03</td>\n      <td>56.26</td>\n      <td>190.21</td>\n      <td>256.510</td>\n      <td>365339.0</td>\n      <td>364255.0</td>\n      <td>225.0</td>\n      <td>859.0</td>\n      <td>1729188.0</td>\n      <td>827780.0</td>\n      <td>901408.0</td>\n      <td>91.8</td>\n      <td>49.40</td>\n      <td>8151.97</td>\n    </tr>\n    <tr>\n      <th>Raipur_Chittagong</th>\n      <td>10.03</td>\n      <td>56.26</td>\n      <td>190.21</td>\n      <td>256.510</td>\n      <td>365339.0</td>\n      <td>364255.0</td>\n      <td>225.0</td>\n      <td>859.0</td>\n      <td>1729188.0</td>\n      <td>827780.0</td>\n      <td>901408.0</td>\n      <td>91.8</td>\n      <td>49.40</td>\n      <td>3587.89</td>\n    </tr>\n    <tr>\n      <th>Ramganj_Chittagong</th>\n      <td>10.03</td>\n      <td>56.26</td>\n      <td>190.21</td>\n      <td>256.510</td>\n      <td>365339.0</td>\n      <td>364255.0</td>\n      <td>225.0</td>\n      <td>859.0</td>\n      <td>1729188.0</td>\n      <td>827780.0</td>\n      <td>901408.0</td>\n      <td>91.8</td>\n      <td>49.40</td>\n      <td>2795.04</td>\n    </tr>\n    <tr>\n      <th>Lalmanirhat_Rangpur</th>\n      <td>120.70</td>\n      <td>16.88</td>\n      <td>42.54</td>\n      <td>180.110</td>\n      <td>290444.0</td>\n      <td>289953.0</td>\n      <td>139.0</td>\n      <td>352.0</td>\n      <td>1256099.0</td>\n      <td>628799.0</td>\n      <td>627300.0</td>\n      <td>100.2</td>\n      <td>46.09</td>\n      <td>3380.27</td>\n    </tr>\n    <tr>\n      <th>Madaripur_Dhaka</th>\n      <td>86.66</td>\n      <td>50.39</td>\n      <td>79.69</td>\n      <td>216.740</td>\n      <td>252149.0</td>\n      <td>251581.0</td>\n      <td>145.0</td>\n      <td>423.0</td>\n      <td>1165952.0</td>\n      <td>574582.0</td>\n      <td>591370.0</td>\n      <td>97.2</td>\n      <td>47.97</td>\n      <td>3130.78</td>\n    </tr>\n    <tr>\n      <th>Maulavi Bazar_Sylhet</th>\n      <td>89.73</td>\n      <td>74.22</td>\n      <td>216.69</td>\n      <td>380.640</td>\n      <td>361177.0</td>\n      <td>3597715.0</td>\n      <td>158.0</td>\n      <td>1304.0</td>\n      <td>1919062.0</td>\n      <td>944728.0</td>\n      <td>974334.0</td>\n      <td>97.0</td>\n      <td>51.10</td>\n      <td>3396.53</td>\n    </tr>\n    <tr>\n      <th>Mymensingh_Mymensingh</th>\n      <td>101.91</td>\n      <td>92.77</td>\n      <td>374.61</td>\n      <td>569.280</td>\n      <td>1155436.0</td>\n      <td>1150574.0</td>\n      <td>611.0</td>\n      <td>4251.0</td>\n      <td>5110272.0</td>\n      <td>2539124.0</td>\n      <td>2571148.0</td>\n      <td>98.8</td>\n      <td>43.49</td>\n      <td>9454.79</td>\n    </tr>\n    <tr>\n      <th>Nagarpur_Dhaka</th>\n      <td>132.92</td>\n      <td>67.26</td>\n      <td>376.72</td>\n      <td>576.900</td>\n      <td>870102.0</td>\n      <td>866578.0</td>\n      <td>564.0</td>\n      <td>2960.0</td>\n      <td>3605083.0</td>\n      <td>1757370.0</td>\n      <td>1847713.0</td>\n      <td>95.1</td>\n      <td>46.79</td>\n      <td>4957.67</td>\n    </tr>\n    <tr>\n      <th>Tangail_Dhaka</th>\n      <td>132.92</td>\n      <td>67.26</td>\n      <td>376.72</td>\n      <td>576.900</td>\n      <td>870102.0</td>\n      <td>866578.0</td>\n      <td>564.0</td>\n      <td>2960.0</td>\n      <td>3605083.0</td>\n      <td>1757370.0</td>\n      <td>1847713.0</td>\n      <td>95.1</td>\n      <td>46.79</td>\n      <td>6805.27</td>\n    </tr>\n    <tr>\n      <th>Narail_Khulna</th>\n      <td>30.98</td>\n      <td>16.08</td>\n      <td>141.54</td>\n      <td>188.600</td>\n      <td>162607.0</td>\n      <td>162299.0</td>\n      <td>74.0</td>\n      <td>234.0</td>\n      <td>721668.0</td>\n      <td>353527.0</td>\n      <td>368141.0</td>\n      <td>96.0</td>\n      <td>61.27</td>\n      <td>8368.79</td>\n    </tr>\n    <tr>\n      <th>Narayanganj_Dhaka</th>\n      <td>90.60</td>\n      <td>88.24</td>\n      <td>74.57</td>\n      <td>253.410</td>\n      <td>675652.0</td>\n      <td>663088.0</td>\n      <td>619.0</td>\n      <td>11945.0</td>\n      <td>2948217.0</td>\n      <td>1521438.0</td>\n      <td>1426779.0</td>\n      <td>106.6</td>\n      <td>57.10</td>\n      <td>2870.03</td>\n    </tr>\n    <tr>\n      <th>Narsingdi_Dhaka</th>\n      <td>62.61</td>\n      <td>135.41</td>\n      <td>165.27</td>\n      <td>363.300</td>\n      <td>477976.0</td>\n      <td>473937.0</td>\n      <td>393.0</td>\n      <td>3646.0</td>\n      <td>2224944.0</td>\n      <td>1102943.0</td>\n      <td>1122001.0</td>\n      <td>98.3</td>\n      <td>49.60</td>\n      <td>5592.60</td>\n    </tr>\n    <tr>\n      <th>Nawabganj_Rajshahi</th>\n      <td>42.19</td>\n      <td>23.01</td>\n      <td>165.92</td>\n      <td>231.120</td>\n      <td>357982.0</td>\n      <td>357246.0</td>\n      <td>126.0</td>\n      <td>610.0</td>\n      <td>1647521.0</td>\n      <td>810218.0</td>\n      <td>837303.0</td>\n      <td>96.8</td>\n      <td>42.94</td>\n      <td>2870.03</td>\n    </tr>\n    <tr>\n      <th>Netrakona_Mymensingh</th>\n      <td>0.00</td>\n      <td>52.64</td>\n      <td>316.19</td>\n      <td>368.830</td>\n      <td>479146.0</td>\n      <td>477927.0</td>\n      <td>197.0</td>\n      <td>1022.0</td>\n      <td>2229642.0</td>\n      <td>1111306.0</td>\n      <td>1118336.0</td>\n      <td>99.4</td>\n      <td>39.44</td>\n      <td>3801.43</td>\n    </tr>\n    <tr>\n      <th>Palang_Dhaka</th>\n      <td>0.00</td>\n      <td>75.94</td>\n      <td>66.45</td>\n      <td>142.390</td>\n      <td>247880.0</td>\n      <td>246535.0</td>\n      <td>95.0</td>\n      <td>1250.0</td>\n      <td>1155824.0</td>\n      <td>559075.0</td>\n      <td>596749.0</td>\n      <td>93.7</td>\n      <td>47.26</td>\n      <td>2305.09</td>\n    </tr>\n    <tr>\n      <th>Par Naogaon_Rajshahi</th>\n      <td>0.00</td>\n      <td>262.44</td>\n      <td>212.91</td>\n      <td>475.340</td>\n      <td>655801.0</td>\n      <td>654275.0</td>\n      <td>250.0</td>\n      <td>1276.0</td>\n      <td>2600157.0</td>\n      <td>1300227.0</td>\n      <td>1299930.0</td>\n      <td>100.0</td>\n      <td>48.22</td>\n      <td>6805.27</td>\n    </tr>\n    <tr>\n      <th>Pirojpur_Barisal</th>\n      <td>0.00</td>\n      <td>25.19</td>\n      <td>263.18</td>\n      <td>288.370</td>\n      <td>256002.0</td>\n      <td>255059.0</td>\n      <td>163.0</td>\n      <td>780.0</td>\n      <td>1113257.0</td>\n      <td>548228.0</td>\n      <td>565029.0</td>\n      <td>97.0</td>\n      <td>64.85</td>\n      <td>2837.73</td>\n    </tr>\n    <tr>\n      <th>Rajshahi_Rajshahi</th>\n      <td>100.22</td>\n      <td>75.94</td>\n      <td>250.35</td>\n      <td>426.510</td>\n      <td>633758.0</td>\n      <td>630331.0</td>\n      <td>520.0</td>\n      <td>2907.0</td>\n      <td>2595197.0</td>\n      <td>1309890.0</td>\n      <td>1285307.0</td>\n      <td>101.9</td>\n      <td>52.98</td>\n      <td>6805.27</td>\n    </tr>\n    <tr>\n      <th>Rangpur_Rangpur</th>\n      <td>108.75</td>\n      <td>62.56</td>\n      <td>215.60</td>\n      <td>386.912</td>\n      <td>720180.0</td>\n      <td>717362.0</td>\n      <td>389.0</td>\n      <td>2429.0</td>\n      <td>2881086.0</td>\n      <td>1443816.0</td>\n      <td>1437270.0</td>\n      <td>100.5</td>\n      <td>48.55</td>\n      <td>4952.99</td>\n    </tr>\n    <tr>\n      <th>Saidpur_Rajshahi</th>\n      <td>17.47</td>\n      <td>55.59</td>\n      <td>204.85</td>\n      <td>277.910</td>\n      <td>421572.0</td>\n      <td>420906.0</td>\n      <td>217.0</td>\n      <td>449.0</td>\n      <td>1834231.0</td>\n      <td>922964.0</td>\n      <td>911267.0</td>\n      <td>101.3</td>\n      <td>44.37</td>\n      <td>3301.49</td>\n    </tr>\n    <tr>\n      <th>Satkhira_Khulna</th>\n      <td>9.23</td>\n      <td>51.96</td>\n      <td>220.47</td>\n      <td>281.650</td>\n      <td>469890.0</td>\n      <td>468853.0</td>\n      <td>172.0</td>\n      <td>865.0</td>\n      <td>1985959.0</td>\n      <td>982777.0</td>\n      <td>1003182.0</td>\n      <td>98.0</td>\n      <td>52.07</td>\n      <td>3376.34</td>\n    </tr>\n    <tr>\n      <th>Shahzadpur_Rajshahi</th>\n      <td>87.16</td>\n      <td>23.43</td>\n      <td>331.21</td>\n      <td>441.800</td>\n      <td>714971.0</td>\n      <td>713064.0</td>\n      <td>290.0</td>\n      <td>1617.0</td>\n      <td>3097489.0</td>\n      <td>1551368.0</td>\n      <td>1546121.0</td>\n      <td>100.3</td>\n      <td>42.05</td>\n      <td>3301.49</td>\n    </tr>\n    <tr>\n      <th>Sirajganj_Rajshahi</th>\n      <td>87.16</td>\n      <td>23.43</td>\n      <td>331.21</td>\n      <td>441.800</td>\n      <td>714971.0</td>\n      <td>713064.0</td>\n      <td>290.0</td>\n      <td>1617.0</td>\n      <td>3097489.0</td>\n      <td>1551368.0</td>\n      <td>1546121.0</td>\n      <td>100.3</td>\n      <td>42.05</td>\n      <td>3053.98</td>\n    </tr>\n    <tr>\n      <th>Sherpur_Mymensingh</th>\n      <td>28.00</td>\n      <td>63.28</td>\n      <td>228.56</td>\n      <td>319.840</td>\n      <td>341443.0</td>\n      <td>340769.0</td>\n      <td>121.0</td>\n      <td>553.0</td>\n      <td>13583225.0</td>\n      <td>676388.0</td>\n      <td>681937.0</td>\n      <td>99.2</td>\n      <td>37.91</td>\n      <td>3426.10</td>\n    </tr>\n    <tr>\n      <th>Sylhet_Sylhet</th>\n      <td>139.14</td>\n      <td>162.01</td>\n      <td>253.03</td>\n      <td>554.180</td>\n      <td>596081.0</td>\n      <td>589425.0</td>\n      <td>644.0</td>\n      <td>6012.0</td>\n      <td>3434188.0</td>\n      <td>1726965.0</td>\n      <td>1707223.0</td>\n      <td>101.2</td>\n      <td>51.18</td>\n      <td>3704.21</td>\n    </tr>\n    <tr>\n      <th>Thakurgaon_Rangpur</th>\n      <td>30.60</td>\n      <td>6.14</td>\n      <td>155.70</td>\n      <td>192.440</td>\n      <td>320786.0</td>\n      <td>319929.0</td>\n      <td>150.0</td>\n      <td>707.0</td>\n      <td>1390042.0</td>\n      <td>701281.0</td>\n      <td>688761.0</td>\n      <td>101.8</td>\n      <td>48.71</td>\n      <td>9454.79</td>\n    </tr>\n    <tr>\n      <th>Tungipara_Dhaka</th>\n      <td>66.88</td>\n      <td>74.88</td>\n      <td>158.34</td>\n      <td>300.100</td>\n      <td>249872.0</td>\n      <td>248735.0</td>\n      <td>225.0</td>\n      <td>912.0</td>\n      <td>1172415.0</td>\n      <td>577868.0</td>\n      <td>594547.0</td>\n      <td>97.2</td>\n      <td>58.09</td>\n      <td>4365.46</td>\n    </tr>\n  </tbody>\n</table>\n</div>"
     },
     "execution_count": 51,
     "metadata": {},
     "output_type": "execute_result"
    }
   ],
   "source": [
    "road_and_household_data = pd.concat((road_length_district_2022.loc[zone_district_map.district],Household_Population_Literacy_Rate_District_2011.loc[zone_district_map.district]),axis=1)\n",
    "road_and_household_data[\"Per Capita Income\"] = zone_income[\"per_capita_income\"].values\n",
    "road_and_household_data.index = average_reading.index\n",
    "road_and_household_data"
   ],
   "metadata": {
    "collapsed": false,
    "ExecuteTime": {
     "start_time": "2024-12-20T15:57:58.564491Z",
     "end_time": "2024-12-20T15:57:58.899685Z"
    }
   }
  },
  {
   "cell_type": "code",
   "execution_count": 52,
   "outputs": [
    {
     "data": {
      "text/plain": "National Highways          -0.503437\nRegional Highways          -0.147767\nZilla Highways             -0.175997\nTotal Highways             -0.180494\nHouseholds Total            0.198746\nHouseholds General          0.114764\nHouseholds Institutional    0.211012\nHouseholds Others           0.436667\nPopulation                  0.202353\nMale                        0.258587\nFemale                     -0.440222\nRatio_M_F                   0.312852\nLiteracy Rate               0.153048\nPer Capita Income           0.024107\ndtype: float64"
     },
     "execution_count": 52,
     "metadata": {},
     "output_type": "execute_result"
    }
   ],
   "source": [
    "# household_data = road_and_household_data[Household_Population_Literacy_Rate_District_2011.columns]\n",
    "road_and_household_data.apply(lambda x: x.corr(average_reading))"
   ],
   "metadata": {
    "collapsed": false,
    "ExecuteTime": {
     "start_time": "2024-12-20T15:57:58.609322Z",
     "end_time": "2024-12-20T15:57:58.899999Z"
    }
   }
  },
  {
   "cell_type": "code",
   "execution_count": 53,
   "outputs": [
    {
     "data": {
      "text/plain": "count    5.500000e+01\nmean     3.653130e+06\nstd      3.259507e+06\nmin      6.139170e+05\n25%      1.752992e+06\n50%      2.523179e+06\n75%      3.519636e+06\nmax      1.358322e+07\nName: Population, dtype: float64"
     },
     "execution_count": 53,
     "metadata": {},
     "output_type": "execute_result"
    }
   ],
   "source": [
    "Households_Total_Unique_Sorted = road_and_household_data[\"Population\"].sort_values() # .drop_duplicates()\n",
    "Households_Total_Unique_Sorted.describe() # 477976  714971"
   ],
   "metadata": {
    "collapsed": false,
    "ExecuteTime": {
     "start_time": "2024-12-20T15:57:58.609486Z",
     "end_time": "2024-12-20T15:57:58.900253Z"
    }
   }
  },
  {
   "cell_type": "code",
   "execution_count": 65,
   "outputs": [
    {
     "data": {
      "application/vnd.plotly.v1+json": {
       "config": {
        "plotlyServerURL": "https://plot.ly"
       },
       "data": [
        {
         "hovertemplate": "variable=Population<br>zone=%{x}<br>value=%{y}<extra></extra>",
         "legendgroup": "Population",
         "line": {
          "color": "#636efa",
          "dash": "solid"
         },
         "mode": "lines",
         "name": "Population",
         "orientation": "v",
         "showlegend": true,
         "type": "scatter",
         "x": [
          "Khagrachhari_Chittagong",
          "Narail_Khulna",
          "Joypur Hat_Rajshahi",
          "Pirojpur_Barisal",
          "Palang_Dhaka",
          "Madaripur_Dhaka",
          "Tungipara_Dhaka",
          "Lalmanirhat_Rangpur",
          "Thakurgaon_Rangpur",
          "Feni_Chittagong",
          "Nawabganj_Rajshahi",
          "Ramganj_Chittagong",
          "Raipur_Chittagong",
          "Lakshmipur_Chittagong",
          "Bhola_Barisal",
          "Saidpur_Rajshahi",
          "Faridpur_Dhaka",
          "Maulavi Bazar_Sylhet",
          "Kushtia_Khulna",
          "Satkhira_Khulna",
          "Habiganj_Sylhet",
          "Narsingdi_Dhaka",
          "Netrakona_Mymensingh",
          "Jamalpur_Mymensingh",
          "Sarishabari_Mymensingh",
          "Khulna_Khulna",
          "Barisal_Barisal",
          "Pabna_Rajshahi",
          "Ishurdi_Rajshahi",
          "Rajshahi_Rajshahi",
          "Par Naogaon_Rajshahi",
          "Jessore_Khulna",
          "Rangpur_Rangpur",
          "Kishorganj_Dhaka",
          "Bhairab Bazar_Dhaka",
          "Narayanganj_Dhaka",
          "Dinajpur_Rangpur",
          "Sirajganj_Rajshahi",
          "Shahzadpur_Rajshahi",
          "Bogra_Rajshahi",
          "Sylhet_Sylhet",
          "Tangail_Dhaka",
          "Nagarpur_Dhaka",
          "Mymensingh_Mymensingh",
          "Comilla_Chittagong",
          "Laksham_Chittagong",
          "Chittagong_Chittagong",
          "Patiya_Chittagong",
          "Sandwip_Chittagong",
          "Satkania_Chittagong",
          "Tungi_Dhaka",
          "Paltan_Dhaka",
          "Dhaka_Dhaka",
          "Azimpur_Dhaka",
          "Sherpur_Mymensingh"
         ],
         "xaxis": "x",
         "y": [
          613917.0,
          721668.0,
          913768.0,
          1113257.0,
          1155824.0,
          1165952.0,
          1172415.0,
          1256099.0,
          1390042.0,
          1437371.0,
          1647521.0,
          1729188.0,
          1729188.0,
          1729188.0,
          1776795.0,
          1834231.0,
          1912969.0,
          1919062.0,
          1946838.0,
          1985959.0,
          2089001.0,
          2224944.0,
          2229642.0,
          2292674.0,
          2292674.0,
          2318527.0,
          2324310.0,
          2523179.0,
          2523179.0,
          2595197.0,
          2600157.0,
          2764547.0,
          2881086.0,
          2911907.0,
          2911907.0,
          2948217.0,
          2990128.0,
          3097489.0,
          3097489.0,
          3400874.0,
          3434188.0,
          3605083.0,
          3605083.0,
          5110272.0,
          5387288.0,
          5387288.0,
          7616352.0,
          7616352.0,
          7616352.0,
          7616352.0,
          1.2043977E7,
          1.2043977E7,
          1.2043977E7,
          1.2043977E7,
          1.3583225E7
         ],
         "yaxis": "y"
        }
       ],
       "layout": {
        "legend": {
         "title": {
          "text": "variable"
         },
         "tracegroupgap": 0
        },
        "margin": {
         "t": 60
        },
        "template": {
         "data": {
          "bar": [
           {
            "error_x": {
             "color": "#2a3f5f"
            },
            "error_y": {
             "color": "#2a3f5f"
            },
            "marker": {
             "line": {
              "color": "white",
              "width": 0.5
             }
            },
            "type": "bar"
           }
          ],
          "barpolar": [
           {
            "marker": {
             "line": {
              "color": "white",
              "width": 0.5
             }
            },
            "type": "barpolar"
           }
          ],
          "carpet": [
           {
            "aaxis": {
             "endlinecolor": "#2a3f5f",
             "gridcolor": "#C8D4E3",
             "linecolor": "#C8D4E3",
             "minorgridcolor": "#C8D4E3",
             "startlinecolor": "#2a3f5f"
            },
            "baxis": {
             "endlinecolor": "#2a3f5f",
             "gridcolor": "#C8D4E3",
             "linecolor": "#C8D4E3",
             "minorgridcolor": "#C8D4E3",
             "startlinecolor": "#2a3f5f"
            },
            "type": "carpet"
           }
          ],
          "choropleth": [
           {
            "colorbar": {
             "outlinewidth": 0,
             "ticks": ""
            },
            "type": "choropleth"
           }
          ],
          "contour": [
           {
            "colorbar": {
             "outlinewidth": 0,
             "ticks": ""
            },
            "colorscale": [
             [
              0.0,
              "#0d0887"
             ],
             [
              0.1111111111111111,
              "#46039f"
             ],
             [
              0.2222222222222222,
              "#7201a8"
             ],
             [
              0.3333333333333333,
              "#9c179e"
             ],
             [
              0.4444444444444444,
              "#bd3786"
             ],
             [
              0.5555555555555556,
              "#d8576b"
             ],
             [
              0.6666666666666666,
              "#ed7953"
             ],
             [
              0.7777777777777778,
              "#fb9f3a"
             ],
             [
              0.8888888888888888,
              "#fdca26"
             ],
             [
              1.0,
              "#f0f921"
             ]
            ],
            "type": "contour"
           }
          ],
          "contourcarpet": [
           {
            "colorbar": {
             "outlinewidth": 0,
             "ticks": ""
            },
            "type": "contourcarpet"
           }
          ],
          "heatmap": [
           {
            "colorbar": {
             "outlinewidth": 0,
             "ticks": ""
            },
            "colorscale": [
             [
              0.0,
              "#0d0887"
             ],
             [
              0.1111111111111111,
              "#46039f"
             ],
             [
              0.2222222222222222,
              "#7201a8"
             ],
             [
              0.3333333333333333,
              "#9c179e"
             ],
             [
              0.4444444444444444,
              "#bd3786"
             ],
             [
              0.5555555555555556,
              "#d8576b"
             ],
             [
              0.6666666666666666,
              "#ed7953"
             ],
             [
              0.7777777777777778,
              "#fb9f3a"
             ],
             [
              0.8888888888888888,
              "#fdca26"
             ],
             [
              1.0,
              "#f0f921"
             ]
            ],
            "type": "heatmap"
           }
          ],
          "heatmapgl": [
           {
            "colorbar": {
             "outlinewidth": 0,
             "ticks": ""
            },
            "colorscale": [
             [
              0.0,
              "#0d0887"
             ],
             [
              0.1111111111111111,
              "#46039f"
             ],
             [
              0.2222222222222222,
              "#7201a8"
             ],
             [
              0.3333333333333333,
              "#9c179e"
             ],
             [
              0.4444444444444444,
              "#bd3786"
             ],
             [
              0.5555555555555556,
              "#d8576b"
             ],
             [
              0.6666666666666666,
              "#ed7953"
             ],
             [
              0.7777777777777778,
              "#fb9f3a"
             ],
             [
              0.8888888888888888,
              "#fdca26"
             ],
             [
              1.0,
              "#f0f921"
             ]
            ],
            "type": "heatmapgl"
           }
          ],
          "histogram": [
           {
            "marker": {
             "colorbar": {
              "outlinewidth": 0,
              "ticks": ""
             }
            },
            "type": "histogram"
           }
          ],
          "histogram2d": [
           {
            "colorbar": {
             "outlinewidth": 0,
             "ticks": ""
            },
            "colorscale": [
             [
              0.0,
              "#0d0887"
             ],
             [
              0.1111111111111111,
              "#46039f"
             ],
             [
              0.2222222222222222,
              "#7201a8"
             ],
             [
              0.3333333333333333,
              "#9c179e"
             ],
             [
              0.4444444444444444,
              "#bd3786"
             ],
             [
              0.5555555555555556,
              "#d8576b"
             ],
             [
              0.6666666666666666,
              "#ed7953"
             ],
             [
              0.7777777777777778,
              "#fb9f3a"
             ],
             [
              0.8888888888888888,
              "#fdca26"
             ],
             [
              1.0,
              "#f0f921"
             ]
            ],
            "type": "histogram2d"
           }
          ],
          "histogram2dcontour": [
           {
            "colorbar": {
             "outlinewidth": 0,
             "ticks": ""
            },
            "colorscale": [
             [
              0.0,
              "#0d0887"
             ],
             [
              0.1111111111111111,
              "#46039f"
             ],
             [
              0.2222222222222222,
              "#7201a8"
             ],
             [
              0.3333333333333333,
              "#9c179e"
             ],
             [
              0.4444444444444444,
              "#bd3786"
             ],
             [
              0.5555555555555556,
              "#d8576b"
             ],
             [
              0.6666666666666666,
              "#ed7953"
             ],
             [
              0.7777777777777778,
              "#fb9f3a"
             ],
             [
              0.8888888888888888,
              "#fdca26"
             ],
             [
              1.0,
              "#f0f921"
             ]
            ],
            "type": "histogram2dcontour"
           }
          ],
          "mesh3d": [
           {
            "colorbar": {
             "outlinewidth": 0,
             "ticks": ""
            },
            "type": "mesh3d"
           }
          ],
          "parcoords": [
           {
            "line": {
             "colorbar": {
              "outlinewidth": 0,
              "ticks": ""
             }
            },
            "type": "parcoords"
           }
          ],
          "pie": [
           {
            "automargin": true,
            "type": "pie"
           }
          ],
          "scatter": [
           {
            "marker": {
             "colorbar": {
              "outlinewidth": 0,
              "ticks": ""
             }
            },
            "type": "scatter"
           }
          ],
          "scatter3d": [
           {
            "line": {
             "colorbar": {
              "outlinewidth": 0,
              "ticks": ""
             }
            },
            "marker": {
             "colorbar": {
              "outlinewidth": 0,
              "ticks": ""
             }
            },
            "type": "scatter3d"
           }
          ],
          "scattercarpet": [
           {
            "marker": {
             "colorbar": {
              "outlinewidth": 0,
              "ticks": ""
             }
            },
            "type": "scattercarpet"
           }
          ],
          "scattergeo": [
           {
            "marker": {
             "colorbar": {
              "outlinewidth": 0,
              "ticks": ""
             }
            },
            "type": "scattergeo"
           }
          ],
          "scattergl": [
           {
            "marker": {
             "colorbar": {
              "outlinewidth": 0,
              "ticks": ""
             }
            },
            "type": "scattergl"
           }
          ],
          "scattermapbox": [
           {
            "marker": {
             "colorbar": {
              "outlinewidth": 0,
              "ticks": ""
             }
            },
            "type": "scattermapbox"
           }
          ],
          "scatterpolar": [
           {
            "marker": {
             "colorbar": {
              "outlinewidth": 0,
              "ticks": ""
             }
            },
            "type": "scatterpolar"
           }
          ],
          "scatterpolargl": [
           {
            "marker": {
             "colorbar": {
              "outlinewidth": 0,
              "ticks": ""
             }
            },
            "type": "scatterpolargl"
           }
          ],
          "scatterternary": [
           {
            "marker": {
             "colorbar": {
              "outlinewidth": 0,
              "ticks": ""
             }
            },
            "type": "scatterternary"
           }
          ],
          "surface": [
           {
            "colorbar": {
             "outlinewidth": 0,
             "ticks": ""
            },
            "colorscale": [
             [
              0.0,
              "#0d0887"
             ],
             [
              0.1111111111111111,
              "#46039f"
             ],
             [
              0.2222222222222222,
              "#7201a8"
             ],
             [
              0.3333333333333333,
              "#9c179e"
             ],
             [
              0.4444444444444444,
              "#bd3786"
             ],
             [
              0.5555555555555556,
              "#d8576b"
             ],
             [
              0.6666666666666666,
              "#ed7953"
             ],
             [
              0.7777777777777778,
              "#fb9f3a"
             ],
             [
              0.8888888888888888,
              "#fdca26"
             ],
             [
              1.0,
              "#f0f921"
             ]
            ],
            "type": "surface"
           }
          ],
          "table": [
           {
            "cells": {
             "fill": {
              "color": "#EBF0F8"
             },
             "line": {
              "color": "white"
             }
            },
            "header": {
             "fill": {
              "color": "#C8D4E3"
             },
             "line": {
              "color": "white"
             }
            },
            "type": "table"
           }
          ]
         },
         "layout": {
          "annotationdefaults": {
           "arrowcolor": "#2a3f5f",
           "arrowhead": 0,
           "arrowwidth": 1
          },
          "coloraxis": {
           "colorbar": {
            "outlinewidth": 0,
            "ticks": ""
           }
          },
          "colorscale": {
           "diverging": [
            [
             0,
             "#8e0152"
            ],
            [
             0.1,
             "#c51b7d"
            ],
            [
             0.2,
             "#de77ae"
            ],
            [
             0.3,
             "#f1b6da"
            ],
            [
             0.4,
             "#fde0ef"
            ],
            [
             0.5,
             "#f7f7f7"
            ],
            [
             0.6,
             "#e6f5d0"
            ],
            [
             0.7,
             "#b8e186"
            ],
            [
             0.8,
             "#7fbc41"
            ],
            [
             0.9,
             "#4d9221"
            ],
            [
             1,
             "#276419"
            ]
           ],
           "sequential": [
            [
             0.0,
             "#0d0887"
            ],
            [
             0.1111111111111111,
             "#46039f"
            ],
            [
             0.2222222222222222,
             "#7201a8"
            ],
            [
             0.3333333333333333,
             "#9c179e"
            ],
            [
             0.4444444444444444,
             "#bd3786"
            ],
            [
             0.5555555555555556,
             "#d8576b"
            ],
            [
             0.6666666666666666,
             "#ed7953"
            ],
            [
             0.7777777777777778,
             "#fb9f3a"
            ],
            [
             0.8888888888888888,
             "#fdca26"
            ],
            [
             1.0,
             "#f0f921"
            ]
           ],
           "sequentialminus": [
            [
             0.0,
             "#0d0887"
            ],
            [
             0.1111111111111111,
             "#46039f"
            ],
            [
             0.2222222222222222,
             "#7201a8"
            ],
            [
             0.3333333333333333,
             "#9c179e"
            ],
            [
             0.4444444444444444,
             "#bd3786"
            ],
            [
             0.5555555555555556,
             "#d8576b"
            ],
            [
             0.6666666666666666,
             "#ed7953"
            ],
            [
             0.7777777777777778,
             "#fb9f3a"
            ],
            [
             0.8888888888888888,
             "#fdca26"
            ],
            [
             1.0,
             "#f0f921"
            ]
           ]
          },
          "colorway": [
           "#636efa",
           "#EF553B",
           "#00cc96",
           "#ab63fa",
           "#FFA15A",
           "#19d3f3",
           "#FF6692",
           "#B6E880",
           "#FF97FF",
           "#FECB52"
          ],
          "font": {
           "color": "#2a3f5f"
          },
          "geo": {
           "bgcolor": "white",
           "lakecolor": "white",
           "landcolor": "white",
           "showlakes": true,
           "showland": true,
           "subunitcolor": "#C8D4E3"
          },
          "hoverlabel": {
           "align": "left"
          },
          "hovermode": "closest",
          "mapbox": {
           "style": "light"
          },
          "paper_bgcolor": "white",
          "plot_bgcolor": "white",
          "polar": {
           "angularaxis": {
            "gridcolor": "#EBF0F8",
            "linecolor": "#EBF0F8",
            "ticks": ""
           },
           "bgcolor": "white",
           "radialaxis": {
            "gridcolor": "#EBF0F8",
            "linecolor": "#EBF0F8",
            "ticks": ""
           }
          },
          "scene": {
           "xaxis": {
            "backgroundcolor": "white",
            "gridcolor": "#DFE8F3",
            "gridwidth": 2,
            "linecolor": "#EBF0F8",
            "showbackground": true,
            "ticks": "",
            "zerolinecolor": "#EBF0F8"
           },
           "yaxis": {
            "backgroundcolor": "white",
            "gridcolor": "#DFE8F3",
            "gridwidth": 2,
            "linecolor": "#EBF0F8",
            "showbackground": true,
            "ticks": "",
            "zerolinecolor": "#EBF0F8"
           },
           "zaxis": {
            "backgroundcolor": "white",
            "gridcolor": "#DFE8F3",
            "gridwidth": 2,
            "linecolor": "#EBF0F8",
            "showbackground": true,
            "ticks": "",
            "zerolinecolor": "#EBF0F8"
           }
          },
          "shapedefaults": {
           "line": {
            "color": "#2a3f5f"
           }
          },
          "ternary": {
           "aaxis": {
            "gridcolor": "#DFE8F3",
            "linecolor": "#A2B1C6",
            "ticks": ""
           },
           "baxis": {
            "gridcolor": "#DFE8F3",
            "linecolor": "#A2B1C6",
            "ticks": ""
           },
           "bgcolor": "white",
           "caxis": {
            "gridcolor": "#DFE8F3",
            "linecolor": "#A2B1C6",
            "ticks": ""
           }
          },
          "title": {
           "x": 0.05
          },
          "xaxis": {
           "automargin": true,
           "gridcolor": "#EBF0F8",
           "linecolor": "#EBF0F8",
           "ticks": "",
           "title": {
            "standoff": 15
           },
           "zerolinecolor": "#EBF0F8",
           "zerolinewidth": 2
          },
          "yaxis": {
           "automargin": true,
           "gridcolor": "#EBF0F8",
           "linecolor": "#EBF0F8",
           "ticks": "",
           "title": {
            "standoff": 15
           },
           "zerolinecolor": "#EBF0F8",
           "zerolinewidth": 2
          }
         }
        },
        "xaxis": {
         "anchor": "y",
         "domain": [
          0.0,
          1.0
         ],
         "title": {
          "text": "zone"
         }
        },
        "yaxis": {
         "anchor": "x",
         "domain": [
          0.0,
          1.0
         ],
         "title": {
          "text": "value"
         }
        }
       }
      },
      "text/html": "<div>\n        \n        \n            <div id=\"b51e023a-faa4-455b-aced-d46a8399b56e\" class=\"plotly-graph-div\" style=\"height:525px; width:100%;\"></div>\n            <script type=\"text/javascript\">\n                require([\"plotly\"], function(Plotly) {\n                    window.PLOTLYENV=window.PLOTLYENV || {};\n                    \n                if (document.getElementById(\"b51e023a-faa4-455b-aced-d46a8399b56e\")) {\n                    Plotly.newPlot(\n                        'b51e023a-faa4-455b-aced-d46a8399b56e',\n                        [{\"hovertemplate\": \"variable=Population<br>zone=%{x}<br>value=%{y}<extra></extra>\", \"legendgroup\": \"Population\", \"line\": {\"color\": \"#636efa\", \"dash\": \"solid\"}, \"mode\": \"lines\", \"name\": \"Population\", \"orientation\": \"v\", \"showlegend\": true, \"type\": \"scatter\", \"x\": [\"Khagrachhari_Chittagong\", \"Narail_Khulna\", \"Joypur Hat_Rajshahi\", \"Pirojpur_Barisal\", \"Palang_Dhaka\", \"Madaripur_Dhaka\", \"Tungipara_Dhaka\", \"Lalmanirhat_Rangpur\", \"Thakurgaon_Rangpur\", \"Feni_Chittagong\", \"Nawabganj_Rajshahi\", \"Ramganj_Chittagong\", \"Raipur_Chittagong\", \"Lakshmipur_Chittagong\", \"Bhola_Barisal\", \"Saidpur_Rajshahi\", \"Faridpur_Dhaka\", \"Maulavi Bazar_Sylhet\", \"Kushtia_Khulna\", \"Satkhira_Khulna\", \"Habiganj_Sylhet\", \"Narsingdi_Dhaka\", \"Netrakona_Mymensingh\", \"Jamalpur_Mymensingh\", \"Sarishabari_Mymensingh\", \"Khulna_Khulna\", \"Barisal_Barisal\", \"Pabna_Rajshahi\", \"Ishurdi_Rajshahi\", \"Rajshahi_Rajshahi\", \"Par Naogaon_Rajshahi\", \"Jessore_Khulna\", \"Rangpur_Rangpur\", \"Kishorganj_Dhaka\", \"Bhairab Bazar_Dhaka\", \"Narayanganj_Dhaka\", \"Dinajpur_Rangpur\", \"Sirajganj_Rajshahi\", \"Shahzadpur_Rajshahi\", \"Bogra_Rajshahi\", \"Sylhet_Sylhet\", \"Tangail_Dhaka\", \"Nagarpur_Dhaka\", \"Mymensingh_Mymensingh\", \"Comilla_Chittagong\", \"Laksham_Chittagong\", \"Chittagong_Chittagong\", \"Patiya_Chittagong\", \"Sandwip_Chittagong\", \"Satkania_Chittagong\", \"Tungi_Dhaka\", \"Paltan_Dhaka\", \"Dhaka_Dhaka\", \"Azimpur_Dhaka\", \"Sherpur_Mymensingh\"], \"xaxis\": \"x\", \"y\": [613917.0, 721668.0, 913768.0, 1113257.0, 1155824.0, 1165952.0, 1172415.0, 1256099.0, 1390042.0, 1437371.0, 1647521.0, 1729188.0, 1729188.0, 1729188.0, 1776795.0, 1834231.0, 1912969.0, 1919062.0, 1946838.0, 1985959.0, 2089001.0, 2224944.0, 2229642.0, 2292674.0, 2292674.0, 2318527.0, 2324310.0, 2523179.0, 2523179.0, 2595197.0, 2600157.0, 2764547.0, 2881086.0, 2911907.0, 2911907.0, 2948217.0, 2990128.0, 3097489.0, 3097489.0, 3400874.0, 3434188.0, 3605083.0, 3605083.0, 5110272.0, 5387288.0, 5387288.0, 7616352.0, 7616352.0, 7616352.0, 7616352.0, 12043977.0, 12043977.0, 12043977.0, 12043977.0, 13583225.0], \"yaxis\": \"y\"}],\n                        {\"legend\": {\"title\": {\"text\": \"variable\"}, \"tracegroupgap\": 0}, \"margin\": {\"t\": 60}, \"template\": {\"data\": {\"bar\": [{\"error_x\": {\"color\": \"#2a3f5f\"}, \"error_y\": {\"color\": \"#2a3f5f\"}, \"marker\": {\"line\": {\"color\": \"white\", \"width\": 0.5}}, \"type\": \"bar\"}], \"barpolar\": [{\"marker\": {\"line\": {\"color\": \"white\", \"width\": 0.5}}, \"type\": \"barpolar\"}], \"carpet\": [{\"aaxis\": {\"endlinecolor\": \"#2a3f5f\", \"gridcolor\": \"#C8D4E3\", \"linecolor\": \"#C8D4E3\", \"minorgridcolor\": \"#C8D4E3\", \"startlinecolor\": \"#2a3f5f\"}, \"baxis\": {\"endlinecolor\": \"#2a3f5f\", \"gridcolor\": \"#C8D4E3\", \"linecolor\": \"#C8D4E3\", \"minorgridcolor\": \"#C8D4E3\", \"startlinecolor\": \"#2a3f5f\"}, \"type\": \"carpet\"}], \"choropleth\": [{\"colorbar\": {\"outlinewidth\": 0, \"ticks\": \"\"}, \"type\": \"choropleth\"}], \"contour\": [{\"colorbar\": {\"outlinewidth\": 0, \"ticks\": \"\"}, \"colorscale\": [[0.0, \"#0d0887\"], [0.1111111111111111, \"#46039f\"], [0.2222222222222222, \"#7201a8\"], [0.3333333333333333, \"#9c179e\"], [0.4444444444444444, \"#bd3786\"], [0.5555555555555556, \"#d8576b\"], [0.6666666666666666, \"#ed7953\"], [0.7777777777777778, \"#fb9f3a\"], [0.8888888888888888, \"#fdca26\"], [1.0, \"#f0f921\"]], \"type\": \"contour\"}], \"contourcarpet\": [{\"colorbar\": {\"outlinewidth\": 0, \"ticks\": \"\"}, \"type\": \"contourcarpet\"}], \"heatmap\": [{\"colorbar\": {\"outlinewidth\": 0, \"ticks\": \"\"}, \"colorscale\": [[0.0, \"#0d0887\"], [0.1111111111111111, \"#46039f\"], [0.2222222222222222, \"#7201a8\"], [0.3333333333333333, \"#9c179e\"], [0.4444444444444444, \"#bd3786\"], [0.5555555555555556, \"#d8576b\"], [0.6666666666666666, \"#ed7953\"], [0.7777777777777778, \"#fb9f3a\"], [0.8888888888888888, \"#fdca26\"], [1.0, \"#f0f921\"]], \"type\": \"heatmap\"}], \"heatmapgl\": [{\"colorbar\": {\"outlinewidth\": 0, \"ticks\": \"\"}, \"colorscale\": [[0.0, \"#0d0887\"], [0.1111111111111111, \"#46039f\"], [0.2222222222222222, \"#7201a8\"], [0.3333333333333333, \"#9c179e\"], [0.4444444444444444, \"#bd3786\"], [0.5555555555555556, \"#d8576b\"], [0.6666666666666666, \"#ed7953\"], [0.7777777777777778, \"#fb9f3a\"], [0.8888888888888888, \"#fdca26\"], [1.0, \"#f0f921\"]], \"type\": \"heatmapgl\"}], \"histogram\": [{\"marker\": {\"colorbar\": {\"outlinewidth\": 0, \"ticks\": \"\"}}, \"type\": \"histogram\"}], \"histogram2d\": [{\"colorbar\": {\"outlinewidth\": 0, \"ticks\": \"\"}, \"colorscale\": [[0.0, \"#0d0887\"], [0.1111111111111111, \"#46039f\"], [0.2222222222222222, \"#7201a8\"], [0.3333333333333333, \"#9c179e\"], [0.4444444444444444, \"#bd3786\"], [0.5555555555555556, \"#d8576b\"], [0.6666666666666666, \"#ed7953\"], [0.7777777777777778, \"#fb9f3a\"], [0.8888888888888888, \"#fdca26\"], [1.0, \"#f0f921\"]], \"type\": \"histogram2d\"}], \"histogram2dcontour\": [{\"colorbar\": {\"outlinewidth\": 0, \"ticks\": \"\"}, \"colorscale\": [[0.0, \"#0d0887\"], [0.1111111111111111, \"#46039f\"], [0.2222222222222222, \"#7201a8\"], [0.3333333333333333, \"#9c179e\"], [0.4444444444444444, \"#bd3786\"], [0.5555555555555556, \"#d8576b\"], [0.6666666666666666, \"#ed7953\"], [0.7777777777777778, \"#fb9f3a\"], [0.8888888888888888, \"#fdca26\"], [1.0, \"#f0f921\"]], \"type\": \"histogram2dcontour\"}], \"mesh3d\": [{\"colorbar\": {\"outlinewidth\": 0, \"ticks\": \"\"}, \"type\": \"mesh3d\"}], \"parcoords\": [{\"line\": {\"colorbar\": {\"outlinewidth\": 0, \"ticks\": \"\"}}, \"type\": \"parcoords\"}], \"pie\": [{\"automargin\": true, \"type\": \"pie\"}], \"scatter\": [{\"marker\": {\"colorbar\": {\"outlinewidth\": 0, \"ticks\": \"\"}}, \"type\": \"scatter\"}], \"scatter3d\": [{\"line\": {\"colorbar\": {\"outlinewidth\": 0, \"ticks\": \"\"}}, \"marker\": {\"colorbar\": {\"outlinewidth\": 0, \"ticks\": \"\"}}, \"type\": \"scatter3d\"}], \"scattercarpet\": [{\"marker\": {\"colorbar\": {\"outlinewidth\": 0, \"ticks\": \"\"}}, \"type\": \"scattercarpet\"}], \"scattergeo\": [{\"marker\": {\"colorbar\": {\"outlinewidth\": 0, \"ticks\": \"\"}}, \"type\": \"scattergeo\"}], \"scattergl\": [{\"marker\": {\"colorbar\": {\"outlinewidth\": 0, \"ticks\": \"\"}}, \"type\": \"scattergl\"}], \"scattermapbox\": [{\"marker\": {\"colorbar\": {\"outlinewidth\": 0, \"ticks\": \"\"}}, \"type\": \"scattermapbox\"}], \"scatterpolar\": [{\"marker\": {\"colorbar\": {\"outlinewidth\": 0, \"ticks\": \"\"}}, \"type\": \"scatterpolar\"}], \"scatterpolargl\": [{\"marker\": {\"colorbar\": {\"outlinewidth\": 0, \"ticks\": \"\"}}, \"type\": \"scatterpolargl\"}], \"scatterternary\": [{\"marker\": {\"colorbar\": {\"outlinewidth\": 0, \"ticks\": \"\"}}, \"type\": \"scatterternary\"}], \"surface\": [{\"colorbar\": {\"outlinewidth\": 0, \"ticks\": \"\"}, \"colorscale\": [[0.0, \"#0d0887\"], [0.1111111111111111, \"#46039f\"], [0.2222222222222222, \"#7201a8\"], [0.3333333333333333, \"#9c179e\"], [0.4444444444444444, \"#bd3786\"], [0.5555555555555556, \"#d8576b\"], [0.6666666666666666, \"#ed7953\"], [0.7777777777777778, \"#fb9f3a\"], [0.8888888888888888, \"#fdca26\"], [1.0, \"#f0f921\"]], \"type\": \"surface\"}], \"table\": [{\"cells\": {\"fill\": {\"color\": \"#EBF0F8\"}, \"line\": {\"color\": \"white\"}}, \"header\": {\"fill\": {\"color\": \"#C8D4E3\"}, \"line\": {\"color\": \"white\"}}, \"type\": \"table\"}]}, \"layout\": {\"annotationdefaults\": {\"arrowcolor\": \"#2a3f5f\", \"arrowhead\": 0, \"arrowwidth\": 1}, \"coloraxis\": {\"colorbar\": {\"outlinewidth\": 0, \"ticks\": \"\"}}, \"colorscale\": {\"diverging\": [[0, \"#8e0152\"], [0.1, \"#c51b7d\"], [0.2, \"#de77ae\"], [0.3, \"#f1b6da\"], [0.4, \"#fde0ef\"], [0.5, \"#f7f7f7\"], [0.6, \"#e6f5d0\"], [0.7, \"#b8e186\"], [0.8, \"#7fbc41\"], [0.9, \"#4d9221\"], [1, \"#276419\"]], \"sequential\": [[0.0, \"#0d0887\"], [0.1111111111111111, \"#46039f\"], [0.2222222222222222, \"#7201a8\"], [0.3333333333333333, \"#9c179e\"], [0.4444444444444444, \"#bd3786\"], [0.5555555555555556, \"#d8576b\"], [0.6666666666666666, \"#ed7953\"], [0.7777777777777778, \"#fb9f3a\"], [0.8888888888888888, \"#fdca26\"], [1.0, \"#f0f921\"]], \"sequentialminus\": [[0.0, \"#0d0887\"], [0.1111111111111111, \"#46039f\"], [0.2222222222222222, \"#7201a8\"], [0.3333333333333333, \"#9c179e\"], [0.4444444444444444, \"#bd3786\"], [0.5555555555555556, \"#d8576b\"], [0.6666666666666666, \"#ed7953\"], [0.7777777777777778, \"#fb9f3a\"], [0.8888888888888888, \"#fdca26\"], [1.0, \"#f0f921\"]]}, \"colorway\": [\"#636efa\", \"#EF553B\", \"#00cc96\", \"#ab63fa\", \"#FFA15A\", \"#19d3f3\", \"#FF6692\", \"#B6E880\", \"#FF97FF\", \"#FECB52\"], \"font\": {\"color\": \"#2a3f5f\"}, \"geo\": {\"bgcolor\": \"white\", \"lakecolor\": \"white\", \"landcolor\": \"white\", \"showlakes\": true, \"showland\": true, \"subunitcolor\": \"#C8D4E3\"}, \"hoverlabel\": {\"align\": \"left\"}, \"hovermode\": \"closest\", \"mapbox\": {\"style\": \"light\"}, \"paper_bgcolor\": \"white\", \"plot_bgcolor\": \"white\", \"polar\": {\"angularaxis\": {\"gridcolor\": \"#EBF0F8\", \"linecolor\": \"#EBF0F8\", \"ticks\": \"\"}, \"bgcolor\": \"white\", \"radialaxis\": {\"gridcolor\": \"#EBF0F8\", \"linecolor\": \"#EBF0F8\", \"ticks\": \"\"}}, \"scene\": {\"xaxis\": {\"backgroundcolor\": \"white\", \"gridcolor\": \"#DFE8F3\", \"gridwidth\": 2, \"linecolor\": \"#EBF0F8\", \"showbackground\": true, \"ticks\": \"\", \"zerolinecolor\": \"#EBF0F8\"}, \"yaxis\": {\"backgroundcolor\": \"white\", \"gridcolor\": \"#DFE8F3\", \"gridwidth\": 2, \"linecolor\": \"#EBF0F8\", \"showbackground\": true, \"ticks\": \"\", \"zerolinecolor\": \"#EBF0F8\"}, \"zaxis\": {\"backgroundcolor\": \"white\", \"gridcolor\": \"#DFE8F3\", \"gridwidth\": 2, \"linecolor\": \"#EBF0F8\", \"showbackground\": true, \"ticks\": \"\", \"zerolinecolor\": \"#EBF0F8\"}}, \"shapedefaults\": {\"line\": {\"color\": \"#2a3f5f\"}}, \"ternary\": {\"aaxis\": {\"gridcolor\": \"#DFE8F3\", \"linecolor\": \"#A2B1C6\", \"ticks\": \"\"}, \"baxis\": {\"gridcolor\": \"#DFE8F3\", \"linecolor\": \"#A2B1C6\", \"ticks\": \"\"}, \"bgcolor\": \"white\", \"caxis\": {\"gridcolor\": \"#DFE8F3\", \"linecolor\": \"#A2B1C6\", \"ticks\": \"\"}}, \"title\": {\"x\": 0.05}, \"xaxis\": {\"automargin\": true, \"gridcolor\": \"#EBF0F8\", \"linecolor\": \"#EBF0F8\", \"ticks\": \"\", \"title\": {\"standoff\": 15}, \"zerolinecolor\": \"#EBF0F8\", \"zerolinewidth\": 2}, \"yaxis\": {\"automargin\": true, \"gridcolor\": \"#EBF0F8\", \"linecolor\": \"#EBF0F8\", \"ticks\": \"\", \"title\": {\"standoff\": 15}, \"zerolinecolor\": \"#EBF0F8\", \"zerolinewidth\": 2}}}, \"xaxis\": {\"anchor\": \"y\", \"domain\": [0.0, 1.0], \"title\": {\"text\": \"zone\"}}, \"yaxis\": {\"anchor\": \"x\", \"domain\": [0.0, 1.0], \"title\": {\"text\": \"value\"}}},\n                        {\"responsive\": true}\n                    ).then(function(){\n                            \nvar gd = document.getElementById('b51e023a-faa4-455b-aced-d46a8399b56e');\nvar x = new MutationObserver(function (mutations, observer) {{\n        var display = window.getComputedStyle(gd).display;\n        if (!display || display === 'none') {{\n            console.log([gd, 'removed!']);\n            Plotly.purge(gd);\n            observer.disconnect();\n        }}\n}});\n\n// Listen for the removal of the full notebook cells\nvar notebookContainer = gd.closest('#notebook-container');\nif (notebookContainer) {{\n    x.observe(notebookContainer, {childList: true});\n}}\n\n// Listen for the clearing of the current output cell\nvar outputEl = gd.closest('.output');\nif (outputEl) {{\n    x.observe(outputEl, {childList: true});\n}}\n\n                        })\n                };\n                });\n            </script>\n        </div>"
     },
     "metadata": {},
     "output_type": "display_data"
    }
   ],
   "source": [
    "fig = px.line(Households_Total_Unique_Sorted)\n",
    "fig.show()"
   ],
   "metadata": {
    "collapsed": false,
    "ExecuteTime": {
     "start_time": "2024-12-20T15:59:29.937794Z",
     "end_time": "2024-12-20T15:59:29.946773Z"
    }
   }
  },
  {
   "cell_type": "code",
   "execution_count": 73,
   "outputs": [
    {
     "data": {
      "text/plain": "(28, 27)"
     },
     "execution_count": 73,
     "metadata": {},
     "output_type": "execute_result"
    }
   ],
   "source": [
    "urban_areas = road_and_household_data[\"Population\"]>=2.523179e+06\n",
    "rural_areas = ~urban_areas\n",
    "urban_areas.sum(),rural_areas.sum()"
   ],
   "metadata": {
    "collapsed": false,
    "ExecuteTime": {
     "start_time": "2024-12-20T16:00:58.573039Z",
     "end_time": "2024-12-20T16:00:58.575095Z"
    }
   }
  },
  {
   "cell_type": "code",
   "execution_count": 55,
   "outputs": [],
   "source": [],
   "metadata": {
    "collapsed": false,
    "ExecuteTime": {
     "start_time": "2024-12-20T15:57:58.686460Z",
     "end_time": "2024-12-20T15:57:59.039320Z"
    }
   }
  },
  {
   "cell_type": "code",
   "execution_count": 74,
   "outputs": [
    {
     "name": "stdout",
     "output_type": "stream",
     "text": [
      "month\n",
      "1     123.025866\n",
      "2      99.940860\n",
      "3      74.362502\n",
      "4      47.321421\n",
      "5      31.119407\n",
      "6      26.363871\n",
      "7      21.362619\n",
      "8      21.532997\n",
      "9      23.555102\n",
      "10     43.919597\n",
      "11     79.124486\n",
      "12    104.070986\n",
      "Name: Rural, dtype: float64\n",
      "month\n",
      "1     128.077374\n",
      "2     103.842861\n",
      "3      77.546485\n",
      "4      49.701635\n",
      "5      32.574720\n",
      "6      27.272845\n",
      "7      22.024330\n",
      "8      22.242965\n",
      "9      24.350402\n",
      "10     44.922423\n",
      "11     81.281181\n",
      "12    107.327272\n",
      "Name: Urban, dtype: float64\n"
     ]
    }
   ],
   "source": [
    "urban_rural_areas = urban_areas\n",
    "urban_rural_group = urban_rural_areas.to_frame().groupby(\"Population\")\n",
    "urban_rural_average = []\n",
    "\n",
    "for g,areas_of_type in urban_rural_group:\n",
    "    # print(areas_of_type)\n",
    "    name = \"Urban\" if g else \"Rural\"\n",
    "    area_reading = series[areas_of_type.index].mean(axis=1).rename(name).to_frame()\n",
    "\n",
    "    # Extract the month name or month number\n",
    "    area_reading['month'] = area_reading.index.month\n",
    "    # print(area_reading)\n",
    "\n",
    "    # Group by month and calculate the average\n",
    "    monthly_avg = area_reading.groupby('month')[name].mean()\n",
    "    print(monthly_avg)\n",
    "    urban_rural_average.append(monthly_avg)"
   ],
   "metadata": {
    "collapsed": false,
    "ExecuteTime": {
     "start_time": "2024-12-20T16:01:01.682447Z",
     "end_time": "2024-12-20T16:01:01.732020Z"
    }
   }
  },
  {
   "cell_type": "code",
   "execution_count": 75,
   "outputs": [
    {
     "data": {
      "text/plain": "            Rural       Urban\nmonth                        \n1      123.025866  128.077374\n2       99.940860  103.842861\n3       74.362502   77.546485\n4       47.321421   49.701635\n5       31.119407   32.574720\n6       26.363871   27.272845\n7       21.362619   22.024330\n8       21.532997   22.242965\n9       23.555102   24.350402\n10      43.919597   44.922423\n11      79.124486   81.281181\n12     104.070986  107.327272",
      "text/html": "<div>\n<style scoped>\n    .dataframe tbody tr th:only-of-type {\n        vertical-align: middle;\n    }\n\n    .dataframe tbody tr th {\n        vertical-align: top;\n    }\n\n    .dataframe thead th {\n        text-align: right;\n    }\n</style>\n<table border=\"1\" class=\"dataframe\">\n  <thead>\n    <tr style=\"text-align: right;\">\n      <th></th>\n      <th>Rural</th>\n      <th>Urban</th>\n    </tr>\n    <tr>\n      <th>month</th>\n      <th></th>\n      <th></th>\n    </tr>\n  </thead>\n  <tbody>\n    <tr>\n      <th>1</th>\n      <td>123.025866</td>\n      <td>128.077374</td>\n    </tr>\n    <tr>\n      <th>2</th>\n      <td>99.940860</td>\n      <td>103.842861</td>\n    </tr>\n    <tr>\n      <th>3</th>\n      <td>74.362502</td>\n      <td>77.546485</td>\n    </tr>\n    <tr>\n      <th>4</th>\n      <td>47.321421</td>\n      <td>49.701635</td>\n    </tr>\n    <tr>\n      <th>5</th>\n      <td>31.119407</td>\n      <td>32.574720</td>\n    </tr>\n    <tr>\n      <th>6</th>\n      <td>26.363871</td>\n      <td>27.272845</td>\n    </tr>\n    <tr>\n      <th>7</th>\n      <td>21.362619</td>\n      <td>22.024330</td>\n    </tr>\n    <tr>\n      <th>8</th>\n      <td>21.532997</td>\n      <td>22.242965</td>\n    </tr>\n    <tr>\n      <th>9</th>\n      <td>23.555102</td>\n      <td>24.350402</td>\n    </tr>\n    <tr>\n      <th>10</th>\n      <td>43.919597</td>\n      <td>44.922423</td>\n    </tr>\n    <tr>\n      <th>11</th>\n      <td>79.124486</td>\n      <td>81.281181</td>\n    </tr>\n    <tr>\n      <th>12</th>\n      <td>104.070986</td>\n      <td>107.327272</td>\n    </tr>\n  </tbody>\n</table>\n</div>"
     },
     "execution_count": 75,
     "metadata": {},
     "output_type": "execute_result"
    }
   ],
   "source": [
    "urban_rural_average_df = pd.concat(urban_rural_average,axis=1)\n",
    "urban_rural_average_df"
   ],
   "metadata": {
    "collapsed": false,
    "ExecuteTime": {
     "start_time": "2024-12-20T16:01:05.675410Z",
     "end_time": "2024-12-20T16:01:05.681331Z"
    }
   }
  },
  {
   "cell_type": "code",
   "execution_count": 77,
   "outputs": [
    {
     "data": {
      "text/plain": "       Rural_pct_change  Urban_pct_change\nmonth                                    \n1                 18.21             19.33\n2                -18.76            -18.92\n3                -25.59            -25.32\n4                -36.36            -35.91\n5                -34.24            -34.46\n6                -15.28            -16.28\n7                -18.97            -19.24\n8                  0.80              0.99\n9                  9.39              9.47\n10                86.45             84.48\n11                80.16             80.94\n12                31.53             32.04",
      "text/html": "<div>\n<style scoped>\n    .dataframe tbody tr th:only-of-type {\n        vertical-align: middle;\n    }\n\n    .dataframe tbody tr th {\n        vertical-align: top;\n    }\n\n    .dataframe thead th {\n        text-align: right;\n    }\n</style>\n<table border=\"1\" class=\"dataframe\">\n  <thead>\n    <tr style=\"text-align: right;\">\n      <th></th>\n      <th>Rural_pct_change</th>\n      <th>Urban_pct_change</th>\n    </tr>\n    <tr>\n      <th>month</th>\n      <th></th>\n      <th></th>\n    </tr>\n  </thead>\n  <tbody>\n    <tr>\n      <th>1</th>\n      <td>18.21</td>\n      <td>19.33</td>\n    </tr>\n    <tr>\n      <th>2</th>\n      <td>-18.76</td>\n      <td>-18.92</td>\n    </tr>\n    <tr>\n      <th>3</th>\n      <td>-25.59</td>\n      <td>-25.32</td>\n    </tr>\n    <tr>\n      <th>4</th>\n      <td>-36.36</td>\n      <td>-35.91</td>\n    </tr>\n    <tr>\n      <th>5</th>\n      <td>-34.24</td>\n      <td>-34.46</td>\n    </tr>\n    <tr>\n      <th>6</th>\n      <td>-15.28</td>\n      <td>-16.28</td>\n    </tr>\n    <tr>\n      <th>7</th>\n      <td>-18.97</td>\n      <td>-19.24</td>\n    </tr>\n    <tr>\n      <th>8</th>\n      <td>0.80</td>\n      <td>0.99</td>\n    </tr>\n    <tr>\n      <th>9</th>\n      <td>9.39</td>\n      <td>9.47</td>\n    </tr>\n    <tr>\n      <th>10</th>\n      <td>86.45</td>\n      <td>84.48</td>\n    </tr>\n    <tr>\n      <th>11</th>\n      <td>80.16</td>\n      <td>80.94</td>\n    </tr>\n    <tr>\n      <th>12</th>\n      <td>31.53</td>\n      <td>32.04</td>\n    </tr>\n  </tbody>\n</table>\n</div>"
     },
     "execution_count": 77,
     "metadata": {},
     "output_type": "execute_result"
    }
   ],
   "source": [
    "# Calculate percentage change\n",
    "df_pct_change = urban_rural_average_df.pct_change()\n",
    "\n",
    "# Calculate the percentage change for the first month (January) using December's values\n",
    "first_row_pct_change = (urban_rural_average_df.iloc[0] - urban_rural_average_df.iloc[-1]) / urban_rural_average_df.iloc[-1]\n",
    "\n",
    "# Replace the NaN in the first row with the calculated values\n",
    "df_pct_change.iloc[0] = first_row_pct_change\n",
    "\n",
    "# Multiply by 100 to get actual percentage values\n",
    "df_pct_change = df_pct_change * 100\n",
    "\n",
    "# Round to two decimal places\n",
    "df_pct_change = df_pct_change.round(2)\n",
    "df_pct_change.columns = df_pct_change.columns+\"_pct_change\"\n",
    "df_pct_change"
   ],
   "metadata": {
    "collapsed": false,
    "ExecuteTime": {
     "start_time": "2024-12-20T16:01:57.387512Z",
     "end_time": "2024-12-20T16:01:57.393231Z"
    }
   }
  },
  {
   "cell_type": "code",
   "execution_count": 59,
   "outputs": [
    {
     "data": {
      "text/plain": "month\n1    -1.12\n2     0.16\n3    -0.27\n4    -0.45\n5     0.22\n6     1.00\n7     0.27\n8    -0.19\n9    -0.08\n10    1.97\n11   -0.78\n12   -0.51\ndtype: float64"
     },
     "execution_count": 59,
     "metadata": {},
     "output_type": "execute_result"
    }
   ],
   "source": [
    "df_pct_change[\"Rural\"]-df_pct_change[\"Urban\"]"
   ],
   "metadata": {
    "collapsed": false,
    "ExecuteTime": {
     "start_time": "2024-12-20T15:57:58.756981Z",
     "end_time": "2024-12-20T15:57:59.184584Z"
    }
   }
  },
  {
   "cell_type": "code",
   "execution_count": 82,
   "outputs": [
    {
     "name": "stdout",
     "output_type": "stream",
     "text": [
      "\\begin{tabular}{lrrrrrrrrrrrr}\n",
      "\\toprule\n",
      "month &      1  &      2  &     3  &     4  &     5  &     6  &     7  &     8  &     9  &     10 &     11 &      12 \\\\\n",
      "\\midrule\n",
      "Rural            &  123.03 &   99.94 &  74.36 &  47.32 &  31.12 &  26.36 &  21.36 &  21.53 &  23.56 &  43.92 &  79.12 &  104.07 \\\\\n",
      "Urban            &  128.08 &  103.84 &  77.55 &  49.70 &  32.57 &  27.27 &  22.02 &  22.24 &  24.35 &  44.92 &  81.28 &  107.33 \\\\\n",
      "Rural\\_pct\\_change &   18.21 &  -18.76 & -25.59 & -36.36 & -34.24 & -15.28 & -18.97 &   0.80 &   9.39 &  86.45 &  80.16 &   31.53 \\\\\n",
      "Urban\\_pct\\_change &   19.33 &  -18.92 & -25.32 & -35.91 & -34.46 & -16.28 & -19.24 &   0.99 &   9.47 &  84.48 &  80.94 &   32.04 \\\\\n",
      "\\bottomrule\n",
      "\\end{tabular}\n",
      "\n"
     ]
    }
   ],
   "source": [
    "print(pd.concat((urban_rural_average_df,df_pct_change),axis=1).round(2).T.to_latex())"
   ],
   "metadata": {
    "collapsed": false,
    "ExecuteTime": {
     "start_time": "2024-12-20T16:03:57.194550Z",
     "end_time": "2024-12-20T16:03:57.248255Z"
    }
   }
  },
  {
   "cell_type": "code",
   "execution_count": 60,
   "outputs": [
    {
     "data": {
      "text/plain": "Index(['National Highways', 'Regional Highways', 'Zilla Highways',\n       'Total Highways', 'Households Total', 'Households General',\n       'Households Institutional', 'Households Others', 'Population', 'Male',\n       'Female', 'Ratio_M_F', 'Literacy Rate', 'Per Capita Income'],\n      dtype='object')"
     },
     "execution_count": 60,
     "metadata": {},
     "output_type": "execute_result"
    }
   ],
   "source": [
    "road_and_household_data.columns"
   ],
   "metadata": {
    "collapsed": false,
    "ExecuteTime": {
     "start_time": "2024-12-20T15:57:58.757041Z",
     "end_time": "2024-12-20T15:57:59.184804Z"
    }
   }
  },
  {
   "cell_type": "code",
   "execution_count": 61,
   "outputs": [],
   "source": [
    "road_and_household_data_log_transformed = road_and_household_data.apply(lambda x: np.log(x + 1))\n",
    "average_reading_log = np.log(average_reading + 1)\n",
    "\n",
    "road_and_household_data_selected_columns = [\n",
    "    'Total Highways', 'Per Capita Income', 'Households Total',\n",
    "    'Households General', 'Households Institutional', 'Households Others',\n",
    "    'Population', 'Male', 'Female']"
   ],
   "metadata": {
    "collapsed": false,
    "ExecuteTime": {
     "start_time": "2024-12-20T15:57:58.757160Z",
     "end_time": "2024-12-20T15:57:59.184923Z"
    }
   }
  },
  {
   "cell_type": "code",
   "execution_count": 62,
   "outputs": [
    {
     "data": {
      "application/vnd.plotly.v1+json": {
       "config": {
        "plotlyServerURL": "https://plot.ly"
       },
       "data": [
        {
         "hovertemplate": "x=%{x}<br>Average Reading=%{y}<extra></extra>",
         "legendgroup": "",
         "marker": {
          "color": "silver",
          "line": {
           "color": "black",
           "width": 1
          },
          "size": 9,
          "symbol": "circle"
         },
         "mode": "markers",
         "name": "",
         "orientation": "v",
         "showlegend": false,
         "type": "scatter",
         "x": [
          5.6262172510385895,
          5.6262172510385895,
          5.6262172510385895,
          5.6262172510385895,
          5.8700593342813,
          6.058725920416785,
          6.058725920416785,
          5.641765216905675,
          6.2644263054030525,
          6.348229486996957,
          6.348229486996957,
          6.348229486996957,
          6.348229486996957,
          6.7707206142021965,
          6.7707206142021965,
          6.265225164218718,
          5.804230945953007,
          5.692013491056202,
          5.828298349353768,
          6.27668108261997,
          6.27668108261997,
          5.856331873116486,
          5.856331873116486,
          5.827650661869767,
          5.257391199935391,
          5.965531165081478,
          6.02630066194344,
          5.597755070010671,
          5.55105855430119,
          5.55105855430119,
          5.55105855430119,
          5.199104581476445,
          5.383301690453034,
          5.9444777558836455,
          6.3461274682857605,
          6.359400843323733,
          6.359400843323733,
          5.244916589820922,
          5.5389471388695215,
          5.897977704014518,
          5.447254479322408,
          5.913043440594971,
          4.965568190726947,
          6.166131884965077,
          5.6677061460735105,
          6.057977679916096,
          5.960778509775617,
          5.630889149135876,
          5.6442093831213,
          6.093118200834482,
          6.093118200834482,
          5.770942556498723,
          6.3192923854889935,
          5.264967386866482,
          5.707442435487688
         ],
         "xaxis": "x",
         "y": [
          52.1,
          52.1,
          52.1,
          52.1,
          43.2,
          46.4,
          45.0,
          42.3,
          45.2,
          36.4,
          35.6,
          38.5,
          35.3,
          45.2,
          44.8,
          42.6,
          49.2,
          42.1,
          42.0,
          47.8,
          48.0,
          44.3,
          45.3,
          45.9,
          44.4,
          36.5,
          44.2,
          48.0,
          43.0,
          43.9,
          44.2,
          37.8,
          46.8,
          37.3,
          44.1,
          49.1,
          48.6,
          46.3,
          50.3,
          48.5,
          48.0,
          42.4,
          47.0,
          45.9,
          42.6,
          47.7,
          39.3,
          40.3,
          43.1,
          48.2,
          47.150000000000006,
          43.5,
          34.9,
          40.05,
          44.7
         ],
         "yaxis": "y"
        },
        {
         "hovertemplate": "<b>OLS trendline</b><br>y = -2.07679 * x + 56.6023<br>R<sup>2</sup>=0.033482<br><br>x=%{x}<br>Average Reading=%{y} <b>(trend)</b><extra></extra>",
         "legendgroup": "",
         "line": {
          "color": "darkgrey",
          "width": 3
         },
         "marker": {
          "color": "silver",
          "line": {
           "color": "black",
           "width": 1
          },
          "size": 9,
          "symbol": "circle"
         },
         "mode": "lines",
         "name": "",
         "showlegend": false,
         "type": "scatter",
         "x": [
          4.965568190726947,
          5.199104581476445,
          5.244916589820922,
          5.257391199935391,
          5.264967386866482,
          5.383301690453034,
          5.447254479322408,
          5.5389471388695215,
          5.55105855430119,
          5.55105855430119,
          5.55105855430119,
          5.597755070010671,
          5.6262172510385895,
          5.6262172510385895,
          5.6262172510385895,
          5.6262172510385895,
          5.630889149135876,
          5.641765216905675,
          5.6442093831213,
          5.6677061460735105,
          5.692013491056202,
          5.707442435487688,
          5.770942556498723,
          5.804230945953007,
          5.827650661869767,
          5.828298349353768,
          5.856331873116486,
          5.856331873116486,
          5.8700593342813,
          5.897977704014518,
          5.913043440594971,
          5.9444777558836455,
          5.960778509775617,
          5.965531165081478,
          6.02630066194344,
          6.057977679916096,
          6.058725920416785,
          6.058725920416785,
          6.093118200834482,
          6.093118200834482,
          6.166131884965077,
          6.2644263054030525,
          6.265225164218718,
          6.27668108261997,
          6.27668108261997,
          6.3192923854889935,
          6.3461274682857605,
          6.348229486996957,
          6.348229486996957,
          6.348229486996957,
          6.348229486996957,
          6.359400843323733,
          6.359400843323733,
          6.7707206142021965,
          6.7707206142021965
         ],
         "xaxis": "x",
         "y": [
          46.28985312005296,
          45.80484705425527,
          45.70970512857021,
          45.68379798170302,
          45.66806383164014,
          45.42230832070144,
          45.28949180149953,
          45.09906539332071,
          45.07391252557747,
          45.07391252557747,
          45.07391252557747,
          44.97693366374771,
          44.917823687781784,
          44.917823687781784,
          44.917823687781784,
          44.917823687781784,
          44.908121136035135,
          44.885533826094054,
          44.880457805879,
          44.83165996104694,
          44.78117870747354,
          44.74913602832572,
          44.6172596052535,
          44.548126607376176,
          44.49948877306507,
          44.498143662106244,
          44.43992391730773,
          44.43992391730773,
          44.411414861774375,
          44.353434267725035,
          44.32214589504882,
          44.2568634200552,
          44.22301017564516,
          44.21313990812672,
          44.086934418271646,
          44.021147900745135,
          44.019593962276076,
          44.019593962276076,
          43.94816841456736,
          43.94816841456736,
          43.79653431773164,
          43.59239743784972,
          43.59073837576492,
          43.56694683776924,
          43.56694683776924,
          43.47845210554917,
          43.422721271091866,
          43.418355819428946,
          43.418355819428946,
          43.418355819428946,
          43.418355819428946,
          43.3951552571342,
          43.3951552571342,
          42.54093042639869,
          42.54093042639869
         ],
         "yaxis": "y"
        },
        {
         "hovertemplate": "x=%{x}<br>Average Reading=%{y}<extra></extra>",
         "legendgroup": "",
         "marker": {
          "color": "silver",
          "line": {
           "color": "black",
           "width": 1
          },
          "size": 9,
          "symbol": "circle"
         },
         "mode": "markers",
         "name": "",
         "orientation": "v",
         "showlegend": false,
         "type": "scatter",
         "x": [
          9.154382531277449,
          8.19704026748692,
          8.338781580810606,
          8.15543678727053,
          8.359244976739065,
          8.825599525152619,
          7.82585237839166,
          9.154382531277449,
          8.199543886660042,
          8.201594381130246,
          8.01368737901246,
          8.196775783545888,
          8.049356811987114,
          7.95111204804048,
          8.298561944327606,
          8.057760690388115,
          7.832331590443065,
          9.153759438421217,
          8.338781580810606,
          8.43703464370017,
          7.82585237839166,
          7.962426129387264,
          8.048241808365246,
          8.14855555031565,
          7.778140282698684,
          8.71256258705945,
          8.139469701489732,
          8.084362025244884,
          9.00613755702901,
          8.185598241472004,
          7.935959409403014,
          8.126006657549572,
          8.049356811987114,
          8.130803976008389,
          9.154382531277449,
          8.50889283860034,
          8.825599525152619,
          9.032384073563037,
          7.962426129387264,
          8.629378366021161,
          7.962426129387264,
          8.243395615022516,
          7.743308728688397,
          8.825599525152619,
          7.95111204804048,
          8.825599525152619,
          8.507948591476415,
          8.102432008382811,
          8.124843696395448,
          8.102432008382811,
          8.024528324939421,
          8.139469701489732,
          8.21749521628587,
          9.154382531277449,
          8.381707891156841
         ],
         "xaxis": "x2",
         "y": [
          52.1,
          52.1,
          52.1,
          52.1,
          43.2,
          46.4,
          45.0,
          42.3,
          45.2,
          36.4,
          35.6,
          38.5,
          35.3,
          45.2,
          44.8,
          42.6,
          49.2,
          42.1,
          42.0,
          47.8,
          48.0,
          44.3,
          45.3,
          45.9,
          44.4,
          36.5,
          44.2,
          48.0,
          43.0,
          43.9,
          44.2,
          37.8,
          46.8,
          37.3,
          44.1,
          49.1,
          48.6,
          46.3,
          50.3,
          48.5,
          48.0,
          42.4,
          47.0,
          45.9,
          42.6,
          47.7,
          39.3,
          40.3,
          43.1,
          48.2,
          47.150000000000006,
          43.5,
          34.9,
          40.05,
          44.7
         ],
         "yaxis": "y2"
        },
        {
         "hovertemplate": "<b>OLS trendline</b><br>y = 0.119807 * x + 43.3911<br>R<sup>2</sup>=0.000121<br><br>x=%{x}<br>Average Reading=%{y} <b>(trend)</b><extra></extra>",
         "legendgroup": "",
         "line": {
          "color": "darkgrey",
          "width": 3
         },
         "marker": {
          "color": "silver",
          "line": {
           "color": "black",
           "width": 1
          },
          "size": 9,
          "symbol": "circle"
         },
         "mode": "lines",
         "name": "",
         "showlegend": false,
         "type": "scatter",
         "x": [
          7.743308728688397,
          7.778140282698684,
          7.82585237839166,
          7.82585237839166,
          7.832331590443065,
          7.935959409403014,
          7.95111204804048,
          7.95111204804048,
          7.962426129387264,
          7.962426129387264,
          7.962426129387264,
          8.01368737901246,
          8.024528324939421,
          8.048241808365246,
          8.049356811987114,
          8.049356811987114,
          8.057760690388115,
          8.084362025244884,
          8.102432008382811,
          8.102432008382811,
          8.124843696395448,
          8.126006657549572,
          8.130803976008389,
          8.139469701489732,
          8.139469701489732,
          8.14855555031565,
          8.15543678727053,
          8.185598241472004,
          8.196775783545888,
          8.19704026748692,
          8.199543886660042,
          8.201594381130246,
          8.21749521628587,
          8.243395615022516,
          8.298561944327606,
          8.338781580810606,
          8.338781580810606,
          8.359244976739065,
          8.381707891156841,
          8.43703464370017,
          8.507948591476415,
          8.50889283860034,
          8.629378366021161,
          8.71256258705945,
          8.825599525152619,
          8.825599525152619,
          8.825599525152619,
          8.825599525152619,
          9.00613755702901,
          9.032384073563037,
          9.153759438421217,
          9.154382531277449,
          9.154382531277449,
          9.154382531277449,
          9.154382531277449
         ],
         "xaxis": "x2",
         "y": [
          44.31884693486189,
          44.323020010044246,
          44.32873626842238,
          44.32873626842238,
          44.329512525462334,
          44.34192789686312,
          44.34374329390876,
          44.34374329390876,
          44.345098803687776,
          44.345098803687776,
          44.345098803687776,
          44.351240276691385,
          44.35253910138315,
          44.355380150310864,
          44.35551373590803,
          44.35551373590803,
          44.35652058206771,
          44.35970761673965,
          44.36187253301517,
          44.36187253301517,
          44.364557617321566,
          44.36469694858221,
          44.365271702456134,
          44.3663099198131,
          44.3663099198131,
          44.36739847102258,
          44.36822289358931,
          44.37183645662342,
          44.37317560799791,
          44.373207295110404,
          44.373507247017066,
          44.37375291126686,
          44.375657947733146,
          44.37876100512614,
          44.38537033526562,
          44.39018894217593,
          44.39018894217593,
          44.392640606826625,
          44.3953318284314,
          44.401960378449324,
          44.41045638857454,
          44.410569516293094,
          44.42500456458767,
          44.43497064328391,
          44.44851329604375,
          44.44851329604375,
          44.44851329604375,
          44.44851329604375,
          44.47014307403394,
          44.47328759887309,
          44.48782925620742,
          44.48790390729344,
          44.48790390729344,
          44.48790390729344,
          44.48790390729344
         ],
         "yaxis": "y2"
        },
        {
         "hovertemplate": "x=%{x}<br>Average Reading=%{y}<extra></extra>",
         "legendgroup": "",
         "marker": {
          "color": "silver",
          "line": {
           "color": "black",
           "width": 1
          },
          "size": 9,
          "symbol": "circle"
         },
         "mode": "markers",
         "name": "",
         "orientation": "v",
         "showlegend": false,
         "type": "scatter",
         "x": [
          14.840165529796247,
          14.840165529796247,
          14.840165529796247,
          14.840165529796247,
          13.149344101976103,
          13.349216838485221,
          13.349216838485221,
          12.828593478349813,
          13.672953412646724,
          14.242094420357457,
          14.242094420357457,
          14.242094420357457,
          14.242094420357457,
          13.867697802659155,
          13.867697802659155,
          13.481119753659117,
          12.948426570144767,
          12.534174231517603,
          12.882335586155875,
          13.289148195049155,
          13.289148195049155,
          13.24168833479927,
          13.24168833479927,
          15.697128098500173,
          12.39899201328578,
          11.804049108416807,
          15.51540105297581,
          13.075879551590766,
          12.808583705830674,
          12.808583705830674,
          12.808583705830674,
          12.579169508605608,
          12.437779427504871,
          12.79712619058583,
          13.95998918535819,
          13.676366874427726,
          13.676366874427726,
          11.999097675377548,
          13.4234349096251,
          13.077317893161114,
          12.788240778221821,
          13.079762718664965,
          12.420704071278008,
          13.393614193098312,
          12.452944442143036,
          13.359424034970125,
          13.487257848288236,
          12.951748232412799,
          13.060256031896207,
          13.479998660070178,
          13.479998660070178,
          12.740938962115939,
          13.29813352047631,
          12.678532630462616,
          12.428708067768667
         ],
         "xaxis": "x3",
         "y": [
          52.1,
          52.1,
          52.1,
          52.1,
          43.2,
          46.4,
          45.0,
          42.3,
          45.2,
          36.4,
          35.6,
          38.5,
          35.3,
          45.2,
          44.8,
          42.6,
          49.2,
          42.1,
          42.0,
          47.8,
          48.0,
          44.3,
          45.3,
          45.9,
          44.4,
          36.5,
          44.2,
          48.0,
          43.0,
          43.9,
          44.2,
          37.8,
          46.8,
          37.3,
          44.1,
          49.1,
          48.6,
          46.3,
          50.3,
          48.5,
          48.0,
          42.4,
          47.0,
          45.9,
          42.6,
          47.7,
          39.3,
          40.3,
          43.1,
          48.2,
          47.150000000000006,
          43.5,
          34.9,
          40.05,
          44.7
         ],
         "yaxis": "y3"
        },
        {
         "hovertemplate": "<b>OLS trendline</b><br>y = 1.23585 * x + 27.8725<br>R<sup>2</sup>=0.052927<br><br>x=%{x}<br>Average Reading=%{y} <b>(trend)</b><extra></extra>",
         "legendgroup": "",
         "line": {
          "color": "darkgrey",
          "width": 3
         },
         "marker": {
          "color": "silver",
          "line": {
           "color": "black",
           "width": 1
          },
          "size": 9,
          "symbol": "circle"
         },
         "mode": "lines",
         "name": "",
         "showlegend": false,
         "type": "scatter",
         "x": [
          11.804049108416807,
          11.999097675377548,
          12.39899201328578,
          12.420704071278008,
          12.428708067768667,
          12.437779427504871,
          12.452944442143036,
          12.534174231517603,
          12.579169508605608,
          12.678532630462616,
          12.740938962115939,
          12.788240778221821,
          12.79712619058583,
          12.808583705830674,
          12.808583705830674,
          12.808583705830674,
          12.828593478349813,
          12.882335586155875,
          12.948426570144767,
          12.951748232412799,
          13.060256031896207,
          13.075879551590766,
          13.077317893161114,
          13.079762718664965,
          13.149344101976103,
          13.24168833479927,
          13.24168833479927,
          13.289148195049155,
          13.289148195049155,
          13.29813352047631,
          13.349216838485221,
          13.349216838485221,
          13.359424034970125,
          13.393614193098312,
          13.4234349096251,
          13.479998660070178,
          13.479998660070178,
          13.481119753659117,
          13.487257848288236,
          13.672953412646724,
          13.676366874427726,
          13.676366874427726,
          13.867697802659155,
          13.867697802659155,
          13.95998918535819,
          14.242094420357457,
          14.242094420357457,
          14.242094420357457,
          14.242094420357457,
          14.840165529796247,
          14.840165529796247,
          14.840165529796247,
          14.840165529796247,
          15.51540105297581,
          15.697128098500173
         ],
         "xaxis": "x3",
         "y": [
          42.46062242650592,
          42.70167411422455,
          43.195885410231185,
          43.22271835909323,
          43.23261013575497,
          43.243821018297645,
          43.26256277287584,
          43.362950989651154,
          43.41855861420557,
          43.5413569951106,
          43.61848215323796,
          43.67694032487259,
          43.68792140348185,
          43.702081227518846,
          43.702081227518846,
          43.702081227518846,
          43.726810398882485,
          43.79322783526804,
          43.87490668829295,
          43.879011780210405,
          44.01311165391712,
          44.03242005412309,
          44.03419763530941,
          44.0372190843929,
          44.12321156381637,
          44.2373356177377,
          44.2373356177377,
          44.295989108970105,
          44.295989108970105,
          44.3070936656078,
          44.37022522413289,
          44.37022522413289,
          44.38283983585704,
          44.425093903387946,
          44.46194797599033,
          44.53185255268596,
          44.53185255268596,
          44.53323806146419,
          44.54082385454527,
          44.77031659006221,
          44.774535132838984,
          44.774535132838984,
          45.0109923592704,
          45.0109923592704,
          45.12505109811757,
          45.47369217798011,
          45.47369217798011,
          45.47369217798011,
          45.47369217798011,
          46.212821168017726,
          46.212821168017726,
          46.212821168017726,
          46.212821168017726,
          47.04731416125653,
          47.2719023841302
         ],
         "yaxis": "y3"
        },
        {
         "hovertemplate": "x=%{x}<br>Average Reading=%{y}<extra></extra>",
         "legendgroup": "",
         "marker": {
          "color": "silver",
          "line": {
           "color": "black",
           "width": 1
          },
          "size": 9,
          "symbol": "circle"
         },
         "mode": "markers",
         "name": "",
         "orientation": "v",
         "showlegend": false,
         "type": "scatter",
         "x": [
          14.786149692626108,
          14.786149692626108,
          14.786149692626108,
          14.786149692626108,
          13.143696205894289,
          13.343769420124339,
          13.343769420124339,
          12.82611135426948,
          13.668866135565612,
          14.22743343638334,
          14.22743343638334,
          14.22743343638334,
          14.22743343638334,
          13.8633335879435,
          13.8633335879435,
          13.47759568123805,
          10.64199043481687,
          12.526204967027263,
          12.878144288987892,
          13.285998084191045,
          13.285998084191045,
          13.239579141081272,
          13.239579141081272,
          13.389981508420364,
          12.396672343768355,
          11.79436811263199,
          13.200259166712415,
          13.073152124589516,
          12.805612196124944,
          12.805612196124944,
          12.805612196124944,
          12.577477568691409,
          12.435524259118797,
          15.095809757636852,
          13.955772375381084,
          13.672308555361052,
          13.672308555361052,
          11.997201753502683,
          13.404664498469552,
          13.068831790434164,
          12.786182698276098,
          13.077215372513052,
          12.41526330642615,
          13.391284559763262,
          12.44925409058089,
          13.35400194368733,
          13.483337267617854,
          12.950167185649116,
          13.058046698324656,
          13.477327859336611,
          13.477327859336611,
          12.738963041893577,
          13.286904460969737,
          12.675857500846638,
          12.424147372029946
         ],
         "xaxis": "x4",
         "y": [
          52.1,
          52.1,
          52.1,
          52.1,
          43.2,
          46.4,
          45.0,
          42.3,
          45.2,
          36.4,
          35.6,
          38.5,
          35.3,
          45.2,
          44.8,
          42.6,
          49.2,
          42.1,
          42.0,
          47.8,
          48.0,
          44.3,
          45.3,
          45.9,
          44.4,
          36.5,
          44.2,
          48.0,
          43.0,
          43.9,
          44.2,
          37.8,
          46.8,
          37.3,
          44.1,
          49.1,
          48.6,
          46.3,
          50.3,
          48.5,
          48.0,
          42.4,
          47.0,
          45.9,
          42.6,
          47.7,
          39.3,
          40.3,
          43.1,
          48.2,
          47.150000000000006,
          43.5,
          34.9,
          40.05,
          44.7
         ],
         "yaxis": "y4"
        },
        {
         "hovertemplate": "<b>OLS trendline</b><br>y = 0.38864 * x + 39.2298<br>R<sup>2</sup>=0.005058<br><br>x=%{x}<br>Average Reading=%{y} <b>(trend)</b><extra></extra>",
         "legendgroup": "",
         "line": {
          "color": "darkgrey",
          "width": 3
         },
         "marker": {
          "color": "silver",
          "line": {
           "color": "black",
           "width": 1
          },
          "size": 9,
          "symbol": "circle"
         },
         "mode": "lines",
         "name": "",
         "showlegend": false,
         "type": "scatter",
         "x": [
          10.64199043481687,
          11.79436811263199,
          11.997201753502683,
          12.396672343768355,
          12.41526330642615,
          12.424147372029946,
          12.435524259118797,
          12.44925409058089,
          12.526204967027263,
          12.577477568691409,
          12.675857500846638,
          12.738963041893577,
          12.786182698276098,
          12.805612196124944,
          12.805612196124944,
          12.805612196124944,
          12.82611135426948,
          12.878144288987892,
          12.950167185649116,
          13.058046698324656,
          13.068831790434164,
          13.073152124589516,
          13.077215372513052,
          13.143696205894289,
          13.200259166712415,
          13.239579141081272,
          13.239579141081272,
          13.285998084191045,
          13.285998084191045,
          13.286904460969737,
          13.343769420124339,
          13.343769420124339,
          13.35400194368733,
          13.389981508420364,
          13.391284559763262,
          13.404664498469552,
          13.477327859336611,
          13.477327859336611,
          13.47759568123805,
          13.483337267617854,
          13.668866135565612,
          13.672308555361052,
          13.672308555361052,
          13.8633335879435,
          13.8633335879435,
          13.955772375381084,
          14.22743343638334,
          14.22743343638334,
          14.22743343638334,
          14.22743343638334,
          14.786149692626108,
          14.786149692626108,
          14.786149692626108,
          14.786149692626108,
          15.095809757636852
         ],
         "xaxis": "x4",
         "y": [
          43.36572005510282,
          43.81358005719286,
          43.89240931306365,
          44.04765954294532,
          44.05488473372701,
          44.058337436531374,
          44.0627589493509,
          44.06809491035195,
          44.09800109505994,
          44.117927676362704,
          44.15616204819139,
          44.18068738245399,
          44.19903882730865,
          44.206589906364336,
          44.206589906364336,
          44.206589906364336,
          44.214556698142935,
          44.234778775245225,
          44.26276975014018,
          44.30469603845908,
          44.30888755610793,
          44.31056661055431,
          44.31214575102064,
          44.33798285872435,
          44.35996548493962,
          44.37524679777831,
          44.37524679777831,
          44.393287053467375,
          44.393287053467375,
          44.393639307692546,
          44.415739302525935,
          44.415739302525935,
          44.41971606996298,
          44.43369916617071,
          44.43420558397834,
          44.439405562676576,
          44.46764544754791,
          44.46764544754791,
          44.46774953383806,
          44.46998094367666,
          44.54208487347889,
          44.543422735333095,
          44.543422735333095,
          44.617662694279396,
          44.617662694279396,
          44.65358809992721,
          44.75916644085701,
          44.75916644085701,
          44.75916644085701,
          44.75916644085701,
          44.97630589826393,
          44.97630589826393,
          44.97630589826393,
          44.97630589826393,
          45.09665217017876
         ],
         "yaxis": "y4"
        },
        {
         "hovertemplate": "x=%{x}<br>Average Reading=%{y}<extra></extra>",
         "legendgroup": "",
         "marker": {
          "color": "silver",
          "line": {
           "color": "black",
           "width": 1
          },
          "size": 9,
          "symbol": "circle"
         },
         "mode": "markers",
         "name": "",
         "orientation": "v",
         "showlegend": false,
         "type": "scatter",
         "x": [
          8.626764827845529,
          8.626764827845529,
          8.626764827845529,
          8.626764827845529,
          6.054439346269371,
          5.4116460518550396,
          5.4116460518550396,
          4.890349128221754,
          6.226536669287466,
          8.052614818815567,
          8.052614818815567,
          8.052614818815567,
          8.052614818815567,
          7.02197642307216,
          7.02197642307216,
          6.063785208687608,
          5.921578419643816,
          6.040254711277414,
          5.10594547390058,
          5.476463551931511,
          5.476463551931511,
          5.117993812416755,
          5.117993812416755,
          6.152732694704104,
          4.7535901911063645,
          5.497168225293202,
          6.418364935936212,
          5.236441962829949,
          5.420534999272286,
          5.420534999272286,
          5.420534999272286,
          4.941642422609304,
          4.983606621708336,
          5.0689042022202315,
          6.416732282512326,
          6.336825731146441,
          6.336825731146441,
          4.31748811353631,
          6.429719478039138,
          5.976350909297934,
          4.844187086458591,
          5.288267030694535,
          4.564348191467836,
          5.5254529391317835,
          5.099866427824199,
          6.255750041753367,
          5.966146739123692,
          5.384495062789089,
          5.153291594497779,
          5.673323267171493,
          5.673323267171493,
          4.804021044733257,
          6.4692503167957724,
          5.017279836814924,
          5.420534999272286
         ],
         "xaxis": "x5",
         "y": [
          52.1,
          52.1,
          52.1,
          52.1,
          43.2,
          46.4,
          45.0,
          42.3,
          45.2,
          36.4,
          35.6,
          38.5,
          35.3,
          45.2,
          44.8,
          42.6,
          49.2,
          42.1,
          42.0,
          47.8,
          48.0,
          44.3,
          45.3,
          45.9,
          44.4,
          36.5,
          44.2,
          48.0,
          43.0,
          43.9,
          44.2,
          37.8,
          46.8,
          37.3,
          44.1,
          49.1,
          48.6,
          46.3,
          50.3,
          48.5,
          48.0,
          42.4,
          47.0,
          45.9,
          42.6,
          47.7,
          39.3,
          40.3,
          43.1,
          48.2,
          47.150000000000006,
          43.5,
          34.9,
          40.05,
          44.7
         ],
         "yaxis": "y5"
        },
        {
         "hovertemplate": "<b>OLS trendline</b><br>y = 0.402585 * x + 41.9766<br>R<sup>2</sup>=0.010795<br><br>x=%{x}<br>Average Reading=%{y} <b>(trend)</b><extra></extra>",
         "legendgroup": "",
         "line": {
          "color": "darkgrey",
          "width": 3
         },
         "marker": {
          "color": "silver",
          "line": {
           "color": "black",
           "width": 1
          },
          "size": 9,
          "symbol": "circle"
         },
         "mode": "lines",
         "name": "",
         "showlegend": false,
         "type": "scatter",
         "x": [
          4.31748811353631,
          4.564348191467836,
          4.7535901911063645,
          4.804021044733257,
          4.844187086458591,
          4.890349128221754,
          4.941642422609304,
          4.983606621708336,
          5.017279836814924,
          5.0689042022202315,
          5.099866427824199,
          5.10594547390058,
          5.117993812416755,
          5.117993812416755,
          5.153291594497779,
          5.236441962829949,
          5.288267030694535,
          5.384495062789089,
          5.4116460518550396,
          5.4116460518550396,
          5.420534999272286,
          5.420534999272286,
          5.420534999272286,
          5.420534999272286,
          5.476463551931511,
          5.476463551931511,
          5.497168225293202,
          5.5254529391317835,
          5.673323267171493,
          5.673323267171493,
          5.921578419643816,
          5.966146739123692,
          5.976350909297934,
          6.040254711277414,
          6.054439346269371,
          6.063785208687608,
          6.152732694704104,
          6.226536669287466,
          6.255750041753367,
          6.336825731146441,
          6.336825731146441,
          6.416732282512326,
          6.418364935936212,
          6.429719478039138,
          6.4692503167957724,
          7.02197642307216,
          7.02197642307216,
          8.052614818815567,
          8.052614818815567,
          8.052614818815567,
          8.052614818815567,
          8.626764827845529,
          8.626764827845529,
          8.626764827845529,
          8.626764827845529
         ],
         "xaxis": "x5",
         "y": [
          43.71471954091866,
          43.81410172335292,
          43.89028772754562,
          43.910590436422076,
          43.92676068525233,
          43.94534483419406,
          43.965994748846896,
          43.98288890899426,
          43.99644524274783,
          44.01722844165044,
          44.02969337149785,
          44.032140704704794,
          44.036991185942895,
          44.036991185942895,
          44.051201546110065,
          44.08467664319464,
          44.10554064191141,
          44.14428061121323,
          44.155211194121705,
          44.155211194121705,
          44.158789751664386,
          44.158789751664386,
          44.158789751664386,
          44.158789751664386,
          44.18130575210576,
          44.18130575210576,
          44.18964114453744,
          44.20102814811599,
          44.2605585348881,
          44.2605585348881,
          44.36050235350786,
          44.37844489364822,
          44.38255294024022,
          44.40827965700942,
          44.413990179319654,
          44.41775268402125,
          44.453561614150544,
          44.483273992627765,
          44.495034860307356,
          44.52767472262029,
          44.52767472262029,
          44.5598439074155,
          44.56050118931293,
          44.56507235847153,
          44.58098688406842,
          44.80350616377706,
          44.80350616377706,
          45.218425797311085,
          45.218425797311085,
          45.218425797311085,
          45.218425797311085,
          45.44957002046846,
          45.44957002046846,
          45.44957002046846,
          45.44957002046846
         ],
         "yaxis": "y5"
        },
        {
         "hovertemplate": "x=%{x}<br>Average Reading=%{y}<extra></extra>",
         "legendgroup": "",
         "marker": {
          "color": "silver",
          "line": {
           "color": "black",
           "width": 1
          },
          "size": 9,
          "symbol": "circle"
         },
         "mode": "markers",
         "name": "",
         "orientation": "v",
         "showlegend": false,
         "type": "scatter",
         "x": [
          11.855990208897635,
          11.855990208897635,
          11.855990208897635,
          11.855990208897635,
          7.81156848934518,
          8.066521490469993,
          8.066521490469993,
          6.675823221634848,
          8.017307507688582,
          9.860423463065102,
          9.860423463065102,
          9.860423463065102,
          9.860423463065102,
          8.15162164696975,
          8.15162164696975,
          7.644919344958857,
          7.130098510125578,
          7.487733761436444,
          7.301147805856032,
          7.390798521735676,
          7.390798521735676,
          6.92951677076365,
          6.92951677076365,
          7.8328075165248645,
          6.104793232414985,
          6.953684210870537,
          8.737452587550584,
          7.01571242048723,
          6.756932389247553,
          6.756932389247553,
          6.756932389247553,
          5.8664680569332965,
          6.049733455231958,
          7.173958319756794,
          8.355144739461839,
          7.993282328101591,
          7.993282328101591,
          5.459585514144159,
          9.388151773292252,
          8.20166019080868,
          6.415096959171596,
          6.930494765951626,
          7.1316985104669115,
          7.152268856032539,
          6.660575149839686,
          7.97522083865341,
          7.795646536334594,
          6.1092475827643655,
          6.763884908562435,
          7.388946097618437,
          7.388946097618437,
          6.317164686747284,
          8.70167907103957,
          6.56244409369372,
          6.816735880594968
         ],
         "xaxis": "x6",
         "y": [
          52.1,
          52.1,
          52.1,
          52.1,
          43.2,
          46.4,
          45.0,
          42.3,
          45.2,
          36.4,
          35.6,
          38.5,
          35.3,
          45.2,
          44.8,
          42.6,
          49.2,
          42.1,
          42.0,
          47.8,
          48.0,
          44.3,
          45.3,
          45.9,
          44.4,
          36.5,
          44.2,
          48.0,
          43.0,
          43.9,
          44.2,
          37.8,
          46.8,
          37.3,
          44.1,
          49.1,
          48.6,
          46.3,
          50.3,
          48.5,
          48.0,
          42.4,
          47.0,
          45.9,
          42.6,
          47.7,
          39.3,
          40.3,
          43.1,
          48.2,
          47.150000000000006,
          43.5,
          34.9,
          40.05,
          44.7
         ],
         "yaxis": "y6"
        },
        {
         "hovertemplate": "<b>OLS trendline</b><br>y = 0.680345 * x + 39.0742<br>R<sup>2</sup>=0.054872<br><br>x=%{x}<br>Average Reading=%{y} <b>(trend)</b><extra></extra>",
         "legendgroup": "",
         "line": {
          "color": "darkgrey",
          "width": 3
         },
         "marker": {
          "color": "silver",
          "line": {
           "color": "black",
           "width": 1
          },
          "size": 9,
          "symbol": "circle"
         },
         "mode": "lines",
         "name": "",
         "showlegend": false,
         "type": "scatter",
         "x": [
          5.459585514144159,
          5.8664680569332965,
          6.049733455231958,
          6.104793232414985,
          6.1092475827643655,
          6.317164686747284,
          6.415096959171596,
          6.56244409369372,
          6.660575149839686,
          6.675823221634848,
          6.756932389247553,
          6.756932389247553,
          6.756932389247553,
          6.763884908562435,
          6.816735880594968,
          6.92951677076365,
          6.92951677076365,
          6.930494765951626,
          6.953684210870537,
          7.01571242048723,
          7.130098510125578,
          7.1316985104669115,
          7.152268856032539,
          7.173958319756794,
          7.301147805856032,
          7.388946097618437,
          7.388946097618437,
          7.390798521735676,
          7.390798521735676,
          7.487733761436444,
          7.644919344958857,
          7.795646536334594,
          7.81156848934518,
          7.8328075165248645,
          7.97522083865341,
          7.993282328101591,
          7.993282328101591,
          8.017307507688582,
          8.066521490469993,
          8.066521490469993,
          8.15162164696975,
          8.15162164696975,
          8.20166019080868,
          8.355144739461839,
          8.70167907103957,
          8.737452587550584,
          9.388151773292252,
          9.860423463065102,
          9.860423463065102,
          9.860423463065102,
          9.860423463065102,
          11.855990208897635,
          11.855990208897635,
          11.855990208897635,
          11.855990208897635
         ],
         "xaxis": "x6",
         "y": [
          42.7885780870681,
          43.065398767866014,
          43.19008254509562,
          43.22754221318535,
          43.23057271011396,
          43.37202816278476,
          43.438655937323205,
          43.538902887739,
          43.605665903875135,
          43.616039859922154,
          43.67122211188998,
          43.67122211188998,
          43.67122211188998,
          43.67595222667154,
          43.71190914425908,
          43.78863910810436,
          43.78863910810436,
          43.78930448266651,
          43.80508131567039,
          43.84728192495941,
          43.92510397893706,
          43.92619253186619,
          43.94018747257977,
          43.954943800224434,
          44.041476586543986,
          44.10120975359499,
          44.10120975359499,
          44.102470041887884,
          44.102470041887884,
          44.168419489763764,
          44.27535998404995,
          44.37790654071805,
          44.38873896877409,
          44.40318884397165,
          44.50007909764553,
          44.51236714955112,
          44.51236714955112,
          44.52871257082177,
          44.56219507937311,
          44.56219507937311,
          44.62009258241363,
          44.62009258241363,
          44.6541360773168,
          44.75855858942282,
          44.9943216401785,
          45.0186599888509,
          45.46136020979649,
          45.7826680982803,
          45.7826680982803,
          45.7826680982803,
          45.7826680982803,
          47.14034282517393,
          47.14034282517393,
          47.14034282517393,
          47.14034282517393
         ],
         "yaxis": "y6"
        },
        {
         "hovertemplate": "x=%{x}<br>Average Reading=%{y}<extra></extra>",
         "legendgroup": "",
         "marker": {
          "color": "silver",
          "line": {
           "color": "black",
           "width": 1
          },
          "size": 9,
          "symbol": "circle"
         },
         "mode": "markers",
         "name": "",
         "orientation": "v",
         "showlegend": false,
         "type": "scatter",
         "x": [
          16.304075341946422,
          16.304075341946422,
          16.304075341946422,
          16.304075341946422,
          14.658934208998987,
          14.884319094393039,
          14.884319094393039,
          14.390322300321639,
          15.03954330941798,
          15.845808204169137,
          15.845808204169137,
          15.845808204169137,
          15.845808204169137,
          15.499552847894003,
          15.499552847894003,
          14.91082708824891,
          14.464167566124829,
          14.178327004210775,
          14.552196997934129,
          14.741030568716884,
          14.741030568716884,
          14.645229816077185,
          14.645229816077185,
          14.832387707604507,
          13.725333083263598,
          13.327616647722019,
          14.656443059514505,
          14.481717589615242,
          14.363163070432226,
          14.363163070432226,
          14.363163070432226,
          14.043522240675344,
          13.969049336332299,
          14.467347604049706,
          15.446763385410375,
          15.097855629400597,
          15.097855629400597,
          13.489321864001742,
          14.896711477996933,
          14.615242754175831,
          14.31478289883565,
          14.617352040934481,
          13.960324932671687,
          14.771082770376104,
          13.922801409324757,
          14.76917337224942,
          14.873678211458689,
          14.42213642325291,
          14.501612982397514,
          14.946102664070215,
          14.946102664070215,
          16.424346207111327,
          15.049291356781758,
          14.144845239880189,
          13.97457713494513
         ],
         "xaxis": "x7",
         "y": [
          52.1,
          52.1,
          52.1,
          52.1,
          43.2,
          46.4,
          45.0,
          42.3,
          45.2,
          36.4,
          35.6,
          38.5,
          35.3,
          45.2,
          44.8,
          42.6,
          49.2,
          42.1,
          42.0,
          47.8,
          48.0,
          44.3,
          45.3,
          45.9,
          44.4,
          36.5,
          44.2,
          48.0,
          43.0,
          43.9,
          44.2,
          37.8,
          46.8,
          37.3,
          44.1,
          49.1,
          48.6,
          46.3,
          50.3,
          48.5,
          48.0,
          42.4,
          47.0,
          45.9,
          42.6,
          47.7,
          39.3,
          40.3,
          43.1,
          48.2,
          47.150000000000006,
          43.5,
          34.9,
          40.05,
          44.7
         ],
         "yaxis": "y7"
        },
        {
         "hovertemplate": "<b>OLS trendline</b><br>y = 1.06839 * x + 28.5517<br>R<sup>2</sup>=0.031009<br><br>x=%{x}<br>Average Reading=%{y} <b>(trend)</b><extra></extra>",
         "legendgroup": "",
         "line": {
          "color": "darkgrey",
          "width": 3
         },
         "marker": {
          "color": "silver",
          "line": {
           "color": "black",
           "width": 1
          },
          "size": 9,
          "symbol": "circle"
         },
         "mode": "lines",
         "name": "",
         "showlegend": false,
         "type": "scatter",
         "x": [
          13.327616647722019,
          13.489321864001742,
          13.725333083263598,
          13.922801409324757,
          13.960324932671687,
          13.969049336332299,
          13.97457713494513,
          14.043522240675344,
          14.144845239880189,
          14.178327004210775,
          14.31478289883565,
          14.363163070432226,
          14.363163070432226,
          14.363163070432226,
          14.390322300321639,
          14.42213642325291,
          14.464167566124829,
          14.467347604049706,
          14.481717589615242,
          14.501612982397514,
          14.552196997934129,
          14.615242754175831,
          14.617352040934481,
          14.645229816077185,
          14.645229816077185,
          14.656443059514505,
          14.658934208998987,
          14.741030568716884,
          14.741030568716884,
          14.76917337224942,
          14.771082770376104,
          14.832387707604507,
          14.873678211458689,
          14.884319094393039,
          14.884319094393039,
          14.896711477996933,
          14.91082708824891,
          14.946102664070215,
          14.946102664070215,
          15.03954330941798,
          15.049291356781758,
          15.097855629400597,
          15.097855629400597,
          15.446763385410375,
          15.499552847894003,
          15.499552847894003,
          15.845808204169137,
          15.845808204169137,
          15.845808204169137,
          15.845808204169137,
          16.304075341946422,
          16.304075341946422,
          16.304075341946422,
          16.304075341946422,
          16.424346207111327
         ],
         "xaxis": "x7",
         "y": [
          42.7907142893214,
          42.96347786828259,
          43.215628935840854,
          43.42660131834451,
          43.466690922983084,
          43.47601195316001,
          43.48191777545876,
          43.555577756823894,
          43.66382982423668,
          43.699601270382736,
          43.84538882917716,
          43.897077524125145,
          43.897077524125145,
          43.897077524125145,
          43.92609406339008,
          43.96008382491769,
          44.004989306864665,
          44.00838681466172,
          44.023739505150246,
          44.04499546300356,
          44.09903871382373,
          44.166395913159775,
          44.16864944546914,
          44.19843366837756,
          44.19843366837756,
          44.21041373997057,
          44.21307524904596,
          44.300785845221256,
          44.300785845221256,
          44.330853220734184,
          44.33289319484026,
          44.39839052762419,
          44.44250472126046,
          44.45387329094139,
          44.45387329094139,
          44.467113139305745,
          44.482194058786625,
          44.51988198790242,
          44.51988198790242,
          44.61971265930636,
          44.630127336019925,
          44.68201272191102,
          44.68201272191102,
          45.054780861630746,
          45.11118038095319,
          45.11118038095319,
          45.481114734097964,
          45.481114734097964,
          45.481114734097964,
          45.481114734097964,
          45.970720899342204,
          45.970720899342204,
          45.970720899342204,
          45.970720899342204,
          46.099216600276826
         ],
         "yaxis": "y7"
        },
        {
         "hovertemplate": "x=%{x}<br>Average Reading=%{y}<extra></extra>",
         "legendgroup": "",
         "marker": {
          "color": "silver",
          "line": {
           "color": "black",
           "width": 1
          },
          "size": 9,
          "symbol": "circle"
         },
         "mode": "markers",
         "name": "",
         "orientation": "v",
         "showlegend": false,
         "type": "scatter",
         "x": [
          15.695859644216817,
          15.695859644216817,
          15.695859644216817,
          15.695859644216817,
          13.94408933159296,
          14.174752304843974,
          14.174752304843974,
          13.692291524005135,
          14.35130602418157,
          15.160684703016951,
          15.160684703016951,
          15.160684703016951,
          15.160684703016951,
          14.761367470693529,
          14.761367470693529,
          14.226739688796801,
          13.756021665962505,
          13.450413101178123,
          13.840780564806108,
          14.048948935241842,
          14.048948935241842,
          13.936599235073812,
          13.936599235073812,
          14.142144557449583,
          13.03742621138738,
          12.65649199863938,
          13.977363215552208,
          13.78867262080989,
          13.626503905629397,
          13.626503905629397,
          13.626503905629397,
          13.351568520097134,
          13.261399839290842,
          13.758653392862016,
          14.747330091456057,
          14.379329500257562,
          14.379329500257562,
          12.775717969102775,
          14.235167155500998,
          13.9134935263212,
          13.60505986047551,
          13.921047358083081,
          13.234040699962101,
          14.078050191669066,
          13.21444836185296,
          14.085454485608643,
          14.18280085910188,
          13.735346592939361,
          13.798138534356228,
          14.254648324887482,
          14.254648324887482,
          13.424523633307796,
          14.361876669615967,
          13.460665367576473,
          13.267102478368356
         ],
         "xaxis": "x8",
         "y": [
          52.1,
          52.1,
          52.1,
          52.1,
          43.2,
          46.4,
          45.0,
          42.3,
          45.2,
          36.4,
          35.6,
          38.5,
          35.3,
          45.2,
          44.8,
          42.6,
          49.2,
          42.1,
          42.0,
          47.8,
          48.0,
          44.3,
          45.3,
          45.9,
          44.4,
          36.5,
          44.2,
          48.0,
          43.0,
          43.9,
          44.2,
          37.8,
          46.8,
          37.3,
          44.1,
          49.1,
          48.6,
          46.3,
          50.3,
          48.5,
          48.0,
          42.4,
          47.0,
          45.9,
          42.6,
          47.7,
          39.3,
          40.3,
          43.1,
          48.2,
          47.150000000000006,
          43.5,
          34.9,
          40.05,
          44.7
         ],
         "yaxis": "y8"
        },
        {
         "hovertemplate": "<b>OLS trendline</b><br>y = 1.24696 * x + 26.8235<br>R<sup>2</sup>=0.040964<br><br>x=%{x}<br>Average Reading=%{y} <b>(trend)</b><extra></extra>",
         "legendgroup": "",
         "line": {
          "color": "darkgrey",
          "width": 3
         },
         "marker": {
          "color": "silver",
          "line": {
           "color": "black",
           "width": 1
          },
          "size": 9,
          "symbol": "circle"
         },
         "mode": "lines",
         "name": "",
         "showlegend": false,
         "type": "scatter",
         "x": [
          12.65649199863938,
          12.775717969102775,
          13.03742621138738,
          13.21444836185296,
          13.234040699962101,
          13.261399839290842,
          13.267102478368356,
          13.351568520097134,
          13.424523633307796,
          13.450413101178123,
          13.460665367576473,
          13.60505986047551,
          13.626503905629397,
          13.626503905629397,
          13.626503905629397,
          13.692291524005135,
          13.735346592939361,
          13.756021665962505,
          13.758653392862016,
          13.78867262080989,
          13.798138534356228,
          13.840780564806108,
          13.9134935263212,
          13.921047358083081,
          13.936599235073812,
          13.936599235073812,
          13.94408933159296,
          13.977363215552208,
          14.048948935241842,
          14.048948935241842,
          14.078050191669066,
          14.085454485608643,
          14.142144557449583,
          14.174752304843974,
          14.174752304843974,
          14.18280085910188,
          14.226739688796801,
          14.235167155500998,
          14.254648324887482,
          14.254648324887482,
          14.35130602418157,
          14.361876669615967,
          14.379329500257562,
          14.379329500257562,
          14.747330091456057,
          14.761367470693529,
          14.761367470693529,
          15.160684703016951,
          15.160684703016951,
          15.160684703016951,
          15.160684703016951,
          15.695859644216817,
          15.695859644216817,
          15.695859644216817,
          15.695859644216817
         ],
         "xaxis": "x8",
         "y": [
          42.605584839338064,
          42.75425455261464,
          43.08059359763431,
          43.30133268871514,
          43.325763500876135,
          43.359879183757045,
          43.36699013209555,
          43.472315692932824,
          43.563287615584684,
          43.595570680677,
          43.60835482074274,
          43.78840861082371,
          43.8151484228976,
          43.8151484228976,
          43.8151484228976,
          43.89718278439665,
          43.95087062378832,
          43.97665156032737,
          43.979933211816984,
          44.01736591204537,
          44.02916950355622,
          44.08234230152863,
          44.17301227131729,
          44.18243157818318,
          44.20182410721136,
          44.20182410721136,
          44.21116393894087,
          44.25265505676187,
          44.341919403947216,
          44.341919403947216,
          44.37820743274,
          44.38744027230284,
          44.45813038028405,
          44.498790854146215,
          44.498790854146215,
          44.508827058919074,
          44.56361691038401,
          44.5741256028584,
          44.598417792351384,
          44.598417792351384,
          44.71894583153758,
          44.73212697671738,
          44.75388991408133,
          44.75388991408133,
          45.21277099650361,
          45.23027501126044,
          45.23027501126044,
          45.72820661295073,
          45.72820661295073,
          45.72820661295073,
          45.72820661295073,
          46.39554699820194,
          46.39554699820194,
          46.39554699820194,
          46.39554699820194
         ],
         "yaxis": "y8"
        },
        {
         "hovertemplate": "x=%{x}<br>Average Reading=%{y}<extra></extra>",
         "legendgroup": "",
         "marker": {
          "color": "silver",
          "line": {
           "color": "black",
           "width": 1
          },
          "size": 9,
          "symbol": "circle"
         },
         "mode": "markers",
         "name": "",
         "orientation": "v",
         "showlegend": false,
         "type": "scatter",
         "x": [
          15.518108339941813,
          15.518108339941813,
          15.518108339941813,
          15.518108339941813,
          13.987024758430286,
          14.207326944596035,
          14.207326944596035,
          13.702036102033249,
          14.341462598458662,
          17.447158039650542,
          17.447158039650542,
          17.447158039650542,
          17.447158039650542,
          14.84950289995762,
          14.84950289995762,
          14.20853797095874,
          13.78579849397875,
          13.518779668173876,
          13.876992224177922,
          14.046817497966423,
          14.046817497966423,
          13.967330810167518,
          13.967330810167518,
          14.136328764234213,
          13.026920188754719,
          12.611954333523554,
          13.949028700501014,
          13.788469214263197,
          13.711714373657445,
          13.711714373657445,
          13.711714373657445,
          13.349181768217152,
          13.290198849012878,
          13.789510465995141,
          14.759863438672214,
          14.429459757302146,
          14.429459757302146,
          12.81622401228777,
          14.170930714987076,
          13.930625147594384,
          13.637942485441354,
          13.92735331840296,
          13.299253544201077,
          14.077821744100058,
          13.244634106064096,
          14.06650893630666,
          14.17825673461553,
          13.722592315196335,
          13.818688502943687,
          14.25126041834072,
          14.25126041834072,
          13.432694023602208,
          14.350379217537654,
          13.442651062164998,
          13.295556731971411
         ],
         "xaxis": "x9",
         "y": [
          52.1,
          52.1,
          52.1,
          52.1,
          43.2,
          46.4,
          45.0,
          42.3,
          45.2,
          36.4,
          35.6,
          38.5,
          35.3,
          45.2,
          44.8,
          42.6,
          49.2,
          42.1,
          42.0,
          47.8,
          48.0,
          44.3,
          45.3,
          45.9,
          44.4,
          36.5,
          44.2,
          48.0,
          43.0,
          43.9,
          44.2,
          37.8,
          46.8,
          37.3,
          44.1,
          49.1,
          48.6,
          46.3,
          50.3,
          48.5,
          48.0,
          42.4,
          47.0,
          45.9,
          42.6,
          47.7,
          39.3,
          40.3,
          43.1,
          48.2,
          47.150000000000006,
          43.5,
          34.9,
          40.05,
          44.7
         ],
         "yaxis": "y9"
        },
        {
         "hovertemplate": "<b>OLS trendline</b><br>y = -0.6589 * x + 53.78<br>R<sup>2</sup>=0.026377<br><br>x=%{x}<br>Average Reading=%{y} <b>(trend)</b><extra></extra>",
         "legendgroup": "",
         "line": {
          "color": "darkgrey",
          "width": 3
         },
         "marker": {
          "color": "silver",
          "line": {
           "color": "black",
           "width": 1
          },
          "size": 9,
          "symbol": "circle"
         },
         "mode": "lines",
         "name": "",
         "showlegend": false,
         "type": "scatter",
         "x": [
          12.611954333523554,
          12.81622401228777,
          13.026920188754719,
          13.244634106064096,
          13.290198849012878,
          13.295556731971411,
          13.299253544201077,
          13.349181768217152,
          13.432694023602208,
          13.442651062164998,
          13.518779668173876,
          13.637942485441354,
          13.702036102033249,
          13.711714373657445,
          13.711714373657445,
          13.711714373657445,
          13.722592315196335,
          13.78579849397875,
          13.788469214263197,
          13.789510465995141,
          13.818688502943687,
          13.876992224177922,
          13.92735331840296,
          13.930625147594384,
          13.949028700501014,
          13.967330810167518,
          13.967330810167518,
          13.987024758430286,
          14.046817497966423,
          14.046817497966423,
          14.06650893630666,
          14.077821744100058,
          14.136328764234213,
          14.170930714987076,
          14.17825673461553,
          14.207326944596035,
          14.207326944596035,
          14.20853797095874,
          14.25126041834072,
          14.25126041834072,
          14.341462598458662,
          14.350379217537654,
          14.429459757302146,
          14.429459757302146,
          14.759863438672214,
          14.84950289995762,
          14.84950289995762,
          15.518108339941813,
          15.518108339941813,
          15.518108339941813,
          15.518108339941813,
          17.447158039650542,
          17.447158039650542,
          17.447158039650542,
          17.447158039650542
         ],
         "xaxis": "x9",
         "y": [
          45.46998062711462,
          45.33538738287664,
          45.19655972078412,
          45.05310807086866,
          45.02308547224586,
          45.01955516439989,
          45.01711933567416,
          44.98422164038223,
          44.929195434564974,
          44.92263474415181,
          44.87247362320602,
          44.79395727038461,
          44.751726001190676,
          44.74534899024908,
          44.74534899024908,
          44.74534899024908,
          44.7381815170773,
          44.69653498045142,
          44.6947752434718,
          44.69408916294571,
          44.67486376112808,
          44.6364474526503,
          44.603264539277504,
          44.60110873177768,
          44.58898263501093,
          44.5769233791717,
          44.5769233791717,
          44.563947041202326,
          44.52454961890876,
          44.52454961890876,
          44.51157493472675,
          44.50412092828015,
          44.46557066620409,
          44.44277144883142,
          44.43794433618744,
          44.41878998153419,
          44.41878998153419,
          44.41799203654304,
          44.38984222581384,
          44.38984222581384,
          44.33040803013262,
          44.32453287187743,
          44.27242672246071,
          44.27242672246071,
          44.05472381298925,
          43.99566039261704,
          43.99566039261704,
          43.555116422376074,
          43.555116422376074,
          43.555116422376074,
          43.555116422376074,
          42.284066020031275,
          42.284066020031275,
          42.284066020031275,
          42.284066020031275
         ],
         "yaxis": "y9"
        }
       ],
       "layout": {
        "annotations": [
         {
          "font": {
           "size": 16
          },
          "showarrow": false,
          "text": "Total Highways",
          "x": 0.15,
          "xanchor": "center",
          "xref": "paper",
          "y": 1.0,
          "yanchor": "bottom",
          "yref": "paper"
         },
         {
          "font": {
           "size": 16
          },
          "showarrow": false,
          "text": "Per Capita Income",
          "x": 0.49999999999999994,
          "xanchor": "center",
          "xref": "paper",
          "y": 1.0,
          "yanchor": "bottom",
          "yref": "paper"
         },
         {
          "font": {
           "size": 16
          },
          "showarrow": false,
          "text": "Households Total",
          "x": 0.85,
          "xanchor": "center",
          "xref": "paper",
          "y": 1.0,
          "yanchor": "bottom",
          "yref": "paper"
         },
         {
          "font": {
           "size": 16
          },
          "showarrow": false,
          "text": "Households General",
          "x": 0.15,
          "xanchor": "center",
          "xref": "paper",
          "y": 0.6333333333333333,
          "yanchor": "bottom",
          "yref": "paper"
         },
         {
          "font": {
           "size": 16
          },
          "showarrow": false,
          "text": "Households Institutional",
          "x": 0.49999999999999994,
          "xanchor": "center",
          "xref": "paper",
          "y": 0.6333333333333333,
          "yanchor": "bottom",
          "yref": "paper"
         },
         {
          "font": {
           "size": 16
          },
          "showarrow": false,
          "text": "Households Others",
          "x": 0.85,
          "xanchor": "center",
          "xref": "paper",
          "y": 0.6333333333333333,
          "yanchor": "bottom",
          "yref": "paper"
         },
         {
          "font": {
           "size": 16
          },
          "showarrow": false,
          "text": "Population",
          "x": 0.15,
          "xanchor": "center",
          "xref": "paper",
          "y": 0.26666666666666666,
          "yanchor": "bottom",
          "yref": "paper"
         },
         {
          "font": {
           "size": 16
          },
          "showarrow": false,
          "text": "Male",
          "x": 0.49999999999999994,
          "xanchor": "center",
          "xref": "paper",
          "y": 0.26666666666666666,
          "yanchor": "bottom",
          "yref": "paper"
         },
         {
          "font": {
           "size": 16
          },
          "showarrow": false,
          "text": "Female",
          "x": 0.85,
          "xanchor": "center",
          "xref": "paper",
          "y": 0.26666666666666666,
          "yanchor": "bottom",
          "yref": "paper"
         }
        ],
        "font": {
         "size": 15
        },
        "height": 1200,
        "showlegend": false,
        "template": {
         "data": {
          "bar": [
           {
            "error_x": {
             "color": "#2a3f5f"
            },
            "error_y": {
             "color": "#2a3f5f"
            },
            "marker": {
             "line": {
              "color": "white",
              "width": 0.5
             }
            },
            "type": "bar"
           }
          ],
          "barpolar": [
           {
            "marker": {
             "line": {
              "color": "white",
              "width": 0.5
             }
            },
            "type": "barpolar"
           }
          ],
          "carpet": [
           {
            "aaxis": {
             "endlinecolor": "#2a3f5f",
             "gridcolor": "#C8D4E3",
             "linecolor": "#C8D4E3",
             "minorgridcolor": "#C8D4E3",
             "startlinecolor": "#2a3f5f"
            },
            "baxis": {
             "endlinecolor": "#2a3f5f",
             "gridcolor": "#C8D4E3",
             "linecolor": "#C8D4E3",
             "minorgridcolor": "#C8D4E3",
             "startlinecolor": "#2a3f5f"
            },
            "type": "carpet"
           }
          ],
          "choropleth": [
           {
            "colorbar": {
             "outlinewidth": 0,
             "ticks": ""
            },
            "type": "choropleth"
           }
          ],
          "contour": [
           {
            "colorbar": {
             "outlinewidth": 0,
             "ticks": ""
            },
            "colorscale": [
             [
              0.0,
              "#0d0887"
             ],
             [
              0.1111111111111111,
              "#46039f"
             ],
             [
              0.2222222222222222,
              "#7201a8"
             ],
             [
              0.3333333333333333,
              "#9c179e"
             ],
             [
              0.4444444444444444,
              "#bd3786"
             ],
             [
              0.5555555555555556,
              "#d8576b"
             ],
             [
              0.6666666666666666,
              "#ed7953"
             ],
             [
              0.7777777777777778,
              "#fb9f3a"
             ],
             [
              0.8888888888888888,
              "#fdca26"
             ],
             [
              1.0,
              "#f0f921"
             ]
            ],
            "type": "contour"
           }
          ],
          "contourcarpet": [
           {
            "colorbar": {
             "outlinewidth": 0,
             "ticks": ""
            },
            "type": "contourcarpet"
           }
          ],
          "heatmap": [
           {
            "colorbar": {
             "outlinewidth": 0,
             "ticks": ""
            },
            "colorscale": [
             [
              0.0,
              "#0d0887"
             ],
             [
              0.1111111111111111,
              "#46039f"
             ],
             [
              0.2222222222222222,
              "#7201a8"
             ],
             [
              0.3333333333333333,
              "#9c179e"
             ],
             [
              0.4444444444444444,
              "#bd3786"
             ],
             [
              0.5555555555555556,
              "#d8576b"
             ],
             [
              0.6666666666666666,
              "#ed7953"
             ],
             [
              0.7777777777777778,
              "#fb9f3a"
             ],
             [
              0.8888888888888888,
              "#fdca26"
             ],
             [
              1.0,
              "#f0f921"
             ]
            ],
            "type": "heatmap"
           }
          ],
          "heatmapgl": [
           {
            "colorbar": {
             "outlinewidth": 0,
             "ticks": ""
            },
            "colorscale": [
             [
              0.0,
              "#0d0887"
             ],
             [
              0.1111111111111111,
              "#46039f"
             ],
             [
              0.2222222222222222,
              "#7201a8"
             ],
             [
              0.3333333333333333,
              "#9c179e"
             ],
             [
              0.4444444444444444,
              "#bd3786"
             ],
             [
              0.5555555555555556,
              "#d8576b"
             ],
             [
              0.6666666666666666,
              "#ed7953"
             ],
             [
              0.7777777777777778,
              "#fb9f3a"
             ],
             [
              0.8888888888888888,
              "#fdca26"
             ],
             [
              1.0,
              "#f0f921"
             ]
            ],
            "type": "heatmapgl"
           }
          ],
          "histogram": [
           {
            "marker": {
             "colorbar": {
              "outlinewidth": 0,
              "ticks": ""
             }
            },
            "type": "histogram"
           }
          ],
          "histogram2d": [
           {
            "colorbar": {
             "outlinewidth": 0,
             "ticks": ""
            },
            "colorscale": [
             [
              0.0,
              "#0d0887"
             ],
             [
              0.1111111111111111,
              "#46039f"
             ],
             [
              0.2222222222222222,
              "#7201a8"
             ],
             [
              0.3333333333333333,
              "#9c179e"
             ],
             [
              0.4444444444444444,
              "#bd3786"
             ],
             [
              0.5555555555555556,
              "#d8576b"
             ],
             [
              0.6666666666666666,
              "#ed7953"
             ],
             [
              0.7777777777777778,
              "#fb9f3a"
             ],
             [
              0.8888888888888888,
              "#fdca26"
             ],
             [
              1.0,
              "#f0f921"
             ]
            ],
            "type": "histogram2d"
           }
          ],
          "histogram2dcontour": [
           {
            "colorbar": {
             "outlinewidth": 0,
             "ticks": ""
            },
            "colorscale": [
             [
              0.0,
              "#0d0887"
             ],
             [
              0.1111111111111111,
              "#46039f"
             ],
             [
              0.2222222222222222,
              "#7201a8"
             ],
             [
              0.3333333333333333,
              "#9c179e"
             ],
             [
              0.4444444444444444,
              "#bd3786"
             ],
             [
              0.5555555555555556,
              "#d8576b"
             ],
             [
              0.6666666666666666,
              "#ed7953"
             ],
             [
              0.7777777777777778,
              "#fb9f3a"
             ],
             [
              0.8888888888888888,
              "#fdca26"
             ],
             [
              1.0,
              "#f0f921"
             ]
            ],
            "type": "histogram2dcontour"
           }
          ],
          "mesh3d": [
           {
            "colorbar": {
             "outlinewidth": 0,
             "ticks": ""
            },
            "type": "mesh3d"
           }
          ],
          "parcoords": [
           {
            "line": {
             "colorbar": {
              "outlinewidth": 0,
              "ticks": ""
             }
            },
            "type": "parcoords"
           }
          ],
          "pie": [
           {
            "automargin": true,
            "type": "pie"
           }
          ],
          "scatter": [
           {
            "marker": {
             "colorbar": {
              "outlinewidth": 0,
              "ticks": ""
             }
            },
            "type": "scatter"
           }
          ],
          "scatter3d": [
           {
            "line": {
             "colorbar": {
              "outlinewidth": 0,
              "ticks": ""
             }
            },
            "marker": {
             "colorbar": {
              "outlinewidth": 0,
              "ticks": ""
             }
            },
            "type": "scatter3d"
           }
          ],
          "scattercarpet": [
           {
            "marker": {
             "colorbar": {
              "outlinewidth": 0,
              "ticks": ""
             }
            },
            "type": "scattercarpet"
           }
          ],
          "scattergeo": [
           {
            "marker": {
             "colorbar": {
              "outlinewidth": 0,
              "ticks": ""
             }
            },
            "type": "scattergeo"
           }
          ],
          "scattergl": [
           {
            "marker": {
             "colorbar": {
              "outlinewidth": 0,
              "ticks": ""
             }
            },
            "type": "scattergl"
           }
          ],
          "scattermapbox": [
           {
            "marker": {
             "colorbar": {
              "outlinewidth": 0,
              "ticks": ""
             }
            },
            "type": "scattermapbox"
           }
          ],
          "scatterpolar": [
           {
            "marker": {
             "colorbar": {
              "outlinewidth": 0,
              "ticks": ""
             }
            },
            "type": "scatterpolar"
           }
          ],
          "scatterpolargl": [
           {
            "marker": {
             "colorbar": {
              "outlinewidth": 0,
              "ticks": ""
             }
            },
            "type": "scatterpolargl"
           }
          ],
          "scatterternary": [
           {
            "marker": {
             "colorbar": {
              "outlinewidth": 0,
              "ticks": ""
             }
            },
            "type": "scatterternary"
           }
          ],
          "surface": [
           {
            "colorbar": {
             "outlinewidth": 0,
             "ticks": ""
            },
            "colorscale": [
             [
              0.0,
              "#0d0887"
             ],
             [
              0.1111111111111111,
              "#46039f"
             ],
             [
              0.2222222222222222,
              "#7201a8"
             ],
             [
              0.3333333333333333,
              "#9c179e"
             ],
             [
              0.4444444444444444,
              "#bd3786"
             ],
             [
              0.5555555555555556,
              "#d8576b"
             ],
             [
              0.6666666666666666,
              "#ed7953"
             ],
             [
              0.7777777777777778,
              "#fb9f3a"
             ],
             [
              0.8888888888888888,
              "#fdca26"
             ],
             [
              1.0,
              "#f0f921"
             ]
            ],
            "type": "surface"
           }
          ],
          "table": [
           {
            "cells": {
             "fill": {
              "color": "#EBF0F8"
             },
             "line": {
              "color": "white"
             }
            },
            "header": {
             "fill": {
              "color": "#C8D4E3"
             },
             "line": {
              "color": "white"
             }
            },
            "type": "table"
           }
          ]
         },
         "layout": {
          "annotationdefaults": {
           "arrowcolor": "#2a3f5f",
           "arrowhead": 0,
           "arrowwidth": 1
          },
          "coloraxis": {
           "colorbar": {
            "outlinewidth": 0,
            "ticks": ""
           }
          },
          "colorscale": {
           "diverging": [
            [
             0,
             "#8e0152"
            ],
            [
             0.1,
             "#c51b7d"
            ],
            [
             0.2,
             "#de77ae"
            ],
            [
             0.3,
             "#f1b6da"
            ],
            [
             0.4,
             "#fde0ef"
            ],
            [
             0.5,
             "#f7f7f7"
            ],
            [
             0.6,
             "#e6f5d0"
            ],
            [
             0.7,
             "#b8e186"
            ],
            [
             0.8,
             "#7fbc41"
            ],
            [
             0.9,
             "#4d9221"
            ],
            [
             1,
             "#276419"
            ]
           ],
           "sequential": [
            [
             0.0,
             "#0d0887"
            ],
            [
             0.1111111111111111,
             "#46039f"
            ],
            [
             0.2222222222222222,
             "#7201a8"
            ],
            [
             0.3333333333333333,
             "#9c179e"
            ],
            [
             0.4444444444444444,
             "#bd3786"
            ],
            [
             0.5555555555555556,
             "#d8576b"
            ],
            [
             0.6666666666666666,
             "#ed7953"
            ],
            [
             0.7777777777777778,
             "#fb9f3a"
            ],
            [
             0.8888888888888888,
             "#fdca26"
            ],
            [
             1.0,
             "#f0f921"
            ]
           ],
           "sequentialminus": [
            [
             0.0,
             "#0d0887"
            ],
            [
             0.1111111111111111,
             "#46039f"
            ],
            [
             0.2222222222222222,
             "#7201a8"
            ],
            [
             0.3333333333333333,
             "#9c179e"
            ],
            [
             0.4444444444444444,
             "#bd3786"
            ],
            [
             0.5555555555555556,
             "#d8576b"
            ],
            [
             0.6666666666666666,
             "#ed7953"
            ],
            [
             0.7777777777777778,
             "#fb9f3a"
            ],
            [
             0.8888888888888888,
             "#fdca26"
            ],
            [
             1.0,
             "#f0f921"
            ]
           ]
          },
          "colorway": [
           "#636efa",
           "#EF553B",
           "#00cc96",
           "#ab63fa",
           "#FFA15A",
           "#19d3f3",
           "#FF6692",
           "#B6E880",
           "#FF97FF",
           "#FECB52"
          ],
          "font": {
           "color": "#2a3f5f"
          },
          "geo": {
           "bgcolor": "white",
           "lakecolor": "white",
           "landcolor": "white",
           "showlakes": true,
           "showland": true,
           "subunitcolor": "#C8D4E3"
          },
          "hoverlabel": {
           "align": "left"
          },
          "hovermode": "closest",
          "mapbox": {
           "style": "light"
          },
          "paper_bgcolor": "white",
          "plot_bgcolor": "white",
          "polar": {
           "angularaxis": {
            "gridcolor": "#EBF0F8",
            "linecolor": "#EBF0F8",
            "ticks": ""
           },
           "bgcolor": "white",
           "radialaxis": {
            "gridcolor": "#EBF0F8",
            "linecolor": "#EBF0F8",
            "ticks": ""
           }
          },
          "scene": {
           "xaxis": {
            "backgroundcolor": "white",
            "gridcolor": "#DFE8F3",
            "gridwidth": 2,
            "linecolor": "#EBF0F8",
            "showbackground": true,
            "ticks": "",
            "zerolinecolor": "#EBF0F8"
           },
           "yaxis": {
            "backgroundcolor": "white",
            "gridcolor": "#DFE8F3",
            "gridwidth": 2,
            "linecolor": "#EBF0F8",
            "showbackground": true,
            "ticks": "",
            "zerolinecolor": "#EBF0F8"
           },
           "zaxis": {
            "backgroundcolor": "white",
            "gridcolor": "#DFE8F3",
            "gridwidth": 2,
            "linecolor": "#EBF0F8",
            "showbackground": true,
            "ticks": "",
            "zerolinecolor": "#EBF0F8"
           }
          },
          "shapedefaults": {
           "line": {
            "color": "#2a3f5f"
           }
          },
          "ternary": {
           "aaxis": {
            "gridcolor": "#DFE8F3",
            "linecolor": "#A2B1C6",
            "ticks": ""
           },
           "baxis": {
            "gridcolor": "#DFE8F3",
            "linecolor": "#A2B1C6",
            "ticks": ""
           },
           "bgcolor": "white",
           "caxis": {
            "gridcolor": "#DFE8F3",
            "linecolor": "#A2B1C6",
            "ticks": ""
           }
          },
          "title": {
           "x": 0.05
          },
          "xaxis": {
           "automargin": true,
           "gridcolor": "#EBF0F8",
           "linecolor": "#EBF0F8",
           "ticks": "",
           "title": {
            "standoff": 15
           },
           "zerolinecolor": "#EBF0F8",
           "zerolinewidth": 2
          },
          "yaxis": {
           "automargin": true,
           "gridcolor": "#EBF0F8",
           "linecolor": "#EBF0F8",
           "ticks": "",
           "title": {
            "standoff": 15
           },
           "zerolinecolor": "#EBF0F8",
           "zerolinewidth": 2
          }
         }
        },
        "title": {
         "text": "Scatter Plots with Regression Lines"
        },
        "width": 1200,
        "xaxis": {
         "anchor": "y",
         "domain": [
          0.0,
          0.3
         ]
        },
        "xaxis2": {
         "anchor": "y2",
         "domain": [
          0.35,
          0.6499999999999999
         ]
        },
        "xaxis3": {
         "anchor": "y3",
         "domain": [
          0.7,
          1.0
         ]
        },
        "xaxis4": {
         "anchor": "y4",
         "domain": [
          0.0,
          0.3
         ]
        },
        "xaxis5": {
         "anchor": "y5",
         "domain": [
          0.35,
          0.6499999999999999
         ]
        },
        "xaxis6": {
         "anchor": "y6",
         "domain": [
          0.7,
          1.0
         ]
        },
        "xaxis7": {
         "anchor": "y7",
         "domain": [
          0.0,
          0.3
         ]
        },
        "xaxis8": {
         "anchor": "y8",
         "domain": [
          0.35,
          0.6499999999999999
         ]
        },
        "xaxis9": {
         "anchor": "y9",
         "domain": [
          0.7,
          1.0
         ]
        },
        "yaxis": {
         "anchor": "x",
         "domain": [
          0.7333333333333334,
          1.0
         ]
        },
        "yaxis2": {
         "anchor": "x2",
         "domain": [
          0.7333333333333334,
          1.0
         ]
        },
        "yaxis3": {
         "anchor": "x3",
         "domain": [
          0.7333333333333334,
          1.0
         ]
        },
        "yaxis4": {
         "anchor": "x4",
         "domain": [
          0.3666666666666667,
          0.6333333333333333
         ]
        },
        "yaxis5": {
         "anchor": "x5",
         "domain": [
          0.3666666666666667,
          0.6333333333333333
         ]
        },
        "yaxis6": {
         "anchor": "x6",
         "domain": [
          0.3666666666666667,
          0.6333333333333333
         ]
        },
        "yaxis7": {
         "anchor": "x7",
         "domain": [
          0.0,
          0.26666666666666666
         ]
        },
        "yaxis8": {
         "anchor": "x8",
         "domain": [
          0.0,
          0.26666666666666666
         ]
        },
        "yaxis9": {
         "anchor": "x9",
         "domain": [
          0.0,
          0.26666666666666666
         ]
        }
       }
      },
      "text/html": "<div>\n        \n        \n            <div id=\"cb4595d7-4c9b-4b7a-b09f-402436f2d56b\" class=\"plotly-graph-div\" style=\"height:1200px; width:1200px;\"></div>\n            <script type=\"text/javascript\">\n                require([\"plotly\"], function(Plotly) {\n                    window.PLOTLYENV=window.PLOTLYENV || {};\n                    \n                if (document.getElementById(\"cb4595d7-4c9b-4b7a-b09f-402436f2d56b\")) {\n                    Plotly.newPlot(\n                        'cb4595d7-4c9b-4b7a-b09f-402436f2d56b',\n                        [{\"hovertemplate\": \"x=%{x}<br>Average Reading=%{y}<extra></extra>\", \"legendgroup\": \"\", \"marker\": {\"color\": \"silver\", \"line\": {\"color\": \"black\", \"width\": 1}, \"size\": 9, \"symbol\": \"circle\"}, \"mode\": \"markers\", \"name\": \"\", \"orientation\": \"v\", \"showlegend\": false, \"type\": \"scatter\", \"x\": [5.6262172510385895, 5.6262172510385895, 5.6262172510385895, 5.6262172510385895, 5.8700593342813, 6.058725920416785, 6.058725920416785, 5.641765216905675, 6.2644263054030525, 6.348229486996957, 6.348229486996957, 6.348229486996957, 6.348229486996957, 6.7707206142021965, 6.7707206142021965, 6.265225164218718, 5.804230945953007, 5.692013491056202, 5.828298349353768, 6.27668108261997, 6.27668108261997, 5.856331873116486, 5.856331873116486, 5.827650661869767, 5.257391199935391, 5.965531165081478, 6.02630066194344, 5.597755070010671, 5.55105855430119, 5.55105855430119, 5.55105855430119, 5.199104581476445, 5.383301690453034, 5.9444777558836455, 6.3461274682857605, 6.359400843323733, 6.359400843323733, 5.244916589820922, 5.5389471388695215, 5.897977704014518, 5.447254479322408, 5.913043440594971, 4.965568190726947, 6.166131884965077, 5.6677061460735105, 6.057977679916096, 5.960778509775617, 5.630889149135876, 5.6442093831213, 6.093118200834482, 6.093118200834482, 5.770942556498723, 6.3192923854889935, 5.264967386866482, 5.707442435487688], \"xaxis\": \"x\", \"y\": [52.1, 52.1, 52.1, 52.1, 43.2, 46.4, 45.0, 42.3, 45.2, 36.4, 35.6, 38.5, 35.3, 45.2, 44.8, 42.6, 49.2, 42.1, 42.0, 47.8, 48.0, 44.3, 45.3, 45.9, 44.4, 36.5, 44.2, 48.0, 43.0, 43.9, 44.2, 37.8, 46.8, 37.3, 44.1, 49.1, 48.6, 46.3, 50.3, 48.5, 48.0, 42.4, 47.0, 45.9, 42.6, 47.7, 39.3, 40.3, 43.1, 48.2, 47.150000000000006, 43.5, 34.9, 40.05, 44.7], \"yaxis\": \"y\"}, {\"hovertemplate\": \"<b>OLS trendline</b><br>y = -2.07679 * x + 56.6023<br>R<sup>2</sup>=0.033482<br><br>x=%{x}<br>Average Reading=%{y} <b>(trend)</b><extra></extra>\", \"legendgroup\": \"\", \"line\": {\"color\": \"darkgrey\", \"width\": 3}, \"marker\": {\"color\": \"silver\", \"line\": {\"color\": \"black\", \"width\": 1}, \"size\": 9, \"symbol\": \"circle\"}, \"mode\": \"lines\", \"name\": \"\", \"showlegend\": false, \"type\": \"scatter\", \"x\": [4.965568190726947, 5.199104581476445, 5.244916589820922, 5.257391199935391, 5.264967386866482, 5.383301690453034, 5.447254479322408, 5.5389471388695215, 5.55105855430119, 5.55105855430119, 5.55105855430119, 5.597755070010671, 5.6262172510385895, 5.6262172510385895, 5.6262172510385895, 5.6262172510385895, 5.630889149135876, 5.641765216905675, 5.6442093831213, 5.6677061460735105, 5.692013491056202, 5.707442435487688, 5.770942556498723, 5.804230945953007, 5.827650661869767, 5.828298349353768, 5.856331873116486, 5.856331873116486, 5.8700593342813, 5.897977704014518, 5.913043440594971, 5.9444777558836455, 5.960778509775617, 5.965531165081478, 6.02630066194344, 6.057977679916096, 6.058725920416785, 6.058725920416785, 6.093118200834482, 6.093118200834482, 6.166131884965077, 6.2644263054030525, 6.265225164218718, 6.27668108261997, 6.27668108261997, 6.3192923854889935, 6.3461274682857605, 6.348229486996957, 6.348229486996957, 6.348229486996957, 6.348229486996957, 6.359400843323733, 6.359400843323733, 6.7707206142021965, 6.7707206142021965], \"xaxis\": \"x\", \"y\": [46.28985312005296, 45.80484705425527, 45.70970512857021, 45.68379798170302, 45.66806383164014, 45.42230832070144, 45.28949180149953, 45.09906539332071, 45.07391252557747, 45.07391252557747, 45.07391252557747, 44.97693366374771, 44.917823687781784, 44.917823687781784, 44.917823687781784, 44.917823687781784, 44.908121136035135, 44.885533826094054, 44.880457805879, 44.83165996104694, 44.78117870747354, 44.74913602832572, 44.6172596052535, 44.548126607376176, 44.49948877306507, 44.498143662106244, 44.43992391730773, 44.43992391730773, 44.411414861774375, 44.353434267725035, 44.32214589504882, 44.2568634200552, 44.22301017564516, 44.21313990812672, 44.086934418271646, 44.021147900745135, 44.019593962276076, 44.019593962276076, 43.94816841456736, 43.94816841456736, 43.79653431773164, 43.59239743784972, 43.59073837576492, 43.56694683776924, 43.56694683776924, 43.47845210554917, 43.422721271091866, 43.418355819428946, 43.418355819428946, 43.418355819428946, 43.418355819428946, 43.3951552571342, 43.3951552571342, 42.54093042639869, 42.54093042639869], \"yaxis\": \"y\"}, {\"hovertemplate\": \"x=%{x}<br>Average Reading=%{y}<extra></extra>\", \"legendgroup\": \"\", \"marker\": {\"color\": \"silver\", \"line\": {\"color\": \"black\", \"width\": 1}, \"size\": 9, \"symbol\": \"circle\"}, \"mode\": \"markers\", \"name\": \"\", \"orientation\": \"v\", \"showlegend\": false, \"type\": \"scatter\", \"x\": [9.154382531277449, 8.19704026748692, 8.338781580810606, 8.15543678727053, 8.359244976739065, 8.825599525152619, 7.82585237839166, 9.154382531277449, 8.199543886660042, 8.201594381130246, 8.01368737901246, 8.196775783545888, 8.049356811987114, 7.95111204804048, 8.298561944327606, 8.057760690388115, 7.832331590443065, 9.153759438421217, 8.338781580810606, 8.43703464370017, 7.82585237839166, 7.962426129387264, 8.048241808365246, 8.14855555031565, 7.778140282698684, 8.71256258705945, 8.139469701489732, 8.084362025244884, 9.00613755702901, 8.185598241472004, 7.935959409403014, 8.126006657549572, 8.049356811987114, 8.130803976008389, 9.154382531277449, 8.50889283860034, 8.825599525152619, 9.032384073563037, 7.962426129387264, 8.629378366021161, 7.962426129387264, 8.243395615022516, 7.743308728688397, 8.825599525152619, 7.95111204804048, 8.825599525152619, 8.507948591476415, 8.102432008382811, 8.124843696395448, 8.102432008382811, 8.024528324939421, 8.139469701489732, 8.21749521628587, 9.154382531277449, 8.381707891156841], \"xaxis\": \"x2\", \"y\": [52.1, 52.1, 52.1, 52.1, 43.2, 46.4, 45.0, 42.3, 45.2, 36.4, 35.6, 38.5, 35.3, 45.2, 44.8, 42.6, 49.2, 42.1, 42.0, 47.8, 48.0, 44.3, 45.3, 45.9, 44.4, 36.5, 44.2, 48.0, 43.0, 43.9, 44.2, 37.8, 46.8, 37.3, 44.1, 49.1, 48.6, 46.3, 50.3, 48.5, 48.0, 42.4, 47.0, 45.9, 42.6, 47.7, 39.3, 40.3, 43.1, 48.2, 47.150000000000006, 43.5, 34.9, 40.05, 44.7], \"yaxis\": \"y2\"}, {\"hovertemplate\": \"<b>OLS trendline</b><br>y = 0.119807 * x + 43.3911<br>R<sup>2</sup>=0.000121<br><br>x=%{x}<br>Average Reading=%{y} <b>(trend)</b><extra></extra>\", \"legendgroup\": \"\", \"line\": {\"color\": \"darkgrey\", \"width\": 3}, \"marker\": {\"color\": \"silver\", \"line\": {\"color\": \"black\", \"width\": 1}, \"size\": 9, \"symbol\": \"circle\"}, \"mode\": \"lines\", \"name\": \"\", \"showlegend\": false, \"type\": \"scatter\", \"x\": [7.743308728688397, 7.778140282698684, 7.82585237839166, 7.82585237839166, 7.832331590443065, 7.935959409403014, 7.95111204804048, 7.95111204804048, 7.962426129387264, 7.962426129387264, 7.962426129387264, 8.01368737901246, 8.024528324939421, 8.048241808365246, 8.049356811987114, 8.049356811987114, 8.057760690388115, 8.084362025244884, 8.102432008382811, 8.102432008382811, 8.124843696395448, 8.126006657549572, 8.130803976008389, 8.139469701489732, 8.139469701489732, 8.14855555031565, 8.15543678727053, 8.185598241472004, 8.196775783545888, 8.19704026748692, 8.199543886660042, 8.201594381130246, 8.21749521628587, 8.243395615022516, 8.298561944327606, 8.338781580810606, 8.338781580810606, 8.359244976739065, 8.381707891156841, 8.43703464370017, 8.507948591476415, 8.50889283860034, 8.629378366021161, 8.71256258705945, 8.825599525152619, 8.825599525152619, 8.825599525152619, 8.825599525152619, 9.00613755702901, 9.032384073563037, 9.153759438421217, 9.154382531277449, 9.154382531277449, 9.154382531277449, 9.154382531277449], \"xaxis\": \"x2\", \"y\": [44.31884693486189, 44.323020010044246, 44.32873626842238, 44.32873626842238, 44.329512525462334, 44.34192789686312, 44.34374329390876, 44.34374329390876, 44.345098803687776, 44.345098803687776, 44.345098803687776, 44.351240276691385, 44.35253910138315, 44.355380150310864, 44.35551373590803, 44.35551373590803, 44.35652058206771, 44.35970761673965, 44.36187253301517, 44.36187253301517, 44.364557617321566, 44.36469694858221, 44.365271702456134, 44.3663099198131, 44.3663099198131, 44.36739847102258, 44.36822289358931, 44.37183645662342, 44.37317560799791, 44.373207295110404, 44.373507247017066, 44.37375291126686, 44.375657947733146, 44.37876100512614, 44.38537033526562, 44.39018894217593, 44.39018894217593, 44.392640606826625, 44.3953318284314, 44.401960378449324, 44.41045638857454, 44.410569516293094, 44.42500456458767, 44.43497064328391, 44.44851329604375, 44.44851329604375, 44.44851329604375, 44.44851329604375, 44.47014307403394, 44.47328759887309, 44.48782925620742, 44.48790390729344, 44.48790390729344, 44.48790390729344, 44.48790390729344], \"yaxis\": \"y2\"}, {\"hovertemplate\": \"x=%{x}<br>Average Reading=%{y}<extra></extra>\", \"legendgroup\": \"\", \"marker\": {\"color\": \"silver\", \"line\": {\"color\": \"black\", \"width\": 1}, \"size\": 9, \"symbol\": \"circle\"}, \"mode\": \"markers\", \"name\": \"\", \"orientation\": \"v\", \"showlegend\": false, \"type\": \"scatter\", \"x\": [14.840165529796247, 14.840165529796247, 14.840165529796247, 14.840165529796247, 13.149344101976103, 13.349216838485221, 13.349216838485221, 12.828593478349813, 13.672953412646724, 14.242094420357457, 14.242094420357457, 14.242094420357457, 14.242094420357457, 13.867697802659155, 13.867697802659155, 13.481119753659117, 12.948426570144767, 12.534174231517603, 12.882335586155875, 13.289148195049155, 13.289148195049155, 13.24168833479927, 13.24168833479927, 15.697128098500173, 12.39899201328578, 11.804049108416807, 15.51540105297581, 13.075879551590766, 12.808583705830674, 12.808583705830674, 12.808583705830674, 12.579169508605608, 12.437779427504871, 12.79712619058583, 13.95998918535819, 13.676366874427726, 13.676366874427726, 11.999097675377548, 13.4234349096251, 13.077317893161114, 12.788240778221821, 13.079762718664965, 12.420704071278008, 13.393614193098312, 12.452944442143036, 13.359424034970125, 13.487257848288236, 12.951748232412799, 13.060256031896207, 13.479998660070178, 13.479998660070178, 12.740938962115939, 13.29813352047631, 12.678532630462616, 12.428708067768667], \"xaxis\": \"x3\", \"y\": [52.1, 52.1, 52.1, 52.1, 43.2, 46.4, 45.0, 42.3, 45.2, 36.4, 35.6, 38.5, 35.3, 45.2, 44.8, 42.6, 49.2, 42.1, 42.0, 47.8, 48.0, 44.3, 45.3, 45.9, 44.4, 36.5, 44.2, 48.0, 43.0, 43.9, 44.2, 37.8, 46.8, 37.3, 44.1, 49.1, 48.6, 46.3, 50.3, 48.5, 48.0, 42.4, 47.0, 45.9, 42.6, 47.7, 39.3, 40.3, 43.1, 48.2, 47.150000000000006, 43.5, 34.9, 40.05, 44.7], \"yaxis\": \"y3\"}, {\"hovertemplate\": \"<b>OLS trendline</b><br>y = 1.23585 * x + 27.8725<br>R<sup>2</sup>=0.052927<br><br>x=%{x}<br>Average Reading=%{y} <b>(trend)</b><extra></extra>\", \"legendgroup\": \"\", \"line\": {\"color\": \"darkgrey\", \"width\": 3}, \"marker\": {\"color\": \"silver\", \"line\": {\"color\": \"black\", \"width\": 1}, \"size\": 9, \"symbol\": \"circle\"}, \"mode\": \"lines\", \"name\": \"\", \"showlegend\": false, \"type\": \"scatter\", \"x\": [11.804049108416807, 11.999097675377548, 12.39899201328578, 12.420704071278008, 12.428708067768667, 12.437779427504871, 12.452944442143036, 12.534174231517603, 12.579169508605608, 12.678532630462616, 12.740938962115939, 12.788240778221821, 12.79712619058583, 12.808583705830674, 12.808583705830674, 12.808583705830674, 12.828593478349813, 12.882335586155875, 12.948426570144767, 12.951748232412799, 13.060256031896207, 13.075879551590766, 13.077317893161114, 13.079762718664965, 13.149344101976103, 13.24168833479927, 13.24168833479927, 13.289148195049155, 13.289148195049155, 13.29813352047631, 13.349216838485221, 13.349216838485221, 13.359424034970125, 13.393614193098312, 13.4234349096251, 13.479998660070178, 13.479998660070178, 13.481119753659117, 13.487257848288236, 13.672953412646724, 13.676366874427726, 13.676366874427726, 13.867697802659155, 13.867697802659155, 13.95998918535819, 14.242094420357457, 14.242094420357457, 14.242094420357457, 14.242094420357457, 14.840165529796247, 14.840165529796247, 14.840165529796247, 14.840165529796247, 15.51540105297581, 15.697128098500173], \"xaxis\": \"x3\", \"y\": [42.46062242650592, 42.70167411422455, 43.195885410231185, 43.22271835909323, 43.23261013575497, 43.243821018297645, 43.26256277287584, 43.362950989651154, 43.41855861420557, 43.5413569951106, 43.61848215323796, 43.67694032487259, 43.68792140348185, 43.702081227518846, 43.702081227518846, 43.702081227518846, 43.726810398882485, 43.79322783526804, 43.87490668829295, 43.879011780210405, 44.01311165391712, 44.03242005412309, 44.03419763530941, 44.0372190843929, 44.12321156381637, 44.2373356177377, 44.2373356177377, 44.295989108970105, 44.295989108970105, 44.3070936656078, 44.37022522413289, 44.37022522413289, 44.38283983585704, 44.425093903387946, 44.46194797599033, 44.53185255268596, 44.53185255268596, 44.53323806146419, 44.54082385454527, 44.77031659006221, 44.774535132838984, 44.774535132838984, 45.0109923592704, 45.0109923592704, 45.12505109811757, 45.47369217798011, 45.47369217798011, 45.47369217798011, 45.47369217798011, 46.212821168017726, 46.212821168017726, 46.212821168017726, 46.212821168017726, 47.04731416125653, 47.2719023841302], \"yaxis\": \"y3\"}, {\"hovertemplate\": \"x=%{x}<br>Average Reading=%{y}<extra></extra>\", \"legendgroup\": \"\", \"marker\": {\"color\": \"silver\", \"line\": {\"color\": \"black\", \"width\": 1}, \"size\": 9, \"symbol\": \"circle\"}, \"mode\": \"markers\", \"name\": \"\", \"orientation\": \"v\", \"showlegend\": false, \"type\": \"scatter\", \"x\": [14.786149692626108, 14.786149692626108, 14.786149692626108, 14.786149692626108, 13.143696205894289, 13.343769420124339, 13.343769420124339, 12.82611135426948, 13.668866135565612, 14.22743343638334, 14.22743343638334, 14.22743343638334, 14.22743343638334, 13.8633335879435, 13.8633335879435, 13.47759568123805, 10.64199043481687, 12.526204967027263, 12.878144288987892, 13.285998084191045, 13.285998084191045, 13.239579141081272, 13.239579141081272, 13.389981508420364, 12.396672343768355, 11.79436811263199, 13.200259166712415, 13.073152124589516, 12.805612196124944, 12.805612196124944, 12.805612196124944, 12.577477568691409, 12.435524259118797, 15.095809757636852, 13.955772375381084, 13.672308555361052, 13.672308555361052, 11.997201753502683, 13.404664498469552, 13.068831790434164, 12.786182698276098, 13.077215372513052, 12.41526330642615, 13.391284559763262, 12.44925409058089, 13.35400194368733, 13.483337267617854, 12.950167185649116, 13.058046698324656, 13.477327859336611, 13.477327859336611, 12.738963041893577, 13.286904460969737, 12.675857500846638, 12.424147372029946], \"xaxis\": \"x4\", \"y\": [52.1, 52.1, 52.1, 52.1, 43.2, 46.4, 45.0, 42.3, 45.2, 36.4, 35.6, 38.5, 35.3, 45.2, 44.8, 42.6, 49.2, 42.1, 42.0, 47.8, 48.0, 44.3, 45.3, 45.9, 44.4, 36.5, 44.2, 48.0, 43.0, 43.9, 44.2, 37.8, 46.8, 37.3, 44.1, 49.1, 48.6, 46.3, 50.3, 48.5, 48.0, 42.4, 47.0, 45.9, 42.6, 47.7, 39.3, 40.3, 43.1, 48.2, 47.150000000000006, 43.5, 34.9, 40.05, 44.7], \"yaxis\": \"y4\"}, {\"hovertemplate\": \"<b>OLS trendline</b><br>y = 0.38864 * x + 39.2298<br>R<sup>2</sup>=0.005058<br><br>x=%{x}<br>Average Reading=%{y} <b>(trend)</b><extra></extra>\", \"legendgroup\": \"\", \"line\": {\"color\": \"darkgrey\", \"width\": 3}, \"marker\": {\"color\": \"silver\", \"line\": {\"color\": \"black\", \"width\": 1}, \"size\": 9, \"symbol\": \"circle\"}, \"mode\": \"lines\", \"name\": \"\", \"showlegend\": false, \"type\": \"scatter\", \"x\": [10.64199043481687, 11.79436811263199, 11.997201753502683, 12.396672343768355, 12.41526330642615, 12.424147372029946, 12.435524259118797, 12.44925409058089, 12.526204967027263, 12.577477568691409, 12.675857500846638, 12.738963041893577, 12.786182698276098, 12.805612196124944, 12.805612196124944, 12.805612196124944, 12.82611135426948, 12.878144288987892, 12.950167185649116, 13.058046698324656, 13.068831790434164, 13.073152124589516, 13.077215372513052, 13.143696205894289, 13.200259166712415, 13.239579141081272, 13.239579141081272, 13.285998084191045, 13.285998084191045, 13.286904460969737, 13.343769420124339, 13.343769420124339, 13.35400194368733, 13.389981508420364, 13.391284559763262, 13.404664498469552, 13.477327859336611, 13.477327859336611, 13.47759568123805, 13.483337267617854, 13.668866135565612, 13.672308555361052, 13.672308555361052, 13.8633335879435, 13.8633335879435, 13.955772375381084, 14.22743343638334, 14.22743343638334, 14.22743343638334, 14.22743343638334, 14.786149692626108, 14.786149692626108, 14.786149692626108, 14.786149692626108, 15.095809757636852], \"xaxis\": \"x4\", \"y\": [43.36572005510282, 43.81358005719286, 43.89240931306365, 44.04765954294532, 44.05488473372701, 44.058337436531374, 44.0627589493509, 44.06809491035195, 44.09800109505994, 44.117927676362704, 44.15616204819139, 44.18068738245399, 44.19903882730865, 44.206589906364336, 44.206589906364336, 44.206589906364336, 44.214556698142935, 44.234778775245225, 44.26276975014018, 44.30469603845908, 44.30888755610793, 44.31056661055431, 44.31214575102064, 44.33798285872435, 44.35996548493962, 44.37524679777831, 44.37524679777831, 44.393287053467375, 44.393287053467375, 44.393639307692546, 44.415739302525935, 44.415739302525935, 44.41971606996298, 44.43369916617071, 44.43420558397834, 44.439405562676576, 44.46764544754791, 44.46764544754791, 44.46774953383806, 44.46998094367666, 44.54208487347889, 44.543422735333095, 44.543422735333095, 44.617662694279396, 44.617662694279396, 44.65358809992721, 44.75916644085701, 44.75916644085701, 44.75916644085701, 44.75916644085701, 44.97630589826393, 44.97630589826393, 44.97630589826393, 44.97630589826393, 45.09665217017876], \"yaxis\": \"y4\"}, {\"hovertemplate\": \"x=%{x}<br>Average Reading=%{y}<extra></extra>\", \"legendgroup\": \"\", \"marker\": {\"color\": \"silver\", \"line\": {\"color\": \"black\", \"width\": 1}, \"size\": 9, \"symbol\": \"circle\"}, \"mode\": \"markers\", \"name\": \"\", \"orientation\": \"v\", \"showlegend\": false, \"type\": \"scatter\", \"x\": [8.626764827845529, 8.626764827845529, 8.626764827845529, 8.626764827845529, 6.054439346269371, 5.4116460518550396, 5.4116460518550396, 4.890349128221754, 6.226536669287466, 8.052614818815567, 8.052614818815567, 8.052614818815567, 8.052614818815567, 7.02197642307216, 7.02197642307216, 6.063785208687608, 5.921578419643816, 6.040254711277414, 5.10594547390058, 5.476463551931511, 5.476463551931511, 5.117993812416755, 5.117993812416755, 6.152732694704104, 4.7535901911063645, 5.497168225293202, 6.418364935936212, 5.236441962829949, 5.420534999272286, 5.420534999272286, 5.420534999272286, 4.941642422609304, 4.983606621708336, 5.0689042022202315, 6.416732282512326, 6.336825731146441, 6.336825731146441, 4.31748811353631, 6.429719478039138, 5.976350909297934, 4.844187086458591, 5.288267030694535, 4.564348191467836, 5.5254529391317835, 5.099866427824199, 6.255750041753367, 5.966146739123692, 5.384495062789089, 5.153291594497779, 5.673323267171493, 5.673323267171493, 4.804021044733257, 6.4692503167957724, 5.017279836814924, 5.420534999272286], \"xaxis\": \"x5\", \"y\": [52.1, 52.1, 52.1, 52.1, 43.2, 46.4, 45.0, 42.3, 45.2, 36.4, 35.6, 38.5, 35.3, 45.2, 44.8, 42.6, 49.2, 42.1, 42.0, 47.8, 48.0, 44.3, 45.3, 45.9, 44.4, 36.5, 44.2, 48.0, 43.0, 43.9, 44.2, 37.8, 46.8, 37.3, 44.1, 49.1, 48.6, 46.3, 50.3, 48.5, 48.0, 42.4, 47.0, 45.9, 42.6, 47.7, 39.3, 40.3, 43.1, 48.2, 47.150000000000006, 43.5, 34.9, 40.05, 44.7], \"yaxis\": \"y5\"}, {\"hovertemplate\": \"<b>OLS trendline</b><br>y = 0.402585 * x + 41.9766<br>R<sup>2</sup>=0.010795<br><br>x=%{x}<br>Average Reading=%{y} <b>(trend)</b><extra></extra>\", \"legendgroup\": \"\", \"line\": {\"color\": \"darkgrey\", \"width\": 3}, \"marker\": {\"color\": \"silver\", \"line\": {\"color\": \"black\", \"width\": 1}, \"size\": 9, \"symbol\": \"circle\"}, \"mode\": \"lines\", \"name\": \"\", \"showlegend\": false, \"type\": \"scatter\", \"x\": [4.31748811353631, 4.564348191467836, 4.7535901911063645, 4.804021044733257, 4.844187086458591, 4.890349128221754, 4.941642422609304, 4.983606621708336, 5.017279836814924, 5.0689042022202315, 5.099866427824199, 5.10594547390058, 5.117993812416755, 5.117993812416755, 5.153291594497779, 5.236441962829949, 5.288267030694535, 5.384495062789089, 5.4116460518550396, 5.4116460518550396, 5.420534999272286, 5.420534999272286, 5.420534999272286, 5.420534999272286, 5.476463551931511, 5.476463551931511, 5.497168225293202, 5.5254529391317835, 5.673323267171493, 5.673323267171493, 5.921578419643816, 5.966146739123692, 5.976350909297934, 6.040254711277414, 6.054439346269371, 6.063785208687608, 6.152732694704104, 6.226536669287466, 6.255750041753367, 6.336825731146441, 6.336825731146441, 6.416732282512326, 6.418364935936212, 6.429719478039138, 6.4692503167957724, 7.02197642307216, 7.02197642307216, 8.052614818815567, 8.052614818815567, 8.052614818815567, 8.052614818815567, 8.626764827845529, 8.626764827845529, 8.626764827845529, 8.626764827845529], \"xaxis\": \"x5\", \"y\": [43.71471954091866, 43.81410172335292, 43.89028772754562, 43.910590436422076, 43.92676068525233, 43.94534483419406, 43.965994748846896, 43.98288890899426, 43.99644524274783, 44.01722844165044, 44.02969337149785, 44.032140704704794, 44.036991185942895, 44.036991185942895, 44.051201546110065, 44.08467664319464, 44.10554064191141, 44.14428061121323, 44.155211194121705, 44.155211194121705, 44.158789751664386, 44.158789751664386, 44.158789751664386, 44.158789751664386, 44.18130575210576, 44.18130575210576, 44.18964114453744, 44.20102814811599, 44.2605585348881, 44.2605585348881, 44.36050235350786, 44.37844489364822, 44.38255294024022, 44.40827965700942, 44.413990179319654, 44.41775268402125, 44.453561614150544, 44.483273992627765, 44.495034860307356, 44.52767472262029, 44.52767472262029, 44.5598439074155, 44.56050118931293, 44.56507235847153, 44.58098688406842, 44.80350616377706, 44.80350616377706, 45.218425797311085, 45.218425797311085, 45.218425797311085, 45.218425797311085, 45.44957002046846, 45.44957002046846, 45.44957002046846, 45.44957002046846], \"yaxis\": \"y5\"}, {\"hovertemplate\": \"x=%{x}<br>Average Reading=%{y}<extra></extra>\", \"legendgroup\": \"\", \"marker\": {\"color\": \"silver\", \"line\": {\"color\": \"black\", \"width\": 1}, \"size\": 9, \"symbol\": \"circle\"}, \"mode\": \"markers\", \"name\": \"\", \"orientation\": \"v\", \"showlegend\": false, \"type\": \"scatter\", \"x\": [11.855990208897635, 11.855990208897635, 11.855990208897635, 11.855990208897635, 7.81156848934518, 8.066521490469993, 8.066521490469993, 6.675823221634848, 8.017307507688582, 9.860423463065102, 9.860423463065102, 9.860423463065102, 9.860423463065102, 8.15162164696975, 8.15162164696975, 7.644919344958857, 7.130098510125578, 7.487733761436444, 7.301147805856032, 7.390798521735676, 7.390798521735676, 6.92951677076365, 6.92951677076365, 7.8328075165248645, 6.104793232414985, 6.953684210870537, 8.737452587550584, 7.01571242048723, 6.756932389247553, 6.756932389247553, 6.756932389247553, 5.8664680569332965, 6.049733455231958, 7.173958319756794, 8.355144739461839, 7.993282328101591, 7.993282328101591, 5.459585514144159, 9.388151773292252, 8.20166019080868, 6.415096959171596, 6.930494765951626, 7.1316985104669115, 7.152268856032539, 6.660575149839686, 7.97522083865341, 7.795646536334594, 6.1092475827643655, 6.763884908562435, 7.388946097618437, 7.388946097618437, 6.317164686747284, 8.70167907103957, 6.56244409369372, 6.816735880594968], \"xaxis\": \"x6\", \"y\": [52.1, 52.1, 52.1, 52.1, 43.2, 46.4, 45.0, 42.3, 45.2, 36.4, 35.6, 38.5, 35.3, 45.2, 44.8, 42.6, 49.2, 42.1, 42.0, 47.8, 48.0, 44.3, 45.3, 45.9, 44.4, 36.5, 44.2, 48.0, 43.0, 43.9, 44.2, 37.8, 46.8, 37.3, 44.1, 49.1, 48.6, 46.3, 50.3, 48.5, 48.0, 42.4, 47.0, 45.9, 42.6, 47.7, 39.3, 40.3, 43.1, 48.2, 47.150000000000006, 43.5, 34.9, 40.05, 44.7], \"yaxis\": \"y6\"}, {\"hovertemplate\": \"<b>OLS trendline</b><br>y = 0.680345 * x + 39.0742<br>R<sup>2</sup>=0.054872<br><br>x=%{x}<br>Average Reading=%{y} <b>(trend)</b><extra></extra>\", \"legendgroup\": \"\", \"line\": {\"color\": \"darkgrey\", \"width\": 3}, \"marker\": {\"color\": \"silver\", \"line\": {\"color\": \"black\", \"width\": 1}, \"size\": 9, \"symbol\": \"circle\"}, \"mode\": \"lines\", \"name\": \"\", \"showlegend\": false, \"type\": \"scatter\", \"x\": [5.459585514144159, 5.8664680569332965, 6.049733455231958, 6.104793232414985, 6.1092475827643655, 6.317164686747284, 6.415096959171596, 6.56244409369372, 6.660575149839686, 6.675823221634848, 6.756932389247553, 6.756932389247553, 6.756932389247553, 6.763884908562435, 6.816735880594968, 6.92951677076365, 6.92951677076365, 6.930494765951626, 6.953684210870537, 7.01571242048723, 7.130098510125578, 7.1316985104669115, 7.152268856032539, 7.173958319756794, 7.301147805856032, 7.388946097618437, 7.388946097618437, 7.390798521735676, 7.390798521735676, 7.487733761436444, 7.644919344958857, 7.795646536334594, 7.81156848934518, 7.8328075165248645, 7.97522083865341, 7.993282328101591, 7.993282328101591, 8.017307507688582, 8.066521490469993, 8.066521490469993, 8.15162164696975, 8.15162164696975, 8.20166019080868, 8.355144739461839, 8.70167907103957, 8.737452587550584, 9.388151773292252, 9.860423463065102, 9.860423463065102, 9.860423463065102, 9.860423463065102, 11.855990208897635, 11.855990208897635, 11.855990208897635, 11.855990208897635], \"xaxis\": \"x6\", \"y\": [42.7885780870681, 43.065398767866014, 43.19008254509562, 43.22754221318535, 43.23057271011396, 43.37202816278476, 43.438655937323205, 43.538902887739, 43.605665903875135, 43.616039859922154, 43.67122211188998, 43.67122211188998, 43.67122211188998, 43.67595222667154, 43.71190914425908, 43.78863910810436, 43.78863910810436, 43.78930448266651, 43.80508131567039, 43.84728192495941, 43.92510397893706, 43.92619253186619, 43.94018747257977, 43.954943800224434, 44.041476586543986, 44.10120975359499, 44.10120975359499, 44.102470041887884, 44.102470041887884, 44.168419489763764, 44.27535998404995, 44.37790654071805, 44.38873896877409, 44.40318884397165, 44.50007909764553, 44.51236714955112, 44.51236714955112, 44.52871257082177, 44.56219507937311, 44.56219507937311, 44.62009258241363, 44.62009258241363, 44.6541360773168, 44.75855858942282, 44.9943216401785, 45.0186599888509, 45.46136020979649, 45.7826680982803, 45.7826680982803, 45.7826680982803, 45.7826680982803, 47.14034282517393, 47.14034282517393, 47.14034282517393, 47.14034282517393], \"yaxis\": \"y6\"}, {\"hovertemplate\": \"x=%{x}<br>Average Reading=%{y}<extra></extra>\", \"legendgroup\": \"\", \"marker\": {\"color\": \"silver\", \"line\": {\"color\": \"black\", \"width\": 1}, \"size\": 9, \"symbol\": \"circle\"}, \"mode\": \"markers\", \"name\": \"\", \"orientation\": \"v\", \"showlegend\": false, \"type\": \"scatter\", \"x\": [16.304075341946422, 16.304075341946422, 16.304075341946422, 16.304075341946422, 14.658934208998987, 14.884319094393039, 14.884319094393039, 14.390322300321639, 15.03954330941798, 15.845808204169137, 15.845808204169137, 15.845808204169137, 15.845808204169137, 15.499552847894003, 15.499552847894003, 14.91082708824891, 14.464167566124829, 14.178327004210775, 14.552196997934129, 14.741030568716884, 14.741030568716884, 14.645229816077185, 14.645229816077185, 14.832387707604507, 13.725333083263598, 13.327616647722019, 14.656443059514505, 14.481717589615242, 14.363163070432226, 14.363163070432226, 14.363163070432226, 14.043522240675344, 13.969049336332299, 14.467347604049706, 15.446763385410375, 15.097855629400597, 15.097855629400597, 13.489321864001742, 14.896711477996933, 14.615242754175831, 14.31478289883565, 14.617352040934481, 13.960324932671687, 14.771082770376104, 13.922801409324757, 14.76917337224942, 14.873678211458689, 14.42213642325291, 14.501612982397514, 14.946102664070215, 14.946102664070215, 16.424346207111327, 15.049291356781758, 14.144845239880189, 13.97457713494513], \"xaxis\": \"x7\", \"y\": [52.1, 52.1, 52.1, 52.1, 43.2, 46.4, 45.0, 42.3, 45.2, 36.4, 35.6, 38.5, 35.3, 45.2, 44.8, 42.6, 49.2, 42.1, 42.0, 47.8, 48.0, 44.3, 45.3, 45.9, 44.4, 36.5, 44.2, 48.0, 43.0, 43.9, 44.2, 37.8, 46.8, 37.3, 44.1, 49.1, 48.6, 46.3, 50.3, 48.5, 48.0, 42.4, 47.0, 45.9, 42.6, 47.7, 39.3, 40.3, 43.1, 48.2, 47.150000000000006, 43.5, 34.9, 40.05, 44.7], \"yaxis\": \"y7\"}, {\"hovertemplate\": \"<b>OLS trendline</b><br>y = 1.06839 * x + 28.5517<br>R<sup>2</sup>=0.031009<br><br>x=%{x}<br>Average Reading=%{y} <b>(trend)</b><extra></extra>\", \"legendgroup\": \"\", \"line\": {\"color\": \"darkgrey\", \"width\": 3}, \"marker\": {\"color\": \"silver\", \"line\": {\"color\": \"black\", \"width\": 1}, \"size\": 9, \"symbol\": \"circle\"}, \"mode\": \"lines\", \"name\": \"\", \"showlegend\": false, \"type\": \"scatter\", \"x\": [13.327616647722019, 13.489321864001742, 13.725333083263598, 13.922801409324757, 13.960324932671687, 13.969049336332299, 13.97457713494513, 14.043522240675344, 14.144845239880189, 14.178327004210775, 14.31478289883565, 14.363163070432226, 14.363163070432226, 14.363163070432226, 14.390322300321639, 14.42213642325291, 14.464167566124829, 14.467347604049706, 14.481717589615242, 14.501612982397514, 14.552196997934129, 14.615242754175831, 14.617352040934481, 14.645229816077185, 14.645229816077185, 14.656443059514505, 14.658934208998987, 14.741030568716884, 14.741030568716884, 14.76917337224942, 14.771082770376104, 14.832387707604507, 14.873678211458689, 14.884319094393039, 14.884319094393039, 14.896711477996933, 14.91082708824891, 14.946102664070215, 14.946102664070215, 15.03954330941798, 15.049291356781758, 15.097855629400597, 15.097855629400597, 15.446763385410375, 15.499552847894003, 15.499552847894003, 15.845808204169137, 15.845808204169137, 15.845808204169137, 15.845808204169137, 16.304075341946422, 16.304075341946422, 16.304075341946422, 16.304075341946422, 16.424346207111327], \"xaxis\": \"x7\", \"y\": [42.7907142893214, 42.96347786828259, 43.215628935840854, 43.42660131834451, 43.466690922983084, 43.47601195316001, 43.48191777545876, 43.555577756823894, 43.66382982423668, 43.699601270382736, 43.84538882917716, 43.897077524125145, 43.897077524125145, 43.897077524125145, 43.92609406339008, 43.96008382491769, 44.004989306864665, 44.00838681466172, 44.023739505150246, 44.04499546300356, 44.09903871382373, 44.166395913159775, 44.16864944546914, 44.19843366837756, 44.19843366837756, 44.21041373997057, 44.21307524904596, 44.300785845221256, 44.300785845221256, 44.330853220734184, 44.33289319484026, 44.39839052762419, 44.44250472126046, 44.45387329094139, 44.45387329094139, 44.467113139305745, 44.482194058786625, 44.51988198790242, 44.51988198790242, 44.61971265930636, 44.630127336019925, 44.68201272191102, 44.68201272191102, 45.054780861630746, 45.11118038095319, 45.11118038095319, 45.481114734097964, 45.481114734097964, 45.481114734097964, 45.481114734097964, 45.970720899342204, 45.970720899342204, 45.970720899342204, 45.970720899342204, 46.099216600276826], \"yaxis\": \"y7\"}, {\"hovertemplate\": \"x=%{x}<br>Average Reading=%{y}<extra></extra>\", \"legendgroup\": \"\", \"marker\": {\"color\": \"silver\", \"line\": {\"color\": \"black\", \"width\": 1}, \"size\": 9, \"symbol\": \"circle\"}, \"mode\": \"markers\", \"name\": \"\", \"orientation\": \"v\", \"showlegend\": false, \"type\": \"scatter\", \"x\": [15.695859644216817, 15.695859644216817, 15.695859644216817, 15.695859644216817, 13.94408933159296, 14.174752304843974, 14.174752304843974, 13.692291524005135, 14.35130602418157, 15.160684703016951, 15.160684703016951, 15.160684703016951, 15.160684703016951, 14.761367470693529, 14.761367470693529, 14.226739688796801, 13.756021665962505, 13.450413101178123, 13.840780564806108, 14.048948935241842, 14.048948935241842, 13.936599235073812, 13.936599235073812, 14.142144557449583, 13.03742621138738, 12.65649199863938, 13.977363215552208, 13.78867262080989, 13.626503905629397, 13.626503905629397, 13.626503905629397, 13.351568520097134, 13.261399839290842, 13.758653392862016, 14.747330091456057, 14.379329500257562, 14.379329500257562, 12.775717969102775, 14.235167155500998, 13.9134935263212, 13.60505986047551, 13.921047358083081, 13.234040699962101, 14.078050191669066, 13.21444836185296, 14.085454485608643, 14.18280085910188, 13.735346592939361, 13.798138534356228, 14.254648324887482, 14.254648324887482, 13.424523633307796, 14.361876669615967, 13.460665367576473, 13.267102478368356], \"xaxis\": \"x8\", \"y\": [52.1, 52.1, 52.1, 52.1, 43.2, 46.4, 45.0, 42.3, 45.2, 36.4, 35.6, 38.5, 35.3, 45.2, 44.8, 42.6, 49.2, 42.1, 42.0, 47.8, 48.0, 44.3, 45.3, 45.9, 44.4, 36.5, 44.2, 48.0, 43.0, 43.9, 44.2, 37.8, 46.8, 37.3, 44.1, 49.1, 48.6, 46.3, 50.3, 48.5, 48.0, 42.4, 47.0, 45.9, 42.6, 47.7, 39.3, 40.3, 43.1, 48.2, 47.150000000000006, 43.5, 34.9, 40.05, 44.7], \"yaxis\": \"y8\"}, {\"hovertemplate\": \"<b>OLS trendline</b><br>y = 1.24696 * x + 26.8235<br>R<sup>2</sup>=0.040964<br><br>x=%{x}<br>Average Reading=%{y} <b>(trend)</b><extra></extra>\", \"legendgroup\": \"\", \"line\": {\"color\": \"darkgrey\", \"width\": 3}, \"marker\": {\"color\": \"silver\", \"line\": {\"color\": \"black\", \"width\": 1}, \"size\": 9, \"symbol\": \"circle\"}, \"mode\": \"lines\", \"name\": \"\", \"showlegend\": false, \"type\": \"scatter\", \"x\": [12.65649199863938, 12.775717969102775, 13.03742621138738, 13.21444836185296, 13.234040699962101, 13.261399839290842, 13.267102478368356, 13.351568520097134, 13.424523633307796, 13.450413101178123, 13.460665367576473, 13.60505986047551, 13.626503905629397, 13.626503905629397, 13.626503905629397, 13.692291524005135, 13.735346592939361, 13.756021665962505, 13.758653392862016, 13.78867262080989, 13.798138534356228, 13.840780564806108, 13.9134935263212, 13.921047358083081, 13.936599235073812, 13.936599235073812, 13.94408933159296, 13.977363215552208, 14.048948935241842, 14.048948935241842, 14.078050191669066, 14.085454485608643, 14.142144557449583, 14.174752304843974, 14.174752304843974, 14.18280085910188, 14.226739688796801, 14.235167155500998, 14.254648324887482, 14.254648324887482, 14.35130602418157, 14.361876669615967, 14.379329500257562, 14.379329500257562, 14.747330091456057, 14.761367470693529, 14.761367470693529, 15.160684703016951, 15.160684703016951, 15.160684703016951, 15.160684703016951, 15.695859644216817, 15.695859644216817, 15.695859644216817, 15.695859644216817], \"xaxis\": \"x8\", \"y\": [42.605584839338064, 42.75425455261464, 43.08059359763431, 43.30133268871514, 43.325763500876135, 43.359879183757045, 43.36699013209555, 43.472315692932824, 43.563287615584684, 43.595570680677, 43.60835482074274, 43.78840861082371, 43.8151484228976, 43.8151484228976, 43.8151484228976, 43.89718278439665, 43.95087062378832, 43.97665156032737, 43.979933211816984, 44.01736591204537, 44.02916950355622, 44.08234230152863, 44.17301227131729, 44.18243157818318, 44.20182410721136, 44.20182410721136, 44.21116393894087, 44.25265505676187, 44.341919403947216, 44.341919403947216, 44.37820743274, 44.38744027230284, 44.45813038028405, 44.498790854146215, 44.498790854146215, 44.508827058919074, 44.56361691038401, 44.5741256028584, 44.598417792351384, 44.598417792351384, 44.71894583153758, 44.73212697671738, 44.75388991408133, 44.75388991408133, 45.21277099650361, 45.23027501126044, 45.23027501126044, 45.72820661295073, 45.72820661295073, 45.72820661295073, 45.72820661295073, 46.39554699820194, 46.39554699820194, 46.39554699820194, 46.39554699820194], \"yaxis\": \"y8\"}, {\"hovertemplate\": \"x=%{x}<br>Average Reading=%{y}<extra></extra>\", \"legendgroup\": \"\", \"marker\": {\"color\": \"silver\", \"line\": {\"color\": \"black\", \"width\": 1}, \"size\": 9, \"symbol\": \"circle\"}, \"mode\": \"markers\", \"name\": \"\", \"orientation\": \"v\", \"showlegend\": false, \"type\": \"scatter\", \"x\": [15.518108339941813, 15.518108339941813, 15.518108339941813, 15.518108339941813, 13.987024758430286, 14.207326944596035, 14.207326944596035, 13.702036102033249, 14.341462598458662, 17.447158039650542, 17.447158039650542, 17.447158039650542, 17.447158039650542, 14.84950289995762, 14.84950289995762, 14.20853797095874, 13.78579849397875, 13.518779668173876, 13.876992224177922, 14.046817497966423, 14.046817497966423, 13.967330810167518, 13.967330810167518, 14.136328764234213, 13.026920188754719, 12.611954333523554, 13.949028700501014, 13.788469214263197, 13.711714373657445, 13.711714373657445, 13.711714373657445, 13.349181768217152, 13.290198849012878, 13.789510465995141, 14.759863438672214, 14.429459757302146, 14.429459757302146, 12.81622401228777, 14.170930714987076, 13.930625147594384, 13.637942485441354, 13.92735331840296, 13.299253544201077, 14.077821744100058, 13.244634106064096, 14.06650893630666, 14.17825673461553, 13.722592315196335, 13.818688502943687, 14.25126041834072, 14.25126041834072, 13.432694023602208, 14.350379217537654, 13.442651062164998, 13.295556731971411], \"xaxis\": \"x9\", \"y\": [52.1, 52.1, 52.1, 52.1, 43.2, 46.4, 45.0, 42.3, 45.2, 36.4, 35.6, 38.5, 35.3, 45.2, 44.8, 42.6, 49.2, 42.1, 42.0, 47.8, 48.0, 44.3, 45.3, 45.9, 44.4, 36.5, 44.2, 48.0, 43.0, 43.9, 44.2, 37.8, 46.8, 37.3, 44.1, 49.1, 48.6, 46.3, 50.3, 48.5, 48.0, 42.4, 47.0, 45.9, 42.6, 47.7, 39.3, 40.3, 43.1, 48.2, 47.150000000000006, 43.5, 34.9, 40.05, 44.7], \"yaxis\": \"y9\"}, {\"hovertemplate\": \"<b>OLS trendline</b><br>y = -0.6589 * x + 53.78<br>R<sup>2</sup>=0.026377<br><br>x=%{x}<br>Average Reading=%{y} <b>(trend)</b><extra></extra>\", \"legendgroup\": \"\", \"line\": {\"color\": \"darkgrey\", \"width\": 3}, \"marker\": {\"color\": \"silver\", \"line\": {\"color\": \"black\", \"width\": 1}, \"size\": 9, \"symbol\": \"circle\"}, \"mode\": \"lines\", \"name\": \"\", \"showlegend\": false, \"type\": \"scatter\", \"x\": [12.611954333523554, 12.81622401228777, 13.026920188754719, 13.244634106064096, 13.290198849012878, 13.295556731971411, 13.299253544201077, 13.349181768217152, 13.432694023602208, 13.442651062164998, 13.518779668173876, 13.637942485441354, 13.702036102033249, 13.711714373657445, 13.711714373657445, 13.711714373657445, 13.722592315196335, 13.78579849397875, 13.788469214263197, 13.789510465995141, 13.818688502943687, 13.876992224177922, 13.92735331840296, 13.930625147594384, 13.949028700501014, 13.967330810167518, 13.967330810167518, 13.987024758430286, 14.046817497966423, 14.046817497966423, 14.06650893630666, 14.077821744100058, 14.136328764234213, 14.170930714987076, 14.17825673461553, 14.207326944596035, 14.207326944596035, 14.20853797095874, 14.25126041834072, 14.25126041834072, 14.341462598458662, 14.350379217537654, 14.429459757302146, 14.429459757302146, 14.759863438672214, 14.84950289995762, 14.84950289995762, 15.518108339941813, 15.518108339941813, 15.518108339941813, 15.518108339941813, 17.447158039650542, 17.447158039650542, 17.447158039650542, 17.447158039650542], \"xaxis\": \"x9\", \"y\": [45.46998062711462, 45.33538738287664, 45.19655972078412, 45.05310807086866, 45.02308547224586, 45.01955516439989, 45.01711933567416, 44.98422164038223, 44.929195434564974, 44.92263474415181, 44.87247362320602, 44.79395727038461, 44.751726001190676, 44.74534899024908, 44.74534899024908, 44.74534899024908, 44.7381815170773, 44.69653498045142, 44.6947752434718, 44.69408916294571, 44.67486376112808, 44.6364474526503, 44.603264539277504, 44.60110873177768, 44.58898263501093, 44.5769233791717, 44.5769233791717, 44.563947041202326, 44.52454961890876, 44.52454961890876, 44.51157493472675, 44.50412092828015, 44.46557066620409, 44.44277144883142, 44.43794433618744, 44.41878998153419, 44.41878998153419, 44.41799203654304, 44.38984222581384, 44.38984222581384, 44.33040803013262, 44.32453287187743, 44.27242672246071, 44.27242672246071, 44.05472381298925, 43.99566039261704, 43.99566039261704, 43.555116422376074, 43.555116422376074, 43.555116422376074, 43.555116422376074, 42.284066020031275, 42.284066020031275, 42.284066020031275, 42.284066020031275], \"yaxis\": \"y9\"}],\n                        {\"annotations\": [{\"font\": {\"size\": 16}, \"showarrow\": false, \"text\": \"Total Highways\", \"x\": 0.15, \"xanchor\": \"center\", \"xref\": \"paper\", \"y\": 1.0, \"yanchor\": \"bottom\", \"yref\": \"paper\"}, {\"font\": {\"size\": 16}, \"showarrow\": false, \"text\": \"Per Capita Income\", \"x\": 0.49999999999999994, \"xanchor\": \"center\", \"xref\": \"paper\", \"y\": 1.0, \"yanchor\": \"bottom\", \"yref\": \"paper\"}, {\"font\": {\"size\": 16}, \"showarrow\": false, \"text\": \"Households Total\", \"x\": 0.85, \"xanchor\": \"center\", \"xref\": \"paper\", \"y\": 1.0, \"yanchor\": \"bottom\", \"yref\": \"paper\"}, {\"font\": {\"size\": 16}, \"showarrow\": false, \"text\": \"Households General\", \"x\": 0.15, \"xanchor\": \"center\", \"xref\": \"paper\", \"y\": 0.6333333333333333, \"yanchor\": \"bottom\", \"yref\": \"paper\"}, {\"font\": {\"size\": 16}, \"showarrow\": false, \"text\": \"Households Institutional\", \"x\": 0.49999999999999994, \"xanchor\": \"center\", \"xref\": \"paper\", \"y\": 0.6333333333333333, \"yanchor\": \"bottom\", \"yref\": \"paper\"}, {\"font\": {\"size\": 16}, \"showarrow\": false, \"text\": \"Households Others\", \"x\": 0.85, \"xanchor\": \"center\", \"xref\": \"paper\", \"y\": 0.6333333333333333, \"yanchor\": \"bottom\", \"yref\": \"paper\"}, {\"font\": {\"size\": 16}, \"showarrow\": false, \"text\": \"Population\", \"x\": 0.15, \"xanchor\": \"center\", \"xref\": \"paper\", \"y\": 0.26666666666666666, \"yanchor\": \"bottom\", \"yref\": \"paper\"}, {\"font\": {\"size\": 16}, \"showarrow\": false, \"text\": \"Male\", \"x\": 0.49999999999999994, \"xanchor\": \"center\", \"xref\": \"paper\", \"y\": 0.26666666666666666, \"yanchor\": \"bottom\", \"yref\": \"paper\"}, {\"font\": {\"size\": 16}, \"showarrow\": false, \"text\": \"Female\", \"x\": 0.85, \"xanchor\": \"center\", \"xref\": \"paper\", \"y\": 0.26666666666666666, \"yanchor\": \"bottom\", \"yref\": \"paper\"}], \"font\": {\"size\": 15}, \"height\": 1200, \"showlegend\": false, \"template\": {\"data\": {\"bar\": [{\"error_x\": {\"color\": \"#2a3f5f\"}, \"error_y\": {\"color\": \"#2a3f5f\"}, \"marker\": {\"line\": {\"color\": \"white\", \"width\": 0.5}}, \"type\": \"bar\"}], \"barpolar\": [{\"marker\": {\"line\": {\"color\": \"white\", \"width\": 0.5}}, \"type\": \"barpolar\"}], \"carpet\": [{\"aaxis\": {\"endlinecolor\": \"#2a3f5f\", \"gridcolor\": \"#C8D4E3\", \"linecolor\": \"#C8D4E3\", \"minorgridcolor\": \"#C8D4E3\", \"startlinecolor\": \"#2a3f5f\"}, \"baxis\": {\"endlinecolor\": \"#2a3f5f\", \"gridcolor\": \"#C8D4E3\", \"linecolor\": \"#C8D4E3\", \"minorgridcolor\": \"#C8D4E3\", \"startlinecolor\": \"#2a3f5f\"}, \"type\": \"carpet\"}], \"choropleth\": [{\"colorbar\": {\"outlinewidth\": 0, \"ticks\": \"\"}, \"type\": \"choropleth\"}], \"contour\": [{\"colorbar\": {\"outlinewidth\": 0, \"ticks\": \"\"}, \"colorscale\": [[0.0, \"#0d0887\"], [0.1111111111111111, \"#46039f\"], [0.2222222222222222, \"#7201a8\"], [0.3333333333333333, \"#9c179e\"], [0.4444444444444444, \"#bd3786\"], [0.5555555555555556, \"#d8576b\"], [0.6666666666666666, \"#ed7953\"], [0.7777777777777778, \"#fb9f3a\"], [0.8888888888888888, \"#fdca26\"], [1.0, \"#f0f921\"]], \"type\": \"contour\"}], \"contourcarpet\": [{\"colorbar\": {\"outlinewidth\": 0, \"ticks\": \"\"}, \"type\": \"contourcarpet\"}], \"heatmap\": [{\"colorbar\": {\"outlinewidth\": 0, \"ticks\": \"\"}, \"colorscale\": [[0.0, \"#0d0887\"], [0.1111111111111111, \"#46039f\"], [0.2222222222222222, \"#7201a8\"], [0.3333333333333333, \"#9c179e\"], [0.4444444444444444, \"#bd3786\"], [0.5555555555555556, \"#d8576b\"], [0.6666666666666666, \"#ed7953\"], [0.7777777777777778, \"#fb9f3a\"], [0.8888888888888888, \"#fdca26\"], [1.0, \"#f0f921\"]], \"type\": \"heatmap\"}], \"heatmapgl\": [{\"colorbar\": {\"outlinewidth\": 0, \"ticks\": \"\"}, \"colorscale\": [[0.0, \"#0d0887\"], [0.1111111111111111, \"#46039f\"], [0.2222222222222222, \"#7201a8\"], [0.3333333333333333, \"#9c179e\"], [0.4444444444444444, \"#bd3786\"], [0.5555555555555556, \"#d8576b\"], [0.6666666666666666, \"#ed7953\"], [0.7777777777777778, \"#fb9f3a\"], [0.8888888888888888, \"#fdca26\"], [1.0, \"#f0f921\"]], \"type\": \"heatmapgl\"}], \"histogram\": [{\"marker\": {\"colorbar\": {\"outlinewidth\": 0, \"ticks\": \"\"}}, \"type\": \"histogram\"}], \"histogram2d\": [{\"colorbar\": {\"outlinewidth\": 0, \"ticks\": \"\"}, \"colorscale\": [[0.0, \"#0d0887\"], [0.1111111111111111, \"#46039f\"], [0.2222222222222222, \"#7201a8\"], [0.3333333333333333, \"#9c179e\"], [0.4444444444444444, \"#bd3786\"], [0.5555555555555556, \"#d8576b\"], [0.6666666666666666, \"#ed7953\"], [0.7777777777777778, \"#fb9f3a\"], [0.8888888888888888, \"#fdca26\"], [1.0, \"#f0f921\"]], \"type\": \"histogram2d\"}], \"histogram2dcontour\": [{\"colorbar\": {\"outlinewidth\": 0, \"ticks\": \"\"}, \"colorscale\": [[0.0, \"#0d0887\"], [0.1111111111111111, \"#46039f\"], [0.2222222222222222, \"#7201a8\"], [0.3333333333333333, \"#9c179e\"], [0.4444444444444444, \"#bd3786\"], [0.5555555555555556, \"#d8576b\"], [0.6666666666666666, \"#ed7953\"], [0.7777777777777778, \"#fb9f3a\"], [0.8888888888888888, \"#fdca26\"], [1.0, \"#f0f921\"]], \"type\": \"histogram2dcontour\"}], \"mesh3d\": [{\"colorbar\": {\"outlinewidth\": 0, \"ticks\": \"\"}, \"type\": \"mesh3d\"}], \"parcoords\": [{\"line\": {\"colorbar\": {\"outlinewidth\": 0, \"ticks\": \"\"}}, \"type\": \"parcoords\"}], \"pie\": [{\"automargin\": true, \"type\": \"pie\"}], \"scatter\": [{\"marker\": {\"colorbar\": {\"outlinewidth\": 0, \"ticks\": \"\"}}, \"type\": \"scatter\"}], \"scatter3d\": [{\"line\": {\"colorbar\": {\"outlinewidth\": 0, \"ticks\": \"\"}}, \"marker\": {\"colorbar\": {\"outlinewidth\": 0, \"ticks\": \"\"}}, \"type\": \"scatter3d\"}], \"scattercarpet\": [{\"marker\": {\"colorbar\": {\"outlinewidth\": 0, \"ticks\": \"\"}}, \"type\": \"scattercarpet\"}], \"scattergeo\": [{\"marker\": {\"colorbar\": {\"outlinewidth\": 0, \"ticks\": \"\"}}, \"type\": \"scattergeo\"}], \"scattergl\": [{\"marker\": {\"colorbar\": {\"outlinewidth\": 0, \"ticks\": \"\"}}, \"type\": \"scattergl\"}], \"scattermapbox\": [{\"marker\": {\"colorbar\": {\"outlinewidth\": 0, \"ticks\": \"\"}}, \"type\": \"scattermapbox\"}], \"scatterpolar\": [{\"marker\": {\"colorbar\": {\"outlinewidth\": 0, \"ticks\": \"\"}}, \"type\": \"scatterpolar\"}], \"scatterpolargl\": [{\"marker\": {\"colorbar\": {\"outlinewidth\": 0, \"ticks\": \"\"}}, \"type\": \"scatterpolargl\"}], \"scatterternary\": [{\"marker\": {\"colorbar\": {\"outlinewidth\": 0, \"ticks\": \"\"}}, \"type\": \"scatterternary\"}], \"surface\": [{\"colorbar\": {\"outlinewidth\": 0, \"ticks\": \"\"}, \"colorscale\": [[0.0, \"#0d0887\"], [0.1111111111111111, \"#46039f\"], [0.2222222222222222, \"#7201a8\"], [0.3333333333333333, \"#9c179e\"], [0.4444444444444444, \"#bd3786\"], [0.5555555555555556, \"#d8576b\"], [0.6666666666666666, \"#ed7953\"], [0.7777777777777778, \"#fb9f3a\"], [0.8888888888888888, \"#fdca26\"], [1.0, \"#f0f921\"]], \"type\": \"surface\"}], \"table\": [{\"cells\": {\"fill\": {\"color\": \"#EBF0F8\"}, \"line\": {\"color\": \"white\"}}, \"header\": {\"fill\": {\"color\": \"#C8D4E3\"}, \"line\": {\"color\": \"white\"}}, \"type\": \"table\"}]}, \"layout\": {\"annotationdefaults\": {\"arrowcolor\": \"#2a3f5f\", \"arrowhead\": 0, \"arrowwidth\": 1}, \"coloraxis\": {\"colorbar\": {\"outlinewidth\": 0, \"ticks\": \"\"}}, \"colorscale\": {\"diverging\": [[0, \"#8e0152\"], [0.1, \"#c51b7d\"], [0.2, \"#de77ae\"], [0.3, \"#f1b6da\"], [0.4, \"#fde0ef\"], [0.5, \"#f7f7f7\"], [0.6, \"#e6f5d0\"], [0.7, \"#b8e186\"], [0.8, \"#7fbc41\"], [0.9, \"#4d9221\"], [1, \"#276419\"]], \"sequential\": [[0.0, \"#0d0887\"], [0.1111111111111111, \"#46039f\"], [0.2222222222222222, \"#7201a8\"], [0.3333333333333333, \"#9c179e\"], [0.4444444444444444, \"#bd3786\"], [0.5555555555555556, \"#d8576b\"], [0.6666666666666666, \"#ed7953\"], [0.7777777777777778, \"#fb9f3a\"], [0.8888888888888888, \"#fdca26\"], [1.0, \"#f0f921\"]], \"sequentialminus\": [[0.0, \"#0d0887\"], [0.1111111111111111, \"#46039f\"], [0.2222222222222222, \"#7201a8\"], [0.3333333333333333, \"#9c179e\"], [0.4444444444444444, \"#bd3786\"], [0.5555555555555556, \"#d8576b\"], [0.6666666666666666, \"#ed7953\"], [0.7777777777777778, \"#fb9f3a\"], [0.8888888888888888, \"#fdca26\"], [1.0, \"#f0f921\"]]}, \"colorway\": [\"#636efa\", \"#EF553B\", \"#00cc96\", \"#ab63fa\", \"#FFA15A\", \"#19d3f3\", \"#FF6692\", \"#B6E880\", \"#FF97FF\", \"#FECB52\"], \"font\": {\"color\": \"#2a3f5f\"}, \"geo\": {\"bgcolor\": \"white\", \"lakecolor\": \"white\", \"landcolor\": \"white\", \"showlakes\": true, \"showland\": true, \"subunitcolor\": \"#C8D4E3\"}, \"hoverlabel\": {\"align\": \"left\"}, \"hovermode\": \"closest\", \"mapbox\": {\"style\": \"light\"}, \"paper_bgcolor\": \"white\", \"plot_bgcolor\": \"white\", \"polar\": {\"angularaxis\": {\"gridcolor\": \"#EBF0F8\", \"linecolor\": \"#EBF0F8\", \"ticks\": \"\"}, \"bgcolor\": \"white\", \"radialaxis\": {\"gridcolor\": \"#EBF0F8\", \"linecolor\": \"#EBF0F8\", \"ticks\": \"\"}}, \"scene\": {\"xaxis\": {\"backgroundcolor\": \"white\", \"gridcolor\": \"#DFE8F3\", \"gridwidth\": 2, \"linecolor\": \"#EBF0F8\", \"showbackground\": true, \"ticks\": \"\", \"zerolinecolor\": \"#EBF0F8\"}, \"yaxis\": {\"backgroundcolor\": \"white\", \"gridcolor\": \"#DFE8F3\", \"gridwidth\": 2, \"linecolor\": \"#EBF0F8\", \"showbackground\": true, \"ticks\": \"\", \"zerolinecolor\": \"#EBF0F8\"}, \"zaxis\": {\"backgroundcolor\": \"white\", \"gridcolor\": \"#DFE8F3\", \"gridwidth\": 2, \"linecolor\": \"#EBF0F8\", \"showbackground\": true, \"ticks\": \"\", \"zerolinecolor\": \"#EBF0F8\"}}, \"shapedefaults\": {\"line\": {\"color\": \"#2a3f5f\"}}, \"ternary\": {\"aaxis\": {\"gridcolor\": \"#DFE8F3\", \"linecolor\": \"#A2B1C6\", \"ticks\": \"\"}, \"baxis\": {\"gridcolor\": \"#DFE8F3\", \"linecolor\": \"#A2B1C6\", \"ticks\": \"\"}, \"bgcolor\": \"white\", \"caxis\": {\"gridcolor\": \"#DFE8F3\", \"linecolor\": \"#A2B1C6\", \"ticks\": \"\"}}, \"title\": {\"x\": 0.05}, \"xaxis\": {\"automargin\": true, \"gridcolor\": \"#EBF0F8\", \"linecolor\": \"#EBF0F8\", \"ticks\": \"\", \"title\": {\"standoff\": 15}, \"zerolinecolor\": \"#EBF0F8\", \"zerolinewidth\": 2}, \"yaxis\": {\"automargin\": true, \"gridcolor\": \"#EBF0F8\", \"linecolor\": \"#EBF0F8\", \"ticks\": \"\", \"title\": {\"standoff\": 15}, \"zerolinecolor\": \"#EBF0F8\", \"zerolinewidth\": 2}}}, \"title\": {\"text\": \"Scatter Plots with Regression Lines\"}, \"width\": 1200, \"xaxis\": {\"anchor\": \"y\", \"domain\": [0.0, 0.3]}, \"xaxis2\": {\"anchor\": \"y2\", \"domain\": [0.35, 0.6499999999999999]}, \"xaxis3\": {\"anchor\": \"y3\", \"domain\": [0.7, 1.0]}, \"xaxis4\": {\"anchor\": \"y4\", \"domain\": [0.0, 0.3]}, \"xaxis5\": {\"anchor\": \"y5\", \"domain\": [0.35, 0.6499999999999999]}, \"xaxis6\": {\"anchor\": \"y6\", \"domain\": [0.7, 1.0]}, \"xaxis7\": {\"anchor\": \"y7\", \"domain\": [0.0, 0.3]}, \"xaxis8\": {\"anchor\": \"y8\", \"domain\": [0.35, 0.6499999999999999]}, \"xaxis9\": {\"anchor\": \"y9\", \"domain\": [0.7, 1.0]}, \"yaxis\": {\"anchor\": \"x\", \"domain\": [0.7333333333333334, 1.0]}, \"yaxis2\": {\"anchor\": \"x2\", \"domain\": [0.7333333333333334, 1.0]}, \"yaxis3\": {\"anchor\": \"x3\", \"domain\": [0.7333333333333334, 1.0]}, \"yaxis4\": {\"anchor\": \"x4\", \"domain\": [0.3666666666666667, 0.6333333333333333]}, \"yaxis5\": {\"anchor\": \"x5\", \"domain\": [0.3666666666666667, 0.6333333333333333]}, \"yaxis6\": {\"anchor\": \"x6\", \"domain\": [0.3666666666666667, 0.6333333333333333]}, \"yaxis7\": {\"anchor\": \"x7\", \"domain\": [0.0, 0.26666666666666666]}, \"yaxis8\": {\"anchor\": \"x8\", \"domain\": [0.0, 0.26666666666666666]}, \"yaxis9\": {\"anchor\": \"x9\", \"domain\": [0.0, 0.26666666666666666]}},\n                        {\"responsive\": true}\n                    ).then(function(){\n                            \nvar gd = document.getElementById('cb4595d7-4c9b-4b7a-b09f-402436f2d56b');\nvar x = new MutationObserver(function (mutations, observer) {{\n        var display = window.getComputedStyle(gd).display;\n        if (!display || display === 'none') {{\n            console.log([gd, 'removed!']);\n            Plotly.purge(gd);\n            observer.disconnect();\n        }}\n}});\n\n// Listen for the removal of the full notebook cells\nvar notebookContainer = gd.closest('#notebook-container');\nif (notebookContainer) {{\n    x.observe(notebookContainer, {childList: true});\n}}\n\n// Listen for the clearing of the current output cell\nvar outputEl = gd.closest('.output');\nif (outputEl) {{\n    x.observe(outputEl, {childList: true});\n}}\n\n                        })\n                };\n                });\n            </script>\n        </div>"
     },
     "metadata": {},
     "output_type": "display_data"
    }
   ],
   "source": [
    "from plotly.subplots import make_subplots\n",
    "\n",
    "rows, cols = 3, 3\n",
    "\n",
    "# Create subplots\n",
    "fig = make_subplots(rows=rows, cols=cols, subplot_titles=road_and_household_data_selected_columns,\n",
    "                    horizontal_spacing=0.05,  # Reduce horizontal spacing\n",
    "                    vertical_spacing=0.1)\n",
    "\n",
    "# Loop through each column and add scatter plots\n",
    "for i, col in enumerate(road_and_household_data_selected_columns):\n",
    "    # print(\"i \",i,col)\n",
    "    row = i // cols + 1\n",
    "    col_num = i % cols + 1\n",
    "\n",
    "    # Create scatter plot with regression line\n",
    "    scatter_fig = px.scatter(\n",
    "        # x=road_and_household_data[col],\n",
    "        x=road_and_household_data_log_transformed[col],\n",
    "        y=average_reading,\n",
    "        trendline=\"ols\",\n",
    "        labels={col: col, \"y\": \"Average Reading\"},\n",
    "        title=f\"{col} vs Average Reading\"\n",
    "    )\n",
    "\n",
    "    scatter_fig.update_traces(\n",
    "        marker=dict(\n",
    "            color='silver',  # White fill for the markers\n",
    "            line=dict(\n",
    "                color='black',  # Black border for the markers\n",
    "                width=1  # Width of the border line\n",
    "            ),\n",
    "            size=9  # Increase marker size (you can adjust this value as needed)\n",
    "\n",
    "        )\n",
    "    )\n",
    "\n",
    "    scatter_fig.update_traces(\n",
    "        line=dict(\n",
    "            color='darkgrey',  # Set the trendline color to dark blue (or any other color)\n",
    "            width=3  # Increase the width of the trendline\n",
    "        ),\n",
    "        selector=dict(mode='lines')  # Ensure the trendline settings are applied\n",
    "    )\n",
    "\n",
    "    # Add traces to the subplots\n",
    "    for trace in scatter_fig['data']:\n",
    "        # print(row,col_num)\n",
    "        fig.add_trace(trace, row=row, col=col_num)\n",
    "\n",
    "# Update layout\n",
    "fig.update_layout(\n",
    "    title=\"Scatter Plots with Regression Lines\",\n",
    "    height=1200, width=1200,\n",
    "    showlegend=False,\n",
    "    template='plotly_white',\n",
    "    font_size = 15\n",
    ")\n",
    "\n",
    "# Show plot\n",
    "fig.show()"
   ],
   "metadata": {
    "collapsed": false,
    "ExecuteTime": {
     "start_time": "2024-12-20T15:57:58.760722Z",
     "end_time": "2024-12-20T15:57:59.867504Z"
    }
   }
  },
  {
   "cell_type": "code",
   "execution_count": 63,
   "outputs": [
    {
     "name": "stdout",
     "output_type": "stream",
     "text": [
      "OLS Summary for Total Highways:\n",
      "                            OLS Regression Results                            \n",
      "==============================================================================\n",
      "Dep. Variable:        average_reading   R-squared:                       0.033\n",
      "Model:                            OLS   Adj. R-squared:                  0.015\n",
      "Method:                 Least Squares   F-statistic:                     1.836\n",
      "Date:                Fri, 20 Dec 2024   Prob (F-statistic):              0.181\n",
      "Time:                        15:57:59   Log-Likelihood:                -158.52\n",
      "No. Observations:                  55   AIC:                             321.0\n",
      "Df Residuals:                      53   BIC:                             325.1\n",
      "Df Model:                           1                                         \n",
      "Covariance Type:            nonrobust                                         \n",
      "==================================================================================\n",
      "                     coef    std err          t      P>|t|      [0.025      0.975]\n",
      "----------------------------------------------------------------------------------\n",
      "const             56.6023      9.034      6.265      0.000      38.482      74.723\n",
      "Total Highways    -2.0768      1.533     -1.355      0.181      -5.151       0.997\n",
      "==============================================================================\n",
      "Omnibus:                        2.463   Durbin-Watson:                   1.257\n",
      "Prob(Omnibus):                  0.292   Jarque-Bera (JB):                1.934\n",
      "Skew:                          -0.304   Prob(JB):                        0.380\n",
      "Kurtosis:                       2.312   Cond. No.                         92.3\n",
      "==============================================================================\n",
      "\n",
      "Notes:\n",
      "[1] Standard Errors assume that the covariance matrix of the errors is correctly specified.\n",
      "\n",
      "--------------------------------------------------------------------------------\n",
      "\n",
      "OLS Summary for Per Capita Income:\n",
      "                            OLS Regression Results                            \n",
      "==============================================================================\n",
      "Dep. Variable:        average_reading   R-squared:                       0.000\n",
      "Model:                            OLS   Adj. R-squared:                 -0.019\n",
      "Method:                 Least Squares   F-statistic:                  0.006393\n",
      "Date:                Fri, 20 Dec 2024   Prob (F-statistic):              0.937\n",
      "Time:                        15:57:59   Log-Likelihood:                -159.45\n",
      "No. Observations:                  55   AIC:                             322.9\n",
      "Df Residuals:                      53   BIC:                             326.9\n",
      "Df Model:                           1                                         \n",
      "Covariance Type:            nonrobust                                         \n",
      "=====================================================================================\n",
      "                        coef    std err          t      P>|t|      [0.025      0.975]\n",
      "-------------------------------------------------------------------------------------\n",
      "const                43.3911     12.473      3.479      0.001      18.373      68.409\n",
      "Per Capita Income     0.1198      1.498      0.080      0.937      -2.886       3.125\n",
      "==============================================================================\n",
      "Omnibus:                        1.569   Durbin-Watson:                   1.189\n",
      "Prob(Omnibus):                  0.456   Jarque-Bera (JB):                1.562\n",
      "Skew:                          -0.367   Prob(JB):                        0.458\n",
      "Kurtosis:                       2.623   Cond. No.                         175.\n",
      "==============================================================================\n",
      "\n",
      "Notes:\n",
      "[1] Standard Errors assume that the covariance matrix of the errors is correctly specified.\n",
      "\n",
      "--------------------------------------------------------------------------------\n",
      "\n",
      "OLS Summary for Households Total:\n",
      "                            OLS Regression Results                            \n",
      "==============================================================================\n",
      "Dep. Variable:        average_reading   R-squared:                       0.053\n",
      "Model:                            OLS   Adj. R-squared:                  0.035\n",
      "Method:                 Least Squares   F-statistic:                     2.962\n",
      "Date:                Fri, 20 Dec 2024   Prob (F-statistic):             0.0911\n",
      "Time:                        15:57:59   Log-Likelihood:                -157.96\n",
      "No. Observations:                  55   AIC:                             319.9\n",
      "Df Residuals:                      53   BIC:                             323.9\n",
      "Df Model:                           1                                         \n",
      "Covariance Type:            nonrobust                                         \n",
      "====================================================================================\n",
      "                       coef    std err          t      P>|t|      [0.025      0.975]\n",
      "------------------------------------------------------------------------------------\n",
      "const               27.8725      9.614      2.899      0.005       8.590      47.156\n",
      "Households Total     1.2359      0.718      1.721      0.091      -0.204       2.676\n",
      "==============================================================================\n",
      "Omnibus:                        4.654   Durbin-Watson:                   1.194\n",
      "Prob(Omnibus):                  0.098   Jarque-Bera (JB):                4.449\n",
      "Skew:                          -0.691   Prob(JB):                        0.108\n",
      "Kurtosis:                       2.821   Cond. No.                         220.\n",
      "==============================================================================\n",
      "\n",
      "Notes:\n",
      "[1] Standard Errors assume that the covariance matrix of the errors is correctly specified.\n",
      "\n",
      "--------------------------------------------------------------------------------\n",
      "\n",
      "OLS Summary for Households General:\n",
      "                            OLS Regression Results                            \n",
      "==============================================================================\n",
      "Dep. Variable:        average_reading   R-squared:                       0.005\n",
      "Model:                            OLS   Adj. R-squared:                 -0.014\n",
      "Method:                 Least Squares   F-statistic:                    0.2694\n",
      "Date:                Fri, 20 Dec 2024   Prob (F-statistic):              0.606\n",
      "Time:                        15:57:59   Log-Likelihood:                -159.32\n",
      "No. Observations:                  55   AIC:                             322.6\n",
      "Df Residuals:                      53   BIC:                             326.6\n",
      "Df Model:                           1                                         \n",
      "Covariance Type:            nonrobust                                         \n",
      "======================================================================================\n",
      "                         coef    std err          t      P>|t|      [0.025      0.975]\n",
      "--------------------------------------------------------------------------------------\n",
      "const                 39.2298      9.954      3.941      0.000      19.265      59.195\n",
      "Households General     0.3886      0.749      0.519      0.606      -1.113       1.890\n",
      "==============================================================================\n",
      "Omnibus:                        2.588   Durbin-Watson:                   1.214\n",
      "Prob(Omnibus):                  0.274   Jarque-Bera (JB):                2.488\n",
      "Skew:                          -0.492   Prob(JB):                        0.288\n",
      "Kurtosis:                       2.659   Cond. No.                         221.\n",
      "==============================================================================\n",
      "\n",
      "Notes:\n",
      "[1] Standard Errors assume that the covariance matrix of the errors is correctly specified.\n",
      "\n",
      "--------------------------------------------------------------------------------\n",
      "\n",
      "OLS Summary for Households Institutional:\n",
      "                            OLS Regression Results                            \n",
      "==============================================================================\n",
      "Dep. Variable:        average_reading   R-squared:                       0.011\n",
      "Model:                            OLS   Adj. R-squared:                 -0.008\n",
      "Method:                 Least Squares   F-statistic:                    0.5784\n",
      "Date:                Fri, 20 Dec 2024   Prob (F-statistic):              0.450\n",
      "Time:                        15:57:59   Log-Likelihood:                -159.16\n",
      "No. Observations:                  55   AIC:                             322.3\n",
      "Df Residuals:                      53   BIC:                             326.3\n",
      "Df Model:                           1                                         \n",
      "Covariance Type:            nonrobust                                         \n",
      "============================================================================================\n",
      "                               coef    std err          t      P>|t|      [0.025      0.975]\n",
      "--------------------------------------------------------------------------------------------\n",
      "const                       41.9766      3.226     13.011      0.000      35.506      48.448\n",
      "Households Institutional     0.4026      0.529      0.760      0.450      -0.659       1.464\n",
      "==============================================================================\n",
      "Omnibus:                        3.950   Durbin-Watson:                   1.189\n",
      "Prob(Omnibus):                  0.139   Jarque-Bera (JB):                3.773\n",
      "Skew:                          -0.630   Prob(JB):                        0.152\n",
      "Kurtosis:                       2.757   Cond. No.                         33.6\n",
      "==============================================================================\n",
      "\n",
      "Notes:\n",
      "[1] Standard Errors assume that the covariance matrix of the errors is correctly specified.\n",
      "\n",
      "--------------------------------------------------------------------------------\n",
      "\n",
      "OLS Summary for Households Others:\n",
      "                            OLS Regression Results                            \n",
      "==============================================================================\n",
      "Dep. Variable:        average_reading   R-squared:                       0.055\n",
      "Model:                            OLS   Adj. R-squared:                  0.037\n",
      "Method:                 Least Squares   F-statistic:                     3.077\n",
      "Date:                Fri, 20 Dec 2024   Prob (F-statistic):             0.0852\n",
      "Time:                        15:57:59   Log-Likelihood:                -157.90\n",
      "No. Observations:                  55   AIC:                             319.8\n",
      "Df Residuals:                      53   BIC:                             323.8\n",
      "Df Model:                           1                                         \n",
      "Covariance Type:            nonrobust                                         \n",
      "=====================================================================================\n",
      "                        coef    std err          t      P>|t|      [0.025      0.975]\n",
      "-------------------------------------------------------------------------------------\n",
      "const                39.0742      3.085     12.665      0.000      32.886      45.262\n",
      "Households Others     0.6803      0.388      1.754      0.085      -0.098       1.458\n",
      "==============================================================================\n",
      "Omnibus:                        8.054   Durbin-Watson:                   1.255\n",
      "Prob(Omnibus):                  0.018   Jarque-Bera (JB):                7.967\n",
      "Skew:                          -0.930   Prob(JB):                       0.0186\n",
      "Kurtosis:                       3.115   Cond. No.                         42.5\n",
      "==============================================================================\n",
      "\n",
      "Notes:\n",
      "[1] Standard Errors assume that the covariance matrix of the errors is correctly specified.\n",
      "\n",
      "--------------------------------------------------------------------------------\n",
      "\n",
      "OLS Summary for Population:\n",
      "                            OLS Regression Results                            \n",
      "==============================================================================\n",
      "Dep. Variable:        average_reading   R-squared:                       0.031\n",
      "Model:                            OLS   Adj. R-squared:                  0.013\n",
      "Method:                 Least Squares   F-statistic:                     1.696\n",
      "Date:                Fri, 20 Dec 2024   Prob (F-statistic):              0.198\n",
      "Time:                        15:57:59   Log-Likelihood:                -158.59\n",
      "No. Observations:                  55   AIC:                             321.2\n",
      "Df Residuals:                      53   BIC:                             325.2\n",
      "Df Model:                           1                                         \n",
      "Covariance Type:            nonrobust                                         \n",
      "==============================================================================\n",
      "                 coef    std err          t      P>|t|      [0.025      0.975]\n",
      "------------------------------------------------------------------------------\n",
      "const         28.5517     12.174      2.345      0.023       4.134      52.969\n",
      "Population     1.0684      0.820      1.302      0.198      -0.577       2.714\n",
      "==============================================================================\n",
      "Omnibus:                        4.713   Durbin-Watson:                   1.161\n",
      "Prob(Omnibus):                  0.095   Jarque-Bera (JB):                4.504\n",
      "Skew:                          -0.696   Prob(JB):                        0.105\n",
      "Kurtosis:                       2.828   Cond. No.                         305.\n",
      "==============================================================================\n",
      "\n",
      "Notes:\n",
      "[1] Standard Errors assume that the covariance matrix of the errors is correctly specified.\n",
      "\n",
      "--------------------------------------------------------------------------------\n",
      "\n",
      "OLS Summary for Male:\n",
      "                            OLS Regression Results                            \n",
      "==============================================================================\n",
      "Dep. Variable:        average_reading   R-squared:                       0.041\n",
      "Model:                            OLS   Adj. R-squared:                  0.023\n",
      "Method:                 Least Squares   F-statistic:                     2.264\n",
      "Date:                Fri, 20 Dec 2024   Prob (F-statistic):              0.138\n",
      "Time:                        15:57:59   Log-Likelihood:                -158.30\n",
      "No. Observations:                  55   AIC:                             320.6\n",
      "Df Residuals:                      53   BIC:                             324.6\n",
      "Df Model:                           1                                         \n",
      "Covariance Type:            nonrobust                                         \n",
      "==============================================================================\n",
      "                 coef    std err          t      P>|t|      [0.025      0.975]\n",
      "------------------------------------------------------------------------------\n",
      "const         26.8235     11.688      2.295      0.026       3.380      50.267\n",
      "Male           1.2470      0.829      1.505      0.138      -0.415       2.909\n",
      "==============================================================================\n",
      "Omnibus:                        6.157   Durbin-Watson:                   1.193\n",
      "Prob(Omnibus):                  0.046   Jarque-Bera (JB):                5.897\n",
      "Skew:                          -0.802   Prob(JB):                       0.0524\n",
      "Kurtosis:                       2.983   Cond. No.                         280.\n",
      "==============================================================================\n",
      "\n",
      "Notes:\n",
      "[1] Standard Errors assume that the covariance matrix of the errors is correctly specified.\n",
      "\n",
      "--------------------------------------------------------------------------------\n",
      "\n",
      "OLS Summary for Female:\n",
      "                            OLS Regression Results                            \n",
      "==============================================================================\n",
      "Dep. Variable:        average_reading   R-squared:                       0.026\n",
      "Model:                            OLS   Adj. R-squared:                  0.008\n",
      "Method:                 Least Squares   F-statistic:                     1.436\n",
      "Date:                Fri, 20 Dec 2024   Prob (F-statistic):              0.236\n",
      "Time:                        15:57:59   Log-Likelihood:                -158.72\n",
      "No. Observations:                  55   AIC:                             321.4\n",
      "Df Residuals:                      53   BIC:                             325.5\n",
      "Df Model:                           1                                         \n",
      "Covariance Type:            nonrobust                                         \n",
      "==============================================================================\n",
      "                 coef    std err          t      P>|t|      [0.025      0.975]\n",
      "------------------------------------------------------------------------------\n",
      "const         53.7800      7.861      6.841      0.000      38.013      69.547\n",
      "Female        -0.6589      0.550     -1.198      0.236      -1.762       0.444\n",
      "==============================================================================\n",
      "Omnibus:                        0.091   Durbin-Watson:                   1.210\n",
      "Prob(Omnibus):                  0.956   Jarque-Bera (JB):                0.250\n",
      "Skew:                          -0.077   Prob(JB):                        0.883\n",
      "Kurtosis:                       2.708   Cond. No.                         190.\n",
      "==============================================================================\n",
      "\n",
      "Notes:\n",
      "[1] Standard Errors assume that the covariance matrix of the errors is correctly specified.\n",
      "\n",
      "--------------------------------------------------------------------------------\n",
      "\n"
     ]
    }
   ],
   "source": [
    "import statsmodels.api as sm\n",
    "\n",
    "# Assuming 'road_and_household_data_log_transformed' is your DataFrame and 'average_reading' is the target variable\n",
    "\n",
    "# Loop through all columns of the dataframe\n",
    "for col in road_and_household_data_selected_columns:\n",
    "    # Set the independent variable X and dependent variable y\n",
    "    X = road_and_household_data_log_transformed[col]\n",
    "    y = average_reading\n",
    "\n",
    "    # Add constant to X for the intercept\n",
    "    X = sm.add_constant(X)\n",
    "\n",
    "    # Fit the OLS model\n",
    "    model = sm.OLS(y, X).fit()\n",
    "\n",
    "    # Print the OLS summary for each variable\n",
    "    print(f\"OLS Summary for {col}:\")\n",
    "    print(model.summary())\n",
    "    print(\"\\n\" + \"-\"*80 + \"\\n\")"
   ],
   "metadata": {
    "collapsed": false,
    "ExecuteTime": {
     "start_time": "2024-12-20T15:57:59.336508Z",
     "end_time": "2024-12-20T15:57:59.980347Z"
    }
   }
  }
 ],
 "metadata": {
  "kernelspec": {
   "display_name": "Python 3",
   "language": "python",
   "name": "python3"
  },
  "language_info": {
   "codemirror_mode": {
    "name": "ipython",
    "version": 2
   },
   "file_extension": ".py",
   "mimetype": "text/x-python",
   "name": "python",
   "nbconvert_exporter": "python",
   "pygments_lexer": "ipython2",
   "version": "2.7.6"
  }
 },
 "nbformat": 4,
 "nbformat_minor": 0
}
