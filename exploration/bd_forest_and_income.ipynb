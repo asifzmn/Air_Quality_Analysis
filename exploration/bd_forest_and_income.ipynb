{
 "cells": [
  {
   "cell_type": "code",
   "execution_count": null,
   "metadata": {
    "collapsed": true,
    "ExecuteTime": {
     "start_time": "2024-12-19T22:04:58.083635Z",
     "end_time": "2024-12-19T22:04:59.075169Z"
    }
   },
   "outputs": [],
   "source": [
    "import shapefile\n",
    "import numpy as np\n",
    "import pandas as pd\n",
    "from scipy import stats\n",
    "import plotly.graph_objects as go\n",
    "import plotly.express as px"
   ]
  },
  {
   "cell_type": "code",
   "execution_count": null,
   "outputs": [],
   "source": [
    "\n",
    "sf = shapefile.Reader(\"/home/asif/Desktop/AQ/bgd_phy_forestnaturalparks_lged.zip\")\n",
    "print(sf.shapeType==shapefile.POLYGON)\n",
    "\n",
    "shapes = sf.shapes()\n",
    "print(len(shapes))\n",
    "print(shapes[:5])\n",
    "\n",
    "s = sf.shape(0)\n",
    "print(s)\n",
    "\n",
    "print(['%.3f' % coord for coord in s.bbox])\n",
    "\n",
    "print(sf.fields)\n",
    "\n",
    "for s in shapes[:5]:\n",
    "    print(s.bbox[::-1])\n",
    "\n",
    "bbox_array = np.array(s.bbox)\n",
    "lon,lat = bbox_array[[0,2]],bbox_array[[1,3]]\n",
    "print(lon,lat)\n",
    "\n",
    "# for s1 in shapes:\n",
    "#     for s2 in shapes:\n",
    "#         if s1.bbox[0:2]==s2.bbox[3:4]:\n",
    "#             print(s1,s2)"
   ],
   "metadata": {
    "collapsed": false
   }
  },
  {
   "cell_type": "code",
   "execution_count": null,
   "outputs": [],
   "source": [
    "import plotly.graph_objects as go\n",
    "import numpy as np\n",
    "\n",
    "fig = go.Figure()\n",
    "\n",
    "for s in shapes[:5]:\n",
    "    bbox_array = np.array(s.bbox)\n",
    "    lon,lat = bbox_array[[0,2]],bbox_array[[1,3]]\n",
    "\n",
    "    fig.add_trace(go.Scattermapbox(\n",
    "        mode = \"markers+lines\",\n",
    "        lon = lon,\n",
    "        lat = lat,\n",
    "        marker = {'size': 10}))\n",
    "\n",
    "fig.update_layout(\n",
    "    height=900,\n",
    "    width=900,\n",
    "    margin ={'l':0,'t':0,'b':0,'r':0},\n",
    "    mapbox = {\n",
    "        'center': {'lon': 91.84, 'lat': 24.13},\n",
    "        'style': \"open-street-map\",\n",
    "        # 'center': {'lon': -20, 'lat': -20},\n",
    "        'zoom': 8})\n",
    "\n",
    "fig.show()"
   ],
   "metadata": {
    "collapsed": false,
    "ExecuteTime": {
     "start_time": "2024-08-29T21:03:19.738452Z",
     "end_time": "2024-08-29T21:03:19.907820Z"
    }
   }
  },
  {
   "cell_type": "code",
   "execution_count": null,
   "outputs": [],
   "source": [
    "bbox_array_all = np.array([s.bbox[::-1] for s in shapes])\n",
    "forest_location = pd.DataFrame(((bbox_array_all[:,:2]+bbox_array_all[:,2:4])/2),columns=[\"Latitude\",\"Longitude\"])\n",
    "forest_location"
   ],
   "metadata": {
    "collapsed": false,
    "ExecuteTime": {
     "start_time": "2024-08-29T21:03:19.908737Z",
     "end_time": "2024-08-29T21:03:19.910319Z"
    }
   }
  },
  {
   "cell_type": "code",
   "execution_count": null,
   "outputs": [],
   "source": [
    "forest_location.to_csv(\"forest_location.csv\",index=False)"
   ],
   "metadata": {
    "collapsed": false,
    "ExecuteTime": {
     "start_time": "2024-08-29T21:03:19.909045Z",
     "end_time": "2024-08-29T21:03:19.910522Z"
    }
   }
  },
  {
   "cell_type": "code",
   "execution_count": null,
   "outputs": [],
   "source": [
    "near_forest_location = [\"Thakurgaon_Rangpur\", \"Dinajpur_Rangpur\", \"Saidpur_Rajshahi\", \"Rangpur_Rangpur\",\n",
    "                        \"Lalmanirhat_Rangpur\", \"Sherpur_Mymensingh\", \"Jamalpur_Mymensingh\", \"Sarishabari_Mymensingh\",\n",
    "                        \"Mymensingh_Mymensingh\", \"Tangail_Dhaka\", \"Nagarpur_Dhaka\", \"Habiganj_Sylhet\",\n",
    "                        \"Satkhira_Khulna\", \"Khagrachhari_Chittagong\", \"Chittagong_Chittagong\", \"Patiya_Chittagong\",\n",
    "                        \"Satkania_Chittagong\", \"Sandwip_Chittagong\", \"Joypur Hat_Rajshahi\", \"Netrakona_Mymensingh\",\n",
    "                        \"Comilla_Chittagong\", \"Maulavi Bazar_Sylhet\", \"Bhola_Barisal\", \"Feni_Chittagong\"\n",
    "                        ]"
   ],
   "metadata": {
    "collapsed": false,
    "ExecuteTime": {
     "start_time": "2024-08-29T21:03:19.909176Z",
     "end_time": "2024-08-29T21:03:19.910644Z"
    }
   }
  },
  {
   "cell_type": "code",
   "execution_count": null,
   "outputs": [],
   "source": [
    "from data_preparation.spatio_temporal_filtering import read_bd_data_4_years\n",
    "\n",
    "metadata, series, metadata_region, region_series, metadata_country, country_series = read_bd_data_4_years()\n",
    "series"
   ],
   "metadata": {
    "collapsed": false,
    "ExecuteTime": {
     "start_time": "2024-12-19T22:06:35.640504Z",
     "end_time": "2024-12-19T22:06:36.113928Z"
    }
   }
  },
  {
   "cell_type": "code",
   "execution_count": null,
   "outputs": [],
   "source": [
    "series[near_forest_location].stack().mean()"
   ],
   "metadata": {
    "collapsed": false,
    "ExecuteTime": {
     "start_time": "2024-08-29T21:03:20.758119Z",
     "end_time": "2024-08-29T21:03:20.802072Z"
    }
   }
  },
  {
   "cell_type": "code",
   "execution_count": null,
   "outputs": [],
   "source": [
    "series[series.columns[~series.columns.isin(near_forest_location)]].stack().mean()"
   ],
   "metadata": {
    "collapsed": false,
    "ExecuteTime": {
     "start_time": "2024-08-29T21:03:20.792881Z",
     "end_time": "2024-08-29T21:03:20.813077Z"
    }
   }
  },
  {
   "cell_type": "code",
   "execution_count": null,
   "outputs": [],
   "source": [
    "duplicates_bd = pd.read_csv(\"../data_preparation/Extra Data/duplicates_bd.csv\",index_col=\"zone\")\n",
    "duplicates_bd"
   ],
   "metadata": {
    "collapsed": false,
    "ExecuteTime": {
     "start_time": "2024-12-19T22:06:30.897543Z",
     "end_time": "2024-12-19T22:06:30.996290Z"
    }
   }
  },
  {
   "cell_type": "markdown",
   "source": [],
   "metadata": {
    "collapsed": false
   }
  },
  {
   "cell_type": "code",
   "execution_count": null,
   "outputs": [],
   "source": [
    "intro_table = metadata[[\"Zone\",\"Region\"]].copy()\n",
    "intro_table[\"Average Reading\"] = series.mean().round(2)\n",
    "intro_table[\"Missing Entries\"] = series.isna().sum()\n",
    "intro_table[\"Duplicate Values\"] = duplicates_bd.values\n",
    "intro_table = intro_table.set_index(\"Zone\").sort_values(by=\"Average Reading\",ascending=False)\n",
    "# intro_table[\"Near Forest\"] = \"No\"\n",
    "# intro_table.loc[near_forest_location,\"Near Forest\"] = \"Yes\"\n",
    "print(intro_table.to_latex(col_space=3))"
   ],
   "metadata": {
    "collapsed": false,
    "ExecuteTime": {
     "start_time": "2024-12-19T22:07:51.131251Z",
     "end_time": "2024-12-19T22:07:51.203977Z"
    }
   }
  },
  {
   "cell_type": "code",
   "execution_count": null,
   "outputs": [],
   "source": [
    "intro_table"
   ],
   "metadata": {
    "collapsed": false,
    "ExecuteTime": {
     "start_time": "2024-11-21T02:11:46.933727Z",
     "end_time": "2024-11-21T02:11:46.991972Z"
    }
   }
  },
  {
   "cell_type": "code",
   "execution_count": null,
   "outputs": [],
   "source": [
    "zone_income = pd.read_csv(\"../data_preparation/Extra Data/zone_income.csv\",index_col=\"zone\")\n",
    "zone_income_index_full = zone_income.index.copy()\n",
    "zone_income.index = zone_income.index.str.split(\"_\").str[0]\n",
    "zone_income"
   ],
   "metadata": {
    "collapsed": false,
    "ExecuteTime": {
     "start_time": "2024-12-19T22:26:59.311506Z",
     "end_time": "2024-12-19T22:26:59.356374Z"
    }
   }
  },
  {
   "cell_type": "code",
   "execution_count": null,
   "outputs": [],
   "source": [
    "intro_table_zone_income = pd.concat((intro_table,zone_income),axis=1)\n",
    "intro_table_zone_income"
   ],
   "metadata": {
    "collapsed": false,
    "ExecuteTime": {
     "start_time": "2024-11-20T18:30:31.457395Z",
     "end_time": "2024-11-20T18:30:31.500842Z"
    }
   }
  },
  {
   "cell_type": "code",
   "execution_count": null,
   "outputs": [],
   "source": [
    "intro_table_zone_income = intro_table_zone_income.drop_duplicates(subset=[\"per_capita_income\"])\n",
    "intro_table_zone_income"
   ],
   "metadata": {
    "collapsed": false,
    "ExecuteTime": {
     "start_time": "2024-11-20T18:30:34.183126Z",
     "end_time": "2024-11-20T18:30:34.183682Z"
    }
   }
  },
  {
   "cell_type": "code",
   "execution_count": null,
   "outputs": [],
   "source": [
    "intro_table_zone_income[\"Average Reading\"].corr(intro_table_zone_income[\"per_capita_income\"])"
   ],
   "metadata": {
    "collapsed": false,
    "ExecuteTime": {
     "start_time": "2024-11-20T18:30:36.477080Z",
     "end_time": "2024-11-20T18:30:36.520502Z"
    }
   }
  },
  {
   "cell_type": "markdown",
   "source": [],
   "metadata": {
    "collapsed": false
   }
  },
  {
   "cell_type": "code",
   "execution_count": null,
   "outputs": [],
   "source": [
    "intro_table_zone_income.isna().sum()"
   ],
   "metadata": {
    "collapsed": false,
    "ExecuteTime": {
     "start_time": "2024-11-20T18:30:38.902466Z",
     "end_time": "2024-11-20T18:30:38.951155Z"
    }
   }
  },
  {
   "cell_type": "code",
   "execution_count": null,
   "outputs": [],
   "source": [
    "\n",
    "\n",
    "def create_scatter_regression_plot(df):\n",
    "    # Perform linear regression\n",
    "    slope, intercept, r_value, p_value, std_err = stats.linregress(\n",
    "        df['per_capita_income'],\n",
    "        df['Average Reading']\n",
    "    )\n",
    "\n",
    "    # Create regression line\n",
    "    line_x = np.array([df['per_capita_income'].min(), df['per_capita_income'].max()])\n",
    "    line_y = intercept + slope * line_x\n",
    "\n",
    "    # Create scatter plot with regression line\n",
    "    fig = go.Figure()\n",
    "\n",
    "    # Scatter plot\n",
    "    fig.add_trace(go.Scatter(\n",
    "        x=df['per_capita_income'],\n",
    "        y=df['Average Reading'],\n",
    "        mode='markers',\n",
    "        name='Data Points',\n",
    "        marker=dict(\n",
    "            size=12,\n",
    "            color=df['per_capita_income'],\n",
    "            colorscale='gray',\n",
    "            # showscale=True,\n",
    "            # colorbar=dict(title='Per Capita Income')\n",
    "        ),\n",
    "        hovertemplate=(\n",
    "            'Per Capita Income: %{x}<br>' +\n",
    "            'Average Reading: %{y}<extra></extra>'\n",
    "        )\n",
    "    ))\n",
    "\n",
    "    # Regression line\n",
    "    fig.add_trace(go.Scatter(\n",
    "        x=line_x,\n",
    "        y=line_y,\n",
    "        mode='lines',\n",
    "        name='Regression Line',\n",
    "        line=dict(color='royalblue', dash='dash')\n",
    "    ))\n",
    "\n",
    "    fig.update_traces(marker=dict(line=dict(width=1, color='black')))\n",
    "    # Update layout\n",
    "    fig.update_layout(\n",
    "        title=f'Scatter Plot: Average Reading vs Per Capita Income<br>' +\n",
    "              f'R-squared: {r_value**2:.4f}, p-value: {p_value:.4f}',\n",
    "        xaxis_title='Per Capita Income',\n",
    "        yaxis_title='Average Reading',\n",
    "        template='plotly_white',\n",
    "        width = 900,\n",
    "        height = 900\n",
    "    )\n",
    "\n",
    "    return fig\n",
    "\n",
    "# Example usage\n",
    "plot = create_scatter_regression_plot(intro_table_zone_income)\n",
    "plot.show()"
   ],
   "metadata": {
    "collapsed": false,
    "ExecuteTime": {
     "start_time": "2024-11-20T18:36:19.080450Z",
     "end_time": "2024-11-20T18:36:19.117360Z"
    }
   }
  },
  {
   "cell_type": "code",
   "execution_count": null,
   "outputs": [],
   "source": [
    "import plotly.express as px\n",
    "\n",
    "# Example data\n",
    "df = intro_table_zone_income[['Average Reading', 'per_capita_income']]\n",
    "\n",
    "# Create a 2D KDE plot\n",
    "fig = px.density_contour(\n",
    "    df,\n",
    "    y=\"Average Reading\",\n",
    "    x=\"per_capita_income\",\n",
    "    title=\"2D KDE of Average Reading vs Per Capita Income\",\n",
    "    labels={\"Average Reading\": \"Average Reading\", \"per_capita_income\": \"Per Capita Income\"},\n",
    "    template=\"plotly_white\",\n",
    ")\n",
    "\n",
    "# Add filled contours for better visualization\n",
    "fig.update_traces(contours_coloring=\"fill\", colorscale=\"Greys\")\n",
    "\n",
    "# Customize layout\n",
    "fig.update_layout(\n",
    "    yaxis_title=\"Average Reading\",\n",
    "    xaxis_title=\"Per Capita Income\",\n",
    "    legend_title=\"Density\",\n",
    "    height=900,\n",
    "    width=900\n",
    ")\n",
    "\n",
    "# Show the plot\n",
    "fig.show()"
   ],
   "metadata": {
    "collapsed": false,
    "ExecuteTime": {
     "start_time": "2024-11-20T18:50:44.166473Z",
     "end_time": "2024-11-20T18:50:44.197177Z"
    }
   }
  },
  {
   "cell_type": "markdown",
   "source": [
    "# Zone to District Mapping"
   ],
   "metadata": {
    "collapsed": false
   }
  },
  {
   "cell_type": "code",
   "execution_count": null,
   "outputs": [],
   "source": [
    "district_income = pd.read_csv(\"../data_preparation/Extra Data/district_income.csv\",index_col=\"district\", sep='\\t+', engine='python')[[\"per_capita_income\"]]\n",
    "district_income"
   ],
   "metadata": {
    "collapsed": false,
    "ExecuteTime": {
     "start_time": "2024-12-19T22:27:26.913976Z",
     "end_time": "2024-12-19T22:27:26.957528Z"
    }
   }
  },
  {
   "cell_type": "code",
   "execution_count": null,
   "outputs": [],
   "source": [
    "zone_income_full = zone_income.set_index(zone_income_index_full).reset_index().rename(columns={\"index\": \"zone\"})\n",
    "district_income = district_income.reset_index().rename(columns={\"index\": \"district\"})"
   ],
   "metadata": {
    "collapsed": false,
    "ExecuteTime": {
     "start_time": "2024-12-19T22:27:33.908856Z",
     "end_time": "2024-12-19T22:27:33.915851Z"
    }
   }
  },
  {
   "cell_type": "code",
   "execution_count": null,
   "outputs": [],
   "source": [
    "zone_district_map = pd.merge(zone_income_full, district_income, on=\"per_capita_income\", how=\"inner\")[[\"zone\",\"district\"]]\n",
    "# zone_district_map.to_csv(\"zone_district_map.csv\",index=False)\n",
    "zone_district_map"
   ],
   "metadata": {
    "collapsed": false,
    "ExecuteTime": {
     "start_time": "2024-12-19T22:27:35.172357Z",
     "end_time": "2024-12-19T22:27:35.251884Z"
    }
   }
  },
  {
   "cell_type": "markdown",
   "source": [
    "# BBS Data Analysis"
   ],
   "metadata": {
    "collapsed": false
   }
  },
  {
   "cell_type": "code",
   "execution_count": null,
   "outputs": [],
   "source": [
    "Household_Population_Literacy_Rate_District_2011 = pd.read_csv('../data_preparation/Extra Data/BBS 2022 Data/Household_Population_Literacy_Rate_District_2011.csv', sep='\\s+', header=[0], index_col=0).replace(\"-\",0).astype(float)\n",
    "Household_Population_Literacy_Rate_District_2011"
   ],
   "metadata": {
    "collapsed": false,
    "ExecuteTime": {
     "start_time": "2024-12-19T22:26:33.968349Z",
     "end_time": "2024-12-19T22:26:33.986171Z"
    }
   }
  },
  {
   "cell_type": "code",
   "execution_count": null,
   "outputs": [],
   "source": [
    "Household_Population_Literacy_Rate_District_2011.columns"
   ],
   "metadata": {
    "collapsed": false,
    "ExecuteTime": {
     "start_time": "2024-11-25T23:26:17.478790Z",
     "end_time": "2024-11-25T23:26:17.518485Z"
    }
   }
  },
  {
   "cell_type": "code",
   "execution_count": null,
   "outputs": [],
   "source": [
    "road_length_district_2022 = pd.read_csv('../data_preparation/Extra Data/BBS 2022 Data/road_length_district_2022.csv', sep='\\s+', header=[0], index_col=0).replace(\"-\",0).astype(float)\n",
    "road_length_district_2022"
   ],
   "metadata": {
    "collapsed": false,
    "ExecuteTime": {
     "start_time": "2024-12-19T22:26:31.946562Z",
     "end_time": "2024-12-19T22:26:31.986761Z"
    }
   }
  },
  {
   "cell_type": "code",
   "execution_count": null,
   "outputs": [],
   "source": [
    "road_length_district_2022.columns"
   ],
   "metadata": {
    "collapsed": false,
    "ExecuteTime": {
     "start_time": "2024-11-25T23:26:48.889381Z",
     "end_time": "2024-11-25T23:26:48.919823Z"
    }
   }
  },
  {
   "cell_type": "code",
   "execution_count": null,
   "outputs": [],
   "source": [
    "district_income.index.sort_values()"
   ],
   "metadata": {
    "collapsed": false,
    "ExecuteTime": {
     "start_time": "2024-11-21T00:40:42.552538Z",
     "end_time": "2024-11-21T00:40:42.554725Z"
    }
   }
  },
  {
   "cell_type": "code",
   "execution_count": null,
   "outputs": [],
   "source": [
    "set(road_length_district_2022.index) - set(Household_Population_Literacy_Rate_District_2011.index)"
   ],
   "metadata": {
    "collapsed": false,
    "ExecuteTime": {
     "start_time": "2024-11-21T00:51:02.027180Z",
     "end_time": "2024-11-21T00:51:02.030962Z"
    }
   }
  },
  {
   "cell_type": "code",
   "execution_count": null,
   "outputs": [],
   "source": [
    "zone_district_map"
   ],
   "metadata": {
    "collapsed": false,
    "ExecuteTime": {
     "start_time": "2024-11-21T02:39:49.141043Z",
     "end_time": "2024-11-21T02:39:49.164096Z"
    }
   }
  },
  {
   "cell_type": "code",
   "execution_count": null,
   "outputs": [],
   "source": [
    "average_reading = series.median()[zone_district_map.zone]\n",
    "average_reading.name = \"average_reading\"\n",
    "average_reading"
   ],
   "metadata": {
    "collapsed": false,
    "ExecuteTime": {
     "start_time": "2024-12-19T22:27:52.370606Z",
     "end_time": "2024-12-19T22:27:52.471216Z"
    }
   }
  },
  {
   "cell_type": "code",
   "execution_count": null,
   "outputs": [],
   "source": [
    "road_and_household_data = pd.concat((road_length_district_2022.loc[zone_district_map.district],Household_Population_Literacy_Rate_District_2011.loc[zone_district_map.district]),axis=1)\n",
    "road_and_household_data[\"Per Capita Income\"] = zone_income[\"per_capita_income\"].values\n",
    "road_and_household_data.index = average_reading.index\n",
    "road_and_household_data"
   ],
   "metadata": {
    "collapsed": false,
    "ExecuteTime": {
     "start_time": "2024-12-19T22:27:54.780146Z",
     "end_time": "2024-12-19T22:27:54.785166Z"
    }
   }
  },
  {
   "cell_type": "code",
   "execution_count": null,
   "outputs": [],
   "source": [
    "# household_data = road_and_household_data[Household_Population_Literacy_Rate_District_2011.columns]\n",
    "road_and_household_data.apply(lambda x: x.corr(average_reading))"
   ],
   "metadata": {
    "collapsed": false,
    "ExecuteTime": {
     "start_time": "2024-12-19T23:11:01.535294Z",
     "end_time": "2024-12-19T23:11:01.671687Z"
    }
   }
  },
  {
   "cell_type": "code",
   "execution_count": null,
   "outputs": [],
   "source": [
    "Households_Total_Unique_Sorted = road_and_household_data[\"Population\"].sort_values() # .drop_duplicates()\n",
    "Households_Total_Unique_Sorted.describe() # 477976  714971"
   ],
   "metadata": {
    "collapsed": false,
    "ExecuteTime": {
     "start_time": "2024-12-19T23:12:31.368067Z",
     "end_time": "2024-12-19T23:12:31.451868Z"
    }
   }
  },
  {
   "cell_type": "code",
   "execution_count": null,
   "outputs": [],
   "source": [
    "fig = px.line(Households_Total_Unique_Sorted)\n",
    "fig.show()"
   ],
   "metadata": {
    "collapsed": false,
    "ExecuteTime": {
     "start_time": "2024-12-19T23:12:34.464600Z",
     "end_time": "2024-12-19T23:12:34.498098Z"
    }
   }
  },
  {
   "cell_type": "code",
   "execution_count": null,
   "outputs": [],
   "source": [
    "urban_areas = road_and_household_data[\"Population\"]>2.5e+06\n",
    "rural_areas = ~urban_areas\n",
    "rural_areas.sum(),urban_areas.sum()"
   ],
   "metadata": {
    "collapsed": false,
    "ExecuteTime": {
     "start_time": "2024-12-19T23:13:47.180118Z",
     "end_time": "2024-12-19T23:13:47.229520Z"
    }
   }
  },
  {
   "cell_type": "code",
   "execution_count": null,
   "outputs": [],
   "source": [],
   "metadata": {
    "collapsed": false
   }
  },
  {
   "cell_type": "code",
   "execution_count": null,
   "outputs": [],
   "source": [
    "urban_rural_areas = urban_areas\n",
    "urban_rural_group = urban_rural_areas.to_frame().groupby(\"Population\")\n",
    "urban_rural_average = []\n",
    "\n",
    "for g,areas_of_type in urban_rural_group:\n",
    "    # print(areas_of_type)\n",
    "    name = \"Urban\" if g else \"Rural\"\n",
    "    area_reading = series[areas_of_type.index].mean(axis=1).rename(name).to_frame()\n",
    "\n",
    "    # Extract the month name or month number\n",
    "    area_reading['month'] = area_reading.index.month\n",
    "    # print(area_reading)\n",
    "\n",
    "    # Group by month and calculate the average\n",
    "    monthly_avg = area_reading.groupby('month')[name].mean()\n",
    "    print(monthly_avg)\n",
    "    urban_rural_average.append(monthly_avg)"
   ],
   "metadata": {
    "collapsed": false,
    "ExecuteTime": {
     "start_time": "2024-12-19T23:14:01.950249Z",
     "end_time": "2024-12-19T23:14:02.036443Z"
    }
   }
  },
  {
   "cell_type": "code",
   "execution_count": 117,
   "outputs": [
    {
     "data": {
      "text/plain": "            Rural       Urban\nmonth                        \n1      123.025866  128.077374\n2       99.940860  103.842861\n3       74.362502   77.546485\n4       47.321421   49.701635\n5       31.119407   32.574720\n6       26.363871   27.272845\n7       21.362619   22.024330\n8       21.532997   22.242965\n9       23.555102   24.350402\n10      43.919597   44.922423\n11      79.124486   81.281181\n12     104.070986  107.327272",
      "text/html": "<div>\n<style scoped>\n    .dataframe tbody tr th:only-of-type {\n        vertical-align: middle;\n    }\n\n    .dataframe tbody tr th {\n        vertical-align: top;\n    }\n\n    .dataframe thead th {\n        text-align: right;\n    }\n</style>\n<table border=\"1\" class=\"dataframe\">\n  <thead>\n    <tr style=\"text-align: right;\">\n      <th></th>\n      <th>Rural</th>\n      <th>Urban</th>\n    </tr>\n    <tr>\n      <th>month</th>\n      <th></th>\n      <th></th>\n    </tr>\n  </thead>\n  <tbody>\n    <tr>\n      <th>1</th>\n      <td>123.025866</td>\n      <td>128.077374</td>\n    </tr>\n    <tr>\n      <th>2</th>\n      <td>99.940860</td>\n      <td>103.842861</td>\n    </tr>\n    <tr>\n      <th>3</th>\n      <td>74.362502</td>\n      <td>77.546485</td>\n    </tr>\n    <tr>\n      <th>4</th>\n      <td>47.321421</td>\n      <td>49.701635</td>\n    </tr>\n    <tr>\n      <th>5</th>\n      <td>31.119407</td>\n      <td>32.574720</td>\n    </tr>\n    <tr>\n      <th>6</th>\n      <td>26.363871</td>\n      <td>27.272845</td>\n    </tr>\n    <tr>\n      <th>7</th>\n      <td>21.362619</td>\n      <td>22.024330</td>\n    </tr>\n    <tr>\n      <th>8</th>\n      <td>21.532997</td>\n      <td>22.242965</td>\n    </tr>\n    <tr>\n      <th>9</th>\n      <td>23.555102</td>\n      <td>24.350402</td>\n    </tr>\n    <tr>\n      <th>10</th>\n      <td>43.919597</td>\n      <td>44.922423</td>\n    </tr>\n    <tr>\n      <th>11</th>\n      <td>79.124486</td>\n      <td>81.281181</td>\n    </tr>\n    <tr>\n      <th>12</th>\n      <td>104.070986</td>\n      <td>107.327272</td>\n    </tr>\n  </tbody>\n</table>\n</div>"
     },
     "execution_count": 117,
     "metadata": {},
     "output_type": "execute_result"
    }
   ],
   "source": [
    "urban_rural_average_df = pd.concat(urban_rural_average,axis=1)\n",
    "urban_rural_average_df"
   ],
   "metadata": {
    "collapsed": false,
    "ExecuteTime": {
     "start_time": "2024-12-19T23:22:06.560405Z",
     "end_time": "2024-12-19T23:22:06.608240Z"
    }
   }
  },
  {
   "cell_type": "code",
   "execution_count": 128,
   "outputs": [
    {
     "data": {
      "text/plain": "       Rural  Urban\nmonth              \n1      18.21  19.33\n2     -18.76 -18.92\n3     -25.59 -25.32\n4     -36.36 -35.91\n5     -34.24 -34.46\n6     -15.28 -16.28\n7     -18.97 -19.24\n8       0.80   0.99\n9       9.39   9.47\n10     86.45  84.48\n11     80.16  80.94\n12     31.53  32.04",
      "text/html": "<div>\n<style scoped>\n    .dataframe tbody tr th:only-of-type {\n        vertical-align: middle;\n    }\n\n    .dataframe tbody tr th {\n        vertical-align: top;\n    }\n\n    .dataframe thead th {\n        text-align: right;\n    }\n</style>\n<table border=\"1\" class=\"dataframe\">\n  <thead>\n    <tr style=\"text-align: right;\">\n      <th></th>\n      <th>Rural</th>\n      <th>Urban</th>\n    </tr>\n    <tr>\n      <th>month</th>\n      <th></th>\n      <th></th>\n    </tr>\n  </thead>\n  <tbody>\n    <tr>\n      <th>1</th>\n      <td>18.21</td>\n      <td>19.33</td>\n    </tr>\n    <tr>\n      <th>2</th>\n      <td>-18.76</td>\n      <td>-18.92</td>\n    </tr>\n    <tr>\n      <th>3</th>\n      <td>-25.59</td>\n      <td>-25.32</td>\n    </tr>\n    <tr>\n      <th>4</th>\n      <td>-36.36</td>\n      <td>-35.91</td>\n    </tr>\n    <tr>\n      <th>5</th>\n      <td>-34.24</td>\n      <td>-34.46</td>\n    </tr>\n    <tr>\n      <th>6</th>\n      <td>-15.28</td>\n      <td>-16.28</td>\n    </tr>\n    <tr>\n      <th>7</th>\n      <td>-18.97</td>\n      <td>-19.24</td>\n    </tr>\n    <tr>\n      <th>8</th>\n      <td>0.80</td>\n      <td>0.99</td>\n    </tr>\n    <tr>\n      <th>9</th>\n      <td>9.39</td>\n      <td>9.47</td>\n    </tr>\n    <tr>\n      <th>10</th>\n      <td>86.45</td>\n      <td>84.48</td>\n    </tr>\n    <tr>\n      <th>11</th>\n      <td>80.16</td>\n      <td>80.94</td>\n    </tr>\n    <tr>\n      <th>12</th>\n      <td>31.53</td>\n      <td>32.04</td>\n    </tr>\n  </tbody>\n</table>\n</div>"
     },
     "execution_count": 128,
     "metadata": {},
     "output_type": "execute_result"
    }
   ],
   "source": [
    "# Calculate percentage change\n",
    "df_pct_change = urban_rural_average_df.pct_change()\n",
    "\n",
    "# Calculate the percentage change for the first month (January) using December's values\n",
    "first_row_pct_change = (urban_rural_average_df.iloc[0] - urban_rural_average_df.iloc[-1]) / urban_rural_average_df.iloc[-1]\n",
    "\n",
    "# Replace the NaN in the first row with the calculated values\n",
    "df_pct_change.iloc[0] = first_row_pct_change\n",
    "\n",
    "# Multiply by 100 to get actual percentage values\n",
    "df_pct_change = df_pct_change * 100\n",
    "\n",
    "# Round to two decimal places\n",
    "df_pct_change = df_pct_change.round(2)\n",
    "df_pct_change"
   ],
   "metadata": {
    "collapsed": false,
    "ExecuteTime": {
     "start_time": "2024-12-19T23:27:13.408832Z",
     "end_time": "2024-12-19T23:27:13.412708Z"
    }
   }
  },
  {
   "cell_type": "code",
   "execution_count": 129,
   "outputs": [
    {
     "data": {
      "text/plain": "month\n1    -1.12\n2     0.16\n3    -0.27\n4    -0.45\n5     0.22\n6     1.00\n7     0.27\n8    -0.19\n9    -0.08\n10    1.97\n11   -0.78\n12   -0.51\ndtype: float64"
     },
     "execution_count": 129,
     "metadata": {},
     "output_type": "execute_result"
    }
   ],
   "source": [
    "df_pct_change[\"Rural\"]-df_pct_change[\"Urban\"]"
   ],
   "metadata": {
    "collapsed": false,
    "ExecuteTime": {
     "start_time": "2024-12-19T23:29:39.484218Z",
     "end_time": "2024-12-19T23:29:39.541089Z"
    }
   }
  },
  {
   "cell_type": "code",
   "execution_count": null,
   "outputs": [],
   "source": [
    "road_and_household_data.columns"
   ],
   "metadata": {
    "collapsed": false,
    "ExecuteTime": {
     "start_time": "2024-11-21T03:53:41.447490Z",
     "end_time": "2024-11-21T03:53:41.479863Z"
    }
   }
  },
  {
   "cell_type": "code",
   "execution_count": null,
   "outputs": [],
   "source": [
    "road_and_household_data_log_transformed = road_and_household_data.apply(lambda x: np.log(x + 1))\n",
    "average_reading_log = np.log(average_reading + 1)\n",
    "\n",
    "road_and_household_data_selected_columns = [\n",
    "    'Total Highways', 'Per Capita Income', 'Households Total',\n",
    "    'Households General', 'Households Institutional', 'Households Others',\n",
    "    'Population', 'Male', 'Female']"
   ],
   "metadata": {
    "collapsed": false,
    "ExecuteTime": {
     "start_time": "2024-12-19T23:07:39.023133Z",
     "end_time": "2024-12-19T23:07:39.048842Z"
    }
   }
  },
  {
   "cell_type": "code",
   "execution_count": null,
   "outputs": [],
   "source": [
    "from plotly.subplots import make_subplots\n",
    "\n",
    "rows, cols = 3, 3\n",
    "\n",
    "# Create subplots\n",
    "fig = make_subplots(rows=rows, cols=cols, subplot_titles=road_and_household_data_selected_columns,\n",
    "                    horizontal_spacing=0.05,  # Reduce horizontal spacing\n",
    "                    vertical_spacing=0.1)\n",
    "\n",
    "# Loop through each column and add scatter plots\n",
    "for i, col in enumerate(road_and_household_data_selected_columns):\n",
    "    # print(\"i \",i,col)\n",
    "    row = i // cols + 1\n",
    "    col_num = i % cols + 1\n",
    "\n",
    "    # Create scatter plot with regression line\n",
    "    scatter_fig = px.scatter(\n",
    "        # x=road_and_household_data[col],\n",
    "        x=road_and_household_data_log_transformed[col],\n",
    "        y=average_reading,\n",
    "        trendline=\"ols\",\n",
    "        labels={col: col, \"y\": \"Average Reading\"},\n",
    "        title=f\"{col} vs Average Reading\"\n",
    "    )\n",
    "\n",
    "    scatter_fig.update_traces(\n",
    "        marker=dict(\n",
    "            color='silver',  # White fill for the markers\n",
    "            line=dict(\n",
    "                color='black',  # Black border for the markers\n",
    "                width=1  # Width of the border line\n",
    "            ),\n",
    "            size=9  # Increase marker size (you can adjust this value as needed)\n",
    "\n",
    "        )\n",
    "    )\n",
    "\n",
    "    scatter_fig.update_traces(\n",
    "        line=dict(\n",
    "            color='darkgrey',  # Set the trendline color to dark blue (or any other color)\n",
    "            width=3  # Increase the width of the trendline\n",
    "        ),\n",
    "        selector=dict(mode='lines')  # Ensure the trendline settings are applied\n",
    "    )\n",
    "\n",
    "    # Add traces to the subplots\n",
    "    for trace in scatter_fig['data']:\n",
    "        # print(row,col_num)\n",
    "        fig.add_trace(trace, row=row, col=col_num)\n",
    "\n",
    "# Update layout\n",
    "fig.update_layout(\n",
    "    title=\"Scatter Plots with Regression Lines\",\n",
    "    height=1200, width=1200,\n",
    "    showlegend=False,\n",
    "    template='plotly_white',\n",
    "    font_size = 15\n",
    ")\n",
    "\n",
    "# Show plot\n",
    "fig.show()"
   ],
   "metadata": {
    "collapsed": false,
    "ExecuteTime": {
     "start_time": "2024-12-19T23:07:40.074671Z",
     "end_time": "2024-12-19T23:07:40.805690Z"
    }
   }
  },
  {
   "cell_type": "code",
   "execution_count": null,
   "outputs": [],
   "source": [
    "import statsmodels.api as sm\n",
    "\n",
    "# Assuming 'road_and_household_data_log_transformed' is your DataFrame and 'average_reading' is the target variable\n",
    "\n",
    "# Loop through all columns of the dataframe\n",
    "for col in road_and_household_data_selected_columns:\n",
    "    # Set the independent variable X and dependent variable y\n",
    "    X = road_and_household_data_log_transformed[col]\n",
    "    y = average_reading\n",
    "\n",
    "    # Add constant to X for the intercept\n",
    "    X = sm.add_constant(X)\n",
    "\n",
    "    # Fit the OLS model\n",
    "    model = sm.OLS(y, X).fit()\n",
    "\n",
    "    # Print the OLS summary for each variable\n",
    "    print(f\"OLS Summary for {col}:\")\n",
    "    print(model.summary())\n",
    "    print(\"\\n\" + \"-\"*80 + \"\\n\")"
   ],
   "metadata": {
    "collapsed": false,
    "ExecuteTime": {
     "start_time": "2024-12-19T23:09:16.164205Z",
     "end_time": "2024-12-19T23:09:16.358591Z"
    }
   }
  }
 ],
 "metadata": {
  "kernelspec": {
   "display_name": "Python 3",
   "language": "python",
   "name": "python3"
  },
  "language_info": {
   "codemirror_mode": {
    "name": "ipython",
    "version": 2
   },
   "file_extension": ".py",
   "mimetype": "text/x-python",
   "name": "python",
   "nbconvert_exporter": "python",
   "pygments_lexer": "ipython2",
   "version": "2.7.6"
  }
 },
 "nbformat": 4,
 "nbformat_minor": 0
}
