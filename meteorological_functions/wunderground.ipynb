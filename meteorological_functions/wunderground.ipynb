{
 "cells": [
  {
   "cell_type": "code",
   "execution_count": 3,
   "metadata": {
    "collapsed": true,
    "pycharm": {
     "name": "#%%\n"
    }
   },
   "outputs": [],
   "source": [
    "import math\n",
    "import numpy as np\n",
    "import pandas as pd\n",
    "from statistics import mode\n",
    "import plotly.express as px\n",
    "from meteorological_functions.wunderground_data_preparation import nominal_var\n",
    "from meteorological_functions.wind_data_exploration import vector_calculation\n",
    "from meteorological_functions.wunderground_data_preparation import circular_var\n",
    "from meteorological_functions.wunderground_data_preparation import regions\n",
    "from meteorological_functions.wunderground_data_exploration import prepare_data"
   ]
  },
  {
   "cell_type": "code",
   "execution_count": 4,
   "outputs": [
    {
     "data": {
      "text/plain": "                     Temperature  Dew Point  Humidity  Wind Speed  Wind Gust  \\\nTime                                                                           \n2020-02-09 20:00:00        21.11      12.78      60.0         5.0      12.80   \n2021-04-23 12:00:00        31.11      21.11      55.0        10.0      25.60   \n2019-02-24 11:30:00        27.78      16.11      48.0         6.0      15.36   \n2020-02-21 03:30:00        17.78      12.22      68.0         0.0       0.00   \n2020-09-26 13:00:00        31.11      23.89      66.0        14.0      35.84   \n\n                      Pressure  Precip. Condition  Wind Direction  \nTime                                                               \n2020-02-09 20:00:00  1015.8000      0.0      Haze           292.5  \n2021-04-23 12:00:00  1009.0280      0.0      Haze           270.0  \n2019-02-24 11:30:00  1011.7368      0.0      Haze           337.5  \n2020-02-21 03:30:00  1015.8000      0.0      Haze             NaN  \n2020-09-26 13:00:00  1001.9174      0.0      Haze           180.0  ",
      "text/html": "<div>\n<style scoped>\n    .dataframe tbody tr th:only-of-type {\n        vertical-align: middle;\n    }\n\n    .dataframe tbody tr th {\n        vertical-align: top;\n    }\n\n    .dataframe thead th {\n        text-align: right;\n    }\n</style>\n<table border=\"1\" class=\"dataframe\">\n  <thead>\n    <tr style=\"text-align: right;\">\n      <th></th>\n      <th>Temperature</th>\n      <th>Dew Point</th>\n      <th>Humidity</th>\n      <th>Wind Speed</th>\n      <th>Wind Gust</th>\n      <th>Pressure</th>\n      <th>Precip.</th>\n      <th>Condition</th>\n      <th>Wind Direction</th>\n    </tr>\n    <tr>\n      <th>Time</th>\n      <th></th>\n      <th></th>\n      <th></th>\n      <th></th>\n      <th></th>\n      <th></th>\n      <th></th>\n      <th></th>\n      <th></th>\n    </tr>\n  </thead>\n  <tbody>\n    <tr>\n      <th>2020-02-09 20:00:00</th>\n      <td>21.11</td>\n      <td>12.78</td>\n      <td>60.0</td>\n      <td>5.0</td>\n      <td>12.80</td>\n      <td>1015.8000</td>\n      <td>0.0</td>\n      <td>Haze</td>\n      <td>292.5</td>\n    </tr>\n    <tr>\n      <th>2021-04-23 12:00:00</th>\n      <td>31.11</td>\n      <td>21.11</td>\n      <td>55.0</td>\n      <td>10.0</td>\n      <td>25.60</td>\n      <td>1009.0280</td>\n      <td>0.0</td>\n      <td>Haze</td>\n      <td>270.0</td>\n    </tr>\n    <tr>\n      <th>2019-02-24 11:30:00</th>\n      <td>27.78</td>\n      <td>16.11</td>\n      <td>48.0</td>\n      <td>6.0</td>\n      <td>15.36</td>\n      <td>1011.7368</td>\n      <td>0.0</td>\n      <td>Haze</td>\n      <td>337.5</td>\n    </tr>\n    <tr>\n      <th>2020-02-21 03:30:00</th>\n      <td>17.78</td>\n      <td>12.22</td>\n      <td>68.0</td>\n      <td>0.0</td>\n      <td>0.00</td>\n      <td>1015.8000</td>\n      <td>0.0</td>\n      <td>Haze</td>\n      <td>NaN</td>\n    </tr>\n    <tr>\n      <th>2020-09-26 13:00:00</th>\n      <td>31.11</td>\n      <td>23.89</td>\n      <td>66.0</td>\n      <td>14.0</td>\n      <td>35.84</td>\n      <td>1001.9174</td>\n      <td>0.0</td>\n      <td>Haze</td>\n      <td>180.0</td>\n    </tr>\n  </tbody>\n</table>\n</div>"
     },
     "execution_count": 4,
     "metadata": {},
     "output_type": "execute_result"
    }
   ],
   "source": [
    "raw_data = prepare_data(regions[0])\n",
    "raw_data.sample(5)"
   ],
   "metadata": {
    "collapsed": false,
    "pycharm": {
     "name": "#%%\n"
    }
   }
  },
  {
   "cell_type": "code",
   "execution_count": 10,
   "outputs": [
    {
     "data": {
      "text/plain": "count    52100.000000\nmean        14.539965\nstd         12.310930\nmin          0.000000\n25%          7.680000\n50%         15.360000\n75%         20.480000\nmax        486.400000\nName: Wind Gust, dtype: float64"
     },
     "execution_count": 10,
     "metadata": {},
     "output_type": "execute_result"
    }
   ],
   "source": [
    "raw_data['Wind Gust'].describe()"
   ],
   "metadata": {
    "collapsed": false,
    "pycharm": {
     "name": "#%%\n"
    }
   }
  },
  {
   "cell_type": "code",
   "execution_count": null,
   "outputs": [],
   "source": [
    "# filled_dataset = dataset.fillna(dataset.rolling(6,min_periods=1).mean())"
   ],
   "metadata": {
    "collapsed": false,
    "pycharm": {
     "name": "#%%\n"
    }
   }
  },
  {
   "cell_type": "code",
   "execution_count": 6,
   "outputs": [
    {
     "data": {
      "text/plain": "                     Temperature  Dew Point  Humidity  Wind Speed  Wind Gust  \\\nTime                                                                           \n2019-01-01 00:00:00        17.78      12.22      68.0         3.0       7.68   \n2019-01-01 00:30:00        17.78      12.78      73.0         3.0       7.68   \n2019-01-01 01:00:00        17.78      12.78      73.0         3.0       7.68   \n2019-01-01 01:30:00        17.22      12.22      72.0         0.0       0.00   \n2019-01-01 02:00:00        17.22      12.22      72.0         0.0       0.00   \n...                          ...        ...       ...         ...        ...   \n2021-12-31 21:30:00        22.78      16.11      65.0         3.0       7.68   \n2021-12-31 22:00:00        22.78      16.11      65.0         3.0       7.68   \n2021-12-31 22:30:00        22.78      16.11      65.0         0.0       0.00   \n2021-12-31 23:00:00        22.22      16.11      69.0         3.0       7.68   \n2021-12-31 23:30:00        22.22      16.11      69.0         0.0       0.00   \n\n                      Pressure  Precip. Condition  Wind Direction  \nTime                                                               \n2019-01-01 00:00:00  1017.8316      0.0      Haze           337.5  \n2019-01-01 00:30:00  1017.8316      0.0      Haze           292.5  \n2019-01-01 01:00:00  1016.8158      0.0      Haze           315.0  \n2019-01-01 01:30:00  1016.8158      0.0      Haze             NaN  \n2019-01-01 02:00:00  1016.8158      0.0      Haze             NaN  \n...                        ...      ...       ...             ...  \n2021-12-31 21:30:00  1018.8474      0.0      Haze           270.0  \n2021-12-31 22:00:00  1018.8474      0.0      Haze           270.0  \n2021-12-31 22:30:00  1018.8474      0.0      Haze             NaN  \n2021-12-31 23:00:00  1018.8474      0.0      Haze           292.5  \n2021-12-31 23:30:00  1018.8474      0.0      Haze             NaN  \n\n[52100 rows x 9 columns]",
      "text/html": "<div>\n<style scoped>\n    .dataframe tbody tr th:only-of-type {\n        vertical-align: middle;\n    }\n\n    .dataframe tbody tr th {\n        vertical-align: top;\n    }\n\n    .dataframe thead th {\n        text-align: right;\n    }\n</style>\n<table border=\"1\" class=\"dataframe\">\n  <thead>\n    <tr style=\"text-align: right;\">\n      <th></th>\n      <th>Temperature</th>\n      <th>Dew Point</th>\n      <th>Humidity</th>\n      <th>Wind Speed</th>\n      <th>Wind Gust</th>\n      <th>Pressure</th>\n      <th>Precip.</th>\n      <th>Condition</th>\n      <th>Wind Direction</th>\n    </tr>\n    <tr>\n      <th>Time</th>\n      <th></th>\n      <th></th>\n      <th></th>\n      <th></th>\n      <th></th>\n      <th></th>\n      <th></th>\n      <th></th>\n      <th></th>\n    </tr>\n  </thead>\n  <tbody>\n    <tr>\n      <th>2019-01-01 00:00:00</th>\n      <td>17.78</td>\n      <td>12.22</td>\n      <td>68.0</td>\n      <td>3.0</td>\n      <td>7.68</td>\n      <td>1017.8316</td>\n      <td>0.0</td>\n      <td>Haze</td>\n      <td>337.5</td>\n    </tr>\n    <tr>\n      <th>2019-01-01 00:30:00</th>\n      <td>17.78</td>\n      <td>12.78</td>\n      <td>73.0</td>\n      <td>3.0</td>\n      <td>7.68</td>\n      <td>1017.8316</td>\n      <td>0.0</td>\n      <td>Haze</td>\n      <td>292.5</td>\n    </tr>\n    <tr>\n      <th>2019-01-01 01:00:00</th>\n      <td>17.78</td>\n      <td>12.78</td>\n      <td>73.0</td>\n      <td>3.0</td>\n      <td>7.68</td>\n      <td>1016.8158</td>\n      <td>0.0</td>\n      <td>Haze</td>\n      <td>315.0</td>\n    </tr>\n    <tr>\n      <th>2019-01-01 01:30:00</th>\n      <td>17.22</td>\n      <td>12.22</td>\n      <td>72.0</td>\n      <td>0.0</td>\n      <td>0.00</td>\n      <td>1016.8158</td>\n      <td>0.0</td>\n      <td>Haze</td>\n      <td>NaN</td>\n    </tr>\n    <tr>\n      <th>2019-01-01 02:00:00</th>\n      <td>17.22</td>\n      <td>12.22</td>\n      <td>72.0</td>\n      <td>0.0</td>\n      <td>0.00</td>\n      <td>1016.8158</td>\n      <td>0.0</td>\n      <td>Haze</td>\n      <td>NaN</td>\n    </tr>\n    <tr>\n      <th>...</th>\n      <td>...</td>\n      <td>...</td>\n      <td>...</td>\n      <td>...</td>\n      <td>...</td>\n      <td>...</td>\n      <td>...</td>\n      <td>...</td>\n      <td>...</td>\n    </tr>\n    <tr>\n      <th>2021-12-31 21:30:00</th>\n      <td>22.78</td>\n      <td>16.11</td>\n      <td>65.0</td>\n      <td>3.0</td>\n      <td>7.68</td>\n      <td>1018.8474</td>\n      <td>0.0</td>\n      <td>Haze</td>\n      <td>270.0</td>\n    </tr>\n    <tr>\n      <th>2021-12-31 22:00:00</th>\n      <td>22.78</td>\n      <td>16.11</td>\n      <td>65.0</td>\n      <td>3.0</td>\n      <td>7.68</td>\n      <td>1018.8474</td>\n      <td>0.0</td>\n      <td>Haze</td>\n      <td>270.0</td>\n    </tr>\n    <tr>\n      <th>2021-12-31 22:30:00</th>\n      <td>22.78</td>\n      <td>16.11</td>\n      <td>65.0</td>\n      <td>0.0</td>\n      <td>0.00</td>\n      <td>1018.8474</td>\n      <td>0.0</td>\n      <td>Haze</td>\n      <td>NaN</td>\n    </tr>\n    <tr>\n      <th>2021-12-31 23:00:00</th>\n      <td>22.22</td>\n      <td>16.11</td>\n      <td>69.0</td>\n      <td>3.0</td>\n      <td>7.68</td>\n      <td>1018.8474</td>\n      <td>0.0</td>\n      <td>Haze</td>\n      <td>292.5</td>\n    </tr>\n    <tr>\n      <th>2021-12-31 23:30:00</th>\n      <td>22.22</td>\n      <td>16.11</td>\n      <td>69.0</td>\n      <td>0.0</td>\n      <td>0.00</td>\n      <td>1018.8474</td>\n      <td>0.0</td>\n      <td>Haze</td>\n      <td>NaN</td>\n    </tr>\n  </tbody>\n</table>\n<p>52100 rows × 9 columns</p>\n</div>"
     },
     "execution_count": 6,
     "metadata": {},
     "output_type": "execute_result"
    }
   ],
   "source": [
    "# raw_data.replace(-17.78,0)"
   ],
   "metadata": {
    "collapsed": false,
    "pycharm": {
     "name": "#%%\n"
    }
   }
  },
  {
   "cell_type": "code",
   "execution_count": 7,
   "outputs": [
    {
     "data": {
      "text/plain": "Time\n2019-01-01 00:00:00    17.78\n2019-01-01 00:30:00    17.78\n2019-01-01 01:00:00    17.78\n2019-01-01 01:30:00    17.22\n2019-01-01 02:00:00    17.22\n                       ...  \n2021-12-31 21:30:00    22.78\n2021-12-31 22:00:00    22.78\n2021-12-31 22:30:00    22.78\n2021-12-31 23:00:00    22.22\n2021-12-31 23:30:00    22.22\nName: Temperature, Length: 52100, dtype: float64"
     },
     "execution_count": 7,
     "metadata": {},
     "output_type": "execute_result"
    }
   ],
   "source": [
    "raw_data.Temperature.abs()"
   ],
   "metadata": {
    "collapsed": false,
    "pycharm": {
     "name": "#%%\n"
    }
   }
  },
  {
   "cell_type": "code",
   "execution_count": 8,
   "outputs": [
    {
     "data": {
      "text/plain": "Time\n2019-01-12 16:00:00   -17.78\n2019-01-19 15:30:00   -17.78\n2019-02-16 20:00:00   -17.78\n2019-03-02 18:30:00   -17.78\n2019-03-02 19:00:00   -17.78\n2019-03-07 15:30:00   -17.78\n2019-03-07 22:00:00   -17.78\n2019-03-12 19:30:00   -17.78\n2019-03-15 00:00:00   -17.78\n2019-04-11 04:30:00   -17.78\n2019-04-20 15:00:00   -17.78\n2019-04-23 21:00:00   -17.78\n2019-05-18 17:30:00   -17.78\n2019-05-25 04:30:00   -17.78\n2019-08-07 21:30:00   -17.78\n2019-08-24 16:30:00   -17.78\n2019-12-31 16:00:00   -17.78\n2020-01-28 02:00:00   -17.78\n2020-02-09 10:00:00   -17.78\n2020-04-15 20:30:00   -17.78\n2020-04-24 18:00:00   -17.78\n2020-05-10 17:00:00   -17.78\n2020-06-01 22:00:00   -17.78\n2020-06-16 15:00:00   -17.78\n2020-07-04 02:00:00   -17.78\n2020-07-10 19:30:00   -17.78\n2020-07-10 20:00:00   -17.78\n2020-07-23 06:30:00   -17.78\n2020-08-29 19:30:00   -17.78\n2020-09-20 10:30:00   -17.78\n2020-10-15 15:30:00   -17.78\n2021-02-07 20:00:00   -17.78\n2021-03-25 05:00:00   -17.78\n2021-04-06 15:00:00   -17.78\n2021-04-16 17:00:00   -17.78\n2021-05-04 17:30:00   -17.78\n2021-08-05 06:00:00   -17.78\n2021-08-26 00:30:00   -17.78\n2021-09-19 04:30:00   -17.78\n2021-11-10 05:30:00   -17.78\nName: Temperature, dtype: float64"
     },
     "execution_count": 8,
     "metadata": {},
     "output_type": "execute_result"
    }
   ],
   "source": [
    "raw_data.Temperature[raw_data.Temperature<0]"
   ],
   "metadata": {
    "collapsed": false,
    "pycharm": {
     "name": "#%%\n"
    }
   }
  },
  {
   "cell_type": "code",
   "execution_count": 9,
   "outputs": [
    {
     "data": {
      "text/plain": "Time\n2019-01-12 16:00:00   -17.78\n2019-01-19 15:30:00   -17.78\n2019-02-16 20:00:00   -17.78\n2019-03-02 18:30:00   -17.78\n2019-03-02 19:00:00   -17.78\n2019-03-07 15:30:00   -17.78\n2019-03-07 22:00:00   -17.78\n2019-03-12 19:30:00   -17.78\n2019-03-15 00:00:00   -17.78\n2019-04-11 04:30:00   -17.78\n2019-04-20 15:00:00   -17.78\n2019-04-23 21:00:00   -17.78\n2019-05-18 17:30:00   -17.78\n2019-05-25 04:30:00   -17.78\n2019-08-07 21:30:00   -17.78\n2019-08-24 16:30:00   -17.78\n2019-12-31 16:00:00   -17.78\n2020-01-28 02:00:00   -17.78\n2020-02-09 10:00:00   -17.78\n2020-04-15 20:30:00   -17.78\n2020-04-24 18:00:00   -17.78\n2020-05-10 17:00:00   -17.78\n2020-06-01 22:00:00   -17.78\n2020-06-16 15:00:00   -17.78\n2020-07-04 02:00:00   -17.78\n2020-07-10 19:30:00   -17.78\n2020-07-10 20:00:00   -17.78\n2020-07-23 06:30:00   -17.78\n2020-08-29 19:30:00   -17.78\n2020-09-20 10:30:00   -17.78\n2020-10-15 15:30:00   -17.78\n2021-02-07 20:00:00   -17.78\n2021-03-25 05:00:00   -17.78\n2021-04-06 15:00:00   -17.78\n2021-04-16 17:00:00   -17.78\n2021-05-04 17:30:00   -17.78\n2021-08-05 06:00:00   -17.78\n2021-08-26 00:30:00   -17.78\n2021-09-19 04:30:00   -17.78\n2021-11-10 05:30:00   -17.78\nName: Dew Point, dtype: float64"
     },
     "execution_count": 9,
     "metadata": {},
     "output_type": "execute_result"
    }
   ],
   "source": [
    "# raw_data['Dew Point'][raw_data['Dew Point']<0]"
   ],
   "metadata": {
    "collapsed": false,
    "pycharm": {
     "name": "#%%\n"
    }
   }
  },
  {
   "cell_type": "code",
   "execution_count": null,
   "outputs": [],
   "source": [
    "'/home/asif/PycharmProjects/Air_Quality_Analysis/Files/meteo data/wunderground/Dhaka.csv'"
   ],
   "metadata": {
    "collapsed": false,
    "pycharm": {
     "name": "#%%\n"
    }
   }
  },
  {
   "cell_type": "code",
   "execution_count": 3,
   "outputs": [
    {
     "data": {
      "text/plain": "Index(['Temperature', 'Dew Point', 'Humidity', 'Wind Speed', 'Wind Gust',\n       'Pressure', 'Precip.', 'Condition', 'Wind Direction'],\n      dtype='object')"
     },
     "execution_count": 3,
     "metadata": {},
     "output_type": "execute_result"
    }
   ],
   "source": [
    "raw_data.columns"
   ],
   "metadata": {
    "collapsed": false,
    "pycharm": {
     "name": "#%%\n"
    }
   }
  },
  {
   "cell_type": "code",
   "execution_count": 6,
   "outputs": [],
   "source": [
    "# for region in regions:\n",
    "#     prepare_data(region).to_csv(region+'.csv')"
   ],
   "metadata": {
    "collapsed": false,
    "pycharm": {
     "name": "#%%\n"
    }
   }
  },
  {
   "cell_type": "code",
   "execution_count": 5,
   "outputs": [
    {
     "name": "stderr",
     "output_type": "stream",
     "text": [
      "<ipython-input-5-8ef64aa4ea92>:6: VisibleDeprecationWarning: Creating an ndarray from ragged nested sequences (which is a list-or-tuple of lists-or-tuples-or ndarrays with different lengths or shapes) is deprecated. If you meant to do this, you must specify 'dtype=object' when creating the ndarray\n",
      "  meteo_data = np.array(\n"
     ]
    }
   ],
   "source": [
    "# import xarray as xr\n",
    "#\n",
    "# from datetime import timedelta,datetime\n",
    "# time = pd.date_range(start='2019-01-01', end='2022-01-01' , freq='H')[:-1]\n",
    "#\n",
    "# meteo_data = np.array(\n",
    "#     [prepare_data(region) for region in regions])"
   ],
   "metadata": {
    "collapsed": false,
    "pycharm": {
     "name": "#%%\n"
    }
   }
  },
  {
   "cell_type": "code",
   "execution_count": 6,
   "outputs": [
    {
     "data": {
      "text/plain": "DatetimeIndex(['2019-01-01 00:00:00', '2019-01-01 01:00:00',\n               '2019-01-01 02:00:00', '2019-01-01 03:00:00',\n               '2019-01-01 04:00:00', '2019-01-01 05:00:00',\n               '2019-01-01 06:00:00', '2019-01-01 07:00:00',\n               '2019-01-01 08:00:00', '2019-01-01 09:00:00',\n               ...\n               '2021-12-31 14:00:00', '2021-12-31 15:00:00',\n               '2021-12-31 16:00:00', '2021-12-31 17:00:00',\n               '2021-12-31 18:00:00', '2021-12-31 19:00:00',\n               '2021-12-31 20:00:00', '2021-12-31 21:00:00',\n               '2021-12-31 22:00:00', '2021-12-31 23:00:00'],\n              dtype='datetime64[ns]', length=26304, freq='H')"
     },
     "execution_count": 6,
     "metadata": {},
     "output_type": "execute_result"
    }
   ],
   "source": [
    "# time"
   ],
   "metadata": {
    "collapsed": false,
    "pycharm": {
     "name": "#%%\n"
    }
   }
  },
  {
   "cell_type": "code",
   "execution_count": null,
   "outputs": [],
   "source": [
    "# data = xr.DataArray(data=meteo_data,\n",
    "#                     coords={\"district\": regions, \"time\": time, \"factor\": raw_data.columns},\n",
    "#                     dims=[\"district\", \"time\", \"factor\"], name='meteo')"
   ],
   "metadata": {
    "collapsed": false,
    "pycharm": {
     "name": "#%%\n"
    }
   }
  },
  {
   "cell_type": "code",
   "execution_count": 4,
   "outputs": [
    {
     "data": {
      "text/plain": "(52100, 10)"
     },
     "execution_count": 4,
     "metadata": {},
     "output_type": "execute_result"
    }
   ],
   "source": [
    "raw_data.shape"
   ],
   "metadata": {
    "collapsed": false,
    "pycharm": {
     "name": "#%%\n"
    }
   }
  },
  {
   "cell_type": "code",
   "execution_count": 4,
   "outputs": [
    {
     "name": "stdout",
     "output_type": "stream",
     "text": [
      "<class 'pandas.core.frame.DataFrame'>\n",
      "DatetimeIndex: 52100 entries, 2019-01-01 00:00:00 to 2021-12-31 23:30:00\n",
      "Data columns (total 9 columns):\n",
      " #   Column          Non-Null Count  Dtype  \n",
      "---  ------          --------------  -----  \n",
      " 0   Temperature     52100 non-null  float64\n",
      " 1   Dew Point       52100 non-null  float64\n",
      " 2   Humidity        52100 non-null  float64\n",
      " 3   Wind Speed      52100 non-null  float64\n",
      " 4   Wind Gust       52100 non-null  float64\n",
      " 5   Pressure        52100 non-null  float64\n",
      " 6   Precip.         52100 non-null  float64\n",
      " 7   Condition       52100 non-null  object \n",
      " 8   Wind Direction  39699 non-null  float64\n",
      "dtypes: float64(8), object(1)\n",
      "memory usage: 4.0+ MB\n"
     ]
    }
   ],
   "source": [
    "raw_data.info()"
   ],
   "metadata": {
    "collapsed": false,
    "pycharm": {
     "name": "#%%\n"
    }
   }
  },
  {
   "cell_type": "code",
   "execution_count": 7,
   "outputs": [
    {
     "data": {
      "text/plain": "           Condition\n            <lambda>\nTime                \n2019-01-06      Haze\n2019-01-13      Haze\n2019-01-20      Haze\n2019-01-27      Haze\n2019-02-03      Haze\n...              ...\n2021-12-05      Haze\n2021-12-12      Haze\n2021-12-19      Haze\n2021-12-26      Haze\n2022-01-02      Haze\n\n[157 rows x 1 columns]",
      "text/html": "<div>\n<style scoped>\n    .dataframe tbody tr th:only-of-type {\n        vertical-align: middle;\n    }\n\n    .dataframe tbody tr th {\n        vertical-align: top;\n    }\n\n    .dataframe thead tr th {\n        text-align: left;\n    }\n\n    .dataframe thead tr:last-of-type th {\n        text-align: right;\n    }\n</style>\n<table border=\"1\" class=\"dataframe\">\n  <thead>\n    <tr>\n      <th></th>\n      <th>Condition</th>\n    </tr>\n    <tr>\n      <th></th>\n      <th>&lt;lambda&gt;</th>\n    </tr>\n    <tr>\n      <th>Time</th>\n      <th></th>\n    </tr>\n  </thead>\n  <tbody>\n    <tr>\n      <th>2019-01-06</th>\n      <td>Haze</td>\n    </tr>\n    <tr>\n      <th>2019-01-13</th>\n      <td>Haze</td>\n    </tr>\n    <tr>\n      <th>2019-01-20</th>\n      <td>Haze</td>\n    </tr>\n    <tr>\n      <th>2019-01-27</th>\n      <td>Haze</td>\n    </tr>\n    <tr>\n      <th>2019-02-03</th>\n      <td>Haze</td>\n    </tr>\n    <tr>\n      <th>...</th>\n      <td>...</td>\n    </tr>\n    <tr>\n      <th>2021-12-05</th>\n      <td>Haze</td>\n    </tr>\n    <tr>\n      <th>2021-12-12</th>\n      <td>Haze</td>\n    </tr>\n    <tr>\n      <th>2021-12-19</th>\n      <td>Haze</td>\n    </tr>\n    <tr>\n      <th>2021-12-26</th>\n      <td>Haze</td>\n    </tr>\n    <tr>\n      <th>2022-01-02</th>\n      <td>Haze</td>\n    </tr>\n  </tbody>\n</table>\n<p>157 rows × 1 columns</p>\n</div>"
     },
     "execution_count": 7,
     "metadata": {},
     "output_type": "execute_result"
    }
   ],
   "source": [
    "raw_data[nominal_var].resample('W').apply({lambda x: mode(x)})"
   ],
   "metadata": {
    "collapsed": false,
    "pycharm": {
     "name": "#%%\n"
    }
   }
  },
  {
   "cell_type": "code",
   "execution_count": 8,
   "outputs": [
    {
     "data": {
      "text/plain": "Wind Direction    12401\nWind Speed            0\ndtype: int64"
     },
     "execution_count": 8,
     "metadata": {},
     "output_type": "execute_result"
    }
   ],
   "source": [
    "raw_data[circular_var].isna().sum()"
   ],
   "metadata": {
    "collapsed": false,
    "pycharm": {
     "name": "#%%\n"
    }
   }
  },
  {
   "cell_type": "code",
   "execution_count": 9,
   "outputs": [
    {
     "data": {
      "text/plain": "<pandas.core.resample.DatetimeIndexResampler object at 0x7f9d76cffc40>"
     },
     "execution_count": 9,
     "metadata": {},
     "output_type": "execute_result"
    }
   ],
   "source": [
    "circular_data_daily_samples = raw_data[circular_var].resample('MS')\n",
    "circular_data_daily_samples"
   ],
   "metadata": {
    "collapsed": false,
    "pycharm": {
     "name": "#%%\n"
    }
   }
  },
  {
   "cell_type": "code",
   "execution_count": 10,
   "outputs": [
    {
     "data": {
      "text/plain": "{Timestamp('2019-01-01 00:00:00', freq='MS'): 1485,\n Timestamp('2019-02-01 00:00:00', freq='MS'): 2826,\n Timestamp('2019-03-01 00:00:00', freq='MS'): 4309,\n Timestamp('2019-04-01 00:00:00', freq='MS'): 5743,\n Timestamp('2019-05-01 00:00:00', freq='MS'): 7230,\n Timestamp('2019-06-01 00:00:00', freq='MS'): 8566,\n Timestamp('2019-07-01 00:00:00', freq='MS'): 10047,\n Timestamp('2019-08-01 00:00:00', freq='MS'): 11525,\n Timestamp('2019-09-01 00:00:00', freq='MS'): 12957,\n Timestamp('2019-10-01 00:00:00', freq='MS'): 14444,\n Timestamp('2019-11-01 00:00:00', freq='MS'): 15879,\n Timestamp('2019-12-01 00:00:00', freq='MS'): 17363,\n Timestamp('2020-01-01 00:00:00', freq='MS'): 18839,\n Timestamp('2020-02-01 00:00:00', freq='MS'): 20203,\n Timestamp('2020-03-01 00:00:00', freq='MS'): 21666,\n Timestamp('2020-04-01 00:00:00', freq='MS'): 23092,\n Timestamp('2020-05-01 00:00:00', freq='MS'): 24571,\n Timestamp('2020-06-01 00:00:00', freq='MS'): 26008,\n Timestamp('2020-07-01 00:00:00', freq='MS'): 27491,\n Timestamp('2020-08-01 00:00:00', freq='MS'): 28977,\n Timestamp('2020-09-01 00:00:00', freq='MS'): 30409,\n Timestamp('2020-10-01 00:00:00', freq='MS'): 31888,\n Timestamp('2020-11-01 00:00:00', freq='MS'): 33247,\n Timestamp('2020-12-01 00:00:00', freq='MS'): 34734,\n Timestamp('2021-01-01 00:00:00', freq='MS'): 36180,\n Timestamp('2021-02-01 00:00:00', freq='MS'): 37498,\n Timestamp('2021-03-01 00:00:00', freq='MS'): 38977,\n Timestamp('2021-04-01 00:00:00', freq='MS'): 40412,\n Timestamp('2021-05-01 00:00:00', freq='MS'): 41900,\n Timestamp('2021-06-01 00:00:00', freq='MS'): 43333,\n Timestamp('2021-07-01 00:00:00', freq='MS'): 44814,\n Timestamp('2021-08-01 00:00:00', freq='MS'): 46261,\n Timestamp('2021-09-01 00:00:00', freq='MS'): 47697,\n Timestamp('2021-10-01 00:00:00', freq='MS'): 49184,\n Timestamp('2021-11-01 00:00:00', freq='MS'): 50615,\n Timestamp('2021-12-01 00:00:00', freq='MS'): 52100}"
     },
     "execution_count": 10,
     "metadata": {},
     "output_type": "execute_result"
    }
   ],
   "source": [
    "circular_data_daily_samples.groups"
   ],
   "metadata": {
    "collapsed": false,
    "pycharm": {
     "name": "#%%\n"
    }
   }
  },
  {
   "cell_type": "code",
   "execution_count": 27,
   "outputs": [
    {
     "data": {
      "text/plain": "                     Wind Direction  Wind Speed\nTime                                           \n2019-12-01 00:00:00             NaN         0.0\n2019-12-01 00:30:00             NaN         0.0\n2019-12-01 01:00:00             NaN         0.0\n2019-12-01 01:30:00             NaN         0.0\n2019-12-01 02:00:00           292.5         3.0\n...                             ...         ...\n2019-12-31 21:30:00           270.0         3.0\n2019-12-31 22:00:00             NaN         0.0\n2019-12-31 22:30:00             NaN         0.0\n2019-12-31 23:00:00             NaN         0.0\n2019-12-31 23:30:00             NaN         0.0\n\n[1484 rows x 2 columns]",
      "text/html": "<div>\n<style scoped>\n    .dataframe tbody tr th:only-of-type {\n        vertical-align: middle;\n    }\n\n    .dataframe tbody tr th {\n        vertical-align: top;\n    }\n\n    .dataframe thead th {\n        text-align: right;\n    }\n</style>\n<table border=\"1\" class=\"dataframe\">\n  <thead>\n    <tr style=\"text-align: right;\">\n      <th></th>\n      <th>Wind Direction</th>\n      <th>Wind Speed</th>\n    </tr>\n    <tr>\n      <th>Time</th>\n      <th></th>\n      <th></th>\n    </tr>\n  </thead>\n  <tbody>\n    <tr>\n      <th>2019-12-01 00:00:00</th>\n      <td>NaN</td>\n      <td>0.0</td>\n    </tr>\n    <tr>\n      <th>2019-12-01 00:30:00</th>\n      <td>NaN</td>\n      <td>0.0</td>\n    </tr>\n    <tr>\n      <th>2019-12-01 01:00:00</th>\n      <td>NaN</td>\n      <td>0.0</td>\n    </tr>\n    <tr>\n      <th>2019-12-01 01:30:00</th>\n      <td>NaN</td>\n      <td>0.0</td>\n    </tr>\n    <tr>\n      <th>2019-12-01 02:00:00</th>\n      <td>292.5</td>\n      <td>3.0</td>\n    </tr>\n    <tr>\n      <th>...</th>\n      <td>...</td>\n      <td>...</td>\n    </tr>\n    <tr>\n      <th>2019-12-31 21:30:00</th>\n      <td>270.0</td>\n      <td>3.0</td>\n    </tr>\n    <tr>\n      <th>2019-12-31 22:00:00</th>\n      <td>NaN</td>\n      <td>0.0</td>\n    </tr>\n    <tr>\n      <th>2019-12-31 22:30:00</th>\n      <td>NaN</td>\n      <td>0.0</td>\n    </tr>\n    <tr>\n      <th>2019-12-31 23:00:00</th>\n      <td>NaN</td>\n      <td>0.0</td>\n    </tr>\n    <tr>\n      <th>2019-12-31 23:30:00</th>\n      <td>NaN</td>\n      <td>0.0</td>\n    </tr>\n  </tbody>\n</table>\n<p>1484 rows × 2 columns</p>\n</div>"
     },
     "execution_count": 27,
     "metadata": {},
     "output_type": "execute_result"
    }
   ],
   "source": [
    "x = circular_data_daily_samples.get_group('2019-12-01 00:00:00')\n",
    "x"
   ],
   "metadata": {
    "collapsed": false,
    "pycharm": {
     "name": "#%%\n"
    }
   }
  },
  {
   "cell_type": "code",
   "execution_count": 15,
   "outputs": [
    {
     "data": {
      "text/plain": "1484"
     },
     "execution_count": 15,
     "metadata": {},
     "output_type": "execute_result"
    }
   ],
   "source": [
    "x.shape[0]"
   ],
   "metadata": {
    "collapsed": false,
    "pycharm": {
     "name": "#%%\n"
    }
   }
  },
  {
   "cell_type": "code",
   "execution_count": 26,
   "outputs": [],
   "source": [
    "# x = x.iloc[:3]"
   ],
   "metadata": {
    "collapsed": false,
    "pycharm": {
     "name": "#%%\n"
    }
   }
  },
  {
   "cell_type": "code",
   "execution_count": 25,
   "outputs": [],
   "source": [
    "# x.iloc[0,0] = 30\n",
    "# x.iloc[1,0] = 0\n",
    "# x.iloc[2,0] = 315"
   ],
   "metadata": {
    "collapsed": false,
    "pycharm": {
     "name": "#%%\n"
    }
   }
  },
  {
   "cell_type": "code",
   "execution_count": 12,
   "outputs": [],
   "source": [
    "averageWindSpeed, averageWindDirection = vector_calculation(x)"
   ],
   "metadata": {
    "collapsed": false,
    "pycharm": {
     "name": "#%%\n"
    }
   }
  },
  {
   "cell_type": "code",
   "execution_count": 13,
   "outputs": [
    {
     "name": "stdout",
     "output_type": "stream",
     "text": [
      "2019-01-01 00:00:00 (2.893642053776931, 314.87322219841684)\n",
      "2019-02-01 00:00:00 (2.1105138411222915, 298.49390664277837)\n",
      "2019-03-01 00:00:00 (1.5773685933679744, 218.73941451640945)\n",
      "2019-04-01 00:00:00 (3.29083357645257, 153.24226330620365)\n",
      "2019-05-01 00:00:00 (6.884146254681697, 168.62536486217883)\n",
      "2019-06-01 00:00:00 (5.393365095173146, 158.90617623201823)\n",
      "2019-07-01 00:00:00 (6.788128379622296, 153.71327974676478)\n",
      "2019-08-01 00:00:00 (6.179518399170307, 140.26182713376895)\n",
      "2019-09-01 00:00:00 (3.986887059928609, 137.68943995645566)\n",
      "2019-10-01 00:00:00 (0.7037949038822277, 8.899481837161751)\n",
      "2019-11-01 00:00:00 (1.3174180258338577, 27.591695594358637)\n",
      "2019-12-01 00:00:00 (2.324840900658026, 330.3343523229732)\n",
      "2020-01-01 00:00:00 (1.8730076277385477, 317.9795837524263)\n",
      "2020-02-01 00:00:00 (2.5509618451058746, 308.1872914694741)\n",
      "2020-03-01 00:00:00 (1.8766367103168449, 304.0305846502694)\n",
      "2020-04-01 00:00:00 (2.774935410553534, 146.580167442392)\n",
      "2020-05-01 00:00:00 (4.289133500743497, 164.4548668437143)\n",
      "2020-06-01 00:00:00 (6.300703592785964, 173.2459885924377)\n",
      "2020-07-01 00:00:00 (7.145528984019028, 179.38987674294376)\n",
      "2020-08-01 00:00:00 (5.838095893149014, 148.25745046963524)\n",
      "2020-09-01 00:00:00 (4.240616778736896, 172.49370642885467)\n",
      "2020-10-01 00:00:00 (0.648991920683855, 159.8289159227488)\n",
      "2020-11-01 00:00:00 (1.1217525696108162, 318.94772177796114)\n",
      "2020-12-01 00:00:00 (1.9978891898447904, 307.5758095815049)\n",
      "2021-01-01 00:00:00 (2.3268586853144693, 296.7398056344916)\n",
      "2021-02-01 00:00:00 (2.2079927771424197, 282.01999109257383)\n",
      "2021-03-01 00:00:00 (2.081647922723229, 200.45159672687072)\n",
      "2021-04-01 00:00:00 (5.4069241724320225, 194.95085851718)\n",
      "2021-05-01 00:00:00 (3.50712592514875, 175.8968976038469)\n",
      "2021-06-01 00:00:00 (6.551825329117569, 163.0244697845932)\n",
      "2021-07-01 00:00:00 (5.358166846556119, 142.96893187470044)\n",
      "2021-08-01 00:00:00 (5.544355618356788, 171.2140871653239)\n",
      "2021-09-01 00:00:00 (2.7880880424911374, 135.79310542891614)\n",
      "2021-10-01 00:00:00 (0.6747382967738762, 210.95483232082094)\n",
      "2021-11-01 00:00:00 (1.2681281530446624, 311.15696344512236)\n",
      "2021-12-01 00:00:00 (1.3802827176562997, 324.5096028189965)\n"
     ]
    }
   ],
   "source": [
    "for idx,x in circular_data_daily_samples:\n",
    "    print(idx,vector_calculation(x))"
   ],
   "metadata": {
    "collapsed": false,
    "pycharm": {
     "name": "#%%\n"
    }
   }
  },
  {
   "cell_type": "code",
   "execution_count": 20,
   "outputs": [],
   "source": [
    "# [totalReadings]; // number between 0 and 360\n",
    "# SpeedArray[totalReadings]; //speed of wind\n",
    "#\n",
    "# for(int i=0; i<totalReadings; i++)\n",
    "#\n",
    "# {\n",
    "# EW_Vector += SIN(DegreeToRadians(DirectionArray[i])) * SpeedArray[i]\n",
    "# NS_Vector += COS(DegreeToRadians(DirectionArray[i])) * SpeedArray[i]\n",
    "# }\n",
    "#\n",
    "# EW_Average = (EW_Vector / totalReadings) * -1 //Average in Radians\n",
    "# NS_Average = (NS_Vector / totalReadings) * -1 //Average in Radians"
   ],
   "metadata": {
    "collapsed": false,
    "pycharm": {
     "name": "#%%\n"
    }
   }
  },
  {
   "cell_type": "code",
   "execution_count": 14,
   "outputs": [
    {
     "data": {
      "text/plain": "                     Temperature  Dew Point  Humidity  Wind Speed  Wind Gust  \\\nTime                                                                           \n2019-01-01 00:00:00       17.780     12.500      70.5         3.0        0.0   \n2019-01-01 01:00:00       17.500     12.500      72.5         1.5        0.0   \n2019-01-01 02:00:00       17.220     12.220      72.0         0.0        0.0   \n2019-01-01 03:00:00       16.665     12.220      74.5         0.0        0.0   \n2019-01-01 04:00:00       16.110     12.220      77.0         0.0        0.0   \n...                          ...        ...       ...         ...        ...   \n2021-12-31 19:00:00       24.445     15.000      55.5         4.5        0.0   \n2021-12-31 20:00:00       23.890     15.555      59.0         6.0        0.0   \n2021-12-31 21:00:00       23.335     16.110      63.0         1.5        0.0   \n2021-12-31 22:00:00       22.780     16.110      65.0         1.5        0.0   \n2021-12-31 23:00:00       22.220     16.110      69.0         1.5        0.0   \n\n                     Pressure  Precip.  Wind Direction  \nTime                                                    \n2019-01-01 00:00:00    30.060      0.0          315.00  \n2019-01-01 01:00:00    30.030      0.0          315.00  \n2019-01-01 02:00:00    30.030      0.0             NaN  \n2019-01-01 03:00:00    30.030      0.0             NaN  \n2019-01-01 04:00:00    30.030      0.0             NaN  \n...                       ...      ...             ...  \n2021-12-31 19:00:00    30.060      0.0          270.00  \n2021-12-31 20:00:00    30.075      0.0          281.25  \n2021-12-31 21:00:00    30.090      0.0          270.00  \n2021-12-31 22:00:00    30.090      0.0          270.00  \n2021-12-31 23:00:00    30.090      0.0          292.50  \n\n[26304 rows x 8 columns]",
      "text/html": "<div>\n<style scoped>\n    .dataframe tbody tr th:only-of-type {\n        vertical-align: middle;\n    }\n\n    .dataframe tbody tr th {\n        vertical-align: top;\n    }\n\n    .dataframe thead th {\n        text-align: right;\n    }\n</style>\n<table border=\"1\" class=\"dataframe\">\n  <thead>\n    <tr style=\"text-align: right;\">\n      <th></th>\n      <th>Temperature</th>\n      <th>Dew Point</th>\n      <th>Humidity</th>\n      <th>Wind Speed</th>\n      <th>Wind Gust</th>\n      <th>Pressure</th>\n      <th>Precip.</th>\n      <th>Wind Direction</th>\n    </tr>\n    <tr>\n      <th>Time</th>\n      <th></th>\n      <th></th>\n      <th></th>\n      <th></th>\n      <th></th>\n      <th></th>\n      <th></th>\n      <th></th>\n    </tr>\n  </thead>\n  <tbody>\n    <tr>\n      <th>2019-01-01 00:00:00</th>\n      <td>17.780</td>\n      <td>12.500</td>\n      <td>70.5</td>\n      <td>3.0</td>\n      <td>0.0</td>\n      <td>30.060</td>\n      <td>0.0</td>\n      <td>315.00</td>\n    </tr>\n    <tr>\n      <th>2019-01-01 01:00:00</th>\n      <td>17.500</td>\n      <td>12.500</td>\n      <td>72.5</td>\n      <td>1.5</td>\n      <td>0.0</td>\n      <td>30.030</td>\n      <td>0.0</td>\n      <td>315.00</td>\n    </tr>\n    <tr>\n      <th>2019-01-01 02:00:00</th>\n      <td>17.220</td>\n      <td>12.220</td>\n      <td>72.0</td>\n      <td>0.0</td>\n      <td>0.0</td>\n      <td>30.030</td>\n      <td>0.0</td>\n      <td>NaN</td>\n    </tr>\n    <tr>\n      <th>2019-01-01 03:00:00</th>\n      <td>16.665</td>\n      <td>12.220</td>\n      <td>74.5</td>\n      <td>0.0</td>\n      <td>0.0</td>\n      <td>30.030</td>\n      <td>0.0</td>\n      <td>NaN</td>\n    </tr>\n    <tr>\n      <th>2019-01-01 04:00:00</th>\n      <td>16.110</td>\n      <td>12.220</td>\n      <td>77.0</td>\n      <td>0.0</td>\n      <td>0.0</td>\n      <td>30.030</td>\n      <td>0.0</td>\n      <td>NaN</td>\n    </tr>\n    <tr>\n      <th>...</th>\n      <td>...</td>\n      <td>...</td>\n      <td>...</td>\n      <td>...</td>\n      <td>...</td>\n      <td>...</td>\n      <td>...</td>\n      <td>...</td>\n    </tr>\n    <tr>\n      <th>2021-12-31 19:00:00</th>\n      <td>24.445</td>\n      <td>15.000</td>\n      <td>55.5</td>\n      <td>4.5</td>\n      <td>0.0</td>\n      <td>30.060</td>\n      <td>0.0</td>\n      <td>270.00</td>\n    </tr>\n    <tr>\n      <th>2021-12-31 20:00:00</th>\n      <td>23.890</td>\n      <td>15.555</td>\n      <td>59.0</td>\n      <td>6.0</td>\n      <td>0.0</td>\n      <td>30.075</td>\n      <td>0.0</td>\n      <td>281.25</td>\n    </tr>\n    <tr>\n      <th>2021-12-31 21:00:00</th>\n      <td>23.335</td>\n      <td>16.110</td>\n      <td>63.0</td>\n      <td>1.5</td>\n      <td>0.0</td>\n      <td>30.090</td>\n      <td>0.0</td>\n      <td>270.00</td>\n    </tr>\n    <tr>\n      <th>2021-12-31 22:00:00</th>\n      <td>22.780</td>\n      <td>16.110</td>\n      <td>65.0</td>\n      <td>1.5</td>\n      <td>0.0</td>\n      <td>30.090</td>\n      <td>0.0</td>\n      <td>270.00</td>\n    </tr>\n    <tr>\n      <th>2021-12-31 23:00:00</th>\n      <td>22.220</td>\n      <td>16.110</td>\n      <td>69.0</td>\n      <td>1.5</td>\n      <td>0.0</td>\n      <td>30.090</td>\n      <td>0.0</td>\n      <td>292.50</td>\n    </tr>\n  </tbody>\n</table>\n<p>26304 rows × 8 columns</p>\n</div>"
     },
     "execution_count": 14,
     "metadata": {},
     "output_type": "execute_result"
    }
   ],
   "source": [
    "hourly_data = raw_data.resample('H')\n",
    "hourly_data.mean()"
   ],
   "metadata": {
    "collapsed": false,
    "pycharm": {
     "name": "#%%\n"
    }
   }
  },
  {
   "cell_type": "code",
   "execution_count": 22,
   "outputs": [
    {
     "ename": "StatisticsError",
     "evalue": "no mode for empty data",
     "output_type": "error",
     "traceback": [
      "\u001B[0;31m---------------------------------------------------------------------------\u001B[0m",
      "\u001B[0;31mStatisticsError\u001B[0m                           Traceback (most recent call last)",
      "\u001B[0;32m<ipython-input-22-004032dcbdd2>\u001B[0m in \u001B[0;36m<module>\u001B[0;34m\u001B[0m\n\u001B[0;32m----> 1\u001B[0;31m hourly_data.apply({\"Temperature\": 'mean',\n\u001B[0m\u001B[1;32m      2\u001B[0m                    \u001B[0;34m\"Dew Point\"\u001B[0m\u001B[0;34m:\u001B[0m \u001B[0;34m'mean'\u001B[0m\u001B[0;34m,\u001B[0m\u001B[0;34m\u001B[0m\u001B[0;34m\u001B[0m\u001B[0m\n\u001B[1;32m      3\u001B[0m                    \u001B[0;34m\"Humidity\"\u001B[0m\u001B[0;34m:\u001B[0m \u001B[0;34m'mean'\u001B[0m\u001B[0;34m,\u001B[0m\u001B[0;34m\u001B[0m\u001B[0;34m\u001B[0m\u001B[0m\n\u001B[1;32m      4\u001B[0m                    \u001B[0;34m\"Wind Gust\"\u001B[0m\u001B[0;34m:\u001B[0m \u001B[0;34m'mean'\u001B[0m\u001B[0;34m,\u001B[0m\u001B[0;34m\u001B[0m\u001B[0;34m\u001B[0m\u001B[0m\n\u001B[1;32m      5\u001B[0m                    \u001B[0;34m\"Pressure\"\u001B[0m\u001B[0;34m:\u001B[0m \u001B[0;34m'mean'\u001B[0m\u001B[0;34m,\u001B[0m\u001B[0;34m\u001B[0m\u001B[0;34m\u001B[0m\u001B[0m\n",
      "\u001B[0;32m~/.local/share/virtualenvs/Data_Science-1JVMfuIj/lib/python3.8/site-packages/pandas/core/resample.py\u001B[0m in \u001B[0;36maggregate\u001B[0;34m(self, func, *args, **kwargs)\u001B[0m\n\u001B[1;32m    279\u001B[0m \u001B[0;34m\u001B[0m\u001B[0m\n\u001B[1;32m    280\u001B[0m         \u001B[0mself\u001B[0m\u001B[0;34m.\u001B[0m\u001B[0m_set_binner\u001B[0m\u001B[0;34m(\u001B[0m\u001B[0;34m)\u001B[0m\u001B[0;34m\u001B[0m\u001B[0;34m\u001B[0m\u001B[0m\n\u001B[0;32m--> 281\u001B[0;31m         \u001B[0mresult\u001B[0m\u001B[0;34m,\u001B[0m \u001B[0mhow\u001B[0m \u001B[0;34m=\u001B[0m \u001B[0mself\u001B[0m\u001B[0;34m.\u001B[0m\u001B[0m_aggregate\u001B[0m\u001B[0;34m(\u001B[0m\u001B[0mfunc\u001B[0m\u001B[0;34m,\u001B[0m \u001B[0;34m*\u001B[0m\u001B[0margs\u001B[0m\u001B[0;34m,\u001B[0m \u001B[0;34m**\u001B[0m\u001B[0mkwargs\u001B[0m\u001B[0;34m)\u001B[0m\u001B[0;34m\u001B[0m\u001B[0;34m\u001B[0m\u001B[0m\n\u001B[0m\u001B[1;32m    282\u001B[0m         \u001B[0;32mif\u001B[0m \u001B[0mresult\u001B[0m \u001B[0;32mis\u001B[0m \u001B[0;32mNone\u001B[0m\u001B[0;34m:\u001B[0m\u001B[0;34m\u001B[0m\u001B[0;34m\u001B[0m\u001B[0m\n\u001B[1;32m    283\u001B[0m             \u001B[0mhow\u001B[0m \u001B[0;34m=\u001B[0m \u001B[0mfunc\u001B[0m\u001B[0;34m\u001B[0m\u001B[0;34m\u001B[0m\u001B[0m\n",
      "\u001B[0;32m~/.local/share/virtualenvs/Data_Science-1JVMfuIj/lib/python3.8/site-packages/pandas/core/base.py\u001B[0m in \u001B[0;36m_aggregate\u001B[0;34m(self, arg, *args, **kwargs)\u001B[0m\n\u001B[1;32m    417\u001B[0m \u001B[0;34m\u001B[0m\u001B[0m\n\u001B[1;32m    418\u001B[0m                 \u001B[0;32mtry\u001B[0m\u001B[0;34m:\u001B[0m\u001B[0;34m\u001B[0m\u001B[0;34m\u001B[0m\u001B[0m\n\u001B[0;32m--> 419\u001B[0;31m                     \u001B[0mresult\u001B[0m \u001B[0;34m=\u001B[0m \u001B[0m_agg\u001B[0m\u001B[0;34m(\u001B[0m\u001B[0marg\u001B[0m\u001B[0;34m,\u001B[0m \u001B[0m_agg_1dim\u001B[0m\u001B[0;34m)\u001B[0m\u001B[0;34m\u001B[0m\u001B[0;34m\u001B[0m\u001B[0m\n\u001B[0m\u001B[1;32m    420\u001B[0m                 \u001B[0;32mexcept\u001B[0m \u001B[0mSpecificationError\u001B[0m\u001B[0;34m:\u001B[0m\u001B[0;34m\u001B[0m\u001B[0;34m\u001B[0m\u001B[0m\n\u001B[1;32m    421\u001B[0m \u001B[0;34m\u001B[0m\u001B[0m\n",
      "\u001B[0;32m~/.local/share/virtualenvs/Data_Science-1JVMfuIj/lib/python3.8/site-packages/pandas/core/base.py\u001B[0m in \u001B[0;36m_agg\u001B[0;34m(arg, func)\u001B[0m\n\u001B[1;32m    384\u001B[0m                 \u001B[0mresult\u001B[0m \u001B[0;34m=\u001B[0m \u001B[0;34m{\u001B[0m\u001B[0;34m}\u001B[0m\u001B[0;34m\u001B[0m\u001B[0;34m\u001B[0m\u001B[0m\n\u001B[1;32m    385\u001B[0m                 \u001B[0;32mfor\u001B[0m \u001B[0mfname\u001B[0m\u001B[0;34m,\u001B[0m \u001B[0magg_how\u001B[0m \u001B[0;32min\u001B[0m \u001B[0marg\u001B[0m\u001B[0;34m.\u001B[0m\u001B[0mitems\u001B[0m\u001B[0;34m(\u001B[0m\u001B[0;34m)\u001B[0m\u001B[0;34m:\u001B[0m\u001B[0;34m\u001B[0m\u001B[0;34m\u001B[0m\u001B[0m\n\u001B[0;32m--> 386\u001B[0;31m                     \u001B[0mresult\u001B[0m\u001B[0;34m[\u001B[0m\u001B[0mfname\u001B[0m\u001B[0;34m]\u001B[0m \u001B[0;34m=\u001B[0m \u001B[0mfunc\u001B[0m\u001B[0;34m(\u001B[0m\u001B[0mfname\u001B[0m\u001B[0;34m,\u001B[0m \u001B[0magg_how\u001B[0m\u001B[0;34m)\u001B[0m\u001B[0;34m\u001B[0m\u001B[0;34m\u001B[0m\u001B[0m\n\u001B[0m\u001B[1;32m    387\u001B[0m                 \u001B[0;32mreturn\u001B[0m \u001B[0mresult\u001B[0m\u001B[0;34m\u001B[0m\u001B[0;34m\u001B[0m\u001B[0m\n\u001B[1;32m    388\u001B[0m \u001B[0;34m\u001B[0m\u001B[0m\n",
      "\u001B[0;32m~/.local/share/virtualenvs/Data_Science-1JVMfuIj/lib/python3.8/site-packages/pandas/core/base.py\u001B[0m in \u001B[0;36m_agg_1dim\u001B[0;34m(name, how, subset)\u001B[0m\n\u001B[1;32m    368\u001B[0m                         \u001B[0;34m\"nested dictionary is ambiguous in aggregation\"\u001B[0m\u001B[0;34m\u001B[0m\u001B[0;34m\u001B[0m\u001B[0m\n\u001B[1;32m    369\u001B[0m                     )\n\u001B[0;32m--> 370\u001B[0;31m                 \u001B[0;32mreturn\u001B[0m \u001B[0mcolg\u001B[0m\u001B[0;34m.\u001B[0m\u001B[0maggregate\u001B[0m\u001B[0;34m(\u001B[0m\u001B[0mhow\u001B[0m\u001B[0;34m)\u001B[0m\u001B[0;34m\u001B[0m\u001B[0;34m\u001B[0m\u001B[0m\n\u001B[0m\u001B[1;32m    371\u001B[0m \u001B[0;34m\u001B[0m\u001B[0m\n\u001B[1;32m    372\u001B[0m             \u001B[0;32mdef\u001B[0m \u001B[0m_agg_2dim\u001B[0m\u001B[0;34m(\u001B[0m\u001B[0mname\u001B[0m\u001B[0;34m,\u001B[0m \u001B[0mhow\u001B[0m\u001B[0;34m)\u001B[0m\u001B[0;34m:\u001B[0m\u001B[0;34m\u001B[0m\u001B[0;34m\u001B[0m\u001B[0m\n",
      "\u001B[0;32m~/.local/share/virtualenvs/Data_Science-1JVMfuIj/lib/python3.8/site-packages/pandas/core/groupby/generic.py\u001B[0m in \u001B[0;36maggregate\u001B[0;34m(self, func, *args, **kwargs)\u001B[0m\n\u001B[1;32m    267\u001B[0m                 \u001B[0;31m# TODO: KeyError is raised in _python_agg_general,\u001B[0m\u001B[0;34m\u001B[0m\u001B[0;34m\u001B[0m\u001B[0;34m\u001B[0m\u001B[0m\n\u001B[1;32m    268\u001B[0m                 \u001B[0;31m#  see see test_groupby.test_basic\u001B[0m\u001B[0;34m\u001B[0m\u001B[0;34m\u001B[0m\u001B[0;34m\u001B[0m\u001B[0m\n\u001B[0;32m--> 269\u001B[0;31m                 \u001B[0mresult\u001B[0m \u001B[0;34m=\u001B[0m \u001B[0mself\u001B[0m\u001B[0;34m.\u001B[0m\u001B[0m_aggregate_named\u001B[0m\u001B[0;34m(\u001B[0m\u001B[0mfunc\u001B[0m\u001B[0;34m,\u001B[0m \u001B[0;34m*\u001B[0m\u001B[0margs\u001B[0m\u001B[0;34m,\u001B[0m \u001B[0;34m**\u001B[0m\u001B[0mkwargs\u001B[0m\u001B[0;34m)\u001B[0m\u001B[0;34m\u001B[0m\u001B[0;34m\u001B[0m\u001B[0m\n\u001B[0m\u001B[1;32m    270\u001B[0m \u001B[0;34m\u001B[0m\u001B[0m\n\u001B[1;32m    271\u001B[0m             \u001B[0mindex\u001B[0m \u001B[0;34m=\u001B[0m \u001B[0mIndex\u001B[0m\u001B[0;34m(\u001B[0m\u001B[0msorted\u001B[0m\u001B[0;34m(\u001B[0m\u001B[0mresult\u001B[0m\u001B[0;34m)\u001B[0m\u001B[0;34m,\u001B[0m \u001B[0mname\u001B[0m\u001B[0;34m=\u001B[0m\u001B[0mself\u001B[0m\u001B[0;34m.\u001B[0m\u001B[0mgrouper\u001B[0m\u001B[0;34m.\u001B[0m\u001B[0mnames\u001B[0m\u001B[0;34m[\u001B[0m\u001B[0;36m0\u001B[0m\u001B[0;34m]\u001B[0m\u001B[0;34m)\u001B[0m\u001B[0;34m\u001B[0m\u001B[0;34m\u001B[0m\u001B[0m\n",
      "\u001B[0;32m~/.local/share/virtualenvs/Data_Science-1JVMfuIj/lib/python3.8/site-packages/pandas/core/groupby/generic.py\u001B[0m in \u001B[0;36m_aggregate_named\u001B[0;34m(self, func, *args, **kwargs)\u001B[0m\n\u001B[1;32m    450\u001B[0m         \u001B[0;32mfor\u001B[0m \u001B[0mname\u001B[0m\u001B[0;34m,\u001B[0m \u001B[0mgroup\u001B[0m \u001B[0;32min\u001B[0m \u001B[0mself\u001B[0m\u001B[0;34m:\u001B[0m\u001B[0;34m\u001B[0m\u001B[0;34m\u001B[0m\u001B[0m\n\u001B[1;32m    451\u001B[0m             \u001B[0mgroup\u001B[0m\u001B[0;34m.\u001B[0m\u001B[0mname\u001B[0m \u001B[0;34m=\u001B[0m \u001B[0mname\u001B[0m\u001B[0;34m\u001B[0m\u001B[0;34m\u001B[0m\u001B[0m\n\u001B[0;32m--> 452\u001B[0;31m             \u001B[0moutput\u001B[0m \u001B[0;34m=\u001B[0m \u001B[0mfunc\u001B[0m\u001B[0;34m(\u001B[0m\u001B[0mgroup\u001B[0m\u001B[0;34m,\u001B[0m \u001B[0;34m*\u001B[0m\u001B[0margs\u001B[0m\u001B[0;34m,\u001B[0m \u001B[0;34m**\u001B[0m\u001B[0mkwargs\u001B[0m\u001B[0;34m)\u001B[0m\u001B[0;34m\u001B[0m\u001B[0;34m\u001B[0m\u001B[0m\n\u001B[0m\u001B[1;32m    453\u001B[0m             \u001B[0;32mif\u001B[0m \u001B[0misinstance\u001B[0m\u001B[0;34m(\u001B[0m\u001B[0moutput\u001B[0m\u001B[0;34m,\u001B[0m \u001B[0;34m(\u001B[0m\u001B[0mSeries\u001B[0m\u001B[0;34m,\u001B[0m \u001B[0mIndex\u001B[0m\u001B[0;34m,\u001B[0m \u001B[0mnp\u001B[0m\u001B[0;34m.\u001B[0m\u001B[0mndarray\u001B[0m\u001B[0;34m)\u001B[0m\u001B[0;34m)\u001B[0m\u001B[0;34m:\u001B[0m\u001B[0;34m\u001B[0m\u001B[0;34m\u001B[0m\u001B[0m\n\u001B[1;32m    454\u001B[0m                 \u001B[0;32mraise\u001B[0m \u001B[0mValueError\u001B[0m\u001B[0;34m(\u001B[0m\u001B[0;34m\"Must produce aggregated value\"\u001B[0m\u001B[0;34m)\u001B[0m\u001B[0;34m\u001B[0m\u001B[0;34m\u001B[0m\u001B[0m\n",
      "\u001B[0;32m<ipython-input-22-004032dcbdd2>\u001B[0m in \u001B[0;36m<lambda>\u001B[0;34m(x)\u001B[0m\n\u001B[1;32m      5\u001B[0m                    \u001B[0;34m\"Pressure\"\u001B[0m\u001B[0;34m:\u001B[0m \u001B[0;34m'mean'\u001B[0m\u001B[0;34m,\u001B[0m\u001B[0;34m\u001B[0m\u001B[0;34m\u001B[0m\u001B[0m\n\u001B[1;32m      6\u001B[0m                    \u001B[0;34m\"Precip.\"\u001B[0m\u001B[0;34m:\u001B[0m \u001B[0;34m'mean'\u001B[0m\u001B[0;34m,\u001B[0m\u001B[0;34m\u001B[0m\u001B[0;34m\u001B[0m\u001B[0m\n\u001B[0;32m----> 7\u001B[0;31m                    \u001B[0;34m\"Condition\"\u001B[0m\u001B[0;34m:\u001B[0m \u001B[0;32mlambda\u001B[0m \u001B[0mx\u001B[0m\u001B[0;34m:\u001B[0m \u001B[0mmode\u001B[0m\u001B[0;34m(\u001B[0m\u001B[0mx\u001B[0m\u001B[0;34m)\u001B[0m\u001B[0;34m\u001B[0m\u001B[0;34m\u001B[0m\u001B[0m\n\u001B[0m\u001B[1;32m      8\u001B[0m                    })\n\u001B[1;32m      9\u001B[0m \u001B[0;34m\u001B[0m\u001B[0m\n",
      "\u001B[0;32m/usr/lib/python3.8/statistics.py\u001B[0m in \u001B[0;36mmode\u001B[0;34m(data)\u001B[0m\n\u001B[1;32m    560\u001B[0m         \u001B[0;32mreturn\u001B[0m \u001B[0mpairs\u001B[0m\u001B[0;34m[\u001B[0m\u001B[0;36m0\u001B[0m\u001B[0;34m]\u001B[0m\u001B[0;34m[\u001B[0m\u001B[0;36m0\u001B[0m\u001B[0;34m]\u001B[0m\u001B[0;34m\u001B[0m\u001B[0;34m\u001B[0m\u001B[0m\n\u001B[1;32m    561\u001B[0m     \u001B[0;32mexcept\u001B[0m \u001B[0mIndexError\u001B[0m\u001B[0;34m:\u001B[0m\u001B[0;34m\u001B[0m\u001B[0;34m\u001B[0m\u001B[0m\n\u001B[0;32m--> 562\u001B[0;31m         \u001B[0;32mraise\u001B[0m \u001B[0mStatisticsError\u001B[0m\u001B[0;34m(\u001B[0m\u001B[0;34m'no mode for empty data'\u001B[0m\u001B[0;34m)\u001B[0m \u001B[0;32mfrom\u001B[0m \u001B[0;32mNone\u001B[0m\u001B[0;34m\u001B[0m\u001B[0;34m\u001B[0m\u001B[0m\n\u001B[0m\u001B[1;32m    563\u001B[0m \u001B[0;34m\u001B[0m\u001B[0m\n\u001B[1;32m    564\u001B[0m \u001B[0;34m\u001B[0m\u001B[0m\n",
      "\u001B[0;31mStatisticsError\u001B[0m: no mode for empty data"
     ]
    }
   ],
   "source": [
    "hourly_data.apply({\"Temperature\": 'mean',\n",
    "                   \"Dew Point\": 'mean',\n",
    "                   \"Humidity\": 'mean',\n",
    "                   \"Wind Gust\": 'mean',\n",
    "                   \"Pressure\": 'mean',\n",
    "                   \"Precip.\": 'mean',\n",
    "                   \"Condition\": lambda x: mode(x)\n",
    "                   })\n",
    "\n",
    "\n",
    "# Wind\n",
    "# Wind Speed\n",
    "# Condition"
   ],
   "metadata": {
    "collapsed": false,
    "pycharm": {
     "name": "#%%\n"
    }
   }
  },
  {
   "cell_type": "code",
   "execution_count": 15,
   "outputs": [
    {
     "data": {
      "text/plain": "                     Temperature  Dew Point  Humidity  Wind Speed  Wind Gust  \\\nTime                                                                           \n2019-01-01 00:00:00       17.780     12.500      70.5         3.0        0.0   \n2019-01-01 01:00:00       17.500     12.500      72.5         1.5        0.0   \n2019-01-01 02:00:00       17.220     12.220      72.0         0.0        0.0   \n2019-01-01 03:00:00       16.665     12.220      74.5         0.0        0.0   \n2019-01-01 04:00:00       16.110     12.220      77.0         0.0        0.0   \n...                          ...        ...       ...         ...        ...   \n2021-12-31 19:00:00       24.445     15.000      55.5         4.5        0.0   \n2021-12-31 20:00:00       23.890     15.555      59.0         6.0        0.0   \n2021-12-31 21:00:00       23.335     16.110      63.0         1.5        0.0   \n2021-12-31 22:00:00       22.780     16.110      65.0         1.5        0.0   \n2021-12-31 23:00:00       22.220     16.110      69.0         1.5        0.0   \n\n                     Pressure  Precip.  Wind Direction  \nTime                                                    \n2019-01-01 00:00:00    30.060      0.0          315.00  \n2019-01-01 01:00:00    30.030      0.0          315.00  \n2019-01-01 02:00:00    30.030      0.0             NaN  \n2019-01-01 03:00:00    30.030      0.0             NaN  \n2019-01-01 04:00:00    30.030      0.0             NaN  \n...                       ...      ...             ...  \n2021-12-31 19:00:00    30.060      0.0          270.00  \n2021-12-31 20:00:00    30.075      0.0          281.25  \n2021-12-31 21:00:00    30.090      0.0          270.00  \n2021-12-31 22:00:00    30.090      0.0          270.00  \n2021-12-31 23:00:00    30.090      0.0          292.50  \n\n[26304 rows x 8 columns]",
      "text/html": "<div>\n<style scoped>\n    .dataframe tbody tr th:only-of-type {\n        vertical-align: middle;\n    }\n\n    .dataframe tbody tr th {\n        vertical-align: top;\n    }\n\n    .dataframe thead th {\n        text-align: right;\n    }\n</style>\n<table border=\"1\" class=\"dataframe\">\n  <thead>\n    <tr style=\"text-align: right;\">\n      <th></th>\n      <th>Temperature</th>\n      <th>Dew Point</th>\n      <th>Humidity</th>\n      <th>Wind Speed</th>\n      <th>Wind Gust</th>\n      <th>Pressure</th>\n      <th>Precip.</th>\n      <th>Wind Direction</th>\n    </tr>\n    <tr>\n      <th>Time</th>\n      <th></th>\n      <th></th>\n      <th></th>\n      <th></th>\n      <th></th>\n      <th></th>\n      <th></th>\n      <th></th>\n    </tr>\n  </thead>\n  <tbody>\n    <tr>\n      <th>2019-01-01 00:00:00</th>\n      <td>17.780</td>\n      <td>12.500</td>\n      <td>70.5</td>\n      <td>3.0</td>\n      <td>0.0</td>\n      <td>30.060</td>\n      <td>0.0</td>\n      <td>315.00</td>\n    </tr>\n    <tr>\n      <th>2019-01-01 01:00:00</th>\n      <td>17.500</td>\n      <td>12.500</td>\n      <td>72.5</td>\n      <td>1.5</td>\n      <td>0.0</td>\n      <td>30.030</td>\n      <td>0.0</td>\n      <td>315.00</td>\n    </tr>\n    <tr>\n      <th>2019-01-01 02:00:00</th>\n      <td>17.220</td>\n      <td>12.220</td>\n      <td>72.0</td>\n      <td>0.0</td>\n      <td>0.0</td>\n      <td>30.030</td>\n      <td>0.0</td>\n      <td>NaN</td>\n    </tr>\n    <tr>\n      <th>2019-01-01 03:00:00</th>\n      <td>16.665</td>\n      <td>12.220</td>\n      <td>74.5</td>\n      <td>0.0</td>\n      <td>0.0</td>\n      <td>30.030</td>\n      <td>0.0</td>\n      <td>NaN</td>\n    </tr>\n    <tr>\n      <th>2019-01-01 04:00:00</th>\n      <td>16.110</td>\n      <td>12.220</td>\n      <td>77.0</td>\n      <td>0.0</td>\n      <td>0.0</td>\n      <td>30.030</td>\n      <td>0.0</td>\n      <td>NaN</td>\n    </tr>\n    <tr>\n      <th>...</th>\n      <td>...</td>\n      <td>...</td>\n      <td>...</td>\n      <td>...</td>\n      <td>...</td>\n      <td>...</td>\n      <td>...</td>\n      <td>...</td>\n    </tr>\n    <tr>\n      <th>2021-12-31 19:00:00</th>\n      <td>24.445</td>\n      <td>15.000</td>\n      <td>55.5</td>\n      <td>4.5</td>\n      <td>0.0</td>\n      <td>30.060</td>\n      <td>0.0</td>\n      <td>270.00</td>\n    </tr>\n    <tr>\n      <th>2021-12-31 20:00:00</th>\n      <td>23.890</td>\n      <td>15.555</td>\n      <td>59.0</td>\n      <td>6.0</td>\n      <td>0.0</td>\n      <td>30.075</td>\n      <td>0.0</td>\n      <td>281.25</td>\n    </tr>\n    <tr>\n      <th>2021-12-31 21:00:00</th>\n      <td>23.335</td>\n      <td>16.110</td>\n      <td>63.0</td>\n      <td>1.5</td>\n      <td>0.0</td>\n      <td>30.090</td>\n      <td>0.0</td>\n      <td>270.00</td>\n    </tr>\n    <tr>\n      <th>2021-12-31 22:00:00</th>\n      <td>22.780</td>\n      <td>16.110</td>\n      <td>65.0</td>\n      <td>1.5</td>\n      <td>0.0</td>\n      <td>30.090</td>\n      <td>0.0</td>\n      <td>270.00</td>\n    </tr>\n    <tr>\n      <th>2021-12-31 23:00:00</th>\n      <td>22.220</td>\n      <td>16.110</td>\n      <td>69.0</td>\n      <td>1.5</td>\n      <td>0.0</td>\n      <td>30.090</td>\n      <td>0.0</td>\n      <td>292.50</td>\n    </tr>\n  </tbody>\n</table>\n<p>26304 rows × 8 columns</p>\n</div>"
     },
     "execution_count": 15,
     "metadata": {},
     "output_type": "execute_result"
    }
   ],
   "source": [
    "hourly_data_weather = hourly_data.mean()\n",
    "hourly_data_weather"
   ],
   "metadata": {
    "collapsed": false,
    "pycharm": {
     "name": "#%%\n"
    }
   }
  },
  {
   "cell_type": "code",
   "execution_count": null,
   "outputs": [],
   "source": [
    "from data_preparation import get_metadata, get_series,clip_missing_prone_values, prepare_region_and_country_series\n",
    "\n",
    "series_with_heavy_missing, metadata_with_heavy_missing = get_series(), get_metadata()\n",
    "division_missing_counts, metadata, series = clip_missing_prone_values(metadata_with_heavy_missing, series_with_heavy_missing)\n",
    "region_series, metadata_region, country_series, metadata_country = prepare_region_and_country_series(series,\n",
    "                                                                                                       metadata)"
   ],
   "metadata": {
    "collapsed": false,
    "pycharm": {
     "name": "#%%\n"
    }
   }
  },
  {
   "cell_type": "code",
   "execution_count": null,
   "outputs": [],
   "source": [
    "region_series.Dhaka"
   ],
   "metadata": {
    "collapsed": false,
    "pycharm": {
     "name": "#%%\n"
    }
   }
  },
  {
   "cell_type": "code",
   "execution_count": null,
   "outputs": [],
   "source": [
    "reading_data = region_series[\"2019\":\"2021\"].Dhaka\n",
    "reading_data.name = \"Reading\"\n",
    "combined_data = pd.concat((reading_data,hourly_data_weather),axis=1)\n",
    "combined_data"
   ],
   "metadata": {
    "collapsed": false,
    "pycharm": {
     "name": "#%%\n"
    }
   }
  },
  {
   "cell_type": "code",
   "execution_count": null,
   "outputs": [],
   "source": [
    "combined_data.info()"
   ],
   "metadata": {
    "collapsed": false,
    "pycharm": {
     "name": "#%%\n"
    }
   }
  },
  {
   "cell_type": "code",
   "execution_count": null,
   "outputs": [],
   "source": [
    "combined_data.corr()"
   ],
   "metadata": {
    "collapsed": false,
    "pycharm": {
     "name": "#%%\n"
    }
   }
  },
  {
   "cell_type": "code",
   "execution_count": null,
   "outputs": [],
   "source": [
    "raw_data.columns"
   ],
   "metadata": {
    "collapsed": false,
    "pycharm": {
     "name": "#%%\n"
    }
   }
  },
  {
   "cell_type": "code",
   "execution_count": null,
   "outputs": [],
   "source": [
    "fig = px.line(raw_data, x=raw_data.index, y=['Temperature', 'Dew Point', 'Humidity', 'Wind Speed', 'Wind Gust', 'Pressure', 'Precip.'],\n",
    "              # hover_data={\"date\": \"|%B %d, %Y\"},\n",
    "              # title='custom tick labels'\n",
    "              )\n",
    "\n",
    "fig.update_xaxes(\n",
    "    dtick=\"M1\",\n",
    "    tickformat=\"%b\\n%Y\")\n",
    "fig.show()\n"
   ],
   "metadata": {
    "collapsed": false,
    "pycharm": {
     "name": "#%%\n"
    }
   }
  }
 ],
 "metadata": {
  "kernelspec": {
   "display_name": "Python 3",
   "language": "python",
   "name": "python3"
  },
  "language_info": {
   "codemirror_mode": {
    "name": "ipython",
    "version": 2
   },
   "file_extension": ".py",
   "mimetype": "text/x-python",
   "name": "python",
   "nbconvert_exporter": "python",
   "pygments_lexer": "ipython2",
   "version": "2.7.6"
  }
 },
 "nbformat": 4,
 "nbformat_minor": 0
}