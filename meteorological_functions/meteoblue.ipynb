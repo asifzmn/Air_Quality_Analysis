{
 "cells": [
  {
   "cell_type": "code",
   "execution_count": 1,
   "metadata": {
    "collapsed": true,
    "pycharm": {
     "name": "#%%\n"
    }
   },
   "outputs": [
    {
     "data": {
      "text/plain": "<xarray.DataArray 'meteo' (district: 134, time: 8760, factor: 37)>\n[43432080 values with dtype=float64]\nCoordinates:\n  * time      (time) datetime64[ns] 2019-01-01 ... 2019-12-31T23:00:00\n  * district  (district) object 'Arambagh_West Bengal' ... 'Tungipara_Dhaka'\n  * factor    (factor) object 'Temperature [2 m elevation corrected]' ... 'Evapotranspiration'",
      "text/html": "<div><svg style=\"position: absolute; width: 0; height: 0; overflow: hidden\">\n<defs>\n<symbol id=\"icon-database\" viewBox=\"0 0 32 32\">\n<title>Show/Hide data repr</title>\n<path d=\"M16 0c-8.837 0-16 2.239-16 5v4c0 2.761 7.163 5 16 5s16-2.239 16-5v-4c0-2.761-7.163-5-16-5z\"></path>\n<path d=\"M16 17c-8.837 0-16-2.239-16-5v6c0 2.761 7.163 5 16 5s16-2.239 16-5v-6c0 2.761-7.163 5-16 5z\"></path>\n<path d=\"M16 26c-8.837 0-16-2.239-16-5v6c0 2.761 7.163 5 16 5s16-2.239 16-5v-6c0 2.761-7.163 5-16 5z\"></path>\n</symbol>\n<symbol id=\"icon-file-text2\" viewBox=\"0 0 32 32\">\n<title>Show/Hide attributes</title>\n<path d=\"M28.681 7.159c-0.694-0.947-1.662-2.053-2.724-3.116s-2.169-2.030-3.116-2.724c-1.612-1.182-2.393-1.319-2.841-1.319h-15.5c-1.378 0-2.5 1.121-2.5 2.5v27c0 1.378 1.122 2.5 2.5 2.5h23c1.378 0 2.5-1.122 2.5-2.5v-19.5c0-0.448-0.137-1.23-1.319-2.841zM24.543 5.457c0.959 0.959 1.712 1.825 2.268 2.543h-4.811v-4.811c0.718 0.556 1.584 1.309 2.543 2.268zM28 29.5c0 0.271-0.229 0.5-0.5 0.5h-23c-0.271 0-0.5-0.229-0.5-0.5v-27c0-0.271 0.229-0.5 0.5-0.5 0 0 15.499-0 15.5 0v7c0 0.552 0.448 1 1 1h7v19.5z\"></path>\n<path d=\"M23 26h-14c-0.552 0-1-0.448-1-1s0.448-1 1-1h14c0.552 0 1 0.448 1 1s-0.448 1-1 1z\"></path>\n<path d=\"M23 22h-14c-0.552 0-1-0.448-1-1s0.448-1 1-1h14c0.552 0 1 0.448 1 1s-0.448 1-1 1z\"></path>\n<path d=\"M23 18h-14c-0.552 0-1-0.448-1-1s0.448-1 1-1h14c0.552 0 1 0.448 1 1s-0.448 1-1 1z\"></path>\n</symbol>\n</defs>\n</svg>\n<style>/* CSS stylesheet for displaying xarray objects in jupyterlab.\n *\n */\n\n:root {\n  --xr-font-color0: var(--jp-content-font-color0, rgba(0, 0, 0, 1));\n  --xr-font-color2: var(--jp-content-font-color2, rgba(0, 0, 0, 0.54));\n  --xr-font-color3: var(--jp-content-font-color3, rgba(0, 0, 0, 0.38));\n  --xr-border-color: var(--jp-border-color2, #e0e0e0);\n  --xr-disabled-color: var(--jp-layout-color3, #bdbdbd);\n  --xr-background-color: var(--jp-layout-color0, white);\n  --xr-background-color-row-even: var(--jp-layout-color1, white);\n  --xr-background-color-row-odd: var(--jp-layout-color2, #eeeeee);\n}\n\n.xr-wrap {\n  min-width: 300px;\n  max-width: 700px;\n}\n\n.xr-header {\n  padding-top: 6px;\n  padding-bottom: 6px;\n  margin-bottom: 4px;\n  border-bottom: solid 1px var(--xr-border-color);\n}\n\n.xr-header > div,\n.xr-header > ul {\n  display: inline;\n  margin-top: 0;\n  margin-bottom: 0;\n}\n\n.xr-obj-type,\n.xr-array-name {\n  margin-left: 2px;\n  margin-right: 10px;\n}\n\n.xr-obj-type {\n  color: var(--xr-font-color2);\n}\n\n.xr-sections {\n  padding-left: 0 !important;\n  display: grid;\n  grid-template-columns: 150px auto auto 1fr 20px 20px;\n}\n\n.xr-section-item {\n  display: contents;\n}\n\n.xr-section-item input {\n  display: none;\n}\n\n.xr-section-item input + label {\n  color: var(--xr-disabled-color);\n}\n\n.xr-section-item input:enabled + label {\n  cursor: pointer;\n  color: var(--xr-font-color2);\n}\n\n.xr-section-item input:enabled + label:hover {\n  color: var(--xr-font-color0);\n}\n\n.xr-section-summary {\n  grid-column: 1;\n  color: var(--xr-font-color2);\n  font-weight: 500;\n}\n\n.xr-section-summary > span {\n  display: inline-block;\n  padding-left: 0.5em;\n}\n\n.xr-section-summary-in:disabled + label {\n  color: var(--xr-font-color2);\n}\n\n.xr-section-summary-in + label:before {\n  display: inline-block;\n  content: '►';\n  font-size: 11px;\n  width: 15px;\n  text-align: center;\n}\n\n.xr-section-summary-in:disabled + label:before {\n  color: var(--xr-disabled-color);\n}\n\n.xr-section-summary-in:checked + label:before {\n  content: '▼';\n}\n\n.xr-section-summary-in:checked + label > span {\n  display: none;\n}\n\n.xr-section-summary,\n.xr-section-inline-details {\n  padding-top: 4px;\n  padding-bottom: 4px;\n}\n\n.xr-section-inline-details {\n  grid-column: 2 / -1;\n}\n\n.xr-section-details {\n  display: none;\n  grid-column: 1 / -1;\n  margin-bottom: 5px;\n}\n\n.xr-section-summary-in:checked ~ .xr-section-details {\n  display: contents;\n}\n\n.xr-array-wrap {\n  grid-column: 1 / -1;\n  display: grid;\n  grid-template-columns: 20px auto;\n}\n\n.xr-array-wrap > label {\n  grid-column: 1;\n  vertical-align: top;\n}\n\n.xr-preview {\n  color: var(--xr-font-color3);\n}\n\n.xr-array-preview,\n.xr-array-data {\n  padding: 0 5px !important;\n  grid-column: 2;\n}\n\n.xr-array-data,\n.xr-array-in:checked ~ .xr-array-preview {\n  display: none;\n}\n\n.xr-array-in:checked ~ .xr-array-data,\n.xr-array-preview {\n  display: inline-block;\n}\n\n.xr-dim-list {\n  display: inline-block !important;\n  list-style: none;\n  padding: 0 !important;\n  margin: 0;\n}\n\n.xr-dim-list li {\n  display: inline-block;\n  padding: 0;\n  margin: 0;\n}\n\n.xr-dim-list:before {\n  content: '(';\n}\n\n.xr-dim-list:after {\n  content: ')';\n}\n\n.xr-dim-list li:not(:last-child):after {\n  content: ',';\n  padding-right: 5px;\n}\n\n.xr-has-index {\n  font-weight: bold;\n}\n\n.xr-var-list,\n.xr-var-item {\n  display: contents;\n}\n\n.xr-var-item > div,\n.xr-var-item label,\n.xr-var-item > .xr-var-name span {\n  background-color: var(--xr-background-color-row-even);\n  margin-bottom: 0;\n}\n\n.xr-var-item > .xr-var-name:hover span {\n  padding-right: 5px;\n}\n\n.xr-var-list > li:nth-child(odd) > div,\n.xr-var-list > li:nth-child(odd) > label,\n.xr-var-list > li:nth-child(odd) > .xr-var-name span {\n  background-color: var(--xr-background-color-row-odd);\n}\n\n.xr-var-name {\n  grid-column: 1;\n}\n\n.xr-var-dims {\n  grid-column: 2;\n}\n\n.xr-var-dtype {\n  grid-column: 3;\n  text-align: right;\n  color: var(--xr-font-color2);\n}\n\n.xr-var-preview {\n  grid-column: 4;\n}\n\n.xr-var-name,\n.xr-var-dims,\n.xr-var-dtype,\n.xr-preview,\n.xr-attrs dt {\n  white-space: nowrap;\n  overflow: hidden;\n  text-overflow: ellipsis;\n  padding-right: 10px;\n}\n\n.xr-var-name:hover,\n.xr-var-dims:hover,\n.xr-var-dtype:hover,\n.xr-attrs dt:hover {\n  overflow: visible;\n  width: auto;\n  z-index: 1;\n}\n\n.xr-var-attrs,\n.xr-var-data {\n  display: none;\n  background-color: var(--xr-background-color) !important;\n  padding-bottom: 5px !important;\n}\n\n.xr-var-attrs-in:checked ~ .xr-var-attrs,\n.xr-var-data-in:checked ~ .xr-var-data {\n  display: block;\n}\n\n.xr-var-data > table {\n  float: right;\n}\n\n.xr-var-name span,\n.xr-var-data,\n.xr-attrs {\n  padding-left: 25px !important;\n}\n\n.xr-attrs,\n.xr-var-attrs,\n.xr-var-data {\n  grid-column: 1 / -1;\n}\n\ndl.xr-attrs {\n  padding: 0;\n  margin: 0;\n  display: grid;\n  grid-template-columns: 125px auto;\n}\n\n.xr-attrs dt, dd {\n  padding: 0;\n  margin: 0;\n  float: left;\n  padding-right: 10px;\n  width: auto;\n}\n\n.xr-attrs dt {\n  font-weight: normal;\n  grid-column: 1;\n}\n\n.xr-attrs dt:hover span {\n  display: inline-block;\n  background: var(--xr-background-color);\n  padding-right: 10px;\n}\n\n.xr-attrs dd {\n  grid-column: 2;\n  white-space: pre-wrap;\n  word-break: break-all;\n}\n\n.xr-icon-database,\n.xr-icon-file-text2 {\n  display: inline-block;\n  vertical-align: middle;\n  width: 1em;\n  height: 1.5em !important;\n  stroke-width: 0;\n  stroke: currentColor;\n  fill: currentColor;\n}\n</style><div class='xr-wrap'><div class='xr-header'><div class='xr-obj-type'>xarray.DataArray</div><div class='xr-array-name'>'meteo'</div><ul class='xr-dim-list'><li><span class='xr-has-index'>district</span>: 134</li><li><span class='xr-has-index'>time</span>: 8760</li><li><span class='xr-has-index'>factor</span>: 37</li></ul></div><ul class='xr-sections'><li class='xr-section-item'><div class='xr-array-wrap'><input id='section-1da53b83-685e-4c2e-96bf-e74bc2ebc854' class='xr-array-in' type='checkbox' ><label for='section-1da53b83-685e-4c2e-96bf-e74bc2ebc854' title='Show/hide data repr'><svg class='icon xr-icon-database'><use xlink:href='#icon-database'></use></svg></label><div class='xr-array-preview xr-preview'><span>...</span></div><pre class='xr-array-data'>[43432080 values with dtype=float64]</pre></div></li><li class='xr-section-item'><input id='section-82f237ca-b0b7-4d45-b305-e685a3c8ad34' class='xr-section-summary-in' type='checkbox'  checked><label for='section-82f237ca-b0b7-4d45-b305-e685a3c8ad34' class='xr-section-summary' >Coordinates: <span>(3)</span></label><div class='xr-section-inline-details'></div><div class='xr-section-details'><ul class='xr-var-list'><li class='xr-var-item'><div class='xr-var-name'><span class='xr-has-index'>time</span></div><div class='xr-var-dims'>(time)</div><div class='xr-var-dtype'>datetime64[ns]</div><div class='xr-var-preview xr-preview'>2019-01-01 ... 2019-12-31T23:00:00</div><input id='attrs-ccc1350e-0413-439d-b8e6-17c6e7b8677a' class='xr-var-attrs-in' type='checkbox' disabled><label for='attrs-ccc1350e-0413-439d-b8e6-17c6e7b8677a' title='Show/Hide attributes'><svg class='icon xr-icon-file-text2'><use xlink:href='#icon-file-text2'></use></svg></label><input id='data-82238939-7bd2-4924-b806-bbc400d5d85a' class='xr-var-data-in' type='checkbox'><label for='data-82238939-7bd2-4924-b806-bbc400d5d85a' title='Show/Hide data repr'><svg class='icon xr-icon-database'><use xlink:href='#icon-database'></use></svg></label><div class='xr-var-attrs'><dl class='xr-attrs'></dl></div><pre class='xr-var-data'>array([&#x27;2019-01-01T00:00:00.000000000&#x27;, &#x27;2019-01-01T01:00:00.000000000&#x27;,\n       &#x27;2019-01-01T02:00:00.000000000&#x27;, ..., &#x27;2019-12-31T21:00:00.000000000&#x27;,\n       &#x27;2019-12-31T22:00:00.000000000&#x27;, &#x27;2019-12-31T23:00:00.000000000&#x27;],\n      dtype=&#x27;datetime64[ns]&#x27;)</pre></li><li class='xr-var-item'><div class='xr-var-name'><span class='xr-has-index'>district</span></div><div class='xr-var-dims'>(district)</div><div class='xr-var-dtype'>object</div><div class='xr-var-preview xr-preview'>&#x27;Arambagh_West Bengal&#x27; ... &#x27;Tungipara_Dhaka&#x27;</div><input id='attrs-200f085c-b40d-4872-8834-168eae303617' class='xr-var-attrs-in' type='checkbox' disabled><label for='attrs-200f085c-b40d-4872-8834-168eae303617' title='Show/Hide attributes'><svg class='icon xr-icon-file-text2'><use xlink:href='#icon-file-text2'></use></svg></label><input id='data-c023b319-fee8-465c-97d9-3deb7bb52a1e' class='xr-var-data-in' type='checkbox'><label for='data-c023b319-fee8-465c-97d9-3deb7bb52a1e' title='Show/Hide data repr'><svg class='icon xr-icon-database'><use xlink:href='#icon-database'></use></svg></label><div class='xr-var-attrs'><dl class='xr-attrs'></dl></div><pre class='xr-var-data'>array([&#x27;Arambagh_West Bengal&#x27;, &#x27;Asansol_West Bengal&#x27;,\n       &#x27;Ashoknagar Kalyangarh_West Bengal&#x27;, &#x27;Azimpur_Dhaka&#x27;,\n       &#x27;Baharampur_West Bengal&#x27;, &#x27;Baidyabati_West Bengal&#x27;,\n       &#x27;Baj Baj_West Bengal&#x27;, &#x27;Bali_West Bengal&#x27;, &#x27;Balurghat_West Bengal&#x27;,\n       &#x27;Bangaon_West Bengal&#x27;, &#x27;Bankra_West Bengal&#x27;, &#x27;Bankura_West Bengal&#x27;,\n       &#x27;Bansbaria_West Bengal&#x27;, &#x27;Barakpur_West Bengal&#x27;, &#x27;Barasat_West Bengal&#x27;,\n       &#x27;Barddhaman_West Bengal&#x27;, &#x27;Barisal_Barisal&#x27;, &#x27;Bhadreswar_West Bengal&#x27;,\n       &#x27;Bhairab Bazar_Dhaka&#x27;, &#x27;Bhatpara_West Bengal&#x27;, &#x27;Bhola_Barisal&#x27;,\n       &#x27;Bishnupur_West Bengal&#x27;, &#x27;Bogra_Rajshahi&#x27;, &#x27;Bolpur_West Bengal&#x27;,\n       &#x27;Chandannagar_West Bengal&#x27;, &#x27;Chittagong_Chittagong&#x27;,\n       &#x27;Comilla_Chittagong&#x27;, &#x27;Contai_West Bengal&#x27;, &quot;Cox&#x27;s Bazar_Chittagong&quot;,\n       &#x27;Dam Dam_West Bengal&#x27;, &#x27;Darjiling_West Bengal&#x27;, &#x27;Delhi_NCT&#x27;,\n       &#x27;Dhaka_Dhaka&#x27;, &#x27;Dhulian_West Bengal&#x27;, &#x27;Dinajpur_Rangpur Division&#x27;,\n       &#x27;Durgapur_West Bengal&#x27;, &#x27;Faridpur_Dhaka&#x27;, &#x27;Feni_Chittagong&#x27;,\n       &#x27;Gangarampur_West Bengal&#x27;, &#x27;Ghatal_West Bengal&#x27;, &#x27;Gosaba_West Bengal&#x27;,\n       &#x27;Goyerkata_West Bengal&#x27;, &#x27;Habiganj_Sylhet&#x27;, &#x27;Habra_West Bengal&#x27;,\n       &#x27;Haldia_West Bengal&#x27;, &#x27;Halisahar_West Bengal&#x27;, &#x27;Haora_West Bengal&#x27;,\n       &#x27;Hugli_West Bengal&#x27;, &#x27;Ingraj Bazar_West Bengal&#x27;, &#x27;Ishurdi_Rajshahi&#x27;,\n       &#x27;Islampur_West Bengal&#x27;, &#x27;Jaigaon_West Bengal&#x27;, &#x27;Jalpaiguri_West Bengal&#x27;,\n       &#x27;Jamalpur_Mymensingh Division&#x27;, &#x27;Jamuria_West Bengal&#x27;,\n       &#x27;Jangipur_West Bengal&#x27;, &#x27;Jessore_Khulna&#x27;, &#x27;Jhargram_West Bengal&#x27;,\n       &#x27;Joypur Hat_Rajshahi&#x27;, &#x27;Kaliyaganj_West Bengal&#x27;, &#x27;Kalna_West Bengal&#x27;,\n       &#x27;Kalyani_West Bengal&#x27;, &#x27;Kamarhati_West Bengal&#x27;,\n       &#x27;Kanchrapara_West Bengal&#x27;, &#x27;Kandi_West Bengal&#x27;, &#x27;Katoya_West Bengal&#x27;,\n       &#x27;Khagrachhari_Chittagong&#x27;, &#x27;Kharagpur_West Bengal&#x27;,\n       &#x27;Khardah_West Bengal&#x27;, &#x27;Khulna_Khulna&#x27;, &#x27;Kishorganj_Dhaka&#x27;,\n       &#x27;Koch Bihar_West Bengal&#x27;, &#x27;Kolkata_West Bengal&#x27;, &#x27;Konnagar_West Bengal&#x27;,\n       &#x27;Krishnanagar_West Bengal&#x27;, &#x27;Kultali_West Bengal&#x27;, &#x27;Kulti_West Bengal&#x27;,\n       &#x27;Kushtia_Khulna&#x27;, &#x27;Laksham_Chittagong&#x27;, &#x27;Lakshmipur_Chittagong&#x27;,\n       &#x27;Lalmanirhat_Rangpur Division&#x27;, &#x27;Madaripur_Dhaka&#x27;,\n       &#x27;Madhyamgram_West Bengal&#x27;, &#x27;Maulavi Bazar_Sylhet&#x27;,\n       &#x27;Medinipur_West Bengal&#x27;, &#x27;Mymensingh_Mymensingh Division&#x27;,\n       &#x27;Nagarpur_Dhaka&#x27;, &#x27;Naihati_West Bengal&#x27;, &#x27;Naksalbari_West Bengal&#x27;,\n       &#x27;Nangi_West Bengal&#x27;, &#x27;Nangloi Jat_NCT&#x27;, &#x27;Narail_Khulna&#x27;,\n       &#x27;Narayanganj_Dhaka&#x27;, &#x27;Narsingdi_Dhaka&#x27;, &#x27;Navadwip_West Bengal&#x27;,\n       &#x27;Nawabganj_Rajshahi&#x27;, &#x27;Netrakona_Mymensingh Division&#x27;, &#x27;New Delhi_NCT&#x27;,\n       &#x27;Pabna_Rajshahi&#x27;, &#x27;Palang_Dhaka&#x27;, &#x27;Paltan_Dhaka&#x27;,\n       &#x27;Panihati_West Bengal&#x27;, &#x27;Par Naogaon_Rajshahi&#x27;, &#x27;Patiya_Chittagong&#x27;,\n       &#x27;Pirojpur_Barisal&#x27;, &#x27;Puruliya_West Bengal&#x27;, &#x27;Raiganj_West Bengal&#x27;,\n       &#x27;Raipur_Chittagong&#x27;, &#x27;Rajshahi_Rajshahi&#x27;, &#x27;Ramganj_Chittagong&#x27;,\n       &#x27;Rampur Hat_West Bengal&#x27;, &#x27;Ranaghat_West Bengal&#x27;,\n       &#x27;Rangpur_Rangpur Division&#x27;, &#x27;Raniganj_West Bengal&#x27;,\n       &#x27;Rishra_West Bengal&#x27;, &#x27;Saidpur_Rajshahi&#x27;, &#x27;Sandwip_Chittagong&#x27;,\n       &#x27;Sarishabari_Mymensingh Division&#x27;, &#x27;Satkania_Chittagong&#x27;,\n       &#x27;Satkhira_Khulna&#x27;, &#x27;Shahzadpur_Rajshahi&#x27;, &#x27;Shantipur_West Bengal&#x27;,\n       &#x27;Sherpur_Mymensingh Division&#x27;, &#x27;Shiliguri_West Bengal&#x27;,\n       &#x27;Shrirampur_West Bengal&#x27;, &#x27;Shyamnagar_West Bengal&#x27;,\n       &#x27;Sirajganj_Rajshahi&#x27;, &#x27;Siuri_West Bengal&#x27;, &#x27;Sylhet_Sylhet&#x27;,\n       &#x27;Tangail_Dhaka&#x27;, &#x27;Thakurgaon_Rangpur Division&#x27;, &#x27;Titagarh_West Bengal&#x27;,\n       &#x27;Tungi_Dhaka&#x27;, &#x27;Tungipara_Dhaka&#x27;], dtype=object)</pre></li><li class='xr-var-item'><div class='xr-var-name'><span class='xr-has-index'>factor</span></div><div class='xr-var-dims'>(factor)</div><div class='xr-var-dtype'>object</div><div class='xr-var-preview xr-preview'>&#x27;Temperature [2 m elevation corrected]&#x27; ... &#x27;Evapotranspiration&#x27;</div><input id='attrs-f0aa50fc-49a1-4baf-a159-7ebcf0492643' class='xr-var-attrs-in' type='checkbox' disabled><label for='attrs-f0aa50fc-49a1-4baf-a159-7ebcf0492643' title='Show/Hide attributes'><svg class='icon xr-icon-file-text2'><use xlink:href='#icon-file-text2'></use></svg></label><input id='data-01b4c353-4979-4466-a17e-58fe7ecace64' class='xr-var-data-in' type='checkbox'><label for='data-01b4c353-4979-4466-a17e-58fe7ecace64' title='Show/Hide data repr'><svg class='icon xr-icon-database'><use xlink:href='#icon-database'></use></svg></label><div class='xr-var-attrs'><dl class='xr-attrs'></dl></div><pre class='xr-var-data'>array([&#x27;Temperature [2 m elevation corrected]&#x27;,\n       &#x27;Growing Degree Days [2 m elevation corrected]&#x27;, &#x27;Temperature [900 mb]&#x27;,\n       &#x27;Temperature [850 mb]&#x27;, &#x27;Temperature [800 mb]&#x27;, &#x27;Temperature [700 mb]&#x27;,\n       &#x27;Temperature [500 mb]&#x27;, &#x27;Precipitation Total&#x27;, &#x27;Precipitation Runoff&#x27;,\n       &#x27;Relative Humidity [2 m]&#x27;, &#x27;Wind Gust&#x27;, &#x27;Wind Speed [10 m]&#x27;,\n       &#x27;Wind Direction [10 m]&#x27;, &#x27;Wind Speed [100 m]&#x27;, &#x27;Wind Direction [100 m]&#x27;,\n       &#x27;Wind Speed [900 mb]&#x27;, &#x27;Wind Direction [900 mb]&#x27;, &#x27;Wind Speed [850 mb]&#x27;,\n       &#x27;Wind Direction [850 mb]&#x27;, &#x27;Wind Speed [800 mb]&#x27;,\n       &#x27;Wind Direction [800 mb]&#x27;, &#x27;Wind Speed [700 mb]&#x27;,\n       &#x27;Wind Direction [700 mb]&#x27;, &#x27;Wind Speed [500 mb]&#x27;,\n       &#x27;Wind Direction [500 mb]&#x27;, &#x27;Wind Speed [250 mb]&#x27;,\n       &#x27;Wind Direction [250 mb]&#x27;, &#x27;Cloud Cover Total&#x27;,\n       &#x27;Cloud Cover High [high cld lay]&#x27;, &#x27;Cloud Cover Medium [mid cld lay]&#x27;,\n       &#x27;Cloud Cover Low [low cld lay]&#x27;, &#x27;Sunshine Duration&#x27;,\n       &#x27;Shortwave Radiation&#x27;, &#x27;Longwave Radiation&#x27;, &#x27;UV Radiation&#x27;,\n       &#x27;Mean Sea Level Pressure [MSL]&#x27;, &#x27;Evapotranspiration&#x27;], dtype=object)</pre></li></ul></div></li><li class='xr-section-item'><input id='section-1cfd8803-d188-4489-8ec1-bcb998be2748' class='xr-section-summary-in' type='checkbox' disabled ><label for='section-1cfd8803-d188-4489-8ec1-bcb998be2748' class='xr-section-summary'  title='Expand/collapse section'>Attributes: <span>(0)</span></label><div class='xr-section-inline-details'></div><div class='xr-section-details'><dl class='xr-attrs'></dl></div></li></ul></div></div>"
     },
     "execution_count": 1,
     "metadata": {},
     "output_type": "execute_result"
    }
   ],
   "source": [
    "from meteorological_functions.meteoblue_data_preparation import read_meteo_data\n",
    "import pandas as pd\n",
    "\n",
    "data = read_meteo_data()\n",
    "data"
   ]
  },
  {
   "cell_type": "code",
   "execution_count": 2,
   "outputs": [
    {
     "data": {
      "text/plain": "<xarray.DataArray 'meteo' (district: 134, time: 8760, factor: 37)>\n[43432080 values with dtype=float64]\nCoordinates:\n  * time      (time) datetime64[ns] 2019-01-01 ... 2019-12-31T23:00:00\n  * district  (district) object 'Arambagh_West Bengal' ... 'Tungipara_Dhaka'\n  * factor    (factor) object 'Temperature [2 m elevation corrected]' ... 'Evapotranspiration'",
      "text/html": "<div><svg style=\"position: absolute; width: 0; height: 0; overflow: hidden\">\n<defs>\n<symbol id=\"icon-database\" viewBox=\"0 0 32 32\">\n<title>Show/Hide data repr</title>\n<path d=\"M16 0c-8.837 0-16 2.239-16 5v4c0 2.761 7.163 5 16 5s16-2.239 16-5v-4c0-2.761-7.163-5-16-5z\"></path>\n<path d=\"M16 17c-8.837 0-16-2.239-16-5v6c0 2.761 7.163 5 16 5s16-2.239 16-5v-6c0 2.761-7.163 5-16 5z\"></path>\n<path d=\"M16 26c-8.837 0-16-2.239-16-5v6c0 2.761 7.163 5 16 5s16-2.239 16-5v-6c0 2.761-7.163 5-16 5z\"></path>\n</symbol>\n<symbol id=\"icon-file-text2\" viewBox=\"0 0 32 32\">\n<title>Show/Hide attributes</title>\n<path d=\"M28.681 7.159c-0.694-0.947-1.662-2.053-2.724-3.116s-2.169-2.030-3.116-2.724c-1.612-1.182-2.393-1.319-2.841-1.319h-15.5c-1.378 0-2.5 1.121-2.5 2.5v27c0 1.378 1.122 2.5 2.5 2.5h23c1.378 0 2.5-1.122 2.5-2.5v-19.5c0-0.448-0.137-1.23-1.319-2.841zM24.543 5.457c0.959 0.959 1.712 1.825 2.268 2.543h-4.811v-4.811c0.718 0.556 1.584 1.309 2.543 2.268zM28 29.5c0 0.271-0.229 0.5-0.5 0.5h-23c-0.271 0-0.5-0.229-0.5-0.5v-27c0-0.271 0.229-0.5 0.5-0.5 0 0 15.499-0 15.5 0v7c0 0.552 0.448 1 1 1h7v19.5z\"></path>\n<path d=\"M23 26h-14c-0.552 0-1-0.448-1-1s0.448-1 1-1h14c0.552 0 1 0.448 1 1s-0.448 1-1 1z\"></path>\n<path d=\"M23 22h-14c-0.552 0-1-0.448-1-1s0.448-1 1-1h14c0.552 0 1 0.448 1 1s-0.448 1-1 1z\"></path>\n<path d=\"M23 18h-14c-0.552 0-1-0.448-1-1s0.448-1 1-1h14c0.552 0 1 0.448 1 1s-0.448 1-1 1z\"></path>\n</symbol>\n</defs>\n</svg>\n<style>/* CSS stylesheet for displaying xarray objects in jupyterlab.\n *\n */\n\n:root {\n  --xr-font-color0: var(--jp-content-font-color0, rgba(0, 0, 0, 1));\n  --xr-font-color2: var(--jp-content-font-color2, rgba(0, 0, 0, 0.54));\n  --xr-font-color3: var(--jp-content-font-color3, rgba(0, 0, 0, 0.38));\n  --xr-border-color: var(--jp-border-color2, #e0e0e0);\n  --xr-disabled-color: var(--jp-layout-color3, #bdbdbd);\n  --xr-background-color: var(--jp-layout-color0, white);\n  --xr-background-color-row-even: var(--jp-layout-color1, white);\n  --xr-background-color-row-odd: var(--jp-layout-color2, #eeeeee);\n}\n\n.xr-wrap {\n  min-width: 300px;\n  max-width: 700px;\n}\n\n.xr-header {\n  padding-top: 6px;\n  padding-bottom: 6px;\n  margin-bottom: 4px;\n  border-bottom: solid 1px var(--xr-border-color);\n}\n\n.xr-header > div,\n.xr-header > ul {\n  display: inline;\n  margin-top: 0;\n  margin-bottom: 0;\n}\n\n.xr-obj-type,\n.xr-array-name {\n  margin-left: 2px;\n  margin-right: 10px;\n}\n\n.xr-obj-type {\n  color: var(--xr-font-color2);\n}\n\n.xr-sections {\n  padding-left: 0 !important;\n  display: grid;\n  grid-template-columns: 150px auto auto 1fr 20px 20px;\n}\n\n.xr-section-item {\n  display: contents;\n}\n\n.xr-section-item input {\n  display: none;\n}\n\n.xr-section-item input + label {\n  color: var(--xr-disabled-color);\n}\n\n.xr-section-item input:enabled + label {\n  cursor: pointer;\n  color: var(--xr-font-color2);\n}\n\n.xr-section-item input:enabled + label:hover {\n  color: var(--xr-font-color0);\n}\n\n.xr-section-summary {\n  grid-column: 1;\n  color: var(--xr-font-color2);\n  font-weight: 500;\n}\n\n.xr-section-summary > span {\n  display: inline-block;\n  padding-left: 0.5em;\n}\n\n.xr-section-summary-in:disabled + label {\n  color: var(--xr-font-color2);\n}\n\n.xr-section-summary-in + label:before {\n  display: inline-block;\n  content: '►';\n  font-size: 11px;\n  width: 15px;\n  text-align: center;\n}\n\n.xr-section-summary-in:disabled + label:before {\n  color: var(--xr-disabled-color);\n}\n\n.xr-section-summary-in:checked + label:before {\n  content: '▼';\n}\n\n.xr-section-summary-in:checked + label > span {\n  display: none;\n}\n\n.xr-section-summary,\n.xr-section-inline-details {\n  padding-top: 4px;\n  padding-bottom: 4px;\n}\n\n.xr-section-inline-details {\n  grid-column: 2 / -1;\n}\n\n.xr-section-details {\n  display: none;\n  grid-column: 1 / -1;\n  margin-bottom: 5px;\n}\n\n.xr-section-summary-in:checked ~ .xr-section-details {\n  display: contents;\n}\n\n.xr-array-wrap {\n  grid-column: 1 / -1;\n  display: grid;\n  grid-template-columns: 20px auto;\n}\n\n.xr-array-wrap > label {\n  grid-column: 1;\n  vertical-align: top;\n}\n\n.xr-preview {\n  color: var(--xr-font-color3);\n}\n\n.xr-array-preview,\n.xr-array-data {\n  padding: 0 5px !important;\n  grid-column: 2;\n}\n\n.xr-array-data,\n.xr-array-in:checked ~ .xr-array-preview {\n  display: none;\n}\n\n.xr-array-in:checked ~ .xr-array-data,\n.xr-array-preview {\n  display: inline-block;\n}\n\n.xr-dim-list {\n  display: inline-block !important;\n  list-style: none;\n  padding: 0 !important;\n  margin: 0;\n}\n\n.xr-dim-list li {\n  display: inline-block;\n  padding: 0;\n  margin: 0;\n}\n\n.xr-dim-list:before {\n  content: '(';\n}\n\n.xr-dim-list:after {\n  content: ')';\n}\n\n.xr-dim-list li:not(:last-child):after {\n  content: ',';\n  padding-right: 5px;\n}\n\n.xr-has-index {\n  font-weight: bold;\n}\n\n.xr-var-list,\n.xr-var-item {\n  display: contents;\n}\n\n.xr-var-item > div,\n.xr-var-item label,\n.xr-var-item > .xr-var-name span {\n  background-color: var(--xr-background-color-row-even);\n  margin-bottom: 0;\n}\n\n.xr-var-item > .xr-var-name:hover span {\n  padding-right: 5px;\n}\n\n.xr-var-list > li:nth-child(odd) > div,\n.xr-var-list > li:nth-child(odd) > label,\n.xr-var-list > li:nth-child(odd) > .xr-var-name span {\n  background-color: var(--xr-background-color-row-odd);\n}\n\n.xr-var-name {\n  grid-column: 1;\n}\n\n.xr-var-dims {\n  grid-column: 2;\n}\n\n.xr-var-dtype {\n  grid-column: 3;\n  text-align: right;\n  color: var(--xr-font-color2);\n}\n\n.xr-var-preview {\n  grid-column: 4;\n}\n\n.xr-var-name,\n.xr-var-dims,\n.xr-var-dtype,\n.xr-preview,\n.xr-attrs dt {\n  white-space: nowrap;\n  overflow: hidden;\n  text-overflow: ellipsis;\n  padding-right: 10px;\n}\n\n.xr-var-name:hover,\n.xr-var-dims:hover,\n.xr-var-dtype:hover,\n.xr-attrs dt:hover {\n  overflow: visible;\n  width: auto;\n  z-index: 1;\n}\n\n.xr-var-attrs,\n.xr-var-data {\n  display: none;\n  background-color: var(--xr-background-color) !important;\n  padding-bottom: 5px !important;\n}\n\n.xr-var-attrs-in:checked ~ .xr-var-attrs,\n.xr-var-data-in:checked ~ .xr-var-data {\n  display: block;\n}\n\n.xr-var-data > table {\n  float: right;\n}\n\n.xr-var-name span,\n.xr-var-data,\n.xr-attrs {\n  padding-left: 25px !important;\n}\n\n.xr-attrs,\n.xr-var-attrs,\n.xr-var-data {\n  grid-column: 1 / -1;\n}\n\ndl.xr-attrs {\n  padding: 0;\n  margin: 0;\n  display: grid;\n  grid-template-columns: 125px auto;\n}\n\n.xr-attrs dt, dd {\n  padding: 0;\n  margin: 0;\n  float: left;\n  padding-right: 10px;\n  width: auto;\n}\n\n.xr-attrs dt {\n  font-weight: normal;\n  grid-column: 1;\n}\n\n.xr-attrs dt:hover span {\n  display: inline-block;\n  background: var(--xr-background-color);\n  padding-right: 10px;\n}\n\n.xr-attrs dd {\n  grid-column: 2;\n  white-space: pre-wrap;\n  word-break: break-all;\n}\n\n.xr-icon-database,\n.xr-icon-file-text2 {\n  display: inline-block;\n  vertical-align: middle;\n  width: 1em;\n  height: 1.5em !important;\n  stroke-width: 0;\n  stroke: currentColor;\n  fill: currentColor;\n}\n</style><div class='xr-wrap'><div class='xr-header'><div class='xr-obj-type'>xarray.DataArray</div><div class='xr-array-name'>'meteo'</div><ul class='xr-dim-list'><li><span class='xr-has-index'>district</span>: 134</li><li><span class='xr-has-index'>time</span>: 8760</li><li><span class='xr-has-index'>factor</span>: 37</li></ul></div><ul class='xr-sections'><li class='xr-section-item'><div class='xr-array-wrap'><input id='section-43553af0-ae04-4dbc-81b3-cadafc63cabf' class='xr-array-in' type='checkbox' ><label for='section-43553af0-ae04-4dbc-81b3-cadafc63cabf' title='Show/hide data repr'><svg class='icon xr-icon-database'><use xlink:href='#icon-database'></use></svg></label><div class='xr-array-preview xr-preview'><span>...</span></div><pre class='xr-array-data'>[43432080 values with dtype=float64]</pre></div></li><li class='xr-section-item'><input id='section-20015de3-b4a8-4cbc-ad8d-efab88b8fde6' class='xr-section-summary-in' type='checkbox'  checked><label for='section-20015de3-b4a8-4cbc-ad8d-efab88b8fde6' class='xr-section-summary' >Coordinates: <span>(3)</span></label><div class='xr-section-inline-details'></div><div class='xr-section-details'><ul class='xr-var-list'><li class='xr-var-item'><div class='xr-var-name'><span class='xr-has-index'>time</span></div><div class='xr-var-dims'>(time)</div><div class='xr-var-dtype'>datetime64[ns]</div><div class='xr-var-preview xr-preview'>2019-01-01 ... 2019-12-31T23:00:00</div><input id='attrs-d8be5535-0880-4304-8301-2fd011cf54d1' class='xr-var-attrs-in' type='checkbox' disabled><label for='attrs-d8be5535-0880-4304-8301-2fd011cf54d1' title='Show/Hide attributes'><svg class='icon xr-icon-file-text2'><use xlink:href='#icon-file-text2'></use></svg></label><input id='data-8b555ed1-643c-4dd7-a77b-9d7ea85a65bc' class='xr-var-data-in' type='checkbox'><label for='data-8b555ed1-643c-4dd7-a77b-9d7ea85a65bc' title='Show/Hide data repr'><svg class='icon xr-icon-database'><use xlink:href='#icon-database'></use></svg></label><div class='xr-var-attrs'><dl class='xr-attrs'></dl></div><pre class='xr-var-data'>array([&#x27;2019-01-01T00:00:00.000000000&#x27;, &#x27;2019-01-01T01:00:00.000000000&#x27;,\n       &#x27;2019-01-01T02:00:00.000000000&#x27;, ..., &#x27;2019-12-31T21:00:00.000000000&#x27;,\n       &#x27;2019-12-31T22:00:00.000000000&#x27;, &#x27;2019-12-31T23:00:00.000000000&#x27;],\n      dtype=&#x27;datetime64[ns]&#x27;)</pre></li><li class='xr-var-item'><div class='xr-var-name'><span class='xr-has-index'>district</span></div><div class='xr-var-dims'>(district)</div><div class='xr-var-dtype'>object</div><div class='xr-var-preview xr-preview'>&#x27;Arambagh_West Bengal&#x27; ... &#x27;Tungipara_Dhaka&#x27;</div><input id='attrs-de008fa5-e087-4ad0-a5a2-6fab87d58c19' class='xr-var-attrs-in' type='checkbox' disabled><label for='attrs-de008fa5-e087-4ad0-a5a2-6fab87d58c19' title='Show/Hide attributes'><svg class='icon xr-icon-file-text2'><use xlink:href='#icon-file-text2'></use></svg></label><input id='data-69076242-7cdf-49e6-8935-21c01e96aa8f' class='xr-var-data-in' type='checkbox'><label for='data-69076242-7cdf-49e6-8935-21c01e96aa8f' title='Show/Hide data repr'><svg class='icon xr-icon-database'><use xlink:href='#icon-database'></use></svg></label><div class='xr-var-attrs'><dl class='xr-attrs'></dl></div><pre class='xr-var-data'>array([&#x27;Arambagh_West Bengal&#x27;, &#x27;Asansol_West Bengal&#x27;,\n       &#x27;Ashoknagar Kalyangarh_West Bengal&#x27;, &#x27;Azimpur_Dhaka&#x27;,\n       &#x27;Baharampur_West Bengal&#x27;, &#x27;Baidyabati_West Bengal&#x27;,\n       &#x27;Baj Baj_West Bengal&#x27;, &#x27;Bali_West Bengal&#x27;, &#x27;Balurghat_West Bengal&#x27;,\n       &#x27;Bangaon_West Bengal&#x27;, &#x27;Bankra_West Bengal&#x27;, &#x27;Bankura_West Bengal&#x27;,\n       &#x27;Bansbaria_West Bengal&#x27;, &#x27;Barakpur_West Bengal&#x27;, &#x27;Barasat_West Bengal&#x27;,\n       &#x27;Barddhaman_West Bengal&#x27;, &#x27;Barisal_Barisal&#x27;, &#x27;Bhadreswar_West Bengal&#x27;,\n       &#x27;Bhairab Bazar_Dhaka&#x27;, &#x27;Bhatpara_West Bengal&#x27;, &#x27;Bhola_Barisal&#x27;,\n       &#x27;Bishnupur_West Bengal&#x27;, &#x27;Bogra_Rajshahi&#x27;, &#x27;Bolpur_West Bengal&#x27;,\n       &#x27;Chandannagar_West Bengal&#x27;, &#x27;Chittagong_Chittagong&#x27;,\n       &#x27;Comilla_Chittagong&#x27;, &#x27;Contai_West Bengal&#x27;, &quot;Cox&#x27;s Bazar_Chittagong&quot;,\n       &#x27;Dam Dam_West Bengal&#x27;, &#x27;Darjiling_West Bengal&#x27;, &#x27;Delhi_NCT&#x27;,\n       &#x27;Dhaka_Dhaka&#x27;, &#x27;Dhulian_West Bengal&#x27;, &#x27;Dinajpur_Rangpur Division&#x27;,\n       &#x27;Durgapur_West Bengal&#x27;, &#x27;Faridpur_Dhaka&#x27;, &#x27;Feni_Chittagong&#x27;,\n       &#x27;Gangarampur_West Bengal&#x27;, &#x27;Ghatal_West Bengal&#x27;, &#x27;Gosaba_West Bengal&#x27;,\n       &#x27;Goyerkata_West Bengal&#x27;, &#x27;Habiganj_Sylhet&#x27;, &#x27;Habra_West Bengal&#x27;,\n       &#x27;Haldia_West Bengal&#x27;, &#x27;Halisahar_West Bengal&#x27;, &#x27;Haora_West Bengal&#x27;,\n       &#x27;Hugli_West Bengal&#x27;, &#x27;Ingraj Bazar_West Bengal&#x27;, &#x27;Ishurdi_Rajshahi&#x27;,\n       &#x27;Islampur_West Bengal&#x27;, &#x27;Jaigaon_West Bengal&#x27;, &#x27;Jalpaiguri_West Bengal&#x27;,\n       &#x27;Jamalpur_Mymensingh Division&#x27;, &#x27;Jamuria_West Bengal&#x27;,\n       &#x27;Jangipur_West Bengal&#x27;, &#x27;Jessore_Khulna&#x27;, &#x27;Jhargram_West Bengal&#x27;,\n       &#x27;Joypur Hat_Rajshahi&#x27;, &#x27;Kaliyaganj_West Bengal&#x27;, &#x27;Kalna_West Bengal&#x27;,\n       &#x27;Kalyani_West Bengal&#x27;, &#x27;Kamarhati_West Bengal&#x27;,\n       &#x27;Kanchrapara_West Bengal&#x27;, &#x27;Kandi_West Bengal&#x27;, &#x27;Katoya_West Bengal&#x27;,\n       &#x27;Khagrachhari_Chittagong&#x27;, &#x27;Kharagpur_West Bengal&#x27;,\n       &#x27;Khardah_West Bengal&#x27;, &#x27;Khulna_Khulna&#x27;, &#x27;Kishorganj_Dhaka&#x27;,\n       &#x27;Koch Bihar_West Bengal&#x27;, &#x27;Kolkata_West Bengal&#x27;, &#x27;Konnagar_West Bengal&#x27;,\n       &#x27;Krishnanagar_West Bengal&#x27;, &#x27;Kultali_West Bengal&#x27;, &#x27;Kulti_West Bengal&#x27;,\n       &#x27;Kushtia_Khulna&#x27;, &#x27;Laksham_Chittagong&#x27;, &#x27;Lakshmipur_Chittagong&#x27;,\n       &#x27;Lalmanirhat_Rangpur Division&#x27;, &#x27;Madaripur_Dhaka&#x27;,\n       &#x27;Madhyamgram_West Bengal&#x27;, &#x27;Maulavi Bazar_Sylhet&#x27;,\n       &#x27;Medinipur_West Bengal&#x27;, &#x27;Mymensingh_Mymensingh Division&#x27;,\n       &#x27;Nagarpur_Dhaka&#x27;, &#x27;Naihati_West Bengal&#x27;, &#x27;Naksalbari_West Bengal&#x27;,\n       &#x27;Nangi_West Bengal&#x27;, &#x27;Nangloi Jat_NCT&#x27;, &#x27;Narail_Khulna&#x27;,\n       &#x27;Narayanganj_Dhaka&#x27;, &#x27;Narsingdi_Dhaka&#x27;, &#x27;Navadwip_West Bengal&#x27;,\n       &#x27;Nawabganj_Rajshahi&#x27;, &#x27;Netrakona_Mymensingh Division&#x27;, &#x27;New Delhi_NCT&#x27;,\n       &#x27;Pabna_Rajshahi&#x27;, &#x27;Palang_Dhaka&#x27;, &#x27;Paltan_Dhaka&#x27;,\n       &#x27;Panihati_West Bengal&#x27;, &#x27;Par Naogaon_Rajshahi&#x27;, &#x27;Patiya_Chittagong&#x27;,\n       &#x27;Pirojpur_Barisal&#x27;, &#x27;Puruliya_West Bengal&#x27;, &#x27;Raiganj_West Bengal&#x27;,\n       &#x27;Raipur_Chittagong&#x27;, &#x27;Rajshahi_Rajshahi&#x27;, &#x27;Ramganj_Chittagong&#x27;,\n       &#x27;Rampur Hat_West Bengal&#x27;, &#x27;Ranaghat_West Bengal&#x27;,\n       &#x27;Rangpur_Rangpur Division&#x27;, &#x27;Raniganj_West Bengal&#x27;,\n       &#x27;Rishra_West Bengal&#x27;, &#x27;Saidpur_Rajshahi&#x27;, &#x27;Sandwip_Chittagong&#x27;,\n       &#x27;Sarishabari_Mymensingh Division&#x27;, &#x27;Satkania_Chittagong&#x27;,\n       &#x27;Satkhira_Khulna&#x27;, &#x27;Shahzadpur_Rajshahi&#x27;, &#x27;Shantipur_West Bengal&#x27;,\n       &#x27;Sherpur_Mymensingh Division&#x27;, &#x27;Shiliguri_West Bengal&#x27;,\n       &#x27;Shrirampur_West Bengal&#x27;, &#x27;Shyamnagar_West Bengal&#x27;,\n       &#x27;Sirajganj_Rajshahi&#x27;, &#x27;Siuri_West Bengal&#x27;, &#x27;Sylhet_Sylhet&#x27;,\n       &#x27;Tangail_Dhaka&#x27;, &#x27;Thakurgaon_Rangpur Division&#x27;, &#x27;Titagarh_West Bengal&#x27;,\n       &#x27;Tungi_Dhaka&#x27;, &#x27;Tungipara_Dhaka&#x27;], dtype=object)</pre></li><li class='xr-var-item'><div class='xr-var-name'><span class='xr-has-index'>factor</span></div><div class='xr-var-dims'>(factor)</div><div class='xr-var-dtype'>object</div><div class='xr-var-preview xr-preview'>&#x27;Temperature [2 m elevation corrected]&#x27; ... &#x27;Evapotranspiration&#x27;</div><input id='attrs-0989fd02-41c7-4c90-9886-6a46e60a7dc0' class='xr-var-attrs-in' type='checkbox' disabled><label for='attrs-0989fd02-41c7-4c90-9886-6a46e60a7dc0' title='Show/Hide attributes'><svg class='icon xr-icon-file-text2'><use xlink:href='#icon-file-text2'></use></svg></label><input id='data-8ccfec0b-9e2e-4e78-bd2f-ab2a7b5da31f' class='xr-var-data-in' type='checkbox'><label for='data-8ccfec0b-9e2e-4e78-bd2f-ab2a7b5da31f' title='Show/Hide data repr'><svg class='icon xr-icon-database'><use xlink:href='#icon-database'></use></svg></label><div class='xr-var-attrs'><dl class='xr-attrs'></dl></div><pre class='xr-var-data'>array([&#x27;Temperature [2 m elevation corrected]&#x27;,\n       &#x27;Growing Degree Days [2 m elevation corrected]&#x27;, &#x27;Temperature [900 mb]&#x27;,\n       &#x27;Temperature [850 mb]&#x27;, &#x27;Temperature [800 mb]&#x27;, &#x27;Temperature [700 mb]&#x27;,\n       &#x27;Temperature [500 mb]&#x27;, &#x27;Precipitation Total&#x27;, &#x27;Precipitation Runoff&#x27;,\n       &#x27;Relative Humidity [2 m]&#x27;, &#x27;Wind Gust&#x27;, &#x27;Wind Speed [10 m]&#x27;,\n       &#x27;Wind Direction [10 m]&#x27;, &#x27;Wind Speed [100 m]&#x27;, &#x27;Wind Direction [100 m]&#x27;,\n       &#x27;Wind Speed [900 mb]&#x27;, &#x27;Wind Direction [900 mb]&#x27;, &#x27;Wind Speed [850 mb]&#x27;,\n       &#x27;Wind Direction [850 mb]&#x27;, &#x27;Wind Speed [800 mb]&#x27;,\n       &#x27;Wind Direction [800 mb]&#x27;, &#x27;Wind Speed [700 mb]&#x27;,\n       &#x27;Wind Direction [700 mb]&#x27;, &#x27;Wind Speed [500 mb]&#x27;,\n       &#x27;Wind Direction [500 mb]&#x27;, &#x27;Wind Speed [250 mb]&#x27;,\n       &#x27;Wind Direction [250 mb]&#x27;, &#x27;Cloud Cover Total&#x27;,\n       &#x27;Cloud Cover High [high cld lay]&#x27;, &#x27;Cloud Cover Medium [mid cld lay]&#x27;,\n       &#x27;Cloud Cover Low [low cld lay]&#x27;, &#x27;Sunshine Duration&#x27;,\n       &#x27;Shortwave Radiation&#x27;, &#x27;Longwave Radiation&#x27;, &#x27;UV Radiation&#x27;,\n       &#x27;Mean Sea Level Pressure [MSL]&#x27;, &#x27;Evapotranspiration&#x27;], dtype=object)</pre></li></ul></div></li><li class='xr-section-item'><input id='section-33156813-48ca-472e-a3f1-6b9b386b815d' class='xr-section-summary-in' type='checkbox' disabled ><label for='section-33156813-48ca-472e-a3f1-6b9b386b815d' class='xr-section-summary'  title='Expand/collapse section'>Attributes: <span>(0)</span></label><div class='xr-section-inline-details'></div><div class='xr-section-details'><dl class='xr-attrs'></dl></div></li></ul></div></div>"
     },
     "execution_count": 2,
     "metadata": {},
     "output_type": "execute_result"
    }
   ],
   "source": [
    "data"
   ],
   "metadata": {
    "collapsed": false,
    "pycharm": {
     "name": "#%%\n"
    }
   }
  },
  {
   "cell_type": "code",
   "execution_count": 4,
   "outputs": [
    {
     "data": {
      "application/vnd.plotly.v1+json": {
       "config": {
        "plotlyServerURL": "https://plot.ly"
       },
       "data": [
        {
         "marker": {
          "color": "#260637"
         },
         "name": "Temperature [2 m elevation corrected]",
         "type": "scatter",
         "x": [
          "2019-01-01T00:00:00",
          "2019-02-01T00:00:00",
          "2019-03-01T00:00:00",
          "2019-04-01T00:00:00",
          "2019-05-01T00:00:00",
          "2019-06-01T00:00:00",
          "2019-07-01T00:00:00",
          "2019-08-01T00:00:00",
          "2019-09-01T00:00:00",
          "2019-10-01T00:00:00",
          "2019-11-01T00:00:00",
          "2019-12-01T00:00:00"
         ],
         "xaxis": "x",
         "y": [
          18.36111665716778,
          21.525467809346146,
          25.50804090217761,
          28.544938971517396,
          30.36101799972919,
          30.386601797522797,
          29.4828607461884,
          29.517105642332695,
          28.600532000715187,
          26.955969901299937,
          23.78192245163767,
          18.353172098565626
         ],
         "yaxis": "y"
        },
        {
         "marker": {
          "color": "#843B58"
         },
         "name": "Temperature [900 mb]",
         "type": "scatter",
         "x": [
          "2019-01-01T00:00:00",
          "2019-02-01T00:00:00",
          "2019-03-01T00:00:00",
          "2019-04-01T00:00:00",
          "2019-05-01T00:00:00",
          "2019-06-01T00:00:00",
          "2019-07-01T00:00:00",
          "2019-08-01T00:00:00",
          "2019-09-01T00:00:00",
          "2019-10-01T00:00:00",
          "2019-11-01T00:00:00",
          "2019-12-01T00:00:00"
         ],
         "xaxis": "x",
         "y": [
          14.488564134970296,
          16.701928082800286,
          19.825119162253248,
          22.98457099917081,
          25.082662493981687,
          24.20713961442785,
          23.199759468785075,
          23.011206066441993,
          22.167670398009935,
          20.554756058417592,
          18.57942703150912,
          14.659962285347468
         ],
         "yaxis": "y"
        },
        {
         "marker": {
          "color": "#B73239"
         },
         "name": "Temperature [850 mb]",
         "type": "scatter",
         "x": [
          "2019-01-01T00:00:00",
          "2019-02-01T00:00:00",
          "2019-03-01T00:00:00",
          "2019-04-01T00:00:00",
          "2019-05-01T00:00:00",
          "2019-06-01T00:00:00",
          "2019-07-01T00:00:00",
          "2019-08-01T00:00:00",
          "2019-09-01T00:00:00",
          "2019-10-01T00:00:00",
          "2019-11-01T00:00:00",
          "2019-12-01T00:00:00"
         ],
         "xaxis": "x",
         "y": [
          12.362606624137381,
          14.26977278784651,
          16.41417248435245,
          20.391607068822548,
          22.76236839993582,
          21.704425684079617,
          20.58449356042368,
          20.412617055849786,
          19.587820999170823,
          18.0188820012839,
          16.662722325870632,
          12.518533642272521
         ],
         "yaxis": "y"
        },
        {
         "marker": {
          "color": "#FFA500"
         },
         "name": "Temperature [800 mb]",
         "type": "scatter",
         "x": [
          "2019-01-01T00:00:00",
          "2019-02-01T00:00:00",
          "2019-03-01T00:00:00",
          "2019-04-01T00:00:00",
          "2019-05-01T00:00:00",
          "2019-06-01T00:00:00",
          "2019-07-01T00:00:00",
          "2019-08-01T00:00:00",
          "2019-09-01T00:00:00",
          "2019-10-01T00:00:00",
          "2019-11-01T00:00:00",
          "2019-12-01T00:00:00"
         ],
         "xaxis": "x",
         "y": [
          9.929547725084253,
          11.571297530206115,
          12.86395191381799,
          16.96419734660035,
          19.448076653025183,
          18.911345667495855,
          17.91736438773872,
          17.81333363424811,
          16.91732628524046,
          15.496838990531218,
          14.851902155887242,
          10.15909183919114
         ],
         "yaxis": "y"
        },
        {
         "marker": {
          "color": "#F9C53D"
         },
         "name": "Temperature [700 mb]",
         "type": "scatter",
         "x": [
          "2019-01-01T00:00:00",
          "2019-02-01T00:00:00",
          "2019-03-01T00:00:00",
          "2019-04-01T00:00:00",
          "2019-05-01T00:00:00",
          "2019-06-01T00:00:00",
          "2019-07-01T00:00:00",
          "2019-08-01T00:00:00",
          "2019-09-01T00:00:00",
          "2019-10-01T00:00:00",
          "2019-11-01T00:00:00",
          "2019-12-01T00:00:00"
         ],
         "xaxis": "x",
         "y": [
          4.12023962847055,
          5.442054015636098,
          5.971476287915267,
          8.685079912935326,
          10.89211874097254,
          12.574271558872324,
          12.530123074145415,
          12.478558016369764,
          11.393217039800996,
          9.633394419033854,
          9.873655679933675,
          5.606786932274108
         ],
         "yaxis": "y"
        },
        {
         "marker": {
          "color": "#EADAA2"
         },
         "name": "Temperature [500 mb]",
         "type": "scatter",
         "x": [
          "2019-01-01T00:00:00",
          "2019-02-01T00:00:00",
          "2019-03-01T00:00:00",
          "2019-04-01T00:00:00",
          "2019-05-01T00:00:00",
          "2019-06-01T00:00:00",
          "2019-07-01T00:00:00",
          "2019-08-01T00:00:00",
          "2019-09-01T00:00:00",
          "2019-10-01T00:00:00",
          "2019-11-01T00:00:00",
          "2019-12-01T00:00:00"
         ],
         "xaxis": "x",
         "y": [
          -11.598489909324346,
          -11.702783182302763,
          -8.895383064516121,
          -8.19160427031509,
          -4.7241188212165,
          -2.0771709162520717,
          -1.5014667589471984,
          -1.516601669073984,
          -2.8371231343283587,
          -5.1591192224362095,
          -6.1709313847429526,
          -9.164454140587393
         ],
         "yaxis": "y"
        },
        {
         "marker": {
          "color": "#87CEEB"
         },
         "name": "Relative Humidity [2 m]",
         "type": "scatter",
         "x": [
          "2019-01-01T00:00:00",
          "2019-02-01T00:00:00",
          "2019-03-01T00:00:00",
          "2019-04-01T00:00:00",
          "2019-05-01T00:00:00",
          "2019-06-01T00:00:00",
          "2019-07-01T00:00:00",
          "2019-08-01T00:00:00",
          "2019-09-01T00:00:00",
          "2019-10-01T00:00:00",
          "2019-11-01T00:00:00",
          "2019-12-01T00:00:00"
         ],
         "xaxis": "x2",
         "y": [
          0.7032789889236275,
          0.6878948851713528,
          0.6743142258531936,
          0.747622452298819,
          0.7707979944324753,
          0.7999680431946525,
          0.8388980686372578,
          0.8465189129825672,
          0.8642932630755596,
          0.8447892354667199,
          0.8113870994515949,
          0.8012605542842243
         ],
         "yaxis": "y2"
        },
        {
         "marker": {
          "color": "mediumblue"
         },
         "name": "Precipitation Total",
         "type": "scatter",
         "x": [
          "2019-01-01T00:00:00",
          "2019-02-01T00:00:00",
          "2019-03-01T00:00:00",
          "2019-04-01T00:00:00",
          "2019-05-01T00:00:00",
          "2019-06-01T00:00:00",
          "2019-07-01T00:00:00",
          "2019-08-01T00:00:00",
          "2019-09-01T00:00:00",
          "2019-10-01T00:00:00",
          "2019-11-01T00:00:00",
          "2019-12-01T00:00:00"
         ],
         "xaxis": "x3",
         "y": [
          0.0020843363826031124,
          0.08164534470504614,
          0.05092380837746746,
          0.1353233830845771,
          0.2354497672925694,
          0.3561660447761191,
          0.4165673647889585,
          0.3961242176215701,
          0.3738505389718076,
          0.2125772347937726,
          0.09148528192371472,
          0.010958313272347935
         ],
         "yaxis": "y3"
        },
        {
         "marker": {
          "color": "lightblue"
         },
         "name": "Precipitation Runoff",
         "type": "scatter",
         "x": [
          "2019-01-01T00:00:00",
          "2019-02-01T00:00:00",
          "2019-03-01T00:00:00",
          "2019-04-01T00:00:00",
          "2019-05-01T00:00:00",
          "2019-06-01T00:00:00",
          "2019-07-01T00:00:00",
          "2019-08-01T00:00:00",
          "2019-09-01T00:00:00",
          "2019-10-01T00:00:00",
          "2019-11-01T00:00:00",
          "2019-12-01T00:00:00"
         ],
         "xaxis": "x3",
         "y": [
          0.0026606884930187673,
          0.0011713752665245196,
          7.504814636494943E-4,
          0.009384121061359869,
          0.030276440378751362,
          0.07859369817578775,
          0.17953819611619337,
          0.16395402022147326,
          0.16003067993366488,
          0.1351538677579843,
          0.09209950248756206,
          0.036330845771144225
         ],
         "yaxis": "y3"
        },
        {
         "marker": {
          "color": "#6D6968"
         },
         "name": "Cloud Cover Total",
         "type": "scatter",
         "x": [
          "2019-01-01T00:00:00",
          "2019-02-01T00:00:00",
          "2019-03-01T00:00:00",
          "2019-04-01T00:00:00",
          "2019-05-01T00:00:00",
          "2019-06-01T00:00:00",
          "2019-07-01T00:00:00",
          "2019-08-01T00:00:00",
          "2019-09-01T00:00:00",
          "2019-10-01T00:00:00",
          "2019-11-01T00:00:00",
          "2019-12-01T00:00:00"
         ],
         "xaxis": "x4",
         "y": [
          8.195264626306972,
          18.03678495170021,
          19.816987702525665,
          26.294736862773668,
          32.3340776793031,
          39.15831612727927,
          48.99245756409083,
          45.89200723379976,
          48.04313064027359,
          31.34579540399313,
          18.761447082536286,
          23.167727015887298
         ],
         "yaxis": "y4"
        },
        {
         "marker": {
          "color": "#D3D3D3"
         },
         "name": "Cloud Cover High [high cld lay]",
         "type": "scatter",
         "x": [
          "2019-01-01T00:00:00",
          "2019-02-01T00:00:00",
          "2019-03-01T00:00:00",
          "2019-04-01T00:00:00",
          "2019-05-01T00:00:00",
          "2019-06-01T00:00:00",
          "2019-07-01T00:00:00",
          "2019-08-01T00:00:00",
          "2019-09-01T00:00:00",
          "2019-10-01T00:00:00",
          "2019-11-01T00:00:00",
          "2019-12-01T00:00:00"
         ],
         "xaxis": "x4",
         "y": [
          4.055257984272187,
          19.729788557213947,
          9.71824346011876,
          19.57833747927032,
          19.028296019900484,
          58.22801616915426,
          80.2032679345209,
          80.51722235596215,
          80.43287728026529,
          36.43659725565723,
          18.003845356550595,
          16.075238725726205
         ],
         "yaxis": "y4"
        },
        {
         "marker": {
          "color": "#B6B6B4"
         },
         "name": "Cloud Cover Medium [mid cld lay]",
         "type": "scatter",
         "x": [
          "2019-01-01T00:00:00",
          "2019-02-01T00:00:00",
          "2019-03-01T00:00:00",
          "2019-04-01T00:00:00",
          "2019-05-01T00:00:00",
          "2019-06-01T00:00:00",
          "2019-07-01T00:00:00",
          "2019-08-01T00:00:00",
          "2019-09-01T00:00:00",
          "2019-10-01T00:00:00",
          "2019-11-01T00:00:00",
          "2019-12-01T00:00:00"
         ],
         "xaxis": "x4",
         "y": [
          6.855009228053281,
          10.19841640014215,
          12.426867677740315,
          8.614655887230521,
          12.276831567966616,
          20.81445895522388,
          36.19788155994223,
          33.88856122612737,
          36.480700663349886,
          20.90271425132403,
          6.9812189054726295,
          11.023120285668426
         ],
         "yaxis": "y4"
        },
        {
         "marker": {
          "color": "#736F6E"
         },
         "name": "Cloud Cover Low [low cld lay]",
         "type": "scatter",
         "x": [
          "2019-01-01T00:00:00",
          "2019-02-01T00:00:00",
          "2019-03-01T00:00:00",
          "2019-04-01T00:00:00",
          "2019-05-01T00:00:00",
          "2019-06-01T00:00:00",
          "2019-07-01T00:00:00",
          "2019-08-01T00:00:00",
          "2019-09-01T00:00:00",
          "2019-10-01T00:00:00",
          "2019-11-01T00:00:00",
          "2019-12-01T00:00:00"
         ],
         "xaxis": "x4",
         "y": [
          0.9733289199165447,
          7.704424307036244,
          9.115541245385968,
          19.11881218905474,
          25.574446316803105,
          24.485105721393055,
          28.42093965655593,
          24.69780131600063,
          22.81859452736315,
          15.92407920077036,
          12.313235903814261,
          13.408301235756692
         ],
         "yaxis": "y4"
        },
        {
         "marker": {
          "color": "#FFE87C"
         },
         "name": "Shortwave Radiation",
         "type": "scatter",
         "x": [
          "2019-01-01T00:00:00",
          "2019-02-01T00:00:00",
          "2019-03-01T00:00:00",
          "2019-04-01T00:00:00",
          "2019-05-01T00:00:00",
          "2019-06-01T00:00:00",
          "2019-07-01T00:00:00",
          "2019-08-01T00:00:00",
          "2019-09-01T00:00:00",
          "2019-10-01T00:00:00",
          "2019-11-01T00:00:00",
          "2019-12-01T00:00:00"
         ],
         "xaxis": "x5",
         "y": [
          189.11918231423522,
          204.60879753020612,
          239.22020943668778,
          244.58032752902173,
          243.07567003691238,
          204.6705638474295,
          177.83564034665383,
          178.49127347135288,
          156.312406716418,
          167.77366193227422,
          170.41705016583745,
          158.6858650296903
         ],
         "yaxis": "y5"
        },
        {
         "marker": {
          "color": "#B73239"
         },
         "name": "Longwave Radiation",
         "type": "scatter",
         "x": [
          "2019-01-01T00:00:00",
          "2019-02-01T00:00:00",
          "2019-03-01T00:00:00",
          "2019-04-01T00:00:00",
          "2019-05-01T00:00:00",
          "2019-06-01T00:00:00",
          "2019-07-01T00:00:00",
          "2019-08-01T00:00:00",
          "2019-09-01T00:00:00",
          "2019-10-01T00:00:00",
          "2019-11-01T00:00:00",
          "2019-12-01T00:00:00"
         ],
         "xaxis": "x5",
         "y": [
          321.7989889263362,
          348.18444607320555,
          374.9073683999361,
          414.04186359867276,
          431.1234753651097,
          444.49017412935325,
          443.21227531696354,
          441.07292168191276,
          434.9495543117744,
          412.802800513561,
          375.8633084577115,
          340.8518897448239
         ],
         "yaxis": "y5"
        },
        {
         "marker": {
          "color": "#8D38C9"
         },
         "name": "UV Radiation",
         "type": "scatter",
         "x": [
          "2019-01-01T00:00:00",
          "2019-02-01T00:00:00",
          "2019-03-01T00:00:00",
          "2019-04-01T00:00:00",
          "2019-05-01T00:00:00",
          "2019-06-01T00:00:00",
          "2019-07-01T00:00:00",
          "2019-08-01T00:00:00",
          "2019-09-01T00:00:00",
          "2019-10-01T00:00:00",
          "2019-11-01T00:00:00",
          "2019-12-01T00:00:00"
         ],
         "xaxis": "x5",
         "y": [
          20.21667770020864,
          22.46070207000711,
          27.129879032258067,
          28.615036691542294,
          28.538434139784947,
          24.584730203150915,
          21.689828378269933,
          21.75280282057456,
          19.16978876451077,
          19.247306311186005,
          18.648085406301828,
          17.1349208594126
         ],
         "yaxis": "y5"
        },
        {
         "marker": {
          "color": "#2B65EC"
         },
         "name": "Mean Sea Level Pressure [MSL]",
         "type": "scatter",
         "x": [
          "2019-01-01T00:00:00",
          "2019-02-01T00:00:00",
          "2019-03-01T00:00:00",
          "2019-04-01T00:00:00",
          "2019-05-01T00:00:00",
          "2019-06-01T00:00:00",
          "2019-07-01T00:00:00",
          "2019-08-01T00:00:00",
          "2019-09-01T00:00:00",
          "2019-10-01T00:00:00",
          "2019-11-01T00:00:00",
          "2019-12-01T00:00:00"
         ],
         "xaxis": "x6",
         "y": [
          1016.6874939817034,
          1014.6499189321257,
          1011.5184139784944,
          1008.1690961857383,
          1004.4002206708385,
          1001.3590132669998,
          1000.4412243219374,
          1000.9862251243765,
          1006.6247740464349,
          1011.1284123736165,
          1012.7545325456047,
          1016.4336803883805
         ],
         "yaxis": "y6"
        },
        {
         "marker": {
          "color": "#347C2C"
         },
         "name": "Wind Speed [10 m]",
         "type": "scatter",
         "x": [
          "2019-01-01T00:00:00",
          "2019-02-01T00:00:00",
          "2019-03-01T00:00:00",
          "2019-04-01T00:00:00",
          "2019-05-01T00:00:00",
          "2019-06-01T00:00:00",
          "2019-07-01T00:00:00",
          "2019-08-01T00:00:00",
          "2019-09-01T00:00:00",
          "2019-10-01T00:00:00",
          "2019-11-01T00:00:00",
          "2019-12-01T00:00:00"
         ],
         "xaxis": "x7",
         "y": [
          7.407633364933087,
          7.361309051382374,
          7.449527182283949,
          8.705573128886085,
          11.822577836577485,
          9.732938074436143,
          11.099807981661854,
          9.14753700321898,
          8.536260380670925,
          5.51620947273983,
          6.538282363098151,
          6.711016018396233
         ],
         "yaxis": "y7"
        },
        {
         "marker": {
          "color": "#254117"
         },
         "name": "Wind Speed [100 m]",
         "type": "scatter",
         "x": [
          "2019-01-01T00:00:00",
          "2019-02-01T00:00:00",
          "2019-03-01T00:00:00",
          "2019-04-01T00:00:00",
          "2019-05-01T00:00:00",
          "2019-06-01T00:00:00",
          "2019-07-01T00:00:00",
          "2019-08-01T00:00:00",
          "2019-09-01T00:00:00",
          "2019-10-01T00:00:00",
          "2019-11-01T00:00:00",
          "2019-12-01T00:00:00"
         ],
         "xaxis": "x7",
         "y": [
          12.615312447062077,
          12.497333782289445,
          12.63363254516321,
          14.165238976160024,
          18.949275349964093,
          15.855840193640653,
          18.23777838591449,
          15.258429200434835,
          14.509186278345664,
          9.241971283912008,
          10.553936665489523,
          11.6864915138515
         ],
         "yaxis": "y7"
        },
        {
         "marker": {
          "color": "#ffd500"
         },
         "name": "Wind Speed [250 mb]",
         "type": "scatter",
         "x": [
          "2019-01-01T00:00:00",
          "2019-02-01T00:00:00",
          "2019-03-01T00:00:00",
          "2019-04-01T00:00:00",
          "2019-05-01T00:00:00",
          "2019-06-01T00:00:00",
          "2019-07-01T00:00:00",
          "2019-08-01T00:00:00",
          "2019-09-01T00:00:00",
          "2019-10-01T00:00:00",
          "2019-11-01T00:00:00",
          "2019-12-01T00:00:00"
         ],
         "xaxis": "x7",
         "y": [
          170.86855072813358,
          177.11668788085248,
          151.35861663712694,
          93.23707558000375,
          67.22109126295544,
          31.538507582843078,
          33.97123231496383,
          36.38931263085681,
          34.94338306028654,
          52.95972162280242,
          92.94469948521456,
          155.62361164548219
         ],
         "yaxis": "y7"
        },
        {
         "marker": {
          "color": "#ffb113"
         },
         "name": "Wind Speed [500 mb]",
         "type": "scatter",
         "x": [
          "2019-01-01T00:00:00",
          "2019-02-01T00:00:00",
          "2019-03-01T00:00:00",
          "2019-04-01T00:00:00",
          "2019-05-01T00:00:00",
          "2019-06-01T00:00:00",
          "2019-07-01T00:00:00",
          "2019-08-01T00:00:00",
          "2019-09-01T00:00:00",
          "2019-10-01T00:00:00",
          "2019-11-01T00:00:00",
          "2019-12-01T00:00:00"
         ],
         "xaxis": "x7",
         "y": [
          84.66020977376232,
          82.72120047068445,
          79.52189579867799,
          45.14692598143696,
          44.19789271006861,
          25.308846102860663,
          23.92342726279426,
          25.606954366914994,
          18.785388382618454,
          30.3133883750026,
          45.29887492726767,
          78.47885165644558
         ],
         "yaxis": "y7"
        },
        {
         "marker": {
          "color": "#ADD8E6"
         },
         "name": "Wind Speed [700 mb]",
         "type": "scatter",
         "x": [
          "2019-01-01T00:00:00",
          "2019-02-01T00:00:00",
          "2019-03-01T00:00:00",
          "2019-04-01T00:00:00",
          "2019-05-01T00:00:00",
          "2019-06-01T00:00:00",
          "2019-07-01T00:00:00",
          "2019-08-01T00:00:00",
          "2019-09-01T00:00:00",
          "2019-10-01T00:00:00",
          "2019-11-01T00:00:00",
          "2019-12-01T00:00:00"
         ],
         "xaxis": "x7",
         "y": [
          33.63342029131385,
          48.830655881144494,
          48.77776671102089,
          38.66302876992209,
          40.886418514664555,
          24.298208615981135,
          25.281399607592693,
          24.495466478193087,
          21.057878655113807,
          19.497829915464195,
          24.353184766186143,
          33.751509916528676
         ],
         "yaxis": "y7"
        },
        {
         "marker": {
          "color": "#87CEEB"
         },
         "name": "Wind Speed [850 mb]",
         "type": "scatter",
         "x": [
          "2019-01-01T00:00:00",
          "2019-02-01T00:00:00",
          "2019-03-01T00:00:00",
          "2019-04-01T00:00:00",
          "2019-05-01T00:00:00",
          "2019-06-01T00:00:00",
          "2019-07-01T00:00:00",
          "2019-08-01T00:00:00",
          "2019-09-01T00:00:00",
          "2019-10-01T00:00:00",
          "2019-11-01T00:00:00",
          "2019-12-01T00:00:00"
         ],
         "xaxis": "x7",
         "y": [
          15.693693101218,
          23.702947740255315,
          22.17782121517564,
          19.51977465475936,
          24.468368603531744,
          18.485850265555552,
          25.817321832549275,
          22.375162720589184,
          21.73477154387645,
          13.043462592810545,
          16.309092321635053,
          17.58308890143856
         ],
         "yaxis": "y7"
        },
        {
         "marker": {
          "color": "#1E90FF"
         },
         "name": "Wind Speed [900 mb]",
         "type": "scatter",
         "x": [
          "2019-01-01T00:00:00",
          "2019-02-01T00:00:00",
          "2019-03-01T00:00:00",
          "2019-04-01T00:00:00",
          "2019-05-01T00:00:00",
          "2019-06-01T00:00:00",
          "2019-07-01T00:00:00",
          "2019-08-01T00:00:00",
          "2019-09-01T00:00:00",
          "2019-10-01T00:00:00",
          "2019-11-01T00:00:00",
          "2019-12-01T00:00:00"
         ],
         "xaxis": "x7",
         "y": [
          13.013416524076286,
          17.697791795049852,
          17.135013376059145,
          17.0505748027728,
          23.954685255523,
          20.375747564697647,
          27.091112053769443,
          21.536167602748037,
          21.175579708727614,
          11.56612863531436,
          15.023187427903101,
          14.108306796679509
         ],
         "yaxis": "y7"
        }
       ],
       "layout": {
        "font": {
         "size": 15
        },
        "height": 1800,
        "legend": {
         "orientation": "h"
        },
        "template": {
         "data": {
          "bar": [
           {
            "error_x": {
             "color": "#2a3f5f"
            },
            "error_y": {
             "color": "#2a3f5f"
            },
            "marker": {
             "line": {
              "color": "#E5ECF6",
              "width": 0.5
             }
            },
            "type": "bar"
           }
          ],
          "barpolar": [
           {
            "marker": {
             "line": {
              "color": "#E5ECF6",
              "width": 0.5
             }
            },
            "type": "barpolar"
           }
          ],
          "carpet": [
           {
            "aaxis": {
             "endlinecolor": "#2a3f5f",
             "gridcolor": "white",
             "linecolor": "white",
             "minorgridcolor": "white",
             "startlinecolor": "#2a3f5f"
            },
            "baxis": {
             "endlinecolor": "#2a3f5f",
             "gridcolor": "white",
             "linecolor": "white",
             "minorgridcolor": "white",
             "startlinecolor": "#2a3f5f"
            },
            "type": "carpet"
           }
          ],
          "choropleth": [
           {
            "colorbar": {
             "outlinewidth": 0,
             "ticks": ""
            },
            "type": "choropleth"
           }
          ],
          "contour": [
           {
            "colorbar": {
             "outlinewidth": 0,
             "ticks": ""
            },
            "colorscale": [
             [
              0.0,
              "#0d0887"
             ],
             [
              0.1111111111111111,
              "#46039f"
             ],
             [
              0.2222222222222222,
              "#7201a8"
             ],
             [
              0.3333333333333333,
              "#9c179e"
             ],
             [
              0.4444444444444444,
              "#bd3786"
             ],
             [
              0.5555555555555556,
              "#d8576b"
             ],
             [
              0.6666666666666666,
              "#ed7953"
             ],
             [
              0.7777777777777778,
              "#fb9f3a"
             ],
             [
              0.8888888888888888,
              "#fdca26"
             ],
             [
              1.0,
              "#f0f921"
             ]
            ],
            "type": "contour"
           }
          ],
          "contourcarpet": [
           {
            "colorbar": {
             "outlinewidth": 0,
             "ticks": ""
            },
            "type": "contourcarpet"
           }
          ],
          "heatmap": [
           {
            "colorbar": {
             "outlinewidth": 0,
             "ticks": ""
            },
            "colorscale": [
             [
              0.0,
              "#0d0887"
             ],
             [
              0.1111111111111111,
              "#46039f"
             ],
             [
              0.2222222222222222,
              "#7201a8"
             ],
             [
              0.3333333333333333,
              "#9c179e"
             ],
             [
              0.4444444444444444,
              "#bd3786"
             ],
             [
              0.5555555555555556,
              "#d8576b"
             ],
             [
              0.6666666666666666,
              "#ed7953"
             ],
             [
              0.7777777777777778,
              "#fb9f3a"
             ],
             [
              0.8888888888888888,
              "#fdca26"
             ],
             [
              1.0,
              "#f0f921"
             ]
            ],
            "type": "heatmap"
           }
          ],
          "heatmapgl": [
           {
            "colorbar": {
             "outlinewidth": 0,
             "ticks": ""
            },
            "colorscale": [
             [
              0.0,
              "#0d0887"
             ],
             [
              0.1111111111111111,
              "#46039f"
             ],
             [
              0.2222222222222222,
              "#7201a8"
             ],
             [
              0.3333333333333333,
              "#9c179e"
             ],
             [
              0.4444444444444444,
              "#bd3786"
             ],
             [
              0.5555555555555556,
              "#d8576b"
             ],
             [
              0.6666666666666666,
              "#ed7953"
             ],
             [
              0.7777777777777778,
              "#fb9f3a"
             ],
             [
              0.8888888888888888,
              "#fdca26"
             ],
             [
              1.0,
              "#f0f921"
             ]
            ],
            "type": "heatmapgl"
           }
          ],
          "histogram": [
           {
            "marker": {
             "colorbar": {
              "outlinewidth": 0,
              "ticks": ""
             }
            },
            "type": "histogram"
           }
          ],
          "histogram2d": [
           {
            "colorbar": {
             "outlinewidth": 0,
             "ticks": ""
            },
            "colorscale": [
             [
              0.0,
              "#0d0887"
             ],
             [
              0.1111111111111111,
              "#46039f"
             ],
             [
              0.2222222222222222,
              "#7201a8"
             ],
             [
              0.3333333333333333,
              "#9c179e"
             ],
             [
              0.4444444444444444,
              "#bd3786"
             ],
             [
              0.5555555555555556,
              "#d8576b"
             ],
             [
              0.6666666666666666,
              "#ed7953"
             ],
             [
              0.7777777777777778,
              "#fb9f3a"
             ],
             [
              0.8888888888888888,
              "#fdca26"
             ],
             [
              1.0,
              "#f0f921"
             ]
            ],
            "type": "histogram2d"
           }
          ],
          "histogram2dcontour": [
           {
            "colorbar": {
             "outlinewidth": 0,
             "ticks": ""
            },
            "colorscale": [
             [
              0.0,
              "#0d0887"
             ],
             [
              0.1111111111111111,
              "#46039f"
             ],
             [
              0.2222222222222222,
              "#7201a8"
             ],
             [
              0.3333333333333333,
              "#9c179e"
             ],
             [
              0.4444444444444444,
              "#bd3786"
             ],
             [
              0.5555555555555556,
              "#d8576b"
             ],
             [
              0.6666666666666666,
              "#ed7953"
             ],
             [
              0.7777777777777778,
              "#fb9f3a"
             ],
             [
              0.8888888888888888,
              "#fdca26"
             ],
             [
              1.0,
              "#f0f921"
             ]
            ],
            "type": "histogram2dcontour"
           }
          ],
          "mesh3d": [
           {
            "colorbar": {
             "outlinewidth": 0,
             "ticks": ""
            },
            "type": "mesh3d"
           }
          ],
          "parcoords": [
           {
            "line": {
             "colorbar": {
              "outlinewidth": 0,
              "ticks": ""
             }
            },
            "type": "parcoords"
           }
          ],
          "pie": [
           {
            "automargin": true,
            "type": "pie"
           }
          ],
          "scatter": [
           {
            "marker": {
             "colorbar": {
              "outlinewidth": 0,
              "ticks": ""
             }
            },
            "type": "scatter"
           }
          ],
          "scatter3d": [
           {
            "line": {
             "colorbar": {
              "outlinewidth": 0,
              "ticks": ""
             }
            },
            "marker": {
             "colorbar": {
              "outlinewidth": 0,
              "ticks": ""
             }
            },
            "type": "scatter3d"
           }
          ],
          "scattercarpet": [
           {
            "marker": {
             "colorbar": {
              "outlinewidth": 0,
              "ticks": ""
             }
            },
            "type": "scattercarpet"
           }
          ],
          "scattergeo": [
           {
            "marker": {
             "colorbar": {
              "outlinewidth": 0,
              "ticks": ""
             }
            },
            "type": "scattergeo"
           }
          ],
          "scattergl": [
           {
            "marker": {
             "colorbar": {
              "outlinewidth": 0,
              "ticks": ""
             }
            },
            "type": "scattergl"
           }
          ],
          "scattermapbox": [
           {
            "marker": {
             "colorbar": {
              "outlinewidth": 0,
              "ticks": ""
             }
            },
            "type": "scattermapbox"
           }
          ],
          "scatterpolar": [
           {
            "marker": {
             "colorbar": {
              "outlinewidth": 0,
              "ticks": ""
             }
            },
            "type": "scatterpolar"
           }
          ],
          "scatterpolargl": [
           {
            "marker": {
             "colorbar": {
              "outlinewidth": 0,
              "ticks": ""
             }
            },
            "type": "scatterpolargl"
           }
          ],
          "scatterternary": [
           {
            "marker": {
             "colorbar": {
              "outlinewidth": 0,
              "ticks": ""
             }
            },
            "type": "scatterternary"
           }
          ],
          "surface": [
           {
            "colorbar": {
             "outlinewidth": 0,
             "ticks": ""
            },
            "colorscale": [
             [
              0.0,
              "#0d0887"
             ],
             [
              0.1111111111111111,
              "#46039f"
             ],
             [
              0.2222222222222222,
              "#7201a8"
             ],
             [
              0.3333333333333333,
              "#9c179e"
             ],
             [
              0.4444444444444444,
              "#bd3786"
             ],
             [
              0.5555555555555556,
              "#d8576b"
             ],
             [
              0.6666666666666666,
              "#ed7953"
             ],
             [
              0.7777777777777778,
              "#fb9f3a"
             ],
             [
              0.8888888888888888,
              "#fdca26"
             ],
             [
              1.0,
              "#f0f921"
             ]
            ],
            "type": "surface"
           }
          ],
          "table": [
           {
            "cells": {
             "fill": {
              "color": "#EBF0F8"
             },
             "line": {
              "color": "white"
             }
            },
            "header": {
             "fill": {
              "color": "#C8D4E3"
             },
             "line": {
              "color": "white"
             }
            },
            "type": "table"
           }
          ]
         },
         "layout": {
          "annotationdefaults": {
           "arrowcolor": "#2a3f5f",
           "arrowhead": 0,
           "arrowwidth": 1
          },
          "coloraxis": {
           "colorbar": {
            "outlinewidth": 0,
            "ticks": ""
           }
          },
          "colorscale": {
           "diverging": [
            [
             0,
             "#8e0152"
            ],
            [
             0.1,
             "#c51b7d"
            ],
            [
             0.2,
             "#de77ae"
            ],
            [
             0.3,
             "#f1b6da"
            ],
            [
             0.4,
             "#fde0ef"
            ],
            [
             0.5,
             "#f7f7f7"
            ],
            [
             0.6,
             "#e6f5d0"
            ],
            [
             0.7,
             "#b8e186"
            ],
            [
             0.8,
             "#7fbc41"
            ],
            [
             0.9,
             "#4d9221"
            ],
            [
             1,
             "#276419"
            ]
           ],
           "sequential": [
            [
             0.0,
             "#0d0887"
            ],
            [
             0.1111111111111111,
             "#46039f"
            ],
            [
             0.2222222222222222,
             "#7201a8"
            ],
            [
             0.3333333333333333,
             "#9c179e"
            ],
            [
             0.4444444444444444,
             "#bd3786"
            ],
            [
             0.5555555555555556,
             "#d8576b"
            ],
            [
             0.6666666666666666,
             "#ed7953"
            ],
            [
             0.7777777777777778,
             "#fb9f3a"
            ],
            [
             0.8888888888888888,
             "#fdca26"
            ],
            [
             1.0,
             "#f0f921"
            ]
           ],
           "sequentialminus": [
            [
             0.0,
             "#0d0887"
            ],
            [
             0.1111111111111111,
             "#46039f"
            ],
            [
             0.2222222222222222,
             "#7201a8"
            ],
            [
             0.3333333333333333,
             "#9c179e"
            ],
            [
             0.4444444444444444,
             "#bd3786"
            ],
            [
             0.5555555555555556,
             "#d8576b"
            ],
            [
             0.6666666666666666,
             "#ed7953"
            ],
            [
             0.7777777777777778,
             "#fb9f3a"
            ],
            [
             0.8888888888888888,
             "#fdca26"
            ],
            [
             1.0,
             "#f0f921"
            ]
           ]
          },
          "colorway": [
           "#636efa",
           "#EF553B",
           "#00cc96",
           "#ab63fa",
           "#FFA15A",
           "#19d3f3",
           "#FF6692",
           "#B6E880",
           "#FF97FF",
           "#FECB52"
          ],
          "font": {
           "color": "#2a3f5f"
          },
          "geo": {
           "bgcolor": "white",
           "lakecolor": "white",
           "landcolor": "#E5ECF6",
           "showlakes": true,
           "showland": true,
           "subunitcolor": "white"
          },
          "hoverlabel": {
           "align": "left"
          },
          "hovermode": "closest",
          "mapbox": {
           "style": "light"
          },
          "paper_bgcolor": "white",
          "plot_bgcolor": "#E5ECF6",
          "polar": {
           "angularaxis": {
            "gridcolor": "white",
            "linecolor": "white",
            "ticks": ""
           },
           "bgcolor": "#E5ECF6",
           "radialaxis": {
            "gridcolor": "white",
            "linecolor": "white",
            "ticks": ""
           }
          },
          "scene": {
           "xaxis": {
            "backgroundcolor": "#E5ECF6",
            "gridcolor": "white",
            "gridwidth": 2,
            "linecolor": "white",
            "showbackground": true,
            "ticks": "",
            "zerolinecolor": "white"
           },
           "yaxis": {
            "backgroundcolor": "#E5ECF6",
            "gridcolor": "white",
            "gridwidth": 2,
            "linecolor": "white",
            "showbackground": true,
            "ticks": "",
            "zerolinecolor": "white"
           },
           "zaxis": {
            "backgroundcolor": "#E5ECF6",
            "gridcolor": "white",
            "gridwidth": 2,
            "linecolor": "white",
            "showbackground": true,
            "ticks": "",
            "zerolinecolor": "white"
           }
          },
          "shapedefaults": {
           "line": {
            "color": "#2a3f5f"
           }
          },
          "ternary": {
           "aaxis": {
            "gridcolor": "white",
            "linecolor": "white",
            "ticks": ""
           },
           "baxis": {
            "gridcolor": "white",
            "linecolor": "white",
            "ticks": ""
           },
           "bgcolor": "#E5ECF6",
           "caxis": {
            "gridcolor": "white",
            "linecolor": "white",
            "ticks": ""
           }
          },
          "title": {
           "x": 0.05
          },
          "xaxis": {
           "automargin": true,
           "gridcolor": "white",
           "linecolor": "white",
           "ticks": "",
           "title": {
            "standoff": 15
           },
           "zerolinecolor": "white",
           "zerolinewidth": 2
          },
          "yaxis": {
           "automargin": true,
           "gridcolor": "white",
           "linecolor": "white",
           "ticks": "",
           "title": {
            "standoff": 15
           },
           "zerolinecolor": "white",
           "zerolinewidth": 2
          }
         }
        },
        "title": {
         "text": "Stacked Subplots with Shared X-Axes"
        },
        "width": 1600,
        "xaxis": {
         "anchor": "y",
         "domain": [
          0.0,
          1.0
         ],
         "matches": "x7",
         "showticklabels": false
        },
        "xaxis2": {
         "anchor": "y2",
         "domain": [
          0.0,
          1.0
         ],
         "matches": "x7",
         "showticklabels": false
        },
        "xaxis3": {
         "anchor": "y3",
         "domain": [
          0.0,
          1.0
         ],
         "matches": "x7",
         "showticklabels": false
        },
        "xaxis4": {
         "anchor": "y4",
         "domain": [
          0.0,
          1.0
         ],
         "matches": "x7",
         "showticklabels": false
        },
        "xaxis5": {
         "anchor": "y5",
         "domain": [
          0.0,
          1.0
         ],
         "matches": "x7",
         "showticklabels": false
        },
        "xaxis6": {
         "anchor": "y6",
         "domain": [
          0.0,
          1.0
         ],
         "matches": "x7",
         "showticklabels": false
        },
        "xaxis7": {
         "anchor": "y7",
         "domain": [
          0.0,
          1.0
         ]
        },
        "yaxis": {
         "anchor": "x",
         "domain": [
          0.8742857142857142,
          1.0
         ],
         "title": {
          "text": "Temperature (Celsius)"
         }
        },
        "yaxis2": {
         "anchor": "x2",
         "domain": [
          0.7285714285714285,
          0.8542857142857143
         ],
         "title": {
          "text": "Humidity (Fraction)"
         }
        },
        "yaxis3": {
         "anchor": "x3",
         "domain": [
          0.5828571428571429,
          0.7085714285714286
         ],
         "title": {
          "text": "Precipitation (mm)"
         }
        },
        "yaxis4": {
         "anchor": "x4",
         "domain": [
          0.43714285714285717,
          0.562857142857143
         ],
         "title": {
          "text": "Cloud Cover (Percentage)"
         }
        },
        "yaxis5": {
         "anchor": "x5",
         "domain": [
          0.2914285714285714,
          0.41714285714285715
         ],
         "title": {
          "text": "Radiation (Flux)"
         }
        },
        "yaxis6": {
         "anchor": "x6",
         "domain": [
          0.1457142857142857,
          0.27142857142857146
         ],
         "title": {
          "text": "MSL Pressure (hPa)"
         }
        },
        "yaxis7": {
         "anchor": "x7",
         "domain": [
          0.0,
          0.12571428571428572
         ],
         "title": {
          "text": "Wind Speed (KM/H)"
         }
        }
       }
      },
      "text/html": "<div>\n        \n        \n            <div id=\"ba9339cc-d956-4ad5-bf11-1693e08d7502\" class=\"plotly-graph-div\" style=\"height:1800px; width:1600px;\"></div>\n            <script type=\"text/javascript\">\n                require([\"plotly\"], function(Plotly) {\n                    window.PLOTLYENV=window.PLOTLYENV || {};\n                    \n                if (document.getElementById(\"ba9339cc-d956-4ad5-bf11-1693e08d7502\")) {\n                    Plotly.newPlot(\n                        'ba9339cc-d956-4ad5-bf11-1693e08d7502',\n                        [{\"marker\": {\"color\": \"#260637\"}, \"name\": \"Temperature [2 m elevation corrected]\", \"type\": \"scatter\", \"x\": [\"2019-01-01T00:00:00\", \"2019-02-01T00:00:00\", \"2019-03-01T00:00:00\", \"2019-04-01T00:00:00\", \"2019-05-01T00:00:00\", \"2019-06-01T00:00:00\", \"2019-07-01T00:00:00\", \"2019-08-01T00:00:00\", \"2019-09-01T00:00:00\", \"2019-10-01T00:00:00\", \"2019-11-01T00:00:00\", \"2019-12-01T00:00:00\"], \"xaxis\": \"x\", \"y\": [18.36111665716778, 21.525467809346146, 25.50804090217761, 28.544938971517396, 30.36101799972919, 30.386601797522797, 29.4828607461884, 29.517105642332695, 28.600532000715187, 26.955969901299937, 23.78192245163767, 18.353172098565626], \"yaxis\": \"y\"}, {\"marker\": {\"color\": \"#843B58\"}, \"name\": \"Temperature [900 mb]\", \"type\": \"scatter\", \"x\": [\"2019-01-01T00:00:00\", \"2019-02-01T00:00:00\", \"2019-03-01T00:00:00\", \"2019-04-01T00:00:00\", \"2019-05-01T00:00:00\", \"2019-06-01T00:00:00\", \"2019-07-01T00:00:00\", \"2019-08-01T00:00:00\", \"2019-09-01T00:00:00\", \"2019-10-01T00:00:00\", \"2019-11-01T00:00:00\", \"2019-12-01T00:00:00\"], \"xaxis\": \"x\", \"y\": [14.488564134970296, 16.701928082800286, 19.825119162253248, 22.98457099917081, 25.082662493981687, 24.20713961442785, 23.199759468785075, 23.011206066441993, 22.167670398009935, 20.554756058417592, 18.57942703150912, 14.659962285347468], \"yaxis\": \"y\"}, {\"marker\": {\"color\": \"#B73239\"}, \"name\": \"Temperature [850 mb]\", \"type\": \"scatter\", \"x\": [\"2019-01-01T00:00:00\", \"2019-02-01T00:00:00\", \"2019-03-01T00:00:00\", \"2019-04-01T00:00:00\", \"2019-05-01T00:00:00\", \"2019-06-01T00:00:00\", \"2019-07-01T00:00:00\", \"2019-08-01T00:00:00\", \"2019-09-01T00:00:00\", \"2019-10-01T00:00:00\", \"2019-11-01T00:00:00\", \"2019-12-01T00:00:00\"], \"xaxis\": \"x\", \"y\": [12.362606624137381, 14.26977278784651, 16.41417248435245, 20.391607068822548, 22.76236839993582, 21.704425684079617, 20.58449356042368, 20.412617055849786, 19.587820999170823, 18.0188820012839, 16.662722325870632, 12.518533642272521], \"yaxis\": \"y\"}, {\"marker\": {\"color\": \"#FFA500\"}, \"name\": \"Temperature [800 mb]\", \"type\": \"scatter\", \"x\": [\"2019-01-01T00:00:00\", \"2019-02-01T00:00:00\", \"2019-03-01T00:00:00\", \"2019-04-01T00:00:00\", \"2019-05-01T00:00:00\", \"2019-06-01T00:00:00\", \"2019-07-01T00:00:00\", \"2019-08-01T00:00:00\", \"2019-09-01T00:00:00\", \"2019-10-01T00:00:00\", \"2019-11-01T00:00:00\", \"2019-12-01T00:00:00\"], \"xaxis\": \"x\", \"y\": [9.929547725084253, 11.571297530206115, 12.86395191381799, 16.96419734660035, 19.448076653025183, 18.911345667495855, 17.91736438773872, 17.81333363424811, 16.91732628524046, 15.496838990531218, 14.851902155887242, 10.15909183919114], \"yaxis\": \"y\"}, {\"marker\": {\"color\": \"#F9C53D\"}, \"name\": \"Temperature [700 mb]\", \"type\": \"scatter\", \"x\": [\"2019-01-01T00:00:00\", \"2019-02-01T00:00:00\", \"2019-03-01T00:00:00\", \"2019-04-01T00:00:00\", \"2019-05-01T00:00:00\", \"2019-06-01T00:00:00\", \"2019-07-01T00:00:00\", \"2019-08-01T00:00:00\", \"2019-09-01T00:00:00\", \"2019-10-01T00:00:00\", \"2019-11-01T00:00:00\", \"2019-12-01T00:00:00\"], \"xaxis\": \"x\", \"y\": [4.12023962847055, 5.442054015636098, 5.971476287915267, 8.685079912935326, 10.89211874097254, 12.574271558872324, 12.530123074145415, 12.478558016369764, 11.393217039800996, 9.633394419033854, 9.873655679933675, 5.606786932274108], \"yaxis\": \"y\"}, {\"marker\": {\"color\": \"#EADAA2\"}, \"name\": \"Temperature [500 mb]\", \"type\": \"scatter\", \"x\": [\"2019-01-01T00:00:00\", \"2019-02-01T00:00:00\", \"2019-03-01T00:00:00\", \"2019-04-01T00:00:00\", \"2019-05-01T00:00:00\", \"2019-06-01T00:00:00\", \"2019-07-01T00:00:00\", \"2019-08-01T00:00:00\", \"2019-09-01T00:00:00\", \"2019-10-01T00:00:00\", \"2019-11-01T00:00:00\", \"2019-12-01T00:00:00\"], \"xaxis\": \"x\", \"y\": [-11.598489909324346, -11.702783182302763, -8.895383064516121, -8.19160427031509, -4.7241188212165, -2.0771709162520717, -1.5014667589471984, -1.516601669073984, -2.8371231343283587, -5.1591192224362095, -6.1709313847429526, -9.164454140587393], \"yaxis\": \"y\"}, {\"marker\": {\"color\": \"#87CEEB\"}, \"name\": \"Relative Humidity [2 m]\", \"type\": \"scatter\", \"x\": [\"2019-01-01T00:00:00\", \"2019-02-01T00:00:00\", \"2019-03-01T00:00:00\", \"2019-04-01T00:00:00\", \"2019-05-01T00:00:00\", \"2019-06-01T00:00:00\", \"2019-07-01T00:00:00\", \"2019-08-01T00:00:00\", \"2019-09-01T00:00:00\", \"2019-10-01T00:00:00\", \"2019-11-01T00:00:00\", \"2019-12-01T00:00:00\"], \"xaxis\": \"x2\", \"y\": [0.7032789889236275, 0.6878948851713528, 0.6743142258531936, 0.747622452298819, 0.7707979944324753, 0.7999680431946525, 0.8388980686372578, 0.8465189129825672, 0.8642932630755596, 0.8447892354667199, 0.8113870994515949, 0.8012605542842243], \"yaxis\": \"y2\"}, {\"marker\": {\"color\": \"mediumblue\"}, \"name\": \"Precipitation Total\", \"type\": \"scatter\", \"x\": [\"2019-01-01T00:00:00\", \"2019-02-01T00:00:00\", \"2019-03-01T00:00:00\", \"2019-04-01T00:00:00\", \"2019-05-01T00:00:00\", \"2019-06-01T00:00:00\", \"2019-07-01T00:00:00\", \"2019-08-01T00:00:00\", \"2019-09-01T00:00:00\", \"2019-10-01T00:00:00\", \"2019-11-01T00:00:00\", \"2019-12-01T00:00:00\"], \"xaxis\": \"x3\", \"y\": [0.0020843363826031124, 0.08164534470504614, 0.05092380837746746, 0.1353233830845771, 0.2354497672925694, 0.3561660447761191, 0.4165673647889585, 0.3961242176215701, 0.3738505389718076, 0.2125772347937726, 0.09148528192371472, 0.010958313272347935], \"yaxis\": \"y3\"}, {\"marker\": {\"color\": \"lightblue\"}, \"name\": \"Precipitation Runoff\", \"type\": \"scatter\", \"x\": [\"2019-01-01T00:00:00\", \"2019-02-01T00:00:00\", \"2019-03-01T00:00:00\", \"2019-04-01T00:00:00\", \"2019-05-01T00:00:00\", \"2019-06-01T00:00:00\", \"2019-07-01T00:00:00\", \"2019-08-01T00:00:00\", \"2019-09-01T00:00:00\", \"2019-10-01T00:00:00\", \"2019-11-01T00:00:00\", \"2019-12-01T00:00:00\"], \"xaxis\": \"x3\", \"y\": [0.0026606884930187673, 0.0011713752665245196, 0.0007504814636494943, 0.009384121061359869, 0.030276440378751362, 0.07859369817578775, 0.17953819611619337, 0.16395402022147326, 0.16003067993366488, 0.1351538677579843, 0.09209950248756206, 0.036330845771144225], \"yaxis\": \"y3\"}, {\"marker\": {\"color\": \"#6D6968\"}, \"name\": \"Cloud Cover Total\", \"type\": \"scatter\", \"x\": [\"2019-01-01T00:00:00\", \"2019-02-01T00:00:00\", \"2019-03-01T00:00:00\", \"2019-04-01T00:00:00\", \"2019-05-01T00:00:00\", \"2019-06-01T00:00:00\", \"2019-07-01T00:00:00\", \"2019-08-01T00:00:00\", \"2019-09-01T00:00:00\", \"2019-10-01T00:00:00\", \"2019-11-01T00:00:00\", \"2019-12-01T00:00:00\"], \"xaxis\": \"x4\", \"y\": [8.195264626306972, 18.03678495170021, 19.816987702525665, 26.294736862773668, 32.3340776793031, 39.15831612727927, 48.99245756409083, 45.89200723379976, 48.04313064027359, 31.34579540399313, 18.761447082536286, 23.167727015887298], \"yaxis\": \"y4\"}, {\"marker\": {\"color\": \"#D3D3D3\"}, \"name\": \"Cloud Cover High [high cld lay]\", \"type\": \"scatter\", \"x\": [\"2019-01-01T00:00:00\", \"2019-02-01T00:00:00\", \"2019-03-01T00:00:00\", \"2019-04-01T00:00:00\", \"2019-05-01T00:00:00\", \"2019-06-01T00:00:00\", \"2019-07-01T00:00:00\", \"2019-08-01T00:00:00\", \"2019-09-01T00:00:00\", \"2019-10-01T00:00:00\", \"2019-11-01T00:00:00\", \"2019-12-01T00:00:00\"], \"xaxis\": \"x4\", \"y\": [4.055257984272187, 19.729788557213947, 9.71824346011876, 19.57833747927032, 19.028296019900484, 58.22801616915426, 80.2032679345209, 80.51722235596215, 80.43287728026529, 36.43659725565723, 18.003845356550595, 16.075238725726205], \"yaxis\": \"y4\"}, {\"marker\": {\"color\": \"#B6B6B4\"}, \"name\": \"Cloud Cover Medium [mid cld lay]\", \"type\": \"scatter\", \"x\": [\"2019-01-01T00:00:00\", \"2019-02-01T00:00:00\", \"2019-03-01T00:00:00\", \"2019-04-01T00:00:00\", \"2019-05-01T00:00:00\", \"2019-06-01T00:00:00\", \"2019-07-01T00:00:00\", \"2019-08-01T00:00:00\", \"2019-09-01T00:00:00\", \"2019-10-01T00:00:00\", \"2019-11-01T00:00:00\", \"2019-12-01T00:00:00\"], \"xaxis\": \"x4\", \"y\": [6.855009228053281, 10.19841640014215, 12.426867677740315, 8.614655887230521, 12.276831567966616, 20.81445895522388, 36.19788155994223, 33.88856122612737, 36.480700663349886, 20.90271425132403, 6.9812189054726295, 11.023120285668426], \"yaxis\": \"y4\"}, {\"marker\": {\"color\": \"#736F6E\"}, \"name\": \"Cloud Cover Low [low cld lay]\", \"type\": \"scatter\", \"x\": [\"2019-01-01T00:00:00\", \"2019-02-01T00:00:00\", \"2019-03-01T00:00:00\", \"2019-04-01T00:00:00\", \"2019-05-01T00:00:00\", \"2019-06-01T00:00:00\", \"2019-07-01T00:00:00\", \"2019-08-01T00:00:00\", \"2019-09-01T00:00:00\", \"2019-10-01T00:00:00\", \"2019-11-01T00:00:00\", \"2019-12-01T00:00:00\"], \"xaxis\": \"x4\", \"y\": [0.9733289199165447, 7.704424307036244, 9.115541245385968, 19.11881218905474, 25.574446316803105, 24.485105721393055, 28.42093965655593, 24.69780131600063, 22.81859452736315, 15.92407920077036, 12.313235903814261, 13.408301235756692], \"yaxis\": \"y4\"}, {\"marker\": {\"color\": \"#FFE87C\"}, \"name\": \"Shortwave Radiation\", \"type\": \"scatter\", \"x\": [\"2019-01-01T00:00:00\", \"2019-02-01T00:00:00\", \"2019-03-01T00:00:00\", \"2019-04-01T00:00:00\", \"2019-05-01T00:00:00\", \"2019-06-01T00:00:00\", \"2019-07-01T00:00:00\", \"2019-08-01T00:00:00\", \"2019-09-01T00:00:00\", \"2019-10-01T00:00:00\", \"2019-11-01T00:00:00\", \"2019-12-01T00:00:00\"], \"xaxis\": \"x5\", \"y\": [189.11918231423522, 204.60879753020612, 239.22020943668778, 244.58032752902173, 243.07567003691238, 204.6705638474295, 177.83564034665383, 178.49127347135288, 156.312406716418, 167.77366193227422, 170.41705016583745, 158.6858650296903], \"yaxis\": \"y5\"}, {\"marker\": {\"color\": \"#B73239\"}, \"name\": \"Longwave Radiation\", \"type\": \"scatter\", \"x\": [\"2019-01-01T00:00:00\", \"2019-02-01T00:00:00\", \"2019-03-01T00:00:00\", \"2019-04-01T00:00:00\", \"2019-05-01T00:00:00\", \"2019-06-01T00:00:00\", \"2019-07-01T00:00:00\", \"2019-08-01T00:00:00\", \"2019-09-01T00:00:00\", \"2019-10-01T00:00:00\", \"2019-11-01T00:00:00\", \"2019-12-01T00:00:00\"], \"xaxis\": \"x5\", \"y\": [321.7989889263362, 348.18444607320555, 374.9073683999361, 414.04186359867276, 431.1234753651097, 444.49017412935325, 443.21227531696354, 441.07292168191276, 434.9495543117744, 412.802800513561, 375.8633084577115, 340.8518897448239], \"yaxis\": \"y5\"}, {\"marker\": {\"color\": \"#8D38C9\"}, \"name\": \"UV Radiation\", \"type\": \"scatter\", \"x\": [\"2019-01-01T00:00:00\", \"2019-02-01T00:00:00\", \"2019-03-01T00:00:00\", \"2019-04-01T00:00:00\", \"2019-05-01T00:00:00\", \"2019-06-01T00:00:00\", \"2019-07-01T00:00:00\", \"2019-08-01T00:00:00\", \"2019-09-01T00:00:00\", \"2019-10-01T00:00:00\", \"2019-11-01T00:00:00\", \"2019-12-01T00:00:00\"], \"xaxis\": \"x5\", \"y\": [20.21667770020864, 22.46070207000711, 27.129879032258067, 28.615036691542294, 28.538434139784947, 24.584730203150915, 21.689828378269933, 21.75280282057456, 19.16978876451077, 19.247306311186005, 18.648085406301828, 17.1349208594126], \"yaxis\": \"y5\"}, {\"marker\": {\"color\": \"#2B65EC\"}, \"name\": \"Mean Sea Level Pressure [MSL]\", \"type\": \"scatter\", \"x\": [\"2019-01-01T00:00:00\", \"2019-02-01T00:00:00\", \"2019-03-01T00:00:00\", \"2019-04-01T00:00:00\", \"2019-05-01T00:00:00\", \"2019-06-01T00:00:00\", \"2019-07-01T00:00:00\", \"2019-08-01T00:00:00\", \"2019-09-01T00:00:00\", \"2019-10-01T00:00:00\", \"2019-11-01T00:00:00\", \"2019-12-01T00:00:00\"], \"xaxis\": \"x6\", \"y\": [1016.6874939817034, 1014.6499189321257, 1011.5184139784944, 1008.1690961857383, 1004.4002206708385, 1001.3590132669998, 1000.4412243219374, 1000.9862251243765, 1006.6247740464349, 1011.1284123736165, 1012.7545325456047, 1016.4336803883805], \"yaxis\": \"y6\"}, {\"marker\": {\"color\": \"#347C2C\"}, \"name\": \"Wind Speed [10 m]\", \"type\": \"scatter\", \"x\": [\"2019-01-01T00:00:00\", \"2019-02-01T00:00:00\", \"2019-03-01T00:00:00\", \"2019-04-01T00:00:00\", \"2019-05-01T00:00:00\", \"2019-06-01T00:00:00\", \"2019-07-01T00:00:00\", \"2019-08-01T00:00:00\", \"2019-09-01T00:00:00\", \"2019-10-01T00:00:00\", \"2019-11-01T00:00:00\", \"2019-12-01T00:00:00\"], \"xaxis\": \"x7\", \"y\": [7.407633364933087, 7.361309051382374, 7.449527182283949, 8.705573128886085, 11.822577836577485, 9.732938074436143, 11.099807981661854, 9.14753700321898, 8.536260380670925, 5.51620947273983, 6.538282363098151, 6.711016018396233], \"yaxis\": \"y7\"}, {\"marker\": {\"color\": \"#254117\"}, \"name\": \"Wind Speed [100 m]\", \"type\": \"scatter\", \"x\": [\"2019-01-01T00:00:00\", \"2019-02-01T00:00:00\", \"2019-03-01T00:00:00\", \"2019-04-01T00:00:00\", \"2019-05-01T00:00:00\", \"2019-06-01T00:00:00\", \"2019-07-01T00:00:00\", \"2019-08-01T00:00:00\", \"2019-09-01T00:00:00\", \"2019-10-01T00:00:00\", \"2019-11-01T00:00:00\", \"2019-12-01T00:00:00\"], \"xaxis\": \"x7\", \"y\": [12.615312447062077, 12.497333782289445, 12.63363254516321, 14.165238976160024, 18.949275349964093, 15.855840193640653, 18.23777838591449, 15.258429200434835, 14.509186278345664, 9.241971283912008, 10.553936665489523, 11.6864915138515], \"yaxis\": \"y7\"}, {\"marker\": {\"color\": \"#ffd500\"}, \"name\": \"Wind Speed [250 mb]\", \"type\": \"scatter\", \"x\": [\"2019-01-01T00:00:00\", \"2019-02-01T00:00:00\", \"2019-03-01T00:00:00\", \"2019-04-01T00:00:00\", \"2019-05-01T00:00:00\", \"2019-06-01T00:00:00\", \"2019-07-01T00:00:00\", \"2019-08-01T00:00:00\", \"2019-09-01T00:00:00\", \"2019-10-01T00:00:00\", \"2019-11-01T00:00:00\", \"2019-12-01T00:00:00\"], \"xaxis\": \"x7\", \"y\": [170.86855072813358, 177.11668788085248, 151.35861663712694, 93.23707558000375, 67.22109126295544, 31.538507582843078, 33.97123231496383, 36.38931263085681, 34.94338306028654, 52.95972162280242, 92.94469948521456, 155.62361164548219], \"yaxis\": \"y7\"}, {\"marker\": {\"color\": \"#ffb113\"}, \"name\": \"Wind Speed [500 mb]\", \"type\": \"scatter\", \"x\": [\"2019-01-01T00:00:00\", \"2019-02-01T00:00:00\", \"2019-03-01T00:00:00\", \"2019-04-01T00:00:00\", \"2019-05-01T00:00:00\", \"2019-06-01T00:00:00\", \"2019-07-01T00:00:00\", \"2019-08-01T00:00:00\", \"2019-09-01T00:00:00\", \"2019-10-01T00:00:00\", \"2019-11-01T00:00:00\", \"2019-12-01T00:00:00\"], \"xaxis\": \"x7\", \"y\": [84.66020977376232, 82.72120047068445, 79.52189579867799, 45.14692598143696, 44.19789271006861, 25.308846102860663, 23.92342726279426, 25.606954366914994, 18.785388382618454, 30.3133883750026, 45.29887492726767, 78.47885165644558], \"yaxis\": \"y7\"}, {\"marker\": {\"color\": \"#ADD8E6\"}, \"name\": \"Wind Speed [700 mb]\", \"type\": \"scatter\", \"x\": [\"2019-01-01T00:00:00\", \"2019-02-01T00:00:00\", \"2019-03-01T00:00:00\", \"2019-04-01T00:00:00\", \"2019-05-01T00:00:00\", \"2019-06-01T00:00:00\", \"2019-07-01T00:00:00\", \"2019-08-01T00:00:00\", \"2019-09-01T00:00:00\", \"2019-10-01T00:00:00\", \"2019-11-01T00:00:00\", \"2019-12-01T00:00:00\"], \"xaxis\": \"x7\", \"y\": [33.63342029131385, 48.830655881144494, 48.77776671102089, 38.66302876992209, 40.886418514664555, 24.298208615981135, 25.281399607592693, 24.495466478193087, 21.057878655113807, 19.497829915464195, 24.353184766186143, 33.751509916528676], \"yaxis\": \"y7\"}, {\"marker\": {\"color\": \"#87CEEB\"}, \"name\": \"Wind Speed [850 mb]\", \"type\": \"scatter\", \"x\": [\"2019-01-01T00:00:00\", \"2019-02-01T00:00:00\", \"2019-03-01T00:00:00\", \"2019-04-01T00:00:00\", \"2019-05-01T00:00:00\", \"2019-06-01T00:00:00\", \"2019-07-01T00:00:00\", \"2019-08-01T00:00:00\", \"2019-09-01T00:00:00\", \"2019-10-01T00:00:00\", \"2019-11-01T00:00:00\", \"2019-12-01T00:00:00\"], \"xaxis\": \"x7\", \"y\": [15.693693101218, 23.702947740255315, 22.17782121517564, 19.51977465475936, 24.468368603531744, 18.485850265555552, 25.817321832549275, 22.375162720589184, 21.73477154387645, 13.043462592810545, 16.309092321635053, 17.58308890143856], \"yaxis\": \"y7\"}, {\"marker\": {\"color\": \"#1E90FF\"}, \"name\": \"Wind Speed [900 mb]\", \"type\": \"scatter\", \"x\": [\"2019-01-01T00:00:00\", \"2019-02-01T00:00:00\", \"2019-03-01T00:00:00\", \"2019-04-01T00:00:00\", \"2019-05-01T00:00:00\", \"2019-06-01T00:00:00\", \"2019-07-01T00:00:00\", \"2019-08-01T00:00:00\", \"2019-09-01T00:00:00\", \"2019-10-01T00:00:00\", \"2019-11-01T00:00:00\", \"2019-12-01T00:00:00\"], \"xaxis\": \"x7\", \"y\": [13.013416524076286, 17.697791795049852, 17.135013376059145, 17.0505748027728, 23.954685255523, 20.375747564697647, 27.091112053769443, 21.536167602748037, 21.175579708727614, 11.56612863531436, 15.023187427903101, 14.108306796679509], \"yaxis\": \"y7\"}],\n                        {\"font\": {\"size\": 15}, \"height\": 1800, \"legend\": {\"orientation\": \"h\"}, \"template\": {\"data\": {\"bar\": [{\"error_x\": {\"color\": \"#2a3f5f\"}, \"error_y\": {\"color\": \"#2a3f5f\"}, \"marker\": {\"line\": {\"color\": \"#E5ECF6\", \"width\": 0.5}}, \"type\": \"bar\"}], \"barpolar\": [{\"marker\": {\"line\": {\"color\": \"#E5ECF6\", \"width\": 0.5}}, \"type\": \"barpolar\"}], \"carpet\": [{\"aaxis\": {\"endlinecolor\": \"#2a3f5f\", \"gridcolor\": \"white\", \"linecolor\": \"white\", \"minorgridcolor\": \"white\", \"startlinecolor\": \"#2a3f5f\"}, \"baxis\": {\"endlinecolor\": \"#2a3f5f\", \"gridcolor\": \"white\", \"linecolor\": \"white\", \"minorgridcolor\": \"white\", \"startlinecolor\": \"#2a3f5f\"}, \"type\": \"carpet\"}], \"choropleth\": [{\"colorbar\": {\"outlinewidth\": 0, \"ticks\": \"\"}, \"type\": \"choropleth\"}], \"contour\": [{\"colorbar\": {\"outlinewidth\": 0, \"ticks\": \"\"}, \"colorscale\": [[0.0, \"#0d0887\"], [0.1111111111111111, \"#46039f\"], [0.2222222222222222, \"#7201a8\"], [0.3333333333333333, \"#9c179e\"], [0.4444444444444444, \"#bd3786\"], [0.5555555555555556, \"#d8576b\"], [0.6666666666666666, \"#ed7953\"], [0.7777777777777778, \"#fb9f3a\"], [0.8888888888888888, \"#fdca26\"], [1.0, \"#f0f921\"]], \"type\": \"contour\"}], \"contourcarpet\": [{\"colorbar\": {\"outlinewidth\": 0, \"ticks\": \"\"}, \"type\": \"contourcarpet\"}], \"heatmap\": [{\"colorbar\": {\"outlinewidth\": 0, \"ticks\": \"\"}, \"colorscale\": [[0.0, \"#0d0887\"], [0.1111111111111111, \"#46039f\"], [0.2222222222222222, \"#7201a8\"], [0.3333333333333333, \"#9c179e\"], [0.4444444444444444, \"#bd3786\"], [0.5555555555555556, \"#d8576b\"], [0.6666666666666666, \"#ed7953\"], [0.7777777777777778, \"#fb9f3a\"], [0.8888888888888888, \"#fdca26\"], [1.0, \"#f0f921\"]], \"type\": \"heatmap\"}], \"heatmapgl\": [{\"colorbar\": {\"outlinewidth\": 0, \"ticks\": \"\"}, \"colorscale\": [[0.0, \"#0d0887\"], [0.1111111111111111, \"#46039f\"], [0.2222222222222222, \"#7201a8\"], [0.3333333333333333, \"#9c179e\"], [0.4444444444444444, \"#bd3786\"], [0.5555555555555556, \"#d8576b\"], [0.6666666666666666, \"#ed7953\"], [0.7777777777777778, \"#fb9f3a\"], [0.8888888888888888, \"#fdca26\"], [1.0, \"#f0f921\"]], \"type\": \"heatmapgl\"}], \"histogram\": [{\"marker\": {\"colorbar\": {\"outlinewidth\": 0, \"ticks\": \"\"}}, \"type\": \"histogram\"}], \"histogram2d\": [{\"colorbar\": {\"outlinewidth\": 0, \"ticks\": \"\"}, \"colorscale\": [[0.0, \"#0d0887\"], [0.1111111111111111, \"#46039f\"], [0.2222222222222222, \"#7201a8\"], [0.3333333333333333, \"#9c179e\"], [0.4444444444444444, \"#bd3786\"], [0.5555555555555556, \"#d8576b\"], [0.6666666666666666, \"#ed7953\"], [0.7777777777777778, \"#fb9f3a\"], [0.8888888888888888, \"#fdca26\"], [1.0, \"#f0f921\"]], \"type\": \"histogram2d\"}], \"histogram2dcontour\": [{\"colorbar\": {\"outlinewidth\": 0, \"ticks\": \"\"}, \"colorscale\": [[0.0, \"#0d0887\"], [0.1111111111111111, \"#46039f\"], [0.2222222222222222, \"#7201a8\"], [0.3333333333333333, \"#9c179e\"], [0.4444444444444444, \"#bd3786\"], [0.5555555555555556, \"#d8576b\"], [0.6666666666666666, \"#ed7953\"], [0.7777777777777778, \"#fb9f3a\"], [0.8888888888888888, \"#fdca26\"], [1.0, \"#f0f921\"]], \"type\": \"histogram2dcontour\"}], \"mesh3d\": [{\"colorbar\": {\"outlinewidth\": 0, \"ticks\": \"\"}, \"type\": \"mesh3d\"}], \"parcoords\": [{\"line\": {\"colorbar\": {\"outlinewidth\": 0, \"ticks\": \"\"}}, \"type\": \"parcoords\"}], \"pie\": [{\"automargin\": true, \"type\": \"pie\"}], \"scatter\": [{\"marker\": {\"colorbar\": {\"outlinewidth\": 0, \"ticks\": \"\"}}, \"type\": \"scatter\"}], \"scatter3d\": [{\"line\": {\"colorbar\": {\"outlinewidth\": 0, \"ticks\": \"\"}}, \"marker\": {\"colorbar\": {\"outlinewidth\": 0, \"ticks\": \"\"}}, \"type\": \"scatter3d\"}], \"scattercarpet\": [{\"marker\": {\"colorbar\": {\"outlinewidth\": 0, \"ticks\": \"\"}}, \"type\": \"scattercarpet\"}], \"scattergeo\": [{\"marker\": {\"colorbar\": {\"outlinewidth\": 0, \"ticks\": \"\"}}, \"type\": \"scattergeo\"}], \"scattergl\": [{\"marker\": {\"colorbar\": {\"outlinewidth\": 0, \"ticks\": \"\"}}, \"type\": \"scattergl\"}], \"scattermapbox\": [{\"marker\": {\"colorbar\": {\"outlinewidth\": 0, \"ticks\": \"\"}}, \"type\": \"scattermapbox\"}], \"scatterpolar\": [{\"marker\": {\"colorbar\": {\"outlinewidth\": 0, \"ticks\": \"\"}}, \"type\": \"scatterpolar\"}], \"scatterpolargl\": [{\"marker\": {\"colorbar\": {\"outlinewidth\": 0, \"ticks\": \"\"}}, \"type\": \"scatterpolargl\"}], \"scatterternary\": [{\"marker\": {\"colorbar\": {\"outlinewidth\": 0, \"ticks\": \"\"}}, \"type\": \"scatterternary\"}], \"surface\": [{\"colorbar\": {\"outlinewidth\": 0, \"ticks\": \"\"}, \"colorscale\": [[0.0, \"#0d0887\"], [0.1111111111111111, \"#46039f\"], [0.2222222222222222, \"#7201a8\"], [0.3333333333333333, \"#9c179e\"], [0.4444444444444444, \"#bd3786\"], [0.5555555555555556, \"#d8576b\"], [0.6666666666666666, \"#ed7953\"], [0.7777777777777778, \"#fb9f3a\"], [0.8888888888888888, \"#fdca26\"], [1.0, \"#f0f921\"]], \"type\": \"surface\"}], \"table\": [{\"cells\": {\"fill\": {\"color\": \"#EBF0F8\"}, \"line\": {\"color\": \"white\"}}, \"header\": {\"fill\": {\"color\": \"#C8D4E3\"}, \"line\": {\"color\": \"white\"}}, \"type\": \"table\"}]}, \"layout\": {\"annotationdefaults\": {\"arrowcolor\": \"#2a3f5f\", \"arrowhead\": 0, \"arrowwidth\": 1}, \"coloraxis\": {\"colorbar\": {\"outlinewidth\": 0, \"ticks\": \"\"}}, \"colorscale\": {\"diverging\": [[0, \"#8e0152\"], [0.1, \"#c51b7d\"], [0.2, \"#de77ae\"], [0.3, \"#f1b6da\"], [0.4, \"#fde0ef\"], [0.5, \"#f7f7f7\"], [0.6, \"#e6f5d0\"], [0.7, \"#b8e186\"], [0.8, \"#7fbc41\"], [0.9, \"#4d9221\"], [1, \"#276419\"]], \"sequential\": [[0.0, \"#0d0887\"], [0.1111111111111111, \"#46039f\"], [0.2222222222222222, \"#7201a8\"], [0.3333333333333333, \"#9c179e\"], [0.4444444444444444, \"#bd3786\"], [0.5555555555555556, \"#d8576b\"], [0.6666666666666666, \"#ed7953\"], [0.7777777777777778, \"#fb9f3a\"], [0.8888888888888888, \"#fdca26\"], [1.0, \"#f0f921\"]], \"sequentialminus\": [[0.0, \"#0d0887\"], [0.1111111111111111, \"#46039f\"], [0.2222222222222222, \"#7201a8\"], [0.3333333333333333, \"#9c179e\"], [0.4444444444444444, \"#bd3786\"], [0.5555555555555556, \"#d8576b\"], [0.6666666666666666, \"#ed7953\"], [0.7777777777777778, \"#fb9f3a\"], [0.8888888888888888, \"#fdca26\"], [1.0, \"#f0f921\"]]}, \"colorway\": [\"#636efa\", \"#EF553B\", \"#00cc96\", \"#ab63fa\", \"#FFA15A\", \"#19d3f3\", \"#FF6692\", \"#B6E880\", \"#FF97FF\", \"#FECB52\"], \"font\": {\"color\": \"#2a3f5f\"}, \"geo\": {\"bgcolor\": \"white\", \"lakecolor\": \"white\", \"landcolor\": \"#E5ECF6\", \"showlakes\": true, \"showland\": true, \"subunitcolor\": \"white\"}, \"hoverlabel\": {\"align\": \"left\"}, \"hovermode\": \"closest\", \"mapbox\": {\"style\": \"light\"}, \"paper_bgcolor\": \"white\", \"plot_bgcolor\": \"#E5ECF6\", \"polar\": {\"angularaxis\": {\"gridcolor\": \"white\", \"linecolor\": \"white\", \"ticks\": \"\"}, \"bgcolor\": \"#E5ECF6\", \"radialaxis\": {\"gridcolor\": \"white\", \"linecolor\": \"white\", \"ticks\": \"\"}}, \"scene\": {\"xaxis\": {\"backgroundcolor\": \"#E5ECF6\", \"gridcolor\": \"white\", \"gridwidth\": 2, \"linecolor\": \"white\", \"showbackground\": true, \"ticks\": \"\", \"zerolinecolor\": \"white\"}, \"yaxis\": {\"backgroundcolor\": \"#E5ECF6\", \"gridcolor\": \"white\", \"gridwidth\": 2, \"linecolor\": \"white\", \"showbackground\": true, \"ticks\": \"\", \"zerolinecolor\": \"white\"}, \"zaxis\": {\"backgroundcolor\": \"#E5ECF6\", \"gridcolor\": \"white\", \"gridwidth\": 2, \"linecolor\": \"white\", \"showbackground\": true, \"ticks\": \"\", \"zerolinecolor\": \"white\"}}, \"shapedefaults\": {\"line\": {\"color\": \"#2a3f5f\"}}, \"ternary\": {\"aaxis\": {\"gridcolor\": \"white\", \"linecolor\": \"white\", \"ticks\": \"\"}, \"baxis\": {\"gridcolor\": \"white\", \"linecolor\": \"white\", \"ticks\": \"\"}, \"bgcolor\": \"#E5ECF6\", \"caxis\": {\"gridcolor\": \"white\", \"linecolor\": \"white\", \"ticks\": \"\"}}, \"title\": {\"x\": 0.05}, \"xaxis\": {\"automargin\": true, \"gridcolor\": \"white\", \"linecolor\": \"white\", \"ticks\": \"\", \"title\": {\"standoff\": 15}, \"zerolinecolor\": \"white\", \"zerolinewidth\": 2}, \"yaxis\": {\"automargin\": true, \"gridcolor\": \"white\", \"linecolor\": \"white\", \"ticks\": \"\", \"title\": {\"standoff\": 15}, \"zerolinecolor\": \"white\", \"zerolinewidth\": 2}}}, \"title\": {\"text\": \"Stacked Subplots with Shared X-Axes\"}, \"width\": 1600, \"xaxis\": {\"anchor\": \"y\", \"domain\": [0.0, 1.0], \"matches\": \"x7\", \"showticklabels\": false}, \"xaxis2\": {\"anchor\": \"y2\", \"domain\": [0.0, 1.0], \"matches\": \"x7\", \"showticklabels\": false}, \"xaxis3\": {\"anchor\": \"y3\", \"domain\": [0.0, 1.0], \"matches\": \"x7\", \"showticklabels\": false}, \"xaxis4\": {\"anchor\": \"y4\", \"domain\": [0.0, 1.0], \"matches\": \"x7\", \"showticklabels\": false}, \"xaxis5\": {\"anchor\": \"y5\", \"domain\": [0.0, 1.0], \"matches\": \"x7\", \"showticklabels\": false}, \"xaxis6\": {\"anchor\": \"y6\", \"domain\": [0.0, 1.0], \"matches\": \"x7\", \"showticklabels\": false}, \"xaxis7\": {\"anchor\": \"y7\", \"domain\": [0.0, 1.0]}, \"yaxis\": {\"anchor\": \"x\", \"domain\": [0.8742857142857142, 1.0], \"title\": {\"text\": \"Temperature (Celsius)\"}}, \"yaxis2\": {\"anchor\": \"x2\", \"domain\": [0.7285714285714285, 0.8542857142857143], \"title\": {\"text\": \"Humidity (Fraction)\"}}, \"yaxis3\": {\"anchor\": \"x3\", \"domain\": [0.5828571428571429, 0.7085714285714286], \"title\": {\"text\": \"Precipitation (mm)\"}}, \"yaxis4\": {\"anchor\": \"x4\", \"domain\": [0.43714285714285717, 0.562857142857143], \"title\": {\"text\": \"Cloud Cover (Percentage)\"}}, \"yaxis5\": {\"anchor\": \"x5\", \"domain\": [0.2914285714285714, 0.41714285714285715], \"title\": {\"text\": \"Radiation (Flux)\"}}, \"yaxis6\": {\"anchor\": \"x6\", \"domain\": [0.1457142857142857, 0.27142857142857146], \"title\": {\"text\": \"MSL Pressure (hPa)\"}}, \"yaxis7\": {\"anchor\": \"x7\", \"domain\": [0.0, 0.12571428571428572], \"title\": {\"text\": \"Wind Speed (KM/H)\"}}},\n                        {\"responsive\": true}\n                    ).then(function(){\n                            \nvar gd = document.getElementById('ba9339cc-d956-4ad5-bf11-1693e08d7502');\nvar x = new MutationObserver(function (mutations, observer) {{\n        var display = window.getComputedStyle(gd).display;\n        if (!display || display === 'none') {{\n            console.log([gd, 'removed!']);\n            Plotly.purge(gd);\n            observer.disconnect();\n        }}\n}});\n\n// Listen for the removal of the full notebook cells\nvar notebookContainer = gd.closest('#notebook-container');\nif (notebookContainer) {{\n    x.observe(notebookContainer, {childList: true});\n}}\n\n// Listen for the clearing of the current output cell\nvar outputEl = gd.closest('.output');\nif (outputEl) {{\n    x.observe(outputEl, {childList: true});\n}}\n\n                        })\n                };\n                });\n            </script>\n        </div>"
     },
     "metadata": {},
     "output_type": "display_data"
    }
   ],
   "source": [
    "from plotly.subplots import make_subplots\n",
    "from meteorological_functions.meteoblue_data_preparation import meteorological_variable_type_list_linear\n",
    "import plotly.graph_objects as go\n",
    "\n",
    "sub_plot_rows = len(meteorological_variable_type_list_linear)\n",
    "fig = make_subplots(rows=sub_plot_rows, cols=1,\n",
    "                    shared_xaxes=True,\n",
    "                    vertical_spacing=0.02)\n",
    "\n",
    "for j,meteorological_variable in enumerate(meteorological_variable_type_list_linear):\n",
    "    meteo_data = data.mean(axis=0).resample(time=\"MS\").mean().loc[:, meteorological_variable.factor_list]\n",
    "    for i, factor in enumerate(meteo_data['factor'].values):\n",
    "        fig.add_trace(\n",
    "            go.Scatter(x=pd.Series(meteo_data['time'].values), y=meteo_data.loc[:, factor], name=factor,\n",
    "                       marker_color=meteorological_variable.color_list[i]),row=j+1, col=1)\n",
    "    fig.update_yaxes(title_text=f\"{meteorological_variable.name} ({meteorological_variable.unit})\", row=j+1, col=1)\n",
    "\n",
    "fig.update_layout(height=1800, width=1600,\n",
    "                  title_text=\"Stacked Subplots with Shared X-Axes\", legend_orientation='h',font_size=15)\n",
    "\n",
    "fig.show()"
   ],
   "metadata": {
    "collapsed": false,
    "pycharm": {
     "name": "#%%\n"
    }
   }
  }
 ],
 "metadata": {
  "kernelspec": {
   "display_name": "Python 3",
   "language": "python",
   "name": "python3"
  },
  "language_info": {
   "codemirror_mode": {
    "name": "ipython",
    "version": 2
   },
   "file_extension": ".py",
   "mimetype": "text/x-python",
   "name": "python",
   "nbconvert_exporter": "python",
   "pygments_lexer": "ipython2",
   "version": "2.7.6"
  }
 },
 "nbformat": 4,
 "nbformat_minor": 0
}