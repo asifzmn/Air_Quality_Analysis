{
 "cells": [
  {
   "cell_type": "markdown",
   "source": [
    "# Division Statistics"
   ],
   "metadata": {
    "collapsed": false,
    "pycharm": {
     "name": "#%% md\n"
    }
   }
  },
  {
   "cell_type": "code",
   "execution_count": 3,
   "outputs": [
    {
     "data": {
      "text/plain": "                  Division  Population  Latitude  Longitude\nZone                                                       \nAdilabad         Telangana      118526   19.6720    78.5359\nAgartala           Tripura      203264   23.8361    91.2794\nAgra         Uttar Pradesh     1430055   27.1833    78.0167\nAjodhya      Uttar Pradesh       53293   26.7991    82.2047\nAligarh      Uttar Pradesh      753207   27.8815    78.0746\n...                    ...         ...       ...        ...\nWarangal         Telangana      557802   18.0000    79.5833\nYamethin          Mandalay       59867   20.4319    96.1388\nYamunanagar        Haryana      208931   30.1280    77.2837\nYangon              Yangon     4477638   16.8053    96.1561\nYenangyaung         Magway      110553   20.4650    94.8712\n\n[505 rows x 4 columns]",
      "text/html": "<div>\n<style scoped>\n    .dataframe tbody tr th:only-of-type {\n        vertical-align: middle;\n    }\n\n    .dataframe tbody tr th {\n        vertical-align: top;\n    }\n\n    .dataframe thead th {\n        text-align: right;\n    }\n</style>\n<table border=\"1\" class=\"dataframe\">\n  <thead>\n    <tr style=\"text-align: right;\">\n      <th></th>\n      <th>Division</th>\n      <th>Population</th>\n      <th>Latitude</th>\n      <th>Longitude</th>\n    </tr>\n    <tr>\n      <th>Zone</th>\n      <th></th>\n      <th></th>\n      <th></th>\n      <th></th>\n    </tr>\n  </thead>\n  <tbody>\n    <tr>\n      <th>Adilabad</th>\n      <td>Telangana</td>\n      <td>118526</td>\n      <td>19.6720</td>\n      <td>78.5359</td>\n    </tr>\n    <tr>\n      <th>Agartala</th>\n      <td>Tripura</td>\n      <td>203264</td>\n      <td>23.8361</td>\n      <td>91.2794</td>\n    </tr>\n    <tr>\n      <th>Agra</th>\n      <td>Uttar Pradesh</td>\n      <td>1430055</td>\n      <td>27.1833</td>\n      <td>78.0167</td>\n    </tr>\n    <tr>\n      <th>Ajodhya</th>\n      <td>Uttar Pradesh</td>\n      <td>53293</td>\n      <td>26.7991</td>\n      <td>82.2047</td>\n    </tr>\n    <tr>\n      <th>Aligarh</th>\n      <td>Uttar Pradesh</td>\n      <td>753207</td>\n      <td>27.8815</td>\n      <td>78.0746</td>\n    </tr>\n    <tr>\n      <th>...</th>\n      <td>...</td>\n      <td>...</td>\n      <td>...</td>\n      <td>...</td>\n    </tr>\n    <tr>\n      <th>Warangal</th>\n      <td>Telangana</td>\n      <td>557802</td>\n      <td>18.0000</td>\n      <td>79.5833</td>\n    </tr>\n    <tr>\n      <th>Yamethin</th>\n      <td>Mandalay</td>\n      <td>59867</td>\n      <td>20.4319</td>\n      <td>96.1388</td>\n    </tr>\n    <tr>\n      <th>Yamunanagar</th>\n      <td>Haryana</td>\n      <td>208931</td>\n      <td>30.1280</td>\n      <td>77.2837</td>\n    </tr>\n    <tr>\n      <th>Yangon</th>\n      <td>Yangon</td>\n      <td>4477638</td>\n      <td>16.8053</td>\n      <td>96.1561</td>\n    </tr>\n    <tr>\n      <th>Yenangyaung</th>\n      <td>Magway</td>\n      <td>110553</td>\n      <td>20.4650</td>\n      <td>94.8712</td>\n    </tr>\n  </tbody>\n</table>\n<p>505 rows × 4 columns</p>\n</div>"
     },
     "execution_count": 3,
     "metadata": {},
     "output_type": "execute_result"
    }
   ],
   "source": [
    "from data_preparation import get_metadata, get_series\n",
    "\n",
    "series = get_series()\n",
    "meta_data = get_metadata()\n",
    "\n",
    "# series\n",
    "meta_data"
   ],
   "metadata": {
    "collapsed": false,
    "pycharm": {
     "name": "#%%\n"
    }
   }
  },
  {
   "cell_type": "code",
   "execution_count": 4,
   "outputs": [
    {
     "data": {
      "text/plain": "Division                  Assam  Ayeyarwady   Bago     Barisal       Bihar  \\\ntime                                                                         \n2017-01-01 00:00:00         NaN         NaN    NaN  205.900000   98.021951   \n2017-01-01 01:00:00         NaN         NaN    NaN  197.100000   89.312195   \n2017-01-01 02:00:00         NaN         NaN    NaN  172.900000   84.153659   \n2017-01-01 03:00:00         NaN         NaN    NaN  162.966667   87.392683   \n2017-01-01 04:00:00         NaN         NaN    NaN  151.566667   92.004878   \n...                         ...         ...    ...         ...         ...   \n2021-12-31 19:00:00   50.823077   52.266667  50.22  107.333333   92.483784   \n2021-12-31 20:00:00   96.215385   55.066667  50.16  104.966667  100.735135   \n2021-12-31 21:00:00  107.892308   72.633333  64.48  111.000000   86.513514   \n2021-12-31 22:00:00  104.946154   72.766667  64.34  107.566667   83.254054   \n2021-12-31 23:00:00   96.023077   73.950000  65.32   99.833333   81.797297   \n\nDivision             Chhattisgarh  Chittagong       Dhaka     Haryana  \\\ntime                                                                    \n2017-01-01 00:00:00     82.700000  197.320000  240.423529  128.315385   \n2017-01-01 01:00:00     82.550000  194.500000  239.429412  121.476923   \n2017-01-01 02:00:00     78.800000  175.580000  217.247059  127.719231   \n2017-01-01 03:00:00     86.300000  166.480000  203.735294  136.342308   \n2017-01-01 04:00:00     87.350000  160.440000  196.188235  150.857692   \n...                           ...         ...         ...         ...   \n2021-12-31 19:00:00     76.946154   94.470000  120.476471  108.533333   \n2021-12-31 20:00:00     65.969231   80.472727  122.794118  144.157143   \n2021-12-31 21:00:00     67.776923   91.936364  125.794118  120.966667   \n2021-12-31 22:00:00     52.315385   89.209091  122.029412  119.528571   \n2021-12-31 23:00:00     46.046154   90.254545  121.252941  122.114286   \n\nDivision              Jharkhand  ...  Rangpur Division     Sagain   Shan  \\\ntime                             ...                                       \n2017-01-01 00:00:00  122.728571  ...               NaN        NaN  21.80   \n2017-01-01 01:00:00  112.492857  ...               NaN        NaN  24.30   \n2017-01-01 02:00:00   99.642857  ...               NaN        NaN  27.90   \n2017-01-01 03:00:00   99.150000  ...               NaN        NaN  32.60   \n2017-01-01 04:00:00   95.850000  ...               NaN        NaN  39.00   \n...                         ...  ...               ...        ...    ...   \n2021-12-31 19:00:00   66.300000  ...            69.725        NaN  33.35   \n2021-12-31 20:00:00   62.386667  ...           116.125  34.900000  27.45   \n2021-12-31 21:00:00   46.000000  ...           124.725  38.766667  28.15   \n2021-12-31 22:00:00   41.860000  ...           120.400  36.933333  28.25   \n2021-12-31 23:00:00   39.773333  ...           112.650  35.666667  28.45   \n\nDivision                 Sylhet  Tanintharyi  Telangana  Tripura  \\\ntime                                                               \n2017-01-01 00:00:00  171.000000         18.0  71.533333    193.0   \n2017-01-01 01:00:00  171.200000         15.8  79.028205    192.9   \n2017-01-01 02:00:00  157.800000         15.0  77.456410    176.7   \n2017-01-01 03:00:00  152.300000         14.3  82.828205    168.4   \n2017-01-01 04:00:00  151.600000         16.8  87.653846    165.2   \n...                         ...          ...        ...      ...   \n2021-12-31 19:00:00   85.100000          NaN  71.494286    102.3   \n2021-12-31 20:00:00   77.300000          NaN  66.180000    110.9   \n2021-12-31 21:00:00   94.333333          NaN  68.845714    131.4   \n2021-12-31 22:00:00   89.600000          NaN  65.474286    133.0   \n2021-12-31 23:00:00   93.000000          NaN  57.162857    147.9   \n\nDivision             Uttar Pradesh  West Bengal  Yangon  \ntime                                                     \n2017-01-01 00:00:00     124.025714   225.537879     NaN  \n2017-01-01 01:00:00     110.986667   200.462121     NaN  \n2017-01-01 02:00:00     115.924762   163.186364     NaN  \n2017-01-01 03:00:00     120.986667   152.846970     NaN  \n2017-01-01 04:00:00     137.730769   129.387879     NaN  \n...                            ...          ...     ...  \n2021-12-31 19:00:00     113.537864   110.426316  56.450  \n2021-12-31 20:00:00     129.116505   134.739474  62.125  \n2021-12-31 21:00:00     129.634951   127.319737  84.650  \n2021-12-31 22:00:00     127.453398   123.465789  85.425  \n2021-12-31 23:00:00     122.106796    86.867105  87.625  \n\n[43824 rows x 33 columns]",
      "text/html": "<div>\n<style scoped>\n    .dataframe tbody tr th:only-of-type {\n        vertical-align: middle;\n    }\n\n    .dataframe tbody tr th {\n        vertical-align: top;\n    }\n\n    .dataframe thead th {\n        text-align: right;\n    }\n</style>\n<table border=\"1\" class=\"dataframe\">\n  <thead>\n    <tr style=\"text-align: right;\">\n      <th>Division</th>\n      <th>Assam</th>\n      <th>Ayeyarwady</th>\n      <th>Bago</th>\n      <th>Barisal</th>\n      <th>Bihar</th>\n      <th>Chhattisgarh</th>\n      <th>Chittagong</th>\n      <th>Dhaka</th>\n      <th>Haryana</th>\n      <th>Jharkhand</th>\n      <th>...</th>\n      <th>Rangpur Division</th>\n      <th>Sagain</th>\n      <th>Shan</th>\n      <th>Sylhet</th>\n      <th>Tanintharyi</th>\n      <th>Telangana</th>\n      <th>Tripura</th>\n      <th>Uttar Pradesh</th>\n      <th>West Bengal</th>\n      <th>Yangon</th>\n    </tr>\n    <tr>\n      <th>time</th>\n      <th></th>\n      <th></th>\n      <th></th>\n      <th></th>\n      <th></th>\n      <th></th>\n      <th></th>\n      <th></th>\n      <th></th>\n      <th></th>\n      <th></th>\n      <th></th>\n      <th></th>\n      <th></th>\n      <th></th>\n      <th></th>\n      <th></th>\n      <th></th>\n      <th></th>\n      <th></th>\n      <th></th>\n    </tr>\n  </thead>\n  <tbody>\n    <tr>\n      <th>2017-01-01 00:00:00</th>\n      <td>NaN</td>\n      <td>NaN</td>\n      <td>NaN</td>\n      <td>205.900000</td>\n      <td>98.021951</td>\n      <td>82.700000</td>\n      <td>197.320000</td>\n      <td>240.423529</td>\n      <td>128.315385</td>\n      <td>122.728571</td>\n      <td>...</td>\n      <td>NaN</td>\n      <td>NaN</td>\n      <td>21.80</td>\n      <td>171.000000</td>\n      <td>18.0</td>\n      <td>71.533333</td>\n      <td>193.0</td>\n      <td>124.025714</td>\n      <td>225.537879</td>\n      <td>NaN</td>\n    </tr>\n    <tr>\n      <th>2017-01-01 01:00:00</th>\n      <td>NaN</td>\n      <td>NaN</td>\n      <td>NaN</td>\n      <td>197.100000</td>\n      <td>89.312195</td>\n      <td>82.550000</td>\n      <td>194.500000</td>\n      <td>239.429412</td>\n      <td>121.476923</td>\n      <td>112.492857</td>\n      <td>...</td>\n      <td>NaN</td>\n      <td>NaN</td>\n      <td>24.30</td>\n      <td>171.200000</td>\n      <td>15.8</td>\n      <td>79.028205</td>\n      <td>192.9</td>\n      <td>110.986667</td>\n      <td>200.462121</td>\n      <td>NaN</td>\n    </tr>\n    <tr>\n      <th>2017-01-01 02:00:00</th>\n      <td>NaN</td>\n      <td>NaN</td>\n      <td>NaN</td>\n      <td>172.900000</td>\n      <td>84.153659</td>\n      <td>78.800000</td>\n      <td>175.580000</td>\n      <td>217.247059</td>\n      <td>127.719231</td>\n      <td>99.642857</td>\n      <td>...</td>\n      <td>NaN</td>\n      <td>NaN</td>\n      <td>27.90</td>\n      <td>157.800000</td>\n      <td>15.0</td>\n      <td>77.456410</td>\n      <td>176.7</td>\n      <td>115.924762</td>\n      <td>163.186364</td>\n      <td>NaN</td>\n    </tr>\n    <tr>\n      <th>2017-01-01 03:00:00</th>\n      <td>NaN</td>\n      <td>NaN</td>\n      <td>NaN</td>\n      <td>162.966667</td>\n      <td>87.392683</td>\n      <td>86.300000</td>\n      <td>166.480000</td>\n      <td>203.735294</td>\n      <td>136.342308</td>\n      <td>99.150000</td>\n      <td>...</td>\n      <td>NaN</td>\n      <td>NaN</td>\n      <td>32.60</td>\n      <td>152.300000</td>\n      <td>14.3</td>\n      <td>82.828205</td>\n      <td>168.4</td>\n      <td>120.986667</td>\n      <td>152.846970</td>\n      <td>NaN</td>\n    </tr>\n    <tr>\n      <th>2017-01-01 04:00:00</th>\n      <td>NaN</td>\n      <td>NaN</td>\n      <td>NaN</td>\n      <td>151.566667</td>\n      <td>92.004878</td>\n      <td>87.350000</td>\n      <td>160.440000</td>\n      <td>196.188235</td>\n      <td>150.857692</td>\n      <td>95.850000</td>\n      <td>...</td>\n      <td>NaN</td>\n      <td>NaN</td>\n      <td>39.00</td>\n      <td>151.600000</td>\n      <td>16.8</td>\n      <td>87.653846</td>\n      <td>165.2</td>\n      <td>137.730769</td>\n      <td>129.387879</td>\n      <td>NaN</td>\n    </tr>\n    <tr>\n      <th>...</th>\n      <td>...</td>\n      <td>...</td>\n      <td>...</td>\n      <td>...</td>\n      <td>...</td>\n      <td>...</td>\n      <td>...</td>\n      <td>...</td>\n      <td>...</td>\n      <td>...</td>\n      <td>...</td>\n      <td>...</td>\n      <td>...</td>\n      <td>...</td>\n      <td>...</td>\n      <td>...</td>\n      <td>...</td>\n      <td>...</td>\n      <td>...</td>\n      <td>...</td>\n      <td>...</td>\n    </tr>\n    <tr>\n      <th>2021-12-31 19:00:00</th>\n      <td>50.823077</td>\n      <td>52.266667</td>\n      <td>50.22</td>\n      <td>107.333333</td>\n      <td>92.483784</td>\n      <td>76.946154</td>\n      <td>94.470000</td>\n      <td>120.476471</td>\n      <td>108.533333</td>\n      <td>66.300000</td>\n      <td>...</td>\n      <td>69.725</td>\n      <td>NaN</td>\n      <td>33.35</td>\n      <td>85.100000</td>\n      <td>NaN</td>\n      <td>71.494286</td>\n      <td>102.3</td>\n      <td>113.537864</td>\n      <td>110.426316</td>\n      <td>56.450</td>\n    </tr>\n    <tr>\n      <th>2021-12-31 20:00:00</th>\n      <td>96.215385</td>\n      <td>55.066667</td>\n      <td>50.16</td>\n      <td>104.966667</td>\n      <td>100.735135</td>\n      <td>65.969231</td>\n      <td>80.472727</td>\n      <td>122.794118</td>\n      <td>144.157143</td>\n      <td>62.386667</td>\n      <td>...</td>\n      <td>116.125</td>\n      <td>34.900000</td>\n      <td>27.45</td>\n      <td>77.300000</td>\n      <td>NaN</td>\n      <td>66.180000</td>\n      <td>110.9</td>\n      <td>129.116505</td>\n      <td>134.739474</td>\n      <td>62.125</td>\n    </tr>\n    <tr>\n      <th>2021-12-31 21:00:00</th>\n      <td>107.892308</td>\n      <td>72.633333</td>\n      <td>64.48</td>\n      <td>111.000000</td>\n      <td>86.513514</td>\n      <td>67.776923</td>\n      <td>91.936364</td>\n      <td>125.794118</td>\n      <td>120.966667</td>\n      <td>46.000000</td>\n      <td>...</td>\n      <td>124.725</td>\n      <td>38.766667</td>\n      <td>28.15</td>\n      <td>94.333333</td>\n      <td>NaN</td>\n      <td>68.845714</td>\n      <td>131.4</td>\n      <td>129.634951</td>\n      <td>127.319737</td>\n      <td>84.650</td>\n    </tr>\n    <tr>\n      <th>2021-12-31 22:00:00</th>\n      <td>104.946154</td>\n      <td>72.766667</td>\n      <td>64.34</td>\n      <td>107.566667</td>\n      <td>83.254054</td>\n      <td>52.315385</td>\n      <td>89.209091</td>\n      <td>122.029412</td>\n      <td>119.528571</td>\n      <td>41.860000</td>\n      <td>...</td>\n      <td>120.400</td>\n      <td>36.933333</td>\n      <td>28.25</td>\n      <td>89.600000</td>\n      <td>NaN</td>\n      <td>65.474286</td>\n      <td>133.0</td>\n      <td>127.453398</td>\n      <td>123.465789</td>\n      <td>85.425</td>\n    </tr>\n    <tr>\n      <th>2021-12-31 23:00:00</th>\n      <td>96.023077</td>\n      <td>73.950000</td>\n      <td>65.32</td>\n      <td>99.833333</td>\n      <td>81.797297</td>\n      <td>46.046154</td>\n      <td>90.254545</td>\n      <td>121.252941</td>\n      <td>122.114286</td>\n      <td>39.773333</td>\n      <td>...</td>\n      <td>112.650</td>\n      <td>35.666667</td>\n      <td>28.45</td>\n      <td>93.000000</td>\n      <td>NaN</td>\n      <td>57.162857</td>\n      <td>147.9</td>\n      <td>122.106796</td>\n      <td>86.867105</td>\n      <td>87.625</td>\n    </tr>\n  </tbody>\n</table>\n<p>43824 rows × 33 columns</p>\n</div>"
     },
     "execution_count": 4,
     "metadata": {},
     "output_type": "execute_result"
    }
   ],
   "source": [
    "def process_by_division(divisional_zone):\n",
    "    divisional_series = series[divisional_zone.index].mean(axis=1)\n",
    "    return divisional_series\n",
    "\n",
    "division_series = meta_data.groupby('Division').apply(process_by_division).T\n",
    "division_series"
   ],
   "metadata": {
    "collapsed": false,
    "pycharm": {
     "name": "#%%\n"
    }
   }
  },
  {
   "cell_type": "code",
   "execution_count": 12,
   "outputs": [],
   "source": [
    "division_series_bd = division_series[['Dhaka','Khulna','Chittagong']][\"2019\":'2022'].round(2)\n",
    "division_series_bd.to_csv(\"division_series.csv\")"
   ],
   "metadata": {
    "collapsed": false,
    "pycharm": {
     "name": "#%%\n"
    }
   }
  },
  {
   "cell_type": "code",
   "execution_count": 11,
   "outputs": [
    {
     "data": {
      "text/plain": "Division              Dhaka  Khulna  Chittagong\ntime                                           \n2019-01-01 00:00:00  158.26  155.70      123.92\n2019-01-01 01:00:00  148.10  143.48      114.76\n2019-01-01 02:00:00  151.65  149.72      116.90\n2019-01-01 03:00:00  174.06  162.10      132.69\n2019-01-01 04:00:00  183.80  169.20      140.81\n...                     ...     ...         ...\n2021-12-31 19:00:00  120.48  119.48       94.47\n2021-12-31 20:00:00  122.79  130.28       80.47\n2021-12-31 21:00:00  125.79  130.36       91.94\n2021-12-31 22:00:00  122.03  126.50       89.21\n2021-12-31 23:00:00  121.25  102.18       90.25\n\n[26304 rows x 3 columns]",
      "text/html": "<div>\n<style scoped>\n    .dataframe tbody tr th:only-of-type {\n        vertical-align: middle;\n    }\n\n    .dataframe tbody tr th {\n        vertical-align: top;\n    }\n\n    .dataframe thead th {\n        text-align: right;\n    }\n</style>\n<table border=\"1\" class=\"dataframe\">\n  <thead>\n    <tr style=\"text-align: right;\">\n      <th>Division</th>\n      <th>Dhaka</th>\n      <th>Khulna</th>\n      <th>Chittagong</th>\n    </tr>\n    <tr>\n      <th>time</th>\n      <th></th>\n      <th></th>\n      <th></th>\n    </tr>\n  </thead>\n  <tbody>\n    <tr>\n      <th>2019-01-01 00:00:00</th>\n      <td>158.26</td>\n      <td>155.70</td>\n      <td>123.92</td>\n    </tr>\n    <tr>\n      <th>2019-01-01 01:00:00</th>\n      <td>148.10</td>\n      <td>143.48</td>\n      <td>114.76</td>\n    </tr>\n    <tr>\n      <th>2019-01-01 02:00:00</th>\n      <td>151.65</td>\n      <td>149.72</td>\n      <td>116.90</td>\n    </tr>\n    <tr>\n      <th>2019-01-01 03:00:00</th>\n      <td>174.06</td>\n      <td>162.10</td>\n      <td>132.69</td>\n    </tr>\n    <tr>\n      <th>2019-01-01 04:00:00</th>\n      <td>183.80</td>\n      <td>169.20</td>\n      <td>140.81</td>\n    </tr>\n    <tr>\n      <th>...</th>\n      <td>...</td>\n      <td>...</td>\n      <td>...</td>\n    </tr>\n    <tr>\n      <th>2021-12-31 19:00:00</th>\n      <td>120.48</td>\n      <td>119.48</td>\n      <td>94.47</td>\n    </tr>\n    <tr>\n      <th>2021-12-31 20:00:00</th>\n      <td>122.79</td>\n      <td>130.28</td>\n      <td>80.47</td>\n    </tr>\n    <tr>\n      <th>2021-12-31 21:00:00</th>\n      <td>125.79</td>\n      <td>130.36</td>\n      <td>91.94</td>\n    </tr>\n    <tr>\n      <th>2021-12-31 22:00:00</th>\n      <td>122.03</td>\n      <td>126.50</td>\n      <td>89.21</td>\n    </tr>\n    <tr>\n      <th>2021-12-31 23:00:00</th>\n      <td>121.25</td>\n      <td>102.18</td>\n      <td>90.25</td>\n    </tr>\n  </tbody>\n</table>\n<p>26304 rows × 3 columns</p>\n</div>"
     },
     "execution_count": 11,
     "metadata": {},
     "output_type": "execute_result"
    }
   ],
   "source": [],
   "metadata": {
    "collapsed": false,
    "pycharm": {
     "name": "#%%\n"
    }
   }
  },
  {
   "cell_type": "code",
   "execution_count": 5,
   "outputs": [
    {
     "data": {
      "text/plain": "Division\nUttar Pradesh           1625\nKhulna                  1654\nWest Bengal             1665\nBihar                   1798\nHaryana                 1807\nJharkhand               1849\nRajshahi                1857\nNCT                     2042\nOdisha                  2266\nTelangana               2360\nShan                    2411\nDhaka                   2455\nBarisal                 2456\nMymensingh Division     2499\nChittagong              2582\nMadhya Pradesh          3512\nKachin                  3682\nSylhet                  4685\nTripura                 4688\nChhattisgarh            4689\nRangpur Division        5639\nAssam                  10449\nKayin                  11859\nMon                    12872\nBago                   12878\nTanintharyi            15177\nMandalay               23883\nYangon                 25147\nAyeyarwady             27214\nSagain                 27967\nNay Pyi Taw            33979\nMagway                 34939\nRakhine                43814\ndtype: int64"
     },
     "execution_count": 5,
     "metadata": {},
     "output_type": "execute_result"
    }
   ],
   "source": [
    "division_series.isna().sum().sort_values()"
   ],
   "metadata": {
    "collapsed": false,
    "pycharm": {
     "name": "#%%\n"
    }
   }
  },
  {
   "cell_type": "code",
   "execution_count": 6,
   "outputs": [
    {
     "data": {
      "text/plain": "Division     Assam  Ayeyarwady    Bago  Barisal  Bihar  Chhattisgarh  \\\ntime                                                                   \n2017-12-31  8760.0      8760.0  8760.0   1392.0  813.0        1254.0   \n2018-12-31  1547.0      8760.0  1774.0    868.0  776.0        1208.0   \n2019-12-31    82.0      7105.0   133.0     23.0   35.0        1403.0   \n2020-12-31     8.0       439.0    65.0     11.0    8.0         239.0   \n2021-12-31    52.0      2150.0  2146.0    162.0  166.0         585.0   \n\nDivision    Chittagong   Dhaka  Haryana  Jharkhand  ...  Rangpur Division  \\\ntime                                                ...                     \n2017-12-31      1392.0  1392.0    808.0      942.0  ...            4495.0   \n2018-12-31       915.0   868.0    667.0      686.0  ...             912.0   \n2019-12-31        88.0    23.0    136.0       50.0  ...              58.0   \n2020-12-31        11.0    11.0      8.0        9.0  ...               9.0   \n2021-12-31       176.0   161.0    188.0      162.0  ...             165.0   \n\nDivision    Sagain   Shan  Sylhet  Tanintharyi  Telangana  Tripura  \\\ntime                                                                 \n2017-12-31  8760.0  894.0  1392.0       3138.0      846.0   1392.0   \n2018-12-31  8760.0  656.0  2857.0        900.0      700.0   2857.0   \n2019-12-31  6850.0   48.0   237.0        122.0      156.0    239.0   \n2020-12-31  1656.0  492.0    19.0       2350.0      153.0     19.0   \n2021-12-31  1941.0  321.0   180.0       8667.0      505.0    181.0   \n\nDivision    Uttar Pradesh  West Bengal  Yangon  \ntime                                            \n2017-12-31          759.0        823.0  8760.0  \n2018-12-31          683.0        661.0  8760.0  \n2019-12-31           20.0         18.0  5412.0  \n2020-12-31            8.0          8.0    65.0  \n2021-12-31          155.0        155.0  2150.0  \n\n[5 rows x 33 columns]",
      "text/html": "<div>\n<style scoped>\n    .dataframe tbody tr th:only-of-type {\n        vertical-align: middle;\n    }\n\n    .dataframe tbody tr th {\n        vertical-align: top;\n    }\n\n    .dataframe thead th {\n        text-align: right;\n    }\n</style>\n<table border=\"1\" class=\"dataframe\">\n  <thead>\n    <tr style=\"text-align: right;\">\n      <th>Division</th>\n      <th>Assam</th>\n      <th>Ayeyarwady</th>\n      <th>Bago</th>\n      <th>Barisal</th>\n      <th>Bihar</th>\n      <th>Chhattisgarh</th>\n      <th>Chittagong</th>\n      <th>Dhaka</th>\n      <th>Haryana</th>\n      <th>Jharkhand</th>\n      <th>...</th>\n      <th>Rangpur Division</th>\n      <th>Sagain</th>\n      <th>Shan</th>\n      <th>Sylhet</th>\n      <th>Tanintharyi</th>\n      <th>Telangana</th>\n      <th>Tripura</th>\n      <th>Uttar Pradesh</th>\n      <th>West Bengal</th>\n      <th>Yangon</th>\n    </tr>\n    <tr>\n      <th>time</th>\n      <th></th>\n      <th></th>\n      <th></th>\n      <th></th>\n      <th></th>\n      <th></th>\n      <th></th>\n      <th></th>\n      <th></th>\n      <th></th>\n      <th></th>\n      <th></th>\n      <th></th>\n      <th></th>\n      <th></th>\n      <th></th>\n      <th></th>\n      <th></th>\n      <th></th>\n      <th></th>\n      <th></th>\n    </tr>\n  </thead>\n  <tbody>\n    <tr>\n      <th>2017-12-31</th>\n      <td>8760.0</td>\n      <td>8760.0</td>\n      <td>8760.0</td>\n      <td>1392.0</td>\n      <td>813.0</td>\n      <td>1254.0</td>\n      <td>1392.0</td>\n      <td>1392.0</td>\n      <td>808.0</td>\n      <td>942.0</td>\n      <td>...</td>\n      <td>4495.0</td>\n      <td>8760.0</td>\n      <td>894.0</td>\n      <td>1392.0</td>\n      <td>3138.0</td>\n      <td>846.0</td>\n      <td>1392.0</td>\n      <td>759.0</td>\n      <td>823.0</td>\n      <td>8760.0</td>\n    </tr>\n    <tr>\n      <th>2018-12-31</th>\n      <td>1547.0</td>\n      <td>8760.0</td>\n      <td>1774.0</td>\n      <td>868.0</td>\n      <td>776.0</td>\n      <td>1208.0</td>\n      <td>915.0</td>\n      <td>868.0</td>\n      <td>667.0</td>\n      <td>686.0</td>\n      <td>...</td>\n      <td>912.0</td>\n      <td>8760.0</td>\n      <td>656.0</td>\n      <td>2857.0</td>\n      <td>900.0</td>\n      <td>700.0</td>\n      <td>2857.0</td>\n      <td>683.0</td>\n      <td>661.0</td>\n      <td>8760.0</td>\n    </tr>\n    <tr>\n      <th>2019-12-31</th>\n      <td>82.0</td>\n      <td>7105.0</td>\n      <td>133.0</td>\n      <td>23.0</td>\n      <td>35.0</td>\n      <td>1403.0</td>\n      <td>88.0</td>\n      <td>23.0</td>\n      <td>136.0</td>\n      <td>50.0</td>\n      <td>...</td>\n      <td>58.0</td>\n      <td>6850.0</td>\n      <td>48.0</td>\n      <td>237.0</td>\n      <td>122.0</td>\n      <td>156.0</td>\n      <td>239.0</td>\n      <td>20.0</td>\n      <td>18.0</td>\n      <td>5412.0</td>\n    </tr>\n    <tr>\n      <th>2020-12-31</th>\n      <td>8.0</td>\n      <td>439.0</td>\n      <td>65.0</td>\n      <td>11.0</td>\n      <td>8.0</td>\n      <td>239.0</td>\n      <td>11.0</td>\n      <td>11.0</td>\n      <td>8.0</td>\n      <td>9.0</td>\n      <td>...</td>\n      <td>9.0</td>\n      <td>1656.0</td>\n      <td>492.0</td>\n      <td>19.0</td>\n      <td>2350.0</td>\n      <td>153.0</td>\n      <td>19.0</td>\n      <td>8.0</td>\n      <td>8.0</td>\n      <td>65.0</td>\n    </tr>\n    <tr>\n      <th>2021-12-31</th>\n      <td>52.0</td>\n      <td>2150.0</td>\n      <td>2146.0</td>\n      <td>162.0</td>\n      <td>166.0</td>\n      <td>585.0</td>\n      <td>176.0</td>\n      <td>161.0</td>\n      <td>188.0</td>\n      <td>162.0</td>\n      <td>...</td>\n      <td>165.0</td>\n      <td>1941.0</td>\n      <td>321.0</td>\n      <td>180.0</td>\n      <td>8667.0</td>\n      <td>505.0</td>\n      <td>181.0</td>\n      <td>155.0</td>\n      <td>155.0</td>\n      <td>2150.0</td>\n    </tr>\n  </tbody>\n</table>\n<p>5 rows × 33 columns</p>\n</div>"
     },
     "execution_count": 6,
     "metadata": {},
     "output_type": "execute_result"
    }
   ],
   "source": [
    "division_series.resample('Y').apply(lambda x: x.isna().sum())#.sum(axis=1)"
   ],
   "metadata": {
    "collapsed": false,
    "pycharm": {
     "name": "#%%\n"
    }
   }
  },
  {
   "cell_type": "code",
   "execution_count": 10,
   "outputs": [
    {
     "data": {
      "text/plain": "time\n2017-01-01 00:00:00    226.34\n2017-01-01 01:00:00    210.94\n2017-01-01 02:00:00    180.12\n2017-01-01 03:00:00    168.82\n2017-01-01 04:00:00    151.92\n                        ...  \n2021-12-31 19:00:00    119.48\n2021-12-31 20:00:00    130.28\n2021-12-31 21:00:00    130.36\n2021-12-31 22:00:00    126.50\n2021-12-31 23:00:00    102.18\nName: Khulna, Length: 43824, dtype: float64"
     },
     "execution_count": 10,
     "metadata": {},
     "output_type": "execute_result"
    }
   ],
   "source": [
    "Khulna_division_series = division_series.Khulna\n",
    "Khulna_division_series"
   ],
   "metadata": {
    "collapsed": false,
    "pycharm": {
     "name": "#%%\n"
    }
   }
  },
  {
   "cell_type": "code",
   "execution_count": 13,
   "outputs": [
    {
     "data": {
      "text/plain": "time\n2017-12-31    677.0\n2018-12-31    781.0\n2019-12-31     23.0\n2020-12-31     11.0\n2021-12-31    162.0\nFreq: A-DEC, Name: Khulna, dtype: float64"
     },
     "execution_count": 13,
     "metadata": {},
     "output_type": "execute_result"
    }
   ],
   "source": [
    "Khulna_division_series.resample('Y').apply(lambda x: x.isna().sum())"
   ],
   "metadata": {
    "collapsed": false,
    "pycharm": {
     "name": "#%%\n"
    }
   }
  }
 ],
 "metadata": {
  "kernelspec": {
   "display_name": "Python 3",
   "language": "python",
   "name": "python3"
  },
  "language_info": {
   "codemirror_mode": {
    "name": "ipython",
    "version": 2
   },
   "file_extension": ".py",
   "mimetype": "text/x-python",
   "name": "python",
   "nbconvert_exporter": "python",
   "pygments_lexer": "ipython2",
   "version": "2.7.6"
  }
 },
 "nbformat": 4,
 "nbformat_minor": 0
}