{
 "cells": [
  {
   "cell_type": "code",
   "execution_count": 2,
   "metadata": {
    "collapsed": true
   },
   "outputs": [],
   "source": [
    "from AQ_Analysis import *\n",
    "from PastWeatherScrapping import *\n",
    "\n",
    "meta_data, timeseries = get_metadata(), get_series()\n"
   ]
  },
  {
   "cell_type": "code",
   "execution_count": 77,
   "outputs": [],
   "source": [
    "\n",
    "sun_time_series = get_diurnal_period()"
   ],
   "metadata": {
    "collapsed": false,
    "pycharm": {
     "name": "#%%\n"
    }
   }
  },
  {
   "cell_type": "code",
   "execution_count": null,
   "outputs": [],
   "source": [],
   "metadata": {
    "collapsed": false,
    "pycharm": {
     "name": "#%%\n"
    }
   }
  },
  {
   "cell_type": "code",
   "execution_count": 78,
   "outputs": [
    {
     "data": {
      "text/plain": "                     Barisal  Bogra  Dhaka  Jamalpur  Jessore  Kishorganj  \\\ntime                                                                        \n2019-01-01 00:00:00    144.6  138.9  168.2     134.7    156.2       138.3   \n2019-01-01 01:00:00    133.0  133.2  157.6     128.6    144.0       130.5   \n2019-01-01 02:00:00    136.5  132.3  161.4     128.2    151.4       132.1   \n2019-01-01 03:00:00    152.2  144.8  187.7     143.1    163.7       152.2   \n2019-01-01 04:00:00    160.1  151.7  198.5     150.7    171.0       161.2   \n...                      ...    ...    ...       ...      ...         ...   \n2019-12-31 19:00:00    202.0  239.5  245.2     243.4    264.9       223.5   \n2019-12-31 20:00:00    230.0  258.6  296.6     265.7    286.1       255.8   \n2019-12-31 21:00:00    227.4  255.2  285.1     261.2    287.7       248.5   \n2019-12-31 22:00:00    177.0  186.6  225.3     200.2    196.1       220.1   \n2019-12-31 23:00:00    165.0  179.9  210.9     194.2    180.4       209.4   \n\n                     Kushtia  Lakshmipur  Madaripur  Mymensingh  ...  Ramganj  \\\ntime                                                             ...            \n2019-01-01 00:00:00    148.6       139.7      154.8       133.8  ...    143.3   \n2019-01-01 01:00:00    140.4       129.3      143.4       127.0  ...    132.9   \n2019-01-01 02:00:00    144.9       132.3      147.6       127.6  ...    136.0   \n2019-01-01 03:00:00    157.9       149.8      166.7       145.0  ...    155.1   \n2019-01-01 04:00:00    166.3       158.2      175.5       153.3  ...    163.9   \n...                      ...         ...        ...         ...  ...      ...   \n2019-12-31 19:00:00    256.5       195.2      226.6       238.0  ...    202.4   \n2019-12-31 20:00:00    279.1       226.1      262.2       264.2  ...    236.5   \n2019-12-31 21:00:00    277.0       221.2      257.0       258.5  ...    230.4   \n2019-12-31 22:00:00    195.7       181.6      197.9       214.2  ...    190.3   \n2019-12-31 23:00:00    182.9       169.7      184.4       206.7  ...    177.9   \n\n                     Sarishabari  Satkhira  Shahzadpur  Sherpur  Sirajganj  \\\ntime                                                                         \n2019-01-01 00:00:00        138.7     161.9       150.3    131.5      145.5   \n2019-01-01 01:00:00        132.3     146.6       142.1    125.6      138.1   \n2019-01-01 02:00:00        132.4     154.0       144.9    125.0      139.6   \n2019-01-01 03:00:00        147.7     163.6       161.4    139.7      155.9   \n2019-01-01 04:00:00        155.5     169.0       169.9    147.2      164.2   \n...                          ...       ...         ...      ...        ...   \n2019-12-31 19:00:00        243.4     256.2       249.8    244.6      245.6   \n2019-12-31 20:00:00        267.4     271.5       278.9    265.7      273.3   \n2019-12-31 21:00:00        262.6     278.2       274.0    261.3      268.1   \n2019-12-31 22:00:00        200.4     187.2       203.3    201.0      203.0   \n2019-12-31 23:00:00        193.1     171.6       191.9    195.9      193.5   \n\n                     Tangail  Tongi  Tungipara  diurnal_name  \ntime                                                          \n2019-01-01 00:00:00    152.0  166.8      152.6         night  \n2019-01-01 01:00:00    143.6  156.7      140.2         night  \n2019-01-01 02:00:00    146.1  160.1      144.8         night  \n2019-01-01 03:00:00    165.3  186.7      160.0         night  \n2019-01-01 04:00:00    174.3  197.5      167.6         night  \n...                      ...    ...        ...           ...  \n2019-12-31 19:00:00    247.1  244.6      223.6         night  \n2019-12-31 20:00:00    281.5  295.3      251.0         night  \n2019-12-31 21:00:00    274.7  283.7      249.8         night  \n2019-12-31 22:00:00    211.4  227.2      185.3         night  \n2019-12-31 23:00:00    200.3  213.9      172.2         night  \n\n[8760 rows x 31 columns]",
      "text/html": "<div>\n<style scoped>\n    .dataframe tbody tr th:only-of-type {\n        vertical-align: middle;\n    }\n\n    .dataframe tbody tr th {\n        vertical-align: top;\n    }\n\n    .dataframe thead th {\n        text-align: right;\n    }\n</style>\n<table border=\"1\" class=\"dataframe\">\n  <thead>\n    <tr style=\"text-align: right;\">\n      <th></th>\n      <th>Barisal</th>\n      <th>Bogra</th>\n      <th>Dhaka</th>\n      <th>Jamalpur</th>\n      <th>Jessore</th>\n      <th>Kishorganj</th>\n      <th>Kushtia</th>\n      <th>Lakshmipur</th>\n      <th>Madaripur</th>\n      <th>Mymensingh</th>\n      <th>...</th>\n      <th>Ramganj</th>\n      <th>Sarishabari</th>\n      <th>Satkhira</th>\n      <th>Shahzadpur</th>\n      <th>Sherpur</th>\n      <th>Sirajganj</th>\n      <th>Tangail</th>\n      <th>Tongi</th>\n      <th>Tungipara</th>\n      <th>diurnal_name</th>\n    </tr>\n    <tr>\n      <th>time</th>\n      <th></th>\n      <th></th>\n      <th></th>\n      <th></th>\n      <th></th>\n      <th></th>\n      <th></th>\n      <th></th>\n      <th></th>\n      <th></th>\n      <th></th>\n      <th></th>\n      <th></th>\n      <th></th>\n      <th></th>\n      <th></th>\n      <th></th>\n      <th></th>\n      <th></th>\n      <th></th>\n      <th></th>\n    </tr>\n  </thead>\n  <tbody>\n    <tr>\n      <th>2019-01-01 00:00:00</th>\n      <td>144.6</td>\n      <td>138.9</td>\n      <td>168.2</td>\n      <td>134.7</td>\n      <td>156.2</td>\n      <td>138.3</td>\n      <td>148.6</td>\n      <td>139.7</td>\n      <td>154.8</td>\n      <td>133.8</td>\n      <td>...</td>\n      <td>143.3</td>\n      <td>138.7</td>\n      <td>161.9</td>\n      <td>150.3</td>\n      <td>131.5</td>\n      <td>145.5</td>\n      <td>152.0</td>\n      <td>166.8</td>\n      <td>152.6</td>\n      <td>night</td>\n    </tr>\n    <tr>\n      <th>2019-01-01 01:00:00</th>\n      <td>133.0</td>\n      <td>133.2</td>\n      <td>157.6</td>\n      <td>128.6</td>\n      <td>144.0</td>\n      <td>130.5</td>\n      <td>140.4</td>\n      <td>129.3</td>\n      <td>143.4</td>\n      <td>127.0</td>\n      <td>...</td>\n      <td>132.9</td>\n      <td>132.3</td>\n      <td>146.6</td>\n      <td>142.1</td>\n      <td>125.6</td>\n      <td>138.1</td>\n      <td>143.6</td>\n      <td>156.7</td>\n      <td>140.2</td>\n      <td>night</td>\n    </tr>\n    <tr>\n      <th>2019-01-01 02:00:00</th>\n      <td>136.5</td>\n      <td>132.3</td>\n      <td>161.4</td>\n      <td>128.2</td>\n      <td>151.4</td>\n      <td>132.1</td>\n      <td>144.9</td>\n      <td>132.3</td>\n      <td>147.6</td>\n      <td>127.6</td>\n      <td>...</td>\n      <td>136.0</td>\n      <td>132.4</td>\n      <td>154.0</td>\n      <td>144.9</td>\n      <td>125.0</td>\n      <td>139.6</td>\n      <td>146.1</td>\n      <td>160.1</td>\n      <td>144.8</td>\n      <td>night</td>\n    </tr>\n    <tr>\n      <th>2019-01-01 03:00:00</th>\n      <td>152.2</td>\n      <td>144.8</td>\n      <td>187.7</td>\n      <td>143.1</td>\n      <td>163.7</td>\n      <td>152.2</td>\n      <td>157.9</td>\n      <td>149.8</td>\n      <td>166.7</td>\n      <td>145.0</td>\n      <td>...</td>\n      <td>155.1</td>\n      <td>147.7</td>\n      <td>163.6</td>\n      <td>161.4</td>\n      <td>139.7</td>\n      <td>155.9</td>\n      <td>165.3</td>\n      <td>186.7</td>\n      <td>160.0</td>\n      <td>night</td>\n    </tr>\n    <tr>\n      <th>2019-01-01 04:00:00</th>\n      <td>160.1</td>\n      <td>151.7</td>\n      <td>198.5</td>\n      <td>150.7</td>\n      <td>171.0</td>\n      <td>161.2</td>\n      <td>166.3</td>\n      <td>158.2</td>\n      <td>175.5</td>\n      <td>153.3</td>\n      <td>...</td>\n      <td>163.9</td>\n      <td>155.5</td>\n      <td>169.0</td>\n      <td>169.9</td>\n      <td>147.2</td>\n      <td>164.2</td>\n      <td>174.3</td>\n      <td>197.5</td>\n      <td>167.6</td>\n      <td>night</td>\n    </tr>\n    <tr>\n      <th>...</th>\n      <td>...</td>\n      <td>...</td>\n      <td>...</td>\n      <td>...</td>\n      <td>...</td>\n      <td>...</td>\n      <td>...</td>\n      <td>...</td>\n      <td>...</td>\n      <td>...</td>\n      <td>...</td>\n      <td>...</td>\n      <td>...</td>\n      <td>...</td>\n      <td>...</td>\n      <td>...</td>\n      <td>...</td>\n      <td>...</td>\n      <td>...</td>\n      <td>...</td>\n      <td>...</td>\n    </tr>\n    <tr>\n      <th>2019-12-31 19:00:00</th>\n      <td>202.0</td>\n      <td>239.5</td>\n      <td>245.2</td>\n      <td>243.4</td>\n      <td>264.9</td>\n      <td>223.5</td>\n      <td>256.5</td>\n      <td>195.2</td>\n      <td>226.6</td>\n      <td>238.0</td>\n      <td>...</td>\n      <td>202.4</td>\n      <td>243.4</td>\n      <td>256.2</td>\n      <td>249.8</td>\n      <td>244.6</td>\n      <td>245.6</td>\n      <td>247.1</td>\n      <td>244.6</td>\n      <td>223.6</td>\n      <td>night</td>\n    </tr>\n    <tr>\n      <th>2019-12-31 20:00:00</th>\n      <td>230.0</td>\n      <td>258.6</td>\n      <td>296.6</td>\n      <td>265.7</td>\n      <td>286.1</td>\n      <td>255.8</td>\n      <td>279.1</td>\n      <td>226.1</td>\n      <td>262.2</td>\n      <td>264.2</td>\n      <td>...</td>\n      <td>236.5</td>\n      <td>267.4</td>\n      <td>271.5</td>\n      <td>278.9</td>\n      <td>265.7</td>\n      <td>273.3</td>\n      <td>281.5</td>\n      <td>295.3</td>\n      <td>251.0</td>\n      <td>night</td>\n    </tr>\n    <tr>\n      <th>2019-12-31 21:00:00</th>\n      <td>227.4</td>\n      <td>255.2</td>\n      <td>285.1</td>\n      <td>261.2</td>\n      <td>287.7</td>\n      <td>248.5</td>\n      <td>277.0</td>\n      <td>221.2</td>\n      <td>257.0</td>\n      <td>258.5</td>\n      <td>...</td>\n      <td>230.4</td>\n      <td>262.6</td>\n      <td>278.2</td>\n      <td>274.0</td>\n      <td>261.3</td>\n      <td>268.1</td>\n      <td>274.7</td>\n      <td>283.7</td>\n      <td>249.8</td>\n      <td>night</td>\n    </tr>\n    <tr>\n      <th>2019-12-31 22:00:00</th>\n      <td>177.0</td>\n      <td>186.6</td>\n      <td>225.3</td>\n      <td>200.2</td>\n      <td>196.1</td>\n      <td>220.1</td>\n      <td>195.7</td>\n      <td>181.6</td>\n      <td>197.9</td>\n      <td>214.2</td>\n      <td>...</td>\n      <td>190.3</td>\n      <td>200.4</td>\n      <td>187.2</td>\n      <td>203.3</td>\n      <td>201.0</td>\n      <td>203.0</td>\n      <td>211.4</td>\n      <td>227.2</td>\n      <td>185.3</td>\n      <td>night</td>\n    </tr>\n    <tr>\n      <th>2019-12-31 23:00:00</th>\n      <td>165.0</td>\n      <td>179.9</td>\n      <td>210.9</td>\n      <td>194.2</td>\n      <td>180.4</td>\n      <td>209.4</td>\n      <td>182.9</td>\n      <td>169.7</td>\n      <td>184.4</td>\n      <td>206.7</td>\n      <td>...</td>\n      <td>177.9</td>\n      <td>193.1</td>\n      <td>171.6</td>\n      <td>191.9</td>\n      <td>195.9</td>\n      <td>193.5</td>\n      <td>200.3</td>\n      <td>213.9</td>\n      <td>172.2</td>\n      <td>night</td>\n    </tr>\n  </tbody>\n</table>\n<p>8760 rows × 31 columns</p>\n</div>"
     },
     "execution_count": 78,
     "metadata": {},
     "output_type": "execute_result"
    }
   ],
   "source": [
    "timeseries['2019'].join(sun_time_series)\n",
    "\n",
    "\n"
   ],
   "metadata": {
    "collapsed": false,
    "pycharm": {
     "name": "#%%\n"
    }
   }
  }
 ],
 "metadata": {
  "kernelspec": {
   "display_name": "Python 3",
   "language": "python",
   "name": "python3"
  },
  "language_info": {
   "codemirror_mode": {
    "name": "ipython",
    "version": 2
   },
   "file_extension": ".py",
   "mimetype": "text/x-python",
   "name": "python",
   "nbconvert_exporter": "python",
   "pygments_lexer": "ipython2",
   "version": "2.7.6"
  }
 },
 "nbformat": 4,
 "nbformat_minor": 0
}