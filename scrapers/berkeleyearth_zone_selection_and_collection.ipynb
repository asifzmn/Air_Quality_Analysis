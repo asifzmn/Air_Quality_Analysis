{
 "cells": [
  {
   "cell_type": "markdown",
   "source": [
    "# List all zones that fall under a country"
   ],
   "metadata": {
    "collapsed": false
   }
  },
  {
   "cell_type": "code",
   "execution_count": 1,
   "metadata": {
    "collapsed": true,
    "pycharm": {
     "name": "#%%\n"
    }
   },
   "outputs": [],
   "source": [
    "from selenium.webdriver.common.by import By\n",
    "from selenium.webdriver.support import expected_conditions\n",
    "from selenium.webdriver.support.wait import WebDriverWait\n",
    "\n",
    "from paths import berkeley_earth_dataset_url\n",
    "from scrapers import prepare_firefox_driver\n",
    "import pandas as pd\n",
    "import numpy as np\n",
    "\n",
    "zone_data = pd.DataFrame(columns=['Country','Division','Zone'])\n",
    "\n",
    "countries = [\"Bangladesh\",\"India\",\"Myanmar\",\"Nepal\",\"Bhutan\"]"
   ]
  },
  {
   "cell_type": "code",
   "execution_count": 2,
   "outputs": [],
   "source": [
    "driver = prepare_firefox_driver()"
   ],
   "metadata": {
    "collapsed": false,
    "pycharm": {
     "name": "#%%\n"
    }
   }
  },
  {
   "cell_type": "code",
   "execution_count": 6,
   "outputs": [],
   "source": [
    "country = countries[0]"
   ],
   "metadata": {
    "collapsed": false,
    "pycharm": {
     "name": "#%%\n"
    }
   }
  },
  {
   "cell_type": "code",
   "execution_count": 3,
   "outputs": [
    {
     "ename": "NameError",
     "evalue": "name 'country' is not defined",
     "output_type": "error",
     "traceback": [
      "\u001B[0;31m---------------------------------------------------------------------------\u001B[0m",
      "\u001B[0;31mNameError\u001B[0m                                 Traceback (most recent call last)",
      "\u001B[0;32m<ipython-input-3-d0fb238d8ce7>\u001B[0m in \u001B[0;36m<module>\u001B[0;34m\u001B[0m\n\u001B[0;32m----> 1\u001B[0;31m \u001B[0mberkeleyearth_data_url_country\u001B[0m \u001B[0;34m=\u001B[0m \u001B[0mberkeley_earth_dataset_url\u001B[0m \u001B[0;34m+\u001B[0m \u001B[0mcountry\u001B[0m \u001B[0;34m+\u001B[0m \u001B[0;34m\"/\"\u001B[0m\u001B[0;34m\u001B[0m\u001B[0;34m\u001B[0m\u001B[0m\n\u001B[0m\u001B[1;32m      2\u001B[0m \u001B[0mdriver\u001B[0m\u001B[0;34m.\u001B[0m\u001B[0mget\u001B[0m\u001B[0;34m(\u001B[0m\u001B[0mberkeleyearth_data_url_country\u001B[0m\u001B[0;34m)\u001B[0m\u001B[0;34m\u001B[0m\u001B[0;34m\u001B[0m\u001B[0m\n\u001B[1;32m      3\u001B[0m \u001B[0mlinks\u001B[0m \u001B[0;34m=\u001B[0m \u001B[0mdriver\u001B[0m\u001B[0;34m.\u001B[0m\u001B[0mfind_elements_by_tag_name\u001B[0m\u001B[0;34m(\u001B[0m\u001B[0;34m\"a\"\u001B[0m\u001B[0;34m)\u001B[0m\u001B[0;34m\u001B[0m\u001B[0;34m\u001B[0m\u001B[0m\n\u001B[1;32m      4\u001B[0m \u001B[0mdivisions\u001B[0m \u001B[0;34m=\u001B[0m \u001B[0;34m[\u001B[0m\u001B[0mlink\u001B[0m\u001B[0;34m.\u001B[0m\u001B[0mtext\u001B[0m \u001B[0;32mfor\u001B[0m \u001B[0mlink\u001B[0m \u001B[0;32min\u001B[0m \u001B[0mlinks\u001B[0m \u001B[0;32mif\u001B[0m \u001B[0mlink\u001B[0m\u001B[0;34m.\u001B[0m\u001B[0mtext\u001B[0m\u001B[0;34m.\u001B[0m\u001B[0mendswith\u001B[0m\u001B[0;34m(\u001B[0m\u001B[0;34m\"/\"\u001B[0m\u001B[0;34m)\u001B[0m\u001B[0;34m]\u001B[0m\u001B[0;34m\u001B[0m\u001B[0;34m\u001B[0m\u001B[0m\n\u001B[1;32m      5\u001B[0m \u001B[0mdivisions\u001B[0m\u001B[0;34m\u001B[0m\u001B[0;34m\u001B[0m\u001B[0m\n",
      "\u001B[0;31mNameError\u001B[0m: name 'country' is not defined"
     ]
    }
   ],
   "source": [
    "berkeleyearth_data_url_country = berkeley_earth_dataset_url + country + \"/\"\n",
    "driver.get(berkeleyearth_data_url_country)\n",
    "links = driver.find_elements_by_tag_name(\"a\")\n",
    "divisions = [link.text for link in links if link.text.endswith(\"/\")]\n",
    "divisions"
   ],
   "metadata": {
    "collapsed": false,
    "pycharm": {
     "name": "#%%\n"
    }
   }
  },
  {
   "cell_type": "code",
   "execution_count": 44,
   "outputs": [
    {
     "data": {
      "text/plain": "['Barisal.txt', 'Bhola.txt', 'Pirojpur.txt']"
     },
     "execution_count": 44,
     "metadata": {},
     "output_type": "execute_result"
    }
   ],
   "source": [
    "division = divisions[0]\n",
    "berkeleyearth_data_url_country_area = berkeleyearth_data_url_country + division\n",
    "\n",
    "driver.get(berkeleyearth_data_url_country_area)\n",
    "links = driver.find_elements_by_tag_name(\"a\")\n",
    "candidate_zones = [link.text for link in links if link.text.endswith(\"txt\")]\n",
    "candidate_zones"
   ],
   "metadata": {
    "collapsed": false,
    "pycharm": {
     "name": "#%%\n"
    }
   }
  },
  {
   "cell_type": "code",
   "execution_count": 46,
   "outputs": [],
   "source": [
    "zone = candidate_zones[0]"
   ],
   "metadata": {
    "collapsed": false,
    "pycharm": {
     "name": "#%%\n"
    }
   }
  },
  {
   "cell_type": "code",
   "execution_count": 50,
   "outputs": [],
   "source": [
    "zone_data_length = len(zone_data)\n",
    "zone_data.loc[zone_data_length] = [country,division[:-1],zone[:-4]]"
   ],
   "metadata": {
    "collapsed": false,
    "pycharm": {
     "name": "#%%\n"
    }
   }
  },
  {
   "cell_type": "code",
   "execution_count": 51,
   "outputs": [
    {
     "data": {
      "text/plain": "      Country Division     Zone\n0  Bangladesh  Barisal  Barisal",
      "text/html": "<div>\n<style scoped>\n    .dataframe tbody tr th:only-of-type {\n        vertical-align: middle;\n    }\n\n    .dataframe tbody tr th {\n        vertical-align: top;\n    }\n\n    .dataframe thead th {\n        text-align: right;\n    }\n</style>\n<table border=\"1\" class=\"dataframe\">\n  <thead>\n    <tr style=\"text-align: right;\">\n      <th></th>\n      <th>Country</th>\n      <th>Division</th>\n      <th>Zone</th>\n    </tr>\n  </thead>\n  <tbody>\n    <tr>\n      <th>0</th>\n      <td>Bangladesh</td>\n      <td>Barisal</td>\n      <td>Barisal</td>\n    </tr>\n  </tbody>\n</table>\n</div>"
     },
     "execution_count": 51,
     "metadata": {},
     "output_type": "execute_result"
    }
   ],
   "source": [
    "zone_data"
   ],
   "metadata": {
    "collapsed": false,
    "pycharm": {
     "name": "#%%\n"
    }
   }
  },
  {
   "cell_type": "code",
   "execution_count": 49,
   "outputs": [
    {
     "data": {
      "text/plain": "['Bangladesh', 'Barisal', 'Barisal']"
     },
     "execution_count": 49,
     "metadata": {},
     "output_type": "execute_result"
    }
   ],
   "source": [
    "[country,division[:-1],zone[:-4]]"
   ],
   "metadata": {
    "collapsed": false,
    "pycharm": {
     "name": "#%%\n"
    }
   }
  },
  {
   "cell_type": "code",
   "execution_count": 4,
   "outputs": [],
   "source": [
    "for country in countries[:2]:\n",
    "    berkeleyearth_data_url_country = berkeley_earth_dataset_url + country + \"/\"\n",
    "    driver.get(berkeleyearth_data_url_country)\n",
    "    links = driver.find_elements_by_tag_name(\"a\")\n",
    "    divisions = [link.text for link in links if link.text.endswith(\"/\")]\n",
    "\n",
    "    for division in divisions:\n",
    "        berkeleyearth_data_url_country_area = berkeleyearth_data_url_country + division\n",
    "\n",
    "        driver.get(berkeleyearth_data_url_country_area)\n",
    "        links = driver.find_elements_by_tag_name(\"a\")\n",
    "        candidate_zones = [link.text for link in links if link.text.endswith(\"txt\")]\n",
    "\n",
    "        for zone in candidate_zones:\n",
    "            zone_data_length = len(zone_data)\n",
    "            zone_data.loc[zone_data_length] = [country,division[:-1],zone[:-4]]\n"
   ],
   "metadata": {
    "collapsed": false,
    "pycharm": {
     "name": "#%%\n"
    }
   }
  },
  {
   "cell_type": "code",
   "execution_count": 5,
   "outputs": [
    {
     "data": {
      "text/plain": "        Country     Division         Zone\n0    Bangladesh      Barisal      Barisal\n1    Bangladesh      Barisal        Bhola\n2    Bangladesh      Barisal     Pirojpur\n3    Bangladesh   Chittagong   Chittagong\n4    Bangladesh   Chittagong      Comilla\n..          ...          ...          ...\n944       India  West_Bengal   Shrirampur\n945       India  West_Bengal   Shyamnagar\n946       India  West_Bengal        Siuri\n947       India  West_Bengal     Titagarh\n948       India  West_Bengal  West_Bengal\n\n[949 rows x 3 columns]",
      "text/html": "<div>\n<style scoped>\n    .dataframe tbody tr th:only-of-type {\n        vertical-align: middle;\n    }\n\n    .dataframe tbody tr th {\n        vertical-align: top;\n    }\n\n    .dataframe thead th {\n        text-align: right;\n    }\n</style>\n<table border=\"1\" class=\"dataframe\">\n  <thead>\n    <tr style=\"text-align: right;\">\n      <th></th>\n      <th>Country</th>\n      <th>Division</th>\n      <th>Zone</th>\n    </tr>\n  </thead>\n  <tbody>\n    <tr>\n      <th>0</th>\n      <td>Bangladesh</td>\n      <td>Barisal</td>\n      <td>Barisal</td>\n    </tr>\n    <tr>\n      <th>1</th>\n      <td>Bangladesh</td>\n      <td>Barisal</td>\n      <td>Bhola</td>\n    </tr>\n    <tr>\n      <th>2</th>\n      <td>Bangladesh</td>\n      <td>Barisal</td>\n      <td>Pirojpur</td>\n    </tr>\n    <tr>\n      <th>3</th>\n      <td>Bangladesh</td>\n      <td>Chittagong</td>\n      <td>Chittagong</td>\n    </tr>\n    <tr>\n      <th>4</th>\n      <td>Bangladesh</td>\n      <td>Chittagong</td>\n      <td>Comilla</td>\n    </tr>\n    <tr>\n      <th>...</th>\n      <td>...</td>\n      <td>...</td>\n      <td>...</td>\n    </tr>\n    <tr>\n      <th>944</th>\n      <td>India</td>\n      <td>West_Bengal</td>\n      <td>Shrirampur</td>\n    </tr>\n    <tr>\n      <th>945</th>\n      <td>India</td>\n      <td>West_Bengal</td>\n      <td>Shyamnagar</td>\n    </tr>\n    <tr>\n      <th>946</th>\n      <td>India</td>\n      <td>West_Bengal</td>\n      <td>Siuri</td>\n    </tr>\n    <tr>\n      <th>947</th>\n      <td>India</td>\n      <td>West_Bengal</td>\n      <td>Titagarh</td>\n    </tr>\n    <tr>\n      <th>948</th>\n      <td>India</td>\n      <td>West_Bengal</td>\n      <td>West_Bengal</td>\n    </tr>\n  </tbody>\n</table>\n<p>949 rows × 3 columns</p>\n</div>"
     },
     "execution_count": 5,
     "metadata": {},
     "output_type": "execute_result"
    }
   ],
   "source": [
    "zone_data"
   ],
   "metadata": {
    "collapsed": false,
    "pycharm": {
     "name": "#%%\n"
    }
   }
  },
  {
   "cell_type": "code",
   "execution_count": 53,
   "outputs": [],
   "source": [
    "zone_data.to_csv('bd_and_neighbours_full.csv',index=False)"
   ],
   "metadata": {
    "collapsed": false,
    "pycharm": {
     "name": "#%%\n"
    }
   }
  },
  {
   "cell_type": "code",
   "execution_count": 32,
   "outputs": [
    {
     "data": {
      "text/plain": "     Country     Division        Zone\n0      India        Assam  Bongaigaon\n1      India        Assam     Dhuburi\n2      India        Assam   Dibrugarh\n3      India        Assam       Diphu\n4      India        Assam    Goalpara\n..       ...          ...         ...\n500  Myanmar  Tanintharyi       Myeik\n501  Myanmar       Yangon       Kanbe\n502  Myanmar       Yangon      Syriam\n503  Myanmar       Yangon     Thongwa\n504  Myanmar       Yangon      Yangon\n\n[505 rows x 3 columns]",
      "text/html": "<div>\n<style scoped>\n    .dataframe tbody tr th:only-of-type {\n        vertical-align: middle;\n    }\n\n    .dataframe tbody tr th {\n        vertical-align: top;\n    }\n\n    .dataframe thead th {\n        text-align: right;\n    }\n</style>\n<table border=\"1\" class=\"dataframe\">\n  <thead>\n    <tr style=\"text-align: right;\">\n      <th></th>\n      <th>Country</th>\n      <th>Division</th>\n      <th>Zone</th>\n    </tr>\n  </thead>\n  <tbody>\n    <tr>\n      <th>0</th>\n      <td>India</td>\n      <td>Assam</td>\n      <td>Bongaigaon</td>\n    </tr>\n    <tr>\n      <th>1</th>\n      <td>India</td>\n      <td>Assam</td>\n      <td>Dhuburi</td>\n    </tr>\n    <tr>\n      <th>2</th>\n      <td>India</td>\n      <td>Assam</td>\n      <td>Dibrugarh</td>\n    </tr>\n    <tr>\n      <th>3</th>\n      <td>India</td>\n      <td>Assam</td>\n      <td>Diphu</td>\n    </tr>\n    <tr>\n      <th>4</th>\n      <td>India</td>\n      <td>Assam</td>\n      <td>Goalpara</td>\n    </tr>\n    <tr>\n      <th>...</th>\n      <td>...</td>\n      <td>...</td>\n      <td>...</td>\n    </tr>\n    <tr>\n      <th>500</th>\n      <td>Myanmar</td>\n      <td>Tanintharyi</td>\n      <td>Myeik</td>\n    </tr>\n    <tr>\n      <th>501</th>\n      <td>Myanmar</td>\n      <td>Yangon</td>\n      <td>Kanbe</td>\n    </tr>\n    <tr>\n      <th>502</th>\n      <td>Myanmar</td>\n      <td>Yangon</td>\n      <td>Syriam</td>\n    </tr>\n    <tr>\n      <th>503</th>\n      <td>Myanmar</td>\n      <td>Yangon</td>\n      <td>Thongwa</td>\n    </tr>\n    <tr>\n      <th>504</th>\n      <td>Myanmar</td>\n      <td>Yangon</td>\n      <td>Yangon</td>\n    </tr>\n  </tbody>\n</table>\n<p>505 rows × 3 columns</p>\n</div>"
     },
     "execution_count": 32,
     "metadata": {},
     "output_type": "execute_result"
    }
   ],
   "source": [
    "zone_data = pd.read_csv('bd_and_neighbours.csv')\n",
    "zone_data"
   ],
   "metadata": {
    "collapsed": false,
    "pycharm": {
     "name": "#%%\n"
    }
   }
  },
  {
   "cell_type": "markdown",
   "source": [
    "# Removing area general data to keep only zone specific data"
   ],
   "metadata": {
    "collapsed": false,
    "pycharm": {
     "name": "#%% md\n"
    }
   }
  },
  {
   "cell_type": "code",
   "execution_count": 9,
   "outputs": [
    {
     "data": {
      "text/plain": "        Country                Division                    Zone\n0    Bangladesh                 Barisal                 Barisal\n3    Bangladesh              Chittagong              Chittagong\n17   Bangladesh                   Dhaka                   Dhaka\n30   Bangladesh                  Khulna                  Khulna\n45   Bangladesh                Rajshahi                Rajshahi\n55   Bangladesh                  Sylhet                  Sylhet\n56        India     Andaman_and_Nicobar     Andaman_and_Nicobar\n61        India          Andhra_Pradesh          Andhra_Pradesh\n117       India       Arunachal_Pradesh       Arunachal_Pradesh\n118       India                   Assam                   Assam\n141       India                   Bihar                   Bihar\n174       India              Chandigarh              Chandigarh\n179       India            Chhattisgarh            Chhattisgarh\n188       India  Dadra_and_Nagar_Haveli  Dadra_and_Nagar_Haveli\n189       India           Daman_and_Diu           Daman_and_Diu\n190       India                   Delhi                   Delhi\n191       India                     Goa                     Goa\n217       India                 Gujarat                 Gujarat\n260       India                 Haryana                 Haryana\n277       India        Himachal_Pradesh        Himachal_Pradesh\n279       India       Jammu_and_Kashmir       Jammu_and_Kashmir\n289       India               Jharkhand               Jharkhand\n328       India               Karnataka               Karnataka\n365       India                  Kerala                  Kerala\n384       India             Lakshadweep             Lakshadweep\n411       India          Madhya_Pradesh          Madhya_Pradesh\n483       India             Maharashtra             Maharashtra\n524       India                 Manipur                 Manipur\n525       India               Meghalaya               Meghalaya\n530       India                 Mizoram                 Mizoram\n536       India                Nagaland                Nagaland\n557       India                  Orissa                  Orissa\n560       India              Puducherry              Puducherry\n586       India                  Punjab                  Punjab\n632       India               Rajasthan               Rajasthan\n642       India                  Sikkim                  Sikkim\n696       India              Tamil_Nadu              Tamil_Nadu\n756       India                 Tripura                 Tripura\n862       India           Uttar_Pradesh           Uttar_Pradesh\n872       India             Uttaranchal             Uttaranchal\n948       India             West_Bengal             West_Bengal",
      "text/html": "<div>\n<style scoped>\n    .dataframe tbody tr th:only-of-type {\n        vertical-align: middle;\n    }\n\n    .dataframe tbody tr th {\n        vertical-align: top;\n    }\n\n    .dataframe thead th {\n        text-align: right;\n    }\n</style>\n<table border=\"1\" class=\"dataframe\">\n  <thead>\n    <tr style=\"text-align: right;\">\n      <th></th>\n      <th>Country</th>\n      <th>Division</th>\n      <th>Zone</th>\n    </tr>\n  </thead>\n  <tbody>\n    <tr>\n      <th>0</th>\n      <td>Bangladesh</td>\n      <td>Barisal</td>\n      <td>Barisal</td>\n    </tr>\n    <tr>\n      <th>3</th>\n      <td>Bangladesh</td>\n      <td>Chittagong</td>\n      <td>Chittagong</td>\n    </tr>\n    <tr>\n      <th>17</th>\n      <td>Bangladesh</td>\n      <td>Dhaka</td>\n      <td>Dhaka</td>\n    </tr>\n    <tr>\n      <th>30</th>\n      <td>Bangladesh</td>\n      <td>Khulna</td>\n      <td>Khulna</td>\n    </tr>\n    <tr>\n      <th>45</th>\n      <td>Bangladesh</td>\n      <td>Rajshahi</td>\n      <td>Rajshahi</td>\n    </tr>\n    <tr>\n      <th>55</th>\n      <td>Bangladesh</td>\n      <td>Sylhet</td>\n      <td>Sylhet</td>\n    </tr>\n    <tr>\n      <th>56</th>\n      <td>India</td>\n      <td>Andaman_and_Nicobar</td>\n      <td>Andaman_and_Nicobar</td>\n    </tr>\n    <tr>\n      <th>61</th>\n      <td>India</td>\n      <td>Andhra_Pradesh</td>\n      <td>Andhra_Pradesh</td>\n    </tr>\n    <tr>\n      <th>117</th>\n      <td>India</td>\n      <td>Arunachal_Pradesh</td>\n      <td>Arunachal_Pradesh</td>\n    </tr>\n    <tr>\n      <th>118</th>\n      <td>India</td>\n      <td>Assam</td>\n      <td>Assam</td>\n    </tr>\n    <tr>\n      <th>141</th>\n      <td>India</td>\n      <td>Bihar</td>\n      <td>Bihar</td>\n    </tr>\n    <tr>\n      <th>174</th>\n      <td>India</td>\n      <td>Chandigarh</td>\n      <td>Chandigarh</td>\n    </tr>\n    <tr>\n      <th>179</th>\n      <td>India</td>\n      <td>Chhattisgarh</td>\n      <td>Chhattisgarh</td>\n    </tr>\n    <tr>\n      <th>188</th>\n      <td>India</td>\n      <td>Dadra_and_Nagar_Haveli</td>\n      <td>Dadra_and_Nagar_Haveli</td>\n    </tr>\n    <tr>\n      <th>189</th>\n      <td>India</td>\n      <td>Daman_and_Diu</td>\n      <td>Daman_and_Diu</td>\n    </tr>\n    <tr>\n      <th>190</th>\n      <td>India</td>\n      <td>Delhi</td>\n      <td>Delhi</td>\n    </tr>\n    <tr>\n      <th>191</th>\n      <td>India</td>\n      <td>Goa</td>\n      <td>Goa</td>\n    </tr>\n    <tr>\n      <th>217</th>\n      <td>India</td>\n      <td>Gujarat</td>\n      <td>Gujarat</td>\n    </tr>\n    <tr>\n      <th>260</th>\n      <td>India</td>\n      <td>Haryana</td>\n      <td>Haryana</td>\n    </tr>\n    <tr>\n      <th>277</th>\n      <td>India</td>\n      <td>Himachal_Pradesh</td>\n      <td>Himachal_Pradesh</td>\n    </tr>\n    <tr>\n      <th>279</th>\n      <td>India</td>\n      <td>Jammu_and_Kashmir</td>\n      <td>Jammu_and_Kashmir</td>\n    </tr>\n    <tr>\n      <th>289</th>\n      <td>India</td>\n      <td>Jharkhand</td>\n      <td>Jharkhand</td>\n    </tr>\n    <tr>\n      <th>328</th>\n      <td>India</td>\n      <td>Karnataka</td>\n      <td>Karnataka</td>\n    </tr>\n    <tr>\n      <th>365</th>\n      <td>India</td>\n      <td>Kerala</td>\n      <td>Kerala</td>\n    </tr>\n    <tr>\n      <th>384</th>\n      <td>India</td>\n      <td>Lakshadweep</td>\n      <td>Lakshadweep</td>\n    </tr>\n    <tr>\n      <th>411</th>\n      <td>India</td>\n      <td>Madhya_Pradesh</td>\n      <td>Madhya_Pradesh</td>\n    </tr>\n    <tr>\n      <th>483</th>\n      <td>India</td>\n      <td>Maharashtra</td>\n      <td>Maharashtra</td>\n    </tr>\n    <tr>\n      <th>524</th>\n      <td>India</td>\n      <td>Manipur</td>\n      <td>Manipur</td>\n    </tr>\n    <tr>\n      <th>525</th>\n      <td>India</td>\n      <td>Meghalaya</td>\n      <td>Meghalaya</td>\n    </tr>\n    <tr>\n      <th>530</th>\n      <td>India</td>\n      <td>Mizoram</td>\n      <td>Mizoram</td>\n    </tr>\n    <tr>\n      <th>536</th>\n      <td>India</td>\n      <td>Nagaland</td>\n      <td>Nagaland</td>\n    </tr>\n    <tr>\n      <th>557</th>\n      <td>India</td>\n      <td>Orissa</td>\n      <td>Orissa</td>\n    </tr>\n    <tr>\n      <th>560</th>\n      <td>India</td>\n      <td>Puducherry</td>\n      <td>Puducherry</td>\n    </tr>\n    <tr>\n      <th>586</th>\n      <td>India</td>\n      <td>Punjab</td>\n      <td>Punjab</td>\n    </tr>\n    <tr>\n      <th>632</th>\n      <td>India</td>\n      <td>Rajasthan</td>\n      <td>Rajasthan</td>\n    </tr>\n    <tr>\n      <th>642</th>\n      <td>India</td>\n      <td>Sikkim</td>\n      <td>Sikkim</td>\n    </tr>\n    <tr>\n      <th>696</th>\n      <td>India</td>\n      <td>Tamil_Nadu</td>\n      <td>Tamil_Nadu</td>\n    </tr>\n    <tr>\n      <th>756</th>\n      <td>India</td>\n      <td>Tripura</td>\n      <td>Tripura</td>\n    </tr>\n    <tr>\n      <th>862</th>\n      <td>India</td>\n      <td>Uttar_Pradesh</td>\n      <td>Uttar_Pradesh</td>\n    </tr>\n    <tr>\n      <th>872</th>\n      <td>India</td>\n      <td>Uttaranchal</td>\n      <td>Uttaranchal</td>\n    </tr>\n    <tr>\n      <th>948</th>\n      <td>India</td>\n      <td>West_Bengal</td>\n      <td>West_Bengal</td>\n    </tr>\n  </tbody>\n</table>\n</div>"
     },
     "execution_count": 9,
     "metadata": {},
     "output_type": "execute_result"
    }
   ],
   "source": [
    "zone_data[zone_data.Division==zone_data.Zone]"
   ],
   "metadata": {
    "collapsed": false,
    "pycharm": {
     "name": "#%%\n"
    }
   }
  },
  {
   "cell_type": "code",
   "execution_count": 10,
   "outputs": [
    {
     "data": {
      "text/plain": "        Country     Division        Zone\n0    Bangladesh      Barisal     Barisal\n1    Bangladesh      Barisal       Bhola\n2    Bangladesh      Barisal    Pirojpur\n3    Bangladesh   Chittagong  Chittagong\n4    Bangladesh   Chittagong     Comilla\n..          ...          ...         ...\n943       India  West_Bengal   Shiliguri\n944       India  West_Bengal  Shrirampur\n945       India  West_Bengal  Shyamnagar\n946       India  West_Bengal       Siuri\n947       India  West_Bengal    Titagarh\n\n[914 rows x 3 columns]",
      "text/html": "<div>\n<style scoped>\n    .dataframe tbody tr th:only-of-type {\n        vertical-align: middle;\n    }\n\n    .dataframe tbody tr th {\n        vertical-align: top;\n    }\n\n    .dataframe thead th {\n        text-align: right;\n    }\n</style>\n<table border=\"1\" class=\"dataframe\">\n  <thead>\n    <tr style=\"text-align: right;\">\n      <th></th>\n      <th>Country</th>\n      <th>Division</th>\n      <th>Zone</th>\n    </tr>\n  </thead>\n  <tbody>\n    <tr>\n      <th>0</th>\n      <td>Bangladesh</td>\n      <td>Barisal</td>\n      <td>Barisal</td>\n    </tr>\n    <tr>\n      <th>1</th>\n      <td>Bangladesh</td>\n      <td>Barisal</td>\n      <td>Bhola</td>\n    </tr>\n    <tr>\n      <th>2</th>\n      <td>Bangladesh</td>\n      <td>Barisal</td>\n      <td>Pirojpur</td>\n    </tr>\n    <tr>\n      <th>3</th>\n      <td>Bangladesh</td>\n      <td>Chittagong</td>\n      <td>Chittagong</td>\n    </tr>\n    <tr>\n      <th>4</th>\n      <td>Bangladesh</td>\n      <td>Chittagong</td>\n      <td>Comilla</td>\n    </tr>\n    <tr>\n      <th>...</th>\n      <td>...</td>\n      <td>...</td>\n      <td>...</td>\n    </tr>\n    <tr>\n      <th>943</th>\n      <td>India</td>\n      <td>West_Bengal</td>\n      <td>Shiliguri</td>\n    </tr>\n    <tr>\n      <th>944</th>\n      <td>India</td>\n      <td>West_Bengal</td>\n      <td>Shrirampur</td>\n    </tr>\n    <tr>\n      <th>945</th>\n      <td>India</td>\n      <td>West_Bengal</td>\n      <td>Shyamnagar</td>\n    </tr>\n    <tr>\n      <th>946</th>\n      <td>India</td>\n      <td>West_Bengal</td>\n      <td>Siuri</td>\n    </tr>\n    <tr>\n      <th>947</th>\n      <td>India</td>\n      <td>West_Bengal</td>\n      <td>Titagarh</td>\n    </tr>\n  </tbody>\n</table>\n<p>914 rows × 3 columns</p>\n</div>"
     },
     "execution_count": 10,
     "metadata": {},
     "output_type": "execute_result"
    }
   ],
   "source": [
    "zone_data_clean = zone_data[(zone_data.Country!='India') | (zone_data.Division!=zone_data.Zone)]\n",
    "zone_data_clean"
   ],
   "metadata": {
    "collapsed": false,
    "pycharm": {
     "name": "#%%\n"
    }
   }
  },
  {
   "cell_type": "markdown",
   "source": [
    "# India has around 900 stations over 29 areas so we sample 3 stations from each states while discarding states with stations in low numbers"
   ],
   "metadata": {
    "collapsed": false,
    "pycharm": {
     "name": "#%% md\n"
    }
   }
  },
  {
   "cell_type": "code",
   "execution_count": 11,
   "outputs": [
    {
     "data": {
      "text/plain": "India         858\nBangladesh     56\nName: Country, dtype: int64"
     },
     "execution_count": 11,
     "metadata": {},
     "output_type": "execute_result"
    }
   ],
   "source": [
    "zone_data_clean.Country.value_counts()"
   ],
   "metadata": {
    "collapsed": false,
    "pycharm": {
     "name": "#%%\n"
    }
   }
  },
  {
   "cell_type": "code",
   "execution_count": 12,
   "outputs": [
    {
     "data": {
      "text/plain": "Uttar_Pradesh       107\nMaharashtra          86\nWest_Bengal          75\nTamil_Nadu           72\nAndhra_Pradesh       59\nKarnataka            55\nGujarat              53\nMadhya_Pradesh       50\nRajasthan            48\nBihar                41\nTelangana            39\nPunjab               31\nHaryana              27\nKerala               23\nOdisha               19\nJharkhand            16\nAssam                13\nChhattisgarh         12\nUttarakhand           7\nKashmir               7\nNagaland              3\nGoa                   3\nNCT                   3\nMeghalaya             2\nPondicherry           2\nMizoram               2\nManipur               1\nTripura               1\nHimachal_Pradesh      1\nName: Division, dtype: int64"
     },
     "execution_count": 12,
     "metadata": {},
     "output_type": "execute_result"
    }
   ],
   "source": [
    "zone_data_clean_india = zone_data_clean[zone_data_clean.Country=='India']\n",
    "zone_data_clean_not_india = zone_data_clean[zone_data_clean.Country!='India']\n",
    "division_value_counts_india = zone_data_clean_india.Division.value_counts()\n",
    "division_value_counts_india"
   ],
   "metadata": {
    "collapsed": false,
    "pycharm": {
     "name": "#%%\n"
    }
   }
  },
  {
   "cell_type": "markdown",
   "source": [
    "# Selection Criteria"
   ],
   "metadata": {
    "collapsed": false
   }
  },
  {
   "cell_type": "markdown",
   "source": [
    "## Random Selection"
   ],
   "metadata": {
    "collapsed": false,
    "pycharm": {
     "name": "#%% md\n"
    }
   }
  },
  {
   "cell_type": "code",
   "execution_count": null,
   "outputs": [],
   "source": [
    "# zone_data_clean_india.groupby('Division').apply(lambda x: x.sample(frac=.1) if len(x)>10 else x)"
   ],
   "metadata": {
    "collapsed": false,
    "pycharm": {
     "name": "#%%\n"
    }
   }
  },
  {
   "cell_type": "code",
   "execution_count": null,
   "outputs": [],
   "source": [
    "infrequent_division_value_counts_india = division_value_counts_india[division_value_counts_india<3]"
   ],
   "metadata": {
    "collapsed": false,
    "pycharm": {
     "name": "#%%\n"
    }
   }
  },
  {
   "cell_type": "code",
   "execution_count": 20,
   "outputs": [
    {
     "data": {
      "text/plain": "Pondicherry         2\nMizoram             2\nMeghalaya           2\nTripura             1\nHimachal_Pradesh    1\nManipur             1\nName: Division, dtype: int64"
     },
     "execution_count": 20,
     "metadata": {},
     "output_type": "execute_result"
    }
   ],
   "source": [
    "infrequent_division_value_counts_india"
   ],
   "metadata": {
    "collapsed": false,
    "pycharm": {
     "name": "#%%\n"
    }
   }
  },
  {
   "cell_type": "code",
   "execution_count": 47,
   "outputs": [
    {
     "data": {
      "text/plain": "    Country        Division        Zone\n89    India  Andhra_Pradesh     Nandyal\n59    India  Andhra_Pradesh  Anakapalle\n114   India  Andhra_Pradesh   Vinukonda\n121   India           Assam   Dibrugarh\n119   India           Assam  Bongaigaon\n..      ...             ...         ...\n871   India     Uttarakhand     Roorkee\n869   India     Uttarakhand    Ramnagar\n896   India     West_Bengal     Dhulian\n908   India     West_Bengal    Islampur\n944   India     West_Bengal  Shrirampur\n\n[69 rows x 3 columns]",
      "text/html": "<div>\n<style scoped>\n    .dataframe tbody tr th:only-of-type {\n        vertical-align: middle;\n    }\n\n    .dataframe tbody tr th {\n        vertical-align: top;\n    }\n\n    .dataframe thead th {\n        text-align: right;\n    }\n</style>\n<table border=\"1\" class=\"dataframe\">\n  <thead>\n    <tr style=\"text-align: right;\">\n      <th></th>\n      <th>Country</th>\n      <th>Division</th>\n      <th>Zone</th>\n    </tr>\n  </thead>\n  <tbody>\n    <tr>\n      <th>89</th>\n      <td>India</td>\n      <td>Andhra_Pradesh</td>\n      <td>Nandyal</td>\n    </tr>\n    <tr>\n      <th>59</th>\n      <td>India</td>\n      <td>Andhra_Pradesh</td>\n      <td>Anakapalle</td>\n    </tr>\n    <tr>\n      <th>114</th>\n      <td>India</td>\n      <td>Andhra_Pradesh</td>\n      <td>Vinukonda</td>\n    </tr>\n    <tr>\n      <th>121</th>\n      <td>India</td>\n      <td>Assam</td>\n      <td>Dibrugarh</td>\n    </tr>\n    <tr>\n      <th>119</th>\n      <td>India</td>\n      <td>Assam</td>\n      <td>Bongaigaon</td>\n    </tr>\n    <tr>\n      <th>...</th>\n      <td>...</td>\n      <td>...</td>\n      <td>...</td>\n    </tr>\n    <tr>\n      <th>871</th>\n      <td>India</td>\n      <td>Uttarakhand</td>\n      <td>Roorkee</td>\n    </tr>\n    <tr>\n      <th>869</th>\n      <td>India</td>\n      <td>Uttarakhand</td>\n      <td>Ramnagar</td>\n    </tr>\n    <tr>\n      <th>896</th>\n      <td>India</td>\n      <td>West_Bengal</td>\n      <td>Dhulian</td>\n    </tr>\n    <tr>\n      <th>908</th>\n      <td>India</td>\n      <td>West_Bengal</td>\n      <td>Islampur</td>\n    </tr>\n    <tr>\n      <th>944</th>\n      <td>India</td>\n      <td>West_Bengal</td>\n      <td>Shrirampur</td>\n    </tr>\n  </tbody>\n</table>\n<p>69 rows × 3 columns</p>\n</div>"
     },
     "execution_count": 47,
     "metadata": {},
     "output_type": "execute_result"
    }
   ],
   "source": [
    "zone_data_clean_india_frequent = zone_data_clean_india[~zone_data_clean_india.isin(infrequent_division_value_counts_india.index)]\n",
    "zone_data_clean_india_frequent_sample = zone_data_clean_india_frequent.groupby('Division').apply(lambda x: x.sample(3)).droplevel(0)\n",
    "zone_data_clean_india_frequent_sample"
   ],
   "metadata": {
    "collapsed": false,
    "pycharm": {
     "name": "#%%\n"
    }
   }
  },
  {
   "cell_type": "code",
   "execution_count": 34,
   "outputs": [
    {
     "data": {
      "text/plain": "         Country        Division             Zone\n0     Bangladesh         Barisal          Barisal\n1     Bangladesh         Barisal            Bhola\n2     Bangladesh         Barisal         Pirojpur\n3     Bangladesh      Chittagong       Chittagong\n4     Bangladesh      Chittagong          Comilla\n...          ...             ...              ...\n1007       Nepal  Western_Region           Butwal\n1008       Nepal  Western_Region          Pokhara\n1009       Nepal  Western_Region  Siddharthanagar\n1010      Bhutan         Thimphu     Lungtenzampa\n1011      Bhutan         Thimphu          Thimphu\n\n[119 rows x 3 columns]",
      "text/html": "<div>\n<style scoped>\n    .dataframe tbody tr th:only-of-type {\n        vertical-align: middle;\n    }\n\n    .dataframe tbody tr th {\n        vertical-align: top;\n    }\n\n    .dataframe thead th {\n        text-align: right;\n    }\n</style>\n<table border=\"1\" class=\"dataframe\">\n  <thead>\n    <tr style=\"text-align: right;\">\n      <th></th>\n      <th>Country</th>\n      <th>Division</th>\n      <th>Zone</th>\n    </tr>\n  </thead>\n  <tbody>\n    <tr>\n      <th>0</th>\n      <td>Bangladesh</td>\n      <td>Barisal</td>\n      <td>Barisal</td>\n    </tr>\n    <tr>\n      <th>1</th>\n      <td>Bangladesh</td>\n      <td>Barisal</td>\n      <td>Bhola</td>\n    </tr>\n    <tr>\n      <th>2</th>\n      <td>Bangladesh</td>\n      <td>Barisal</td>\n      <td>Pirojpur</td>\n    </tr>\n    <tr>\n      <th>3</th>\n      <td>Bangladesh</td>\n      <td>Chittagong</td>\n      <td>Chittagong</td>\n    </tr>\n    <tr>\n      <th>4</th>\n      <td>Bangladesh</td>\n      <td>Chittagong</td>\n      <td>Comilla</td>\n    </tr>\n    <tr>\n      <th>...</th>\n      <td>...</td>\n      <td>...</td>\n      <td>...</td>\n    </tr>\n    <tr>\n      <th>1007</th>\n      <td>Nepal</td>\n      <td>Western_Region</td>\n      <td>Butwal</td>\n    </tr>\n    <tr>\n      <th>1008</th>\n      <td>Nepal</td>\n      <td>Western_Region</td>\n      <td>Pokhara</td>\n    </tr>\n    <tr>\n      <th>1009</th>\n      <td>Nepal</td>\n      <td>Western_Region</td>\n      <td>Siddharthanagar</td>\n    </tr>\n    <tr>\n      <th>1010</th>\n      <td>Bhutan</td>\n      <td>Thimphu</td>\n      <td>Lungtenzampa</td>\n    </tr>\n    <tr>\n      <th>1011</th>\n      <td>Bhutan</td>\n      <td>Thimphu</td>\n      <td>Thimphu</td>\n    </tr>\n  </tbody>\n</table>\n<p>119 rows × 3 columns</p>\n</div>"
     },
     "execution_count": 34,
     "metadata": {},
     "output_type": "execute_result"
    }
   ],
   "source": [
    "zone_data_clean_not_india"
   ],
   "metadata": {
    "collapsed": false,
    "pycharm": {
     "name": "#%%\n"
    }
   }
  },
  {
   "cell_type": "code",
   "execution_count": null,
   "outputs": [],
   "source": [
    "test_sample_data = pd.concat((zone_data_clean_not_india, zone_data_clean_india_frequent_sample))\n",
    "test_sample_data.to_csv('bd_and_neighbours_india_random.csv', index=False)"
   ],
   "metadata": {
    "collapsed": false,
    "pycharm": {
     "name": "#%%\n"
    }
   }
  },
  {
   "cell_type": "markdown",
   "source": [
    "## Selection Based on the Northern Pollution Prone States of India"
   ],
   "metadata": {
    "collapsed": false,
    "pycharm": {
     "name": "#%% md\n"
    }
   }
  },
  {
   "cell_type": "code",
   "execution_count": 1,
   "outputs": [],
   "source": [
    "india_states_selected = ['Uttar_Pradesh','West_Bengal','Madhya_Pradesh','Bihar',\n",
    "                         'Telangana','Haryana','Odisha','Jharkhand',\n",
    "                         'Chhattisgarh','NCT']"
   ],
   "metadata": {
    "collapsed": false,
    "pycharm": {
     "name": "#%%\n"
    }
   }
  },
  {
   "cell_type": "code",
   "execution_count": 2,
   "outputs": [
    {
     "ename": "NameError",
     "evalue": "name 'zone_data_clean_india' is not defined",
     "output_type": "error",
     "traceback": [
      "\u001B[0;31m---------------------------------------------------------------------------\u001B[0m",
      "\u001B[0;31mNameError\u001B[0m                                 Traceback (most recent call last)",
      "\u001B[0;32m<ipython-input-2-ecc2649e02b3>\u001B[0m in \u001B[0;36m<module>\u001B[0;34m\u001B[0m\n\u001B[0;32m----> 1\u001B[0;31m \u001B[0mzone_data_clean_india_final\u001B[0m \u001B[0;34m=\u001B[0m \u001B[0mzone_data_clean_india\u001B[0m\u001B[0;34m[\u001B[0m\u001B[0mzone_data_clean_india\u001B[0m\u001B[0;34m.\u001B[0m\u001B[0mDivision\u001B[0m\u001B[0;34m.\u001B[0m\u001B[0misin\u001B[0m\u001B[0;34m(\u001B[0m\u001B[0mindia_states_selected\u001B[0m\u001B[0;34m)\u001B[0m\u001B[0;34m]\u001B[0m\u001B[0;34m\u001B[0m\u001B[0;34m\u001B[0m\u001B[0m\n\u001B[0m\u001B[1;32m      2\u001B[0m \u001B[0mzone_data_clean_bangladesh_and_myanmar_final\u001B[0m \u001B[0;34m=\u001B[0m \u001B[0mzone_data_clean_not_india\u001B[0m\u001B[0;34m[\u001B[0m\u001B[0mzone_data_clean_not_india\u001B[0m\u001B[0;34m.\u001B[0m\u001B[0mCountry\u001B[0m\u001B[0;34m.\u001B[0m\u001B[0misin\u001B[0m\u001B[0;34m(\u001B[0m\u001B[0;34m[\u001B[0m\u001B[0;34m\"Bangladesh\"\u001B[0m\u001B[0;34m,\u001B[0m\u001B[0;34m\"Myanmar\"\u001B[0m\u001B[0;34m]\u001B[0m\u001B[0;34m)\u001B[0m\u001B[0;34m]\u001B[0m\u001B[0;34m\u001B[0m\u001B[0;34m\u001B[0m\u001B[0m\n\u001B[1;32m      3\u001B[0m \u001B[0mzone_data_clean_india_final\u001B[0m\u001B[0;34m\u001B[0m\u001B[0;34m\u001B[0m\u001B[0m\n",
      "\u001B[0;31mNameError\u001B[0m: name 'zone_data_clean_india' is not defined"
     ]
    }
   ],
   "source": [
    "zone_data_clean_india_final = zone_data_clean_india[zone_data_clean_india.Division.isin(india_states_selected)]\n",
    "zone_data_clean_bangladesh_and_myanmar_final = zone_data_clean_not_india[zone_data_clean_not_india.Country.isin([\"Bangladesh\",\"Myanmar\"])]\n",
    "zone_data_clean_india_final"
   ],
   "metadata": {
    "collapsed": false,
    "pycharm": {
     "name": "#%%\n"
    }
   }
  },
  {
   "cell_type": "markdown",
   "source": [
    "# Finalizing Dataset"
   ],
   "metadata": {
    "collapsed": false,
    "pycharm": {
     "name": "#%% md\n"
    }
   }
  },
  {
   "cell_type": "code",
   "execution_count": 15,
   "outputs": [
    {
     "data": {
      "text/plain": "        Country          Division           Zone\n119       India             Assam     Bongaigaon\n120       India             Assam        Dhuburi\n121       India             Assam      Dibrugarh\n122       India             Assam          Diphu\n123       India             Assam       Goalpara\n..          ...               ...            ...\n51   Bangladesh  Rangpur_Division        Rangpur\n52   Bangladesh  Rangpur_Division     Thakurgaon\n53   Bangladesh            Sylhet       Habiganj\n54   Bangladesh            Sylhet  Maulavi_Bazar\n55   Bangladesh            Sylhet         Sylhet\n\n[459 rows x 3 columns]",
      "text/html": "<div>\n<style scoped>\n    .dataframe tbody tr th:only-of-type {\n        vertical-align: middle;\n    }\n\n    .dataframe tbody tr th {\n        vertical-align: top;\n    }\n\n    .dataframe thead th {\n        text-align: right;\n    }\n</style>\n<table border=\"1\" class=\"dataframe\">\n  <thead>\n    <tr style=\"text-align: right;\">\n      <th></th>\n      <th>Country</th>\n      <th>Division</th>\n      <th>Zone</th>\n    </tr>\n  </thead>\n  <tbody>\n    <tr>\n      <th>119</th>\n      <td>India</td>\n      <td>Assam</td>\n      <td>Bongaigaon</td>\n    </tr>\n    <tr>\n      <th>120</th>\n      <td>India</td>\n      <td>Assam</td>\n      <td>Dhuburi</td>\n    </tr>\n    <tr>\n      <th>121</th>\n      <td>India</td>\n      <td>Assam</td>\n      <td>Dibrugarh</td>\n    </tr>\n    <tr>\n      <th>122</th>\n      <td>India</td>\n      <td>Assam</td>\n      <td>Diphu</td>\n    </tr>\n    <tr>\n      <th>123</th>\n      <td>India</td>\n      <td>Assam</td>\n      <td>Goalpara</td>\n    </tr>\n    <tr>\n      <th>...</th>\n      <td>...</td>\n      <td>...</td>\n      <td>...</td>\n    </tr>\n    <tr>\n      <th>51</th>\n      <td>Bangladesh</td>\n      <td>Rangpur_Division</td>\n      <td>Rangpur</td>\n    </tr>\n    <tr>\n      <th>52</th>\n      <td>Bangladesh</td>\n      <td>Rangpur_Division</td>\n      <td>Thakurgaon</td>\n    </tr>\n    <tr>\n      <th>53</th>\n      <td>Bangladesh</td>\n      <td>Sylhet</td>\n      <td>Habiganj</td>\n    </tr>\n    <tr>\n      <th>54</th>\n      <td>Bangladesh</td>\n      <td>Sylhet</td>\n      <td>Maulavi_Bazar</td>\n    </tr>\n    <tr>\n      <th>55</th>\n      <td>Bangladesh</td>\n      <td>Sylhet</td>\n      <td>Sylhet</td>\n    </tr>\n  </tbody>\n</table>\n<p>459 rows × 3 columns</p>\n</div>"
     },
     "execution_count": 15,
     "metadata": {},
     "output_type": "execute_result"
    }
   ],
   "source": [
    "test_sample_data = pd.concat((zone_data_clean_india_final,zone_data_clean_bangladesh_and_myanmar_final))\n",
    "test_sample_data"
   ],
   "metadata": {
    "collapsed": false,
    "pycharm": {
     "name": "#%%\n"
    }
   }
  },
  {
   "cell_type": "code",
   "execution_count": 16,
   "outputs": [],
   "source": [
    "test_sample_data.to_csv('bd_and_neighbours.csv',index=False)"
   ],
   "metadata": {
    "collapsed": false,
    "pycharm": {
     "name": "#%%\n"
    }
   }
  },
  {
   "cell_type": "markdown",
   "source": [
    "# File Validation"
   ],
   "metadata": {
    "collapsed": false,
    "pycharm": {
     "name": "#%% md\n"
    }
   }
  },
  {
   "cell_type": "code",
   "execution_count": 27,
   "outputs": [],
   "source": [
    "from paths import raw_data_path\n",
    "from data_preparation import get_common_id\n",
    "import os"
   ],
   "metadata": {
    "collapsed": false,
    "pycharm": {
     "name": "#%%\n"
    }
   }
  },
  {
   "cell_type": "code",
   "execution_count": 24,
   "outputs": [],
   "source": [
    "raw_file_path = raw_data_path+get_common_id()\n",
    "files = pd.Series(os.listdir(raw_file_path))"
   ],
   "metadata": {
    "collapsed": false,
    "pycharm": {
     "name": "#%%\n"
    }
   }
  },
  {
   "cell_type": "code",
   "execution_count": 20,
   "outputs": [
    {
     "data": {
      "text/plain": "0             Maubin\n1           Myingyan\n2               Agra\n3           Adilabad\n4      Jumri_Tilaiya\n           ...      \n494         Lalitpur\n495           Itarsi\n496         Raniganj\n497            Satna\n498    Greater_Noida\nLength: 499, dtype: object"
     },
     "execution_count": 20,
     "metadata": {},
     "output_type": "execute_result"
    }
   ],
   "source": [
    "candidate_zones = files.str[:-4].str.replace('-', ' ')\n",
    "candidate_zones"
   ],
   "metadata": {
    "collapsed": false,
    "pycharm": {
     "name": "#%%\n"
    }
   }
  },
  {
   "cell_type": "code",
   "execution_count": 34,
   "outputs": [
    {
     "data": {
      "text/plain": "     Country     Division        Zone\n0      India        Assam  Bongaigaon\n1      India        Assam     Dhuburi\n2      India        Assam   Dibrugarh\n3      India        Assam       Diphu\n4      India        Assam    Goalpara\n..       ...          ...         ...\n500  Myanmar  Tanintharyi       Myeik\n501  Myanmar       Yangon       Kanbe\n502  Myanmar       Yangon      Syriam\n503  Myanmar       Yangon     Thongwa\n504  Myanmar       Yangon      Yangon\n\n[503 rows x 3 columns]",
      "text/html": "<div>\n<style scoped>\n    .dataframe tbody tr th:only-of-type {\n        vertical-align: middle;\n    }\n\n    .dataframe tbody tr th {\n        vertical-align: top;\n    }\n\n    .dataframe thead th {\n        text-align: right;\n    }\n</style>\n<table border=\"1\" class=\"dataframe\">\n  <thead>\n    <tr style=\"text-align: right;\">\n      <th></th>\n      <th>Country</th>\n      <th>Division</th>\n      <th>Zone</th>\n    </tr>\n  </thead>\n  <tbody>\n    <tr>\n      <th>0</th>\n      <td>India</td>\n      <td>Assam</td>\n      <td>Bongaigaon</td>\n    </tr>\n    <tr>\n      <th>1</th>\n      <td>India</td>\n      <td>Assam</td>\n      <td>Dhuburi</td>\n    </tr>\n    <tr>\n      <th>2</th>\n      <td>India</td>\n      <td>Assam</td>\n      <td>Dibrugarh</td>\n    </tr>\n    <tr>\n      <th>3</th>\n      <td>India</td>\n      <td>Assam</td>\n      <td>Diphu</td>\n    </tr>\n    <tr>\n      <th>4</th>\n      <td>India</td>\n      <td>Assam</td>\n      <td>Goalpara</td>\n    </tr>\n    <tr>\n      <th>...</th>\n      <td>...</td>\n      <td>...</td>\n      <td>...</td>\n    </tr>\n    <tr>\n      <th>500</th>\n      <td>Myanmar</td>\n      <td>Tanintharyi</td>\n      <td>Myeik</td>\n    </tr>\n    <tr>\n      <th>501</th>\n      <td>Myanmar</td>\n      <td>Yangon</td>\n      <td>Kanbe</td>\n    </tr>\n    <tr>\n      <th>502</th>\n      <td>Myanmar</td>\n      <td>Yangon</td>\n      <td>Syriam</td>\n    </tr>\n    <tr>\n      <th>503</th>\n      <td>Myanmar</td>\n      <td>Yangon</td>\n      <td>Thongwa</td>\n    </tr>\n    <tr>\n      <th>504</th>\n      <td>Myanmar</td>\n      <td>Yangon</td>\n      <td>Yangon</td>\n    </tr>\n  </tbody>\n</table>\n<p>503 rows × 3 columns</p>\n</div>"
     },
     "execution_count": 34,
     "metadata": {},
     "output_type": "execute_result"
    }
   ],
   "source": [
    "zone_data[zone_data.Zone.isin(candidate_zones)]"
   ],
   "metadata": {
    "collapsed": false,
    "pycharm": {
     "name": "#%%\n"
    }
   }
  },
  {
   "cell_type": "code",
   "execution_count": 47,
   "outputs": [
    {
     "data": {
      "text/plain": "        Country             Division       Zone\n17        India                Bihar    Bangaon\n33        India                Bihar   Jamalpur\n64        India         Chhattisgarh     Raipur\n74        India              Haryana  Gorakhpur\n250       India        Uttar_Pradesh   Faridpur\n261       India        Uttar_Pradesh  Gorakhpur\n299       India        Uttar_Pradesh  Nawabganj\n336       India          West_Bengal    Bangaon\n414  Bangladesh           Chittagong     Raipur\n421  Bangladesh                Dhaka   Faridpur\n437  Bangladesh  Mymensingh_Division   Jamalpur\n445  Bangladesh             Rajshahi  Nawabganj",
      "text/html": "<div>\n<style scoped>\n    .dataframe tbody tr th:only-of-type {\n        vertical-align: middle;\n    }\n\n    .dataframe tbody tr th {\n        vertical-align: top;\n    }\n\n    .dataframe thead th {\n        text-align: right;\n    }\n</style>\n<table border=\"1\" class=\"dataframe\">\n  <thead>\n    <tr style=\"text-align: right;\">\n      <th></th>\n      <th>Country</th>\n      <th>Division</th>\n      <th>Zone</th>\n    </tr>\n  </thead>\n  <tbody>\n    <tr>\n      <th>17</th>\n      <td>India</td>\n      <td>Bihar</td>\n      <td>Bangaon</td>\n    </tr>\n    <tr>\n      <th>33</th>\n      <td>India</td>\n      <td>Bihar</td>\n      <td>Jamalpur</td>\n    </tr>\n    <tr>\n      <th>64</th>\n      <td>India</td>\n      <td>Chhattisgarh</td>\n      <td>Raipur</td>\n    </tr>\n    <tr>\n      <th>74</th>\n      <td>India</td>\n      <td>Haryana</td>\n      <td>Gorakhpur</td>\n    </tr>\n    <tr>\n      <th>250</th>\n      <td>India</td>\n      <td>Uttar_Pradesh</td>\n      <td>Faridpur</td>\n    </tr>\n    <tr>\n      <th>261</th>\n      <td>India</td>\n      <td>Uttar_Pradesh</td>\n      <td>Gorakhpur</td>\n    </tr>\n    <tr>\n      <th>299</th>\n      <td>India</td>\n      <td>Uttar_Pradesh</td>\n      <td>Nawabganj</td>\n    </tr>\n    <tr>\n      <th>336</th>\n      <td>India</td>\n      <td>West_Bengal</td>\n      <td>Bangaon</td>\n    </tr>\n    <tr>\n      <th>414</th>\n      <td>Bangladesh</td>\n      <td>Chittagong</td>\n      <td>Raipur</td>\n    </tr>\n    <tr>\n      <th>421</th>\n      <td>Bangladesh</td>\n      <td>Dhaka</td>\n      <td>Faridpur</td>\n    </tr>\n    <tr>\n      <th>437</th>\n      <td>Bangladesh</td>\n      <td>Mymensingh_Division</td>\n      <td>Jamalpur</td>\n    </tr>\n    <tr>\n      <th>445</th>\n      <td>Bangladesh</td>\n      <td>Rajshahi</td>\n      <td>Nawabganj</td>\n    </tr>\n  </tbody>\n</table>\n</div>"
     },
     "execution_count": 47,
     "metadata": {},
     "output_type": "execute_result"
    }
   ],
   "source": [
    "zone_data[zone_data.Zone.duplicated(keep=False)]"
   ],
   "metadata": {
    "collapsed": false,
    "pycharm": {
     "name": "#%%\n"
    }
   }
  },
  {
   "cell_type": "markdown",
   "source": [
    "# Selecting files subset"
   ],
   "metadata": {
    "collapsed": false
   }
  },
  {
   "cell_type": "code",
   "execution_count": 47,
   "outputs": [
    {
     "data": {
      "text/plain": "505"
     },
     "execution_count": 47,
     "metadata": {},
     "output_type": "execute_result"
    }
   ],
   "source": [
    "import os\n",
    "from paths import berkeley_earth_data\n",
    "\n",
    "raw_path = berkeley_earth_data + 'raw/bd_and_neighbours'\n",
    "all_zone = os.listdir(raw_path)\n",
    "len(all_zone)"
   ],
   "metadata": {
    "collapsed": false,
    "pycharm": {
     "name": "#%%\n"
    }
   }
  },
  {
   "cell_type": "code",
   "execution_count": 48,
   "outputs": [
    {
     "data": {
      "text/plain": "['Assam_Bongaigaon.txt',\n 'Assam_Dhuburi.txt',\n 'Assam_Dibrugarh.txt',\n 'Assam_Diphu.txt',\n 'Assam_Goalpara.txt',\n 'Assam_Guwahati.txt',\n 'Assam_Jorhat.txt',\n 'Assam_Karimganj.txt',\n 'Assam_North_Lakhimpur.txt',\n 'Assam_Sibsagar.txt',\n 'Assam_Silchar.txt',\n 'Assam_Tezpur.txt',\n 'Assam_Tinsukia.txt',\n 'Bihar_Araria.txt',\n 'Bihar_Arrah.txt',\n 'Bihar_Aurangabad.txt',\n 'Bihar_Bagaha.txt',\n 'Bihar_Bangaon.txt',\n 'Bihar_Baruni.txt',\n 'Bihar_Begusarai.txt',\n 'Bihar_Bettiah.txt',\n 'Bihar_Bhagalpur.txt',\n 'Bihar_Bihar_Sharif.txt',\n 'Bihar_Buxar.txt',\n 'Bihar_Chapra.txt',\n 'Bihar_Darbhanga.txt',\n 'Bihar_Dehri.txt',\n 'Bihar_Dinapore.txt',\n 'Bihar_Dumraon.txt',\n 'Bihar_Gaya.txt',\n 'Bihar_Gopalganj.txt',\n 'Bihar_Hajipur.txt',\n 'Bihar_Jahanabad.txt',\n 'Bihar_Jamalpur.txt',\n 'Bihar_Jamui.txt',\n 'Bihar_Katihar.txt',\n 'Bihar_Khagaul.txt',\n 'Bihar_Kishanganj.txt',\n 'Bihar_Luckeesarai.txt',\n 'Bihar_Madhipura.txt',\n 'Bihar_Madhubani.txt',\n 'Bihar_Masaurhi_Buzurg.txt',\n 'Bihar_Mokameh.txt',\n 'Bihar_Monghyr.txt',\n 'Bihar_Mothihari.txt',\n 'Bihar_Muzaffarpur.txt',\n 'Bihar_Nawada.txt',\n 'Bihar_Patna.txt',\n 'Bihar_Purnia.txt',\n 'Bihar_Saharsa.txt',\n 'Bihar_Samastipur.txt',\n 'Bihar_Sitamarhi.txt',\n 'Bihar_Siwan.txt',\n 'Bihar_Supaul.txt',\n 'Chhattisgarh_Ambikapur.txt',\n 'Chhattisgarh_Bhatapara.txt',\n 'Chhattisgarh_Bhilai.txt',\n 'Chhattisgarh_Bilaspur.txt',\n 'Chhattisgarh_Dhamtari.txt',\n 'Chhattisgarh_Durg.txt',\n 'Chhattisgarh_Jagdalpur.txt',\n 'Chhattisgarh_Korba.txt',\n 'Chhattisgarh_Mahasamund.txt',\n 'Chhattisgarh_Raigarh.txt',\n 'Chhattisgarh_Raipur.txt',\n 'Chhattisgarh_Raj-Nandgaon.txt',\n 'Haryana_Ambala.txt',\n 'Haryana_Bahadurgarh.txt',\n 'Haryana_Bhiwani.txt',\n 'Haryana_Charkhi_Dadri.txt',\n 'Haryana_Dabwali.txt',\n 'Haryana_Faridabad.txt',\n 'Haryana_Fatehabad.txt',\n 'Haryana_Gohana.txt',\n 'Haryana_Gorakhpur.txt',\n 'Haryana_Gurgaon.txt',\n 'Haryana_Hansi.txt',\n 'Haryana_Hisar.txt',\n 'Haryana_Jagadhri.txt',\n 'Haryana_Jind.txt',\n 'Haryana_Kaithal.txt',\n 'Haryana_Karnal.txt',\n 'Haryana_Narnaul.txt',\n 'Haryana_Narwana.txt',\n 'Haryana_Palwal.txt',\n 'Haryana_Panipat.txt',\n 'Haryana_Rewari.txt',\n 'Haryana_Rohtak.txt',\n 'Haryana_Sirsa.txt',\n 'Haryana_Sonipat.txt',\n 'Haryana_Thanesar.txt',\n 'Haryana_Tohana.txt',\n 'Haryana_Yamunanagar.txt',\n 'Jharkhand_Bokaro.txt',\n 'Jharkhand_Chaibasa.txt',\n 'Jharkhand_Chas.txt',\n 'Jharkhand_Daltonganj.txt',\n 'Jharkhand_Dhanbad.txt',\n 'Jharkhand_Giridih.txt',\n 'Jharkhand_Hazaribag.txt',\n 'Jharkhand_Jamshedpur.txt',\n 'Jharkhand_Jharia.txt',\n 'Jharkhand_Jumri_Tilaiya.txt',\n 'Jharkhand_Katras.txt',\n 'Jharkhand_Lohardaga.txt',\n 'Jharkhand_Madhupur.txt',\n 'Jharkhand_Ramgarh.txt',\n 'Jharkhand_Ranchi.txt',\n 'Jharkhand_Sahibganj.txt',\n 'Madhya_Pradesh_Ashoknagar.txt',\n 'Madhya_Pradesh_Balaghat.txt',\n 'Madhya_Pradesh_Basoda.txt',\n 'Madhya_Pradesh_Betul.txt',\n 'Madhya_Pradesh_Bhind.txt',\n 'Madhya_Pradesh_Bhopal.txt',\n 'Madhya_Pradesh_Burhanpur.txt',\n 'Madhya_Pradesh_Chhatarpur.txt',\n 'Madhya_Pradesh_Chhindwara.txt',\n 'Madhya_Pradesh_Dabra.txt',\n 'Madhya_Pradesh_Damoh.txt',\n 'Madhya_Pradesh_Datia.txt',\n 'Madhya_Pradesh_Dewas.txt',\n 'Madhya_Pradesh_Dhar.txt',\n 'Madhya_Pradesh_Etawa.txt',\n 'Madhya_Pradesh_Gohadi.txt',\n 'Madhya_Pradesh_Guna.txt',\n 'Madhya_Pradesh_Gwalior.txt',\n 'Madhya_Pradesh_Harda_Khas.txt',\n 'Madhya_Pradesh_Hoshangabad.txt',\n 'Madhya_Pradesh_Indore.txt',\n 'Madhya_Pradesh_Itarsi.txt',\n 'Madhya_Pradesh_Jabalpur.txt',\n 'Madhya_Pradesh_Jaora.txt',\n 'Madhya_Pradesh_Khandwa.txt',\n 'Madhya_Pradesh_Khargone.txt',\n 'Madhya_Pradesh_Mandsaur.txt',\n 'Madhya_Pradesh_Mandu.txt',\n 'Madhya_Pradesh_Morena.txt',\n 'Madhya_Pradesh_Murwara.txt',\n 'Madhya_Pradesh_Nagda.txt',\n 'Madhya_Pradesh_Pithampur.txt',\n 'Madhya_Pradesh_Punasa.txt',\n 'Madhya_Pradesh_Raghogarh.txt',\n 'Madhya_Pradesh_Ratlam.txt',\n 'Madhya_Pradesh_Rewa.txt',\n 'Madhya_Pradesh_Satna.txt',\n 'Madhya_Pradesh_Saugor.txt',\n 'Madhya_Pradesh_Sehore.txt',\n 'Madhya_Pradesh_Sendhwa.txt',\n 'Madhya_Pradesh_Seoni.txt',\n 'Madhya_Pradesh_Shahdol.txt',\n 'Madhya_Pradesh_Shajapur.txt',\n 'Madhya_Pradesh_Sheopur.txt',\n 'Madhya_Pradesh_Shivpuri.txt',\n 'Madhya_Pradesh_Sidhi.txt',\n 'Madhya_Pradesh_Singrauli.txt',\n 'Madhya_Pradesh_Tikamgarh.txt',\n 'Madhya_Pradesh_Ujjain.txt',\n 'Madhya_Pradesh_Vidisha.txt',\n 'NCT_Delhi.txt',\n 'NCT_Nangloi_Jat.txt',\n 'NCT_New_Delhi.txt',\n 'Odisha_Bada_Barabil.txt',\n 'Odisha_Balangir.txt',\n 'Odisha_Balasore.txt',\n 'Odisha_Barbil.txt',\n 'Odisha_Bargarh.txt',\n 'Odisha_Bhadrakh.txt',\n 'Odisha_Bhawanipatna.txt',\n 'Odisha_Bhubaneshwar.txt',\n 'Odisha_Brahmapur.txt',\n 'Odisha_Brajarajnagar.txt',\n 'Odisha_Cuttack.txt',\n 'Odisha_Dhenkanal.txt',\n 'Odisha_Jatani.txt',\n 'Odisha_Jeypore.txt',\n 'Odisha_Jharsuguda.txt',\n 'Odisha_Nowrangapur.txt',\n 'Odisha_Paradip_Garh.txt',\n 'Odisha_Puri.txt',\n 'Odisha_Sambalpur.txt',\n 'Telangana_Adilabad.txt',\n 'Telangana_Bellampalli.txt',\n 'Telangana_Bhongir.txt',\n 'Telangana_Bodhan.txt',\n 'Telangana_Gaddi_Annaram.txt',\n 'Telangana_Gadwal.txt',\n 'Telangana_Hyderabad.txt',\n 'Telangana_Jagtial.txt',\n 'Telangana_Kamareddi.txt',\n 'Telangana_Karimnagar.txt',\n 'Telangana_Khammam.txt',\n 'Telangana_Kodar.txt',\n 'Telangana_Koratla.txt',\n 'Telangana_Kottagudem.txt',\n 'Telangana_Kukatpalli.txt',\n 'Telangana_Lal_Bahadur_Nagar.txt',\n 'Telangana_Mahbubnagar.txt',\n 'Telangana_Malkajgiri.txt',\n 'Telangana_Mancheral.txt',\n 'Telangana_Mandamarri.txt',\n 'Telangana_Mirialguda.txt',\n 'Telangana_Nalgonda.txt',\n 'Telangana_Nirmal.txt',\n 'Telangana_Nizamabad.txt',\n 'Telangana_Paloncha.txt',\n 'Telangana_Palwancha.txt',\n 'Telangana_Quthbullapur.txt',\n 'Telangana_Ramagundam.txt',\n 'Telangana_Ramgundam.txt',\n 'Telangana_Sangareddi.txt',\n 'Telangana_Secunderabad.txt',\n 'Telangana_Serilingampalle.txt',\n 'Telangana_Siddipet.txt',\n 'Telangana_Sirsilla.txt',\n 'Telangana_Suriapet.txt',\n 'Telangana_Tandur.txt',\n 'Telangana_Uppal_Kalan.txt',\n 'Telangana_Wanparti.txt',\n 'Telangana_Warangal.txt',\n 'Tripura_Agartala.txt',\n 'Uttar_Pradesh_Agra.txt',\n 'Uttar_Pradesh_Ajodhya.txt',\n 'Uttar_Pradesh_Aligarh.txt',\n 'Uttar_Pradesh_Allahabad.txt',\n 'Uttar_Pradesh_Amroha.txt',\n 'Uttar_Pradesh_Aonla.txt',\n 'Uttar_Pradesh_Auraiya.txt',\n 'Uttar_Pradesh_Azamgarh.txt',\n 'Uttar_Pradesh_Baheri.txt',\n 'Uttar_Pradesh_Bahraigh.txt',\n 'Uttar_Pradesh_Balrampur.txt',\n 'Uttar_Pradesh_Banda.txt',\n 'Uttar_Pradesh_Baraut.txt',\n 'Uttar_Pradesh_Bareilly.txt',\n 'Uttar_Pradesh_Basti.txt',\n 'Uttar_Pradesh_Bela.txt',\n 'Uttar_Pradesh_Bhadohi.txt',\n 'Uttar_Pradesh_Bijnor.txt',\n 'Uttar_Pradesh_Bisalpur.txt',\n 'Uttar_Pradesh_Biswan.txt',\n 'Uttar_Pradesh_Budaun.txt',\n 'Uttar_Pradesh_Bulandshahr.txt',\n 'Uttar_Pradesh_Chandpur.txt',\n 'Uttar_Pradesh_Chanduasi.txt',\n 'Uttar_Pradesh_Chhibramau.txt',\n 'Uttar_Pradesh_Dadri.txt',\n 'Uttar_Pradesh_Deoband.txt',\n 'Uttar_Pradesh_Deoria.txt',\n 'Uttar_Pradesh_Etawah.txt',\n 'Uttar_Pradesh_Faridpur.txt',\n 'Uttar_Pradesh_Farrukhabad.txt',\n 'Uttar_Pradesh_Fatehpur.txt',\n 'Uttar_Pradesh_Firozabad.txt',\n 'Uttar_Pradesh_Fyzabad.txt',\n 'Uttar_Pradesh_Gajraula.txt',\n 'Uttar_Pradesh_Gangoh.txt',\n 'Uttar_Pradesh_Ghaziabad.txt',\n 'Uttar_Pradesh_Ghazipur.txt',\n 'Uttar_Pradesh_Gola_Gokarannath.txt',\n 'Uttar_Pradesh_Gonda_City.txt',\n 'Uttar_Pradesh_Gorakhpur.txt',\n 'Uttar_Pradesh_Greater_Noida.txt',\n 'Uttar_Pradesh_Hapur.txt',\n 'Uttar_Pradesh_Hardoi.txt',\n 'Uttar_Pradesh_Hasanpur.txt',\n 'Uttar_Pradesh_Hathras.txt',\n 'Uttar_Pradesh_Jahangirabad.txt',\n 'Uttar_Pradesh_Jalaun.txt',\n 'Uttar_Pradesh_Jaunpur.txt',\n 'Uttar_Pradesh_Jhansi.txt',\n 'Uttar_Pradesh_Kairana.txt',\n 'Uttar_Pradesh_Kannauj.txt',\n 'Uttar_Pradesh_Kanpur.txt',\n 'Uttar_Pradesh_Kasganj.txt',\n 'Uttar_Pradesh_Khatauli.txt',\n 'Uttar_Pradesh_Khurja.txt',\n 'Uttar_Pradesh_Kiratpur.txt',\n 'Uttar_Pradesh_Konch.txt',\n 'Uttar_Pradesh_Kosi.txt',\n 'Uttar_Pradesh_Laharpur.txt',\n 'Uttar_Pradesh_Lakhimpur.txt',\n 'Uttar_Pradesh_Lalitpur.txt',\n 'Uttar_Pradesh_Loni.txt',\n 'Uttar_Pradesh_Lucknow.txt',\n 'Uttar_Pradesh_Mahoba.txt',\n 'Uttar_Pradesh_Mainpuri.txt',\n 'Uttar_Pradesh_Mathura.txt',\n 'Uttar_Pradesh_Mau.txt',\n 'Uttar_Pradesh_Mawana.txt',\n 'Uttar_Pradesh_Meerut.txt',\n 'Uttar_Pradesh_Mirzapur.txt',\n 'Uttar_Pradesh_Moradabad.txt',\n 'Uttar_Pradesh_Mubarakpur.txt',\n 'Uttar_Pradesh_Mughal_Sarai.txt',\n 'Uttar_Pradesh_Muradnagar.txt',\n 'Uttar_Pradesh_Muzaffarnagar.txt',\n 'Uttar_Pradesh_Nagina.txt',\n 'Uttar_Pradesh_Najibabad.txt',\n 'Uttar_Pradesh_Nawabganj.txt',\n 'Uttar_Pradesh_Noida.txt',\n 'Uttar_Pradesh_Obra.txt',\n 'Uttar_Pradesh_Orai.txt',\n 'Uttar_Pradesh_Pilibhit.txt',\n 'Uttar_Pradesh_Pilkhua.txt',\n 'Uttar_Pradesh_Raebareli.txt',\n 'Uttar_Pradesh_Rampur.txt',\n 'Uttar_Pradesh_Rath.txt',\n 'Uttar_Pradesh_Renukut.txt',\n 'Uttar_Pradesh_Saharanpur.txt',\n 'Uttar_Pradesh_Sahaswan.txt',\n 'Uttar_Pradesh_Sambhal.txt',\n 'Uttar_Pradesh_Sandila.txt',\n 'Uttar_Pradesh_Shahabad.txt',\n 'Uttar_Pradesh_Shahjanpur.txt',\n 'Uttar_Pradesh_Shamli.txt',\n 'Uttar_Pradesh_Sherkot.txt',\n 'Uttar_Pradesh_Shikohabad.txt',\n 'Uttar_Pradesh_Sikandarabad.txt',\n 'Uttar_Pradesh_Sitapur.txt',\n 'Uttar_Pradesh_Sultanpur.txt',\n 'Uttar_Pradesh_Tanda.txt',\n 'Uttar_Pradesh_Tilhar.txt',\n 'Uttar_Pradesh_Tundla.txt',\n 'Uttar_Pradesh_Ujhani.txt',\n 'Uttar_Pradesh_Unnao.txt',\n 'Uttar_Pradesh_Varanasi.txt',\n 'Uttar_Pradesh_Vrindavan.txt',\n 'West_Bengal_Arambagh.txt',\n 'West_Bengal_Asansol.txt',\n 'West_Bengal_Ashoknagar_Kalyangarh.txt',\n 'West_Bengal_Baharampur.txt',\n 'West_Bengal_Baidyabati.txt',\n 'West_Bengal_Baj_Baj.txt',\n 'West_Bengal_Bali.txt',\n 'West_Bengal_Balurghat.txt',\n 'West_Bengal_Bangaon.txt',\n 'West_Bengal_Bankra.txt',\n 'West_Bengal_Bankura.txt',\n 'West_Bengal_Bansbaria.txt',\n 'West_Bengal_Barakpur.txt',\n 'West_Bengal_Barasat.txt',\n 'West_Bengal_Barddhaman.txt',\n 'West_Bengal_Bhadreswar.txt',\n 'West_Bengal_Bhatpara.txt',\n 'West_Bengal_Bishnupur.txt',\n 'West_Bengal_Bolpur.txt',\n 'West_Bengal_Chandannagar.txt',\n 'West_Bengal_Contai.txt',\n 'West_Bengal_Dam_Dam.txt',\n 'West_Bengal_Darjiling.txt',\n 'West_Bengal_Dhulian.txt',\n 'West_Bengal_Durgapur.txt',\n 'West_Bengal_Gangarampur.txt',\n 'West_Bengal_Ghatal.txt',\n 'West_Bengal_Gosaba.txt',\n 'West_Bengal_Goyerkata.txt',\n 'West_Bengal_Habra.txt',\n 'West_Bengal_Haldia.txt',\n 'West_Bengal_Halisahar.txt',\n 'West_Bengal_Haora.txt',\n 'West_Bengal_Hugli.txt',\n 'West_Bengal_Ingraj_Bazar.txt',\n 'West_Bengal_Islampur.txt',\n 'West_Bengal_Jaigaon.txt',\n 'West_Bengal_Jalpaiguri.txt',\n 'West_Bengal_Jamuria.txt',\n 'West_Bengal_Jangipur.txt',\n 'West_Bengal_Jhargram.txt',\n 'West_Bengal_Kaliyaganj.txt',\n 'West_Bengal_Kalna.txt',\n 'West_Bengal_Kalyani.txt',\n 'West_Bengal_Kamarhati.txt',\n 'West_Bengal_Kanchrapara.txt',\n 'West_Bengal_Kandi.txt',\n 'West_Bengal_Katoya.txt',\n 'West_Bengal_Kharagpur.txt',\n 'West_Bengal_Khardah.txt',\n 'West_Bengal_Koch_Bihar.txt',\n 'West_Bengal_Kolkata.txt',\n 'West_Bengal_Konnagar.txt',\n 'West_Bengal_Krishnanagar.txt',\n 'West_Bengal_Kultali.txt',\n 'West_Bengal_Kulti.txt',\n 'West_Bengal_Madhyamgram.txt',\n 'West_Bengal_Medinipur.txt',\n 'West_Bengal_Naihati.txt',\n 'West_Bengal_Naksalbari.txt',\n 'West_Bengal_Nangi.txt',\n 'West_Bengal_Navadwip.txt',\n 'West_Bengal_Panihati.txt',\n 'West_Bengal_Puruliya.txt',\n 'West_Bengal_Raiganj.txt',\n 'West_Bengal_Rampur_Hat.txt',\n 'West_Bengal_Ranaghat.txt',\n 'West_Bengal_Raniganj.txt',\n 'West_Bengal_Rishra.txt',\n 'West_Bengal_Shantipur.txt',\n 'West_Bengal_Shiliguri.txt',\n 'West_Bengal_Shrirampur.txt',\n 'West_Bengal_Shyamnagar.txt',\n 'West_Bengal_Siuri.txt',\n 'West_Bengal_Titagarh.txt',\n 'Barisal_Barisal.txt',\n 'Barisal_Bhola.txt',\n 'Barisal_Pirojpur.txt',\n 'Chittagong_Chittagong.txt',\n 'Chittagong_Comilla.txt',\n \"Chittagong_Cox's_Bazar.txt\",\n 'Chittagong_Feni.txt',\n 'Chittagong_Khagrachhari.txt',\n 'Chittagong_Laksham.txt',\n 'Chittagong_Lakshmipur.txt',\n 'Chittagong_Patiya.txt',\n 'Chittagong_Raipur.txt',\n 'Chittagong_Ramganj.txt',\n 'Chittagong_Sandwip.txt',\n 'Chittagong_Satkania.txt',\n 'Dhaka_Azimpur.txt',\n 'Dhaka_Bhairab_Bazar.txt',\n 'Dhaka_Dhaka.txt',\n 'Dhaka_Faridpur.txt',\n 'Dhaka_Kishorganj.txt',\n 'Dhaka_Madaripur.txt',\n 'Dhaka_Nagarpur.txt',\n 'Dhaka_Narayanganj.txt',\n 'Dhaka_Narsingdi.txt',\n 'Dhaka_Palang.txt',\n 'Dhaka_Paltan.txt',\n 'Dhaka_Tangail.txt',\n 'Dhaka_Tungi.txt',\n 'Dhaka_Tungipara.txt',\n 'Khulna_Jessore.txt',\n 'Khulna_Khulna.txt',\n 'Khulna_Kushtia.txt',\n 'Khulna_Narail.txt',\n 'Khulna_Satkhira.txt',\n 'Mymensingh_Division_Jamalpur.txt',\n 'Mymensingh_Division_Mymensingh.txt',\n 'Mymensingh_Division_Netrakona.txt',\n 'Mymensingh_Division_Sarishabari.txt',\n 'Mymensingh_Division_Sherpur.txt',\n 'Rajshahi_Bogra.txt',\n 'Rajshahi_Ishurdi.txt',\n 'Rajshahi_Joypur_Hat.txt',\n 'Rajshahi_Nawabganj.txt',\n 'Rajshahi_Pabna.txt',\n 'Rajshahi_Par_Naogaon.txt',\n 'Rajshahi_Rajshahi.txt',\n 'Rajshahi_Saidpur.txt',\n 'Rajshahi_Shahzadpur.txt',\n 'Rajshahi_Sirajganj.txt',\n 'Rangpur_Division_Dinajpur.txt',\n 'Rangpur_Division_Lalmanirhat.txt',\n 'Rangpur_Division_Rangpur.txt',\n 'Rangpur_Division_Thakurgaon.txt',\n 'Sylhet_Habiganj.txt',\n 'Sylhet_Maulavi_Bazar.txt',\n 'Sylhet_Sylhet.txt']"
     },
     "execution_count": 48,
     "metadata": {},
     "output_type": "execute_result"
    }
   ],
   "source": [
    "candidate_zones = list(test_sample_data.Division + '_' + test_sample_data.Zone + '.txt')\n",
    "candidate_zones"
   ],
   "metadata": {
    "collapsed": false,
    "pycharm": {
     "name": "#%%\n"
    }
   }
  },
  {
   "cell_type": "code",
   "execution_count": 49,
   "outputs": [
    {
     "data": {
      "text/plain": "['Ayeyarwady_Kyaiklat.txt',\n 'Yangon_Thongwa.txt',\n 'Magway_Taungdwingyi.txt',\n 'Tanintharyi_Myeik.txt',\n 'Magway_Minbu.txt',\n 'Mandalay_Meiktila.txt',\n 'Shan_Lashio.txt',\n 'Magway_Thayetmyo.txt',\n 'Magway_Yenangyaung.txt',\n 'Kayin_Hpa-an.txt',\n 'Bago_Tharyarwady.txt',\n 'Sagain_Monywa.txt',\n 'Bago_Bago.txt',\n 'Sagain_Sagaing.txt',\n 'Shan_Taunggyi.txt',\n 'Kachin_Myitkyina.txt',\n 'Mandalay_Mogok.txt',\n 'Shan_Tachilek.txt',\n 'Ayeyarwady_Pathein.txt',\n 'Mon_Mawlamyine.txt',\n 'Magway_Chauk.txt',\n 'Rakhine_Sittwe.txt',\n 'Mandalay_Myingyan.txt',\n 'Ayeyarwady_Maubin.txt',\n 'Mandalay_Yamethin.txt',\n 'Yangon_Kanbe.txt',\n 'Yangon_Syriam.txt',\n 'Tanintharyi_Dawei.txt',\n 'Ayeyarwady_Bogale.txt',\n 'Magway_Myaydo.txt',\n 'Sagain_Shwebo.txt',\n 'Mon_Thaton.txt',\n 'Yangon_Yangon.txt',\n 'Magway_Magway.txt',\n 'Nay_Pyi_Taw_Nay_Pyi_Taw.txt',\n 'Mandalay_Kyaukse.txt',\n 'Ayeyarwady_Pyapon.txt',\n 'Bago_Nyaunglebin.txt',\n 'Nay_Pyi_Taw_Pyinmana.txt',\n 'Mandalay_Mandalay.txt',\n 'Mandalay_Pyin_Oo_Lwin.txt',\n 'Magway_Pakokku.txt',\n 'Bago_Pyay.txt',\n 'Bago_Taungoo.txt',\n 'Mon_Mudon.txt',\n 'Ayeyarwady_Hinthada.txt']"
     },
     "execution_count": 49,
     "metadata": {},
     "output_type": "execute_result"
    }
   ],
   "source": [
    "del_zones = [del_zone for del_zone in all_zone if not del_zone in candidate_zones]\n",
    "del_zones"
   ],
   "metadata": {
    "collapsed": false,
    "pycharm": {
     "name": "#%%\n"
    }
   }
  },
  {
   "cell_type": "code",
   "execution_count": 58,
   "outputs": [
    {
     "name": "stdout",
     "output_type": "stream",
     "text": [
      "/home/asif/Data/Dataset/AQ Dataset/Berkeley Earth Data/raw/bd_and_neighbours/Ayeyarwady_Kyaiklat.txt\n",
      "/home/asif/Data/Dataset/AQ Dataset/Berkeley Earth Data/raw/bd_and_neighbours/Yangon_Thongwa.txt\n",
      "/home/asif/Data/Dataset/AQ Dataset/Berkeley Earth Data/raw/bd_and_neighbours/Magway_Taungdwingyi.txt\n",
      "/home/asif/Data/Dataset/AQ Dataset/Berkeley Earth Data/raw/bd_and_neighbours/Tanintharyi_Myeik.txt\n",
      "/home/asif/Data/Dataset/AQ Dataset/Berkeley Earth Data/raw/bd_and_neighbours/Magway_Minbu.txt\n",
      "/home/asif/Data/Dataset/AQ Dataset/Berkeley Earth Data/raw/bd_and_neighbours/Mandalay_Meiktila.txt\n",
      "/home/asif/Data/Dataset/AQ Dataset/Berkeley Earth Data/raw/bd_and_neighbours/Shan_Lashio.txt\n",
      "/home/asif/Data/Dataset/AQ Dataset/Berkeley Earth Data/raw/bd_and_neighbours/Magway_Thayetmyo.txt\n",
      "/home/asif/Data/Dataset/AQ Dataset/Berkeley Earth Data/raw/bd_and_neighbours/Magway_Yenangyaung.txt\n",
      "/home/asif/Data/Dataset/AQ Dataset/Berkeley Earth Data/raw/bd_and_neighbours/Kayin_Hpa-an.txt\n",
      "/home/asif/Data/Dataset/AQ Dataset/Berkeley Earth Data/raw/bd_and_neighbours/Bago_Tharyarwady.txt\n",
      "/home/asif/Data/Dataset/AQ Dataset/Berkeley Earth Data/raw/bd_and_neighbours/Sagain_Monywa.txt\n",
      "/home/asif/Data/Dataset/AQ Dataset/Berkeley Earth Data/raw/bd_and_neighbours/Bago_Bago.txt\n",
      "/home/asif/Data/Dataset/AQ Dataset/Berkeley Earth Data/raw/bd_and_neighbours/Sagain_Sagaing.txt\n",
      "/home/asif/Data/Dataset/AQ Dataset/Berkeley Earth Data/raw/bd_and_neighbours/Shan_Taunggyi.txt\n",
      "/home/asif/Data/Dataset/AQ Dataset/Berkeley Earth Data/raw/bd_and_neighbours/Kachin_Myitkyina.txt\n",
      "/home/asif/Data/Dataset/AQ Dataset/Berkeley Earth Data/raw/bd_and_neighbours/Mandalay_Mogok.txt\n",
      "/home/asif/Data/Dataset/AQ Dataset/Berkeley Earth Data/raw/bd_and_neighbours/Shan_Tachilek.txt\n",
      "/home/asif/Data/Dataset/AQ Dataset/Berkeley Earth Data/raw/bd_and_neighbours/Ayeyarwady_Pathein.txt\n",
      "/home/asif/Data/Dataset/AQ Dataset/Berkeley Earth Data/raw/bd_and_neighbours/Mon_Mawlamyine.txt\n",
      "/home/asif/Data/Dataset/AQ Dataset/Berkeley Earth Data/raw/bd_and_neighbours/Magway_Chauk.txt\n",
      "/home/asif/Data/Dataset/AQ Dataset/Berkeley Earth Data/raw/bd_and_neighbours/Rakhine_Sittwe.txt\n",
      "/home/asif/Data/Dataset/AQ Dataset/Berkeley Earth Data/raw/bd_and_neighbours/Mandalay_Myingyan.txt\n",
      "/home/asif/Data/Dataset/AQ Dataset/Berkeley Earth Data/raw/bd_and_neighbours/Ayeyarwady_Maubin.txt\n",
      "/home/asif/Data/Dataset/AQ Dataset/Berkeley Earth Data/raw/bd_and_neighbours/Mandalay_Yamethin.txt\n",
      "/home/asif/Data/Dataset/AQ Dataset/Berkeley Earth Data/raw/bd_and_neighbours/Yangon_Kanbe.txt\n",
      "/home/asif/Data/Dataset/AQ Dataset/Berkeley Earth Data/raw/bd_and_neighbours/Yangon_Syriam.txt\n",
      "/home/asif/Data/Dataset/AQ Dataset/Berkeley Earth Data/raw/bd_and_neighbours/Tanintharyi_Dawei.txt\n",
      "/home/asif/Data/Dataset/AQ Dataset/Berkeley Earth Data/raw/bd_and_neighbours/Ayeyarwady_Bogale.txt\n",
      "/home/asif/Data/Dataset/AQ Dataset/Berkeley Earth Data/raw/bd_and_neighbours/Magway_Myaydo.txt\n",
      "/home/asif/Data/Dataset/AQ Dataset/Berkeley Earth Data/raw/bd_and_neighbours/Sagain_Shwebo.txt\n",
      "/home/asif/Data/Dataset/AQ Dataset/Berkeley Earth Data/raw/bd_and_neighbours/Mon_Thaton.txt\n",
      "/home/asif/Data/Dataset/AQ Dataset/Berkeley Earth Data/raw/bd_and_neighbours/Yangon_Yangon.txt\n",
      "/home/asif/Data/Dataset/AQ Dataset/Berkeley Earth Data/raw/bd_and_neighbours/Magway_Magway.txt\n",
      "/home/asif/Data/Dataset/AQ Dataset/Berkeley Earth Data/raw/bd_and_neighbours/Nay_Pyi_Taw_Nay_Pyi_Taw.txt\n",
      "/home/asif/Data/Dataset/AQ Dataset/Berkeley Earth Data/raw/bd_and_neighbours/Mandalay_Kyaukse.txt\n",
      "/home/asif/Data/Dataset/AQ Dataset/Berkeley Earth Data/raw/bd_and_neighbours/Ayeyarwady_Pyapon.txt\n",
      "/home/asif/Data/Dataset/AQ Dataset/Berkeley Earth Data/raw/bd_and_neighbours/Bago_Nyaunglebin.txt\n",
      "/home/asif/Data/Dataset/AQ Dataset/Berkeley Earth Data/raw/bd_and_neighbours/Nay_Pyi_Taw_Pyinmana.txt\n",
      "/home/asif/Data/Dataset/AQ Dataset/Berkeley Earth Data/raw/bd_and_neighbours/Mandalay_Mandalay.txt\n",
      "/home/asif/Data/Dataset/AQ Dataset/Berkeley Earth Data/raw/bd_and_neighbours/Mandalay_Pyin_Oo_Lwin.txt\n",
      "/home/asif/Data/Dataset/AQ Dataset/Berkeley Earth Data/raw/bd_and_neighbours/Magway_Pakokku.txt\n",
      "/home/asif/Data/Dataset/AQ Dataset/Berkeley Earth Data/raw/bd_and_neighbours/Bago_Pyay.txt\n",
      "/home/asif/Data/Dataset/AQ Dataset/Berkeley Earth Data/raw/bd_and_neighbours/Bago_Taungoo.txt\n",
      "/home/asif/Data/Dataset/AQ Dataset/Berkeley Earth Data/raw/bd_and_neighbours/Mon_Mudon.txt\n",
      "/home/asif/Data/Dataset/AQ Dataset/Berkeley Earth Data/raw/bd_and_neighbours/Ayeyarwady_Hinthada.txt\n"
     ]
    }
   ],
   "source": [
    "for del_zone in del_zones:\n",
    "    del_zone_path = raw_path+'/'+del_zone\n",
    "    print(del_zone_path)\n",
    "    # os.remove(del_zone_path)"
   ],
   "metadata": {
    "collapsed": false,
    "pycharm": {
     "name": "#%%\n"
    }
   }
  },
  {
   "cell_type": "markdown",
   "source": [
    "# Collecting URLs for Western States of USA"
   ],
   "metadata": {
    "collapsed": false
   }
  },
  {
   "cell_type": "code",
   "execution_count": 9,
   "outputs": [],
   "source": [
    "us_states = [\"Washington\",\"Oregon\",\"California\",\"Idaho\",\"Nevada\",\"Montana\",\"Wyoming\",\"Utah\",\"Arizona\",\"Colorado\",\"New_Mexico\",\"Texas\"]\n",
    "country = 'United_States'"
   ],
   "metadata": {
    "collapsed": false,
    "pycharm": {
     "name": "#%%\n"
    }
   }
  },
  {
   "cell_type": "code",
   "execution_count": 10,
   "outputs": [],
   "source": [
    "berkeleyearth_data_url_country = berkeley_earth_dataset_url + country + \"/\"\n",
    "driver.get(berkeleyearth_data_url_country)"
   ],
   "metadata": {
    "collapsed": false,
    "pycharm": {
     "name": "#%%\n"
    }
   }
  },
  {
   "cell_type": "code",
   "execution_count": 11,
   "outputs": [
    {
     "data": {
      "text/plain": "['Auburn.txt',\n 'Bellevue.txt',\n 'Bellingham.txt',\n 'Burien.txt',\n 'Everett.txt',\n 'Federal_Way.txt',\n 'Kennewick.txt',\n 'Kent.txt',\n 'Kirkland.txt',\n 'Lakewood.txt',\n 'Marysville.txt',\n 'Olympia.txt',\n 'Pasco.txt',\n 'Redmond.txt',\n 'Renton.txt',\n 'Richland.txt',\n 'Sammamish.txt',\n 'Seattle.txt',\n 'Shoreline.txt',\n 'South_Hill.txt',\n 'Spokane.txt',\n 'Spokane_Valley.txt',\n 'Tacoma.txt',\n 'Vancouver.txt',\n 'Washington.txt',\n 'Yakima.txt']"
     },
     "execution_count": 11,
     "metadata": {},
     "output_type": "execute_result"
    }
   ],
   "source": [
    "division = us_states[0]\n",
    "berkeleyearth_data_url_country_area = berkeleyearth_data_url_country + division\n",
    "\n",
    "driver.get(berkeleyearth_data_url_country_area)\n",
    "links = driver.find_elements_by_tag_name(\"a\")\n",
    "candidate_zones = [link.text for link in links if link.text.endswith(\"txt\")]\n",
    "candidate_zones"
   ],
   "metadata": {
    "collapsed": false,
    "pycharm": {
     "name": "#%%\n"
    }
   }
  },
  {
   "cell_type": "code",
   "execution_count": null,
   "outputs": [],
   "source": [],
   "metadata": {
    "collapsed": false,
    "pycharm": {
     "name": "#%%\n"
    }
   }
  },
  {
   "cell_type": "code",
   "execution_count": 12,
   "outputs": [
    {
     "name": "stdout",
     "output_type": "stream",
     "text": [
      "['United_States', 'Washington', 'Auburn']\n",
      "['United_States', 'Washington', 'Bellevue']\n",
      "['United_States', 'Washington', 'Bellingham']\n",
      "['United_States', 'Washington', 'Burien']\n",
      "['United_States', 'Washington', 'Everett']\n",
      "['United_States', 'Washington', 'Federal_Way']\n",
      "['United_States', 'Washington', 'Kennewick']\n",
      "['United_States', 'Washington', 'Kent']\n",
      "['United_States', 'Washington', 'Kirkland']\n",
      "['United_States', 'Washington', 'Lakewood']\n",
      "['United_States', 'Washington', 'Marysville']\n",
      "['United_States', 'Washington', 'Olympia']\n",
      "['United_States', 'Washington', 'Pasco']\n",
      "['United_States', 'Washington', 'Redmond']\n",
      "['United_States', 'Washington', 'Renton']\n",
      "['United_States', 'Washington', 'Richland']\n",
      "['United_States', 'Washington', 'Sammamish']\n",
      "['United_States', 'Washington', 'Seattle']\n",
      "['United_States', 'Washington', 'Shoreline']\n",
      "['United_States', 'Washington', 'South_Hill']\n",
      "['United_States', 'Washington', 'Spokane']\n",
      "['United_States', 'Washington', 'Spokane_Valley']\n",
      "['United_States', 'Washington', 'Tacoma']\n",
      "['United_States', 'Washington', 'Vancouver']\n",
      "['United_States', 'Washington', 'Washington']\n",
      "['United_States', 'Washington', 'Yakima']\n",
      "['United_States', 'Oregon', 'Albany']\n",
      "['United_States', 'Oregon', 'Beaverton']\n",
      "['United_States', 'Oregon', 'Bend']\n",
      "['United_States', 'Oregon', 'Corvallis']\n",
      "['United_States', 'Oregon', 'Eugene']\n",
      "['United_States', 'Oregon', 'Gresham']\n",
      "['United_States', 'Oregon', 'Hillsboro']\n",
      "['United_States', 'Oregon', 'Medford']\n",
      "['United_States', 'Oregon', 'Oregon']\n",
      "['United_States', 'Oregon', 'Portland']\n",
      "['United_States', 'Oregon', 'Salem']\n",
      "['United_States', 'Oregon', 'Springfield']\n",
      "['United_States', 'Oregon', 'Tigard']\n",
      "['United_States', 'California', 'Alameda']\n",
      "['United_States', 'California', 'Alhambra']\n",
      "['United_States', 'California', 'Aliso_Viejo']\n",
      "['United_States', 'California', 'Anaheim']\n",
      "['United_States', 'California', 'Antioch']\n",
      "['United_States', 'California', 'Apple_Valley']\n",
      "['United_States', 'California', 'Arcadia']\n",
      "['United_States', 'California', 'Arden-Arcade']\n",
      "['United_States', 'California', 'Bakersfield']\n",
      "['United_States', 'California', 'Baldwin_Park']\n",
      "['United_States', 'California', 'Bellflower']\n",
      "['United_States', 'California', 'Berkeley']\n",
      "['United_States', 'California', 'Boyle_Heights']\n",
      "['United_States', 'California', 'Brentwood']\n",
      "['United_States', 'California', 'Buena_Park']\n",
      "['United_States', 'California', 'Burbank']\n",
      "['United_States', 'California', 'California']\n",
      "['United_States', 'California', 'Camarillo']\n",
      "['United_States', 'California', 'Canoga_Park']\n",
      "['United_States', 'California', 'Carlsbad']\n",
      "['United_States', 'California', 'Carmichael']\n",
      "['United_States', 'California', 'Carson']\n",
      "['United_States', 'California', 'Castro_Valley']\n",
      "['United_States', 'California', 'Cathedral_City']\n",
      "['United_States', 'California', 'Chico']\n",
      "['United_States', 'California', 'Chino']\n",
      "['United_States', 'California', 'Chino_Hills']\n",
      "['United_States', 'California', 'Chula_Vista']\n",
      "['United_States', 'California', 'Citrus_Heights']\n",
      "['United_States', 'California', 'Clovis']\n",
      "['United_States', 'California', 'Colton']\n",
      "['United_States', 'California', 'Compton']\n",
      "['United_States', 'California', 'Concord']\n",
      "['United_States', 'California', 'Corona']\n",
      "['United_States', 'California', 'Costa_Mesa']\n",
      "['United_States', 'California', 'Cupertino']\n",
      "['United_States', 'California', 'Daly_City']\n",
      "['United_States', 'California', 'Davis']\n",
      "['United_States', 'California', 'Delano']\n",
      "['United_States', 'California', 'Diamond_Bar']\n",
      "['United_States', 'California', 'Downey']\n",
      "['United_States', 'California', 'Dublin']\n",
      "['United_States', 'California', 'East_Los_Angeles']\n",
      "['United_States', 'California', 'Eastvale']\n",
      "['United_States', 'California', 'El_Cajon']\n",
      "['United_States', 'California', 'El_Monte']\n",
      "['United_States', 'California', 'Elk_Grove']\n",
      "['United_States', 'California', 'Encinitas']\n",
      "['United_States', 'California', 'Escondido']\n",
      "['United_States', 'California', 'Fairfield']\n",
      "['United_States', 'California', 'Florence-Graham']\n",
      "['United_States', 'California', 'Folsom']\n",
      "['United_States', 'California', 'Fontana']\n",
      "['United_States', 'California', 'Fountain_Valley']\n",
      "['United_States', 'California', 'Fremont']\n",
      "['United_States', 'California', 'Fresno']\n",
      "['United_States', 'California', 'Fullerton']\n",
      "['United_States', 'California', 'Garden_Grove']\n",
      "['United_States', 'California', 'Gardena']\n",
      "['United_States', 'California', 'Gilroy']\n",
      "['United_States', 'California', 'Glendale']\n",
      "['United_States', 'California', 'Glendora']\n",
      "['United_States', 'California', 'Hacienda_Heights']\n",
      "['United_States', 'California', 'Hanford']\n",
      "['United_States', 'California', 'Hawthorne']\n",
      "['United_States', 'California', 'Hayward']\n",
      "['United_States', 'California', 'Hemet']\n",
      "['United_States', 'California', 'Hesperia']\n",
      "['United_States', 'California', 'Highland']\n",
      "['United_States', 'California', 'Huntington_Beach']\n",
      "['United_States', 'California', 'Huntington_Park']\n",
      "['United_States', 'California', 'Indio']\n",
      "['United_States', 'California', 'Inglewood']\n",
      "['United_States', 'California', 'Irvine']\n",
      "['United_States', 'California', 'La_Habra']\n",
      "['United_States', 'California', 'La_Mesa']\n",
      "['United_States', 'California', 'Laguna_Niguel']\n",
      "['United_States', 'California', 'Lake_Elsinore']\n",
      "['United_States', 'California', 'Lake_Forest']\n",
      "['United_States', 'California', 'Lakewood']\n",
      "['United_States', 'California', 'Lancaster']\n",
      "['United_States', 'California', 'Livermore']\n",
      "['United_States', 'California', 'Lodi']\n",
      "['United_States', 'California', 'Long_Beach']\n",
      "['United_States', 'California', 'Los_Angeles']\n",
      "['United_States', 'California', 'Lynwood']\n",
      "['United_States', 'California', 'Madera']\n",
      "['United_States', 'California', 'Manteca']\n",
      "['United_States', 'California', 'Menifee']\n",
      "['United_States', 'California', 'Merced']\n",
      "['United_States', 'California', 'Milpitas']\n",
      "['United_States', 'California', 'Mira_Mesa']\n",
      "['United_States', 'California', 'Mission_Viejo']\n",
      "['United_States', 'California', 'Modesto']\n",
      "['United_States', 'California', 'Montebello']\n",
      "['United_States', 'California', 'Monterey_Park']\n",
      "['United_States', 'California', 'Moreno_Valley']\n",
      "['United_States', 'California', 'Mountain_View']\n",
      "['United_States', 'California', 'Murrieta']\n",
      "['United_States', 'California', 'Napa']\n",
      "['United_States', 'California', 'National_City']\n",
      "['United_States', 'California', 'Newport_Beach']\n",
      "['United_States', 'California', 'North_Glendale']\n",
      "['United_States', 'California', 'North_Hollywood']\n",
      "['United_States', 'California', 'Northridge']\n",
      "['United_States', 'California', 'Norwalk']\n",
      "['United_States', 'California', 'Novato']\n",
      "['United_States', 'California', 'Oakland']\n",
      "['United_States', 'California', 'Oceanside']\n",
      "['United_States', 'California', 'Ontario']\n",
      "['United_States', 'California', 'Orange']\n",
      "['United_States', 'California', 'Oxnard']\n",
      "['United_States', 'California', 'Oxnard_Shores']\n",
      "['United_States', 'California', 'Palm_Desert']\n",
      "['United_States', 'California', 'Palmdale']\n",
      "['United_States', 'California', 'Palo_Alto']\n",
      "['United_States', 'California', 'Paramount']\n",
      "['United_States', 'California', 'Pasadena']\n",
      "['United_States', 'California', 'Perris']\n",
      "['United_States', 'California', 'Petaluma']\n",
      "['United_States', 'California', 'Pico_Rivera']\n",
      "['United_States', 'California', 'Pittsburg']\n",
      "['United_States', 'California', 'Placentia']\n",
      "['United_States', 'California', 'Pleasanton']\n",
      "['United_States', 'California', 'Pomona']\n",
      "['United_States', 'California', 'Porterville']\n",
      "['United_States', 'California', 'Poway']\n",
      "['United_States', 'California', 'Rancho_Cordova']\n",
      "['United_States', 'California', 'Rancho_Cucamonga']\n",
      "['United_States', 'California', 'Rancho_Penasquitos']\n",
      "['United_States', 'California', 'Redding']\n",
      "['United_States', 'California', 'Redlands']\n",
      "['United_States', 'California', 'Redondo_Beach']\n",
      "['United_States', 'California', 'Redwood_City']\n",
      "['United_States', 'California', 'Rialto']\n",
      "['United_States', 'California', 'Richmond']\n",
      "['United_States', 'California', 'Riverside']\n",
      "['United_States', 'California', 'Rocklin']\n",
      "['United_States', 'California', 'Rosemead']\n",
      "['United_States', 'California', 'Roseville']\n",
      "['United_States', 'California', 'Sacramento']\n",
      "['United_States', 'California', 'Salinas']\n",
      "['United_States', 'California', 'San_Bernardino']\n",
      "['United_States', 'California', 'San_Clemente']\n",
      "['United_States', 'California', 'San_Diego']\n",
      "['United_States', 'California', 'San_Francisco']\n",
      "['United_States', 'California', 'San_Jose']\n",
      "['United_States', 'California', 'San_Leandro']\n",
      "['United_States', 'California', 'San_Marcos']\n",
      "['United_States', 'California', 'San_Mateo']\n",
      "['United_States', 'California', 'San_Pedro']\n",
      "['United_States', 'California', 'San_Rafael']\n",
      "['United_States', 'California', 'San_Ramon']\n",
      "['United_States', 'California', 'Santa_Ana']\n",
      "['United_States', 'California', 'Santa_Barbara']\n",
      "['United_States', 'California', 'Santa_Clara']\n",
      "['United_States', 'California', 'Santa_Clarita']\n",
      "['United_States', 'California', 'Santa_Cruz']\n",
      "['United_States', 'California', 'Santa_Maria']\n",
      "['United_States', 'California', 'Santa_Monica']\n",
      "['United_States', 'California', 'Santa_Rosa']\n",
      "['United_States', 'California', 'Santee']\n",
      "['United_States', 'California', 'Sherman_Oaks']\n",
      "['United_States', 'California', 'Simi_Valley']\n",
      "['United_States', 'California', 'South_Gate']\n",
      "['United_States', 'California', 'South_San_Francisco']\n",
      "['United_States', 'California', 'South_Whittier']\n",
      "['United_States', 'California', 'Stockton']\n",
      "['United_States', 'California', 'Sunnyvale']\n",
      "['United_States', 'California', 'Temecula']\n",
      "['United_States', 'California', 'Thousand_Oaks']\n",
      "['United_States', 'California', 'Torrance']\n",
      "['United_States', 'California', 'Tracy']\n",
      "['United_States', 'California', 'Tulare']\n",
      "['United_States', 'California', 'Turlock']\n",
      "['United_States', 'California', 'Tustin']\n",
      "['United_States', 'California', 'Union_City']\n",
      "['United_States', 'California', 'Universal_City']\n",
      "['United_States', 'California', 'Upland']\n",
      "['United_States', 'California', 'Vacaville']\n",
      "['United_States', 'California', 'Valencia']\n",
      "['United_States', 'California', 'Vallejo']\n",
      "['United_States', 'California', 'Van_Nuys']\n",
      "['United_States', 'California', 'Ventura']\n",
      "['United_States', 'California', 'Victorville']\n",
      "['United_States', 'California', 'Visalia']\n",
      "['United_States', 'California', 'Vista']\n",
      "['United_States', 'California', 'Walnut_Creek']\n",
      "['United_States', 'California', 'Watsonville']\n",
      "['United_States', 'California', 'West_Covina']\n",
      "['United_States', 'California', 'West_Sacramento']\n",
      "['United_States', 'California', 'Westminster']\n",
      "['United_States', 'California', 'Whittier']\n",
      "['United_States', 'California', 'Woodland']\n",
      "['United_States', 'California', 'Woodland_Hills']\n",
      "['United_States', 'California', 'Yorba_Linda']\n",
      "['United_States', 'California', 'Yuba_City']\n",
      "['United_States', 'California', 'Yucaipa']\n",
      "['United_States', 'Idaho', 'Boise']\n",
      "['United_States', 'Idaho', 'Caldwell']\n",
      "['United_States', 'Idaho', 'Idaho']\n",
      "['United_States', 'Idaho', 'Idaho_Falls']\n",
      "['United_States', 'Idaho', 'Meridian']\n",
      "['United_States', 'Idaho', 'Nampa']\n",
      "['United_States', 'Idaho', 'Pocatello']\n",
      "['United_States', 'Nevada', 'Carson_City']\n",
      "['United_States', 'Nevada', 'Enterprise']\n",
      "['United_States', 'Nevada', 'Henderson']\n",
      "['United_States', 'Nevada', 'Las_Vegas']\n",
      "['United_States', 'Nevada', 'Nevada']\n",
      "['United_States', 'Nevada', 'North_Las_Vegas']\n",
      "['United_States', 'Nevada', 'Paradise']\n",
      "['United_States', 'Nevada', 'Reno']\n",
      "['United_States', 'Nevada', 'Sparks']\n",
      "['United_States', 'Nevada', 'Spring_Valley']\n",
      "['United_States', 'Nevada', 'Sunrise_Manor']\n",
      "['United_States', 'Montana', 'Billings']\n",
      "['United_States', 'Montana', 'Great_Falls']\n",
      "['United_States', 'Montana', 'Missoula']\n",
      "['United_States', 'Montana', 'Montana']\n",
      "['United_States', 'Wyoming', 'Casper']\n",
      "['United_States', 'Wyoming', 'Cheyenne']\n",
      "['United_States', 'Wyoming', 'Wyoming']\n",
      "['United_States', 'Utah', 'Layton']\n",
      "['United_States', 'Utah', 'Lehi']\n",
      "['United_States', 'Utah', 'Logan']\n",
      "['United_States', 'Utah', 'Millcreek']\n",
      "['United_States', 'Utah', 'Ogden']\n",
      "['United_States', 'Utah', 'Orem']\n",
      "['United_States', 'Utah', 'Provo']\n",
      "['United_States', 'Utah', 'Saint_George']\n",
      "['United_States', 'Utah', 'Salt_Lake_City']\n",
      "['United_States', 'Utah', 'Sandy']\n",
      "['United_States', 'Utah', 'South_Jordan']\n",
      "['United_States', 'Utah', 'Taylorsville']\n",
      "['United_States', 'Utah', 'Utah']\n",
      "['United_States', 'Utah', 'West_Jordan']\n",
      "['United_States', 'Utah', 'West_Valley_City']\n",
      "['United_States', 'Arizona', 'Arizona']\n",
      "['United_States', 'Arizona', 'Avondale']\n",
      "['United_States', 'Arizona', 'Buckeye']\n",
      "['United_States', 'Arizona', 'Casa_Grande']\n",
      "['United_States', 'Arizona', 'Casas_Adobes']\n",
      "['United_States', 'Arizona', 'Catalina_Foothills']\n",
      "['United_States', 'Arizona', 'Chandler']\n",
      "['United_States', 'Arizona', 'Flagstaff']\n",
      "['United_States', 'Arizona', 'Gilbert']\n",
      "['United_States', 'Arizona', 'Glendale']\n",
      "['United_States', 'Arizona', 'Goodyear']\n",
      "['United_States', 'Arizona', 'Lake_Havasu_City']\n",
      "['United_States', 'Arizona', 'Mesa']\n",
      "['United_States', 'Arizona', 'Peoria']\n",
      "['United_States', 'Arizona', 'Phoenix']\n",
      "['United_States', 'Arizona', 'San_Tan_Valley']\n",
      "['United_States', 'Arizona', 'Scottsdale']\n",
      "['United_States', 'Arizona', 'Surprise']\n",
      "['United_States', 'Arizona', 'Tempe']\n",
      "['United_States', 'Arizona', 'Tempe_Junction']\n",
      "['United_States', 'Arizona', 'Tucson']\n",
      "['United_States', 'Arizona', 'Yuma']\n",
      "['United_States', 'Colorado', 'Arvada']\n",
      "['United_States', 'Colorado', 'Aurora']\n",
      "['United_States', 'Colorado', 'Boulder']\n",
      "['United_States', 'Colorado', 'Broomfield']\n",
      "['United_States', 'Colorado', 'Castle_Rock']\n",
      "['United_States', 'Colorado', 'Centennial']\n",
      "['United_States', 'Colorado', 'Colorado']\n",
      "['United_States', 'Colorado', 'Colorado_Springs']\n",
      "['United_States', 'Colorado', 'Commerce_City']\n",
      "['United_States', 'Colorado', 'Denver']\n",
      "['United_States', 'Colorado', 'Fort_Collins']\n",
      "['United_States', 'Colorado', 'Grand_Junction']\n",
      "['United_States', 'Colorado', 'Greeley']\n",
      "['United_States', 'Colorado', 'Highlands_Ranch']\n",
      "['United_States', 'Colorado', 'Lakewood']\n",
      "['United_States', 'Colorado', 'Longmont']\n",
      "['United_States', 'Colorado', 'Loveland']\n",
      "['United_States', 'Colorado', 'Pueblo']\n",
      "['United_States', 'Colorado', 'Thornton']\n",
      "['United_States', 'Colorado', 'Westminster']\n",
      "['United_States', 'New_Mexico', 'Albuquerque']\n",
      "['United_States', 'New_Mexico', 'Enchanted_Hills']\n",
      "['United_States', 'New_Mexico', 'Las_Cruces']\n",
      "['United_States', 'New_Mexico', 'New_Mexico']\n",
      "['United_States', 'New_Mexico', 'Rio_Rancho']\n",
      "['United_States', 'New_Mexico', 'Santa_Fe']\n",
      "['United_States', 'Texas', 'Abilene']\n",
      "['United_States', 'Texas', 'Allen']\n",
      "['United_States', 'Texas', 'Amarillo']\n",
      "['United_States', 'Texas', 'Arlington']\n",
      "['United_States', 'Texas', 'Atascocita']\n",
      "['United_States', 'Texas', 'Austin']\n",
      "['United_States', 'Texas', 'Baytown']\n",
      "['United_States', 'Texas', 'Beaumont']\n",
      "['United_States', 'Texas', 'Brownsville']\n",
      "['United_States', 'Texas', 'Bryan']\n",
      "['United_States', 'Texas', 'Carrollton']\n",
      "['United_States', 'Texas', 'Cedar_Park']\n",
      "['United_States', 'Texas', 'College_Station']\n",
      "['United_States', 'Texas', 'Conroe']\n",
      "['United_States', 'Texas', 'Corpus_Christi']\n",
      "['United_States', 'Texas', 'Dallas']\n",
      "['United_States', 'Texas', 'DeSoto']\n",
      "['United_States', 'Texas', 'Denton']\n",
      "['United_States', 'Texas', 'Edinburg']\n",
      "['United_States', 'Texas', 'El_Paso']\n",
      "['United_States', 'Texas', 'Euless']\n",
      "['United_States', 'Texas', 'Flower_Mound']\n",
      "['United_States', 'Texas', 'Fort_Worth']\n",
      "['United_States', 'Texas', 'Frisco']\n",
      "['United_States', 'Texas', 'Galveston']\n",
      "['United_States', 'Texas', 'Garland']\n",
      "['United_States', 'Texas', 'Georgetown']\n",
      "['United_States', 'Texas', 'Grand_Prairie']\n",
      "['United_States', 'Texas', 'Grapevine']\n",
      "['United_States', 'Texas', 'Harlingen']\n",
      "['United_States', 'Texas', 'Houston']\n",
      "['United_States', 'Texas', 'Irving']\n",
      "['United_States', 'Texas', 'Killeen']\n",
      "['United_States', 'Texas', 'Laredo']\n",
      "['United_States', 'Texas', 'League_City']\n",
      "['United_States', 'Texas', 'Lewisville']\n",
      "['United_States', 'Texas', 'Longview']\n",
      "['United_States', 'Texas', 'Lubbock']\n",
      "['United_States', 'Texas', 'Mansfield']\n",
      "['United_States', 'Texas', 'McAllen']\n",
      "['United_States', 'Texas', 'McKinney']\n",
      "['United_States', 'Texas', 'Mesquite']\n",
      "['United_States', 'Texas', 'Midland']\n",
      "['United_States', 'Texas', 'Mission']\n",
      "['United_States', 'Texas', 'Missouri_City']\n",
      "['United_States', 'Texas', 'New_Braunfels']\n",
      "['United_States', 'Texas', 'North_Richland_Hills']\n",
      "['United_States', 'Texas', 'Odessa']\n",
      "['United_States', 'Texas', 'Pasadena']\n",
      "['United_States', 'Texas', 'Pearland']\n",
      "['United_States', 'Texas', 'Pflugerville']\n",
      "['United_States', 'Texas', 'Pharr']\n",
      "['United_States', 'Texas', 'Plano']\n",
      "['United_States', 'Texas', 'Port_Arthur']\n",
      "['United_States', 'Texas', 'Richardson']\n",
      "['United_States', 'Texas', 'Round_Rock']\n",
      "['United_States', 'Texas', 'Rowlett']\n",
      "['United_States', 'Texas', 'San_Angelo']\n",
      "['United_States', 'Texas', 'San_Antonio']\n",
      "['United_States', 'Texas', 'San_Marcos']\n",
      "['United_States', 'Texas', 'Spring']\n",
      "['United_States', 'Texas', 'Sugar_Land']\n",
      "['United_States', 'Texas', 'Temple']\n",
      "['United_States', 'Texas', 'Texas']\n",
      "['United_States', 'Texas', 'The_Woodlands']\n",
      "['United_States', 'Texas', 'Tyler']\n",
      "['United_States', 'Texas', 'Victoria']\n",
      "['United_States', 'Texas', 'Waco']\n",
      "['United_States', 'Texas', 'Wichita_Falls']\n"
     ]
    }
   ],
   "source": [
    "for division in us_states[:]:\n",
    "    berkeleyearth_data_url_country_area = berkeleyearth_data_url_country + division\n",
    "\n",
    "    driver.get(berkeleyearth_data_url_country_area)\n",
    "    links = driver.find_elements_by_tag_name(\"a\")\n",
    "    candidate_zones = [link.text for link in links if link.text.endswith(\"txt\")]\n",
    "\n",
    "    for zone in candidate_zones:\n",
    "        zone_data_length = len(zone_data)\n",
    "        print([country,division[:],zone[:-4]])\n",
    "        zone_data.loc[zone_data_length] = [country,division[:],zone[:-4]]"
   ],
   "metadata": {
    "collapsed": false,
    "pycharm": {
     "name": "#%%\n"
    }
   }
  },
  {
   "cell_type": "code",
   "execution_count": 13,
   "outputs": [
    {
     "data": {
      "text/plain": "           Country    Division           Zone\n0    United_States  Washington         Auburn\n1    United_States  Washington       Bellevue\n2    United_States  Washington     Bellingham\n3    United_States  Washington         Burien\n4    United_States  Washington        Everett\n..             ...         ...            ...\n389  United_States       Texas  The_Woodlands\n390  United_States       Texas          Tyler\n391  United_States       Texas       Victoria\n392  United_States       Texas           Waco\n393  United_States       Texas  Wichita_Falls\n\n[394 rows x 3 columns]",
      "text/html": "<div>\n<style scoped>\n    .dataframe tbody tr th:only-of-type {\n        vertical-align: middle;\n    }\n\n    .dataframe tbody tr th {\n        vertical-align: top;\n    }\n\n    .dataframe thead th {\n        text-align: right;\n    }\n</style>\n<table border=\"1\" class=\"dataframe\">\n  <thead>\n    <tr style=\"text-align: right;\">\n      <th></th>\n      <th>Country</th>\n      <th>Division</th>\n      <th>Zone</th>\n    </tr>\n  </thead>\n  <tbody>\n    <tr>\n      <th>0</th>\n      <td>United_States</td>\n      <td>Washington</td>\n      <td>Auburn</td>\n    </tr>\n    <tr>\n      <th>1</th>\n      <td>United_States</td>\n      <td>Washington</td>\n      <td>Bellevue</td>\n    </tr>\n    <tr>\n      <th>2</th>\n      <td>United_States</td>\n      <td>Washington</td>\n      <td>Bellingham</td>\n    </tr>\n    <tr>\n      <th>3</th>\n      <td>United_States</td>\n      <td>Washington</td>\n      <td>Burien</td>\n    </tr>\n    <tr>\n      <th>4</th>\n      <td>United_States</td>\n      <td>Washington</td>\n      <td>Everett</td>\n    </tr>\n    <tr>\n      <th>...</th>\n      <td>...</td>\n      <td>...</td>\n      <td>...</td>\n    </tr>\n    <tr>\n      <th>389</th>\n      <td>United_States</td>\n      <td>Texas</td>\n      <td>The_Woodlands</td>\n    </tr>\n    <tr>\n      <th>390</th>\n      <td>United_States</td>\n      <td>Texas</td>\n      <td>Tyler</td>\n    </tr>\n    <tr>\n      <th>391</th>\n      <td>United_States</td>\n      <td>Texas</td>\n      <td>Victoria</td>\n    </tr>\n    <tr>\n      <th>392</th>\n      <td>United_States</td>\n      <td>Texas</td>\n      <td>Waco</td>\n    </tr>\n    <tr>\n      <th>393</th>\n      <td>United_States</td>\n      <td>Texas</td>\n      <td>Wichita_Falls</td>\n    </tr>\n  </tbody>\n</table>\n<p>394 rows × 3 columns</p>\n</div>"
     },
     "execution_count": 13,
     "metadata": {},
     "output_type": "execute_result"
    }
   ],
   "source": [
    "zone_data"
   ],
   "metadata": {
    "collapsed": false,
    "pycharm": {
     "name": "#%%\n"
    }
   }
  },
  {
   "cell_type": "code",
   "execution_count": 14,
   "outputs": [
    {
     "data": {
      "text/plain": "California    198\nTexas          69\nWashington     26\nArizona        22\nColorado       20\nUtah           15\nOregon         13\nNevada         11\nIdaho           7\nNew_Mexico      6\nMontana         4\nWyoming         3\nName: Division, dtype: int64"
     },
     "execution_count": 14,
     "metadata": {},
     "output_type": "execute_result"
    }
   ],
   "source": [
    "zone_data.Division.value_counts()"
   ],
   "metadata": {
    "collapsed": false,
    "pycharm": {
     "name": "#%%\n"
    }
   }
  },
  {
   "cell_type": "code",
   "execution_count": 37,
   "outputs": [
    {
     "data": {
      "text/plain": "           Country    Division            Zone\n39   United_States  California         Alameda\n40   United_States  California        Alhambra\n41   United_States  California     Aliso_Viejo\n42   United_States  California         Anaheim\n43   United_States  California         Antioch\n..             ...         ...             ...\n232  United_States  California        Woodland\n233  United_States  California  Woodland_Hills\n234  United_States  California     Yorba_Linda\n235  United_States  California       Yuba_City\n236  United_States  California         Yucaipa\n\n[198 rows x 3 columns]",
      "text/html": "<div>\n<style scoped>\n    .dataframe tbody tr th:only-of-type {\n        vertical-align: middle;\n    }\n\n    .dataframe tbody tr th {\n        vertical-align: top;\n    }\n\n    .dataframe thead th {\n        text-align: right;\n    }\n</style>\n<table border=\"1\" class=\"dataframe\">\n  <thead>\n    <tr style=\"text-align: right;\">\n      <th></th>\n      <th>Country</th>\n      <th>Division</th>\n      <th>Zone</th>\n    </tr>\n  </thead>\n  <tbody>\n    <tr>\n      <th>39</th>\n      <td>United_States</td>\n      <td>California</td>\n      <td>Alameda</td>\n    </tr>\n    <tr>\n      <th>40</th>\n      <td>United_States</td>\n      <td>California</td>\n      <td>Alhambra</td>\n    </tr>\n    <tr>\n      <th>41</th>\n      <td>United_States</td>\n      <td>California</td>\n      <td>Aliso_Viejo</td>\n    </tr>\n    <tr>\n      <th>42</th>\n      <td>United_States</td>\n      <td>California</td>\n      <td>Anaheim</td>\n    </tr>\n    <tr>\n      <th>43</th>\n      <td>United_States</td>\n      <td>California</td>\n      <td>Antioch</td>\n    </tr>\n    <tr>\n      <th>...</th>\n      <td>...</td>\n      <td>...</td>\n      <td>...</td>\n    </tr>\n    <tr>\n      <th>232</th>\n      <td>United_States</td>\n      <td>California</td>\n      <td>Woodland</td>\n    </tr>\n    <tr>\n      <th>233</th>\n      <td>United_States</td>\n      <td>California</td>\n      <td>Woodland_Hills</td>\n    </tr>\n    <tr>\n      <th>234</th>\n      <td>United_States</td>\n      <td>California</td>\n      <td>Yorba_Linda</td>\n    </tr>\n    <tr>\n      <th>235</th>\n      <td>United_States</td>\n      <td>California</td>\n      <td>Yuba_City</td>\n    </tr>\n    <tr>\n      <th>236</th>\n      <td>United_States</td>\n      <td>California</td>\n      <td>Yucaipa</td>\n    </tr>\n  </tbody>\n</table>\n<p>198 rows × 3 columns</p>\n</div>"
     },
     "execution_count": 37,
     "metadata": {},
     "output_type": "execute_result"
    }
   ],
   "source": [
    "zone_data[zone_data.Division==\"California\"]"
   ],
   "metadata": {
    "collapsed": false,
    "pycharm": {
     "name": "#%%\n"
    }
   }
  },
  {
   "cell_type": "code",
   "execution_count": 15,
   "outputs": [],
   "source": [
    "wunderground_url_map = [\n",
    "\"184\",\"https://www.wunderground.com/history/daily/us/ca/san-francisco/KSFO\",\n",
    "\"330\",\"https://www.wunderground.com/history/daily/us/tx/austin/KAUS\",\n",
    "\"17\",\"https://www.wunderground.com/history/daily/us/wa/seattle/KSEA\",\n",
    "\"291\",\"https://www.wunderground.com/history/daily/us/az/phoenix/KPHX\",\n",
    "\"308\",\"https://www.wunderground.com/history/daily/us/co/denver/KDEN\",\n",
    "\"270\",\"https://www.wunderground.com/history/daily/us/ut/salt-lake-city/KSLC\",\n",
    "\n",
    "\n",
    "\"26\",\"https://www.wunderground.com/history/daily/us/or/albany/KSLE\",\n",
    "\"27\",\"https://www.wunderground.com/history/daily/us/or/beaverton/KPDX\",\n",
    "\"28\",\"https://www.wunderground.com/history/daily/us/or/bend/KRDM\",\n",
    "\"29\",\"https://www.wunderground.com/history/daily/us/or/corvallis/KSLE\",\n",
    "\"30\",\"https://www.wunderground.com/history/daily/us/or/eugene/KEUG\",\n",
    "\"31\",\"https://www.wunderground.com/history/daily/us/or/gresham/KPDX\",\n",
    "\"32\",\"https://www.wunderground.com/history/daily/us/or/hillsboro/KPDX\",\n",
    "\"33\",\"https://www.wunderground.com/history/daily/us/or/medford/KMFR\",\n",
    "\"35\",\"https://www.wunderground.com/history/daily/us/or/portland/KPDX\",\n",
    "\"36\",\"https://www.wunderground.com/history/daily/us/or/salem/KSLE\",\n",
    "\"37\",\"https://www.wunderground.com/history/daily/us/or/springfield/KEUG\",\n",
    "\"38\",\"https://www.wunderground.com/history/daily/us/or/tigard/KPDX\",\n",
    "\n",
    "\n",
    "\"244\",\"https://www.wunderground.com/history/daily/us/nv/carson-city/KRNO\",\n",
    "\"246\",\"https://www.wunderground.com/history/daily/us/nv/henderson/KBVU\",\n",
    "\"247\",\"https://www.wunderground.com/history/daily/us/nv/las-vegas/KVGT\",\n",
    "\"249\",\"https://www.wunderground.com/history/daily/us/nv/north-las-vegas/KVGT\",\n",
    "\"251\",\"https://www.wunderground.com/history/daily/us/nv/reno/KRNO\",\n",
    "\"252\",\"https://www.wunderground.com/history/daily/us/nv/sparks/KRNO\",\n",
    "\n",
    "\n",
    "\"237\",\"https://www.wunderground.com/history/daily/us/id/boise/KBOI\",\n",
    "\"238\",\"https://www.wunderground.com/history/daily/us/id/caldwell/KBOI\",\n",
    "\"240\",\"https://www.wunderground.com/history/daily/us/id/idaho-falls/KIDA\",\n",
    "\"241\",\"https://www.wunderground.com/history/daily/us/id/meridian/KBOI\",\n",
    "\"242\",\"https://www.wunderground.com/history/daily/us/id/nampa/KBOI\",\n",
    "\"243\",\"https://www.wunderground.com/history/daily/us/id/pocatello/KPIH\",\n",
    "\n",
    "\n",
    "\"319\",\"https://www.wunderground.com/history/daily/us/nm/albuquerque/KABQ\",\n",
    "\"321\",\"https://www.wunderground.com/history/daily/us/nm/las-cruces/KLRU\",\n",
    "\"323\",\"https://www.wunderground.com/history/daily/us/nm/rio-rancho/KABQ\",\n",
    "\"324\",\"https://www.wunderground.com/history/daily/us/nm/santa-fe/KSAF\",\n",
    "\n",
    "\"255\",\"https://www.wunderground.com/history/daily/us/mt/billings/KBIL\",\n",
    "\"256\",\"https://www.wunderground.com/history/daily/us/mt/great-falls/KGTF\",\n",
    "\"257\",\"https://www.wunderground.com/history/daily/us/mt/missoula/KMSO\",\n",
    "\n",
    "\n",
    "\"259\",\"https://www.wunderground.com/history/daily/us/wy/casper/KCPR\",\n",
    "\"260\",\"https://www.wunderground.com/history/daily/us/wy/cheyenne/KCYS\"\n",
    "]"
   ],
   "metadata": {
    "collapsed": false,
    "pycharm": {
     "name": "#%%\n"
    }
   }
  },
  {
   "cell_type": "code",
   "execution_count": 16,
   "outputs": [],
   "source": [
    "wunderground_url_map_df = pd.DataFrame(np.array(wunderground_url_map).reshape(-1,2)).set_index(0)\n",
    "wunderground_url_map_df.index =  wunderground_url_map_df.index.astype('int')"
   ],
   "metadata": {
    "collapsed": false,
    "pycharm": {
     "name": "#%%\n"
    }
   }
  },
  {
   "cell_type": "code",
   "execution_count": 17,
   "outputs": [
    {
     "data": {
      "text/plain": "                                                     1        Country  \\\n0                                                                       \n184  https://www.wunderground.com/history/daily/us/...  United_States   \n330  https://www.wunderground.com/history/daily/us/...  United_States   \n17   https://www.wunderground.com/history/daily/us/...  United_States   \n291  https://www.wunderground.com/history/daily/us/...  United_States   \n308  https://www.wunderground.com/history/daily/us/...  United_States   \n270  https://www.wunderground.com/history/daily/us/...  United_States   \n26   https://www.wunderground.com/history/daily/us/...  United_States   \n27   https://www.wunderground.com/history/daily/us/...  United_States   \n28   https://www.wunderground.com/history/daily/us/...  United_States   \n29   https://www.wunderground.com/history/daily/us/...  United_States   \n30   https://www.wunderground.com/history/daily/us/...  United_States   \n31   https://www.wunderground.com/history/daily/us/...  United_States   \n32   https://www.wunderground.com/history/daily/us/...  United_States   \n33   https://www.wunderground.com/history/daily/us/...  United_States   \n35   https://www.wunderground.com/history/daily/us/...  United_States   \n36   https://www.wunderground.com/history/daily/us/...  United_States   \n37   https://www.wunderground.com/history/daily/us/...  United_States   \n38   https://www.wunderground.com/history/daily/us/...  United_States   \n244  https://www.wunderground.com/history/daily/us/...  United_States   \n246  https://www.wunderground.com/history/daily/us/...  United_States   \n247  https://www.wunderground.com/history/daily/us/...  United_States   \n249  https://www.wunderground.com/history/daily/us/...  United_States   \n251  https://www.wunderground.com/history/daily/us/...  United_States   \n252  https://www.wunderground.com/history/daily/us/...  United_States   \n237  https://www.wunderground.com/history/daily/us/...  United_States   \n238  https://www.wunderground.com/history/daily/us/...  United_States   \n240  https://www.wunderground.com/history/daily/us/...  United_States   \n241  https://www.wunderground.com/history/daily/us/...  United_States   \n242  https://www.wunderground.com/history/daily/us/...  United_States   \n243  https://www.wunderground.com/history/daily/us/...  United_States   \n319  https://www.wunderground.com/history/daily/us/...  United_States   \n321  https://www.wunderground.com/history/daily/us/...  United_States   \n323  https://www.wunderground.com/history/daily/us/...  United_States   \n324  https://www.wunderground.com/history/daily/us/...  United_States   \n255  https://www.wunderground.com/history/daily/us/...  United_States   \n256  https://www.wunderground.com/history/daily/us/...  United_States   \n257  https://www.wunderground.com/history/daily/us/...  United_States   \n259  https://www.wunderground.com/history/daily/us/...  United_States   \n260  https://www.wunderground.com/history/daily/us/...  United_States   \n\n       Division             Zone  \n0                                 \n184  California    San_Francisco  \n330       Texas           Austin  \n17   Washington          Seattle  \n291     Arizona          Phoenix  \n308    Colorado           Denver  \n270        Utah   Salt_Lake_City  \n26       Oregon           Albany  \n27       Oregon        Beaverton  \n28       Oregon             Bend  \n29       Oregon        Corvallis  \n30       Oregon           Eugene  \n31       Oregon          Gresham  \n32       Oregon        Hillsboro  \n33       Oregon          Medford  \n35       Oregon         Portland  \n36       Oregon            Salem  \n37       Oregon      Springfield  \n38       Oregon           Tigard  \n244      Nevada      Carson_City  \n246      Nevada        Henderson  \n247      Nevada        Las_Vegas  \n249      Nevada  North_Las_Vegas  \n251      Nevada             Reno  \n252      Nevada           Sparks  \n237       Idaho            Boise  \n238       Idaho         Caldwell  \n240       Idaho      Idaho_Falls  \n241       Idaho         Meridian  \n242       Idaho            Nampa  \n243       Idaho        Pocatello  \n319  New_Mexico      Albuquerque  \n321  New_Mexico       Las_Cruces  \n323  New_Mexico       Rio_Rancho  \n324  New_Mexico         Santa_Fe  \n255     Montana         Billings  \n256     Montana      Great_Falls  \n257     Montana         Missoula  \n259     Wyoming           Casper  \n260     Wyoming         Cheyenne  ",
      "text/html": "<div>\n<style scoped>\n    .dataframe tbody tr th:only-of-type {\n        vertical-align: middle;\n    }\n\n    .dataframe tbody tr th {\n        vertical-align: top;\n    }\n\n    .dataframe thead th {\n        text-align: right;\n    }\n</style>\n<table border=\"1\" class=\"dataframe\">\n  <thead>\n    <tr style=\"text-align: right;\">\n      <th></th>\n      <th>1</th>\n      <th>Country</th>\n      <th>Division</th>\n      <th>Zone</th>\n    </tr>\n    <tr>\n      <th>0</th>\n      <th></th>\n      <th></th>\n      <th></th>\n      <th></th>\n    </tr>\n  </thead>\n  <tbody>\n    <tr>\n      <th>184</th>\n      <td>https://www.wunderground.com/history/daily/us/...</td>\n      <td>United_States</td>\n      <td>California</td>\n      <td>San_Francisco</td>\n    </tr>\n    <tr>\n      <th>330</th>\n      <td>https://www.wunderground.com/history/daily/us/...</td>\n      <td>United_States</td>\n      <td>Texas</td>\n      <td>Austin</td>\n    </tr>\n    <tr>\n      <th>17</th>\n      <td>https://www.wunderground.com/history/daily/us/...</td>\n      <td>United_States</td>\n      <td>Washington</td>\n      <td>Seattle</td>\n    </tr>\n    <tr>\n      <th>291</th>\n      <td>https://www.wunderground.com/history/daily/us/...</td>\n      <td>United_States</td>\n      <td>Arizona</td>\n      <td>Phoenix</td>\n    </tr>\n    <tr>\n      <th>308</th>\n      <td>https://www.wunderground.com/history/daily/us/...</td>\n      <td>United_States</td>\n      <td>Colorado</td>\n      <td>Denver</td>\n    </tr>\n    <tr>\n      <th>270</th>\n      <td>https://www.wunderground.com/history/daily/us/...</td>\n      <td>United_States</td>\n      <td>Utah</td>\n      <td>Salt_Lake_City</td>\n    </tr>\n    <tr>\n      <th>26</th>\n      <td>https://www.wunderground.com/history/daily/us/...</td>\n      <td>United_States</td>\n      <td>Oregon</td>\n      <td>Albany</td>\n    </tr>\n    <tr>\n      <th>27</th>\n      <td>https://www.wunderground.com/history/daily/us/...</td>\n      <td>United_States</td>\n      <td>Oregon</td>\n      <td>Beaverton</td>\n    </tr>\n    <tr>\n      <th>28</th>\n      <td>https://www.wunderground.com/history/daily/us/...</td>\n      <td>United_States</td>\n      <td>Oregon</td>\n      <td>Bend</td>\n    </tr>\n    <tr>\n      <th>29</th>\n      <td>https://www.wunderground.com/history/daily/us/...</td>\n      <td>United_States</td>\n      <td>Oregon</td>\n      <td>Corvallis</td>\n    </tr>\n    <tr>\n      <th>30</th>\n      <td>https://www.wunderground.com/history/daily/us/...</td>\n      <td>United_States</td>\n      <td>Oregon</td>\n      <td>Eugene</td>\n    </tr>\n    <tr>\n      <th>31</th>\n      <td>https://www.wunderground.com/history/daily/us/...</td>\n      <td>United_States</td>\n      <td>Oregon</td>\n      <td>Gresham</td>\n    </tr>\n    <tr>\n      <th>32</th>\n      <td>https://www.wunderground.com/history/daily/us/...</td>\n      <td>United_States</td>\n      <td>Oregon</td>\n      <td>Hillsboro</td>\n    </tr>\n    <tr>\n      <th>33</th>\n      <td>https://www.wunderground.com/history/daily/us/...</td>\n      <td>United_States</td>\n      <td>Oregon</td>\n      <td>Medford</td>\n    </tr>\n    <tr>\n      <th>35</th>\n      <td>https://www.wunderground.com/history/daily/us/...</td>\n      <td>United_States</td>\n      <td>Oregon</td>\n      <td>Portland</td>\n    </tr>\n    <tr>\n      <th>36</th>\n      <td>https://www.wunderground.com/history/daily/us/...</td>\n      <td>United_States</td>\n      <td>Oregon</td>\n      <td>Salem</td>\n    </tr>\n    <tr>\n      <th>37</th>\n      <td>https://www.wunderground.com/history/daily/us/...</td>\n      <td>United_States</td>\n      <td>Oregon</td>\n      <td>Springfield</td>\n    </tr>\n    <tr>\n      <th>38</th>\n      <td>https://www.wunderground.com/history/daily/us/...</td>\n      <td>United_States</td>\n      <td>Oregon</td>\n      <td>Tigard</td>\n    </tr>\n    <tr>\n      <th>244</th>\n      <td>https://www.wunderground.com/history/daily/us/...</td>\n      <td>United_States</td>\n      <td>Nevada</td>\n      <td>Carson_City</td>\n    </tr>\n    <tr>\n      <th>246</th>\n      <td>https://www.wunderground.com/history/daily/us/...</td>\n      <td>United_States</td>\n      <td>Nevada</td>\n      <td>Henderson</td>\n    </tr>\n    <tr>\n      <th>247</th>\n      <td>https://www.wunderground.com/history/daily/us/...</td>\n      <td>United_States</td>\n      <td>Nevada</td>\n      <td>Las_Vegas</td>\n    </tr>\n    <tr>\n      <th>249</th>\n      <td>https://www.wunderground.com/history/daily/us/...</td>\n      <td>United_States</td>\n      <td>Nevada</td>\n      <td>North_Las_Vegas</td>\n    </tr>\n    <tr>\n      <th>251</th>\n      <td>https://www.wunderground.com/history/daily/us/...</td>\n      <td>United_States</td>\n      <td>Nevada</td>\n      <td>Reno</td>\n    </tr>\n    <tr>\n      <th>252</th>\n      <td>https://www.wunderground.com/history/daily/us/...</td>\n      <td>United_States</td>\n      <td>Nevada</td>\n      <td>Sparks</td>\n    </tr>\n    <tr>\n      <th>237</th>\n      <td>https://www.wunderground.com/history/daily/us/...</td>\n      <td>United_States</td>\n      <td>Idaho</td>\n      <td>Boise</td>\n    </tr>\n    <tr>\n      <th>238</th>\n      <td>https://www.wunderground.com/history/daily/us/...</td>\n      <td>United_States</td>\n      <td>Idaho</td>\n      <td>Caldwell</td>\n    </tr>\n    <tr>\n      <th>240</th>\n      <td>https://www.wunderground.com/history/daily/us/...</td>\n      <td>United_States</td>\n      <td>Idaho</td>\n      <td>Idaho_Falls</td>\n    </tr>\n    <tr>\n      <th>241</th>\n      <td>https://www.wunderground.com/history/daily/us/...</td>\n      <td>United_States</td>\n      <td>Idaho</td>\n      <td>Meridian</td>\n    </tr>\n    <tr>\n      <th>242</th>\n      <td>https://www.wunderground.com/history/daily/us/...</td>\n      <td>United_States</td>\n      <td>Idaho</td>\n      <td>Nampa</td>\n    </tr>\n    <tr>\n      <th>243</th>\n      <td>https://www.wunderground.com/history/daily/us/...</td>\n      <td>United_States</td>\n      <td>Idaho</td>\n      <td>Pocatello</td>\n    </tr>\n    <tr>\n      <th>319</th>\n      <td>https://www.wunderground.com/history/daily/us/...</td>\n      <td>United_States</td>\n      <td>New_Mexico</td>\n      <td>Albuquerque</td>\n    </tr>\n    <tr>\n      <th>321</th>\n      <td>https://www.wunderground.com/history/daily/us/...</td>\n      <td>United_States</td>\n      <td>New_Mexico</td>\n      <td>Las_Cruces</td>\n    </tr>\n    <tr>\n      <th>323</th>\n      <td>https://www.wunderground.com/history/daily/us/...</td>\n      <td>United_States</td>\n      <td>New_Mexico</td>\n      <td>Rio_Rancho</td>\n    </tr>\n    <tr>\n      <th>324</th>\n      <td>https://www.wunderground.com/history/daily/us/...</td>\n      <td>United_States</td>\n      <td>New_Mexico</td>\n      <td>Santa_Fe</td>\n    </tr>\n    <tr>\n      <th>255</th>\n      <td>https://www.wunderground.com/history/daily/us/...</td>\n      <td>United_States</td>\n      <td>Montana</td>\n      <td>Billings</td>\n    </tr>\n    <tr>\n      <th>256</th>\n      <td>https://www.wunderground.com/history/daily/us/...</td>\n      <td>United_States</td>\n      <td>Montana</td>\n      <td>Great_Falls</td>\n    </tr>\n    <tr>\n      <th>257</th>\n      <td>https://www.wunderground.com/history/daily/us/...</td>\n      <td>United_States</td>\n      <td>Montana</td>\n      <td>Missoula</td>\n    </tr>\n    <tr>\n      <th>259</th>\n      <td>https://www.wunderground.com/history/daily/us/...</td>\n      <td>United_States</td>\n      <td>Wyoming</td>\n      <td>Casper</td>\n    </tr>\n    <tr>\n      <th>260</th>\n      <td>https://www.wunderground.com/history/daily/us/...</td>\n      <td>United_States</td>\n      <td>Wyoming</td>\n      <td>Cheyenne</td>\n    </tr>\n  </tbody>\n</table>\n</div>"
     },
     "execution_count": 17,
     "metadata": {},
     "output_type": "execute_result"
    }
   ],
   "source": [
    "wunderground_url_map_df.join(zone_data)"
   ],
   "metadata": {
    "collapsed": false,
    "pycharm": {
     "name": "#%%\n"
    }
   }
  },
  {
   "cell_type": "code",
   "execution_count": 19,
   "outputs": [],
   "source": [
    "selected_id = [184, 330, 17, 291, 308, 270,35,247,237,319,255,260]"
   ],
   "metadata": {
    "collapsed": false,
    "pycharm": {
     "name": "#%%\n"
    }
   }
  },
  {
   "cell_type": "code",
   "execution_count": 36,
   "outputs": [],
   "source": [
    "url_strings = wunderground_url_map_df.loc[selected_id][1].str.split('/').str[-3:].str.join(\"/\")"
   ],
   "metadata": {
    "collapsed": false,
    "pycharm": {
     "name": "#%%\n"
    }
   }
  },
  {
   "cell_type": "code",
   "execution_count": 42,
   "outputs": [
    {
     "data": {
      "text/plain": "['ca/san-francisco/KSFO',\n 'tx/austin/KAUS',\n 'wa/seattle/KSEA',\n 'az/phoenix/KPHX',\n 'co/denver/KDEN',\n 'ut/salt-lake-city/KSLC',\n 'or/portland/KPDX',\n 'nv/las-vegas/KVGT',\n 'id/boise/KBOI',\n 'nm/albuquerque/KABQ',\n 'mt/billings/KBIL',\n 'wy/cheyenne/KCYS']"
     },
     "execution_count": 42,
     "metadata": {},
     "output_type": "execute_result"
    }
   ],
   "source": [
    "list(url_strings.values)"
   ],
   "metadata": {
    "collapsed": false,
    "pycharm": {
     "name": "#%%\n"
    }
   }
  },
  {
   "cell_type": "code",
   "execution_count": 1,
   "outputs": [
    {
     "ename": "NameError",
     "evalue": "name 'zone_data' is not defined",
     "output_type": "error",
     "traceback": [
      "\u001B[0;31m---------------------------------------------------------------------------\u001B[0m",
      "\u001B[0;31mNameError\u001B[0m                                 Traceback (most recent call last)",
      "\u001B[0;32m<ipython-input-1-7cd631db08a8>\u001B[0m in \u001B[0;36m<module>\u001B[0;34m\u001B[0m\n\u001B[0;32m----> 1\u001B[0;31m \u001B[0mzone_data\u001B[0m\u001B[0;34m.\u001B[0m\u001B[0mloc\u001B[0m\u001B[0;34m[\u001B[0m\u001B[0mselected_id\u001B[0m\u001B[0;34m]\u001B[0m\u001B[0;34m.\u001B[0m\u001B[0mto_csv\u001B[0m\u001B[0;34m(\u001B[0m\u001B[0;34m'usa_west.csv'\u001B[0m\u001B[0;34m,\u001B[0m\u001B[0mindex\u001B[0m\u001B[0;34m=\u001B[0m\u001B[0;32mFalse\u001B[0m\u001B[0;34m)\u001B[0m\u001B[0;34m.\u001B[0m\u001B[0mvalues\u001B[0m\u001B[0;34m\u001B[0m\u001B[0;34m\u001B[0m\u001B[0m\n\u001B[0m",
      "\u001B[0;31mNameError\u001B[0m: name 'zone_data' is not defined"
     ]
    }
   ],
   "source": [
    "# zone_data.loc[selected_id].to_csv('usa_west.csv',index=False)"
   ],
   "metadata": {
    "collapsed": false,
    "pycharm": {
     "name": "#%%\n"
    }
   }
  },
  {
   "cell_type": "code",
   "execution_count": 46,
   "outputs": [
    {
     "data": {
      "text/plain": "['San_Francisco',\n 'Austin',\n 'Seattle',\n 'Phoenix',\n 'Denver',\n 'Salt_Lake_City',\n 'Portland',\n 'Las_Vegas',\n 'Boise',\n 'Albuquerque',\n 'Billings',\n 'Cheyenne']"
     },
     "execution_count": 46,
     "metadata": {},
     "output_type": "execute_result"
    }
   ],
   "source": [
    "list(zone_data.loc[selected_id].Zone.values)"
   ],
   "metadata": {
    "collapsed": false,
    "pycharm": {
     "name": "#%%\n"
    }
   }
  }
 ],
 "metadata": {
  "kernelspec": {
   "display_name": "Python 3",
   "language": "python",
   "name": "python3"
  },
  "language_info": {
   "codemirror_mode": {
    "name": "ipython",
    "version": 2
   },
   "file_extension": ".py",
   "mimetype": "text/x-python",
   "name": "python",
   "nbconvert_exporter": "python",
   "pygments_lexer": "ipython2",
   "version": "2.7.6"
  }
 },
 "nbformat": 4,
 "nbformat_minor": 0
}