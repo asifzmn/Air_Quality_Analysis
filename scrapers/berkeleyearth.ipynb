{
 "cells": [
  {
   "cell_type": "code",
   "execution_count": 1,
   "metadata": {
    "collapsed": true,
    "pycharm": {
     "name": "#%%\n"
    }
   },
   "outputs": [],
   "source": [
    "from scrapers.wunderground import prepare_firefox_driver\n",
    "from paths import dataset_url\n",
    "\n",
    "import pandas as pd\n",
    "\n",
    "zone_data = pd.DataFrame(columns=['Country','Division','Zone'])\n",
    "\n",
    "countries = [\"Bangladesh\",\"India\",\"Myanmar\",\"Nepal\",\"Bhutan\"]"
   ]
  },
  {
   "cell_type": "code",
   "execution_count": 2,
   "outputs": [],
   "source": [
    "driver = prepare_firefox_driver()"
   ],
   "metadata": {
    "collapsed": false,
    "pycharm": {
     "name": "#%%\n"
    }
   }
  },
  {
   "cell_type": "code",
   "execution_count": 71,
   "outputs": [],
   "source": [
    "from selenium.webdriver.common.keys import Keys\n",
    "\n",
    "driver.get(\"https://www.meteoblue.com/en/weather/archive/era5/shahbag_bangladesh_7697915\")\n",
    "# driver.find_element_by_id(\"gdpr_form\").click()"
   ],
   "metadata": {
    "collapsed": false,
    "pycharm": {
     "name": "#%%\n"
    }
   }
  },
  {
   "cell_type": "code",
   "execution_count": 41,
   "outputs": [],
   "source": [
    "location = '23.710 90.407'\n",
    "driver.find_element_by_id(\"gls\").send_keys(location+Keys.ENTER)"
   ],
   "metadata": {
    "collapsed": false,
    "pycharm": {
     "name": "#%%\n"
    }
   }
  },
  {
   "cell_type": "code",
   "execution_count": 46,
   "outputs": [],
   "source": [
    "from selenium.webdriver.common.by import By\n",
    "from selenium.webdriver.support import expected_conditions\n",
    "from selenium.webdriver.support.wait import WebDriverWait\n",
    "\n",
    "# driver.find_element_by_class_name(\"search-results\").find_elements_by_tag_name('tr')[1].send_keys(Keys.RETURN)\n",
    "\n",
    "searchTable = WebDriverWait(driver, 3).until(expected_conditions.presence_of_all_elements_located(\n",
    "            (By.XPATH, \"//table[@class = 'search-results']//tr\")))\n",
    "searchTable[1].find_elements_by_xpath(\".//td\")[1].click()"
   ],
   "metadata": {
    "collapsed": false,
    "pycharm": {
     "name": "#%%\n"
    }
   }
  },
  {
   "cell_type": "code",
   "execution_count": 15,
   "outputs": [],
   "source": [
    "driver.find_element_by_id(\"gls\").send_keys(Keys.RETURN)"
   ],
   "metadata": {
    "collapsed": false,
    "pycharm": {
     "name": "#%%\n"
    }
   }
  },
  {
   "cell_type": "code",
   "execution_count": null,
   "outputs": [],
   "source": [],
   "metadata": {
    "collapsed": false,
    "pycharm": {
     "name": "#%%\n"
    }
   }
  },
  {
   "cell_type": "code",
   "execution_count": null,
   "outputs": [],
   "source": [
    "country = countries[0]"
   ],
   "metadata": {
    "collapsed": false,
    "pycharm": {
     "name": "#%%\n"
    }
   }
  },
  {
   "cell_type": "code",
   "execution_count": 42,
   "outputs": [
    {
     "data": {
      "text/plain": "['Barisal/',\n 'Chittagong/',\n 'Dhaka/',\n 'Khulna/',\n 'Mymensingh_Division/',\n 'Rajshahi/',\n 'Rangpur_Division/',\n 'Sylhet/']"
     },
     "execution_count": 42,
     "metadata": {},
     "output_type": "execute_result"
    }
   ],
   "source": [
    "berkeleyearth_data_url_country = dataset_url + country + \"/\"\n",
    "driver.get(berkeleyearth_data_url_country)\n",
    "links = driver.find_elements_by_tag_name(\"a\")\n",
    "divisions = [link.text for link in links if link.text.endswith(\"/\")]\n",
    "divisions"
   ],
   "metadata": {
    "collapsed": false,
    "pycharm": {
     "name": "#%%\n"
    }
   }
  },
  {
   "cell_type": "code",
   "execution_count": 44,
   "outputs": [
    {
     "data": {
      "text/plain": "['Barisal.txt', 'Bhola.txt', 'Pirojpur.txt']"
     },
     "execution_count": 44,
     "metadata": {},
     "output_type": "execute_result"
    }
   ],
   "source": [
    "division = divisions[0]\n",
    "berkeleyearth_data_url_country_area = berkeleyearth_data_url_country + division\n",
    "\n",
    "driver.get(berkeleyearth_data_url_country_area)\n",
    "links = driver.find_elements_by_tag_name(\"a\")\n",
    "zones = [link.text for link in links  if link.text.endswith(\"txt\")]\n",
    "zones"
   ],
   "metadata": {
    "collapsed": false,
    "pycharm": {
     "name": "#%%\n"
    }
   }
  },
  {
   "cell_type": "code",
   "execution_count": 46,
   "outputs": [],
   "source": [
    "zone = zones[0]"
   ],
   "metadata": {
    "collapsed": false,
    "pycharm": {
     "name": "#%%\n"
    }
   }
  },
  {
   "cell_type": "code",
   "execution_count": 50,
   "outputs": [],
   "source": [
    "zone_data_length = len(zone_data)\n",
    "zone_data.loc[zone_data_length] = [country,division[:-1],zone[:-4]]"
   ],
   "metadata": {
    "collapsed": false,
    "pycharm": {
     "name": "#%%\n"
    }
   }
  },
  {
   "cell_type": "code",
   "execution_count": 51,
   "outputs": [
    {
     "data": {
      "text/plain": "      Country Division     Zone\n0  Bangladesh  Barisal  Barisal",
      "text/html": "<div>\n<style scoped>\n    .dataframe tbody tr th:only-of-type {\n        vertical-align: middle;\n    }\n\n    .dataframe tbody tr th {\n        vertical-align: top;\n    }\n\n    .dataframe thead th {\n        text-align: right;\n    }\n</style>\n<table border=\"1\" class=\"dataframe\">\n  <thead>\n    <tr style=\"text-align: right;\">\n      <th></th>\n      <th>Country</th>\n      <th>Division</th>\n      <th>Zone</th>\n    </tr>\n  </thead>\n  <tbody>\n    <tr>\n      <th>0</th>\n      <td>Bangladesh</td>\n      <td>Barisal</td>\n      <td>Barisal</td>\n    </tr>\n  </tbody>\n</table>\n</div>"
     },
     "execution_count": 51,
     "metadata": {},
     "output_type": "execute_result"
    }
   ],
   "source": [
    "zone_data"
   ],
   "metadata": {
    "collapsed": false,
    "pycharm": {
     "name": "#%%\n"
    }
   }
  },
  {
   "cell_type": "code",
   "execution_count": 49,
   "outputs": [
    {
     "data": {
      "text/plain": "['Bangladesh', 'Barisal', 'Barisal']"
     },
     "execution_count": 49,
     "metadata": {},
     "output_type": "execute_result"
    }
   ],
   "source": [
    "[country,division[:-1],zone[:-4]]"
   ],
   "metadata": {
    "collapsed": false,
    "pycharm": {
     "name": "#%%\n"
    }
   }
  },
  {
   "cell_type": "code",
   "execution_count": 2,
   "outputs": [],
   "source": [
    "for country in countries:\n",
    "    berkeleyearth_data_url_country = dataset_url + country + \"/\"\n",
    "    driver.get(berkeleyearth_data_url_country)\n",
    "    links = driver.find_elements_by_tag_name(\"a\")\n",
    "    divisions = [link.text for link in links if link.text.endswith(\"/\")]\n",
    "\n",
    "    for division in divisions:\n",
    "        berkeleyearth_data_url_country_area = berkeleyearth_data_url_country + division\n",
    "\n",
    "        driver.get(berkeleyearth_data_url_country_area)\n",
    "        links = driver.find_elements_by_tag_name(\"a\")\n",
    "        zones = [link.text for link in links  if link.text.endswith(\"txt\")]\n",
    "\n",
    "        for zone in zones:\n",
    "            zone_data_length = len(zone_data)\n",
    "            zone_data.loc[zone_data_length] = [country,division[:-1],zone[:-4]]\n"
   ],
   "metadata": {
    "collapsed": false,
    "pycharm": {
     "name": "#%%\n"
    }
   }
  },
  {
   "cell_type": "code",
   "execution_count": 53,
   "outputs": [],
   "source": [
    "zone_data.to_csv('bd_and_neighbours_full.csv',index=False)"
   ],
   "metadata": {
    "collapsed": false,
    "pycharm": {
     "name": "#%%\n"
    }
   }
  },
  {
   "cell_type": "code",
   "execution_count": 32,
   "outputs": [
    {
     "data": {
      "text/plain": "     Country     Division        Zone\n0      India        Assam  Bongaigaon\n1      India        Assam     Dhuburi\n2      India        Assam   Dibrugarh\n3      India        Assam       Diphu\n4      India        Assam    Goalpara\n..       ...          ...         ...\n500  Myanmar  Tanintharyi       Myeik\n501  Myanmar       Yangon       Kanbe\n502  Myanmar       Yangon      Syriam\n503  Myanmar       Yangon     Thongwa\n504  Myanmar       Yangon      Yangon\n\n[505 rows x 3 columns]",
      "text/html": "<div>\n<style scoped>\n    .dataframe tbody tr th:only-of-type {\n        vertical-align: middle;\n    }\n\n    .dataframe tbody tr th {\n        vertical-align: top;\n    }\n\n    .dataframe thead th {\n        text-align: right;\n    }\n</style>\n<table border=\"1\" class=\"dataframe\">\n  <thead>\n    <tr style=\"text-align: right;\">\n      <th></th>\n      <th>Country</th>\n      <th>Division</th>\n      <th>Zone</th>\n    </tr>\n  </thead>\n  <tbody>\n    <tr>\n      <th>0</th>\n      <td>India</td>\n      <td>Assam</td>\n      <td>Bongaigaon</td>\n    </tr>\n    <tr>\n      <th>1</th>\n      <td>India</td>\n      <td>Assam</td>\n      <td>Dhuburi</td>\n    </tr>\n    <tr>\n      <th>2</th>\n      <td>India</td>\n      <td>Assam</td>\n      <td>Dibrugarh</td>\n    </tr>\n    <tr>\n      <th>3</th>\n      <td>India</td>\n      <td>Assam</td>\n      <td>Diphu</td>\n    </tr>\n    <tr>\n      <th>4</th>\n      <td>India</td>\n      <td>Assam</td>\n      <td>Goalpara</td>\n    </tr>\n    <tr>\n      <th>...</th>\n      <td>...</td>\n      <td>...</td>\n      <td>...</td>\n    </tr>\n    <tr>\n      <th>500</th>\n      <td>Myanmar</td>\n      <td>Tanintharyi</td>\n      <td>Myeik</td>\n    </tr>\n    <tr>\n      <th>501</th>\n      <td>Myanmar</td>\n      <td>Yangon</td>\n      <td>Kanbe</td>\n    </tr>\n    <tr>\n      <th>502</th>\n      <td>Myanmar</td>\n      <td>Yangon</td>\n      <td>Syriam</td>\n    </tr>\n    <tr>\n      <th>503</th>\n      <td>Myanmar</td>\n      <td>Yangon</td>\n      <td>Thongwa</td>\n    </tr>\n    <tr>\n      <th>504</th>\n      <td>Myanmar</td>\n      <td>Yangon</td>\n      <td>Yangon</td>\n    </tr>\n  </tbody>\n</table>\n<p>505 rows × 3 columns</p>\n</div>"
     },
     "execution_count": 32,
     "metadata": {},
     "output_type": "execute_result"
    }
   ],
   "source": [
    "zone_data = pd.read_csv('bd_and_neighbours.csv')\n",
    "zone_data"
   ],
   "metadata": {
    "collapsed": false,
    "pycharm": {
     "name": "#%%\n"
    }
   }
  },
  {
   "cell_type": "markdown",
   "source": [
    "### Removing area general data to keep only zone specific data"
   ],
   "metadata": {
    "collapsed": false,
    "pycharm": {
     "name": "#%% md\n"
    }
   }
  },
  {
   "cell_type": "code",
   "execution_count": 7,
   "outputs": [
    {
     "data": {
      "text/plain": "         Country                Division                    Zone\n0     Bangladesh                 Barisal                 Barisal\n3     Bangladesh              Chittagong              Chittagong\n17    Bangladesh                   Dhaka                   Dhaka\n30    Bangladesh                  Khulna                  Khulna\n45    Bangladesh                Rajshahi                Rajshahi\n55    Bangladesh                  Sylhet                  Sylhet\n56         India     Andaman_and_Nicobar     Andaman_and_Nicobar\n61         India          Andhra_Pradesh          Andhra_Pradesh\n117        India       Arunachal_Pradesh       Arunachal_Pradesh\n118        India                   Assam                   Assam\n141        India                   Bihar                   Bihar\n174        India              Chandigarh              Chandigarh\n179        India            Chhattisgarh            Chhattisgarh\n188        India  Dadra_and_Nagar_Haveli  Dadra_and_Nagar_Haveli\n189        India           Daman_and_Diu           Daman_and_Diu\n190        India                   Delhi                   Delhi\n191        India                     Goa                     Goa\n217        India                 Gujarat                 Gujarat\n260        India                 Haryana                 Haryana\n277        India        Himachal_Pradesh        Himachal_Pradesh\n279        India       Jammu_and_Kashmir       Jammu_and_Kashmir\n289        India               Jharkhand               Jharkhand\n328        India               Karnataka               Karnataka\n365        India                  Kerala                  Kerala\n384        India             Lakshadweep             Lakshadweep\n411        India          Madhya_Pradesh          Madhya_Pradesh\n483        India             Maharashtra             Maharashtra\n524        India                 Manipur                 Manipur\n525        India               Meghalaya               Meghalaya\n530        India                 Mizoram                 Mizoram\n536        India                Nagaland                Nagaland\n557        India                  Orissa                  Orissa\n560        India              Puducherry              Puducherry\n586        India                  Punjab                  Punjab\n632        India               Rajasthan               Rajasthan\n642        India                  Sikkim                  Sikkim\n696        India              Tamil_Nadu              Tamil_Nadu\n756        India                 Tripura                 Tripura\n862        India           Uttar_Pradesh           Uttar_Pradesh\n872        India             Uttaranchal             Uttaranchal\n948        India             West_Bengal             West_Bengal\n955      Myanmar                    Bago                    Bago\n963      Myanmar                  Magway                  Magway\n971      Myanmar                Mandalay                Mandalay\n980      Myanmar             Nay_Pyi_Taw             Nay_Pyi_Taw\n994      Myanmar                  Yangon                  Yangon\n1011      Bhutan                 Thimphu                 Thimphu",
      "text/html": "<div>\n<style scoped>\n    .dataframe tbody tr th:only-of-type {\n        vertical-align: middle;\n    }\n\n    .dataframe tbody tr th {\n        vertical-align: top;\n    }\n\n    .dataframe thead th {\n        text-align: right;\n    }\n</style>\n<table border=\"1\" class=\"dataframe\">\n  <thead>\n    <tr style=\"text-align: right;\">\n      <th></th>\n      <th>Country</th>\n      <th>Division</th>\n      <th>Zone</th>\n    </tr>\n  </thead>\n  <tbody>\n    <tr>\n      <th>0</th>\n      <td>Bangladesh</td>\n      <td>Barisal</td>\n      <td>Barisal</td>\n    </tr>\n    <tr>\n      <th>3</th>\n      <td>Bangladesh</td>\n      <td>Chittagong</td>\n      <td>Chittagong</td>\n    </tr>\n    <tr>\n      <th>17</th>\n      <td>Bangladesh</td>\n      <td>Dhaka</td>\n      <td>Dhaka</td>\n    </tr>\n    <tr>\n      <th>30</th>\n      <td>Bangladesh</td>\n      <td>Khulna</td>\n      <td>Khulna</td>\n    </tr>\n    <tr>\n      <th>45</th>\n      <td>Bangladesh</td>\n      <td>Rajshahi</td>\n      <td>Rajshahi</td>\n    </tr>\n    <tr>\n      <th>55</th>\n      <td>Bangladesh</td>\n      <td>Sylhet</td>\n      <td>Sylhet</td>\n    </tr>\n    <tr>\n      <th>56</th>\n      <td>India</td>\n      <td>Andaman_and_Nicobar</td>\n      <td>Andaman_and_Nicobar</td>\n    </tr>\n    <tr>\n      <th>61</th>\n      <td>India</td>\n      <td>Andhra_Pradesh</td>\n      <td>Andhra_Pradesh</td>\n    </tr>\n    <tr>\n      <th>117</th>\n      <td>India</td>\n      <td>Arunachal_Pradesh</td>\n      <td>Arunachal_Pradesh</td>\n    </tr>\n    <tr>\n      <th>118</th>\n      <td>India</td>\n      <td>Assam</td>\n      <td>Assam</td>\n    </tr>\n    <tr>\n      <th>141</th>\n      <td>India</td>\n      <td>Bihar</td>\n      <td>Bihar</td>\n    </tr>\n    <tr>\n      <th>174</th>\n      <td>India</td>\n      <td>Chandigarh</td>\n      <td>Chandigarh</td>\n    </tr>\n    <tr>\n      <th>179</th>\n      <td>India</td>\n      <td>Chhattisgarh</td>\n      <td>Chhattisgarh</td>\n    </tr>\n    <tr>\n      <th>188</th>\n      <td>India</td>\n      <td>Dadra_and_Nagar_Haveli</td>\n      <td>Dadra_and_Nagar_Haveli</td>\n    </tr>\n    <tr>\n      <th>189</th>\n      <td>India</td>\n      <td>Daman_and_Diu</td>\n      <td>Daman_and_Diu</td>\n    </tr>\n    <tr>\n      <th>190</th>\n      <td>India</td>\n      <td>Delhi</td>\n      <td>Delhi</td>\n    </tr>\n    <tr>\n      <th>191</th>\n      <td>India</td>\n      <td>Goa</td>\n      <td>Goa</td>\n    </tr>\n    <tr>\n      <th>217</th>\n      <td>India</td>\n      <td>Gujarat</td>\n      <td>Gujarat</td>\n    </tr>\n    <tr>\n      <th>260</th>\n      <td>India</td>\n      <td>Haryana</td>\n      <td>Haryana</td>\n    </tr>\n    <tr>\n      <th>277</th>\n      <td>India</td>\n      <td>Himachal_Pradesh</td>\n      <td>Himachal_Pradesh</td>\n    </tr>\n    <tr>\n      <th>279</th>\n      <td>India</td>\n      <td>Jammu_and_Kashmir</td>\n      <td>Jammu_and_Kashmir</td>\n    </tr>\n    <tr>\n      <th>289</th>\n      <td>India</td>\n      <td>Jharkhand</td>\n      <td>Jharkhand</td>\n    </tr>\n    <tr>\n      <th>328</th>\n      <td>India</td>\n      <td>Karnataka</td>\n      <td>Karnataka</td>\n    </tr>\n    <tr>\n      <th>365</th>\n      <td>India</td>\n      <td>Kerala</td>\n      <td>Kerala</td>\n    </tr>\n    <tr>\n      <th>384</th>\n      <td>India</td>\n      <td>Lakshadweep</td>\n      <td>Lakshadweep</td>\n    </tr>\n    <tr>\n      <th>411</th>\n      <td>India</td>\n      <td>Madhya_Pradesh</td>\n      <td>Madhya_Pradesh</td>\n    </tr>\n    <tr>\n      <th>483</th>\n      <td>India</td>\n      <td>Maharashtra</td>\n      <td>Maharashtra</td>\n    </tr>\n    <tr>\n      <th>524</th>\n      <td>India</td>\n      <td>Manipur</td>\n      <td>Manipur</td>\n    </tr>\n    <tr>\n      <th>525</th>\n      <td>India</td>\n      <td>Meghalaya</td>\n      <td>Meghalaya</td>\n    </tr>\n    <tr>\n      <th>530</th>\n      <td>India</td>\n      <td>Mizoram</td>\n      <td>Mizoram</td>\n    </tr>\n    <tr>\n      <th>536</th>\n      <td>India</td>\n      <td>Nagaland</td>\n      <td>Nagaland</td>\n    </tr>\n    <tr>\n      <th>557</th>\n      <td>India</td>\n      <td>Orissa</td>\n      <td>Orissa</td>\n    </tr>\n    <tr>\n      <th>560</th>\n      <td>India</td>\n      <td>Puducherry</td>\n      <td>Puducherry</td>\n    </tr>\n    <tr>\n      <th>586</th>\n      <td>India</td>\n      <td>Punjab</td>\n      <td>Punjab</td>\n    </tr>\n    <tr>\n      <th>632</th>\n      <td>India</td>\n      <td>Rajasthan</td>\n      <td>Rajasthan</td>\n    </tr>\n    <tr>\n      <th>642</th>\n      <td>India</td>\n      <td>Sikkim</td>\n      <td>Sikkim</td>\n    </tr>\n    <tr>\n      <th>696</th>\n      <td>India</td>\n      <td>Tamil_Nadu</td>\n      <td>Tamil_Nadu</td>\n    </tr>\n    <tr>\n      <th>756</th>\n      <td>India</td>\n      <td>Tripura</td>\n      <td>Tripura</td>\n    </tr>\n    <tr>\n      <th>862</th>\n      <td>India</td>\n      <td>Uttar_Pradesh</td>\n      <td>Uttar_Pradesh</td>\n    </tr>\n    <tr>\n      <th>872</th>\n      <td>India</td>\n      <td>Uttaranchal</td>\n      <td>Uttaranchal</td>\n    </tr>\n    <tr>\n      <th>948</th>\n      <td>India</td>\n      <td>West_Bengal</td>\n      <td>West_Bengal</td>\n    </tr>\n    <tr>\n      <th>955</th>\n      <td>Myanmar</td>\n      <td>Bago</td>\n      <td>Bago</td>\n    </tr>\n    <tr>\n      <th>963</th>\n      <td>Myanmar</td>\n      <td>Magway</td>\n      <td>Magway</td>\n    </tr>\n    <tr>\n      <th>971</th>\n      <td>Myanmar</td>\n      <td>Mandalay</td>\n      <td>Mandalay</td>\n    </tr>\n    <tr>\n      <th>980</th>\n      <td>Myanmar</td>\n      <td>Nay_Pyi_Taw</td>\n      <td>Nay_Pyi_Taw</td>\n    </tr>\n    <tr>\n      <th>994</th>\n      <td>Myanmar</td>\n      <td>Yangon</td>\n      <td>Yangon</td>\n    </tr>\n    <tr>\n      <th>1011</th>\n      <td>Bhutan</td>\n      <td>Thimphu</td>\n      <td>Thimphu</td>\n    </tr>\n  </tbody>\n</table>\n</div>"
     },
     "execution_count": 7,
     "metadata": {},
     "output_type": "execute_result"
    }
   ],
   "source": [
    "zone_data[zone_data.Division==zone_data.Zone]"
   ],
   "metadata": {
    "collapsed": false,
    "pycharm": {
     "name": "#%%\n"
    }
   }
  },
  {
   "cell_type": "code",
   "execution_count": 8,
   "outputs": [
    {
     "data": {
      "text/plain": "         Country        Division             Zone\n0     Bangladesh         Barisal          Barisal\n1     Bangladesh         Barisal            Bhola\n2     Bangladesh         Barisal         Pirojpur\n3     Bangladesh      Chittagong       Chittagong\n4     Bangladesh      Chittagong          Comilla\n...          ...             ...              ...\n1007       Nepal  Western_Region           Butwal\n1008       Nepal  Western_Region          Pokhara\n1009       Nepal  Western_Region  Siddharthanagar\n1010      Bhutan         Thimphu     Lungtenzampa\n1011      Bhutan         Thimphu          Thimphu\n\n[977 rows x 3 columns]",
      "text/html": "<div>\n<style scoped>\n    .dataframe tbody tr th:only-of-type {\n        vertical-align: middle;\n    }\n\n    .dataframe tbody tr th {\n        vertical-align: top;\n    }\n\n    .dataframe thead th {\n        text-align: right;\n    }\n</style>\n<table border=\"1\" class=\"dataframe\">\n  <thead>\n    <tr style=\"text-align: right;\">\n      <th></th>\n      <th>Country</th>\n      <th>Division</th>\n      <th>Zone</th>\n    </tr>\n  </thead>\n  <tbody>\n    <tr>\n      <th>0</th>\n      <td>Bangladesh</td>\n      <td>Barisal</td>\n      <td>Barisal</td>\n    </tr>\n    <tr>\n      <th>1</th>\n      <td>Bangladesh</td>\n      <td>Barisal</td>\n      <td>Bhola</td>\n    </tr>\n    <tr>\n      <th>2</th>\n      <td>Bangladesh</td>\n      <td>Barisal</td>\n      <td>Pirojpur</td>\n    </tr>\n    <tr>\n      <th>3</th>\n      <td>Bangladesh</td>\n      <td>Chittagong</td>\n      <td>Chittagong</td>\n    </tr>\n    <tr>\n      <th>4</th>\n      <td>Bangladesh</td>\n      <td>Chittagong</td>\n      <td>Comilla</td>\n    </tr>\n    <tr>\n      <th>...</th>\n      <td>...</td>\n      <td>...</td>\n      <td>...</td>\n    </tr>\n    <tr>\n      <th>1007</th>\n      <td>Nepal</td>\n      <td>Western_Region</td>\n      <td>Butwal</td>\n    </tr>\n    <tr>\n      <th>1008</th>\n      <td>Nepal</td>\n      <td>Western_Region</td>\n      <td>Pokhara</td>\n    </tr>\n    <tr>\n      <th>1009</th>\n      <td>Nepal</td>\n      <td>Western_Region</td>\n      <td>Siddharthanagar</td>\n    </tr>\n    <tr>\n      <th>1010</th>\n      <td>Bhutan</td>\n      <td>Thimphu</td>\n      <td>Lungtenzampa</td>\n    </tr>\n    <tr>\n      <th>1011</th>\n      <td>Bhutan</td>\n      <td>Thimphu</td>\n      <td>Thimphu</td>\n    </tr>\n  </tbody>\n</table>\n<p>977 rows × 3 columns</p>\n</div>"
     },
     "execution_count": 8,
     "metadata": {},
     "output_type": "execute_result"
    }
   ],
   "source": [
    "zone_data_clean = zone_data[(zone_data.Country!='India') | (zone_data.Division!=zone_data.Zone)]\n",
    "zone_data_clean"
   ],
   "metadata": {
    "collapsed": false,
    "pycharm": {
     "name": "#%%\n"
    }
   }
  },
  {
   "cell_type": "markdown",
   "source": [
    "### India has around 900 stations over 29 areas so we sample 3 stations from each states while discarding states with stations in low numbers"
   ],
   "metadata": {
    "collapsed": false,
    "pycharm": {
     "name": "#%% md\n"
    }
   }
  },
  {
   "cell_type": "code",
   "execution_count": 10,
   "outputs": [
    {
     "data": {
      "text/plain": "India         858\nBangladesh     56\nMyanmar        46\nNepal          15\nBhutan          2\nName: Country, dtype: int64"
     },
     "execution_count": 10,
     "metadata": {},
     "output_type": "execute_result"
    }
   ],
   "source": [
    "zone_data_clean.Country.value_counts()"
   ],
   "metadata": {
    "collapsed": false,
    "pycharm": {
     "name": "#%%\n"
    }
   }
  },
  {
   "cell_type": "code",
   "execution_count": 10,
   "outputs": [
    {
     "data": {
      "text/plain": "Uttar_Pradesh       107\nMaharashtra          86\nWest_Bengal          75\nTamil_Nadu           72\nAndhra_Pradesh       59\nKarnataka            55\nGujarat              53\nMadhya_Pradesh       50\nRajasthan            48\nBihar                41\nTelangana            39\nPunjab               31\nHaryana              27\nKerala               23\nOdisha               19\nJharkhand            16\nAssam                13\nChhattisgarh         12\nUttarakhand           7\nKashmir               7\nNCT                   3\nNagaland              3\nGoa                   3\nMeghalaya             2\nPondicherry           2\nMizoram               2\nManipur               1\nTripura               1\nHimachal_Pradesh      1\nName: Division, dtype: int64"
     },
     "execution_count": 10,
     "metadata": {},
     "output_type": "execute_result"
    }
   ],
   "source": [
    "zone_data_clean_india = zone_data_clean[zone_data_clean.Country=='India']\n",
    "zone_data_clean_not_india = zone_data_clean[zone_data_clean.Country!='India']\n",
    "division_value_counts_india = zone_data_clean_india.Division.value_counts()\n",
    "division_value_counts_india"
   ],
   "metadata": {
    "collapsed": false,
    "pycharm": {
     "name": "#%%\n"
    }
   }
  },
  {
   "cell_type": "markdown",
   "source": [
    "# Random Selection"
   ],
   "metadata": {
    "collapsed": false,
    "pycharm": {
     "name": "#%% md\n"
    }
   }
  },
  {
   "cell_type": "code",
   "execution_count": null,
   "outputs": [],
   "source": [
    "# zone_data_clean_india.groupby('Division').apply(lambda x: x.sample(frac=.1) if len(x)>10 else x)"
   ],
   "metadata": {
    "collapsed": false,
    "pycharm": {
     "name": "#%%\n"
    }
   }
  },
  {
   "cell_type": "code",
   "execution_count": null,
   "outputs": [],
   "source": [
    "infrequent_division_value_counts_india = division_value_counts_india[division_value_counts_india<3]"
   ],
   "metadata": {
    "collapsed": false,
    "pycharm": {
     "name": "#%%\n"
    }
   }
  },
  {
   "cell_type": "code",
   "execution_count": 20,
   "outputs": [
    {
     "data": {
      "text/plain": "Pondicherry         2\nMizoram             2\nMeghalaya           2\nTripura             1\nHimachal_Pradesh    1\nManipur             1\nName: Division, dtype: int64"
     },
     "execution_count": 20,
     "metadata": {},
     "output_type": "execute_result"
    }
   ],
   "source": [
    "infrequent_division_value_counts_india"
   ],
   "metadata": {
    "collapsed": false,
    "pycharm": {
     "name": "#%%\n"
    }
   }
  },
  {
   "cell_type": "code",
   "execution_count": 47,
   "outputs": [
    {
     "data": {
      "text/plain": "    Country        Division        Zone\n89    India  Andhra_Pradesh     Nandyal\n59    India  Andhra_Pradesh  Anakapalle\n114   India  Andhra_Pradesh   Vinukonda\n121   India           Assam   Dibrugarh\n119   India           Assam  Bongaigaon\n..      ...             ...         ...\n871   India     Uttarakhand     Roorkee\n869   India     Uttarakhand    Ramnagar\n896   India     West_Bengal     Dhulian\n908   India     West_Bengal    Islampur\n944   India     West_Bengal  Shrirampur\n\n[69 rows x 3 columns]",
      "text/html": "<div>\n<style scoped>\n    .dataframe tbody tr th:only-of-type {\n        vertical-align: middle;\n    }\n\n    .dataframe tbody tr th {\n        vertical-align: top;\n    }\n\n    .dataframe thead th {\n        text-align: right;\n    }\n</style>\n<table border=\"1\" class=\"dataframe\">\n  <thead>\n    <tr style=\"text-align: right;\">\n      <th></th>\n      <th>Country</th>\n      <th>Division</th>\n      <th>Zone</th>\n    </tr>\n  </thead>\n  <tbody>\n    <tr>\n      <th>89</th>\n      <td>India</td>\n      <td>Andhra_Pradesh</td>\n      <td>Nandyal</td>\n    </tr>\n    <tr>\n      <th>59</th>\n      <td>India</td>\n      <td>Andhra_Pradesh</td>\n      <td>Anakapalle</td>\n    </tr>\n    <tr>\n      <th>114</th>\n      <td>India</td>\n      <td>Andhra_Pradesh</td>\n      <td>Vinukonda</td>\n    </tr>\n    <tr>\n      <th>121</th>\n      <td>India</td>\n      <td>Assam</td>\n      <td>Dibrugarh</td>\n    </tr>\n    <tr>\n      <th>119</th>\n      <td>India</td>\n      <td>Assam</td>\n      <td>Bongaigaon</td>\n    </tr>\n    <tr>\n      <th>...</th>\n      <td>...</td>\n      <td>...</td>\n      <td>...</td>\n    </tr>\n    <tr>\n      <th>871</th>\n      <td>India</td>\n      <td>Uttarakhand</td>\n      <td>Roorkee</td>\n    </tr>\n    <tr>\n      <th>869</th>\n      <td>India</td>\n      <td>Uttarakhand</td>\n      <td>Ramnagar</td>\n    </tr>\n    <tr>\n      <th>896</th>\n      <td>India</td>\n      <td>West_Bengal</td>\n      <td>Dhulian</td>\n    </tr>\n    <tr>\n      <th>908</th>\n      <td>India</td>\n      <td>West_Bengal</td>\n      <td>Islampur</td>\n    </tr>\n    <tr>\n      <th>944</th>\n      <td>India</td>\n      <td>West_Bengal</td>\n      <td>Shrirampur</td>\n    </tr>\n  </tbody>\n</table>\n<p>69 rows × 3 columns</p>\n</div>"
     },
     "execution_count": 47,
     "metadata": {},
     "output_type": "execute_result"
    }
   ],
   "source": [
    "zone_data_clean_india_frequent = zone_data_clean_india[~zone_data_clean_india.isin(infrequent_division_value_counts_india.index)]\n",
    "zone_data_clean_india_frequent_sample = zone_data_clean_india_frequent.groupby('Division').apply(lambda x: x.sample(3)).droplevel(0)\n",
    "zone_data_clean_india_frequent_sample"
   ],
   "metadata": {
    "collapsed": false,
    "pycharm": {
     "name": "#%%\n"
    }
   }
  },
  {
   "cell_type": "code",
   "execution_count": 34,
   "outputs": [
    {
     "data": {
      "text/plain": "         Country        Division             Zone\n0     Bangladesh         Barisal          Barisal\n1     Bangladesh         Barisal            Bhola\n2     Bangladesh         Barisal         Pirojpur\n3     Bangladesh      Chittagong       Chittagong\n4     Bangladesh      Chittagong          Comilla\n...          ...             ...              ...\n1007       Nepal  Western_Region           Butwal\n1008       Nepal  Western_Region          Pokhara\n1009       Nepal  Western_Region  Siddharthanagar\n1010      Bhutan         Thimphu     Lungtenzampa\n1011      Bhutan         Thimphu          Thimphu\n\n[119 rows x 3 columns]",
      "text/html": "<div>\n<style scoped>\n    .dataframe tbody tr th:only-of-type {\n        vertical-align: middle;\n    }\n\n    .dataframe tbody tr th {\n        vertical-align: top;\n    }\n\n    .dataframe thead th {\n        text-align: right;\n    }\n</style>\n<table border=\"1\" class=\"dataframe\">\n  <thead>\n    <tr style=\"text-align: right;\">\n      <th></th>\n      <th>Country</th>\n      <th>Division</th>\n      <th>Zone</th>\n    </tr>\n  </thead>\n  <tbody>\n    <tr>\n      <th>0</th>\n      <td>Bangladesh</td>\n      <td>Barisal</td>\n      <td>Barisal</td>\n    </tr>\n    <tr>\n      <th>1</th>\n      <td>Bangladesh</td>\n      <td>Barisal</td>\n      <td>Bhola</td>\n    </tr>\n    <tr>\n      <th>2</th>\n      <td>Bangladesh</td>\n      <td>Barisal</td>\n      <td>Pirojpur</td>\n    </tr>\n    <tr>\n      <th>3</th>\n      <td>Bangladesh</td>\n      <td>Chittagong</td>\n      <td>Chittagong</td>\n    </tr>\n    <tr>\n      <th>4</th>\n      <td>Bangladesh</td>\n      <td>Chittagong</td>\n      <td>Comilla</td>\n    </tr>\n    <tr>\n      <th>...</th>\n      <td>...</td>\n      <td>...</td>\n      <td>...</td>\n    </tr>\n    <tr>\n      <th>1007</th>\n      <td>Nepal</td>\n      <td>Western_Region</td>\n      <td>Butwal</td>\n    </tr>\n    <tr>\n      <th>1008</th>\n      <td>Nepal</td>\n      <td>Western_Region</td>\n      <td>Pokhara</td>\n    </tr>\n    <tr>\n      <th>1009</th>\n      <td>Nepal</td>\n      <td>Western_Region</td>\n      <td>Siddharthanagar</td>\n    </tr>\n    <tr>\n      <th>1010</th>\n      <td>Bhutan</td>\n      <td>Thimphu</td>\n      <td>Lungtenzampa</td>\n    </tr>\n    <tr>\n      <th>1011</th>\n      <td>Bhutan</td>\n      <td>Thimphu</td>\n      <td>Thimphu</td>\n    </tr>\n  </tbody>\n</table>\n<p>119 rows × 3 columns</p>\n</div>"
     },
     "execution_count": 34,
     "metadata": {},
     "output_type": "execute_result"
    }
   ],
   "source": [
    "zone_data_clean_not_india"
   ],
   "metadata": {
    "collapsed": false,
    "pycharm": {
     "name": "#%%\n"
    }
   }
  },
  {
   "cell_type": "code",
   "execution_count": null,
   "outputs": [],
   "source": [
    "test_sample_data = pd.concat((zone_data_clean_not_india, zone_data_clean_india_frequent_sample))\n",
    "test_sample_data.to_csv('bd_and_neighbours_india_random.csv', index=False)"
   ],
   "metadata": {
    "collapsed": false,
    "pycharm": {
     "name": "#%%\n"
    }
   }
  },
  {
   "cell_type": "markdown",
   "source": [
    "# Another Way of selection"
   ],
   "metadata": {
    "collapsed": false,
    "pycharm": {
     "name": "#%% md\n"
    }
   }
  },
  {
   "cell_type": "code",
   "execution_count": 13,
   "outputs": [],
   "source": [
    "india_states_selected = ['Uttar_Pradesh','West_Bengal','Madhya_Pradesh','Bihar',\n",
    "                         'Telangana','Haryana','Odisha','Jharkhand','Assam',\n",
    "                         'Chhattisgarh','NCT','Tripura']"
   ],
   "metadata": {
    "collapsed": false,
    "pycharm": {
     "name": "#%%\n"
    }
   }
  },
  {
   "cell_type": "code",
   "execution_count": 19,
   "outputs": [
    {
     "data": {
      "text/plain": "    Country     Division        Zone\n119   India        Assam  Bongaigaon\n120   India        Assam     Dhuburi\n121   India        Assam   Dibrugarh\n122   India        Assam       Diphu\n123   India        Assam    Goalpara\n..      ...          ...         ...\n943   India  West_Bengal   Shiliguri\n944   India  West_Bengal  Shrirampur\n945   India  West_Bengal  Shyamnagar\n946   India  West_Bengal       Siuri\n947   India  West_Bengal    Titagarh\n\n[403 rows x 3 columns]",
      "text/html": "<div>\n<style scoped>\n    .dataframe tbody tr th:only-of-type {\n        vertical-align: middle;\n    }\n\n    .dataframe tbody tr th {\n        vertical-align: top;\n    }\n\n    .dataframe thead th {\n        text-align: right;\n    }\n</style>\n<table border=\"1\" class=\"dataframe\">\n  <thead>\n    <tr style=\"text-align: right;\">\n      <th></th>\n      <th>Country</th>\n      <th>Division</th>\n      <th>Zone</th>\n    </tr>\n  </thead>\n  <tbody>\n    <tr>\n      <th>119</th>\n      <td>India</td>\n      <td>Assam</td>\n      <td>Bongaigaon</td>\n    </tr>\n    <tr>\n      <th>120</th>\n      <td>India</td>\n      <td>Assam</td>\n      <td>Dhuburi</td>\n    </tr>\n    <tr>\n      <th>121</th>\n      <td>India</td>\n      <td>Assam</td>\n      <td>Dibrugarh</td>\n    </tr>\n    <tr>\n      <th>122</th>\n      <td>India</td>\n      <td>Assam</td>\n      <td>Diphu</td>\n    </tr>\n    <tr>\n      <th>123</th>\n      <td>India</td>\n      <td>Assam</td>\n      <td>Goalpara</td>\n    </tr>\n    <tr>\n      <th>...</th>\n      <td>...</td>\n      <td>...</td>\n      <td>...</td>\n    </tr>\n    <tr>\n      <th>943</th>\n      <td>India</td>\n      <td>West_Bengal</td>\n      <td>Shiliguri</td>\n    </tr>\n    <tr>\n      <th>944</th>\n      <td>India</td>\n      <td>West_Bengal</td>\n      <td>Shrirampur</td>\n    </tr>\n    <tr>\n      <th>945</th>\n      <td>India</td>\n      <td>West_Bengal</td>\n      <td>Shyamnagar</td>\n    </tr>\n    <tr>\n      <th>946</th>\n      <td>India</td>\n      <td>West_Bengal</td>\n      <td>Siuri</td>\n    </tr>\n    <tr>\n      <th>947</th>\n      <td>India</td>\n      <td>West_Bengal</td>\n      <td>Titagarh</td>\n    </tr>\n  </tbody>\n</table>\n<p>403 rows × 3 columns</p>\n</div>"
     },
     "execution_count": 19,
     "metadata": {},
     "output_type": "execute_result"
    }
   ],
   "source": [
    "zone_data_clean_india_final = zone_data_clean_india[zone_data_clean_india.Division.isin(india_states_selected)]\n",
    "zone_data_clean_bangladesh_and_myanmar_final = zone_data_clean_not_india[zone_data_clean_not_india.Country.isin([\"Bangladesh\",\"Myanmar\"])]\n",
    "zone_data_clean_india_final"
   ],
   "metadata": {
    "collapsed": false,
    "pycharm": {
     "name": "#%%\n"
    }
   }
  },
  {
   "cell_type": "markdown",
   "source": [
    "## Finalizing Dataset"
   ],
   "metadata": {
    "collapsed": false,
    "pycharm": {
     "name": "#%% md\n"
    }
   }
  },
  {
   "cell_type": "code",
   "execution_count": 20,
   "outputs": [
    {
     "data": {
      "text/plain": "     Country     Division        Zone\n119    India        Assam  Bongaigaon\n120    India        Assam     Dhuburi\n121    India        Assam   Dibrugarh\n122    India        Assam       Diphu\n123    India        Assam    Goalpara\n..       ...          ...         ...\n990  Myanmar  Tanintharyi       Myeik\n991  Myanmar       Yangon       Kanbe\n992  Myanmar       Yangon      Syriam\n993  Myanmar       Yangon     Thongwa\n994  Myanmar       Yangon      Yangon\n\n[505 rows x 3 columns]",
      "text/html": "<div>\n<style scoped>\n    .dataframe tbody tr th:only-of-type {\n        vertical-align: middle;\n    }\n\n    .dataframe tbody tr th {\n        vertical-align: top;\n    }\n\n    .dataframe thead th {\n        text-align: right;\n    }\n</style>\n<table border=\"1\" class=\"dataframe\">\n  <thead>\n    <tr style=\"text-align: right;\">\n      <th></th>\n      <th>Country</th>\n      <th>Division</th>\n      <th>Zone</th>\n    </tr>\n  </thead>\n  <tbody>\n    <tr>\n      <th>119</th>\n      <td>India</td>\n      <td>Assam</td>\n      <td>Bongaigaon</td>\n    </tr>\n    <tr>\n      <th>120</th>\n      <td>India</td>\n      <td>Assam</td>\n      <td>Dhuburi</td>\n    </tr>\n    <tr>\n      <th>121</th>\n      <td>India</td>\n      <td>Assam</td>\n      <td>Dibrugarh</td>\n    </tr>\n    <tr>\n      <th>122</th>\n      <td>India</td>\n      <td>Assam</td>\n      <td>Diphu</td>\n    </tr>\n    <tr>\n      <th>123</th>\n      <td>India</td>\n      <td>Assam</td>\n      <td>Goalpara</td>\n    </tr>\n    <tr>\n      <th>...</th>\n      <td>...</td>\n      <td>...</td>\n      <td>...</td>\n    </tr>\n    <tr>\n      <th>990</th>\n      <td>Myanmar</td>\n      <td>Tanintharyi</td>\n      <td>Myeik</td>\n    </tr>\n    <tr>\n      <th>991</th>\n      <td>Myanmar</td>\n      <td>Yangon</td>\n      <td>Kanbe</td>\n    </tr>\n    <tr>\n      <th>992</th>\n      <td>Myanmar</td>\n      <td>Yangon</td>\n      <td>Syriam</td>\n    </tr>\n    <tr>\n      <th>993</th>\n      <td>Myanmar</td>\n      <td>Yangon</td>\n      <td>Thongwa</td>\n    </tr>\n    <tr>\n      <th>994</th>\n      <td>Myanmar</td>\n      <td>Yangon</td>\n      <td>Yangon</td>\n    </tr>\n  </tbody>\n</table>\n<p>505 rows × 3 columns</p>\n</div>"
     },
     "execution_count": 20,
     "metadata": {},
     "output_type": "execute_result"
    }
   ],
   "source": [
    "test_sample_data = pd.concat((zone_data_clean_india_final,zone_data_clean_bangladesh_and_myanmar_final))\n",
    "test_sample_data"
   ],
   "metadata": {
    "collapsed": false,
    "pycharm": {
     "name": "#%%\n"
    }
   }
  },
  {
   "cell_type": "code",
   "execution_count": 21,
   "outputs": [],
   "source": [
    "test_sample_data.to_csv('bd_and_neighbours.csv',index=False)"
   ],
   "metadata": {
    "collapsed": false,
    "pycharm": {
     "name": "#%%\n"
    }
   }
  },
  {
   "cell_type": "markdown",
   "source": [
    "# File Validation"
   ],
   "metadata": {
    "collapsed": false,
    "pycharm": {
     "name": "#%% md\n"
    }
   }
  },
  {
   "cell_type": "code",
   "execution_count": 27,
   "outputs": [],
   "source": [
    "from paths import raw_data_path\n",
    "from data_preparation import get_common_id\n",
    "import os"
   ],
   "metadata": {
    "collapsed": false,
    "pycharm": {
     "name": "#%%\n"
    }
   }
  },
  {
   "cell_type": "code",
   "execution_count": 24,
   "outputs": [],
   "source": [
    "raw_file_path = raw_data_path+get_common_id()\n",
    "files = pd.Series(os.listdir(raw_file_path))"
   ],
   "metadata": {
    "collapsed": false,
    "pycharm": {
     "name": "#%%\n"
    }
   }
  },
  {
   "cell_type": "code",
   "execution_count": 20,
   "outputs": [
    {
     "data": {
      "text/plain": "0             Maubin\n1           Myingyan\n2               Agra\n3           Adilabad\n4      Jumri_Tilaiya\n           ...      \n494         Lalitpur\n495           Itarsi\n496         Raniganj\n497            Satna\n498    Greater_Noida\nLength: 499, dtype: object"
     },
     "execution_count": 20,
     "metadata": {},
     "output_type": "execute_result"
    }
   ],
   "source": [
    "zones = files.str[:-4].str.replace('-',' ')\n",
    "zones"
   ],
   "metadata": {
    "collapsed": false,
    "pycharm": {
     "name": "#%%\n"
    }
   }
  },
  {
   "cell_type": "code",
   "execution_count": 34,
   "outputs": [
    {
     "data": {
      "text/plain": "     Country     Division        Zone\n0      India        Assam  Bongaigaon\n1      India        Assam     Dhuburi\n2      India        Assam   Dibrugarh\n3      India        Assam       Diphu\n4      India        Assam    Goalpara\n..       ...          ...         ...\n500  Myanmar  Tanintharyi       Myeik\n501  Myanmar       Yangon       Kanbe\n502  Myanmar       Yangon      Syriam\n503  Myanmar       Yangon     Thongwa\n504  Myanmar       Yangon      Yangon\n\n[503 rows x 3 columns]",
      "text/html": "<div>\n<style scoped>\n    .dataframe tbody tr th:only-of-type {\n        vertical-align: middle;\n    }\n\n    .dataframe tbody tr th {\n        vertical-align: top;\n    }\n\n    .dataframe thead th {\n        text-align: right;\n    }\n</style>\n<table border=\"1\" class=\"dataframe\">\n  <thead>\n    <tr style=\"text-align: right;\">\n      <th></th>\n      <th>Country</th>\n      <th>Division</th>\n      <th>Zone</th>\n    </tr>\n  </thead>\n  <tbody>\n    <tr>\n      <th>0</th>\n      <td>India</td>\n      <td>Assam</td>\n      <td>Bongaigaon</td>\n    </tr>\n    <tr>\n      <th>1</th>\n      <td>India</td>\n      <td>Assam</td>\n      <td>Dhuburi</td>\n    </tr>\n    <tr>\n      <th>2</th>\n      <td>India</td>\n      <td>Assam</td>\n      <td>Dibrugarh</td>\n    </tr>\n    <tr>\n      <th>3</th>\n      <td>India</td>\n      <td>Assam</td>\n      <td>Diphu</td>\n    </tr>\n    <tr>\n      <th>4</th>\n      <td>India</td>\n      <td>Assam</td>\n      <td>Goalpara</td>\n    </tr>\n    <tr>\n      <th>...</th>\n      <td>...</td>\n      <td>...</td>\n      <td>...</td>\n    </tr>\n    <tr>\n      <th>500</th>\n      <td>Myanmar</td>\n      <td>Tanintharyi</td>\n      <td>Myeik</td>\n    </tr>\n    <tr>\n      <th>501</th>\n      <td>Myanmar</td>\n      <td>Yangon</td>\n      <td>Kanbe</td>\n    </tr>\n    <tr>\n      <th>502</th>\n      <td>Myanmar</td>\n      <td>Yangon</td>\n      <td>Syriam</td>\n    </tr>\n    <tr>\n      <th>503</th>\n      <td>Myanmar</td>\n      <td>Yangon</td>\n      <td>Thongwa</td>\n    </tr>\n    <tr>\n      <th>504</th>\n      <td>Myanmar</td>\n      <td>Yangon</td>\n      <td>Yangon</td>\n    </tr>\n  </tbody>\n</table>\n<p>503 rows × 3 columns</p>\n</div>"
     },
     "execution_count": 34,
     "metadata": {},
     "output_type": "execute_result"
    }
   ],
   "source": [
    "zone_data[zone_data.Zone.isin(zones)]"
   ],
   "metadata": {
    "collapsed": false,
    "pycharm": {
     "name": "#%%\n"
    }
   }
  },
  {
   "cell_type": "code",
   "execution_count": 47,
   "outputs": [
    {
     "data": {
      "text/plain": "        Country             Division       Zone\n17        India                Bihar    Bangaon\n33        India                Bihar   Jamalpur\n64        India         Chhattisgarh     Raipur\n74        India              Haryana  Gorakhpur\n250       India        Uttar_Pradesh   Faridpur\n261       India        Uttar_Pradesh  Gorakhpur\n299       India        Uttar_Pradesh  Nawabganj\n336       India          West_Bengal    Bangaon\n414  Bangladesh           Chittagong     Raipur\n421  Bangladesh                Dhaka   Faridpur\n437  Bangladesh  Mymensingh_Division   Jamalpur\n445  Bangladesh             Rajshahi  Nawabganj",
      "text/html": "<div>\n<style scoped>\n    .dataframe tbody tr th:only-of-type {\n        vertical-align: middle;\n    }\n\n    .dataframe tbody tr th {\n        vertical-align: top;\n    }\n\n    .dataframe thead th {\n        text-align: right;\n    }\n</style>\n<table border=\"1\" class=\"dataframe\">\n  <thead>\n    <tr style=\"text-align: right;\">\n      <th></th>\n      <th>Country</th>\n      <th>Division</th>\n      <th>Zone</th>\n    </tr>\n  </thead>\n  <tbody>\n    <tr>\n      <th>17</th>\n      <td>India</td>\n      <td>Bihar</td>\n      <td>Bangaon</td>\n    </tr>\n    <tr>\n      <th>33</th>\n      <td>India</td>\n      <td>Bihar</td>\n      <td>Jamalpur</td>\n    </tr>\n    <tr>\n      <th>64</th>\n      <td>India</td>\n      <td>Chhattisgarh</td>\n      <td>Raipur</td>\n    </tr>\n    <tr>\n      <th>74</th>\n      <td>India</td>\n      <td>Haryana</td>\n      <td>Gorakhpur</td>\n    </tr>\n    <tr>\n      <th>250</th>\n      <td>India</td>\n      <td>Uttar_Pradesh</td>\n      <td>Faridpur</td>\n    </tr>\n    <tr>\n      <th>261</th>\n      <td>India</td>\n      <td>Uttar_Pradesh</td>\n      <td>Gorakhpur</td>\n    </tr>\n    <tr>\n      <th>299</th>\n      <td>India</td>\n      <td>Uttar_Pradesh</td>\n      <td>Nawabganj</td>\n    </tr>\n    <tr>\n      <th>336</th>\n      <td>India</td>\n      <td>West_Bengal</td>\n      <td>Bangaon</td>\n    </tr>\n    <tr>\n      <th>414</th>\n      <td>Bangladesh</td>\n      <td>Chittagong</td>\n      <td>Raipur</td>\n    </tr>\n    <tr>\n      <th>421</th>\n      <td>Bangladesh</td>\n      <td>Dhaka</td>\n      <td>Faridpur</td>\n    </tr>\n    <tr>\n      <th>437</th>\n      <td>Bangladesh</td>\n      <td>Mymensingh_Division</td>\n      <td>Jamalpur</td>\n    </tr>\n    <tr>\n      <th>445</th>\n      <td>Bangladesh</td>\n      <td>Rajshahi</td>\n      <td>Nawabganj</td>\n    </tr>\n  </tbody>\n</table>\n</div>"
     },
     "execution_count": 47,
     "metadata": {},
     "output_type": "execute_result"
    }
   ],
   "source": [
    "zone_data[zone_data.Zone.duplicated(keep=False)]"
   ],
   "metadata": {
    "collapsed": false,
    "pycharm": {
     "name": "#%%\n"
    }
   }
  }
 ],
 "metadata": {
  "kernelspec": {
   "display_name": "Python 3",
   "language": "python",
   "name": "python3"
  },
  "language_info": {
   "codemirror_mode": {
    "name": "ipython",
    "version": 2
   },
   "file_extension": ".py",
   "mimetype": "text/x-python",
   "name": "python",
   "nbconvert_exporter": "python",
   "pygments_lexer": "ipython2",
   "version": "2.7.6"
  }
 },
 "nbformat": 4,
 "nbformat_minor": 0
}