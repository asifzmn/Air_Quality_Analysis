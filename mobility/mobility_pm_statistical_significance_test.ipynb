{
 "cells": [
  {
   "cell_type": "code",
   "execution_count": 1,
   "metadata": {
    "collapsed": true
   },
   "outputs": [],
   "source": [
    "import pandas as pd\n",
    "\n",
    "from data_preparation.additional_data_preparation import prepare_covid_dataset, get_mobility_data\n",
    "from paths import *\n",
    "\n",
    "from data_preparation import get_metadata, get_series, clip_missing_prone_values, prepare_region_and_country_series\n",
    "\n",
    "series_with_heavy_missing, metadata_with_heavy_missing = get_series(), get_metadata()\n",
    "division_missing_counts, metadata, series = clip_missing_prone_values(metadata_with_heavy_missing,\n",
    "                                                                      series_with_heavy_missing)\n",
    "region_series, metadata_region, country_series, metadata_country = prepare_region_and_country_series(series,\n",
    "                                                                                                     metadata)"
   ]
  },
  {
   "cell_type": "code",
   "execution_count": 4,
   "outputs": [
    {
     "data": {
      "text/plain": "time\n2017-01-01 00:00:00    205.85\n2017-01-01 01:00:00    200.40\n2017-01-01 02:00:00    179.61\n2017-01-01 03:00:00    170.06\n2017-01-01 04:00:00    162.95\n                        ...  \n2022-04-30 19:00:00     50.60\n2022-04-30 20:00:00     52.62\n2022-04-30 21:00:00     35.74\n2022-04-30 22:00:00     33.84\n2022-04-30 23:00:00     36.02\nName: Bangladesh, Length: 46704, dtype: float64"
     },
     "execution_count": 4,
     "metadata": {},
     "output_type": "execute_result"
    }
   ],
   "source": [
    "time_series_bd = country_series.Bangladesh\n",
    "time_series_bd"
   ],
   "metadata": {
    "collapsed": false,
    "pycharm": {
     "name": "#%%\n"
    }
   }
  },
  {
   "cell_type": "code",
   "execution_count": 10,
   "outputs": [
    {
     "data": {
      "text/plain": "(42.74621476166069, 37.30622247446083, 31.05304781327895, 40.03075868372944)"
     },
     "execution_count": 10,
     "metadata": {},
     "output_type": "execute_result"
    }
   ],
   "source": [
    "time_series_bd['2018-03':'2018-08'].mean(),time_series_bd['2019-03':'2019-08'].mean(),time_series_bd['2020-03':'2020-08'].mean(),time_series_bd['2021-03':'2021-08'].mean()"
   ],
   "metadata": {
    "collapsed": false,
    "pycharm": {
     "name": "#%%\n"
    }
   }
  },
  {
   "cell_type": "code",
   "execution_count": 127,
   "outputs": [],
   "source": [
    "# regular = pd.concat((time_series_bd['2018-03':'2018-08'],time_series_bd['2019-03':'2019-08']))\n",
    "regular = time_series_bd['2019-03':'2019-08']\n",
    "# non_regular = pd.concat((time_series_bd['2020-03':'2020-08'],time_series_bd['2021-03':'2021-08']))\n",
    "non_regular = time_series_bd['2019-03':'2020-08']"
   ],
   "metadata": {
    "collapsed": false,
    "pycharm": {
     "name": "#%%\n"
    }
   }
  },
  {
   "cell_type": "code",
   "execution_count": 128,
   "outputs": [
    {
     "data": {
      "text/plain": "((4416,), (4416,))"
     },
     "execution_count": 128,
     "metadata": {},
     "output_type": "execute_result"
    }
   ],
   "source": [
    "regular.shape,non_regular.shape"
   ],
   "metadata": {
    "collapsed": false,
    "pycharm": {
     "name": "#%%\n"
    }
   }
  },
  {
   "cell_type": "code",
   "execution_count": 37,
   "outputs": [
    {
     "data": {
      "text/plain": "(13248,)"
     },
     "execution_count": 37,
     "metadata": {},
     "output_type": "execute_result"
    }
   ],
   "source": [
    "all_data = pd.concat((regular, non_regular))\n",
    "all_data.shape"
   ],
   "metadata": {
    "collapsed": false,
    "pycharm": {
     "name": "#%%\n"
    }
   }
  },
  {
   "cell_type": "code",
   "execution_count": 251,
   "outputs": [],
   "source": [
    "group_a,group_b = regular.dropna(), non_regular.dropna()\n",
    "# group_a,group_b = np.random.normal(0, 0.1, 1000),np.random.normal(0, 0.1, 1000)\n",
    "# group_a,group_b = [1,2,1,1,2],[2,1,2,5,7]\n",
    "group_a,group_b = [1,1,5,1,1],[3,2,3,2,3]\n"
   ],
   "metadata": {
    "collapsed": false,
    "pycharm": {
     "name": "#%%\n"
    }
   }
  },
  {
   "cell_type": "code",
   "execution_count": 252,
   "outputs": [
    {
     "data": {
      "text/plain": "(-0.9561828874675148, 0.3669779967385497)"
     },
     "execution_count": 252,
     "metadata": {},
     "output_type": "execute_result"
    }
   ],
   "source": [
    "from scipy import stats\n",
    "\n",
    "t_value, p_value = stats.ttest_ind(group_a,group_b)\n",
    "\n",
    "t_value, p_value"
   ],
   "metadata": {
    "collapsed": false,
    "pycharm": {
     "name": "#%%\n"
    }
   }
  },
  {
   "cell_type": "code",
   "execution_count": 64,
   "outputs": [
    {
     "data": {
      "text/plain": "0.694412845869536"
     },
     "execution_count": 64,
     "metadata": {},
     "output_type": "execute_result"
    }
   ],
   "source": [
    "group_a = all_data.sample(frac=regular.shape[0]/all_data.shape[0])\n",
    "group_b = all_data.drop(group_a.index)\n",
    "iteration_mean_difference =  group_a.mean() - group_b.mean()\n",
    "iteration_mean_difference"
   ],
   "metadata": {
    "collapsed": false,
    "pycharm": {
     "name": "#%%\n"
    }
   }
  },
  {
   "cell_type": "code",
   "execution_count": 65,
   "outputs": [
    {
     "data": {
      "text/plain": "<Figure size 432x288 with 1 Axes>",
      "image/png": "[encoded data removed]"
     },
     "metadata": {
      "needs_background": "light"
     },
     "output_type": "display_data"
    }
   ],
   "source": [
    "import numpy as np\n",
    "\n",
    "mean_difference = regular.mean() - non_regular.mean()\n",
    "# a series of all values from the total_sales column\n",
    "\n",
    "mean_differences = []\n",
    "# for loop to create our 1000 permutations\n",
    "for i in range(1000):\n",
    "    # # empty array to represent a random total sales w/ profile pic\n",
    "    # group_a = []\n",
    "    # # empty array to represent a random total sales w/o profile pic\n",
    "    # group_b = []\n",
    "    #\n",
    "    # # use a for loop to randomonly place the total sales in one of the two lists\n",
    "    # for data_entry in all_data:\n",
    "    #     random_value = np.random.random()\n",
    "    #     # randomally assinging each value to a new list\n",
    "    #     if random_value > 0.5:\n",
    "    #         group_a.append(data_entry)\n",
    "    #     elif random_value <= 0.5:\n",
    "    #          group_b.append(data_entry)\n",
    "    #\n",
    "    # print((np.array(group_a)).mean())\n",
    "    # print(len(group_b))\n",
    "    # mean_group_a = np.mean(np.array(group_a))\n",
    "    # mean_group_b = np.mean(np.array(group_b))\n",
    "    # print(mean_group_a,mean_group_b)\n",
    "    #\n",
    "    # # find the itteration mean and append to our mean difference list\n",
    "    # iteration_mean_difference =  mean_group_a - mean_group_b\n",
    "\n",
    "    group_a = all_data.sample(frac=regular.shape[0]/all_data.shape[0])\n",
    "    group_b = all_data.drop(group_a.index)\n",
    "    iteration_mean_difference =  group_a.mean() - group_b.mean()\n",
    "    mean_differences.append(iteration_mean_difference)\n",
    "\n",
    "# use matplotlib to visulize the mean_differences list as a histogram\n",
    "plt.hist(mean_differences)\n",
    "plt.show()"
   ],
   "metadata": {
    "collapsed": false,
    "pycharm": {
     "name": "#%%\n"
    }
   }
  },
  {
   "cell_type": "code",
   "execution_count": 68,
   "outputs": [
    {
     "data": {
      "text/plain": "0      0.758763\n1     -0.526467\n2     -0.202403\n3     -0.694129\n4     -0.495600\n         ...   \n995    0.052715\n996   -0.126193\n997    0.495920\n998    0.089360\n999   -0.110339\nLength: 1000, dtype: float64"
     },
     "execution_count": 68,
     "metadata": {},
     "output_type": "execute_result"
    }
   ],
   "source": [
    "mean_differences_series = pd.Series(mean_differences)\n",
    "mean_differences_series"
   ],
   "metadata": {
    "collapsed": false,
    "pycharm": {
     "name": "#%%\n"
    }
   }
  },
  {
   "cell_type": "code",
   "execution_count": 69,
   "outputs": [
    {
     "data": {
      "text/plain": "8.80847138739518"
     },
     "execution_count": 69,
     "metadata": {},
     "output_type": "execute_result"
    }
   ],
   "source": [
    "mean_difference"
   ],
   "metadata": {
    "collapsed": false,
    "pycharm": {
     "name": "#%%\n"
    }
   }
  },
  {
   "cell_type": "code",
   "execution_count": 71,
   "outputs": [
    {
     "data": {
      "text/plain": "0.0"
     },
     "execution_count": 71,
     "metadata": {},
     "output_type": "execute_result"
    }
   ],
   "source": [
    "total = 0\n",
    "\n",
    "#for loop to check if random mean diff is greater than our mean difference\n",
    "for mean_diff in mean_differences:\n",
    "    if mean_diff >= mean_difference:\n",
    "        total += 1\n",
    "\n",
    "#p value calculated by calulating percentage of values greater then the mean difference\n",
    "p_value = total / 1000\n",
    "p_value"
   ],
   "metadata": {
    "collapsed": false,
    "pycharm": {
     "name": "#%%\n"
    }
   }
  },
  {
   "cell_type": "code",
   "execution_count": 85,
   "outputs": [
    {
     "data": {
      "text/plain": "[101.27,\n 120.78,\n 123.44,\n 132.51,\n 125.62,\n 96.23,\n 89.63,\n 85.4,\n 81.98,\n 83.77,\n 68.31,\n 63.41,\n 73.95,\n 73.36,\n 83.79,\n 100.93,\n 119.75,\n 123.99,\n 123.75,\n 128.03,\n 124.24,\n 136.66,\n 131.71,\n 145.16,\n 122.03,\n 136.45,\n 151.86,\n 129.01,\n 113.65,\n 174.24,\n 142.22,\n 101.84,\n 72.89,\n 62.6,\n 61.23,\n 64.71,\n 62.58,\n 73.23,\n 82.25,\n 102.03,\n 112.81,\n 97.35,\n 113.02,\n 121.68,\n 133.81,\n 79.83,\n 79.53,\n 79.46,\n 79.49,\n 79.86,\n 80.78,\n 82.57,\n 83.24,\n 82.9,\n 82.19,\n 81.52,\n 81.61,\n 81.81,\n 81.6,\n 81.39,\n 81.03,\n nan,\n nan,\n 82.77,\n 82.86,\n 83.02,\n 82.3,\n 80.9,\n 79.96,\n 79.69,\n 79.32,\n 79.5,\n 79.54,\n 79.93,\n 80.72,\n 81.81,\n 82.54,\n 83.16,\n 82.43,\n nan,\n 80.65,\n 80.06,\n 80.71,\n 85.25,\n 84.44,\n 83.71,\n 85.05,\n 83.77,\n 82.28,\n 81.16,\n 80.68,\n 80.21,\n 79.66,\n 80.95,\n 80.47,\n 80.16,\n 80.02,\n 80.57,\n 81.51,\n 83.79,\n 82.85,\n 81.99,\n 80.69,\n 79.54,\n 79.18,\n 80.07,\n 80.39,\n 66.51,\n 62.99,\n 68.97,\n 78.09,\n 91.5,\n 92.77,\n 85.24,\n 77.81,\n 66.77,\n 66.31,\n 65.77,\n 62.99,\n 59.06,\n 72.62,\n 73.33,\n 107.82,\n 119.36,\n 129.54,\n 157.2,\n 84.29,\n 82.29,\n 73.55,\n 60.32,\n 55.9,\n 51.1,\n 55.67,\n 63.06,\n 63.23,\n 83.65,\n 92.64,\n 90.42,\n 98.31,\n 147.31,\n 201.74,\n 143.68,\n 117.37,\n 90.45,\n 93.69,\n 85.74,\n 84.49,\n nan,\n 87.29,\n 74.3,\n 76.35,\n 51.29,\n 49.18,\n nan,\n 50.19,\n 53.64,\n 47.29,\n 53.15,\n 64.51,\n 86.86,\n 97.58,\n 111.27,\n 89.71,\n 98.48,\n 99.81,\n 98.37,\n 140.43,\n 113.58,\n 109.19,\n 107.92,\n 101.27,\n 103.29,\n 105.2,\n 84.97,\n 73.8,\n 82.58,\n 66.08,\n 61.45,\n 61.51,\n 54.53,\n nan,\n 53.96,\n 70.62,\n 92.56,\n 104.11,\n 110.1,\n nan,\n 114.53,\n 126.44,\n 112.05,\n 115.58,\n 117.9,\n 130.11,\n 118.39,\n 143.07,\n 150.91,\n 137.47,\n 124.77,\n 101.52,\n 87.34,\n 72.45,\n 62.89,\n 62.49,\n 64.99,\n 57.37,\n 62.15,\n 74.24,\n 89.35,\n 106.04,\n 120.97,\n 130.99,\n 141.16,\n 150.31,\n 130.93,\n 134.26,\n nan,\n 173.29,\n 172.15,\n nan,\n nan,\n nan,\n 111.69,\n nan,\n nan,\n nan,\n nan,\n 54.95,\n 54.69,\n 57.32,\n 49.41,\n 65.84,\n 89.76,\n 119.51,\n 128.96,\n nan,\n nan,\n nan,\n nan,\n 165.42,\n 191.55,\n 220.74,\n 212.7,\n 254.98,\n 327.61,\n 282.64,\n 279.8,\n 95.23,\n 76.51,\n 63.99,\n 59.19,\n 59.2,\n 56.49,\n 56.22,\n 58.36,\n 62.45,\n 89.51,\n 105.17,\n 107.12,\n 139.52,\n 155.03,\n 153.68,\n 169.8,\n 155.54,\n 162.43,\n 182.91,\n 183.89,\n 105.65,\n 100.38,\n 86.93,\n 82.65,\n 71.32,\n 64.96,\n 62.04,\n 62.76,\n 59.81,\n 57.68,\n 55.11,\n 66.06,\n 75.57,\n 83.74,\n 93.18,\n 90.91,\n 93.83,\n 78.16,\n 82.12,\n 83.03,\n nan,\n nan,\n nan,\n nan,\n nan,\n nan,\n nan,\n nan,\n nan,\n nan,\n nan,\n nan,\n nan,\n nan,\n nan,\n nan,\n nan,\n nan,\n nan,\n nan,\n nan,\n nan,\n nan,\n nan,\n nan,\n nan,\n nan,\n nan,\n nan,\n nan,\n nan,\n nan,\n nan,\n nan,\n nan,\n nan,\n nan,\n nan,\n nan,\n nan,\n nan,\n nan,\n nan,\n nan,\n nan,\n nan,\n nan,\n nan,\n nan,\n nan,\n nan,\n nan,\n nan,\n nan,\n nan,\n nan,\n nan,\n nan,\n nan,\n nan,\n nan,\n nan,\n nan,\n nan,\n nan,\n nan,\n nan,\n nan,\n nan,\n nan,\n nan,\n nan,\n nan,\n nan,\n nan,\n nan,\n nan,\n nan,\n nan,\n nan,\n nan,\n nan,\n nan,\n nan,\n nan,\n nan,\n nan,\n nan,\n nan,\n nan,\n nan,\n nan,\n nan,\n nan,\n nan,\n nan,\n nan,\n nan,\n nan,\n nan,\n nan,\n nan,\n nan,\n nan,\n nan,\n nan,\n nan,\n nan,\n nan,\n nan,\n nan,\n nan,\n nan,\n nan,\n nan,\n nan,\n nan,\n nan,\n nan,\n nan,\n nan,\n nan,\n nan,\n nan,\n nan,\n nan,\n nan,\n nan,\n nan,\n nan,\n nan,\n nan,\n nan,\n nan,\n nan,\n nan,\n nan,\n nan,\n nan,\n nan,\n nan,\n nan,\n nan,\n nan,\n 112.61,\n 103.72,\n 78.52,\n 116.09,\n 129.28,\n 127.17,\n 147.42,\n 139.26,\n 171.15,\n 97.67,\n 125.94,\n 52.65,\n 52.62,\n 55.76,\n 58.46,\n 61.67,\n 72.77,\n 93.53,\n 104.71,\n 136.79,\n 141.54,\n 145.0,\n 104.67,\n 115.33,\n 105.02,\n 110.0,\n 132.11,\n 152.18,\n 155.18,\n 140.14,\n 147.42,\n 105.51,\n 82.39,\n 84.23,\n 76.64,\n 70.1,\n 59.91,\n 61.78,\n 62.02,\n 64.37,\n 74.97,\n 114.15,\n 134.55,\n 133.11,\n 136.33,\n 130.63,\n 157.65,\n nan,\n 106.71,\n 126.94,\n 112.59,\n 146.24,\n 150.2,\n 154.16,\n 163.68,\n 147.33,\n 109.21,\n 113.24,\n 111.36,\n 82.62,\n 74.11,\n 48.14,\n 62.48,\n 63.11,\n 84.84,\n 112.24,\n 116.75,\n 167.25,\n 151.61,\n 133.96,\n 120.77,\n 98.12,\n 95.53,\n 95.09,\n 104.16,\n 172.91,\n 167.74,\n 106.53,\n 107.18,\n 130.5,\n 128.11,\n 136.82,\n 110.46,\n 81.55,\n 71.31,\n 73.81,\n 79.8,\n 88.42,\n 93.4,\n 108.64,\n 122.0,\n 126.95,\n 108.16,\n 98.15,\n 84.61,\n 71.53,\n 65.65,\n 65.66,\n 124.43,\n 156.49,\n 151.89,\n 145.94,\n 118.64,\n 122.85,\n 105.35,\n 89.94,\n 77.38,\n 64.75,\n 72.07,\n 73.75,\n 73.81,\n 74.99,\n 74.94,\n 78.29,\n 79.13,\n 82.18,\n 92.12,\n 80.2,\n 83.94,\n 64.81,\n 60.15,\n 60.19,\n 54.3,\n 53.89,\n 56.52,\n 54.91,\n 62.64,\n 64.22,\n 59.64,\n 56.75,\n 67.82,\n 61.5,\n 63.87,\n 70.45,\n 69.21,\n 78.77,\n 88.22,\n 90.61,\n 93.16,\n 97.45,\n 99.69,\n 116.26,\n 119.51,\n 98.11,\n 90.61,\n 112.01,\n 125.77,\n 110.07,\n 72.99,\n 78.88,\n 80.16,\n 71.41,\n 73.82,\n 74.72,\n 76.19,\n 76.37,\n 74.43,\n 68.57,\n 72.34,\n 67.47,\n 77.53,\n 77.17,\n 108.3,\n 104.47,\n 164.17,\n 119.71,\n 97.59,\n 99.85,\n nan,\n 109.68,\n 74.83,\n 68.98,\n 78.53,\n 77.66,\n 84.89,\n 77.68,\n 76.65,\n 71.96,\n 80.35,\n 71.15,\n 96.41,\n 94.35,\n 93.44,\n 82.26,\n 87.1,\n 78.45,\n 93.71,\n 84.73,\n 76.7,\n 70.92,\n 68.93,\n 65.44,\n 59.7,\n 58.51,\n 54.2,\n nan,\n nan,\n nan,\n nan,\n nan,\n 78.03,\n 80.63,\n 85.44,\n 89.39,\n nan,\n 80.23,\n 77.61,\n 77.39,\n 77.91,\n 84.08,\n 93.6,\n 93.53,\n 104.29,\n 85.04,\n 83.77,\n 89.51,\n 107.22,\n 116.37,\n 110.86,\n 78.09,\n 84.02,\n 78.73,\n 79.96,\n 79.6,\n 80.02,\n 69.39,\n 69.92,\n 70.59,\n 80.51,\n 65.75,\n 60.96,\n 62.75,\n 66.04,\n 82.05,\n 82.25,\n 106.29,\n 105.65,\n 73.49,\n 77.82,\n 71.41,\n 61.1,\n 59.23,\n 51.08,\n 60.43,\n 62.04,\n 56.29,\n 70.47,\n 78.6,\n 73.88,\n 72.76,\n 65.25,\n 68.91,\n 63.74,\n 59.23,\n 66.68,\n 67.69,\n 75.32,\n 85.13,\n 94.17,\n 93.3,\n 65.13,\n 61.23,\n 58.85,\n 53.87,\n 56.72,\n 47.23,\n 46.92,\n 87.27,\n 60.52,\n 71.8,\n 55.95,\n 63.41,\n 66.62,\n 68.94,\n 50.12,\n 50.72,\n 49.47,\n 49.85,\n 58.48,\n 72.87,\n 48.91,\n 48.7,\n 46.43,\n 44.19,\n 43.25,\n 43.98,\n 46.22,\n 47.45,\n 61.7,\n 49.58,\n 43.12,\n 41.52,\n 41.63,\n 45.89,\n 39.5,\n 36.78,\n 40.21,\n 43.68,\n 41.17,\n 43.72,\n 44.24,\n 45.11,\n 44.86,\n 46.93,\n 50.59,\n 56.07,\n 68.9,\n 59.36,\n 53.72,\n 51.22,\n 50.14,\n 63.33,\n 57.29,\n 71.12,\n 57.36,\n 56.95,\n 63.79,\n 75.63,\n 72.81,\n 63.01,\n 69.01,\n 70.26,\n 49.38,\n 43.28,\n 44.2,\n 44.52,\n 44.41,\n 49.88,\n 51.1,\n 55.78,\n 91.21,\n 103.42,\n 105.25,\n 83.53,\n 65.72,\n 36.41,\n 35.71,\n 40.82,\n 35.77,\n 41.45,\n 50.14,\n 64.26,\n 68.46,\n 60.95,\n 50.64,\n 53.2,\n 57.58,\n 59.39,\n nan,\n 62.63,\n 76.13,\n 74.12,\n 89.2,\n 88.68,\n 97.7,\n 106.14,\n 115.4,\n 123.03,\n 121.23,\n 136.45,\n 117.14,\n 102.64,\n 104.43,\n 105.03,\n 103.74,\n 131.71,\n 121.02,\n 108.53,\n 79.21,\n 73.16,\n 58.26,\n 53.87,\n 51.76,\n 50.35,\n 47.89,\n 53.29,\n 67.68,\n 82.47,\n 90.65,\n 109.68,\n nan,\n 135.21,\n 159.97,\n 92.59,\n 106.16,\n 121.56,\n 87.79,\n 82.97,\n 126.87,\n 120.42,\n 89.68,\n 92.79,\n 96.83,\n 101.05,\n 97.85,\n 99.26,\n 69.47,\n 69.03,\n 134.07,\n 134.19,\n 134.2,\n 102.19,\n 100.77,\n 112.79,\n 144.59,\n 115.78,\n 134.22,\n 117.18,\n 160.63,\n 195.67,\n 175.24,\n 224.72,\n 224.41,\n 73.93,\n 55.67,\n 49.81,\n 52.17,\n 52.43,\n 55.42,\n 55.12,\n 53.19,\n 54.3,\n 55.56,\n 56.18,\n 57.5,\n 60.72,\n 58.2,\n 58.36,\n 56.68,\n 53.25,\n 50.24,\n 41.94,\n 45.48,\n 57.19,\n 82.91,\n 59.96,\n 59.45,\n 64.22,\n 61.6,\n 59.67,\n 55.32,\n 58.05,\n 54.21,\n 60.33,\n 51.78,\n 51.67,\n 49.03,\n 45.14,\n 48.02,\n 63.68,\n 60.36,\n 62.68,\n 61.2,\n 66.96,\n 62.67,\n 59.11,\n 55.3,\n 62.28,\n 48.38,\n 61.44,\n 52.63,\n 36.43,\n 39.17,\n 38.1,\n 40.31,\n 57.68,\n 43.93,\n 38.57,\n 44.75,\n 45.85,\n 44.66,\n 48.12,\n 47.39,\n 55.95,\n 53.31,\n 71.37,\n 69.09,\n 77.48,\n 51.85,\n 32.89,\n 30.01,\n 28.69,\n 40.06,\n 42.35,\n 63.81,\n 61.31,\n 80.6,\n 68.85,\n 79.05,\n 63.18,\n 63.72,\n 72.63,\n 70.94,\n 67.21,\n 68.32,\n 41.5,\n 44.88,\n 48.62,\n 51.14,\n nan,\n nan,\n 65.48,\n 61.03,\n 67.45,\n 70.86,\n 65.21,\n 63.51,\n 64.29,\n 76.59,\n 70.28,\n nan,\n 106.43,\n 69.99,\n 57.18,\n 55.66,\n 48.92,\n 49.09,\n 53.84,\n 60.57,\n 64.83,\n 66.9,\n 80.25,\n 80.38,\n 99.43,\n 67.95,\n 56.93,\n 51.01,\n 42.3,\n 35.55,\n 40.42,\n 43.48,\n 105.82,\n 109.75,\n 51.6,\n 48.62,\n 54.78,\n 50.5,\n 45.85,\n 43.03,\n 43.06,\n 45.49,\n 45.44,\n 57.0,\n 56.5,\n 51.97,\n 55.68,\n 58.88,\n 66.5,\n 56.03,\n 55.98,\n 51.71,\n 44.64,\n 50.14,\n 46.78,\n 43.34,\n 47.79,\n 154.21,\n 134.59,\n 100.66,\n 95.73,\n 49.87,\n 44.58,\n 42.29,\n 43.39,\n 42.65,\n 40.9,\n 42.85,\n 56.96,\n 60.65,\n 55.4,\n ...]"
     },
     "execution_count": 85,
     "metadata": {},
     "output_type": "execute_result"
    }
   ],
   "source": [],
   "metadata": {
    "collapsed": false,
    "pycharm": {
     "name": "#%%\n"
    }
   }
  },
  {
   "cell_type": "code",
   "execution_count": 111,
   "outputs": [
    {
     "data": {
      "text/plain": "3"
     },
     "execution_count": 111,
     "metadata": {},
     "output_type": "execute_result"
    }
   ],
   "source": [
    "non_regular.isna().sum()"
   ],
   "metadata": {
    "collapsed": false,
    "pycharm": {
     "name": "#%%\n"
    }
   }
  },
  {
   "cell_type": "code",
   "execution_count": 122,
   "outputs": [
    {
     "data": {
      "text/plain": "(19.594712397531445, 2.982631038810785e-84)"
     },
     "execution_count": 122,
     "metadata": {},
     "output_type": "execute_result"
    }
   ],
   "source": [],
   "metadata": {
    "collapsed": false,
    "pycharm": {
     "name": "#%%\n"
    }
   }
  },
  {
   "cell_type": "code",
   "execution_count": null,
   "outputs": [],
   "source": [],
   "metadata": {
    "collapsed": false,
    "pycharm": {
     "name": "#%%\n"
    }
   }
  }
 ],
 "metadata": {
  "kernelspec": {
   "display_name": "Python 3",
   "language": "python",
   "name": "python3"
  },
  "language_info": {
   "codemirror_mode": {
    "name": "ipython",
    "version": 2
   },
   "file_extension": ".py",
   "mimetype": "text/x-python",
   "name": "python",
   "nbconvert_exporter": "python",
   "pygments_lexer": "ipython2",
   "version": "2.7.6"
  }
 },
 "nbformat": 4,
 "nbformat_minor": 0
}