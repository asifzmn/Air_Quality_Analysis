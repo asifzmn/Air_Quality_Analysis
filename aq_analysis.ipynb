{
 "cells": [
  {
   "cell_type": "code",
   "execution_count": 1,
   "metadata": {
    "collapsed": true,
    "ExecuteTime": {
     "start_time": "2024-10-04T12:32:03.441426Z",
     "end_time": "2024-10-04T12:32:06.652016Z"
    }
   },
   "outputs": [],
   "source": [
    "from aq_analysis import *\n",
    "from data_preparation import *\n",
    "from data_exporting import latex_custom_table_format\n",
    "\n",
    "meta_data, timeseries = get_metadata(), get_series()"
   ]
  },
  {
   "cell_type": "code",
   "execution_count": 2,
   "outputs": [
    {
     "data": {
      "text/plain": "             Country       Division  Population  Latitude  Longitude\nZone                                                                \nAdilabad       India      Telangana      118526   19.6720    78.5359\nAgartala       India        Tripura      203264   23.8361    91.2794\nAgra           India  Uttar Pradesh     1430055   27.1833    78.0167\nAjodhya        India  Uttar Pradesh       53293   26.7991    82.2047\nAligarh        India  Uttar Pradesh      753207   27.8815    78.0746\n...              ...            ...         ...       ...        ...\nWarangal       India      Telangana      557802   18.0000    79.5833\nYamethin     Myanmar       Mandalay       59867   20.4319    96.1388\nYamunanagar    India        Haryana      208931   30.1280    77.2837\nYangon       Myanmar         Yangon     4477638   16.8053    96.1561\nYenangyaung  Myanmar         Magway      110553   20.4650    94.8712\n\n[505 rows x 5 columns]",
      "text/html": "<div>\n<style scoped>\n    .dataframe tbody tr th:only-of-type {\n        vertical-align: middle;\n    }\n\n    .dataframe tbody tr th {\n        vertical-align: top;\n    }\n\n    .dataframe thead th {\n        text-align: right;\n    }\n</style>\n<table border=\"1\" class=\"dataframe\">\n  <thead>\n    <tr style=\"text-align: right;\">\n      <th></th>\n      <th>Country</th>\n      <th>Division</th>\n      <th>Population</th>\n      <th>Latitude</th>\n      <th>Longitude</th>\n    </tr>\n    <tr>\n      <th>Zone</th>\n      <th></th>\n      <th></th>\n      <th></th>\n      <th></th>\n      <th></th>\n    </tr>\n  </thead>\n  <tbody>\n    <tr>\n      <th>Adilabad</th>\n      <td>India</td>\n      <td>Telangana</td>\n      <td>118526</td>\n      <td>19.6720</td>\n      <td>78.5359</td>\n    </tr>\n    <tr>\n      <th>Agartala</th>\n      <td>India</td>\n      <td>Tripura</td>\n      <td>203264</td>\n      <td>23.8361</td>\n      <td>91.2794</td>\n    </tr>\n    <tr>\n      <th>Agra</th>\n      <td>India</td>\n      <td>Uttar Pradesh</td>\n      <td>1430055</td>\n      <td>27.1833</td>\n      <td>78.0167</td>\n    </tr>\n    <tr>\n      <th>Ajodhya</th>\n      <td>India</td>\n      <td>Uttar Pradesh</td>\n      <td>53293</td>\n      <td>26.7991</td>\n      <td>82.2047</td>\n    </tr>\n    <tr>\n      <th>Aligarh</th>\n      <td>India</td>\n      <td>Uttar Pradesh</td>\n      <td>753207</td>\n      <td>27.8815</td>\n      <td>78.0746</td>\n    </tr>\n    <tr>\n      <th>...</th>\n      <td>...</td>\n      <td>...</td>\n      <td>...</td>\n      <td>...</td>\n      <td>...</td>\n    </tr>\n    <tr>\n      <th>Warangal</th>\n      <td>India</td>\n      <td>Telangana</td>\n      <td>557802</td>\n      <td>18.0000</td>\n      <td>79.5833</td>\n    </tr>\n    <tr>\n      <th>Yamethin</th>\n      <td>Myanmar</td>\n      <td>Mandalay</td>\n      <td>59867</td>\n      <td>20.4319</td>\n      <td>96.1388</td>\n    </tr>\n    <tr>\n      <th>Yamunanagar</th>\n      <td>India</td>\n      <td>Haryana</td>\n      <td>208931</td>\n      <td>30.1280</td>\n      <td>77.2837</td>\n    </tr>\n    <tr>\n      <th>Yangon</th>\n      <td>Myanmar</td>\n      <td>Yangon</td>\n      <td>4477638</td>\n      <td>16.8053</td>\n      <td>96.1561</td>\n    </tr>\n    <tr>\n      <th>Yenangyaung</th>\n      <td>Myanmar</td>\n      <td>Magway</td>\n      <td>110553</td>\n      <td>20.4650</td>\n      <td>94.8712</td>\n    </tr>\n  </tbody>\n</table>\n<p>505 rows × 5 columns</p>\n</div>"
     },
     "execution_count": 2,
     "metadata": {},
     "output_type": "execute_result"
    }
   ],
   "source": [
    "meta_data"
   ],
   "metadata": {
    "collapsed": false
   }
  },
  {
   "cell_type": "code",
   "execution_count": 3,
   "outputs": [
    {
     "name": "stdout",
     "output_type": "stream",
     "text": [
      "count    1.862035e+07\n",
      "mean     6.154137e+01\n",
      "std      4.888409e+01\n",
      "min      7.000000e-01\n",
      "25%      2.710000e+01\n",
      "50%      4.760000e+01\n",
      "75%      8.110000e+01\n",
      "max      9.991000e+02\n",
      "dtype: float64\n"
     ]
    }
   ],
   "source": [
    "overall_stats(timeseries)"
   ],
   "metadata": {
    "collapsed": false
   }
  },
  {
   "cell_type": "code",
   "execution_count": null,
   "outputs": [],
   "source": [
    "latex_custom_table_format(timeseries.describe().T)"
   ],
   "metadata": {
    "collapsed": false,
    "pycharm": {
     "is_executing": true
    }
   }
  },
  {
   "cell_type": "code",
   "execution_count": null,
   "outputs": [],
   "source": [
    "# SimpleTimeseries(timeseries)"
   ],
   "metadata": {
    "collapsed": false,
    "pycharm": {
     "is_executing": true
    }
   }
  },
  {
   "cell_type": "code",
   "execution_count": null,
   "outputs": [],
   "source": [
    "stacked_bar(timeseries)"
   ],
   "metadata": {
    "collapsed": false,
    "pycharm": {
     "is_executing": true
    }
   }
  },
  {
   "cell_type": "code",
   "execution_count": null,
   "outputs": [],
   "source": [
    "day_night_distribution_zonal(timeseries)"
   ],
   "metadata": {
    "collapsed": false,
    "pycharm": {
     "is_executing": true
    }
   }
  },
  {
   "cell_type": "code",
   "execution_count": null,
   "outputs": [],
   "source": [
    "pair_distribution(timeseries)"
   ],
   "metadata": {
    "collapsed": false,
    "pycharm": {
     "is_executing": true
    }
   }
  },
  {
   "cell_type": "code",
   "execution_count": null,
   "outputs": [],
   "source": [
    "frequency_clustering(timeseries)"
   ],
   "metadata": {
    "collapsed": false,
    "pycharm": {
     "is_executing": true
    }
   }
  },
  {
   "cell_type": "code",
   "execution_count": null,
   "outputs": [],
   "source": [
    "# BoxPlotHour(timeseries)"
   ],
   "metadata": {
    "collapsed": false,
    "pycharm": {
     "is_executing": true
    }
   }
  },
  {
   "cell_type": "code",
   "execution_count": 3,
   "outputs": [],
   "source": [
    "# BoxPlotSeason(timeseries)"
   ],
   "metadata": {
    "collapsed": false,
    "ExecuteTime": {
     "start_time": "2024-10-04T12:32:21.531318Z",
     "end_time": "2024-10-04T12:32:21.549355Z"
    }
   }
  },
  {
   "cell_type": "code",
   "execution_count": null,
   "outputs": [],
   "source": [
    "# FactorAnalysis()"
   ],
   "metadata": {
    "collapsed": false,
    "pycharm": {
     "is_executing": true
    }
   }
  }
 ],
 "metadata": {
  "kernelspec": {
   "display_name": "Python 3",
   "language": "python",
   "name": "python3"
  },
  "language_info": {
   "codemirror_mode": {
    "name": "ipython",
    "version": 2
   },
   "file_extension": ".py",
   "mimetype": "text/x-python",
   "name": "python",
   "nbconvert_exporter": "python",
   "pygments_lexer": "ipython2",
   "version": "2.7.6"
  }
 },
 "nbformat": 4,
 "nbformat_minor": 0
}
