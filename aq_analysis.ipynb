{
 "cells": [
  {
   "cell_type": "code",
   "execution_count": 2,
   "metadata": {
    "collapsed": true,
    "pycharm": {
     "name": "#%%\n"
    }
   },
   "outputs": [],
   "source": [
    "from aq_analysis import *\n",
    "from data_preparation import *\n",
    "from meteorological_functions.weather_exploration import *\n",
    "\n",
    "meta_data, timeseries = get_metadata(), get_series()"
   ]
  },
  {
   "cell_type": "code",
   "execution_count": 3,
   "outputs": [
    {
     "data": {
      "text/plain": "                    Division  Population  Latitude  Longitude\nZone                                                         \nBangkok              Bangkok     5104476   13.7540   100.5014\nDhaka                  Dhaka    10356500   23.7104    90.4074\nJakarta              Jakarta     8540121   -6.2146   106.8451\nKandy                Central      111701    7.2955    80.6356\nKathmandu     Central Region     1442271   27.7017    85.3206\nKuala Lumpur    Kuala Lumpur     1453975    3.1412   101.6865\nLahore                Punjab     6310888   31.5497    74.3436\nMumbai           Maharashtra    12691836   19.0728    72.8826\nSongjiang           Shanghai      130218   31.0359   121.2146\nThimphu              Thimphu       98676   27.4661    89.6419\nTokyo                  Tokyo     8336599   35.6895   139.6917",
      "text/html": "<div>\n<style scoped>\n    .dataframe tbody tr th:only-of-type {\n        vertical-align: middle;\n    }\n\n    .dataframe tbody tr th {\n        vertical-align: top;\n    }\n\n    .dataframe thead th {\n        text-align: right;\n    }\n</style>\n<table border=\"1\" class=\"dataframe\">\n  <thead>\n    <tr style=\"text-align: right;\">\n      <th></th>\n      <th>Division</th>\n      <th>Population</th>\n      <th>Latitude</th>\n      <th>Longitude</th>\n    </tr>\n    <tr>\n      <th>Zone</th>\n      <th></th>\n      <th></th>\n      <th></th>\n      <th></th>\n    </tr>\n  </thead>\n  <tbody>\n    <tr>\n      <th>Bangkok</th>\n      <td>Bangkok</td>\n      <td>5104476</td>\n      <td>13.7540</td>\n      <td>100.5014</td>\n    </tr>\n    <tr>\n      <th>Dhaka</th>\n      <td>Dhaka</td>\n      <td>10356500</td>\n      <td>23.7104</td>\n      <td>90.4074</td>\n    </tr>\n    <tr>\n      <th>Jakarta</th>\n      <td>Jakarta</td>\n      <td>8540121</td>\n      <td>-6.2146</td>\n      <td>106.8451</td>\n    </tr>\n    <tr>\n      <th>Kandy</th>\n      <td>Central</td>\n      <td>111701</td>\n      <td>7.2955</td>\n      <td>80.6356</td>\n    </tr>\n    <tr>\n      <th>Kathmandu</th>\n      <td>Central Region</td>\n      <td>1442271</td>\n      <td>27.7017</td>\n      <td>85.3206</td>\n    </tr>\n    <tr>\n      <th>Kuala Lumpur</th>\n      <td>Kuala Lumpur</td>\n      <td>1453975</td>\n      <td>3.1412</td>\n      <td>101.6865</td>\n    </tr>\n    <tr>\n      <th>Lahore</th>\n      <td>Punjab</td>\n      <td>6310888</td>\n      <td>31.5497</td>\n      <td>74.3436</td>\n    </tr>\n    <tr>\n      <th>Mumbai</th>\n      <td>Maharashtra</td>\n      <td>12691836</td>\n      <td>19.0728</td>\n      <td>72.8826</td>\n    </tr>\n    <tr>\n      <th>Songjiang</th>\n      <td>Shanghai</td>\n      <td>130218</td>\n      <td>31.0359</td>\n      <td>121.2146</td>\n    </tr>\n    <tr>\n      <th>Thimphu</th>\n      <td>Thimphu</td>\n      <td>98676</td>\n      <td>27.4661</td>\n      <td>89.6419</td>\n    </tr>\n    <tr>\n      <th>Tokyo</th>\n      <td>Tokyo</td>\n      <td>8336599</td>\n      <td>35.6895</td>\n      <td>139.6917</td>\n    </tr>\n  </tbody>\n</table>\n</div>"
     },
     "execution_count": 3,
     "metadata": {},
     "output_type": "execute_result"
    }
   ],
   "source": [
    "meta_data"
   ],
   "metadata": {
    "collapsed": false,
    "pycharm": {
     "name": "#%%\n"
    }
   }
  },
  {
   "cell_type": "code",
   "execution_count": null,
   "outputs": [],
   "source": [
    "\n",
    "overall_stats(timeseries)"
   ],
   "metadata": {
    "collapsed": false,
    "pycharm": {
     "name": "#%%\n",
     "is_executing": true
    }
   }
  },
  {
   "cell_type": "code",
   "execution_count": null,
   "outputs": [],
   "source": [
    "latex_custom_table_format(timeseries.describe().T)"
   ],
   "metadata": {
    "collapsed": false,
    "pycharm": {
     "name": "#%%\n",
     "is_executing": true
    }
   }
  },
  {
   "cell_type": "code",
   "execution_count": null,
   "outputs": [],
   "source": [
    "# SimpleTimeseries(timeseries)"
   ],
   "metadata": {
    "collapsed": false,
    "pycharm": {
     "name": "#%%\n",
     "is_executing": true
    }
   }
  },
  {
   "cell_type": "code",
   "execution_count": null,
   "outputs": [],
   "source": [
    "StackedBar(timeseries)"
   ],
   "metadata": {
    "collapsed": false,
    "pycharm": {
     "name": "#%%\n",
     "is_executing": true
    }
   }
  },
  {
   "cell_type": "code",
   "execution_count": null,
   "outputs": [],
   "source": [
    "day_night_distribution(timeseries)\n"
   ],
   "metadata": {
    "collapsed": false,
    "pycharm": {
     "name": "#%%\n",
     "is_executing": true
    }
   }
  },
  {
   "cell_type": "code",
   "execution_count": null,
   "outputs": [],
   "source": [
    "PairDistribution(timeseries)\n"
   ],
   "metadata": {
    "collapsed": false,
    "pycharm": {
     "name": "#%%\n",
     "is_executing": true
    }
   }
  },
  {
   "cell_type": "code",
   "execution_count": null,
   "outputs": [],
   "source": [
    "frequency_clustering(timeseries)"
   ],
   "metadata": {
    "collapsed": false,
    "pycharm": {
     "name": "#%%\n",
     "is_executing": true
    }
   }
  },
  {
   "cell_type": "code",
   "execution_count": null,
   "outputs": [],
   "source": [
    "# BoxPlotHour(timeseries)"
   ],
   "metadata": {
    "collapsed": false,
    "pycharm": {
     "name": "#%%\n",
     "is_executing": true
    }
   }
  },
  {
   "cell_type": "code",
   "execution_count": null,
   "outputs": [],
   "source": [
    "# BoxPlotSeason(timeseries)"
   ],
   "metadata": {
    "collapsed": false,
    "pycharm": {
     "name": "#%%\n",
     "is_executing": true
    }
   }
  },
  {
   "cell_type": "code",
   "execution_count": null,
   "outputs": [],
   "source": [
    "# FactorAnalysis()"
   ],
   "metadata": {
    "collapsed": false,
    "pycharm": {
     "name": "#%%\n",
     "is_executing": true
    }
   }
  }
 ],
 "metadata": {
  "kernelspec": {
   "display_name": "Python 3",
   "language": "python",
   "name": "python3"
  },
  "language_info": {
   "codemirror_mode": {
    "name": "ipython",
    "version": 2
   },
   "file_extension": ".py",
   "mimetype": "text/x-python",
   "name": "python",
   "nbconvert_exporter": "python",
   "pygments_lexer": "ipython2",
   "version": "2.7.6"
  }
 },
 "nbformat": 4,
 "nbformat_minor": 0
}