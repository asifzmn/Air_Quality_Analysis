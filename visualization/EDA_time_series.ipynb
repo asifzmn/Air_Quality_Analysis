{
 "cells": [
  {
   "cell_type": "code",
   "execution_count": 1,
   "outputs": [],
   "source": [
    "import plotly.graph_objects as go\n",
    "import plotly.express as px\n",
    "import matplotlib.pyplot as plt\n",
    "import seaborn as sns"
   ],
   "metadata": {
    "collapsed": false,
    "pycharm": {
     "name": "#%%\n"
    }
   }
  },
  {
   "cell_type": "code",
   "execution_count": 2,
   "metadata": {
    "collapsed": true,
    "pycharm": {
     "name": "#%%\n"
    }
   },
   "outputs": [],
   "source": [
    "from data_preparation import get_metadata, get_series,clip_missing_prone_values, prepare_division_and_country_series\n",
    "\n",
    "series_with_heavy_missing, metadata_with_heavy_missing = get_series(), get_metadata()\n",
    "division_missing_counts, metadata, series = clip_missing_prone_values(metadata_with_heavy_missing, series_with_heavy_missing)\n",
    "region_series, metadata_region, country_series, metadata_country = prepare_division_and_country_series(series,\n",
    "                                                                                                       metadata)"
   ]
  },
  {
   "cell_type": "code",
   "execution_count": 3,
   "outputs": [
    {
     "data": {
      "text/plain": "Division                Barisal       Bihar  Chhattisgarh  Chittagong  \\\ntime                                                                    \n2017-01-01 00:00:00  205.900000   99.307317     82.700000  198.866667   \n2017-01-01 01:00:00  197.100000   90.758537     82.550000  195.833333   \n2017-01-01 02:00:00  172.900000   85.514634     78.800000  176.583333   \n2017-01-01 03:00:00  162.966667   88.609756     86.300000  167.300000   \n2017-01-01 04:00:00  151.566667   93.170732     87.350000  160.966667   \n...                         ...         ...           ...         ...   \n2021-12-31 19:00:00  107.333333   92.759459     76.516667   95.727273   \n2021-12-31 20:00:00  104.966667  101.794595     65.800000   82.408333   \n2021-12-31 21:00:00  111.000000   88.391892     67.691667   93.591667   \n2021-12-31 22:00:00  107.566667   85.070270     52.166667   90.866667   \n2021-12-31 23:00:00   99.833333   83.413514     45.925000   91.816667   \n\nDivision                  Dhaka  Haryana   Jharkhand  Kachin  Khulna  \\\ntime                                                                   \n2017-01-01 00:00:00  236.778571  129.136  122.728571    51.4  226.34   \n2017-01-01 01:00:00  235.585714  122.204  112.492857    54.4  210.94   \n2017-01-01 02:00:00  213.678571  128.468   99.642857    57.9  180.12   \n2017-01-01 03:00:00  200.578571  137.144   99.150000    74.7  168.82   \n2017-01-01 04:00:00  193.192857  151.816   95.850000    86.2  151.92   \n...                         ...      ...         ...     ...     ...   \n2021-12-31 19:00:00  119.164286  110.265   66.300000    35.5  119.48   \n2021-12-31 20:00:00  121.964286  144.730   62.386667    29.7  130.28   \n2021-12-31 21:00:00  125.657143  122.495   46.000000    24.6  130.36   \n2021-12-31 22:00:00  121.992857  121.000   41.860000    23.4  126.50   \n2021-12-31 23:00:00  121.364286  123.770   39.773333    21.7  102.18   \n\nDivision             Madhya Pradesh  ...         NCT     Odisha    Rajshahi  \\\ntime                                 ...                                      \n2017-01-01 00:00:00      117.129412  ...  164.833333  76.550000  178.900000   \n2017-01-01 01:00:00      106.617647  ...  158.333333  78.350000  170.011111   \n2017-01-01 02:00:00      105.611765  ...  168.633333  74.200000  152.000000   \n2017-01-01 03:00:00      109.200000  ...  165.900000  82.150000  145.622222   \n2017-01-01 04:00:00      124.036364  ...  192.066667  80.250000  140.944444   \n...                             ...  ...         ...        ...         ...   \n2021-12-31 19:00:00       94.406000  ...  181.900000  62.073684   94.530000   \n2021-12-31 20:00:00       81.058000  ...  268.800000  57.736842  119.370000   \n2021-12-31 21:00:00       80.336000  ...  279.100000  60.726316  120.400000   \n2021-12-31 22:00:00       79.258000  ...  267.050000  43.026316  116.200000   \n2021-12-31 23:00:00       73.332000  ...  240.600000  38.194737  104.760000   \n\nDivision             Rangpur Division   Shan      Sylhet  Telangana  Tripura  \\\ntime                                                                           \n2017-01-01 00:00:00               NaN  21.80  171.000000  71.533333    193.0   \n2017-01-01 01:00:00               NaN  24.30  171.200000  79.028205    192.9   \n2017-01-01 02:00:00               NaN  27.90  157.800000  77.456410    176.7   \n2017-01-01 03:00:00               NaN  32.60  152.300000  82.828205    168.4   \n2017-01-01 04:00:00               NaN  39.00  151.600000  87.653846    165.2   \n...                               ...    ...         ...        ...      ...   \n2021-12-31 19:00:00            69.725  33.35   85.100000  71.494286    102.3   \n2021-12-31 20:00:00           116.125  27.45   77.300000  66.180000    110.9   \n2021-12-31 21:00:00           124.725  28.15   94.333333  68.845714    131.4   \n2021-12-31 22:00:00           120.400  28.25   89.600000  65.474286    133.0   \n2021-12-31 23:00:00           112.650  28.45   93.000000  57.162857    147.9   \n\nDivision             Uttar Pradesh  West Bengal  \ntime                                             \n2017-01-01 00:00:00     124.266981   225.310769  \n2017-01-01 01:00:00     111.385849   200.200000  \n2017-01-01 02:00:00     116.210377   162.930769  \n2017-01-01 03:00:00     121.279245   152.620000  \n2017-01-01 04:00:00     137.858095   129.160000  \n...                            ...          ...  \n2021-12-31 19:00:00     113.776923   110.145333  \n2021-12-31 20:00:00     129.199038   134.554667  \n2021-12-31 21:00:00     129.938462   127.088000  \n2021-12-31 22:00:00     127.804808   123.230667  \n2021-12-31 23:00:00     122.405769    86.726667  \n\n[43824 rows x 21 columns]",
      "text/html": "<div>\n<style scoped>\n    .dataframe tbody tr th:only-of-type {\n        vertical-align: middle;\n    }\n\n    .dataframe tbody tr th {\n        vertical-align: top;\n    }\n\n    .dataframe thead th {\n        text-align: right;\n    }\n</style>\n<table border=\"1\" class=\"dataframe\">\n  <thead>\n    <tr style=\"text-align: right;\">\n      <th>Division</th>\n      <th>Barisal</th>\n      <th>Bihar</th>\n      <th>Chhattisgarh</th>\n      <th>Chittagong</th>\n      <th>Dhaka</th>\n      <th>Haryana</th>\n      <th>Jharkhand</th>\n      <th>Kachin</th>\n      <th>Khulna</th>\n      <th>Madhya Pradesh</th>\n      <th>...</th>\n      <th>NCT</th>\n      <th>Odisha</th>\n      <th>Rajshahi</th>\n      <th>Rangpur Division</th>\n      <th>Shan</th>\n      <th>Sylhet</th>\n      <th>Telangana</th>\n      <th>Tripura</th>\n      <th>Uttar Pradesh</th>\n      <th>West Bengal</th>\n    </tr>\n    <tr>\n      <th>time</th>\n      <th></th>\n      <th></th>\n      <th></th>\n      <th></th>\n      <th></th>\n      <th></th>\n      <th></th>\n      <th></th>\n      <th></th>\n      <th></th>\n      <th></th>\n      <th></th>\n      <th></th>\n      <th></th>\n      <th></th>\n      <th></th>\n      <th></th>\n      <th></th>\n      <th></th>\n      <th></th>\n      <th></th>\n    </tr>\n  </thead>\n  <tbody>\n    <tr>\n      <th>2017-01-01 00:00:00</th>\n      <td>205.900000</td>\n      <td>99.307317</td>\n      <td>82.700000</td>\n      <td>198.866667</td>\n      <td>236.778571</td>\n      <td>129.136</td>\n      <td>122.728571</td>\n      <td>51.4</td>\n      <td>226.34</td>\n      <td>117.129412</td>\n      <td>...</td>\n      <td>164.833333</td>\n      <td>76.550000</td>\n      <td>178.900000</td>\n      <td>NaN</td>\n      <td>21.80</td>\n      <td>171.000000</td>\n      <td>71.533333</td>\n      <td>193.0</td>\n      <td>124.266981</td>\n      <td>225.310769</td>\n    </tr>\n    <tr>\n      <th>2017-01-01 01:00:00</th>\n      <td>197.100000</td>\n      <td>90.758537</td>\n      <td>82.550000</td>\n      <td>195.833333</td>\n      <td>235.585714</td>\n      <td>122.204</td>\n      <td>112.492857</td>\n      <td>54.4</td>\n      <td>210.94</td>\n      <td>106.617647</td>\n      <td>...</td>\n      <td>158.333333</td>\n      <td>78.350000</td>\n      <td>170.011111</td>\n      <td>NaN</td>\n      <td>24.30</td>\n      <td>171.200000</td>\n      <td>79.028205</td>\n      <td>192.9</td>\n      <td>111.385849</td>\n      <td>200.200000</td>\n    </tr>\n    <tr>\n      <th>2017-01-01 02:00:00</th>\n      <td>172.900000</td>\n      <td>85.514634</td>\n      <td>78.800000</td>\n      <td>176.583333</td>\n      <td>213.678571</td>\n      <td>128.468</td>\n      <td>99.642857</td>\n      <td>57.9</td>\n      <td>180.12</td>\n      <td>105.611765</td>\n      <td>...</td>\n      <td>168.633333</td>\n      <td>74.200000</td>\n      <td>152.000000</td>\n      <td>NaN</td>\n      <td>27.90</td>\n      <td>157.800000</td>\n      <td>77.456410</td>\n      <td>176.7</td>\n      <td>116.210377</td>\n      <td>162.930769</td>\n    </tr>\n    <tr>\n      <th>2017-01-01 03:00:00</th>\n      <td>162.966667</td>\n      <td>88.609756</td>\n      <td>86.300000</td>\n      <td>167.300000</td>\n      <td>200.578571</td>\n      <td>137.144</td>\n      <td>99.150000</td>\n      <td>74.7</td>\n      <td>168.82</td>\n      <td>109.200000</td>\n      <td>...</td>\n      <td>165.900000</td>\n      <td>82.150000</td>\n      <td>145.622222</td>\n      <td>NaN</td>\n      <td>32.60</td>\n      <td>152.300000</td>\n      <td>82.828205</td>\n      <td>168.4</td>\n      <td>121.279245</td>\n      <td>152.620000</td>\n    </tr>\n    <tr>\n      <th>2017-01-01 04:00:00</th>\n      <td>151.566667</td>\n      <td>93.170732</td>\n      <td>87.350000</td>\n      <td>160.966667</td>\n      <td>193.192857</td>\n      <td>151.816</td>\n      <td>95.850000</td>\n      <td>86.2</td>\n      <td>151.92</td>\n      <td>124.036364</td>\n      <td>...</td>\n      <td>192.066667</td>\n      <td>80.250000</td>\n      <td>140.944444</td>\n      <td>NaN</td>\n      <td>39.00</td>\n      <td>151.600000</td>\n      <td>87.653846</td>\n      <td>165.2</td>\n      <td>137.858095</td>\n      <td>129.160000</td>\n    </tr>\n    <tr>\n      <th>...</th>\n      <td>...</td>\n      <td>...</td>\n      <td>...</td>\n      <td>...</td>\n      <td>...</td>\n      <td>...</td>\n      <td>...</td>\n      <td>...</td>\n      <td>...</td>\n      <td>...</td>\n      <td>...</td>\n      <td>...</td>\n      <td>...</td>\n      <td>...</td>\n      <td>...</td>\n      <td>...</td>\n      <td>...</td>\n      <td>...</td>\n      <td>...</td>\n      <td>...</td>\n      <td>...</td>\n    </tr>\n    <tr>\n      <th>2021-12-31 19:00:00</th>\n      <td>107.333333</td>\n      <td>92.759459</td>\n      <td>76.516667</td>\n      <td>95.727273</td>\n      <td>119.164286</td>\n      <td>110.265</td>\n      <td>66.300000</td>\n      <td>35.5</td>\n      <td>119.48</td>\n      <td>94.406000</td>\n      <td>...</td>\n      <td>181.900000</td>\n      <td>62.073684</td>\n      <td>94.530000</td>\n      <td>69.725</td>\n      <td>33.35</td>\n      <td>85.100000</td>\n      <td>71.494286</td>\n      <td>102.3</td>\n      <td>113.776923</td>\n      <td>110.145333</td>\n    </tr>\n    <tr>\n      <th>2021-12-31 20:00:00</th>\n      <td>104.966667</td>\n      <td>101.794595</td>\n      <td>65.800000</td>\n      <td>82.408333</td>\n      <td>121.964286</td>\n      <td>144.730</td>\n      <td>62.386667</td>\n      <td>29.7</td>\n      <td>130.28</td>\n      <td>81.058000</td>\n      <td>...</td>\n      <td>268.800000</td>\n      <td>57.736842</td>\n      <td>119.370000</td>\n      <td>116.125</td>\n      <td>27.45</td>\n      <td>77.300000</td>\n      <td>66.180000</td>\n      <td>110.9</td>\n      <td>129.199038</td>\n      <td>134.554667</td>\n    </tr>\n    <tr>\n      <th>2021-12-31 21:00:00</th>\n      <td>111.000000</td>\n      <td>88.391892</td>\n      <td>67.691667</td>\n      <td>93.591667</td>\n      <td>125.657143</td>\n      <td>122.495</td>\n      <td>46.000000</td>\n      <td>24.6</td>\n      <td>130.36</td>\n      <td>80.336000</td>\n      <td>...</td>\n      <td>279.100000</td>\n      <td>60.726316</td>\n      <td>120.400000</td>\n      <td>124.725</td>\n      <td>28.15</td>\n      <td>94.333333</td>\n      <td>68.845714</td>\n      <td>131.4</td>\n      <td>129.938462</td>\n      <td>127.088000</td>\n    </tr>\n    <tr>\n      <th>2021-12-31 22:00:00</th>\n      <td>107.566667</td>\n      <td>85.070270</td>\n      <td>52.166667</td>\n      <td>90.866667</td>\n      <td>121.992857</td>\n      <td>121.000</td>\n      <td>41.860000</td>\n      <td>23.4</td>\n      <td>126.50</td>\n      <td>79.258000</td>\n      <td>...</td>\n      <td>267.050000</td>\n      <td>43.026316</td>\n      <td>116.200000</td>\n      <td>120.400</td>\n      <td>28.25</td>\n      <td>89.600000</td>\n      <td>65.474286</td>\n      <td>133.0</td>\n      <td>127.804808</td>\n      <td>123.230667</td>\n    </tr>\n    <tr>\n      <th>2021-12-31 23:00:00</th>\n      <td>99.833333</td>\n      <td>83.413514</td>\n      <td>45.925000</td>\n      <td>91.816667</td>\n      <td>121.364286</td>\n      <td>123.770</td>\n      <td>39.773333</td>\n      <td>21.7</td>\n      <td>102.18</td>\n      <td>73.332000</td>\n      <td>...</td>\n      <td>240.600000</td>\n      <td>38.194737</td>\n      <td>104.760000</td>\n      <td>112.650</td>\n      <td>28.45</td>\n      <td>93.000000</td>\n      <td>57.162857</td>\n      <td>147.9</td>\n      <td>122.405769</td>\n      <td>86.726667</td>\n    </tr>\n  </tbody>\n</table>\n<p>43824 rows × 21 columns</p>\n</div>"
     },
     "execution_count": 3,
     "metadata": {},
     "output_type": "execute_result"
    }
   ],
   "source": [
    "region_series"
   ],
   "metadata": {
    "collapsed": false,
    "pycharm": {
     "name": "#%%\n"
    }
   }
  },
  {
   "cell_type": "code",
   "execution_count": 5,
   "outputs": [],
   "source": [
    "# from visualization import box_plot_series\n",
    "# from data_preparation import get_category_info\n",
    "\n",
    "# colorScale, categoryName, AQScale = get_category_info()"
   ],
   "metadata": {
    "collapsed": false,
    "pycharm": {
     "name": "#%%\n"
    }
   }
  }
 ],
 "metadata": {
  "kernelspec": {
   "display_name": "Python 3",
   "language": "python",
   "name": "python3"
  },
  "language_info": {
   "codemirror_mode": {
    "name": "ipython",
    "version": 2
   },
   "file_extension": ".py",
   "mimetype": "text/x-python",
   "name": "python",
   "nbconvert_exporter": "python",
   "pygments_lexer": "ipython2",
   "version": "2.7.6"
  }
 },
 "nbformat": 4,
 "nbformat_minor": 0
}